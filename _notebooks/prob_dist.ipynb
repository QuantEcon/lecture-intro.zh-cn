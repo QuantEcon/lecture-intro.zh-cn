{
 "cells": [
  {
   "cell_type": "markdown",
   "id": "51ef282d",
   "metadata": {},
   "source": [
    "# 分布和概率\n",
    "\n",
    "\n",
    "<a id='index-0'></a>"
   ]
  },
  {
   "cell_type": "markdown",
   "id": "8284ddbc",
   "metadata": {},
   "source": [
    "## 概述\n",
    "\n",
    "在本讲中，我们将使用 Python 快速介绍数据和概率分布。"
   ]
  },
  {
   "cell_type": "code",
   "execution_count": null,
   "id": "e23c02cf",
   "metadata": {
    "hide-output": false
   },
   "outputs": [],
   "source": [
    "!pip install --upgrade yfinance  "
   ]
  },
  {
   "cell_type": "code",
   "execution_count": null,
   "id": "7252c62f",
   "metadata": {
    "hide-output": false
   },
   "outputs": [],
   "source": [
    "import matplotlib.pyplot as plt\n",
    "import matplotlib as mpl\n",
    "import pandas as pd\n",
    "import numpy as np\n",
    "import yfinance as yf\n",
    "import scipy.stats\n",
    "import seaborn as sns\n",
    "\n",
    "FONTPATH = \"fonts/SourceHanSerifSC-SemiBold.otf\"\n",
    "mpl.font_manager.fontManager.addfont(FONTPATH)\n",
    "plt.rcParams['font.family'] = ['Source Han Serif SC']"
   ]
  },
  {
   "cell_type": "markdown",
   "id": "c36c5493",
   "metadata": {},
   "source": [
    "## 常见分布\n",
    "\n",
    "在本节中，我们将介绍几种常见概率分布的基本定义，并展示如何利用 SciPy 库来处理和分析这些分布。"
   ]
  },
  {
   "cell_type": "markdown",
   "id": "846e29c1",
   "metadata": {},
   "source": [
    "### 离散分布\n",
    "\n",
    "我们从离散分布开始。\n",
    "\n",
    "离散分布由一组数值 $ S = \\{x_1, \\ldots, x_n\\} $ 定义，并在 $ S $ 上有一个**概率质量函数**（PMF），它是一个从 $ S $ 到 $ [0,1] $ 的函数 $ p $，具有属性\n",
    "\n",
    "$$\n",
    "\\sum_{i=1}^n p(x_i) = 1\n",
    "$$\n",
    "\n",
    "我们说一个随机变量 $ X $ **服从分布** $ p $，如果 $ X $ 取值为 $ x_i $ 的概率是 $ p(x_i) $。\n",
    "\n",
    "即，\n",
    "\n",
    "$$\n",
    "\\mathbb P\\{X = x_i\\} = p(x_i) \\quad \\text{对于 } i= 1, \\ldots, n\n",
    "$$\n",
    "\n",
    "具有分布 $ p $ 的随机变量 $ X $ 的**均值**或**期望值**是\n",
    "\n",
    "$$\n",
    "\\mathbb{E}[X] = \\sum_{i=1}^n x_i p(x_i)\n",
    "$$\n",
    "\n",
    "期望值也被称为分布的*一阶矩*，是描述分布中心位置的重要统计量。\n",
    "\n",
    "我们也将这个数字称为分布（由 $ p $ 表示）的均值。\n",
    "\n",
    "$ X $ 的**方差**定义为\n",
    "\n",
    "$$\n",
    "\\mathbb{V}[X] = \\sum_{i=1}^n (x_i - \\mathbb{E}[X])^2 p(x_i)\n",
    "$$\n",
    "\n",
    "方差也称为分布的*二阶中心矩*。\n",
    "\n",
    "$ X $ 的**累积分布函数**（CDF）定义为\n",
    "\n",
    "$$\n",
    "F(x) = \\mathbb{P}\\{X \\leq x\\}\n",
    "        = \\sum_{i=1}^n \\mathbb 1\\{x_i \\leq x\\} p(x_i)\n",
    "$$\n",
    "\n",
    "这里 $ \\mathbb 1\\{\\text{判断语句} \\} = 1 $ 如果 “判断语句” 为真，否则为零。\n",
    "\n",
    "因此第二项取所有 $ x_i \\leq x $ 并求它们概率的和。"
   ]
  },
  {
   "cell_type": "markdown",
   "id": "3faf9eca",
   "metadata": {},
   "source": [
    "#### 均匀分布\n",
    "\n",
    "一个简单的例子是**均匀分布**，它为每个可能的结果分配相同的概率，即 $ p(x_i) = 1/n $ 对于所有 $ i = 1, 2, \\ldots, n $。\n",
    "\n",
    "在 Python 中，我们可以使用 SciPy 库来处理 $ S = \\{1, \\ldots, n\\} $ 上的均匀分布："
   ]
  },
  {
   "cell_type": "code",
   "execution_count": null,
   "id": "fc1e40ad",
   "metadata": {
    "hide-output": false
   },
   "outputs": [],
   "source": [
    "n = 10\n",
    "u = scipy.stats.randint(1, n+1)"
   ]
  },
  {
   "cell_type": "markdown",
   "id": "ff976348",
   "metadata": {},
   "source": [
    "计算均值和方差："
   ]
  },
  {
   "cell_type": "code",
   "execution_count": null,
   "id": "a00608cc",
   "metadata": {
    "hide-output": false
   },
   "outputs": [],
   "source": [
    "u.mean(), u.var()"
   ]
  },
  {
   "cell_type": "markdown",
   "id": "c2266aef",
   "metadata": {},
   "source": [
    "均值的公式是 $ (n+1)/2 $，方差的公式是 $ (n^2 - 1)/12 $。\n",
    "\n",
    "现在让我们评估 PMF："
   ]
  },
  {
   "cell_type": "code",
   "execution_count": null,
   "id": "89692087",
   "metadata": {
    "hide-output": false
   },
   "outputs": [],
   "source": [
    "u.pmf(1)"
   ]
  },
  {
   "cell_type": "code",
   "execution_count": null,
   "id": "9e1663f8",
   "metadata": {
    "hide-output": false
   },
   "outputs": [],
   "source": [
    "u.pmf(2)"
   ]
  },
  {
   "cell_type": "markdown",
   "id": "cca7b0bc",
   "metadata": {},
   "source": [
    "以下是 PMF 的图："
   ]
  },
  {
   "cell_type": "code",
   "execution_count": null,
   "id": "401e1950",
   "metadata": {
    "hide-output": false
   },
   "outputs": [],
   "source": [
    "fig, ax = plt.subplots()\n",
    "S = np.arange(1, n+1)\n",
    "ax.plot(S, u.pmf(S), linestyle='', marker='o', alpha=0.8, ms=4)\n",
    "ax.vlines(S, 0, u.pmf(S), lw=0.2)\n",
    "ax.set_xticks(S)\n",
    "ax.set_xlabel('S')\n",
    "ax.set_ylabel('PMF')\n",
    "plt.show()"
   ]
  },
  {
   "cell_type": "markdown",
   "id": "4e9da949",
   "metadata": {},
   "source": [
    "这里是 CDF 的图："
   ]
  },
  {
   "cell_type": "code",
   "execution_count": null,
   "id": "0148e147",
   "metadata": {
    "hide-output": false
   },
   "outputs": [],
   "source": [
    "fig, ax = plt.subplots()\n",
    "S = np.arange(1, n+1)\n",
    "ax.step(S, u.cdf(S))\n",
    "ax.vlines(S, 0, u.cdf(S), lw=0.2)\n",
    "ax.set_xticks(S)\n",
    "ax.set_xlabel('S')\n",
    "ax.set_ylabel('CDF')\n",
    "plt.show()"
   ]
  },
  {
   "cell_type": "markdown",
   "id": "7f6f772d",
   "metadata": {},
   "source": [
    "CDF 在$ x_i $处跳升$ p(x_i) $。"
   ]
  },
  {
   "cell_type": "markdown",
   "id": "d353e71c",
   "metadata": {},
   "source": [
    "#### Exercise 18.1\n",
    "\n",
    "使用均值公式 $ (n+1)/2 $ 和方差公式 $ (n^2 - 1)/12 $ 手动计算当 $ n=10 $ 时的均值和方差。\n",
    "\n",
    "将你计算的结果与 Python 函数 `u.mean()` 和 `u.var()` 返回的值进行比较，确认它们是否一致。"
   ]
  },
  {
   "cell_type": "markdown",
   "id": "7ab09ed5",
   "metadata": {},
   "source": [
    "#### 伯努利分布\n",
    "\n",
    "另一个有用的分布是 $ S = \\{0,1\\} $ 上的伯努利分布，其 PMF 是：\n",
    "\n",
    "$$\n",
    "p(i) = \\theta^i (1 - \\theta)^{1-i}\n",
    "\\qquad (i = 0, 1)\n",
    "$$\n",
    "\n",
    "这里 $ \\theta \\in [0,1] $ 是一个参数。\n",
    "\n",
    "我们可以将这个分布视为对一个只有两种可能结果的随机试验进行概率建模，其成功概率是 $ \\theta $。\n",
    "\n",
    "- $ p(1) = \\theta $ 表示试验成功（取值1）的概率是 $ \\theta $  \n",
    "- $ p(0) = 1 - \\theta $ 表示试验失败（取值0）的概率是 $ 1-\\theta $  \n",
    "\n",
    "\n",
    "均值的公式是 $ \\theta $，方差的公式是 $ \\theta(1-\\theta) $。\n",
    "\n",
    "我们可以这样从 SciPy 导入 $ S = \\{0,1\\} $ 上的伯努利分布："
   ]
  },
  {
   "cell_type": "code",
   "execution_count": null,
   "id": "db4c5e33",
   "metadata": {
    "hide-output": false
   },
   "outputs": [],
   "source": [
    "θ = 0.4\n",
    "u = scipy.stats.bernoulli(θ)"
   ]
  },
  {
   "cell_type": "markdown",
   "id": "c14d957e",
   "metadata": {},
   "source": [
    "这是 $ \\theta=0.4 $ 时的均值和方差："
   ]
  },
  {
   "cell_type": "code",
   "execution_count": null,
   "id": "4b4dfd0e",
   "metadata": {
    "hide-output": false
   },
   "outputs": [],
   "source": [
    "u.mean(), u.var()"
   ]
  },
  {
   "cell_type": "markdown",
   "id": "7c79b803",
   "metadata": {},
   "source": [
    "我们可以评估 PMF 如下："
   ]
  },
  {
   "cell_type": "code",
   "execution_count": null,
   "id": "cd236e52",
   "metadata": {
    "hide-output": false
   },
   "outputs": [],
   "source": [
    "u.pmf(0), u.pmf(1)"
   ]
  },
  {
   "cell_type": "markdown",
   "id": "d1012077",
   "metadata": {},
   "source": [
    "#### 二项分布\n",
    "\n",
    "另一个有用（而且更有趣）的分布是 $ S=\\{0, \\ldots, n\\} $ 上的**二项分布**，其 PMF 为：\n",
    "\n",
    "$$\n",
    "p(i) = \\binom{n}{i} \\theta^i (1-\\theta)^{n-i}\n",
    "$$\n",
    "\n",
    "这里，$ \\theta \\in [0,1] $ 仍然是表示成功概率的参数。\n",
    "\n",
    "二项分布描述了在$ n $次独立的伯努利试验中，恰好获得$ i $次成功的概率，其中每次试验成功的概率都是$ \\theta $。\n",
    "\n",
    "一个直观的例子是：当$ \\theta=0.5 $时，$ p(i) $表示在$ n $次公平硬币投掷中，恰好出现$ i $次正面的概率。\n",
    "\n",
    "二项分布的均值为$ n\\theta $，方差为$ n\\theta(1-\\theta) $。\n",
    "\n",
    "让我们通过一个具体例子来说明这个分布"
   ]
  },
  {
   "cell_type": "code",
   "execution_count": null,
   "id": "088fb57b",
   "metadata": {
    "hide-output": false
   },
   "outputs": [],
   "source": [
    "n = 10\n",
    "θ = 0.5\n",
    "u = scipy.stats.binom(n, θ)"
   ]
  },
  {
   "cell_type": "markdown",
   "id": "736a9c23",
   "metadata": {},
   "source": [
    "根据我们的公式，均值和方差是"
   ]
  },
  {
   "cell_type": "code",
   "execution_count": null,
   "id": "64dc8808",
   "metadata": {
    "hide-output": false
   },
   "outputs": [],
   "source": [
    "n * θ,  n *  θ * (1 - θ)  "
   ]
  },
  {
   "cell_type": "markdown",
   "id": "e3181915",
   "metadata": {},
   "source": [
    "让我们看看SciPy是否给出了相同的结果："
   ]
  },
  {
   "cell_type": "code",
   "execution_count": null,
   "id": "8787dae6",
   "metadata": {
    "hide-output": false
   },
   "outputs": [],
   "source": [
    "u.mean(), u.var()"
   ]
  },
  {
   "cell_type": "markdown",
   "id": "d0953e66",
   "metadata": {},
   "source": [
    "这是 PMF："
   ]
  },
  {
   "cell_type": "code",
   "execution_count": null,
   "id": "080ad45d",
   "metadata": {
    "hide-output": false
   },
   "outputs": [],
   "source": [
    "u.pmf(1)"
   ]
  },
  {
   "cell_type": "code",
   "execution_count": null,
   "id": "5178163e",
   "metadata": {
    "hide-output": false
   },
   "outputs": [],
   "source": [
    "fig, ax = plt.subplots()\n",
    "S = np.arange(1, n+1)\n",
    "ax.plot(S, u.pmf(S), linestyle='', marker='o', alpha=0.8, ms=4)\n",
    "ax.vlines(S, 0, u.pmf(S), lw=0.2)\n",
    "ax.set_xticks(S)\n",
    "ax.set_xlabel('S')\n",
    "ax.set_ylabel('PMF')\n",
    "plt.show()"
   ]
  },
  {
   "cell_type": "markdown",
   "id": "b0faa7f1",
   "metadata": {},
   "source": [
    "这是 CDF："
   ]
  },
  {
   "cell_type": "code",
   "execution_count": null,
   "id": "d64a2fae",
   "metadata": {
    "hide-output": false
   },
   "outputs": [],
   "source": [
    "fig, ax = plt.subplots()\n",
    "S = np.arange(1, n+1)\n",
    "ax.step(S, u.cdf(S))\n",
    "ax.vlines(S, 0, u.cdf(S), lw=0.2)\n",
    "ax.set_xticks(S)\n",
    "ax.set_xlabel('S')\n",
    "ax.set_ylabel('CDF')\n",
    "plt.show()"
   ]
  },
  {
   "cell_type": "markdown",
   "id": "7b36c9c3",
   "metadata": {},
   "source": [
    "#### Exercise 18.2\n",
    "\n",
    "使用`u.pmf`，验证我们上面给出的CDF定义是否计算出与`u.cdf`相同的函数。"
   ]
  },
  {
   "cell_type": "markdown",
   "id": "ca9f8fac",
   "metadata": {},
   "source": [
    "#### Solution to[ Exercise 18.2](https://quantecon.github.io/lecture-intro.zh-cn/#prob_ex3)\n",
    "\n",
    "答案："
   ]
  },
  {
   "cell_type": "code",
   "execution_count": null,
   "id": "6a7778bc",
   "metadata": {
    "hide-output": false
   },
   "outputs": [],
   "source": [
    "fig, ax = plt.subplots()\n",
    "S = np.arange(1, n+1)\n",
    "u_sum = np.cumsum(u.pmf(S))\n",
    "ax.step(S, u_sum)\n",
    "ax.vlines(S, 0, u_sum, lw=0.2)\n",
    "ax.set_xticks(S)\n",
    "ax.set_xlabel('S')\n",
    "ax.set_ylabel('CDF')\n",
    "plt.show()"
   ]
  },
  {
   "cell_type": "markdown",
   "id": "bf5d01e6",
   "metadata": {},
   "source": [
    "我们可以看到输出图与上面的相同。"
   ]
  },
  {
   "cell_type": "markdown",
   "id": "19cbcbe4",
   "metadata": {},
   "source": [
    "#### 几何分布\n",
    "\n",
    "几何分布是一种具有无限支持集 $ S = \\{0, 1, 2, \\ldots\\} $ 的离散概率分布，其概率质量函数（PMF）为\n",
    "\n",
    "$$\n",
    "p(i) = (1 - \\theta)^i \\theta\n",
    "$$\n",
    "\n",
    "其中参数 $ \\theta \\in [0,1] $ 表示成功的概率。\n",
    "\n",
    "（当一个离散分布在无限多个点上赋予正概率时，我们称它具有无限支持。）\n",
    "\n",
    "几何分布通常用来描述在一系列独立的伯努利试验中，首次成功出现前所需的失败次数。每次试验成功的概率都是 $ \\theta $。\n",
    "\n",
    "因此，$ p(i) $ 表示在第一次成功之前恰好发生 $ i $ 次失败的概率。\n",
    "\n",
    "这个分布的期望值（平均值）是 $ (1-\\theta)/\\theta $，方差是 $ (1-\\theta)/\\theta^2 $。\n",
    "\n",
    "让我们通过一个例子来说明："
   ]
  },
  {
   "cell_type": "code",
   "execution_count": null,
   "id": "657c20e9",
   "metadata": {
    "hide-output": false
   },
   "outputs": [],
   "source": [
    "θ = 0.1\n",
    "u = scipy.stats.geom(θ)\n",
    "u.mean(), u.var()"
   ]
  },
  {
   "cell_type": "markdown",
   "id": "bfa0bcb4",
   "metadata": {},
   "source": [
    "这里是部分PMF："
   ]
  },
  {
   "cell_type": "code",
   "execution_count": null,
   "id": "c18b209c",
   "metadata": {
    "hide-output": false
   },
   "outputs": [],
   "source": [
    "fig, ax = plt.subplots()\n",
    "n = 20\n",
    "S = np.arange(n)\n",
    "ax.plot(S, u.pmf(S), linestyle='', marker='o', alpha=0.8, ms=4)\n",
    "ax.vlines(S, 0, u.pmf(S), lw=0.2)\n",
    "ax.set_xticks(S)\n",
    "ax.set_xlabel('S')\n",
    "ax.set_ylabel('PMF')\n",
    "plt.show()"
   ]
  },
  {
   "cell_type": "markdown",
   "id": "c6bef281",
   "metadata": {},
   "source": [
    "#### 泊松分布\n",
    "\n",
    "泊松分布是一种常见的离散概率分布，定义在非负整数集 $ S = \\{0, 1, 2, \\ldots\\} $ 上。它由一个参数 $ \\lambda > 0 $ 控制，其概率质量函数（PMF）为：\n",
    "\n",
    "$$\n",
    "p(i) = \\frac{\\lambda^i}{i!} e^{-\\lambda}\n",
    "$$\n",
    "\n",
    "泊松分布通常用于模拟在固定时间或空间内随机事件的发生次数。具体来说，$ p(i) $ 表示在给定区间内事件恰好发生 $ i $ 次的概率，其中事件以平均率 $ \\lambda $ 独立随机发生。\n",
    "\n",
    "这个分布的一个有趣特性是其均值和方差都等于参数 $ \\lambda $。\n",
    "\n",
    "下面我们通过一个具体例子来展示泊松分布："
   ]
  },
  {
   "cell_type": "code",
   "execution_count": null,
   "id": "3e2730d5",
   "metadata": {
    "hide-output": false
   },
   "outputs": [],
   "source": [
    "λ = 2\n",
    "u = scipy.stats.poisson(λ)\n",
    "u.mean(), u.var()"
   ]
  },
  {
   "cell_type": "markdown",
   "id": "0667ea46",
   "metadata": {},
   "source": [
    "这是概率质量函数："
   ]
  },
  {
   "cell_type": "code",
   "execution_count": null,
   "id": "fbe73d6f",
   "metadata": {
    "hide-output": false
   },
   "outputs": [],
   "source": [
    "u.pmf(1)"
   ]
  },
  {
   "cell_type": "code",
   "execution_count": null,
   "id": "9641c06a",
   "metadata": {
    "hide-output": false
   },
   "outputs": [],
   "source": [
    "fig, ax = plt.subplots()\n",
    "S = np.arange(1, n+1)\n",
    "ax.plot(S, u.pmf(S), linestyle='', marker='o', alpha=0.8, ms=4)\n",
    "ax.vlines(S, 0, u.pmf(S), lw=0.2)\n",
    "ax.set_xticks(S)\n",
    "ax.set_xlabel('S')\n",
    "ax.set_ylabel('PMF')\n",
    "plt.show()"
   ]
  },
  {
   "cell_type": "markdown",
   "id": "cf538cb6",
   "metadata": {},
   "source": [
    "### 连续分布\n",
    "\n",
    "连续分布通过**概率密度函数**（PDF）来描述，这是一个定义在实数集 $ \\mathbb R $ 上的非负函数 $ p $，满足\n",
    "\n",
    "$$\n",
    "\\int_{-\\infty}^\\infty p(x) \\, dx = 1\n",
    "$$\n",
    "\n",
    "当随机变量 $ X $ 服从概率密度函数 $ p $ 时，任意区间 $ [a, b] $ 上的概率可以通过积分计算：\n",
    "\n",
    "$$\n",
    "\\mathbb P\\{a < X < b\\} = \\int_a^b p(x) \\, dx\n",
    "$$\n",
    "\n",
    "与离散分布类似，连续随机变量的均值和方差也可以通过其概率密度函数计算，只需将求和替换为积分。\n",
    "\n",
    "例如，随机变量 $ X $ 的均值计算为\n",
    "\n",
    "$$\n",
    "\\mathbb{E}[X] = \\int_{-\\infty}^\\infty x p(x) \\, dx\n",
    "$$\n",
    "\n",
    "$ X $ 的**累积分布函数**（CDF）定义为\n",
    "\n",
    "$$\n",
    "F(x) = \\mathbb P\\{X \\leq x\\}\n",
    "        = \\int_{-\\infty}^x p(x) \\, dx\n",
    "$$"
   ]
  },
  {
   "cell_type": "markdown",
   "id": "6d62e129",
   "metadata": {},
   "source": [
    "#### 正态分布\n",
    "\n",
    "**正态分布**是统计学中最常见也最重要的分布之一，其概率密度函数为\n",
    "\n",
    "$$\n",
    "p(x) = \\frac{1}{\\sqrt{2\\pi}\\sigma}\n",
    "            \\exp\\left(-\\frac{(x-\\mu)^2}{2\\sigma^2}\\right)\n",
    "$$\n",
    "\n",
    "正态分布由两个参数决定：$ \\mu \\in \\mathbb R $（均值参数）和 $ \\sigma \\in (0, \\infty) $（标准差参数）。\n",
    "\n",
    "通过积分计算可以验证，当随机变量 $ X $ 服从正态分布时，$ \\mathbb{E}[X] = \\mu $，$ \\text{Var}(X) = \\sigma^2 $。\n",
    "\n",
    "我们可以通过 SciPy 来计算正态分布的矩、PDF 和 CDF："
   ]
  },
  {
   "cell_type": "code",
   "execution_count": null,
   "id": "7a4879a6",
   "metadata": {
    "hide-output": false
   },
   "outputs": [],
   "source": [
    "μ, σ = 0.0, 1.0\n",
    "u = scipy.stats.norm(μ, σ)"
   ]
  },
  {
   "cell_type": "code",
   "execution_count": null,
   "id": "50166f3e",
   "metadata": {
    "hide-output": false
   },
   "outputs": [],
   "source": [
    "u.mean(), u.var()"
   ]
  },
  {
   "cell_type": "markdown",
   "id": "69f52e4d",
   "metadata": {},
   "source": [
    "下面是密度的图像——著名的“钟形曲线”："
   ]
  },
  {
   "cell_type": "code",
   "execution_count": null,
   "id": "164dc410",
   "metadata": {
    "hide-output": false
   },
   "outputs": [],
   "source": [
    "μ_vals = [-1, 0, 1]\n",
    "σ_vals = [0.4, 1, 1.6]\n",
    "fig, ax = plt.subplots()\n",
    "x_grid = np.linspace(-4, 4, 200)\n",
    "\n",
    "for μ, σ in zip(μ_vals, σ_vals):\n",
    "    u = scipy.stats.norm(μ, σ)\n",
    "    ax.plot(x_grid, u.pdf(x_grid),\n",
    "    alpha=0.5, lw=2,\n",
    "    label=fr'$\\mu={μ}, \\sigma={σ}$')\n",
    "ax.set_xlabel('x')\n",
    "ax.set_ylabel('PDF')\n",
    "plt.legend()\n",
    "plt.show()"
   ]
  },
  {
   "cell_type": "markdown",
   "id": "7a3a0274",
   "metadata": {},
   "source": [
    "下面是 CDF 的图像："
   ]
  },
  {
   "cell_type": "code",
   "execution_count": null,
   "id": "565b15eb",
   "metadata": {
    "hide-output": false
   },
   "outputs": [],
   "source": [
    "fig, ax = plt.subplots()\n",
    "for μ, σ in zip(μ_vals, σ_vals):\n",
    "    u = scipy.stats.norm(μ, σ)\n",
    "    ax.plot(x_grid, u.cdf(x_grid),\n",
    "    alpha=0.5, lw=2,\n",
    "    label=fr'$\\mu={μ}, \\sigma={σ}$')\n",
    "    ax.set_ylim(0, 1)\n",
    "ax.set_xlabel('x')\n",
    "ax.set_ylabel('CDF')\n",
    "plt.legend()\n",
    "plt.show()"
   ]
  },
  {
   "cell_type": "markdown",
   "id": "df2ee8a2",
   "metadata": {},
   "source": [
    "#### 对数正态分布\n",
    "\n",
    "**对数正态分布**是一个定义在正实数轴 $ (0, \\infty) $ 上的概率分布，其密度函数为\n",
    "\n",
    "$$\n",
    "p(x) = \\frac{1}{\\sigma x \\sqrt{2\\pi}}\n",
    "    \\exp \\left(- \\frac{(\\log x - \\mu)^2}{2 \\sigma^2} \\right)\n",
    "$$\n",
    "\n",
    "该分布由两个参数 $ \\mu \\in \\mathbb{R} $ 和 $ \\sigma > 0 $ 决定。\n",
    "\n",
    "对于服从对数正态分布的随机变量 $ X $，其期望值为 $ \\mathbb{E}[X] = \\exp(\\mu + \\sigma^2/2) $，方差为 $ \\text{Var}(X) = [\\exp(\\sigma^2) - 1] \\exp(2\\mu + \\sigma^2) $。\n",
    "\n",
    "对数正态分布与正态分布有着密切的关系：\n",
    "\n",
    "- 如果随机变量 $ X $ 服从对数正态分布，那么 $ \\log X $ 服从正态分布  \n",
    "- 反之，如果 $ Y $ 服从正态分布，那么 $ \\exp(Y) $ 服从对数正态分布  \n",
    "\n",
    "\n",
    "我们可以使用 SciPy 来计算对数正态分布的矩、PDF 和 CDF："
   ]
  },
  {
   "cell_type": "code",
   "execution_count": null,
   "id": "9dad3c38",
   "metadata": {
    "hide-output": false
   },
   "outputs": [],
   "source": [
    "μ, σ = 0.0, 1.0\n",
    "u = scipy.stats.lognorm(s=σ, scale=np.exp(μ))"
   ]
  },
  {
   "cell_type": "code",
   "execution_count": null,
   "id": "e73e3cce",
   "metadata": {
    "hide-output": false
   },
   "outputs": [],
   "source": [
    "u.mean(), u.var()"
   ]
  },
  {
   "cell_type": "code",
   "execution_count": null,
   "id": "74becb5f",
   "metadata": {
    "hide-output": false
   },
   "outputs": [],
   "source": [
    "μ_vals = [-1, 0, 1]\n",
    "σ_vals = [0.25, 0.5, 1]\n",
    "x_grid = np.linspace(0, 3, 200)\n",
    "\n",
    "fig, ax = plt.subplots()\n",
    "for μ, σ in zip(μ_vals, σ_vals):\n",
    "    u = scipy.stats.lognorm(σ, scale=np.exp(μ))\n",
    "    ax.plot(x_grid, u.pdf(x_grid),\n",
    "    alpha=0.5, lw=2,\n",
    "    label=fr'$\\mu={μ}, \\sigma={σ}$')\n",
    "ax.set_xlabel('x')\n",
    "ax.set_ylabel('PDF')\n",
    "plt.legend()\n",
    "plt.show()"
   ]
  },
  {
   "cell_type": "code",
   "execution_count": null,
   "id": "1347aeff",
   "metadata": {
    "hide-output": false
   },
   "outputs": [],
   "source": [
    "fig, ax = plt.subplots()\n",
    "μ = 1\n",
    "for σ in σ_vals:\n",
    "    u = scipy.stats.norm(μ, σ)\n",
    "    ax.plot(x_grid, u.cdf(x_grid),\n",
    "    alpha=0.5, lw=2,\n",
    "    label=fr'$\\mu={μ}, \\sigma={σ}$')\n",
    "    ax.set_ylim(0, 1)\n",
    "    ax.set_xlim(0, 3)\n",
    "ax.set_xlabel('x')\n",
    "ax.set_ylabel('CDF')\n",
    "plt.legend()\n",
    "plt.show()"
   ]
  },
  {
   "cell_type": "markdown",
   "id": "ace43d42",
   "metadata": {},
   "source": [
    "#### 指数分布\n",
    "\n",
    "**指数分布**是定义在 $ \\left(0, \\infty\\right) $ 上的分布，其密度函数为\n",
    "\n",
    "$$\n",
    "p(x) = \\lambda \\exp \\left( - \\lambda x \\right)\n",
    "\\qquad (x > 0)\n",
    "$$\n",
    "\n",
    "指数分布由参数 $ \\lambda > 0 $ 控制，它决定了分布的形状和尺度。\n",
    "\n",
    "在许多方面，指数分布可以被看作是几何分布在连续情境下的自然推广。\n",
    "\n",
    "对于指数分布，其均值为 $ 1/\\lambda $，方差为 $ 1/\\lambda^2 $。这意味着 $ \\lambda $ 越大，分布越集中在零附近。\n",
    "\n",
    "下面我们使用SciPy来计算指数分布的统计特性并绘制其PDF和CDF："
   ]
  },
  {
   "cell_type": "code",
   "execution_count": null,
   "id": "e905d2d9",
   "metadata": {
    "hide-output": false
   },
   "outputs": [],
   "source": [
    "λ = 1.0\n",
    "u = scipy.stats.expon(scale=1/λ)"
   ]
  },
  {
   "cell_type": "code",
   "execution_count": null,
   "id": "89588b68",
   "metadata": {
    "hide-output": false
   },
   "outputs": [],
   "source": [
    "u.mean(), u.var()"
   ]
  },
  {
   "cell_type": "code",
   "execution_count": null,
   "id": "e708dcd2",
   "metadata": {
    "hide-output": false
   },
   "outputs": [],
   "source": [
    "fig, ax = plt.subplots()\n",
    "λ_vals = [0.5, 1, 2]\n",
    "x_grid = np.linspace(0, 6, 200)\n",
    "\n",
    "for λ in λ_vals:\n",
    "    u = scipy.stats.expon(scale=1/λ)\n",
    "    ax.plot(x_grid, u.pdf(x_grid),\n",
    "    alpha=0.5, lw=2,\n",
    "    label=fr'$\\lambda={λ}$')\n",
    "ax.set_xlabel('x')\n",
    "ax.set_ylabel('PDF')\n",
    "plt.legend()\n",
    "plt.show()"
   ]
  },
  {
   "cell_type": "code",
   "execution_count": null,
   "id": "aac66093",
   "metadata": {
    "hide-output": false
   },
   "outputs": [],
   "source": [
    "fig, ax = plt.subplots()\n",
    "for λ in λ_vals:\n",
    "    u = scipy.stats.expon(scale=1/λ)\n",
    "    ax.plot(x_grid, u.cdf(x_grid),\n",
    "    alpha=0.5, lw=2,\n",
    "    label=fr'$\\lambda={λ}$')\n",
    "    ax.set_ylim(0, 1)\n",
    "ax.set_xlabel('x')\n",
    "ax.set_ylabel('CDF')\n",
    "plt.legend()\n",
    "plt.show()"
   ]
  },
  {
   "cell_type": "markdown",
   "id": "27ec7258",
   "metadata": {},
   "source": [
    "#### 贝塔分布\n",
    "\n",
    "**贝塔分布**是定义在 $ (0, 1) $ 上的分布，其密度为\n",
    "\n",
    "$$\n",
    "p(x) = \\frac{\\Gamma(\\alpha + \\beta)}{\\Gamma(\\alpha) \\Gamma(\\beta)}\n",
    "    x^{\\alpha - 1} (1 - x)^{\\beta - 1}\n",
    "$$\n",
    "\n",
    "其中 $ \\Gamma $ 是[伽马函数](https://baike.baidu.com/item/%E4%BC%BD%E7%8E%9B%E5%87%BD%E6%95%B0/3540177)。\n",
    "\n",
    "(伽马函数的作用是使密度标准化，从而使其积分为一。)\n",
    "\n",
    "此分布有两个参数，$ \\alpha > 0 $ 和 $ \\beta > 0 $。\n",
    "\n",
    "可以证明对于该分布，均值为 $ \\alpha / (\\alpha + \\beta) $，方差为 $ \\alpha \\beta / (\\alpha + \\beta)^2 (\\alpha + \\beta + 1) $。\n",
    "\n",
    "我们可以如下获得贝塔密度的矩、PDF 和 CDF："
   ]
  },
  {
   "cell_type": "code",
   "execution_count": null,
   "id": "66304bd9",
   "metadata": {
    "hide-output": false
   },
   "outputs": [],
   "source": [
    "α, β = 3.0, 1.0\n",
    "u = scipy.stats.beta(α, β)"
   ]
  },
  {
   "cell_type": "code",
   "execution_count": null,
   "id": "0f487017",
   "metadata": {
    "hide-output": false
   },
   "outputs": [],
   "source": [
    "u.mean(), u.var()"
   ]
  },
  {
   "cell_type": "code",
   "execution_count": null,
   "id": "c83acc88",
   "metadata": {
    "hide-output": false
   },
   "outputs": [],
   "source": [
    "α_vals = [0.5, 1, 5, 25, 3]\n",
    "β_vals = [3, 1, 10, 20, 0.5]\n",
    "x_grid = np.linspace(0, 1, 200)\n",
    "\n",
    "fig, ax = plt.subplots()\n",
    "for α, β in zip(α_vals, β_vals):\n",
    "    u = scipy.stats.beta(α, β)\n",
    "    ax.plot(x_grid, u.pdf(x_grid),\n",
    "    alpha=0.5, lw=2,\n",
    "    label=fr'$\\alpha={α}, \\beta={β}$')\n",
    "ax.set_xlabel('x')\n",
    "ax.set_ylabel('PDF')\n",
    "plt.legend()\n",
    "plt.show()"
   ]
  },
  {
   "cell_type": "code",
   "execution_count": null,
   "id": "9823477b",
   "metadata": {
    "hide-output": false
   },
   "outputs": [],
   "source": [
    "fig, ax = plt.subplots()\n",
    "for α, β in zip(α_vals, β_vals):\n",
    "    u = scipy.stats.beta(α, β)\n",
    "    ax.plot(x_grid, u.cdf(x_grid),\n",
    "    alpha=0.5, lw=2,\n",
    "    label=fr'$\\alpha={α}, \\beta={β}$')\n",
    "    ax.set_ylim(0, 1)\n",
    "ax.set_xlabel('x')\n",
    "ax.set_ylabel('CDF')\n",
    "plt.legend()\n",
    "plt.show()"
   ]
  },
  {
   "cell_type": "markdown",
   "id": "98ba1380",
   "metadata": {},
   "source": [
    "#### 伽马分布\n",
    "\n",
    "**伽马分布**是一种在正实数轴 $ (0, \\infty) $ 上的连续概率分布，其概率密度函数为\n",
    "\n",
    "$$\n",
    "p(x) = \\frac{\\beta^\\alpha}{\\Gamma(\\alpha)}\n",
    "    x^{\\alpha - 1} \\exp(-\\beta x)\n",
    "$$\n",
    "\n",
    "其中 $ \\alpha > 0 $ 是形状参数，$ \\beta > 0 $ 是速率参数，$ \\Gamma(\\alpha) $ 是伽马函数。\n",
    "\n",
    "伽马分布的均值为 $ \\alpha / \\beta $，方差为 $ \\alpha / \\beta^2 $。\n",
    "\n",
    "伽马分布有一个直观的解释：当 $ \\alpha $ 是正整数时，伽马分布随机变量可以看作是 $ \\alpha $ 个独立的、均值为 $ 1/\\beta $ 的指数分布随机变量之和。这使得伽马分布在等待时间和可靠性分析中特别有用。\n",
    "\n",
    "下面我们来计算伽马分布的矩、PDF 和 CDF："
   ]
  },
  {
   "cell_type": "code",
   "execution_count": null,
   "id": "5b67c8b7",
   "metadata": {
    "hide-output": false
   },
   "outputs": [],
   "source": [
    "α, β = 3.0, 2.0\n",
    "u = scipy.stats.gamma(α, scale=1/β)"
   ]
  },
  {
   "cell_type": "code",
   "execution_count": null,
   "id": "7a1b9c61",
   "metadata": {
    "hide-output": false
   },
   "outputs": [],
   "source": [
    "u.mean(), u.var()"
   ]
  },
  {
   "cell_type": "code",
   "execution_count": null,
   "id": "755ae106",
   "metadata": {
    "hide-output": false
   },
   "outputs": [],
   "source": [
    "α_vals = [1, 3, 5, 10]\n",
    "β_vals = [3, 5, 3, 3]\n",
    "x_grid = np.linspace(0, 7, 200)\n",
    "\n",
    "fig, ax = plt.subplots()\n",
    "for α, β in zip(α_vals, β_vals):\n",
    "    u = scipy.stats.gamma(α, scale=1/β)\n",
    "    ax.plot(x_grid, u.pdf(x_grid),\n",
    "    alpha=0.5, lw=2,\n",
    "    label=fr'$\\alpha={α}, \\beta={β}$')\n",
    "ax.set_xlabel('x')\n",
    "ax.set_ylabel('PDF')\n",
    "plt.legend()\n",
    "plt.show()"
   ]
  },
  {
   "cell_type": "code",
   "execution_count": null,
   "id": "efd22a3d",
   "metadata": {
    "hide-output": false
   },
   "outputs": [],
   "source": [
    "fig, ax = plt.subplots()\n",
    "for α, β in zip(α_vals, β_vals):\n",
    "    u = scipy.stats.gamma(α, scale=1/β)\n",
    "    ax.plot(x_grid, u.cdf(x_grid),\n",
    "    alpha=0.5, lw=2,\n",
    "    label=fr'$\\alpha={α}, \\beta={β}$')\n",
    "    ax.set_ylim(0, 1)\n",
    "ax.set_xlabel('x')\n",
    "ax.set_ylabel('CDF')\n",
    "plt.legend()\n",
    "plt.show()"
   ]
  },
  {
   "cell_type": "markdown",
   "id": "69c1e63a",
   "metadata": {},
   "source": [
    "## 观察到的分布\n",
    "\n",
    "有时候我们将观测到的数据或测量值称为“分布”。\n",
    "\n",
    "例如，假设我们观察了10个人一年的收入："
   ]
  },
  {
   "cell_type": "code",
   "execution_count": null,
   "id": "a6f5d2f3",
   "metadata": {
    "hide-output": false
   },
   "outputs": [],
   "source": [
    "data = [['Hiroshi', 1200], \n",
    "        ['Ako', 1210], \n",
    "        ['Emi', 1400],\n",
    "        ['Daiki', 990],\n",
    "        ['Chiyo', 1530],\n",
    "        ['Taka', 1210],\n",
    "        ['Katsuhiko', 1240],\n",
    "        ['Daisuke', 1124],\n",
    "        ['Yoshi', 1330],\n",
    "        ['Rie', 1340]]\n",
    "\n",
    "df = pd.DataFrame(data, columns=['name', 'income'])\n",
    "df"
   ]
  },
  {
   "cell_type": "markdown",
   "id": "98f96eff",
   "metadata": {},
   "source": [
    "在这种情况下，我们通常将这组收入数据称为”收入分布”。\n",
    "\n",
    "这个术语可能有点让人困惑，因为严格来说，这只是一组数值，而不是真正的概率分布。\n",
    "\n",
    "不过，正如我们接下来会看到的，这种观察到的数据分布（比如我们这里的收入数据）与理论上的概率分布有着密切的联系。\n",
    "\n",
    "下面让我们来探索一些观察到的数据分布的特性。"
   ]
  },
  {
   "cell_type": "markdown",
   "id": "46d2b5ca",
   "metadata": {},
   "source": [
    "### 描述性统计\n",
    "\n",
    "当我们分析一组数据 $ \\{x_1, \\ldots, x_n\\} $ 时，通常会计算一些基本的统计量来描述其特征。\n",
    "\n",
    "最常用的统计量之一是**样本均值**，它代表数据的平均水平：\n",
    "\n",
    "$$\n",
    "\\bar x = \\frac{1}{n} \\sum_{i=1}^n x_i\n",
    "$$\n",
    "\n",
    "另一个重要的统计量是**样本方差**，它衡量数据的离散程度：\n",
    "\n",
    "$$\n",
    "\\frac{1}{n} \\sum_{i=1}^n (x_i - \\bar x)^2\n",
    "$$\n",
    "\n",
    "对于上面给出的收入分布，我们可以通过下面的方式计算这些数字："
   ]
  },
  {
   "cell_type": "code",
   "execution_count": null,
   "id": "c3f2a992",
   "metadata": {
    "hide-output": false
   },
   "outputs": [],
   "source": [
    "x = df['income']\n",
    "x.mean(), x.var()"
   ]
  },
  {
   "cell_type": "markdown",
   "id": "42996ebe",
   "metadata": {},
   "source": [
    "### Exercise 18.3\n",
    "\n",
    "如果你尝试检查上述给出的样本均值和样本方差的公式是否能产生相同的数字，你会发现方差并不完全正确。这是因为SciPy使用的是 $ 1/(n-1) $ 而不是 $ 1/n $ 作为方差的前面的系数。（有些书籍就是这样定义样本方差的。）\n",
    "\n",
    "用纸笔确认这一点。"
   ]
  },
  {
   "cell_type": "markdown",
   "id": "66e1fd7d",
   "metadata": {},
   "source": [
    "### 可视化\n",
    "\n",
    "让我们来看看我们可以用哪些方式来可视化一个或多个观察到的分布。\n",
    "\n",
    "我们将讲解\n",
    "\n",
    "- 直方图  \n",
    "- 核密度估计  \n",
    "- 小提琴图  "
   ]
  },
  {
   "cell_type": "markdown",
   "id": "ee34a94b",
   "metadata": {},
   "source": [
    "#### 直方图\n",
    "\n",
    "下面我们来绘制刚才创建的收入分布直方图："
   ]
  },
  {
   "cell_type": "code",
   "execution_count": null,
   "id": "7371aa6d",
   "metadata": {
    "hide-output": false
   },
   "outputs": [],
   "source": [
    "fig, ax = plt.subplots()\n",
    "ax.hist(x, bins=5, density=True, histtype='bar')\n",
    "ax.set_xlabel('收入')\n",
    "ax.set_ylabel('密度')\n",
    "plt.show()"
   ]
  },
  {
   "cell_type": "markdown",
   "id": "277eb8a0",
   "metadata": {},
   "source": [
    "现在让我们来分析一个真实世界的数据分布案例。\n",
    "\n",
    "我们将研究亚马逊股票在2000年1月1日至2024年1月1日期间的月度收益率数据。\n",
    "\n",
    "月度收益率表示股票价格每月的百分比变化，这是金融分析中的一个常用指标。\n",
    "\n",
    "这样，我们就能获得一个包含24年间每月观测值的时间序列数据集。"
   ]
  },
  {
   "cell_type": "code",
   "execution_count": null,
   "id": "3c55049a",
   "metadata": {
    "hide-output": false
   },
   "outputs": [],
   "source": [
    "df = yf.download('AMZN', '2000-1-1', '2024-1-1', \n",
    "                    interval='1mo', auto_adjust=False)\n",
    "prices = df['Adj Close']\n",
    "x_amazon = prices.pct_change()[1:] * 100\n",
    "x_amazon.head()"
   ]
  },
  {
   "cell_type": "markdown",
   "id": "23200ecc",
   "metadata": {},
   "source": [
    "第一个观察结果是2000年1月的月回报（百分比变化），即"
   ]
  },
  {
   "cell_type": "code",
   "execution_count": null,
   "id": "660964a8",
   "metadata": {
    "hide-output": false
   },
   "outputs": [],
   "source": [
    "x_amazon.iloc[0]"
   ]
  },
  {
   "cell_type": "markdown",
   "id": "ff830a28",
   "metadata": {},
   "source": [
    "让我们将回报观测值转换成数组并制作直方图。"
   ]
  },
  {
   "cell_type": "code",
   "execution_count": null,
   "id": "11c2ac0b",
   "metadata": {
    "hide-output": false
   },
   "outputs": [],
   "source": [
    "fig, ax = plt.subplots()\n",
    "ax.hist(x_amazon, bins=20)\n",
    "ax.set_xlabel('月收益率（百分比变化）')\n",
    "ax.set_ylabel('密度')\n",
    "plt.show()"
   ]
  },
  {
   "cell_type": "markdown",
   "id": "8132f1b3",
   "metadata": {},
   "source": [
    "#### 核密度估计\n",
    "\n",
    "核密度估计（KDE）是一种更平滑地展示数据分布的方法，可以看作是直方图的进阶版本。\n",
    "\n",
    "相比直方图的阶梯状外观，KDE生成连续的密度曲线，能更自然地反映数据的分布特征。\n",
    "\n",
    "下面让我们用KDE来可视化亚马逊股票的月度收益率数据。"
   ]
  },
  {
   "cell_type": "code",
   "execution_count": null,
   "id": "11454ce2",
   "metadata": {
    "hide-output": false
   },
   "outputs": [],
   "source": [
    "fig, ax = plt.subplots()\n",
    "sns.kdeplot(x_amazon, ax=ax)\n",
    "ax.set_xlabel('月度回报率（百分比变化）')\n",
    "ax.set_ylabel('KDE')\n",
    "plt.show()"
   ]
  },
  {
   "cell_type": "markdown",
   "id": "862b9156",
   "metadata": {},
   "source": [
    "KDE的平滑程度取决于我们选择带宽的方式。"
   ]
  },
  {
   "cell_type": "code",
   "execution_count": null,
   "id": "f28ef1c9",
   "metadata": {
    "hide-output": false
   },
   "outputs": [],
   "source": [
    "fig, ax = plt.subplots()\n",
    "sns.kdeplot(x_amazon, ax=ax, bw_adjust=0.1, alpha=0.5, label=\"bw=0.1\")\n",
    "sns.kdeplot(x_amazon, ax=ax, bw_adjust=0.5, alpha=0.5, label=\"bw=0.5\")\n",
    "sns.kdeplot(x_amazon, ax=ax, bw_adjust=1, alpha=0.5, label=\"bw=1\")\n",
    "ax.set_xlabel('月度回报率（百分比变化）')\n",
    "ax.set_ylabel('KDE')\n",
    "plt.legend()\n",
    "plt.show()"
   ]
  },
  {
   "cell_type": "markdown",
   "id": "95ccce55",
   "metadata": {},
   "source": [
    "当我们使用较大的带宽时，KDE更加平滑。\n",
    "\n",
    "一个合适的带宽既不应过于平滑（欠拟合），也不应过于曲折（过拟合）。"
   ]
  },
  {
   "cell_type": "markdown",
   "id": "2a8db129",
   "metadata": {},
   "source": [
    "#### 小提琴图\n",
    "\n",
    "通过小提琴图展示观察到的分布是另一种方式。"
   ]
  },
  {
   "cell_type": "code",
   "execution_count": null,
   "id": "67c2ab8f",
   "metadata": {
    "hide-output": false
   },
   "outputs": [],
   "source": [
    "fig, ax = plt.subplots()\n",
    "ax.violinplot(x_amazon)\n",
    "ax.set_ylabel('月度回报率（百分比变化）')\n",
    "ax.set_xlabel('KDE')\n",
    "plt.show()"
   ]
  },
  {
   "cell_type": "markdown",
   "id": "f3188ac2",
   "metadata": {},
   "source": [
    "小提琴图在比较多个数据集的分布特征时特别有用，它能直观地展示数据的密度和范围。\n",
    "\n",
    "接下来，让我们用小提琴图来对比亚马逊和开市客这两家零售巨头的月度股票回报率分布情况。"
   ]
  },
  {
   "cell_type": "code",
   "execution_count": null,
   "id": "dc0c36d8",
   "metadata": {
    "hide-output": false
   },
   "outputs": [],
   "source": [
    "df = yf.download('COST', '2000-1-1', '2024-1-1', \n",
    "                 interval='1mo', auto_adjust=False)\n",
    "prices = df['Adj Close']\n",
    "x_costco = prices.pct_change()[1:] * 100"
   ]
  },
  {
   "cell_type": "code",
   "execution_count": null,
   "id": "7b5dc4b9",
   "metadata": {
    "hide-output": false
   },
   "outputs": [],
   "source": [
    "fig, ax = plt.subplots()\n",
    "ax.violinplot([x_amazon['AMZN'], x_costco['COST']])\n",
    "ax.set_ylabel('月度回报率（百分比变化）')\n",
    "ax.set_xlabel('零售商')\n",
    "\n",
    "ax.set_xticks([1, 2])\n",
    "ax.set_xticklabels(['亚马逊', '开市客'])\n",
    "plt.show()"
   ]
  },
  {
   "cell_type": "markdown",
   "id": "2013ed1b",
   "metadata": {},
   "source": [
    "### 与概率分布的联系\n",
    "\n",
    "现在让我们探讨观察数据分布与理论概率分布之间的关系。\n",
    "\n",
    "在数据分析中，我们常常会假设观察到的数据来自某个特定的概率分布，这有助于我们理解和建模数据的行为。\n",
    "\n",
    "以亚马逊的股票回报为例，我们可以尝试用正态分布来拟合这些数据。\n",
    "\n",
    "（虽然股票回报通常不完全符合正态分布，但这种简化假设在初步分析中很有价值。）\n",
    "\n",
    "下面，我们将用亚马逊回报数据的样本均值和样本方差来构建一个匹配的正态分布，然后通过可视化比较理论分布与实际数据的吻合度。"
   ]
  },
  {
   "cell_type": "code",
   "execution_count": null,
   "id": "b02fe6d0",
   "metadata": {
    "hide-output": false
   },
   "outputs": [],
   "source": [
    "μ = x_amazon.mean()  \n",
    "σ_squared = x_amazon.var()  \n",
    "σ = np.sqrt(σ_squared)  \n",
    "u = scipy.stats.norm(μ, σ)  "
   ]
  },
  {
   "cell_type": "code",
   "execution_count": null,
   "id": "77d3a542",
   "metadata": {
    "hide-output": false
   },
   "outputs": [],
   "source": [
    "x_grid = np.linspace(-50, 65, 200)  \n",
    "fig, ax = plt.subplots()  \n",
    "ax.plot(x_grid, u.pdf(x_grid))  \n",
    "ax.hist(x_amazon, density=True, bins=40)  \n",
    "ax.set_xlabel('月度回报（百分比变化）')\n",
    "ax.set_ylabel('密度')\n",
    "plt.show()"
   ]
  },
  {
   "cell_type": "markdown",
   "id": "f71f47dd",
   "metadata": {},
   "source": [
    "可以看出，直方图与理论密度曲线的匹配度并不理想。\n",
    "\n",
    "这主要是因为亚马逊的股票回报数据并不完全符合正态分布 — 我们将在[重尾分布](https://quantecon.github.io/lecture-intro.zh-cn/heavy_tails.html#heavy-tail)章节中详细探讨这个现象。\n",
    "\n",
    "如果数据确实来自正态分布，拟合效果会好得多。\n",
    "\n",
    "为了验证这一点，我们可以做一个简单的实验：\n",
    "\n",
    "- 从标准正态分布中生成随机样本  \n",
    "- 绘制这些样本的直方图，并与理论密度曲线进行比较  "
   ]
  },
  {
   "cell_type": "code",
   "execution_count": null,
   "id": "33ea54f7",
   "metadata": {
    "hide-output": false
   },
   "outputs": [],
   "source": [
    "μ, σ = 0, 1  \n",
    "u = scipy.stats.norm(μ, σ)  \n",
    "N = 2000  \n",
    "x_draws = u.rvs(N)  \n",
    "x_grid = np.linspace(-4, 4, 200)  \n",
    "fig, ax = plt.subplots()  \n",
    "ax.plot(x_grid, u.pdf(x_grid))  \n",
    "ax.hist(x_draws, density=True, bins=40)  \n",
    "ax.set_xlabel('x')\n",
    "ax.set_ylabel('密度')\n",
    "plt.show()"
   ]
  },
  {
   "cell_type": "markdown",
   "id": "c70e35ad",
   "metadata": {},
   "source": [
    "值得注意的是，随着观测数量 $ N $ 的增加，直方图与理论密度曲线的拟合效果会逐渐改善。\n",
    "\n",
    "这种现象体现了”大数定律”的原理，我们将在[后续章节](https://quantecon.github.io/lecture-intro.zh-cn/lln_clt.html#lln-mr)中深入探讨。"
   ]
  }
 ],
 "metadata": {
  "date": 1743834080.7905471,
  "filename": "prob_dist.md",
  "kernelspec": {
   "display_name": "Python",
   "language": "python3",
   "name": "python3"
  },
  "title": "分布和概率"
 },
 "nbformat": 4,
 "nbformat_minor": 5
}