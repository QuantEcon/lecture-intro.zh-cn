{
 "cells": [
  {
   "cell_type": "markdown",
   "id": "7dc5e9b6",
   "metadata": {},
   "source": [
    "\n",
    "<a id='troubleshooting'></a>"
   ]
  },
  {
   "cell_type": "markdown",
   "id": "d1721200",
   "metadata": {},
   "source": [
    "# 故障排除\n",
    "\n",
    "本页面旨在帮助读者解决执行讲座代码时遇到的错误。"
   ]
  },
  {
   "cell_type": "markdown",
   "id": "494e02da",
   "metadata": {},
   "source": [
    "## 修复您的本地环境\n",
    "\n",
    "讲座的基本假设是：只要\n",
    "\n",
    "1. 在Jupyter笔记本中执行代码，并且  \n",
    "1. 笔记本在安装了最新版Anaconda Python的机器上运行。  \n",
    "\n",
    "\n",
    "按照[这节课](https://python-programming.quantecon.org/getting_started.html)中的指引，你应该已经安装了Anaconda了吧？\n",
    "\n",
    "假设你已经安装了，我们读者最常见的问题是他们的Anaconda发行版不是最新的。\n",
    "\n",
    "[这里有一篇挺有用的文章](https://www.anaconda.com/blog/keeping-anaconda-date)\n",
    "描述了如何更新Anaconda。\n",
    "\n",
    "另一个选项则是卸载Anaconda并重新安装。\n",
    "\n",
    "你还需要更新外部代码库，例如[QuantEcon.py](https://quantecon.org/quantecon-py)。\n",
    "\n",
    "为此，你可以\n",
    "\n",
    "- 在命令行中使用 conda install -y quantecon，或  \n",
    "- 在Jupyter笔记本中执行 !conda install -y quantecon。  \n",
    "\n",
    "\n",
    "如果您的本地环境依然无法工作，你可以做两件事。\n",
    "\n",
    "首先，你可以通过点击每个教程提供的启动笔记本图标改用云端运行\n",
    "\n",
    "![https://quantecon.github.io/lecture-intro.zh-cn/_static/lecture_specific/troubleshooting/launch.png](https://quantecon.github.io/lecture-intro.zh-cn/_static/lecture_specific/troubleshooting/launch.png)\n",
    "\n",
    "其次，你可以开一个[`Issue`](https://github.com/QuantEcon/lecture-intro.zh-cn/issues)，\n",
    "这样我们可以一起帮忙尝试修复你的本地设置。\n",
    "\n",
    "我们都很喜欢收到课程的反馈，所以请随时与我们联系！"
   ]
  },
  {
   "cell_type": "markdown",
   "id": "ac081c66",
   "metadata": {},
   "source": [
    "## 报告问题\n",
    "\n",
    "上文提到，其中一种联系我们的方式是通过我们的[问题跟踪器](https://github.com/QuantEcon/lecture-intro.zh-cn/issues)提出问题。\n",
    "\n",
    "请尽可能具体。告诉我们问题所在，以及尽可能多的关于你本地设置的细节（比如环境变量、操作系统、Python版本等）。\n",
    "\n",
    "如果你能提供一个最小的可重现代码片段，那就更好了。\n",
    "\n",
    "最后，您可以直接向[contact@quantecon.org](mailto:contact@quantecon.org)提供反馈。"
   ]
  }
 ],
 "metadata": {
  "date": 1742186711.993833,
  "filename": "troubleshooting.md",
  "kernelspec": {
   "display_name": "Python",
   "language": "python3",
   "name": "python3"
  },
  "title": "故障排除"
 },
 "nbformat": 4,
 "nbformat_minor": 5
}