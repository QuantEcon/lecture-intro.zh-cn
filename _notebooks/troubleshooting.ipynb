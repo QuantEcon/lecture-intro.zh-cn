{
 "cells": [
  {
   "cell_type": "markdown",
   "id": "b991900f",
   "metadata": {},
   "source": [
    "\n",
    "<a id='troubleshooting'></a>"
   ]
  },
  {
   "cell_type": "markdown",
   "id": "50f67902",
   "metadata": {},
   "source": [
    "# 故障排除\n",
    "\n",
    "本页面旨在帮助读者解决执行讲座代码时遇到的错误。"
   ]
  },
  {
   "cell_type": "markdown",
   "id": "f9c6bbf9",
   "metadata": {},
   "source": [
    "## 修复您的本地环境\n",
    "\n",
    "讲座的基本假设是：只要\n",
    "\n",
    "1. 在Jupyter笔记本中执行代码，并且  \n",
    "1. 笔记本在安装了最新版Anaconda Python的机器上运行。  \n",
    "\n",
    "\n",
    "你已经安装了Anaconda，是吧，按照[这节课](https://python-programming.quantecon.org/getting_started.html)中的指引？\n",
    "\n",
    "假设你已经安装了，我们读者最常见的问题是他们的Anaconda发行版不是最新的。\n",
    "\n",
    "[这里有一篇有用的文章](https://www.anaconda.com/blog/keeping-anaconda-date)\n",
    "讲述如何更新Anaconda。\n",
    "\n",
    "另一个选项是简单地卸载Anaconda并重新安装。\n",
    "\n",
    "你还需要更新外部代码库，例如[QuantEcon.py](https://quantecon.org/quantecon-py)。\n",
    "\n",
    "为此，你可以\n",
    "\n",
    "- 在命令行中使用 conda install -y quantecon，或  \n",
    "- 在Jupyter笔记本中执行 !conda install -y quantecon。  \n",
    "\n",
    "\n",
    "如果您的本地环境依然无法工作，你可以做两件事。\n",
    "\n",
    "首先，你可以通过点击每个教程提供的启动笔记本图标改用远程机器\n",
    "\n",
    "![https://intro.quantecon.org/_static/lecture_specific/troubleshooting/launch.png](https://intro.quantecon.org/_static/lecture_specific/troubleshooting/launch.png)\n",
    "\n",
    "其次，你可以报告一个问题，这样我们可以尝试修复您的本地设置。\n",
    "\n",
    "我们喜欢收到课程的反馈，所以请随时与我们联系。"
   ]
  },
  {
   "cell_type": "markdown",
   "id": "97cc44a0",
   "metadata": {},
   "source": [
    "## 报告问题\n",
    "\n",
    "一种反馈方式是通过我们的[问题跟踪器](https://github.com/QuantEcon/lecture-python/issues)提出问题。\n",
    "\n",
    "请尽可能具体。告诉我们问题所在，以及尽可能多的关于您本地设置的细节。\n",
    "\n",
    "另一个反馈选项是使用我们的[论坛](https://discourse.quantecon.org/)。\n",
    "\n",
    "最后，您可以直接向[contact@quantecon.org](mailto:contact@quantecon.org)提供反馈。"
   ]
  }
 ],
 "metadata": {
  "date": 1741385957.0141115,
  "filename": "troubleshooting.md",
  "kernelspec": {
   "display_name": "Python",
   "language": "python3",
   "name": "python3"
  },
  "title": "故障排除"
 },
 "nbformat": 4,
 "nbformat_minor": 5
}