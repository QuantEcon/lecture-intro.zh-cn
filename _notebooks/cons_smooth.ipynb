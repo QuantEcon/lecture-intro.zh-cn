{
 "cells": [
  {
   "cell_type": "markdown",
   "id": "8e67ea15",
   "metadata": {},
   "source": [
    "# 消费平滑"
   ]
  },
  {
   "cell_type": "markdown",
   "id": "6134ecb4",
   "metadata": {},
   "source": [
    "## 概述\n",
    "\n",
    "在本讲座中，我们将研究米尔顿·弗里德曼(Milton Friedman) [[Friedman, 1956](https://quantecon.github.io/lecture-intro.zh-cn/zreferences.html#id183)]和罗伯特霍尔(Robert Hall) [[Hall, 1978](https://quantecon.github.io/lecture-intro.zh-cn/zreferences.html#id184)]提出的一个著名的”消费函数”模型，该模型旨在拟合一些实证数据模式，这些模式是原始凯恩斯消费函数（参阅[几何级数](https://quantecon.github.io/lecture-intro.zh-cn/geom_series.html)）所忽略的。\n",
    "\n",
    "在本讲座中，我们将使用矩阵乘法和矩阵求逆来研究通常称为”消费平滑模型”的内容，这些工具与我们在QuantEcon讲座[现值](https://quantecon.github.io/lecture-intro.zh-cn/pv.html)中使用的工具相同。\n",
    "\n",
    "[现值公式](https://quantecon.github.io/lecture-intro.zh-cn/pv.html)中提出的公式是消费平滑模型的核心，因为我们将使用它们来定义消费者的”人力财富”。\n",
    "\n",
    "米尔顿·弗里德曼的关键想法是，一个人的非金融收入（即他或她从工作中获得的工资）可以被视为该人”人力资本”的股息流，并且可以应用标准资产定价公式来计算一个人的”非金融财富”，这种财富将收入流资本化。\n",
    "\n",
    ">**Note**\n",
    ">\n",
    ">正如我们将在QuantEcon讲座[均衡差异模型](https://quantecon.github.io/lecture-intro.zh-cn/equalizing_difference.html)中看到的，米尔顿·弗里德曼在他在哥伦比亚大学的博士论文中使用了这个想法，最终发表在[[Kuznets and Friedman, 1939](https://quantecon.github.io/lecture-intro.zh-cn/zreferences.html#id9)]和[[Friedman and Kuznets, 1945](https://quantecon.github.io/lecture-intro.zh-cn/zreferences.html#id10)]中。\n",
    "\n",
    "在本讲中，”现值”或资产价格的概念不会立马出现，但当它出现时，它将成为一个关键角色。"
   ]
  },
  {
   "cell_type": "markdown",
   "id": "729a984b",
   "metadata": {},
   "source": [
    "## 分析\n",
    "\n",
    "像往常一样，我们将从导入一些Python模块开始。"
   ]
  },
  {
   "cell_type": "code",
   "execution_count": null,
   "id": "d6ee5f82",
   "metadata": {
    "hide-output": false
   },
   "outputs": [],
   "source": [
    "import numpy as np\n",
    "import matplotlib.pyplot as plt\n",
    "from collections import namedtuple\n",
    "\n",
    "import matplotlib as mpl\n",
    "FONTPATH = \"fonts/SourceHanSerifSC-SemiBold.otf\"\n",
    "mpl.font_manager.fontManager.addfont(FONTPATH)\n",
    "plt.rcParams['font.family'] = ['Source Han Serif SC']"
   ]
  },
  {
   "cell_type": "markdown",
   "id": "b16d2f63",
   "metadata": {},
   "source": [
    "该模型描述了一个从生活在时间 $ t=0, 1, \\ldots, T $ 的消费者。\n",
    "\n",
    "消费者接收非金融收入流 $ \\{y_t\\}_{t=0}^T $，并选择消费流 $ \\{c_t\\}_{t=0}^T $。\n",
    "\n",
    "我们通常认为非金融收入流来自于个人提供劳动的工资。\n",
    "\n",
    "该模型将非金融收入流作为输入，将其视为”外生”，即不由模型决定。\n",
    "\n",
    "消费者面临固定的总利率 $ R >1 $，她可以自由借贷，但有限制条件，我们将在下面描述。\n",
    "\n",
    "为设置模型，让：\n",
    "\n",
    "- $ T \\geq 2 $ 为一个正整数，构成时间范围。  \n",
    "- $ y = \\{y_t\\}_{t=0}^T $ 为外生的非负非金融收入 $ y_t $ 序列。  \n",
    "- $ a = \\{a_t\\}_{t=0}^{T+1} $ 为金融财富序列。  \n",
    "- $ c = \\{c_t\\}_{t=0}^T $ 为非负消费率序列。  \n",
    "- $ R \\geq 1 $ 为固定的金融资产一期总回报率。  \n",
    "- $ \\beta \\in (0,1) $ 为固定的折现因子。  \n",
    "- $ a_0 $ 为给定的初始金融资产水平。  \n",
    "- $ a_{T+1} \\geq 0 $ 为最终资产的终端条件。  \n",
    "\n",
    "\n",
    "金融财富序列 $ a $ 由模型决定。\n",
    "\n",
    "它必须满足两个**边界条件**：\n",
    "\n",
    "- 在时间 0 时必须等于外生值 $ a_0 $  \n",
    "- 在时间 $ T+1 $ 时必须等于或超过外生值 $ a_{T+1} $。  \n",
    "\n",
    "\n",
    "**终端条件** $ a_{T+1} \\geq 0 $ 要求消费者不能带着债务离开模型。\n",
    "\n",
    "（我们很快会看到，一个效用最大化的消费者不会想留下正资产就死去，所以她会安排她的资产使得 $ a_{T+1} = 0 $。）\n",
    "\n",
    "消费者面临一系列预算约束，这些约束限制了序列 $ (y, c, a) $\n",
    "\n",
    "\n",
    "<a id='equation-eq-a-t'></a>\n",
    "$$\n",
    "a_{t+1} = R (a_t+ y_t - c_t), \\quad t =0, 1, \\ldots T \\tag{12.1}\n",
    "$$\n",
    "\n",
    "方程 [(12.1)](#equation-eq-a-t) 构成了 $ T+1 $ 个这样的预算约束，每个 $ t=0, 1, \\ldots, T $ 对应一个。\n",
    "\n",
    "给定非金融收入序列 $ y $，大量的（金融财富，消费）序列对 $ (a, c) $ 满足预算约束序列 [(12.1)](#equation-eq-a-t)。\n",
    "\n",
    "我们的模型有以下逻辑流程：\n",
    "\n",
    "- 从外生非金融收入序列 $ y $、初始金融财富 $ a_0 $ 和候选消费路径 $ c $ 开始。  \n",
    "- 使用方程系统 [(12.1)](#equation-eq-a-t)（$ t=0, \\ldots, T $）计算金融财富路径 $ a $。  \n",
    "- 验证 $ a_{T+1} $ 是否满足终端财富约束 $ a_{T+1} \\geq 0 $。  \n",
    "  - 如果满足，声明该候选路径是**预算可行的**。  \n",
    "  - 如果候选消费路径不是预算可行的，提出一个不那么贪婪的消费路径并重新开始。  \n",
    "\n",
    "\n",
    "下面，我们将描述如何使用线性代数——矩阵求逆和乘法来执行这些步骤。\n",
    "\n",
    "上述程序似乎是找到”预算可行”消费路径 $ c $ 的合理方法，即与外生非金融收入流 $ y $、初始金融资产水平 $ a_0 $ 和终端资产水平 $ a_{T+1} $ 一致的路径。\n",
    "\n",
    "一般来说，有**许多**预算可行的消费路径 $ c $。\n",
    "\n",
    "在所有预算可行的消费路径中，消费者应该想要哪一个？\n",
    "\n",
    "为回答这个问题，我们最终将使用以下效用函数或**福利标准**来评估替代的预算可行消费路径 $ c $：\n",
    "\n",
    "\n",
    "<a id='equation-welfare'></a>\n",
    "$$\n",
    "W = \\sum_{t=0}^T \\beta^t (g_1 c_t - \\frac{g_2}{2} c_t^2 ) \\tag{12.2}\n",
    "$$\n",
    "\n",
    "其中 $ g_1 > 0, g_2 > 0 $。\n",
    "\n",
    "当 $ \\beta R \\approx 1 $ 时，效用函数 $ g_1 c_t - \\frac{g_2}{2} c_t^2 $ 具有递减的边际效用，这赋予了对平滑消费的偏好。\n",
    "\n",
    "事实上，我们将看到，当 $ \\beta R = 1 $（这是米尔顿·弗里德曼 [[Friedman, 1956](https://quantecon.github.io/lecture-intro.zh-cn/zreferences.html#id183)] 和 罗伯特霍尔 [[Hall, 1978](https://quantecon.github.io/lecture-intro.zh-cn/zreferences.html#id184)] 所假设的条件）时，标准 [(12.2)](#equation-welfare) 会为更平滑的消费路径分配更高的福利。\n",
    "\n",
    "所谓**更平滑**，我们指的是尽可能接近随时间保持恒定。\n",
    "\n",
    "模型中内置的对平滑消费路径的偏好使其被称为”消费平滑模型”。\n",
    "\n",
    "让我们深入进行一些计算，这将帮助我们理解模型的工作原理。\n",
    "\n",
    "这里我们使用默认参数 $ R = 1.05 $，$ g_1 = 1 $，$ g_2 = 1/2 $，以及 $ T = 65 $。\n",
    "\n",
    "我们创建一个Python的*命名元组*（`namedtuple`）来存储这些带有默认值的参数。"
   ]
  },
  {
   "cell_type": "code",
   "execution_count": null,
   "id": "0bce1b00",
   "metadata": {
    "hide-output": false
   },
   "outputs": [],
   "source": [
    "ConsumptionSmoothing = namedtuple(\"ConsumptionSmoothing\", \n",
    "                        [\"R\", \"g1\", \"g2\", \"β_seq\", \"T\"])\n",
    "\n",
    "def create_consumption_smoothing_model(R=1.05, g1=1, g2=1/2, T=65):\n",
    "    β = 1/R\n",
    "    β_seq = np.array([β**i for i in range(T+1)])\n",
    "    return ConsumptionSmoothing(R, g1, g2, \n",
    "                                β_seq, T)"
   ]
  },
  {
   "cell_type": "markdown",
   "id": "af3bad9d",
   "metadata": {},
   "source": [
    "## 弗里德曼-霍尔消费平滑模型\n",
    "\n",
    "一个关键概念是弥尔顿·弗里德曼所称的时间 0 的”人力”或”非金融”财富：\n",
    "\n",
    "$$\n",
    "h_0 \\equiv \\sum_{t=0}^T R^{-t} y_t = \\begin{bmatrix} 1 & R^{-1} & \\cdots & R^{-T} \\end{bmatrix}\n",
    "\\begin{bmatrix} y_0 \\cr y_1  \\cr \\vdots \\cr y_T \\end{bmatrix}\n",
    "$$\n",
    "\n",
    "时间 0 的人力或非金融财富显然就是消费者非金融收入流 $ y $ 的现值。\n",
    "\n",
    "从形式上看，它与我们在 QuantEcon 讲座 [现值](https://quantecon.github.io/lecture-intro.zh-cn/pv.html) 中计算的资产价格非常相似。\n",
    "\n",
    "事实上，这就是为什么弥尔顿·弗里德曼称之为”人力资本”。\n",
    "\n",
    "通过迭代方程 [(12.1)](#equation-eq-a-t) 并施加终端条件\n",
    "\n",
    "$$\n",
    "a_{T+1} = 0,\n",
    "$$\n",
    "\n",
    "可以将一系列预算约束 [(12.1)](#equation-eq-a-t) 转换为单一的跨期约束\n",
    "\n",
    "\n",
    "<a id='equation-eq-budget-intertemp'></a>\n",
    "$$\n",
    "\\sum_{t=0}^T R^{-t} c_t = a_0 + h_0. \\tag{12.3}\n",
    "$$\n",
    "\n",
    "方程 [(12.3)](#equation-eq-budget-intertemp) 表明消费流的现值等于金融和非金融（或人力）财富的总和。\n",
    "\n",
    "罗伯特·霍尔 [[Hall, 1978](https://quantecon.github.io/lecture-intro.zh-cn/zreferences.html#id184)] 证明，当 $ \\beta R = 1 $ 时（这也是弥尔顿·弗里德曼假设的条件），消费者通过设置\n",
    "\n",
    "$$\n",
    "c_t = c_0 \\quad t =0, 1, \\ldots, T\n",
    "$$\n",
    "\n",
    "来平滑消费是”最优”的。\n",
    "（稍后我们将提出一个”变分论证”，说明当 $ \\beta R =1 $ 时，这个常数路径最大化了准则 [(12.2)](#equation-welfare)。）\n",
    "\n",
    "在这种情况下，我们可以使用跨期预算约束来写出\n",
    "\n",
    "\n",
    "<a id='equation-eq-conssmoothing'></a>\n",
    "$$\n",
    "c_t = c_0  = \\left(\\sum_{t=0}^T R^{-t}\\right)^{-1} (a_0 + h_0), \\quad t= 0, 1, \\ldots, T. \\tag{12.4}\n",
    "$$\n",
    "\n",
    "方程 [(12.4)](#equation-eq-conssmoothing) 简明扼要地概括了消费平滑模型。"
   ]
  },
  {
   "cell_type": "markdown",
   "id": "c8005923",
   "metadata": {},
   "source": [
    "## 消费平滑模型的机制\n",
    "\n",
    "按照承诺，我们将提供逐步说明，说明如何使用线性代数（在 Python 中很好实现）来计算消费平滑模型中涉及的所有对象。\n",
    "\n",
    "在以下计算中，我们将设置 $ R > 1 $ 的默认值，例如 $ R = 1.05 $，并且 $ \\beta = R^{-1} $。"
   ]
  },
  {
   "cell_type": "markdown",
   "id": "6ed04cab",
   "metadata": {},
   "source": [
    "### 步骤 1\n",
    "\n",
    "对于 $ (T+1) \\times 1 $ 向量 $ y $，使用矩阵代数计算 $ h_0 $\n",
    "\n",
    "$$\n",
    "h_0 = \\sum_{t=0}^T R^{-t} y_t = \\begin{bmatrix} 1 & R^{-1} & \\cdots & R^{-T} \\end{bmatrix}\n",
    "\\begin{bmatrix} y_0 \\cr y_1  \\cr \\vdots \\cr y_T \\end{bmatrix}\n",
    "$$"
   ]
  },
  {
   "cell_type": "markdown",
   "id": "0c4845c9",
   "metadata": {},
   "source": [
    "### 步骤 2\n",
    "\n",
    "计算时间 0 的消费 $ c_0 $：\n",
    "\n",
    "$$\n",
    "c_t = c_0 = \\left( \\frac{1 - R^{-1}}{1 - R^{-(T+1)}} \\right) (a_0 + \\sum_{t=0}^T R^{-t} y_t ) , \\quad t = 0, 1, \\ldots, T\n",
    "$$"
   ]
  },
  {
   "cell_type": "markdown",
   "id": "93a07a7f",
   "metadata": {},
   "source": [
    "### 步骤 3\n",
    "\n",
    "使用方程系统 [(12.1)](#equation-eq-a-t)（对于 $ t=0, \\ldots, T $）来计算金融财富路径 $ a $。\n",
    "\n",
    "为此，我们将该差分方程系统转换为单个矩阵方程，如下所示：\n",
    "\n",
    "$$\n",
    "\\begin{bmatrix} \n",
    "1 & 0 & 0 & \\cdots & 0 & 0 & 0 \\cr\n",
    "-R & 1 & 0 & \\cdots & 0 & 0 & 0 \\cr\n",
    "0 & -R & 1 & \\cdots & 0 & 0 & 0 \\cr\n",
    "\\vdots  &\\vdots & \\vdots & \\cdots & \\vdots & \\vdots & \\vdots \\cr\n",
    "0 & 0 & 0 & \\cdots & -R & 1 & 0 \\cr\n",
    "0 & 0 & 0 & \\cdots & 0 & -R & 1\n",
    "\\end{bmatrix} \n",
    "\\begin{bmatrix} a_1 \\cr a_2 \\cr a_3 \\cr \\vdots \\cr a_T \\cr a_{T+1} \n",
    "\\end{bmatrix}\n",
    "= R \n",
    "\\begin{bmatrix} y_0 + a_0 - c_0 \\cr y_1 - c_0 \\cr y_2 - c_0 \\cr \\vdots\\cr y_{T-1} - c_0 \\cr y_T - c_0\n",
    "\\end{bmatrix}\n",
    "$$\n",
    "\n",
    "将两边都乘以左侧矩阵的逆矩阵来计算\n",
    "\n",
    "$$\n",
    "\\begin{bmatrix} a_1 \\cr a_2 \\cr a_3 \\cr \\vdots \\cr a_T \\cr a_{T+1} \\end{bmatrix}\n",
    "$$\n",
    "\n",
    "因为我们在计算中已经设定消费者离开模型时恰好没有资产，刚好满足终端条件 $ a_{T+1} \\geq 0 $，所以应该得到\n",
    "\n",
    "$$\n",
    "a_{T+1} = 0.\n",
    "$$\n",
    "\n",
    "让我们用 Python 代码来验证这一点。\n",
    "\n",
    "首先，我们用 `compute_optimal` 来实现模型"
   ]
  },
  {
   "cell_type": "code",
   "execution_count": null,
   "id": "1eedcc24",
   "metadata": {
    "hide-output": false
   },
   "outputs": [],
   "source": [
    "def compute_optimal(model, a0, y_seq):\n",
    "    R, T = model.R, model.T\n",
    "\n",
    "    # 非金融财富\n",
    "    h0 = model.β_seq @ y_seq     # 因为 β = 1/R\n",
    "\n",
    "    # c0\n",
    "    c0 = (1 - 1/R) / (1 - (1/R)**(T+1)) * (a0 + h0)\n",
    "    c_seq = c0*np.ones(T+1)\n",
    "\n",
    "    A = np.diag(-R*np.ones(T), k=-1) + np.eye(T+1)\n",
    "    b = y_seq - c_seq\n",
    "    b[0] = b[0] + a0\n",
    "\n",
    "    a_seq = np.linalg.inv(A) @ b\n",
    "    a_seq = np.concatenate([[a0], a_seq])\n",
    "\n",
    "    return c_seq, a_seq, h0"
   ]
  },
  {
   "cell_type": "markdown",
   "id": "2b45e96d",
   "metadata": {},
   "source": [
    "我们使用一个例子，其中消费者继承了 $ a_0<0 $。\n",
    "\n",
    "这可以被解释为学生贷款。\n",
    "\n",
    "非金融过程 $ \\{y_t\\}_{t=0}^{T} $ 在 $ t=45 $ 之前保持恒定且为正值，之后变为零。\n",
    "\n",
    "生命后期非金融收入的下降反映了退休。"
   ]
  },
  {
   "cell_type": "code",
   "execution_count": null,
   "id": "acb64d2e",
   "metadata": {
    "hide-output": false
   },
   "outputs": [],
   "source": [
    "# 金融财富\n",
    "a0 = -2     # 比如学生贷款\n",
    "\n",
    "# 非金融收入过程\n",
    "y_seq = np.concatenate([np.ones(46), np.zeros(20)])\n",
    "\n",
    "cs_model = create_consumption_smoothing_model()\n",
    "c_seq, a_seq, h0 = compute_optimal(cs_model, a0, y_seq)\n",
    "\n",
    "print('检查 a_T+1=0:', \n",
    "      np.abs(a_seq[-1] - 0) <= 1e-8)"
   ]
  },
  {
   "cell_type": "markdown",
   "id": "8e483eac",
   "metadata": {},
   "source": [
    "下图展示了非金融收入，消费和金融资产的路径。"
   ]
  },
  {
   "cell_type": "code",
   "execution_count": null,
   "id": "4c6382fd",
   "metadata": {
    "hide-output": false
   },
   "outputs": [],
   "source": [
    "# 序列长度\n",
    "T = cs_model.T\n",
    "\n",
    "plt.plot(range(T+1), y_seq, label='非金融收入')\n",
    "plt.plot(range(T+1), c_seq, label='消费')\n",
    "plt.plot(range(T+2), a_seq, label='金融财富')\n",
    "plt.plot(range(T+2), np.zeros(T+2), '--')\n",
    "\n",
    "plt.legend()\n",
    "plt.xlabel(r'$t$')\n",
    "plt.ylabel(r'$c_t,y_t,a_t$')\n",
    "plt.show()"
   ]
  },
  {
   "cell_type": "markdown",
   "id": "b2d3da9c",
   "metadata": {},
   "source": [
    "如我们所预期的一样， $ a_{T+1} = 0 $。\n",
    "\n",
    "我们可以测量福利标准  [(12.2)](#equation-welfare)"
   ]
  },
  {
   "cell_type": "code",
   "execution_count": null,
   "id": "41c89619",
   "metadata": {
    "hide-output": false
   },
   "outputs": [],
   "source": [
    "def welfare(model, c_seq):\n",
    "    β_seq, g1, g2 = model.β_seq, model.g1, model.g2\n",
    "\n",
    "    u_seq = g1 * c_seq - g2/2 * c_seq**2\n",
    "    return β_seq @ u_seq\n",
    "\n",
    "print('福利:', welfare(cs_model, c_seq))"
   ]
  },
  {
   "cell_type": "markdown",
   "id": "0b537749",
   "metadata": {},
   "source": [
    "### 实验\n",
    "\n",
    "在本节中，我们描述了消费序列如何对不同的非金融收入序列做出最佳反应。\n",
    "\n",
    "首先，我们创建一个名为`plot_cs`的函数，用于为`cs_model`（消费平滑模型）的不同实例生成图表。\n",
    "\n",
    "这个函数可以帮我们避免为不同的非金融收入序列重写绘图代码。"
   ]
  },
  {
   "cell_type": "code",
   "execution_count": null,
   "id": "8915937e",
   "metadata": {
    "hide-output": false
   },
   "outputs": [],
   "source": [
    "def plot_cs(model,    # 消费平滑模型      \n",
    "            a0,       # 初始金融财富\n",
    "            y_seq     # 非金融收入过程\n",
    "           ):\n",
    "    \n",
    "    # 计算最优消费\n",
    "    c_seq, a_seq, h0 = compute_optimal(model, a0, y_seq)\n",
    "    \n",
    "    # 序列长度\n",
    "    T = cs_model.T\n",
    "    \n",
    "    # 绘图\n",
    "    T = cs_model.T\n",
    "    \n",
    "    fig, axes = plt.subplots(1, 2, figsize=(12,5))\n",
    "    \n",
    "    axes[0].plot(range(T+1), y_seq, label='非金融收入', lw=2)\n",
    "    axes[0].plot(range(T+1), c_seq, label='消费', lw=2)\n",
    "    axes[1].plot(range(T+2), a_seq, label='金融资产', color='green', lw=2)\n",
    "    axes[0].set_ylabel(r'$c_t,y_t$')\n",
    "    axes[1].set_ylabel(r'$a_t$')\n",
    "    \n",
    "    for ax in axes:\n",
    "        ax.plot(range(T+2), np.zeros(T+2), '--', lw=1, color='black')\n",
    "        ax.legend()\n",
    "        ax.set_xlabel(r'$t$')\n",
    "    \n",
    "    plt.show()"
   ]
  },
  {
   "cell_type": "markdown",
   "id": "d6bbc196",
   "metadata": {},
   "source": [
    "在下面的实验中，请研究消费和金融资产序列如何随着不同的非金融收入序列而变化。"
   ]
  },
  {
   "cell_type": "markdown",
   "id": "80a563e7",
   "metadata": {},
   "source": [
    "#### 实验1：一次性收益/损失\n",
    "\n",
    "我们首先假设在收入序列$ y $的第21年有一次性的意外收入$ W_0 $。\n",
    "\n",
    "我们会使$ W_0 $的数值较大 - 正值表示一次性意外收入，负值表示一次性”灾难”。"
   ]
  },
  {
   "cell_type": "code",
   "execution_count": null,
   "id": "8678d3bd",
   "metadata": {
    "hide-output": false
   },
   "outputs": [],
   "source": [
    "# 一次性意外收入W_0 = 2.5\n",
    "y_seq_pos = np.concatenate([np.ones(21), np.array([2.5]), np.ones(24), np.zeros(20)])\n",
    "\n",
    "plot_cs(cs_model, a0, y_seq_pos)"
   ]
  },
  {
   "cell_type": "code",
   "execution_count": null,
   "id": "a487d369",
   "metadata": {
    "hide-output": false
   },
   "outputs": [],
   "source": [
    "# 灾难 W_0 = -2.5\n",
    "y_seq_neg = np.concatenate([np.ones(21), np.array([-2.5]), np.ones(24), np.zeros(20)])\n",
    "\n",
    "plot_cs(cs_model, a0, y_seq_neg)"
   ]
  },
  {
   "cell_type": "markdown",
   "id": "5de83022",
   "metadata": {},
   "source": [
    "#### 实验2：永久性工资增加/减少\n",
    "\n",
    "现在我们假设在$ y $序列的第21年，收入永久性增加$ W $。\n",
    "\n",
    "同样，我们可以研究正面和负面的情况。"
   ]
  },
  {
   "cell_type": "code",
   "execution_count": null,
   "id": "da6beb3d",
   "metadata": {
    "hide-output": false
   },
   "outputs": [],
   "source": [
    "# 在 t >= 21 后收入永久增加 W = 0.5\n",
    "y_seq_pos = np.concatenate(\n",
    "    [np.ones(21), 1.5*np.ones(25), np.zeros(20)])\n",
    "\n",
    "plot_cs(cs_model, a0, y_seq_pos)"
   ]
  },
  {
   "cell_type": "code",
   "execution_count": null,
   "id": "d5fb0366",
   "metadata": {
    "hide-output": false
   },
   "outputs": [],
   "source": [
    "# t >= 21 后收入永久减少 W = -0.5\n",
    "y_seq_neg = np.concatenate(\n",
    "    [np.ones(21), .5*np.ones(25), np.zeros(20)])\n",
    "\n",
    "plot_cs(cs_model, a0, y_seq_neg)"
   ]
  },
  {
   "cell_type": "markdown",
   "id": "da05a9be",
   "metadata": {},
   "source": [
    "#### 实验3：晚期起步者\n",
    "\n",
    "现在我们模拟一个$ y $序列，其中一个人在前46年收入为零，然后在生命的最后20年工作并获得2的收入（一个”晚起步者”）。"
   ]
  },
  {
   "cell_type": "code",
   "execution_count": null,
   "id": "d5e6025a",
   "metadata": {
    "hide-output": false
   },
   "outputs": [],
   "source": [
    "# 晚起步者\n",
    "y_seq_late = np.concatenate(\n",
    "    [np.ones(46), 2*np.ones(20)])\n",
    "\n",
    "plot_cs(cs_model, a0, y_seq_late)"
   ]
  },
  {
   "cell_type": "markdown",
   "id": "0317be8a",
   "metadata": {},
   "source": [
    "#### 实验4：几何增长收入者\n",
    "\n",
    "现在我们模拟一个几何 $ y $ 序列，其中一个人在前46年获得 $ y_t = \\lambda^t y_0 $ 的收入。\n",
    "\n",
    "我们首先尝试 $ \\lambda = 1.05 $"
   ]
  },
  {
   "cell_type": "code",
   "execution_count": null,
   "id": "1a150692",
   "metadata": {
    "hide-output": false
   },
   "outputs": [],
   "source": [
    "# 几何收入增长者 λ = 1.05\n",
    "λ = 1.05\n",
    "y_0 = 1\n",
    "t_max = 46\n",
    "\n",
    "# 创建几何序列 y \n",
    "geo_seq = λ ** np.arange(t_max) * y_0 \n",
    "y_seq_geo = np.concatenate(\n",
    "            [geo_seq, np.zeros(20)])\n",
    "\n",
    "plot_cs(cs_model, a0, y_seq_geo)"
   ]
  },
  {
   "cell_type": "markdown",
   "id": "517e16cd",
   "metadata": {},
   "source": [
    "我现在我们展示当$ \\lambda = 0.95 $的行为。"
   ]
  },
  {
   "cell_type": "code",
   "execution_count": null,
   "id": "aaa3df3b",
   "metadata": {
    "hide-output": false
   },
   "outputs": [],
   "source": [
    "λ = 0.95\n",
    "\n",
    "geo_seq = λ ** np.arange(t_max) * y_0 \n",
    "y_seq_geo = np.concatenate(\n",
    "            [geo_seq, np.zeros(20)])\n",
    "\n",
    "plot_cs(cs_model, a0, y_seq_geo)"
   ]
  },
  {
   "cell_type": "markdown",
   "id": "39891226",
   "metadata": {},
   "source": [
    "当$ \\lambda $为负的时候会发生什么"
   ]
  },
  {
   "cell_type": "code",
   "execution_count": null,
   "id": "5fd81ea6",
   "metadata": {
    "hide-output": false
   },
   "outputs": [],
   "source": [
    "λ = -0.95\n",
    "\n",
    "geo_seq = λ ** np.arange(t_max) * y_0 + 1\n",
    "y_seq_geo = np.concatenate(\n",
    "            [geo_seq, np.ones(20)])\n",
    "\n",
    "plot_cs(cs_model, a0, y_seq_geo)"
   ]
  },
  {
   "cell_type": "markdown",
   "id": "9a0c22ee",
   "metadata": {},
   "source": [
    "### 可行的消费变化\n",
    "\n",
    "我们之前说过本讲会证明恒定消费计划 $ c_t = c_0 $（对所有 $ t $）是最优的。现在让我们来做这个证明。\n",
    "\n",
    "我们将采用”变分法”。\n",
    "\n",
    "为了探索哪些类型的消费路径能改善福利，我们将创建一个**可接受的消费路径变化序列** $ \\{v_t\\}_{t=0}^T $，满足：\n",
    "\n",
    "$$\n",
    "\\sum_{t=0}^T R^{-t} v_t = 0\n",
    "$$\n",
    "\n",
    "这个等式表明可接受的消费路径变化的**现值**必须为零。\n",
    "\n",
    "所以我们再次遇到了一个”资产”现值的公式：\n",
    "\n",
    "- 我们要求消费路径变化的现值为零。  \n",
    "\n",
    "\n",
    "在这里，我们将限制自己使用一个两参数类的可接受消费路径变化，形式如下：\n",
    "\n",
    "$$\n",
    "v_t = \\xi_1 \\phi^t - \\xi_0\n",
    "$$\n",
    "\n",
    "我们说上面的式子是两个而不是三个参数类，因为 $ \\xi_0 $ 将是 $ (\\phi, \\xi_1; R) $ 的函数。\n",
    "\n",
    "让我们来计算这个函数。\n",
    "\n",
    "我们要求：\n",
    "\n",
    "$$\n",
    "\\sum_{t=0}^T R^{-t}\\left[ \\xi_1 \\phi^t - \\xi_0 \\right] = 0\n",
    "$$\n",
    "\n",
    "这意味着：\n",
    "\n",
    "$$\n",
    "\\xi_1 \\sum_{t=0}^T \\phi_t R^{-t} - \\xi_0 \\sum_{t=0}^T R^{-t} = 0\n",
    "$$\n",
    "\n",
    "进而意味着：\n",
    "\n",
    "$$\n",
    "\\xi_1 \\frac{1 - (\\phi R^{-1})^{T+1}}{1 - \\phi R^{-1}} - \\xi_0 \\frac{1 - R^{-(T+1)}}{1-R^{-1} } =0\n",
    "$$\n",
    "\n",
    "最终得到：\n",
    "\n",
    "$$\n",
    "\\xi_0 = \\xi_0(\\phi, \\xi_1; R) = \\xi_1 \\left(\\frac{1 - R^{-1}}{1 - R^{-(T+1)}}\\right) \\left(\\frac{1 - (\\phi R^{-1})^{T+1}}{1 - \\phi R^{-1}}\\right)\n",
    "$$\n",
    "\n",
    "这就是我们的 $ \\xi_0 $ 公式。\n",
    "\n",
    "**关键思想：**如果 $ c^o $ 是一个预算可行的消费路径，那么 $ c^o + v $ 也是，其中 $ v $ 是一个预算可行的变化。\n",
    "\n",
    "给定 $ R $，我们因此有一个两参数类的预算可行变化 $ v $，可以用来计算替代消费路径，然后评估它们的福利。\n",
    "\n",
    "现在让我们计算并绘制消费路径变化。"
   ]
  },
  {
   "cell_type": "code",
   "execution_count": null,
   "id": "448a18d6",
   "metadata": {
    "hide-output": false
   },
   "outputs": [],
   "source": [
    "def compute_variation(model, ξ1, ϕ, a0, y_seq, verbose=1):\n",
    "    R, T, β_seq = model.R, model.T, model.β_seq\n",
    "\n",
    "    ξ0 = ξ1*((1 - 1/R) / (1 - (1/R)**(T+1))) * ((1 - (ϕ/R)**(T+1)) / (1 - ϕ/R))\n",
    "    v_seq = np.array([(ξ1*ϕ**t - ξ0) for t in range(T+1)])\n",
    "    \n",
    "    if verbose == 1:\n",
    "        print('检查:', np.isclose(β_seq @ v_seq, 0))     # since β = 1/R\n",
    "\n",
    "    c_opt, _, _ = compute_optimal(model, a0, y_seq)\n",
    "    cvar_seq = c_opt + v_seq\n",
    "\n",
    "    return cvar_seq"
   ]
  },
  {
   "cell_type": "markdown",
   "id": "65f07277",
   "metadata": {},
   "source": [
    "我们绘制$ \\xi_1 \\in \\{.01, .05\\} $ and $ \\phi \\in \\{.95, 1.02\\} $的变化"
   ]
  },
  {
   "cell_type": "code",
   "execution_count": null,
   "id": "6686e00d",
   "metadata": {
    "hide-output": false
   },
   "outputs": [],
   "source": [
    "fig, ax = plt.subplots()\n",
    "\n",
    "ξ1s = [.01, .05]\n",
    "ϕs= [.95, 1.02]\n",
    "colors = {.01: 'tab:blue', .05: 'tab:green'}\n",
    "\n",
    "params = np.array(np.meshgrid(ξ1s, ϕs)).T.reshape(-1, 2)\n",
    "\n",
    "for i, param in enumerate(params):\n",
    "    ξ1, ϕ = param\n",
    "    print(f'变化 {i}: ξ1={ξ1}, ϕ={ϕ}')\n",
    "    cvar_seq = compute_variation(model=cs_model, \n",
    "                                 ξ1=ξ1, ϕ=ϕ, a0=a0, \n",
    "                                 y_seq=y_seq)\n",
    "    print(f'福利={welfare(cs_model, cvar_seq)}')\n",
    "    print('-'*64)\n",
    "    if i % 2 == 0:\n",
    "        ls = '-.'\n",
    "    else: \n",
    "        ls = '-'  \n",
    "    ax.plot(range(T+1), cvar_seq, ls=ls, \n",
    "            color=colors[ξ1], \n",
    "            label=fr'$\\xi_1 = {ξ1}, \\phi = {ϕ}$')\n",
    "\n",
    "plt.plot(range(T+1), c_seq, \n",
    "         color='orange', label=r'最优 $\\vec{c}$ ')\n",
    "\n",
    "plt.legend()\n",
    "plt.xlabel(r'$t$')\n",
    "plt.ylabel(r'$c_t$')\n",
    "plt.show()"
   ]
  },
  {
   "cell_type": "markdown",
   "id": "152bf3d4",
   "metadata": {},
   "source": [
    "我们甚至可以使用 Python 的 `np.gradient` 命令来计算福利对我们两个参数的导数。\n",
    "\n",
    "我们正在教授**变分法**背后的关键思想。\n",
    "\n",
    "首先，我们定义关于 $ \\xi_1 $ 和 $ \\phi $ 的福利函数"
   ]
  },
  {
   "cell_type": "code",
   "execution_count": null,
   "id": "0520c73c",
   "metadata": {
    "hide-output": false
   },
   "outputs": [],
   "source": [
    "def welfare_rel(ξ1, ϕ):\n",
    "    \"\"\"\n",
    "    计算给定 ϕ 和 ξ1 的变分序列的福利\n",
    "    使用消费平滑模型\n",
    "    \"\"\"\n",
    "\n",
    "    \n",
    "    cvar_seq = compute_variation(cs_model, ξ1=ξ1, \n",
    "                                 ϕ=ϕ, a0=a0, \n",
    "                                 y_seq=y_seq, \n",
    "                                 verbose=0)\n",
    "    return welfare(cs_model, cvar_seq)\n",
    "\n",
    "#向量化函数以允许数组输入\n",
    "welfare_vec = np.vectorize(welfare_rel)"
   ]
  },
  {
   "cell_type": "markdown",
   "id": "d61dd1e6",
   "metadata": {},
   "source": [
    "现在我们可以将福利和$ \\xi_1 $的关系可视化并且计算其导数"
   ]
  },
  {
   "cell_type": "code",
   "execution_count": null,
   "id": "9bbbb13e",
   "metadata": {
    "hide-output": false
   },
   "outputs": [],
   "source": [
    "ξ1_arr = np.linspace(-0.5, 0.5, 20)\n",
    "\n",
    "plt.plot(ξ1_arr, welfare_vec(ξ1_arr, 1.02))\n",
    "plt.ylabel('福利')\n",
    "plt.xlabel(r'$\\xi_1$')\n",
    "plt.show()\n",
    "\n",
    "welfare_grad = welfare_vec(ξ1_arr, 1.02)\n",
    "welfare_grad = np.gradient(welfare_grad)\n",
    "plt.plot(ξ1_arr, welfare_grad)\n",
    "plt.ylabel('福利的导数')\n",
    "plt.xlabel(r'$\\xi_1$')\n",
    "plt.show()"
   ]
  },
  {
   "cell_type": "markdown",
   "id": "eb747065",
   "metadata": {},
   "source": [
    "同理，对$ \\phi $"
   ]
  },
  {
   "cell_type": "code",
   "execution_count": null,
   "id": "97e2fc05",
   "metadata": {
    "hide-output": false
   },
   "outputs": [],
   "source": [
    "ϕ_arr = np.linspace(-0.5, 0.5, 20)\n",
    "\n",
    "plt.plot(ξ1_arr, welfare_vec(0.05, ϕ_arr))\n",
    "plt.ylabel('福利')\n",
    "plt.xlabel(r'$\\phi$')\n",
    "plt.show()\n",
    "\n",
    "welfare_grad = welfare_vec(0.05, ϕ_arr)\n",
    "welfare_grad = np.gradient(welfare_grad)\n",
    "plt.plot(ξ1_arr, welfare_grad)\n",
    "plt.ylabel('福利的导数')\n",
    "plt.xlabel(r'$\\phi$')\n",
    "plt.show()"
   ]
  },
  {
   "cell_type": "markdown",
   "id": "e728e152",
   "metadata": {},
   "source": [
    "## 消费平滑模型总结\n",
    "\n",
    "米尔顿·弗里德曼 [[Friedman, 1956](https://quantecon.github.io/lecture-intro.zh-cn/zreferences.html#id183)] 和罗伯特·霍尔 [[Hall, 1978](https://quantecon.github.io/lecture-intro.zh-cn/zreferences.html#id184)] 的消费平滑模型是现代宏观经济学的基石，对QuantEcon讲座 [几何级数](https://quantecon.github.io/lecture-intro.zh-cn/geom_series.html) 中简要描述的凯恩斯”财政政策乘数”的大小有重要影响。\n",
    "\n",
    "特别是，相对于 [几何级数](https://quantecon.github.io/lecture-intro.zh-cn/geom_series.html) 中提到的凯恩斯消费函数所给出的乘数，它**降低**了政府支出乘数。\n",
    "\n",
    "弗里德曼的工作为研究总消费函数和相关政府支出乘数开辟了一个富有启发性的领域，这一领域至今仍然活跃。"
   ]
  },
  {
   "cell_type": "markdown",
   "id": "9c201b2b",
   "metadata": {},
   "source": [
    "## 附录：用线性代数解差分方程\n",
    "\n",
    "在前面的章节中，我们使用线性代数来解决消费平滑模型。\n",
    "\n",
    "同样的线性代数工具——矩阵乘法和矩阵求逆——可以用来研究许多其他动态模型。\n",
    "\n",
    "我们将通过给出几个例子来结束本讲座。\n",
    "\n",
    "我们将描述一种十分有用的表达和”求解”线性差分方程的方法。\n",
    "\n",
    "为了生成一些 $ y $ 向量，我们只需写下一个具有适当初始条件的线性差分方程，然后使用线性代数来求解。"
   ]
  },
  {
   "cell_type": "markdown",
   "id": "e63eb9e1",
   "metadata": {},
   "source": [
    "### 一阶差分方程\n",
    "\n",
    "我们将从 $ \\{y_t\\}_{t=0}^T $ 的一阶线性差分方程开始：\n",
    "\n",
    "$$\n",
    "y_{t} = \\lambda y_{t-1}, \\quad t = 1, 2, \\ldots, T\n",
    "$$\n",
    "\n",
    "其中 $ y_0 $ 是给定的初始条件。\n",
    "\n",
    "我们可以将这组 $ T $ 个方程表示为单个矩阵方程\n",
    "\n",
    "\n",
    "<a id='equation-eq-first-order-lin-diff'></a>\n",
    "$$\n",
    "\\begin{bmatrix} \n",
    "1 & 0 & 0 & \\cdots & 0 & 0 \\cr\n",
    "-\\lambda & 1 & 0 & \\cdots & 0 & 0 \\cr\n",
    "0 & -\\lambda & 1 & \\cdots & 0 & 0 \\cr\n",
    " \\vdots & \\vdots & \\vdots & \\cdots & \\vdots & \\vdots \\cr\n",
    "0 & 0 & 0 & \\cdots & -\\lambda & 1 \n",
    "\\end{bmatrix} \n",
    "\\begin{bmatrix}\n",
    "y_1 \\cr y_2 \\cr y_3 \\cr \\vdots \\cr y_T \n",
    "\\end{bmatrix}\n",
    "= \n",
    "\\begin{bmatrix} \n",
    "\\lambda y_0 \\cr 0 \\cr 0 \\cr \\vdots \\cr 0 \n",
    "\\end{bmatrix} \\tag{12.5}\n",
    "$$\n",
    "\n",
    "将 [(12.5)](#equation-eq-first-order-lin-diff) 两边乘以左侧矩阵的逆矩阵，得到解\n",
    "\n",
    "\n",
    "<a id='equation-fst-ord-inverse'></a>\n",
    "$$\n",
    "\\begin{bmatrix} \n",
    "y_1 \\cr y_2 \\cr y_3 \\cr \\vdots \\cr y_T \n",
    "\\end{bmatrix} \n",
    "= \n",
    "\\begin{bmatrix} \n",
    "1 & 0 & 0 & \\cdots & 0 & 0 \\cr\n",
    "\\lambda & 1 & 0 & \\cdots & 0 & 0 \\cr\n",
    "\\lambda^2 & \\lambda & 1 & \\cdots & 0 & 0 \\cr\n",
    " \\vdots & \\vdots & \\vdots & \\cdots & \\vdots & \\vdots \\cr\n",
    "\\lambda^{T-1} & \\lambda^{T-2} & \\lambda^{T-3} & \\cdots & \\lambda & 1 \n",
    "\\end{bmatrix}\n",
    "\\begin{bmatrix} \n",
    "\\lambda y_0 \\cr 0 \\cr 0 \\cr \\vdots \\cr 0 \n",
    "\\end{bmatrix} \\tag{12.6}\n",
    "$$"
   ]
  },
  {
   "cell_type": "markdown",
   "id": "ccd46237",
   "metadata": {},
   "source": [
    "### Exercise 12.1\n",
    "\n",
    "为了得到 [(12.6)](#equation-fst-ord-inverse)，我们将 [(12.5)](#equation-eq-first-order-lin-diff) 的两边都乘以矩阵 $ A $ 的逆矩阵。请确认\n",
    "\\$\\$\n",
    "\n",
    "\n",
    "<a id='equation-fe76f435-677c-4205-89f0-f8aacde83587'></a>\n",
    "$$\n",
    "\\begin{bmatrix} \n",
    "1 & 0 & 0 & \\cdots & 0 & 0 \\cr\n",
    "\\lambda & 1 & 0 & \\cdots & 0 & 0 \\cr\n",
    "\\lambda^2 & \\lambda & 1 & \\cdots & 0 & 0 \\cr\n",
    " \\vdots & \\vdots & \\vdots & \\cdots & \\vdots & \\vdots \\cr\n",
    "\\lambda^{T-1} & \\lambda^{T-2} & \\lambda^{T-3} & \\cdots & \\lambda & 1 \n",
    "\\end{bmatrix} \\tag{12.7}\n",
    "$$\n",
    "\n",
    "\\$$ 是 $A$ 的逆矩阵，并检查 $A A^{-1} = I\\$ 是否成立。"
   ]
  },
  {
   "cell_type": "markdown",
   "id": "05741145",
   "metadata": {},
   "source": [
    "### 二阶差分方程\n",
    "\n",
    "对于序列 $ \\{y_t\\}_{t=0}^T $，二阶线性差分方程为：\n",
    "\n",
    "$$\n",
    "y_{t} = \\lambda_1 y_{t-1} + \\lambda_2 y_{t-2}, \\quad t = 1, 2, \\ldots, T\n",
    "$$\n",
    "\n",
    "其中 $ y_0 $ 和 $ y_{-1} $ 是在模型外部确定的两个给定初始条件。\n",
    "\n",
    "与一阶差分方程类似，我们可以将这 $ T $ 个方程表示为单个矩阵方程：\n",
    "\n",
    "$$\n",
    "\\begin{bmatrix} \n",
    "1 & 0 & 0 & \\cdots & 0 & 0 & 0 \\cr\n",
    "-\\lambda_1 & 1 & 0 & \\cdots & 0 & 0 & 0 \\cr\n",
    "-\\lambda_2 & -\\lambda_1 & 1 & \\cdots & 0 & 0 & 0 \\cr\n",
    " \\vdots & \\vdots & \\vdots & \\cdots & \\vdots & \\vdots \\cr\n",
    "0 & 0 & 0 & \\cdots & -\\lambda_2 & -\\lambda_1 & 1 \n",
    "\\end{bmatrix} \n",
    "\\begin{bmatrix} \n",
    "y_1 \\cr y_2 \\cr y_3 \\cr \\vdots \\cr y_T \n",
    "\\end{bmatrix}\n",
    "= \n",
    "\\begin{bmatrix} \n",
    "\\lambda_1 y_0 + \\lambda_2 y_{-1} \\cr \\lambda_2 y_0 \\cr 0 \\cr \\vdots \\cr 0 \n",
    "\\end{bmatrix}\n",
    "$$\n",
    "\n",
    "再次对等式两边乘以左侧矩阵的逆矩阵即可得到解。"
   ]
  },
  {
   "cell_type": "markdown",
   "id": "5750fd5f",
   "metadata": {},
   "source": [
    "### Exercise 12.2\n",
    "\n",
    "作为练习，我们要求你表示并求解一个**三阶线性差分方程**。\n",
    "\n",
    "你必须指定多少个初始条件？"
   ]
  }
 ],
 "metadata": {
  "date": 1742374750.4802983,
  "filename": "cons_smooth.md",
  "kernelspec": {
   "display_name": "Python",
   "language": "python3",
   "name": "python3"
  },
  "title": "消费平滑"
 },
 "nbformat": 4,
 "nbformat_minor": 5
}