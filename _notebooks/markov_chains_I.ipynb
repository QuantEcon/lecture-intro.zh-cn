{
 "cells": [
  {
   "cell_type": "markdown",
   "id": "ea13e69b",
   "metadata": {},
   "source": [
    "# 马尔科夫链：基本概念\n",
    "\n",
    "\n",
    "<a id='index-0'></a>\n",
    "除了 Anaconda 中的自带函数库之外，本讲还需要以下函数库，可以通过以下指令下载："
   ]
  },
  {
   "cell_type": "code",
   "execution_count": null,
   "id": "e0aa40d1",
   "metadata": {
    "hide-output": false
   },
   "outputs": [],
   "source": [
    "!pip install quantecon"
   ]
  },
  {
   "cell_type": "markdown",
   "id": "f4203f39",
   "metadata": {},
   "source": [
    "## 概述\n",
    "\n",
    "马尔科夫链提供了一种在过去对未来有影响的情况下进行建模的方法。\n",
    "\n",
    "也就是说，观察当前情况的一些指标可以帮助我们预测未来的情况。\n",
    "\n",
    "当在不同时间点对某事物的指标之间存在统计依赖时，这样的作法是可行的。\n",
    "\n",
    "例如，\n",
    "\n",
    "- 明年的通货膨胀可能与今年的通货膨胀有着相互关联的变化  \n",
    "- 下个月的失业率可能与本月的失业率有着相互关联的变化  \n",
    "\n",
    "\n",
    "马尔科夫链是经济学和金融学的一个重要工具。\n",
    "\n",
    "马尔科夫链理论是美丽的，并为概率和动态变化相关的领域提供了许多见解。\n",
    "\n",
    "在本讲中，我们将\n",
    "\n",
    "- 回顾马尔科夫链理论中的一些关键思想，并  \n",
    "- 展示马尔科夫链在经济学中的应用。  \n",
    "\n",
    "\n",
    "让我们从一些通常的函数包导入开始："
   ]
  },
  {
   "cell_type": "code",
   "execution_count": null,
   "id": "ac5431df",
   "metadata": {
    "hide-output": false
   },
   "outputs": [],
   "source": [
    "import matplotlib.pyplot as plt\n",
    "import quantecon as qe\n",
    "import numpy as np\n",
    "import networkx as nx\n",
    "from matplotlib import cm\n",
    "import matplotlib as mpl\n",
    "from mpl_toolkits.mplot3d import Axes3D\n",
    "from matplotlib.animation import FuncAnimation\n",
    "from IPython.display import HTML\n",
    "from matplotlib.patches import Polygon\n",
    "from mpl_toolkits.mplot3d.art3d import Poly3DCollection"
   ]
  },
  {
   "cell_type": "markdown",
   "id": "dbbe13b8",
   "metadata": {},
   "source": [
    "## 定义与示例\n",
    "\n",
    "在本节中，我们将提供一些定义和基本示例。\n",
    "\n",
    "\n",
    "<a id='finite-dp-stoch-mat'></a>"
   ]
  },
  {
   "cell_type": "markdown",
   "id": "43d49c31",
   "metadata": {},
   "source": [
    "### 随机矩阵\n",
    "\n",
    "**概率质量函数**是一个 $ n $ 个可能结果上的非负 $ n $-维向量 $ p $，向量内所有元素总和为 1。\n",
    "\n",
    "例如，$ p = (0.2, 0.2, 0.6) $ 是一个三个结果上的概率质量函数。\n",
    "\n",
    "**随机矩阵**（或**马尔科夫矩阵**）是一个 $ n \\times n $ 的矩阵 $ P $，其中 $ P $ 的每一行都是一个 $ n $ 个结果上的概率质量函数。\n",
    "\n",
    "也就是说，\n",
    "\n",
    "1. $ P $ 的每个元素都是非负的，且  \n",
    "1. $ P $ 的每一行的和为 1  \n",
    "\n",
    "\n",
    "如果 $ P $ 是一个随机矩阵，则对于所有 $ k \\in \\mathbb N $，$ P^k $ 也是一个随机矩阵。\n",
    "\n",
    "你将在[一个练习](#mc1_ex_3)中验证这一点。"
   ]
  },
  {
   "cell_type": "markdown",
   "id": "9808edf0",
   "metadata": {},
   "source": [
    "### 马尔科夫链\n",
    "\n",
    "现在我们可以引入马尔科夫链。\n",
    "\n",
    "在严格定义马尔科夫链之前，我们先给出一些示例。\n",
    "\n",
    "\n",
    "<a id='mc-eg2'></a>"
   ]
  },
  {
   "cell_type": "markdown",
   "id": "f0dd81cb",
   "metadata": {},
   "source": [
    "#### 示例 1\n",
    "\n",
    "根据美国失业数据，Hamilton [[Hamilton, 2005](https://intro.quantecon.org/zreferences.html#id187)] 估算了以下动态变化。\n",
    "\n",
    "![https://intro.quantecon.org/_static/lecture_specific/markov_chains_I/Hamilton.png](https://intro.quantecon.org/_static/lecture_specific/markov_chains_I/Hamilton.png)\n",
    "\n",
    "这里可以分为三个**状态**：\n",
    "\n",
    "- “ng” 表示正常增长(normal growth)  \n",
    "- “mr” 表示轻度衰退(mild recession)  \n",
    "- “sr” 表示严重衰退(severe recession)  \n",
    "\n",
    "\n",
    "箭头代表一个月内的转移概率。\n",
    "\n",
    "例如，从轻度衰退到正常增长的箭头旁边有 0.145。\n",
    "\n",
    "这告诉我们，根据过去的数据，从轻度衰退转移到正常增长的概率为 14.5%。\n",
    "\n",
    "从正常增长回到正常增长的箭头告诉我们，从正常增长转移到正常增长（保持在同一状态）的概率为 97%。\n",
    "\n",
    "请注意，这些转移概率其实是条件概率——从一个状态转移到另一个状态（或保持在同一状态）的概率是以当前状态为条件的。\n",
    "\n",
    "为了便于数值处理，让我们用数字来表示状态。\n",
    "\n",
    "具体来说，我们约定\n",
    "\n",
    "- 状态 0 代表正常增长  \n",
    "- 状态 1 代表轻度衰退  \n",
    "- 状态 2 代表严重衰退  \n",
    "\n",
    "\n",
    "令 $ X_t $ 记录时间 $ t $ 时的状态值。\n",
    "\n",
    "现在我们可以将“轻度衰退转移到正常增长的概率为 14.5%”的陈述写为\n",
    "\n",
    "$$\n",
    "\\mathbb P\\{X_{t+1} = 0 \\,|\\, X_t = 1\\} = 0.145\n",
    "$$\n",
    "\n",
    "我们可以将所有这些条件概率写到一个矩阵中，如下所示：\n",
    "\n",
    "$$\n",
    "P =\n",
    "\\begin{bmatrix}\n",
    "0.971 & 0.029 & 0 \\\\\n",
    "0.145 & 0.778 & 0.077 \\\\\n",
    "0 & 0.508 & 0.492\n",
    "\\end{bmatrix}\n",
    "$$\n",
    "\n",
    "注意，$ P $ 是一个随机矩阵。\n",
    "\n",
    "现在我们有以下关系：\n",
    "\n",
    "$$\n",
    "P(i,j)\n",
    "    = \\mathbb P\\{X_{t+1} = j \\,|\\, X_t = i\\}\n",
    "$$\n",
    "\n",
    "这对于任何 $ i,j $ 在 0 到 2 之间都成立。\n",
    "\n",
    "在此之中，$ P(i,j) $ 是在一个月后从状态 $ i $ 转移到状态 $ j $ 的概率。\n",
    "\n",
    "\n",
    "<a id='mc-eg1'></a>"
   ]
  },
  {
   "cell_type": "markdown",
   "id": "6cb35e29",
   "metadata": {},
   "source": [
    "#### 示例 2\n",
    "\n",
    "考虑一个工人，在任何给定时间 $ t $，他要么处于失业状态（状态 0），要么处于就业状态（状态 1）。\n",
    "\n",
    "假设在一个月内，\n",
    "\n",
    "1. 失业的工人以概率 $ \\alpha \\in (0, 1) $ 找到工作。  \n",
    "1. 就业的工人以概率 $ \\beta \\in (0, 1) $ 失去工作并变成失业状态。  \n",
    "\n",
    "\n",
    "根据上述信息，我们可以将转移概率写成矩阵形式\n",
    "\n",
    "\n",
    "<a id='equation-p-unempemp'></a>\n",
    "$$\n",
    "P =\n",
    "\\begin{bmatrix}\n",
    "    1 - \\alpha & \\alpha \\\\\n",
    "    \\beta & 1 - \\beta\n",
    "\\end{bmatrix} \\tag{33.1}\n",
    "$$\n",
    "\n",
    "例如，\n",
    "\n",
    "$$\n",
    "\\begin{aligned}\n",
    "    P(0,1)\n",
    "        & =\n",
    "        \\text{ 从状态 \\$0\\$ 转移到状态 \\$1\\$ 的概率（一个月内）}\n",
    "        \\\\\n",
    "        & =\n",
    "        \\text{ 下个月找到工作的概率}\n",
    "        \\\\\n",
    "        & = \\alpha\n",
    "\\end{aligned}\n",
    "$$\n",
    "\n",
    "假设我们可以估计 $ \\alpha $ 和 $ \\beta $ 的值。\n",
    "\n",
    "那么我们可以解决一系列问题，例如\n",
    "\n",
    "- 失业的平均持续时间是多少？  \n",
    "- 从长期来看，工人失业的时间占总时间的多少？  \n",
    "- 在就业的条件下，工人在接下来的 12 个月内至少失业一次的概率是多少？  \n",
    "\n",
    "\n",
    "我们将在下面讨论其中一些应用。\n",
    "\n",
    "\n",
    "<a id='mc-eg3'></a>"
   ]
  },
  {
   "cell_type": "markdown",
   "id": "2842611f",
   "metadata": {},
   "source": [
    "#### 示例 3\n",
    "\n",
    "Imam 和 Temple [[Imam and Temple, 2023](https://intro.quantecon.org/zreferences.html#id289)] 将政治制度分类为三种类型：民主 $ \\text{(D)} $，专制 $ \\text{(A)} $ 和一个称为无政府状态的中间状态 $ \\text{(N)} $。\n",
    "\n",
    "每种制度都可以有两种可能的发展模式：崩溃 $ \\text{(C)} $ 和增长 $ \\text{(G)} $。这导致了六种可能的状态：$ \\text{DG, DC, NG, NC, AG} $ 和 $ \\text{AC} $。\n",
    "\n",
    "Imam 和 Temple [[Imam and Temple, 2023](https://intro.quantecon.org/zreferences.html#id289)] 估计了以下转移概率：\n",
    "\n",
    "$$\n",
    "P :=\n",
    "\\begin{bmatrix}\n",
    "0.86 & 0.11 & 0.03 & 0.00 & 0.00 & 0.00 \\\\\n",
    "0.52 & 0.33 & 0.13 & 0.02 & 0.00 & 0.00 \\\\\n",
    "0.12 & 0.03 & 0.70 & 0.11 & 0.03 & 0.01 \\\\\n",
    "0.13 & 0.02 & 0.35 & 0.36 & 0.10 & 0.04 \\\\\n",
    "0.00 & 0.00 & 0.09 & 0.11 & 0.55 & 0.25 \\\\\n",
    "0.00 & 0.00 & 0.09 & 0.15 & 0.26 & 0.50\n",
    "\\end{bmatrix}\n",
    "$$"
   ]
  },
  {
   "cell_type": "code",
   "execution_count": null,
   "id": "f7b91d10",
   "metadata": {
    "hide-output": false
   },
   "outputs": [],
   "source": [
    "nodes = ['DG', 'DC', 'NG', 'NC', 'AG', 'AC']\n",
    "P = [[0.86, 0.11, 0.03, 0.00, 0.00, 0.00],\n",
    "     [0.52, 0.33, 0.13, 0.02, 0.00, 0.00],\n",
    "     [0.12, 0.03, 0.70, 0.11, 0.03, 0.01],\n",
    "     [0.13, 0.02, 0.35, 0.36, 0.10, 0.04],\n",
    "     [0.00, 0.00, 0.09, 0.11, 0.55, 0.25],\n",
    "     [0.00, 0.00, 0.09, 0.15, 0.26, 0.50]]"
   ]
  },
  {
   "cell_type": "markdown",
   "id": "a9f3947d",
   "metadata": {},
   "source": [
    "下面是可视化图，颜色越深表示概率越高。"
   ]
  },
  {
   "cell_type": "code",
   "execution_count": null,
   "id": "bcb0b302",
   "metadata": {
    "hide-output": false
   },
   "outputs": [],
   "source": [
    "G = nx.MultiDiGraph()\n",
    "\n",
    "for start_idx, node_start in enumerate(nodes):\n",
    "    for end_idx, node_end in enumerate(nodes):\n",
    "        value = P[start_idx][end_idx]\n",
    "        if value != 0:\n",
    "            G.add_edge(node_start,node_end, weight=value)\n",
    "\n",
    "pos = nx.spring_layout(G, seed=10)\n",
    "fig, ax = plt.subplots()\n",
    "nx.draw_networkx_nodes(G, pos, node_size=600, edgecolors='black', node_color='white')\n",
    "nx.draw_networkx_labels(G, pos)\n",
    "\n",
    "arc_rad = 0.2\n",
    "\n",
    "edges = nx.draw_networkx_edges(G, pos, ax=ax, connectionstyle=f'arc3, rad = {arc_rad}', edge_cmap=cm.Blues, width=2,\n",
    "    edge_color=[G[nodes[0]][nodes[1]][0]['weight'] for nodes in G.edges])\n",
    "\n",
    "pc = mpl.collections.PatchCollection(edges, cmap=cm.Blues)\n",
    "\n",
    "ax = plt.gca()\n",
    "ax.set_axis_off()\n",
    "plt.colorbar(pc, ax=ax)\n",
    "plt.show()"
   ]
  },
  {
   "cell_type": "markdown",
   "id": "6ccaaddc",
   "metadata": {},
   "source": [
    "查看数据后，我们发现民主政体的增长期通常比专制政体更长（这体现在专制政体中从增长到增长的转移概率较低）。\n",
    "\n",
    "我们还可以发现，在民主政体中，从崩溃到增长的概率较高。"
   ]
  },
  {
   "cell_type": "markdown",
   "id": "9689d59b",
   "metadata": {},
   "source": [
    "### 定义马尔科夫链\n",
    "\n",
    "到目前为止，我们已经给出了马尔科夫链的示例，但还没有对其进行定义。\n",
    "\n",
    "现在让我们进行定义。\n",
    "\n",
    "首先，设 $ S $ 是一个有限集合 $ \\{x_1, \\ldots, x_n\\} $，其中包含 $ n $ 个元素。\n",
    "\n",
    "集合 $ S $ 被称为**状态空间**，$ x_1, \\ldots, x_n $ 被称为**状态值**。\n",
    "\n",
    "一个分布 $ \\psi $ 在 $ S $ 上是一个长度为 $ n $ 的概率质量函数，其中 $ \\psi(i) $ 是分配给状态 $ x_i $ 的概率。\n",
    "\n",
    "在 $ S $ 上的**马尔科夫链** $ \\{X_t\\} $ 是一个取值于 $ S $ 的随机变量序列，且具有**马尔科夫性质**。\n",
    "\n",
    "也就是，对于任何时间 $ t $ 和任何状态 $ y \\in S $，\n",
    "\n",
    "\n",
    "<a id='equation-fin-markov-mp'></a>\n",
    "$$\n",
    "\\mathbb P \\{ X_{t+1} = y  \\,|\\, X_t \\}\n",
    "= \\mathbb P \\{ X_{t+1}  = y \\,|\\, X_t, X_{t-1}, \\ldots \\} \\tag{33.2}\n",
    "$$\n",
    "\n",
    "这意味着一旦我们知道当前状态 $ X_t $，添加之前状态 $ X_{t-1}, X_{t-2} $ 不会对未来状态的概率提供额外信息。\n",
    "\n",
    "因此，马尔科夫链的动态完全由**条件概率**的集合决定：\n",
    "\n",
    "\n",
    "<a id='equation-mpp'></a>\n",
    "$$\n",
    "P(x, y) := \\mathbb P \\{ X_{t+1} = y \\,|\\, X_t = x \\}\n",
    "\\qquad (x, y \\in S) \\tag{33.3}\n",
    "$$\n",
    "\n",
    "根据构造，\n",
    "\n",
    "- $ P(x, y) $ 是从 $ x $ 到 $ y $ 在一个时间单位（一步）内的转移概率  \n",
    "- $ P(x, \\cdot) $ 是给定 $ X_t = x $ 时，$ X_{t+1} $ 的条件分布  \n",
    "\n",
    "\n",
    "我们可以将 $ P $ 视为一个随机矩阵，其中\n",
    "\n",
    "$$\n",
    "P_{ij} = P(x_i, x_j)\n",
    "    \\qquad 1 \\leq i, j \\leq n\n",
    "$$\n",
    "\n",
    "反过来，如果我们取一个随机矩阵 $ P $，我们可以按如下方式生成一个马尔科夫链 $ \\{X_t\\} $：\n",
    "\n",
    "- 从 $ S $ 上的分布 $ \\psi_0 $ 中抽取 $ X_0 $  \n",
    "- 对于每个 $ t = 0, 1, \\ldots $，从 $ P(X_t, \\cdot) $ 中抽取 $ X_{t+1} $  \n",
    "\n",
    "\n",
    "通过构造，所得的过程满足 [(33.3)](#equation-mpp)。"
   ]
  },
  {
   "cell_type": "markdown",
   "id": "20cd4ef3",
   "metadata": {},
   "source": [
    "## 模拟\n",
    "\n",
    "\n",
    "<a id='index-1'></a>\n",
    "学习马尔科夫链的一个好方法是模拟它们。\n",
    "\n",
    "让我们先自己独立试着模拟，然后再使用能够帮助我们的函数库进行模拟。\n",
    "\n",
    "在接下来的练习中，我们将状态空间设为 $ S = 0,\\ldots, n-1 $。\n",
    "\n",
    "（我们从 $ 0 $ 开始，因为 Python 数组是从 $ 0 $ 索引的。）"
   ]
  },
  {
   "cell_type": "markdown",
   "id": "f5cd65b5",
   "metadata": {},
   "source": [
    "### 编写我们自己的模拟代码\n",
    "\n",
    "要模拟一个马尔科夫链，我们需要\n",
    "\n",
    "1. 一个随机矩阵 $ P $ 和  \n",
    "1. 一个长度为 $ n $ 的概率质量函数 $ \\psi_0 $，从中抽取 $ X_0 $ 的初始实现。  \n",
    "\n",
    "\n",
    "然后按照如下方式构建马尔科夫链：\n",
    "\n",
    "1. 在时间 $ t=0 $，从分布 $ \\psi_0 $ 中抽取 $ X_0 $ 的一个实现。  \n",
    "1. 在每个后续时间 $ t $，从 $ P(X_t, \\cdot) $ 中抽取一个新状态 $ X_{t+1} $ 的实现。  \n",
    "\n",
    "\n",
    "（也就是说，从 $ P $ 的第 $ X_t $ 行中抽取。）\n",
    "\n",
    "要实现这个模拟过程，我们需要一种方法从离散分布中生成抽取结果。\n",
    "\n",
    "对于这个任务，我们将使用 [QuantEcon.py](http://quantecon.org/quantecon-py) 中的 `random.draw`。\n",
    "\n",
    "要使用 `random.draw`，我们首先需要将概率质量函数转换为累积分布。"
   ]
  },
  {
   "cell_type": "code",
   "execution_count": null,
   "id": "290da765",
   "metadata": {
    "hide-output": false
   },
   "outputs": [],
   "source": [
    "ψ_0 = (0.3, 0.7)           # {0, 1} 上的概率分布\n",
    "cdf = np.cumsum(ψ_0)       # 转换为累积分布\n",
    "qe.random.draw(cdf, 5)   # 从 ψ 中生成 5 个独立抽取"
   ]
  },
  {
   "cell_type": "markdown",
   "id": "e6b11506",
   "metadata": {},
   "source": [
    "我们将编写一个函数，该函数接受以下三个参数：\n",
    "\n",
    "- 随机矩阵 `P`。  \n",
    "- 初始分布 `ψ_0`。  \n",
    "- 正整数 `ts_length`，表示函数应返回的时间序列的长度。  "
   ]
  },
  {
   "cell_type": "code",
   "execution_count": null,
   "id": "f3810d5f",
   "metadata": {
    "hide-output": false
   },
   "outputs": [],
   "source": [
    "def mc_sample_path(P, ψ_0=None, ts_length=1_000):\n",
    "\n",
    "    # 设置\n",
    "    P = np.asarray(P)\n",
    "    X = np.empty(ts_length, dtype=int)\n",
    "\n",
    "    # 将 P 的每一行转换为累积分布函数（cdf）\n",
    "    P_dist = np.cumsum(P, axis=1)  # 将行转换为 cdf\n",
    "\n",
    "    # 抽取初始状态，默认为 0\n",
    "    if ψ_0 is not None:\n",
    "        X_0 = qe.random.draw(np.cumsum(ψ_0))\n",
    "    else:\n",
    "        X_0 = 0\n",
    "\n",
    "    # 模拟\n",
    "    X[0] = X_0\n",
    "    for t in range(ts_length - 1):\n",
    "        X[t+1] = qe.random.draw(P_dist[X[t], :])\n",
    "\n",
    "    return X"
   ]
  },
  {
   "cell_type": "markdown",
   "id": "05788ee8",
   "metadata": {},
   "source": [
    "让我们看看它是如何工作的，使用一个小的矩阵"
   ]
  },
  {
   "cell_type": "code",
   "execution_count": null,
   "id": "30ce88a0",
   "metadata": {
    "hide-output": false
   },
   "outputs": [],
   "source": [
    "P = [[0.4, 0.6],\n",
    "     [0.2, 0.8]]"
   ]
  },
  {
   "cell_type": "markdown",
   "id": "457e448c",
   "metadata": {},
   "source": [
    "以下是一个短的时间序列。"
   ]
  },
  {
   "cell_type": "code",
   "execution_count": null,
   "id": "afe44662",
   "metadata": {
    "hide-output": false
   },
   "outputs": [],
   "source": [
    "mc_sample_path(P, ψ_0=(1.0, 0.0), ts_length=10)"
   ]
  },
  {
   "cell_type": "markdown",
   "id": "a2ebfb67",
   "metadata": {},
   "source": [
    "可以证明，从矩阵 `P` 中生成的长序列中，取值为 0 的样本占比将约为 0.25。\n",
    "\n",
    "（我们将在[稍后](https://intro.quantecon.org/markov_chains_II.html#ergodicity)解释为什么。）\n",
    "\n",
    "而且，这与 $ X_0 $ 是从哪个初始分布中抽取的无关。\n",
    "\n",
    "下面的代码演示了这一点"
   ]
  },
  {
   "cell_type": "code",
   "execution_count": null,
   "id": "30f858c3",
   "metadata": {
    "hide-output": false
   },
   "outputs": [],
   "source": [
    "X = mc_sample_path(P, ψ_0=(0.1, 0.9), ts_length=1_000_000)\n",
    "np.mean(X == 0)"
   ]
  },
  {
   "cell_type": "markdown",
   "id": "22bca659",
   "metadata": {},
   "source": [
    "您可以尝试更改初始分布，以确认输出总是接近 0.25（对于上述矩阵 `P`）。"
   ]
  },
  {
   "cell_type": "markdown",
   "id": "a40ee062",
   "metadata": {},
   "source": [
    "### 使用 QuantEcon 的例程\n",
    "\n",
    "[QuantEcon.py](http://quantecon.org/quantecon-py) 提供了一些处理马尔科夫链包括模拟的步骤。\n",
    "\n",
    "以下是使用与前例相同的 $ P $ 的说明"
   ]
  },
  {
   "cell_type": "code",
   "execution_count": null,
   "id": "cdf522ad",
   "metadata": {
    "hide-output": false
   },
   "outputs": [],
   "source": [
    "mc = qe.MarkovChain(P)\n",
    "X = mc.simulate(ts_length=1_000_000)\n",
    "np.mean(X == 0)"
   ]
  },
  {
   "cell_type": "markdown",
   "id": "b1dd30e1",
   "metadata": {},
   "source": [
    "`simulate` 例程速度更快（因为它是 [JIT 编译](https://python-programming.quantecon.org/numba.html#numba-link) 的）。"
   ]
  },
  {
   "cell_type": "code",
   "execution_count": null,
   "id": "3f1f3d78",
   "metadata": {
    "hide-output": false
   },
   "outputs": [],
   "source": [
    "%time mc_sample_path(P, ts_length=1_000_000) # 我们自制的代码版本"
   ]
  },
  {
   "cell_type": "code",
   "execution_count": null,
   "id": "87d80401",
   "metadata": {
    "hide-output": false
   },
   "outputs": [],
   "source": [
    "%time mc.simulate(ts_length=1_000_000) # qe 代码版本"
   ]
  },
  {
   "cell_type": "markdown",
   "id": "7fe0e898",
   "metadata": {},
   "source": [
    "#### 添加状态值和初始条件\n",
    "\n",
    "如果需要，我们可以向 `MarkovChain` 提供表示状态的值的规范。\n",
    "\n",
    "这些状态值可以是整数、浮点数，甚至是字符串。\n",
    "\n",
    "以下代码说明了这一点"
   ]
  },
  {
   "cell_type": "code",
   "execution_count": null,
   "id": "8115594a",
   "metadata": {
    "hide-output": false
   },
   "outputs": [],
   "source": [
    "mc = qe.MarkovChain(P, state_values=('失业', '就业'))\n",
    "mc.simulate(ts_length=4, init='就业')  # 从就业初始状态开始"
   ]
  },
  {
   "cell_type": "code",
   "execution_count": null,
   "id": "9b5f996a",
   "metadata": {
    "hide-output": false
   },
   "outputs": [],
   "source": [
    "mc.simulate(ts_length=4, init='失业')  # 从失业初始状态开始"
   ]
  },
  {
   "cell_type": "code",
   "execution_count": null,
   "id": "414d79af",
   "metadata": {
    "hide-output": false
   },
   "outputs": [],
   "source": [
    "mc.simulate(ts_length=4)  # 从随机选择的初始状态开始"
   ]
  },
  {
   "cell_type": "markdown",
   "id": "5492c401",
   "metadata": {},
   "source": [
    "如果我们希望看到状态值对应的索引而不是状态值本身作为输出，我们可以使用"
   ]
  },
  {
   "cell_type": "code",
   "execution_count": null,
   "id": "ae6067d2",
   "metadata": {
    "hide-output": false
   },
   "outputs": [],
   "source": [
    "mc.simulate_indices(ts_length=4)"
   ]
  },
  {
   "cell_type": "markdown",
   "id": "756e2e10",
   "metadata": {},
   "source": [
    "\n",
    "<a id='mc-md'></a>"
   ]
  },
  {
   "cell_type": "markdown",
   "id": "36404631",
   "metadata": {},
   "source": [
    "## 随时间分布\n",
    "\n",
    "我们了解到\n",
    "\n",
    "1. $ \\{X_t\\} $ 是一个具有随机矩阵 $ P $ 的马尔科夫链  \n",
    "1. $ X_t $ 的分布已知为 $ \\psi_t $  \n",
    "\n",
    "\n",
    "那么，$ X_{t+1} $ 的分布是什么？更一般地，$ X_{t+m} $ 的分布是什么？\n",
    "\n",
    "为了回答这个问题，令 $ \\psi_t $ 为 $ X_t $ 的分布，$ t = 0, 1, 2, \\ldots $。\n",
    "\n",
    "我们的第一个目标是找到给定 $ \\psi_t $ 和 $ P $ 时的 $ \\psi_{t + 1} $。\n",
    "\n",
    "首先，选择任意 $ y \\in S $。\n",
    "\n",
    "为了得到明天（$ t+1 $ 时）在 $ y $ 的概率，我们计算所有可能发生的方式，并对它们的概率求和。\n",
    "\n",
    "这导致了\n",
    "\n",
    "$$\n",
    "\\mathbb P \\{X_{t+1} = y \\}\n",
    "   = \\sum_{x \\in S} \\mathbb P \\{ X_{t+1} = y \\, | \\, X_t = x \\}\n",
    "               \\cdot \\mathbb P \\{ X_t = x \\}\n",
    "$$\n",
    "\n",
    "（我们正在使用[全概率公式](https://en.wikipedia.org/wiki/Law_of_total_probability)。）\n",
    "\n",
    "将这一表达式重新写为边缘概率和条件概率的形式：\n",
    "\n",
    "$$\n",
    "\\psi_{t+1}(y) = \\sum_{x \\in S} P(x,y) \\psi_t(x)\n",
    "$$\n",
    "\n",
    "有 $ n $ 个这样的方程，每个 $ y \\in S $ 对应一个方程。\n",
    "\n",
    "如果我们将 $ \\psi_{t+1} $ 和 $ \\psi_t $ 视为行向量，则这 $ n $ 个方程可通过矩阵表达式总结为\n",
    "\n",
    "\n",
    "<a id='equation-fin-mc-fr'></a>\n",
    "$$\n",
    "\\psi_{t+1} = \\psi_t P \\tag{33.4}\n",
    "$$\n",
    "\n",
    "因此，我们通过右乘 $ P $ 将分布向前移动一个时间单位。\n",
    "\n",
    "通过右乘 $ m $ 次，我们将分布向前移动 $ m $ 步进入未来。\n",
    "\n",
    "因此，迭代 [(33.4)](#equation-fin-mc-fr)，表达式 $ \\psi_{t+m} = \\psi_t P^m $ 也是有效的——这里 $ P^m $ 是 $ P $ 的第 $ m $ 次幂。\n",
    "\n",
    "作为一个特例，我们看到，如果 $ \\psi_0 $ 是从中抽取 $ X_0 $ 的初始分布，则 $ \\psi_0 P^m $ 是 $ X_m $ 的概率分布。\n",
    "\n",
    "这非常重要，所以我们重复一下\n",
    "\n",
    "\n",
    "<a id='equation-mdfmc'></a>\n",
    "$$\n",
    "X_0 \\sim \\psi_0 \\quad \\implies \\quad X_m \\sim \\psi_0 P^m \\tag{33.5}\n",
    "$$\n",
    "\n",
    "一般规则是通过右乘 $ P^m $ 将分布向前移动 $ m $ 个时间单位。\n",
    "\n",
    "因此，以下推断也是有效的。\n",
    "\n",
    "\n",
    "<a id='equation-mdfmc2'></a>\n",
    "$$\n",
    "X_t \\sim \\psi_t \\quad \\implies \\quad X_{t+m} \\sim \\psi_t P^m \\tag{33.6}\n",
    "$$\n",
    "\n",
    "\n",
    "<a id='finite-mc-mstp'></a>"
   ]
  },
  {
   "cell_type": "markdown",
   "id": "07d6d0ae",
   "metadata": {},
   "source": [
    "### 多步转移概率\n",
    "\n",
    "我们已知从 $ x $ 到 $ y $ 的一步转移概率是 $ P(x,y) $。\n",
    "\n",
    "实际上，从 $ x $ 到 $ y $ 的 $ m $ 步转移概率是 $ P^m(x,y) $，即 $ P $ 的 $ m $ 次方的 $ (x,y) $ 元素。\n",
    "\n",
    "要理解为什么是这样，请再次考虑 [(33.6)](#equation-mdfmc2)，但现在设 $ \\psi_t $ 将所有可能的结果概率都放在状态 $ x $ 上。\n",
    "\n",
    "此时，$ \\psi_t $ 是一个在 $ x $ 位置为 $ 1 $，在其他地方为 $ 0 $ 的向量。\n",
    "\n",
    "将其代入 [(33.6)](#equation-mdfmc2)，我们看到，条件 $ X_t = x $ 的情况下，$ X_{t+m} $ 的分布是 $ P^m $ 的第 $ x $ 行。\n",
    "\n",
    "特别地，\n",
    "\n",
    "$$\n",
    "\\mathbb P \\{X_{t+m} = y \\,|\\, X_t = x \\} = P^m(x, y) = P^m 的第 (x, y) 元素\n",
    "$$"
   ]
  },
  {
   "cell_type": "markdown",
   "id": "f7330ed8",
   "metadata": {},
   "source": [
    "### 示例：衰退概率\n",
    "\n",
    "\n",
    "<a id='index-2'></a>\n",
    "回顾我们[之前讨论的](#mc-eg2)关于衰退和增长的随机矩阵 $ P $ 。\n",
    "\n",
    "假设当前状态未知——也许统计数据只能在当前月份*结束*时获得。\n",
    "\n",
    "我们假设，在时间 $ t $ 时经济处于状态 $ x $ 的概率是 $ \\psi_t(x) $。\n",
    "\n",
    "那么，6 个月后处于衰退（无论是轻度还是严重衰退）的概率为\n",
    "\n",
    "$$\n",
    "(\\psi_t P^6)(1) + (\\psi_t P^6)(2)\n",
    "$$\n",
    "\n",
    "\n",
    "<a id='mc-eg1-1'></a>"
   ]
  },
  {
   "cell_type": "markdown",
   "id": "440781a7",
   "metadata": {},
   "source": [
    "### 示例 2：横截面分布\n",
    "\n",
    "我们研究的分布可以视为\n",
    "\n",
    "1. 概率，或  \n",
    "1. 横截面频率，即根据大数法则我们预期的大样本中的结果。  \n",
    "\n",
    "\n",
    "为了解释这一点，请回顾我们之前讨论的关于单个工人就业/失业动态的模型 [上面讨论过的](#mc-eg1)。\n",
    "\n",
    "现在考虑一个大的工人群体，每个工人的一生经历都符合指定的动态，每个工人的结果都是与其他工人独立的过程的实现。\n",
    "\n",
    "令 $ \\psi_t $ 为 $ \\{0, 1\\} $ 上的*横截面*分布。\n",
    "\n",
    "横截面分布记录了某一时刻 $ t $ 工人的就业和失业比例。\n",
    "\n",
    "- 例如，$ \\psi_t(0) $ 是时间 $ t $ 的失业率。  \n",
    "\n",
    "\n",
    "10 个周期之后，横截面分布会是什么样子？\n",
    "\n",
    "答案是 $ \\psi_t P^{10} $，其中 $ P $ 是 [(33.1)](#equation-p-unempemp) 中的随机矩阵。\n",
    "\n",
    "这是因为每个工人的状态都根据 $ P $ 变化，因此 $ \\psi_t P^{10} $ 是单个随机选择的工人的[边缘分布](https://en.wikipedia.org/wiki/Marginal_distribution)。\n",
    "\n",
    "但当样本很大时，结果和概率大致相等（通过应用大数法则）。\n",
    "\n",
    "因此，对于一个非常大的（趋向于无限）群体，$ \\psi_t P^{10} $ 也代表处于每个状态的工人比例。\n",
    "\n",
    "这正是横截面分布。\n",
    "\n",
    "\n",
    "<a id='stationary'></a>"
   ]
  },
  {
   "cell_type": "markdown",
   "id": "6054aee4",
   "metadata": {},
   "source": [
    "## 平稳分布\n",
    "\n",
    "如 [(33.4)](#equation-fin-mc-fr) 所示，我们可以通过右乘 $ P $ 将分布向前移动一个时间单位。\n",
    "\n",
    "一些分布在此更新过程中是不变的——例如，"
   ]
  },
  {
   "cell_type": "code",
   "execution_count": null,
   "id": "6a4d0f16",
   "metadata": {
    "hide-output": false
   },
   "outputs": [],
   "source": [
    "P = np.array([[0.4, 0.6],\n",
    "              [0.2, 0.8]])\n",
    "ψ = (0.25, 0.75)\n",
    "ψ @ P"
   ]
  },
  {
   "cell_type": "markdown",
   "id": "57c2d7d0",
   "metadata": {},
   "source": [
    "注意，`ψ @ P` 与 `ψ` 相同（可以验证$ \\psiXP=\\psi $）。\n",
    "\n",
    "这样的分布被称为**平稳**或**不变**分布。\n",
    "\n",
    "\n",
    "<a id='mc-stat-dd'></a>\n",
    "严格的表述如下，如果分布 $ \\psi^* $ 满足 $ \\psi^* P = \\psi^* $，则称其为 $ P $ 的**平稳**分布。\n",
    "\n",
    "注意，通过右乘 $ P $，我们有 $ \\psi^* P^2 = \\psi^* P = \\psi^* $。\n",
    "\n",
    "继续以同样的方式推导得到 $ \\psi^* = \\psi^* P^t $ 对于所有 $ t \\ge 0 $ 成立。\n",
    "\n",
    "这告诉我们一个重要的事实：如果分布 $ \\psi_0 $ 是平稳分布，那么对于所有 $ t \\ge 0 $，$ \\psi_t $ 将具有相同的分布。\n",
    "\n",
    "以下定理在 [[Sargent and Stachurski, 2023](https://intro.quantecon.org/zreferences.html#id24)] 的第 4 章及其他许多来源中得到了证明。"
   ]
  },
  {
   "cell_type": "markdown",
   "id": "25596dac",
   "metadata": {},
   "source": [
    "## \n",
    "\n",
    "每个随机矩阵 $ P $ 至少有一个平稳分布。\n",
    "\n",
    "请注意，对于给定的随机矩阵 $ P $，可能存在多个平稳分布。\n",
    "\n",
    "- 例如，如果 $ P $ 是单位矩阵，那么 $ S $ 上的所有分布都是平稳的。  \n",
    "\n",
    "\n",
    "为了获得唯一性，我们需要马尔科夫链“混合”，以便状态不会卡在状态空间的某一部分。\n",
    "\n",
    "这为以下定理提供了一些直觉。"
   ]
  },
  {
   "cell_type": "markdown",
   "id": "4062c789",
   "metadata": {},
   "source": [
    "## \n",
    "\n",
    "如果 $ P $ 是各处正的，那么 $ P $ 恰好有一个平稳分布。\n",
    "\n",
    "我们将在 [下一讲](https://intro.quantecon.org/markov_chains_II.html) 中引入不可约性时回到这一点。"
   ]
  },
  {
   "cell_type": "markdown",
   "id": "f4b9a4e5",
   "metadata": {},
   "source": [
    "### 示例\n",
    "\n",
    "回顾我们之前讨论的关于特定工人的就业/失业动态的模型 [在上面讨论过的](#mc-eg1)。\n",
    "\n",
    "如果 $ \\alpha \\in (0,1) $ 且 $ \\beta \\in (0,1) $，则转移矩阵在各处为正。\n",
    "\n",
    "设 $ \\psi^* = (p, 1-p) $ 为该转移矩阵的平稳分布，其中 $ p $ 对应失业（状态 0）。\n",
    "\n",
    "使用 $ \\psi^* = \\psi^* P $ 和一些代数推导得到\n",
    "\n",
    "$$\n",
    "p = \\frac{\\beta}{\\alpha + \\beta}\n",
    "$$\n",
    "\n",
    "从某种意义上说，这是失业的稳态概率。\n",
    "\n",
    "不出所料，当 $ \\beta \\to 0 $ 时它趋于 0，当 $ \\alpha \\to 0 $ 时它趋于 1。"
   ]
  },
  {
   "cell_type": "markdown",
   "id": "f6e7485f",
   "metadata": {},
   "source": [
    "### 计算平稳分布\n",
    "\n",
    "[QuantEcon.py](http://quantecon.org/quantecon-py) 实现了计算平稳分布的稳定算法。\n",
    "\n",
    "这里是一个示例"
   ]
  },
  {
   "cell_type": "code",
   "execution_count": null,
   "id": "4766d488",
   "metadata": {
    "hide-output": false
   },
   "outputs": [],
   "source": [
    "P = [[0.4, 0.6],\n",
    "     [0.2, 0.8]]\n",
    "\n",
    "mc = qe.MarkovChain(P)\n",
    "mc.stationary_distributions  # 显示所有平稳分布"
   ]
  },
  {
   "cell_type": "markdown",
   "id": "fa9bc6a8",
   "metadata": {},
   "source": [
    "### 渐进平稳性\n",
    "\n",
    "考虑一个处处为正的随机矩阵，具有唯一的平稳分布 $ \\psi^* $。\n",
    "\n",
    "有时，无论初始分布 $ \\psi_0 $ 如何，$ \\psi_t = \\psi_0 P^t $ 都会收敛到 $ \\psi^* $。\n",
    "\n",
    "例如，我们有以下结果\n",
    "\n",
    "\n",
    "<a id='strict-stationary'></a>"
   ]
  },
  {
   "cell_type": "markdown",
   "id": "a01f37c7",
   "metadata": {},
   "source": [
    "### \n",
    "\n",
    "如果存在一个整数 $ m $，使得 $ P^m $ 的所有元素都为严格正数，则\n",
    "\n",
    "$$\n",
    "\\psi_0 P^t \\to \\psi^*\n",
    "    \\quad \\text{ 当 } t \\to \\infty 时\n",
    "$$\n",
    "\n",
    "其中 $ \\psi^* $ 是唯一的平稳分布。\n",
    "\n",
    "这种情况通常称为**渐进平稳性**或**全局稳定性**。\n",
    "\n",
    "该定理的证明可以在 [[Sargent and Stachurski, 2023](https://intro.quantecon.org/zreferences.html#id24)] 的第4章或许多其他来源中找到。\n",
    "\n",
    "\n",
    "<a id='hamilton'></a>"
   ]
  },
  {
   "cell_type": "markdown",
   "id": "7ee886e7",
   "metadata": {},
   "source": [
    "#### 示例：汉密尔顿链\n",
    "\n",
    "汉密尔顿链满足定理的条件，因为 $ P^2 $ 处处为正："
   ]
  },
  {
   "cell_type": "code",
   "execution_count": null,
   "id": "49693516",
   "metadata": {
    "hide-output": false
   },
   "outputs": [],
   "source": [
    "P = np.array([[0.971, 0.029, 0.000],\n",
    "              [0.145, 0.778, 0.077],\n",
    "              [0.000, 0.508, 0.492]])\n",
    "P @ P"
   ]
  },
  {
   "cell_type": "markdown",
   "id": "8ca8cf4d",
   "metadata": {},
   "source": [
    "我们选择初始分布 $ \\psi_1, \\psi_2, \\psi_3 $，并绘制出分布序列 $ \\psi_i P^t $，对于 $ t = 0, 1, 2, \\ldots $，以及 $ i=1, 2, 3 $。\n",
    "\n",
    "首先，我们编写一个函数，用于迭代分布序列，持续 `ts_length` 个时间段"
   ]
  },
  {
   "cell_type": "code",
   "execution_count": null,
   "id": "c67d2b66",
   "metadata": {
    "hide-output": false
   },
   "outputs": [],
   "source": [
    "def iterate_ψ(ψ_0, P, ts_length):\n",
    "    n = len(P)\n",
    "    ψ_t = np.empty((ts_length, n))\n",
    "    ψ_t[0 ]= ψ_0\n",
    "    for t in range(1, ts_length):\n",
    "        ψ_t[t] = ψ_t[t-1] @ P\n",
    "    return ψ_t"
   ]
  },
  {
   "cell_type": "markdown",
   "id": "36b0f2d8",
   "metadata": {},
   "source": [
    "现在我们绘制序列"
   ]
  },
  {
   "cell_type": "code",
   "execution_count": null,
   "id": "e83b7dea",
   "metadata": {
    "hide-output": false
   },
   "outputs": [],
   "source": [
    "ψ_1 = (0.0, 0.0, 1.0)\n",
    "ψ_2 = (1.0, 0.0, 0.0)\n",
    "ψ_3 = (0.0, 1.0, 0.0)                   # 三个初始条件\n",
    "colors = ['blue','red', 'green']   # 不同颜色表示不同的初始点\n",
    "\n",
    "# 定义单位单纯形的顶点\n",
    "v = np.array([[1, 0, 0], [0, 1, 0], [0, 0, 1], [0, 0, 0]])\n",
    "\n",
    "# 定义单位单纯形的面\n",
    "faces = [\n",
    "    [v[0], v[1], v[2]],\n",
    "    [v[0], v[1], v[3]],\n",
    "    [v[0], v[2], v[3]],\n",
    "    [v[1], v[2], v[3]]\n",
    "]\n",
    "\n",
    "fig = plt.figure()\n",
    "ax = fig.add_subplot(projection='3d')\n",
    "\n",
    "def update(n):    \n",
    "    ax.clear()\n",
    "    ax.set_xlim([0, 1])\n",
    "    ax.set_ylim([0, 1])\n",
    "    ax.set_zlim([0, 1])\n",
    "    ax.view_init(45, 45)\n",
    "    \n",
    "    simplex = Poly3DCollection(faces, alpha=0.03)\n",
    "    ax.add_collection3d(simplex)\n",
    "    \n",
    "    for idx, ψ_0 in enumerate([ψ_1, ψ_2, ψ_3]):\n",
    "        ψ_t = iterate_ψ(ψ_0, P, n+1)\n",
    "        \n",
    "        for i, point in enumerate(ψ_t):\n",
    "            ax.scatter(point[0], point[1], point[2], color=colors[idx], s=60, alpha=(i+1)/len(ψ_t))\n",
    "            \n",
    "    mc = qe.MarkovChain(P)\n",
    "    ψ_star = mc.stationary_distributions[0]\n",
    "    ax.scatter(ψ_star[0], ψ_star[1], ψ_star[2], c='yellow', s=60)\n",
    "    \n",
    "    return fig,\n",
    "\n",
    "anim = FuncAnimation(fig, update, frames=range(20), blit=False, repeat=False)\n",
    "plt.close()\n",
    "HTML(anim.to_jshtml())"
   ]
  },
  {
   "cell_type": "markdown",
   "id": "a0b79d8e",
   "metadata": {},
   "source": [
    "在这里\n",
    "\n",
    "- $ P $ 是 [之前讨论的](#mc-eg2) 衰退和增长的随机矩阵。  \n",
    "- 红色、蓝色和绿色的点是初始边缘概率分布 $ \\psi_1, \\psi_2, \\psi_3 $，它们分别表示为 $ \\mathbb R^3 $ 中的向量。  \n",
    "- 各种颜色的透明点是边际分布 $ \\psi_i P^t $ 对于 $ t = 1, 2, \\ldots $，$ i=1,2,3. $。  \n",
    "- 黄色点是 $ \\psi^* $。  \n",
    "\n",
    "\n",
    "你可以尝试不同的初始条件来进行实验。"
   ]
  },
  {
   "cell_type": "markdown",
   "id": "da8510e2",
   "metadata": {},
   "source": [
    "#### 示例：收敛失败\n",
    "\n",
    "考虑一个具有以下随机矩阵的周期链\n",
    "\n",
    "$$\n",
    "P = \n",
    "\\begin{bmatrix}\n",
    "    0 & 1 \\\\\n",
    "    1 & 0 \\\\\n",
    "\\end{bmatrix}\n",
    "$$\n",
    "\n",
    "该矩阵不满足 [strict_stationary](https://intro.quantecon.org/markov_chains_I.html#strict-stationary) 的条件，因为很容易检验到：\n",
    "\n",
    "- 当 $ m $ 为奇数时，$ P^m = P $  \n",
    "- 当 $ m $ 为偶数时，$ P^m = I $，即单位矩阵。  \n",
    "\n",
    "\n",
    "因此，没有 $ m $ 可以使得 $ P^m $ 的所有元素都为严格正数。\n",
    "\n",
    "此外，我们可以看到，全局稳定性并不成立。\n",
    "\n",
    "例如，如果我们从 $ \\psi_0 = (1,0) $ 开始，则 $ \\psi_m = \\psi_0 P^m $ 当 $ m $ 为偶数时是 $ (1, 0) $，当 $ m $ 为奇数时是 $ (0,1) $。\n",
    "\n",
    "我们可以在更高维度中看到类似的现象。\n",
    "\n",
    "下图展示了具有三个状态的周期性马尔科夫链。"
   ]
  },
  {
   "cell_type": "code",
   "execution_count": null,
   "id": "08e22e8a",
   "metadata": {
    "hide-output": false
   },
   "outputs": [],
   "source": [
    "ψ_1 = (0.0, 0.0, 1.0)\n",
    "ψ_2 = (0.5, 0.5, 0.0)\n",
    "ψ_3 = (0.25, 0.25, 0.5)\n",
    "ψ_4 = (1/3, 1/3, 1/3)\n",
    "\n",
    "P = np.array([[0.0, 1.0, 0.0],\n",
    "              [0.0, 0.0, 1.0],\n",
    "              [1.0, 0.0, 0.0]])\n",
    "\n",
    "fig = plt.figure()\n",
    "ax = fig.add_subplot(projection='3d')\n",
    "colors = ['red','yellow', 'green', 'blue']  # 不同颜色表示不同的初始点\n",
    "\n",
    "# 定义单位单纯形的顶点\n",
    "v = np.array([[1, 0, 0], [0, 1, 0], [0, 0, 1], [0, 0, 0]])\n",
    "\n",
    "# 定义单位单纯形的面\n",
    "faces = [\n",
    "    [v[0], v[1], v[2]],\n",
    "    [v[0], v[1], v[3]],\n",
    "    [v[0], v[2], v[3]],\n",
    "    [v[1], v[2], v[3]]\n",
    "]\n",
    "\n",
    "def update(n):\n",
    "    ax.clear()\n",
    "    ax.set_xlim([0, 1])\n",
    "    ax.set_ylim([0, 1])\n",
    "    ax.set_zlim([0, 1])\n",
    "    ax.view_init(45, 45)\n",
    "    \n",
    "    # 绘制 3D 单纯形作为平面\n",
    "    simplex = Poly3DCollection(faces,alpha=0.05)\n",
    "    ax.add_collection3d(simplex)\n",
    "    \n",
    "    for idx, ψ_0 in enumerate([ψ_1, ψ_2, ψ_3, ψ_4]):\n",
    "        ψ_t = iterate_ψ(ψ_0, P, n+1)\n",
    "        \n",
    "        point = ψ_t[-1]\n",
    "        ax.scatter(point[0], point[1], point[2], color=colors[idx], s=60)\n",
    "        points = np.array(ψ_t)\n",
    "        ax.plot(points[:, 0], points[:, 1], points[:, 2], color=colors[idx],linewidth=0.75)\n",
    "    \n",
    "    return fig,\n",
    "\n",
    "anim = FuncAnimation(fig, update, frames=range(20), blit=False, repeat=False)\n",
    "plt.close()\n",
    "HTML(anim.to_jshtml())"
   ]
  },
  {
   "cell_type": "markdown",
   "id": "ce5510cb",
   "metadata": {},
   "source": [
    "该动画展示了一个不可约但具有周期性的随机矩阵的行为。\n",
    "\n",
    "红色、黄色和绿色的点表示不同的初始概率分布。\n",
    "\n",
    "蓝色点表示唯一的平稳分布。\n",
    "\n",
    "与汉密尔顿的马尔科夫链不同，这些初始分布不会收敛到唯一的平稳分布。\n",
    "\n",
    "相反，它们周期性地在概率单纯形上循环，说明了此时渐进稳定性失败的。\n",
    "\n",
    "\n",
    "<a id='finite-mc-expec'></a>"
   ]
  },
  {
   "cell_type": "markdown",
   "id": "8941bf43",
   "metadata": {},
   "source": [
    "## 计算期望\n",
    "\n",
    "\n",
    "<a id='index-3'></a>\n",
    "我们有时需要计算形式为 $ X_t $ 的函数的数学期望\n",
    "\n",
    "\n",
    "<a id='equation-mc-une'></a>\n",
    "$$\n",
    "\\mathbb E [ h(X_t) ] \\tag{33.7}\n",
    "$$\n",
    "\n",
    "以及条件期望，例如\n",
    "\n",
    "\n",
    "<a id='equation-mc-cce'></a>\n",
    "$$\n",
    "\\mathbb E [ h(X_{t + k})  \\mid X_t = x] \\tag{33.8}\n",
    "$$\n",
    "\n",
    "其中\n",
    "\n",
    "- $ \\{X_t\\} $ 是由 $ n \\times n $ 随机矩阵 $ P $ 生成的马尔科夫链。  \n",
    "- $ h $ 是给定的函数，我们在矩阵代数的意义上将其视为列向量  \n",
    "\n",
    "\n",
    "$$\n",
    "h =\n",
    "\\begin{bmatrix}\n",
    "    h(x_1) \\\\\n",
    "    \\vdots \\\\\n",
    "    h(x_n)\n",
    "\\end{bmatrix}.\n",
    "$$\n",
    "\n",
    "计算无条件期望 [(33.7)](#equation-mc-une) 非常简单。\n",
    "\n",
    "我们只需对 $ X_t $ 的边缘分布进行求和，得到\n",
    "\n",
    "$$\n",
    "\\mathbb E [ h(X_t) ]\n",
    "= \\sum_{x \\in S} (\\psi P^t)(x) h(x)\n",
    "$$\n",
    "\n",
    "这里 $ \\psi $ 是 $ X_0 $ 的分布。\n",
    "\n",
    "由于 $ \\psi $ 和 $ \\psi P^t $ 都是行向量，我们也可以将其写成\n",
    "\n",
    "$$\n",
    "\\mathbb E [ h(X_t) ]\n",
    "=  \\psi P^t h\n",
    "$$\n",
    "\n",
    "对于条件期望 [(33.8)](#equation-mc-cce)，我们需要对 $ X_{t + k} $ 给定 $ X_t = x $ 的条件分布进行求和。\n",
    "\n",
    "我们已经知道这是 $ P^k(x, \\cdot) $，因此\n",
    "\n",
    "\n",
    "<a id='equation-mc-cce2'></a>\n",
    "$$\n",
    "\\mathbb E [ h(X_{t + k})  \\mid X_t = x]\n",
    "= (P^k h)(x) \\tag{33.9}\n",
    "$$"
   ]
  },
  {
   "cell_type": "markdown",
   "id": "c80f3609",
   "metadata": {},
   "source": [
    "### 几何和的期望\n",
    "\n",
    "有时我们需要计算几何和的数学期望，例如 $ \\sum_t \\beta^t h(X_t) $。\n",
    "\n",
    "根据前面的讨论，这是\n",
    "\n",
    "$$\n",
    "\\mathbb{E}\n",
    "    \\left[\n",
    "        \\sum_{j=0}^\\infty \\beta^j h(X_{t+j}) \\mid X_t\n",
    "        = x\n",
    "    \\right]\n",
    "    = x + \\beta (Ph)(x) + \\beta^2 (P^2 h)(x) + \\cdots\n",
    "$$\n",
    "\n",
    "根据 [Neumann 级数引理](https://intro.quantecon.org/eigen_I.html#la-neumann)，该和可以使用以下公式计算\n",
    "\n",
    "$$\n",
    "I + \\beta P + \\beta^2 P^2 + \\cdots = (I - \\beta P)^{-1}\n",
    "$$\n",
    "\n",
    "向量 $ P^k h $ 储存了所有 $ x $ 的条件期望 $ \\mathbb E [ h(X_{t + k})  \\mid X_t = x] $。"
   ]
  },
  {
   "cell_type": "markdown",
   "id": "28838e77",
   "metadata": {},
   "source": [
    "### Exercise 33.1\n",
    "\n",
    "Imam 和 Temple [[Imam and Temple, 2023](https://intro.quantecon.org/zreferences.html#id289)] 使用了一个三状态转移矩阵来描述政权的三种状态：增长、停滞和崩溃\n",
    "\n",
    "$$\n",
    "P :=\n",
    "\\begin{bmatrix}\n",
    "    0.68 & 0.12 & 0.20 \\\\\n",
    "    0.50 & 0.24 & 0.26 \\\\\n",
    "    0.36 & 0.18 & 0.46\n",
    "\\end{bmatrix}\n",
    "$$\n",
    "\n",
    "其中从上到下的行分别对应增长、停滞和崩溃。\n",
    "\n",
    "在本练习中，\n",
    "\n",
    "1. 可视化转移矩阵，并证明该过程是渐进平稳的  \n",
    "1. 使用模拟计算平稳分布  \n",
    "1. 可视化 $ (\\psi_0 P^t)(i) $ 的动态过程，其中 $ t \\in 0, ..., 25 $，并将收敛路径与之前的转移矩阵进行比较  \n",
    "\n",
    "\n",
    "将您的解答与论文进行比较。"
   ]
  },
  {
   "cell_type": "markdown",
   "id": "a5917b08",
   "metadata": {},
   "source": [
    "### Solution to[ Exercise 33.1](https://intro.quantecon.org/#mc1_ex_1)\n",
    "\n",
    "解答 1：\n",
    "\n",
    "![https://intro.quantecon.org/_static/lecture_specific/markov_chains_I/Temple.png](https://intro.quantecon.org/_static/lecture_specific/markov_chains_I/Temple.png)\n",
    "\n",
    "由于矩阵处处为正，因此存在唯一的平稳分布 $ \\psi^* $，使得 $ \\psi_t\\to \\psi^* $ 随 $ t\\to \\infty $。\n",
    "\n",
    "解答 2：\n",
    "\n",
    "一种简单的方法是计算转移矩阵的幂，如我们之前所示"
   ]
  },
  {
   "cell_type": "code",
   "execution_count": null,
   "id": "0f14b0db",
   "metadata": {
    "hide-output": false
   },
   "outputs": [],
   "source": [
    "P = np.array([[0.68, 0.12, 0.20],\n",
    "              [0.50, 0.24, 0.26],\n",
    "              [0.36, 0.18, 0.46]])\n",
    "P_power = np.linalg.matrix_power(P, 20)\n",
    "P_power"
   ]
  },
  {
   "cell_type": "markdown",
   "id": "0d8a0132",
   "metadata": {},
   "source": [
    "注意，转移矩阵的行收敛到平稳分布。"
   ]
  },
  {
   "cell_type": "code",
   "execution_count": null,
   "id": "6930593b",
   "metadata": {
    "hide-output": false
   },
   "outputs": [],
   "source": [
    "ψ_star_p = P_power[0]\n",
    "ψ_star_p"
   ]
  },
  {
   "cell_type": "code",
   "execution_count": null,
   "id": "2315d1d2",
   "metadata": {
    "hide-output": false
   },
   "outputs": [],
   "source": [
    "mc = qe.MarkovChain(P)\n",
    "ψ_star = mc.stationary_distributions[0]\n",
    "ψ_star"
   ]
  },
  {
   "cell_type": "markdown",
   "id": "8ddde4aa",
   "metadata": {},
   "source": [
    "### Exercise 33.2\n",
    "\n",
    "我们之前 [讨论过](#mc-eg3) 的 Imam & Temple [[Imam and Temple, 2023](https://intro.quantecon.org/zreferences.html#id289)] 估计的六状态转移矩阵。"
   ]
  },
  {
   "cell_type": "code",
   "execution_count": null,
   "id": "55aaaccd",
   "metadata": {
    "hide-output": false
   },
   "outputs": [],
   "source": [
    "nodes = ['DG', 'DC', 'NG', 'NC', 'AG', 'AC']\n",
    "P = [[0.86, 0.11, 0.03, 0.00, 0.00, 0.00],\n",
    "     [0.52, 0.33, 0.13, 0.02, 0.00, 0.00],\n",
    "     [0.12, 0.03, 0.70, 0.11, 0.03, 0.01],\n",
    "     [0.13, 0.02, 0.35, 0.36, 0.10, 0.04],\n",
    "     [0.00, 0.00, 0.09, 0.11, 0.55, 0.25],\n",
    "     [0.00, 0.00, 0.09, 0.15, 0.26, 0.50]]"
   ]
  },
  {
   "cell_type": "markdown",
   "id": "1663c61c",
   "metadata": {},
   "source": [
    "在本练习中，\n",
    "\n",
    "1. 不使用模拟，证明该过程是渐进平稳的  \n",
    "1. 模拟并可视化从各状态均匀分布开始的动态（每个状态的概率为 1/6）  \n",
    "1. 将初始分布更改为 P(DG) = 1，其他所有状态的概率为 0  "
   ]
  },
  {
   "cell_type": "markdown",
   "id": "a070c652",
   "metadata": {},
   "source": [
    "### Solution to[ Exercise 33.2](https://intro.quantecon.org/#mc1_ex_2)\n",
    "\n",
    "解答 1:\n",
    "\n",
    "虽然 $ P $ 不是处处为正的，但当 $ m=3 $ 时，$ P^m $ 是处处为正的。"
   ]
  },
  {
   "cell_type": "code",
   "execution_count": null,
   "id": "4c436ef8",
   "metadata": {
    "hide-output": false
   },
   "outputs": [],
   "source": [
    "P = np.array([[0.86, 0.11, 0.03, 0.00, 0.00, 0.00],\n",
    "              [0.52, 0.33, 0.13, 0.02, 0.00, 0.00],\n",
    "              [0.12, 0.03, 0.70, 0.11, 0.03, 0.01],\n",
    "              [0.13, 0.02, 0.35, 0.36, 0.10, 0.04],\n",
    "              [0.00, 0.00, 0.09, 0.11, 0.55, 0.25],\n",
    "              [0.00, 0.00, 0.09, 0.15, 0.26, 0.50]])\n",
    "\n",
    "np.linalg.matrix_power(P,3)"
   ]
  },
  {
   "cell_type": "markdown",
   "id": "16fc6c0b",
   "metadata": {},
   "source": [
    "因此它满足要求。\n",
    "\n",
    "解答 2:\n",
    "\n",
    "无论初始分布如何，我们发现分布 $ \\psi $ 很快收敛到平稳分布。"
   ]
  },
  {
   "cell_type": "code",
   "execution_count": null,
   "id": "b9bd16f1",
   "metadata": {
    "hide-output": false
   },
   "outputs": [],
   "source": [
    "ts_length = 30\n",
    "num_distributions = 20\n",
    "nodes = ['DG', 'DC', 'NG', 'NC', 'AG', 'AC']\n",
    "\n",
    "# 获取转移矩阵的参数\n",
    "n = len(P)\n",
    "mc = qe.MarkovChain(P)\n",
    "ψ_star = mc.stationary_distributions[0]\n",
    "ψ_0 = np.array([[1/6 for i in range(6)],\n",
    "                [0 if i != 0 else 1 for i in range(6)]])\n",
    "## 绘制图像\n",
    "fig, axes = plt.subplots(ncols=2)\n",
    "plt.subplots_adjust(wspace=0.35)\n",
    "for idx in range(2):\n",
    "    ψ_t = iterate_ψ(ψ_0[idx], P, ts_length)\n",
    "    for i in range(n):\n",
    "        axes[idx].plot(ψ_t[:, i] - ψ_star[i], alpha=0.5, label=fr'$\\psi_t({i+1})$')\n",
    "        axes[idx].set_ylim([-0.3, 0.3])\n",
    "        axes[idx].set_xlabel('t')\n",
    "        axes[idx].set_ylabel(fr'$\\psi_t$')\n",
    "        axes[idx].legend()\n",
    "        axes[idx].axhline(0, linestyle='dashed', lw=1, color = 'black')\n",
    "\n",
    "plt.show()"
   ]
  },
  {
   "cell_type": "markdown",
   "id": "29999f03",
   "metadata": {},
   "source": [
    "### Exercise 33.3\n",
    "\n",
    "证明以下命题：如果 $ P $ 是一个随机矩阵，那么对于所有 $ k \\in \\mathbb N $，$ P^k $ 也是随机矩阵。"
   ]
  },
  {
   "cell_type": "markdown",
   "id": "a4bea435",
   "metadata": {},
   "source": [
    "### Solution to[ Exercise 33.3](https://intro.quantecon.org/#mc1_ex_3)\n",
    "\n",
    "假设 $ P $ 是随机矩阵，且 $ P^k $ 是某个整数 $ k $ 的随机矩阵。\n",
    "\n",
    "我们将证明 $ P^{k+1} = P P^k $ 也是随机矩阵。\n",
    "\n",
    "（我们正在进行归纳证明——假设在 $ k $ 时命题为真，并证明在 $ k+1 $ 时命题也为真。）\n",
    "\n",
    "要看到这一点，注意到，由于 $ P^k $ 是随机矩阵且非负矩阵的乘积是非负的，因此 $ P^{k+1} = P P^k $ 是非负的。\n",
    "\n",
    "此外，如果 $ \\mathbf 1 $ 是全 1 列向量，那么由于 $ P^k $ 是随机矩阵，我们有 $ P^k \\mathbf 1 = \\mathbf 1 $ （每一行的和为一）。\n",
    "\n",
    "因此 $ P^{k+1} \\mathbf 1 = P P^k \\mathbf 1 = P \\mathbf 1 = \\mathbf 1 $。\n",
    "\n",
    "证明完毕。"
   ]
  }
 ],
 "metadata": {
  "date": 1741385955.7099073,
  "filename": "markov_chains_I.md",
  "kernelspec": {
   "display_name": "Python",
   "language": "python3",
   "name": "python3"
  },
  "title": "马尔科夫链：基本概念"
 },
 "nbformat": 4,
 "nbformat_minor": 5
}