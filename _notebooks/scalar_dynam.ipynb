{
 "cells": [
  {
   "cell_type": "markdown",
   "id": "d39b0425",
   "metadata": {},
   "source": [
    "\n",
    "<a id='scalar-dynam'></a>"
   ]
  },
  {
   "cell_type": "markdown",
   "id": "b8fedc83",
   "metadata": {},
   "source": [
    "# 一维动力学"
   ]
  },
  {
   "cell_type": "markdown",
   "id": "e56873f5",
   "metadata": {},
   "source": [
    "## 概述\n",
    "\n",
    "在经济学中，许多变量依赖于它们的过去值。\n",
    "\n",
    "例如，我们有理由相信去年的通货膨胀会影响今年的通货膨胀。\n",
    "（比如去年的高通胀会导致人们要求更高的工资作为补偿，导致今年的价格进一步上涨。）\n",
    "\n",
    "用$ \\pi_t $表示今年的通货膨胀率，$ \\pi_{t-1} $表示去年的通货膨胀率，我们可以用一般形式将这种关系写成：\n",
    "\n",
    "$$\n",
    "\\pi_t = f(\\pi_{t-1})\n",
    "$$\n",
    "\n",
    "其中$ f $是描述变量之间关系的某个函数。\n",
    "\n",
    "这个方程是一维离散时间动力系统的典型例子。\n",
    "\n",
    "在本讲中，我们将探讨一维离散时间动力学的基本原理。\n",
    "\n",
    "（虽然实际经济模型通常包含两个或更多状态变量，但一维框架为我们理解基础理论和掌握核心概念提供了绝佳的起点。）\n",
    "\n",
    "让我们从一些标准导入开始："
   ]
  },
  {
   "cell_type": "code",
   "execution_count": null,
   "id": "007fb3d1",
   "metadata": {
    "hide-output": false
   },
   "outputs": [],
   "source": [
    "import matplotlib.pyplot as plt\n",
    "import numpy as np"
   ]
  },
  {
   "cell_type": "markdown",
   "id": "bb74e6dc",
   "metadata": {},
   "source": [
    "## 一些定义\n",
    "\n",
    "本节将介绍我们要研究的对象和关键概念。"
   ]
  },
  {
   "cell_type": "markdown",
   "id": "482a9765",
   "metadata": {},
   "source": [
    "### 函数组合\n",
    "\n",
    "首先，让我们回顾一下函数组合的概念：\n",
    "\n",
    "如果\n",
    "\n",
    "- $ g $ 是从集合 $ A $ 到集合 $ B $ 的函数，且  \n",
    "- $ f $ 是从集合 $ B $ 到集合 $ C $ 的函数  \n",
    "\n",
    "\n",
    "那么 $ f $ 和 $ g $ 的**组合** $ f \\circ g $ 定义为\n",
    "\n",
    "$$\n",
    "(f \\circ g)(x) = f(g(x))\n",
    "$$\n",
    "\n",
    "举个简单的例子，如果\n",
    "\n",
    "- $ A=B=C=\\mathbb R $（实数集）  \n",
    "- $ g(x)=x^2 $ 且 $ f(x)=\\sqrt{x} $  \n",
    "\n",
    "\n",
    "那么 $ (f \\circ g)(x) = \\sqrt{x^2} = |x| $\n",
    "\n",
    "当函数映射到自身的集合时，我们可以定义函数的多次组合。如果 $ f $ 是从集合 $ A $ 到自身的函数，那么 $ f^2 $ 表示 $ f $ 与自身的组合。\n",
    "\n",
    "例如，当 $ A = (0, \\infty) $（正实数集）且 $ f(x) = \\sqrt{x} $ 时，我们有\n",
    "\n",
    "$$\n",
    "f^2(x) = \\sqrt{\\sqrt{x}} = x^{1/4}\n",
    "$$\n",
    "\n",
    "更一般地，对于任意正整数 $ n $，$ f^n $ 表示 $ f $ 与自身的 $ n $ 次组合。\n",
    "\n",
    "在上面的例子中，$ f^n(x) = x^{1/(2^n)} $。"
   ]
  },
  {
   "cell_type": "markdown",
   "id": "b90ae876",
   "metadata": {},
   "source": [
    "### 动态系统\n",
    "\n",
    "**（离散时间）动态系统**由一个集合 $ S $ 和一个将 $ S $ 映射到自身的函数 $ g $ 组成。\n",
    "\n",
    "动态系统的例子包括：\n",
    "\n",
    "- $ S = (0, 1) $ 且 $ g(x) = \\sqrt{x} $  \n",
    "- $ S = (0, 1) $ 且 $ g(x) = x^2 $  \n",
    "- $ S = \\mathbb Z $（整数集）且 $ g(x) = 2 x $  \n",
    "\n",
    "\n",
    "如果 $ S = (-1, 1) $ 且 $ g(x) = x+1 $，那么 $ S $ 和 $ g $ 不构成动态系统，因为 $ g(1) = 2 $。\n",
    "\n",
    "- 即 $ g $ 并不总是将 $ S $ 中的点映射回 $ S $。  \n",
    "\n",
    "\n",
    "研究动态系统的重要性在于它们能帮助我们理解和分析动态过程的基本特性。\n",
    "\n",
    "给定由集合 $ S $ 和函数 $ g $ 组成的动态系统，我们可以通过设定\n",
    "\n",
    "\n",
    "<a id='equation-sdsod'></a>\n",
    "$$\n",
    "x_{t+1} = g(x_t)\n",
    "    \\quad \\text{其中} \n",
    "    x_0 \\text{给定} \\tag{23.1}\n",
    "$$\n",
    "\n",
    "来创建由 $ S $ 中点组成的序列 $ \\{x_t\\} $。\n",
    "\n",
    "这意味着我们选择 $ S $ 中的某个数 $ x_0 $，然后取\n",
    "\n",
    "\n",
    "<a id='equation-sdstraj'></a>\n",
    "$$\n",
    "x_0, \\quad\n",
    "    x_1 = g(x_0), \\quad\n",
    "    x_2 = g(x_1) = g(g(x_0)), \\quad \\text{等等} \\tag{23.2}\n",
    "$$\n",
    "\n",
    "这个序列 $ \\{x_t\\} $ 被称为 $ x_0 $ 在 $ g $ 下的**轨迹**。\n",
    "\n",
    "在这个理论框架下，$ S $ 被称为**状态空间**，$ x_t $ 被称为**状态变量**。\n",
    "\n",
    "回想一下 $ g^n $ 是 $ g $ 与自身的 $ n $ 次组合，\n",
    "我们可以更简单地将轨迹写为\n",
    "\n",
    "$$\n",
    "x_t = g^t(x_0) \\quad \\text{对于} t = 0, 1, 2, \\ldots\n",
    "$$\n",
    "\n",
    "在接下来的所有内容中，我们假设 $ S $ 是 $ \\mathbb R $（实数集）的子集。\n",
    "\n",
    "方程 [(23.1)](#equation-sdsod) 有时被称为**一阶差分方程**\n",
    "\n",
    "- 一阶意味着只依赖于一个滞后（即，像 $ x_{t-1} $ 这样的更早期的状态不会出现在 [(23.1)](#equation-sdsod) 中）。  "
   ]
  },
  {
   "cell_type": "markdown",
   "id": "c69e958f",
   "metadata": {},
   "source": [
    "### 示例：线性模型\n",
    "\n",
    "动态系统的一个典型例子是状态空间 $ S=\\mathbb R $ 与映射函数 $ g(x)=ax + b $ ，其中 $ a, b $ 是常数（有时称为”参数”）。\n",
    "\n",
    "由此可得**线性差分方程**\n",
    "\n",
    "$$\n",
    "x_{t+1} = a x_t + b \n",
    "    \\quad \\text{其中}\n",
    "    x_0 \\text{已给定}。\n",
    "$$\n",
    "\n",
    "其中$ x_0 $ 的轨迹是\n",
    "\n",
    "\n",
    "<a id='equation-sdslinmodpath'></a>\n",
    "$$\n",
    "x_0, \\quad\n",
    "a x_0 + b, \\quad\n",
    "a^2 x_0 + a b + b, \\quad \\text{等等} \\tag{23.3}\n",
    "$$\n",
    "\n",
    "继续这样下去，并利用我们对几何级数的知识，我们发现，对于任何 $ t = 0, 1, 2, \\ldots $，\n",
    "\n",
    "\n",
    "<a id='equation-sdslinmod'></a>\n",
    "$$\n",
    "x_t = a^t x_0 + b \\frac{1 - a^t}{1 - a} \\tag{23.4}\n",
    "$$\n",
    "\n",
    "我们可以对任意非负整数 $ t $ 求出 $ x_t $ 的精确表达式，这让我们能够完全理解系统的动态特性。\n",
    "\n",
    "值得注意的是，当 $ |a| < 1 $ 时，根据上面的公式，我们得到\n",
    "\n",
    "\n",
    "<a id='equation-sdslinmodc'></a>\n",
    "$$\n",
    "x_t \\to  \\frac{b}{1 - a} \\text{ 当 } t \\to \\infty \\tag{23.5}\n",
    "$$\n",
    "\n",
    "无论起点 $ x_0 $ 为何值。\n",
    "\n",
    "这是被称为全局稳定性的一个例子，我们将在后面再次讨论这个话题。"
   ]
  },
  {
   "cell_type": "markdown",
   "id": "54c7b4f1",
   "metadata": {},
   "source": [
    "### 示例：非线性模型\n",
    "\n",
    "在上面的线性例子中，我们得到了 $ x_t $ 关于任意非负整数 $ t $ 和 $ x_0 $ 的精确解析式。\n",
    "\n",
    "这使得动力学分析变得轻而易举。\n",
    "\n",
    "然而，当模型是非线性时，情况可能会大不相同。\n",
    "\n",
    "以索洛-斯旺增长模型为例（后续章节将深入分析），其动态规律由以下方程给出\n",
    "\n",
    "\n",
    "<a id='equation-solow-lom2'></a>\n",
    "$$\n",
    "k_{t+1} = s A k_t^{\\alpha} + (1 - \\delta) k_t \\tag{23.6}\n",
    "$$\n",
    "\n",
    "这里 $ k=K/L $ 表示人均资本存量，$ s $ 为储蓄率，$ A $ 表示全要素生产率，$ \\alpha $ 为资本份额，$ \\delta $ 为折旧率。\n",
    "\n",
    "所有这些参数都是正数，且 $ 0 < \\alpha, \\delta < 1 $。\n",
    "\n",
    "如果你尝试像我们在线性模型中做的那样迭代，你会发现代数运算很快就变得复杂。\n",
    "\n",
    "分析这个模型的动态需要一种不同的方法（见下文）。"
   ]
  },
  {
   "cell_type": "markdown",
   "id": "d85d86ba",
   "metadata": {},
   "source": [
    "## 稳定性\n",
    "\n",
    "考虑这样一个动态系统，其由集合 $ S \\subset \\mathbb R $ 和将 $ S $ 映射到 $ S $ 的函数 $ g $ 组成。"
   ]
  },
  {
   "cell_type": "markdown",
   "id": "b5c9474f",
   "metadata": {},
   "source": [
    "### 稳态\n",
    "\n",
    "该系统的**稳态**是 $ S $ 中的一个点 $ x^* $，满足 $ x^* = g(x^*) $。\n",
    "\n",
    "换句话说，$ x^* $ 是函数 $ g $ 在 $ S $ 中的一个**不动点**。\n",
    "\n",
    "例如，对于线性模型 $ x_{t+1} = a x_t + b $，你可以使用定义来验证：\n",
    "\n",
    "- 当 $ a \\not= 1 $ 时，$ x^* := b/(1-a) $ 是一个稳态，  \n",
    "- 如果 $ a = 1 $ 且 $ b=0 $，那么每个 $ x \\in \\mathbb R $ 都是稳态，  \n",
    "- 如果 $ a = 1 $ 且 $ b \\not= 0 $，那么这个线性模型在 $ \\mathbb R $ 中没有稳态。  "
   ]
  },
  {
   "cell_type": "markdown",
   "id": "20b878c3",
   "metadata": {},
   "source": [
    "### 全局稳定性\n",
    "\n",
    "如果对于所有的 $ x_0 \\in S $，都有\n",
    "\n",
    "$$\n",
    "x_t = g^t(x_0) \\to x^* \\text{ 当 } t \\to \\infty\n",
    "$$\n",
    "\n",
    "那么动态系统的稳态 $ x^* $ 被称为**全局稳定**的。\n",
    "\n",
    "例如，在线性模型 $ x_{t+1} = a x_t + b $ 中，当 $ a \\not= 1 $ 时，稳态 $ x^* $\n",
    "\n",
    "- 如果 $ |a| < 1 $，则是全局稳定的，  \n",
    "- 否则不是全局稳定的。  \n",
    "\n",
    "\n",
    "以上可以直接从方程 [(23.4)](#equation-sdslinmod) 得出。"
   ]
  },
  {
   "cell_type": "markdown",
   "id": "a54a233a",
   "metadata": {},
   "source": [
    "### 局部稳定性\n",
    "\n",
    "如果存在一个 $ \\epsilon > 0 $，使得\n",
    "\n",
    "$$\n",
    "| x_0 - x^* | < \\epsilon\n",
    "\\; \\implies \\;\n",
    "x_t = g^t(x_0) \\to x^* \\text{ 当 } t \\to \\infty\n",
    "$$\n",
    "\n",
    "那么动态系统的稳态 $ x^* $ 被称为**局部稳定**的。\n",
    "\n",
    "显然，每个全局稳定的稳态也是局部稳定的。\n",
    "\n",
    "下面是一个反之不成立的例子。"
   ]
  },
  {
   "cell_type": "markdown",
   "id": "5aac7859",
   "metadata": {},
   "source": [
    "### \n",
    "\n",
    "考虑 $ \\mathbb{R} $ 上的自映射 $ g $，定义为 $ g(x)=x^2 $。不动点 $ 1 $ 不是稳定的。\n",
    "\n",
    "例如，对于任何 $ x>1 $，$ g^t (x)\\to\\infty $。\n",
    "\n",
    "然而，$ 0 $ 是局部稳定的，因为当 $ -1<x<1 $ 时，$ g^t (x)\\to 0 $（当 $ t\\to\\infty $）。\n",
    "\n",
    "由于我们有多个不动点，$ 0 $ 不是全局稳定的。"
   ]
  },
  {
   "cell_type": "markdown",
   "id": "93a6ecf7",
   "metadata": {},
   "source": [
    "## 图形分析\n",
    "\n",
    "如我们上面所见，分析非线性模型的动态是非常复杂的。\n",
    "\n",
    "没有一种单一的方法可以处理所有的非线性模型。\n",
    "\n",
    "然而，对于一维模型，有一种技巧可以提供大量的直观理解。\n",
    "\n",
    "这是一种基于**45度图**的图形方法。\n",
    "\n",
    "让我们看一个例子：索洛-斯旺模型，其动态由[(23.6)](#equation-solow-lom2)给出。\n",
    "\n",
    "我们首先从一些绘图代码开始，你可以在第一次阅读时忽略这些代码。\n",
    "\n",
    "这段代码的功能是生成45度图和时序图。"
   ]
  },
  {
   "cell_type": "code",
   "execution_count": null,
   "id": "387f51a9",
   "metadata": {
    "hide-output": false
   },
   "outputs": [],
   "source": [
    "def subplots():\n",
    "    \"通过原点的自定义子图轴\"\n",
    "    fig, ax = plt.subplots()\n",
    "\n",
    "    # 通过原点设置坐标轴\n",
    "    for spine in ['left', 'bottom']:\n",
    "        ax.spines[spine].set_position('zero')\n",
    "        ax.spines[spine].set_color('green')\n",
    "    for spine in ['right', 'top']:\n",
    "        ax.spines[spine].set_color('none')\n",
    "\n",
    "    return fig, ax\n",
    "\n",
    "\n",
    "def plot45(g, xmin, xmax, x0, num_arrows=6, var='x'):\n",
    "\n",
    "    xgrid = np.linspace(xmin, xmax, 200)\n",
    "\n",
    "    fig, ax = subplots()\n",
    "    ax.set_xlim(xmin, xmax)\n",
    "    ax.set_ylim(xmin, xmax)\n",
    "    ax.set_xlabel(r'${}_t$'.format(var), fontsize=14)\n",
    "    ax.set_ylabel(r'${}_{}$'.format(var, str('{t+1}')), fontsize=14)\n",
    "\n",
    "    hw = (xmax - xmin) * 0.01\n",
    "    hl = 2 * hw\n",
    "    arrow_args = dict(fc=\"k\", ec=\"k\", head_width=hw,\n",
    "            length_includes_head=True, lw=1,\n",
    "            alpha=0.6, head_length=hl)\n",
    "\n",
    "    ax.plot(xgrid, g(xgrid), 'b-', lw=2, alpha=0.6, label='g')\n",
    "    ax.plot(xgrid, xgrid, 'k-', lw=1, alpha=0.7, label='45')\n",
    "\n",
    "    x = x0\n",
    "    xticks = [xmin]\n",
    "    xtick_labels = [xmin]\n",
    "\n",
    "    for i in range(num_arrows):\n",
    "        if i == 0:\n",
    "            ax.arrow(x, 0.0, 0.0, g(x), **arrow_args) # x, y, dx, dy\n",
    "        else:\n",
    "            ax.arrow(x, x, 0.0, g(x) - x, **arrow_args)\n",
    "            ax.plot((x, x), (0, x), 'k', ls='dotted')\n",
    "\n",
    "        ax.arrow(x, g(x), g(x) - x, 0, **arrow_args)\n",
    "        xticks.append(x)\n",
    "        xtick_labels.append(r'${}_{}$'.format(var, str(i)))\n",
    "\n",
    "        x = g(x)\n",
    "        xticks.append(x)\n",
    "        xtick_labels.append(r'${}_{}$'.format(var, str(i+1)))\n",
    "        ax.plot((x, x), (0, x), 'k', ls='dotted')\n",
    "\n",
    "    xticks.append(xmax)\n",
    "    xtick_labels.append(xmax)\n",
    "    ax.set_xticks(xticks)\n",
    "    ax.set_yticks(xticks)\n",
    "    ax.set_xticklabels(xtick_labels)\n",
    "    ax.set_yticklabels(xtick_labels)\n",
    "\n",
    "    bbox = (0., 1.04, 1., .104)\n",
    "    legend_args = {'bbox_to_anchor': bbox, 'loc': 'upper right'}\n",
    "\n",
    "    ax.legend(ncol=2, frameon=False, **legend_args, fontsize=14)\n",
    "    plt.show()\n",
    "\n",
    "def ts_plot(g, xmin, xmax, x0, ts_length=6, var='x'):\n",
    "    fig, ax = subplots()\n",
    "    ax.set_ylim(xmin, xmax)\n",
    "    ax.set_xlabel(r'$t$', fontsize=14)\n",
    "    ax.set_ylabel(r'${}_t$'.format(var), fontsize=14)\n",
    "    x = np.empty(ts_length)\n",
    "    x[0] = x0\n",
    "    for t in range(ts_length-1):\n",
    "        x[t+1] = g(x[t])\n",
    "    ax.plot(range(ts_length),\n",
    "            x,\n",
    "            'bo-',\n",
    "            alpha=0.6,\n",
    "            lw=2,\n",
    "            label=r'${}_t$'.format(var))\n",
    "    ax.legend(loc='best', fontsize=14)\n",
    "    ax.set_xticks(range(ts_length))\n",
    "    plt.show()"
   ]
  },
  {
   "cell_type": "markdown",
   "id": "311fc66d",
   "metadata": {},
   "source": [
    "让我们为索洛-斯旺模型创建一个45度图，使用固定的参数集。以下是对应该模型的更新函数。"
   ]
  },
  {
   "cell_type": "code",
   "execution_count": null,
   "id": "cc2b1e74",
   "metadata": {
    "hide-output": false
   },
   "outputs": [],
   "source": [
    "def g(k, A = 2, s = 0.3, alpha = 0.3, delta = 0.4):\n",
    "    return A * s * k**alpha + (1 - delta) * k"
   ]
  },
  {
   "cell_type": "markdown",
   "id": "eedde0c5",
   "metadata": {},
   "source": [
    "以下是一个45度图。"
   ]
  },
  {
   "cell_type": "code",
   "execution_count": null,
   "id": "0d99f227",
   "metadata": {
    "hide-output": false
   },
   "outputs": [],
   "source": [
    "xmin, xmax = 0, 4  # 适合的绘图区域\n",
    "\n",
    "plot45(g, xmin, xmax, 0, num_arrows=0)"
   ]
  },
  {
   "cell_type": "markdown",
   "id": "74e2bea9",
   "metadata": {},
   "source": [
    "这张图显示了函数 $ g $ 和45度线。\n",
    "\n",
    "可以将 $ k_t $ 视为横轴上的一个值。\n",
    "\n",
    "要计算 $ k_{t+1} $，我们可以使用 $ g $ 的图像来查看其在纵轴上的值。\n",
    "\n",
    "显然，\n",
    "\n",
    "- 如果在这一点上 $ g $ 位于45度线之上，那么我们有 $ k_{t+1} > k_t $。  \n",
    "- 如果在这一点上 $ g $ 位于45度线之下，那么我们有 $ k_{t+1} < k_t $。  \n",
    "- 如果在这一点上 $ g $ 与45度线相交，那么我们有 $ k_{t+1} = k_t $，所以 $ k_t $ 是一个稳态。  \n",
    "\n",
    "\n",
    "对于索洛-斯旺模型，当 $ S = \\mathbb R_+ = [0, \\infty) $ 时，有两个稳态。\n",
    "\n",
    "- 原点 $ k=0 $  \n",
    "- 唯一的正数，使得 $ k = s z k^{\\alpha} + (1 - \\delta) k $。  \n",
    "\n",
    "\n",
    "通过一些代数运算，我们可以证明在第二种情况下，其稳态是\n",
    "\n",
    "$$\n",
    "k^* = \\left( \\frac{sz}{\\delta} \\right)^{1/(1-\\alpha)}\n",
    "$$"
   ]
  },
  {
   "cell_type": "markdown",
   "id": "7ca3d979",
   "metadata": {},
   "source": [
    "### 轨迹\n",
    "\n",
    "根据前面的讨论，在 $ g $ 位于45度线之上的区域，我们知道轨迹是递增的。\n",
    "\n",
    "下图追踪了这样一个区域内的轨迹，使我们能更清楚地看到这一点。\n",
    "\n",
    "初始条件是 $ k_0 = 0.25 $。"
   ]
  },
  {
   "cell_type": "code",
   "execution_count": null,
   "id": "6b5d6c0e",
   "metadata": {
    "hide-output": false
   },
   "outputs": [],
   "source": [
    "k0 = 0.25\n",
    "\n",
    "plot45(g, xmin, xmax, k0, num_arrows=5, var='k')"
   ]
  },
  {
   "cell_type": "markdown",
   "id": "c6c03bb0",
   "metadata": {},
   "source": [
    "我们可以按照上图所示，绘制人均资本随时间变化的时序图，具体如下："
   ]
  },
  {
   "cell_type": "code",
   "execution_count": null,
   "id": "b4079faa",
   "metadata": {
    "hide-output": false
   },
   "outputs": [],
   "source": [
    "ts_plot(g, xmin, xmax, k0, var='k')"
   ]
  },
  {
   "cell_type": "markdown",
   "id": "97d83484",
   "metadata": {},
   "source": [
    "这里是一个稍长期一些的视角："
   ]
  },
  {
   "cell_type": "code",
   "execution_count": null,
   "id": "b1c8eb84",
   "metadata": {
    "hide-output": false
   },
   "outputs": [],
   "source": [
    "ts_plot(g, xmin, xmax, k0, ts_length=20, var='k')"
   ]
  },
  {
   "cell_type": "markdown",
   "id": "825885f2",
   "metadata": {},
   "source": [
    "当人均资本存量高于唯一的正稳态值时，我们可以看到它呈下降趋势："
   ]
  },
  {
   "cell_type": "code",
   "execution_count": null,
   "id": "b9d6fc2f",
   "metadata": {
    "hide-output": false
   },
   "outputs": [],
   "source": [
    "k0 = 2.95\n",
    "\n",
    "plot45(g, xmin, xmax, k0, num_arrows=5, var='k')"
   ]
  },
  {
   "cell_type": "markdown",
   "id": "977a1ac2",
   "metadata": {},
   "source": [
    "这里是一个时间序列："
   ]
  },
  {
   "cell_type": "code",
   "execution_count": null,
   "id": "b1e2f3f0",
   "metadata": {
    "hide-output": false
   },
   "outputs": [],
   "source": [
    "ts_plot(g, xmin, xmax, k0, var='k')"
   ]
  },
  {
   "cell_type": "markdown",
   "id": "258a76e8",
   "metadata": {},
   "source": [
    "### 复杂动态\n",
    "\n",
    "尽管索洛-斯旺模型是非线性的，它仍然能生成非常规律的动态。\n",
    "\n",
    "**二次映射**是一个能生成不规则动态的模型\n",
    "\n",
    "$$\n",
    "g(x) = 4 x (1 - x),\n",
    "\\qquad x \\in [0, 1]\n",
    "$$\n",
    "\n",
    "让我们来看看45度图。"
   ]
  },
  {
   "cell_type": "code",
   "execution_count": null,
   "id": "4b052a3c",
   "metadata": {
    "hide-output": false
   },
   "outputs": [],
   "source": [
    "xmin, xmax = 0, 1\n",
    "g = lambda x: 4 * x * (1 - x)\n",
    "\n",
    "x0 = 0.3\n",
    "plot45(g, xmin, xmax, x0, num_arrows=0)"
   ]
  },
  {
   "cell_type": "markdown",
   "id": "bcca6b22",
   "metadata": {},
   "source": [
    "现在让我们来看一个特定的轨迹。"
   ]
  },
  {
   "cell_type": "code",
   "execution_count": null,
   "id": "f8e4f30d",
   "metadata": {
    "hide-output": false
   },
   "outputs": [],
   "source": [
    "plot45(g, xmin, xmax, x0, num_arrows=6)"
   ]
  },
  {
   "cell_type": "markdown",
   "id": "82388385",
   "metadata": {},
   "source": [
    "注意这个轨迹的不规则性。这种混沌行为是二次映射的典型特征。\n",
    "\n",
    "这是相应的时序图。"
   ]
  },
  {
   "cell_type": "code",
   "execution_count": null,
   "id": "fcadd5f8",
   "metadata": {
    "hide-output": false
   },
   "outputs": [],
   "source": [
    "ts_plot(g, xmin, xmax, x0, ts_length=6)"
   ]
  },
  {
   "cell_type": "markdown",
   "id": "47c4ad0b",
   "metadata": {},
   "source": [
    "在更长的时间范围内，这种不规则性甚至更加明显："
   ]
  },
  {
   "cell_type": "code",
   "execution_count": null,
   "id": "826befec",
   "metadata": {
    "hide-output": false
   },
   "outputs": [],
   "source": [
    "ts_plot(g, xmin, xmax, x0, ts_length=20)"
   ]
  },
  {
   "cell_type": "markdown",
   "id": "ca27c073",
   "metadata": {},
   "source": [
    "## 练习"
   ]
  },
  {
   "cell_type": "markdown",
   "id": "bec5d382",
   "metadata": {},
   "source": [
    "## Exercise 23.1\n",
    "\n",
    "再次考虑线性模型 $ x_{t+1} = a x_t + b $，其中 $ a \\not=1 $。\n",
    "\n",
    "其唯一的稳态为 $ b / (1 - a) $。\n",
    "\n",
    "当 $ |a| < 1 $ 时，该稳态是全局稳定的。\n",
    "\n",
    "请通过选择不同的初始条件并绘制相应的图像来验证这一性质。\n",
    "\n",
    "在 $ a \\in (-1, 0) $ 和 $ a \\in (0, 1) $ 的情况下，你注意到了什么区别？\n",
    "\n",
    "使用 $ a=0.5 $ 和 $ a=-0.5 $ 并分别研究轨迹。\n",
    "\n",
    "在整个过程中设置 $ b=1 $。"
   ]
  },
  {
   "cell_type": "markdown",
   "id": "6f6ae800",
   "metadata": {},
   "source": [
    "## Solution to[ Exercise 23.1](https://quantecon.github.io/lecture-intro.zh-cn/#sd_ex1)\n",
    "\n",
    "我们将从 $ a=0.5 $ 的情况开始。\n",
    "\n",
    "让我们设置模型和绘图区域："
   ]
  },
  {
   "cell_type": "code",
   "execution_count": null,
   "id": "0540aa36",
   "metadata": {
    "hide-output": false
   },
   "outputs": [],
   "source": [
    "a, b = 0.5, 1\n",
    "xmin, xmax = -1, 3\n",
    "g = lambda x: a * x + b"
   ]
  },
  {
   "cell_type": "markdown",
   "id": "66f57470",
   "metadata": {},
   "source": [
    "现在让我们来绘制轨迹："
   ]
  },
  {
   "cell_type": "code",
   "execution_count": null,
   "id": "9921816a",
   "metadata": {
    "hide-output": false
   },
   "outputs": [],
   "source": [
    "x0 = -0.5\n",
    "plot45(g, xmin, xmax, x0, num_arrows=5)"
   ]
  },
  {
   "cell_type": "markdown",
   "id": "07e8a74d",
   "metadata": {},
   "source": [
    "这是相应的时间序列，它收敛于稳态。"
   ]
  },
  {
   "cell_type": "code",
   "execution_count": null,
   "id": "23271260",
   "metadata": {
    "hide-output": false
   },
   "outputs": [],
   "source": [
    "ts_plot(g, xmin, xmax, x0, ts_length=10)"
   ]
  },
  {
   "cell_type": "markdown",
   "id": "22becd9a",
   "metadata": {},
   "source": [
    "现在让我们尝试 $ a=-0.5 $ 并观察有什么不同。\n",
    "\n",
    "我们设置模型和绘图区域为："
   ]
  },
  {
   "cell_type": "code",
   "execution_count": null,
   "id": "370fde07",
   "metadata": {
    "hide-output": false
   },
   "outputs": [],
   "source": [
    "a, b = -0.5, 1\n",
    "xmin, xmax = -1, 3\n",
    "g = lambda x: a * x + b"
   ]
  },
  {
   "cell_type": "markdown",
   "id": "1de9a314",
   "metadata": {},
   "source": [
    "现在让我们来绘制轨迹："
   ]
  },
  {
   "cell_type": "code",
   "execution_count": null,
   "id": "d247fc0a",
   "metadata": {
    "hide-output": false
   },
   "outputs": [],
   "source": [
    "x0 = -0.5\n",
    "plot45(g, xmin, xmax, x0, num_arrows=5)"
   ]
  },
  {
   "cell_type": "markdown",
   "id": "90d12b26",
   "metadata": {},
   "source": [
    "以上是相应的时间序列，它收敛于稳态。"
   ]
  },
  {
   "cell_type": "code",
   "execution_count": null,
   "id": "78c05944",
   "metadata": {
    "hide-output": false
   },
   "outputs": [],
   "source": [
    "ts_plot(g, xmin, xmax, x0, ts_length=10)"
   ]
  },
  {
   "cell_type": "markdown",
   "id": "9a798572",
   "metadata": {},
   "source": [
    "我们同样观察到序列收敛到稳态，但收敛方式明显不同。\n",
    "\n",
    "这次时间序列不是单调收敛，而是在稳态值的上下来回波动，逐渐接近稳态。\n",
    "\n",
    "这种在接近稳态过程中振幅逐渐减小的波动模式，在动力系统中被称为**阻尼振荡**。"
   ]
  }
 ],
 "metadata": {
  "date": 1743834080.8478649,
  "filename": "scalar_dynam.md",
  "kernelspec": {
   "display_name": "Python",
   "language": "python3",
   "name": "python3"
  },
  "title": "一维动力学"
 },
 "nbformat": 4,
 "nbformat_minor": 5
}