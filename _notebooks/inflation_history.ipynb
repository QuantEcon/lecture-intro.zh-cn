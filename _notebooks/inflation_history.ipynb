{
 "cells": [
  {
   "cell_type": "markdown",
   "id": "d04a9379",
   "metadata": {},
   "source": [
    "# 价格水平历史\n",
    "\n",
    "本讲将讨论一些关于综合价格指数波动的历史数据。\n",
    "\n",
    "我们首先安装必要的Python包。\n",
    "\n",
    "这里引入 `xlrd`是因为 `pandas` 需要它来对Excel文件执行操作。"
   ]
  },
  {
   "cell_type": "code",
   "execution_count": null,
   "id": "886376bd",
   "metadata": {
    "hide-output": false
   },
   "outputs": [],
   "source": [
    "!pip install xlrd"
   ]
  },
  {
   "cell_type": "code",
   "execution_count": null,
   "id": "748f125d",
   "metadata": {
    "hide-output": false
   },
   "outputs": [],
   "source": [
    "from importlib.metadata import version\n",
    "from packaging.version import Version\n",
    "\n",
    "if Version(version(\"pandas\")) < Version('2.1.4'):\n",
    "    !pip install \"pandas>=2.1.4\""
   ]
  },
  {
   "cell_type": "markdown",
   "id": "29514eaa",
   "metadata": {},
   "source": [
    "我们现在导入本讲所需的Python库。"
   ]
  },
  {
   "cell_type": "code",
   "execution_count": null,
   "id": "8105033c",
   "metadata": {
    "hide-output": false
   },
   "outputs": [],
   "source": [
    "import numpy as np\n",
    "import pandas as pd\n",
    "import matplotlib.pyplot as plt\n",
    "import matplotlib.dates as mdates\n",
    "\n",
    "import matplotlib as mpl\n",
    "FONTPATH = \"fonts/SourceHanSerifSC-SemiBold.otf\"\n",
    "mpl.font_manager.fontManager.addfont(FONTPATH)\n",
    "plt.rcParams['font.family'] = ['Source Han Serif SC']"
   ]
  },
  {
   "cell_type": "markdown",
   "id": "1525d220",
   "metadata": {},
   "source": [
    "价格水平的增长率在媒体和央行及财政官员的口中被称为**通货膨胀**。\n",
    "\n",
    "价格水平是以国内货币单位对一组一篮子消费品的单位进行衡量的。\n",
    "\n",
    "因此，在美国，$ t $时期的价格水平以美元（$ t $月或$ t $年）对一单位一篮子消费品的比值计算。\n",
    "\n",
    "20世纪初之前，在许多西方经济体中，价格水平虽然年复一年地波动，但趋势不太明显。\n",
    "\n",
    "通常价格水平在一个世纪结束时与其开始时相近。\n",
    "\n",
    "20世纪的情况则有所不同，我们将在本讲中看到。\n",
    "\n",
    "一个广为接受的解释是20世纪初期各国放弃了金本位和银本位制度。\n",
    "\n",
    "本讲为后续几讲做好了铺垫，这些后续几讲中我们将用宏观经济学家的角度来思考决定价格水平的因素，即[价格水平的货币主义理论](https://quantecon.github.io/lecture-intro.zh-cn/cagan_ree.html) 和 [具有自适应预期的价格水平货币主义理论](https://quantecon.github.io/lecture-intro.zh-cn/cagan_adaptive.html)"
   ]
  },
  {
   "cell_type": "markdown",
   "id": "05513726",
   "metadata": {},
   "source": [
    "## 四个世纪的价格水平\n",
    "\n",
    "我们首先展示最初出现在 [[Sargent and Velde, 2002](https://quantecon.github.io/lecture-intro.zh-cn/zreferences.html#id12)] 第35页的数据，其中包含了自1600年到1914年四个“硬通货”国家的价格水平。\n",
    "\n",
    "- 法国  \n",
    "- 西班牙（卡斯蒂利亚）  \n",
    "- 英国  \n",
    "- 美国  \n",
    "\n",
    "\n",
    "在当前语境中，“硬通货”一词意味着这些国家采用了商品货币标准：货币由金银币组成，这些金银币的流通价值主要由它们的金银含量决定。\n",
    "\n",
    ">**Note**\n",
    ">\n",
    ">在金本位或银本位制下，一些货币还包括”仓单”，即代表对金币或银币索赔权的纸质凭证。政府或私人银行发行的钞票可以被视为这种”仓单”的例子。\n",
    "\n",
    "我们用 `pandas`导入一个托管在Github上的[电子表格](https://github.com/QuantEcon/lecture-python-intro/tree/main/lectures/datasets)。"
   ]
  },
  {
   "cell_type": "code",
   "execution_count": null,
   "id": "c156a023",
   "metadata": {
    "hide-output": false
   },
   "outputs": [],
   "source": [
    "# 导入数据并清理索引\n",
    "data_url = \"https://github.com/QuantEcon/lecture-python-intro/raw/main/lectures/datasets/longprices.xls\"\n",
    "df_fig5 = pd.read_excel(data_url, \n",
    "                        sheet_name='all', \n",
    "                        header=2, \n",
    "                        index_col=0).iloc[1:]\n",
    "df_fig5.index = df_fig5.index.astype(int)"
   ]
  },
  {
   "cell_type": "markdown",
   "id": "4c27a2b6",
   "metadata": {},
   "source": [
    "我们首先绘制1600年至1914年间的价格水平。\n",
    "\n",
    "在这段时间的大多数年份内，这些国家采用金本位或银本位。"
   ]
  },
  {
   "cell_type": "code",
   "execution_count": null,
   "id": "fe3b41fb",
   "metadata": {
    "hide-output": false
   },
   "outputs": [],
   "source": [
    "df_fig5_befe1914 = df_fig5[df_fig5.index <= 1914]\n",
    "\n",
    "# 创建图表\n",
    "cols = ['UK', 'US', 'France', 'Castile']\n",
    "cols_cn = ['英国', '美国', '法国', '卡斯蒂利亚']\n",
    "\n",
    "fig, ax = plt.subplots(figsize=(10,6))\n",
    "\n",
    "for col, col_cn in zip(cols, cols_cn):\n",
    "    ax.plot(df_fig5_befe1914.index, \n",
    "            df_fig5_befe1914[col], label=col_cn, lw=2)\n",
    "\n",
    "ax.legend()\n",
    "ax.set_ylabel('指数 1913 = 100')\n",
    "ax.set_xlabel('年份')\n",
    "ax.set_xlim(xmin=1600)\n",
    "plt.tight_layout()\n",
    "plt.show()"
   ]
  },
  {
   "cell_type": "markdown",
   "id": "78356c90",
   "metadata": {},
   "source": [
    "我们说“大多数年份”是因为金本位或银本位制度曾经有过暂时的中断。\n",
    "\n",
    "通过仔细观察 Fig. 4.1，你可能能猜到这些中断发生的时间，因为这些时期的价格水平出现了显著的暂时性上涨：\n",
    "\n",
    "- 1791-1797年的法国（法国大革命）  \n",
    "- 1776-1790年的美国（从大英帝国独立的战争）  \n",
    "- 1861-1865年的美国（南北战争）  \n",
    "\n",
    "\n",
    "在这些事件期间，当政府为了支付战争支出而印制纸币时，金银本位被暂时放弃。\n",
    "\n",
    ">**Note**\n",
    ">\n",
    ">[法国大革命期间的通货膨胀](https://quantecon.github.io/lecture-intro.zh-cn/french_rev.html) 讲述了在法国大革命期间发生的大通胀的历史。\n",
    "\n",
    "尽管出现了这些暂时的中断，图中一个显著的特点是三个世纪以来价格水平大致保持恒定。\n",
    "\n",
    "在这个世纪初期，这些数据的另外两个特点引起了耶鲁大学的[欧文·费雪（Irving Fisher）]([https://baike.baidu.com/item/欧文·费雪/9127963#:~:text=欧文·费雪(Irving Fisher,年获哲学博士学位。)和剑桥大学的](https://baike.baidu.com/item/%E6%AC%A7%E6%96%87%C2%B7%E8%B4%B9%E9%9B%AA/9127963#:~:text=%E6%AC%A7%E6%96%87%C2%B7%E8%B4%B9%E9%9B%AA%28Irving%20Fisher,%E5%B9%B4%E8%8E%B7%E5%93%B2%E5%AD%A6%E5%8D%9A%E5%A3%AB%E5%AD%A6%E4%BD%8D%E3%80%82%29%E5%92%8C%E5%89%91%E6%A1%A5%E5%A4%A7%E5%AD%A6%E7%9A%84)[约翰·梅纳德·凯恩斯（John Maynard Keynes）](https://baike.baidu.com/item/%E7%BA%A6%E7%BF%B0%C2%B7%E6%A2%85%E7%BA%B3%E5%BE%B7%C2%B7%E5%87%AF%E6%81%A9%E6%96%AF/4525330)的关注。\n",
    "\n",
    "- 尽管长期锚定在相同的平均水平上，年度价格水平的波动还是很大  \n",
    "- 虽然使用有价值的黄金和白银作为货币成功地通过限制货币供给稳定了价格水平，但这需要消耗现实的资源 –  \n",
    "- 一个国家使用金银币作为货币支付了高昂的“机会成本”——那些金银本可以制成有价值的珠宝和其他耐用品。  \n",
    "\n",
    "\n",
    "凯恩斯和费雪提出了他们认为可以更有效地实现价格水平稳定的方式：\n",
    "\n",
    "- 既能像金银本位下一样稳固地锚定价格水平，  \n",
    "- 也能减少年度短期波动。  \n",
    "\n",
    "\n",
    "他们说，中央银行可以通过以下方式实现价格水平的稳定\n",
    "\n",
    "- 发行**有限供应**的纸币  \n",
    "- 拒绝印制钞票为政府支出提供资金  \n",
    "\n",
    "\n",
    "这种逻辑促使约翰·梅纳德·凯恩斯称商品本位制为 “野蛮的遗物”。\n",
    "\n",
    "纸币或 “法定货币 ”体系使货币脱离其背后支持它的储备。\n",
    "\n",
    "但是，坚持金本位制或银本位制提供了一种自动限制货币供应量的机制，从而锚定了价格水平。\n",
    "\n",
    "为了锚定价格水平，纯粹的纸币或法定货币体系用中央银行取代了这一自动机制，中央银行拥有限制货币供应的权力和决心（并能阻止造假者！）。\n",
    "\n",
    "现在，让我们通过展示原载于[[Sargent and Velde, 2002](https://quantecon.github.io/lecture-intro.zh-cn/zreferences.html#id12)]第35页的完整图表，来看看1914年之后，当四个国家相继脱离金/银本位制时，它们的物价水平发生了什么变化。"
   ]
  },
  {
   "cell_type": "code",
   "execution_count": null,
   "id": "1d2fcd25",
   "metadata": {
    "hide-output": false
   },
   "outputs": [],
   "source": [
    "fig, ax = plt.subplots(dpi=200)\n",
    "\n",
    "for col, col_cn in zip(cols, cols_cn):\n",
    "    ax.plot(df_fig5.index, df_fig5[col], lw=2)\n",
    "    ax.text(x=df_fig5.index[-1]+2, \n",
    "            y=df_fig5[col].iloc[-1], s=col_cn)\n",
    "\n",
    "ax.set_yscale('log')\n",
    "ax.set_ylabel('价格水平对数（指数1913=100）')\n",
    "ax.set_ylim([10, 1e6])\n",
    "ax.set_xlabel('年份')\n",
    "ax.set_xlim(xmin=1600)\n",
    "plt.tight_layout()\n",
    "plt.show()"
   ]
  },
  {
   "cell_type": "markdown",
   "id": "36d51337",
   "metadata": {},
   "source": [
    "Fig. 4.2显示，印制纸币的中央银行在锚定价格水平方面的表现不如金本位和银本位。\n",
    "\n",
    "这可能会让凯恩斯和费雪感到惊讶或失望。\n",
    "\n",
    "事实上，早在凯恩斯和费雪在20世纪初倡导法定货币制度之前，早期的经济学家和政治家们就知道法定货币制度的可能性。\n",
    "\n",
    "商品货币体系的支持者不相信政府和中央银行能够妥善管理法定货币体系。\n",
    "\n",
    "他们愿意支付与建立和维护商品货币体系相关的资源成本。\n",
    "\n",
    "鉴于许多国家在20世纪放弃商品货币后经历了持续的高通胀，我们也可以理解为什么金本位制或银本位制的倡导者倾向于维持1914年前的金/银本位制。\n",
    "\n",
    "二十世纪在纸币法定本位制下经历的通货膨胀的广度和长度在历史上都是前所未有的。"
   ]
  },
  {
   "cell_type": "markdown",
   "id": "80961f7d",
   "metadata": {},
   "source": [
    "## 四次大通胀\n",
    "\n",
    "在 1918 年 11 月结束的第一次世界大战之后，货币和财政当局艰难地在尝试不实行金本位或银本位的情况下实现价格水平的稳定。\n",
    "\n",
    "我们展示了[[Sargent, 2013](https://quantecon.github.io/lecture-intro.zh-cn/zreferences.html#id13)]第3章 “四次大通胀的结局” 中的四幅图。\n",
    "\n",
    "这些图表描述了第一次世界大战后初期四个国家价格水平的对数：\n",
    "\n",
    "- 图 3.1：1921-1924 年奥地利的零售价格（第 42 页）  \n",
    "- 图 3.2：1921-1924 年匈牙利的批发价格（第 43 页）  \n",
    "- 图 3.3：批发价格，波兰，1921-1924 年（第 44 页）  \n",
    "- 图 3.4：批发价格，德国，1919-1924 年（第 45 页）  \n",
    "\n",
    "\n",
    "我们在四幅图中的每一幅都加上了相对美元汇率的对数。\n",
    "\n",
    "图表的基础数据载于[[Sargent, 2013](https://quantecon.github.io/lecture-intro.zh-cn/zreferences.html#id13)]第3章附录中的表格。\n",
    "我们将所有这些数据转录到电子表格 <a href=https://github.com/QuantEcon/lecture-python-intro/raw/main/lectures/datasets/chapter_3.xlsx download>chapter_3.xlsx</a> 中，并将其读入 pandas。\n",
    "\n",
    "在下面的代码单元中，我们将清理数据并构建一个 `pandas.dataframe`。"
   ]
  },
  {
   "cell_type": "code",
   "execution_count": null,
   "id": "83181141",
   "metadata": {
    "hide-output": false
   },
   "outputs": [],
   "source": [
    "def process_entry(entry):\n",
    "    \"清理数据帧的每个条目\"\n",
    "  \n",
    "    if type(entry) == str:\n",
    "        # 删除前导和尾部空白\n",
    "        entry = entry.strip()\n",
    "        # 删除逗号\n",
    "        entry = entry.replace(',', '')\n",
    "  \n",
    "        # 删除 HTML 标记\n",
    "        item_to_remove = ['<s>a</s>', '<s>c</s>', \n",
    "                          '<s>d</s>', '<s>e</s>']\n",
    "\n",
    "        # <s>b</s> 代表十亿\n",
    "        if '<s>b</s>' in entry:\n",
    "            entry = entry.replace('<s>b</s>', '')\n",
    "            entry = float(entry) * 1e9\n",
    "        else:\n",
    "            for item in item_to_remove:\n",
    "                if item in entry:\n",
    "                    entry = entry.replace(item, '')\n",
    "    return entry\n",
    "\n",
    "def process_df(df):\n",
    "    \"Clean and reorganize the entire dataframe.\"\n",
    "  \n",
    "    # 删除列名中的 HTML 标记\n",
    "    for item in ['<s>a</s>', '<s>c</s>', '<s>d</s>', '<s>e</s>']:\n",
    "        df.columns = df.columns.str.replace(item, '')\n",
    "      \n",
    "    # 将年份转换为整数\n",
    "    df['Year'] = df['Year'].apply(lambda x: int(x))\n",
    "  \n",
    "    # 将索引设置为包含年月的日期时间\n",
    "    df = df.set_index(\n",
    "            pd.to_datetime(\n",
    "                (df['Year'].astype(str) + \\\n",
    "                 df['Month'].astype(str)), \n",
    "                format='%Y%B'))\n",
    "    df = df.drop(['Year', 'Month'], axis=1)\n",
    "  \n",
    "     # 处理重复数据，保留第一个数据 \n",
    "    df = df[~df.index.duplicated(keep='first')]\n",
    "  \n",
    "   # 将属性值转换为数字\n",
    "    df = df.map(lambda x: float(x) \\\n",
    "                if x != '—' else np.nan)\n",
    "  \n",
    "    # 最后，我们只关注 1919 年到 1925 年之间的数据\n",
    "    mask = (df.index >= '1919-01-01') & \\\n",
    "           (df.index < '1925-01-01')\n",
    "    df = df.loc[mask]\n",
    "\n",
    "    return df"
   ]
  },
  {
   "cell_type": "markdown",
   "id": "ca035a49",
   "metadata": {},
   "source": [
    "现在，我们编写绘图函数 `pe_plot` 和 `pr_plot` ，它们将绘制出价格水平、汇率、和通货膨胀率的图表。"
   ]
  },
  {
   "cell_type": "code",
   "execution_count": null,
   "id": "6cf8d367",
   "metadata": {
    "hide-output": false
   },
   "outputs": [],
   "source": [
    "def pe_plot(p_seq, e_seq, index, labs, ax):\n",
    "    \"生成价格和汇率图\"\n",
    "\n",
    "    p_lab, e_lab = labs\n",
    "  \n",
    "    # 绘制价格和汇率图\n",
    "    ax.plot(index, p_seq, label=p_lab, color='tab:blue', lw=2)\n",
    "  \n",
    "    # 添加新轴\n",
    "    ax1 = ax.twinx()\n",
    "    ax1.plot([None], [None], label=p_lab, color='tab:blue', lw=2)\n",
    "    ax1.plot(index, e_seq, label=e_lab, color='tab:orange', lw=2)\n",
    "  \n",
    "    # 设置对数轴\n",
    "    ax.set_yscale('log')\n",
    "    ax1.set_yscale('log')\n",
    "  \n",
    "    # 定义轴标签格式\n",
    "    ax.xaxis.set_major_locator(\n",
    "        mdates.MonthLocator(interval=5))\n",
    "    ax.xaxis.set_major_formatter(\n",
    "        mdates.DateFormatter('%b %Y'))\n",
    "    for label in ax.get_xticklabels():\n",
    "        label.set_rotation(45)\n",
    "  \n",
    "    # 设置标签\n",
    "    ax.set_ylabel('价格水平')\n",
    "    ax1.set_ylabel('汇率')\n",
    "  \n",
    "    ax1.legend(loc='upper left')\n",
    "  \n",
    "    return ax1\n",
    "\n",
    "def pr_plot(p_seq, index, ax):\n",
    "    \"生成通货膨胀率图\"\n",
    "\n",
    "    # 计算对数 p_seq 的差值\n",
    "    log_diff_p = np.diff(np.log(p_seq))\n",
    "  \n",
    "    # 计算并绘制移动平均值\n",
    "    diff_smooth = pd.DataFrame(log_diff_p).rolling(3, center=True).mean()\n",
    "    ax.plot(index[1:], diff_smooth, label='移动平均数（3 期）', alpha=0.5, lw=2)\n",
    "    ax.set_ylabel('通胀率')\n",
    "  \n",
    "    ax.xaxis.set_major_locator(\n",
    "        mdates.MonthLocator(interval=5))\n",
    "    ax.xaxis.set_major_formatter(\n",
    "        mdates.DateFormatter('%b %Y'))\n",
    "  \n",
    "    for label in ax.get_xticklabels():\n",
    "        label.set_rotation(45)\n",
    "  \n",
    "    ax.legend()\n",
    "\n",
    "    return ax"
   ]
  },
  {
   "cell_type": "markdown",
   "id": "7a82dd29",
   "metadata": {},
   "source": [
    "接下来我们为每个国家准备数据"
   ]
  },
  {
   "cell_type": "code",
   "execution_count": null,
   "id": "f88ab269",
   "metadata": {
    "hide-output": false
   },
   "outputs": [],
   "source": [
    "# 导入数据\n",
    "data_url = \"https://github.com/QuantEcon/lecture-python-intro/raw/main/lectures/datasets/chapter_3.xlsx\"\n",
    "xls = pd.ExcelFile(data_url)\n",
    "\n",
    "# 选择相关的数据表\n",
    "sheet_index = [(2, 3, 4), \n",
    "               (9, 10), \n",
    "               (14, 15, 16), \n",
    "               (21, 18, 19)]\n",
    "\n",
    "# 删除多余的行\n",
    "remove_row = [(-2, -2, -2), \n",
    "              (-7, -10), \n",
    "              (-6, -4, -3), \n",
    "              (-19, -3, -6)]\n",
    "\n",
    "# 对每个国家的序列进行解包和合并\n",
    "df_list = []\n",
    "\n",
    "for i in range(4):\n",
    "  \n",
    "    indices, rows = sheet_index[i], remove_row[i]\n",
    "  \n",
    "    # 在选定的工作表上应用 process_entry\n",
    "    sheet_list = [\n",
    "        pd.read_excel(xls, 'Table3.' + str(ind), \n",
    "            header=1).iloc[:row].map(process_entry)\n",
    "        for ind, row in zip(indices, rows)]\n",
    "  \n",
    "    sheet_list = [process_df(df) for df in sheet_list]\n",
    "    df_list.append(pd.concat(sheet_list, axis=1))\n",
    "\n",
    "df_aus, df_hun, df_pol, df_deu = df_list"
   ]
  },
  {
   "cell_type": "markdown",
   "id": "c3e0409c",
   "metadata": {},
   "source": [
    "现在，我们为四个国家绘制图表。\n",
    "\n",
    "我们将为每个国家绘制两幅图。\n",
    "\n",
    "第一幅图绘制的是\n",
    "\n",
    "- 价格水平  \n",
    "- 相对于美元的汇率  \n",
    "\n",
    "\n",
    "对于每个国家，图表右侧的刻度与价格水平相关，而图表左侧的刻度与汇率相关。\n",
    "\n",
    "对于每个国家，第二张图表绘制的是通货膨胀率的三个月居中移动平均值，定义为 $ \\frac{p_{t-1}+p_t+p_{t+1}}{3} $。"
   ]
  },
  {
   "cell_type": "markdown",
   "id": "b51f9d17",
   "metadata": {},
   "source": [
    "### 奥地利\n",
    "\n",
    "我们的数据来源是\n",
    "\n",
    "- 表 3.3，零售价格水平 $ \\exp p $  \n",
    "- 表 3.4，与美国的汇率  "
   ]
  },
  {
   "cell_type": "code",
   "execution_count": null,
   "id": "56dbc0e6",
   "metadata": {
    "hide-output": false
   },
   "outputs": [],
   "source": [
    "p_seq = df_aus['Retail price index, 52 commodities']\n",
    "e_seq = df_aus['Exchange Rate']\n",
    "\n",
    "lab = ['零售价格指数', \n",
    "       '奥地利克朗兑美分']\n",
    "\n",
    "# 创建图表\n",
    "fig, ax = plt.subplots(dpi=200)\n",
    "ax1 = pe_plot(p_seq, e_seq, df_aus.index, lab, ax)\n",
    "ax1.xaxis.set_major_locator(mdates.MonthLocator(interval=8))\n",
    "ax1.xaxis.set_major_formatter(mdates.DateFormatter('%Y年%m月'))\n",
    "\n",
    "plt.show()"
   ]
  },
  {
   "cell_type": "code",
   "execution_count": null,
   "id": "657ed5f7",
   "metadata": {
    "hide-output": false
   },
   "outputs": [],
   "source": [
    "# 绘制移动平均线\n",
    "fig, ax = plt.subplots(dpi=200)\n",
    "ax1 = pr_plot(p_seq, df_aus.index, ax)\n",
    "ax1.xaxis.set_major_locator(mdates.MonthLocator(interval=8))\n",
    "ax1.xaxis.set_major_formatter(mdates.DateFormatter('%Y年%m月'))\n",
    "\n",
    "plt.show()"
   ]
  },
  {
   "cell_type": "markdown",
   "id": "cc389f78",
   "metadata": {},
   "source": [
    "观察 Fig. 4.3 和 Fig. 4.4 我们可以看到：\n",
    "\n",
    "- “超级通货膨胀”的一段时期中，价格水平的对数迅速上升，月通胀率非常高  \n",
    "- 超级通货膨胀的突然停止，表现为价格水平的对数的突然变平，以及三个月平均通胀率的显著且永久地下降  \n",
    "- 美元汇率跟随价格水平走势。  \n",
    "\n",
    "\n",
    "我们将在接下来的三个案例中看到类似的模式。"
   ]
  },
  {
   "cell_type": "markdown",
   "id": "fc17b64b",
   "metadata": {},
   "source": [
    "### 匈牙利\n",
    "\n",
    "我们的数据来源为：\n",
    "\n",
    "- 表 3.10，价格水平 $ \\exp p $ 和汇率  "
   ]
  },
  {
   "cell_type": "code",
   "execution_count": null,
   "id": "4d693db5",
   "metadata": {
    "hide-output": false
   },
   "outputs": [],
   "source": [
    "p_seq = df_hun['Hungarian index of prices']\n",
    "e_seq = 1 / df_hun['Cents per crown in New York']\n",
    "\n",
    "lab = ['匈牙利价格指数', \n",
    "       '匈牙利克朗兑美分']\n",
    "\n",
    "# 创建图表\n",
    "fig, ax = plt.subplots(dpi=200)\n",
    "ax1 = pe_plot(p_seq, e_seq, df_hun.index, lab, ax)\n",
    "ax1.xaxis.set_major_locator(mdates.MonthLocator(interval=8))\n",
    "ax1.xaxis.set_major_formatter(mdates.DateFormatter('%Y年%m月'))\n",
    "\n",
    "plt.show()"
   ]
  },
  {
   "cell_type": "code",
   "execution_count": null,
   "id": "0d579697",
   "metadata": {
    "hide-output": false
   },
   "outputs": [],
   "source": [
    "# 绘制移动平均线\n",
    "fig, ax = plt.subplots(dpi=200)\n",
    "ax1 = pr_plot(p_seq, df_hun.index, ax)\n",
    "ax1.xaxis.set_major_locator(mdates.MonthLocator(interval=8))\n",
    "ax1.xaxis.set_major_formatter(mdates.DateFormatter('%Y年%m月'))\n",
    "plt.show()"
   ]
  },
  {
   "cell_type": "markdown",
   "id": "da2700da",
   "metadata": {},
   "source": [
    "### 波兰\n",
    "\n",
    "波兰的数据来源如下\n",
    "\n",
    "- 表 3.15，价格水平 $ \\exp p $  \n",
    "- 表 3.15，汇率  \n",
    "\n",
    "\n",
    ">**Note**\n",
    ">\n",
    ">为了从电子表格中的数据构建价格水平序列，我们遵循 [[Sargent, 2013](https://quantecon.github.io/lecture-intro.zh-cn/zreferences.html#id13)] 第 3 章中的相同程序。\n",
    "\n",
    "我们将三个序列拼接在一起——批发价格指数、基于纸币的批发价格指数和基于兹罗提（1924年6月后的波兰货币）的批发价格指数。\n",
    "\n",
    "我们根据前一个可用序列最后一期的价格水平比率调整了序列，并将它们粘合在一起构建成单一序列。\n",
    "\n",
    "我们在1924年6月兹罗提被采用后放弃了汇率。我们这样做是因为我们没有以兹罗提计量的价格。我们使用6月的旧货币来计算汇率调整。"
   ]
  },
  {
   "cell_type": "code",
   "execution_count": null,
   "id": "9808db4f",
   "metadata": {
    "hide-output": false
   },
   "outputs": [],
   "source": [
    "# Splice three price series in different units\n",
    "p_seq1 = df_pol['Wholesale price index'].copy()\n",
    "p_seq2 = df_pol['Wholesale Price Index: '\n",
    "                'On paper currency basis'].copy()\n",
    "p_seq3 = df_pol['Wholesale Price Index: ' \n",
    "                'On zloty basis'].copy()\n",
    "\n",
    "# Non-nan part\n",
    "mask_1 = p_seq1[~p_seq1.isna()].index[-1]\n",
    "mask_2 = p_seq2[~p_seq2.isna()].index[-2]\n",
    "\n",
    "adj_ratio12 = (p_seq1[mask_1] / p_seq2[mask_1])\n",
    "adj_ratio23 = (p_seq2[mask_2] / p_seq3[mask_2])\n",
    "\n",
    "# Glue three series\n",
    "p_seq = pd.concat([p_seq1[:mask_1], \n",
    "                   adj_ratio12 * p_seq2[mask_1:mask_2], \n",
    "                   adj_ratio23 * p_seq3[mask_2:]])\n",
    "p_seq = p_seq[~p_seq.index.duplicated(keep='first')]\n",
    "\n",
    "# Exchange rate\n",
    "e_seq = 1/df_pol['Cents per Polish mark (zloty after May 1924)']\n",
    "e_seq[e_seq.index > '05-01-1924'] = np.nan"
   ]
  },
  {
   "cell_type": "code",
   "execution_count": null,
   "id": "5052fcfa",
   "metadata": {
    "hide-output": false
   },
   "outputs": [],
   "source": [
    "lab = ['批发价格指数', \n",
    "       '波兰马克兑美分(或1924年6月后的波兰兹罗提)']\n",
    "\n",
    "# 创建图表\n",
    "fig, ax = plt.subplots(dpi=200)\n",
    "ax1 = pe_plot(p_seq, e_seq, df_pol.index, lab, ax)\n",
    "ax1.xaxis.set_major_locator(mdates.MonthLocator(interval=8))\n",
    "ax1.xaxis.set_major_formatter(mdates.DateFormatter('%Y年%m月'))\n",
    "plt.show()"
   ]
  },
  {
   "cell_type": "code",
   "execution_count": null,
   "id": "72af7a2f",
   "metadata": {
    "hide-output": false
   },
   "outputs": [],
   "source": [
    "# 绘制移动平均线\n",
    "fig, ax = plt.subplots(dpi=200)\n",
    "ax1 = pr_plot(p_seq, df_pol.index, ax)\n",
    "ax1.xaxis.set_major_locator(mdates.MonthLocator(interval=8))\n",
    "ax1.xaxis.set_major_formatter(mdates.DateFormatter('%Y年%m月'))\n",
    "\n",
    "plt.show()"
   ]
  },
  {
   "cell_type": "markdown",
   "id": "a1f88d1f",
   "metadata": {},
   "source": [
    "### 德国\n",
    "\n",
    "德国的数据来源于[[Sargent, 2013](https://quantecon.github.io/lecture-intro.zh-cn/zreferences.html#id13)]第 3 章中的以下表格：\n",
    "\n",
    "- 表 3.18，批发价格水平 $ \\exp p $  \n",
    "- 表 3.19，汇率  "
   ]
  },
  {
   "cell_type": "code",
   "execution_count": null,
   "id": "7b44642a",
   "metadata": {
    "hide-output": false
   },
   "outputs": [],
   "source": [
    "p_seq = df_deu['Price index (on basis of marks before July 1924,'\n",
    "                '  reichsmarks after)'].copy()\n",
    "e_seq = 1/df_deu['Cents per mark']\n",
    "\n",
    "lab = ['价格指数', \n",
    "       '马克兑美分']\n",
    "\n",
    "# 创建图表\n",
    "fig, ax = plt.subplots(dpi=200)\n",
    "ax1 = pe_plot(p_seq, e_seq, df_deu.index, lab, ax)\n",
    "ax1.xaxis.set_major_locator(mdates.MonthLocator(interval=8))\n",
    "ax1.xaxis.set_major_formatter(mdates.DateFormatter('%Y年%m月'))\n",
    "\n",
    "plt.show()"
   ]
  },
  {
   "cell_type": "code",
   "execution_count": null,
   "id": "e379bed8",
   "metadata": {
    "hide-output": false
   },
   "outputs": [],
   "source": [
    "p_seq = df_deu['Price index (on basis of marks before July 1924,'\n",
    "                '  reichsmarks after)'].copy()\n",
    "e_seq = 1/df_deu['Cents per mark'].copy()\n",
    "\n",
    "# 货币改革后调整价格水平/汇率\n",
    "p_seq[p_seq.index > '06-01-1924'] = p_seq[p_seq.index \n",
    "                                          > '06-01-1924'] * 1e12\n",
    "e_seq[e_seq.index > '12-01-1923'] = e_seq[e_seq.index \n",
    "                                          > '12-01-1923'] * 1e12\n",
    "\n",
    "lab = ['价格指数（马克或换算成马克）', \n",
    "       '马克兑美分（或德国马克换算成马克）']\n",
    "\n",
    "# Create plot\n",
    "fig, ax = plt.subplots(dpi=200)\n",
    "ax1 = pe_plot(p_seq, e_seq, df_deu.index, lab, ax)\n",
    "ax1.xaxis.set_major_locator(mdates.MonthLocator(interval=8))\n",
    "ax1.xaxis.set_major_formatter(mdates.DateFormatter('%Y年%m月'))\n",
    "\n",
    "plt.show()"
   ]
  },
  {
   "cell_type": "code",
   "execution_count": null,
   "id": "63920729",
   "metadata": {
    "hide-output": false
   },
   "outputs": [],
   "source": [
    "# 绘制移动平均线\n",
    "fig, ax = plt.subplots(dpi=200)\n",
    "ax1 = pr_plot(p_seq, df_deu.index, ax)\n",
    "ax1.xaxis.set_major_locator(mdates.MonthLocator(interval=8))\n",
    "ax1.xaxis.set_major_formatter(mdates.DateFormatter('%Y年%m月'))\n",
    "plt.show()"
   ]
  },
  {
   "cell_type": "markdown",
   "id": "02d8787c",
   "metadata": {},
   "source": [
    "## 大通胀的开始和停止\n",
    "\n",
    "奥地利、匈牙利、波兰和德国的价格水平在快速上升后，下降得如此之快，这一现象令人瞩目。\n",
    "\n",
    "这些“突然停止”还表现在上述四个国家的三月移动平均通胀率的永久性下降。\n",
    "\n",
    "此外，这四个国家的美元汇率走势与其价格水平相似。\n",
    "\n",
    ">**Note**\n",
    ">\n",
    ">这种模式是汇率兑换率理论中[购买力平价理论](https://en.wikipedia.org/wiki/Purchasing_power_parity)的一个实例。\n",
    "\n",
    "这些大通胀似乎都“在一瞬间停止”。\n",
    "\n",
    "[[Sargent and Velde, 2002](https://quantecon.github.io/lecture-intro.zh-cn/zreferences.html#id12)] 的第3章对这一显著模式提供了解释。\n",
    "\n",
    "简而言之，他们提供的解释如下。\n",
    "\n",
    "一战后，美国实行了金本位制。\n",
    "\n",
    "美国政府随时准备按指定数量的金子兑换一美元。\n",
    "\n",
    "一战后，匈牙利、奥地利、波兰和德国没有立刻实行金本位制。\n",
    "\n",
    "他们的货币是“法定”或“无支持”的，意思是他们不受政府将其兑换成金银币的可信承诺的支持。\n",
    "\n",
    "政府可以印制新的纸币来支付货物和服务。\n",
    "\n",
    ">**Note**\n",
    ">\n",
    ">从技术上讲，这些票据主要由国库券支持。\n",
    "\n",
    "但人们不能指望这些国库券会通过征税来偿还，而是通过印制更多的票据或国库券来偿还。\n",
    "\n",
    "这种行为的规模之大，导致了各国货币的惊人贬值。\n",
    "\n",
    "[[Sargent and Velde, 2002](https://quantecon.github.io/lecture-intro.zh-cn/zreferences.html#id12)]第3章描述了匈牙利、奥地利、波兰和德国为结束恶性通货膨胀而刻意改变政策的情况。\n",
    "\n",
    "每个国家的政府都停止印刷钞票来支付商品和服务，并使本国货币可兑换成美元或英镑。\n",
    "\n",
    "[[Sargent and Velde, 2002](https://quantecon.github.io/lecture-intro.zh-cn/zreferences.html#id12)]中讲述的故事是以[价格水平的货币主义理论](https://quantecon.github.io/lecture-intro.zh-cn/cagan_ree.html)和[具有自适应预期的价格水平货币主义理论](https://quantecon.github.io/lecture-intro.zh-cn/cagan_adaptive.html)中描述的价格水平货币主义理论为基础的。\n",
    "\n",
    "这些章节讨论了这些快速贬值货币的持有者在想什么，以及他们的看法如何影响通货膨胀对政府货币和财政政策的反应。"
   ]
  }
 ],
 "metadata": {
  "date": 1741394697.2706032,
  "filename": "inflation_history.md",
  "kernelspec": {
   "display_name": "Python",
   "language": "python3",
   "name": "python3"
  },
  "title": "价格水平历史"
 },
 "nbformat": 4,
 "nbformat_minor": 5
}