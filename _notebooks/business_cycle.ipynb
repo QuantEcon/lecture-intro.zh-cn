{
 "cells": [
  {
   "cell_type": "markdown",
   "id": "b4cf488b",
   "metadata": {},
   "source": [
    "# 商业周期"
   ]
  },
  {
   "cell_type": "markdown",
   "id": "14a1d0a8",
   "metadata": {},
   "source": [
    "## 概览\n",
    "\n",
    "在本讲座中，我们将从实证的角度分析商业周期。\n",
    "\n",
    "商业周期是经济活动随时间波动的现象。\n",
    "\n",
    "这包括扩张期（也称为繁荣期）和收缩期（也称为衰退期）。\n",
    "\n",
    "在本讲中，我们将使用来自[世界银行](https://documents.worldbank.org/en/publication/documents-reports/api)和[FRED](https://fred.stlouisfed.org/)的经济指标。\n",
    "\n",
    "除了Anaconda中包含的包之外，本讲还需要以下的包："
   ]
  },
  {
   "cell_type": "code",
   "execution_count": null,
   "id": "79540c35",
   "metadata": {
    "hide-output": false
   },
   "outputs": [],
   "source": [
    "!pip install wbgapi\n",
    "!pip install pandas-datareader"
   ]
  },
  {
   "cell_type": "markdown",
   "id": "e5b30327",
   "metadata": {},
   "source": [
    "接下来我们导入本讲所需的Python包。"
   ]
  },
  {
   "cell_type": "code",
   "execution_count": null,
   "id": "d571d971",
   "metadata": {
    "hide-output": false
   },
   "outputs": [],
   "source": [
    "import matplotlib.pyplot as plt\n",
    "import pandas as pd\n",
    "import datetime\n",
    "import wbgapi as wb\n",
    "import pandas_datareader.data as web\n",
    "\n",
    "import matplotlib as mpl\n",
    "FONTPATH = \"fonts/SourceHanSerifSC-SemiBold.otf\"\n",
    "mpl.font_manager.fontManager.addfont(FONTPATH)\n",
    "plt.rcParams['font.family'] = ['Source Han Serif SC']"
   ]
  },
  {
   "cell_type": "markdown",
   "id": "df02789b",
   "metadata": {},
   "source": [
    "下面几行代码是用来设置图形参数和国家/地区名的中英文对照的。"
   ]
  },
  {
   "cell_type": "code",
   "execution_count": null,
   "id": "66116271",
   "metadata": {
    "hide-output": false
   },
   "outputs": [],
   "source": [
    "# 设置图形参数\n",
    "cycler = plt.cycler(linestyle=['-', '-.', '--', ':'], \n",
    "        color=['#377eb8', '#ff7f00', '#4daf4a', '#ff334f'])\n",
    "plt.rc('axes', prop_cycle=cycler)\n",
    "\n",
    "name_cn = pd.read_csv('../lectures/datasets/country_code_cn.csv').set_index('name_chinese')"
   ]
  },
  {
   "cell_type": "markdown",
   "id": "e5f828e9",
   "metadata": {},
   "source": [
    "## 数据获取\n",
    "\n",
    "我们将使用世界银行的数据API `wbgapi` 和 `pandas_datareader` 来检索数据。\n",
    "\n",
    "我们可以使用 `wb.series.info` 并使用参数 `q` 来查询来自[世界银行](https://www.worldbank.org/en/home)的可用数据。\n",
    "\n",
    "例如，我们可以试着检索GDP增长的数据。"
   ]
  },
  {
   "cell_type": "code",
   "execution_count": null,
   "id": "4be4bb50",
   "metadata": {
    "hide-output": false
   },
   "outputs": [],
   "source": [
    "wb.series.info(q='GDP growth')"
   ]
  },
  {
   "cell_type": "markdown",
   "id": "97d9ec8b",
   "metadata": {},
   "source": [
    "我们可以使用这个数据系列的 ID 来获取数据。"
   ]
  },
  {
   "cell_type": "code",
   "execution_count": null,
   "id": "4b6bcc1b",
   "metadata": {
    "hide-output": false
   },
   "outputs": [],
   "source": [
    "gdp_growth = wb.data.DataFrame('NY.GDP.MKTP.KD.ZG',\n",
    "            ['USA', 'ARG', 'GBR', 'GRC', 'JPN'], \n",
    "            labels=True)\n",
    "gdp_growth"
   ]
  },
  {
   "cell_type": "markdown",
   "id": "95f59ed3",
   "metadata": {},
   "source": [
    "我们可以通过展开下面代码的输出来获取数据的元数据"
   ]
  },
  {
   "cell_type": "code",
   "execution_count": null,
   "id": "f735fc07",
   "metadata": {
    "hide-output": false
   },
   "outputs": [],
   "source": [
    "wb.series.metadata.get('NY.GDP.MKTP.KD.ZG')"
   ]
  },
  {
   "cell_type": "markdown",
   "id": "328cc1a8",
   "metadata": {},
   "source": [
    "\n",
    "<a id='gdp-growth'></a>"
   ]
  },
  {
   "cell_type": "markdown",
   "id": "6aeaba52",
   "metadata": {},
   "source": [
    "## GDP 增长率\n",
    "\n",
    "首先，让我们来看看GDP增长率。\n",
    "\n",
    "我们先获取世界银行的数据并进行数据清洗。"
   ]
  },
  {
   "cell_type": "code",
   "execution_count": null,
   "id": "a471321e",
   "metadata": {
    "hide-output": false
   },
   "outputs": [],
   "source": [
    "# 使用ID获取数据\n",
    "gdp_growth = wb.data.DataFrame('NY.GDP.MKTP.KD.ZG',\n",
    "            ['USA', 'ARG', 'GBR', 'GRC', 'JPN'], \n",
    "            labels=True)\n",
    "gdp_growth = gdp_growth.set_index('Country')\n",
    "gdp_growth.columns = gdp_growth.columns.str.replace('YR', '').astype(int)"
   ]
  },
  {
   "cell_type": "markdown",
   "id": "a3562430",
   "metadata": {},
   "source": [
    "我们把数据打印出来看一看"
   ]
  },
  {
   "cell_type": "code",
   "execution_count": null,
   "id": "80218844",
   "metadata": {
    "hide-output": false
   },
   "outputs": [],
   "source": [
    "gdp_growth"
   ]
  },
  {
   "cell_type": "markdown",
   "id": "02ff06ab",
   "metadata": {},
   "source": [
    "接下来我们写一个函数来绘制时间序列图并突出显示经济衰退的时期。"
   ]
  },
  {
   "cell_type": "code",
   "execution_count": null,
   "id": "0a973ba2",
   "metadata": {
    "hide-output": false
   },
   "outputs": [],
   "source": [
    "def plot_series(data, country, ylabel, \n",
    "                txt_pos, ax, g_params,\n",
    "                b_params, t_params, ylim=15, baseline=0):\n",
    "    \"\"\"\n",
    "    使用突出显示的衰退阶段绘制时间序列图。\n",
    "\n",
    "    参数\n",
    "    ----------\n",
    "    data : pd.DataFrame\n",
    "        要绘制的数据\n",
    "    country : str\n",
    "        要绘制的国家名称\n",
    "    ylabel : str\n",
    "        y轴的标签\n",
    "    txt_pos : float\n",
    "        衰退标签的位置\n",
    "    ylim : float\n",
    "        y轴的限制\n",
    "    ax : matplotlib.axes._subplots.AxesSubplot\n",
    "        绘图的轴向\n",
    "    g_params : dict\n",
    "        曲线的参数\n",
    "    b_params : dict\n",
    "        衰退高亮的参数\n",
    "    t_params : dict\n",
    "        衰退标签的参数\n",
    "    baseline : float, optional\n",
    "        图表中的虚线基线，默认为0\n",
    "    \n",
    "    返回\n",
    "    -------\n",
    "    ax : matplotlib.axes.Axes\n",
    "        带有图表的轴向。\n",
    "    \"\"\"\n",
    "    \n",
    "    country_cn = name_cn.loc[country]['name']\n",
    "\n",
    "    ax.plot(data.loc[country_cn], label=country, **g_params)\n",
    "    \n",
    "    # 高亮衰退\n",
    "    ax.axvspan(1973, 1975, **b_params)\n",
    "    ax.axvspan(1990, 1992, **b_params)\n",
    "    ax.axvspan(2007, 2009, **b_params)\n",
    "    ax.axvspan(2019, 2021, **b_params)\n",
    "    if ylim != None:\n",
    "        ax.set_ylim([-ylim, ylim])\n",
    "    else:\n",
    "        ylim = ax.get_ylim()[1]\n",
    "    ax.text(1974, ylim + ylim*txt_pos, '石油危机\\n(1974)', **t_params) \n",
    "    ax.text(1991, ylim + ylim*txt_pos, '90年代衰退\\n(1991)', **t_params) \n",
    "    ax.text(2008, ylim + ylim*txt_pos, '金融危机\\n(2008)', **t_params) \n",
    "    ax.text(2020, ylim + ylim*txt_pos, 'Covid-19\\n(2020)', **t_params)\n",
    "\n",
    "    # 添加基线\n",
    "    if baseline != None:\n",
    "        ax.axhline(y=baseline, \n",
    "                   color='black', \n",
    "                   linestyle='--')\n",
    "    ax.set_ylabel(ylabel)\n",
    "    ax.legend()\n",
    "    return ax\n",
    "\n",
    "# 定义图形参数\n",
    "g_params = {'alpha': 0.7}\n",
    "b_params = {'color':'grey', 'alpha': 0.2}\n",
    "t_params = {'color':'grey', 'fontsize': 9, \n",
    "            'va':'center', 'ha':'center'}"
   ]
  },
  {
   "cell_type": "markdown",
   "id": "b1051c5c",
   "metadata": {},
   "source": [
    "让我们先从美国开始"
   ]
  },
  {
   "cell_type": "code",
   "execution_count": null,
   "id": "d80a254e",
   "metadata": {
    "hide-output": false
   },
   "outputs": [],
   "source": [
    "fig, ax = plt.subplots()\n",
    "\n",
    "country = '美国'\n",
    "ylabel = 'GDP 增长率 (%)'\n",
    "plot_series(gdp_growth, country, \n",
    "            ylabel, 0.1, ax, \n",
    "            g_params, b_params, t_params)\n",
    "plt.show()"
   ]
  },
  {
   "cell_type": "markdown",
   "id": "0c361488",
   "metadata": {},
   "source": [
    "从图中我们可以看到，GDP 平均增长率呈现正值，并且随着时间的推移呈现轻微下降趋势。\n",
    "\n",
    "我们也看到GDP平均增长率的波动随时间变化，其中一些波动幅度很大。\n",
    "\n",
    "让我们再多看一些国家的趋势并与美国比较。\n",
    "\n",
    "英国 (UK) 的模式与美国类似，增长率缓慢下降，波动显著。\n",
    "\n",
    "我们注意到增长率在 Covid-19 大流行期间的大幅下跌。"
   ]
  },
  {
   "cell_type": "code",
   "execution_count": null,
   "id": "1719e654",
   "metadata": {
    "hide-output": false
   },
   "outputs": [],
   "source": [
    "fig, ax = plt.subplots()\n",
    "\n",
    "country = '英国'\n",
    "plot_series(gdp_growth, country, \n",
    "            ylabel, 0.1, ax, \n",
    "            g_params, b_params, t_params)\n",
    "plt.show()"
   ]
  },
  {
   "cell_type": "markdown",
   "id": "188e7795",
   "metadata": {},
   "source": [
    "接下来我们看看日本，它在1960年代和1970年代经历了快速增长，并在过去二十年里增长放缓。\n",
    "\n",
    "重大增长率下降与1970年代的石油危机、全球金融危机（GFC）和Covid-19大流行相一致。"
   ]
  },
  {
   "cell_type": "code",
   "execution_count": null,
   "id": "c2ef71a1",
   "metadata": {
    "hide-output": false
   },
   "outputs": [],
   "source": [
    "fig, ax = plt.subplots()\n",
    "\n",
    "country = '日本'\n",
    "plot_series(gdp_growth, country, \n",
    "            ylabel, 0.1, ax, \n",
    "            g_params, b_params, t_params)\n",
    "plt.show()"
   ]
  },
  {
   "cell_type": "markdown",
   "id": "83f7bcbe",
   "metadata": {},
   "source": [
    "现在让我们研究希腊。"
   ]
  },
  {
   "cell_type": "code",
   "execution_count": null,
   "id": "fc616550",
   "metadata": {
    "hide-output": false
   },
   "outputs": [],
   "source": [
    "fig, ax = plt.subplots()\n",
    "\n",
    "country = '希腊'\n",
    "plot_series(gdp_growth, country, \n",
    "            ylabel, 0.1, ax, \n",
    "            g_params, b_params, t_params)\n",
    "plt.show()"
   ]
  },
  {
   "cell_type": "markdown",
   "id": "5be882f4",
   "metadata": {},
   "source": [
    "希腊在2010-2011年左右经历了GDP增长率的大幅下降，这正是希腊债务危机最严重的时期。\n",
    "\n",
    "接下来我们来看看阿根廷。"
   ]
  },
  {
   "cell_type": "code",
   "execution_count": null,
   "id": "03cf6b76",
   "metadata": {
    "hide-output": false
   },
   "outputs": [],
   "source": [
    "fig, ax = plt.subplots()\n",
    "\n",
    "country = '阿根廷'\n",
    "plot_series(gdp_growth, country, \n",
    "            ylabel, 0.1, ax, \n",
    "            g_params, b_params, t_params)\n",
    "plt.show()"
   ]
  },
  {
   "cell_type": "markdown",
   "id": "3c77b3c7",
   "metadata": {},
   "source": [
    "注意阿根廷经历的波动周期远比上述国家剧烈。\n",
    "\n",
    "与此同时，阿根廷的增长率在20世纪70年代和90年代两次发达经济体衰退期间并未下降。"
   ]
  },
  {
   "cell_type": "markdown",
   "id": "c07e78dd",
   "metadata": {},
   "source": [
    "## 失业\n",
    "\n",
    "失业率是衡量商业周期的另一个重要指标。\n",
    "\n",
    "[1929-1942年](https://fred.stlouisfed.org/series/M0892AUSM156SNBR)和[1948-2022年](https://fred.stlouisfed.org/series/UNRATE)两个时期的数据来自[FRED](https://fred.stlouisfed.org/)，而1942-1948年的失业率数据由是从[人口普查局的数据估算](https://www.census.gov/library/publications/1975/compendia/hist_stats_colonial-1970.html)。"
   ]
  },
  {
   "cell_type": "code",
   "execution_count": null,
   "id": "369d7da6",
   "metadata": {
    "hide-output": false
   },
   "outputs": [],
   "source": [
    "start_date = datetime.datetime(1929, 1, 1)\n",
    "end_date = datetime.datetime(1942, 6, 1)\n",
    "\n",
    "unrate_history = web.DataReader('M0892AUSM156SNBR', \n",
    "                    'fred', start_date,end_date)\n",
    "unrate_history.rename(columns={'M0892AUSM156SNBR': 'UNRATE'}, \n",
    "                inplace=True)\n",
    "\n",
    "start_date = datetime.datetime(1948, 1, 1)\n",
    "end_date = datetime.datetime(2022, 12, 31)\n",
    "\n",
    "unrate = web.DataReader('UNRATE', 'fred', \n",
    "                    start_date, end_date)"
   ]
  },
  {
   "cell_type": "markdown",
   "id": "8ead20c7",
   "metadata": {},
   "source": [
    "接下来我们绘制美国从1929年到2022年的失业率，以及由美国国家经济研究局（NBER）定义的经济衰退期。"
   ]
  },
  {
   "cell_type": "code",
   "execution_count": null,
   "id": "bb56a894",
   "metadata": {
    "hide-output": false
   },
   "outputs": [],
   "source": [
    "# 使用人口普查局估计的1942年到1948年间的失业率数据\n",
    "years = [datetime.datetime(year, 6, 1) for year in range(1942, 1948)]\n",
    "unrate_census = [4.7, 1.9, 1.2, 1.9, 3.9, 3.9]\n",
    "\n",
    "unrate_census = {'DATE': years, 'UNRATE': unrate_census}\n",
    "unrate_census = pd.DataFrame(unrate_census)\n",
    "unrate_census.set_index('DATE', inplace=True)\n",
    "\n",
    "# 获取由 NBER 定义的经济衰退期\n",
    "start_date = datetime.datetime(1929, 1, 1)\n",
    "end_date = datetime.datetime(2022, 12, 31)\n",
    "\n",
    "nber = web.DataReader('USREC', 'fred', start_date, end_date)\n",
    "\n",
    "fig, ax = plt.subplots()\n",
    "\n",
    "ax.plot(unrate_history, **g_params, \n",
    "        color='#377eb8', \n",
    "        linestyle='-', linewidth=2)\n",
    "ax.plot(unrate_census, **g_params, \n",
    "        color='black', linestyle='--', \n",
    "        label='人口普查估计', linewidth=2)\n",
    "ax.plot(unrate, **g_params, color='#377eb8', \n",
    "        linestyle='-', linewidth=2)\n",
    "\n",
    "# 根据 NBER 经济衰退指标绘制灰色方框\n",
    "ax.fill_between(nber.index, 0, 1,\n",
    "                where=nber['USREC']==1, \n",
    "                color='grey', edgecolor='none',\n",
    "                alpha=0.3, \n",
    "                transform=ax.get_xaxis_transform(), \n",
    "                label='NBER 经济衰退指标')\n",
    "ax.set_ylim([0, ax.get_ylim()[1]])\n",
    "ax.legend(loc='upper center', \n",
    "          bbox_to_anchor=(0.5, 1.1),\n",
    "          ncol=3, fancybox=True, shadow=True)\n",
    "ax.set_ylabel('失业率 (%)')\n",
    "\n",
    "plt.show()"
   ]
  },
  {
   "cell_type": "markdown",
   "id": "44fc042d",
   "metadata": {},
   "source": [
    "图表显示：\n",
    "\n",
    "- 劳动力市场的扩张和收缩与经济衰退高度相关。  \n",
    "- 周期一般是不对称的：失业率的急剧上升后面通常跟随着缓慢的恢复。  \n",
    "\n",
    "\n",
    "它还向我们展示了美国在疫情后复苏期间劳动力市场条件的独特性。\n",
    "\n",
    "劳动力市场在2020-2021年的冲击后以前所未有的速度恢复。\n",
    "\n",
    "\n",
    "<a id='synchronization'></a>"
   ]
  },
  {
   "cell_type": "markdown",
   "id": "4c61dfe6",
   "metadata": {},
   "source": [
    "## 同步化\n",
    "\n",
    "在我们的[之前的讨论](#gdp-growth)中，我们发现发达经济体的衰退期有相对同步的时间。\n",
    "\n",
    "同时，这种同步现象直到21世纪才在阿根廷出现。\n",
    "\n",
    "让我们进一步研究这种趋势。\n",
    "\n",
    "通过轻微的修改，我们可以使用我们之前的函数来绘制包括多个国家的图表。"
   ]
  },
  {
   "cell_type": "code",
   "execution_count": null,
   "id": "27680b09",
   "metadata": {
    "hide-output": false
   },
   "outputs": [],
   "source": [
    "def plot_comparison(data, countries, \n",
    "                        ylabel, txt_pos, y_lim, ax, \n",
    "                        g_params, b_params, t_params, \n",
    "                        baseline=0):\n",
    "    \"\"\"\n",
    "    在同一图表上绘制多个系列\n",
    "\n",
    "    参数\n",
    "    ----------\n",
    "    data : pd.DataFrame\n",
    "        要绘制的数据\n",
    "    countries : list\n",
    "        要绘制国家的列表\n",
    "    ylabel : str\n",
    "        y轴的标签\n",
    "    txt_pos : float\n",
    "        衰退标签的位置\n",
    "    y_lim : float\n",
    "        y轴的限制\n",
    "    ax : matplotlib.axes._subplots.AxesSubplot\n",
    "        绘图的轴向\n",
    "    g_params : dict\n",
    "        曲线的参数\n",
    "    b_params : dict\n",
    "        衰退高亮的参数\n",
    "    t_params : dict\n",
    "        衰退标签的参数\n",
    "    baseline : float, optional\n",
    "        在图表中的虚线基线，默认为0\n",
    "    \n",
    "    返回\n",
    "    -------\n",
    "    ax : matplotlib.axes.Axes\n",
    "        带有绘图的轴向。\n",
    "    \"\"\"\n",
    "    \n",
    "    # 允许函数处理多个系列\n",
    "    for country in countries:\n",
    "        country_cn = name_cn.loc[country]['name']\n",
    "        ax.plot(data.loc[country_cn], label=country, **g_params)\n",
    "    \n",
    "    # 高亮衰退期\n",
    "    ax.axvspan(1973, 1975, **b_params)\n",
    "    ax.axvspan(1990, 1992, **b_params)\n",
    "    ax.axvspan(2007, 2009, **b_params)\n",
    "    ax.axvspan(2019, 2021, **b_params)\n",
    "    if y_lim != None:\n",
    "        ax.set_ylim([-y_lim, y_lim])\n",
    "    ylim = ax.get_ylim()[1]\n",
    "    ax.text(1974, ylim + ylim*txt_pos, '石油危机\\n(1974)', **t_params) \n",
    "    ax.text(1991, ylim + ylim*txt_pos, '90年代经济衰退\\n(1991)', **t_params) \n",
    "    ax.text(2008, ylim + ylim*txt_pos, '全球金融危机\\n(2008)', **t_params) \n",
    "    ax.text(2020, ylim + ylim*txt_pos, 'Covid-19\\n(2020)', **t_params) \n",
    "    if baseline != None:\n",
    "        ax.hlines(y=baseline, xmin=ax.get_xlim()[0], \n",
    "                  xmax=ax.get_xlim()[1], color='black', \n",
    "                  linestyle='--')\n",
    "    ax.set_ylabel(ylabel)\n",
    "    ax.legend()\n",
    "    return ax\n",
    "\n",
    "# 定义图形参数 \n",
    "g_params = {'alpha': 0.7}\n",
    "b_params = {'color':'grey', 'alpha': 0.2}\n",
    "t_params = {'color':'grey', 'fontsize': 9, \n",
    "            'va':'center', 'ha':'center'}"
   ]
  },
  {
   "cell_type": "code",
   "execution_count": null,
   "id": "b9fe70d0",
   "metadata": {
    "hide-output": false
   },
   "outputs": [],
   "source": [
    "# 获取GDP增长率数据\n",
    "gdp_growth = wb.data.DataFrame('NY.GDP.MKTP.KD.ZG',\n",
    "            ['CHN', 'USA', 'DEU', 'BRA', 'ARG', 'GBR', 'JPN', 'MEX'], \n",
    "            labels=True)\n",
    "gdp_growth = gdp_growth.set_index('Country')\n",
    "gdp_growth.columns = gdp_growth.columns.str.replace('YR', '').astype(int)"
   ]
  },
  {
   "cell_type": "markdown",
   "id": "a311f004",
   "metadata": {},
   "source": [
    "首先我们绘制发达经济体的GDP增长率"
   ]
  },
  {
   "cell_type": "code",
   "execution_count": null,
   "id": "cdc78435",
   "metadata": {
    "hide-output": false
   },
   "outputs": [],
   "source": [
    "fig, ax = plt.subplots(figsize=(12, 8))\n",
    "\n",
    "countries = ['美国', '英国', '德国', '日本']\n",
    "ylabel = 'GDP 增长率 (%)'\n",
    "plot_comparison(gdp_growth, countries, \n",
    "                ylabel, 0.1, 20, ax, \n",
    "                g_params, b_params, t_params)\n",
    "\n",
    "plt.show()"
   ]
  },
  {
   "cell_type": "markdown",
   "id": "25f53ea9",
   "metadata": {},
   "source": [
    "我们选择巴西、中国、阿根廷和墨西哥作为发展中经济体的代表。"
   ]
  },
  {
   "cell_type": "code",
   "execution_count": null,
   "id": "ba51759e",
   "metadata": {
    "hide-output": false
   },
   "outputs": [],
   "source": [
    "fig, ax = plt.subplots()\n",
    "countries = ['巴西', '中国', '阿根廷', '墨西哥']\n",
    "plot_comparison(gdp_growth.loc[name_cn.loc[countries]['name'], 1962:], \n",
    "                countries, ylabel, \n",
    "                0.1, 20, ax, \n",
    "                g_params, b_params, t_params)\n",
    "plt.show()"
   ]
  },
  {
   "cell_type": "markdown",
   "id": "2c92f1fe",
   "metadata": {},
   "source": [
    "上述GDP增长率的比较表明，21世纪衰退期的商业周期变得更加同步。\n",
    "\n",
    "然而，新兴和不发达经济体的经济周期通常经历更加剧烈的变化。\n",
    "\n",
    "尽管GDP增长实现了同步，但在衰退期间各国的经历常常有所不同。\n",
    "\n",
    "我们使用失业率和劳动市场的恢复作为另一个例子。\n",
    "\n",
    "这里我们比较了美国、英国、日本和法国的失业率。"
   ]
  },
  {
   "cell_type": "code",
   "execution_count": null,
   "id": "f3b01798",
   "metadata": {
    "hide-output": false
   },
   "outputs": [],
   "source": [
    "unempl_rate = wb.data.DataFrame('SL.UEM.TOTL.NE.ZS',\n",
    "    ['USA', 'FRA', 'GBR', 'JPN'], labels=True)\n",
    "unempl_rate = unempl_rate.set_index('Country')\n",
    "unempl_rate.columns = unempl_rate.columns.str.replace('YR', '').astype(int)\n",
    "\n",
    "fig, ax = plt.subplots()\n",
    "\n",
    "countries = ['英国', '美国', '日本', '法国']\n",
    "ylabel = '失业率（国家估算）(%)'\n",
    "plot_comparison(unempl_rate, countries, \n",
    "                ylabel, 0.05, None, ax, g_params, \n",
    "                b_params, t_params, baseline=None)\n",
    "plt.show()"
   ]
  },
  {
   "cell_type": "markdown",
   "id": "b499e4c2",
   "metadata": {},
   "source": [
    "我们看到，工会力量强大的法国在受到负面冲击后，劳动力市场的恢复通常会相对缓慢。\n",
    "\n",
    "我们还注意到，日本的失业率一直非常低且稳定。"
   ]
  },
  {
   "cell_type": "markdown",
   "id": "1b712434",
   "metadata": {},
   "source": [
    "## 领先指标和相关因素\n",
    "\n",
    "研究领先指标和相关因素有助于决策者了解商业周期的原因和结果。\n",
    "\n",
    "我们将从消费、生产和信贷水平来讨论潜在的领先指标和相关因素。"
   ]
  },
  {
   "cell_type": "markdown",
   "id": "fd8ec930",
   "metadata": {},
   "source": [
    "### 消费\n",
    "\n",
    "消费取决于消费者对其收入的信心以及经济的整体表现。\n",
    "\n",
    "密歇根大学发布的[消费者信心指数](https://fred.stlouisfed.org/series/UMCSENT)是一个被广泛引用的消费者信心指标。\n",
    "\n",
    "这里我们绘制了密歇根大学消费者信心指数和同比\n",
    "[核心消费价格指数](https://fred.stlouisfed.org/series/CPILFESL) (CPI) 的变化。"
   ]
  },
  {
   "cell_type": "code",
   "execution_count": null,
   "id": "e2183a00",
   "metadata": {
    "hide-output": false
   },
   "outputs": [],
   "source": [
    "start_date = datetime.datetime(1978, 1, 1)\n",
    "end_date = datetime.datetime(2022, 12, 31)\n",
    "\n",
    "# 限制图表的时间范围\n",
    "start_date_graph = datetime.datetime(1977, 1, 1)\n",
    "end_date_graph = datetime.datetime(2023, 12, 31)\n",
    "\n",
    "nber = web.DataReader('USREC', 'fred', start_date, end_date)\n",
    "consumer_confidence = web.DataReader('UMCSENT', 'fred', \n",
    "                                start_date, end_date)\n",
    "\n",
    "fig, ax = plt.subplots()\n",
    "ax.plot(consumer_confidence, **g_params, \n",
    "        color='#377eb8', linestyle='-', \n",
    "        linewidth=2)\n",
    "ax.fill_between(nber.index, 0, 1, \n",
    "            where=nber['USREC']==1, \n",
    "            color='grey', edgecolor='none',\n",
    "            alpha=0.3, \n",
    "            transform=ax.get_xaxis_transform(), \n",
    "            label='NBER 衰退指标')\n",
    "ax.set_ylim([0, ax.get_ylim()[1]])\n",
    "ax.set_ylabel('消费者情绪指数')\n",
    "\n",
    "# 在另一个y轴上绘制 CPI\n",
    "ax_t = ax.twinx()\n",
    "inflation = web.DataReader('CPILFESL', 'fred', \n",
    "                start_date, end_date).pct_change(12)*100\n",
    "\n",
    "# 在图例中添加 CPI 而不重复绘图线条\n",
    "ax_t.plot(2020, 0, **g_params, linestyle='-', \n",
    "          linewidth=2, label='消费者情绪指数')\n",
    "ax_t.plot(inflation, **g_params, \n",
    "          color='#ff7f00', linestyle='--', \n",
    "          linewidth=2, label='CPI 年同比变化（%）')\n",
    "\n",
    "ax_t.fill_between(nber.index, 0, 1,\n",
    "                  where=nber['USREC']==1, \n",
    "                  color='grey', edgecolor='none',\n",
    "                  alpha=0.3, \n",
    "                  transform=ax.get_xaxis_transform(), \n",
    "                  label='NBER 衰退指标')\n",
    "ax_t.set_ylim([0, ax_t.get_ylim()[1]])\n",
    "ax_t.set_xlim([start_date_graph, end_date_graph])\n",
    "ax_t.legend(loc='upper center',\n",
    "            bbox_to_anchor=(0.5, 1.1),\n",
    "            ncol=3, fontsize=9)\n",
    "ax_t.set_ylabel('CPI 年同比变化（%）')\n",
    "plt.show()"
   ]
  },
  {
   "cell_type": "markdown",
   "id": "da3673d9",
   "metadata": {},
   "source": [
    "我们看到：\n",
    "\n",
    "- 消费者情绪在经济扩张期间常常保持高位，并在衰退前下降。  \n",
    "- 消费者情绪和CPI之间存在明显的负相关性。  \n",
    "\n",
    "\n",
    "当消费者商品的价格上涨时，消费者信心会下降。\n",
    "\n",
    "这种趋势在[滞胀](https://en.wikipedia.org/wiki/Stagflation)期间更为明显。"
   ]
  },
  {
   "cell_type": "markdown",
   "id": "4c3cd225",
   "metadata": {},
   "source": [
    "### 生产\n",
    "\n",
    "实际工业产出与经济衰退高度相关。\n",
    "\n",
    "然而，它不是一个领先指标，因为产出收缩的高峰通常比消费者信心和通货膨胀的减弱要晚。\n",
    "\n",
    "我们绘制了1919年到2022年美国实际工业产出年变化用于展示此趋势。"
   ]
  },
  {
   "cell_type": "code",
   "execution_count": null,
   "id": "b7f85c96",
   "metadata": {
    "hide-output": false
   },
   "outputs": [],
   "source": [
    "start_date = datetime.datetime(1919, 1, 1)\n",
    "end_date = datetime.datetime(2022, 12, 31)\n",
    "\n",
    "nber = web.DataReader('USREC', 'fred', \n",
    "                    start_date, end_date)\n",
    "industrial_output = web.DataReader('INDPRO', 'fred', \n",
    "                    start_date, end_date).pct_change(12)*100\n",
    "\n",
    "fig, ax = plt.subplots()\n",
    "ax.plot(industrial_output, **g_params, \n",
    "        color='#377eb8', linestyle='-', \n",
    "        linewidth=2, label='工业生产指数')\n",
    "ax.fill_between(nber.index, 0, 1,\n",
    "                where=nber['USREC']==1, \n",
    "                color='grey', edgecolor='none',\n",
    "                alpha=0.3, \n",
    "                transform=ax.get_xaxis_transform(), \n",
    "                label='NBER衰退指标')\n",
    "ax.set_ylim([ax.get_ylim()[0], ax.get_ylim()[1]])\n",
    "ax.set_ylabel('年实际产出变化率 (%)')\n",
    "plt.show()"
   ]
  },
  {
   "cell_type": "markdown",
   "id": "aee03d0e",
   "metadata": {},
   "source": [
    "图表显示了实际产出变化与商业周期的密切相关性。\n",
    "\n",
    "在NBER定义的衰退期间，产出基本上都有显著下降。\n",
    "\n",
    "实际产出的缩减反应了整体需求的减少，这在经济危机期间尤为显著。"
   ]
  },
  {
   "cell_type": "markdown",
   "id": "e40a785f",
   "metadata": {},
   "source": [
    "### 信贷水平\n",
    "\n",
    "我们最后一个观察的相关因素是信贷水平。\n",
    "\n",
    "信贷收缩经常在经济衰退期间发生，因为出贷方变得更加谨慎，借款人也更不愿意承担额外的债务。\n",
    "\n",
    "这是由于整体经济活动的减少和对未来前景的悲观预期。\n",
    "\n",
    "一个例子是英国银行对私人部门的国内信贷。\n",
    "\n",
    "下面的图表显示了1970年到2022年英国的银行国内信贷对私人部门的百分比。"
   ]
  },
  {
   "cell_type": "code",
   "execution_count": null,
   "id": "bca31264",
   "metadata": {
    "hide-output": false
   },
   "outputs": [],
   "source": [
    "private_credit = wb.data.DataFrame('FS.AST.PRVT.GD.ZS', \n",
    "                ['GBR'], labels=True)\n",
    "private_credit = private_credit.set_index('Country')\n",
    "private_credit.columns = private_credit.columns.str.replace('YR', '').astype(int)\n",
    "\n",
    "fig, ax = plt.subplots()\n",
    "\n",
    "countries = '英国'\n",
    "ylabel = '信贷水平 (% of GDP)'\n",
    "ax = plot_series(private_credit, countries, \n",
    "                 ylabel, 0.05, ax, g_params, b_params, \n",
    "                 t_params, ylim=None, baseline=None)\n",
    "plt.show()"
   ]
  },
  {
   "cell_type": "markdown",
   "id": "96aa4ee2",
   "metadata": {},
   "source": [
    "我们可以看到信贷在经济扩张期间上升，在衰退后停滞甚至收缩。"
   ]
  }
 ],
 "metadata": {
  "date": 1740124706.33449,
  "filename": "business_cycle.md",
  "kernelspec": {
   "display_name": "Python",
   "language": "python3",
   "name": "python3"
  },
  "title": "商业周期"
 },
 "nbformat": 4,
 "nbformat_minor": 5
}