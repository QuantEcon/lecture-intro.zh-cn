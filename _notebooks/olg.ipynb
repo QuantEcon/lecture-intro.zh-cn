{
 "cells": [
  {
   "cell_type": "markdown",
   "id": "3bc8612e",
   "metadata": {},
   "source": [
    "# 世代交叠模型\n",
    "\n",
    "在这节课中，我们将学习著名的世代交叠（OLG）模型。政策制定者和研究人员使用这个模型来研究：\n",
    "\n",
    "- 财政政策  \n",
    "- 货币政策  \n",
    "- 长期增长  \n",
    "\n",
    "\n",
    "以及许多其他主题。\n",
    "\n",
    "世代交叠模型的第一个严谨版本由保罗·萨缪尔森(Paul Samuelson)在1958年提出[[Samuelson, 1958](https://quantecon.github.io/lecture-intro.zh-cn/zreferences.html#id23)]，此后成为经济学中研究代际问题的基础框架。\n",
    "\n",
    "在这一讲中，我们将深入探讨世代交叠模型的一个简单版本，帮助大家理解其核心机制和应用。"
   ]
  },
  {
   "cell_type": "markdown",
   "id": "27e7573f",
   "metadata": {},
   "source": [
    "## 概述\n",
    "\n",
    "OLG模型的动态与[索洛-斯旺增长模型](https://intro.quantecon.org/solow.html)非常相似。\n",
    "\n",
    "与索洛-斯旺模型相比，OLG模型的一个关键区别是储蓄决策是内生的。\n",
    "\n",
    "这一特征为什么重要呢？考虑我们想要分析一项新税收政策对经济增长的影响。\n",
    "\n",
    "在索洛-斯旺模型中，我们可以引入税收并观察稳态如何变化。但这种方法忽略了一个重要现实：税收政策会改变家庭的储蓄和消费行为。\n",
    "\n",
    "当家庭面对新的税率时，他们会调整自己的经济决策，这些调整可能会显著影响模型的预测结果。\n",
    "\n",
    "因此，为了获得更准确的预测，我们需要明确建模个人的决策过程。在OLG模型中，家庭会根据他们所处的经济环境（包括技术水平、税收政策和市场价格等）来优化他们的储蓄和消费选择。\n",
    "\n",
    "OLG模型正是为解决这类问题而设计的。\n",
    "\n",
    "在接下来的内容中，我们将探讨OLG模型的基本版本，详细说明家庭如何做出决策，并分析这些决策如何影响经济的长期增长。\n",
    "\n",
    "首先，让我们导入需要的库。"
   ]
  },
  {
   "cell_type": "code",
   "execution_count": null,
   "id": "d5b3b244",
   "metadata": {
    "hide-output": false
   },
   "outputs": [],
   "source": [
    "import numpy as np\n",
    "from scipy import optimize\n",
    "from collections import namedtuple\n",
    "import matplotlib.pyplot as plt\n",
    "\n",
    "import matplotlib as mpl\n",
    "FONTPATH = \"fonts/SourceHanSerifSC-SemiBold.otf\"\n",
    "mpl.font_manager.fontManager.addfont(FONTPATH)\n",
    "plt.rcParams['font.family'] = ['Source Han Serif SC']"
   ]
  },
  {
   "cell_type": "markdown",
   "id": "ae2cba31",
   "metadata": {},
   "source": [
    "## 环境\n",
    "\n",
    "我们假设时间是离散的，因此 $ t=0, 1, \\ldots $。\n",
    "\n",
    "在时间 $ t $ 出生的个体存活两个时期，$ t $ 和 $ t + 1 $。\n",
    "\n",
    "我们称一个个体\n",
    "\n",
    "- 在生命的第一个时期为”年轻人”  \n",
    "- 在生命的第二个时期为”老年人”。  \n",
    "\n",
    "\n",
    "年轻人工作，提供劳动并赚取劳动收入。\n",
    "\n",
    "他们还决定存多少钱。\n",
    "\n",
    "老年人不工作，所以所有收入都是金融收入。\n",
    "\n",
    "他们的金融收入来自工资收入的储蓄利息，\n",
    "这些储蓄随后与 $ t+1 $ 时期新的年轻一代的劳动相结合。\n",
    "\n",
    "在均衡状态下，工资和利率由市场供求关系决定。\n",
    "\n",
    "为了使代数计算稍微简单一些，我们假设人口规模恒定。\n",
    "\n",
    "我们将每个时期的恒定人口规模标准化为1。\n",
    "\n",
    "我们还假设每个个体提供一个”单位”的劳动时间，因此总劳动供给为1。"
   ]
  },
  {
   "cell_type": "markdown",
   "id": "ae90d788",
   "metadata": {},
   "source": [
    "## 资本供给\n",
    "\n",
    "现在让我们从单个家庭的角度开始分析模型。"
   ]
  },
  {
   "cell_type": "markdown",
   "id": "6473d4aa",
   "metadata": {},
   "source": [
    "### 消费者问题\n",
    "\n",
    "假设在时间 $ t $ 出生的个体的效用函数形式为\n",
    "\n",
    "\n",
    "<a id='equation-eq-crra'></a>\n",
    "$$\n",
    "U_t = u(c_t) + \\beta u(c_{t+1}) \\tag{26.1}\n",
    "$$\n",
    "\n",
    "其中\n",
    "\n",
    "- $ u: \\mathbb R_+ \\to \\mathbb R $ 是”瞬时”效用函数（或”流”效用函数）  \n",
    "- $ \\beta \\in (0, 1) $ 是时间偏好的贴现因子  \n",
    "- $ c_t $ 表示 $ t $ 期出生的个体在年轻时期（即 $ t $ 期）的消费  \n",
    "- $ c_{t+1} $ 表示该个体在老年时期（即 $ t+1 $ 期）的消费  \n",
    "\n",
    "\n",
    "我们假设效用函数 $ u $ 是严格递增的。\n",
    "\n",
    "个体的储蓄决策来自于解决以下效用最大化问题\n",
    "\n",
    "\n",
    "<a id='equation-max-sav-olg'></a>\n",
    "$$\n",
    "\\max_{c_t, c_{t+1}} \n",
    "    \\,  \\left \\{ u(c_t) + \\beta u(c_{t+1}) \\right \\} \\tag{26.2}\n",
    "$$\n",
    "\n",
    "受制于\n",
    "\n",
    "$$\n",
    "c_t + s_t \\le w_t \n",
    "     \\quad \\text{and} \\quad\n",
    "     c_{t+1}   \\le R_{t+1} s_t\n",
    "$$\n",
    "\n",
    "这里\n",
    "\n",
    "- $ s_t $ 是出生于时间 $ t $ 的个人的储蓄  \n",
    "- $ w_t $ 是时间 $ t $ 的工资率  \n",
    "- $ R_{t+1} $ 是在时间 $ t $ 投资的储蓄在时间 $ t+1 $ 支付的总利率  \n",
    "\n",
    "\n",
    "由于效用函数 $ u $ 是严格递增的，消费者会完全用尽预算约束，使两个约束等式成立。\n",
    "\n",
    "将第一个约束改写为 $ s_t = w_t - c_t $，并代入第二个约束，我们得到\n",
    "$ c_{t+1} = R_{t+1}(w_t - c_t) $。\n",
    "\n",
    "为了求解最大化问题，我们将 $ c_{t+1} = R_{t+1}(w_t - c_t) $ 代入目标函数，然后对 $ c_t $ 求导并设为零。\n",
    "\n",
    "这给出了OLG模型的**欧拉方程**，它刻画了消费者在不同时期之间如何优化分配消费：\n",
    "\n",
    "\n",
    "<a id='equation-euler-1-olg'></a>\n",
    "$$\n",
    "u'(c_t) = \\beta R_{t+1}  u'( R_{t+1} (w_t - c_t)) \\tag{26.3}\n",
    "$$\n",
    "\n",
    "从第一个约束我们得到 $ c_t = w_t - s_t $，所以欧拉方程\n",
    "也可以表示为\n",
    "\n",
    "\n",
    "<a id='equation-euler-2-olg'></a>\n",
    "$$\n",
    "u'(w_t - s_t) = \\beta R_{t+1}  u'( R_{t+1} s_t) \\tag{26.4}\n",
    "$$\n",
    "\n",
    "假设对于每个 $ w_t $ 和 $ R_{t+1} $，恰好有一个 $ s_t $ 可以满足 [(26.4)](#equation-euler-2-olg)。\n",
    "\n",
    "那么储蓄可以被写成 $ w_t $ 和 $ R_{t+1} $ 的固定函数。\n",
    "\n",
    "我们将其表示为\n",
    "\n",
    "\n",
    "<a id='equation-saving-1-olg'></a>\n",
    "$$\n",
    "s_t = s(w_t, R_{t+1}) \\tag{26.5}\n",
    "$$\n",
    "\n",
    "$ s $ 函数的具体形式将取决于效用函数 $ u $ 的选择。\n",
    "\n",
    "$ w_t $ 和 $ R_{t+1} $ 共同代表经济中的*价格*（劳动力价格和资本租赁率）。\n",
    "\n",
    "因此，[(26.5)](#equation-saving-1-olg) 表示给定价格下的储蓄量。"
   ]
  },
  {
   "cell_type": "markdown",
   "id": "74837458",
   "metadata": {},
   "source": [
    "### 示例：对数偏好\n",
    "\n",
    "在特殊情况 $ u(c) = \\log c $ 下，欧拉方程简化为 $ s_t= \\beta (w_t - s_t) $。\n",
    "\n",
    "求解储蓄，我们得到\n",
    "\n",
    "\n",
    "<a id='equation-saving-log-2-olg'></a>\n",
    "$$\n",
    "s_t = s(w_t, R_{t+1}) = \\frac{\\beta}{1+\\beta} w_t \\tag{26.6}\n",
    "$$\n",
    "\n",
    "在这种特殊情况下，储蓄完全不受利率影响。"
   ]
  },
  {
   "cell_type": "markdown",
   "id": "89c99826",
   "metadata": {},
   "source": [
    "### 储蓄与投资的关系\n",
    "\n",
    "由于我们将人口规模标准化为1，$ s_t $不仅代表个人储蓄，也代表了$ t $时期整个经济的总储蓄。\n",
    "\n",
    "在我们考虑的封闭经济模型中，不存在国际资本流动，因此国内净储蓄必然等于总投资，这构成了企业的资本供给。\n",
    "\n",
    "接下来，我们将转向分析资本需求。\n",
    "\n",
    "当我们将资本供给与需求相匹配时，就能确定OLG经济中的均衡状态。"
   ]
  },
  {
   "cell_type": "markdown",
   "id": "71d1cf81",
   "metadata": {},
   "source": [
    "## 资本需求分析\n",
    "\n",
    "下面我们先详细描述企业的最优化问题，然后推导出一个方程，用于表示在给定价格条件下的资本需求。"
   ]
  },
  {
   "cell_type": "markdown",
   "id": "b16d6011",
   "metadata": {},
   "source": [
    "### 企业问题\n",
    "\n",
    "对于每个整数 $ t \\geq 0 $，t期的产出 $ y_t $ 由**[柯布-道格拉斯生产函数](https://baike.baidu.com/item/%E6%9F%AF%E5%B8%83-%E9%81%93%E6%A0%BC%E6%8B%89%E6%96%AF%E7%94%9F%E4%BA%A7%E5%87%BD%E6%95%B0/8250187)**给出\n",
    "\n",
    "\n",
    "<a id='equation-cobb-douglas'></a>\n",
    "$$\n",
    "y_t = k_t^{\\alpha} \\ell_t^{1-\\alpha} \\tag{26.7}\n",
    "$$\n",
    "\n",
    "在这里，$ k_t $ 表示资本投入，$ \\ell_t $ 表示劳动投入，而 $ \\alpha $ 是一个介于0和1之间的参数，通常被解释为”资本的产出弹性”。\n",
    "企业面临的利润最大化问题是\n",
    "\n",
    "\n",
    "<a id='equation-opt-profit-olg'></a>\n",
    "$$\n",
    "\\max_{k_t, \\ell_t} \\{ k^{\\alpha}_t \\ell_t^{1-\\alpha} - R_t k_t -w_t \\ell_t  \\} \\tag{26.8}\n",
    "$$\n",
    "\n",
    "一阶条件是通过对资本和劳动分别求导，并令导数等于零得到的：\n",
    "\n",
    "$$\n",
    "(1-\\alpha)(k_t / \\ell_t)^{\\alpha} = w_t\n",
    "    \\quad \\text{and} \\quad\n",
    "    \\alpha (k_t / \\ell_t)^{\\alpha - 1} = R_t\n",
    "$$"
   ]
  },
  {
   "cell_type": "markdown",
   "id": "8549b03c",
   "metadata": {},
   "source": [
    "### 需求\n",
    "\n",
    "根据我们的假设$ \\ell_t = 1 $，我们可以得到\n",
    "\n",
    "\n",
    "<a id='equation-wage-one'></a>\n",
    "$$\n",
    "w_t = (1-\\alpha)k_t^\\alpha \\tag{26.9}\n",
    "$$\n",
    "\n",
    "并且\n",
    "\n",
    "\n",
    "<a id='equation-interest-rate-one'></a>\n",
    "$$\n",
    "R_t =\n",
    "    \\alpha k_t^{\\alpha - 1} \\tag{26.10}\n",
    "$$\n",
    "\n",
    "重新整理 [(26.10)](#equation-interest-rate-one) 得出在时间 $ t+1 $ 的总资本需求\n",
    "\n",
    "\n",
    "<a id='equation-aggregate-demand-capital-olg'></a>\n",
    "$$\n",
    "k^d (R_{t+1}) \n",
    "    := \\left (\\frac{\\alpha}{R_{t+1}} \\right )^{1/(1-\\alpha)} \\tag{26.11}\n",
    "$$\n",
    "\n",
    "在Python中"
   ]
  },
  {
   "cell_type": "code",
   "execution_count": null,
   "id": "891280a6",
   "metadata": {
    "hide-output": false
   },
   "outputs": [],
   "source": [
    "def capital_demand(R, α):\n",
    "    return (α/R)**(1/(1-α)) "
   ]
  },
  {
   "cell_type": "code",
   "execution_count": null,
   "id": "71e4e79a",
   "metadata": {
    "hide-output": false
   },
   "outputs": [],
   "source": [
    "def capital_supply(R, β, w):\n",
    "    R = np.ones_like(R)\n",
    "    return R * (β / (1 + β)) * w"
   ]
  },
  {
   "cell_type": "markdown",
   "id": "e7428de6",
   "metadata": {},
   "source": [
    "下图绘制了资本供给曲线（如[(26.6)](#equation-saving-log-2-olg)所示）以及资本需求曲线（如[(26.11)](#equation-aggregate-demand-capital-olg)所示），这两条曲线都是利率$ R_{t+1} $的函数。\n",
    "（对于对数效用这一特殊情况，供给不依赖于利率，因此我们得到一个常数函数。）"
   ]
  },
  {
   "cell_type": "markdown",
   "id": "789fa6d3",
   "metadata": {},
   "source": [
    "## 均衡\n",
    "\n",
    "在本节中，我们将推导均衡条件并研究一个例子。"
   ]
  },
  {
   "cell_type": "markdown",
   "id": "52576ebd",
   "metadata": {},
   "source": [
    "### 均衡条件\n",
    "\n",
    "在均衡状态下，$ t $时刻的储蓄等于$ t $时刻的投资，也等于$ t+1 $时刻的资本供给。\n",
    "\n",
    "通过将这些数量设为相等来计算均衡，即\n",
    "\n",
    "\n",
    "<a id='equation-equilibrium-1'></a>\n",
    "$$\n",
    "s(w_t, R_{t+1}) \n",
    "    = k^d(R_{t+1})\n",
    "    = \\left (\\frac{\\alpha}{R_{t+1}} \\right )^{1/(1-\\alpha)} \\tag{26.12}\n",
    "$$\n",
    "\n",
    "原则上，我们现在可以给定$ w_t $来求解均衡价格$ R_{t+1} $。\n",
    "（实际上，我们首先需要指定函数$ u $，从而得到$ s $。）\n",
    "\n",
    "当我们求解这个关于$ t+1 $时刻结果的方程时，$ t $时刻的量已经确定，所以我们可以将$ w_t $视为常数。\n",
    "\n",
    "从均衡$ R_{t+1} $和[(26.11)](#equation-aggregate-demand-capital-olg)，我们可以得到\n",
    "均衡数量$ k_{t+1} $。"
   ]
  },
  {
   "cell_type": "markdown",
   "id": "e9af8239",
   "metadata": {},
   "source": [
    "### 示例：对数效用\n",
    "\n",
    "在对数效用的情况下，我们可以使用[(26.12)](#equation-equilibrium-1)和[(26.6)](#equation-saving-log-2-olg)得到\n",
    "\n",
    "\n",
    "<a id='equation-equilibrium-2'></a>\n",
    "$$\n",
    "\\frac{\\beta}{1+\\beta} w_t\n",
    "    = \\left( \\frac{\\alpha}{R_{t+1}} \\right)^{1/(1-\\alpha)} \\tag{26.13}\n",
    "$$\n",
    "\n",
    "求解均衡利率得到\n",
    "\n",
    "\n",
    "<a id='equation-equilibrium-price'></a>\n",
    "$$\n",
    "R_{t+1} = \n",
    "    \\alpha \n",
    "    \\left( \n",
    "        \\frac{\\beta}{1+\\beta} w_t\n",
    "    \\right)^{\\alpha-1} \\tag{26.14}\n",
    "$$\n",
    "\n",
    "在Python中，我们可以通过以下方式计算这个"
   ]
  },
  {
   "cell_type": "code",
   "execution_count": null,
   "id": "fd820356",
   "metadata": {
    "hide-output": false
   },
   "outputs": [],
   "source": [
    "def equilibrium_R_log_utility(α, β, w):\n",
    "    R = α * ( (β * w) / (1 + β))**(α - 1)\n",
    "    return R"
   ]
  },
  {
   "cell_type": "markdown",
   "id": "e38c0c8a",
   "metadata": {},
   "source": [
    "在对数效用的情况下，由于资本供给不依赖于利率，均衡数量是由供给固定的。\n",
    "\n",
    "也就是说，\n",
    "\n",
    "\n",
    "<a id='equation-equilibrium-quantity'></a>\n",
    "$$\n",
    "k_{t+1} = s(w_t, R_{t+1}) = \\frac{\\beta }{1+\\beta} w_t \\tag{26.15}\n",
    "$$\n",
    "\n",
    "我们重新绘制上面的图，但这次加入均衡数量和价格。"
   ]
  },
  {
   "cell_type": "code",
   "execution_count": null,
   "id": "74af520a",
   "metadata": {
    "hide-output": false
   },
   "outputs": [],
   "source": [
    "R_vals = np.linspace(0.3, 1)\n",
    "α, β = 0.5, 0.9\n",
    "w = 2.0\n",
    "\n",
    "fig, ax = plt.subplots()\n",
    "\n",
    "ax.plot(R_vals, capital_demand(R_vals, α), \n",
    "        label=\"总需求\")\n",
    "ax.plot(R_vals, capital_supply(R_vals, β, w), \n",
    "        label=\"总供给\")\n",
    "\n",
    "R_e = equilibrium_R_log_utility(α, β, w)\n",
    "k_e = (β / (1 + β)) * w\n",
    "\n",
    "ax.plot(R_e, k_e, 'o',label='均衡')\n",
    "\n",
    "ax.set_xlabel(\"$R_{t+1}$\")\n",
    "ax.set_ylabel(\"$k_{t+1}$\")\n",
    "ax.legend()\n",
    "plt.show()"
   ]
  },
  {
   "cell_type": "markdown",
   "id": "243ef6ff",
   "metadata": {},
   "source": [
    "## 动态分析\n",
    "\n",
    "在本节中，我们将研究模型的动态行为。\n",
    "\n",
    "我们主要关注对数效用的情况，此时均衡由方程[(26.15)](#equation-equilibrium-quantity)确定。"
   ]
  },
  {
   "cell_type": "markdown",
   "id": "c05fd187",
   "metadata": {},
   "source": [
    "### 资本积累过程\n",
    "\n",
    "前面我们已经分析了如何根据当期工资$ w_t $确定下一期的均衡资本$ k_{t+1} $。\n",
    "\n",
    "现在，我们可以利用[(26.9)](#equation-wage-one)中的工资决定方程，将资本积累表示为一个关于当期资本$ k_t $的函数。\n",
    "\n",
    "具体来说，由于工资由$ w_t = (1-\\alpha)k_t^\\alpha $给出，我们可以得到资本的演化方程\n",
    "\n",
    "\n",
    "<a id='equation-law-of-motion-capital'></a>\n",
    "$$\n",
    "k_{t+1} = \\frac{\\beta}{1+\\beta} (1-\\alpha)(k_t)^{\\alpha} \\tag{26.16}\n",
    "$$\n",
    "\n",
    "如果我们对这个方程进行迭代，我们将得到一个资本存量序列。\n",
    "\n",
    "让我们绘制这些动态的45度图，我们将其表示为\n",
    "\n",
    "$$\n",
    "k_{t+1} = g(k_t)\n",
    "    \\quad \\text{其中 }\n",
    "    g(k) := \\frac{\\beta}{1+\\beta} (1-\\alpha)(k)^{\\alpha}\n",
    "$$"
   ]
  },
  {
   "cell_type": "code",
   "execution_count": null,
   "id": "39ba8b86",
   "metadata": {
    "hide-output": false
   },
   "outputs": [],
   "source": [
    "def k_update(k, α, β):\n",
    "    return β * (1 - α) * k**α /  (1 + β)"
   ]
  },
  {
   "cell_type": "code",
   "execution_count": null,
   "id": "1044b7ea",
   "metadata": {
    "hide-output": false
   },
   "outputs": [],
   "source": [
    "α, β = 0.5, 0.9\n",
    "kmin, kmax = 0, 0.1\n",
    "n = 1000\n",
    "k_grid = np.linspace(kmin, kmax, n)\n",
    "k_grid_next = k_update(k_grid,α,β)\n",
    "\n",
    "fig, ax = plt.subplots(figsize=(6, 6))\n",
    "\n",
    "ymin, ymax = np.min(k_grid_next), np.max(k_grid_next)\n",
    "\n",
    "ax.plot(k_grid, k_grid_next,  lw=2, alpha=0.6, label='$g$')\n",
    "ax.plot(k_grid, k_grid, 'k-', lw=1, alpha=0.7, label=r'$45^{\\circ}$')\n",
    "\n",
    "\n",
    "ax.legend(loc='upper left', frameon=False, fontsize=12)\n",
    "ax.set_xlabel('$k_t$', fontsize=12)\n",
    "ax.set_ylabel('$k_{t+1}$', fontsize=12)\n",
    "\n",
    "plt.show()"
   ]
  },
  {
   "cell_type": "markdown",
   "id": "c4c8e90c",
   "metadata": {},
   "source": [
    "### 稳态（对数情况）\n",
    "\n",
    "图表显示，该模型具有唯一的正稳态，我们将其表示为$ k^* $。\n",
    "\n",
    "我们可以通过设置$ k^* = g(k^*) $来求解$ k^* $，即\n",
    "\n",
    "\n",
    "<a id='equation-steady-state-1'></a>\n",
    "$$\n",
    "k^* = \\frac{\\beta (1-\\alpha) (k^*)^{\\alpha}}{(1+\\beta)} \\tag{26.17}\n",
    "$$\n",
    "\n",
    "求解方程得到\n",
    "\n",
    "\n",
    "<a id='equation-steady-state-2'></a>\n",
    "$$\n",
    "k^* = \\left (\\frac{\\beta (1-\\alpha)}{1+\\beta} \\right )^{1/(1-\\alpha)} \\tag{26.18}\n",
    "$$\n",
    "\n",
    "我们可以从[(26.10)](#equation-interest-rate-one)得到稳态利率，即\n",
    "\n",
    "$$\n",
    "R^* = \\alpha (k^*)^{\\alpha - 1} \n",
    "        = \\frac{\\alpha}{1 - \\alpha} \\frac{1 + \\beta}{\\beta}\n",
    "$$\n",
    "\n",
    "在Python中，我们有"
   ]
  },
  {
   "cell_type": "code",
   "execution_count": null,
   "id": "921149be",
   "metadata": {
    "hide-output": false
   },
   "outputs": [],
   "source": [
    "k_star = ((β * (1 - α))/(1 + β))**(1/(1-α))\n",
    "R_star = (α/(1 - α)) * ((1 + β) / β)"
   ]
  },
  {
   "cell_type": "markdown",
   "id": "c5d181b1",
   "metadata": {},
   "source": [
    "### 时间序列\n",
    "\n",
    "上面的45度图显示，具有正初始条件的资本时间序列会收敛到这个稳态。\n",
    "\n",
    "让我们绘制一些时间序列来可视化这一点。"
   ]
  },
  {
   "cell_type": "code",
   "execution_count": null,
   "id": "36c0e56e",
   "metadata": {
    "hide-output": false
   },
   "outputs": [],
   "source": [
    "ts_length = 25\n",
    "k_series = np.empty(ts_length)\n",
    "k_series[0] = 0.02\n",
    "for t in range(ts_length - 1):\n",
    "    k_series[t+1] = k_update(k_series[t], α, β)\n",
    "\n",
    "fig, ax = plt.subplots()\n",
    "ax.plot(k_series, label=\"资本序列\")\n",
    "ax.plot(range(ts_length), np.full(ts_length, k_star), 'k--', label=\"$k^*$\")\n",
    "ax.set_ylim(0, 0.1)\n",
    "ax.set_ylabel(\"资本\")\n",
    "ax.set_xlabel(\"$t$\")\n",
    "ax.legend()\n",
    "plt.show()"
   ]
  },
  {
   "cell_type": "markdown",
   "id": "beab5919",
   "metadata": {},
   "source": [
    "如果你尝试不同的正初始值，你会发现这个序列总是收敛于$ k^* $。\n",
    "\n",
    "下面我们还绘制了随时间变化的总利率。"
   ]
  },
  {
   "cell_type": "code",
   "execution_count": null,
   "id": "a3517f73",
   "metadata": {
    "hide-output": false
   },
   "outputs": [],
   "source": [
    "R_series = α * k_series**(α - 1)\n",
    "\n",
    "fig, ax = plt.subplots()\n",
    "ax.plot(R_series, label=\"毛利率\")\n",
    "ax.plot(range(ts_length), np.full(ts_length, R_star), 'k--', label=\"$R^*$\")\n",
    "ax.set_ylim(0, 4)\n",
    "ax.set_ylabel(\"毛利率\")\n",
    "ax.set_xlabel(\"$t$\")\n",
    "ax.legend()\n",
    "plt.show()"
   ]
  },
  {
   "cell_type": "markdown",
   "id": "7f7e3001",
   "metadata": {},
   "source": [
    "利率反映了资本的边际产出，当资本存量较低时，利率较高。"
   ]
  },
  {
   "cell_type": "markdown",
   "id": "57f4d1ea",
   "metadata": {},
   "source": [
    "## CRRA偏好\n",
    "\n",
    "到目前为止，我们一直使用对数效用函数来分析模型。现在让我们扩展到更一般的情况。\n",
    "\n",
    "对数效用实际上是常相对风险厌恶(CRRA)效用函数的一个特例，当风险厌恶参数$ \\gamma $趋近于1时得到。\n",
    "\n",
    "在本节中，我们假设$ u(c) = \\frac{ c^{1-\\gamma}-1}{1-\\gamma} $，其中$ \\gamma >0, \\gamma\\neq 1 $。\n",
    "\n",
    "这个函数被称为CRRA效用函数。\n",
    "\n",
    "在这一节中，我们将采用这种更一般的效用函数，同时保持模型的其他方面不变。\n",
    "\n",
    "首先，让我们在Python中实现CRRA效用函数，并创建一个包含所有模型参数的数据结构。"
   ]
  },
  {
   "cell_type": "code",
   "execution_count": null,
   "id": "c225bfe1",
   "metadata": {
    "hide-output": false
   },
   "outputs": [],
   "source": [
    "def crra(c, γ):\n",
    "    return c**(1 - γ) / (1 - γ)\n",
    "\n",
    "Model = namedtuple('Model', ['α',        # 柯布-道格拉斯参数\n",
    "                             'β',        # 折现因子\n",
    "                             'γ']        # CRRA效用函数中的参数\n",
    "                   )\n",
    "\n",
    "def create_olg_model(α=0.4, β=0.9, γ=0.5):\n",
    "    return Model(α=α, β=β, γ=γ)"
   ]
  },
  {
   "cell_type": "markdown",
   "id": "1eb17d7d",
   "metadata": {},
   "source": [
    "让我们也重新定义资本需求函数，使其能够与这个`namedtuple`一起工作。"
   ]
  },
  {
   "cell_type": "code",
   "execution_count": null,
   "id": "8ec3b639",
   "metadata": {
    "hide-output": false
   },
   "outputs": [],
   "source": [
    "def capital_demand(R, model):\n",
    "    return (α/R)**(1/(1-model.α)) "
   ]
  },
  {
   "cell_type": "markdown",
   "id": "b9a6fd39",
   "metadata": {},
   "source": [
    "### 供给\n",
    "\n",
    "对于家庭来说，欧拉方程变为\n",
    "\n",
    "\n",
    "<a id='equation-euler-crra'></a>\n",
    "$$\n",
    "(w_t - s_t)^{-\\gamma} = \\beta R^{1-\\gamma}_{t+1}  (s_t)^{-\\gamma} \\tag{26.19}\n",
    "$$\n",
    "\n",
    "求解储蓄，我们得到\n",
    "\n",
    "\n",
    "<a id='equation-saving-crra'></a>\n",
    "$$\n",
    "s_t \n",
    "    = s(w_t, R_{t+1}) \n",
    "    = w_t \\left [ \n",
    "        1 + \\beta^{-1/\\gamma} R_{t+1}^{(\\gamma-1)/\\gamma} \n",
    "      \\right ]^{-1} \\tag{26.20}\n",
    "$$\n",
    "\n",
    "请注意，与对数情况不同，储蓄现在取决于利率。"
   ]
  },
  {
   "cell_type": "code",
   "execution_count": null,
   "id": "387b3b67",
   "metadata": {
    "hide-output": false
   },
   "outputs": [],
   "source": [
    "def savings_crra(w, R, model):\n",
    "    α, β, γ = model\n",
    "    return w / (1 + β**(-1/γ) * R**((γ-1)/γ)) "
   ]
  },
  {
   "cell_type": "code",
   "execution_count": null,
   "id": "c88133e1",
   "metadata": {
    "hide-output": false
   },
   "outputs": [],
   "source": [
    "model = create_olg_model()\n",
    "w = 2.0\n",
    "\n",
    "fig, ax = plt.subplots()\n",
    "\n",
    "ax.plot(R_vals, capital_demand(R_vals, model), \n",
    "        label=\"总需求\")\n",
    "ax.plot(R_vals, savings_crra(w, R_vals, model), \n",
    "        label=\"总供给\")\n",
    "\n",
    "ax.set_xlabel(\"$R_{t+1}$\")\n",
    "ax.set_ylabel(\"$k_{t+1}$\")\n",
    "ax.legend()\n",
    "plt.show()"
   ]
  },
  {
   "cell_type": "markdown",
   "id": "f593d53c",
   "metadata": {},
   "source": [
    "### 均衡\n",
    "\n",
    "将资本的总需求（参见[(26.11)](#equation-aggregate-demand-capital-olg)）与我们新的总供给函数相等，即可得出均衡资本。\n",
    "\n",
    "因此，我们设定\n",
    "\n",
    "\n",
    "<a id='equation-equilibrium-crra-2'></a>\n",
    "$$\n",
    "w_t \\left [ 1 + \\beta^{-1/\\gamma} R_{t+1}^{(\\gamma-1)/\\gamma} \\right ]^{-1} \n",
    "    = \\left (\\frac{R_{t+1}}{\\alpha} \\right )^{1/(\\alpha - 1)} \\tag{26.21}\n",
    "$$\n",
    "\n",
    "这个表达式相当复杂，我们无法解析地求解 $ R_{t+1} $。\n",
    "\n",
    "将[(26.10)](#equation-interest-rate-one)和[(26.21)](#equation-equilibrium-crra-2)结合起来，得到\n",
    "\n",
    "\n",
    "<a id='equation-law-of-motion-capital-crra'></a>\n",
    "$$\n",
    "k_{t+1} = \\left [ 1 + \\beta^{-1/\\gamma} (\\alpha k^{\\alpha - 1}_{t+1})^{(\\gamma-1)/\\gamma} \\right ]^{-1} (1-\\alpha)(k_t)^{\\alpha} \\tag{26.22}\n",
    "$$\n",
    "\n",
    "同样，有了这个等式和给定的 $ k_t $，我们无法用纸笔求解 $ k_{t+1} $。\n",
    "\n",
    "在下面的练习中，你将被要求用数值方法解这些方程。"
   ]
  },
  {
   "cell_type": "markdown",
   "id": "f52c4cd0",
   "metadata": {},
   "source": [
    "## 练习"
   ]
  },
  {
   "cell_type": "markdown",
   "id": "730e00ec",
   "metadata": {},
   "source": [
    "## Exercise 26.1\n",
    "\n",
    "使用[(26.22)](#equation-law-of-motion-capital-crra)在 CRRA 情况下数值求解均衡资本存量的动态。\n",
    "\n",
    "使用 45 度图来可视化这个动态过程。"
   ]
  },
  {
   "cell_type": "markdown",
   "id": "e152ed99",
   "metadata": {},
   "source": [
    "## Solution to[ Exercise 26.1](https://quantecon.github.io/lecture-intro.zh-cn/#olg_ex1)\n",
    "\n",
    "为了在给定 $ k_t $ 的情况下求解 $ k_{t+1} $，我们使用[牛顿法](https://python.quantecon.org/newton_method.html)。\n",
    "\n",
    "设\n",
    "\n",
    "\n",
    "<a id='equation-crra-newton-1'></a>\n",
    "$$\n",
    "f(k_{t+1}, k_t)\n",
    "    =\n",
    "    k_{t+1} \n",
    "    \\left[ \n",
    "        1 + \\beta^{-1/\\gamma} \n",
    "        \\left ( \n",
    "            \\alpha k^{\\alpha-1}_{t+1} \n",
    "        \\right )^{(\\gamma-1)/\\gamma} \n",
    "    \\right] - (1-\\alpha) k^{\\alpha}_t =0 \\tag{26.23}\n",
    "$$\n",
    "\n",
    "如果给定了 $ k_t $，那么 $ f $ 就是未知数 $ k_{t+1} $ 的函数。\n",
    "\n",
    "然后我们可以使用 `scipy.optimize.newton` 求解 $ f(k_{t+1}, k_t)=0 $ 来得到 $ k_{t+1} $。\n",
    "\n",
    "首先让我们定义 $ f $。"
   ]
  },
  {
   "cell_type": "code",
   "execution_count": null,
   "id": "5ac34409",
   "metadata": {
    "hide-output": false
   },
   "outputs": [],
   "source": [
    "def f(k_prime, k, model):\n",
    "    α, β, γ = model.α, model.β, model.γ\n",
    "    z = (1 - α) * k**α\n",
    "    a = α**(1-1/γ)\n",
    "    b = k_prime**((α * γ - α + 1) / γ)\n",
    "    p = k_prime + k_prime * β**(-1/γ) * a * b\n",
    "    return p - z"
   ]
  },
  {
   "cell_type": "markdown",
   "id": "17e33705",
   "metadata": {},
   "source": [
    "现在让我们定义一个函数来找出 $ k_{t+1} $ 的值。"
   ]
  },
  {
   "cell_type": "code",
   "execution_count": null,
   "id": "560a7483",
   "metadata": {
    "hide-output": false
   },
   "outputs": [],
   "source": [
    "def k_update(k, model):\n",
    "    return optimize.newton(lambda k_prime: f(k_prime, k, model), 0.1)"
   ]
  },
  {
   "cell_type": "markdown",
   "id": "9a95b1a3",
   "metadata": {},
   "source": [
    "最后，这是 45 度图。"
   ]
  },
  {
   "cell_type": "code",
   "execution_count": null,
   "id": "cef8a402",
   "metadata": {
    "hide-output": false
   },
   "outputs": [],
   "source": [
    "kmin, kmax = 0, 0.5\n",
    "n = 1000\n",
    "k_grid = np.linspace(kmin, kmax, n)\n",
    "k_grid_next = np.empty_like(k_grid)\n",
    "\n",
    "for i in range(n):\n",
    "    k_grid_next[i] = k_update(k_grid[i], model)\n",
    "\n",
    "fig, ax = plt.subplots(figsize=(6, 6))\n",
    "\n",
    "ymin, ymax = np.min(k_grid_next), np.max(k_grid_next)\n",
    "\n",
    "ax.plot(k_grid, k_grid_next,  lw=2, alpha=0.6, label='$g$')\n",
    "ax.plot(k_grid, k_grid, 'k-', lw=1, alpha=0.7, label=r'$45^{\\circ}$')\n",
    "\n",
    "\n",
    "ax.legend(loc='upper left', frameon=False, fontsize=12)\n",
    "ax.set_xlabel('$k_t$', fontsize=12)\n",
    "ax.set_ylabel('$k_{t+1}$', fontsize=12)\n",
    "\n",
    "plt.show()"
   ]
  },
  {
   "cell_type": "markdown",
   "id": "7c98cf73",
   "metadata": {},
   "source": [
    "## Exercise 26.2\n",
    "\n",
    "上一个练习中的45度图表明存在唯一的正稳态。\n",
    "\n",
    "通过在[(26.22)](#equation-law-of-motion-capital-crra)中设置 $ k_{t+1} = k_t = k^* $，可以得到正稳态，即：\n",
    "\n",
    "$$\n",
    "k^* = \n",
    "    \\frac{(1-\\alpha)(k^*)^{\\alpha}}\n",
    "    {1 + \\beta^{-1/\\gamma} (\\alpha (k^*)^{\\alpha-1})^{(\\gamma-1)/\\gamma}}\n",
    "$$\n",
    "\n",
    "与对数效用情况不同，CRRA效用的稳态 $ k^* $ 无法通过解析方法获得。\n",
    "\n",
    "相反，我们使用牛顿法求解 $ k^* $。"
   ]
  },
  {
   "cell_type": "markdown",
   "id": "5a61c335",
   "metadata": {},
   "source": [
    "## Solution to[ Exercise 26.2](https://quantecon.github.io/lecture-intro.zh-cn/#olg_ex2)\n",
    "\n",
    "我们引入一个函数 $ h $，使得\n",
    "正稳态是 $ h $ 的根。\n",
    "\n",
    "\n",
    "<a id='equation-crra-newton-2'></a>\n",
    "$$\n",
    "h(k^*) = k^*  \n",
    "    \\left [ \n",
    "        1 + \\beta^{-1/\\gamma} (\\alpha (k^*)^{\\alpha-1})^{(\\gamma-1)/\\gamma} \n",
    "    \\right ] - (1-\\alpha)(k^*)^{\\alpha} \\tag{26.24}\n",
    "$$\n",
    "\n",
    "现在让我们用Python实现这个函数："
   ]
  },
  {
   "cell_type": "code",
   "execution_count": null,
   "id": "9c506b65",
   "metadata": {
    "hide-output": false
   },
   "outputs": [],
   "source": [
    "def h(k_star, model):\n",
    "    α, β, γ = model.α, model.β, model.γ\n",
    "    z = (1 - α) * k_star**α\n",
    "    R1 = α ** (1-1/γ)\n",
    "    R2 = k_star**((α * γ - α + 1) / γ)\n",
    "    p = k_star + k_star * β**(-1/γ) * R1 * R2\n",
    "    return p - z"
   ]
  },
  {
   "cell_type": "markdown",
   "id": "4755aa00",
   "metadata": {},
   "source": [
    "让我们运用牛顿法来求根："
   ]
  },
  {
   "cell_type": "code",
   "execution_count": null,
   "id": "acb59c7b",
   "metadata": {
    "hide-output": false
   },
   "outputs": [],
   "source": [
    "k_star = optimize.newton(h, 0.2, args=(model,))\n",
    "print(f\"k_star = {k_star}\")"
   ]
  },
  {
   "cell_type": "markdown",
   "id": "95392d19",
   "metadata": {},
   "source": [
    "## Exercise 26.3\n",
    "\n",
    "根据上面列出的参数化，生成三个资本的时间路径，来自三个不同的初始条件。\n",
    "\n",
    "使用 $ k_0 $ 的初始条件为 $ 0.001, 1.2, 2.6 $，并且时间序列长度为 10。"
   ]
  },
  {
   "cell_type": "markdown",
   "id": "5839fb5a",
   "metadata": {},
   "source": [
    "## Solution to[ Exercise 26.3](https://quantecon.github.io/lecture-intro.zh-cn/#olg_ex3)\n",
    "\n",
    "让我们定义常数和三个不同的初始条件。"
   ]
  },
  {
   "cell_type": "code",
   "execution_count": null,
   "id": "fc5f26a5",
   "metadata": {
    "hide-output": false
   },
   "outputs": [],
   "source": [
    "ts_length = 10\n",
    "k0 = np.array([0.001, 1.2, 2.6])"
   ]
  },
  {
   "cell_type": "markdown",
   "id": "fbb0ed72",
   "metadata": {},
   "source": [
    "现在我们定义一个函数来模拟时间序列。"
   ]
  },
  {
   "cell_type": "code",
   "execution_count": null,
   "id": "af7e802f",
   "metadata": {
    "hide-output": false
   },
   "outputs": [],
   "source": [
    "def simulate_ts(model, k0_values, ts_length):\n",
    "\n",
    "    fig, ax = plt.subplots()\n",
    "\n",
    "    ts = np.zeros(ts_length)\n",
    "\n",
    "    # 模拟并且绘制时间序列\n",
    "    for k_init in k0_values:\n",
    "        ts[0] = k_init\n",
    "        for t in range(1, ts_length):\n",
    "            ts[t] = k_update(ts[t-1], model)\n",
    "        ax.plot(np.arange(ts_length), ts, '-o', ms=4, alpha=0.6,\n",
    "                label=r'$k_0=%g$' %k_init)\n",
    "    ax.plot(np.arange(ts_length), np.full(ts_length, k_star),\n",
    "            alpha=0.6, color='red', label=r'$k^*$')\n",
    "    ax.legend(fontsize=10)\n",
    "\n",
    "    ax.set_xlabel(r'$t$', fontsize=14)\n",
    "    ax.set_ylabel(r'$k_t$', fontsize=14)\n",
    "\n",
    "    plt.show()"
   ]
  },
  {
   "cell_type": "markdown",
   "id": "e4c234af",
   "metadata": {},
   "source": [
    "现在我们可以模拟时间序列并绘制结果。"
   ]
  },
  {
   "cell_type": "code",
   "execution_count": null,
   "id": "9eea6233",
   "metadata": {
    "hide-output": false
   },
   "outputs": [],
   "source": [
    "simulate_ts(model, k0, ts_length)"
   ]
  }
 ],
 "metadata": {
  "date": 1743834080.7408664,
  "filename": "olg.md",
  "kernelspec": {
   "display_name": "Python",
   "language": "python3",
   "name": "python3"
  },
  "title": "世代交叠模型"
 },
 "nbformat": 4,
 "nbformat_minor": 5
}