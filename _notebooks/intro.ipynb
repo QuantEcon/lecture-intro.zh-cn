{
 "cells": [
  {
   "cell_type": "markdown",
   "id": "3ab6b9b3",
   "metadata": {},
   "source": [
    "# Python数量经济学入门\n",
    "\n",
    "本课程是由托马斯·萨金特（Thomas J. Sargent）和约翰·斯塔胡斯基（John Stachurski）设计和撰写的计算经济学入门讲座。"
   ]
  },
  {
   "cell_type": "markdown",
   "id": "f528443c",
   "metadata": {},
   "source": [
    "# 导言\n",
    "\n",
    "- [关于这些讲座](https://quantecon.github.io/lecture-intro.zh-cn/about.html)"
   ]
  },
  {
   "cell_type": "markdown",
   "id": "1f2273ab",
   "metadata": {},
   "source": [
    "# 经济数据\n",
    "\n",
    "- [长期增长](https://quantecon.github.io/lecture-intro.zh-cn/long_run_growth.html)\n",
    "- [商业周期](https://quantecon.github.io/lecture-intro.zh-cn/business_cycle.html)\n",
    "- [价格水平历史](https://quantecon.github.io/lecture-intro.zh-cn/inflation_history.html)\n",
    "- [法国大革命期间的通货膨胀](https://quantecon.github.io/lecture-intro.zh-cn/french_rev.html)\n",
    "- [收入与财富不平等](https://quantecon.github.io/lecture-intro.zh-cn/inequality.html)"
   ]
  },
  {
   "cell_type": "markdown",
   "id": "c4361e12",
   "metadata": {},
   "source": [
    "# 基础工具\n",
    "\n",
    "- [供给与需求导论](https://quantecon.github.io/lecture-intro.zh-cn/intro_supply_demand.html)\n",
    "- [线性方程和矩阵代数](https://quantecon.github.io/lecture-intro.zh-cn/linear_equations.html)\n",
    "- [复数和三角函数](https://quantecon.github.io/lecture-intro.zh-cn/complex_and_trig.html)\n",
    "- [基础经济学中的几何级数](https://quantecon.github.io/lecture-intro.zh-cn/geom_series.html)"
   ]
  },
  {
   "cell_type": "markdown",
   "id": "e4ec0b2c",
   "metadata": {},
   "source": [
    "# 线性动态：有限视界\n",
    "\n",
    "- [现值](https://quantecon.github.io/lecture-intro.zh-cn/pv.html)\n",
    "- [消费平滑](https://quantecon.github.io/lecture-intro.zh-cn/cons_smooth.html)\n",
    "- [均衡差异模型](https://quantecon.github.io/lecture-intro.zh-cn/equalizing_difference.html)\n",
    "- [货币主义价格水平理论](https://quantecon.github.io/lecture-intro.zh-cn/cagan_ree.html)\n",
    "- [自适应预期下的货币主义价格水平理论](https://quantecon.github.io/lecture-intro.zh-cn/cagan_adaptive.html)"
   ]
  },
  {
   "cell_type": "markdown",
   "id": "cf34fa19",
   "metadata": {},
   "source": [
    "# 线性动态：无限视界\n",
    "\n",
    "- [特征值和特征向量](https://quantecon.github.io/lecture-intro.zh-cn/eigen_I.html)\n",
    "- [计算平方根](https://quantecon.github.io/lecture-intro.zh-cn/greek_square.html)"
   ]
  },
  {
   "cell_type": "markdown",
   "id": "95a1f6e8",
   "metadata": {},
   "source": [
    "# 概率与分布\n",
    "\n",
    "- [分布和概率](https://quantecon.github.io/lecture-intro.zh-cn/prob_dist.html)\n",
    "- [大数定律与中心极限定理](https://quantecon.github.io/lecture-intro.zh-cn/lln_clt.html)\n",
    "- [蒙特卡罗方法与期权定价](https://quantecon.github.io/lecture-intro.zh-cn/monte_carlo.html)\n",
    "- [重尾分布](https://quantecon.github.io/lecture-intro.zh-cn/heavy_tails.html)\n",
    "- [种族隔离](https://quantecon.github.io/lecture-intro.zh-cn/schelling.html)"
   ]
  },
  {
   "cell_type": "markdown",
   "id": "822987d3",
   "metadata": {},
   "source": [
    "# 非线性动态\n",
    "\n",
    "- [一维动力学](https://quantecon.github.io/lecture-intro.zh-cn/scalar_dynam.html)\n",
    "- [索洛-斯旺增长模型](https://quantecon.github.io/lecture-intro.zh-cn/solow.html)\n",
    "- [蛛网模型](https://quantecon.github.io/lecture-intro.zh-cn/cobweb.html)\n",
    "- [世代交叠模型](https://quantecon.github.io/lecture-intro.zh-cn/olg.html)\n",
    "- [商品价格](https://quantecon.github.io/lecture-intro.zh-cn/commod_price.html)"
   ]
  },
  {
   "cell_type": "markdown",
   "id": "d46ca45a",
   "metadata": {},
   "source": [
    "# 货币政策与财政政策的相互作用\n",
    "\n",
    "- [通过货币资助的政府赤字和价格水平](https://quantecon.github.io/lecture-intro.zh-cn/money_inflation.html)\n",
    "- [一些不愉快的货币主义算术](https://quantecon.github.io/lecture-intro.zh-cn/unpleasant.html)\n",
    "- [通货膨胀税的拉弗曲线](https://quantecon.github.io/lecture-intro.zh-cn/money_inflation_nonlinear.html)\n",
    "- [拉弗曲线与自适应预期](https://quantecon.github.io/lecture-intro.zh-cn/laffer_adaptive.html)"
   ]
  },
  {
   "cell_type": "markdown",
   "id": "7071c308",
   "metadata": {},
   "source": [
    "# 随机动态\n",
    "\n",
    "- [AR(1) 过程](https://quantecon.github.io/lecture-intro.zh-cn/ar1_processes.html)\n",
    "- [马尔科夫链：基本概念](https://quantecon.github.io/lecture-intro.zh-cn/markov_chains_I.html)\n",
    "- [马尔科夫链：不可约性与遍历性](https://quantecon.github.io/lecture-intro.zh-cn/markov_chains_II.html)\n",
    "- [用矩阵代数表示的单变量时间序列](https://quantecon.github.io/lecture-intro.zh-cn/time_series_with_matrices.html)"
   ]
  },
  {
   "cell_type": "markdown",
   "id": "cd328d43",
   "metadata": {},
   "source": [
    "# 优化\n",
    "\n",
    "- [线性规划](https://quantecon.github.io/lecture-intro.zh-cn/lp_intro.html)\n",
    "- [最短路径](https://quantecon.github.io/lecture-intro.zh-cn/short_path.html)"
   ]
  },
  {
   "cell_type": "markdown",
   "id": "b458271b",
   "metadata": {},
   "source": [
    "# 高维建模\n",
    "\n",
    "- [佩龙-弗罗贝尼乌斯定理](https://quantecon.github.io/lecture-intro.zh-cn/eigen_II.html)\n",
    "- [输入-输出模型](https://quantecon.github.io/lecture-intro.zh-cn/input_output.html)\n",
    "- [就业的湖泊模型](https://quantecon.github.io/lecture-intro.zh-cn/lake_model.html)\n",
    "- [网络](https://quantecon.github.io/lecture-intro.zh-cn/networks.html)"
   ]
  },
  {
   "cell_type": "markdown",
   "id": "0231edb0",
   "metadata": {},
   "source": [
    "# 市场与竞争性均衡\n",
    "\n",
    "- [多种商品的供需关系](https://quantecon.github.io/lecture-intro.zh-cn/supply_demand_multiple_goods.html)\n",
    "- [具有异质性的市场均衡](https://quantecon.github.io/lecture-intro.zh-cn/supply_demand_heterogeneity.html)"
   ]
  },
  {
   "cell_type": "markdown",
   "id": "e1b71f46",
   "metadata": {},
   "source": [
    "# 估计\n",
    "\n",
    "- [简单线性回归模型](https://quantecon.github.io/lecture-intro.zh-cn/simple_linear_regression.html)\n",
    "- [最大似然估计](https://quantecon.github.io/lecture-intro.zh-cn/mle.html)"
   ]
  },
  {
   "cell_type": "markdown",
   "id": "539fa945",
   "metadata": {},
   "source": [
    "# 其它\n",
    "\n",
    "- [故障排除](https://quantecon.github.io/lecture-intro.zh-cn/troubleshooting.html)\n",
    "- [参考文献](https://quantecon.github.io/lecture-intro.zh-cn/zreferences.html)\n",
    "- [执行统计数据](https://quantecon.github.io/lecture-intro.zh-cn/status.html)"
   ]
  }
 ],
 "metadata": {
  "date": 1742374751.4842675,
  "filename": "intro.md",
  "kernelspec": {
   "display_name": "Python",
   "language": "python3",
   "name": "python3"
  },
  "title": "Python数量经济学入门"
 },
 "nbformat": 4,
 "nbformat_minor": 5
}