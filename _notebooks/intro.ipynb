{
 "cells": [
  {
   "cell_type": "markdown",
   "id": "ffd543a9",
   "metadata": {},
   "source": [
    "# Python数量经济学入门\n",
    "\n",
    "本课程是由托马斯·萨金特（Thomas J. Sargent）和约翰·斯塔胡斯基（John Stachurski）设计和撰写的计算经济学入门讲座。"
   ]
  },
  {
   "cell_type": "markdown",
   "id": "013291f8",
   "metadata": {},
   "source": [
    "# 导言\n",
    "\n",
    "- [关于这些讲座](https://intro.quantecon.org/about.html)"
   ]
  },
  {
   "cell_type": "markdown",
   "id": "6189ae6e",
   "metadata": {},
   "source": [
    "# 经济数据\n",
    "\n",
    "- [长期增长](https://intro.quantecon.org/long_run_growth.html)\n",
    "- [商业周期](https://intro.quantecon.org/business_cycle.html)\n",
    "- [价格水平历史](https://intro.quantecon.org/inflation_history.html)\n",
    "- [法国大革命期间的通货膨胀](https://intro.quantecon.org/french_rev.html)\n",
    "- [收入与财富不平等](https://intro.quantecon.org/inequality.html)"
   ]
  },
  {
   "cell_type": "markdown",
   "id": "53223b1f",
   "metadata": {},
   "source": [
    "# 基础工具\n",
    "\n",
    "- [供给与需求导论](https://intro.quantecon.org/intro_supply_demand.html)\n",
    "- [线性方程和矩阵代数](https://intro.quantecon.org/linear_equations.html)\n",
    "- [复数和三角函数](https://intro.quantecon.org/complex_and_trig.html)\n",
    "- [基础经济学中的几何级数](https://intro.quantecon.org/geom_series.html)"
   ]
  },
  {
   "cell_type": "markdown",
   "id": "6488cb71",
   "metadata": {},
   "source": [
    "# 线性动态：有限视界\n",
    "\n",
    "- [现值](https://intro.quantecon.org/pv.html)\n",
    "- [消费平滑](https://intro.quantecon.org/cons_smooth.html)\n",
    "- [均衡差异模型](https://intro.quantecon.org/equalizing_difference.html)\n",
    "- [价格水平的货币主义理论](https://intro.quantecon.org/cagan_ree.html)\n",
    "- [具有自适应预期的价格水平货币主义理论](https://intro.quantecon.org/cagan_adaptive.html)"
   ]
  },
  {
   "cell_type": "markdown",
   "id": "00acb72f",
   "metadata": {},
   "source": [
    "# 线性动态：无限视界\n",
    "\n",
    "- [特征值和特征向量](https://intro.quantecon.org/eigen_I.html)\n",
    "- [计算平方根](https://intro.quantecon.org/greek_square.html)"
   ]
  },
  {
   "cell_type": "markdown",
   "id": "cb7c01f3",
   "metadata": {},
   "source": [
    "# 概率与分布\n",
    "\n",
    "- [分布和概率](https://intro.quantecon.org/prob_dist.html)\n",
    "- [大数定律与中心极限定理](https://intro.quantecon.org/lln_clt.html)\n",
    "- [蒙特卡罗方法与期权定价](https://intro.quantecon.org/monte_carlo.html)\n",
    "- [重尾分布](https://intro.quantecon.org/heavy_tails.html)\n",
    "- [种族隔离](https://intro.quantecon.org/schelling.html)"
   ]
  },
  {
   "cell_type": "markdown",
   "id": "9167c5bd",
   "metadata": {},
   "source": [
    "# 非线性动态\n",
    "\n",
    "- [一维动力学](https://intro.quantecon.org/scalar_dynam.html)\n",
    "- [索洛-斯旺增长模型](https://intro.quantecon.org/solow.html)\n",
    "- [蛛网模型](https://intro.quantecon.org/cobweb.html)\n",
    "- [世代交叠模型](https://intro.quantecon.org/olg.html)\n",
    "- [商品价格](https://intro.quantecon.org/commod_price.html)"
   ]
  },
  {
   "cell_type": "markdown",
   "id": "bd9f6614",
   "metadata": {},
   "source": [
    "# 货币政策与财政政策的相互作用\n",
    "\n",
    "- [通过货币资助的政府赤字和价格水平](https://intro.quantecon.org/money_inflation.html)\n",
    "- [一些不愉快的货币主义算术](https://intro.quantecon.org/unpleasant.html)\n",
    "- [通货膨胀税拉弗曲线](https://intro.quantecon.org/money_inflation_nonlinear.html)\n",
    "- [拉弗曲线与自适应预期](https://intro.quantecon.org/laffer_adaptive.html)"
   ]
  },
  {
   "cell_type": "markdown",
   "id": "921f6e97",
   "metadata": {},
   "source": [
    "# 随机动态\n",
    "\n",
    "- [AR(1) 过程](https://intro.quantecon.org/ar1_processes.html)\n",
    "- [马尔科夫链：基本概念](https://intro.quantecon.org/markov_chains_I.html)\n",
    "- [马尔科夫链：不可约性与遍历性](https://intro.quantecon.org/markov_chains_II.html)\n",
    "- [用矩阵代数表示的单变量时间序列](https://intro.quantecon.org/time_series_with_matrices.html)"
   ]
  },
  {
   "cell_type": "markdown",
   "id": "85e6c04b",
   "metadata": {},
   "source": [
    "# 优化\n",
    "\n",
    "- [线性规划](https://intro.quantecon.org/lp_intro.html)\n",
    "- [最短路径](https://intro.quantecon.org/short_path.html)"
   ]
  },
  {
   "cell_type": "markdown",
   "id": "17ffdd4a",
   "metadata": {},
   "source": [
    "# 高维建模\n",
    "\n",
    "- [佩龙-弗罗贝尼乌斯定理](https://intro.quantecon.org/eigen_II.html)\n",
    "- [输入-输出模型](https://intro.quantecon.org/input_output.html)\n",
    "- [就业的湖泊模型](https://intro.quantecon.org/lake_model.html)\n",
    "- [网络](https://intro.quantecon.org/networks.html)"
   ]
  },
  {
   "cell_type": "markdown",
   "id": "5c39dc1f",
   "metadata": {},
   "source": [
    "# 市场与竞争性均衡\n",
    "\n",
    "- [多种商品的供需关系](https://intro.quantecon.org/supply_demand_multiple_goods.html)\n",
    "- [市场均衡与异质性](https://intro.quantecon.org/supply_demand_heterogeneity.html)"
   ]
  },
  {
   "cell_type": "markdown",
   "id": "069d5d8d",
   "metadata": {},
   "source": [
    "# 估计\n",
    "\n",
    "- [简单线性回归模型](https://intro.quantecon.org/simple_linear_regression.html)\n",
    "- [最大似然估计](https://intro.quantecon.org/mle.html)"
   ]
  },
  {
   "cell_type": "markdown",
   "id": "af4225b8",
   "metadata": {},
   "source": [
    "# 其它\n",
    "\n",
    "- [故障排除](https://intro.quantecon.org/troubleshooting.html)\n",
    "- [参考文献](https://intro.quantecon.org/zreferences.html)\n",
    "- [执行统计数据](https://intro.quantecon.org/status.html)"
   ]
  }
 ],
 "metadata": {
  "date": 1740124707.750456,
  "filename": "intro.md",
  "kernelspec": {
   "display_name": "Python",
   "language": "python3",
   "name": "python3"
  },
  "title": "Python数量经济学入门"
 },
 "nbformat": 4,
 "nbformat_minor": 5
}