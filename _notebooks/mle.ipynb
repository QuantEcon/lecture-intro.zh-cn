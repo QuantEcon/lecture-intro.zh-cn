{
 "cells": [
  {
   "cell_type": "markdown",
   "id": "8aaecbe9",
   "metadata": {},
   "source": [
    "# 最大似然估计"
   ]
  },
  {
   "cell_type": "code",
   "execution_count": null,
   "id": "ce4a87c7",
   "metadata": {
    "hide-output": false
   },
   "outputs": [],
   "source": [
    "from scipy.stats import lognorm, pareto, expon\n",
    "import numpy as np\n",
    "from scipy.integrate import quad\n",
    "import matplotlib.pyplot as plt\n",
    "import matplotlib as mpl\n",
    "import pandas as pd\n",
    "from math import exp\n",
    "\n",
    "FONTPATH = \"fonts/SourceHanSerifSC-SemiBold.otf\"\n",
    "mpl.font_manager.fontManager.addfont(FONTPATH)\n",
    "plt.rcParams['font.family'] = ['Source Han Serif SC']"
   ]
  },
  {
   "cell_type": "markdown",
   "id": "849b0c11",
   "metadata": {},
   "source": [
    "## 介绍\n",
    "\n",
    "考虑一个政策制定者试图估算提议中的财富税将带来多少收入的情况。\n",
    "\n",
    "提议的税务公式为：\n",
    "\n",
    "$$\n",
    "h(w) = \n",
    "    \\begin{cases}\n",
    "    a w                       & \\text{if } w \\leq \\bar w  \\\\\n",
    "    a \\bar{w} + b (w-\\bar{w}) & \\text{if } w > \\bar w  \n",
    "    \\end{cases}\n",
    "$$\n",
    "\n",
    "其中 $ w $ 代表财富。"
   ]
  },
  {
   "cell_type": "markdown",
   "id": "b349ee00",
   "metadata": {},
   "source": [
    "## \n",
    "\n",
    "例如，如果 $ a = 0.05 $，$ b = 0.1 $，且 $ \\bar w = 2.5 $，意味着：\n",
    "\n",
    "- 对于2.5及以下的财富征收5%的税，  \n",
    "- 对超过2.5的部分财富征收10%的税。  \n",
    "\n",
    "\n",
    "单位是100,000，所以 $ w= 2.5 $ 的意思是 250,000 美元。\n",
    "\n",
    "让我们来定义函数 $ h $:"
   ]
  },
  {
   "cell_type": "code",
   "execution_count": null,
   "id": "25f239e6",
   "metadata": {
    "hide-output": false
   },
   "outputs": [],
   "source": [
    "def h(w, a=0.05, b=0.1, w_bar=2.5):\n",
    "    if w <= w_bar:\n",
    "        return a * w\n",
    "    else:\n",
    "        return a * w_bar + b * (w - w_bar)"
   ]
  },
  {
   "cell_type": "markdown",
   "id": "04df0996",
   "metadata": {},
   "source": [
    "对于一个人口数量为 $ N $ 的社区，每个人 $ i $ 拥有财富 $ w_i $，通过税收收入总额为\n",
    "\n",
    "$$\n",
    "T = \\sum_{i=1}^{N} h(w_i)\n",
    "$$\n",
    "\n",
    "我们希望计算这个总量。\n",
    "\n",
    "我们面对的问题是，在大多数国家中，并不是所有个人的财富都能被观测到。\n",
    "\n",
    "为一个国家的所有个人或家庭收集并维持准确的财富数据是非常困难的。\n",
    "\n",
    "因此，假设我们得到了一个样本 $ w_1, w_2, \\cdots, w_n $，它告诉我们 $ n $ 个随机选定个人的财富。\n",
    "\n",
    "在这个练习中，我们将使用 $ n = 10,000 $ 来自2016年美国的财富数据样本。"
   ]
  },
  {
   "cell_type": "code",
   "execution_count": null,
   "id": "4fc023f5",
   "metadata": {
    "hide-output": false
   },
   "outputs": [],
   "source": [
    "n = 10_000"
   ]
  },
  {
   "cell_type": "markdown",
   "id": "80e8f100",
   "metadata": {},
   "source": [
    "这些数据来源于[消费者财务调查](https://en.wikipedia.org/wiki/Survey_of_Consumer_Finances) (SCF)。\n",
    "\n",
    "以下代码导入了数据并将其读入名为 `sample` 的数组。"
   ]
  },
  {
   "cell_type": "code",
   "execution_count": null,
   "id": "04b6d96a",
   "metadata": {
    "hide-output": false
   },
   "outputs": [],
   "source": [
    "url = 'https://media.githubusercontent.com/media/QuantEcon/high_dim_data/update_scf_noweights/SCF_plus/SCF_plus_mini_no_weights.csv'\n",
    "df = pd.read_csv(url)\n",
    "df = df.dropna()\n",
    "df = df[df['year'] == 2016]\n",
    "df = df.loc[df['n_wealth'] > 1 ]   # 限制数据为净值大于 1 的数据\n",
    "rv = df['n_wealth'].sample(n=n, random_state=1234)\n",
    "rv = rv.to_numpy() / 100_000\n",
    "sample = rv"
   ]
  },
  {
   "cell_type": "markdown",
   "id": "f808bb1c",
   "metadata": {},
   "source": [
    "让我们来做一个这个样本的直方图。"
   ]
  },
  {
   "cell_type": "code",
   "execution_count": null,
   "id": "2c9b502f",
   "metadata": {
    "hide-output": false
   },
   "outputs": [],
   "source": [
    "fig, ax = plt.subplots()\n",
    "ax.set_xlim(-1, 20)\n",
    "density, edges = np.histogram(sample, bins=5000, density=True)\n",
    "prob = density * np.diff(edges)\n",
    "plt.stairs(prob, edges, fill=True, alpha=0.8, label=r\"单位：$100,000$\")\n",
    "plt.ylabel(\"概率\")\n",
    "plt.xlabel(\"净资产\")\n",
    "plt.legend()\n",
    "plt.show()"
   ]
  },
  {
   "cell_type": "markdown",
   "id": "fda80976",
   "metadata": {},
   "source": [
    "直方图显示许多人的财富非常低，少数人的财富非常高。\n",
    "\n",
    "我们将假定全体人口规模为"
   ]
  },
  {
   "cell_type": "code",
   "execution_count": null,
   "id": "d714b494",
   "metadata": {
    "hide-output": false
   },
   "outputs": [],
   "source": [
    "N = 100_000_000"
   ]
  },
  {
   "cell_type": "markdown",
   "id": "d976480a",
   "metadata": {},
   "source": [
    "我们如何仅使用样本数据来估计全体人口的总收入呢？\n",
    "\n",
    "我们的计划是假设每个人的财富是从密度为 $ f $ 的分布中抽取的。\n",
    "\n",
    "如果我们获得 $ f $ 的估计，那么我们可以按照下面的方式近似 $ T $：\n",
    "\n",
    "\n",
    "<a id='equation-eq-est-rev'></a>\n",
    "$$\n",
    "T = \\sum_{i=1}^{N} h(w_i) \n",
    "      = N \\frac{1}{N} \\sum_{i=1}^{N} h(w_i) \n",
    "      \\approx N \\int_{0}^{\\infty} h(w)f(w) dw \\tag{45.1}\n",
    "$$\n",
    "\n",
    "（样本均值应该靠近平均值，根据大数定律。）\n",
    "\n",
    "现在的问题是：我们如何估计 $ f $？"
   ]
  },
  {
   "cell_type": "markdown",
   "id": "eeec9974",
   "metadata": {},
   "source": [
    "## 最大似然估计\n",
    "\n",
    "[最大似然估计](https://en.wikipedia.org/wiki/Maximum_likelihood_estimation) 是一种估计未知分布的方法。\n",
    "\n",
    "最大似然估计有两个步骤：\n",
    "\n",
    "1. 猜测潜在分布是什么（例如，正态分布，均值为 $ \\mu $，标准差为 $ \\sigma $）。  \n",
    "1. 估计参数值（例如，估计正态分布的 $ \\mu $ 和 $ \\sigma $）。  \n",
    "\n",
    "\n",
    "对于财富，一个可能的假设是每个 $ w_i $ 都是[对数正态分布](https://en.wikipedia.org/wiki/Log-normal_distribution)的，参数 $ \\mu $ 在 $ (-\\infty, \\infty) $ 范围内，$ \\sigma $ 在 $ (0, \\infty) $ 范围内。\n",
    "\n",
    "（这意味着 $ \\ln w_i $ 是以 $ \\mu $ 为均值，$ \\sigma $ 为标准差的正态分布。）\n",
    "\n",
    "你可以看到这个假设不是完全没有道理，因为如果我们对财富的对数进行直方图表示而不是财富本身，图片开始看起来像一个钟形曲线。"
   ]
  },
  {
   "cell_type": "code",
   "execution_count": null,
   "id": "9d7c8fba",
   "metadata": {
    "hide-output": false
   },
   "outputs": [],
   "source": [
    "ln_sample = np.log(sample)\n",
    "fig, ax = plt.subplots()\n",
    "ax.hist(ln_sample, density=True, bins=200, histtype='stepfilled', alpha=0.8)\n",
    "plt.show()"
   ]
  },
  {
   "cell_type": "markdown",
   "id": "fb3b7920",
   "metadata": {},
   "source": [
    "现在我们的任务是获取 $ \\mu $ 和 $ \\sigma $ 的最大似然估计，我们用 $ \\hat{\\mu} $ 和 $ \\hat{\\sigma} $ 表示。\n",
    "\n",
    "这些估计值可以通过最大化给定数据的似然函数找到。\n",
    "\n",
    "对数正态分布随机变量 $ X $ 的概率密度函数 (pdf) 如下：\n",
    "\n",
    "$$\n",
    "f(x, \\mu, \\sigma) \n",
    "    = \\frac{1}{x}\\frac{1}{\\sigma \\sqrt{2\\pi}} \n",
    "    \\exp\\left(-\\frac{1}{2}\\left(\\frac{\\ln x-\\mu}{\\sigma}\\right)^2\\right)\n",
    "$$\n",
    "\n",
    "对于我们的样本 $ w_1, w_2, \\cdots, w_n $，[似然函数](https://en.wikipedia.org/wiki/Likelihood_function)定义为：\n",
    "\n",
    "$$\n",
    "L(\\mu, \\sigma | w_i) = \\prod_{i=1}^{n} f(w_i, \\mu, \\sigma)\n",
    "$$\n",
    "\n",
    "似然函数可以被视为：\n",
    "\n",
    "- 样本的联合分布（假设是独立同分布）和  \n",
    "- 给定数据的参数 $ (\\mu, \\sigma) $ 的“似然性”。  \n",
    "\n",
    "\n",
    "对两边取对数，我们得到对数似然函数，如下所示：\n",
    "\n",
    "$$\n",
    "\\begin{aligned}\n",
    "    \\ell(\\mu, \\sigma | w_i) \n",
    "    & = \\ln \\left[ \\prod_{i=1}^{n} f(w_i, \\mu, \\sigma) \\right] \\\\\n",
    "    & = -\\sum_{i=1}^{n} \\ln w_i \n",
    "        - \\frac{n}{2} \\ln(2\\pi) - \\frac{n}{2} \\ln \\sigma^2 - \\frac{1}{2\\sigma^2}\n",
    "            \\sum_{i=1}^n (\\ln w_i - \\mu)^2\n",
    "\\end{aligned}\n",
    "$$\n",
    "\n",
    "为了找到这个函数的最大值，我们计算关于 $ \\mu $ 和 $ \\sigma ^2 $ 的偏导数，并将它们设为 $ 0 $.\n",
    "\n",
    "让我们首先找到 $ \\mu $ 的最大似然估计（MLE）\n",
    "\n",
    "$$\n",
    "\\frac{\\delta \\ell}{\\delta \\mu} \n",
    "    = - \\frac{1}{2\\sigma^2} \\times 2 \\sum_{i=1}^n (\\ln w_i - \\mu) = 0 \\\\\n",
    "\\implies \\sum_{i=1}^n \\ln w_i - n \\mu = 0 \\\\\n",
    "\\implies \\hat{\\mu} = \\frac{\\sum_{i=1}^n \\ln w_i}{n}\n",
    "$$\n",
    "\n",
    "现在让我们找到 $ \\sigma $ 的MLE\n",
    "\n",
    "$$\n",
    "\\frac{\\delta \\ell}{\\delta \\sigma^2} \n",
    "    = - \\frac{n}{2\\sigma^2} + \\frac{1}{2\\sigma^4} \n",
    "    \\sum_{i=1}^n (\\ln w_i - \\mu)^2 = 0 \\\\\n",
    "    \\implies \\frac{n}{2\\sigma^2} = \n",
    "    \\frac{1}{2\\sigma^4} \\sum_{i=1}^n (\\ln w_i - \\mu)^2 \\\\\n",
    "    \\implies \\hat{\\sigma} = \n",
    "    \\left( \\frac{\\sum_{i=1}^{n}(\\ln w_i - \\hat{\\mu})^2}{n} \\right)^{1/2}\n",
    "$$\n",
    "\n",
    "现在我们已经推导出 $ \\hat{\\mu} $ 和 $ \\hat{\\sigma} $ 的表达式，\n",
    "让我们为我们的财富样本计算它们。"
   ]
  },
  {
   "cell_type": "code",
   "execution_count": null,
   "id": "1b83ebe8",
   "metadata": {
    "hide-output": false
   },
   "outputs": [],
   "source": [
    "μ_hat = np.mean(ln_sample) # 计算 μ 的估计值\n",
    "μ_hat"
   ]
  },
  {
   "cell_type": "code",
   "execution_count": null,
   "id": "ecaada2b",
   "metadata": {
    "hide-output": false
   },
   "outputs": [],
   "source": [
    "num = (ln_sample - μ_hat)**2 # 计算方差的分子部分\n",
    "σ_hat = (np.mean(num))**(1/2) # 计算 σ 的估计值\n",
    "σ_hat"
   ]
  },
  {
   "cell_type": "markdown",
   "id": "77af262f",
   "metadata": {},
   "source": [
    "我们来绘制使用估计参数的对数正态分布概率密度函数，并与我们的样本数据进行对比。"
   ]
  },
  {
   "cell_type": "code",
   "execution_count": null,
   "id": "1d843921",
   "metadata": {
    "hide-output": false
   },
   "outputs": [],
   "source": [
    "dist_lognorm = lognorm(σ_hat, scale = exp(μ_hat))  # 初始化对数正态分布\n",
    "x = np.linspace(0,50,10000)  # 产生数据点\n",
    "\n",
    "fig, ax = plt.subplots()  # 创建图形和轴\n",
    "ax.set_xlim(-1,20)  # 设置x轴的范围\n",
    "\n",
    "ax.hist(sample, density=True, bins=5_000, histtype='stepfilled', alpha=0.5)  # 绘制样本的直方图\n",
    "ax.plot(x, dist_lognorm.pdf(x), 'k-', lw=0.5, label='对数正态分布pdf')  # 绘制对数正态分布的PDF\n",
    "ax.legend()  # 显示图例\n",
    "plt.show()  # 展示图形"
   ]
  },
  {
   "cell_type": "markdown",
   "id": "5e2ab4e4",
   "metadata": {},
   "source": [
    "我们的估计的对数正态分布看起来很适合整体数据。\n",
    "\n",
    "我们现在使用方程[(45.1)](#equation-eq-est-rev)来计算总收入。\n",
    "\n",
    "我们将通过 **SciPy** 的 [quad](https://docs.scipy.org/doc/scipy/reference/generated/scipy.integrate.quad.html) 函数使用数值积分计算"
   ]
  },
  {
   "cell_type": "code",
   "execution_count": null,
   "id": "38d0674f",
   "metadata": {
    "hide-output": false
   },
   "outputs": [],
   "source": [
    "def total_revenue(dist):\n",
    "    integral, _ = quad(lambda x: h(x) * dist.pdf(x), 0, 100_000)  # 计算积分\n",
    "    T = N * integral  # 总收入 = 人数 * 单个收入\n",
    "    return T  # 返回总收入"
   ]
  },
  {
   "cell_type": "code",
   "execution_count": null,
   "id": "aa491ca0",
   "metadata": {
    "hide-output": false
   },
   "outputs": [],
   "source": [
    "tr_lognorm = total_revenue(dist_lognorm)  # 使用对数正态分布计算总收入\n",
    "tr_lognorm  # 显示总收入"
   ]
  },
  {
   "cell_type": "markdown",
   "id": "c69fc786",
   "metadata": {},
   "source": [
    "（我们的单位是10万美元，所以这意味着实际收入是10万倍。）"
   ]
  },
  {
   "cell_type": "markdown",
   "id": "f45d89d4",
   "metadata": {},
   "source": [
    "## 帕累托分布\n",
    "\n",
    "如上所述，使用最大似然估计时需要我们假定一个先验的底层分布。\n",
    "\n",
    "之前我们假定这个分布是对数正态分布。\n",
    "\n",
    "假设我们改为假设 $ w_i $ 来自具有参数 $ b $ 和 $ x_m $ 的[帕累托分布](https://en.wikipedia.org/wiki/Pareto_distribution)。\n",
    "\n",
    "在这种情况下，最大似然估计已知为\n",
    "\n",
    "$$\n",
    "\\hat{b} = \\frac{n}{\\sum_{i=1}^{n} \\ln (w_i/\\hat{x_m})}\n",
    "    \\quad \\text{和} \\quad\n",
    "    \\hat{x}_m = \\min_{i} w_i\n",
    "$$\n",
    "\n",
    "我们来计算它们。"
   ]
  },
  {
   "cell_type": "code",
   "execution_count": null,
   "id": "eae8989a",
   "metadata": {
    "hide-output": false
   },
   "outputs": [],
   "source": [
    "xm_hat = min(sample)\n",
    "xm_hat"
   ]
  },
  {
   "cell_type": "code",
   "execution_count": null,
   "id": "5d4a7728",
   "metadata": {
    "hide-output": false
   },
   "outputs": [],
   "source": [
    "den = np.log(sample/xm_hat)\n",
    "b_hat = 1/np.mean(den)\n",
    "b_hat"
   ]
  },
  {
   "cell_type": "markdown",
   "id": "c87eae19",
   "metadata": {},
   "source": [
    "现在让我们重新计算总收入。"
   ]
  },
  {
   "cell_type": "code",
   "execution_count": null,
   "id": "0920f0d8",
   "metadata": {
    "hide-output": false
   },
   "outputs": [],
   "source": [
    "dist_pareto = pareto(b = b_hat, scale = xm_hat)\n",
    "tr_pareto = total_revenue(dist_pareto) \n",
    "tr_pareto"
   ]
  },
  {
   "cell_type": "markdown",
   "id": "bce32eff",
   "metadata": {},
   "source": [
    "这个数字差距很大！"
   ]
  },
  {
   "cell_type": "code",
   "execution_count": null,
   "id": "dbd9bafb",
   "metadata": {
    "hide-output": false
   },
   "outputs": [],
   "source": [
    "tr_pareto / tr_lognorm"
   ]
  },
  {
   "cell_type": "markdown",
   "id": "a72a0d3f",
   "metadata": {},
   "source": [
    "我们看到选择正确的分布非常重要。\n",
    "\n",
    "让我们将拟合的帕累托分布与直方图进行比较："
   ]
  },
  {
   "cell_type": "code",
   "execution_count": null,
   "id": "4309e247",
   "metadata": {
    "hide-output": false
   },
   "outputs": [],
   "source": [
    "fig, ax = plt.subplots()\n",
    "ax.set_xlim(-1, 20)\n",
    "ax.set_ylim(0,1.75)\n",
    "\n",
    "ax.hist(sample, density=True, bins=5_000, histtype='stepfilled', alpha=0.5)\n",
    "ax.plot(x, dist_pareto.pdf(x), 'k-', lw=0.5, label='帕累托分布pdf')\n",
    "ax.legend()\n",
    "\n",
    "plt.show()"
   ]
  },
  {
   "cell_type": "markdown",
   "id": "fd32c6c4",
   "metadata": {},
   "source": [
    "我们观察到在这种情况下，帕累托分布的拟合效果并不好，所以我们可能会拒绝它。"
   ]
  },
  {
   "cell_type": "markdown",
   "id": "4970a65a",
   "metadata": {},
   "source": [
    "## 什么是最好的分布？\n",
    "\n",
    "没有“最好”的分布——我们做出的每一个选择都是一种假设。\n",
    "\n",
    "我们能做的就是尝试选择一个能很好地拟合数据的分布。\n",
    "\n",
    "上面的图表表明，对数正态分布是最佳的。\n",
    "\n",
    "然而，当我们检查上尾部（最富有的人）时，帕累托分布可能是一个更好的选择。\n",
    "\n",
    "为了查看这一点，现在让我们设定一个数据集中的净资产最低阈值。\n",
    "\n",
    "我们设定一个任意阈值为 \\$500,000，并将数据读入 `sample_tail`。"
   ]
  },
  {
   "cell_type": "code",
   "execution_count": null,
   "id": "7edf3f15",
   "metadata": {
    "hide-output": false
   },
   "outputs": [],
   "source": [
    "df_tail = df.loc[df['n_wealth'] > 500_000 ]\n",
    "df_tail.head()\n",
    "rv_tail = df_tail['n_wealth'].sample(n=10_000, random_state=4321)\n",
    "rv_tail = rv_tail.to_numpy()\n",
    "sample_tail = rv_tail/500_000"
   ]
  },
  {
   "cell_type": "markdown",
   "id": "c85c353f",
   "metadata": {},
   "source": [
    "让我们绘制这些数据。"
   ]
  },
  {
   "cell_type": "code",
   "execution_count": null,
   "id": "7aee1d61",
   "metadata": {
    "hide-output": false
   },
   "outputs": [],
   "source": [
    "fig, ax = plt.subplots()\n",
    "ax.set_xlim(0,50)\n",
    "ax.hist(sample_tail, density=True, bins=500, histtype='stepfilled', alpha=0.8)\n",
    "plt.show()"
   ]
  },
  {
   "cell_type": "markdown",
   "id": "8f33ff0c",
   "metadata": {},
   "source": [
    "现在让我们尝试对这些数据拟合一些分布。"
   ]
  },
  {
   "cell_type": "markdown",
   "id": "82cc3820",
   "metadata": {},
   "source": [
    "### 对数正态分布和右尾部\n",
    "\n",
    "让我们从对数正态分布开始\n",
    "\n",
    "我们再次估计参数并将密度与我们的数据进行对比。"
   ]
  },
  {
   "cell_type": "code",
   "execution_count": null,
   "id": "56e9244e",
   "metadata": {
    "hide-output": false
   },
   "outputs": [],
   "source": [
    "ln_sample_tail = np.log(sample_tail)\n",
    "μ_hat_tail = np.mean(ln_sample_tail)\n",
    "num_tail = (ln_sample_tail - μ_hat_tail)**2\n",
    "σ_hat_tail = (np.mean(num_tail))**(1/2)\n",
    "dist_lognorm_tail = lognorm(σ_hat_tail, scale = exp(μ_hat_tail))\n",
    "\n",
    "fig, ax = plt.subplots()\n",
    "ax.set_xlim(0,50)\n",
    "ax.hist(sample_tail, density=True, bins=500, histtype='stepfilled', alpha=0.5)\n",
    "ax.plot(x, dist_lognorm_tail.pdf(x), 'k-', lw=0.5, label='对数正态分布pdf')\n",
    "ax.legend()\n",
    "plt.show()"
   ]
  },
  {
   "cell_type": "markdown",
   "id": "e1974d12",
   "metadata": {},
   "source": [
    "虽然对数正态分布对整个数据集拟合良好，\n",
    "但它并不适合右尾部。"
   ]
  },
  {
   "cell_type": "markdown",
   "id": "9b0c1777",
   "metadata": {},
   "source": [
    "### 帕累托分布用于右尾部\n",
    "\n",
    "现在假设截断数据集符合帕累托分布。\n",
    "\n",
    "我们再次估计参数，并将密度与我们的数据进行对比。"
   ]
  },
  {
   "cell_type": "code",
   "execution_count": null,
   "id": "c86208e8",
   "metadata": {
    "hide-output": false
   },
   "outputs": [],
   "source": [
    "xm_hat_tail = min(sample_tail)\n",
    "den_tail = np.log(sample_tail/xm_hat_tail)\n",
    "b_hat_tail = 1/np.mean(den_tail)\n",
    "dist_pareto_tail = pareto(b = b_hat_tail, scale = xm_hat_tail)\n",
    "\n",
    "fig, ax = plt.subplots()\n",
    "ax.set_xlim(0, 50)\n",
    "ax.set_ylim(0,0.65)\n",
    "ax.hist(sample_tail, density=True, bins= 500, histtype='stepfilled', alpha=0.5)\n",
    "ax.plot(x, dist_pareto_tail.pdf(x), 'k-', lw=0.5, label='帕累托分布pdf')\n",
    "plt.show()"
   ]
  },
  {
   "cell_type": "markdown",
   "id": "84326160",
   "metadata": {},
   "source": [
    "帕累托分布更适合我们数据集的右尾部。"
   ]
  },
  {
   "cell_type": "markdown",
   "id": "bcc517d1",
   "metadata": {},
   "source": [
    "### 那么什么是最佳分布？\n",
    "\n",
    "如上所述，没有“最佳”分布——每个选择都是一个假设。\n",
    "\n",
    "我们只需要测试我们认为合理的分布。\n",
    "\n",
    "一种测试方法是将数据与拟合分布进行绘图，正如我们所做的。\n",
    "\n",
    "还有其他更严格的测试方法，比如[科尔莫哥洛夫-斯米尔诺夫检验](https://en.wikipedia.org/wiki/Kolmogorov%E2%80%93Smirnov_test)。\n",
    "\n",
    "我们忽略了这些高级主题（但鼓励读者在完成这些讲座后研究它们）。"
   ]
  },
  {
   "cell_type": "markdown",
   "id": "29c2bfb0",
   "metadata": {},
   "source": [
    "## 练习"
   ]
  },
  {
   "cell_type": "markdown",
   "id": "1a456319",
   "metadata": {},
   "source": [
    "## Exercise 45.1\n",
    "\n",
    "假设我们假设财富是以参数 $ \\lambda > 0 $ 的[指数](https://en.wikipedia.org/wiki/Exponential_distribution)分布。\n",
    "\n",
    "$ \\lambda $ 的最大似然估计为\n",
    "\n",
    "$$\n",
    "\\hat{\\lambda} = \\frac{n}{\\sum_{i=1}^n w_i}\n",
    "$$\n",
    "\n",
    "1. 计算我们初始样本的 $ \\hat{\\lambda} $。  \n",
    "1. 使用 $ \\hat{\\lambda} $ 来找到总收入  "
   ]
  },
  {
   "cell_type": "markdown",
   "id": "e1f8cb19",
   "metadata": {},
   "source": [
    "## Solution to[ Exercise 45.1](https://intro.quantecon.org/#mle_ex1)"
   ]
  },
  {
   "cell_type": "code",
   "execution_count": null,
   "id": "477dd80f",
   "metadata": {
    "hide-output": false
   },
   "outputs": [],
   "source": [
    "λ_hat = 1/np.mean(sample)\n",
    "λ_hat"
   ]
  },
  {
   "cell_type": "code",
   "execution_count": null,
   "id": "05c7fd42",
   "metadata": {
    "hide-output": false
   },
   "outputs": [],
   "source": [
    "dist_exp = expon(scale = 1/λ_hat)\n",
    "tr_expo = total_revenue(dist_exp) \n",
    "tr_expo"
   ]
  },
  {
   "cell_type": "markdown",
   "id": "7696d6d2",
   "metadata": {},
   "source": [
    "## Exercise 45.2\n",
    "\n",
    "绘制指数分布与样本的比较，并检查它是否适合。"
   ]
  },
  {
   "cell_type": "markdown",
   "id": "dda262c6",
   "metadata": {},
   "source": [
    "## Solution to[ Exercise 45.2](https://intro.quantecon.org/#mle_ex2)"
   ]
  },
  {
   "cell_type": "code",
   "execution_count": null,
   "id": "2286675d",
   "metadata": {
    "hide-output": false
   },
   "outputs": [],
   "source": [
    "fig, ax = plt.subplots()\n",
    "ax.set_xlim(-1, 20)\n",
    "\n",
    "ax.hist(sample, density=True, bins=5000, histtype='stepfilled', alpha=0.5)\n",
    "ax.plot(x, dist_exp.pdf(x), 'k-', lw=0.5, label='指数分布pdf')\n",
    "ax.legend()\n",
    "\n",
    "plt.show()"
   ]
  },
  {
   "cell_type": "markdown",
   "id": "6a5f5ebd",
   "metadata": {},
   "source": [
    "很明显，这个分布不适合我们的数据。"
   ]
  }
 ],
 "metadata": {
  "date": 1740610538.3004618,
  "filename": "mle.md",
  "kernelspec": {
   "display_name": "Python",
   "language": "python3",
   "name": "python3"
  },
  "title": "最大似然估计"
 },
 "nbformat": 4,
 "nbformat_minor": 5
}