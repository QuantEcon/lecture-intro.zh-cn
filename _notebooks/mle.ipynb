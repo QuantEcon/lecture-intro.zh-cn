{
 "cells": [
  {
   "cell_type": "markdown",
   "id": "7f715722",
   "metadata": {},
   "source": [
    "# 最大似然估计"
   ]
  },
  {
   "cell_type": "code",
   "execution_count": null,
   "id": "c48f5cbd",
   "metadata": {
    "hide-output": false
   },
   "outputs": [],
   "source": [
    "from scipy.stats import lognorm, pareto, expon\n",
    "import numpy as np\n",
    "from scipy.integrate import quad\n",
    "import matplotlib.pyplot as plt\n",
    "import matplotlib as mpl\n",
    "import pandas as pd\n",
    "from math import exp\n",
    "\n",
    "FONTPATH = \"fonts/SourceHanSerifSC-SemiBold.otf\"\n",
    "mpl.font_manager.fontManager.addfont(FONTPATH)\n",
    "plt.rcParams['font.family'] = ['Source Han Serif SC']"
   ]
  },
  {
   "cell_type": "markdown",
   "id": "1dd0654f",
   "metadata": {},
   "source": [
    "## 介绍\n",
    "\n",
    "假设你是一位政策制定者，你想尝试估算增加财富税将带来多少收入。\n",
    "\n",
    "财富税的计算公式为：\n",
    "\n",
    "$$\n",
    "h(w) = \n",
    "    \\begin{cases}\n",
    "    a w                       & \\text{if } w \\leq \\bar w  \\\\\n",
    "    a \\bar{w} + b (w-\\bar{w}) & \\text{if } w > \\bar w  \n",
    "    \\end{cases}\n",
    "$$\n",
    "\n",
    "其中 $ w $ 代表财富。"
   ]
  },
  {
   "cell_type": "markdown",
   "id": "58debbba",
   "metadata": {},
   "source": [
    "## \n",
    "\n",
    "例如，如果 $ a = 0.05 $，$ b = 0.1 $，且 $ \\bar w = 2.5 $，意味着：\n",
    "\n",
    "- 对于2.5及以下的财富征收5%的税，  \n",
    "- 对超过2.5的部分征收10%的税。  \n",
    "\n",
    "\n",
    "这里财富的单位是100,000，所以 $ w= 2.5 $ 指 250,000 美元。\n",
    "\n",
    "接下来，我们定义函数 $ h $:"
   ]
  },
  {
   "cell_type": "code",
   "execution_count": null,
   "id": "52ef6c05",
   "metadata": {
    "hide-output": false
   },
   "outputs": [],
   "source": [
    "def h(w, a=0.05, b=0.1, w_bar=2.5):\n",
    "    if w <= w_bar:\n",
    "        return a * w\n",
    "    else:\n",
    "        return a * w_bar + b * (w - w_bar)"
   ]
  },
  {
   "cell_type": "markdown",
   "id": "4bdfa518",
   "metadata": {},
   "source": [
    "对于一个人口数量为 $ N $ 的地区，每个人 $ i $ 拥有财富 $ w_i $，则财富税收入总额为\n",
    "\n",
    "$$\n",
    "T = \\sum_{i=1}^{N} h(w_i)\n",
    "$$\n",
    "\n",
    "而我们希望计算这一数量。\n",
    "\n",
    "但问题是，在大多数国家中，并不是所有的个人财富都能被观测到。\n",
    "\n",
    "收集并追踪一国所有个人或家庭的财富数据是非常困难的。\n",
    "\n",
    "因此，假设我们得到了一个样本 $ w_1, w_2, \\cdots, w_n $，它包含了 $ n $ 位随机选择的个人的财富。\n",
    "\n",
    "在练习中，我们将使用 $ n = 10,000 $ 来自2016年美国的财富数据样本。"
   ]
  },
  {
   "cell_type": "code",
   "execution_count": null,
   "id": "15cfe1b3",
   "metadata": {
    "hide-output": false
   },
   "outputs": [],
   "source": [
    "n = 10_000"
   ]
  },
  {
   "cell_type": "markdown",
   "id": "2e07ea6f",
   "metadata": {},
   "source": [
    "这些数据来源于[消费者财务状况调查](https://en.wikipedia.org/wiki/Survey_of_Consumer_Finances) (SCF)。\n",
    "\n",
    "以下代码导入了数据并将其读入名为 `sample` 的数组。"
   ]
  },
  {
   "cell_type": "code",
   "execution_count": null,
   "id": "41594872",
   "metadata": {
    "hide-output": false
   },
   "outputs": [],
   "source": [
    "url = 'https://media.githubusercontent.com/media/QuantEcon/high_dim_data/update_scf_noweights/SCF_plus/SCF_plus_mini_no_weights.csv'\n",
    "df = pd.read_csv(url)\n",
    "df = df.dropna()\n",
    "df = df[df['year'] == 2016]\n",
    "df = df.loc[df['n_wealth'] > 1 ]   # 限制数据为净财富大于 1 的数据\n",
    "rv = df['n_wealth'].sample(n=n, random_state=1234)\n",
    "rv = rv.to_numpy() / 100_000\n",
    "sample = rv"
   ]
  },
  {
   "cell_type": "markdown",
   "id": "c8dcc72a",
   "metadata": {},
   "source": [
    "我们先绘制该样本的直方图。"
   ]
  },
  {
   "cell_type": "code",
   "execution_count": null,
   "id": "9f084c2f",
   "metadata": {
    "hide-output": false
   },
   "outputs": [],
   "source": [
    "fig, ax = plt.subplots()\n",
    "ax.set_xlim(-1, 20)\n",
    "density, edges = np.histogram(sample, bins=5000, density=True)\n",
    "prob = density * np.diff(edges)\n",
    "plt.stairs(prob, edges, fill=True, alpha=0.8, label=r\"单位：\\$100,000\")\n",
    "plt.ylabel(\"概率\")\n",
    "plt.xlabel(\"净资产\")\n",
    "plt.legend()\n",
    "plt.show()"
   ]
  },
  {
   "cell_type": "markdown",
   "id": "771dc50d",
   "metadata": {},
   "source": [
    "该直方图显示，大部分人的财富水平很低，而少部分人却拥有非常多的财富。\n",
    "\n",
    "我们假定全体人口规模为"
   ]
  },
  {
   "cell_type": "code",
   "execution_count": null,
   "id": "75c6ab62",
   "metadata": {
    "hide-output": false
   },
   "outputs": [],
   "source": [
    "N = 100_000_000"
   ]
  },
  {
   "cell_type": "markdown",
   "id": "aedd2d21",
   "metadata": {},
   "source": [
    "仅依靠样本数据，我们又该如何估计全体人口的总收入呢？\n",
    "\n",
    "我们的计划是，假设每个人的财富是从密度为 $ f $ 的分布中抽取的。\n",
    "\n",
    "如果我们获得 $ f $ 的估计，那么我们可以按照以下方式近似 $ T $：\n",
    "\n",
    "\n",
    "<a id='equation-eq-est-rev'></a>\n",
    "$$\n",
    "T = \\sum_{i=1}^{N} h(w_i) \n",
    "      = N \\frac{1}{N} \\sum_{i=1}^{N} h(w_i) \n",
    "      \\approx N \\int_{0}^{\\infty} h(w)f(w) dw \\tag{45.1}\n",
    "$$\n",
    "\n",
    "（根据大数定律，样本均值应该接近总体均值。）\n",
    "\n",
    "现在的问题是：我们要如何估计 $ f $？"
   ]
  },
  {
   "cell_type": "markdown",
   "id": "d5e9ca22",
   "metadata": {},
   "source": [
    "## 最大似然估计\n",
    "\n",
    "[最大似然估计](https://baike.baidu.com/item/%E6%9C%80%E5%A4%A7%E4%BC%BC%E7%84%B6%E4%BC%B0%E8%AE%A1/4967925) 是一种估计未知分布的方法。\n",
    "\n",
    "最大似然估计有两个步骤：\n",
    "\n",
    "1. 猜测潜在分布是什么（例如，均值为 $ \\mu $，标准差为 $ \\sigma $ 的正态分布）。  \n",
    "1. 估计参数值（例如，估计正态分布的 $ \\mu $ 和 $ \\sigma $）。  \n",
    "\n",
    "\n",
    "对于财富而言，一种假设是每个 $ w_i $ 都符合[对数正态分布](https://baike.baidu.com/item/%E5%AF%B9%E6%95%B0%E6%AD%A3%E6%80%81%E5%88%86%E5%B8%83/8976782)的，其中参数 $ \\mu \\in (-\\infty, \\infty) $，$ \\sigma \\in (0, \\infty) $。\n",
    "\n",
    "（这意味着 $ \\ln w_i $ 是以 $ \\mu $ 为均值，$ \\sigma $ 为标准差的正态分布。）\n",
    "\n",
    "不难发现，这个假设不是完全没有道理，因为如果我们用直方图表示财富的对数（而不是财富本身），直方图将看起来像一个钟形曲线。"
   ]
  },
  {
   "cell_type": "code",
   "execution_count": null,
   "id": "83848967",
   "metadata": {
    "hide-output": false
   },
   "outputs": [],
   "source": [
    "ln_sample = np.log(sample)\n",
    "fig, ax = plt.subplots()\n",
    "ax.hist(ln_sample, density=True, bins=200, histtype='stepfilled', alpha=0.8)\n",
    "plt.show()"
   ]
  },
  {
   "cell_type": "markdown",
   "id": "1fa3ea97",
   "metadata": {},
   "source": [
    "我们现在的任务是获取 $ \\mu $ 和 $ \\sigma $ 的最大似然估计值，我们用 $ \\hat{\\mu} $ 和 $ \\hat{\\sigma} $ 表示。\n",
    "\n",
    "这些估计值可以通过最大化给定数据的似然函数获得。\n",
    "\n",
    "对数正态分布随机变量 $ X $ 的概率密度函数 (PDF) 如下：\n",
    "\n",
    "$$\n",
    "f(x, \\mu, \\sigma) \n",
    "    = \\frac{1}{x}\\frac{1}{\\sigma \\sqrt{2\\pi}} \n",
    "    \\exp\\left(-\\frac{1}{2}\\left(\\frac{\\ln x-\\mu}{\\sigma}\\right)^2\\right)\n",
    "$$\n",
    "\n",
    "对于我们的样本 $ w_1, w_2, \\cdots, w_n $，[似然函数](https://baike.baidu.com/item/%E4%BC%BC%E7%84%B6%E5%87%BD%E6%95%B0/6011241)是：\n",
    "\n",
    "$$\n",
    "L(\\mu, \\sigma | w_i) = \\prod_{i=1}^{n} f(w_i, \\mu, \\sigma)\n",
    "$$\n",
    "\n",
    "似然函数可以被视为：\n",
    "\n",
    "- 样本（假设是独立同分布）的联合分布和  \n",
    "- 给定数据的参数 $ (\\mu, \\sigma) $ 的“似然性”。  \n",
    "\n",
    "\n",
    "对两边取对数，我们得到对数似然函数：\n",
    "\n",
    "$$\n",
    "\\begin{aligned}\n",
    "    \\ell(\\mu, \\sigma | w_i) \n",
    "    & = \\ln \\left[ \\prod_{i=1}^{n} f(w_i, \\mu, \\sigma) \\right] \\\\\n",
    "    & = -\\sum_{i=1}^{n} \\ln w_i \n",
    "        - \\frac{n}{2} \\ln(2\\pi) - \\frac{n}{2} \\ln \\sigma^2 - \\frac{1}{2\\sigma^2}\n",
    "            \\sum_{i=1}^n (\\ln w_i - \\mu)^2\n",
    "\\end{aligned}\n",
    "$$\n",
    "\n",
    "要找到这个函数的最大值，我们需要计算对 $ \\mu $ 和 $ \\sigma ^2 $ 的偏导数，并令结果为 $ 0 $.\n",
    "\n",
    "我们首先推导 $ \\mu $ 的最大似然估计（MLE）\n",
    "\n",
    "$$\n",
    "\\frac{\\delta \\ell}{\\delta \\mu} \n",
    "    = - \\frac{1}{2\\sigma^2} \\times 2 \\sum_{i=1}^n (\\ln w_i - \\mu) = 0 \\\\\n",
    "\\implies \\sum_{i=1}^n \\ln w_i - n \\mu = 0 \\\\\n",
    "\\implies \\hat{\\mu} = \\frac{\\sum_{i=1}^n \\ln w_i}{n}\n",
    "$$\n",
    "\n",
    "现在让我们推导 $ \\sigma $ 的最大似然估计\n",
    "\n",
    "$$\n",
    "\\frac{\\delta \\ell}{\\delta \\sigma^2} \n",
    "    = - \\frac{n}{2\\sigma^2} + \\frac{1}{2\\sigma^4} \n",
    "    \\sum_{i=1}^n (\\ln w_i - \\mu)^2 = 0 \\\\\n",
    "    \\implies \\frac{n}{2\\sigma^2} = \n",
    "    \\frac{1}{2\\sigma^4} \\sum_{i=1}^n (\\ln w_i - \\mu)^2 \\\\\n",
    "    \\implies \\hat{\\sigma} = \n",
    "    \\left( \\frac{\\sum_{i=1}^{n}(\\ln w_i - \\hat{\\mu})^2}{n} \\right)^{1/2}\n",
    "$$\n",
    "\n",
    "至此我们已经推导出 $ \\hat{\\mu} $ 和 $ \\hat{\\sigma} $ 的表达式，现在要通过财富样本计算具体数值。"
   ]
  },
  {
   "cell_type": "code",
   "execution_count": null,
   "id": "0bb73b2c",
   "metadata": {
    "hide-output": false
   },
   "outputs": [],
   "source": [
    "μ_hat = np.mean(ln_sample) # 计算 μ 的估计值\n",
    "μ_hat"
   ]
  },
  {
   "cell_type": "code",
   "execution_count": null,
   "id": "5e056f77",
   "metadata": {
    "hide-output": false
   },
   "outputs": [],
   "source": [
    "num = (ln_sample - μ_hat)**2 # 计算方差的分子\n",
    "σ_hat = (np.mean(num))**(1/2) # 计算 σ 的估计值\n",
    "σ_hat"
   ]
  },
  {
   "cell_type": "markdown",
   "id": "d710f3c1",
   "metadata": {},
   "source": [
    "我们绘制对数正态分布概率密度函数（使用估计的参数），并与样本数据进行对比。"
   ]
  },
  {
   "cell_type": "code",
   "execution_count": null,
   "id": "bfd2d3c2",
   "metadata": {
    "hide-output": false
   },
   "outputs": [],
   "source": [
    "dist_lognorm = lognorm(σ_hat, scale = exp(μ_hat))  # 初始化对数正态分布\n",
    "x = np.linspace(0,50,10000)  # 产生数据点\n",
    "\n",
    "fig, ax = plt.subplots()  # 创建图形和轴\n",
    "ax.set_xlim(-1,20)  # 设置x轴的范围\n",
    "\n",
    "ax.hist(sample, density=True, bins=5_000, histtype='stepfilled', alpha=0.5)  # 绘制样本的直方图\n",
    "ax.plot(x, dist_lognorm.pdf(x), 'k-', lw=0.5, label='对数正态分布PDF')  # 绘制对数正态分布的PDF\n",
    "ax.legend()  # 显示图例\n",
    "plt.show()  # 展示图形"
   ]
  },
  {
   "cell_type": "markdown",
   "id": "00e15b92",
   "metadata": {},
   "source": [
    "我们估计的对数正态分布看起来很适合整体数据。\n",
    "\n",
    "我们现在使用方程[(45.1)](#equation-eq-est-rev)来计算总收入。\n",
    "\n",
    "我们将通过 **SciPy** 的 [quad](https://docs.scipy.org/doc/scipy/reference/generated/scipy.integrate.quad.html) 函数，使用数值积分的方式计算积分。"
   ]
  },
  {
   "cell_type": "code",
   "execution_count": null,
   "id": "c88e5eae",
   "metadata": {
    "hide-output": false
   },
   "outputs": [],
   "source": [
    "def total_revenue(dist):\n",
    "    integral, _ = quad(lambda x: h(x) * dist.pdf(x), 0, 100_000)  # 计算积分\n",
    "    T = N * integral  # 总收入 = 人数 * 单个收入\n",
    "    return T  # 返回总收入"
   ]
  },
  {
   "cell_type": "code",
   "execution_count": null,
   "id": "c2b422c7",
   "metadata": {
    "hide-output": false
   },
   "outputs": [],
   "source": [
    "tr_lognorm = total_revenue(dist_lognorm)  # 使用对数正态分布计算总收入\n",
    "tr_lognorm  # 显示总收入"
   ]
  },
  {
   "cell_type": "markdown",
   "id": "321b9434",
   "metadata": {},
   "source": [
    "（我们的单位是10万美元，这意味着实际收入是这一数字的10万倍。）"
   ]
  },
  {
   "cell_type": "markdown",
   "id": "6fbc412e",
   "metadata": {},
   "source": [
    "## 帕累托分布\n",
    "\n",
    "如上所示，使用最大似然估计时，我们需要先对分布做出假设。\n",
    "\n",
    "刚才我们假定这个分布是对数正态分布。\n",
    "\n",
    "如果，我们改为假设 $ w_i $ 抽样自参数为 $ b $ 和 $ x_m $ 的[帕累托分布](https://baike.baidu.com/item/%E5%B8%95%E7%B4%AF%E6%89%98%E5%88%86%E5%B8%83/3344172)。\n",
    "\n",
    "在这种情况下，最大似然估计为\n",
    "\n",
    "$$\n",
    "\\hat{b} = \\frac{n}{\\sum_{i=1}^{n} \\ln (w_i/\\hat{x_m})}\n",
    "    \\quad \\text{和} \\quad\n",
    "    \\hat{x}_m = \\min_{i} w_i\n",
    "$$\n",
    "\n",
    "下面，我们来计算它们。"
   ]
  },
  {
   "cell_type": "code",
   "execution_count": null,
   "id": "15670c88",
   "metadata": {
    "hide-output": false
   },
   "outputs": [],
   "source": [
    "xm_hat = min(sample)\n",
    "xm_hat"
   ]
  },
  {
   "cell_type": "code",
   "execution_count": null,
   "id": "b9dd463a",
   "metadata": {
    "hide-output": false
   },
   "outputs": [],
   "source": [
    "den = np.log(sample/xm_hat)\n",
    "b_hat = 1/np.mean(den)\n",
    "b_hat"
   ]
  },
  {
   "cell_type": "markdown",
   "id": "9c346c7f",
   "metadata": {},
   "source": [
    "现在让我们重新计算总收入。"
   ]
  },
  {
   "cell_type": "code",
   "execution_count": null,
   "id": "978cfef4",
   "metadata": {
    "hide-output": false
   },
   "outputs": [],
   "source": [
    "dist_pareto = pareto(b = b_hat, scale = xm_hat)\n",
    "tr_pareto = total_revenue(dist_pareto) \n",
    "tr_pareto"
   ]
  },
  {
   "cell_type": "markdown",
   "id": "9d548a53",
   "metadata": {},
   "source": [
    "这个数字差别很大！"
   ]
  },
  {
   "cell_type": "code",
   "execution_count": null,
   "id": "fd292603",
   "metadata": {
    "hide-output": false
   },
   "outputs": [],
   "source": [
    "tr_pareto / tr_lognorm"
   ]
  },
  {
   "cell_type": "markdown",
   "id": "86c2eca4",
   "metadata": {},
   "source": [
    "可见，选择正确的分布极其重要。\n",
    "\n",
    "我们将拟合的帕累托分布与直方图进行比较："
   ]
  },
  {
   "cell_type": "code",
   "execution_count": null,
   "id": "bf29ed41",
   "metadata": {
    "hide-output": false
   },
   "outputs": [],
   "source": [
    "fig, ax = plt.subplots()\n",
    "ax.set_xlim(-1, 20)\n",
    "ax.set_ylim(0,1.75)\n",
    "\n",
    "ax.hist(sample, density=True, bins=5_000, histtype='stepfilled', alpha=0.5)\n",
    "ax.plot(x, dist_pareto.pdf(x), 'k-', lw=0.5, label='帕累托分布PDF')\n",
    "ax.legend()\n",
    "\n",
    "plt.show()"
   ]
  },
  {
   "cell_type": "markdown",
   "id": "e4c114e5",
   "metadata": {},
   "source": [
    "我们观察到在这种情况下，帕累托分布的拟合效果并不理想，所以我们很可能会拒绝这一假设。"
   ]
  },
  {
   "cell_type": "markdown",
   "id": "9efc8c79",
   "metadata": {},
   "source": [
    "## 最好的分布是怎样的？\n",
    "\n",
    "没有“最好”的分布——我们做出的每一个选择，都只是一种假设。\n",
    "\n",
    "我们唯一能做的，就是不断尝试，选择一个能很好拟合数据的分布。\n",
    "\n",
    "上面的图表表明，对数正态分布是最佳的。\n",
    "\n",
    "然而，当我们检查右尾部（最富有的人）时，帕累托分布可能是一个更好的选择。\n",
    "\n",
    "要看清楚这一点，让我们设定数据集中净资产最低阈值。\n",
    "\n",
    "我们不妨设定阈值为 \\$500,000，并将数据读入 `sample_tail`。"
   ]
  },
  {
   "cell_type": "code",
   "execution_count": null,
   "id": "cc165d1e",
   "metadata": {
    "hide-output": false
   },
   "outputs": [],
   "source": [
    "df_tail = df.loc[df['n_wealth'] > 500_000 ]\n",
    "df_tail.head()\n",
    "rv_tail = df_tail['n_wealth'].sample(n=10_000, random_state=4321)\n",
    "rv_tail = rv_tail.to_numpy()\n",
    "sample_tail = rv_tail/500_000"
   ]
  },
  {
   "cell_type": "markdown",
   "id": "577d0cf6",
   "metadata": {},
   "source": [
    "接下来，绘制这些数据。"
   ]
  },
  {
   "cell_type": "code",
   "execution_count": null,
   "id": "11b32a16",
   "metadata": {
    "hide-output": false
   },
   "outputs": [],
   "source": [
    "fig, ax = plt.subplots()\n",
    "ax.set_xlim(0,50)\n",
    "ax.hist(sample_tail, density=True, bins=500, histtype='stepfilled', alpha=0.8)\n",
    "plt.show()"
   ]
  },
  {
   "cell_type": "markdown",
   "id": "a8f4e601",
   "metadata": {},
   "source": [
    "现在，我们尝试用不同的分布来拟合数据。"
   ]
  },
  {
   "cell_type": "markdown",
   "id": "c2c668da",
   "metadata": {},
   "source": [
    "### 用对数正态分布拟合右尾部\n",
    "\n",
    "让我们从对数正态分布开始。\n",
    "\n",
    "我们重新估计参数并绘制概率密度函数，与数据进行对比。"
   ]
  },
  {
   "cell_type": "code",
   "execution_count": null,
   "id": "03378ea9",
   "metadata": {
    "hide-output": false
   },
   "outputs": [],
   "source": [
    "ln_sample_tail = np.log(sample_tail)\n",
    "μ_hat_tail = np.mean(ln_sample_tail)\n",
    "num_tail = (ln_sample_tail - μ_hat_tail)**2\n",
    "σ_hat_tail = (np.mean(num_tail))**(1/2)\n",
    "dist_lognorm_tail = lognorm(σ_hat_tail, scale = exp(μ_hat_tail))\n",
    "\n",
    "fig, ax = plt.subplots()\n",
    "ax.set_xlim(0,50)\n",
    "ax.hist(sample_tail, density=True, bins=500, histtype='stepfilled', alpha=0.5)\n",
    "ax.plot(x, dist_lognorm_tail.pdf(x), 'k-', lw=0.5, label='对数正态分布PDF')\n",
    "ax.legend()\n",
    "plt.show()"
   ]
  },
  {
   "cell_type": "markdown",
   "id": "78640c8a",
   "metadata": {},
   "source": [
    "虽然对数正态分布对整个数据集拟合良好，\n",
    "但它对于右尾部的拟合效果并不好。"
   ]
  },
  {
   "cell_type": "markdown",
   "id": "404a6b97",
   "metadata": {},
   "source": [
    "### 用帕累托分布拟合右尾部\n",
    "\n",
    "现在假设截取的数据集符合帕累托分布。\n",
    "\n",
    "我们再次估计参数，并将概率密度函数与数据进行对比。"
   ]
  },
  {
   "cell_type": "code",
   "execution_count": null,
   "id": "ca68d5d4",
   "metadata": {
    "hide-output": false
   },
   "outputs": [],
   "source": [
    "xm_hat_tail = min(sample_tail)\n",
    "den_tail = np.log(sample_tail/xm_hat_tail)\n",
    "b_hat_tail = 1/np.mean(den_tail)\n",
    "dist_pareto_tail = pareto(b = b_hat_tail, scale = xm_hat_tail)\n",
    "\n",
    "fig, ax = plt.subplots()\n",
    "ax.set_xlim(0, 50)\n",
    "ax.set_ylim(0,0.65)\n",
    "ax.hist(sample_tail, density=True, bins= 500, histtype='stepfilled', alpha=0.5)\n",
    "ax.plot(x, dist_pareto_tail.pdf(x), 'k-', lw=0.5, label='帕累托分布PDF')\n",
    "plt.show()"
   ]
  },
  {
   "cell_type": "markdown",
   "id": "d922e770",
   "metadata": {},
   "source": [
    "帕累托分布更适合数据集的右尾部。"
   ]
  },
  {
   "cell_type": "markdown",
   "id": "31c7b8b3",
   "metadata": {},
   "source": [
    "### 到底什么才是最好的分布？\n",
    "\n",
    "如刚才所言，没有“最好”的分布——每个选择都只是一种假设。\n",
    "\n",
    "我们只需要检验我们认为合理的分布。\n",
    "\n",
    "一种检验方法是，将数据与拟合分布进行绘图，如我们刚才所做的。\n",
    "\n",
    "还有其他更严谨的测试方法，比如[科尔莫格罗夫一斯米尔诺夫拟合优度检验](https://baike.baidu.com/item/%E7%A7%91%E5%B0%94%E8%8E%AB%E6%A0%BC%E7%BD%97%E5%A4%AB%E4%B8%80%E6%96%AF%E7%B1%B3%E5%B0%94%E8%AF%BA%E5%A4%AB%E6%8B%9F%E5%90%88%E4%BC%98%E5%BA%A6%E6%A3%80%E9%AA%8C/22366278)。\n",
    "\n",
    "我们省略了这些更深入的主题（但我们鼓励读者在完成这些讲座后研究它们）。"
   ]
  },
  {
   "cell_type": "markdown",
   "id": "8a803b5a",
   "metadata": {},
   "source": [
    "## 练习"
   ]
  },
  {
   "cell_type": "markdown",
   "id": "ec2ae5b1",
   "metadata": {},
   "source": [
    "## Exercise 45.1\n",
    "\n",
    "假设我们假设财富是以参数 $ \\lambda > 0 $ 的[指数分布](https://baike.baidu.com/item/%E8%B4%9F%E6%8C%87%E6%95%B0%E5%88%86%E5%B8%83/6057031)。\n",
    "\n",
    "$ \\lambda $ 的最大似然估计为\n",
    "\n",
    "$$\n",
    "\\hat{\\lambda} = \\frac{n}{\\sum_{i=1}^n w_i}\n",
    "$$\n",
    "\n",
    "1. 计算我们初始样本的 $ \\hat{\\lambda} $。  \n",
    "1. 使用 $ \\hat{\\lambda} $ 来计算总收入  "
   ]
  },
  {
   "cell_type": "markdown",
   "id": "eadeee89",
   "metadata": {},
   "source": [
    "## Solution to[ Exercise 45.1](https://quantecon.github.io/lecture-intro.zh-cn/#mle_ex1)"
   ]
  },
  {
   "cell_type": "code",
   "execution_count": null,
   "id": "c3c1b228",
   "metadata": {
    "hide-output": false
   },
   "outputs": [],
   "source": [
    "λ_hat = 1/np.mean(sample)\n",
    "λ_hat"
   ]
  },
  {
   "cell_type": "code",
   "execution_count": null,
   "id": "b26593a1",
   "metadata": {
    "hide-output": false
   },
   "outputs": [],
   "source": [
    "dist_exp = expon(scale = 1/λ_hat)\n",
    "tr_expo = total_revenue(dist_exp) \n",
    "tr_expo"
   ]
  },
  {
   "cell_type": "markdown",
   "id": "ab5c07d3",
   "metadata": {},
   "source": [
    "## Exercise 45.2\n",
    "\n",
    "绘制指数分布曲线，与样本比较并讨论它的拟合效果。"
   ]
  },
  {
   "cell_type": "markdown",
   "id": "c5fce9c7",
   "metadata": {},
   "source": [
    "## Solution to[ Exercise 45.2](https://quantecon.github.io/lecture-intro.zh-cn/#mle_ex2)"
   ]
  },
  {
   "cell_type": "code",
   "execution_count": null,
   "id": "f56869da",
   "metadata": {
    "hide-output": false
   },
   "outputs": [],
   "source": [
    "fig, ax = plt.subplots()\n",
    "ax.set_xlim(-1, 20)\n",
    "\n",
    "ax.hist(sample, density=True, bins=5000, histtype='stepfilled', alpha=0.5)\n",
    "ax.plot(x, dist_exp.pdf(x), 'k-', lw=0.5, label='指数分布PDF')\n",
    "ax.legend()\n",
    "\n",
    "plt.show()"
   ]
  },
  {
   "cell_type": "markdown",
   "id": "287f7358",
   "metadata": {},
   "source": [
    "显然，这个分布对数据的拟合效果并不好。"
   ]
  }
 ],
 "metadata": {
  "date": 1743834079.9679255,
  "filename": "mle.md",
  "kernelspec": {
   "display_name": "Python",
   "language": "python3",
   "name": "python3"
  },
  "title": "最大似然估计"
 },
 "nbformat": 4,
 "nbformat_minor": 5
}