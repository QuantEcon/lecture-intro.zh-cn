{
 "cells": [
  {
   "cell_type": "markdown",
   "id": "954733f6",
   "metadata": {},
   "source": [
    "\n",
    "<a id='solow'></a>"
   ]
  },
  {
   "cell_type": "markdown",
   "id": "eab68528",
   "metadata": {},
   "source": [
    "# 索洛-斯旺增长模型\n",
    "\n",
    "在本讲座中，我们将回顾一个由[罗伯特·索洛（1925–2023）](https://en.wikipedia.org/wiki/Robert_Solow)和[特雷弗·斯旺（1918–1989）](https://en.wikipedia.org/wiki/Trevor_Swan)提出的著名模型。\n",
    "\n",
    "这个模型用于研究长期经济增长。\n",
    "\n",
    "尽管模型简单，但它包含一些有趣的教训。\n",
    "\n",
    "我们将使用以下导入。"
   ]
  },
  {
   "cell_type": "code",
   "execution_count": null,
   "id": "1acdd5c5",
   "metadata": {
    "hide-output": false
   },
   "outputs": [],
   "source": [
    "import matplotlib.pyplot as plt\n",
    "import numpy as np"
   ]
  },
  {
   "cell_type": "markdown",
   "id": "ac302d8b",
   "metadata": {},
   "source": [
    "## 模型\n",
    "\n",
    "在索洛-斯旺经济中，经济主体将其当前收入的固定比例用于储蓄维持或增加资本存量。\n",
    "\n",
    "资本与劳动力相结合生产产出，产出又支付给工人和资本所有者。\n",
    "\n",
    "为了简化问题，我们忽略人口和生产力增长。\n",
    "\n",
    "对于每个整数 $ t \\geq 0 $，第 $ t $ 期的产出 $ Y_t $ 由 $ Y_t = F(K_t, L_t) $ 给出，其中 $ K_t $ 是资本，$ L_t $ 是劳动力，$ F $ 是总生产函数。\n",
    "\n",
    "假设函数 $ F $ 是非负的，且是**一阶齐次的**，意味着\n",
    "\n",
    "$$\n",
    "F(\\lambda K, \\lambda L) = \\lambda F(K, L)\n",
    "    \\quad \\text{对于所有 } \\lambda \\geq 0\n",
    "$$\n",
    "\n",
    "具有这种特性的生产函数包括：\n",
    "\n",
    "- **科布-道格拉斯**函数 $ F(K, L) = A K^{\\alpha} L^{1-\\alpha} $，其中 $ 0 \\leq \\alpha \\leq 1 $。  \n",
    "- **CES**函数 $ F(K, L) = \\left\\{ a K^\\rho + b L^\\rho \\right\\}^{1/\\rho} $，其中 $ a, b, \\rho > 0 $。  \n",
    "\n",
    "\n",
    "这里，$ \\alpha $ 是资本的产出弹性，$ \\rho $ 是决定资本和劳动力之间替代弹性的参数。\n",
    "\n",
    "我们假设是封闭经济，因此总国内投资等于总国内储蓄。\n",
    "\n",
    "储蓄率是一个常数 $ s $，满足 $ 0 \\leq s \\leq 1 $，所以总投资和储蓄都等于 $ s Y_t $。\n",
    "\n",
    "资本会贬值：如果不通过投资补充，今天的一单位资本明天会变成 $ 1-\\delta $ 单位。\n",
    "\n",
    "因此，\n",
    "\n",
    "$$\n",
    "K_{t+1} = s F(K_t, L_t) + (1 - \\delta) K_t\n",
    "$$\n",
    "\n",
    "没有人口增长，$ L_t $ 等于某个常数 $ L $。\n",
    "\n",
    "令 $ k_t := K_t / L $，并使用一阶齐次性，现在得到\n",
    "\n",
    "$$\n",
    "k_{t+1}\n",
    "    = s \\frac{F(K_t, L)}{L} + (1 - \\delta) \\frac{K_t}{L}\n",
    "    = s \\frac{F(K_t, L)}{L} + (1 - \\delta) k_t\n",
    "    = s F(k_t, 1) + (1 - \\delta) k_t\n",
    "$$\n",
    "\n",
    "令 $ f(k) := F(k, 1) $，资本动态的最终表达式为\n",
    "\n",
    "\n",
    "<a id='equation-solow'></a>\n",
    "$$\n",
    "k_{t+1} = g(k_t)\n",
    "    \\text{ where } g(k) := s f(k) + (1 - \\delta) k \\tag{24.1}\n",
    "$$\n",
    "\n",
    "我们的目标是了解随时间变化的 $ k_t $ 的演变，给定一个外生的初始资本存量 $ k_0 $。"
   ]
  },
  {
   "cell_type": "markdown",
   "id": "e52d6b98",
   "metadata": {},
   "source": [
    "## 图形化视角\n",
    "\n",
    "为了理解序列 $ (k_t)_{t \\geq 0} $ 的动态，我们使用45度图。\n",
    "\n",
    "为此，我们首先需要为 $ f $ 指定函数形式并为参数赋值。\n",
    "\n",
    "我们选择科布-道格拉斯规格 $ f(k) = A k^\\alpha $，并设定 $ A=2.0 $，$ \\alpha=0.3 $，$ s=0.3 $ 和 $ \\delta=0.4 $。\n",
    "\n",
    "然后绘制方程 [(24.1)](#equation-solow) 中的函数 $ g $，以及45度线。\n",
    "\n",
    "让我们定义这些常数。"
   ]
  },
  {
   "cell_type": "code",
   "execution_count": null,
   "id": "283fbd00",
   "metadata": {
    "hide-output": false
   },
   "outputs": [],
   "source": [
    "A, s, alpha, delta = 2, 0.3, 0.3, 0.4\n",
    "x0 = 0.25\n",
    "xmin, xmax = 0, 3"
   ]
  },
  {
   "cell_type": "markdown",
   "id": "391c7016",
   "metadata": {},
   "source": [
    "现在我们来定义函数$ g $。"
   ]
  },
  {
   "cell_type": "code",
   "execution_count": null,
   "id": "494681ff",
   "metadata": {
    "hide-output": false
   },
   "outputs": [],
   "source": [
    "def g(A, s, alpha, delta, k):\n",
    "    return A * s * k**alpha + (1 - delta) * k"
   ]
  },
  {
   "cell_type": "markdown",
   "id": "08a1b48f",
   "metadata": {},
   "source": [
    "让我们来绘制函数$ g $的45度图。"
   ]
  },
  {
   "cell_type": "code",
   "execution_count": null,
   "id": "f67ff6ee",
   "metadata": {
    "hide-output": false
   },
   "outputs": [],
   "source": [
    "def plot45(kstar=None):\n",
    "    xgrid = np.linspace(xmin, xmax, 12000)\n",
    "\n",
    "    fig, ax = plt.subplots()\n",
    "\n",
    "    ax.set_xlim(xmin, xmax)\n",
    "\n",
    "    g_values = g(A, s, alpha, delta, xgrid)\n",
    "\n",
    "    ymin, ymax = np.min(g_values), np.max(g_values)\n",
    "    ax.set_ylim(ymin, ymax)\n",
    "\n",
    "    lb = r'$g(k) = sAk^{\\alpha} + (1 - \\delta)k$'\n",
    "    ax.plot(xgrid, g_values,  lw=2, alpha=0.6, label=lb)\n",
    "    ax.plot(xgrid, xgrid, 'k-', lw=1, alpha=0.7, label='$45^{\\circ}$')\n",
    "\n",
    "    if kstar:\n",
    "        fps = (kstar,)\n",
    "\n",
    "        ax.plot(fps, fps, 'go', ms=10, alpha=0.6)\n",
    "\n",
    "        ax.annotate(r'$k^* = (sA / \\delta)^{(1/(1-\\alpha))}$',\n",
    "                 xy=(kstar, kstar),\n",
    "                 xycoords='data',\n",
    "                 xytext=(-40, -60),\n",
    "                 textcoords='offset points',\n",
    "                 fontsize=14,\n",
    "                 arrowprops=dict(arrowstyle=\"->\"))\n",
    "\n",
    "    ax.legend(loc='upper left', frameon=False, fontsize=12)\n",
    "\n",
    "    ax.set_xticks((0, 1, 2, 3))\n",
    "    ax.set_yticks((0, 1, 2, 3))\n",
    "\n",
    "    ax.set_xlabel('$k_t$', fontsize=12)\n",
    "    ax.set_ylabel('$k_{t+1}$', fontsize=12)\n",
    "\n",
    "    plt.show()"
   ]
  },
  {
   "cell_type": "code",
   "execution_count": null,
   "id": "e8ec1207",
   "metadata": {
    "hide-output": false
   },
   "outputs": [],
   "source": [
    "plot45()"
   ]
  },
  {
   "cell_type": "markdown",
   "id": "e8fe8d04",
   "metadata": {},
   "source": [
    "假设在某个 $ k_t $ 处，$ g(k_t) $ 的值严格高于45度线。\n",
    "\n",
    "那么我们有 $ k_{t+1} = g(k_t) > k_t $，人均资本增加。\n",
    "\n",
    "如果 $ g(k_t) < k_t $，则人均资本下降。\n",
    "\n",
    "如果 $ g(k_t) = k_t $，那么我们就处于**稳态**，$ k_t $ 保持不变。\n",
    "\n",
    "（模型的[稳态](https://intro.quantecon.org/scalar_dynam.html#scalar-dynam-steady-state)是映射 $ g $ 的[不动点](https://en.wikipedia.org/wiki/Fixed_point_%28mathematics%29)。）\n",
    "\n",
    "从图中 $ g $ 函数的形状可以看出，在 $ (0, \\infty) $ 内存在唯一的稳态。\n",
    "\n",
    "它满足方程 $ k = s Ak^{\\alpha} + (1-\\delta)k $，因此可以表示为\n",
    "\n",
    "\n",
    "<a id='equation-kstarss'></a>\n",
    "$$\n",
    "k^* := \\left( \\frac{s A}{\\delta} \\right)^{1/(1 - \\alpha)} \\tag{24.2}\n",
    "$$\n",
    "\n",
    "如果初始资本低于 $ k^* $，那么资本会随时间增加。\n",
    "\n",
    "如果初始资本高于这个水平，则相反。\n",
    "\n",
    "让我们绘制45度图来在图中显示 $ k^* $。"
   ]
  },
  {
   "cell_type": "code",
   "execution_count": null,
   "id": "ab0be105",
   "metadata": {
    "hide-output": false
   },
   "outputs": [],
   "source": [
    "kstar = ((s * A) / delta)**(1/(1 - alpha))\n",
    "plot45(kstar)"
   ]
  },
  {
   "cell_type": "markdown",
   "id": "223a4508",
   "metadata": {},
   "source": [
    "根据我们的图形分析，似乎无论初始资本 $ k_0 $ 如何，$ (k_t) $ 都会收敛到 $ k^* $。\n",
    "\n",
    "这是一种[全局稳定性](https://intro.quantecon.org/scalar_dynam.html#scalar-dynam-global-stability)的形式。\n",
    "\n",
    "下图显示了在上述参数化条件下，从三个不同的初始条件出发的资本时间路径。\n",
    "\n",
    "在这种参数化下，$ k^* \\approx 1.78 $。\n",
    "\n",
    "让我们定义常数和三个不同的初始条件"
   ]
  },
  {
   "cell_type": "code",
   "execution_count": null,
   "id": "b1458081",
   "metadata": {
    "hide-output": false
   },
   "outputs": [],
   "source": [
    "A, s, alpha, delta = 2, 0.3, 0.3, 0.4\n",
    "x0 = np.array([.25, 1.25, 3.25])\n",
    "\n",
    "ts_length = 20\n",
    "xmin, xmax = 0, ts_length\n",
    "ymin, ymax = 0, 3.5"
   ]
  },
  {
   "cell_type": "code",
   "execution_count": null,
   "id": "77093157",
   "metadata": {
    "hide-output": false
   },
   "outputs": [],
   "source": [
    "def simulate_ts(x0_values, ts_length):\n",
    "\n",
    "    k_star = (s * A / delta)**(1/(1-alpha))\n",
    "    fig, ax = plt.subplots(figsize=[11, 5])\n",
    "    ax.set_xlim(xmin, xmax)\n",
    "    ax.set_ylim(ymin, ymax)\n",
    "\n",
    "    ts = np.zeros(ts_length)\n",
    "\n",
    "    # 模拟和绘制时间序列\n",
    "    for x_init in x0_values:\n",
    "        ts[0] = x_init\n",
    "        for t in range(1, ts_length):\n",
    "            ts[t] = g(A, s, alpha, delta, ts[t-1])\n",
    "        ax.plot(np.arange(ts_length), ts, '-o', ms=4, alpha=0.6,\n",
    "                label=r'$k_0=%g$' %x_init)\n",
    "    ax.plot(np.arange(ts_length), np.full(ts_length,k_star),\n",
    "            alpha=0.6, color='red', label=r'$k^*$')\n",
    "    ax.legend(fontsize=10)\n",
    "\n",
    "    ax.set_xlabel(r'$t$', fontsize=14)\n",
    "    ax.set_ylabel(r'$k_t$', fontsize=14)\n",
    "\n",
    "    plt.show()"
   ]
  },
  {
   "cell_type": "code",
   "execution_count": null,
   "id": "83904fd6",
   "metadata": {
    "hide-output": false
   },
   "outputs": [],
   "source": [
    "simulate_ts(x0, ts_length)"
   ]
  },
  {
   "cell_type": "markdown",
   "id": "7b41fd61",
   "metadata": {},
   "source": [
    "如预期，图中的所有时间路径都收敛于 $ k^* $。"
   ]
  },
  {
   "cell_type": "markdown",
   "id": "91264fa2",
   "metadata": {},
   "source": [
    "## 连续时间的增长\n",
    "\n",
    "在本节中，我们将研究 Solow–Swan 增长模型的连续时间版本。我们将看到连续时间提供的平滑如何能简化我们的分析。\n",
    "\n",
    "回顾一下，资本的离散时间动态由以下公式给出：$ k_{t+1} = s f(k_t) + (1 - \\delta) k_t $。\n",
    "\n",
    "简单重新排列可得到单位时间的变化率：\n",
    "\n",
    "$$\n",
    "\\Delta k_t = s f(k_t) - \\delta k_t\n",
    "    \\quad \\text{其中} \\quad\n",
    "    \\Delta k_t := k_{t+1}  - k_t\n",
    "$$\n",
    "\n",
    "将时间步长趋近于零得到连续时间极限\n",
    "\n",
    "\n",
    "<a id='equation-solowc'></a>\n",
    "$$\n",
    "k'_t = s f(k_t) - \\delta k_t\n",
    "    \\qquad \\text{with} \\qquad\n",
    "    k'_t := \\frac{d}{dt} k_t \\tag{24.3}\n",
    "$$\n",
    "\n",
    "我们的目标是了解 $ k_t $ 随时间的演变，给定初始存量 $ k_0 $。\n",
    "\n",
    "[(24.3)](#equation-solowc) 的**稳态**是一个值 $ k^* $，在该值处资本保持不变，即 $ k'_t = 0 $ 或等价地，$ s f(k^*) = \\delta k^* $。\n",
    "\n",
    "我们假设 $ f(k) = Ak^\\alpha $，所以 $ k^* $ 满足 $ s A k^\\alpha = \\delta k $。\n",
    "\n",
    "解决方案与离散时间情况相同——参见 [(24.2)](#equation-kstarss)。\n",
    "\n",
    "动态在下一个图中表示，保持我们上面使用的参数化。\n",
    "\n",
    "写作 $ k'_t = g(k_t) $，其中 $ g(k) = s Ak^\\alpha - \\delta k $，$ g(k) > 0 $ 的 $ k $ 值意味着 $ k'_t > 0 $，所以资本在增加。\n",
    "\n",
    "当 $ g(k) < 0 $ 时，相反的情况发生。再一次，低水平资本时储蓄的高边际回报与高水平资本时的低回报率相结合，产生了全局稳定性。\n",
    "\n",
    "为了在图中看到这一点，让我们定义以下常数"
   ]
  },
  {
   "cell_type": "code",
   "execution_count": null,
   "id": "8659980f",
   "metadata": {
    "hide-output": false
   },
   "outputs": [],
   "source": [
    "A, s, alpha, delta = 2, 0.3, 0.3, 0.4"
   ]
  },
  {
   "cell_type": "markdown",
   "id": "e5c4caec",
   "metadata": {},
   "source": [
    "接下来，我们为连续时间的增长定义函数 $ g $"
   ]
  },
  {
   "cell_type": "code",
   "execution_count": null,
   "id": "a2a21eb1",
   "metadata": {
    "hide-output": false
   },
   "outputs": [],
   "source": [
    "def g_con(A, s, alpha, delta, k):\n",
    "    return A * s * k**alpha - delta * k"
   ]
  },
  {
   "cell_type": "code",
   "execution_count": null,
   "id": "53ca6839",
   "metadata": {
    "hide-output": false
   },
   "outputs": [],
   "source": [
    "def plot_gcon(kstar=None):\n",
    "\n",
    "    k_grid = np.linspace(0, 2.8, 10000)\n",
    "\n",
    "    fig, ax = plt.subplots(figsize=[11, 5])\n",
    "    ax.plot(k_grid, g_con(A, s, alpha, delta, k_grid), label='$g(k)$')\n",
    "    ax.plot(k_grid, 0 * k_grid, label=\"$k'=0$\")\n",
    "\n",
    "    if kstar:\n",
    "        fps = (kstar,)\n",
    "\n",
    "        ax.plot(fps, 0, 'go', ms=10, alpha=0.6)\n",
    "\n",
    "\n",
    "        ax.annotate(r'$k^* = (sA / \\delta)^{(1/(1-\\alpha))}$',\n",
    "                 xy=(kstar, 0),\n",
    "                 xycoords='data',\n",
    "                 xytext=(0, 60),\n",
    "                 textcoords='offset points',\n",
    "                 fontsize=12,\n",
    "                 arrowprops=dict(arrowstyle=\"->\"))\n",
    "\n",
    "    ax.legend(loc='lower left', fontsize=12)\n",
    "\n",
    "    ax.set_xlabel(\"$k$\",fontsize=10)\n",
    "    ax.set_ylabel(\"$k'$\", fontsize=10)\n",
    "\n",
    "    ax.set_xticks((0, 1, 2, 3))\n",
    "    ax.set_yticks((-0.3, 0, 0.3))\n",
    "\n",
    "    plt.show()"
   ]
  },
  {
   "cell_type": "code",
   "execution_count": null,
   "id": "7b65d880",
   "metadata": {
    "hide-output": false
   },
   "outputs": [],
   "source": [
    "kstar = ((s * A) / delta)**(1/(1 - alpha))\n",
    "plot_gcon(kstar)"
   ]
  },
  {
   "cell_type": "markdown",
   "id": "c1398a2c",
   "metadata": {},
   "source": [
    "这从启发式的角度展示了固定参数化的全局稳定性，但我们如何为一系列合理的参数形式地证明同样的结论呢？\n",
    "\n",
    "在离散时间的情况下，很难得到$ k_t $的简洁表达式。\n",
    "\n",
    "在连续时间中，这个过程更加简单：我们可以得到一个相对简单的$ k_t $表达式，它可以指定整个路径。\n",
    "\n",
    "第一步是\n",
    "\n",
    "设$ x_t := k_t^{1-\\alpha} $，这样$ x'_t = (1-\\alpha) k_t^{-\\alpha} k'_t $。\n",
    "将其代入$ k'_t = sAk_t^\\alpha - \\delta k_t $，得到以下线性微分方程\n",
    "\n",
    "\n",
    "<a id='equation-xsolow'></a>\n",
    "$$\n",
    "x'_t = (1-\\alpha) (sA - \\delta x_t) \\tag{24.4}\n",
    "$$\n",
    "\n",
    "这个方程是一个[线性常微分方程](https://math.libretexts.org/Bookshelves/Calculus/Calculus_%28Guichard%29/17%3A_Differential_Equations/17.01%3A_First_Order_Differential_Equations)，其解为\n",
    "\\$$ x_t\n",
    "    = \\left(\n",
    "        k_0^{1-\\alpha} - \\frac{sA}{\\delta}\n",
    "      \\right)\n",
    "      \\mathrm{e}^{-\\delta (1-\\alpha) t} +\n",
    "    \\frac{sA}{\\delta} $\\$\n",
    "\n",
    "（你可以通过对$ t $求导来确认这个函数$ x_t $满足[(24.4)](#equation-xsolow)方程。）\n",
    "\n",
    "转换回$ k_t $得到\n",
    "\n",
    "\n",
    "<a id='equation-ssivs'></a>\n",
    "$$\n",
    "k_t\n",
    "    =\n",
    "    \\left[\n",
    "        \\left(\n",
    "        k_0^{1-\\alpha} - \\frac{sA}{\\delta}\n",
    "      \\right)\n",
    "      \\mathrm{e}^{-\\delta (1-\\alpha) t} +\n",
    "    \\frac{sA}{\\delta}\n",
    "    \\right]^{1/(1-\\alpha)} \\tag{24.5}\n",
    "$$\n",
    "\n",
    "由于 $ \\delta > 0 $ 且 $ \\alpha \\in (0, 1) $，我们立即可以看出，当 $ t \\to \\infty $ 时，$ k_t \\to k^* $，且与 $ k_0 $ 无关。\n",
    "\n",
    "因此，全局稳定性成立。"
   ]
  },
  {
   "cell_type": "markdown",
   "id": "5d8d5477",
   "metadata": {},
   "source": [
    "## 练习"
   ]
  },
  {
   "cell_type": "markdown",
   "id": "025c12d8",
   "metadata": {},
   "source": [
    "## Exercise 24.1\n",
    "\n",
    "绘制稳态下人均消费 $ c $ 作为储蓄率 $ s $ 的函数图，其中 $ 0 \\leq s \\leq 1 $。\n",
    "\n",
    "使用柯布-道格拉斯生产函数 $ f(k) = A k^\\alpha $。\n",
    "\n",
    "设定 $ A=2.0, \\alpha=0.3, $ 且 $ \\delta=0.5 $。\n",
    "\n",
    "此外，找出大约能使 $ c^*(s) $ 最大化的 $ s $ 值，并在图中显示。"
   ]
  },
  {
   "cell_type": "markdown",
   "id": "2758bbe3",
   "metadata": {},
   "source": [
    "## Solution to[ Exercise 24.1](https://intro.quantecon.org/#solow_ex1)\n",
    "\n",
    "在储蓄率 $ s $ 下的稳态消费由以下公式给出：\n",
    "\n",
    "$$\n",
    "c^*(s) = (1-s)f(k^*) = (1-s)A(k^*)^\\alpha\n",
    "$$"
   ]
  },
  {
   "cell_type": "code",
   "execution_count": null,
   "id": "2d9ed3f5",
   "metadata": {
    "hide-output": false
   },
   "outputs": [],
   "source": [
    "A = 2.0\n",
    "alpha = 0.3\n",
    "delta = 0.5"
   ]
  },
  {
   "cell_type": "code",
   "execution_count": null,
   "id": "494fcca6",
   "metadata": {
    "hide-output": false
   },
   "outputs": [],
   "source": [
    "s_grid = np.linspace(0, 1, 1000)\n",
    "k_star = ((s_grid * A) / delta)**(1/(1 - alpha))\n",
    "c_star = (1 - s_grid) * A * k_star ** alpha"
   ]
  },
  {
   "cell_type": "markdown",
   "id": "0d9b4e07",
   "metadata": {},
   "source": [
    "让我们使用 [scipy.optimize.minimize_scalar](https://docs.scipy.org/doc/scipy/reference/generated/scipy.optimize.minimize_scalar.html#scipy.optimize.minimize_scalar) 来找出使 $ c^* $ 最大化的 $ s $ 值。\n",
    "\n",
    "我们将使用 $ -c^*(s) $，因为 `minimize_scalar` 函数是用来寻找最小值的。"
   ]
  },
  {
   "cell_type": "code",
   "execution_count": null,
   "id": "7c74211f",
   "metadata": {
    "hide-output": false
   },
   "outputs": [],
   "source": [
    "from scipy.optimize import minimize_scalar"
   ]
  },
  {
   "cell_type": "code",
   "execution_count": null,
   "id": "34d963bd",
   "metadata": {
    "hide-output": false
   },
   "outputs": [],
   "source": [
    "def calc_c_star(s):\n",
    "    k = ((s * A) / delta)**(1/(1 - alpha))\n",
    "    return - (1 - s) * A * k ** alpha"
   ]
  },
  {
   "cell_type": "code",
   "execution_count": null,
   "id": "e9657926",
   "metadata": {
    "hide-output": false
   },
   "outputs": [],
   "source": [
    "return_values = minimize_scalar(calc_c_star, bounds=(0, 1))\n",
    "s_star_max = return_values.x\n",
    "c_star_max = -return_values.fun\n",
    "print(f\"Function is maximized at s = {round(s_star_max, 4)}\")"
   ]
  },
  {
   "cell_type": "code",
   "execution_count": null,
   "id": "a24b3547",
   "metadata": {
    "hide-output": false
   },
   "outputs": [],
   "source": [
    "x_s_max = np.array([s_star_max, s_star_max])\n",
    "y_s_max = np.array([0, c_star_max])\n",
    "\n",
    "fig, ax = plt.subplots(figsize=[11, 5])\n",
    "\n",
    "fps = (c_star_max,)\n",
    "\n",
    "# Highlight the maximum point with a marker\n",
    "ax.plot((s_star_max, ), (c_star_max,), 'go', ms=8, alpha=0.6)\n",
    "\n",
    "ax.annotate(r'$s^*$',\n",
    "         xy=(s_star_max, c_star_max),\n",
    "         xycoords='data',\n",
    "         xytext=(20, -50),\n",
    "         textcoords='offset points',\n",
    "         fontsize=12,\n",
    "         arrowprops=dict(arrowstyle=\"->\"))\n",
    "ax.plot(s_grid, c_star, label=r'$c*(s)$')\n",
    "ax.plot(x_s_max, y_s_max, alpha=0.5, ls='dotted')\n",
    "ax.set_xlabel(r'$s$')\n",
    "ax.set_ylabel(r'$c^*(s)$')\n",
    "ax.legend()\n",
    "\n",
    "plt.show()"
   ]
  },
  {
   "cell_type": "markdown",
   "id": "53ad68a3",
   "metadata": {},
   "source": [
    "也可以尝试用数学方法解决这个问题，即对 $ c^*(s) $ 进行微分，并使用 [sympy](https://www.sympy.org/en/index.html) 求解 $ \\frac{d}{ds}c^*(s)=0 $。"
   ]
  },
  {
   "cell_type": "code",
   "execution_count": null,
   "id": "61b64677",
   "metadata": {
    "hide-output": false
   },
   "outputs": [],
   "source": [
    "from sympy import solve, Symbol"
   ]
  },
  {
   "cell_type": "code",
   "execution_count": null,
   "id": "5c8c2e8f",
   "metadata": {
    "hide-output": false
   },
   "outputs": [],
   "source": [
    "s_symbol = Symbol('s', real=True)\n",
    "k = ((s_symbol * A) / delta)**(1/(1 - alpha))\n",
    "c = (1 - s_symbol) * A * k ** alpha"
   ]
  },
  {
   "cell_type": "markdown",
   "id": "b2ce5421",
   "metadata": {},
   "source": [
    "让我们对 $ c $ 进行微分，并使用 [sympy.solve](https://docs.sympy.org/latest/modules/solvers/solvers.html#sympy.solvers.solvers.solve) 求解。"
   ]
  },
  {
   "cell_type": "code",
   "execution_count": null,
   "id": "16e53d56",
   "metadata": {
    "hide-output": false
   },
   "outputs": [],
   "source": [
    "# 使用 sympy 求解\n",
    "s_star = solve(c.diff())[0]\n",
    "print(f\"s_star = {s_star}\")"
   ]
  },
  {
   "cell_type": "markdown",
   "id": "f8c80552",
   "metadata": {},
   "source": [
    "顺便说一下，使人均消费的稳态水平最大化的储蓄率被称为[黄金法则储蓄率](https://en.wikipedia.org/wiki/Golden_Rule_savings_rate)。"
   ]
  },
  {
   "cell_type": "markdown",
   "id": "4aea4c14",
   "metadata": {},
   "source": [
    "## Exercise 24.2\n",
    "\n",
    "**随机生产率**\n",
    "\n",
    "为了使索洛-斯旺模型更贴近实际数据，我们需要考虑如何处理总量中的随机波动。\n",
    "\n",
    "这样做会带来多方面的影响，其中之一是消除了人均产出 $ y_t = A k^\\alpha_t $ 收敛到常数 $ y^* := A (k^*)^\\alpha $ 这一不切实际的预测。\n",
    "\n",
    "在接下来的讨论中，我们将转向离散时间模型。\n",
    "\n",
    "一种方法是用某个随机序列 $ (A_t)_{t \\geq 1} $ 替代常数生产率。\n",
    "\n",
    "现在的动态方程变为\n",
    "\n",
    "\n",
    "<a id='equation-solowran'></a>\n",
    "$$\n",
    "k_{t+1} = s A_{t+1} f(k_t) + (1 - \\delta) k_t \\tag{24.6}\n",
    "$$\n",
    "\n",
    "我们假设 $ f $ 是柯布-道格拉斯生产函数，且 $ (A_t) $ 是独立同分布的对数正态分布。\n",
    "\n",
    "现在，在确定性情况下获得的长期收敛性不再成立，因为系统在每个时间点都会受到新的冲击。\n",
    "\n",
    "考虑 $ A=2.0, s=0.6, \\alpha=0.3, $ 且 $ \\delta=0.5 $。\n",
    "\n",
    "生成并绘制时间序列 $ k_t $ 的图表。"
   ]
  },
  {
   "cell_type": "markdown",
   "id": "0fa2c591",
   "metadata": {},
   "source": [
    "## Solution to[ Exercise 24.2](https://intro.quantecon.org/#solow_ex2)\n",
    "\n",
    "让我们定义用于模拟的对数正态分布的常数和初始值"
   ]
  },
  {
   "cell_type": "code",
   "execution_count": null,
   "id": "2447ad65",
   "metadata": {
    "hide-output": false
   },
   "outputs": [],
   "source": [
    "# 定义一下常数\n",
    "sig = 0.2\n",
    "mu = np.log(2) - sig**2 / 2\n",
    "A = 2.0\n",
    "s = 0.6\n",
    "alpha = 0.3\n",
    "delta = 0.5\n",
    "x0 = [.25, 3.25] # 用于模拟的初始值列表"
   ]
  },
  {
   "cell_type": "markdown",
   "id": "6f10a752",
   "metadata": {},
   "source": [
    "让我们定义函数 *k_next* 来找出 $ k $ 的下一个值"
   ]
  },
  {
   "cell_type": "code",
   "execution_count": null,
   "id": "c1b19e83",
   "metadata": {
    "hide-output": false
   },
   "outputs": [],
   "source": [
    "def lgnorm():\n",
    "    return np.exp(mu + sig * np.random.randn())\n",
    "\n",
    "def k_next(s, alpha, delta, k):\n",
    "    return lgnorm() * s * k**alpha + (1 - delta) * k"
   ]
  },
  {
   "cell_type": "code",
   "execution_count": null,
   "id": "98a10604",
   "metadata": {
    "hide-output": false
   },
   "outputs": [],
   "source": [
    "def ts_plot(x_values, ts_length):\n",
    "    fig, ax = plt.subplots(figsize=[11, 5])\n",
    "    ts = np.zeros(ts_length)\n",
    "\n",
    "    # 模拟并且绘制时间序列\n",
    "    for x_init in x_values:\n",
    "        ts[0] = x_init\n",
    "        for t in range(1, ts_length):\n",
    "            ts[t] = k_next(s, alpha, delta, ts[t-1])\n",
    "        ax.plot(np.arange(ts_length), ts, '-o', ms=4,\n",
    "                alpha=0.6, label=r'$k_0=%g$' %x_init)\n",
    "\n",
    "    ax.legend(loc='best', fontsize=10)\n",
    "\n",
    "    ax.set_xlabel(r'$t$', fontsize=12)\n",
    "    ax.set_ylabel(r'$k_t$', fontsize=12)\n",
    "\n",
    "\n",
    "    plt.show()"
   ]
  },
  {
   "cell_type": "code",
   "execution_count": null,
   "id": "6a6ffeab",
   "metadata": {
    "hide-output": false
   },
   "outputs": [],
   "source": [
    "ts_plot(x0, 50)"
   ]
  }
 ],
 "metadata": {
  "date": 1740124709.3125796,
  "filename": "solow.md",
  "kernelspec": {
   "display_name": "Python",
   "language": "python3",
   "name": "python3"
  },
  "title": "索洛-斯旺增长模型"
 },
 "nbformat": 4,
 "nbformat_minor": 5
}