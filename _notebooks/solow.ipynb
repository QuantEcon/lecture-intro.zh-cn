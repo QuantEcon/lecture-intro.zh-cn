{
 "cells": [
  {
   "cell_type": "markdown",
   "id": "e999dea3",
   "metadata": {},
   "source": [
    "\n",
    "<a id='solow'></a>"
   ]
  },
  {
   "cell_type": "markdown",
   "id": "9467248b",
   "metadata": {},
   "source": [
    "# 索洛-斯旺增长模型\n",
    "\n",
    "在本讲中，我们将回顾一个由[罗伯特·索洛（1925–2023）](https://baike.baidu.com/item/%E7%BD%97%E4%BC%AF%E7%89%B9%C2%B7%E9%BB%98%E9%A1%BF%C2%B7%E7%B4%A2%E6%B4%9B/4822664)和[特雷弗·斯旺（1918–1989）](https://baike.baidu.com/item/%E6%96%AF%E6%97%BA%E5%9B%BE/646055)提出的著名模型。\n",
    "\n",
    "这个模型被用于研究长期的经济增长。\n",
    "\n",
    "尽管这是一个相对简单的模型，但它提供了许多关于经济增长的深刻见解。\n",
    "\n",
    "我们将使用以下导入语句。"
   ]
  },
  {
   "cell_type": "code",
   "execution_count": null,
   "id": "c92e4016",
   "metadata": {
    "hide-output": false
   },
   "outputs": [],
   "source": [
    "import matplotlib.pyplot as plt\n",
    "import numpy as np"
   ]
  },
  {
   "cell_type": "markdown",
   "id": "ae019091",
   "metadata": {},
   "source": [
    "## 模型\n",
    "\n",
    "在索洛-斯旺经济模型中，经济主体将其当前收入的固定比例用于储蓄。\n",
    "\n",
    "这些储蓄维持或增加了资本存量。\n",
    "\n",
    "资本与劳动力相结合生产产出，产出又支付给工人和资本所有者。\n",
    "\n",
    "为了简化问题，我们忽略人口和生产力增长。\n",
    "\n",
    "对于每个整数 $ t \\geq 0 $，第 $ t $ 期的产出 $ Y_t $ 由 $ Y_t = F(K_t, L_t) $ 给出，其中 $ K_t $ 是资本，$ L_t $ 是劳动力，$ F $ 是总生产函数。\n",
    "\n",
    "假设函数 $ F $ 是非负的，且是**一阶齐次的**，这意味着\n",
    "\n",
    "$$\n",
    "F(\\lambda K, \\lambda L) = \\lambda F(K, L)\n",
    "    \\quad \\text{对于所有 } \\lambda \\geq 0\n",
    "$$\n",
    "\n",
    "具有这种特性的生产函数包括：\n",
    "\n",
    "- **Cobb-Douglas**函数 $ F(K, L) = A K^{\\alpha} L^{1-\\alpha} $，其中 $ 0 \\leq \\alpha \\leq 1 $。  \n",
    "- **CES**函数 $ F(K, L) = \\left\\{ a K^\\rho + b L^\\rho \\right\\}^{1/\\rho} $，其中 $ a, b, \\rho > 0 $。  \n",
    "\n",
    "\n",
    "这里，$ \\alpha $ 是资本的产出弹性，$ \\rho $ 是决定资本和劳动力之间替代弹性的参数。\n",
    "\n",
    "我们假设一个封闭经济，因此总国内投资等于总国内储蓄。\n",
    "\n",
    "储蓄率是一个常数 $ s $，满足 $ 0 \\leq s \\leq 1 $，所以总投资和储蓄都等于 $ s Y_t $。\n",
    "\n",
    "资本会贬值：如果不通过投资补充，今天的一单位资本明天会变成 $ 1-\\delta $ 单位。\n",
    "\n",
    "因此，\n",
    "\n",
    "$$\n",
    "K_{t+1} = s F(K_t, L_t) + (1 - \\delta) K_t\n",
    "$$\n",
    "\n",
    "没有人口增长，$ L_t $ 等于某个常数 $ L $。\n",
    "\n",
    "令 $ k_t := K_t / L $，并使用一阶齐次性，现在得到\n",
    "\n",
    "$$\n",
    "k_{t+1}\n",
    "    = s \\frac{F(K_t, L)}{L} + (1 - \\delta) \\frac{K_t}{L}\n",
    "    = s \\frac{F(K_t, L)}{L} + (1 - \\delta) k_t\n",
    "    = s F(k_t, 1) + (1 - \\delta) k_t\n",
    "$$\n",
    "\n",
    "令 $ f(k) := F(k, 1) $，资本动态的最终表达式为\n",
    "\n",
    "\n",
    "<a id='equation-solow'></a>\n",
    "$$\n",
    "k_{t+1} = g(k_t)\n",
    "    \\text{ where } g(k) := s f(k) + (1 - \\delta) k \\tag{24.1}\n",
    "$$\n",
    "\n",
    "我们的目标是在给定外生初始资本存量 $ k_0 $ 的条件下，研究 $ k_t $ 随时间演变的规律。"
   ]
  },
  {
   "cell_type": "markdown",
   "id": "c65694e3",
   "metadata": {},
   "source": [
    "## 图形化视角\n",
    "\n",
    "为了理解序列 $ (k_t)_{t \\geq 0} $ 的动态，我们使用45度图。\n",
    "\n",
    "为此，我们首先需要为 $ f $ 指定函数形式并为参数赋值。\n",
    "\n",
    "我们采用Cobb–Douglas生产函数 $ f(k) = A k^\\alpha $，并设置参数值为 $ A=2.0 $，$ \\alpha=0.3 $，$ s=0.3 $ 和 $ \\delta=0.4 $。\n",
    "\n",
    "然后绘制方程 [(24.1)](#equation-solow) 中的函数 $ g $，以及45度线。\n",
    "\n",
    "我们定义这些常数如下"
   ]
  },
  {
   "cell_type": "code",
   "execution_count": null,
   "id": "b23776e4",
   "metadata": {
    "hide-output": false
   },
   "outputs": [],
   "source": [
    "A, s, alpha, delta = 2, 0.3, 0.3, 0.4\n",
    "x0 = 0.25\n",
    "xmin, xmax = 0, 3"
   ]
  },
  {
   "cell_type": "markdown",
   "id": "c62f3204",
   "metadata": {},
   "source": [
    "现在我们来定义函数$ g $"
   ]
  },
  {
   "cell_type": "code",
   "execution_count": null,
   "id": "ffddebb2",
   "metadata": {
    "hide-output": false
   },
   "outputs": [],
   "source": [
    "def g(A, s, alpha, delta, k):\n",
    "    return A * s * k**alpha + (1 - delta) * k"
   ]
  },
  {
   "cell_type": "markdown",
   "id": "9da8844e",
   "metadata": {},
   "source": [
    "让我们来绘制函数$ g $的45度图"
   ]
  },
  {
   "cell_type": "code",
   "execution_count": null,
   "id": "6b472e04",
   "metadata": {
    "hide-output": false
   },
   "outputs": [],
   "source": [
    "def plot45(kstar=None):\n",
    "    xgrid = np.linspace(xmin, xmax, 12000)\n",
    "\n",
    "    fig, ax = plt.subplots()\n",
    "\n",
    "    ax.set_xlim(xmin, xmax)\n",
    "\n",
    "    g_values = g(A, s, alpha, delta, xgrid)\n",
    "\n",
    "    ymin, ymax = np.min(g_values), np.max(g_values)\n",
    "    ax.set_ylim(ymin, ymax)\n",
    "\n",
    "    lb = r'$g(k) = sAk^{\\alpha} + (1 - \\delta)k$'\n",
    "    ax.plot(xgrid, g_values,  lw=2, alpha=0.6, label=lb)\n",
    "    ax.plot(xgrid, xgrid, 'k-', lw=1, alpha=0.7, label=r'$45^{\\circ}$')\n",
    "\n",
    "    if kstar:\n",
    "        fps = (kstar,)\n",
    "\n",
    "        ax.plot(fps, fps, 'go', ms=10, alpha=0.6)\n",
    "\n",
    "        ax.annotate(r'$k^* = (sA / \\delta)^{(1/(1-\\alpha))}$',\n",
    "                 xy=(kstar, kstar),\n",
    "                 xycoords='data',\n",
    "                 xytext=(-40, -60),\n",
    "                 textcoords='offset points',\n",
    "                 fontsize=14,\n",
    "                 arrowprops=dict(arrowstyle=\"->\"))\n",
    "\n",
    "    ax.legend(loc='upper left', frameon=False, fontsize=12)\n",
    "\n",
    "    ax.set_xticks((0, 1, 2, 3))\n",
    "    ax.set_yticks((0, 1, 2, 3))\n",
    "\n",
    "    ax.set_xlabel('$k_t$', fontsize=12)\n",
    "    ax.set_ylabel('$k_{t+1}$', fontsize=12)\n",
    "\n",
    "    plt.show()"
   ]
  },
  {
   "cell_type": "code",
   "execution_count": null,
   "id": "f3e9feda",
   "metadata": {
    "hide-output": false
   },
   "outputs": [],
   "source": [
    "plot45()"
   ]
  },
  {
   "cell_type": "markdown",
   "id": "48ebcebd",
   "metadata": {},
   "source": [
    "假设在某个 $ k_t $ 处，$ g(k_t) $ 的值严格高于45度线。\n",
    "\n",
    "那么我们有 $ k_{t+1} = g(k_t) > k_t $，则人均资本增加。\n",
    "\n",
    "如果 $ g(k_t) < k_t $，则人均资本下降。\n",
    "\n",
    "如果 $ g(k_t) = k_t $，那么我们就处于**稳态**，$ k_t $ 保持不变。\n",
    "\n",
    "（模型的[稳态](https://intro.quantecon.org/scalar_dynam.html#scalar-dynam-steady-state)是映射 $ g $ 的[不动点](https://baike.baidu.com/item/%E4%B8%8D%E5%8A%A8%E7%82%B9/8535695)。）\n",
    "\n",
    "从图中可以看出，$ g $ 函数与45度线只有一个交点，这意味着在 $ (0, \\infty) $ 区间内存在唯一的稳态。\n",
    "\n",
    "在稳态时，$ k^* = g(k^*) $，即 $ k^* = s A(k^*)^{\\alpha} + (1-\\delta)k^* $。解这个方程，我们得到\n",
    "\n",
    "\n",
    "<a id='equation-kstarss'></a>\n",
    "$$\n",
    "k^* := \\left( \\frac{s A}{\\delta} \\right)^{1/(1 - \\alpha)} \\tag{24.2}\n",
    "$$\n",
    "\n",
    "当初始资本低于稳态值 $ k^* $ 时，我们可以从图中看到 $ g(k_t) > k_t $，这意味着资本存量会随时间增加，逐渐接近稳态。\n",
    "\n",
    "相反，如果初始资本高于 $ k^* $，则 $ g(k_t) < k_t $，资本存量会随时间减少，同样趋向于稳态值。\n",
    "\n",
    "让我们在45度图中标出这个稳态值 $ k^* $，以便更直观地理解这一动态过程。"
   ]
  },
  {
   "cell_type": "code",
   "execution_count": null,
   "id": "d69916cb",
   "metadata": {
    "hide-output": false
   },
   "outputs": [],
   "source": [
    "kstar = ((s * A) / delta)**(1/(1 - alpha))\n",
    "plot45(kstar)"
   ]
  },
  {
   "cell_type": "markdown",
   "id": "1a593edd",
   "metadata": {},
   "source": [
    "根据图示分析，无论初始资本存量 $ k_0 $ 如何，$ k_t $ 都将收敛于稳态值 $ k^* $。\n",
    "\n",
    "这是一种[全局稳定性](https://intro.quantecon.org/scalar_dynam.html#scalar-dynam-global-stability)的形式。\n",
    "\n",
    "下图显示了在上述参数设置条件下，从三个不同的初始条件出发的资本时间路径。\n",
    "\n",
    "在这种参数设置下，$ k^* \\approx 1.78 $。\n",
    "\n",
    "让我们定义常数和三个不同的初始条件"
   ]
  },
  {
   "cell_type": "code",
   "execution_count": null,
   "id": "c80811b8",
   "metadata": {
    "hide-output": false
   },
   "outputs": [],
   "source": [
    "A, s, alpha, delta = 2, 0.3, 0.3, 0.4\n",
    "x0 = np.array([.25, 1.25, 3.25])\n",
    "\n",
    "ts_length = 20\n",
    "xmin, xmax = 0, ts_length\n",
    "ymin, ymax = 0, 3.5"
   ]
  },
  {
   "cell_type": "code",
   "execution_count": null,
   "id": "fb9da3d0",
   "metadata": {
    "hide-output": false
   },
   "outputs": [],
   "source": [
    "def simulate_ts(x0_values, ts_length):\n",
    "\n",
    "    k_star = (s * A / delta)**(1/(1-alpha))\n",
    "    fig, ax = plt.subplots(figsize=[11, 5])\n",
    "    ax.set_xlim(xmin, xmax)\n",
    "    ax.set_ylim(ymin, ymax)\n",
    "\n",
    "    ts = np.zeros(ts_length)\n",
    "\n",
    "    # 模拟和绘制时间序列\n",
    "    for x_init in x0_values:\n",
    "        ts[0] = x_init\n",
    "        for t in range(1, ts_length):\n",
    "            ts[t] = g(A, s, alpha, delta, ts[t-1])\n",
    "        ax.plot(np.arange(ts_length), ts, '-o', ms=4, alpha=0.6,\n",
    "                label=r'$k_0=%g$' %x_init)\n",
    "    ax.plot(np.arange(ts_length), np.full(ts_length,k_star),\n",
    "            alpha=0.6, color='red', label=r'$k^*$')\n",
    "    ax.legend(fontsize=10)\n",
    "\n",
    "    ax.set_xlabel(r'$t$', fontsize=14)\n",
    "    ax.set_ylabel(r'$k_t$', fontsize=14)\n",
    "\n",
    "    plt.show()"
   ]
  },
  {
   "cell_type": "code",
   "execution_count": null,
   "id": "9afe907b",
   "metadata": {
    "hide-output": false
   },
   "outputs": [],
   "source": [
    "simulate_ts(x0, ts_length)"
   ]
  },
  {
   "cell_type": "markdown",
   "id": "37e1930d",
   "metadata": {},
   "source": [
    "如图所示，所有时间路径均如预期收敛至稳态值 $ k^* $。"
   ]
  },
  {
   "cell_type": "markdown",
   "id": "6d4e14d8",
   "metadata": {},
   "source": [
    "## 连续时间的增长\n",
    "\n",
    "在本节中，我们将研究索洛-斯旺增长模型的连续时间版本。\n",
    "\n",
    "连续时间框架提供了一种更为流畅的分析方法，使得模型的动态特性更容易理解。\n",
    "\n",
    "让我们回顾一下离散时间版本的资本动态方程：$ k_{t+1} = s f(k_t) + (1 - \\delta) k_t $。\n",
    "\n",
    "我们可以将其重新整理为单位时间内的变化量：\n",
    "\n",
    "$$\n",
    "\\Delta k_t = s f(k_t) - \\delta k_t\n",
    "    \\quad \\text{其中} \\quad\n",
    "    \\Delta k_t := k_{t+1}  - k_t\n",
    "$$\n",
    "\n",
    "当我们让时间间隔无限趋近于零时，这个离散变化自然过渡到连续时间的导数形式\n",
    "\n",
    "\n",
    "<a id='equation-solowc'></a>\n",
    "$$\n",
    "k'_t = s f(k_t) - \\delta k_t\n",
    "    \\qquad \\text{with} \\qquad\n",
    "    k'_t := \\frac{d}{dt} k_t \\tag{24.3}\n",
    "$$\n",
    "\n",
    "我们的目标是在给定初始资本存量 $ k_0 $ 的条件下，研究 $ k_t $ 随时间演变的规律。\n",
    "\n",
    "方程 [(24.3)](#equation-solowc) 的**稳态**是指资本存量保持不变的 $ k^* $，即 $ k'_t = 0 $ 或等价地，$ s f(k^*) = \\delta k^* $。\n",
    "\n",
    "我们假设 $ f(k) = Ak^\\alpha $，因此 $ k^* $ 满足 $ s A k^\\alpha = \\delta k $。\n",
    "\n",
    "解法与离散时间情况相同——参见 [(24.2)](#equation-kstarss)。\n",
    "\n",
    "动态过程将在下一图表中呈现，并沿用上文所述的参数设定。\n",
    "\n",
    "将 $ k'_t = g(k_t) $ 定义为 $ g(k) = s Ak^\\alpha - \\delta k $，当 $ g(k) > 0 $ 时，$ k'_t > 0 $，此时资本存量处于增长状态。\n",
    "\n",
    "当 $ g(k) < 0 $ 时，资本存量将减少。这种动态机制源于两种力量的共同作用：低资本存量水平下的储蓄高边际回报与高资本存量水平下的低回报率相结合，最终形成系统的全局稳定性。\n",
    "\n",
    "为了在图中看到这一点，让我们定义以下常数"
   ]
  },
  {
   "cell_type": "code",
   "execution_count": null,
   "id": "012453b4",
   "metadata": {
    "hide-output": false
   },
   "outputs": [],
   "source": [
    "A, s, alpha, delta = 2, 0.3, 0.3, 0.4"
   ]
  },
  {
   "cell_type": "markdown",
   "id": "b83fc00f",
   "metadata": {},
   "source": [
    "接下来，我们定义函数 $ g $ 表示连续时间的增长"
   ]
  },
  {
   "cell_type": "code",
   "execution_count": null,
   "id": "718ff2b6",
   "metadata": {
    "hide-output": false
   },
   "outputs": [],
   "source": [
    "def g_con(A, s, alpha, delta, k):\n",
    "    return A * s * k**alpha - delta * k"
   ]
  },
  {
   "cell_type": "code",
   "execution_count": null,
   "id": "9dadae26",
   "metadata": {
    "hide-output": false
   },
   "outputs": [],
   "source": [
    "def plot_gcon(kstar=None):\n",
    "\n",
    "    k_grid = np.linspace(0, 2.8, 10000)\n",
    "\n",
    "    fig, ax = plt.subplots(figsize=[11, 5])\n",
    "    ax.plot(k_grid, g_con(A, s, alpha, delta, k_grid), label='$g(k)$')\n",
    "    ax.plot(k_grid, 0 * k_grid, label=\"$k'=0$\")\n",
    "\n",
    "    if kstar:\n",
    "        fps = (kstar,)\n",
    "\n",
    "        ax.plot(fps, 0, 'go', ms=10, alpha=0.6)\n",
    "\n",
    "\n",
    "        ax.annotate(r'$k^* = (sA / \\delta)^{(1/(1-\\alpha))}$',\n",
    "                 xy=(kstar, 0),\n",
    "                 xycoords='data',\n",
    "                 xytext=(0, 60),\n",
    "                 textcoords='offset points',\n",
    "                 fontsize=12,\n",
    "                 arrowprops=dict(arrowstyle=\"->\"))\n",
    "\n",
    "    ax.legend(loc='lower left', fontsize=12)\n",
    "\n",
    "    ax.set_xlabel(\"$k$\",fontsize=10)\n",
    "    ax.set_ylabel(\"$k'$\", fontsize=10)\n",
    "\n",
    "    ax.set_xticks((0, 1, 2, 3))\n",
    "    ax.set_yticks((-0.3, 0, 0.3))\n",
    "\n",
    "    plt.show()"
   ]
  },
  {
   "cell_type": "code",
   "execution_count": null,
   "id": "d66af84f",
   "metadata": {
    "hide-output": false
   },
   "outputs": [],
   "source": [
    "kstar = ((s * A) / delta)**(1/(1 - alpha))\n",
    "plot_gcon(kstar)"
   ]
  },
  {
   "cell_type": "markdown",
   "id": "98f015f0",
   "metadata": {},
   "source": [
    "上图直观地展示了特定参数下的全局稳定性，但我们如何严格证明这一性质对于所有合理参数都成立呢？\n",
    "\n",
    "在离散时间模型中，要得到 $ k_t $ 的解析表达式相当困难。\n",
    "\n",
    "然而，转向连续时间框架可以大大简化分析。在连续时间下，我们能够推导出 $ k_t $ 的简洁表达式，从而清晰地描述资本存量随时间的演化路径。\n",
    "\n",
    "为此，我们引入变量替换 $ x_t := k_t^{1-\\alpha} $，这样 $ x'_t = (1-\\alpha) k_t^{-\\alpha} k'_t $。\n",
    "\n",
    "将连续时间的动态方程 $ k'_t = sAk_t^\\alpha - \\delta k_t $ 代入上式，我们得到一个线性微分方程\n",
    "\n",
    "\n",
    "<a id='equation-xsolow'></a>\n",
    "$$\n",
    "x'_t = (1-\\alpha) (sA - \\delta x_t) \\tag{24.4}\n",
    "$$\n",
    "\n",
    "这个方程是一个[线性常微分方程](https://baike.baidu.com/item/%E7%BA%BF%E6%80%A7%E5%B8%B8%E5%BE%AE%E5%88%86%E6%96%B9%E7%A8%8B/12609971)，其解为\n",
    "\\$$ x_t\n",
    "    = \\left(\n",
    "        k_0^{1-\\alpha} - \\frac{sA}{\\delta}\n",
    "      \\right)\n",
    "      \\mathrm{e}^{-\\delta (1-\\alpha) t} +\n",
    "    \\frac{sA}{\\delta} $\\$\n",
    "\n",
    "（你可以通过对 $ t $ 求导来确认这个函数 $ x_t $ 满足方程[(24.4)](#equation-xsolow)。）\n",
    "\n",
    "代换回 $ k_t $ 得到\n",
    "\n",
    "\n",
    "<a id='equation-ssivs'></a>\n",
    "$$\n",
    "k_t\n",
    "    =\n",
    "    \\left[\n",
    "        \\left(\n",
    "        k_0^{1-\\alpha} - \\frac{sA}{\\delta}\n",
    "      \\right)\n",
    "      \\mathrm{e}^{-\\delta (1-\\alpha) t} +\n",
    "    \\frac{sA}{\\delta}\n",
    "    \\right]^{1/(1-\\alpha)} \\tag{24.5}\n",
    "$$\n",
    "\n",
    "由于 $ \\delta > 0 $ 且 $ \\alpha \\in (0, 1) $，我们立即可以得出结论，当 $ t \\to \\infty $ 时，$ k_t \\to k^* $，且与 $ k_0 $ 无关。\n",
    "\n",
    "因此，全局稳定性成立。"
   ]
  },
  {
   "cell_type": "markdown",
   "id": "7a69fe2d",
   "metadata": {},
   "source": [
    "## 练习"
   ]
  },
  {
   "cell_type": "markdown",
   "id": "15e8f027",
   "metadata": {},
   "source": [
    "## Exercise 24.1\n",
    "\n",
    "绘制稳态下人均消费 $ c $ 作为储蓄率 $ s $ 的函数图，其中 $ 0 \\leq s \\leq 1 $。\n",
    "\n",
    "使用Cobb-Douglas生产函数 $ f(k) = A k^\\alpha $。\n",
    "\n",
    "设 $ A=2.0, \\alpha=0.3, $ 且 $ \\delta=0.5 $。\n",
    "\n",
    "此外，找出能使 $ c^*(s) $ 最大化的 $ s $ 的近似值，并在图中表示。"
   ]
  },
  {
   "cell_type": "markdown",
   "id": "5eefe375",
   "metadata": {},
   "source": [
    "## Solution to[ Exercise 24.1](https://quantecon.github.io/lecture-intro.zh-cn/#solow_ex1)\n",
    "\n",
    "在储蓄率 $ s $ 下的稳态消费由以下公式给出：\n",
    "\n",
    "$$\n",
    "c^*(s) = (1-s)f(k^*) = (1-s)A(k^*)^\\alpha\n",
    "$$"
   ]
  },
  {
   "cell_type": "code",
   "execution_count": null,
   "id": "ee979986",
   "metadata": {
    "hide-output": false
   },
   "outputs": [],
   "source": [
    "A = 2.0\n",
    "alpha = 0.3\n",
    "delta = 0.5"
   ]
  },
  {
   "cell_type": "code",
   "execution_count": null,
   "id": "53f68d8d",
   "metadata": {
    "hide-output": false
   },
   "outputs": [],
   "source": [
    "s_grid = np.linspace(0, 1, 1000)\n",
    "k_star = ((s_grid * A) / delta)**(1/(1 - alpha))\n",
    "c_star = (1 - s_grid) * A * k_star ** alpha"
   ]
  },
  {
   "cell_type": "markdown",
   "id": "bc75e729",
   "metadata": {},
   "source": [
    "让我们使用 [scipy.optimize.minimize_scalar](https://docs.scipy.org/doc/scipy/reference/generated/scipy.optimize.minimize_scalar.html#scipy.optimize.minimize_scalar) 来找出使 $ c^* $ 最大化的 $ s $ 值。\n",
    "\n",
    "我们将使用 $ -c^*(s) $，因为 `minimize_scalar` 函数是用来寻找最小值的。"
   ]
  },
  {
   "cell_type": "code",
   "execution_count": null,
   "id": "2c384333",
   "metadata": {
    "hide-output": false
   },
   "outputs": [],
   "source": [
    "from scipy.optimize import minimize_scalar"
   ]
  },
  {
   "cell_type": "code",
   "execution_count": null,
   "id": "ff9fa539",
   "metadata": {
    "hide-output": false
   },
   "outputs": [],
   "source": [
    "def calc_c_star(s):\n",
    "    k = ((s * A) / delta)**(1/(1 - alpha))\n",
    "    return - (1 - s) * A * k ** alpha"
   ]
  },
  {
   "cell_type": "code",
   "execution_count": null,
   "id": "9448c99f",
   "metadata": {
    "hide-output": false
   },
   "outputs": [],
   "source": [
    "return_values = minimize_scalar(calc_c_star, bounds=(0, 1))\n",
    "s_star_max = return_values.x\n",
    "c_star_max = -return_values.fun\n",
    "print(f\"Function is maximized at s = {round(s_star_max, 4)}\")"
   ]
  },
  {
   "cell_type": "code",
   "execution_count": null,
   "id": "44e26d94",
   "metadata": {
    "hide-output": false
   },
   "outputs": [],
   "source": [
    "x_s_max = np.array([s_star_max, s_star_max])\n",
    "y_s_max = np.array([0, c_star_max])\n",
    "\n",
    "fig, ax = plt.subplots(figsize=[11, 5])\n",
    "\n",
    "fps = (c_star_max,)\n",
    "\n",
    "# 用标记突出显示最大点\n",
    "ax.plot((s_star_max, ), (c_star_max,), 'go', ms=8, alpha=0.6)\n",
    "\n",
    "ax.annotate(r'$s^*$',\n",
    "         xy=(s_star_max, c_star_max),\n",
    "         xycoords='data',\n",
    "         xytext=(20, -50),\n",
    "         textcoords='offset points',\n",
    "         fontsize=12,\n",
    "         arrowprops=dict(arrowstyle=\"->\"))\n",
    "ax.plot(s_grid, c_star, label=r'$c*(s)$')\n",
    "ax.plot(x_s_max, y_s_max, alpha=0.5, ls='dotted')\n",
    "ax.set_xlabel(r'$s$')\n",
    "ax.set_ylabel(r'$c^*(s)$')\n",
    "ax.legend()\n",
    "\n",
    "plt.show()"
   ]
  },
  {
   "cell_type": "markdown",
   "id": "cef65598",
   "metadata": {},
   "source": [
    "我们也可以尝试用数学方法解决这个问题，即对 $ c^*(s) $ 进行微分，并使用 [sympy](https://www.sympy.org/en/index.html) 求解 $ \\frac{d}{ds}c^*(s)=0 $。"
   ]
  },
  {
   "cell_type": "code",
   "execution_count": null,
   "id": "9788b392",
   "metadata": {
    "hide-output": false
   },
   "outputs": [],
   "source": [
    "from sympy import solve, Symbol"
   ]
  },
  {
   "cell_type": "code",
   "execution_count": null,
   "id": "1abf0403",
   "metadata": {
    "hide-output": false
   },
   "outputs": [],
   "source": [
    "s_symbol = Symbol('s', real=True)\n",
    "k = ((s_symbol * A) / delta)**(1/(1 - alpha))\n",
    "c = (1 - s_symbol) * A * k ** alpha"
   ]
  },
  {
   "cell_type": "markdown",
   "id": "f2334ed6",
   "metadata": {},
   "source": [
    "让我们对 $ c $ 进行微分，并使用 [sympy.solve](https://docs.sympy.org/latest/modules/solvers/solvers.html#sympy.solvers.solvers.solve) 求解。"
   ]
  },
  {
   "cell_type": "code",
   "execution_count": null,
   "id": "a0cfb80f",
   "metadata": {
    "hide-output": false
   },
   "outputs": [],
   "source": [
    "# 使用 sympy 求解\n",
    "s_star = solve(c.diff())[0]\n",
    "print(f\"s_star = {s_star}\")"
   ]
  },
  {
   "cell_type": "markdown",
   "id": "c703e42e",
   "metadata": {},
   "source": [
    "顺便说一下，使人均消费的稳态水平最大化的储蓄率被称为[经济增长黄金律](https://baike.baidu.com/item/%E7%BB%8F%E6%B5%8E%E5%A2%9E%E9%95%BF%E9%BB%84%E9%87%91%E5%BE%8B/10376669)。"
   ]
  },
  {
   "cell_type": "markdown",
   "id": "4fa40b3e",
   "metadata": {},
   "source": [
    "## Exercise 24.2\n",
    "\n",
    "**随机生产率**\n",
    "\n",
    "为了使索洛-斯旺模型更贴近实际数据，我们需要考虑如何处理总量中的随机波动。\n",
    "\n",
    "这样做会带来多方面的影响，其中之一是消除了人均产出 $ y_t = A k^\\alpha_t $ 收敛到常数 $ y^* := A (k^*)^\\alpha $ 这一不切实际的预测。\n",
    "\n",
    "接下来，我们将转向对离散时间模型的讨论。\n",
    "\n",
    "一种方法是用某个随机序列 $ (A_t)_{t \\geq 1} $ 替代常数生产率。\n",
    "\n",
    "现在的动态方程变为\n",
    "\n",
    "\n",
    "<a id='equation-solowran'></a>\n",
    "$$\n",
    "k_{t+1} = s A_{t+1} f(k_t) + (1 - \\delta) k_t \\tag{24.6}\n",
    "$$\n",
    "\n",
    "我们假设 $ f $ 是Cobb–Douglas生产函数，且 $ (A_t) $ 是独立同分布的对数正态分布。\n",
    "\n",
    "现在，在确定性情况下获得的长期收敛性不再成立，因为系统在每个时间点都会受到新的冲击。\n",
    "\n",
    "考虑 $ A=2.0, s=0.6, \\alpha=0.3, $ 且 $ \\delta=0.5 $。\n",
    "\n",
    "生成并绘制时间序列 $ k_t $ 的图表。"
   ]
  },
  {
   "cell_type": "markdown",
   "id": "f9248328",
   "metadata": {},
   "source": [
    "## Solution to[ Exercise 24.2](https://quantecon.github.io/lecture-intro.zh-cn/#solow_ex2)\n",
    "\n",
    "让我们定义用于模拟的对数正态分布的常数和初始值"
   ]
  },
  {
   "cell_type": "code",
   "execution_count": null,
   "id": "b0c2c5a7",
   "metadata": {
    "hide-output": false
   },
   "outputs": [],
   "source": [
    "# 定义常数\n",
    "sig = 0.2\n",
    "mu = np.log(2) - sig**2 / 2\n",
    "A = 2.0\n",
    "s = 0.6\n",
    "alpha = 0.3\n",
    "delta = 0.5\n",
    "x0 = [.25, 3.25] # 用于模拟的初始值列表"
   ]
  },
  {
   "cell_type": "markdown",
   "id": "ebe23f1b",
   "metadata": {},
   "source": [
    "让我们定义函数 *k_next* 来找出 $ k $ 的下一个值"
   ]
  },
  {
   "cell_type": "code",
   "execution_count": null,
   "id": "495ebfc6",
   "metadata": {
    "hide-output": false
   },
   "outputs": [],
   "source": [
    "def lgnorm():\n",
    "    return np.exp(mu + sig * np.random.randn())\n",
    "\n",
    "def k_next(s, alpha, delta, k):\n",
    "    return lgnorm() * s * k**alpha + (1 - delta) * k"
   ]
  },
  {
   "cell_type": "code",
   "execution_count": null,
   "id": "1493054d",
   "metadata": {
    "hide-output": false
   },
   "outputs": [],
   "source": [
    "def ts_plot(x_values, ts_length):\n",
    "    fig, ax = plt.subplots(figsize=[11, 5])\n",
    "    ts = np.zeros(ts_length)\n",
    "\n",
    "    # 模拟并且绘制时间序列\n",
    "    for x_init in x_values:\n",
    "        ts[0] = x_init\n",
    "        for t in range(1, ts_length):\n",
    "            ts[t] = k_next(s, alpha, delta, ts[t-1])\n",
    "        ax.plot(np.arange(ts_length), ts, '-o', ms=4,\n",
    "                alpha=0.6, label=r'$k_0=%g$' %x_init)\n",
    "\n",
    "    ax.legend(loc='best', fontsize=10)\n",
    "\n",
    "    ax.set_xlabel(r'$t$', fontsize=12)\n",
    "    ax.set_ylabel(r'$k_t$', fontsize=12)\n",
    "\n",
    "\n",
    "    plt.show()"
   ]
  },
  {
   "cell_type": "code",
   "execution_count": null,
   "id": "e9e05ee6",
   "metadata": {
    "hide-output": false
   },
   "outputs": [],
   "source": [
    "ts_plot(x0, 50)"
   ]
  }
 ],
 "metadata": {
  "date": 1743998658.5053847,
  "filename": "solow.md",
  "kernelspec": {
   "display_name": "Python",
   "language": "python3",
   "name": "python3"
  },
  "title": "索洛-斯旺增长模型"
 },
 "nbformat": 4,
 "nbformat_minor": 5
}