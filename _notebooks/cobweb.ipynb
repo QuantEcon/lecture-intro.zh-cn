{
 "cells": [
  {
   "cell_type": "markdown",
   "id": "59ed2375",
   "metadata": {},
   "source": [
    "\n",
    "<a id='cobweb'></a>"
   ]
  },
  {
   "cell_type": "markdown",
   "id": "e08df310",
   "metadata": {},
   "source": [
    "# 蛛网模型\n",
    "\n",
    "蛛网模型是一个描述特定市场中价格和数量及其随时间演变的模型。"
   ]
  },
  {
   "cell_type": "markdown",
   "id": "70929c14",
   "metadata": {},
   "source": [
    "## 概述\n",
    "\n",
    "蛛网模型可以追溯到20世纪30年代，虽然简单，但它仍然具有重要意义，因为它展示了 *预期* 的重要性。\n",
    "\n",
    "为了说明模型如何运作以及为什么预期很重要，想象以下场景：\n",
    "\n",
    "有一个大豆市场，价格和交易数量取决于买家和卖家的选择。买家由需求曲线表示——在低价时购买更多，高价时购买更少。卖家有一条供应曲线——他们希望在高价时卖出更多，低价时卖出更少。\n",
    "\n",
    "然而，卖家（农民）需要时间来种植作物。假设现在价格很高，农民看到这个高价，可能预期高价会持续一段时间，会在许多田地里种植大豆。\n",
    "\n",
    "下一个周期，由此产生的高供应量充斥市场，导致价格下跌。看到这个低价，农民会减少大豆种植，限制供应，导致价格再次上涨。\n",
    "\n",
    "你可以想象这种动态如何导致价格和数量在持续时间上的周期性波动。\n",
    "\n",
    "蛛网模型将这些想法转化为方程，这样我们就可以尝试量化它们，并研究周期持续（或消失）的条件。\n",
    "\n",
    "在本讲座中，我们将在不同的生产者形成预期的假设下调查和模拟基本模型。\n",
    "\n",
    "我们的讨论和模拟借鉴了[Cars Hommes](https://www.uva.nl/en/profile/h/o/c.h.hommes/c.h.hommes.html)的[高质量讲座](https://comp-econ.org/CEF_2013/downloads/Complex%20Econ%20Systems%20Lecture%20II.pdf)。\n",
    "\n",
    "我们将使用以下导入。"
   ]
  },
  {
   "cell_type": "code",
   "execution_count": null,
   "id": "0469eb42",
   "metadata": {
    "hide-output": false
   },
   "outputs": [],
   "source": [
    "import numpy as np\n",
    "import matplotlib.pyplot as plt\n",
    "\n",
    "import matplotlib as mpl\n",
    "FONTPATH = \"fonts/SourceHanSerifSC-SemiBold.otf\"\n",
    "mpl.font_manager.fontManager.addfont(FONTPATH)\n",
    "plt.rcParams['font.family'] = ['Source Han Serif SC']"
   ]
  },
  {
   "cell_type": "markdown",
   "id": "472c2f99",
   "metadata": {},
   "source": [
    "## 历史\n",
    "\n",
    "关于蛛网循环的早期论文包括[[Waugh, 1964](https://quantecon.github.io/lecture-intro.zh-cn/zreferences.html#id279)]和[[Harlow, 1960](https://quantecon.github.io/lecture-intro.zh-cn/zreferences.html#id280)]。\n",
    "论文[[Harlow, 1960](https://quantecon.github.io/lecture-intro.zh-cn/zreferences.html#id280)]使用蛛网定理解释了1920年至1950年间美国猪肉价格的变化。\n",
    "下一个图表复制了该论文中图2的一部分，展示了年度猪肉价格。\n",
    "注意价格动态的周期性变化，这与上文讨论的大豆价格动态的周期性变化相匹配。"
   ]
  },
  {
   "cell_type": "code",
   "execution_count": null,
   "id": "d5645b81",
   "metadata": {
    "hide-output": false
   },
   "outputs": [],
   "source": [
    "hog_prices = [55, 57, 80, 70, 60, 65, 72, 65, 51, 49, 45, 80, 85,\n",
    "              78, 80, 68, 52, 65, 83, 78, 60, 62, 80, 87, 81, 70,\n",
    "              69, 65, 62, 85, 87, 65, 63, 75, 80, 62]\n",
    "years = np.arange(1924, 1960)\n",
    "fig, ax = plt.subplots()\n",
    "ax.plot(years, hog_prices, '-o', ms=4, label='猪肉价格')\n",
    "ax.set_xlabel('年')\n",
    "ax.set_ylabel('美元')\n",
    "ax.legend()\n",
    "ax.grid()\n",
    "plt.show()"
   ]
  },
  {
   "cell_type": "markdown",
   "id": "439e938c",
   "metadata": {},
   "source": [
    "## 模型\n",
    "\n",
    "让我们回到假设的大豆市场的讨论，其中价格由供需决定。\n",
    "\n",
    "我们假设大豆的需求由以下公式给出：\n",
    "\n",
    "$$\n",
    "D(p_t) = a - b p_t\n",
    "$$\n",
    "\n",
    "其中 $ a, b $ 是非负常数，$ p_t $ 是 $ t $ 时刻的现货（即当前市场）价格。\n",
    "（$ D(p_t) $ 是以某个固定单位表示的需求量，如千吨。）\n",
    "\n",
    "由于 $ t $ 时刻的大豆作物是在 $ t-1 $ 时种植的，$ t $ 时刻的大豆供应取决于 $ t $ 时刻的 *预期* 价格，我们用 $ p^e_t $ 表示。\n",
    "\n",
    "我们假设供应对预期价格是非线性的，并采用以下形式：\n",
    "\n",
    "$$\n",
    "S(p^e_t) = \\tanh(\\lambda(p^e_t - c)) + d\n",
    "$$\n",
    "\n",
    "其中 $ \\lambda $ 是正常数，$ c, d $ 是非负常数，$ \\tanh $ 是一种[双曲函数](https://en.wikipedia.org/wiki/Hyperbolic_functions)。\n",
    "\n",
    "让我们为特定参数值绘制供需图。\n",
    "\n",
    "首先，我们将参数存储在一个类中，并将上述函数定义为方法。"
   ]
  },
  {
   "cell_type": "code",
   "execution_count": null,
   "id": "71f2a36e",
   "metadata": {
    "hide-output": false
   },
   "outputs": [],
   "source": [
    "class Market:\n",
    "\n",
    "    def __init__(self,\n",
    "                 a=8,      # 需求参数\n",
    "                 b=1,      # 需求参数\n",
    "                 c=6,      # 供给参数\n",
    "                 d=1,      # 供给参数\n",
    "                 λ=2.0):   # 供给参数\n",
    "        self.a, self.b, self.c, self.d = a, b, c, d\n",
    "        self.λ = λ\n",
    "\n",
    "    def demand(self, p):\n",
    "        a, b = self.a, self.b\n",
    "        return a - b * p\n",
    "\n",
    "    def supply(self, p):\n",
    "        c, d, λ = self.c, self.d, self.λ\n",
    "        return np.tanh(λ * (p - c)) + d"
   ]
  },
  {
   "cell_type": "markdown",
   "id": "7d929111",
   "metadata": {},
   "source": [
    "现在让我们来绘制。"
   ]
  },
  {
   "cell_type": "code",
   "execution_count": null,
   "id": "f98c6640",
   "metadata": {
    "hide-output": false
   },
   "outputs": [],
   "source": [
    "p_grid = np.linspace(5, 8, 200)\n",
    "m = Market()\n",
    "fig, ax = plt.subplots()\n",
    "\n",
    "ax.plot(p_grid, m.demand(p_grid), label=\"$D$\")\n",
    "ax.plot(p_grid, m.supply(p_grid), label=\"$S$\")\n",
    "ax.set_xlabel(\"价格\")\n",
    "ax.set_ylabel(\"数量\")\n",
    "ax.legend()\n",
    "\n",
    "plt.show()"
   ]
  },
  {
   "cell_type": "markdown",
   "id": "3f3e7928",
   "metadata": {},
   "source": [
    "市场均衡要求供给等于需求，即\n",
    "\n",
    "$$\n",
    "a - b p_t = S(p^e_t)\n",
    "$$\n",
    "\n",
    "用$ p_t $重写可得\n",
    "\n",
    "$$\n",
    "p_t = - \\frac{1}{b} [S(p^e_t) - a]\n",
    "$$\n",
    "\n",
    "最后，为了完成这个模型，我们需要描述价格预期是如何形成的。\n",
    "我们假设t时刻的预期价格取决于过去的价格。\n",
    "特别地，我们假设\n",
    "\n",
    "\n",
    "<a id='equation-p-et'></a>\n",
    "$$\n",
    "p^e_t = f(p_{t-1}, p_{t-2}) \\tag{25.1}\n",
    "$$\n",
    "\n",
    "其中 $ f $ 是某个函数。\n",
    "因此，我们假设生产者预期t时刻的价格是滞后价格的某个函数，最多滞后2期。\n",
    "（当然，我们可以添加更多的滞后期，鼓励读者尝试这样的情况。）\n",
    "结合最后两个等式，我们得到价格的动态方程：\n",
    "\n",
    "\n",
    "<a id='equation-price-t'></a>\n",
    "$$\n",
    "p_t = - \\frac{1}{b} [ S(f(p_{t-1}, p_{t-2})) - a] \\tag{25.2}\n",
    "$$\n",
    "\n",
    "价格动态取决于参数值以及决定生产者如何形成预期的函数 $ f $。"
   ]
  },
  {
   "cell_type": "markdown",
   "id": "febbb341",
   "metadata": {},
   "source": [
    "## 简单预期\n",
    "\n",
    "为了进一步分析，我们需要指定函数 $ f $；也就是说，预期是如何形成的。\n",
    "\n",
    "让我们从简单预期开始，它指的是生产者预期下一期的现货价格将是当前期的价格。\n",
    "\n",
    "换句话说，\n",
    "\n",
    "$$\n",
    "p_t^e = p_{t-1}\n",
    "$$\n",
    "\n",
    "使用方程 [(25.2)](#equation-price-t)，我们得到\n",
    "\n",
    "$$\n",
    "p_t = - \\frac{1}{b} [ S(p_{t-1}) - a]\n",
    "$$\n",
    "\n",
    "我们可以将其写为\n",
    "\n",
    "$$\n",
    "p_t = g(p_{t-1})\n",
    "$$\n",
    "\n",
    "其中 $ g $ 是由以下定义的函数\n",
    "\n",
    "\n",
    "<a id='equation-def-g'></a>\n",
    "$$\n",
    "g(p) = - \\frac{1}{b} [ S(p) - a] \\tag{25.3}\n",
    "$$\n",
    "\n",
    "这里我们来表示函数$ g $。"
   ]
  },
  {
   "cell_type": "code",
   "execution_count": null,
   "id": "bd6d869e",
   "metadata": {
    "hide-output": false
   },
   "outputs": [],
   "source": [
    "def g(model, current_price):\n",
    "    \"\"\"\n",
    "  该函数在给定当前价格和市场模型的情况下找到下一期价格\n",
    "    \"\"\"\n",
    "    a, b = model.a, model.b\n",
    "    next_price = - (model.supply(current_price) - a) / b\n",
    "    return next_price"
   ]
  },
  {
   "cell_type": "markdown",
   "id": "3aebed2c",
   "metadata": {},
   "source": [
    "让我们尝试使用 45 度图来理解价格将如何演变，这是研究一维动态的工具。\n",
    "\n",
    "下面定义的函数 `plot45` 帮助我们绘制 45 度图。"
   ]
  },
  {
   "cell_type": "code",
   "execution_count": null,
   "id": "a1e5e275",
   "metadata": {
    "hide-output": false
   },
   "outputs": [],
   "source": [
    "def plot45(model, pmin, pmax, p0, num_arrows=5):\n",
    "    \"\"\"\n",
    "    绘制 45 度图的函数\n",
    "    参数\n",
    "    ==========\n",
    "    model: 市场模型\n",
    "    pmin: 价格下限\n",
    "    pmax: 价格上限\n",
    "    p0: 价格初始值（用于模拟价格）\n",
    "    num_arrows: 要绘制的模拟次数\n",
    "    \"\"\"\n",
    "    pgrid = np.linspace(pmin, pmax, 200)\n",
    "\n",
    "    fig, ax = plt.subplots()\n",
    "    ax.set_xlim(pmin, pmax)\n",
    "    ax.set_ylim(pmin, pmax)\n",
    "\n",
    "    hw = (pmax - pmin) * 0.01\n",
    "    hl = 2 * hw\n",
    "    arrow_args = dict(fc=\"k\", ec=\"k\", head_width=hw,\n",
    "            length_includes_head=True, lw=1,\n",
    "            alpha=0.6, head_length=hl)\n",
    "\n",
    "    ax.plot(pgrid, g(model, pgrid), 'b-',\n",
    "            lw=2, alpha=0.6, label='g')\n",
    "    ax.plot(pgrid, pgrid, lw=1, alpha=0.7, label=r'$45\\degree$')\n",
    "\n",
    "    x = p0\n",
    "    xticks = [pmin]\n",
    "    xtick_labels = [pmin]\n",
    "\n",
    "    for i in range(num_arrows):\n",
    "        if i == 0:\n",
    "            ax.arrow(x, 0.0, 0.0, g(model, x),\n",
    "                     **arrow_args)\n",
    "        else:\n",
    "            ax.arrow(x, x, 0.0, g(model, x) - x,\n",
    "                     **arrow_args)\n",
    "            ax.plot((x, x), (0, x), ls='dotted')\n",
    "\n",
    "        ax.arrow(x, g(model, x),\n",
    "                 g(model, x) - x, 0, **arrow_args)\n",
    "        xticks.append(x)\n",
    "        xtick_labels.append(r'$p_{}$'.format(str(i)))\n",
    "\n",
    "        x = g(model, x)\n",
    "        xticks.append(x)\n",
    "        xtick_labels.append(r'$p_{}$'.format(str(i+1)))\n",
    "        ax.plot((x, x), (0, x), '->', alpha=0.5, color='orange')\n",
    "\n",
    "    xticks.append(pmax)\n",
    "    xtick_labels.append(pmax)\n",
    "    ax.set_ylabel(r'$p_{t+1}$')\n",
    "    ax.set_xlabel(r'$p_t$')\n",
    "    ax.set_xticks(xticks)\n",
    "    ax.set_yticks(xticks)\n",
    "    ax.set_xticklabels(xtick_labels)\n",
    "    ax.set_yticklabels(xtick_labels)\n",
    "\n",
    "    bbox = (0., 1.04, 1., .104)\n",
    "    legend_args = {'bbox_to_anchor': bbox, 'loc': 'upper right'}\n",
    "\n",
    "    ax.legend(ncol=2, frameon=False, **legend_args, fontsize=14)\n",
    "    plt.show()"
   ]
  },
  {
   "cell_type": "markdown",
   "id": "be4a3999",
   "metadata": {},
   "source": [
    "现在我们可以设置一个市场并绘制 45 度图。"
   ]
  },
  {
   "cell_type": "code",
   "execution_count": null,
   "id": "cbf9eafd",
   "metadata": {
    "hide-output": false
   },
   "outputs": [],
   "source": [
    "m = Market()"
   ]
  },
  {
   "cell_type": "code",
   "execution_count": null,
   "id": "a84e17be",
   "metadata": {
    "hide-output": false
   },
   "outputs": [],
   "source": [
    "plot45(m, 0, 9, 2, num_arrows=3)"
   ]
  },
  {
   "cell_type": "markdown",
   "id": "aaf94188",
   "metadata": {},
   "source": [
    "图表显示了方程 [(25.3)](#equation-def-g) 中定义的函数 $ g $ 和 45 度线。\n",
    "\n",
    "横坐标为 $ p_t $ 。\n",
    "\n",
    "由于 $ p_{t+1} = g(p_t) $，我们让纵坐标为  $ p_{t+1} $ 并画出函数 $ g $ 的图形。\n",
    "\n",
    "显然，\n",
    "\n",
    "- 如果 $ g $ 在 $ p_t $ 处位于 45 度线上方，那么我们有 $ p_{t+1} > p_t $。  \n",
    "- 如果 $ g $ 在 $ p_t $ 处位于 45 度线下方，那么我们有 $ p_{t+1} < p_t $。  \n",
    "- 如果 $ g $ 在 $ p_t $ 处与 45 度线相交，那么我们有 $ p_{t+1} = p_t $，也就是说 $ p_t $ 是一个稳态。  \n",
    "\n",
    "\n",
    "考虑从 $ p_0 $ 开始的价格序列，如图所示。\n",
    "\n",
    "我们在纵轴上找到 $ p_1 $，然后使用 45 度线（在 45 度线上两个轴上的值相等）将其移到横轴上。\n",
    "\n",
    "然后从 $ p_1 $ 得到 $ p_2 $ 以此类推。\n",
    "\n",
    "我们可以看到一个循环的开始。\n",
    "\n",
    "为了确认这一点，让我们绘制一个时间序列图。"
   ]
  },
  {
   "cell_type": "code",
   "execution_count": null,
   "id": "887e7251",
   "metadata": {
    "hide-output": false
   },
   "outputs": [],
   "source": [
    "def ts_plot_price(model,             # 市场模型\n",
    "                  p0,                # 初始价格\n",
    "                  y_a=3, y_b= 12,    # 控制 y-轴\n",
    "                  ts_length=10):     # 时间序列的长度\n",
    "    \"\"\"\n",
    "    用来模拟和绘制价格时间序列的函数\n",
    "\n",
    "    \"\"\"\n",
    "    fig, ax = plt.subplots()\n",
    "    ax.set_xlabel(r'$t$', fontsize=12)\n",
    "    ax.set_ylabel(r'$p_t$', fontsize=12)\n",
    "    p = np.empty(ts_length)\n",
    "    p[0] = p0\n",
    "    for t in range(1, ts_length):\n",
    "        p[t] = g(model, p[t-1])\n",
    "    ax.plot(np.arange(ts_length),\n",
    "            p,\n",
    "            'bo-',\n",
    "            alpha=0.6,\n",
    "            lw=2,\n",
    "            label=r'$p_t$')\n",
    "    ax.legend(loc='best', fontsize=10)\n",
    "    ax.set_ylim(y_a, y_b)\n",
    "    ax.set_xticks(np.arange(ts_length))\n",
    "    plt.show()"
   ]
  },
  {
   "cell_type": "code",
   "execution_count": null,
   "id": "ff8996b7",
   "metadata": {
    "hide-output": false
   },
   "outputs": [],
   "source": [
    "ts_plot_price(m, 4, ts_length=15)"
   ]
  },
  {
   "cell_type": "markdown",
   "id": "3c619608",
   "metadata": {},
   "source": [
    "我们看到一个循环已经形成，而且这个循环是持续的。（您可以通过绘制更长时间范围的图表来确认这一点。）\n",
    "\n",
    "这个循环是”稳定的”，意味着从大多数起始条件开始，价格都会收敛到这个循环。\n",
    "例如，"
   ]
  },
  {
   "cell_type": "code",
   "execution_count": null,
   "id": "faabeed4",
   "metadata": {
    "hide-output": false
   },
   "outputs": [],
   "source": [
    "ts_plot_price(m, 10, ts_length=15)"
   ]
  },
  {
   "cell_type": "markdown",
   "id": "3dd5f6b6",
   "metadata": {},
   "source": [
    "## 适应性预期\n",
    "\n",
    "简单预期相当简单，也在我们发现的周期中起着重要的驱动作用。\n",
    "\n",
    "如果预期以不同的方式形成会怎样？\n",
    "\n",
    "接下来我们考虑适应性预期。\n",
    "\n",
    "这指的是生产者对下一期价格的预期是基于他们上一次对价格的预期和当前现货价格的加权平均。\n",
    "\n",
    "也就是说，\n",
    "\n",
    "\n",
    "<a id='equation-pe-adaptive'></a>\n",
    "$$\n",
    "p_t^e = \\alpha p_{t-1} + (1-\\alpha) p^e_{t-1}\n",
    "\\qquad (0 \\leq \\alpha \\leq 1) \\tag{25.4}\n",
    "$$\n",
    "\n",
    "另一种写法为\n",
    "\n",
    "\n",
    "<a id='equation-pe-adaptive-2'></a>\n",
    "$$\n",
    "p_t^e = p^e_{t-1} + \\alpha (p_{t-1} - p_{t-1}^e) \\tag{25.5}\n",
    "$$\n",
    "\n",
    "这个方程有助于说明预期会在以下情况下发生变化：\n",
    "\n",
    "1. 当上一期价格高于预期时，预期上调  \n",
    "1. 当上一期价格低于预期时，预期下调  \n",
    "\n",
    "\n",
    "使用[(25.4)](#equation-pe-adaptive)，我们得到以下动态方程：\n",
    "\n",
    "$$\n",
    "p_t = - \\frac{1}{b} [ S(\\alpha p_{t-1} + (1-\\alpha) p^e_{t-1}) - a]\n",
    "$$\n",
    "\n",
    "让我们尝试模拟价格，并观察在不同$ \\alpha $值下的动态变化。"
   ]
  },
  {
   "cell_type": "code",
   "execution_count": null,
   "id": "df0356b8",
   "metadata": {
    "hide-output": false
   },
   "outputs": [],
   "source": [
    "def find_next_price_adaptive(model, curr_price_exp):\n",
    "    \"\"\"\n",
    "   该函数是在给定当前价格预期和市场模型的情况下计算下一期的价格。\n",
    "    \"\"\"\n",
    "    return - (model.supply(curr_price_exp) - model.a) / model.b"
   ]
  },
  {
   "cell_type": "markdown",
   "id": "c6f0907d",
   "metadata": {},
   "source": [
    "下面的函数将在不同的$ \\alpha $值下绘制适应性预期下的价格动态。"
   ]
  },
  {
   "cell_type": "code",
   "execution_count": null,
   "id": "4c41b81a",
   "metadata": {
    "hide-output": false
   },
   "outputs": [],
   "source": [
    "def ts_price_plot_adaptive(model, p0, ts_length=10, α=[1.0, 0.9, 0.75]):\n",
    "    fig, axs = plt.subplots(1, len(α), figsize=(12, 5))\n",
    "    for i_plot, a in enumerate(α):\n",
    "        pe_last = p0\n",
    "        p_values = np.empty(ts_length)\n",
    "        p_values[0] = p0\n",
    "        for i in range(1, ts_length):\n",
    "            p_values[i] = find_next_price_adaptive(model, pe_last)\n",
    "            pe_last = a*p_values[i] + (1 - a)*pe_last\n",
    "\n",
    "        axs[i_plot].plot(np.arange(ts_length), p_values)\n",
    "        axs[i_plot].set_title(r'$\\alpha={}$'.format(a))\n",
    "        axs[i_plot].set_xlabel('t')\n",
    "        axs[i_plot].set_ylabel('价格')\n",
    "    plt.show()"
   ]
  },
  {
   "cell_type": "markdown",
   "id": "ffc1bc3f",
   "metadata": {},
   "source": [
    "让我们调用这个函数，初始价格设为$ p_0 = 5 $。"
   ]
  },
  {
   "cell_type": "code",
   "execution_count": null,
   "id": "0bd3e634",
   "metadata": {
    "hide-output": false
   },
   "outputs": [],
   "source": [
    "ts_price_plot_adaptive(m, 5, ts_length=30)"
   ]
  },
  {
   "cell_type": "markdown",
   "id": "6d892bd6",
   "metadata": {},
   "source": [
    "请注意，如果$ \\alpha=1 $，那么适应性预期就等同于简单预期。\n",
    "减小$ \\alpha $的值会使更多权重转移到先前的预期上，这会稳定预期价格。\n",
    "这种增加的稳定性可以在图表中看出。"
   ]
  },
  {
   "cell_type": "markdown",
   "id": "6d32cc57",
   "metadata": {},
   "source": [
    "## 练习"
   ]
  },
  {
   "cell_type": "markdown",
   "id": "5ef10e4f",
   "metadata": {},
   "source": [
    "## Exercise 25.1\n",
    "\n",
    "使用默认的`Market`类和简单预期，绘制一个供给（而不是价格）的时间序列模拟。\n",
    "\n",
    "特别展示出供给也会循环变化。"
   ]
  },
  {
   "cell_type": "markdown",
   "id": "68eb5119",
   "metadata": {},
   "source": [
    "## Solution to[ Exercise 25.1](https://quantecon.github.io/lecture-intro.zh-cn/#cobweb_ex1)"
   ]
  },
  {
   "cell_type": "code",
   "execution_count": null,
   "id": "ccd2e166",
   "metadata": {
    "hide-output": false
   },
   "outputs": [],
   "source": [
    "def ts_plot_supply(model, p0, ts_length=10):\n",
    "    \"\"\"\n",
    "    给定初始价格，模拟和绘制供给函数的函数。\n",
    "    \"\"\"\n",
    "    pe_last = p0\n",
    "    s_values = np.empty(ts_length)\n",
    "    for i in range(ts_length):\n",
    "        # 库存数量\n",
    "        s_values[i] = model.supply(pe_last)\n",
    "        # 更新价格\n",
    "        pe_last = - (s_values[i] - model.a) / model.b\n",
    "\n",
    "\n",
    "    fig, ax = plt.subplots()\n",
    "    ax.plot(np.arange(ts_length),\n",
    "            s_values,\n",
    "            'bo-',\n",
    "            alpha=0.6,\n",
    "            lw=2,\n",
    "            label=r'supply')\n",
    "\n",
    "    ax.legend(loc='best', fontsize=10)\n",
    "    ax.set_xticks(np.arange(ts_length))\n",
    "    ax.set_xlabel(\"时间\")\n",
    "    ax.set_ylabel(\"数量\")\n",
    "    plt.show()"
   ]
  },
  {
   "cell_type": "code",
   "execution_count": null,
   "id": "733f97fa",
   "metadata": {
    "hide-output": false
   },
   "outputs": [],
   "source": [
    "m = Market()\n",
    "ts_plot_supply(m, 5, 15)"
   ]
  },
  {
   "cell_type": "markdown",
   "id": "809b1678",
   "metadata": {},
   "source": [
    "## Exercise 25.2\n",
    "\n",
    "**回顾平均预期**\n",
    "\n",
    "回顾平均预期是指生产者对下一期价格的预期为他们最后一次猜测和倒数第二次猜测的线性组合。\n",
    "\n",
    "也就是说，\n",
    "\n",
    "\n",
    "<a id='equation-pe-blae'></a>\n",
    "$$\n",
    "p_t^e = \\alpha p_{t-1} + (1-\\alpha) p_{t-2} \\tag{25.6}\n",
    "$$\n",
    "\n",
    "模拟并绘制 $ \\alpha \\in \\{0.1, 0.3, 0.5, 0.8\\} $ 时的价格动态，其中 $ p_0=1 $ 且 $ p_1=2.5 $。"
   ]
  },
  {
   "cell_type": "markdown",
   "id": "34ca360f",
   "metadata": {},
   "source": [
    "## Solution to[ Exercise 25.2](https://quantecon.github.io/lecture-intro.zh-cn/#cobweb_ex2)"
   ]
  },
  {
   "cell_type": "code",
   "execution_count": null,
   "id": "30f8c009",
   "metadata": {
    "hide-output": false
   },
   "outputs": [],
   "source": [
    "def find_next_price_blae(model, curr_price_exp):\n",
    "    \"\"\"\n",
    "    给定当前价格预期和市场模型，找出下一个价格的函数。\n",
    "    \"\"\"\n",
    "    return - (model.supply(curr_price_exp) - model.a) / model.b"
   ]
  },
  {
   "cell_type": "code",
   "execution_count": null,
   "id": "041f2c38",
   "metadata": {
    "hide-output": false
   },
   "outputs": [],
   "source": [
    "def ts_plot_price_blae(model, p0, p1, alphas, ts_length=15):\n",
    "    \"\"\"\n",
    "   使用回顾性平均预期模拟并绘制价格时间序列的函数。\n",
    "    \"\"\"\n",
    "    fig, axes = plt.subplots(len(alphas), 1, figsize=(8, 16))\n",
    "\n",
    "    for ax, a in zip(axes.flatten(), alphas):\n",
    "        p = np.empty(ts_length)\n",
    "        p[0] = p0\n",
    "        p[1] = p1\n",
    "        for t in range(2, ts_length):\n",
    "            pe = a*p[t-1] + (1 - a)*p[t-2]\n",
    "            p[t] = -(model.supply(pe) - model.a) / model.b\n",
    "        ax.plot(np.arange(ts_length),\n",
    "                p,\n",
    "                'o-',\n",
    "                alpha=0.6,\n",
    "                label=r'$\\alpha={}$'.format(a))\n",
    "        ax.legend(loc='best', fontsize=10)\n",
    "        ax.set_xlabel(r'$t$', fontsize=12)\n",
    "        ax.set_ylabel(r'$p_t$', fontsize=12)\n",
    "    plt.show()"
   ]
  },
  {
   "cell_type": "code",
   "execution_count": null,
   "id": "10cc5eb2",
   "metadata": {
    "hide-output": false
   },
   "outputs": [],
   "source": [
    "m = Market()\n",
    "ts_plot_price_blae(m, \n",
    "                   p0=5, \n",
    "                   p1=6, \n",
    "                   alphas=[0.1, 0.3, 0.5, 0.8], \n",
    "                   ts_length=20)"
   ]
  }
 ],
 "metadata": {
  "date": 1741394696.0315285,
  "filename": "cobweb.md",
  "kernelspec": {
   "display_name": "Python",
   "language": "python3",
   "name": "python3"
  },
  "title": "蛛网模型"
 },
 "nbformat": 4,
 "nbformat_minor": 5
}