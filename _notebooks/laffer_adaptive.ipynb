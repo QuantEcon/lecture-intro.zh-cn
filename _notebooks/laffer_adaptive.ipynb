{
 "cells": [
  {
   "cell_type": "markdown",
   "id": "59f59419",
   "metadata": {},
   "source": [
    "# 拉弗曲线与自适应预期"
   ]
  },
  {
   "cell_type": "markdown",
   "id": "7a866f47",
   "metadata": {},
   "source": [
    "## 概览\n",
    "\n",
    "本讲座研究了在通货膨胀税率下的静态和动态**拉弗曲线**，其采用的模型为此讲座[通过货币资助的政府赤字和价格水平](https://quantecon.github.io/lecture-intro.zh-cn/money_inflation.html)中研究的非线性版本。\n",
    "\n",
    "与讲座[通过货币资助的政府赤字和价格水平](https://quantecon.github.io/lecture-intro.zh-cn/money_inflation.html)中一样，此讲座使用了[[Cagan, 1956](https://quantecon.github.io/lecture-intro.zh-cn/zreferences.html#id112)]在其经典论文中使用的对数线性货币需求函数版本，而不是此讲座[通过货币资助的政府赤字和价格水平](https://quantecon.github.io/lecture-intro.zh-cn/money_inflation.html)中使用的线性需求函数。\n",
    "\n",
    "但现在，我们将不采用’‘理性预期’‘的’‘完全预见’‘形式，而是采用[[Cagan, 1956](https://quantecon.github.io/lecture-intro.zh-cn/zreferences.html#id112)]和[[Friedman, 1956](https://quantecon.github.io/lecture-intro.zh-cn/zreferences.html#id183)]使用的’‘自适应预期’’假设。\n",
    "\n",
    "这意味着，我们不再假设预期通货膨胀$ \\pi_t^* $是由”完全预见”或”理性预期”假设描述\n",
    "\n",
    "$$\n",
    "\\pi_t^* = p_{t+1} - p_t\n",
    "$$\n",
    "\n",
    "我们在讲座[通过货币资助的政府赤字和价格水平](https://quantecon.github.io/lecture-intro.zh-cn/money_inflation.html)和讲座[通货膨胀税拉弗曲线](https://quantecon.github.io/lecture-intro.zh-cn/money_inflation_nonlinear.html)中采用的假设，现在我们假设$ \\pi_t^* $由下面报告的自适应预期假设[(31.4)](#equation-eq-adaptex)决定。\n",
    "\n",
    "我们将发现，以这种方式改变关于预期形成的假设会改变我们的一些发现并保持其他发现不变。特别是，我们将发现\n",
    "\n",
    "- 用自适应预期替换理性预期不改变两个静态通货膨胀率，但是$ \\ldots $  \n",
    "- 它通过使系统通常收敛于**较低**的静态通货膨胀率来逆转不正常的动态  \n",
    "- 出现了更加合理的比较动态结果，现在通过运行**更低**的政府赤字可以**降低**通货膨胀  \n",
    "\n",
    "\n",
    "这些更合理的比较动态是建立在“老派信仰”上的，即“通货膨胀总是且处处由政府赤字引起”。\n",
    "\n",
    "[[Bruno and Fischer, 1990](https://quantecon.github.io/lecture-intro.zh-cn/zreferences.html#id296)]研究了这些问题。\n",
    "\n",
    "他们的目的是通过放弃理性预期，而假设人们根据下面描述的“自适应预期”方案[(31.4)](#equation-eq-adaptex)来形成对未来通货膨胀率的预期，从而逆转他们认为在理性预期（即在这种情况下的完全预见）下模型的违反直觉的预测。\n",
    "\n",
    ">**Note**\n",
    ">\n",
    ">{sargeant1989least} 研究了另一种选择静态均衡的方法，涉及用通过最小二乘回归学习的模型替换理性预期。\n",
    "{sargeant2009conquest} 和 {marcet2003recurrent} 扩展了这项工作，并将其应用于研究拉丁美洲反复出现的高通胀情节。"
   ]
  },
  {
   "cell_type": "markdown",
   "id": "a5ac32bd",
   "metadata": {},
   "source": [
    "## 模型\n",
    "\n",
    "设\n",
    "\n",
    "- $ m_t $ 为时间 $ t $ 初始的货币供应量对数  \n",
    "- $ p_t $ 为时间 $ t $ 的价格水平对数  \n",
    "- $ \\pi_t^* $ 为公众对于时间 $ t $ 到 $ t+1 $ 之间的通胀率的预期  \n",
    "\n",
    "\n",
    "货币供应量的动态方程是\n",
    "\n",
    "\n",
    "<a id='equation-eq-ada-msupply'></a>\n",
    "$$\n",
    "\\exp(m_{t+1}) - \\exp(m_t) = g \\exp(p_t) \\tag{31.1}\n",
    "$$\n",
    "\n",
    "其中 $ g $ 是政府支出中通过印制货币来融资的部分。\n",
    "\n",
    "注意方程 [(31.1)](#equation-eq-ada-msupply) 暗示\n",
    "\n",
    "\n",
    "<a id='equation-eq-ada-msupply2'></a>\n",
    "$$\n",
    "m_{t+1} = \\log[ \\exp(m_t) + g \\exp(p_t)] \\tag{31.2}\n",
    "$$\n",
    "\n",
    "货币需求函数是\n",
    "\n",
    "\n",
    "<a id='equation-eq-ada-mdemand'></a>\n",
    "$$\n",
    "m_{t+1} - p_t = -\\alpha \\pi_t^* \\tag{31.3}\n",
    "$$\n",
    "\n",
    "其中 $ \\alpha \\geq 0 $。\n",
    "\n",
    "通胀预期受控于\n",
    "\n",
    "\n",
    "<a id='equation-eq-adaptex'></a>\n",
    "$$\n",
    "\\pi_{t}^* = (1-\\delta) (p_t - p_{t-1}) + \\delta \\pi_{t-1}^* \\tag{31.4}\n",
    "$$\n",
    "\n",
    "其中 $ \\delta \\in (0,1) $"
   ]
  },
  {
   "cell_type": "markdown",
   "id": "c8a10bbc",
   "metadata": {},
   "source": [
    "## 计算平衡序列\n",
    "\n",
    "通过将[(31.3)](#equation-eq-ada-mdemand) 和 [(31.2)](#equation-eq-ada-msupply2) 提供的 $ m_{t+1} $ 表达式与使用方程 [(31.4)](#equation-eq-adaptex) 消除 $ \\pi_t^* $，得到下列 $ p_t $ 的方程：\n",
    "\n",
    "\n",
    "<a id='equation-eq-pequation'></a>\n",
    "$$\n",
    "\\log[ \\exp(m_t) + g \\exp(p_t)] - p_t = -\\alpha [(1-\\delta) (p_t - p_{t-1}) + \\delta \\pi_{t-1}^*] \\tag{31.5}\n",
    "$$\n",
    "\n",
    "**伪代码**\n",
    "\n",
    "这是我们算法的伪代码。\n",
    "\n",
    "从时间 $ 0 $ 开始，初始条件为 $ (m_0, \\pi_{-1}^*, p_{-1}) $，对于每个 $ t \\geq 0 $ 按顺序执行以下步骤：\n",
    "\n",
    "- 解方程 [(31.5)](#equation-eq-pequation) 以求得 $ p_t $  \n",
    "- 解方程 [(31.4)](#equation-eq-adaptex) 以求得 $ \\pi_t^* $  \n",
    "- 解方程 [(31.2)](#equation-eq-ada-msupply2) 以求得 $ m_{t+1} $  \n",
    "\n",
    "\n",
    "这完成了算法。"
   ]
  },
  {
   "cell_type": "markdown",
   "id": "11cc3e2d",
   "metadata": {},
   "source": [
    "## 声明或猜想\n",
    "\n",
    "结果表明：\n",
    "\n",
    "- 如果存在，限制值 $ \\overline \\pi $ 和 $ \\overline \\mu $ 将是相等的  \n",
    "- 如果存在限制值，有两种可能的限制值，一个高，一个低  \n",
    "- 与讲座[通货膨胀税拉弗曲线](https://quantecon.github.io/lecture-intro.zh-cn/money_inflation_nonlinear.html)中的结果不同，对于几乎所有初始对数价格水平和预期通货膨胀率 $ p_0, \\pi_{t}^* $，限制 $ \\overline \\pi = \\overline \\mu $ 是**较低**的稳态值  \n",
    "- 对于这两个可能的限制值 $ \\overline \\pi $，有一个唯一的初始对数价格水平 $ p_0 $，意味着 $ \\pi_t = \\mu_t = \\overline \\mu $ 对所有 $ t \\geq 0 $  \n",
    "  - 这个唯一的初始对数价格水平解决 $ \\log(\\exp(m_0) + g \\exp(p_0)) - p_0 = - \\alpha \\overline \\pi $  \n",
    "  - 上述关于 $ p_0 $ 的方程来自于 $ m_1 - p_0 = - \\alpha \\overline \\pi $  "
   ]
  },
  {
   "cell_type": "markdown",
   "id": "d4f40b7d",
   "metadata": {},
   "source": [
    "## 通货膨胀率的限制值\n",
    "\n",
    "正如我们在早前的讲座 [通货膨胀税拉弗曲线](https://quantecon.github.io/lecture-intro.zh-cn/money_inflation_nonlinear.html) 中讨论的，我们可以通过研究稳态劳动曲线来计算 $ \\bar \\pi $ 的两个潜在的限制值。\n",
    "\n",
    "因此，在一个**稳态**中\n",
    "\n",
    "$$\n",
    "m_{t+1} - m_t = p_{t+1} - p_t =  x \\quad \\forall t ,\n",
    "$$\n",
    "\n",
    "其中 $ x > 0 $ 是货币供应量和价格水平的对数的共同增长率。\n",
    "\n",
    "几行代数可以得出满足 $ x $ 的以下方程\n",
    "\n",
    "\n",
    "<a id='equation-eq-ada-steadypi'></a>\n",
    "$$\n",
    "\\exp(-\\alpha x) - \\exp(-(1 + \\alpha) x) = g \\tag{31.6}\n",
    "$$\n",
    "\n",
    "我们要求\n",
    "\n",
    "\n",
    "<a id='equation-eq-ada-revmax'></a>\n",
    "$$\n",
    "g \\leq \\max_{x: x \\geq 0} \\exp(-\\alpha x) - \\exp(-(1 + \\alpha) x) , \\tag{31.7}\n",
    "$$\n",
    "\n",
    "这样就可以通过印钞来财务支持 $ g $。\n",
    "\n",
    "[(31.6)](#equation-eq-ada-steadypi) 的左侧是通过印钞筹集的稳定状态收入。\n",
    "\n",
    "[(31.6)](#equation-eq-ada-steadypi) 的右侧是政府通过印钞筹集的 $ t $ 时刻的商品数量。\n",
    "\n",
    "很快我们将绘制方程 [(31.6)](#equation-eq-ada-steadypi) 的左右两侧。\n",
    "\n",
    "但首先，我们将编写代码来计算稳态的\n",
    "$ \\bar \\pi $。\n",
    "\n",
    "让我们开始导入一些库"
   ]
  },
  {
   "cell_type": "code",
   "execution_count": null,
   "id": "e7334ff4",
   "metadata": {
    "hide-output": false
   },
   "outputs": [],
   "source": [
    "from collections import namedtuple\n",
    "import numpy as np\n",
    "import matplotlib.pyplot as plt\n",
    "import matplotlib as mpl\n",
    "from matplotlib.ticker import MaxNLocator\n",
    "from matplotlib.cm import get_cmap\n",
    "from matplotlib.colors import to_rgba\n",
    "import matplotlib\n",
    "from scipy.optimize import root, fsolve\n",
    "\n",
    "FONTPATH = \"fonts/SourceHanSerifSC-SemiBold.otf\"\n",
    "mpl.font_manager.fontManager.addfont(FONTPATH)\n",
    "plt.rcParams['font.family'] = ['Source Han Serif SC']"
   ]
  },
  {
   "cell_type": "markdown",
   "id": "de5dcd38",
   "metadata": {},
   "source": [
    "让我们创建一个 `namedtuple` 来存储模型的参数"
   ]
  },
  {
   "cell_type": "code",
   "execution_count": null,
   "id": "75d73a54",
   "metadata": {
    "hide-output": false
   },
   "outputs": [],
   "source": [
    "LafferAdaptive = namedtuple('LafferAdaptive', \n",
    "                        [\"m0\",  # t=0时货币供应量的对数\n",
    "                         \"α\",   # 货币需求的敏感性\n",
    "                         \"g\",   # 政府支出\n",
    "                         \"δ\"])\n",
    "\n",
    "# 创建一个 Cagan Laffer 模型\n",
    "def create_model(α=0.5, m0=np.log(100), g=0.35, δ=0.9):\n",
    "    return LafferAdaptive(α=α, m0=m0, g=g, δ=δ)\n",
    "\n",
    "model = create_model()"
   ]
  },
  {
   "cell_type": "markdown",
   "id": "25240e5a",
   "metadata": {},
   "source": [
    "现在我们编写计算稳态 $ \\bar \\pi $ 的代码。"
   ]
  },
  {
   "cell_type": "code",
   "execution_count": null,
   "id": "74b65a34",
   "metadata": {
    "hide-output": false
   },
   "outputs": [],
   "source": [
    "# 定义 π_bar 的计算公式\n",
    "def solve_π(x, α, g):\n",
    "    return np.exp(-α * x) - np.exp(-(1 + α) * x) - g\n",
    "\n",
    "def solve_π_bar(model, x0):\n",
    "    π_bar = fsolve(solve_π, x0=x0, xtol=1e-10, args=(model.α, model.g))[0]\n",
    "    return π_bar\n",
    "\n",
    "# 解两个稳态的 π\n",
    "π_l = solve_π_bar(model, x0=0.6)\n",
    "π_u = solve_π_bar(model, x0=3.0)\n",
    "print(f'两个稳态的π是: {π_l, π_u}')"
   ]
  },
  {
   "cell_type": "markdown",
   "id": "679bf7da",
   "metadata": {},
   "source": [
    "我们找到了两个稳态 $ \\bar \\pi $ 值。"
   ]
  },
  {
   "cell_type": "markdown",
   "id": "02d35e39",
   "metadata": {},
   "source": [
    "## 稳态拉弗曲线\n",
    "\n",
    "下图绘制了稳态拉弗曲线以及两个稳定的通货膨胀率。"
   ]
  },
  {
   "cell_type": "code",
   "execution_count": null,
   "id": "2254b29f",
   "metadata": {
    "hide-output": false
   },
   "outputs": [],
   "source": [
    "def compute_seign(x, α):\n",
    "    return np.exp(-α * x) - np.exp(-(1 + α) * x) \n",
    "\n",
    "def plot_laffer(model, πs):\n",
    "    α, g = model.α, model.g\n",
    "    \n",
    "    # 生成π值\n",
    "    x_values = np.linspace(0, 5, 1000)\n",
    "\n",
    "    # 计算对应的铸币税值\n",
    "    y_values = compute_seign(x_values, α)\n",
    "\n",
    "    # 绘制函数图形\n",
    "    plt.plot(x_values, y_values, \n",
    "            label=f'$exp((-{α})x) - exp(- (1- {α}) x)$')\n",
    "    for π, label in zip(πs, [r'$\\pi_l$', r'$\\pi_u$']):\n",
    "        plt.text(π, plt.gca().get_ylim()[0]*2, \n",
    "                 label, horizontalalignment='center',\n",
    "                 color='brown', size=10)\n",
    "        plt.axvline(π, color='brown', linestyle='--')\n",
    "    plt.axhline(g, color='red', linewidth=0.5, \n",
    "                linestyle='--', label='g')\n",
    "    plt.xlabel(r'$\\pi$')\n",
    "    plt.ylabel('铸币税')\n",
    "    plt.legend()\n",
    "    plt.grid(True)\n",
    "    plt.show()\n",
    "\n",
    "# 稳态拉弗曲线\n",
    "plot_laffer(model, (π_l, π_u))"
   ]
  },
  {
   "cell_type": "markdown",
   "id": "0da58ca2",
   "metadata": {},
   "source": [
    "## 相关的初始价格水平\n",
    "\n",
    "现在我们掌握了两个可能的稳定状态，我们可以计算两个初始对数价格水平 $ p_{-1} $，作为初始条件，这意味着对于所有 $ t \\geq 0 $，$ \\pi_t = \\bar \\pi $。\n",
    "\n",
    "特别是，为了启动动态劳弗曲线动态的固定点，我们设置\n",
    "\n",
    "$$\n",
    "p_{-1} = m_0 + \\alpha \\pi^*\n",
    "$$"
   ]
  },
  {
   "cell_type": "code",
   "execution_count": null,
   "id": "f11de1a0",
   "metadata": {
    "hide-output": false
   },
   "outputs": [],
   "source": [
    "def solve_p_init(model, π_star):\n",
    "    m0, α = model.m0, model.α\n",
    "    return m0 + α*π_star\n",
    "\n",
    "# 计算与 π_l 和 π_u 相关联的两个初始价格水平\n",
    "p_l, p_u = map(lambda π: solve_p_init(model, π), (π_l, π_u))\n",
    "print('相关的初始 p_{-1}', f'为: {p_l, p_u}')"
   ]
  },
  {
   "cell_type": "markdown",
   "id": "3cbf813a",
   "metadata": {},
   "source": [
    "### 验证\n",
    "\n",
    "首先，我们编写一些代码来验证，如果我们适当初始化 $ \\pi_{-1}^*,p_{-1} $，则通货膨胀率 $ \\pi_t $ 对于所有 $ t \\geq 0 $ 将保持恒定（取决于初始条件，可以是 $ \\pi_u $ 或 $ \\pi_l $）\n",
    "\n",
    "以下代码进行了验证。"
   ]
  },
  {
   "cell_type": "code",
   "execution_count": null,
   "id": "e53e4e29",
   "metadata": {
    "hide-output": false
   },
   "outputs": [],
   "source": [
    "def solve_laffer_adapt(p_init, π_init, model, num_steps):\n",
    "    m0, α, δ, g = model.m0, model.α, model.δ, model.g\n",
    "    \n",
    "    m_seq = np.nan * np.ones(num_steps+1) \n",
    "    π_seq = np.nan * np.ones(num_steps) \n",
    "    p_seq = np.nan * np.ones(num_steps)\n",
    "    μ_seq = np.nan * np.ones(num_steps) \n",
    "    \n",
    "    m_seq[1] = m0\n",
    "    π_seq[0] = π_init\n",
    "    p_seq[0] = p_init\n",
    "        \n",
    "    for t in range(1, num_steps):\n",
    "        # 解决 p_t\n",
    "        def p_t(pt):\n",
    "            return np.log(np.exp(m_seq[t]) + g * np.exp(pt)) - pt + α * ((1-δ)*(pt - p_seq[t-1]) + δ*π_seq[t-1])\n",
    "        \n",
    "        p_seq[t] = root(fun=p_t, x0=p_seq[t-1]).x[0]\n",
    "        \n",
    "        # 解决 π_t\n",
    "        π_seq[t] = (1-δ) * (p_seq[t]-p_seq[t-1]) + δ*π_seq[t-1]\n",
    "        \n",
    "        # 解决 m_t\n",
    "        m_seq[t+1] = np.log(np.exp(m_seq[t]) + g*np.exp(p_seq[t]))\n",
    "        \n",
    "        # 解决 μ_t\n",
    "        μ_seq[t] = m_seq[t+1] - m_seq[t]\n",
    "    \n",
    "    return π_seq, μ_seq, m_seq, p_seq"
   ]
  },
  {
   "cell_type": "markdown",
   "id": "c95e5651",
   "metadata": {},
   "source": [
    "计算从 $ p_{-1} $ 开始，与 $ \\pi_l $ 相关联的极限值"
   ]
  },
  {
   "cell_type": "code",
   "execution_count": null,
   "id": "a31aa71a",
   "metadata": {
    "hide-output": false
   },
   "outputs": [],
   "source": [
    "π_seq, μ_seq, m_seq, p_seq = solve_laffer_adapt(p_l, π_l, model, 50)\n",
    "\n",
    "# 检查稳态 m_{t+1} - m_t 和 p_{t+1} - p_t\n",
    "print('m_{t+1} - m_t:', m_seq[-1] - m_seq[-2])\n",
    "print('p_{t+1} - p_t:', p_seq[-1] - p_seq[-2])\n",
    "\n",
    "# 检查 exp(-αx) - exp(-(1 + α)x) 是否等于 g\n",
    "eq_g = lambda x: np.exp(-model.α * x) - np.exp(-(1 + model.α) * x)\n",
    "\n",
    "print('eq_g == g:', np.isclose(eq_g(m_seq[-1] - m_seq[-2]), model.g))"
   ]
  },
  {
   "cell_type": "markdown",
   "id": "32580764",
   "metadata": {},
   "source": [
    "计算从 $ p_{-1} $ 开始，与 $ \\pi_u $ 相关联的极限值"
   ]
  },
  {
   "cell_type": "code",
   "execution_count": null,
   "id": "a86f6583",
   "metadata": {
    "hide-output": false
   },
   "outputs": [],
   "source": [
    "π_seq, μ_seq, m_seq, p_seq = solve_laffer_adapt(p_u, π_u, model, 50)\n",
    "\n",
    "# 检查稳态 m_{t+1} - m_t 和 p_{t+1} - p_t\n",
    "print('m_{t+1} - m_t:', m_seq[-1] - m_seq[-2])\n",
    "print('p_{t+1} - p_t:', p_seq[-1] - p_seq[-2])\n",
    "\n",
    "# 检查 exp(-αx) - exp(-(1 + α)x) 是否等于 g\n",
    "eq_g = lambda x: np.exp(-model.α * x) - np.exp(-(1 + model.α) * x)\n",
    "\n",
    "print('eq_g == g:', np.isclose(eq_g(m_seq[-1] - m_seq[-2]), model.g))"
   ]
  },
  {
   "cell_type": "markdown",
   "id": "94c3cbf2",
   "metadata": {},
   "source": [
    "## 动态拉弗曲线的滑动侧面\n",
    "\n",
    "我们现在已经具备了从不同的 $ p_{-1}, \\pi_{-1}^* $ 设置开始计算时间序列的能力，类似于这个讲座中的设置 [通过货币资助的政府赤字和价格水平](https://quantecon.github.io/lecture-intro.zh-cn/money_inflation.html) 和这个讲座 [通货膨胀税拉弗曲线](https://quantecon.github.io/lecture-intro.zh-cn/money_inflation_nonlinear.html)。\n",
    "\n",
    "现在我们将研究当我们从动态拉弗曲线的一个静止点开始 $ p_{-1}, \\pi_{-1}^* $，即远离 $ \\pi_u $ 或 $ \\pi_l $ 时，结果如何展开。\n",
    "\n",
    "为了构建一个扰动对 $ \\check p_{-1}, \\check \\pi_{-1}^* $，我们将实现以下伪代码：\n",
    "\n",
    "- 设置 $ \\check \\pi_{-1}^* $ 不等于静止点之一 $ \\pi_u $ 或 $ \\pi_l $。  \n",
    "- 设置 $ \\check p_{-1} = m_0 + \\alpha \\check \\pi_{-1}^* $  "
   ]
  },
  {
   "cell_type": "code",
   "execution_count": null,
   "id": "7aedc8ad",
   "metadata": {
    "hide-output": false
   },
   "outputs": [],
   "source": [
    "def draw_iterations(π0s, model, line_params, π_bars, num_steps):\n",
    "    fig, axes = plt.subplots(4, 1, figsize=(8, 12), sharex=True)\n",
    "\n",
    "    for ax in axes[:2]:\n",
    "        ax.set_yscale('log')\n",
    "        \n",
    "    for i, π0 in enumerate(π0s):\n",
    "        p0 = model.m0 + model.α*π0\n",
    "        π_seq, μ_seq, m_seq, p_seq = solve_laffer_adapt(p0, π0, model, num_steps)\n",
    "\n",
    "        axes[0].plot(np.arange(num_steps), m_seq[1:], **line_params)\n",
    "        axes[1].plot(np.arange(-1, num_steps-1), p_seq, **line_params)\n",
    "        axes[2].plot(np.arange(-1, num_steps-1), π_seq, **line_params)\n",
    "        axes[3].plot(np.arange(num_steps), μ_seq, **line_params)\n",
    "            \n",
    "    axes[2].axhline(y=π_bars[0], color='grey', linestyle='--', lw=1.5, alpha=0.6)\n",
    "    axes[2].axhline(y=π_bars[1], color='grey', linestyle='--', lw=1.5, alpha=0.6)\n",
    "    axes[2].text(num_steps * 1.07, π_bars[0], r'$\\pi_l$', verticalalignment='center', \n",
    "                     color='grey', size=10)\n",
    "    axes[2].text(num_steps * 1.07, π_bars[1], r'$\\pi_u$', verticalalignment='center', \n",
    "                         color='grey', size=10)\n",
    "\n",
    "    axes[0].set_ylabel('$m_t$')\n",
    "    axes[1].set_ylabel('$p_t$')\n",
    "    axes[2].set_ylabel(r'$\\pi_t$')\n",
    "    axes[3].set_ylabel(r'$\\mu_t$')\n",
    "    axes[3].set_xlabel('时间步')\n",
    "    axes[3].xaxis.set_major_locator(MaxNLocator(integer=True))\n",
    "\n",
    "    plt.tight_layout()\n",
    "    plt.show()"
   ]
  },
  {
   "cell_type": "markdown",
   "id": "1f8cd8b6",
   "metadata": {},
   "source": [
    "让我们模拟通过改变初始 $ \\pi_{-1} $ 和对应的 $ p_{-1} $ 生成的结果"
   ]
  },
  {
   "cell_type": "code",
   "execution_count": null,
   "id": "a814ab7d",
   "metadata": {
    "hide-output": false
   },
   "outputs": [],
   "source": [
    "πs = np.linspace(π_l, π_u, 10)\n",
    "\n",
    "line_params = {'lw': 1.5,\n",
    "               'marker': 'o',\n",
    "               'markersize': 3}\n",
    "              \n",
    "π_bars = (π_l, π_u)\n",
    "draw_iterations(πs, model, line_params, π_bars, num_steps=80)"
   ]
  }
 ],
 "metadata": {
  "date": 1741394697.4057202,
  "filename": "laffer_adaptive.md",
  "kernelspec": {
   "display_name": "Python",
   "language": "python3",
   "name": "python3"
  },
  "title": "拉弗曲线与自适应预期"
 },
 "nbformat": 4,
 "nbformat_minor": 5
}