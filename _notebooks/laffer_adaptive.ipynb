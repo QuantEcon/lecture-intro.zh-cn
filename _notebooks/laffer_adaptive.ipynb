{
 "cells": [
  {
   "cell_type": "markdown",
   "id": "ed743e1d",
   "metadata": {},
   "source": [
    "# 拉弗曲线与自适应预期"
   ]
  },
  {
   "cell_type": "markdown",
   "id": "bcceb65c",
   "metadata": {},
   "source": [
    "## 概览\n",
    "\n",
    "本讲座研究了在通货膨胀税率下的静态和动态**拉弗曲线**，其采用的模型为此讲座[通过货币资助的政府赤字和价格水平](https://quantecon.github.io/lecture-intro.zh-cn/money_inflation.html)中研究的非线性版本。\n",
    "\n",
    "与讲座[通过货币资助的政府赤字和价格水平](https://quantecon.github.io/lecture-intro.zh-cn/money_inflation.html)中一样，此讲座使用了[[Cagan, 1956](https://quantecon.github.io/lecture-intro.zh-cn/zreferences.html#id112)]在其经典论文中使用的对数线性货币需求函数版本，而不是此讲座[通过货币资助的政府赤字和价格水平](https://quantecon.github.io/lecture-intro.zh-cn/money_inflation.html)中使用的线性需求函数。\n",
    "\n",
    "但在本讲中，我们将不采用”理性预期”的”完全预见”形式，而是采用[[Cagan, 1956](https://quantecon.github.io/lecture-intro.zh-cn/zreferences.html#id112)]和[[Friedman, 1956](https://quantecon.github.io/lecture-intro.zh-cn/zreferences.html#id183)]使用的”自适应预期”假设。\n",
    "\n",
    "这意味着，我们不再假设预期通货膨胀$ \\pi_t^* $遵循”完全预见”或”理性预期”\n",
    "\n",
    "$$\n",
    "\\pi_t^* = p_{t+1} - p_t\n",
    "$$\n",
    "\n",
    "我们现在不再采用讲座[通过货币资助的政府赤字和价格水平](https://quantecon.github.io/lecture-intro.zh-cn/money_inflation.html)和讲座[通货膨胀税的拉弗曲线](https://quantecon.github.io/lecture-intro.zh-cn/money_inflation_nonlinear.html)中的假设，而是假设$ \\pi_t^* $遵循下文中的自适应预期假设[(31.4)](#equation-eq-adaptex)。\n",
    "\n",
    "这种预期形成机制的改变会带来一些重要的影响。具体来说:\n",
    "\n",
    "- 两个静态通货膨胀率水平保持不变  \n",
    "- 但系统的动态行为发生了变化 - 它现在倾向于收敛到**较低**的通货膨胀率水平  \n",
    "- 政策效果变得更符合直觉 - **降低**政府赤字能够**降低**通货膨胀  \n",
    "\n",
    "\n",
    "这些结果更符合传统的经济学观点,即通货膨胀主要由政府赤字驱动。\n",
    "\n",
    "[[Bruno and Fischer, 1990](https://quantecon.github.io/lecture-intro.zh-cn/zreferences.html#id296)]对这些问题进行了研究。他们认为理性预期(完全预见)模型的预测有悖直觉,因此提出用自适应预期来替代。在自适应预期下,人们根据下文的方程[(31.4)](#equation-eq-adaptex)来形成对未来通货膨胀的预期。\n",
    "\n",
    ">**Note**\n",
    ">\n",
    ">[[Marcet and Sargent, 1989](https://quantecon.github.io/lecture-intro.zh-cn/zreferences.html#id297)] 研究了另一种选择静态均衡的方法，涉及用通过最小二乘回归学习的模型替换理性预期。\n",
    "[[Marcet and Nicolini, 2003](https://quantecon.github.io/lecture-intro.zh-cn/zreferences.html#id295)] 和 [[Sargent *et al.*, 2009](https://quantecon.github.io/lecture-intro.zh-cn/zreferences.html#id294)] 扩展了这项工作，并将其应用于研究拉丁美洲反复出现的高通胀情节。"
   ]
  },
  {
   "cell_type": "markdown",
   "id": "d31d5246",
   "metadata": {},
   "source": [
    "## 模型\n",
    "\n",
    "设\n",
    "\n",
    "- $ m_t $ 为时间 $ t $ 初始的货币供应量对数  \n",
    "- $ p_t $ 为时间 $ t $ 的价格水平对数  \n",
    "- $ \\pi_t^* $ 为公众对于时间 $ t $ 到 $ t+1 $ 之间的通胀率的预期  \n",
    "\n",
    "\n",
    "货币供应量的动态方程是\n",
    "\n",
    "\n",
    "<a id='equation-eq-ada-msupply'></a>\n",
    "$$\n",
    "\\exp(m_{t+1}) - \\exp(m_t) = g \\exp(p_t) \\tag{31.1}\n",
    "$$\n",
    "\n",
    "其中 $ g $ 是政府支出中通过印制货币来融资的部分。\n",
    "\n",
    "注意方程 [(31.1)](#equation-eq-ada-msupply) 暗示\n",
    "\n",
    "\n",
    "<a id='equation-eq-ada-msupply2'></a>\n",
    "$$\n",
    "m_{t+1} = \\log[ \\exp(m_t) + g \\exp(p_t)] \\tag{31.2}\n",
    "$$\n",
    "\n",
    "货币需求函数是\n",
    "\n",
    "\n",
    "<a id='equation-eq-ada-mdemand'></a>\n",
    "$$\n",
    "m_{t+1} - p_t = -\\alpha \\pi_t^* \\tag{31.3}\n",
    "$$\n",
    "\n",
    "其中 $ \\alpha \\geq 0 $。\n",
    "\n",
    "通胀预期受控于\n",
    "\n",
    "\n",
    "<a id='equation-eq-adaptex'></a>\n",
    "$$\n",
    "\\pi_{t}^* = (1-\\delta) (p_t - p_{t-1}) + \\delta \\pi_{t-1}^* \\tag{31.4}\n",
    "$$\n",
    "\n",
    "其中 $ \\delta \\in (0,1) $"
   ]
  },
  {
   "cell_type": "markdown",
   "id": "1b9aa808",
   "metadata": {},
   "source": [
    "## 计算均衡序列\n",
    "\n",
    "我们可以通过以下步骤求解均衡序列。首先，将方程[(31.3)](#equation-eq-ada-mdemand)和[(31.2)](#equation-eq-ada-msupply2)中的$ m_{t+1} $表达式结合，并使用方程[(31.4)](#equation-eq-adaptex)消除$ \\pi_t^* $，得到关于$ p_t $的方程：\n",
    "\n",
    "\n",
    "<a id='equation-eq-pequation'></a>\n",
    "$$\n",
    "\\log[ \\exp(m_t) + g \\exp(p_t)] - p_t = -\\alpha [(1-\\delta) (p_t - p_{t-1}) + \\delta \\pi_{t-1}^*] \\tag{31.5}\n",
    "$$\n",
    "\n",
    "给定初始条件$ (m_0, \\pi_{-1}^*, p_{-1}) $，我们可以按照以下步骤求解均衡序列：\n",
    "\n",
    "1. 求解方程[(31.5)](#equation-eq-pequation)得到$ p_t $  \n",
    "1. 使用方程[(31.4)](#equation-eq-adaptex)计算$ \\pi_t^* $  \n",
    "1. 使用方程[(31.2)](#equation-eq-ada-msupply2)计算$ m_{t+1} $  \n",
    "1. 重复步骤1-3  "
   ]
  },
  {
   "cell_type": "markdown",
   "id": "db337189",
   "metadata": {},
   "source": [
    "## 主要结论\n",
    "\n",
    "通过分析模型,我们可以得出以下几个重要结论:\n",
    "\n",
    "1. 如果存在稳态,通货膨胀率$ \\overline \\pi $将等于货币增长率$ \\overline \\mu $  \n",
    "1. 模型存在两个可能的稳态通货膨胀率 - 一个高值和一个低值  \n",
    "1. 与[通货膨胀税的拉弗曲线](https://quantecon.github.io/lecture-intro.zh-cn/money_inflation_nonlinear.html)中的理性预期模型不同,在大多数初始条件$ (p_0, \\pi_{t}^*) $下,系统会收敛到**较低**的稳态通货膨胀率  \n",
    "1. 对于每个稳态通货膨胀率$ \\overline \\pi $,都存在唯一的初始价格水平$ p_0 $使得系统立即进入稳态($ \\pi_t = \\mu_t = \\overline \\mu $ 对所有 $ t \\geq 0 $)  \n",
    "  - 这个$ p_0 $满足方程:$ \\log(\\exp(m_0) + g \\exp(p_0)) - p_0 = - \\alpha \\overline \\pi $  \n",
    "  - 该方程来自稳态条件$ m_1 - p_0 = - \\alpha \\overline \\pi $  "
   ]
  },
  {
   "cell_type": "markdown",
   "id": "cb78d4c3",
   "metadata": {},
   "source": [
    "## 稳态通货膨胀率的计算\n",
    "\n",
    "正如我们在早前的讲座 [通货膨胀税的拉弗曲线](https://quantecon.github.io/lecture-intro.zh-cn/money_inflation_nonlinear.html) 中讨论的，我们可以通过研究稳态劳动曲线来计算 $ \\bar \\pi $ 的两个潜在的限制值。\n",
    "\n",
    "因此，在一个**稳态**中\n",
    "\\$$ m_{t+1} - m_t = p_{t+1} - p_t =  x \\quad \\forall t , $\\$\n",
    "\n",
    "其中 $ x > 0 $ 是货币供应量和价格水平的对数的共同增长率。\n",
    "\n",
    "几行代数可以得出满足 $ x $ 的以下方程\n",
    "\n",
    "\n",
    "<a id='equation-eq-ada-steadypi'></a>\n",
    "$$\n",
    "\\exp(-\\alpha x) - \\exp(-(1 + \\alpha) x) = g \\tag{31.6}\n",
    "$$\n",
    "\n",
    "我们需要满足\n",
    "\n",
    "\n",
    "<a id='equation-eq-ada-revmax'></a>\n",
    "$$\n",
    "g \\leq \\max_{x: x \\geq 0} \\exp(-\\alpha x) - \\exp(-(1 + \\alpha) x) , \\tag{31.7}\n",
    "$$\n",
    "\n",
    "这样就可以通过印钞来财务支持 $ g $。\n",
    "\n",
    "[(31.6)](#equation-eq-ada-steadypi) 的左侧是通过印钞筹集的稳定状态收入。\n",
    "\n",
    "[(31.6)](#equation-eq-ada-steadypi) 的右侧是政府通过印钞筹集的 $ t $ 时刻的商品数量。\n",
    "\n",
    "很快我们将绘制方程 [(31.6)](#equation-eq-ada-steadypi) 的左右两侧。\n",
    "\n",
    "但首先，我们将编写代码来计算稳态的\n",
    "$ \\bar \\pi $。\n",
    "\n",
    "让我们开始导入一些库"
   ]
  },
  {
   "cell_type": "code",
   "execution_count": null,
   "id": "aa377181",
   "metadata": {
    "hide-output": false
   },
   "outputs": [],
   "source": [
    "from collections import namedtuple\n",
    "import numpy as np\n",
    "import matplotlib.pyplot as plt\n",
    "import matplotlib as mpl\n",
    "from matplotlib.ticker import MaxNLocator\n",
    "from matplotlib.cm import get_cmap\n",
    "from matplotlib.colors import to_rgba\n",
    "import matplotlib\n",
    "from scipy.optimize import root, fsolve\n",
    "\n",
    "FONTPATH = \"fonts/SourceHanSerifSC-SemiBold.otf\"\n",
    "mpl.font_manager.fontManager.addfont(FONTPATH)\n",
    "plt.rcParams['font.family'] = ['Source Han Serif SC']"
   ]
  },
  {
   "cell_type": "markdown",
   "id": "cfee1ba7",
   "metadata": {},
   "source": [
    "让我们创建一个 `namedtuple` 来存储模型的参数"
   ]
  },
  {
   "cell_type": "code",
   "execution_count": null,
   "id": "9c27b3b7",
   "metadata": {
    "hide-output": false
   },
   "outputs": [],
   "source": [
    "LafferAdaptive = namedtuple('LafferAdaptive', \n",
    "                        [\"m0\",  # t=0时货币供应量的对数\n",
    "                         \"α\",   # 货币需求的敏感性\n",
    "                         \"g\",   # 政府支出\n",
    "                         \"δ\"])\n",
    "\n",
    "# 创建一个 凯根拉弗 模型 \n",
    "def create_model(α=0.5, m0=np.log(100), g=0.35, δ=0.9):\n",
    "    return LafferAdaptive(α=α, m0=m0, g=g, δ=δ)\n",
    "\n",
    "model = create_model()"
   ]
  },
  {
   "cell_type": "markdown",
   "id": "85d52cb1",
   "metadata": {},
   "source": [
    "现在我们编写计算稳态 $ \\bar \\pi $ 的代码。"
   ]
  },
  {
   "cell_type": "code",
   "execution_count": null,
   "id": "138f3fef",
   "metadata": {
    "hide-output": false
   },
   "outputs": [],
   "source": [
    "# 定义 π_bar 的计算公式\n",
    "def solve_π(x, α, g):\n",
    "    return np.exp(-α * x) - np.exp(-(1 + α) * x) - g\n",
    "\n",
    "def solve_π_bar(model, x0):\n",
    "    π_bar = fsolve(solve_π, x0=x0, xtol=1e-10, args=(model.α, model.g))[0]\n",
    "    return π_bar\n",
    "\n",
    "# 解两个稳态的 π\n",
    "π_l = solve_π_bar(model, x0=0.6)\n",
    "π_u = solve_π_bar(model, x0=3.0)\n",
    "print(f'两个稳态的π是: {π_l, π_u}')"
   ]
  },
  {
   "cell_type": "markdown",
   "id": "3bcb13b6",
   "metadata": {},
   "source": [
    "我们找到了两个稳态 $ \\bar \\pi $ 值。"
   ]
  },
  {
   "cell_type": "markdown",
   "id": "02bc72a6",
   "metadata": {},
   "source": [
    "## 稳态拉弗曲线\n",
    "\n",
    "下图绘制了稳态拉弗曲线以及两个稳定的通货膨胀率。"
   ]
  },
  {
   "cell_type": "code",
   "execution_count": null,
   "id": "d3dced3c",
   "metadata": {
    "hide-output": false
   },
   "outputs": [],
   "source": [
    "def compute_seign(x, α):\n",
    "    return np.exp(-α * x) - np.exp(-(1 + α) * x) \n",
    "\n",
    "def plot_laffer(model, πs):\n",
    "    α, g = model.α, model.g\n",
    "    \n",
    "    # 生成π值\n",
    "    x_values = np.linspace(0, 5, 1000)\n",
    "\n",
    "    # 计算对应的铸币税值\n",
    "    y_values = compute_seign(x_values, α)\n",
    "\n",
    "    # 绘制函数图形\n",
    "    plt.plot(x_values, y_values, \n",
    "            label=f'$exp((-{α})x) - exp(- (1- {α}) x)$')\n",
    "    for π, label in zip(πs, [r'$\\pi_l$', r'$\\pi_u$']):\n",
    "        plt.text(π, plt.gca().get_ylim()[0]*2, \n",
    "                 label, horizontalalignment='center',\n",
    "                 color='brown', size=10)\n",
    "        plt.axvline(π, color='brown', linestyle='--')\n",
    "    plt.axhline(g, color='red', linewidth=0.5, \n",
    "                linestyle='--', label='g')\n",
    "    plt.xlabel(r'$\\pi$')\n",
    "    plt.ylabel('铸币税')\n",
    "    plt.legend()\n",
    "    plt.grid(True)\n",
    "    plt.show()\n",
    "\n",
    "# 稳态拉弗曲线\n",
    "plot_laffer(model, (π_l, π_u))"
   ]
  },
  {
   "cell_type": "markdown",
   "id": "e023baac",
   "metadata": {},
   "source": [
    "## 初始价格水平的计算\n",
    "\n",
    "既然我们已经找到了两个可能的稳态通货膨胀率，接下来我们需要计算与每个稳态相对应的初始价格水平 $ p_{-1} $。\n",
    "\n",
    "这些初始价格水平很重要，因为它们能让系统从一开始就处于稳态，也就是说，如果我们从正确的 $ p_{-1} $ 开始，那么通货膨胀率 $ \\pi_t $ 会在所有时期 $ t \\geq 0 $ 保持在稳态值 $ \\bar \\pi $ 不变。\n",
    "\n",
    "根据货币需求方程，初始价格水平应满足:\n",
    "\n",
    "$$\n",
    "p_{-1} = m_0 + \\alpha \\pi^*\n",
    "$$\n",
    "\n",
    "其中 $ m_0 $ 是初始货币供应量的对数，$ \\alpha $ 是货币需求对预期通货膨胀的敏感度，$ \\pi^* $ 是稳态通货膨胀率。"
   ]
  },
  {
   "cell_type": "code",
   "execution_count": null,
   "id": "d354b92c",
   "metadata": {
    "hide-output": false
   },
   "outputs": [],
   "source": [
    "def solve_p_init(model, π_star):\n",
    "    m0, α = model.m0, model.α\n",
    "    return m0 + α*π_star\n",
    "\n",
    "# 计算与 π_l 和 π_u 相关联的两个初始价格水平\n",
    "p_l, p_u = map(lambda π: solve_p_init(model, π), (π_l, π_u))\n",
    "print('相关的初始 p_{-1}', f'为: {p_l, p_u}')"
   ]
  },
  {
   "cell_type": "markdown",
   "id": "5bc2dade",
   "metadata": {},
   "source": [
    "### 验证\n",
    "\n",
    "首先，我们编写一些代码来验证，如果我们适当初始化 $ \\pi_{-1}^*,p_{-1} $，则通货膨胀率 $ \\pi_t $ 对于所有 $ t \\geq 0 $ 将保持恒定（根据初始条件的不同，可能是较高的稳态值 $ \\pi_u $ 或较低的稳态值 $ \\pi_l $）。\n",
    "\n",
    "以下代码进行了验证。"
   ]
  },
  {
   "cell_type": "code",
   "execution_count": null,
   "id": "36ab168f",
   "metadata": {
    "hide-output": false
   },
   "outputs": [],
   "source": [
    "def solve_laffer_adapt(p_init, π_init, model, num_steps):\n",
    "    m0, α, δ, g = model.m0, model.α, model.δ, model.g\n",
    "    \n",
    "    m_seq = np.nan * np.ones(num_steps+1) \n",
    "    π_seq = np.nan * np.ones(num_steps) \n",
    "    p_seq = np.nan * np.ones(num_steps)\n",
    "    μ_seq = np.nan * np.ones(num_steps) \n",
    "    \n",
    "    m_seq[1] = m0\n",
    "    π_seq[0] = π_init\n",
    "    p_seq[0] = p_init\n",
    "        \n",
    "    for t in range(1, num_steps):\n",
    "        # 解出 p_t\n",
    "        def p_t(pt):\n",
    "            return np.log(np.exp(m_seq[t]) + g * np.exp(pt)) - pt + α * ((1-δ)*(pt - p_seq[t-1]) + δ*π_seq[t-1])\n",
    "        \n",
    "        p_seq[t] = root(fun=p_t, x0=p_seq[t-1]).x[0]\n",
    "        \n",
    "        # 解出 π_t\n",
    "        π_seq[t] = (1-δ) * (p_seq[t]-p_seq[t-1]) + δ*π_seq[t-1]\n",
    "        \n",
    "        # 解出 m_t\n",
    "        m_seq[t+1] = np.log(np.exp(m_seq[t]) + g*np.exp(p_seq[t]))\n",
    "        \n",
    "        # 解出 μ_t\n",
    "        μ_seq[t] = m_seq[t+1] - m_seq[t]\n",
    "    \n",
    "    return π_seq, μ_seq, m_seq, p_seq"
   ]
  },
  {
   "cell_type": "markdown",
   "id": "94ba9040",
   "metadata": {},
   "source": [
    "计算从 $ p_{-1} $ 开始，与 $ \\pi_l $ 相关联的极限值"
   ]
  },
  {
   "cell_type": "code",
   "execution_count": null,
   "id": "76e4155c",
   "metadata": {
    "hide-output": false
   },
   "outputs": [],
   "source": [
    "π_seq, μ_seq, m_seq, p_seq = solve_laffer_adapt(p_l, π_l, model, 50)\n",
    "\n",
    "# 检查稳态 m_{t+1} - m_t 和 p_{t+1} - p_t\n",
    "print('m_{t+1} - m_t:', m_seq[-1] - m_seq[-2])\n",
    "print('p_{t+1} - p_t:', p_seq[-1] - p_seq[-2])\n",
    "\n",
    "# 检查 exp(-αx) - exp(-(1 + α)x) 是否等于 g\n",
    "eq_g = lambda x: np.exp(-model.α * x) - np.exp(-(1 + model.α) * x)\n",
    "\n",
    "print('eq_g == g:', np.isclose(eq_g(m_seq[-1] - m_seq[-2]), model.g))"
   ]
  },
  {
   "cell_type": "markdown",
   "id": "53b2998d",
   "metadata": {},
   "source": [
    "现在计算从初始价格水平 $ p_{-1} $ 开始，收敛到高通胀稳态 $ \\pi_u $ 的动态路径"
   ]
  },
  {
   "cell_type": "code",
   "execution_count": null,
   "id": "19204e87",
   "metadata": {
    "hide-output": false
   },
   "outputs": [],
   "source": [
    "π_seq, μ_seq, m_seq, p_seq = solve_laffer_adapt(p_u, π_u, model, 50)\n",
    "\n",
    "# 检查稳态 m_{t+1} - m_t 和 p_{t+1} - p_t\n",
    "print('m_{t+1} - m_t:', m_seq[-1] - m_seq[-2])\n",
    "print('p_{t+1} - p_t:', p_seq[-1] - p_seq[-2])\n",
    "\n",
    "# 检查 exp(-αx) - exp(-(1 + α)x) 是否等于 g\n",
    "eq_g = lambda x: np.exp(-model.α * x) - np.exp(-(1 + model.α) * x)\n",
    "\n",
    "print('eq_g == g:', np.isclose(eq_g(m_seq[-1] - m_seq[-2]), model.g))"
   ]
  },
  {
   "cell_type": "markdown",
   "id": "2525a304",
   "metadata": {},
   "source": [
    "## 拉弗曲线动态的不稳定性\n",
    "\n",
    "与[通过货币资助的政府赤字和价格水平](https://quantecon.github.io/lecture-intro.zh-cn/money_inflation.html) 和[通货膨胀税的拉弗曲线](https://quantecon.github.io/lecture-intro.zh-cn/money_inflation_nonlinear.html)类似，我们现在已经具备了从不同的 $ p_{-1}, \\pi_{-1}^* $ 设置开始计算时间序列的能力。\n",
    "\n",
    "现在我们将研究当初始条件 $ p_{-1}, \\pi_{-1}^* $ 偏离稳态值 $ \\pi_u $ 或 $ \\pi_l $ 时，系统的动态演化过程。\n",
    "\n",
    "为了生成不同的初始条件，我们将:\n",
    "\n",
    "- 选择一系列不同于稳态值的初始预期通胀率 $ \\pi_{-1}^* $  \n",
    "- 根据货币需求方程，计算对应的初始价格水平 $ p_{-1} = m_0 + \\alpha \\pi_{-1}^* $  "
   ]
  },
  {
   "cell_type": "code",
   "execution_count": null,
   "id": "5ebe9463",
   "metadata": {
    "hide-output": false
   },
   "outputs": [],
   "source": [
    "def draw_iterations(π0s, model, line_params, π_bars, num_steps):\n",
    "    fig, axes = plt.subplots(4, 1, figsize=(8, 12), sharex=True)\n",
    "\n",
    "    for ax in axes[:2]:\n",
    "        ax.set_yscale('log')\n",
    "        \n",
    "    for i, π0 in enumerate(π0s):\n",
    "        p0 = model.m0 + model.α*π0\n",
    "        π_seq, μ_seq, m_seq, p_seq = solve_laffer_adapt(p0, π0, model, num_steps)\n",
    "\n",
    "        axes[0].plot(np.arange(num_steps), m_seq[1:], **line_params)\n",
    "        axes[1].plot(np.arange(-1, num_steps-1), p_seq, **line_params)\n",
    "        axes[2].plot(np.arange(-1, num_steps-1), π_seq, **line_params)\n",
    "        axes[3].plot(np.arange(num_steps), μ_seq, **line_params)\n",
    "            \n",
    "    axes[2].axhline(y=π_bars[0], color='grey', linestyle='--', lw=1.5, alpha=0.6)\n",
    "    axes[2].axhline(y=π_bars[1], color='grey', linestyle='--', lw=1.5, alpha=0.6)\n",
    "    axes[2].text(num_steps * 1.07, π_bars[0], r'$\\pi_l$', verticalalignment='center', \n",
    "                     color='grey', size=10)\n",
    "    axes[2].text(num_steps * 1.07, π_bars[1], r'$\\pi_u$', verticalalignment='center', \n",
    "                         color='grey', size=10)\n",
    "\n",
    "    axes[0].set_ylabel('$m_t$')\n",
    "    axes[1].set_ylabel('$p_t$')\n",
    "    axes[2].set_ylabel(r'$\\pi_t$')\n",
    "    axes[3].set_ylabel(r'$\\mu_t$')\n",
    "    axes[3].set_xlabel('时间')\n",
    "    axes[3].xaxis.set_major_locator(MaxNLocator(integer=True))\n",
    "\n",
    "    plt.tight_layout()\n",
    "    plt.show()"
   ]
  },
  {
   "cell_type": "markdown",
   "id": "556e1264",
   "metadata": {},
   "source": [
    "让我们模拟通过改变初始 $ \\pi_{-1} $ 和对应的 $ p_{-1} $ 生成的结果"
   ]
  },
  {
   "cell_type": "code",
   "execution_count": null,
   "id": "c09af6f6",
   "metadata": {
    "hide-output": false
   },
   "outputs": [],
   "source": [
    "πs = np.linspace(π_l, π_u, 10)\n",
    "\n",
    "line_params = {'lw': 1.5,\n",
    "               'marker': 'o',\n",
    "               'markersize': 3}\n",
    "              \n",
    "π_bars = (π_l, π_u)\n",
    "draw_iterations(πs, model, line_params, π_bars, num_steps=80)"
   ]
  }
 ],
 "metadata": {
  "date": 1742186710.1788523,
  "filename": "laffer_adaptive.md",
  "kernelspec": {
   "display_name": "Python",
   "language": "python3",
   "name": "python3"
  },
  "title": "拉弗曲线与自适应预期"
 },
 "nbformat": 4,
 "nbformat_minor": 5
}