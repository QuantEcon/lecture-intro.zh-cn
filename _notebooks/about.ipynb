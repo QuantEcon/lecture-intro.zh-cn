{
 "cells": [
  {
   "cell_type": "markdown",
   "id": "e6b55033",
   "metadata": {},
   "source": [
    "# 关于这些讲座"
   ]
  },
  {
   "cell_type": "markdown",
   "id": "1e84a9f3",
   "metadata": {},
   "source": [
    "## 简介\n",
    "\n",
    "这个讲座系列通过基础数学、统计学和[Python](https://www.python.org/)编程来介绍量化经济学的核心概念。\n",
    "\n",
    "我们注重通过代码模拟和可视化图表来传达经济学思想，而非过度强调复杂的数学推导。\n",
    "\n",
    "虽然这种教学方法相对创新，但我们探讨的经济学概念都是经典且基础的。\n",
    "\n",
    "在这些讲座中，我们既重视经济理论的深刻意义，也强调数据分析和理解现实经济现象的重要性。\n",
    "\n",
    "这些材料适用于多种场景：大学课程、自学、读书小组或专业研讨会。\n",
    "\n",
    "从事研究工作的学者和政策制定者也可能在系列中找到对其工作有价值的内容。\n",
    "\n",
    "我们希望这些讲座能吸引两类学生：既想学习经济学又想提升编程能力的经济学专业学生，以及来自计算机科学和工程领域但对经济学感兴趣的学生。"
   ]
  },
  {
   "cell_type": "markdown",
   "id": "95f17d26",
   "metadata": {},
   "source": [
    "## 难度层级\n",
    "\n",
    "这个讲座系列主要面向本科生，难度从入门到中级不等。\n",
    "\n",
    "入门级内容适合大一学生甚至高中生，而中级内容则需要一定的线性代数基础和数学思维能力（例如能够理解定理及其含义）。\n",
    "\n",
    "总体而言，讲座的安排遵循由易到难的原则，前面的内容相对简单，后面的内容逐渐深入。\n",
    "\n",
    "我们假设读者已经学习过QuantEcon的[Python编程基础](https://python-programming.quantecon.org/intro.html)。\n",
    "\n",
    "具体来说，你应该熟悉基本的Python语法和函数编写。了解类和Matplotlib绘图库会有所帮助，但不是必需的。"
   ]
  },
  {
   "cell_type": "markdown",
   "id": "d2c69368",
   "metadata": {},
   "source": [
    "## 致谢\n",
    "\n",
    "这个讲座系列的完成离不开QuantEcon研究助理团队和众多同事的宝贵帮助。\n",
    "\n",
    "特别感谢并致谢\n",
    "\n",
    "- [Aakash Gupta](https://github.com/AakashGfude)  \n",
    "- [Shu Hu](https://github.com/shlff)  \n",
    "- Jiacheng Li  \n",
    "- [Smit Lunagariya](https://github.com/Smit-create)  \n",
    "- [Matthew McKay](https://github.com/mmcky)  \n",
    "- [Maanasee Sharma](https://github.com/maanasee)  \n",
    "- [Longye Tian](https://github.com/longye-tian)  \n",
    "- [Humphrey Yang](https://github.com/HumphreyYang)  \n",
    "- [Sylvia Zhao](https://github.com/SylviaZhaooo)  \n",
    "\n",
    "\n",
    "我们还要感谢Noritaka Kudoh教授，是他鼓励我们启动这个项目并提供了宝贵的建议。"
   ]
  }
 ],
 "metadata": {
  "date": 1743998655.6273026,
  "filename": "about.md",
  "kernelspec": {
   "display_name": "Python",
   "language": "python3",
   "name": "python3"
  },
  "title": "关于这些讲座"
 },
 "nbformat": 4,
 "nbformat_minor": 5
}