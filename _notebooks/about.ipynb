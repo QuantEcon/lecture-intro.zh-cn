{
 "cells": [
  {
   "cell_type": "markdown",
   "id": "326f924b",
   "metadata": {},
   "source": [
    "# 关于这些讲座"
   ]
  },
  {
   "cell_type": "markdown",
   "id": "1c2bf473",
   "metadata": {},
   "source": [
    "## 简介\n",
    "\n",
    "这个讲座系列使用基础数学、统计学及[Python](https://www.python.org/)来介绍数量经济学。\n",
    "\n",
    "讲座强调通过代码进行模拟和图表来传达思想，而不是侧重于数学细节。\n",
    "\n",
    "虽然这种呈现方式相当新颖，但讨论的观点却是基础性的。\n",
    "\n",
    "我们强调经济理论深刻和根本的重要性，同时也重视分析数据和理解典型事实的价值。\n",
    "\n",
    "这些讲座可以用于大学课程、自学、读书小组或研讨会。\n",
    "\n",
    "研究人员和政策专业人士也可能会发现系列中的某些部分对他们的工作有价值。\n",
    "\n",
    "我们希望这些讲座对那些既想学习经济学又想学习编程的经济学学生感兴趣，以及对经济学感兴趣的计算机科学和工程领域的学生。"
   ]
  },
  {
   "cell_type": "markdown",
   "id": "8fb2e7e0",
   "metadata": {},
   "source": [
    "## 层级\n",
    "\n",
    "这个讲座系列面向本科学生。\n",
    "\n",
    "讲座的难度从入门级（适合一年级本科生甚至高中生）到中级的内容。\n",
    "\n",
    "中级的讲座需要对线性代数有一定的了解，并且具有一些数学成熟度（比如可以平静地阅读定理并尝试理解它们的含义）。\n",
    "\n",
    "总的来说，较容易的讲座出现在讲座系列的前面，较难的讲座出现在后面。\n",
    "\n",
    "我们假设读者已经学习了QuantEcon关于Python编程的基础部分[Python编程](https://python-programming.quantecon.org/intro.html)。\n",
    "\n",
    "特别是，读者应该熟悉基本的Python语法，包括Python函数。了解类和Matplotlib会有帮助，但不是必须的。"
   ]
  },
  {
   "cell_type": "markdown",
   "id": "b267d847",
   "metadata": {},
   "source": [
    "## 致谢\n",
    "\n",
    "在构建这个讲座系列时，我们得到了QuantEcon的研究助理以及我们QuantEcon同事的宝贵帮助。没有他们的帮助，这个系列是无法完成的。\n",
    "\n",
    "特别感谢并致谢\n",
    "\n",
    "- [Aakash Gupta](https://github.com/AakashGfude)  \n",
    "- [Shu Hu](https://github.com/shlff)  \n",
    "- Jiacheng Li  \n",
    "- [Smit Lunagariya](https://github.com/Smit-create)  \n",
    "- [Matthew McKay](https://github.com/mmcky)  \n",
    "- [Maanasee Sharma](https://github.com/maanasee)  \n",
    "- [Longye Tian](https://github.com/longye-tian)  \n",
    "- [Humphrey Yang](https://github.com/HumphreyYang)  \n",
    "- [Sylvia Zhao](https://github.com/SylviaZhaooo)  \n",
    "\n",
    "\n",
    "我们还感谢Noritaka Kudoh鼓励我们开始这个项目并提供了宝贵的建议。"
   ]
  }
 ],
 "metadata": {
  "date": 1742374750.047397,
  "filename": "about.md",
  "kernelspec": {
   "display_name": "Python",
   "language": "python3",
   "name": "python3"
  },
  "title": "关于这些讲座"
 },
 "nbformat": 4,
 "nbformat_minor": 5
}