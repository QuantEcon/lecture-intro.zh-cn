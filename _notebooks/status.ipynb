{
 "cells": [
  {
   "cell_type": "markdown",
   "id": "b866ebc5",
   "metadata": {},
   "source": [
    "# 执行统计数据\n",
    "\n",
    "此表包含最新的执行统计数据。\n",
    "\n",
    "[](https://quantecon.github.io/lecture-intro.zh-cn/ar1_processes.html)[](https://quantecon.github.io/lecture-intro.zh-cn/business_cycle.html)[](https://quantecon.github.io/lecture-intro.zh-cn/cagan_adaptive.html)[](https://quantecon.github.io/lecture-intro.zh-cn/cagan_ree.html)[](https://quantecon.github.io/lecture-intro.zh-cn/cobweb.html)[](https://quantecon.github.io/lecture-intro.zh-cn/commod_price.html)[](https://quantecon.github.io/lecture-intro.zh-cn/complex_and_trig.html)[](https://quantecon.github.io/lecture-intro.zh-cn/cons_smooth.html)[](https://quantecon.github.io/lecture-intro.zh-cn/eigen_I.html)[](https://quantecon.github.io/lecture-intro.zh-cn/eigen_II.html)[](https://quantecon.github.io/lecture-intro.zh-cn/equalizing_difference.html)[](https://quantecon.github.io/lecture-intro.zh-cn/french_rev.html)[](https://quantecon.github.io/lecture-intro.zh-cn/geom_series.html)[](https://quantecon.github.io/lecture-intro.zh-cn/greek_square.html)[](https://quantecon.github.io/lecture-intro.zh-cn/heavy_tails.html)[](https://quantecon.github.io/lecture-intro.zh-cn/inequality.html)[](https://quantecon.github.io/lecture-intro.zh-cn/inflation_history.html)[](https://quantecon.github.io/lecture-intro.zh-cn/input_output.html)[](https://quantecon.github.io/lecture-intro.zh-cn/intro.html)[](https://quantecon.github.io/lecture-intro.zh-cn/intro_supply_demand.html)[](https://quantecon.github.io/lecture-intro.zh-cn/laffer_adaptive.html)[](https://quantecon.github.io/lecture-intro.zh-cn/lake_model.html)[](https://quantecon.github.io/lecture-intro.zh-cn/linear_equations.html)[](https://quantecon.github.io/lecture-intro.zh-cn/lln_clt.html)[](https://quantecon.github.io/lecture-intro.zh-cn/long_run_growth.html)[](https://quantecon.github.io/lecture-intro.zh-cn/lp_intro.html)[](https://quantecon.github.io/lecture-intro.zh-cn/markov_chains_I.html)[](https://quantecon.github.io/lecture-intro.zh-cn/markov_chains_II.html)[](https://quantecon.github.io/lecture-intro.zh-cn/mle.html)[](https://quantecon.github.io/lecture-intro.zh-cn/money_inflation.html)[](https://quantecon.github.io/lecture-intro.zh-cn/money_inflation_nonlinear.html)[](https://quantecon.github.io/lecture-intro.zh-cn/monte_carlo.html)[](https://quantecon.github.io/lecture-intro.zh-cn/networks.html)[](https://quantecon.github.io/lecture-intro.zh-cn/olg.html)[](https://quantecon.github.io/lecture-intro.zh-cn/prob_dist.html)[](https://quantecon.github.io/lecture-intro.zh-cn/pv.html)[](https://quantecon.github.io/lecture-intro.zh-cn/scalar_dynam.html)[](https://quantecon.github.io/lecture-intro.zh-cn/schelling.html)[](https://quantecon.github.io/lecture-intro.zh-cn/short_path.html)[](https://quantecon.github.io/lecture-intro.zh-cn/simple_linear_regression.html)[](https://quantecon.github.io/lecture-intro.zh-cn/solow.html)[](https://quantecon.github.io/lecture-intro.zh-cn/.html)[](https://quantecon.github.io/lecture-intro.zh-cn/supply_demand_heterogeneity.html)[](https://quantecon.github.io/lecture-intro.zh-cn/supply_demand_multiple_goods.html)[](https://quantecon.github.io/lecture-intro.zh-cn/time_series_with_matrices.html)[](https://quantecon.github.io/lecture-intro.zh-cn/troubleshooting.html)[](https://quantecon.github.io/lecture-intro.zh-cn/unpleasant.html)[](https://quantecon.github.io/lecture-intro.zh-cn/zreferences.html)|Document|Modified|Method|Run Time (s)|Status|\n",
    "|:------------------:|:------------------:|:------------------:|:------------------:|:------------------:|\n",
    "|ar1_processes|2025-03-03 03:17|cache|5.73|✅|\n",
    "|business_cycle|2025-03-03 03:18|cache|13.04|✅|\n",
    "|cagan_adaptive|2025-03-03 03:18|cache|2.48|✅|\n",
    "|cagan_ree|2025-03-03 03:18|cache|3.73|✅|\n",
    "|cobweb|2025-03-03 03:18|cache|2.78|✅|\n",
    "|commod_price|2025-03-03 03:18|cache|15.68|✅|\n",
    "|complex_and_trig|2025-03-03 03:18|cache|2.32|✅|\n",
    "|cons_smooth|2025-03-03 03:18|cache|3.0|✅|\n",
    "|eigen_I|2025-03-03 03:18|cache|4.99|✅|\n",
    "|eigen_II|2025-03-03 03:18|cache|5.89|✅|\n",
    "|equalizing_difference|2025-03-03 03:18|cache|2.21|✅|\n",
    "|french_rev|2025-03-03 03:18|cache|7.57|✅|\n",
    "|geom_series|2025-03-03 03:18|cache|3.09|✅|\n",
    "|greek_square|2025-03-03 03:19|cache|2.58|✅|\n",
    "|heavy_tails|2025-03-03 03:19|cache|14.89|✅|\n",
    "|inequality|2025-03-03 03:20|cache|44.3|✅|\n",
    "|inflation_history|2025-03-03 03:20|cache|6.75|✅|\n",
    "|input_output|2025-03-03 03:20|cache|7.35|✅|\n",
    "|intro|2025-03-03 03:20|cache|0.9|✅|\n",
    "|intro_supply_demand|2025-03-03 03:20|cache|2.56|✅|\n",
    "|laffer_adaptive|2025-03-03 03:20|cache|2.56|✅|\n",
    "|lake_model|2025-03-03 03:20|cache|2.5|✅|\n",
    "|linear_equations|2025-03-03 03:20|cache|1.95|✅|\n",
    "|lln_clt|2025-03-03 03:22|cache|151.22|✅|\n",
    "|long_run_growth|2025-03-08 00:44|cache|10.37|✅|\n",
    "|lp_intro|2025-03-03 03:23|cache|4.88|✅|\n",
    "|markov_chains_I|2025-03-03 03:23|cache|14.54|✅|\n",
    "|markov_chains_II|2025-03-03 03:23|cache|4.76|✅|\n",
    "|mle|2025-03-03 03:23|cache|7.19|✅|\n",
    "|money_inflation|2025-03-03 03:23|cache|2.86|✅|\n",
    "|money_inflation_nonlinear|2025-03-03 03:23|cache|2.29|✅|\n",
    "|monte_carlo|2025-03-03 03:27|cache|203.26|✅|\n",
    "|networks|2025-03-03 03:27|cache|7.39|✅|\n",
    "|olg|2025-03-03 03:27|cache|2.46|✅|\n",
    "|prob_dist|2025-03-03 03:27|cache|6.77|✅|\n",
    "|pv|2025-03-03 03:27|cache|1.67|✅|\n",
    "|scalar_dynam|2025-03-03 03:27|cache|3.07|✅|\n",
    "|schelling|2025-03-03 03:27|cache|12.46|✅|\n",
    "|short_path|2025-03-08 00:44|cache|1.05|✅|\n",
    "|simple_linear_regression|2025-03-03 03:27|cache|4.34|✅|\n",
    "|solow|2025-03-03 03:27|cache|3.85|✅|\n",
    "|status|2025-03-03 03:27|cache|4.36|✅|\n",
    "|supply_demand_heterogeneity|2025-03-03 03:27|cache|0.99|✅|\n",
    "|supply_demand_multiple_goods|2025-03-08 00:44|cache|2.13|✅|\n",
    "|time_series_with_matrices|2025-03-03 03:28|cache|2.63|✅|\n",
    "|troubleshooting|2025-03-03 03:20|cache|0.9|✅|\n",
    "|unpleasant|2025-03-03 03:28|cache|1.82|✅|\n",
    "|zreferences|2025-03-03 03:20|cache|0.9|✅|\n",
    "\n",
    "<a id='status-machine-details'></a>\n",
    "这些讲座是通过 `github actions` 在 `linux` 实例上构建的。\n",
    "\n",
    "这些讲座使用以下的python版本"
   ]
  },
  {
   "cell_type": "code",
   "execution_count": null,
   "id": "65fce5c9",
   "metadata": {
    "hide-output": false
   },
   "outputs": [],
   "source": [
    "!python --version"
   ]
  },
  {
   "cell_type": "markdown",
   "id": "dcc63c5c",
   "metadata": {},
   "source": [
    "和以下的包版本"
   ]
  },
  {
   "cell_type": "code",
   "execution_count": null,
   "id": "09705177",
   "metadata": {
    "hide-output": false
   },
   "outputs": [],
   "source": [
    "!conda list"
   ]
  }
 ],
 "metadata": {
  "date": 1741394699.7005546,
  "filename": "status.md",
  "kernelspec": {
   "display_name": "Python",
   "language": "python3",
   "name": "python3"
  },
  "title": "执行统计数据"
 },
 "nbformat": 4,
 "nbformat_minor": 5
}