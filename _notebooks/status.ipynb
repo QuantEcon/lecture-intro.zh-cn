{
 "cells": [
  {
   "cell_type": "markdown",
   "id": "8e2f700b",
   "metadata": {},
   "source": [
    "# 执行统计数据\n",
    "\n",
    "此表包含最新的执行统计数据。\n",
    "\n",
    "[](https://intro.quantecon.org/ar1_processes.html)[](https://intro.quantecon.org/business_cycle.html)[](https://intro.quantecon.org/cagan_adaptive.html)[](https://intro.quantecon.org/cagan_ree.html)[](https://intro.quantecon.org/cobweb.html)[](https://intro.quantecon.org/commod_price.html)[](https://intro.quantecon.org/complex_and_trig.html)[](https://intro.quantecon.org/cons_smooth.html)[](https://intro.quantecon.org/eigen_I.html)[](https://intro.quantecon.org/eigen_II.html)[](https://intro.quantecon.org/equalizing_difference.html)[](https://intro.quantecon.org/french_rev.html)[](https://intro.quantecon.org/geom_series.html)[](https://intro.quantecon.org/greek_square.html)[](https://intro.quantecon.org/heavy_tails.html)[](https://intro.quantecon.org/inequality.html)[](https://intro.quantecon.org/inflation_history.html)[](https://intro.quantecon.org/input_output.html)[](https://intro.quantecon.org/intro.html)[](https://intro.quantecon.org/intro_supply_demand.html)[](https://intro.quantecon.org/laffer_adaptive.html)[](https://intro.quantecon.org/lake_model.html)[](https://intro.quantecon.org/linear_equations.html)[](https://intro.quantecon.org/lln_clt.html)[](https://intro.quantecon.org/long_run_growth.html)[](https://intro.quantecon.org/lp_intro.html)[](https://intro.quantecon.org/markov_chains_I.html)[](https://intro.quantecon.org/markov_chains_II.html)[](https://intro.quantecon.org/mle.html)[](https://intro.quantecon.org/money_inflation.html)[](https://intro.quantecon.org/money_inflation_nonlinear.html)[](https://intro.quantecon.org/monte_carlo.html)[](https://intro.quantecon.org/networks.html)[](https://intro.quantecon.org/olg.html)[](https://intro.quantecon.org/prob_dist.html)[](https://intro.quantecon.org/pv.html)[](https://intro.quantecon.org/scalar_dynam.html)[](https://intro.quantecon.org/schelling.html)[](https://intro.quantecon.org/short_path.html)[](https://intro.quantecon.org/simple_linear_regression.html)[](https://intro.quantecon.org/solow.html)[](https://intro.quantecon.org/.html)[](https://intro.quantecon.org/supply_demand_heterogeneity.html)[](https://intro.quantecon.org/supply_demand_multiple_goods.html)[](https://intro.quantecon.org/time_series_with_matrices.html)[](https://intro.quantecon.org/troubleshooting.html)[](https://intro.quantecon.org/unpleasant.html)[](https://intro.quantecon.org/zreferences.html)|Document|Modified|Method|Run Time (s)|Status|\n",
    "|:------------------:|:------------------:|:------------------:|:------------------:|:------------------:|\n",
    "|ar1_processes|2025-02-21 07:22|cache|7.18|✅|\n",
    "|business_cycle|2025-02-21 07:22|cache|10.11|✅|\n",
    "|cagan_adaptive|2025-02-21 07:22|cache|2.35|✅|\n",
    "|cagan_ree|2025-02-21 07:22|cache|3.64|✅|\n",
    "|cobweb|2025-02-21 07:22|cache|2.75|✅|\n",
    "|commod_price|2025-02-21 07:22|cache|18.89|✅|\n",
    "|complex_and_trig|2025-02-21 07:22|cache|2.4|✅|\n",
    "|cons_smooth|2025-02-21 07:22|cache|3.04|✅|\n",
    "|eigen_I|2025-02-21 07:22|cache|4.77|✅|\n",
    "|eigen_II|2025-02-21 07:23|cache|6.09|✅|\n",
    "|equalizing_difference|2025-02-21 07:23|cache|2.19|✅|\n",
    "|french_rev|2025-02-21 07:23|cache|6.91|✅|\n",
    "|geom_series|2025-02-21 07:23|cache|3.08|✅|\n",
    "|greek_square|2025-02-21 07:23|cache|2.75|✅|\n",
    "|heavy_tails|2025-02-21 07:23|cache|14.4|✅|\n",
    "|inequality|2025-02-21 07:24|cache|35.28|✅|\n",
    "|inflation_history|2025-02-21 07:24|cache|6.74|✅|\n",
    "|input_output|2025-02-21 07:24|cache|7.27|✅|\n",
    "|intro|2025-02-21 07:24|cache|0.96|✅|\n",
    "|intro_supply_demand|2025-02-21 07:24|cache|2.51|✅|\n",
    "|laffer_adaptive|2025-02-21 07:24|cache|2.19|✅|\n",
    "|lake_model|2025-02-21 07:24|cache|2.5|✅|\n",
    "|linear_equations|2025-02-21 07:24|cache|2.09|✅|\n",
    "|lln_clt|2025-02-21 07:27|cache|150.84|✅|\n",
    "|long_run_growth|2025-02-21 07:27|cache|7.76|✅|\n",
    "|lp_intro|2025-02-21 07:27|cache|4.54|✅|\n",
    "|markov_chains_I|2025-02-21 07:27|cache|14.75|✅|\n",
    "|markov_chains_II|2025-02-21 07:27|cache|4.87|✅|\n",
    "|mle|2025-02-21 07:27|cache|6.94|✅|\n",
    "|money_inflation|2025-02-21 07:27|cache|2.99|✅|\n",
    "|money_inflation_nonlinear|2025-02-21 07:27|cache|2.27|✅|\n",
    "|monte_carlo|2025-02-21 07:31|cache|202.75|✅|\n",
    "|networks|2025-02-21 07:31|cache|7.36|✅|\n",
    "|olg|2025-02-21 07:31|cache|2.51|✅|\n",
    "|prob_dist|2025-02-21 07:31|cache|6.64|✅|\n",
    "|pv|2025-02-21 07:31|cache|1.66|✅|\n",
    "|scalar_dynam|2025-02-21 07:31|cache|3.03|✅|\n",
    "|schelling|2025-02-21 07:31|cache|13.41|✅|\n",
    "|short_path|2025-02-21 07:31|cache|0.98|✅|\n",
    "|simple_linear_regression|2025-02-21 07:31|cache|4.22|✅|\n",
    "|solow|2025-02-21 07:31|cache|3.55|✅|\n",
    "|status|2025-02-21 07:32|cache|4.4|✅|\n",
    "|supply_demand_heterogeneity|2025-02-21 07:32|cache|1.17|✅|\n",
    "|supply_demand_multiple_goods|2025-02-21 07:32|cache|1.92|✅|\n",
    "|time_series_with_matrices|2025-02-21 07:32|cache|2.59|✅|\n",
    "|troubleshooting|2025-02-21 07:24|cache|0.96|✅|\n",
    "|unpleasant|2025-02-21 07:32|cache|1.9|✅|\n",
    "|zreferences|2025-02-21 07:24|cache|0.96|✅|\n",
    "\n",
    "<a id='status-machine-details'></a>\n",
    "这些讲座是通过 `github actions` 在 `linux` 实例上构建的。\n",
    "\n",
    "这些讲座使用以下的python版本"
   ]
  },
  {
   "cell_type": "code",
   "execution_count": null,
   "id": "0333a4d4",
   "metadata": {
    "hide-output": false
   },
   "outputs": [],
   "source": [
    "!python --version"
   ]
  },
  {
   "cell_type": "markdown",
   "id": "bf140a82",
   "metadata": {},
   "source": [
    "和以下的包版本"
   ]
  },
  {
   "cell_type": "code",
   "execution_count": null,
   "id": "00026810",
   "metadata": {
    "hide-output": false
   },
   "outputs": [],
   "source": [
    "!conda list"
   ]
  }
 ],
 "metadata": {
  "date": 1740124709.3354802,
  "filename": "status.md",
  "kernelspec": {
   "display_name": "Python",
   "language": "python3",
   "name": "python3"
  },
  "title": "执行统计数据"
 },
 "nbformat": 4,
 "nbformat_minor": 5
}