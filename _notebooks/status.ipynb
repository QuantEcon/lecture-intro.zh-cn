{
 "cells": [
  {
   "cell_type": "markdown",
   "id": "8e0f38e1",
   "metadata": {},
   "source": [
    "# 执行统计数据\n",
    "\n",
    "此表包含最新的执行统计数据。\n",
    "\n",
    "[](https://quantecon.github.io/lecture-intro.zh-cn/ar1_processes.html)[](https://quantecon.github.io/lecture-intro.zh-cn/business_cycle.html)[](https://quantecon.github.io/lecture-intro.zh-cn/cagan_adaptive.html)[](https://quantecon.github.io/lecture-intro.zh-cn/cagan_ree.html)[](https://quantecon.github.io/lecture-intro.zh-cn/cobweb.html)[](https://quantecon.github.io/lecture-intro.zh-cn/commod_price.html)[](https://quantecon.github.io/lecture-intro.zh-cn/complex_and_trig.html)[](https://quantecon.github.io/lecture-intro.zh-cn/cons_smooth.html)[](https://quantecon.github.io/lecture-intro.zh-cn/eigen_I.html)[](https://quantecon.github.io/lecture-intro.zh-cn/eigen_II.html)[](https://quantecon.github.io/lecture-intro.zh-cn/equalizing_difference.html)[](https://quantecon.github.io/lecture-intro.zh-cn/french_rev.html)[](https://quantecon.github.io/lecture-intro.zh-cn/geom_series.html)[](https://quantecon.github.io/lecture-intro.zh-cn/greek_square.html)[](https://quantecon.github.io/lecture-intro.zh-cn/heavy_tails.html)[](https://quantecon.github.io/lecture-intro.zh-cn/inequality.html)[](https://quantecon.github.io/lecture-intro.zh-cn/inflation_history.html)[](https://quantecon.github.io/lecture-intro.zh-cn/input_output.html)[](https://quantecon.github.io/lecture-intro.zh-cn/intro.html)[](https://quantecon.github.io/lecture-intro.zh-cn/intro_supply_demand.html)[](https://quantecon.github.io/lecture-intro.zh-cn/laffer_adaptive.html)[](https://quantecon.github.io/lecture-intro.zh-cn/lake_model.html)[](https://quantecon.github.io/lecture-intro.zh-cn/linear_equations.html)[](https://quantecon.github.io/lecture-intro.zh-cn/lln_clt.html)[](https://quantecon.github.io/lecture-intro.zh-cn/long_run_growth.html)[](https://quantecon.github.io/lecture-intro.zh-cn/lp_intro.html)[](https://quantecon.github.io/lecture-intro.zh-cn/markov_chains_I.html)[](https://quantecon.github.io/lecture-intro.zh-cn/markov_chains_II.html)[](https://quantecon.github.io/lecture-intro.zh-cn/mle.html)[](https://quantecon.github.io/lecture-intro.zh-cn/money_inflation.html)[](https://quantecon.github.io/lecture-intro.zh-cn/money_inflation_nonlinear.html)[](https://quantecon.github.io/lecture-intro.zh-cn/monte_carlo.html)[](https://quantecon.github.io/lecture-intro.zh-cn/networks.html)[](https://quantecon.github.io/lecture-intro.zh-cn/olg.html)[](https://quantecon.github.io/lecture-intro.zh-cn/prob_dist.html)[](https://quantecon.github.io/lecture-intro.zh-cn/pv.html)[](https://quantecon.github.io/lecture-intro.zh-cn/scalar_dynam.html)[](https://quantecon.github.io/lecture-intro.zh-cn/schelling.html)[](https://quantecon.github.io/lecture-intro.zh-cn/short_path.html)[](https://quantecon.github.io/lecture-intro.zh-cn/simple_linear_regression.html)[](https://quantecon.github.io/lecture-intro.zh-cn/solow.html)[](https://quantecon.github.io/lecture-intro.zh-cn/.html)[](https://quantecon.github.io/lecture-intro.zh-cn/supply_demand_heterogeneity.html)[](https://quantecon.github.io/lecture-intro.zh-cn/supply_demand_multiple_goods.html)[](https://quantecon.github.io/lecture-intro.zh-cn/time_series_with_matrices.html)[](https://quantecon.github.io/lecture-intro.zh-cn/troubleshooting.html)[](https://quantecon.github.io/lecture-intro.zh-cn/unpleasant.html)[](https://quantecon.github.io/lecture-intro.zh-cn/zreferences.html)|Document|Modified|Method|Run Time (s)|Status|\n",
    "|:------------------:|:------------------:|:------------------:|:------------------:|:------------------:|\n",
    "|ar1_processes|2025-03-10 03:09|cache|5.5|✅|\n",
    "|business_cycle|2025-03-10 03:09|cache|12.55|✅|\n",
    "|cagan_adaptive|2025-03-11 22:09|cache|4.87|✅|\n",
    "|cagan_ree|2025-03-11 22:09|cache|3.66|✅|\n",
    "|cobweb|2025-03-10 03:09|cache|2.76|✅|\n",
    "|commod_price|2025-03-10 03:10|cache|15.65|✅|\n",
    "|complex_and_trig|2025-03-10 03:10|cache|2.44|✅|\n",
    "|cons_smooth|2025-03-10 03:10|cache|3.66|✅|\n",
    "|eigen_I|2025-03-10 03:10|cache|4.74|✅|\n",
    "|eigen_II|2025-03-10 03:10|cache|5.69|✅|\n",
    "|equalizing_difference|2025-03-11 22:09|cache|2.49|✅|\n",
    "|french_rev|2025-03-10 03:10|cache|7.66|✅|\n",
    "|geom_series|2025-03-10 03:10|cache|3.17|✅|\n",
    "|greek_square|2025-03-10 03:10|cache|2.5|✅|\n",
    "|heavy_tails|2025-03-10 03:10|cache|14.32|✅|\n",
    "|inequality|2025-03-10 03:11|cache|43.34|✅|\n",
    "|inflation_history|2025-03-10 03:11|cache|7.28|✅|\n",
    "|input_output|2025-03-10 03:11|cache|7.2|✅|\n",
    "|intro|2025-03-10 03:11|cache|0.97|✅|\n",
    "|intro_supply_demand|2025-03-10 03:11|cache|2.68|✅|\n",
    "|laffer_adaptive|2025-03-10 03:12|cache|2.41|✅|\n",
    "|lake_model|2025-03-10 03:12|cache|2.63|✅|\n",
    "|linear_equations|2025-03-10 03:12|cache|2.15|✅|\n",
    "|lln_clt|2025-03-10 03:14|cache|150.54|✅|\n",
    "|long_run_growth|2025-03-10 03:14|cache|7.95|✅|\n",
    "|lp_intro|2025-03-10 03:14|cache|4.58|✅|\n",
    "|markov_chains_I|2025-03-10 03:15|cache|14.88|✅|\n",
    "|markov_chains_II|2025-03-10 03:15|cache|4.69|✅|\n",
    "|mle|2025-03-10 03:15|cache|7.19|✅|\n",
    "|money_inflation|2025-03-10 03:15|cache|2.85|✅|\n",
    "|money_inflation_nonlinear|2025-03-10 03:15|cache|2.22|✅|\n",
    "|monte_carlo|2025-03-10 03:18|cache|201.37|✅|\n",
    "|networks|2025-03-10 03:18|cache|7.39|✅|\n",
    "|olg|2025-03-10 03:18|cache|2.82|✅|\n",
    "|prob_dist|2025-03-10 03:19|cache|6.72|✅|\n",
    "|pv|2025-03-10 03:19|cache|1.72|✅|\n",
    "|scalar_dynam|2025-03-10 03:19|cache|3.16|✅|\n",
    "|schelling|2025-03-10 03:19|cache|12.64|✅|\n",
    "|short_path|2025-03-10 03:19|cache|0.99|✅|\n",
    "|simple_linear_regression|2025-03-10 03:19|cache|4.42|✅|\n",
    "|solow|2025-03-10 03:19|cache|3.52|✅|\n",
    "|status|2025-03-10 03:19|cache|4.35|✅|\n",
    "|supply_demand_heterogeneity|2025-03-10 03:19|cache|1.05|✅|\n",
    "|supply_demand_multiple_goods|2025-03-10 03:19|cache|2.08|✅|\n",
    "|time_series_with_matrices|2025-03-11 22:10|cache|2.69|✅|\n",
    "|troubleshooting|2025-03-10 03:11|cache|0.97|✅|\n",
    "|unpleasant|2025-03-10 03:19|cache|1.84|✅|\n",
    "|zreferences|2025-03-10 03:11|cache|0.97|✅|\n",
    "\n",
    "<a id='status-machine-details'></a>\n",
    "这些讲座是通过 `github actions` 在 `linux` 实例上构建的。\n",
    "\n",
    "我们使用以下的python版本"
   ]
  },
  {
   "cell_type": "code",
   "execution_count": null,
   "id": "77b87e05",
   "metadata": {
    "hide-output": false
   },
   "outputs": [],
   "source": [
    "!python --version"
   ]
  },
  {
   "cell_type": "markdown",
   "id": "83aded99",
   "metadata": {},
   "source": [
    "和以下的包版本"
   ]
  },
  {
   "cell_type": "code",
   "execution_count": null,
   "id": "4196914e",
   "metadata": {
    "hide-output": false
   },
   "outputs": [],
   "source": [
    "!conda list"
   ]
  }
 ],
 "metadata": {
  "date": 1741731008.3946912,
  "filename": "status.md",
  "kernelspec": {
   "display_name": "Python",
   "language": "python3",
   "name": "python3"
  },
  "title": "执行统计数据"
 },
 "nbformat": 4,
 "nbformat_minor": 5
}