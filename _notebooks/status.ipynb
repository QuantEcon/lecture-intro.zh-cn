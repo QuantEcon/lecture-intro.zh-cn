{
 "cells": [
  {
   "cell_type": "markdown",
   "id": "c7cbc6b5",
   "metadata": {},
   "source": [
    "# 执行统计数据\n",
    "\n",
    "此表包含最新的执行统计数据。\n",
    "\n",
    "[](https://quantecon.github.io/lecture-intro.zh-cn/ar1_processes.html)[](https://quantecon.github.io/lecture-intro.zh-cn/business_cycle.html)[](https://quantecon.github.io/lecture-intro.zh-cn/cagan_adaptive.html)[](https://quantecon.github.io/lecture-intro.zh-cn/cagan_ree.html)[](https://quantecon.github.io/lecture-intro.zh-cn/cobweb.html)[](https://quantecon.github.io/lecture-intro.zh-cn/commod_price.html)[](https://quantecon.github.io/lecture-intro.zh-cn/complex_and_trig.html)[](https://quantecon.github.io/lecture-intro.zh-cn/cons_smooth.html)[](https://quantecon.github.io/lecture-intro.zh-cn/eigen_I.html)[](https://quantecon.github.io/lecture-intro.zh-cn/eigen_II.html)[](https://quantecon.github.io/lecture-intro.zh-cn/equalizing_difference.html)[](https://quantecon.github.io/lecture-intro.zh-cn/french_rev.html)[](https://quantecon.github.io/lecture-intro.zh-cn/geom_series.html)[](https://quantecon.github.io/lecture-intro.zh-cn/greek_square.html)[](https://quantecon.github.io/lecture-intro.zh-cn/heavy_tails.html)[](https://quantecon.github.io/lecture-intro.zh-cn/inequality.html)[](https://quantecon.github.io/lecture-intro.zh-cn/inflation_history.html)[](https://quantecon.github.io/lecture-intro.zh-cn/input_output.html)[](https://quantecon.github.io/lecture-intro.zh-cn/intro.html)[](https://quantecon.github.io/lecture-intro.zh-cn/intro_supply_demand.html)[](https://quantecon.github.io/lecture-intro.zh-cn/laffer_adaptive.html)[](https://quantecon.github.io/lecture-intro.zh-cn/lake_model.html)[](https://quantecon.github.io/lecture-intro.zh-cn/linear_equations.html)[](https://quantecon.github.io/lecture-intro.zh-cn/lln_clt.html)[](https://quantecon.github.io/lecture-intro.zh-cn/long_run_growth.html)[](https://quantecon.github.io/lecture-intro.zh-cn/lp_intro.html)[](https://quantecon.github.io/lecture-intro.zh-cn/markov_chains_I.html)[](https://quantecon.github.io/lecture-intro.zh-cn/markov_chains_II.html)[](https://quantecon.github.io/lecture-intro.zh-cn/mle.html)[](https://quantecon.github.io/lecture-intro.zh-cn/money_inflation.html)[](https://quantecon.github.io/lecture-intro.zh-cn/money_inflation_nonlinear.html)[](https://quantecon.github.io/lecture-intro.zh-cn/monte_carlo.html)[](https://quantecon.github.io/lecture-intro.zh-cn/networks.html)[](https://quantecon.github.io/lecture-intro.zh-cn/olg.html)[](https://quantecon.github.io/lecture-intro.zh-cn/prob_dist.html)[](https://quantecon.github.io/lecture-intro.zh-cn/pv.html)[](https://quantecon.github.io/lecture-intro.zh-cn/scalar_dynam.html)[](https://quantecon.github.io/lecture-intro.zh-cn/schelling.html)[](https://quantecon.github.io/lecture-intro.zh-cn/short_path.html)[](https://quantecon.github.io/lecture-intro.zh-cn/simple_linear_regression.html)[](https://quantecon.github.io/lecture-intro.zh-cn/solow.html)[](https://quantecon.github.io/lecture-intro.zh-cn/.html)[](https://quantecon.github.io/lecture-intro.zh-cn/supply_demand_heterogeneity.html)[](https://quantecon.github.io/lecture-intro.zh-cn/supply_demand_multiple_goods.html)[](https://quantecon.github.io/lecture-intro.zh-cn/time_series_with_matrices.html)[](https://quantecon.github.io/lecture-intro.zh-cn/troubleshooting.html)[](https://quantecon.github.io/lecture-intro.zh-cn/unpleasant.html)[](https://quantecon.github.io/lecture-intro.zh-cn/zreferences.html)|Document|Modified|Method|Run Time (s)|Status|\n",
    "|:------------------:|:------------------:|:------------------:|:------------------:|:------------------:|\n",
    "|ar1_processes|2025-10-27 03:32|cache|6.79|✅|\n",
    "|business_cycle|2025-10-27 03:32|cache|14.31|✅|\n",
    "|cagan_adaptive|2025-10-27 03:32|cache|2.52|✅|\n",
    "|cagan_ree|2025-10-27 03:32|cache|3.86|✅|\n",
    "|cobweb|2025-10-27 03:32|cache|2.96|✅|\n",
    "|commod_price|2025-10-27 03:32|cache|18.74|✅|\n",
    "|complex_and_trig|2025-10-27 03:32|cache|2.48|✅|\n",
    "|cons_smooth|2025-10-27 03:33|cache|3.87|✅|\n",
    "|eigen_I|2025-10-27 03:33|cache|5.21|✅|\n",
    "|eigen_II|2025-10-27 03:33|cache|6.14|✅|\n",
    "|equalizing_difference|2025-10-27 03:33|cache|2.58|✅|\n",
    "|french_rev|2025-10-27 03:33|cache|10.39|✅|\n",
    "|geom_series|2025-10-27 03:33|cache|3.26|✅|\n",
    "|greek_square|2025-10-27 03:33|cache|2.67|✅|\n",
    "|heavy_tails|2025-10-27 03:33|cache|15.73|✅|\n",
    "|inequality|2025-10-27 03:34|cache|55.47|✅|\n",
    "|inflation_history|2025-10-27 03:34|cache|7.61|✅|\n",
    "|input_output|2025-10-27 03:35|cache|8.97|✅|\n",
    "|intro|2025-10-27 03:35|cache|4.02|✅|\n",
    "|intro_supply_demand|2025-10-27 03:35|cache|2.79|✅|\n",
    "|laffer_adaptive|2025-10-27 03:35|cache|2.57|✅|\n",
    "|lake_model|2025-10-27 03:35|cache|2.79|✅|\n",
    "|linear_equations|2025-10-27 03:35|cache|2.18|✅|\n",
    "|lln_clt|2025-10-27 03:37|cache|152.85|✅|\n",
    "|long_run_growth|2025-10-27 03:37|cache|9.18|✅|\n",
    "|lp_intro|2025-10-27 03:38|cache|5.68|✅|\n",
    "|markov_chains_I|2025-10-27 03:38|cache|15.97|✅|\n",
    "|markov_chains_II|2025-10-27 03:38|cache|5.38|✅|\n",
    "|mle|2025-10-27 03:38|cache|6.69|✅|\n",
    "|money_inflation|2025-10-27 03:38|cache|3.05|✅|\n",
    "|money_inflation_nonlinear|2025-10-27 03:38|cache|2.54|✅|\n",
    "|monte_carlo|2025-10-27 03:41|cache|200.25|✅|\n",
    "|networks|2025-10-27 03:42|cache|7.62|✅|\n",
    "|olg|2025-10-27 03:42|cache|2.79|✅|\n",
    "|prob_dist|2025-10-27 03:42|cache|7.51|✅|\n",
    "|pv|2025-10-27 03:42|cache|1.84|✅|\n",
    "|scalar_dynam|2025-10-27 03:42|cache|3.19|✅|\n",
    "|schelling|2025-10-27 03:42|cache|12.63|✅|\n",
    "|short_path|2025-10-27 03:42|cache|1.22|✅|\n",
    "|simple_linear_regression|2025-10-27 03:42|cache|4.86|✅|\n",
    "|solow|2025-10-27 03:42|cache|4.01|✅|\n",
    "|status|2025-10-27 03:42|cache|4.5|✅|\n",
    "|supply_demand_heterogeneity|2025-10-27 03:42|cache|1.15|✅|\n",
    "|supply_demand_multiple_goods|2025-10-27 03:42|cache|1.98|✅|\n",
    "|time_series_with_matrices|2025-10-27 03:42|cache|2.7|✅|\n",
    "|troubleshooting|2025-10-27 03:35|cache|4.02|✅|\n",
    "|unpleasant|2025-10-27 03:42|cache|2.09|✅|\n",
    "|zreferences|2025-10-27 03:35|cache|4.02|✅|\n",
    "\n",
    "<a id='status-machine-details'></a>\n",
    "这些讲座是通过 `github actions` 在 `linux` 实例上构建的。\n",
    "\n",
    "我们使用以下的python版本"
   ]
  },
  {
   "cell_type": "code",
   "execution_count": null,
   "id": "b70d934b",
   "metadata": {
    "hide-output": false
   },
   "outputs": [],
   "source": [
    "!python --version"
   ]
  },
  {
   "cell_type": "markdown",
   "id": "1e793955",
   "metadata": {},
   "source": [
    "和以下的包版本"
   ]
  },
  {
   "cell_type": "code",
   "execution_count": null,
   "id": "3e9c30e0",
   "metadata": {
    "hide-output": false
   },
   "outputs": [],
   "source": [
    "!conda list"
   ]
  }
 ],
 "metadata": {
  "date": 1761800386.37444,
  "filename": "status.md",
  "kernelspec": {
   "display_name": "Python",
   "language": "python3",
   "name": "python3"
  },
  "title": "执行统计数据"
 },
 "nbformat": 4,
 "nbformat_minor": 5
}