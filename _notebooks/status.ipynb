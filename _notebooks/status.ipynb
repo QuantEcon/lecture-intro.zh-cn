{
 "cells": [
  {
   "cell_type": "markdown",
   "id": "c8903add",
   "metadata": {},
   "source": [
    "# 执行统计数据\n",
    "\n",
    "此表包含最新的执行统计数据。\n",
    "\n",
    "[](https://intro.quantecon.org/ar1_processes.html)[](https://intro.quantecon.org/business_cycle.html)[](https://intro.quantecon.org/cagan_adaptive.html)[](https://intro.quantecon.org/cagan_ree.html)[](https://intro.quantecon.org/cobweb.html)[](https://intro.quantecon.org/commod_price.html)[](https://intro.quantecon.org/complex_and_trig.html)[](https://intro.quantecon.org/cons_smooth.html)[](https://intro.quantecon.org/eigen_I.html)[](https://intro.quantecon.org/eigen_II.html)[](https://intro.quantecon.org/equalizing_difference.html)[](https://intro.quantecon.org/french_rev.html)[](https://intro.quantecon.org/geom_series.html)[](https://intro.quantecon.org/greek_square.html)[](https://intro.quantecon.org/heavy_tails.html)[](https://intro.quantecon.org/inequality.html)[](https://intro.quantecon.org/inflation_history.html)[](https://intro.quantecon.org/input_output.html)[](https://intro.quantecon.org/intro.html)[](https://intro.quantecon.org/intro_supply_demand.html)[](https://intro.quantecon.org/laffer_adaptive.html)[](https://intro.quantecon.org/lake_model.html)[](https://intro.quantecon.org/linear_equations.html)[](https://intro.quantecon.org/lln_clt.html)[](https://intro.quantecon.org/long_run_growth.html)[](https://intro.quantecon.org/lp_intro.html)[](https://intro.quantecon.org/markov_chains_I.html)[](https://intro.quantecon.org/markov_chains_II.html)[](https://intro.quantecon.org/mle.html)[](https://intro.quantecon.org/money_inflation.html)[](https://intro.quantecon.org/money_inflation_nonlinear.html)[](https://intro.quantecon.org/monte_carlo.html)[](https://intro.quantecon.org/networks.html)[](https://intro.quantecon.org/olg.html)[](https://intro.quantecon.org/prob_dist.html)[](https://intro.quantecon.org/pv.html)[](https://intro.quantecon.org/scalar_dynam.html)[](https://intro.quantecon.org/schelling.html)[](https://intro.quantecon.org/short_path.html)[](https://intro.quantecon.org/simple_linear_regression.html)[](https://intro.quantecon.org/solow.html)[](https://intro.quantecon.org/.html)[](https://intro.quantecon.org/supply_demand_heterogeneity.html)[](https://intro.quantecon.org/supply_demand_multiple_goods.html)[](https://intro.quantecon.org/time_series_with_matrices.html)[](https://intro.quantecon.org/troubleshooting.html)[](https://intro.quantecon.org/unpleasant.html)[](https://intro.quantecon.org/zreferences.html)|Document|Modified|Method|Run Time (s)|Status|\n",
    "|:------------------:|:------------------:|:------------------:|:------------------:|:------------------:|\n",
    "|ar1_processes|2025-02-26 22:47|cache|6.41|✅|\n",
    "|business_cycle|2025-02-26 22:47|cache|12.38|✅|\n",
    "|cagan_adaptive|2025-02-24 03:17|cache|2.63|✅|\n",
    "|cagan_ree|2025-02-24 03:17|cache|3.79|✅|\n",
    "|cobweb|2025-02-26 22:47|cache|2.59|✅|\n",
    "|commod_price|2025-02-24 03:17|cache|17.4|✅|\n",
    "|complex_and_trig|2025-02-24 03:17|cache|2.6|✅|\n",
    "|cons_smooth|2025-02-24 03:17|cache|3.27|✅|\n",
    "|eigen_I|2025-02-26 22:47|cache|4.74|✅|\n",
    "|eigen_II|2025-02-24 03:18|cache|6.0|✅|\n",
    "|equalizing_difference|2025-02-26 22:47|cache|2.17|✅|\n",
    "|french_rev|2025-02-24 03:18|cache|7.91|✅|\n",
    "|geom_series|2025-02-26 22:47|cache|2.97|✅|\n",
    "|greek_square|2025-02-26 22:47|cache|2.44|✅|\n",
    "|heavy_tails|2025-02-26 22:48|cache|26.67|✅|\n",
    "|inequality|2025-02-26 22:48|cache|38.83|✅|\n",
    "|inflation_history|2025-02-26 22:48|cache|6.89|✅|\n",
    "|input_output|2025-02-26 22:49|cache|7.58|✅|\n",
    "|intro|2025-02-24 03:19|cache|0.98|✅|\n",
    "|intro_supply_demand|2025-02-26 22:49|cache|2.67|✅|\n",
    "|laffer_adaptive|2025-02-26 22:49|cache|2.3|✅|\n",
    "|lake_model|2025-02-24 03:19|cache|2.62|✅|\n",
    "|linear_equations|2025-02-24 03:19|cache|2.15|✅|\n",
    "|lln_clt|2025-02-26 22:51|cache|150.24|✅|\n",
    "|long_run_growth|2025-02-24 03:22|cache|8.33|✅|\n",
    "|lp_intro|2025-02-26 22:51|cache|4.54|✅|\n",
    "|markov_chains_I|2025-02-24 03:22|cache|14.93|✅|\n",
    "|markov_chains_II|2025-02-26 22:51|cache|7.09|✅|\n",
    "|mle|2025-02-24 03:22|cache|8.03|✅|\n",
    "|money_inflation|2025-02-24 03:22|cache|2.99|✅|\n",
    "|money_inflation_nonlinear|2025-02-26 22:51|cache|2.32|✅|\n",
    "|monte_carlo|2025-02-26 22:55|cache|201.79|✅|\n",
    "|networks|2025-02-24 03:26|cache|7.4|✅|\n",
    "|olg|2025-02-26 22:55|cache|2.41|✅|\n",
    "|prob_dist|2025-02-26 22:55|cache|6.65|✅|\n",
    "|pv|2025-02-24 03:26|cache|1.68|✅|\n",
    "|scalar_dynam|2025-02-24 03:26|cache|3.09|✅|\n",
    "|schelling|2025-02-24 03:26|cache|12.49|✅|\n",
    "|short_path|2025-02-24 03:26|cache|0.86|✅|\n",
    "|simple_linear_regression|2025-02-26 22:55|cache|4.13|✅|\n",
    "|solow|2025-02-26 22:55|cache|3.88|✅|\n",
    "|status|2025-02-24 03:27|cache|4.6|✅|\n",
    "|supply_demand_heterogeneity|2025-02-24 03:27|cache|1.04|✅|\n",
    "|supply_demand_multiple_goods|2025-02-24 03:27|cache|2.05|✅|\n",
    "|time_series_with_matrices|2025-02-24 03:27|cache|2.76|✅|\n",
    "|troubleshooting|2025-02-24 03:19|cache|0.98|✅|\n",
    "|unpleasant|2025-02-26 22:55|cache|1.74|✅|\n",
    "|zreferences|2025-02-24 03:19|cache|0.98|✅|\n",
    "\n",
    "<a id='status-machine-details'></a>\n",
    "这些讲座是通过 `github actions` 在 `linux` 实例上构建的。\n",
    "\n",
    "这些讲座使用以下的python版本"
   ]
  },
  {
   "cell_type": "code",
   "execution_count": null,
   "id": "fa2b73cf",
   "metadata": {
    "hide-output": false
   },
   "outputs": [],
   "source": [
    "!python --version"
   ]
  },
  {
   "cell_type": "markdown",
   "id": "28d208cf",
   "metadata": {},
   "source": [
    "和以下的包版本"
   ]
  },
  {
   "cell_type": "code",
   "execution_count": null,
   "id": "345bf27e",
   "metadata": {
    "hide-output": false
   },
   "outputs": [],
   "source": [
    "!conda list"
   ]
  }
 ],
 "metadata": {
  "date": 1740610539.473909,
  "filename": "status.md",
  "kernelspec": {
   "display_name": "Python",
   "language": "python3",
   "name": "python3"
  },
  "title": "执行统计数据"
 },
 "nbformat": 4,
 "nbformat_minor": 5
}