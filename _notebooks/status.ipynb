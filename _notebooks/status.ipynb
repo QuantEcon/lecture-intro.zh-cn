{
 "cells": [
  {
   "cell_type": "markdown",
   "id": "73ba61c4",
   "metadata": {},
   "source": [
    "# 执行统计数据\n",
    "\n",
    "此表包含最新的执行统计数据。\n",
    "\n",
    "[](https://quantecon.github.io/lecture-intro.zh-cn/ar1_processes.html)[](https://quantecon.github.io/lecture-intro.zh-cn/business_cycle.html)[](https://quantecon.github.io/lecture-intro.zh-cn/cagan_adaptive.html)[](https://quantecon.github.io/lecture-intro.zh-cn/cagan_ree.html)[](https://quantecon.github.io/lecture-intro.zh-cn/cobweb.html)[](https://quantecon.github.io/lecture-intro.zh-cn/commod_price.html)[](https://quantecon.github.io/lecture-intro.zh-cn/complex_and_trig.html)[](https://quantecon.github.io/lecture-intro.zh-cn/cons_smooth.html)[](https://quantecon.github.io/lecture-intro.zh-cn/eigen_I.html)[](https://quantecon.github.io/lecture-intro.zh-cn/eigen_II.html)[](https://quantecon.github.io/lecture-intro.zh-cn/equalizing_difference.html)[](https://quantecon.github.io/lecture-intro.zh-cn/french_rev.html)[](https://quantecon.github.io/lecture-intro.zh-cn/geom_series.html)[](https://quantecon.github.io/lecture-intro.zh-cn/greek_square.html)[](https://quantecon.github.io/lecture-intro.zh-cn/heavy_tails.html)[](https://quantecon.github.io/lecture-intro.zh-cn/inequality.html)[](https://quantecon.github.io/lecture-intro.zh-cn/inflation_history.html)[](https://quantecon.github.io/lecture-intro.zh-cn/input_output.html)[](https://quantecon.github.io/lecture-intro.zh-cn/intro.html)[](https://quantecon.github.io/lecture-intro.zh-cn/intro_supply_demand.html)[](https://quantecon.github.io/lecture-intro.zh-cn/laffer_adaptive.html)[](https://quantecon.github.io/lecture-intro.zh-cn/lake_model.html)[](https://quantecon.github.io/lecture-intro.zh-cn/linear_equations.html)[](https://quantecon.github.io/lecture-intro.zh-cn/lln_clt.html)[](https://quantecon.github.io/lecture-intro.zh-cn/long_run_growth.html)[](https://quantecon.github.io/lecture-intro.zh-cn/lp_intro.html)[](https://quantecon.github.io/lecture-intro.zh-cn/markov_chains_I.html)[](https://quantecon.github.io/lecture-intro.zh-cn/markov_chains_II.html)[](https://quantecon.github.io/lecture-intro.zh-cn/mle.html)[](https://quantecon.github.io/lecture-intro.zh-cn/money_inflation.html)[](https://quantecon.github.io/lecture-intro.zh-cn/money_inflation_nonlinear.html)[](https://quantecon.github.io/lecture-intro.zh-cn/monte_carlo.html)[](https://quantecon.github.io/lecture-intro.zh-cn/networks.html)[](https://quantecon.github.io/lecture-intro.zh-cn/olg.html)[](https://quantecon.github.io/lecture-intro.zh-cn/prob_dist.html)[](https://quantecon.github.io/lecture-intro.zh-cn/pv.html)[](https://quantecon.github.io/lecture-intro.zh-cn/scalar_dynam.html)[](https://quantecon.github.io/lecture-intro.zh-cn/schelling.html)[](https://quantecon.github.io/lecture-intro.zh-cn/short_path.html)[](https://quantecon.github.io/lecture-intro.zh-cn/simple_linear_regression.html)[](https://quantecon.github.io/lecture-intro.zh-cn/solow.html)[](https://quantecon.github.io/lecture-intro.zh-cn/.html)[](https://quantecon.github.io/lecture-intro.zh-cn/supply_demand_heterogeneity.html)[](https://quantecon.github.io/lecture-intro.zh-cn/supply_demand_multiple_goods.html)[](https://quantecon.github.io/lecture-intro.zh-cn/time_series_with_matrices.html)[](https://quantecon.github.io/lecture-intro.zh-cn/troubleshooting.html)[](https://quantecon.github.io/lecture-intro.zh-cn/unpleasant.html)[](https://quantecon.github.io/lecture-intro.zh-cn/zreferences.html)|Document|Modified|Method|Run Time (s)|Status|\n",
    "|:------------------:|:------------------:|:------------------:|:------------------:|:------------------:|\n",
    "|ar1_processes|2025-03-31 03:24|cache|7.4|✅|\n",
    "|business_cycle|2025-03-31 03:24|cache|10.87|✅|\n",
    "|cagan_adaptive|2025-03-31 03:24|cache|2.48|✅|\n",
    "|cagan_ree|2025-03-31 03:24|cache|3.44|✅|\n",
    "|cobweb|2025-04-05 06:19|cache|4.74|✅|\n",
    "|commod_price|2025-04-05 06:19|cache|16.13|✅|\n",
    "|complex_and_trig|2025-03-31 03:25|cache|2.58|✅|\n",
    "|cons_smooth|2025-03-31 03:25|cache|3.4|✅|\n",
    "|eigen_I|2025-04-05 06:19|cache|4.8|✅|\n",
    "|eigen_II|2025-04-05 06:19|cache|6.08|✅|\n",
    "|equalizing_difference|2025-03-31 03:25|cache|2.33|✅|\n",
    "|french_rev|2025-03-31 03:25|cache|7.25|✅|\n",
    "|geom_series|2025-04-05 06:19|cache|3.2|✅|\n",
    "|greek_square|2025-03-31 03:25|cache|2.79|✅|\n",
    "|heavy_tails|2025-04-05 06:19|cache|14.84|✅|\n",
    "|inequality|2025-04-05 06:20|cache|42.35|✅|\n",
    "|inflation_history|2025-04-05 06:20|cache|6.35|✅|\n",
    "|input_output|2025-03-31 03:26|cache|7.91|✅|\n",
    "|intro|2025-03-31 03:26|cache|0.97|✅|\n",
    "|intro_supply_demand|2025-03-31 03:26|cache|2.67|✅|\n",
    "|laffer_adaptive|2025-04-05 06:20|cache|2.41|✅|\n",
    "|lake_model|2025-03-31 03:27|cache|2.6|✅|\n",
    "|linear_equations|2025-04-05 06:20|cache|2.1|✅|\n",
    "|lln_clt|2025-03-31 03:29|cache|150.79|✅|\n",
    "|long_run_growth|2025-04-05 06:20|cache|7.15|✅|\n",
    "|lp_intro|2025-04-05 06:20|cache|4.25|✅|\n",
    "|markov_chains_I|2025-03-31 03:30|cache|14.33|✅|\n",
    "|markov_chains_II|2025-03-31 03:30|cache|4.79|✅|\n",
    "|mle|2025-03-31 03:30|cache|7.19|✅|\n",
    "|money_inflation|2025-04-05 06:20|cache|2.93|✅|\n",
    "|money_inflation_nonlinear|2025-04-05 06:20|cache|2.27|✅|\n",
    "|monte_carlo|2025-03-31 03:33|cache|201.7|✅|\n",
    "|networks|2025-04-05 06:21|cache|7.79|✅|\n",
    "|olg|2025-03-31 03:33|cache|2.64|✅|\n",
    "|prob_dist|2025-03-31 03:33|cache|6.39|✅|\n",
    "|pv|2025-03-31 03:34|cache|1.58|✅|\n",
    "|scalar_dynam|2025-03-31 03:34|cache|3.07|✅|\n",
    "|schelling|2025-03-31 03:34|cache|12.67|✅|\n",
    "|short_path|2025-03-31 03:34|cache|0.95|✅|\n",
    "|simple_linear_regression|2025-04-05 06:21|cache|4.06|✅|\n",
    "|solow|2025-03-31 03:34|cache|3.54|✅|\n",
    "|status|2025-03-31 03:34|cache|4.49|✅|\n",
    "|supply_demand_heterogeneity|2025-03-31 03:34|cache|0.99|✅|\n",
    "|supply_demand_multiple_goods|2025-04-05 06:21|cache|2.03|✅|\n",
    "|time_series_with_matrices|2025-03-31 03:34|cache|2.72|✅|\n",
    "|troubleshooting|2025-03-31 03:26|cache|0.97|✅|\n",
    "|unpleasant|2025-04-05 06:21|cache|1.88|✅|\n",
    "|zreferences|2025-03-31 03:26|cache|0.97|✅|\n",
    "\n",
    "<a id='status-machine-details'></a>\n",
    "这些讲座是通过 `github actions` 在 `linux` 实例上构建的。\n",
    "\n",
    "我们使用以下的python版本"
   ]
  },
  {
   "cell_type": "code",
   "execution_count": null,
   "id": "243267ad",
   "metadata": {
    "hide-output": false
   },
   "outputs": [],
   "source": [
    "!python --version"
   ]
  },
  {
   "cell_type": "markdown",
   "id": "c736ae19",
   "metadata": {},
   "source": [
    "和以下的包版本"
   ]
  },
  {
   "cell_type": "code",
   "execution_count": null,
   "id": "f21d8e15",
   "metadata": {
    "hide-output": false
   },
   "outputs": [],
   "source": [
    "!conda list"
   ]
  }
 ],
 "metadata": {
  "date": 1743834080.9707787,
  "filename": "status.md",
  "kernelspec": {
   "display_name": "Python",
   "language": "python3",
   "name": "python3"
  },
  "title": "执行统计数据"
 },
 "nbformat": 4,
 "nbformat_minor": 5
}