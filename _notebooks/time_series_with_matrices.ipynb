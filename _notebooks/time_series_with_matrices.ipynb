{
 "cells": [
  {
   "cell_type": "markdown",
   "id": "c7a062cb",
   "metadata": {},
   "source": [
    "\n",
    "<a id='time-series-with-matrices'></a>\n",
    "<div id=\"qe-notebook-header\" align=\"right\" style=\"text-align:right;\">\n",
    "        <a href=\"https://quantecon.org/\" title=\"quantecon.org\">\n",
    "                <img style=\"width:250px;display:inline;\" width=\"250px\" src=\"https://assets.quantecon.org/img/qe-menubar-logo.svg\" alt=\"QuantEcon\">\n",
    "        </a>\n",
    "</div>"
   ]
  },
  {
   "cell_type": "markdown",
   "id": "a6837f28",
   "metadata": {},
   "source": [
    "# 用矩阵代数表示的单变量时间序列"
   ]
  },
  {
   "cell_type": "markdown",
   "id": "fc9ce60c",
   "metadata": {},
   "source": [
    "## 概述\n",
    "\n",
    "本讲使用矩阵来解决线性差分方程。\n",
    "\n",
    "作为一个实际例子，我们将研究一个保罗·萨缪尔森 1939 年文章 [[Samuelson, 1939](https://quantecon.github.io/lecture-intro.zh-cn/zreferences.html#id107)] 中的**二阶线性差分方程**，该文章引入了**乘数加速器**模型。\n",
    "\n",
    "这个模型对早期美国凯恩斯主义宏观经济学的计量经济学研究产生了重要影响。\n",
    "\n",
    "如果你想了解更多关于这个模型的细节，可以参考[Samuelson Multiplier-Accelerator](https://python.quantecon.org/samuelson.html)。\n",
    "\n",
    "（该讲座也包含了二阶线性差分方程的一些技术细节。）\n",
    "\n",
    "在本讲座中，我们将探讨如何用两种不同的方式来表示非平稳时间序列 $ \\{y_t\\}_{t=0}^T $：**自回归**表示和**移动平均**表示。\n",
    "\n",
    "我们还将研究一个涉及解“前瞻性”线性差分方程的“完全预见的”股票价格模型。\n",
    "\n",
    "让我们先导入所需的Python包："
   ]
  },
  {
   "cell_type": "code",
   "execution_count": null,
   "id": "34b111fb",
   "metadata": {
    "hide-output": false
   },
   "outputs": [],
   "source": [
    "import numpy as np\n",
    "import matplotlib.pyplot as plt\n",
    "from matplotlib import cm\n",
    "\n",
    "# 设置默认图形大小\n",
    "plt.rcParams[\"figure.figsize\"] = (11, 5)\n",
    "\n",
    "# 设置打印的浮点数精度\n",
    "np.set_printoptions(precision=3, suppress=True)"
   ]
  },
  {
   "cell_type": "markdown",
   "id": "17c9d4a6",
   "metadata": {},
   "source": [
    "## 萨缪尔森的模型\n",
    "\n",
    "设 $ t = 0, \\pm 1, \\pm 2, \\ldots $ 为时间。\n",
    "\n",
    "对于 $ t=1, 2, 3, \\ldots, T $，假设\n",
    "\n",
    "\n",
    "<a id='equation-tswm-1'></a>\n",
    "$$\n",
    "y_{t} = \\alpha_{0} + \\alpha_{1} y_{t-1} + \\alpha_{2} y_{t-2} \\tag{35.1}\n",
    "$$\n",
    "\n",
    "我们假设 $ y_0 $ 和 $ y_{-1} $ 是给定的数字，我们将其作为**初始条件**。\n",
    "\n",
    "在萨缪尔森的模型中，$ y_t $ 表示 **国民收入** 或者 **国内生产总值**（GDP）在时间 $ t $ 的测量值。\n",
    "\n",
    "方程 [(35.1)](#equation-tswm-1) 称为 **二阶线性差分方程**，因为它包含了两个滞后值。\n",
    "\n",
    "实际上，它是 $ T $ 个关于 $ T $ 个变量 $ y_1, y_2, \\ldots, y_T $ 的线性方程的集合。\n",
    "\n",
    ">**Note**\n",
    ">\n",
    ">为了能够解决一个二阶线性差分方程，我们需要两个**边界条件**，它们可以采取两个**初始条件**或两个**终端条件**或每种各一个的形式。\n",
    "\n",
    "我们将方程写成堆叠系统\n",
    "\n",
    "$$\n",
    "\\underset{\\equiv A}{\\underbrace{\\left[\\begin{array}{cccccccc}\n",
    "1 & 0 & 0 & 0 & \\cdots & 0 & 0 & 0\\\\\n",
    "-\\alpha_{1} & 1 & 0 & 0 & \\cdots & 0 & 0 & 0\\\\\n",
    "-\\alpha_{2} & -\\alpha_{1} & 1 & 0 & \\cdots & 0 & 0 & 0\\\\\n",
    "0 & -\\alpha_{2} & -\\alpha_{1} & 1 & \\cdots & 0 & 0 & 0\\\\\n",
    "\\vdots & \\vdots & \\vdots & \\vdots & \\cdots & \\vdots & \\vdots & \\vdots\\\\\n",
    "0 & 0 & 0 & 0 & \\cdots & -\\alpha_{2} & -\\alpha_{1} & 1\n",
    "\\end{array}\\right]}}\\left[\\begin{array}{c}\n",
    "y_{1}\\\\\n",
    "y_{2}\\\\\n",
    "y_{3}\\\\\n",
    "y_{4}\\\\\n",
    "\\vdots\\\\\n",
    "y_{T}\n",
    "\\end{array}\\right]=\\underset{\\equiv b}{\\underbrace{\\left[\\begin{array}{c}\n",
    "\\alpha_{0}+\\alpha_{1}y_{0}+\\alpha_{2}y_{-1}\\\\\n",
    "\\alpha_{0}+\\alpha_{2}y_{0}\\\\\n",
    "\\alpha_{0}\\\\\n",
    "\\alpha_{0}\\\\\n",
    "\\vdots\\\\\n",
    "\\alpha_{0}\n",
    "\\end{array}\\right]}}\n",
    "$$\n",
    "\n",
    "或者\n",
    "\n",
    "$$\n",
    "A y = b\n",
    "$$\n",
    "\n",
    "其中\n",
    "\n",
    "$$\n",
    "y = \\begin{bmatrix} y_1 \\cr y_2 \\cr \\vdots \\cr y_T \\end{bmatrix}\n",
    "$$\n",
    "\n",
    "显然，$ y $ 可以由以下公式计算得出\n",
    "\n",
    "$$\n",
    "y = A^{-1} b\n",
    "$$\n",
    "\n",
    "向量 $ y $ 是完整的时间路径 $ \\{y_t\\}_{t=1}^T $。\n",
    "\n",
    "我们用 Python 来实现一个例子来展现萨缪尔森乘数-加速器模型的基本思想。\n",
    "\n",
    "我们使用与[Samuelson Multiplier-Accelerator](https://python.quantecon.org/samuelson.html)讲座相同的参数值。"
   ]
  },
  {
   "cell_type": "code",
   "execution_count": null,
   "id": "6f8c5afb",
   "metadata": {
    "hide-output": false
   },
   "outputs": [],
   "source": [
    "T = 80\n",
    "\n",
    "# 参数\n",
    "α_0 = 10.0\n",
    "α_1 = 1.53\n",
    "α_2 = -.9\n",
    "\n",
    "y_neg1 = 28.0 # y_{-1}\n",
    "y_0 = 24.0"
   ]
  },
  {
   "cell_type": "markdown",
   "id": "bdbc5234",
   "metadata": {},
   "source": [
    "现在我们构造 $ A $ 和 $ b $。"
   ]
  },
  {
   "cell_type": "code",
   "execution_count": null,
   "id": "c28c5926",
   "metadata": {
    "hide-output": false
   },
   "outputs": [],
   "source": [
    "A = np.identity(T)  # T x T 的单位矩阵\n",
    "\n",
    "for i in range(T):\n",
    "\n",
    "    if i-1 >= 0:\n",
    "        A[i, i-1] = -α_1\n",
    "\n",
    "    if i-2 >= 0:\n",
    "        A[i, i-2] = -α_2\n",
    "\n",
    "b = np.full(T, α_0)\n",
    "b[0] = α_0 + α_1 * y_0 + α_2 * y_neg1\n",
    "b[1] = α_0 + α_2 * y_0"
   ]
  },
  {
   "cell_type": "markdown",
   "id": "87779ea5",
   "metadata": {},
   "source": [
    "让我们打印出例子中的矩阵 $ A $ 和向量 $ b $。"
   ]
  },
  {
   "cell_type": "code",
   "execution_count": null,
   "id": "6bc848e1",
   "metadata": {
    "hide-output": false
   },
   "outputs": [],
   "source": [
    "A, b"
   ]
  },
  {
   "cell_type": "markdown",
   "id": "d438f0bf",
   "metadata": {},
   "source": [
    "现在我们来求解 $ y $ 的路径。\n",
    "\n",
    "如果 $ y_t $ 表示 $ t $ 时期的国民生产总值，那么这就是萨缪尔森国民生产总值动态模型的一个版本。\n",
    "\n",
    "要求解 $ y = A^{-1} b $，我们可以直接倒置 $ A $"
   ]
  },
  {
   "cell_type": "code",
   "execution_count": null,
   "id": "80caed41",
   "metadata": {
    "hide-output": false
   },
   "outputs": [],
   "source": [
    "A_inv = np.linalg.inv(A)\n",
    "\n",
    "y = A_inv @ b"
   ]
  },
  {
   "cell_type": "markdown",
   "id": "fa6000ef",
   "metadata": {},
   "source": [
    "或者我们可以使用 `np.linalg.solve`："
   ]
  },
  {
   "cell_type": "code",
   "execution_count": null,
   "id": "2a6f0425",
   "metadata": {
    "hide-output": false
   },
   "outputs": [],
   "source": [
    "y_second_method = np.linalg.solve(A, b)"
   ]
  },
  {
   "cell_type": "markdown",
   "id": "26329f92",
   "metadata": {},
   "source": [
    "我们确保这两种方法在一定精度下给出相同的结果："
   ]
  },
  {
   "cell_type": "code",
   "execution_count": null,
   "id": "ac96f484",
   "metadata": {
    "hide-output": false
   },
   "outputs": [],
   "source": [
    "np.allclose(y, y_second_method)"
   ]
  },
  {
   "cell_type": "markdown",
   "id": "cc9bcc42",
   "metadata": {},
   "source": [
    "$ A $ 是可逆的，因为它是下三角且[其对角线条目非零](https://www.statlect.com/matrix-algebra/triangular-matrix)"
   ]
  },
  {
   "cell_type": "code",
   "execution_count": null,
   "id": "79ac3505",
   "metadata": {
    "hide-output": false
   },
   "outputs": [],
   "source": [
    "# Check if A is lower triangular\n",
    "np.allclose(A, np.tril(A))"
   ]
  },
  {
   "cell_type": "markdown",
   "id": "a2aade72",
   "metadata": {},
   "source": [
    ">**Note**\n",
    ">\n",
    ">一般来说，`np.linalg.solve`比使用`np.linalg.solve`在数值上更稳定。\n",
    "然而，对于这个小例子来说，稳定性不是问题。此外，我们将下面重复使用`A_inv`，直接计算出它来会有比较好。\n",
    "\n",
    "现在我们可以绘制时间序列。"
   ]
  },
  {
   "cell_type": "code",
   "execution_count": null,
   "id": "00f6266f",
   "metadata": {
    "hide-output": false
   },
   "outputs": [],
   "source": [
    "plt.plot(np.arange(T)+1, y)\n",
    "plt.xlabel('t')\n",
    "plt.ylabel('y')\n",
    "\n",
    "plt.show()"
   ]
  },
  {
   "cell_type": "markdown",
   "id": "b8848b70",
   "metadata": {},
   "source": [
    "通过在[(35.1)](#equation-tswm-1)中设 $ y_t = y_{t-1} = y_{t-2} = y^* $，可以得到 $ y_t $ 的 [*稳态*](https://quantecon.github.io/lecture-intro.zh-cn/scalar_dynam.html#scalar-dynam-steady-state) 值 $ y^* $。\n",
    "\n",
    "$$\n",
    "y^* = \\frac{\\alpha_{0}}{1 - \\alpha_{1} - \\alpha_{2}}\n",
    "$$\n",
    "\n",
    "如果我们将初始值设为 $ y_{0} = y_{-1} = y^* $，那么 $ y_{t} $ 将是恒定的："
   ]
  },
  {
   "cell_type": "code",
   "execution_count": null,
   "id": "44d6652a",
   "metadata": {
    "hide-output": false
   },
   "outputs": [],
   "source": [
    "y_star = α_0 / (1 - α_1 - α_2)\n",
    "y_neg1_steady = y_star # y_{-1}\n",
    "y_0_steady = y_star\n",
    "\n",
    "b_steady = np.full(T, α_0)\n",
    "b_steady[0] = α_0 + α_1 * y_0_steady + α_2 * y_neg1_steady\n",
    "b_steady[1] = α_0 + α_2 * y_0_steady"
   ]
  },
  {
   "cell_type": "code",
   "execution_count": null,
   "id": "c92513ad",
   "metadata": {
    "hide-output": false
   },
   "outputs": [],
   "source": [
    "y_steady = A_inv @ b_steady"
   ]
  },
  {
   "cell_type": "code",
   "execution_count": null,
   "id": "69b32e70",
   "metadata": {
    "hide-output": false
   },
   "outputs": [],
   "source": [
    "plt.plot(np.arange(T)+1, y_steady)\n",
    "plt.xlabel('t')\n",
    "plt.ylabel('y')\n",
    "\n",
    "plt.show()"
   ]
  },
  {
   "cell_type": "markdown",
   "id": "6e7d9870",
   "metadata": {},
   "source": [
    "## 添加随机项\n",
    "\n",
    "为了让这个例子有趣一些，我们将遵循经济学家[尤金·斯卢茨基](https://baike.baidu.com/item/%E5%B0%A4%E9%87%91%C2%B7%E6%96%AF%E5%8B%92%E8%8C%A8%E5%9F%BA/15727527)和[拉格纳·弗里希](https://baike.baidu.com/item/%E6%8B%89%E6%A0%BC%E7%BA%B3%C2%B7%E5%BC%97%E9%87%8C%E5%B8%8C/11051879)的方法，用以下**二阶随机线性差分方程**替换我们原来的二阶差分方程：\n",
    "\n",
    "\n",
    "<a id='equation-tswm-2'></a>\n",
    "$$\n",
    "y_{t} = \\alpha_{0} + \\alpha_{1} y_{t-1} + \\alpha_{2} y_{t-2} + u_t \\tag{35.2}\n",
    "$$\n",
    "\n",
    "其中 $ u_{t} \\sim N\\left(0, \\sigma_{u}^{2}\\right) $ 并且是 [独立同分布](https://quantecon.github.io/lecture-intro.zh-cn/lln_clt.html#iid-theorem) – 相互独立且服从相同分布。\n",
    "\n",
    "我们将把这些 $ T $ 个方程堆叠成一个以矩阵代数表示的系统。\n",
    "\n",
    "让我们定义随机向量\n",
    "\n",
    "$$\n",
    "u=\\left[\\begin{array}{c}\n",
    "u_{1}\\\\\n",
    "u_{2}\\\\\n",
    "\\vdots\\\\\n",
    "u_{T}\n",
    "\\end{array}\\right]\n",
    "$$\n",
    "\n",
    "其中 $ A, b, y $ 定义如上，现在假设 $ y $ 由系统\n",
    "\n",
    "\n",
    "<a id='equation-eq-eqar'></a>\n",
    "$$\n",
    "A y = b + u \\tag{35.3}\n",
    "$$\n",
    "\n",
    "所支配\n",
    "\n",
    "$ y $ 的解变为\n",
    "\n",
    "\n",
    "<a id='equation-eq-eqma'></a>\n",
    "$$\n",
    "y = A^{-1} \\left(b + u\\right) \\tag{35.4}\n",
    "$$\n",
    "\n",
    "让我们在Python中尝试一下。"
   ]
  },
  {
   "cell_type": "code",
   "execution_count": null,
   "id": "3a52f357",
   "metadata": {
    "hide-output": false
   },
   "outputs": [],
   "source": [
    "σ_u = 2.\n",
    "u = np.random.normal(0, σ_u, size=T)\n",
    "y = A_inv @ (b + u)"
   ]
  },
  {
   "cell_type": "code",
   "execution_count": null,
   "id": "f33770ea",
   "metadata": {
    "hide-output": false
   },
   "outputs": [],
   "source": [
    "plt.plot(np.arange(T)+1, y)\n",
    "plt.xlabel('t')\n",
    "plt.ylabel('y')\n",
    "\n",
    "plt.show()"
   ]
  },
  {
   "cell_type": "markdown",
   "id": "e10507bd",
   "metadata": {},
   "source": [
    "上面生成的时间序列与许多发达国家近几十年的实际GDP数据（去除趋势后）有着惊人的相似性。\n",
    "\n",
    "我们可以模拟 $ N $ 条路径。"
   ]
  },
  {
   "cell_type": "code",
   "execution_count": null,
   "id": "a8fbfeac",
   "metadata": {
    "hide-output": false
   },
   "outputs": [],
   "source": [
    "N = 100\n",
    "\n",
    "for i in range(N):\n",
    "    col = cm.viridis(np.random.rand())  # 从 viridis 色系中随机选择一种颜色\n",
    "    u = np.random.normal(0, σ_u, size=T)\n",
    "    y = A_inv @ (b + u)\n",
    "    plt.plot(np.arange(T)+1, y, lw=0.5, color=col)\n",
    "\n",
    "plt.xlabel('t')\n",
    "plt.ylabel('y')\n",
    "\n",
    "plt.show()"
   ]
  },
  {
   "cell_type": "markdown",
   "id": "53c6c584",
   "metadata": {},
   "source": [
    "同样考虑 $ y_{0} $ 和 $ y_{-1} $ 处于稳态的情况。"
   ]
  },
  {
   "cell_type": "code",
   "execution_count": null,
   "id": "3efbc4c7",
   "metadata": {
    "hide-output": false
   },
   "outputs": [],
   "source": [
    "N = 100\n",
    "\n",
    "for i in range(N):\n",
    "    col = cm.viridis(np.random.rand())  # 从 viridis 色系中随机选择一种颜色\n",
    "    u = np.random.normal(0, σ_u, size=T)\n",
    "    y_steady = A_inv @ (b_steady + u)\n",
    "    plt.plot(np.arange(T)+1, y_steady, lw=0.5, color=col)\n",
    "\n",
    "plt.xlabel('t')\n",
    "plt.ylabel('y')\n",
    "\n",
    "plt.show()"
   ]
  },
  {
   "cell_type": "markdown",
   "id": "b0f67715",
   "metadata": {},
   "source": [
    "## 计算总体矩\n",
    "\n",
    "我们可以应用多元正态分布的标准公式来计算我们的时间序列模型\n",
    "\n",
    "$$\n",
    "y = A^{-1} (b + u) .\n",
    "$$\n",
    "\n",
    "你可以在这篇讲义中阅读关于多元正态分布的内容 [多元正态分布](https://python.quantecon.org/multivariate_normal.html)。\n",
    "\n",
    "让我们将我们的模型写为\n",
    "\n",
    "$$\n",
    "y = \\tilde A (b + u)\n",
    "$$\n",
    "\n",
    "其中 $ \\tilde A = A^{-1} $。\n",
    "\n",
    "因为正态随机变量的线性组合依然是正态的，我们知道\n",
    "\n",
    "$$\n",
    "y \\sim {\\mathcal N}(\\mu_y, \\Sigma_y)\n",
    "$$\n",
    "\n",
    "其中\n",
    "\n",
    "$$\n",
    "\\mu_y = \\tilde A b\n",
    "$$\n",
    "\n",
    "以及\n",
    "\n",
    "$$\n",
    "\\Sigma_y = \\tilde A (\\sigma_u^2 I_{T \\times T} ) \\tilde A^T\n",
    "$$\n",
    "\n",
    "让我们编写一个Python类来计算均值向量 $ \\mu_y $ 和协方差矩阵 $ \\Sigma_y $。"
   ]
  },
  {
   "cell_type": "code",
   "execution_count": null,
   "id": "a21a5e6a",
   "metadata": {
    "hide-output": false
   },
   "outputs": [],
   "source": [
    "class population_moments:\n",
    "    \"\"\"\n",
    "    计算人群矩 mu_y, Sigma_y.\n",
    "    ---------\n",
    "    参数:\n",
    "    alpha0, alpha1, alpha2, T, y_1, y0\n",
    "    \"\"\"\n",
    "    def __init__(self, α_0=10.0, \n",
    "                       α_1=1.53, \n",
    "                       α_2=-.9, \n",
    "                       T=80, \n",
    "                       y_neg1=28.0, \n",
    "                       y_0=24.0, \n",
    "                       σ_u=1):\n",
    "\n",
    "        # 计算 A\n",
    "        A = np.identity(T)\n",
    "\n",
    "        for i in range(T):\n",
    "            if i-1 >= 0:\n",
    "                A[i, i-1] = -α_1\n",
    "\n",
    "            if i-2 >= 0:\n",
    "                A[i, i-2] = -α_2\n",
    "\n",
    "        # 计算 b\n",
    "        b = np.full(T, α_0)\n",
    "        b[0] = α_0 + α_1 * y_0 + α_2 * y_neg1\n",
    "        b[1] = α_0 + α_2 * y_0\n",
    "\n",
    "        # 计算 A 的逆\n",
    "        A_inv = np.linalg.inv(A)\n",
    "\n",
    "        self.A, self.b, self.A_inv, self.σ_u, self.T = A, b, A_inv, σ_u, T\n",
    "    \n",
    "    def sample_y(self, n):\n",
    "        \"\"\"\n",
    "        提供一个大小为 n 的 y 样本。\n",
    "        \"\"\"\n",
    "        A_inv, σ_u, b, T = self.A_inv, self.σ_u, self.b, self.T\n",
    "        us = np.random.normal(0, σ_u, size=[n, T])\n",
    "        ys = np.vstack([A_inv @ (b + u) for u in us])\n",
    "\n",
    "        return ys\n",
    "\n",
    "    def get_moments(self):\n",
    "        \"\"\"\n",
    "        计算 y 的总体矩。\n",
    "        \"\"\"\n",
    "        A_inv, σ_u, b = self.A_inv, self.σ_u, self.b\n",
    "\n",
    "        # 计算 μ_y\n",
    "        self.μ_y = A_inv @ b\n",
    "        self.Σ_y = σ_u**2 * (A_inv @ A_inv.T)\n",
    "        \n",
    "        return self.μ_y, self.Σ_y\n",
    "\n",
    "\n",
    "series_process = population_moments()\n",
    "    \n",
    "μ_y, Σ_y = series_process.get_moments()\n",
    "A_inv = series_process.A_inv"
   ]
  },
  {
   "cell_type": "markdown",
   "id": "8b8d8c49",
   "metadata": {},
   "source": [
    "接下来，让我们探索不同参数值对 $ \\mu_y $ 和 $ \\Sigma_y $ 的影响。\n",
    "\n",
    "这个分析也将帮助我们理解一个重要的性质：$ y $ 序列的**统计平稳性**。我们会发现，只有在非常特定的初始条件下，这个序列才是平稳的。\n",
    "\n",
    "为了直观地理解这一点，我们先生成 $ N $ 条 $ y $ 序列的样本路径，并将它们与理论均值 $ \\mu_y $ 进行对比。"
   ]
  },
  {
   "cell_type": "code",
   "execution_count": null,
   "id": "c16fc101",
   "metadata": {
    "hide-output": false
   },
   "outputs": [],
   "source": [
    "# 绘制均值\n",
    "N = 100\n",
    "\n",
    "for i in range(N):\n",
    "    col = cm.viridis(np.random.rand())  # 从 viridis 色系中随机选择一种颜色\n",
    "    ys = series_process.sample_y(N)\n",
    "    plt.plot(ys[i,:], lw=0.5, color=col)\n",
    "    plt.plot(μ_y, color='red')\n",
    "\n",
    "plt.xlabel('t')\n",
    "plt.ylabel('y')\n",
    "\n",
    "plt.show()"
   ]
  },
  {
   "cell_type": "markdown",
   "id": "ad210790",
   "metadata": {},
   "source": [
    "从图中可以观察到一个有趣的现象：随着时间 $ t $ 的推移，不同样本路径之间的离散程度在逐渐减小。\n",
    "\n",
    "绘制总体方差 $ \\Sigma_y $ 对角线。"
   ]
  },
  {
   "cell_type": "code",
   "execution_count": null,
   "id": "782ad70a",
   "metadata": {
    "hide-output": false
   },
   "outputs": [],
   "source": [
    "# 绘制方差\n",
    "plt.plot(Σ_y.diagonal())\n",
    "plt.show()"
   ]
  },
  {
   "cell_type": "markdown",
   "id": "60a99209",
   "metadata": {},
   "source": [
    "从图中我们可以看到，总体方差随时间增加，最终趋于一个稳定值。这种收敛行为反映了系统的内在稳定性。\n",
    "\n",
    "为了进一步验证这一点，让我们通过模拟多条样本路径来计算样本方差，并将其与理论预测进行对比。"
   ]
  },
  {
   "cell_type": "code",
   "execution_count": null,
   "id": "1e4e6852",
   "metadata": {
    "hide-output": false
   },
   "outputs": [],
   "source": [
    "series_process = population_moments(α_0=0, \n",
    "                                    α_1=.8, \n",
    "                                    α_2=0, \n",
    "                                    T=6,\n",
    "                                    y_neg1=0., \n",
    "                                    y_0=0., \n",
    "                                    σ_u=1)\n",
    "\n",
    "μ_y, Σ_y = series_process.get_moments()\n",
    "print(\"μ_y = \", μ_y)\n",
    "print(\"Σ_y = \\n\", Σ_y)"
   ]
  },
  {
   "cell_type": "markdown",
   "id": "8528928d",
   "metadata": {},
   "source": [
    "观察 $ y_t $ 和 $ y_{t-1} $ 之间的协方差（即超对角线上的元素），我们发现它们并不相等。\n",
    "\n",
    "这个特征告诉我们，由 $ y $ 向量表示的时间序列不具有**平稳性**。\n",
    "\n",
    "要使序列变得平稳，我们需要对系统做一个关键的改变：不再将初始条件 $ (y_0, y_{-1}) $ 设为固定值，而是让它们服从一个特定的联合正态分布，这个分布具有合适的均值和协方差矩阵。\n",
    "\n",
    "如果你想了解如何实现这一点，可以参考我们在[线性状态空间模型](https://python.quantecon.org/linear_models.html)中的详细讨论。\n",
    "\n",
    "在继续深入分析之前，让我们先来看看 $ \\Sigma_y $ 矩阵右下角的数值。"
   ]
  },
  {
   "cell_type": "code",
   "execution_count": null,
   "id": "7a0f917d",
   "metadata": {
    "hide-output": false
   },
   "outputs": [],
   "source": [
    "series_process = population_moments()\n",
    "μ_y, Σ_y = series_process.get_moments()\n",
    "\n",
    "print(\"bottom right corner of Σ_y = \\n\", Σ_y[72:,72:])"
   ]
  },
  {
   "cell_type": "markdown",
   "id": "4ef4fc01",
   "metadata": {},
   "source": [
    "请注意，随着时间 $ t $ 的增加，子对角线和超对角线上的元素似乎趋于收敛。\n",
    "\n",
    "这表明我们的过程是渐近平稳的。\n",
    "\n",
    "你可以在[线性状态空间模型](https://python.quantecon.org/linear_models.html)中阅读更多关于更一般线性时间序列模型的平稳性。\n",
    "\n",
    "通过观察不同时间段的$ \\Sigma_y $的非对角线元素，我们可以学到很多关于这个过程的知识，但我们在这里暂时先不展开。"
   ]
  },
  {
   "cell_type": "markdown",
   "id": "608f8a46",
   "metadata": {},
   "source": [
    "## 移动平均表示\n",
    "\n",
    "让我们来研究 $ A^{-1} $ 矩阵的结构。这个矩阵的形状会告诉我们一些关于系统动态特性的重要信息。\n",
    "\n",
    "- 它是三角形矩阵、接近三角形，还是其他形式 $ \\ldots $？  \n",
    "\n",
    "\n",
    "为了便于观察，我们将打印 $ A^{-1} $ 矩阵左上角的一部分，并将数值保留到小数点后三位。"
   ]
  },
  {
   "cell_type": "code",
   "execution_count": null,
   "id": "cd376a55",
   "metadata": {
    "hide-output": false
   },
   "outputs": [],
   "source": [
    "print(A_inv[0:7,0:7])"
   ]
  },
  {
   "cell_type": "markdown",
   "id": "7352d73d",
   "metadata": {},
   "source": [
    "显然，$ A^{-1} $ 是一个下三角矩阵。\n",
    "\n",
    "注意每一行的结尾都与前一行的前对角线元素相同。\n",
    "\n",
    "由于 $ A^{-1} $ 是下三角矩阵，每一行代表特定 $ t $ 时的 $ y_t $，作为以下两部分之和：\n",
    "\n",
    "- 与初始条件 $ b $ 相关的时间依赖函数 $ A^{-1} b $，以及  \n",
    "- 当前和过去 IID 冲击 $ \\{u_t\\} $ 的加权和。  \n",
    "\n",
    "\n",
    "因此，设 $ \\tilde{A}=A^{-1} $。\n",
    "\n",
    "显然，对于 $ t\\geq0 $，\n",
    "\n",
    "$$\n",
    "y_{t+1}=\\sum_{i=1}^{t+1}\\tilde{A}_{t+1,i}b_{i}+\\sum_{i=1}^{t}\\tilde{A}_{t+1,i}u_{i}+u_{t+1}\n",
    "$$\n",
    "\n",
    "这是一个**移动平均**表示，其系数随时间变化。\n",
    "\n",
    "我们可以看到，系统既可以用移动平均形式 [(35.4)](#equation-eq-eqma) 表示，也可以用自回归形式 [(35.3)](#equation-eq-eqar) 表示。这两种表示方式描述了同一个随机过程，只是从不同的角度来看。"
   ]
  },
  {
   "cell_type": "markdown",
   "id": "e8a5057a",
   "metadata": {},
   "source": [
    "## 从后视到前瞻\n",
    "\n",
    "到目前为止，我们分析的萨缪尔森模型是一个*后视(backward-looking)*模型 - 给定*初始条件*后，系统就会向前演化。\n",
    "\n",
    "接下来让我们转向一个*前瞻(forward-looking)*模型，这类模型在宏观经济学和金融学中被广泛使用。\n",
    "\n",
    "我们应用类似的线性代数工具来研究一个广泛用作宏观经济学和金融学基准的*完全预见*模型。\n",
    "\n",
    "例如，假设 $ p_t $ 是股票价格，$ y_t $ 是其股息。\n",
    "\n",
    "假设股息 $ y_t $ 遵循我们前面分析的二阶差分方程，即\n",
    "\n",
    "$$\n",
    "y = A^{-1} \\left(b + u\\right)\n",
    "$$\n",
    "\n",
    "我们的*完全预见*股票价格模型是\n",
    "\n",
    "$$\n",
    "p_{t} = \\sum_{j=0}^{T-t} \\beta^{j} y_{t+j}, \\quad \\beta \\in (0,1)\n",
    "$$\n",
    "\n",
    "其中 $ \\beta $ 是折现因子。\n",
    "\n",
    "该模型表明，股票在 $ t $ 时刻的价格等于从当期开始直到终期所有未来股息的现值之和。每期股息都按折现因子 $ \\beta $ 进行贴现，期数越远贴现程度越大。\n",
    "\n",
    "$$\n",
    "\\underset{\\equiv p}{\\underbrace{\\left[\\begin{array}{c}\n",
    "p_{1}\\\\\n",
    "p_{2}\\\\\n",
    "p_{3}\\\\\n",
    "\\vdots\\\\\n",
    "p_{T}\n",
    "\\end{array}\\right]}}=\\underset{\\equiv B}{\\underbrace{\\left[\\begin{array}{ccccc}\n",
    "1 & \\beta & \\beta^{2} & \\cdots & \\beta^{T-1}\\\\\n",
    "0 & 1 & \\beta & \\cdots & \\beta^{T-2}\\\\\n",
    "0 & 0 & 1 & \\cdots & \\beta^{T-3}\\\\\n",
    "\\vdots & \\vdots & \\vdots & \\vdots & \\vdots\\\\\n",
    "0 & 0 & 0 & \\cdots & 1\n",
    "\\end{array}\\right]}}\\left[\\begin{array}{c}\n",
    "y_{1}\\\\\n",
    "y_{2}\\\\\n",
    "y_{3}\\\\\n",
    "\\vdots\\\\\n",
    "y_{T}\n",
    "\\end{array}\\right]\n",
    "$$"
   ]
  },
  {
   "cell_type": "code",
   "execution_count": null,
   "id": "1b3a183e",
   "metadata": {
    "hide-output": false
   },
   "outputs": [],
   "source": [
    "β = .96"
   ]
  },
  {
   "cell_type": "code",
   "execution_count": null,
   "id": "718cda9c",
   "metadata": {
    "hide-output": false
   },
   "outputs": [],
   "source": [
    "#  构建 B\n",
    "B = np.zeros((T, T))\n",
    "\n",
    "for i in range(T):\n",
    "    B[i, i:] = β ** np.arange(0, T-i)"
   ]
  },
  {
   "cell_type": "code",
   "execution_count": null,
   "id": "7531b734",
   "metadata": {
    "hide-output": false
   },
   "outputs": [],
   "source": [
    "print(B)"
   ]
  },
  {
   "cell_type": "code",
   "execution_count": null,
   "id": "d363c66f",
   "metadata": {
    "hide-output": false
   },
   "outputs": [],
   "source": [
    "σ_u = 0.\n",
    "u = np.random.normal(0, σ_u, size=T)\n",
    "y = A_inv @ (b + u)\n",
    "y_steady = A_inv @ (b_steady + u)"
   ]
  },
  {
   "cell_type": "code",
   "execution_count": null,
   "id": "0d9f961c",
   "metadata": {
    "hide-output": false
   },
   "outputs": [],
   "source": [
    "p = B @ y"
   ]
  },
  {
   "cell_type": "code",
   "execution_count": null,
   "id": "894af6b9",
   "metadata": {
    "hide-output": false
   },
   "outputs": [],
   "source": [
    "plt.plot(np.arange(0, T)+1, y, label='y')\n",
    "plt.plot(np.arange(0, T)+1, p, label='p')\n",
    "plt.xlabel('t')\n",
    "plt.ylabel('y/p')\n",
    "plt.legend()\n",
    "\n",
    "plt.show()"
   ]
  },
  {
   "cell_type": "markdown",
   "id": "734fae22",
   "metadata": {},
   "source": [
    "你能解释一下为什么价格的趋势在随时间下降吗？\n",
    "\n",
    "接下来还可以考虑当 $ y_{0} $ 和 $ y_{-1} $ 处于稳态时的情况。"
   ]
  },
  {
   "cell_type": "code",
   "execution_count": null,
   "id": "97201edf",
   "metadata": {
    "hide-output": false
   },
   "outputs": [],
   "source": [
    "p_steady = B @ y_steady\n",
    "\n",
    "plt.plot(np.arange(0, T)+1, y_steady, label='y')\n",
    "plt.plot(np.arange(0, T)+1, p_steady, label='p')\n",
    "plt.xlabel('t')\n",
    "plt.ylabel('y/p')\n",
    "plt.legend()\n",
    "\n",
    "plt.show()"
   ]
  }
 ],
 "metadata": {
  "date": 1741731008.487936,
  "filename": "time_series_with_matrices.md",
  "kernelspec": {
   "display_name": "Python",
   "language": "python3",
   "name": "python3"
  },
  "title": "用矩阵代数表示的单变量时间序列"
 },
 "nbformat": 4,
 "nbformat_minor": 5
}