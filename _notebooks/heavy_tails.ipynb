{
 "cells": [
  {
   "cell_type": "markdown",
   "id": "99244bf8",
   "metadata": {},
   "source": [
    "\n",
    "<a id='heavy-tail'></a>"
   ]
  },
  {
   "cell_type": "markdown",
   "id": "910ecc44",
   "metadata": {},
   "source": [
    "# 重尾分布\n",
    "\n",
    "除了Anaconda中的内容，本讲还需要以下库："
   ]
  },
  {
   "cell_type": "code",
   "execution_count": null,
   "id": "1175889d",
   "metadata": {
    "hide-output": false
   },
   "outputs": [],
   "source": [
    "!pip install --upgrade yfinance pandas_datareader"
   ]
  },
  {
   "cell_type": "markdown",
   "id": "5098e413",
   "metadata": {},
   "source": [
    "我们使用以下的导入。"
   ]
  },
  {
   "cell_type": "code",
   "execution_count": null,
   "id": "76c3f8d7",
   "metadata": {
    "hide-output": false
   },
   "outputs": [],
   "source": [
    "import matplotlib as mpl\n",
    "import matplotlib.pyplot as plt\n",
    "import numpy as np\n",
    "import yfinance as yf\n",
    "import pandas as pd\n",
    "import statsmodels.api as sm\n",
    "\n",
    "from pandas_datareader import wb\n",
    "from scipy.stats import norm, cauchy\n",
    "from pandas.plotting import register_matplotlib_converters\n",
    "register_matplotlib_converters()\n",
    "\n",
    "FONTPATH = \"fonts/SourceHanSerifSC-SemiBold.otf\"\n",
    "mpl.font_manager.fontManager.addfont(FONTPATH)\n",
    "plt.rcParams['font.family'] = ['Source Han Serif SC']"
   ]
  },
  {
   "cell_type": "markdown",
   "id": "e650b281",
   "metadata": {},
   "source": [
    "## 概览\n",
    "\n",
    "重尾分布是一类能产生“极端”结果的分布。\n",
    "\n",
    "在自然科学（以及更多传统的经济学课程）中，重尾分布常被视为相当异乎寻常和非标准的。\n",
    "\n",
    "然而，事实证明，重尾分布在经济学中扮演着至关重要的角色。\n",
    "\n",
    "实际上，经济学中许多 – 如果不是大部分 – 重要的分布都是重尾的。\n",
    "\n",
    "在这次讲座中，我们将解释什么是重尾，以及为什么它们是 – 或者至少应该是 – 经济分析的核心。"
   ]
  },
  {
   "cell_type": "markdown",
   "id": "b34eace5",
   "metadata": {},
   "source": [
    "### 引言：轻尾分布\n",
    "\n",
    "大多数[常用概率分布](https://quantecon.github.io/lecture-intro.zh-cn/prob_dist.html)在经典统计学和自然科学中都具有“轻尾”。\n",
    "\n",
    "为了解释这个概念，让我们先看一些例子。"
   ]
  },
  {
   "cell_type": "markdown",
   "id": "8b6768f4",
   "metadata": {},
   "source": [
    "### \n",
    "\n",
    "经典的例子是[正态分布](https://en.wikipedia.org/wiki/Normal_distribution)，其密度公式为\n",
    "\n",
    "$$\n",
    "f(x) = \\frac{1}{\\sqrt{2\\pi}\\sigma} \n",
    "\\exp\\left( -\\frac{(x-\\mu)^2}{2 \\sigma^2} \\right)\n",
    "\\qquad\n",
    "(-\\infty < x < \\infty)\n",
    "$$\n",
    "\n",
    "这里的两个参数 $ \\mu $ 和 $ \\sigma $ 分别代表均值和标准差。\n",
    "\n",
    "随着 $ x $ 从 $ \\mu $ 偏离，$ f(x) $ 的值会非常快地趋向于零。\n",
    "\n",
    "我们可以通过绘制密度图和展示观测值的直方图来看到这一点，如下代码所示（假设 $ \\mu=0 $ 和 $ \\sigma=1 $）。"
   ]
  },
  {
   "cell_type": "code",
   "execution_count": null,
   "id": "7c55389a",
   "metadata": {
    "hide-output": false
   },
   "outputs": [],
   "source": [
    "fig, ax = plt.subplots()\n",
    "X = norm.rvs(size=1_000_000)\n",
    "ax.hist(X, bins=40, alpha=0.4, label='直方图', density=True)\n",
    "x_grid = np.linspace(-4, 4, 400)\n",
    "ax.plot(x_grid, norm.pdf(x_grid), label='密度')\n",
    "ax.legend()\n",
    "plt.show()"
   ]
  },
  {
   "cell_type": "markdown",
   "id": "c9cd1188",
   "metadata": {},
   "source": [
    "请注意：\n",
    "\n",
    "- 密度的尾部在两个方向上迅速趋于零  \n",
    "- 即使是1,000,000次抽样，我们也没有观察到非常大或非常小的值。  \n",
    "\n",
    "\n",
    "我们可以通过执行以下代码更清楚地看到最后一点："
   ]
  },
  {
   "cell_type": "code",
   "execution_count": null,
   "id": "63ee80de",
   "metadata": {
    "hide-output": false
   },
   "outputs": [],
   "source": [
    "X.min(), X.max()"
   ]
  },
  {
   "cell_type": "markdown",
   "id": "c62033a7",
   "metadata": {},
   "source": [
    "这里是从同一分布中抽取的另一种视图："
   ]
  },
  {
   "cell_type": "code",
   "execution_count": null,
   "id": "eabe06ce",
   "metadata": {
    "hide-output": false
   },
   "outputs": [],
   "source": [
    "n = 2000\n",
    "fig, ax = plt.subplots()\n",
    "data = norm.rvs(size=n)\n",
    "ax.plot(list(range(n)), data, linestyle='', marker='o', alpha=0.5, ms=4)\n",
    "ax.vlines(list(range(n)), 0, data, lw=0.2)\n",
    "ax.set_ylim(-15, 15)\n",
    "ax.set_xlabel('$i$')\n",
    "ax.set_ylabel('$X_i$', rotation=0)\n",
    "plt.show()"
   ]
  },
  {
   "cell_type": "markdown",
   "id": "08553d22",
   "metadata": {},
   "source": [
    "我们已经绘制了每个单独的抽样 $ X_i $ 与 $ i $ 的对应关系。\n",
    "\n",
    "没有一个非常大或非常小。\n",
    "\n",
    "换句话说，极端的观测值很少，抽样倾向于不会太偏离均值。\n",
    "\n",
    "换种说法，轻尾分布是那些很少产生极端值的分布。\n",
    "\n",
    "（更正式的定义见[下面](#heavy-tail-formal-definition)。）\n",
    "\n",
    "许多统计学家和计量经济学家使用经验法则，如“结果超出均值四到五个标准差可以安全忽略。”\n",
    "\n",
    "但这只有在分布具有轻尾的时候才成立。"
   ]
  },
  {
   "cell_type": "markdown",
   "id": "524eb9cd",
   "metadata": {},
   "source": [
    "### 何时适用于轻尾分布？\n",
    "\n",
    "在概率理论和现实世界中，许多分布都是轻尾的。\n",
    "\n",
    "例如，人类身高就是轻尾分布。\n",
    "\n",
    "是的，我们确实看到了一些非常高的人。\n",
    "\n",
    "- 例如，篮球运动员[孙明明](https://en.wikipedia.org/wiki/Sun_Mingming)身高2.32米  \n",
    "\n",
    "\n",
    "但是你有没有听说过有人身高达20米、200米或2000米的吗？\n",
    "\n",
    "你有没有想过为什么没有？\n",
    "\n",
    "毕竟，全世界有80亿人！\n",
    "\n",
    "本质上，我们看不到这样的数据是因为人类身高的分布具有非常轻的尾部。\n",
    "\n",
    "事实上，人类身高的分布符合类似正态分布的钟形曲线。"
   ]
  },
  {
   "cell_type": "markdown",
   "id": "44221203",
   "metadata": {},
   "source": [
    "### 资产回报\n",
    "\n",
    "但经济数据呢？\n",
    "\n",
    "我们首先来看一些金融数据。\n",
    "\n",
    "我们的目标是绘制自2015年1月1日至2022年7月1日期间亚马逊（AMZN）股价的每日变化。\n",
    "\n",
    "如果我们不考虑股息，这相当于每日回报。\n",
    "\n",
    "以下代码通过 `yfinance` 库使用雅虎财经数据生成所需的图表。"
   ]
  },
  {
   "cell_type": "code",
   "execution_count": null,
   "id": "bc1997cb",
   "metadata": {
    "hide-output": false
   },
   "outputs": [],
   "source": [
    "data = yf.download('AMZN', '2015-1-1', '2022-7-1', auto_adjust=False)"
   ]
  },
  {
   "cell_type": "code",
   "execution_count": null,
   "id": "6ca59220",
   "metadata": {
    "hide-output": false
   },
   "outputs": [],
   "source": [
    "s = data['Adj Close']\n",
    "r = s.pct_change()\n",
    "\n",
    "fig, ax = plt.subplots()\n",
    "\n",
    "ax.plot(r, linestyle='', marker='o', alpha=0.5, ms=4)\n",
    "ax.vlines(r.index, 0, r.values, lw=0.2)\n",
    "ax.set_ylabel('回报', fontsize=12)\n",
    "ax.set_xlabel('日期', fontsize=12)\n",
    "\n",
    "plt.show()"
   ]
  },
  {
   "cell_type": "markdown",
   "id": "e538b9ca",
   "metadata": {},
   "source": [
    "这些数据看起来与我们上面看到的正态分布的抽样有所不同。\n",
    "\n",
    "有几个观测值非常极端。\n",
    "\n",
    "如果我们查看其他资产，比如比特币，我们会得到类似的图像。"
   ]
  },
  {
   "cell_type": "code",
   "execution_count": null,
   "id": "2c1cd93b",
   "metadata": {
    "hide-output": false
   },
   "outputs": [],
   "source": [
    "data = yf.download('BTC-USD', '2015-1-1', '2022-7-1', auto_adjust=False)"
   ]
  },
  {
   "cell_type": "code",
   "execution_count": null,
   "id": "cec65a35",
   "metadata": {
    "hide-output": false
   },
   "outputs": [],
   "source": [
    "s = data['Adj Close']\n",
    "r = s.pct_change()\n",
    "\n",
    "fig, ax = plt.subplots()\n",
    "\n",
    "ax.plot(r, linestyle='', marker='o', alpha=0.5, ms=4)\n",
    "ax.vlines(r.index, 0, r.values, lw=0.2)\n",
    "ax.set_ylabel('回报', fontsize=12)\n",
    "ax.set_xlabel('日期', fontsize=12)\n",
    "\n",
    "plt.show()"
   ]
  },
  {
   "cell_type": "markdown",
   "id": "8be8fad3",
   "metadata": {},
   "source": [
    "这个直方图也与正态分布的直方图不同:"
   ]
  },
  {
   "cell_type": "code",
   "execution_count": null,
   "id": "44b8d73a",
   "metadata": {
    "hide-output": false
   },
   "outputs": [],
   "source": [
    "r = np.random.standard_t(df=5, size=1000)\n",
    "\n",
    "fig, ax = plt.subplots()\n",
    "ax.hist(r, bins=60, alpha=0.4, label='比特币回报', density=True)\n",
    "\n",
    "xmin, xmax = plt.xlim()\n",
    "x = np.linspace(xmin, xmax, 100)\n",
    "p = norm.pdf(x, np.mean(r), np.std(r))\n",
    "ax.plot(x, p, linewidth=2, label='正态分布')\n",
    "\n",
    "ax.set_xlabel('回报', fontsize=12)\n",
    "ax.legend()\n",
    "\n",
    "plt.show()"
   ]
  },
  {
   "cell_type": "markdown",
   "id": "9bb568b3",
   "metadata": {},
   "source": [
    "如果我们查看更高频率的回报数据（例如，逐笔交易），我们经常会看到更极端的观测。\n",
    "\n",
    "例如，参见 [[Mandelbrot, 1963](https://quantecon.github.io/lecture-intro.zh-cn/zreferences.html#id86)] 或 [[Rachev, 2003](https://quantecon.github.io/lecture-intro.zh-cn/zreferences.html#id85)]。"
   ]
  },
  {
   "cell_type": "markdown",
   "id": "32e40492",
   "metadata": {},
   "source": [
    "### 其他数据\n",
    "\n",
    "我们刚刚看到的数据被称为“重尾”。\n",
    "\n",
    "在重尾分布中，极端结果相对频繁地发生。"
   ]
  },
  {
   "cell_type": "markdown",
   "id": "36ad2a0e",
   "metadata": {},
   "source": [
    "### \n",
    "\n",
    "重要的是，在经济和金融环境中观察到了许多重尾分布的例子！\n",
    "\n",
    "例如，收入和财富分布是重尾的\n",
    "\n",
    "- 你可以想象这样的情景：大多数人的财富较低或适中，但有些人非常富有。  \n",
    "\n",
    "\n",
    "公司规模分布也是重尾的\n",
    "\n",
    "- 你也可以想象这样的情景：大多数公司都很小，但有些公司非常庞大。  \n",
    "\n",
    "\n",
    "城镇和城市大小的分布是重尾的\n",
    "\n",
    "- 大多数城镇和城市都很小，但有些非常大。  \n",
    "\n",
    "\n",
    "在本讲座的后面部分，我们将研究这些分布中的重尾现象。"
   ]
  },
  {
   "cell_type": "markdown",
   "id": "430c24d9",
   "metadata": {},
   "source": [
    "### 为什么我们应该关心？\n",
    "\n",
    "重尾在经济数据中很常见，但这是否意味着它们很重要？\n",
    "\n",
    "对这个问题的回答是肯定的！\n",
    "\n",
    "当分布是重尾的，我们需要仔细考虑一些问题，如\n",
    "\n",
    "- 多样化和风险  \n",
    "- 预测  \n",
    "- 税收（针对重尾收入分布），等等。  \n",
    "\n",
    "\n",
    "我们将回到这些点 [下面](#heavy-tail-application)。"
   ]
  },
  {
   "cell_type": "markdown",
   "id": "60787d28",
   "metadata": {},
   "source": [
    "## 视觉比较\n",
    "\n",
    "在本节中，我们将介绍帕雷托分布、计数器累积分布函数和幂律等重要概念，这些概念有助于识别重尾分布。\n",
    "\n",
    "稍后我们将提供有关轻尾和重尾差异的数学定义。\n",
    "\n",
    "但现在让我们先进行一些视觉比较，以帮助我们建立对这两种类型分布差异的直觉。"
   ]
  },
  {
   "cell_type": "markdown",
   "id": "18c58c7e",
   "metadata": {},
   "source": [
    "### 模拟\n",
    "\n",
    "下图显示了一次模拟。\n",
    "\n",
    "上面两个子图各显示来自正态分布的120个独立抽取，这是轻尾分布。\n",
    "\n",
    "下面的子图显示来自[柯西分布](https://en.wikipedia.org/wiki/Cauchy_distribution)的120个独立抽取，这是重尾分布。"
   ]
  },
  {
   "cell_type": "code",
   "execution_count": null,
   "id": "0a008aaa",
   "metadata": {
    "hide-output": false
   },
   "outputs": [],
   "source": [
    "n = 120\n",
    "np.random.seed(11)\n",
    "\n",
    "fig, axes = plt.subplots(3, 1, figsize=(6, 12))\n",
    "\n",
    "for ax in axes:\n",
    "    ax.set_ylim((-120, 120))\n",
    "\n",
    "s_vals = 2, 12\n",
    "\n",
    "for ax, s in zip(axes[:2], s_vals):\n",
    "    data = np.random.randn(n) * s\n",
    "    ax.plot(list(range(n)), data, linestyle='', marker='o', alpha=0.5, ms=4)\n",
    "    ax.vlines(list(range(n)), 0, data, lw=0.2)\n",
    "    ax.set_title(fr\"从 $N(0, \\sigma^2)$ 抽取，$\\sigma = {s}$\", fontsize=11)\n",
    "\n",
    "ax = axes[2]\n",
    "distribution = cauchy()\n",
    "data = distribution.rvs(n)\n",
    "ax.plot(list(range(n)), data, linestyle='', marker='o', alpha=0.5, ms=4)\n",
    "ax.vlines(list(range(n)), 0, data, lw=0.2)\n",
    "ax.set_title(f\"来自柯西分布的抽取\", fontsize=11)\n",
    "\n",
    "plt.subplots_adjust(hspace=0.25)\n",
    "\n",
    "plt.show()"
   ]
  },
  {
   "cell_type": "markdown",
   "id": "498c9dda",
   "metadata": {},
   "source": [
    "在顶部的子图中，正态分布的标准偏差为2，抽取值围绕均值聚集。\n",
    "\n",
    "在中间的子图中，标准偏差增加到12，如预期的那样，分散度增加。\n",
    "\n",
    "底部的子图中，柯西的抽取显示出一种不同的模式：大多数观察值紧密围绕均值聚集，但偶有几个从均值突然大偏差。\n",
    "\n",
    "这是典型的重尾分布特征。"
   ]
  },
  {
   "cell_type": "markdown",
   "id": "53799935",
   "metadata": {},
   "source": [
    "### 非负分布\n",
    "\n",
    "让我们比较一些只取非负值的分布。\n",
    "\n",
    "其中一种是指数分布，我们在[our lecture on probability and distributions](https://quantecon.github.io/lecture-intro.zh-cn/prob_dist.html)中讨论过。\n",
    "\n",
    "指数分布是一种轻尾分布。\n",
    "\n",
    "这里有一些来自指数分布的抽样。"
   ]
  },
  {
   "cell_type": "code",
   "execution_count": null,
   "id": "753e785e",
   "metadata": {
    "hide-output": false
   },
   "outputs": [],
   "source": [
    "n = 120\n",
    "np.random.seed(11)\n",
    "\n",
    "fig, ax = plt.subplots()\n",
    "ax.set_ylim((0, 50))\n",
    "\n",
    "data = np.random.exponential(size=n)\n",
    "ax.plot(list(range(n)), data, linestyle='', marker='o', alpha=0.5, ms=4)\n",
    "ax.vlines(list(range(n)), 0, data, lw=0.2)\n",
    "\n",
    "plt.show()"
   ]
  },
  {
   "cell_type": "markdown",
   "id": "f284dea5",
   "metadata": {},
   "source": [
    "另一个非负分布是[帕累托分布](https://en.wikipedia.org/wiki/Pareto_distribution)。\n",
    "\n",
    "如果 $ X $ 遵循帕累托分布，那么存在正常数 $ x $ 和 $ \\alpha $，使得\n",
    "\n",
    "\n",
    "<a id='equation-pareto'></a>\n",
    "$$\n",
    "\\mathbb P\\{X > x\\} =\n",
    "\\begin{cases}\n",
    "    \\left( \\frac{\\bar x}{x} \\right)^{\\alpha}\n",
    "        & \\text{ 如果 } x \\geq \\bar x\n",
    "    \\\\\n",
    "    1\n",
    "        & \\text{ 如果 } x < \\bar x\n",
    "\\end{cases} \\tag{21.1}\n",
    "$$\n",
    "\n",
    "参数 $ \\alpha $ 被称为**尾指数**，$ \\bar x $ 被称为**最小值**。\n",
    "\n",
    "帕累托分布是一个重尾分布。\n",
    "\n",
    "帕累托分布产生的一个方式是指数随机变量的指数。\n",
    "\n",
    "特别地，如果 $ X $ 是以率参数 $ \\alpha $ 指数分布的，那么\n",
    "\n",
    "$$\n",
    "Y = \\bar x \\exp(X)\n",
    "$$\n",
    "\n",
    "具有最小值 $ \\bar x $ 和尾指数 $ \\alpha $ 的帕累托分布。\n",
    "\n",
    "这里是一些从帕累托分布中抽取的数据，尾指数为 $ 1 $，最小值为 $ 1 $。"
   ]
  },
  {
   "cell_type": "code",
   "execution_count": null,
   "id": "3d47f9a7",
   "metadata": {
    "hide-output": false
   },
   "outputs": [],
   "source": [
    "n = 120\n",
    "np.random.seed(11)\n",
    "\n",
    "fig, ax = plt.subplots()\n",
    "ax.set_ylim((0, 80))\n",
    "exponential_data = np.random.exponential(size=n)\n",
    "pareto_data = np.exp(exponential_data)\n",
    "ax.plot(list(range(n)), pareto_data, linestyle='', marker='o', alpha=0.5, ms=4)\n",
    "ax.vlines(list(range(n)), 0, pareto_data, lw=0.2)\n",
    "\n",
    "plt.show()"
   ]
  },
  {
   "cell_type": "markdown",
   "id": "84b06d98",
   "metadata": {},
   "source": [
    "注意极端结果更常见。"
   ]
  },
  {
   "cell_type": "markdown",
   "id": "c339b9a7",
   "metadata": {},
   "source": [
    "### 对立累积分布函数\n",
    "\n",
    "对于非负随机变量，视觉上区分轻尾和重尾的一种方法是查看**对立累积分布函数**（CCDF）。\n",
    "\n",
    "对于一个具有CDF $ F $ 的随机变量 $ X $，CCDF定义为函数\n",
    "\n",
    "$$\n",
    "G(x) := 1 - F(x) = \\mathbb P\\{X > x\\}\n",
    "$$\n",
    "\n",
    "（有些作者称$ G $为“生存”函数。）\n",
    "\n",
    "CCDF显示随着 $ x \\to \\infty $，上尾速度减少到零的快慢。\n",
    "\n",
    "如果$ X $是具有速率参数$ \\alpha $的指数分布，则其CCDF为\n",
    "\n",
    "$$\n",
    "G_E(x) = \\exp(- \\alpha x)\n",
    "$$\n",
    "\n",
    "随着 $ x $ 增大，这个函数相对快速地趋于零。\n",
    "\n",
    "标准帕雷托分布，其中 $ \\beta x = 1 $，具有CCDF\n",
    "\n",
    "$$\n",
    "G_P(x) = x^{- \\alpha}\n",
    "$$\n",
    "\n",
    "这个函数在 $ x \\to \\infty $ 时趋于零，但比 $ G_E $ 更慢。"
   ]
  },
  {
   "cell_type": "markdown",
   "id": "cdf74605",
   "metadata": {},
   "source": [
    "### Exercise 21.1\n",
    "\n",
    "展示如何从指数分布的CCDF推导出标准帕雷托分布的CCDF。"
   ]
  },
  {
   "cell_type": "markdown",
   "id": "9bd680e5",
   "metadata": {},
   "source": [
    "### Solution to[ Exercise 21.1](https://quantecon.github.io/lecture-intro.zh-cn/#ht_ex_x1)\n",
    "\n",
    "设 $ G_E $ 和 $ G_P $ 如上定义，设 $ X $ 是具有速率参数 $ \\alpha $ 的指数分布，并设 $ Y = \\exp(X) $，我们有\n",
    "\n",
    "$$\n",
    "\\begin{aligned}\n",
    " G_P(y) & = \\mathbb P\\{Y > y\\} \\\\\n",
    "         & = \\mathbb P\\{\\exp(X) > y\\} \\\\\n",
    "         & = \\mathbb P\\{X > \\ln y\\} \\\\\n",
    "         & = G_E(\\ln y) \\\\\n",
    "         & = \\exp(- \\alpha \\ln y) \\\\\n",
    "        & = y^{-\\alpha}\n",
    "\\end{aligned}\n",
    "$$\n",
    "\n",
    "这是一个图示，展示了$ G_E $比$ G_P $衰减得更快。"
   ]
  },
  {
   "cell_type": "code",
   "execution_count": null,
   "id": "218f1762",
   "metadata": {
    "hide-output": false
   },
   "outputs": [],
   "source": [
    "x = np.linspace(1.5, 100, 1000)\n",
    "fig, ax = plt.subplots()\n",
    "alpha = 1.0\n",
    "ax.plot(x, np.exp(- alpha * x), label='指数分布', alpha=0.8)\n",
    "ax.plot(x, x**(- alpha), label='帕累托分布', alpha=0.8)\n",
    "ax.set_xlabel('X值')\n",
    "ax.set_ylabel('CCDF')\n",
    "ax.legend()\n",
    "plt.show()"
   ]
  },
  {
   "cell_type": "markdown",
   "id": "499145b7",
   "metadata": {},
   "source": [
    "下面是同一函数的对数对数图，便于视觉比较。"
   ]
  },
  {
   "cell_type": "code",
   "execution_count": null,
   "id": "389f9037",
   "metadata": {
    "hide-output": false
   },
   "outputs": [],
   "source": [
    "fig, ax = plt.subplots()\n",
    "alpha = 1.0\n",
    "ax.loglog(x, np.exp(- alpha * x), label='指数分布', alpha=0.8)\n",
    "ax.loglog(x, x**(- alpha), label='帕累托分布', alpha=0.8)\n",
    "ax.set_xlabel('对数值')\n",
    "ax.set_ylabel('对数概率')\n",
    "ax.legend()\n",
    "plt.show()"
   ]
  },
  {
   "cell_type": "markdown",
   "id": "0a059b33",
   "metadata": {},
   "source": [
    "在对数对数图中，帕累托的互补累积分布函数是线性的，而指数的则是凹的。\n",
    "\n",
    "这个观点常用于在视觉化中区分轻尾分布和重尾分布——我们下面会再次讨论这一点。"
   ]
  },
  {
   "cell_type": "markdown",
   "id": "b592c1f7",
   "metadata": {},
   "source": [
    "### 实验 CCDFs\n",
    "\n",
    "样本对应的 CCDF 函数是**经验 CCDF**。\n",
    "\n",
    "给定一个样本 $ x_1, \\ldots, x_n $，经验 CCDF 定义为\n",
    "\n",
    "$$\n",
    "\\hat G(x) = \\frac{1}{n} \\sum_{i=1}^n \\mathbb 1\\{x_i > x\\}\n",
    "$$\n",
    "\n",
    "因此，$ \\hat G(x) $ 显示样本中超过 $ x $ 的比例。"
   ]
  },
  {
   "cell_type": "code",
   "execution_count": null,
   "id": "f0c3024c",
   "metadata": {
    "hide-output": false
   },
   "outputs": [],
   "source": [
    "def eccdf(x, data):\n",
    "    \"简单的经验 CCDF 函数。\"\n",
    "    return np.mean(data > x)"
   ]
  },
  {
   "cell_type": "markdown",
   "id": "10e0ccd8",
   "metadata": {},
   "source": [
    "下面是一些从模拟数据得到的经验 CCDFs 的图。"
   ]
  },
  {
   "cell_type": "code",
   "execution_count": null,
   "id": "1e84c5cc",
   "metadata": {
    "hide-output": false
   },
   "outputs": [],
   "source": [
    "# 参数和网格\n",
    "x_grid = np.linspace(1, 1000, 1000)\n",
    "sample_size = 1000\n",
    "np.random.seed(13)\n",
    "z = np.random.randn(sample_size)\n",
    "\n",
    "# Draws\n",
    "data_exp = np.random.exponential(size=sample_size)\n",
    "data_logn = np.exp(z)\n",
    "data_pareto = np.exp(np.random.exponential(size=sample_size))\n",
    "\n",
    "data_list = [data_exp, data_logn, data_pareto]\n",
    "\n",
    "# 构建图形\n",
    "fig, axes = plt.subplots(3, 1, figsize=(6, 8))\n",
    "axes = axes.flatten()\n",
    "labels = ['exponential', 'lognormal', 'Pareto']\n",
    "\n",
    "for data, label, ax in zip(data_list, labels, axes):\n",
    "\n",
    "    ax.loglog(x_grid, [eccdf(x, data) for x in x_grid], \n",
    "        'o', markersize=3.0, alpha=0.5, label=label)\n",
    "    ax.set_xlabel(\"对数值\")\n",
    "    ax.set_ylabel(\"对数概率\")\n",
    "    \n",
    "    ax.legend()\n",
    "    \n",
    "    \n",
    "fig.subplots_adjust(hspace=0.4)\n",
    "\n",
    "plt.show()"
   ]
  },
  {
   "cell_type": "markdown",
   "id": "3209bb44",
   "metadata": {},
   "source": [
    "与 CCDF 一样，帕累托分布的经验 CCDF 在对数-对数图中大致呈线性。\n",
    "\n",
    "我们将在下面使用这个想法 [here](https://intro.quantecon.org/heavy_tails.html#heavy-tails-in-economic-cross-sections) 当我们查看真实数据时。"
   ]
  },
  {
   "cell_type": "markdown",
   "id": "604f4022",
   "metadata": {},
   "source": [
    "#### Q-Q图\n",
    "\n",
    "我们也可以使用[qq图](https://en.wikipedia.org/wiki/Q%E2%80%93Q_plot)来可视化比较两个概率分布。\n",
    "\n",
    "[statsmodels](https://www.statsmodels.org/stable/index.html)包提供了一个方便的[qqplot](https://www.statsmodels.org/stable/generated/statsmodels.graphics.gofplots.qqplot.html)函数，该函数默认将样本数据与正态分布的分位数进行比较。\n",
    "\n",
    "如果数据来自正态分布，该图看起来会像："
   ]
  },
  {
   "cell_type": "code",
   "execution_count": null,
   "id": "77398ac1",
   "metadata": {
    "hide-output": false
   },
   "outputs": [],
   "source": [
    "data_normal = np.random.normal(size=sample_size)\n",
    "sm.qqplot(data_normal, line='45')\n",
    "plt.xlabel(\"理论分位数\")\n",
    "plt.ylabel(\"样本分位数\")\n",
    "plt.show()"
   ]
  },
  {
   "cell_type": "markdown",
   "id": "c90c4e15",
   "metadata": {},
   "source": [
    "我们现在可以将其与指数分布、对数正态分布和帕累托分布进行比较"
   ]
  },
  {
   "cell_type": "code",
   "execution_count": null,
   "id": "0333855c",
   "metadata": {
    "hide-output": false
   },
   "outputs": [],
   "source": [
    "# 构建图形\n",
    "fig, axes = plt.subplots(1, 3, figsize=(12, 4))\n",
    "axes = axes.flatten()\n",
    "labels = ['指数分布', '对数正态分布', '帕累托分布']\n",
    "for data, label, ax in zip(data_list, labels, axes):\n",
    "    sm.qqplot(data, line='45', ax=ax)\n",
    "    ax.set_title(label)\n",
    "    ax.set_xlabel('理论分位数')\n",
    "    ax.set_ylabel('样本分位数')\n",
    "plt.tight_layout()\n",
    "plt.show()"
   ]
  },
  {
   "cell_type": "markdown",
   "id": "e6ce868c",
   "metadata": {},
   "source": [
    "### 幂律\n",
    "\n",
    "在经济和社会现象中，一类特定的重尾分布被反复发现：所谓的幂律。\n",
    "\n",
    "若随机变量 $ X $ 满足**幂律**，则存在某个 $ \\alpha > 0 $，\n",
    "\n",
    "$$\n",
    "\\mathbb P\\{X > x\\} \\approx  x^{-\\alpha}\n",
    "\\quad \\text{当 \\$x\\$ 很大}\n",
    "$$\n",
    "\n",
    "我们可以更数学化地写成\n",
    "\n",
    "\n",
    "<a id='equation-plrt'></a>\n",
    "$$\n",
    "\\lim_{x \\to \\infty} x^\\alpha \\, \\mathbb P\\{X > x\\} = c\n",
    "\\quad \\text{对某个 \\$c > 0\\$} \\tag{21.2}\n",
    "$$\n",
    "\n",
    "通常说随机变量 $ X $ 有这样的性质，\n",
    "具有**帕累托尾**和**尾指数** $ \\alpha $。\n",
    "\n",
    "注意，每个具有尾指数 $ \\alpha $ 的帕累托分布\n",
    "都具有**帕累托尾**和**尾指数** $ \\alpha $。\n",
    "\n",
    "我们可以将幂律视为帕累托分布的一种概括。\n",
    "\n",
    "这些分布在它们的右上尾部类似于帕累托分布。\n",
    "\n",
    "另一种考虑幂律的方式是将其视为一组分布，具有特定类型的（非常）重尾。"
   ]
  },
  {
   "cell_type": "markdown",
   "id": "938b57f5",
   "metadata": {},
   "source": [
    "## 经济横截面中的重尾现象\n",
    "\n",
    "如上所述，重尾在经济数据中非常普遍。\n",
    "\n",
    "实际上，幂律分布似乎也十分常见。\n",
    "\n",
    "我们现在通过展示重尾的经验互补累积分布函数（CCDF）来说明这一点。\n",
    "\n",
    "所有的图都是以对数-对数坐标绘制的，因此幂律在对数-对数图中表现为直线，至少在上尾部分是这样。\n",
    "\n",
    "我们隐藏了生成图形的代码，该代码有些复杂，但读者当然可以探索代码（也许可以在查看图形后进行）。"
   ]
  },
  {
   "cell_type": "code",
   "execution_count": null,
   "id": "f707ccf5",
   "metadata": {
    "hide-output": false
   },
   "outputs": [],
   "source": [
    "def empirical_ccdf(data, \n",
    "                   ax, \n",
    "                   aw=None,   # 权重\n",
    "                   label=None,\n",
    "                   xlabel=None,\n",
    "                   add_reg_line=False, \n",
    "                   title=None):\n",
    "    \"\"\"\n",
    "    接受数据向量并返回用于绘图的概率值。\n",
    "    升级版的 empirical_ccdf\n",
    "    \"\"\"\n",
    "    y_vals = np.empty_like(data, dtype='float64')\n",
    "    p_vals = np.empty_like(data, dtype='float64')\n",
    "    n = len(data)\n",
    "    if aw is None:\n",
    "        for i, d in enumerate(data):\n",
    "            # 记录样本中大于 d 的分数\n",
    "            y_vals[i] = np.sum(data >= d) / n\n",
    "            p_vals[i] = np.sum(data == d) / n\n",
    "    else:\n",
    "        fw = np.empty_like(aw, dtype='float64')\n",
    "        for i, a in enumerate(aw):\n",
    "            fw[i] = a / np.sum(aw)\n",
    "        pdf = lambda x: np.interp(x, data, fw)\n",
    "        data = np.sort(data)\n",
    "        j = 0\n",
    "        for i, d in enumerate(data):\n",
    "            j += pdf(d)\n",
    "            y_vals[i] = 1- j\n",
    "\n",
    "    x, y = np.log(data), np.log(y_vals)\n",
    "    \n",
    "    results = sm.OLS(y, sm.add_constant(x)).fit()\n",
    "    b, a = results.params\n",
    "    \n",
    "    kwargs = [('alpha', 0.3)]\n",
    "    if label:\n",
    "        kwargs.append(('label', label))\n",
    "    kwargs = dict(kwargs)\n",
    "\n",
    "    ax.scatter(x, y, **kwargs)\n",
    "    if add_reg_line:\n",
    "        ax.plot(x, x * a + b, 'k-', alpha=0.6, label=f\"斜率 = ${a: 1.2f}$\")\n",
    "    if not xlabel:\n",
    "        xlabel='对数值'\n",
    "    ax.set_xlabel(xlabel, fontsize=12)\n",
    "    ax.set_ylabel(\"对数概率\", fontsize=12)\n",
    "        \n",
    "    if label:\n",
    "        ax.legend(loc='lower left', fontsize=12)\n",
    "        \n",
    "    if title:\n",
    "        ax.set_title(title)\n",
    "        \n",
    "    return np.log(data), y_vals, p_vals"
   ]
  },
  {
   "cell_type": "code",
   "execution_count": null,
   "id": "f2cadb63",
   "metadata": {
    "hide-output": false
   },
   "outputs": [],
   "source": [
    "def extract_wb(varlist=['NY.GDP.MKTP.CD'], \n",
    "               c='all_countries', \n",
    "               s=1900, \n",
    "               e=2021, \n",
    "               varnames=None):\n",
    "    if c == \"all_countries\":\n",
    "        # 仅保留国家（不包括汇总区域）\n",
    "        countries = wb.get_countries()\n",
    "        countries_name = countries[countries['region'] != 'Aggregates']['name'].values\n",
    "        c = \"all\"\n",
    "    \n",
    "    df = wb.download(indicator=varlist, country=c, start=s, end=e).stack().unstack(0).reset_index()\n",
    "    df = df.drop(['level_1'], axis=1).transpose()\n",
    "    if varnames is not None:\n",
    "        df.columns = varnames\n",
    "        df = df[1:]\n",
    "    \n",
    "    df1 =df[df.index.isin(countries_name)]\n",
    "    return df1"
   ]
  },
  {
   "cell_type": "markdown",
   "id": "feb74f2f",
   "metadata": {},
   "source": [
    "### 公司规模\n",
    "\n",
    "以下是2020年来自福布斯全球2000强的最大500家公司的公司规模分布图。"
   ]
  },
  {
   "cell_type": "code",
   "execution_count": null,
   "id": "68118b74",
   "metadata": {
    "hide-output": false
   },
   "outputs": [],
   "source": [
    "df_fs = pd.read_csv('https://media.githubusercontent.com/media/QuantEcon/high_dim_data/main/cross_section/forbes-global2000.csv')\n",
    "df_fs = df_fs[['Country', 'Sales', 'Profits', 'Assets', 'Market Value']]\n",
    "fig, ax = plt.subplots(figsize=(6.4, 3.5))\n",
    "\n",
    "label=\"公司规模（市值）\"\n",
    "top = 500 # 设置排名前500的切断点\n",
    "d = df_fs.sort_values('Market Value', ascending=False)\n",
    "empirical_ccdf(np.asarray(d['Market Value'])[:top], ax, label=label, add_reg_line=True)\n",
    "\n",
    "plt.show()"
   ]
  },
  {
   "cell_type": "markdown",
   "id": "3c0a39d8",
   "metadata": {},
   "source": [
    "### 城市规模\n",
    "\n",
    "以下是2023年来自世界人口审查的美国和巴西城市规模分布图。\n",
    "\n",
    "大小由人口衡量。"
   ]
  },
  {
   "cell_type": "code",
   "execution_count": null,
   "id": "5203344c",
   "metadata": {
    "hide-output": false
   },
   "outputs": [],
   "source": [
    "# 导入2023年美国和2023年巴西城市的人口数据\n",
    "df_cs_us = pd.read_csv('https://media.githubusercontent.com/media/QuantEcon/high_dim_data/main/cross_section/cities_us.csv')\n",
    "df_cs_br = pd.read_csv('https://media.githubusercontent.com/media/QuantEcon/high_dim_data/main/cross_section/cities_brazil.csv')\n",
    "\n",
    "fig, axes = plt.subplots(1, 2, figsize=(8.8, 3.6))\n",
    "\n",
    "empirical_ccdf(np.asarray(df_cs_us[\"pop2023\"]), axes[0], label=\"US\", add_reg_line=True)\n",
    "empirical_ccdf(np.asarray(df_cs_br['pop2023']), axes[1], label=\"Brazil\", add_reg_line=True)\n",
    "\n",
    "plt.show()"
   ]
  },
  {
   "cell_type": "markdown",
   "id": "97af92db",
   "metadata": {},
   "source": [
    "### 财富\n",
    "\n",
    "这里是财富分布上尾部（前500名）的图表示。\n",
    "\n",
    "数据来源于2020年的《福布斯亿万富翁》名单。"
   ]
  },
  {
   "cell_type": "code",
   "execution_count": null,
   "id": "54d59e97",
   "metadata": {
    "hide-output": false
   },
   "outputs": [],
   "source": [
    "df_w = pd.read_csv('https://media.githubusercontent.com/media/QuantEcon/high_dim_data/main/cross_section/forbes-billionaires.csv')\n",
    "df_w = df_w[['country', 'realTimeWorth', 'realTimeRank']].dropna()\n",
    "df_w = df_w.astype({'realTimeRank': int})\n",
    "df_w = df_w.sort_values('realTimeRank', ascending=True).copy()\n",
    "countries = ['United States', 'Japan', 'India', 'Italy']  \n",
    "N = len(countries)\n",
    "\n",
    "fig, axs = plt.subplots(2, 2, figsize=(8, 6))\n",
    "axs = axs.flatten()\n",
    "\n",
    "for i, c in enumerate(countries):\n",
    "    df_w_c = df_w[df_w['country'] == c].reset_index()\n",
    "    z = np.asarray(df_w_c['realTimeWorth'])\n",
    "    # 打印来自该国的全球前2000位富豪的人数\n",
    "    top = 500           # 截止数：前500名\n",
    "    if len(z) <= top:    \n",
    "        z = z[:top]\n",
    "\n",
    "    empirical_ccdf(z[:top], axs[i], label=c, xlabel='对数财富', add_reg_line=True)\n",
    "    \n",
    "fig.tight_layout()\n",
    "\n",
    "plt.show()"
   ]
  },
  {
   "cell_type": "markdown",
   "id": "1fc0a6f6",
   "metadata": {},
   "source": [
    "### GDP\n",
    "\n",
    "当然，并非所有的横截面分布都是重尾的。\n",
    "\n",
    "这里我们展示的是各国人均GDP。"
   ]
  },
  {
   "cell_type": "code",
   "execution_count": null,
   "id": "100e9e7a",
   "metadata": {
    "hide-output": false
   },
   "outputs": [],
   "source": [
    "# 获取2021年所有地区和国家的GDP及人均GDP\n",
    "\n",
    "variable_code = ['NY.GDP.MKTP.CD', 'NY.GDP.PCAP.CD']\n",
    "variable_names = ['GDP', '人均GDP']\n",
    "\n",
    "df_gdp1 = extract_wb(varlist=variable_code, \n",
    "                     c=\"all_countries\", \n",
    "                     s=\"2021\", \n",
    "                     e=\"2021\", \n",
    "                     varnames=variable_names)\n",
    "df_gdp1.dropna(inplace=True)"
   ]
  },
  {
   "cell_type": "code",
   "execution_count": null,
   "id": "fcc29d77",
   "metadata": {
    "hide-output": false
   },
   "outputs": [],
   "source": [
    "fig, axes = plt.subplots(1, 2, figsize=(8.8, 3.6))\n",
    "\n",
    "for name, ax in zip(variable_names, axes):\n",
    "    empirical_ccdf(np.asarray(df_gdp1[name]).astype(\"float64\"), ax, add_reg_line=False, label=name)\n",
    "\n",
    "plt.show()"
   ]
  },
  {
   "cell_type": "markdown",
   "id": "8c43214e",
   "metadata": {},
   "source": [
    "图形是凹形的而不是线形的，因此分布具有轻尾。\n",
    "\n",
    "这其中一个原因是这是关于一个综合变量的数据，其定义中涉及了一些平均处理。\n",
    "\n",
    "平均处理往往会消除极端结果。"
   ]
  },
  {
   "cell_type": "markdown",
   "id": "392e0c98",
   "metadata": {},
   "source": [
    "## 大数定律的失败\n",
    "\n",
    "重尾分布的一个影响是样本平均值可能是底层均值的糟糕估计。\n",
    "\n",
    "为了更好地理解这一点，请回想一下[我们早期关于大数定律的讨论](https://quantecon.github.io/lecture-intro.zh-cn/lln_clt.html)，它考虑了具有共同分布$ F $的独立同分布的$ X_1, \\ldots, X_n $\n",
    "\n",
    "如果$ \\mathbb E |X_i| $是有限的，那么样本平均值$ \\bar X_n := \\frac{1}{n} \\sum_{i=1}^n X_i $满足\n",
    "\n",
    "\n",
    "<a id='equation-lln-as2'></a>\n",
    "$$\n",
    "\\mathbb P \\left\\{ \\bar X_n \\to \\mu \\text{ as } n \\to \\infty \\right\\} = 1 \\tag{21.3}\n",
    "$$\n",
    "\n",
    "其中$ \\mu := \\mathbb E X_i = \\int x F(dx) $是样本的共同均值。\n",
    "\n",
    "在大多数情况下，条件$ \\mathbb E | X_i | = \\int |x| F(dx) < \\infty $成立，但如果分布$ F $是非常重尾的，则可能不成立。\n",
    "\n",
    "例如，柯西分布就是不成立的。\n",
    "\n",
    "让我们来看看这种情况下样本平均值的行为，看是否大数定律仍然有效。"
   ]
  },
  {
   "cell_type": "code",
   "execution_count": null,
   "id": "5fefab11",
   "metadata": {
    "hide-output": false
   },
   "outputs": [],
   "source": [
    "from scipy.stats import cauchy\n",
    "\n",
    "np.random.seed(1234)\n",
    "N = 1_000\n",
    "\n",
    "distribution = cauchy()\n",
    "\n",
    "fig, ax = plt.subplots()\n",
    "data = distribution.rvs(N)\n",
    "\n",
    "# 计算每个n的样本平均值\n",
    "sample_mean = np.empty(N)\n",
    "for n in range(1, N):\n",
    "    sample_mean[n] = np.mean(data[:n])\n",
    "\n",
    "# 绘图\n",
    "ax.plot(range(N), sample_mean, alpha=0.6, label='$\\\\bar{X}_n$')\n",
    "ax.plot(range(N), np.zeros(N), 'k--', lw=0.5)\n",
    "ax.set_xlabel(r\"$n$\")\n",
    "ax.legend()\n",
    "\n",
    "plt.show()"
   ]
  },
  {
   "cell_type": "markdown",
   "id": "c959bd59",
   "metadata": {},
   "source": [
    "序列显示没有收敛的迹象。\n",
    "\n",
    "我们在练习中会回到这一点。\n",
    "\n",
    "\n",
    "<a id='heavy-tail-application'></a>"
   ]
  },
  {
   "cell_type": "markdown",
   "id": "6bf18a68",
   "metadata": {},
   "source": [
    "## 为什么重尾分布很重要？\n",
    "\n",
    "我们已经看到\n",
    "\n",
    "1. 在经济学中，重尾分布非常常见；  \n",
    "1. 当尾部非常重时，大数定律失效。  \n",
    "\n",
    "\n",
    "但是在现实世界中，重尾分布重要吗？让我们简要讨论一下它们为什么重要。"
   ]
  },
  {
   "cell_type": "markdown",
   "id": "6957ab35",
   "metadata": {},
   "source": [
    "### 分散化投资\n",
    "\n",
    "投资中一个最重要的概念是使用分散化来降低风险。\n",
    "\n",
    "这是一个非常古老的想法——例如，考虑这个表达式“不要把所有的鸡蛋放在一个篮子里”。\n",
    "\n",
    "为了说明这一点，设想一个拥有一美元财富的投资者，在$ n $种资产中进行选择，这些资产的回报为$ X_1, \\ldots, X_n $。\n",
    "\n",
    "假设不同资产的回报是独立的，每个回报有均值$ \\mu $和方差$ \\sigma^2 $。\n",
    "\n",
    "如果投资者将所有财富投资在一个资产上，那么该投资组合的预期收益为$ \\mu $，方差为$ \\sigma^2 $。\n",
    "\n",
    "如果投资者将她的财富均分到每一个资产上，即每个资产的份额为$ 1/n $，那么投资组合的收益为\n",
    "\n",
    "$$\n",
    "Y_n = \\sum_{i=1}^n \\frac{X_i}{n} = \\frac{1}{n} \\sum_{i=1}^n X_i.\n",
    "$$\n",
    "\n",
    "试着计算均值和方差。\n",
    "\n",
    "你会发现：\n",
    "\n",
    "- 均值保持不变，依旧是$ \\mu $，  \n",
    "- 投资组合的方差降低到了$ \\sigma^2 / n $。  \n",
    "\n",
    "\n",
    "正如预期的那样，分散化减少了风险。\n",
    "\n",
    "但是这里有一个隐藏的假设：回报的方差是有限的。\n",
    "\n",
    "如果分布是重尾的并且方差是无限的，那么这种逻辑就是不正确的。\n",
    "\n",
    "例如，我们上面看到，如果每个$ X_i $都是柯西分布，那么$ Y_n $也是。\n",
    "\n",
    "这意味着分散化根本没有帮助！"
   ]
  },
  {
   "cell_type": "markdown",
   "id": "b710d7ae",
   "metadata": {},
   "source": [
    "### 财政政策\n",
    "\n",
    "财富分配中尾部的厚重程度对税收和再分配政策至关重要。\n",
    "\n",
    "收入分配也是如此。\n",
    "\n",
    "例如，收入分配尾部的厚重程度有助于决定[税收政策](https://quantecon.github.io/lecture-intro.zh-cn/mle.html)。\n",
    "\n",
    "\n",
    "<a id='cltail'></a>"
   ]
  },
  {
   "cell_type": "markdown",
   "id": "23074fe4",
   "metadata": {},
   "source": [
    "## 分类尾部特性\n",
    "\n",
    "到目前为止，我们讨论了轻尾和重尾，但没有任何数学定义。\n",
    "\n",
    "现在让我们来纠正这一点。\n",
    "\n",
    "我们将关注非负随机变量及其分布的右侧尾部。\n",
    "\n",
    "左侧尾部的定义非常相似，为了简化论述，我们省略它们。\n",
    "\n",
    "\n",
    "<a id='heavy-tail-formal-definition'></a>"
   ]
  },
  {
   "cell_type": "markdown",
   "id": "412b263c",
   "metadata": {},
   "source": [
    "### 轻尾和重尾\n",
    "\n",
    "一个在 $ \\mathbb R_+ $ 上有密度 $ f $ 的分布 $ F $ 被称为[重尾](https://en.wikipedia.org/wiki/Heavy-tailed_distribution)的，如果\n",
    "\n",
    "\n",
    "<a id='equation-defht'></a>\n",
    "$$\n",
    "\\int_0^\\infty \\exp(tx) f(x) dx = \\infty \\; \\text{ 对于所有 } t > 0. \\tag{21.4}\n",
    "$$\n",
    "\n",
    "我们说一个非负随机变量 $ X $ 是**重尾**的，如果它的密度是重尾的。\n",
    "\n",
    "这等同于说它的**矩生成函数** $ m(t) := \\mathbb E \\exp(t X) $ 对于所有 $ t > 0 $ 都是无限的。\n",
    "\n",
    "例如，[对数正态分布](https://en.wikipedia.org/wiki/Log-normal_distribution)是重尾的，因为它的矩生成函数在 $ (0, \\infty) $ 上无限。\n",
    "\n",
    "帕累托分布也是重尾分布。\n",
    "\n",
    "非正式地说，重尾分布是指不受指数型界限约束的分布（即尾部比指数分布更重）。\n",
    "\n",
    "如果一个在 $ \\mathbb R_+ $ 上的分布 $ F $ 不是重尾的，则称它为**轻尾**。\n",
    "\n",
    "一个非负随机变量 $ X $ 是**轻尾的**，如果它的分布 $ F $ 是轻尾的。\n",
    "\n",
    "例如，所有有界支撑的随机变量都是轻尾的。（为什么？）\n",
    "\n",
    "再举一个例子，如果 $ X $ 有[指数分布](https://en.wikipedia.org/wiki/Exponential_distribution)，累积分布函数 $ F(x) = 1 - \\exp(-\\lambda x) $ 对某个 $ \\lambda > 0 $，则其矩生成函数为\n",
    "\n",
    "$$\n",
    "m(t) = \\frac{\\lambda}{\\lambda - t} \\quad \\text{当 } t < \\lambda\n",
    "$$\n",
    "\n",
    "特别地，只要 $ t < \\lambda $，$ m(t) $ 就是有限的，因此 $ X $ 是轻尾的。\n",
    "\n",
    "可以证明，如果 $ X $ 是轻尾的，则它的所有\n",
    "[矩](https://en.wikipedia.org/wiki/Moment_%28mathematics%29)都是有限的。\n",
    "\n",
    "反之，如果某个矩是无限的，则 $ X $ 是重尾的。\n",
    "\n",
    "但后者条件不是必需的。\n",
    "\n",
    "例如，对数正态分布是重尾的，但每个矩都是有限的。"
   ]
  },
  {
   "cell_type": "markdown",
   "id": "a814e989",
   "metadata": {},
   "source": [
    "## 延伸阅读\n",
    "\n",
    "想了解更多关于财富分布中的重尾，可以参考文献 [[Vilfredo, 1896](https://quantecon.github.io/lecture-intro.zh-cn/zreferences.html#id90)] 和 [[Benhabib and Bisin, 2018](https://quantecon.github.io/lecture-intro.zh-cn/zreferences.html#id89)]。\n",
    "\n",
    "想了解更多关于公司规模分布中的重尾，可以参考文献 [[Axtell, 2001](https://quantecon.github.io/lecture-intro.zh-cn/zreferences.html#id88)], [[Gabaix, 2016](https://quantecon.github.io/lecture-intro.zh-cn/zreferences.html#id87)]。\n",
    "\n",
    "想了解更多关于城市规模分布中的重尾，可以参考文献 [[Rozenfeld *et al.*, 2011](https://quantecon.github.io/lecture-intro.zh-cn/zreferences.html#id84)], [[Gabaix, 2016](https://quantecon.github.io/lecture-intro.zh-cn/zreferences.html#id87)]。\n",
    "\n",
    "重尾的其他重要影响，除了上述讨论之外，还有不少。\n",
    "\n",
    "例如，收入和财富中的重尾会影响生产力增长、商业周期和政治经济学。\n",
    "\n",
    "欲了解更多，请参阅 [[Acemoglu and Robinson, 2002](https://quantecon.github.io/lecture-intro.zh-cn/zreferences.html#id83)], [[Glaeser *et al.*, 2003](https://quantecon.github.io/lecture-intro.zh-cn/zreferences.html#id82)], [[Bhandari *et al.*, 2018](https://quantecon.github.io/lecture-intro.zh-cn/zreferences.html#id81)] 或 [[Ahn *et al.*, 2018](https://quantecon.github.io/lecture-intro.zh-cn/zreferences.html#id80)]。"
   ]
  },
  {
   "cell_type": "markdown",
   "id": "5c050df7",
   "metadata": {},
   "source": [
    "## 练习"
   ]
  },
  {
   "cell_type": "markdown",
   "id": "ad46ad12",
   "metadata": {},
   "source": [
    "## Exercise 21.2\n",
    "\n",
    "证明：如果 $ X $ 拥有尾指数为 $ \\alpha $ 的帕累托尾，则\n",
    "$ \\mathbb E[X^r] = \\infty $ 对所有的 $ r \\geq \\alpha $ 都成立。"
   ]
  },
  {
   "cell_type": "markdown",
   "id": "5f767b1a",
   "metadata": {},
   "source": [
    "## Solution to[ Exercise 21.2](https://quantecon.github.io/lecture-intro.zh-cn/#ht_ex2)\n",
    "\n",
    "设 $ X $ 拥有尾指数为 $ \\alpha $ 的帕累托尾，并且设 $ F $ 为其累积分布函数。\n",
    "\n",
    "固定 $ r \\geq \\alpha $。\n",
    "\n",
    "根据公式 [(21.2)](#equation-plrt)，我们可以取正常数 $ b $ 和 $ \\bar x $，使得\n",
    "\n",
    "$$\n",
    "\\mathbb P\\{X > x\\} \\geq b x^{-\\alpha} \\text{ 当 } x \\geq \\bar x\n",
    "$$\n",
    "\n",
    "但是\n",
    "\n",
    "$$\n",
    "\\mathbb E X^r = r \\int_0^\\infty x^{r-1} \\mathbb P\\{ X > x \\} dx\n",
    "\\geq\n",
    "r \\int_0^{\\bar x} x^{r-1} \\mathbb P\\{ X > x \\} dx\n",
    "+ r \\int_{\\bar x}^\\infty  x^{r-1} b x^{-\\alpha} dx.\n",
    "$$\n",
    "\n",
    "我们知道 $ \\int_{\\bar x}^\\infty x^{r-\\alpha-1} dx = \\infty $ 当 $ r - \\alpha - 1 \\geq -1 $ 时。\n",
    "\n",
    "由于 $ r \\geq \\alpha $，我们得到 $ \\mathbb E X^r = \\infty $。"
   ]
  },
  {
   "cell_type": "markdown",
   "id": "ad49d7bb",
   "metadata": {},
   "source": [
    "## Exercise 21.3\n",
    "\n",
    "重复练习1，但将三个分布（两个正态，一个柯西）替换为三个帕累托分布，并使用不同的 $ \\alpha $ 值。\n",
    "\n",
    "对于 $ \\alpha $，尝试1.15、1.5和1.75。\n",
    "\n",
    "使用 `np.random.seed(11)` 来设置种子。"
   ]
  },
  {
   "cell_type": "markdown",
   "id": "3d31d9d6",
   "metadata": {},
   "source": [
    "## Solution to[ Exercise 21.3](https://quantecon.github.io/lecture-intro.zh-cn/#ht_ex3)"
   ]
  },
  {
   "cell_type": "code",
   "execution_count": null,
   "id": "c4c76567",
   "metadata": {
    "hide-output": false
   },
   "outputs": [],
   "source": [
    "from scipy.stats import pareto\n",
    "\n",
    "np.random.seed(11)\n",
    "\n",
    "n = 120\n",
    "alphas = [1.15, 1.50, 1.75]\n",
    "\n",
    "fig, axes = plt.subplots(3, 1, figsize=(6, 8))\n",
    "\n",
    "for (a, ax) in zip(alphas, axes):\n",
    "    ax.set_ylim((-5, 50))\n",
    "    data = pareto.rvs(size=n, scale=1, b=a)\n",
    "    ax.plot(list(range(n)), data, linestyle='', marker='o', alpha=0.5, ms=4)\n",
    "    ax.vlines(list(range(n)), 0, data, lw=0.2)\n",
    "    ax.set_title(f\"帕累托分布抽样 $\\\\alpha = {a}$\", fontsize=11)\n",
    "\n",
    "plt.subplots_adjust(hspace=0.4)\n",
    "\n",
    "plt.show()"
   ]
  },
  {
   "cell_type": "markdown",
   "id": "abea8438",
   "metadata": {},
   "source": [
    "## Exercise 21.4\n",
    "\n",
    "关于企业规模分布应该用帕累托分布还是对数正态分布进行建模的争论一直持续不断（参见例如 [[Fujiwara *et al.*, 2004](https://quantecon.github.io/lecture-intro.zh-cn/zreferences.html#id73)]、[[Kondo *et al.*, 2018](https://quantecon.github.io/lecture-intro.zh-cn/zreferences.html#id71)] 或 [[Schluter and Trede, 2019](https://quantecon.github.io/lecture-intro.zh-cn/zreferences.html#id72)]）。\n",
    "\n",
    "这听起来很深奥，但对各种经济现象都有实际影响。\n",
    "\n",
    "为了简单说明这个事实，我们考虑一个拥有100,000家企业的经济体，利率为 `r = 0.05` 并且企业税率为15%。\n",
    "\n",
    "你的任务是估计未来10年企业税收的现值折现。\n",
    "\n",
    "因为我们在进行预测，我们需要一个模型。\n",
    "\n",
    "我们将假设：\n",
    "\n",
    "1. 企业数量和企业规模分布（以利润计）保持不变，并且  \n",
    "1. 企业规模分布要么是对数正态分布，要么是帕累托分布。  \n",
    "\n",
    "\n",
    "税收的现值折现将通过以下步骤估算：\n",
    "\n",
    "1. 从企业规模分布生成100,000次企业利润的抽样，  \n",
    "1. 将其乘以税率，并且  \n",
    "1. 通过折现将结果求和以获得现值。  \n",
    "\n",
    "\n",
    "帕累托分布假设采用 [(21.1)](#equation-pareto) 形式，其中 $ \\bar x = 1 $ 且 $ \\alpha = 1.05 $。\n",
    "\n",
    "（尾指数 $ \\alpha $ 的值是合理的，鉴于数据 [[Gabaix, 2016](https://quantecon.github.io/lecture-intro.zh-cn/zreferences.html#id87)]。）\n",
    "\n",
    "为了使对数正态选项尽可能类似于帕累托选项，请选择其参数使得两个分布的均值和中位数相同。\n",
    "\n",
    "注意，对于每个分布，你的税收估算都是随机的，因为它基于有限的抽样。\n",
    "\n",
    "为了考虑到这一点，对两种分布各产生100次重复（税收收入的估计），并通过以下方式比较两个样本：\n",
    "\n",
    "- 制作一张将两个样本并排显示的[小提琴图](https://en.wikipedia.org/wiki/Violin_plot)，并且  \n",
    "- 输出两个样本的均值和标准差。  \n",
    "\n",
    "\n",
    "对种子使用 `np.random.seed(1234)`。\n",
    "\n",
    "你观察到了哪些差异？\n",
    "\n",
    "（注：解决这个问题的更好方法将是建模企业动态并尝试给定当前分布追踪个别企业。我们将在后续讲座中讨论企业动态。）"
   ]
  },
  {
   "cell_type": "markdown",
   "id": "a87d20f2",
   "metadata": {},
   "source": [
    "## Solution to[ Exercise 21.4](https://quantecon.github.io/lecture-intro.zh-cn/#ht_ex5)\n",
    "\n",
    "为了完成这个练习，我们需要选择对数正态分布的参数 $ \\mu $ 和 $ \\sigma $，使其匹配Pareto分布的均值和中位数。\n",
    "\n",
    "这里我们将对数正态分布理解为随机变量 $ \\exp(\\mu + \\sigma Z) $，当 $ Z $ 是标准正态分布时。\n",
    "\n",
    "Pareto分布 [(21.1)](#equation-pareto) 的均值和中位数，其中 $ \\bar x = 1 $，分别是\n",
    "\n",
    "$$\n",
    "\\text{均值} = \\frac{\\alpha}{\\alpha - 1}\n",
    "\\quad \\text{和} \\quad\n",
    "\\text{中位数} = 2^{1/\\alpha}\n",
    "$$\n",
    "\n",
    "使用对应的对数正态分布表达式，我们得到以下方程组\n",
    "\n",
    "$$\n",
    "\\frac{\\alpha}{\\alpha - 1} = \\exp(\\mu + \\sigma^2/2)\n",
    "\\quad \\text{和} \\quad\n",
    "2^{1/\\alpha} = \\exp(\\mu)\n",
    "$$\n",
    "\n",
    "我们用 $ \\alpha = 1.05 $ 来解这些方程得到 $ \\mu $ 和 $ \\sigma $。\n",
    "\n",
    "以下是生成两个样本、制作小提琴图并打印两个样本的均值和标准差的代码。"
   ]
  },
  {
   "cell_type": "code",
   "execution_count": null,
   "id": "de238972",
   "metadata": {
    "hide-output": false
   },
   "outputs": [],
   "source": [
    "num_firms = 100_000\n",
    "num_years = 10\n",
    "tax_rate = 0.15\n",
    "r = 0.05\n",
    "\n",
    "β = 1 / (1 + r)    # 折现因子\n",
    "\n",
    "x_bar = 1.0\n",
    "α = 1.05\n",
    "\n",
    "def pareto_rvs(n):\n",
    "    \"使用标准方法生成Pareto抽样。\"\n",
    "    u = np.random.uniform(size=n)\n",
    "    y = x_bar / (u**(1/α))\n",
    "    return y"
   ]
  },
  {
   "cell_type": "markdown",
   "id": "1c6acfa6",
   "metadata": {},
   "source": [
    "我们来计算对数正态分布的参数："
   ]
  },
  {
   "cell_type": "code",
   "execution_count": null,
   "id": "31217833",
   "metadata": {
    "hide-output": false
   },
   "outputs": [],
   "source": [
    "μ = np.log(2) / α\n",
    "σ_sq = 2 * (np.log(α/(α - 1)) - np.log(2)/α)\n",
    "σ = np.sqrt(σ_sq)"
   ]
  },
  {
   "cell_type": "markdown",
   "id": "518e8067",
   "metadata": {},
   "source": [
    "这是一个计算特定分布 `dist` 的单一税收估计的函数。"
   ]
  },
  {
   "cell_type": "code",
   "execution_count": null,
   "id": "60785cb2",
   "metadata": {
    "hide-output": false
   },
   "outputs": [],
   "source": [
    "def tax_rev(dist):\n",
    "    tax_raised = 0\n",
    "    for t in range(num_years):\n",
    "        if dist == 'pareto':\n",
    "            π = pareto_rvs(num_firms)\n",
    "        else:\n",
    "            π = np.exp(μ + σ * np.random.randn(num_firms))\n",
    "        tax_raised += β**t * np.sum(π * tax_rate)\n",
    "    return tax_raised"
   ]
  },
  {
   "cell_type": "markdown",
   "id": "2c324713",
   "metadata": {},
   "source": [
    "现在让我们生成小提琴图。"
   ]
  },
  {
   "cell_type": "code",
   "execution_count": null,
   "id": "dbaba6be",
   "metadata": {
    "hide-output": false
   },
   "outputs": [],
   "source": [
    "num_reps = 100\n",
    "np.random.seed(1234)\n",
    "\n",
    "tax_rev_lognorm = np.empty(num_reps)\n",
    "tax_rev_pareto = np.empty(num_reps)\n",
    "\n",
    "for i in range(num_reps):\n",
    "    tax_rev_pareto[i] = tax_rev('pareto')\n",
    "    tax_rev_lognorm[i] = tax_rev('lognorm')\n",
    "\n",
    "fig, ax = plt.subplots()\n",
    "\n",
    "data = tax_rev_pareto, tax_rev_lognorm\n",
    "\n",
    "ax.violinplot(data)\n",
    "\n",
    "plt.show()"
   ]
  },
  {
   "cell_type": "markdown",
   "id": "bbae3383",
   "metadata": {},
   "source": [
    "最后，我们来生成均值和标准差。"
   ]
  },
  {
   "cell_type": "code",
   "execution_count": null,
   "id": "cc20b830",
   "metadata": {
    "hide-output": false
   },
   "outputs": [],
   "source": [
    "tax_rev_pareto.mean(), tax_rev_pareto.std()"
   ]
  },
  {
   "cell_type": "code",
   "execution_count": null,
   "id": "dba8eb3b",
   "metadata": {
    "hide-output": false
   },
   "outputs": [],
   "source": [
    "tax_rev_lognorm.mean(), tax_rev_lognorm.std()"
   ]
  },
  {
   "cell_type": "markdown",
   "id": "9a2ccbb9",
   "metadata": {},
   "source": [
    "通过查看代码的输出，我们的主要结论是，帕累托分布假设会导致更低的均值和更大的离散度。"
   ]
  },
  {
   "cell_type": "markdown",
   "id": "84c9d1d7",
   "metadata": {},
   "source": [
    "## Exercise 21.5\n",
    "\n",
    "柯西分布的[特征函数](https://en.wikipedia.org/wiki/Characteristic_function_%28probability_theory%29)为\n",
    "\n",
    "\n",
    "<a id='equation-lln-cch'></a>\n",
    "$$\n",
    "\\phi(t) = \\mathbb E e^{itX} = \\int e^{i t x} f(x) dx = e^{-|t|} \\tag{21.5}\n",
    "$$\n",
    "\n",
    "证明 $ n $ 次独立抽样 $ X_1, \\ldots, X_n $ 从柯西分布得来的样本均值 $ \\bar X_n $ 具有与 $ X_1 $ 相同的特征函数。\n",
    "\n",
    "（这意味着样本均值永远不会收敛。）"
   ]
  },
  {
   "cell_type": "markdown",
   "id": "b53613a7",
   "metadata": {},
   "source": [
    "## Solution to[ Exercise 21.5](https://quantecon.github.io/lecture-intro.zh-cn/#ht_ex_cauchy)\n",
    "\n",
    "由独立性，样本均值的特征函数变为\n",
    "\n",
    "$$\n",
    "\\begin{aligned}\n",
    "    \\mathbb E e^{i t \\bar X_n }\n",
    "    & = \\mathbb E \\exp \\left\\{ i \\frac{t}{n} \\sum_{j=1}^n X_j \\right\\}\n",
    "    \\\\\n",
    "    & = \\mathbb E \\prod_{j=1}^n \\exp \\left\\{ i \\frac{t}{n} X_j \\right\\}\n",
    "    \\\\\n",
    "    & = \\prod_{j=1}^n \\mathbb E \\exp \\left\\{ i \\frac{t}{n} X_j \\right\\}\n",
    "    = [\\phi(t/n)]^n\n",
    "\\end{aligned}\n",
    "$$\n",
    "\n",
    "根据 [(21.5)](#equation-lln-cch)，这就是 $ e^{-|t|} $。\n",
    "\n",
    "因此，在柯西分布的情况下，样本均值本身具有完全相同的柯西分布，无论 $ n $ 是多少！"
   ]
  }
 ],
 "metadata": {
  "date": 1742186709.6072865,
  "filename": "heavy_tails.md",
  "kernelspec": {
   "display_name": "Python",
   "language": "python3",
   "name": "python3"
  },
  "title": "重尾分布"
 },
 "nbformat": 4,
 "nbformat_minor": 5
}