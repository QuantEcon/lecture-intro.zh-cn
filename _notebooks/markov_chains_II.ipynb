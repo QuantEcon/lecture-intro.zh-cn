{
 "cells": [
  {
   "cell_type": "markdown",
   "id": "a26dddb7",
   "metadata": {},
   "source": [
    "# 马尔科夫链：不可约性与遍历性\n",
    "\n",
    "\n",
    "<a id='index-0'></a>\n",
    "除了 Anaconda 中的函数库外，这个讲座还需要以下函数库："
   ]
  },
  {
   "cell_type": "code",
   "execution_count": null,
   "id": "094ff9f4",
   "metadata": {
    "hide-output": false
   },
   "outputs": [],
   "source": [
    "!pip install quantecon"
   ]
  },
  {
   "cell_type": "markdown",
   "id": "a7e67602",
   "metadata": {},
   "source": [
    "## 概述\n",
    "\n",
    "本讲座是我们[之前关于马尔科夫链的讲座](https://quantecon.github.io/lecture-intro.zh-cn/markov_chains_I.html)的延续。\n",
    "\n",
    "具体来说，我们将介绍不可约性和遍历性的概念，并了解它们与平稳性的联系。\n",
    "\n",
    "不可约性描述了马尔科夫链在系统中任意两个状态之间移动的能力。\n",
    "\n",
    "遍历性是一种样本路径性质，描述了系统在长时间内的行为。\n",
    "\n",
    "正如我们将看到的：\n",
    "\n",
    "- 不可约的马尔科夫链保证唯一的平稳分布存在，而  \n",
    "- 具有遍历性的马尔科夫链可以生成满足大数定律的时间序列。  \n",
    "\n",
    "\n",
    "这些概念一起为理解马尔科夫链的长期表现提供了基础。\n",
    "\n",
    "让我们从一些通常的函数库导入开始："
   ]
  },
  {
   "cell_type": "code",
   "execution_count": null,
   "id": "9005c674",
   "metadata": {
    "hide-output": false
   },
   "outputs": [],
   "source": [
    "import matplotlib.pyplot as plt\n",
    "import quantecon as qe\n",
    "import numpy as np\n",
    "\n",
    "import matplotlib as mpl\n",
    "FONTPATH = \"fonts/SourceHanSerifSC-SemiBold.otf\"\n",
    "mpl.font_manager.fontManager.addfont(FONTPATH)\n",
    "plt.rcParams['font.family'] = ['Source Han Serif SC']"
   ]
  },
  {
   "cell_type": "markdown",
   "id": "988c7adf",
   "metadata": {},
   "source": [
    "\n",
    "<a id='mc-irreducible'></a>"
   ]
  },
  {
   "cell_type": "markdown",
   "id": "43928744",
   "metadata": {},
   "source": [
    "## 不可约性\n",
    "\n",
    "为了解释不可约性，让我们设 $ P $ 为一个固定的随机矩阵。\n",
    "\n",
    "如果对于某个整数 $ t\\ge 0 $，$ P^t(x,y)>0 $，则称状态 $ x $ 对状态 $ y $ 是**可达**的。\n",
    "\n",
    "当状态 $ x $ 和 $ y $ 彼此可达时，称它们**互通**。\n",
    "\n",
    "根据我们[前面讨论的](https://quantecon.github.io/lecture-intro.zh-cn/markov_chains_I.html#finite-mc-mstp)，这正意味着\n",
    "\n",
    "- 状态 $ x $ 最终可以从状态 $ y $ 到达，且  \n",
    "- 状态 $ y $ 最终可以从状态 $ x $ 到达。  \n",
    "\n",
    "\n",
    "如果所有状态都互通，则称随机矩阵 $ P $ 是**不可约**的，即对于所有 在 $ S \\times S $ 空间中的 $ (x, y) $，$ x $ 的 $ y $ 互通。"
   ]
  },
  {
   "cell_type": "markdown",
   "id": "066c5a46",
   "metadata": {},
   "source": [
    "## \n",
    "\n",
    "例如，考虑下面虚构的一组家庭的财富状况转移概率。\n",
    "\n",
    "![https://quantecon.github.io/lecture-intro.zh-cn/_static/lecture_specific/markov_chains_II/Irre_1.png](https://quantecon.github.io/lecture-intro.zh-cn/_static/lecture_specific/markov_chains_II/Irre_1.png)\n",
    "\n",
    "我们可以将其转化为一个随机矩阵，用0填充对应节点之间没有边线连接的地方。\n",
    "\n",
    "$$\n",
    "P :=\n",
    "\\begin{bmatrix} \n",
    "     0.9 & 0.1 & 0 \\\\\n",
    "     0.4 & 0.4 & 0.2 \\\\\n",
    "     0.1 & 0.1 & 0.8\n",
    "\\end{bmatrix}\n",
    "$$\n",
    "\n",
    "从图中可以看出，这个随机矩阵是不可约的：我们可以最终（步数足够大）从其中任何状态到达任何其他状态。\n",
    "\n",
    "我们还可以使用 [QuantEcon.py](http://quantecon.org/quantecon-py) 的 `MarkovChain` python类来测试这一点："
   ]
  },
  {
   "cell_type": "code",
   "execution_count": null,
   "id": "ecda34ce",
   "metadata": {
    "hide-output": false
   },
   "outputs": [],
   "source": [
    "P = [[0.9, 0.1, 0.0],\n",
    "     [0.4, 0.4, 0.2],\n",
    "     [0.1, 0.1, 0.8]]\n",
    "\n",
    "mc = qe.MarkovChain(P, ('poor', 'middle', 'rich'))\n",
    "mc.is_irreducible"
   ]
  },
  {
   "cell_type": "markdown",
   "id": "7c11b712",
   "metadata": {},
   "source": [
    "## \n",
    "\n",
    "这是一个更加悲观的情景，贫困者永远保持贫困。\n",
    "\n",
    "![https://quantecon.github.io/lecture-intro.zh-cn/_static/lecture_specific/markov_chains_II/Irre_2.png](https://quantecon.github.io/lecture-intro.zh-cn/_static/lecture_specific/markov_chains_II/Irre_2.png)\n",
    "\n",
    "这个随机矩阵不是不可约的，因为例如，富有状态无法从贫困状态直接到达。\n",
    "\n",
    "让我们确认这一点："
   ]
  },
  {
   "cell_type": "code",
   "execution_count": null,
   "id": "cbfa33fe",
   "metadata": {
    "hide-output": false
   },
   "outputs": [],
   "source": [
    "P = [[1.0, 0.0, 0.0],\n",
    "     [0.1, 0.8, 0.1],\n",
    "     [0.0, 0.2, 0.8]]\n",
    "\n",
    "mc = qe.MarkovChain(P, ('poor', 'middle', 'rich'))\n",
    "mc.is_irreducible"
   ]
  },
  {
   "cell_type": "markdown",
   "id": "f97a076e",
   "metadata": {},
   "source": [
    "你可能已经明白，不可约性在长期结果中非常重要。\n",
    "\n",
    "例如，在第二个图中，贫困是一种终身的困境，但在第一个图中不是。\n",
    "\n",
    "我们稍后会回到这个问题。"
   ]
  },
  {
   "cell_type": "markdown",
   "id": "54962f35",
   "metadata": {},
   "source": [
    "### 不可约性与平稳性\n",
    "\n",
    "我们在之前的讲座 [马尔科夫链：基本概念](https://quantecon.github.io/lecture-intro.zh-cn/markov_chains_I.html) 中讨论了平稳分布的唯一性。\n",
    "\n",
    "我们[指出](https://quantecon.github.io/lecture-intro.zh-cn/markov_chains_I.html#mc_po_conv_thm)，当转移矩阵处处为正时，唯一性成立。\n",
    "\n",
    "事实上，不可约性就足够了："
   ]
  },
  {
   "cell_type": "markdown",
   "id": "91383454",
   "metadata": {},
   "source": [
    "### \n",
    "\n",
    "如果 $ P $ 是不可约的，那么 $ P $ 只有一个平稳分布。\n",
    "\n",
    "有关证明，请参见 [[Sargent and Stachurski, 2023](https://quantecon.github.io/lecture-intro.zh-cn/zreferences.html#id24)] 的第4章或 [[Häggström, 2002](https://quantecon.github.io/lecture-intro.zh-cn/zreferences.html#id155)] 的定理5.2。\n",
    "\n",
    "\n",
    "<a id='ergodicity'></a>"
   ]
  },
  {
   "cell_type": "markdown",
   "id": "c590b43d",
   "metadata": {},
   "source": [
    "## 遍历性\n",
    "\n",
    "在不可约性下，还可以得到另一个重要结果："
   ]
  },
  {
   "cell_type": "markdown",
   "id": "7c7592e9",
   "metadata": {},
   "source": [
    "## \n",
    "\n",
    "如果 $ P $ 是不可约的，并且 $ \\psi^* $ 是唯一的平稳分布，那么对于所有 $ x \\in S $，\n",
    "\n",
    "\n",
    "<a id='equation-llnfmc0'></a>\n",
    "$$\n",
    "\\frac{1}{m} \\sum_{t = 1}^m \\mathbb{1}\\{X_t = x\\}  \\to \\psi^*(x)\n",
    "    \\quad \\text{当 } m \\to \\infty \\tag{34.1}\n",
    "$$\n",
    "\n",
    "这里\n",
    "\n",
    "- $ \\{X_t\\} $ 是具有随机矩阵 $ P $ 和初始分布 $ \\psi_0 $ 的马尔科夫链。  \n",
    "- $ \\mathbb{1} \\{X_t = x\\} = 1 $ 当且仅当 $ X_t = x $，否则为0。  \n",
    "\n",
    "\n",
    "定理[(34.1)](#equation-llnfmc0)中的结果有时称为**遍历性**。\n",
    "\n",
    "该定理告诉我们，随着时间趋于无穷大，链花费在状态 $ x $ 的时间比例收敛到 $ \\psi^*(x) $。\n",
    "\n",
    "\n",
    "<a id='new-interp-sd'></a>\n",
    "这为我们提供了另一种解释平稳分布的方法（假设不可约性成立）。\n",
    "\n",
    "重要的是，这一结果对于任何 $ \\psi_0 $ 都有效。\n",
    "\n",
    "该定理与[大数定律](https://quantecon.github.io/lecture-intro.zh-cn/lln_clt.html)相关。\n",
    "\n",
    "它告诉我们，在某些情况中，即使随机变量序列[不是独立同分布](https://quantecon.github.io/lecture-intro.zh-cn/lln_clt.html#iid-violation)，大数定律有时也成立。\n",
    "\n",
    "\n",
    "<a id='mc-eg1-2'></a>"
   ]
  },
  {
   "cell_type": "markdown",
   "id": "efa392b7",
   "metadata": {},
   "source": [
    "### 示例：遍历性与失业\n",
    "\n",
    "回顾我们关于就业/失业模型的截面解释[之前讨论过](https://quantecon.github.io/lecture-intro.zh-cn/markov_chains_I.html#mc-eg1-1)。\n",
    "\n",
    "假设 $ \\alpha \\in (0,1) $ 且 $ \\beta \\in (0,1) $，因此不可约性成立。\n",
    "\n",
    "我们看到平稳分布是 $ (p, 1-p) $，其中\n",
    "\n",
    "$$\n",
    "p = \\frac{\\beta}{\\alpha + \\beta}\n",
    "$$\n",
    "\n",
    "在截面解释中，这是失业人员的比例。\n",
    "\n",
    "根据我们最新的遍历性结果，这也是单个工人预期花费在失业状态的时间比例。\n",
    "\n",
    "因此，从长远来看，人口的截面平均值和单个个体的时间序列平均值是一致的。\n",
    "\n",
    "这是遍历性概念的一个方面。\n",
    "\n",
    "\n",
    "<a id='ergo'></a>"
   ]
  },
  {
   "cell_type": "markdown",
   "id": "129d1993",
   "metadata": {},
   "source": [
    "### 示例：汉密尔顿动力学\n",
    "\n",
    "另一个示例是我们[之前讨论过的](https://quantecon.github.io/lecture-intro.zh-cn/markov_chains_I.html#mc-eg2)汉密尔顿动力学。\n",
    "\n",
    "让 $ \\{X_t\\} $ 是由这些动力学生成的样本路径。\n",
    "\n",
    "令在时间段 $ t=1, \\ldots, n $ 内花费在状态 $ x $ 上的时间比例为 $ \\hat p_n(x) $，则有\n",
    "\n",
    "$$\n",
    "\\hat p_n(x) := \\frac{1}{n} \\sum_{t = 1}^n \\mathbb{1}\\{X_t = x\\}\n",
    "    \\qquad (x \\in \\{0, 1, 2\\})\n",
    "$$\n",
    "\n",
    "马尔科夫链的[图](https://quantecon.github.io/lecture-intro.zh-cn/markov_chains_I.html#mc-eg2)表明它是不可约的，因此遍历性成立。\n",
    "\n",
    "因此，我们期望当 $ n $ 较大时，$ \\hat p_n(x) \\approx \\psi^*(x) $。\n",
    "\n",
    "下图显示了当 $ x=1 $ 并且 $ X_0 $ 分别为 $ 0, 1 $ 或 $ 2 $ 时，$ \\hat p_n(x) $ 向 $ \\psi^*(x) $ 的收敛情况。"
   ]
  },
  {
   "cell_type": "code",
   "execution_count": null,
   "id": "f8d5de0c",
   "metadata": {
    "hide-output": false
   },
   "outputs": [],
   "source": [
    "P = np.array([[0.971, 0.029, 0.000],\n",
    "              [0.145, 0.778, 0.077],\n",
    "              [0.000, 0.508, 0.492]])\n",
    "ts_length = 10_000\n",
    "mc = qe.MarkovChain(P)\n",
    "ψ_star = mc.stationary_distributions[0]\n",
    "x = 1  # 我们研究 psi^*(x) 的收敛情况\n",
    "\n",
    "fig, ax = plt.subplots()\n",
    "ax.axhline(ψ_star[x], linestyle='dashed', color='black', \n",
    "                label = fr'$\\psi^*({x})$')\n",
    "# 计算花费在状态0的时间比例，从不同的x_0开始\n",
    "for x0 in range(len(P)):\n",
    "    X = mc.simulate(ts_length, init=x0)\n",
    "    p_hat = (X == x).cumsum() / np.arange(1, ts_length+1)\n",
    "    ax.plot(p_hat, label=fr'$\\hat p_n({x})$ 当 $X_0 = \\, {x0}$')\n",
    "ax.set_xlabel('t')\n",
    "ax.set_ylabel(fr'$\\hat p_n({x})$')\n",
    "ax.legend()\n",
    "plt.show()"
   ]
  },
  {
   "cell_type": "markdown",
   "id": "c6f7614f",
   "metadata": {},
   "source": [
    "你可能想尝试将 $ x=1 $ 改为 $ x=0 $ 或 $ x=2 $。\n",
    "\n",
    "在这些情况下，遍历性都会成立。"
   ]
  },
  {
   "cell_type": "markdown",
   "id": "50edc63f",
   "metadata": {},
   "source": [
    "### 示例：一个周期链"
   ]
  },
  {
   "cell_type": "markdown",
   "id": "d0d5d4fe",
   "metadata": {},
   "source": [
    "### \n",
    "\n",
    "让我们来看以下状态0和1的例子：\n",
    "\n",
    "$$\n",
    "P :=\n",
    "\\begin{bmatrix} \n",
    "     0 & 1\\\\\n",
    "     1 & 0\\\\\n",
    "\\end{bmatrix}\n",
    "$$\n",
    "\n",
    "转移图表明该模型是不可约的。\n",
    "\n",
    "![https://quantecon.github.io/lecture-intro.zh-cn/_static/lecture_specific/markov_chains_II/example4.png](https://quantecon.github.io/lecture-intro.zh-cn/_static/lecture_specific/markov_chains_II/example4.png)\n",
    "\n",
    "请注意，这里有一个周期循环——当前状态以规则的方式在两个状态之间循环。\n",
    "\n",
    "毫不奇怪，这种属性被称为[周期性](https://stats.libretexts.org/Bookshelves/Probability_Theory/Probability_Mathematical_Statistics_and_Stochastic_Processes_%28Siegrist%29/16%3A_Markov_Processes/16.05%3A_Periodicity_of_Discrete-Time_Chains)。\n",
    "\n",
    "尽管如此，该模型是不可约的，因此遍历性成立。\n",
    "\n",
    "以下图表进行了说明："
   ]
  },
  {
   "cell_type": "code",
   "execution_count": null,
   "id": "101291da",
   "metadata": {
    "hide-output": false
   },
   "outputs": [],
   "source": [
    "P = np.array([[0, 1],\n",
    "              [1, 0]])\n",
    "ts_length = 100\n",
    "mc = qe.MarkovChain(P)\n",
    "n = len(P)\n",
    "fig, axes = plt.subplots(nrows=1, ncols=n)\n",
    "ψ_star = mc.stationary_distributions[0]\n",
    "\n",
    "for i in range(n):\n",
    "    axes[i].axhline(ψ_star[i], linestyle='dashed', lw=2, color='black', \n",
    "                    label = fr'$\\psi^*({i})$')\n",
    "    axes[i].set_xlabel('t')\n",
    "    axes[i].set_ylabel(fr'$\\hat p_n({i})$')\n",
    "\n",
    "    # 计算每个 x 花费的时间比例\n",
    "    for x0 in range(n):\n",
    "        # 从不同的 x_0 生成时间序列\n",
    "        X = mc.simulate(ts_length, init=x0)\n",
    "        p_hat = (X == i).cumsum() / np.arange(1, ts_length+1)\n",
    "        axes[i].plot(p_hat, label=fr'$x_0 = \\, {x0} $')\n",
    "\n",
    "    axes[i].legend()\n",
    "plt.tight_layout()\n",
    "plt.show()"
   ]
  },
  {
   "cell_type": "markdown",
   "id": "40f3ba4b",
   "metadata": {},
   "source": [
    "该示例帮助强调了渐近平稳性是关于分布的，而遍历性是关于样本路径的。\n",
    "\n",
    "在周期性链中，花费在某个状态的时间比例可以收敛到平稳分布。然而，每个状态的分布却不会收敛。"
   ]
  },
  {
   "cell_type": "markdown",
   "id": "c965f41f",
   "metadata": {},
   "source": [
    "### 示例：政治制度\n",
    "\n",
    "让我们回到[前一讲中讨论的](https://quantecon.github.io/lecture-intro.zh-cn/markov_chains_I.html#mc-eg3)具有六个状态的政治制度模型，并研究其遍历性。\n",
    "\n",
    "以下是转移矩阵：\n",
    "\n",
    "$$\n",
    "P :=\n",
    "    \\begin{bmatrix} \n",
    "        0.86 & 0.11 & 0.03 & 0.00 & 0.00 & 0.00 \\\\\n",
    "        0.52 & 0.33 & 0.13 & 0.02 & 0.00 & 0.00 \\\\\n",
    "        0.12 & 0.03 & 0.70 & 0.11 & 0.03 & 0.01 \\\\\n",
    "        0.13 & 0.02 & 0.35 & 0.36 & 0.10 & 0.04 \\\\\n",
    "        0.00 & 0.00 & 0.09 & 0.11 & 0.55 & 0.25 \\\\\n",
    "        0.00 & 0.00 & 0.09 & 0.15 & 0.26 & 0.50\n",
    "    \\end{bmatrix}\n",
    "$$\n",
    "\n",
    "链的[图](https://quantecon.github.io/lecture-intro.zh-cn/markov_chains_I.html#mc-eg3)显示所有状态都是可达的，表明该链是不可约的。\n",
    "\n",
    "在下图中，我们可视化了每个状态 $ x $ 的 $ \\hat p_n(x) - \\psi^* (x) $ 差异。\n",
    "\n",
    "与前一个图不同，$ X_0 $ 是固定的。"
   ]
  },
  {
   "cell_type": "code",
   "execution_count": null,
   "id": "f0e3cb3d",
   "metadata": {
    "hide-output": false
   },
   "outputs": [],
   "source": [
    "P = [[0.86, 0.11, 0.03, 0.00, 0.00, 0.00],\n",
    "     [0.52, 0.33, 0.13, 0.02, 0.00, 0.00],\n",
    "     [0.12, 0.03, 0.70, 0.11, 0.03, 0.01],\n",
    "     [0.13, 0.02, 0.35, 0.36, 0.10, 0.04],\n",
    "     [0.00, 0.00, 0.09, 0.11, 0.55, 0.25],\n",
    "     [0.00, 0.00, 0.09, 0.15, 0.26, 0.50]]\n",
    "\n",
    "ts_length = 2500\n",
    "mc = qe.MarkovChain(P)\n",
    "ψ_star = mc.stationary_distributions[0]\n",
    "fig, ax = plt.subplots()\n",
    "X = mc.simulate(ts_length, random_state=1)\n",
    "# 将图中心对准0\n",
    "ax.axhline(linestyle='dashed', lw=2, color='black')\n",
    "\n",
    "for x0 in range(len(P)):\n",
    "    # 计算每个状态的时间比例\n",
    "    p_hat = (X == x0).cumsum() / np.arange(1, ts_length+1)\n",
    "    ax.plot(p_hat - ψ_star[x0], label=f'$x = {x0+1} $')\n",
    "    ax.set_xlabel('t')\n",
    "    ax.set_ylabel(r'$\\hat p_n(x) - \\psi^* (x)$')\n",
    "\n",
    "ax.legend()\n",
    "plt.show()"
   ]
  },
  {
   "cell_type": "markdown",
   "id": "01ba11d8",
   "metadata": {},
   "source": [
    "## 练习"
   ]
  },
  {
   "cell_type": "markdown",
   "id": "2212ccb1",
   "metadata": {},
   "source": [
    "## Exercise 34.1\n",
    "\n",
    "Benhabib 等人 [[Benhabib *et al.*, 2019](https://quantecon.github.io/lecture-intro.zh-cn/zreferences.html#id278)] 估计了如下的社会流动性转移矩阵：\n",
    "\n",
    "$$\n",
    "P:=\n",
    "    \\begin{bmatrix} \n",
    "        0.222 & 0.222 & 0.215 & 0.187 & 0.081 & 0.038 & 0.029 & 0.006 \\\\\n",
    "        0.221 & 0.22 & 0.215 & 0.188 & 0.082 & 0.039 & 0.029 & 0.006 \\\\\n",
    "        0.207 & 0.209 & 0.21 & 0.194 & 0.09 & 0.046 & 0.036 & 0.008 \\\\ \n",
    "        0.198 & 0.201 & 0.207 & 0.198 & 0.095 & 0.052 & 0.04 & 0.009 \\\\ \n",
    "        0.175 & 0.178 & 0.197 & 0.207 & 0.11 & 0.067 & 0.054 & 0.012 \\\\ \n",
    "        0.182 & 0.184 & 0.2 & 0.205 & 0.106 & 0.062 & 0.05 & 0.011 \\\\ \n",
    "        0.123 & 0.125 & 0.166 & 0.216 & 0.141 & 0.114 & 0.094 & 0.021 \\\\ \n",
    "        0.084 & 0.084 & 0.142 & 0.228 & 0.17 & 0.143 & 0.121 & 0.028\n",
    "\\end{bmatrix}\n",
    "$$\n",
    "\n",
    "其中每个状态1到8对应于财富份额的百分位数：\n",
    "\n",
    "$$\n",
    "0-20 \\%, 20-40 \\%, 40-60 \\%, 60-80 \\%, 80-90 \\%, 90-95 \\%, 95-99 \\%, 99-100 \\%\n",
    "$$\n",
    "\n",
    "矩阵记录为 `P`，如下："
   ]
  },
  {
   "cell_type": "code",
   "execution_count": null,
   "id": "031403b4",
   "metadata": {
    "hide-output": false
   },
   "outputs": [],
   "source": [
    "P = [\n",
    "    [0.222, 0.222, 0.215, 0.187, 0.081, 0.038, 0.029, 0.006],\n",
    "    [0.221, 0.22,  0.215, 0.188, 0.082, 0.039, 0.029, 0.006],\n",
    "    [0.207, 0.209, 0.21,  0.194, 0.09,  0.046, 0.036, 0.008],\n",
    "    [0.198, 0.201, 0.207, 0.198, 0.095, 0.052, 0.04,  0.009],\n",
    "    [0.175, 0.178, 0.197, 0.207, 0.11,  0.067, 0.054, 0.012],\n",
    "    [0.182, 0.184, 0.2,   0.205, 0.106, 0.062, 0.05,  0.011],\n",
    "    [0.123, 0.125, 0.166, 0.216, 0.141, 0.114, 0.094, 0.021],\n",
    "    [0.084, 0.084, 0.142, 0.228, 0.17,  0.143, 0.121, 0.028]\n",
    "    ]\n",
    "\n",
    "P = np.array(P)\n",
    "codes_B = ('1','2','3','4','5','6','7','8')"
   ]
  },
  {
   "cell_type": "markdown",
   "id": "b7f1e0f7",
   "metadata": {},
   "source": [
    "1. 证明该过程是渐近平稳的，并计算平稳分布的近似值。  \n",
    "1. 使用模拟来说明遍历性。  "
   ]
  },
  {
   "cell_type": "markdown",
   "id": "dc1a3de2",
   "metadata": {},
   "source": [
    "## Solution to[ Exercise 34.1](https://quantecon.github.io/lecture-intro.zh-cn/#mc_ex1)\n",
    "\n",
    "第1部分：\n",
    "\n",
    "一种选择是对转移矩阵取幂。"
   ]
  },
  {
   "cell_type": "code",
   "execution_count": null,
   "id": "08eead28",
   "metadata": {
    "hide-output": false
   },
   "outputs": [],
   "source": [
    "P = [[0.222, 0.222, 0.215, 0.187, 0.081, 0.038, 0.029, 0.006],\n",
    "     [0.221, 0.22,  0.215, 0.188, 0.082, 0.039, 0.029, 0.006],\n",
    "     [0.207, 0.209, 0.21,  0.194, 0.09,  0.046, 0.036, 0.008],\n",
    "     [0.198, 0.201, 0.207, 0.198, 0.095, 0.052, 0.04,  0.009],\n",
    "     [0.175, 0.178, 0.197, 0.207, 0.11,  0.067, 0.054, 0.012],\n",
    "     [0.182, 0.184, 0.2,   0.205, 0.106, 0.062, 0.05,  0.011],\n",
    "     [0.123, 0.125, 0.166, 0.216, 0.141, 0.114, 0.094, 0.021],\n",
    "     [0.084, 0.084, 0.142, 0.228, 0.17,  0.143, 0.121, 0.028]]\n",
    "\n",
    "P = np.array(P)\n",
    "codes_B = ('1','2','3','4','5','6','7','8')\n",
    "\n",
    "np.linalg.matrix_power(P, 10)"
   ]
  },
  {
   "cell_type": "markdown",
   "id": "732c34e0",
   "metadata": {},
   "source": [
    "对于此模型，当 $ n \\to \\infty $ 时，$ P^n $ 的行收敛到平稳分布："
   ]
  },
  {
   "cell_type": "code",
   "execution_count": null,
   "id": "3eb17635",
   "metadata": {
    "hide-output": false
   },
   "outputs": [],
   "source": [
    "mc = qe.MarkovChain(P)\n",
    "ψ_star = mc.stationary_distributions[0]\n",
    "ψ_star"
   ]
  },
  {
   "cell_type": "markdown",
   "id": "a9573722",
   "metadata": {},
   "source": [
    "第2部分："
   ]
  },
  {
   "cell_type": "code",
   "execution_count": null,
   "id": "b0ded352",
   "metadata": {
    "hide-output": false
   },
   "outputs": [],
   "source": [
    "ts_length = 1000\n",
    "mc = qe.MarkovChain(P)\n",
    "fig, ax = plt.subplots()\n",
    "X = mc.simulate(ts_length, random_state=1)\n",
    "ax.axhline(linestyle='dashed', lw=2, color='black')\n",
    "\n",
    "for x0 in range(len(P)):\n",
    "    # 计算每个工人的时间比例\n",
    "    p_hat = (X == x0).cumsum() / np.arange(1, ts_length+1)\n",
    "    ax.plot(p_hat - ψ_star[x0], label=f'$x = {x0+1} $')\n",
    "    ax.set_xlabel('t')\n",
    "    ax.set_ylabel(r'$\\hat p_n(x) - \\psi^* (x)$')\n",
    "\n",
    "ax.legend()\n",
    "plt.show()"
   ]
  },
  {
   "cell_type": "markdown",
   "id": "1c1b5c10",
   "metadata": {},
   "source": [
    "注意，花费在每个状态的时间比例收敛到对应平稳分布下该状态的概率。"
   ]
  },
  {
   "cell_type": "markdown",
   "id": "c85e820a",
   "metadata": {},
   "source": [
    "## Exercise 34.2\n",
    "\n",
    "根据[上述讨论](#mc-eg1-2)，如果一个工人的就业动态遵循以下随机矩阵\n",
    "\n",
    "$$\n",
    "P := \n",
    "\\begin{bmatrix} \n",
    "1 - \\alpha & \\alpha \\\\\n",
    "\\beta & 1 - \\beta\n",
    "\\end{bmatrix}\n",
    "$$\n",
    "\n",
    "其中 $ \\alpha \\in (0,1) $ 且 $ \\beta \\in (0,1) $，那么，从长远来看，失业的时间比例将为\n",
    "\n",
    "$$\n",
    "p := \\frac{\\beta}{\\alpha + \\beta}\n",
    "$$\n",
    "\n",
    "换句话说，如果 $ \\{X_t\\} $ 表示就业状态的马尔科夫链，那么当 $ m \\to \\infty $， $ \\bar X_m \\to p $，其中\n",
    "\n",
    "$$\n",
    "\\bar X_m := \\frac{1}{m} \\sum_{t = 1}^m \\mathbb{1}\\{X_t = 0\\}\n",
    "$$\n",
    "\n",
    "本练习要求您通过计算 $ m $ 充分大时的 $ \\bar X_m $ 来说明收敛性，并检查其是否接近 $ p $。\n",
    "\n",
    "会看到无论初始条件或 $ \\alpha, \\beta $ 的值如何，只要它们都位于 $ (0,1) $ 区间内，此结论都成立。\n",
    "\n",
    "结果应与我们在[这里](#ergo)绘制的图类似。"
   ]
  },
  {
   "cell_type": "markdown",
   "id": "140466a7",
   "metadata": {},
   "source": [
    "## Solution to[ Exercise 34.2](https://quantecon.github.io/lecture-intro.zh-cn/#mc_ex2)\n",
    "\n",
    "我们将以图形方式解决此练习。\n",
    "\n",
    "图显示了对于两个初始条件 $ \\bar X_m - p $ 的时间序列。\n",
    "\n",
    "当 $ m $ 变大时，两个序列都收敛到零。"
   ]
  },
  {
   "cell_type": "code",
   "execution_count": null,
   "id": "105888f3",
   "metadata": {
    "hide-output": false
   },
   "outputs": [],
   "source": [
    "α = β = 0.1\n",
    "ts_length = 3000\n",
    "p = β / (α + β)\n",
    "\n",
    "P = ((1 - α,       α),               # 注意：P 和 p 是不同的\n",
    "     (    β,   1 - β))\n",
    "mc = qe.MarkovChain(P)\n",
    "\n",
    "fig, ax = plt.subplots()\n",
    "ax.axhline(linestyle='dashed', lw=2, color='black')\n",
    "\n",
    "for x0 in range(len(P)):\n",
    "    # 为每个从 x0 开始的工人生成时间序列\n",
    "    X = mc.simulate(ts_length, init=x0)\n",
    "    # 计算每个 n 的失业时间比例\n",
    "    X_bar = (X == 0).cumsum() / np.arange(1, ts_length+1)\n",
    "    # 绘图\n",
    "    ax.plot(X_bar - p, label=fr'$x_0 = \\, {x0} $')\n",
    "    ax.set_xlabel('t')\n",
    "    ax.set_ylabel(r'$\\bar X_m - \\psi^* (x)$')\n",
    "    \n",
    "ax.legend()\n",
    "plt.show()"
   ]
  },
  {
   "cell_type": "markdown",
   "id": "2747edde",
   "metadata": {},
   "source": [
    "## Exercise 34.3\n",
    "\n",
    "在 `quantecon` 库中，通过检查链是否形成[强连通分量](https://networkx.org/documentation/stable/reference/algorithms/generated/networkx.algorithms.components.is_strongly_connected.html)来测试不可约性。\n",
    "\n",
    "另一种测试不可约性的方法是通过以下定理：\n",
    "\n",
    "当且仅当 $ \\sum_{k=0}^{n-1}A^k $ 是严格正矩阵时，$ n \\times n $ 矩阵 $ A $ 是不可约的。\n",
    "\n",
    "（参见[[Zhao, 2012](https://quantecon.github.io/lecture-intro.zh-cn/zreferences.html#id277)] 和 [此 StackExchange 讨论](https://math.stackexchange.com/questions/3336616/how-to-prove-this-matrix-is-a-irreducible-matrix)）\n",
    "\n",
    "根据此定理，编写一个函数来测试不可约性。"
   ]
  },
  {
   "cell_type": "markdown",
   "id": "54340bda",
   "metadata": {},
   "source": [
    "## Solution to[ Exercise 34.3](https://quantecon.github.io/lecture-intro.zh-cn/#mc_ex3)"
   ]
  },
  {
   "cell_type": "code",
   "execution_count": null,
   "id": "e1bb531a",
   "metadata": {
    "hide-output": false
   },
   "outputs": [],
   "source": [
    "def is_irreducible(P):\n",
    "    n = len(P)\n",
    "    result = np.zeros((n, n))\n",
    "    for i in range(n):\n",
    "        result += np.linalg.matrix_power(P, i)\n",
    "    return np.all(result > 0)"
   ]
  },
  {
   "cell_type": "markdown",
   "id": "0fd9901e",
   "metadata": {},
   "source": [
    "让我们尝试一下。"
   ]
  },
  {
   "cell_type": "code",
   "execution_count": null,
   "id": "7e9c86e6",
   "metadata": {
    "hide-output": false
   },
   "outputs": [],
   "source": [
    "P1 = np.array([[0, 1],\n",
    "               [1, 0]])\n",
    "P2 = np.array([[1.0, 0.0, 0.0],\n",
    "               [0.1, 0.8, 0.1],\n",
    "               [0.0, 0.2, 0.8]])\n",
    "P3 = np.array([[0.971, 0.029, 0.000],\n",
    "               [0.145, 0.778, 0.077],\n",
    "               [0.000, 0.508, 0.492]])\n",
    "\n",
    "for P in (P1, P2, P3):\n",
    "    result = lambda P: '不可约' if is_irreducible(P) else '可约'\n",
    "    print(f'{P}: {result(P)}')"
   ]
  }
 ],
 "metadata": {
  "date": 1741731007.1030514,
  "filename": "markov_chains_II.md",
  "kernelspec": {
   "display_name": "Python",
   "language": "python3",
   "name": "python3"
  },
  "title": "马尔科夫链：不可约性与遍历性"
 },
 "nbformat": 4,
 "nbformat_minor": 5
}