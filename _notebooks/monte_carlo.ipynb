{
 "cells": [
  {
   "cell_type": "markdown",
   "id": "6781b1a7",
   "metadata": {},
   "source": [
    "# 蒙特卡罗方法与期权定价"
   ]
  },
  {
   "cell_type": "markdown",
   "id": "d65a17ab",
   "metadata": {},
   "source": [
    "## 概览\n",
    "\n",
    "通过以下方式，我们可以进行简单的概率计算：\n",
    "\n",
    "- 用笔和纸，  \n",
    "- 查询著名的概率分布，  \n",
    "- 逻辑推理。  \n",
    "\n",
    "\n",
    "例如，我们可以轻松地计算出：\n",
    "\n",
    "- 一枚普通的硬币，抛五次中出现三次正面的概率  \n",
    "- 一个随机变量的期望值，如果这一随机变量有 $ 1/2 $ 的概率等于 $ -10 $，有 $ 1/2 $ 的概率等于 $ 100 $。  \n",
    "\n",
    "\n",
    "但是，有些概率计算非常复杂。\n",
    "\n",
    "在经济和金融问题中，经常需要计算复杂的概率和期望值。\n",
    "\n",
    "处理复杂概率计算，最重要的工具之一是[蒙特卡罗方法](https://baike.baidu.com/item/%E8%92%99%E7%89%B9%E5%8D%A1%E7%BD%97%E6%B3%95/1225057)。\n",
    "\n",
    "在本节讲座中，我们将介绍如何使用蒙特卡罗方法计算期望值，以及其在金融中的应用。\n",
    "\n",
    "以下是必要的模块导入："
   ]
  },
  {
   "cell_type": "code",
   "execution_count": null,
   "id": "a74960bc",
   "metadata": {
    "hide-output": false
   },
   "outputs": [],
   "source": [
    "import numpy as np\n",
    "import matplotlib.pyplot as plt\n",
    "import matplotlib as mpl\n",
    "from numpy.random import randn\n",
    "\n",
    "FONTPATH = \"fonts/SourceHanSerifSC-SemiBold.otf\"\n",
    "mpl.font_manager.fontManager.addfont(FONTPATH)\n",
    "plt.rcParams['font.family'] = ['Source Han Serif SC']"
   ]
  },
  {
   "cell_type": "markdown",
   "id": "d56ec40a",
   "metadata": {},
   "source": [
    "## 蒙特卡罗简介\n",
    "\n",
    "在本小节中，我们将描述如何使用蒙特卡罗方法计算期望值。"
   ]
  },
  {
   "cell_type": "markdown",
   "id": "9c056c89",
   "metadata": {},
   "source": [
    "### 给定分布的股票价格\n",
    "\n",
    "假设我们正在考虑购买某公司的股票。\n",
    "\n",
    "我们的计划是：\n",
    "\n",
    "1. 现在买入股票，持有一年后再卖出，或者  \n",
    "1. 用我们的钱做其他事情。  \n",
    "\n",
    "\n",
    "首先，我们将一年后的股票价格视为一个随机变量 $ S $。\n",
    "\n",
    "在决定是否购买股票之前，我们需要知道 $ S $ 分布的一些特性。\n",
    "\n",
    "例如，假设 $ S $ 的均值相对于购买股票的价格很高。\n",
    "\n",
    "这表明我们很有机会以相对较高的价格卖出。\n",
    "\n",
    "但是，假设 $ S $ 的方差也很高。\n",
    "\n",
    "这表明购买股票有风险，我们或许应该放弃买入。\n",
    "\n",
    "不论何种方式，上述讨论说明理解 $ S $ 的分布的重要性。\n",
    "\n",
    "假设，在分析数据后，我们猜想 $ S $ 很好地由参数为 $ \\mu, \\sigma $ 的对数正态分布表示。\n",
    "\n",
    "- $ S $ 与 $ \\exp(\\mu + \\sigma Z) $ 分布相同，其中 $ Z $ 符合标准正态分布。  \n",
    "- 我们将此记作 $ S \\sim LN(\\mu, \\sigma) $。  \n",
    "\n",
    "\n",
    "所有关于统计的优质参考资料（如 [百度百科](https://baike.baidu.com/item/%E5%AF%B9%E6%95%B0%E6%AD%A3%E6%80%81%E5%88%86%E5%B8%83/8976782)）都会告诉我们，其均值和方差为\n",
    "\n",
    "$$\n",
    "\\mathbb E S\n",
    "        = \\exp \\left(\\mu + \\frac{\\sigma^2}{2} \\right)\n",
    "$$\n",
    "\n",
    "和\n",
    "\n",
    "$$\n",
    "\\mathop{\\mathrm{Var}} S\n",
    "    = [\\exp(\\sigma^2) - 1] \\exp(2\\mu + \\sigma^2)\n",
    "$$\n",
    "\n",
    "至此，我们还不需要使用计算机。"
   ]
  },
  {
   "cell_type": "markdown",
   "id": "886f0124",
   "metadata": {},
   "source": [
    "### 未知分布的股票价格\n",
    "\n",
    "假设我们希望更仔细地研究股票价格 $ S $ 的分布。\n",
    "\n",
    "我们假设股票价格取决于三个变量，$ X_1 $、$ X_2 $ 和 $ X_3 $（例如，销售额、通货膨胀和利率）。\n",
    "\n",
    "具体而言，我们的研究发现：\n",
    "\n",
    "$$\n",
    "S = (X_1 + X_2 + X_3)^p\n",
    "$$\n",
    "\n",
    "其中：\n",
    "\n",
    "- $ p $ 是一个已知的正数（即已被估计），  \n",
    "- $ X_i \\sim LN(\\mu_i, \\sigma_i) $，当 $ i=1,2,3 $时，  \n",
    "- $ \\mu_i, \\sigma_i $ 的值也是已知的，  \n",
    "- 随机变量 $ X_1 $、$ X_2 $ 和 $ X_3 $ 是相互独立的。  \n",
    "\n",
    "\n",
    "我们应该如何计算 $ S $ 的均值？\n",
    "\n",
    "仅仅依靠纸笔进行计算是十分困难的（除了$ p=1 $）。\n",
    "\n",
    "但幸运地，我们至少有一种简便的方法可以近似地做到。\n",
    "\n",
    "这就是蒙特卡洛方法，其操作步骤如下：\n",
    "\n",
    "1. 在计算机上生成 $ n $ 次独立抽取的 $ X_1 $、$ X_2 $ 和 $ X_3 $，  \n",
    "1. 使用这些抽取值生成 $ n $ 次独立抽取的 $ S $，  \n",
    "1. 取这些 $ S $ 的抽取值的平均值。  \n",
    "\n",
    "\n",
    "当 $ n $ 很大时，这个平均值将接近真实的平均值。\n",
    "\n",
    "这归因于大数定律，我们在 [大数定律与中心极限定理](https://quantecon.github.io/lecture-intro.zh-cn/lln_clt.html) 中讨论过。\n",
    "\n",
    "我们为 $ p $ 和每个 $ \\mu_i $ 和 $ \\sigma_i $使用以下赋值。"
   ]
  },
  {
   "cell_type": "code",
   "execution_count": null,
   "id": "cd918a80",
   "metadata": {
    "hide-output": false
   },
   "outputs": [],
   "source": [
    "n = 1_000_000\n",
    "p = 0.5\n",
    "μ_1, μ_2, μ_3 = 0.2, 0.8, 0.4\n",
    "σ_1, σ_2, σ_3 = 0.1, 0.05, 0.2"
   ]
  },
  {
   "cell_type": "markdown",
   "id": "136b401f",
   "metadata": {},
   "source": [
    "#### 使用Python循环的一种例程\n",
    "\n",
    "这里是一个使用Python原生循环，计算期望平均值的例程\n",
    "\n",
    "$$\n",
    "\\frac{1}{n} \\sum_{i=1}^n S_i\n",
    "    \\approx \\mathbb E S\n",
    "$$"
   ]
  },
  {
   "cell_type": "code",
   "execution_count": null,
   "id": "71c32ba9",
   "metadata": {
    "hide-output": false
   },
   "outputs": [],
   "source": [
    "%%time\n",
    "\n",
    "S = 0.0\n",
    "for i in range(n):\n",
    "    X_1 = np.exp(μ_1 + σ_1 * randn())\n",
    "    X_2 = np.exp(μ_2 + σ_2 * randn())\n",
    "    X_3 = np.exp(μ_3 + σ_3 * randn())\n",
    "    S += (X_1 + X_2 + X_3)**p\n",
    "S / n"
   ]
  },
  {
   "cell_type": "markdown",
   "id": "c035998c",
   "metadata": {},
   "source": [
    "我们还可以构建一个包含这些操作的函数："
   ]
  },
  {
   "cell_type": "code",
   "execution_count": null,
   "id": "7050dd16",
   "metadata": {
    "hide-output": false
   },
   "outputs": [],
   "source": [
    "def compute_mean(n=1_000_000):\n",
    "    S = 0.0\n",
    "    for i in range(n):\n",
    "        X_1 = np.exp(μ_1 + σ_1 * randn())\n",
    "        X_2 = np.exp(μ_2 + σ_2 * randn())\n",
    "        X_3 = np.exp(μ_3 + σ_3 * randn())\n",
    "        S += (X_1 + X_2 + X_3)**p\n",
    "    return (S / n)"
   ]
  },
  {
   "cell_type": "markdown",
   "id": "9dab0cf8",
   "metadata": {},
   "source": [
    "现在调用函数。"
   ]
  },
  {
   "cell_type": "code",
   "execution_count": null,
   "id": "59f88377",
   "metadata": {
    "hide-output": false
   },
   "outputs": [],
   "source": [
    "compute_mean()"
   ]
  },
  {
   "cell_type": "markdown",
   "id": "95015be7",
   "metadata": {},
   "source": [
    "### 一种向量化的例程\n",
    "\n",
    "如果我们想要更准确的估计，我们应该增加$ n $的大小。\n",
    "\n",
    "但是上面的代码运行速度相当慢。\n",
    "\n",
    "为了让它运行更快，我们使用 NumPy 来实现向量化例程。"
   ]
  },
  {
   "cell_type": "code",
   "execution_count": null,
   "id": "21d25bd8",
   "metadata": {
    "hide-output": false
   },
   "outputs": [],
   "source": [
    "def compute_mean_vectorized(n=1_000_000):\n",
    "    X_1 = np.exp(μ_1 + σ_1 * randn(n))\n",
    "    X_2 = np.exp(μ_2 + σ_2 * randn(n))\n",
    "    X_3 = np.exp(μ_3 + σ_3 * randn(n))\n",
    "    S = (X_1 + X_2 + X_3)**p\n",
    "    return S.mean()"
   ]
  },
  {
   "cell_type": "code",
   "execution_count": null,
   "id": "b88beb7f",
   "metadata": {
    "hide-output": false
   },
   "outputs": [],
   "source": [
    "%%time\n",
    "\n",
    "compute_mean_vectorized()"
   ]
  },
  {
   "cell_type": "markdown",
   "id": "4624208a",
   "metadata": {},
   "source": [
    "我们注意到这个例程运行起来快得多。\n",
    "\n",
    "我们可以通过增加 $ n $ 来提高精度，但仍保持合理的速度："
   ]
  },
  {
   "cell_type": "code",
   "execution_count": null,
   "id": "591eb202",
   "metadata": {
    "hide-output": false
   },
   "outputs": [],
   "source": [
    "%%time\n",
    "\n",
    "compute_mean_vectorized(n=10_000_000)"
   ]
  },
  {
   "cell_type": "markdown",
   "id": "99d172fe",
   "metadata": {},
   "source": [
    "## 利用风险中性定价欧式看涨期权\n",
    "\n",
    "接下来，我们将在风险中性的假设下对欧式看涨期权进行定价。\n",
    "\n",
    "首先我们将讨论风险中性，然后考虑欧式期权。"
   ]
  },
  {
   "cell_type": "markdown",
   "id": "df96548a",
   "metadata": {},
   "source": [
    "### 风险中性定价\n",
    "\n",
    "当我们使用风险中性定价时，我们根据给定资产的预期收益来决定其价格：\n",
    "\n",
    "$$\n",
    "\\text{成本} = \\text{预期收益}\n",
    "$$\n",
    "\n",
    "例如，假设有人承诺在抛硬币中支付你\n",
    "\n",
    "- 1,000,000 美元，如果结果为正面  \n",
    "- 0 美元，如果结果为反面  \n",
    "\n",
    "\n",
    "我们将受益记作 $ G $, 则\n",
    "\n",
    "$$\n",
    "\\mathbb P\\left\\{G = 10^6 \\right\\} = \\mathbb P\\{G = 0\\} = \\frac{1}{2}\n",
    "$$\n",
    "\n",
    "假设除此之外，你可以将这一承诺卖给任何需要它的人。\n",
    "\n",
    "- 首先他们要支付给你 $ P $，即你的销售价格  \n",
    "- 然后他们获得 $ G $，可能是1,000,000 或者0。  \n",
    "\n",
    "\n",
    "那这一资产（这个承诺）的价格定为多少，是公平的？\n",
    "\n",
    "“公平”的定义是模糊的，但我们可以说它的\n",
    "**风险中性价格**是50万美元。\n",
    "\n",
    "这是因为风险中性价格仅仅是资产的预期收益，即\n",
    "\n",
    "$$\n",
    "\\mathbb E G = \\frac{1}{2} \\times 10^6 + \\frac{1}{2} \\times 0 = 5 \\times 10^5\n",
    "$$"
   ]
  },
  {
   "cell_type": "markdown",
   "id": "292e3315",
   "metadata": {},
   "source": [
    "### 关于风险的提示\n",
    "\n",
    "如名称所示，风险中性定价不考虑风险。\n",
    "\n",
    "要理解这一点，思考你是否愿意为这样一个承诺支付500,000美元。\n",
    "\n",
    "你是更愿意收到确定的500,000美元，还是有50%的概率收到1,000,000美元，而另外50%的概率空手而归？\n",
    "\n",
    "至少一些读者会偏好第一种选择——尽管有些人可能更喜欢第二种。\n",
    "\n",
    "这让我们意识到500,000美元并不一定是“正确”的价格——或者，如果市场上有这样的承诺，我们会见到的价格。\n",
    "\n",
    "尽管如此，风险中性价格是一个重要的基准，经济学家和金融市场参与者每天都在试图计算它。"
   ]
  },
  {
   "cell_type": "markdown",
   "id": "cbda4491",
   "metadata": {},
   "source": [
    "### 贴现\n",
    "\n",
    "在之前的讨论中，我们还忽略了时间因素。\n",
    "\n",
    "一般来说，现在收到$ x $美元比在$ n $个周期后（例如10年）收到$ x $美元更好。\n",
    "\n",
    "毕竟，如果我们现在就收到$ x $美元，我们可以将其存入银行中，按照利率$ r > 0 $计算，在$ n $个周期后会收到$ (1 + r)^n x $。\n",
    "\n",
    "因此，我们在考虑现值时需要对未来的现金流进行贴现。\n",
    "\n",
    "这可以通过以下方式实现：\n",
    "\n",
    "- 将未来一期的付款乘以$ \\beta < 1 $  \n",
    "- 将未来$ n $期的付款乘以$ \\beta^n $，以此类推。  \n",
    "\n",
    "\n",
    "对于刚才描述的“承诺”，我们的风险中性价格也同样需要进行调整。\n",
    "\n",
    "因此，如果$ G $在$ n $个周期后实现，那么风险中性价格为：\n",
    "\n",
    "$$\n",
    "P = \\beta^n \\mathbb E G\n",
    "      = \\beta^n 5 \\times 10^5\n",
    "$$"
   ]
  },
  {
   "cell_type": "markdown",
   "id": "2179d904",
   "metadata": {},
   "source": [
    "### 欧式看涨期权\n",
    "\n",
    "现在，我们来计算欧式看涨期权的价格。\n",
    "\n",
    "期权有三个要素：\n",
    "\n",
    "1. $ n $, **到期日**，  \n",
    "1. $ K $, **行权价格**，  \n",
    "1. $ S_n $, 在日期 $ n $ 的**标的资产**价格。  \n",
    "\n",
    "\n",
    "例如，假设标的资产是亚马逊的一股股票。\n",
    "\n",
    "那么该期权的持有者，有权在 $ n $ 天后以 $ K $ 价格买入亚马逊的一股股票。\n",
    "\n",
    "如果 $ S_n > K $，那么持有者将会行使期权，以 $ K $ 的价格买入，再以 $ S_n $ 的价格卖出，从而获得 $ S_n - K $ 的利润。\n",
    "\n",
    "如果 $ S_n \\leq K $，那么持有者将不会行使期权，收益为零。\n",
    "\n",
    "因此，收益为 $ \\max\\{ S_n - K, 0 \\} $。\n",
    "\n",
    "在风险中性假设下，期权的价格是折现后的期望收益：\n",
    "\n",
    "$$\n",
    "P = \\beta^n \\mathbb E \\max\\{ S_n - K, 0 \\}\n",
    "$$\n",
    "\n",
    "我们要假定 $ S_n $ 的分布，从而计算期望。\n",
    "\n",
    "假设 $ S_n \\sim LN(\\mu, \\sigma) $ ，且 $ \\mu $ 和 $ \\sigma $ 是已知的。\n",
    "\n",
    "如果 $ S_n^1, \\ldots, S_n^M $ 是从这个对数正态分布中独立抽取的，则根据大数定律，\n",
    "\n",
    "$$\n",
    "\\mathbb E \\max\\{ S_n - K, 0 \\}\n",
    "    \\approx\n",
    "    \\frac{1}{M} \\sum_{m=1}^M \\max \\{S_n^m - K, 0 \\}\n",
    "$$\n",
    "\n",
    "假设"
   ]
  },
  {
   "cell_type": "code",
   "execution_count": null,
   "id": "ff037feb",
   "metadata": {
    "hide-output": false
   },
   "outputs": [],
   "source": [
    "μ = 1.0\n",
    "σ = 0.1\n",
    "K = 1\n",
    "n = 10\n",
    "β = 0.95"
   ]
  },
  {
   "cell_type": "markdown",
   "id": "885b0158",
   "metadata": {},
   "source": [
    "设置模拟次数为"
   ]
  },
  {
   "cell_type": "code",
   "execution_count": null,
   "id": "dca995b8",
   "metadata": {
    "hide-output": false
   },
   "outputs": [],
   "source": [
    "M = 10_000_000"
   ]
  },
  {
   "cell_type": "markdown",
   "id": "83c591e8",
   "metadata": {},
   "source": [
    "以下是计算该期权价格的代码"
   ]
  },
  {
   "cell_type": "code",
   "execution_count": null,
   "id": "2a03b5d5",
   "metadata": {
    "hide-output": false
   },
   "outputs": [],
   "source": [
    "S = np.exp(μ + σ * np.random.randn(M))\n",
    "return_draws = np.maximum(S - K, 0)\n",
    "P = β**n * np.mean(return_draws)\n",
    "print(f\"蒙特卡洛期权价格约为 {P:3f}\")"
   ]
  },
  {
   "cell_type": "markdown",
   "id": "3ed579c6",
   "metadata": {},
   "source": [
    "## 通过动态模型定价\n",
    "\n",
    "在这个练习中，我们将研究一个更符合实际的模型，来描述股票价格 $ S_n $。\n",
    "\n",
    "这需要假定股票价格的底层动态。\n",
    "\n",
    "首先我们假定动态变化机制。\n",
    "\n",
    "然后我们将使用蒙特卡洛方法计算期权的价格。"
   ]
  },
  {
   "cell_type": "markdown",
   "id": "4b158abb",
   "metadata": {},
   "source": [
    "### 简单动态\n",
    "\n",
    "对于 $ \\{S_t\\} $ ，一个简单的模型是\n",
    "\n",
    "$$\n",
    "\\ln \\frac{S_{t+1}}{S_t} = \\mu + \\sigma \\xi_{t+1}\n",
    "$$\n",
    "\n",
    "其中\n",
    "\n",
    "- $ S_0 $ 是对数正态分布的，  \n",
    "- $ \\{ \\xi_t \\} $ 是独立同分布的标准正态分布。  \n",
    "\n",
    "\n",
    "在上述假设下，$ S_n $ 是对数正态分布的。\n",
    "\n",
    "这是因为，不妨使得 $ s_t := \\ln S_t $，注意到价格动态可以写成\n",
    "\n",
    "\n",
    "<a id='equation-s-mc-dyms'></a>\n",
    "$$\n",
    "s_{t+1} = s_t + \\mu + \\sigma \\xi_{t+1} \\tag{20.1}\n",
    "$$\n",
    "\n",
    "由于 $ s_0 $ 是正态分布的且 $ \\xi_1 $ 是独立同分布的正态分布，所以 $ s_1 $ 是\n",
    "正态分布的。\n",
    "\n",
    "通过迭代可以发现 $ s_n $ 是符合正态分布的。\n",
    "\n",
    "因此 $ S_n = \\exp(s_n) $ 是符合对数正态分布的。"
   ]
  },
  {
   "cell_type": "markdown",
   "id": "53b64d00",
   "metadata": {},
   "source": [
    "### 简单动态问题\n",
    "\n",
    "上述的简单动态模型可以轻松地计算出$ S_n $的分布。\n",
    "\n",
    "然而，它的预测是反事实的，因为在现实世界中，波动率（由$ \\sigma $测量）并不是平稳的。\n",
    "\n",
    "相反地，它随时间变化而变化，时而高（如在全球金融危机期间），时而低。\n",
    "\n",
    "因此，这意味着$ \\sigma $不应该是常数。"
   ]
  },
  {
   "cell_type": "markdown",
   "id": "5c4ba40c",
   "metadata": {},
   "source": [
    "### 更加贴合实际的动态模型\n",
    "\n",
    "这促使我们去研究改好的版本：\n",
    "\n",
    "$$\n",
    "\\ln \\frac{S_{t+1}}{S_t} = \\mu + \\sigma_t \\xi_{t+1}\n",
    "$$\n",
    "\n",
    "其中\n",
    "\n",
    "$$\n",
    "\\sigma_t = \\exp(h_t),\n",
    "    \\quad\n",
    "        h_{t+1} = \\rho h_t + \\nu \\eta_{t+1}\n",
    "$$\n",
    "\n",
    "这里的$ \\{\\eta_t\\} $也是独立同分布且标准正态的。"
   ]
  },
  {
   "cell_type": "markdown",
   "id": "879a1fd6",
   "metadata": {},
   "source": [
    "### 默认参数\n",
    "\n",
    "对于动态模型，我们采用以下参数值。"
   ]
  },
  {
   "cell_type": "code",
   "execution_count": null,
   "id": "7fdff44f",
   "metadata": {
    "hide-output": false
   },
   "outputs": [],
   "source": [
    "default_μ  = 0.0001\n",
    "default_ρ  = 0.1\n",
    "default_ν  = 0.001\n",
    "default_S0 = 10\n",
    "default_h0 = 0"
   ]
  },
  {
   "cell_type": "markdown",
   "id": "fe84b344",
   "metadata": {},
   "source": [
    "（这里`default_S0` 是 $ S_0 $ ，`default_h0` 是 $ h_0 $。）\n",
    "\n",
    "对于期权，我们使用以下作为默认值。"
   ]
  },
  {
   "cell_type": "code",
   "execution_count": null,
   "id": "78a7d942",
   "metadata": {
    "hide-output": false
   },
   "outputs": [],
   "source": [
    "default_K = 100\n",
    "default_n = 10\n",
    "default_β = 0.95"
   ]
  },
  {
   "cell_type": "markdown",
   "id": "0023c6a9",
   "metadata": {},
   "source": [
    "### 可视化\n",
    "\n",
    "令 $ s_t := \\ln S_t $，价格动态可写为\n",
    "\n",
    "$$\n",
    "s_{t+1} = s_t + \\mu + \\exp(h_t) \\xi_{t+1}\n",
    "$$\n",
    "\n",
    "以下是使用这个方程模拟路径的函数："
   ]
  },
  {
   "cell_type": "code",
   "execution_count": null,
   "id": "04117e3f",
   "metadata": {
    "hide-output": false
   },
   "outputs": [],
   "source": [
    "def simulate_asset_price_path(μ=default_μ, S0=default_S0, h0=default_h0, n=default_n, ρ=default_ρ, ν=default_ν):\n",
    "    s = np.empty(n+1)\n",
    "    s[0] = np.log(S0)\n",
    "\n",
    "    h = h0\n",
    "    for t in range(n):\n",
    "        s[t+1] = s[t] + μ + np.exp(h) * randn()\n",
    "        h = ρ * h + ν * randn()\n",
    "\n",
    "    return np.exp(s)"
   ]
  },
  {
   "cell_type": "markdown",
   "id": "82c003fb",
   "metadata": {},
   "source": [
    "这里我们绘制路径及其对数。"
   ]
  },
  {
   "cell_type": "code",
   "execution_count": null,
   "id": "dcffbdab",
   "metadata": {
    "hide-output": false
   },
   "outputs": [],
   "source": [
    "fig, axes = plt.subplots(2, 1)\n",
    "\n",
    "titles = '对数路径', '路径'\n",
    "transforms = np.log, lambda x: x\n",
    "for ax, transform, title in zip(axes, transforms, titles):\n",
    "    for i in range(50):\n",
    "        path = simulate_asset_price_path()\n",
    "        ax.plot(transform(path))\n",
    "    ax.set_title(title)\n",
    "\n",
    "fig.tight_layout()\n",
    "plt.show()"
   ]
  },
  {
   "cell_type": "markdown",
   "id": "f4fcbdf1",
   "metadata": {},
   "source": [
    "### 计算价格\n",
    "\n",
    "因为我们的模型更加复杂，我们难以轻易确定 $ S_n $ 的分布。\n",
    "\n",
    "所以为了计算期权的价格 $ P $，我们使用蒙特卡洛方法。\n",
    "\n",
    "我们计算每一次抽样 $ S_n^1, \\ldots, S_n^M $ 的平均值 $ S_n $，并诉诸大数法则：\n",
    "\n",
    "$$\n",
    "\\mathbb E \\max\\{ S_n - K, 0 \\}\n",
    "    \\approx\n",
    "    \\frac{1}{M} \\sum_{m=1}^M \\max \\{S_n^m - K, 0 \\}\n",
    "$$\n",
    "\n",
    "以下版本借助了Python 循环。"
   ]
  },
  {
   "cell_type": "code",
   "execution_count": null,
   "id": "9edac9fe",
   "metadata": {
    "hide-output": false
   },
   "outputs": [],
   "source": [
    "def compute_call_price(β=default_β,\n",
    "                       μ=default_μ,\n",
    "                       S0=default_S0,\n",
    "                       h0=default_h0,\n",
    "                       K=default_K,\n",
    "                       n=default_n,\n",
    "                       ρ=default_ρ,\n",
    "                       ν=default_ν,\n",
    "                       M=10_000):\n",
    "    current_sum = 0.0\n",
    "    # 对每一个样本路径\n",
    "    for m in range(M):\n",
    "        s = np.log(S0)\n",
    "        h = h0\n",
    "        # 模拟时间前进\n",
    "        for t in range(n):\n",
    "            s = s + μ + np.exp(h) * randn()\n",
    "            h = ρ * h + ν * randn()\n",
    "        # 并将值 max{S_n - K, 0} 加到 current_sum\n",
    "        current_sum += np.maximum(np.exp(s) - K, 0)\n",
    "\n",
    "    return β**n * current_sum / M"
   ]
  },
  {
   "cell_type": "code",
   "execution_count": null,
   "id": "5a337a1a",
   "metadata": {
    "hide-output": false
   },
   "outputs": [],
   "source": [
    "%%time\n",
    "compute_call_price()"
   ]
  },
  {
   "cell_type": "markdown",
   "id": "b4edb402",
   "metadata": {},
   "source": [
    "## 练习"
   ]
  },
  {
   "cell_type": "markdown",
   "id": "6486621f",
   "metadata": {},
   "source": [
    "## Exercise 20.1\n",
    "\n",
    "我们想要在上面的代码中增加 $ M $，使得计算更加精确。\n",
    "\n",
    "但是这存在问题，因为这让Python循环运行速度十分缓慢。\n",
    "\n",
    "你的任务是使用NumPy编写一个更快的版本。"
   ]
  },
  {
   "cell_type": "markdown",
   "id": "d647211e",
   "metadata": {},
   "source": [
    "## Solution to[ Exercise 20.1](https://quantecon.github.io/lecture-intro.zh-cn/#monte_carlo_ex1)"
   ]
  },
  {
   "cell_type": "code",
   "execution_count": null,
   "id": "af2b7e04",
   "metadata": {
    "hide-output": false
   },
   "outputs": [],
   "source": [
    "def compute_call_price_vector(β=default_β,\n",
    "                       μ=default_μ,\n",
    "                       S0=default_S0,\n",
    "                       h0=default_h0,\n",
    "                       K=default_K,\n",
    "                       n=default_n,\n",
    "                       ρ=default_ρ,\n",
    "                       ν=default_ν,\n",
    "                       M=10_000):\n",
    "\n",
    "    s = np.full(M, np.log(S0))\n",
    "    h = np.full(M, h0)\n",
    "    for t in range(n):\n",
    "        Z = np.random.randn(2, M)\n",
    "        s = s + μ + np.exp(h) * Z[0, :]\n",
    "        h = ρ * h + ν * Z[1, :]\n",
    "    expectation = np.mean(np.maximum(np.exp(s) - K, 0))\n",
    "\n",
    "    return β**n * expectation"
   ]
  },
  {
   "cell_type": "code",
   "execution_count": null,
   "id": "39d6399f",
   "metadata": {
    "hide-output": false
   },
   "outputs": [],
   "source": [
    "%%time\n",
    "compute_call_price_vector()"
   ]
  },
  {
   "cell_type": "markdown",
   "id": "9f26bf3e",
   "metadata": {},
   "source": [
    "注意到，这个版本的速度比使用Python循环的版本要快。\n",
    "\n",
    "现在让我们尝试更大的$ M $以获得更准确的计算。"
   ]
  },
  {
   "cell_type": "code",
   "execution_count": null,
   "id": "4e3e201e",
   "metadata": {
    "hide-output": false
   },
   "outputs": [],
   "source": [
    "%%time\n",
    "compute_call_price(M=10_000_000)"
   ]
  },
  {
   "cell_type": "markdown",
   "id": "36a1980a",
   "metadata": {},
   "source": [
    "## Exercise 20.2\n",
    "\n",
    "设想一种欧式看涨期权，该期权的标的资产现货价格为100美元，有一个120美元的敲出障碍。\n",
    "\n",
    "这种期权在各方面都类似于普通的欧式看涨期权，但是，一旦标的资产现货价格超过120美元，期权便会被”敲出”，合约即刻失效。\n",
    "\n",
    "注意，如果现货价格再次跌破120美元，期权不会重新激活。\n",
    "\n",
    "使用在[(20.1)](#equation-s-mc-dyms)问题中定义的动态，定价这个欧式看涨期权。"
   ]
  },
  {
   "cell_type": "markdown",
   "id": "34d11d70",
   "metadata": {},
   "source": [
    "## Solution to[ Exercise 20.2](https://quantecon.github.io/lecture-intro.zh-cn/#monte_carlo_ex2)"
   ]
  },
  {
   "cell_type": "code",
   "execution_count": null,
   "id": "fbe1279c",
   "metadata": {
    "hide-output": false
   },
   "outputs": [],
   "source": [
    "default_μ  = 0.0001\n",
    "default_ρ  = 0.1\n",
    "default_ν  = 0.001\n",
    "default_S0 = 10\n",
    "default_h0 = 0\n",
    "default_K = 100\n",
    "default_n = 10\n",
    "default_β = 0.95\n",
    "default_bp = 120"
   ]
  },
  {
   "cell_type": "code",
   "execution_count": null,
   "id": "46f38dce",
   "metadata": {
    "hide-output": false
   },
   "outputs": [],
   "source": [
    "def compute_call_price_with_barrier(β=default_β,\n",
    "                                    μ=default_μ,\n",
    "                                    S0=default_S0,\n",
    "                                    h0=default_h0,\n",
    "                                    K=default_K,\n",
    "                                    n=default_n,\n",
    "                                    ρ=default_ρ,\n",
    "                                    ν=default_ν,\n",
    "                                    bp=default_bp,\n",
    "                                    M=50_000):\n",
    "    current_sum = 0.0\n",
    "    # 对每个样本路径进行模拟\n",
    "    for m in range(M):\n",
    "        s = np.log(S0)\n",
    "        h = h0\n",
    "        payoff = 0\n",
    "        option_is_null = False\n",
    "        # 模拟时间发展\n",
    "        for t in range(n):\n",
    "            s = s + μ + np.exp(h) * randn()\n",
    "            h = ρ * h + ν * randn()\n",
    "            if np.exp(s) > bp:\n",
    "                payoff = 0\n",
    "                option_is_null = True\n",
    "                break\n",
    "\n",
    "        if not option_is_null:\n",
    "            payoff = np.maximum(np.exp(s) - K, 0)\n",
    "        # 将payoff加入到current_sum中\n",
    "        current_sum += payoff\n",
    "\n",
    "    return β**n * current_sum / M"
   ]
  },
  {
   "cell_type": "code",
   "execution_count": null,
   "id": "0bd33d36",
   "metadata": {
    "hide-output": false
   },
   "outputs": [],
   "source": [
    "%time compute_call_price_with_barrier()"
   ]
  },
  {
   "cell_type": "markdown",
   "id": "a8dfdee9",
   "metadata": {},
   "source": [
    "再看向量化版本，这比使用Python循环快。"
   ]
  },
  {
   "cell_type": "code",
   "execution_count": null,
   "id": "249b8f9f",
   "metadata": {
    "hide-output": false
   },
   "outputs": [],
   "source": [
    "def compute_call_price_with_barrier_vector(β=default_β,\n",
    "                                           μ=default_μ,\n",
    "                                           S0=default_S0,\n",
    "                                           h0=default_h0,\n",
    "                                           K=default_K,\n",
    "                                           n=default_n,\n",
    "                                           ρ=default_ρ,\n",
    "                                           ν=default_ν,\n",
    "                                           bp=default_bp,\n",
    "                                           M=50_000):\n",
    "    s = np.full(M, np.log(S0))\n",
    "    h = np.full(M, h0)\n",
    "    option_is_null = np.full(M, False)\n",
    "    for t in range(n):\n",
    "        Z = np.random.randn(2, M)\n",
    "        s = s + μ + np.exp(h) * Z[0, :]\n",
    "        h = ρ * h + ν * Z[1, :]\n",
    "        # 标记所有股价高于敲出障碍价格的期权为无效\n",
    "        option_is_null = np.where(np.exp(s) > bp, True, option_is_null)\n",
    "\n",
    "    # 在option_is_null的索引处将payoff标记为0\n",
    "    payoff = np.where(option_is_null, 0, np.maximum(np.exp(s) - K, 0))\n",
    "    expectation = np.mean(payoff)\n",
    "    return β**n * expectation"
   ]
  },
  {
   "cell_type": "code",
   "execution_count": null,
   "id": "e5f0ba6e",
   "metadata": {
    "hide-output": false
   },
   "outputs": [],
   "source": [
    "%time compute_call_price_with_barrier_vector()"
   ]
  }
 ],
 "metadata": {
  "date": 1743998657.9121823,
  "filename": "monte_carlo.md",
  "kernelspec": {
   "display_name": "Python",
   "language": "python3",
   "name": "python3"
  },
  "title": "蒙特卡罗方法与期权定价"
 },
 "nbformat": 4,
 "nbformat_minor": 5
}