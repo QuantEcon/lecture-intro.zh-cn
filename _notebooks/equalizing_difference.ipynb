{
 "cells": [
  {
   "cell_type": "markdown",
   "id": "545c520f",
   "metadata": {},
   "source": [
    "# 均衡差异模型"
   ]
  },
  {
   "cell_type": "markdown",
   "id": "564c5691",
   "metadata": {},
   "source": [
    "## 概述\n",
    "\n",
    "本讲座介绍了一个研究大学与高中毕业生工资差距的模型，其中获得大学学历所需的时间是关键因素。\n",
    "\n",
    "这个模型最初由米尔顿·弗里德曼创建，用于研究美国牙医和医生的收入差异——他想弄清这种差异是竞争性劳动力市场的自然结果，还是源于政府与医疗专业组织设置的准入门槛。\n",
    "\n",
    "詹妮弗·伯恩斯在其著作[[Burns, 2023](https://quantecon.github.io/lecture-intro.zh-cn/zreferences.html#id8)]第4章中，详细描述了米尔顿·弗里德曼与西蒙·库兹涅茨的合作研究，这项研究最终促成了[[Kuznets and Friedman, 1939](https://quantecon.github.io/lecture-intro.zh-cn/zreferences.html#id9)]和[[Friedman and Kuznets, 1945](https://quantecon.github.io/lecture-intro.zh-cn/zreferences.html#id10)]的发表。\n",
    "\n",
    "我们可以将弗里德曼的模型对应到我们的研究中：把高中毕业生对应于牙医，把大学毕业生对应于医生。\n",
    "\n",
    "我们提供的是一个简化模型，仅包含一个方程。在更完整的模型中，这个方程将是多个均衡条件之一。\n",
    "\n",
    "这个”均衡差异”方程确定了使高中和大学毕业生终身收入现值相等的工资比率。\n",
    "\n",
    "其基本思想是：工资水平会自动调整，直到高中应届毕业生在”直接工作”和”继续上大学”这两个选择之间无差别。\n",
    "\n",
    "（在更完整的模型中，其他方程会解释是什么因素推动了这种调整。）\n",
    "\n",
    "我们的模型是相对工资”均衡差异”理论的一个具体应用。这类理论可以追溯到亚当·斯密的《国富论》[[Smith, 2010](https://quantecon.github.io/lecture-intro.zh-cn/zreferences.html#id11)]。\n",
    "\n",
    "本讲座主要使用线性代数知识，特别是矩阵乘法和矩阵求逆。\n",
    "\n",
    "在讲座末尾，我们会引入一些微积分内容，展示如何用偏导数更简洁地表达某些结论。\n",
    "\n",
    "这也让我们有机会展示Python在处理微积分计算时的强大功能！\n",
    "\n",
    "不过即使不懂微积分，掌握线性代数知识也足以理解核心内容。\n",
    "\n",
    "首先，让我们导入所需的Python模块。"
   ]
  },
  {
   "cell_type": "code",
   "execution_count": null,
   "id": "fbe47ad1",
   "metadata": {
    "hide-output": false
   },
   "outputs": [],
   "source": [
    "import numpy as np\n",
    "import matplotlib.pyplot as plt\n",
    "import matplotlib as mpl\n",
    "FONTPATH = \"fonts/SourceHanSerifSC-SemiBold.otf\"\n",
    "mpl.font_manager.fontManager.addfont(FONTPATH)\n",
    "plt.rcParams['font.family'] = ['Source Han Serif SC']"
   ]
  },
  {
   "cell_type": "markdown",
   "id": "36571e68",
   "metadata": {},
   "source": [
    "## 无差异条件\n",
    "\n",
    "这个模型的关键在于：大学教育带来的额外工资收益会达到一个均衡点，在这个点上，普通工人选择上大学或直接工作的预期收益是相等的。\n",
    "\n",
    "设：\n",
    "\n",
    "- $ R > 1 $ 为一期债券的总回报率  \n",
    "- $ t = 0, 1, 2, \\ldots T $ 表示一个人工作或上大学的年数  \n",
    "- $ 0 $ 表示一个人如果不上大学高中毕业后可以工作的第一个时期  \n",
    "- $ T $ 表示一个人工作的最后一个时期  \n",
    "- $ w_t^h $ 为高中毕业生在 $ t $ 时的工资  \n",
    "- $ w_t^c $ 为大学毕业生在 $ t $ 时的工资  \n",
    "- $ \\gamma_h > 1 $ 为高中毕业生工资的（总）增长率，使得\n",
    "  $ w_t^h = w_0^h \\gamma_h^t $  \n",
    "- $ \\gamma_c > 1 $ 为大学毕业生工资的（总）增长率，使得\n",
    "  $ w_t^c = w_0^c \\gamma_c^t $  \n",
    "- $ D $ 为上大学所需的成本  \n",
    "\n",
    "\n",
    "现在我们考虑一个新的高中毕业生所面临的两个选择：\n",
    "\n",
    "- 立即工作并赚取高中毕业生的工资  \n",
    "- 上大学四年，毕业后赚取大学毕业生的工资  \n",
    "\n",
    "\n",
    "并计算这位毕业生所能获得的现值"
   ]
  },
  {
   "cell_type": "markdown",
   "id": "db103a08",
   "metadata": {},
   "source": [
    "### 不上大学直接工作的现值\n",
    "\n",
    "如果某人高中毕业后立即工作，并在 $ t=0, 1, 2, \\ldots, T $ 的 $ T+1 $ 年内工作，她赚取的现值为：\n",
    "\n",
    "$$\n",
    "h_0 = \\sum_{t=0}^T R^{-t} w_t^h = w_0^h \\left[ \\frac{1 - (R^{-1} \\gamma_h)^{T+1} }{1 - R^{-1} \\gamma_h } \\right] \\equiv w_0^h A_h\n",
    "$$\n",
    "\n",
    "其中\n",
    "\n",
    "$$\n",
    "A_h = \\left[ \\frac{1 - (R^{-1} \\gamma_h)^{T+1} }{1 - R^{-1} \\gamma_h } \\right].\n",
    "$$\n",
    "\n",
    "现值 $ h_0 $ 是选择不上大学而是立即以高中毕业生的工资开始工作的人在时间 $ 0 $ 开始时的”人力财富”。"
   ]
  },
  {
   "cell_type": "markdown",
   "id": "144cbc97",
   "metadata": {},
   "source": [
    "### 上大学后工作的现值\n",
    "\n",
    "如果某人在 $ t=0, 1, 2, 3 $ 的四年内上大学，期间收入为 $ 0 $，但在大学毕业后立即工作，并在 $ t=4, 5, \\ldots ,T $ 的 $ T-3 $ 年内工作，她赚取的现值为：\n",
    "\n",
    "$$\n",
    "c_0 = \\sum_{t=4}^T R^{-t} w_t^c = w_0^c (R^{-1} \\gamma_c)^4  \\left[ \\frac{1 - (R^{-1} \\gamma_c)^{T-3} }{1 - R^{-1} \\gamma_c } \\right] \\equiv w_0^c A_c\n",
    "$$\n",
    "\n",
    "其中\n",
    "\n",
    "$$\n",
    "A_c = (R^{-1} \\gamma_c)^4  \\left[ \\frac{1 - (R^{-1} \\gamma_c)^{T-3} }{1 - R^{-1} \\gamma_c } \\right] .\n",
    "$$\n",
    "\n",
    "现值 $ c_0 $ 是选择上大学四年然后在 $ t=4 $ 时以大学毕业生的工资开始工作的人在时间 $ 0 $ 开始时的”人力财富”。\n",
    "\n",
    "假设大学学费加上四年的食宿费用总计为 $ D $，必须在时间 $ 0 $ 付清。\n",
    "\n",
    "因此，扣除上大学的货币成本后，高中毕业后第一个时期上大学的现值为：\n",
    "\n",
    "$$\n",
    "c_0 - D\n",
    "$$\n",
    "\n",
    "现在我们制定一个纯**均衡差异**模型，用于设定大学-高中工资的初始差距 $ \\phi $，其中：\n",
    "\n",
    "$$\n",
    "w_0^c = \\phi w_0^h\n",
    "$$\n",
    "\n",
    "我们假设 $ R, \\gamma_h, \\gamma_c, T $ 以及 $ w_0^h $ 是固定参数。\n",
    "\n",
    "首先，均衡差异模型揭示了一个重要关系：大学与高中毕业生的工资差距 $ \\phi $ 需要满足一个”均衡”方程。在这个方程中，选择不上大学直接工作的终身收入现值，应该等于选择上大学后工作的终身收入现值：\n",
    "\n",
    "$$\n",
    "h_0 = c_0 - D\n",
    "$$\n",
    "\n",
    "或\n",
    "\n",
    "\n",
    "<a id='equation-eq-equalize'></a>\n",
    "$$\n",
    "w_0^h A_h  = \\phi w_0^h A_c - D . \\tag{13.1}\n",
    "$$\n",
    "\n",
    "这个”无差异条件”是模型的核心。\n",
    "\n",
    "求解方程 [(13.1)](#equation-eq-equalize) 得到大学工资溢价 $ \\phi $：\n",
    "\n",
    "\n",
    "<a id='equation-eq-wagepremium'></a>\n",
    "$$\n",
    "\\phi  = \\frac{A_h}{A_c} + \\frac{D}{w_0^h A_c} . \\tag{13.2}\n",
    "$$\n",
    "\n",
    "在**免费大学**的特殊情况下，$ D =0 $。\n",
    "\n",
    "在这种情况下，上大学的唯一成本是放弃作为高中学历工人的收入。\n",
    "\n",
    "因此，\n",
    "\n",
    "$$\n",
    "\\phi  = \\frac{A_h}{A_c} .\n",
    "$$\n",
    "\n",
    "我们很快将编写 Python 代码来计算 $ \\phi $ 并绘制它的函数图。\n",
    "\n",
    "但首先，我们重新解读这些变量并描述我们模型的一种新的解释。"
   ]
  },
  {
   "cell_type": "markdown",
   "id": "a241f26a",
   "metadata": {},
   "source": [
    "## 重新解读模型：打工人和企业家\n",
    "\n",
    "我们可以通过添加一个参数并重新解读变量来获得一个有关企业家和打工人的模型。\n",
    "\n",
    "现在让 $ h $ 表示”打工人”的现值。\n",
    "\n",
    "我们将企业家的现值定义为：\n",
    "\n",
    "$$\n",
    "c_0 = \\pi \\sum_{t=4}^T R^{-t} w_t^c\n",
    "$$\n",
    "\n",
    "其中 $ \\pi \\in (0,1) $ 是企业家的”项目”成功的概率。\n",
    "\n",
    "对于我们的打工人和企业家模型，我们将把 $ D $ 解释为成为企业家的成本。\n",
    "\n",
    "这个成本可能包括雇佣工人、办公空间和律师的费用。\n",
    "\n",
    "我们过去称之为大学、高中工资差距的 $ \\phi $ 现在变成了\n",
    "成功企业家收入与打工人收入的比率。\n",
    "\n",
    "我们会发现，随着 $ \\pi $ 的减少，$ \\phi $ 会增加，这表明\n",
    "成为企业家的风险越大，成功项目的回报就必须越高。"
   ]
  },
  {
   "cell_type": "markdown",
   "id": "eafbc023",
   "metadata": {},
   "source": [
    "## 计算\n",
    "\n",
    "通过变动参数 $ \\gamma_h, \\gamma_c, R $， 我们可以创建出一些有趣的例子。\n",
    "\n",
    "现在让我们编写一些 Python 代码来计算 $ \\phi $ 并绘制其与某些决定因素的关系。"
   ]
  },
  {
   "cell_type": "code",
   "execution_count": null,
   "id": "fef64be5",
   "metadata": {
    "hide-output": false
   },
   "outputs": [],
   "source": [
    "class equalizing_diff:\n",
    "    \"\"\"\n",
    "    均等差异模型的一个类\n",
    "    \"\"\"\n",
    "    \n",
    "    def __init__(self, R, T, γ_h, γ_c, w_h0, D=0, π=None):\n",
    "        # 通过设置 π 切换到弱模型\n",
    "        self.R, self.γ_h, self.γ_c, self.w_h0, self.D = R, γ_h, γ_c, w_h0, D\n",
    "        self.T, self.π = T, π\n",
    "    \n",
    "    def compute_gap(self):\n",
    "        R, γ_h, γ_c, w_h0, D = self.R, self.γ_h, self.γ_c, self.w_h0, self.D\n",
    "        T, π = self.T, self.π\n",
    "        \n",
    "        A_h = (1 - (γ_h/R)**(T+1)) / (1 - γ_h/R)\n",
    "        A_c = (1 - (γ_c/R)**(T-3)) / (1 - γ_c/R) * (γ_c/R)**4\n",
    "        \n",
    "        # 调整后的模型\n",
    "        if π!=None:\n",
    "            A_c = π*A_c \n",
    "        \n",
    "        ϕ = A_h/A_c + D/(w_h0*A_c)\n",
    "        return ϕ"
   ]
  },
  {
   "cell_type": "markdown",
   "id": "d5498c0d",
   "metadata": {},
   "source": [
    "为了帮助我们进行比较静态分析，我们使用向量化而不是循环来构建一些函数。\n",
    "\n",
    "对于类的给定实例，我们想在一个参数变化而其他参数保持固定时重新计算 $ \\phi $。\n",
    "\n",
    "举个例子："
   ]
  },
  {
   "cell_type": "code",
   "execution_count": null,
   "id": "48998f33",
   "metadata": {
    "hide-output": false
   },
   "outputs": [],
   "source": [
    "# ϕ_R\n",
    "def ϕ_R(mc, R_new):\n",
    "    mc_new = equalizing_diff(R_new, mc.T, mc.γ_h, mc.γ_c, mc.w_h0, mc.D, mc.π)\n",
    "    return mc_new.compute_gap()\n",
    "\n",
    "ϕ_R = np.vectorize(ϕ_R)\n",
    "\n",
    "# ϕ_γh\n",
    "def ϕ_γh(mc, γh_new):\n",
    "    mc_new = equalizing_diff(mc.R, mc.T, γh_new, mc.γ_c, mc.w_h0, mc.D, mc.π)\n",
    "    return mc_new.compute_gap()\n",
    "\n",
    "ϕ_γh = np.vectorize(ϕ_γh)\n",
    "\n",
    "# ϕ_γc\n",
    "def ϕ_γc(mc, γc_new):\n",
    "    mc_new = equalizing_diff(mc.R, mc.T, mc.γ_h, γc_new, mc.w_h0, mc.D, mc.π)\n",
    "    return mc_new.compute_gap()\n",
    "\n",
    "ϕ_γc = np.vectorize(ϕ_γc)\n",
    "\n",
    "# ϕ_π\n",
    "def ϕ_π(mc, π_new):\n",
    "    mc_new = equalizing_diff(mc.R, mc.T, mc.γ_h, mc.γ_c, mc.w_h0, mc.D, π_new)\n",
    "    return mc_new.compute_gap()\n",
    "\n",
    "ϕ_π = np.vectorize(ϕ_π)"
   ]
  },
  {
   "cell_type": "code",
   "execution_count": null,
   "id": "dcf8e91c",
   "metadata": {
    "hide-output": false
   },
   "outputs": [],
   "source": [
    "# 设定标准参数\n",
    "R = 1.05\n",
    "T = 40\n",
    "γ_h, γ_c = 1.01, 1.01\n",
    "w_h0 = 1\n",
    "D = 10\n",
    "\n",
    "# 创建一个例子\n",
    "ex1 = equalizing_diff(R=R, T=T, γ_h=γ_h, γ_c=γ_c, w_h0=w_h0, D=D)\n",
    "gap1 = ex1.compute_gap()\n",
    "\n",
    "print(gap1)"
   ]
  },
  {
   "cell_type": "markdown",
   "id": "09921c89",
   "metadata": {},
   "source": [
    "假设大学不收费，然后重新计算 $ \\phi $。\n",
    "\n",
    "初始的大学工资溢价应该会降低。"
   ]
  },
  {
   "cell_type": "code",
   "execution_count": null,
   "id": "aa55d8a1",
   "metadata": {
    "hide-output": false
   },
   "outputs": [],
   "source": [
    "# 免费大学\n",
    "ex2 = equalizing_diff(R, T, γ_h, γ_c, w_h0, D=0)\n",
    "gap2 = ex2.compute_gap()\n",
    "print(gap2)"
   ]
  },
  {
   "cell_type": "markdown",
   "id": "4eb516be",
   "metadata": {},
   "source": [
    "让我们构建一些图表，展示如果初始大学-高中工资比率 $ \\phi $ 的某个决定因素发生变化，$ \\phi $ 将如何改变。\n",
    "\n",
    "我们先从总利率 $ R $ 开始。"
   ]
  },
  {
   "cell_type": "code",
   "execution_count": null,
   "id": "24eb5942",
   "metadata": {
    "hide-output": false
   },
   "outputs": [],
   "source": [
    "R_arr = np.linspace(1, 1.2, 50)\n",
    "plt.plot(R_arr, φ_R(ex1, R_arr))\n",
    "plt.xlabel(r'$R$')\n",
    "plt.ylabel(r'工资差距')\n",
    "plt.show()"
   ]
  },
  {
   "cell_type": "markdown",
   "id": "d4369ed5",
   "metadata": {},
   "source": [
    "注意当大学工资增长率 $ \\gamma_c $ 上升时，初始工资差距是如何下降的。\n",
    "\n",
    "工资差距下降是为了”平衡”两种职业类型的现值，一种是高中工人，另一种是大学工人。\n",
    "\n",
    "给定其它参数不变，你能猜到我们改变高中学历工人的工资的增长率时，初始工资比率 $ \\phi $ 会发生什么变化吗？\n",
    "\n",
    "下图显示了会发生什么。"
   ]
  },
  {
   "cell_type": "code",
   "execution_count": null,
   "id": "e11b4b02",
   "metadata": {
    "hide-output": false
   },
   "outputs": [],
   "source": [
    "γh_arr = np.linspace(1, 1.1, 50)\n",
    "plt.plot(γh_arr, φ_γh(ex1, γh_arr))\n",
    "plt.xlabel(r'$\\gamma_h$')\n",
    "plt.ylabel(r'工资差距')\n",
    "plt.show()"
   ]
  },
  {
   "cell_type": "markdown",
   "id": "ab6294b9",
   "metadata": {},
   "source": [
    "## 企业家和打工人\n",
    "\n",
    "现在让我们用企业家-打工人的视角来解读这个模型。\n",
    "\n",
    "如果一个新企业成功的概率是 $ 0.2 $，让我们计算成功企业家的初始工资溢价。"
   ]
  },
  {
   "cell_type": "code",
   "execution_count": null,
   "id": "fb05af54",
   "metadata": {
    "hide-output": false
   },
   "outputs": [],
   "source": [
    "# 企业家模型\n",
    "ex3 = equalizing_diff(R, T, γ_h, γ_c, w_h0, π=0.2)\n",
    "gap3 = ex3.compute_gap()\n",
    "\n",
    "print(gap3)"
   ]
  },
  {
   "cell_type": "markdown",
   "id": "1a44e5a9",
   "metadata": {},
   "source": [
    "现在让我们研究成功企业家的初始工资溢价是如何依赖于成功概率的。"
   ]
  },
  {
   "cell_type": "code",
   "execution_count": null,
   "id": "f2d4476e",
   "metadata": {
    "hide-output": false
   },
   "outputs": [],
   "source": [
    "π_arr = np.linspace(0.2, 1, 50)\n",
    "plt.plot(π_arr, φ_π(ex3, π_arr))\n",
    "plt.ylabel(r'工资差距')\n",
    "plt.xlabel(r'$\\pi$')\n",
    "plt.show()"
   ]
  },
  {
   "cell_type": "markdown",
   "id": "10154faa",
   "metadata": {},
   "source": [
    "这个图表是不是符合你的猜想呢？"
   ]
  },
  {
   "cell_type": "markdown",
   "id": "aee434aa",
   "metadata": {},
   "source": [
    "## 微积分的应用\n",
    "\n",
    "到目前为止，我们只使用了线性代数，这对我们理解模型的运作原理已经足够了。\n",
    "\n",
    "然而，懂得微积分的人可能会希望我们直接求偏导数。\n",
    "\n",
    "还不会微积分的读者可以不用继续往下读，因为线性代数已经让我们了解了模型的主要特性。\n",
    "\n",
    "但对于那些有兴趣了解我们如何让 Python 计算偏导数的读者，我们接下来会讲解这些内容。\n",
    "\n",
    "我们将使用 Python 模块 `sympy` 来计算 $ \\phi $ 对决定它的参数的偏导数。\n",
    "\n",
    "让我们从 `sympy` 导入关键函数。"
   ]
  },
  {
   "cell_type": "code",
   "execution_count": null,
   "id": "7a137a96",
   "metadata": {
    "hide-output": false
   },
   "outputs": [],
   "source": [
    "from sympy import Symbol, Lambda, symbols"
   ]
  },
  {
   "cell_type": "markdown",
   "id": "02023628",
   "metadata": {},
   "source": [
    "设定符号"
   ]
  },
  {
   "cell_type": "code",
   "execution_count": null,
   "id": "6702823f",
   "metadata": {
    "hide-output": false
   },
   "outputs": [],
   "source": [
    "γ_h, γ_c, w_h0, D = symbols(r'\\gamma_h, \\gamma_h_c, w_0^h, D', real=True)\n",
    "R, T = Symbol('R', real=True), Symbol('T', integer=True)"
   ]
  },
  {
   "cell_type": "markdown",
   "id": "4c5bbd0e",
   "metadata": {},
   "source": [
    "设定函数$ A_h $"
   ]
  },
  {
   "cell_type": "code",
   "execution_count": null,
   "id": "6087f6ad",
   "metadata": {
    "hide-output": false
   },
   "outputs": [],
   "source": [
    "A_h = Lambda((γ_h, R, T), (1 - (γ_h/R)**(T+1)) / (1 - γ_h/R))\n",
    "A_h"
   ]
  },
  {
   "cell_type": "markdown",
   "id": "349629e8",
   "metadata": {},
   "source": [
    "设定函数 $ A_c $"
   ]
  },
  {
   "cell_type": "code",
   "execution_count": null,
   "id": "72699451",
   "metadata": {
    "hide-output": false
   },
   "outputs": [],
   "source": [
    "A_c = Lambda((γ_c, R, T), (1 - (γ_c/R)**(T-3)) / (1 - γ_c/R) * (γ_c/R)**4)\n",
    "A_c"
   ]
  },
  {
   "cell_type": "markdown",
   "id": "7ae519b4",
   "metadata": {},
   "source": [
    "设定 $ \\phi $"
   ]
  },
  {
   "cell_type": "code",
   "execution_count": null,
   "id": "2fa9141b",
   "metadata": {
    "hide-output": false
   },
   "outputs": [],
   "source": [
    "ϕ = Lambda((D, γ_h, γ_c, R, T, w_h0), A_h(γ_h, R, T)/A_c(γ_c, R, T) + D/(w_h0*A_c(γ_c, R, T)))"
   ]
  },
  {
   "cell_type": "code",
   "execution_count": null,
   "id": "473a553c",
   "metadata": {
    "hide-output": false
   },
   "outputs": [],
   "source": [
    "ϕ"
   ]
  },
  {
   "cell_type": "markdown",
   "id": "88577f17",
   "metadata": {},
   "source": [
    "我们开始设定默认的参数值。"
   ]
  },
  {
   "cell_type": "code",
   "execution_count": null,
   "id": "7336761e",
   "metadata": {
    "hide-output": false
   },
   "outputs": [],
   "source": [
    "R_value = 1.05\n",
    "T_value = 40\n",
    "γ_h_value, γ_c_value = 1.01, 1.01\n",
    "w_h0_value = 1\n",
    "D_value = 10"
   ]
  },
  {
   "cell_type": "markdown",
   "id": "55602790",
   "metadata": {},
   "source": [
    "现在让我们计算 $ \\frac{\\partial \\phi}{\\partial D} $ 然后计算其给定默认参数的值"
   ]
  },
  {
   "cell_type": "code",
   "execution_count": null,
   "id": "17270780",
   "metadata": {
    "hide-output": false
   },
   "outputs": [],
   "source": [
    "ϕ_D = ϕ(D, γ_h, γ_c, R, T, w_h0).diff(D)\n",
    "ϕ_D"
   ]
  },
  {
   "cell_type": "code",
   "execution_count": null,
   "id": "63e1f501",
   "metadata": {
    "hide-output": false
   },
   "outputs": [],
   "source": [
    "# 给定默认参数的值\n",
    "ϕ_D_func = Lambda((D, γ_h, γ_c, R, T, w_h0), ϕ_D)\n",
    "ϕ_D_func(D_value, γ_h_value, γ_c_value, R_value, T_value, w_h0_value)"
   ]
  },
  {
   "cell_type": "markdown",
   "id": "b4b4212f",
   "metadata": {},
   "source": [
    "因此，与我们之前的图表一样，我们发现提高 $ R $ 会增加初始大学工资溢价 $ \\phi $。\n",
    "\n",
    "计算 $ \\frac{\\partial \\phi}{\\partial T} $ 并代入默认参数值"
   ]
  },
  {
   "cell_type": "code",
   "execution_count": null,
   "id": "9e975725",
   "metadata": {
    "hide-output": false
   },
   "outputs": [],
   "source": [
    "ϕ_T = ϕ(D, γ_h, γ_c, R, T, w_h0).diff(T)\n",
    "ϕ_T"
   ]
  },
  {
   "cell_type": "code",
   "execution_count": null,
   "id": "1d532974",
   "metadata": {
    "hide-output": false
   },
   "outputs": [],
   "source": [
    "# 在默认值的值\n",
    "ϕ_T_func = Lambda((D, γ_h, γ_c, R, T, w_h0), ϕ_T)\n",
    "ϕ_T_func(D_value, γ_h_value, γ_c_value, R_value, T_value, w_h0_value)"
   ]
  },
  {
   "cell_type": "markdown",
   "id": "f9f74776",
   "metadata": {},
   "source": [
    "我们发现提高 $ T $ 会降低初始大学工资溢价 $ \\phi $。\n",
    "\n",
    "这是因为大学毕业生现在有更长的职业生涯来”收回”他们为上大学付出的时间和其他成本。\n",
    "\n",
    "让我们计算 $ \\frac{\\partial \\phi}{\\partial \\gamma_h} $ 并代入默认参数值"
   ]
  },
  {
   "cell_type": "code",
   "execution_count": null,
   "id": "80cb5150",
   "metadata": {
    "hide-output": false
   },
   "outputs": [],
   "source": [
    "ϕ_γ_h = ϕ(D, γ_h, γ_c, R, T, w_h0).diff(γ_h)\n",
    "ϕ_γ_h"
   ]
  },
  {
   "cell_type": "code",
   "execution_count": null,
   "id": "7def0848",
   "metadata": {
    "hide-output": false
   },
   "outputs": [],
   "source": [
    "# 在默认值的值\n",
    "ϕ_γ_h_func = Lambda((D, γ_h, γ_c, R, T, w_h0), ϕ_γ_h)\n",
    "ϕ_γ_h_func(D_value, γ_h_value, γ_c_value, R_value, T_value, w_h0_value)"
   ]
  },
  {
   "cell_type": "markdown",
   "id": "474a1844",
   "metadata": {},
   "source": [
    "我们发现提高 $ \\gamma_h $ 会增加初始大学工资溢价 $ \\phi $，这与我们之前的图形分析结果一致。\n",
    "\n",
    "计算 $ \\frac{\\partial \\phi}{\\partial \\gamma_c} $ 并代入默认参数值"
   ]
  },
  {
   "cell_type": "code",
   "execution_count": null,
   "id": "24210aeb",
   "metadata": {
    "hide-output": false
   },
   "outputs": [],
   "source": [
    "ϕ_γ_c = ϕ(D, γ_h, γ_c, R, T, w_h0).diff(γ_c)\n",
    "ϕ_γ_c"
   ]
  },
  {
   "cell_type": "code",
   "execution_count": null,
   "id": "e059d90f",
   "metadata": {
    "hide-output": false
   },
   "outputs": [],
   "source": [
    "# 在默认值的值\n",
    "ϕ_γ_c_func = Lambda((D, γ_h, γ_c, R, T, w_h0), ϕ_γ_c)\n",
    "ϕ_γ_c_func(D_value, γ_h_value, γ_c_value, R_value, T_value, w_h0_value)"
   ]
  },
  {
   "cell_type": "markdown",
   "id": "40869a0a",
   "metadata": {},
   "source": [
    "我们发现提高 $ \\gamma_c $ 会降低初始大学工资溢价 $ \\phi $，这与我们之前的图形分析结果一致。\n",
    "\n",
    "让我们计算 $ \\frac{\\partial \\phi}{\\partial R} $ 并代入默认参数值"
   ]
  },
  {
   "cell_type": "code",
   "execution_count": null,
   "id": "4c2bec55",
   "metadata": {
    "hide-output": false
   },
   "outputs": [],
   "source": [
    "ϕ_R = ϕ(D, γ_h, γ_c, R, T, w_h0).diff(R)\n",
    "ϕ_R"
   ]
  },
  {
   "cell_type": "code",
   "execution_count": null,
   "id": "ac9be7cd",
   "metadata": {
    "hide-output": false
   },
   "outputs": [],
   "source": [
    "# 在默认值的值\n",
    "ϕ_R_func = Lambda((D, γ_h, γ_c, R, T, w_h0), ϕ_R)\n",
    "ϕ_R_func(D_value, γ_h_value, γ_c_value, R_value, T_value, w_h0_value)"
   ]
  },
  {
   "cell_type": "markdown",
   "id": "dddafe21",
   "metadata": {},
   "source": [
    "我们发现提高总利率 $ R $ 会增加初始大学工资溢价 $ \\phi $，这也与我们之前的图形分析结果一致。"
   ]
  }
 ],
 "metadata": {
  "date": 1741731005.6774435,
  "filename": "equalizing_difference.md",
  "kernelspec": {
   "display_name": "Python",
   "language": "python3",
   "name": "python3"
  },
  "title": "均衡差异模型"
 },
 "nbformat": 4,
 "nbformat_minor": 5
}