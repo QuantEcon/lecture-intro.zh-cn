{
 "cells": [
  {
   "cell_type": "markdown",
   "id": "dbadd10f",
   "metadata": {},
   "source": [
    "# 长期增长"
   ]
  },
  {
   "cell_type": "markdown",
   "id": "c1a57f4c",
   "metadata": {},
   "source": [
    "## 概述\n",
    "\n",
    "在本讲座中，我们将使用Python、[pandas](https://python-programming.quantecon.org/pandas.html) 和 [Matplotlib](https://python-programming.quantecon.org/matplotlib.html) 来下载、处理和可视化经济增长的历史数据。\n",
    "\n",
    "除了学习如何运用这些工具之外，我们还将使用它们来描述跨越多个世纪的多个国家的经济增长经历。\n",
    "\n",
    "这些 “增长事实 ”之所以有趣，原因有很多。\n",
    "\n",
    "解释增长事实是 “发展经济学 ”和 “经济史”的主要目的。\n",
    "\n",
    "并且增长事实也是历史学家研究地缘政治力量和动态的重要依据。\n",
    "\n",
    "因此，亚当·图泽(Adam Tooze)在阐述第一次世界大战的地缘政治先例和前因后果时，首先描述了欧洲大国的国内生产总值（GDP）在 1914 年之前的 70 年间是如何演变的（见 [[Tooze, 2014](https://quantecon.github.io/lecture-intro.zh-cn/zreferences.html#id16)] 第 1 章）。\n",
    "\n",
    "使用与图泽构建图表时相同的数据（使用稍长一些的时间线），以下是我们在他的第一章图表基础上制作的版本。\n",
    "\n",
    "![https://quantecon.github.io/lecture-intro.zh-cn/_static/lecture_specific/long_run_growth/tooze_ch1_graph.png](https://quantecon.github.io/lecture-intro.zh-cn/_static/lecture_specific/long_run_growth/tooze_ch1_graph.png)\n",
    "\n",
    "  \n",
    "（这只是我们的图 Fig. 2.6 的副本。 我们将在本讲的稍后部分介绍如何绘制Fig. 2.6）。\n",
    "\n",
    "[[Tooze, 2014](https://quantecon.github.io/lecture-intro.zh-cn/zreferences.html#id16)]的第1章用他的图表说明了美国的GDP在19世纪初如何远远落后于大英帝国的GDP。\n",
    "\n",
    "到 19 世纪末，美国的 GDP 已赶上大英帝国的 GDP，而在 20 世纪上半叶，\n",
    "美国的GDP超过了大英帝国。\n",
    "\n",
    "在亚当·图泽看来，这一事实是 “美国世纪 ”的关键地缘政治基础。\n",
    "\n",
    "看了这张图，以及它是如何为 “美国的20世纪” 搭建地缘政治舞台的，自然会让人想为2014年或之后的时期制作一张类似的图表。\n",
    "\n",
    "(如果心急的读者想提前了解答案，现在可以跳到后面看看图Fig. 2.7）。\n",
    "\n",
    "正如我们将看到的，通过类比推理，这张2014年或之后的图表或许为解释“某某国家的（21世纪）世纪”奠定了基础，而你可以自由填入你对某某国家的猜测。\n",
    "\n",
    "在我们收集数据以构建这两个图表的过程中，我们还将研究很多国家在尽可能长的时间范围内的增长经历。\n",
    "\n",
    "这些图表将描绘“工业革命”是如何在18世纪末始于英国，然后传播到一个又一个国家。\n",
    "\n",
    "简而言之，本讲记录了各个国家在很长一段时间内的增长轨迹。\n",
    "\n",
    "一些国家经历了持续百年的长期快速增长，而另一些国家则没有。\n",
    "\n",
    "由于各国的人口数量不同，而且一个国家内部的人口数量也会随着时间的推移而变化。\n",
    "因此，描述一个国家的 GDP 总量和人均 GDP 的变化是非常有趣的。\n",
    "\n",
    "首先，让我们导入所需的库。"
   ]
  },
  {
   "cell_type": "code",
   "execution_count": null,
   "id": "d45a0765",
   "metadata": {
    "hide-output": false
   },
   "outputs": [],
   "source": [
    "import pandas as pd\n",
    "import matplotlib.pyplot as plt\n",
    "import matplotlib.cm as cm\n",
    "import numpy as np\n",
    "from collections import namedtuple\n",
    "\n",
    "import matplotlib as mpl\n",
    "FONTPATH = \"fonts/SourceHanSerifSC-SemiBold.otf\"\n",
    "mpl.font_manager.fontManager.addfont(FONTPATH)\n",
    "plt.rcParams['font.family'] = ['Source Han Serif SC']"
   ]
  },
  {
   "cell_type": "markdown",
   "id": "ab716a50",
   "metadata": {},
   "source": [
    "## 准备数据\n",
    "\n",
    "由[安格斯-麦迪逊（Angus Maddison）](https://en.wikipedia.org/wiki/Angus_Maddison)发起的一个项目收集了许多与经济增长相关的历史时间序列、\n",
    "有些可以追溯到第一个世纪。\n",
    "\n",
    "可以从[Maddison Historical Statistics](https://www.rug.nl/ggdc/historicaldevelopment/maddison/)下载数据，点击“Latest Maddison Project Release”即可获取。\n",
    "\n",
    "我们将从 QuantEcon GitHub 的库中读取数据。\n",
    "\n",
    "本节的目的是生成一个方便使用的包含不同国家的人均 GDP 的 `DataFrame` 实例。\n",
    "\n",
    "在这里，我们将 Maddison 的数据读入一个 pandas `DataFrame`："
   ]
  },
  {
   "cell_type": "code",
   "execution_count": null,
   "id": "52585d1f",
   "metadata": {
    "hide-output": false
   },
   "outputs": [],
   "source": [
    "data_url = \"https://github.com/QuantEcon/lecture-python-intro/raw/main/lectures/datasets/mpd2020.xlsx\"\n",
    "data = pd.read_excel(data_url, \n",
    "                     sheet_name='Full data')\n",
    "data.head()"
   ]
  },
  {
   "cell_type": "markdown",
   "id": "12c33426",
   "metadata": {},
   "source": [
    "我们可以看到，该数据集包含许多国家和年份的人均国内生产总值（`gdppc`）和人口（`pop`）。\n",
    "\n",
    "让我们看看这个数据集中有多少国家/地区。"
   ]
  },
  {
   "cell_type": "code",
   "execution_count": null,
   "id": "02bd1b17",
   "metadata": {
    "hide-output": false
   },
   "outputs": [],
   "source": [
    "regions = data.country.unique()\n",
    "len(regions)"
   ]
  },
  {
   "cell_type": "markdown",
   "id": "395920c8",
   "metadata": {},
   "source": [
    "通过运行上面的代码，我们可以列出这个数据集有多少个国家/地区。\n",
    "\n",
    "下面，我们将列出这些国家。"
   ]
  },
  {
   "cell_type": "code",
   "execution_count": null,
   "id": "6aa9e93b",
   "metadata": {
    "hide-output": false
   },
   "outputs": [],
   "source": [
    "regions"
   ]
  },
  {
   "cell_type": "markdown",
   "id": "10a8df91",
   "metadata": {},
   "source": [
    "我们现在可以继续探索数据集里的169个国家/地区。\n",
    "\n",
    "我们可以遍历每个样本来了解每个样本可用的年份都有哪些。"
   ]
  },
  {
   "cell_type": "code",
   "execution_count": null,
   "id": "2b3aae4d",
   "metadata": {
    "hide-output": false
   },
   "outputs": [],
   "source": [
    "country_years = []\n",
    "for country in regions:\n",
    "    cy_data = data[data.country == country]['year']\n",
    "    ymin, ymax = cy_data.min(), cy_data.max()\n",
    "    country_years.append((country, ymin, ymax))\n",
    "country_years = pd.DataFrame(country_years,\n",
    "                    columns=['country', 'min_year', 'max_year']).set_index('country')\n",
    "country_years.head()"
   ]
  },
  {
   "cell_type": "markdown",
   "id": "89e6505f",
   "metadata": {},
   "source": [
    "现在，让我们将原始数据重新整理成一些方便的变量，以便更快地访问各国的时间序列数据。\n",
    "\n",
    "我们可以在该数据集中的国家代码（`countrycode`）和国家名称（`country`）之间建立一个有用的映射关系。\n",
    "\n",
    "为了方便使用中文标签，我们导入地区代码与中文名对应的数据集"
   ]
  },
  {
   "cell_type": "code",
   "execution_count": null,
   "id": "50d8859a",
   "metadata": {
    "hide-output": false
   },
   "outputs": [],
   "source": [
    "code_to_name = pd.read_csv(\"../lectures/datasets/country_code_cn.csv\").set_index('code')"
   ]
  },
  {
   "cell_type": "markdown",
   "id": "18447971",
   "metadata": {},
   "source": [
    "现在，我们专注于人均 GDP (`gdppc`)，并生成一个宽格式的数据表。"
   ]
  },
  {
   "cell_type": "code",
   "execution_count": null,
   "id": "ee2c11d7",
   "metadata": {
    "hide-output": false
   },
   "outputs": [],
   "source": [
    "gdp_pc = data.set_index(['countrycode', 'year'])['gdppc']\n",
    "gdp_pc = gdp_pc.unstack('countrycode')"
   ]
  },
  {
   "cell_type": "code",
   "execution_count": null,
   "id": "5ec3d2b3",
   "metadata": {
    "hide-output": false
   },
   "outputs": [],
   "source": [
    "gdp_pc.tail()"
   ]
  },
  {
   "cell_type": "markdown",
   "id": "6114d4ac",
   "metadata": {},
   "source": [
    "我们创建了一个变量 `color_mapping` 来存储国家代码和颜色之间的映射，以保证接下来线条的颜色一致"
   ]
  },
  {
   "cell_type": "code",
   "execution_count": null,
   "id": "c6293612",
   "metadata": {
    "hide-output": false
   },
   "outputs": [],
   "source": [
    "country_names = data['countrycode']\n",
    "\n",
    "# 生成一个颜色图，颜色数量与国家数量相匹配\n",
    "colors = cm.tab20(np.linspace(0, 0.95, len(country_names)))\n",
    "\n",
    "# 创建一个字典，将每个国家映射成相应的颜色\n",
    "color_mapping = {country: color for \n",
    "                 country, color in zip(country_names, colors)}"
   ]
  },
  {
   "cell_type": "markdown",
   "id": "5221b1f8",
   "metadata": {},
   "source": [
    "## 人均国内生产总值\n",
    "\n",
    "在本节中，我们将研究几个不同国家的长期人均国内生产总值。"
   ]
  },
  {
   "cell_type": "markdown",
   "id": "0c61b865",
   "metadata": {},
   "source": [
    "### 英国\n",
    "\n",
    "首先我们研究英国的 GDP 增长情况"
   ]
  },
  {
   "cell_type": "code",
   "execution_count": null,
   "id": "45ab04d6",
   "metadata": {
    "hide-output": false
   },
   "outputs": [],
   "source": [
    "fig, ax = plt.subplots(dpi=300)\n",
    "country = 'GBR'\n",
    "gdp_pc[country].plot(\n",
    "        ax=ax,\n",
    "        ylabel='国际元',\n",
    "        xlabel='年份',\n",
    "        color=color_mapping[country]\n",
    "    );"
   ]
  },
  {
   "cell_type": "markdown",
   "id": "d9b2335c",
   "metadata": {},
   "source": [
    ">**Note**\n",
    ">\n",
    ">[国际元](https://zh.wikipedia.org/wiki/%E5%9C%8B%E9%9A%9B%E5%85%83) 是一种假设的货币单位，在特定时间点与美元在美国的购买力平价相同。它们也被称为 Geary-Khamis 元（GK 元）。\n",
    "\n",
    "我们可以看到，在本千年的头 250 年中有长一段数据是不连续的，因此我们可以选择内插法得到连续的线图。\n",
    "\n",
    "在这里，我们用虚线表示插值趋势"
   ]
  },
  {
   "cell_type": "code",
   "execution_count": null,
   "id": "7e09e761",
   "metadata": {
    "hide-output": false
   },
   "outputs": [],
   "source": [
    "fig, ax = plt.subplots(dpi=300)\n",
    "country = 'GBR'\n",
    "ax.plot(gdp_pc[country].interpolate(),\n",
    "        linestyle='--',\n",
    "        lw=2,\n",
    "        color=color_mapping[country])\n",
    "\n",
    "ax.plot(gdp_pc[country],\n",
    "        lw=2,\n",
    "        color=color_mapping[country])\n",
    "ax.set_ylabel('国际元')\n",
    "ax.set_xlabel('年份')\n",
    "plt.show()"
   ]
  },
  {
   "cell_type": "markdown",
   "id": "68caee25",
   "metadata": {},
   "source": [
    "### 美国、英国和中国的比较\n",
    "\n",
    "在本节中，我们将比较美国、英国和中国的GDP增长。\n",
    "\n",
    "第一步，我们创建一个函数，为一组国家生成绘图"
   ]
  },
  {
   "cell_type": "code",
   "execution_count": null,
   "id": "a78192fe",
   "metadata": {
    "hide-output": false
   },
   "outputs": [],
   "source": [
    "def draw_interp_plots(series,        # pandas 数据\n",
    "                      country,       # 国家代码列表\n",
    "                      ylabel,        # y 轴标签\n",
    "                      xlabel,        # x 轴标签\n",
    "                      color_mapping, # 代码-颜色映射\n",
    "                      code_to_name,  # 代码-国家名映射\n",
    "                      lw,            # 线宽\n",
    "                      logscale,      # Y 轴是否要用对数刻度\n",
    "                      ax             # matplolib 轴\n",
    "                     ):\n",
    "\n",
    "    for c in country:\n",
    "        # 获取插值数据\n",
    "        df_interpolated = series[c].interpolate(limit_area='inside')\n",
    "        interpolated_data = df_interpolated[series[c].isnull()]\n",
    "\n",
    "        # 用虚线绘制插值数据\n",
    "        ax.plot(interpolated_data,\n",
    "                linestyle='--',\n",
    "                lw=lw,\n",
    "                alpha=0.7,\n",
    "                color=color_mapping[c])\n",
    "\n",
    "        # 用实线绘制非插值数据\n",
    "        ax.plot(series[c],\n",
    "                lw=lw,\n",
    "                color=color_mapping[c],\n",
    "                alpha=0.8,\n",
    "                label=code_to_name.loc[c]['name_chinese'])\n",
    "\n",
    "        if logscale:\n",
    "            ax.set_yscale('log')\n",
    "\n",
    "    # 将图例绘制在图外的左上角（loc）\n",
    "    ax.legend(loc='upper left', frameon=False)\n",
    "    ax.set_ylabel(ylabel)\n",
    "    ax.set_xlabel(xlabel)"
   ]
  },
  {
   "cell_type": "markdown",
   "id": "b931a3d7",
   "metadata": {},
   "source": [
    "从图表中可以看出，经济增长从 18 世纪真正开始，并持续了两百年。\n",
    "\n",
    "这与其他国家的增长轨迹相比如何？\n",
    "\n",
    "让我们看看美国（USA）、英国（GBR）和中国（CHN）"
   ]
  },
  {
   "cell_type": "code",
   "execution_count": null,
   "id": "c92ccf7d",
   "metadata": {
    "hide-output": false
   },
   "outputs": [],
   "source": [
    "# 定义事件的namedtuple\n",
    "Event = namedtuple('Event', ['year_range', 'y_text', 'text', 'color', 'ymax'])\n",
    "\n",
    "fig, ax = plt.subplots(dpi=300, figsize=(10, 6))\n",
    "\n",
    "country = ['CHN', 'GBR', 'USA']\n",
    "draw_interp_plots(gdp_pc[country].loc[1500:], \n",
    "                  country,\n",
    "                  '国际元', '年份',\n",
    "                  color_mapping, code_to_name, 2, False, ax)\n",
    "\n",
    "# 定义事件和文本的参数\n",
    "ylim = ax.get_ylim()[1]\n",
    "b_params = {'color':'grey', 'alpha': 0.2}\n",
    "t_params = {'fontsize': 9, \n",
    "            'va':'center', 'ha':'center'}\n",
    "\n",
    "# 创建要注释的事件列表\n",
    "events = [\n",
    "    Event((1650, 1652), ylim + ylim*0.04, \n",
    "          '航海法案\\n(1651)',\n",
    "          color_mapping['GBR'], 1),\n",
    "    Event((1655, 1684), ylim + ylim*0.13, \n",
    "          '闭关锁国\\n(1655-1684)', \n",
    "          color_mapping['CHN'], 1.1),\n",
    "    Event((1848, 1850), ylim + ylim*0.22,\n",
    "          '废除航海法\\n(1849)', \n",
    "          color_mapping['GBR'], 1.18),\n",
    "    Event((1765, 1791), ylim + ylim*0.04, \n",
    "          '美国独立战争\\n(1765-1791)', \n",
    "          color_mapping['USA'], 1),\n",
    "    Event((1760, 1840), ylim + ylim*0.13, \n",
    "          '工业革命\\n(1760-1840)', \n",
    "          'grey', 1.1),\n",
    "    Event((1929, 1939), ylim + ylim*0.04, \n",
    "          '大萧条\\n(1929–1939)', \n",
    "          'grey', 1),\n",
    "    Event((1978, 1979), ylim + ylim*0.13, \n",
    "          '改革开放\\n(1978-1979)', \n",
    "          color_mapping['CHN'], 1.1)\n",
    "]\n",
    "\n",
    "def draw_events(events, ax):\n",
    "    # 遍历事件并添加注释和竖线\n",
    "    for event in events:\n",
    "        event_mid = sum(event.year_range)/2\n",
    "        ax.text(event_mid, \n",
    "                event.y_text, event.text, \n",
    "                color=event.color, **t_params)\n",
    "        ax.axvspan(*event.year_range, color=event.color, alpha=0.2)\n",
    "        ax.axvline(event_mid, ymin=1, ymax=event.ymax, color=event.color,\n",
    "                   clip_on=False, alpha=0.15)\n",
    "draw_events(events, ax)\n",
    "plt.show()"
   ]
  },
  {
   "cell_type": "markdown",
   "id": "052c2e07",
   "metadata": {},
   "source": [
    "上图展示了工业革命的传播如何随着时间的推移逐渐提高了大量人群的生活水平\n",
    "\n",
    "- 大部分增长发生在工业革命之后的过去150年间。  \n",
    "- 从1820年到1940年，美国和英国的人均GDP上升并与中国拉开差距。  \n",
    "- 1950年后，尤其是1970年代末后，差距迅速缩小。  \n",
    "- 这些结果反映了科技和经济政策因素的复杂组合，经济增长的研究者们试图理解并量化这些因素。  "
   ]
  },
  {
   "cell_type": "markdown",
   "id": "d13ca228",
   "metadata": {},
   "source": [
    "### 聚焦于中国\n",
    "\n",
    "下图所展示的中国从1500年到1970年的人均GDP水平非常有趣。\n",
    "\n",
    "我们可以看到，从1700年到20世纪初，中国的人均GDP经历了长期的下降。\n",
    "\n",
    "因此，图表显示了\n",
    "\n",
    "- 清政府闭关锁国政策后的长期经济下行和停滞。  \n",
    "- 英国工业革命开始后，中国的经历与英国截然不同。  \n",
    "- 自强运动似乎主要帮助了中国的增长。  \n",
    "- 现代中国经济政策的惊人增长成果，最终在1970年代末进行的改革开放政策后达到高位。  "
   ]
  },
  {
   "cell_type": "code",
   "execution_count": null,
   "id": "646166ec",
   "metadata": {
    "hide-output": false
   },
   "outputs": [],
   "source": [
    "fig, ax = plt.subplots(dpi=300, figsize=(10, 6))\n",
    "\n",
    "country = ['CHN']\n",
    "draw_interp_plots(gdp_pc[country].loc[1600:2000], \n",
    "                  country,\n",
    "                  '国际元','年份',\n",
    "                  color_mapping, code_to_name, 2, True, ax)\n",
    "\n",
    "ylim = ax.get_ylim()[1]\n",
    "\n",
    "events = [\n",
    "Event((1655, 1684), ylim + ylim*0.06, \n",
    "      '闭关锁国政策\\n(1655-1684)', \n",
    "      'tab:orange', 1),\n",
    "Event((1760, 1840), ylim + ylim*0.06, \n",
    "      '工业革命\\n(1760-1840)', \n",
    "      'grey', 1),\n",
    "Event((1839, 1842), ylim + ylim*0.2, \n",
    "      '第一次鸦片战争\\n(1839–1842)', \n",
    "      'tab:red', 1.07),\n",
    "Event((1861, 1895), ylim + ylim*0.4, \n",
    "      '自强运动\\n(1861–1895)', \n",
    "      'tab:blue', 1.14),\n",
    "Event((1939, 1945), ylim + ylim*0.06, \n",
    "      '第二次世界大战\\n(1939-1945)', \n",
    "      'tab:red', 1),\n",
    "Event((1948, 1950), ylim + ylim*0.23, \n",
    "      '中华人民共和国成立\\n(1949)', \n",
    "      color_mapping['CHN'], 1.08),\n",
    "Event((1958, 1962), ylim + ylim*0.5, \n",
    "      '大跃进\\n(1958-1962)', \n",
    "      'tab:orange', 1.18),\n",
    "Event((1978, 1979), ylim + ylim*0.7, \n",
    "      '改革开放\\n(1978-1979)', \n",
    "      'tab:blue', 1.24)\n",
    "]\n",
    "\n",
    "# 绘制事件\n",
    "draw_events(events, ax)\n",
    "plt.show()"
   ]
  },
  {
   "cell_type": "markdown",
   "id": "da803983",
   "metadata": {},
   "source": [
    "### 聚焦于美国和英国\n",
    "\n",
    "现在我们更详细地研究美国（USA）和英国（GBR）。\n",
    "\n",
    "在以下图表中，请注意\n",
    "\n",
    "- 贸易政策（航海法案）的影响。  \n",
    "- 工业革命带来的生产力变化。  \n",
    "- 美国逐渐接近并超过英国，为“美国世纪”奠定基础。  \n",
    "- 战争的意外后果。  \n",
    "- [经济周期](https://quantecon.github.io/lecture-intro.zh-cn/business_cycle.html)衰退和萧条带来的中断和伤痕。  "
   ]
  },
  {
   "cell_type": "code",
   "execution_count": null,
   "id": "8ad428ed",
   "metadata": {
    "hide-output": false
   },
   "outputs": [],
   "source": [
    "fig, ax = plt.subplots(dpi=300, figsize=(10, 6))\n",
    "\n",
    "country = ['GBR', 'USA']\n",
    "draw_interp_plots(gdp_pc[country].loc[1500:2000],\n",
    "                  country,\n",
    "                  '国际元','年份',\n",
    "                  color_mapping, code_to_name, 2, True, ax)\n",
    "\n",
    "ylim = ax.get_ylim()[1]\n",
    "\n",
    "# 创建数据点列表\n",
    "events = [\n",
    "    Event((1651, 1651), ylim + ylim*0.15, \n",
    "          '航海法（英国）\\n(1651)', \n",
    "          'tab:orange', 1),\n",
    "    Event((1765, 1791), ylim + ylim*0.15, \n",
    "          '美国独立战争\\n(1765-1791)',\n",
    "          color_mapping['USA'], 1),\n",
    "    Event((1760, 1840), ylim + ylim*0.6, \n",
    "          '工业革命\\n(1760-1840)', \n",
    "          'grey', 1.08),\n",
    "    Event((1848, 1850), ylim + ylim*1.1, \n",
    "          '废除航海法（英国）\\n(1849)', \n",
    "          'tab:blue', 1.14),\n",
    "    Event((1861, 1865), ylim + ylim*1.8, \n",
    "          '美国内战\\n(1861-1865)', \n",
    "          color_mapping['USA'], 1.21),\n",
    "    Event((1914, 1918), ylim + ylim*0.15, \n",
    "          '第一次世界大战\\n(1914-1918)', \n",
    "          'tab:red', 1),\n",
    "    Event((1929, 1939), ylim + ylim*0.6, \n",
    "          '大萧条\\n(1929–1939)', \n",
    "          'grey', 1.08),\n",
    "    Event((1939, 1945), ylim + ylim*1.1, \n",
    "          '第二次世界大战\\n(1939-1945)', \n",
    "          'tab:red', 1.14)\n",
    "]\n",
    "\n",
    "# 绘制事件\n",
    "draw_events(events, ax)\n",
    "plt.show()"
   ]
  },
  {
   "cell_type": "markdown",
   "id": "75683aaa",
   "metadata": {},
   "source": [
    "## GDP增长\n",
    "\n",
    "现在我们将构建一些对地缘政治历史学家如亚当·图泽感兴趣的图表。\n",
    "\n",
    "我们将关注总国内生产总值（GDP）（作为“国家地缘政治-军事力量”的代理变量），而不是人均GDP（作为生活水平的代理变量）。"
   ]
  },
  {
   "cell_type": "code",
   "execution_count": null,
   "id": "9c20f511",
   "metadata": {
    "hide-output": false
   },
   "outputs": [],
   "source": [
    "data = pd.read_excel(data_url, sheet_name='Full data')\n",
    "data.set_index(['countrycode', 'year'], inplace=True)\n",
    "data['gdp'] = data['gdppc'] * data['pop']\n",
    "gdp = data['gdp'].unstack('countrycode')"
   ]
  },
  {
   "cell_type": "markdown",
   "id": "1eb6f9f5",
   "metadata": {},
   "source": [
    "### 早期工业化（1820至1940年）\n",
    "\n",
    "我们首先可视化中国、俄罗斯/前苏联、日本、英国和美国的趋势。\n",
    "\n",
    "最显著的趋势是美国的崛起，在1860年代超过英国，并在1880年代超过中国。\n",
    "\n",
    "持续的增长在1930年代的大萧条到来时出现了转折并大幅下降。\n",
    "\n",
    "与此同时，俄罗斯在第一次世界大战期间经历了重大挫折，并在二月革命后显著恢复。"
   ]
  },
  {
   "cell_type": "code",
   "execution_count": null,
   "id": "b461301c",
   "metadata": {
    "hide-output": false
   },
   "outputs": [],
   "source": [
    "fig, ax = plt.subplots(dpi=300)\n",
    "country = ['CHN', 'SUN', 'JPN', 'GBR', 'USA']\n",
    "start_year, end_year = (1820, 1945)\n",
    "draw_interp_plots(gdp[country].loc[start_year:end_year], \n",
    "                  country,\n",
    "                  '国际元', '年份',\n",
    "                  color_mapping, code_to_name, 2, False, ax)"
   ]
  },
  {
   "cell_type": "markdown",
   "id": "7d1879ce",
   "metadata": {},
   "source": [
    "#### 构建类似于图泽的图\n",
    "\n",
    "在本节中，我们将介绍如何构建本讲座开始时讨论过的[[Tooze, 2014](https://quantecon.github.io/lecture-intro.zh-cn/zreferences.html#id16)]第1章中引人注目的图表。\n",
    "\n",
    "首先，我们定义一个由大英帝国(BEM)所包含的国家组成的集合，这样我们就可以复制图兹图表中的这一系列数据。"
   ]
  },
  {
   "cell_type": "code",
   "execution_count": null,
   "id": "383e7160",
   "metadata": {
    "hide-output": false
   },
   "outputs": [],
   "source": [
    "BEM = ['GBR', 'IND', 'AUS', 'NZL', 'CAN', 'ZAF']\n",
    "# 插值不完全时间序列\n",
    "gdp['BEM'] = gdp[BEM].loc[start_year-1:end_year].interpolate(method='index').sum(axis=1)"
   ]
  },
  {
   "cell_type": "markdown",
   "id": "8d16015a",
   "metadata": {},
   "source": [
    "现在，让我们整理好数据系列，准备绘制图表。"
   ]
  },
  {
   "cell_type": "code",
   "execution_count": null,
   "id": "7c684f8c",
   "metadata": {
    "hide-output": false
   },
   "outputs": [],
   "source": [
    "color_mapping['BEM'] = color_mapping['GBR']  "
   ]
  },
  {
   "cell_type": "code",
   "execution_count": null,
   "id": "a6d347d2",
   "metadata": {
    "hide-output": false
   },
   "outputs": [],
   "source": [
    "fig, ax = plt.subplots(dpi=300)\n",
    "country = ['DEU', 'USA', 'SUN', 'BEM', 'FRA', 'JPN']\n",
    "start_year, end_year = (1821, 1945)\n",
    "draw_interp_plots(gdp[country].loc[start_year:end_year], \n",
    "                  country,\n",
    "                  '国际元', '年份',\n",
    "                  color_mapping, code_to_name, 2, False, ax)\n",
    "\n",
    "plt.savefig(\"./_static/lecture_specific/long_run_growth/tooze_ch1_graph.png\", dpi=300,\n",
    "            bbox_inches='tight')\n",
    "plt.show()"
   ]
  },
  {
   "cell_type": "markdown",
   "id": "2ae9c75a",
   "metadata": {},
   "source": [
    "在本讲的开头，我们提到了美国的 GDP 是如何在 19 世纪初 “从无到有”，到 19 世纪末与大英帝国的 GDP 相媲美，进而超越大英帝国的 GDP，为 “美国的二十世纪”奠定了地缘政治的基础。\n",
    "\n",
    "让我们将时间向前推移，大致从第二次世界大战后图示停止的地方开始。\n",
    "\n",
    "按照图泽第一章的分析，这样做可以提供一些有关当今地缘政治现实的信息。"
   ]
  },
  {
   "cell_type": "markdown",
   "id": "9d42a382",
   "metadata": {},
   "source": [
    "### 现代时代（1950至2020年）\n",
    "\n",
    "下图显示了中国自二十世纪七十年代后期以来增长的迅速。"
   ]
  },
  {
   "cell_type": "code",
   "execution_count": null,
   "id": "cf7ef85f",
   "metadata": {
    "hide-output": false
   },
   "outputs": [],
   "source": [
    "fig, ax = plt.subplots(dpi=300)\n",
    "country = ['CHN', 'SUN', 'JPN', 'GBR', 'USA']\n",
    "start_year, end_year = (1950, 2020)\n",
    "draw_interp_plots(gdp[country].loc[start_year:end_year], \n",
    "                  country,\n",
    "                  '国际元', '年份',\n",
    "                  color_mapping, code_to_name, 2, False, ax)"
   ]
  },
  {
   "cell_type": "markdown",
   "id": "c8c770e6",
   "metadata": {},
   "source": [
    "很自然的我们会将这个图表与图Fig. 2.6相比较，后者显示了美国在“美国世纪”开始时超过英国的情况。"
   ]
  },
  {
   "cell_type": "markdown",
   "id": "7d10dddd",
   "metadata": {},
   "source": [
    "## 地区分析\n",
    "\n",
    "我们也想要研究那些不属于“世界强国”俱乐部的国家的历史经验。\n",
    "\n",
    "[Maddison Historical Statistics](https://www.rug.nl/ggdc/historicaldevelopment/maddison/) 数据集还整合了地区汇总信息"
   ]
  },
  {
   "cell_type": "code",
   "execution_count": null,
   "id": "72e42757",
   "metadata": {
    "hide-output": false
   },
   "outputs": [],
   "source": [
    "data = pd.read_excel(data_url, \n",
    "                     sheet_name='Regional data', \n",
    "                     header=(0,1,2),\n",
    "                     index_col=0)\n",
    "data.columns = data.columns.droplevel(level=2)"
   ]
  },
  {
   "cell_type": "markdown",
   "id": "789cd26d",
   "metadata": {},
   "source": [
    "我们可以将原始数据存储在更方便的格式中来构建地区人均GDP的单一表格"
   ]
  },
  {
   "cell_type": "code",
   "execution_count": null,
   "id": "d5ae88f0",
   "metadata": {
    "hide-output": false
   },
   "outputs": [],
   "source": [
    "regionalgdp_pc = data['gdppc_2011'].copy()\n",
    "regionalgdp_pc.index = pd.to_datetime(regionalgdp_pc.index, format='%Y')"
   ]
  },
  {
   "cell_type": "markdown",
   "id": "354bad77",
   "metadata": {},
   "source": [
    "我们可以基于时间进行插值来填补数据集中的任何缺口，以便于绘图"
   ]
  },
  {
   "cell_type": "code",
   "execution_count": null,
   "id": "c4f41346",
   "metadata": {
    "hide-output": false
   },
   "outputs": [],
   "source": [
    "regionalgdp_pc.interpolate(method='time', inplace=True)\n",
    "regionalgdp_pc.columns = ['西欧', '东欧', '西方分支', '拉丁美洲', '东亚', '南亚和东南亚', '中东', '撒哈拉以南非洲', '世界人均GDP']"
   ]
  },
  {
   "cell_type": "markdown",
   "id": "fe6a835b",
   "metadata": {},
   "source": [
    "进行更深入的研究，我们将西方分支（`Western Offshoots`）和撒哈拉以南非洲（`Sub-Saharan Africa`）的时间序列与世界各地多个不同地区进行比较。\n",
    "\n",
    "我们再次看到，工业革命后西方与世界其他地区的发展出现分歧，而在1950年代后，世界各地开始趋于一致。"
   ]
  },
  {
   "cell_type": "code",
   "execution_count": null,
   "id": "b09d138c",
   "metadata": {
    "hide-output": false
   },
   "outputs": [],
   "source": [
    "fig, ax = plt.subplots(dpi=300)\n",
    "regionalgdp_pc.plot(ax=ax, xlabel='年份',\n",
    "                    lw=2,\n",
    "                    ylabel='国际元')\n",
    "ax.set_yscale('log')\n",
    "plt.legend(loc='lower center',\n",
    "           ncol=3, bbox_to_anchor=[0.5, -0.5])\n",
    "plt.show()"
   ]
  }
 ],
 "metadata": {
  "date": 1742186710.3265052,
  "filename": "long_run_growth.md",
  "kernelspec": {
   "display_name": "Python",
   "language": "python3",
   "name": "python3"
  },
  "title": "长期增长"
 },
 "nbformat": 4,
 "nbformat_minor": 5
}