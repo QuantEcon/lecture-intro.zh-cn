{
 "cells": [
  {
   "cell_type": "markdown",
   "id": "d8ac2262",
   "metadata": {},
   "source": [
    "\n",
    "<a id='supply-demand-heterogeneity'></a>"
   ]
  },
  {
   "cell_type": "markdown",
   "id": "e32e3f4f",
   "metadata": {},
   "source": [
    "# 具有异质性的市场均衡"
   ]
  },
  {
   "cell_type": "markdown",
   "id": "5f0bd7a8",
   "metadata": {},
   "source": [
    "## 概览\n",
    "\n",
    "在[前一讲座](https://quantecon.github.io/lecture-intro.zh-cn/supply_demand_multiple_goods.html)中，我们研究了包含多种商品的经济体系中的竞争均衡。\n",
    "\n",
    "虽然这种分析很有启发性，但我们做了一个很强的简化假设 - 所有经济主体都是完全相同的。\n",
    "\n",
    "然而在现实世界中，家庭、企业和其他经济主体在很多方面都存在差异。\n",
    "\n",
    "本讲座将通过引入消费者偏好和禀赋的差异性，来探讨这种异质性。\n",
    "\n",
    "我们将分析在这种更现实的设定下，竞争均衡是如何形成的。\n",
    "\n",
    "我们还会展示如何构建一个”代表性消费者”来简化分析。\n",
    "\n",
    "让我们先导入需要用到的包："
   ]
  },
  {
   "cell_type": "code",
   "execution_count": null,
   "id": "7172fdb5",
   "metadata": {
    "hide-output": false
   },
   "outputs": [],
   "source": [
    "import numpy as np\n",
    "from scipy.linalg import inv"
   ]
  },
  {
   "cell_type": "markdown",
   "id": "accf34f7",
   "metadata": {},
   "source": [
    "## 一个简单的例子\n",
    "\n",
    "让我们研究一个没有生产的**纯交换**经济体的简单例子。\n",
    "\n",
    "现在有两个消费者，他们的禀赋向量 $ e_i $ 和餍足点向量 $ b_i $ 是不同的，其中 $ i=1,2 $。\n",
    "\n",
    "总的禀赋是 $ e_1 + e_2 $。\n",
    "\n",
    "竞争均衡要求\n",
    "\n",
    "$$\n",
    "c_1 + c_2 = e_1 + e_2\n",
    "$$\n",
    "\n",
    "假设需求曲线为\n",
    "\n",
    "$$\n",
    "c_i = (\\Pi^{\\top} \\Pi)^{-1}(\\Pi^{\\top} b_i -  \\mu_i p )\n",
    "$$\n",
    "\n",
    "那么竞争均衡还需要满足\n",
    "\n",
    "$$\n",
    "e_1 + e_2 =\n",
    "    (\\Pi^{\\top} \\Pi)^{-1}(\\Pi^{\\top} (b_1 + b_2) - (\\mu_1 + \\mu_2) p )\n",
    "$$\n",
    "\n",
    "通过一两行线性代数计算，可以推出\n",
    "\n",
    "\n",
    "<a id='equation-eq-old6'></a>\n",
    "$$\n",
    "(\\mu_1 + \\mu_2) p = \\Pi^{\\top}(b_1+ b_2) - \\Pi^{\\top} \\Pi (e_1 + e_2) \\tag{43.1}\n",
    "$$\n",
    "\n",
    "我们可以使 $ \\mu_1 + \\mu_2 =1 $ 来对价格进行归一化处理，然后解方程\n",
    "\n",
    "\n",
    "<a id='equation-eq-old7'></a>\n",
    "$$\n",
    "\\mu_i(p,e) = \\frac{p^{\\top} (\\Pi^{-1} b_i - e_i)}{p^{\\top} (\\Pi^{\\top} \\Pi)^{-1} p} \\tag{43.2}\n",
    "$$\n",
    "\n",
    "求得 $ \\mu_i, 其中 i = 1,2 $。"
   ]
  },
  {
   "cell_type": "markdown",
   "id": "9a4ffb97",
   "metadata": {},
   "source": [
    "## Exercise 43.1\n",
    "\n",
    "证明，在正标量的归一化下，你在前面两消费者经济中计算出的同一竞争均衡价格向量，在只有一个代表性消费者的单一消费者经济中依旧适用，其中这个**代表性消费者**的效用函数为：\n",
    "\n",
    "$$\n",
    "-.5 (\\Pi c -b) ^2 (\\Pi c -b )\n",
    "$$\n",
    "\n",
    "其初始禀赋向量为 $ e $，其中\n",
    "\n",
    "$$\n",
    "b = b_1 + b_2\n",
    "$$\n",
    "\n",
    "以及\n",
    "\n",
    "$$\n",
    "e = e_1 + e_2 .\n",
    "$$"
   ]
  },
  {
   "cell_type": "markdown",
   "id": "29a03ea7",
   "metadata": {},
   "source": [
    "## 纯交换经济体\n",
    "\n",
    "让我们进一步探讨一个有 $ n $ 种商品和 $ m $ 个人的纯交换经济体。"
   ]
  },
  {
   "cell_type": "markdown",
   "id": "71cf5cc9",
   "metadata": {},
   "source": [
    "### 竞争均衡\n",
    "\n",
    "我们会来计算一个竞争均衡。\n",
    "\n",
    "想要计算纯交换经济体的竞争均衡，我们会运用以下事实：\n",
    "\n",
    "- 竞争均衡中的相对价格与特殊单人经济体或代表性消费者经济体中的相对价格相同，其中偏好为 $ \\Pi $，$ b=\\sum_i b_i $，并且禀赋为 $ e = \\sum_i e_{i} $。  \n",
    "\n",
    "\n",
    "我们可以运用以下步骤来计算竞争均衡：\n",
    "\n",
    "- 首先，我们通过归一化 $ \\mu = 1 $ 来解决单一代表性消费者的经济模型。然后，我们使用第一种消费品作为计价单位，重新对价格向量进行归一化处理。  \n",
    "- 接下来我们使用竞争均衡价格来计算每个消费者的财富边际效用：  \n",
    "\n",
    "\n",
    "$$\n",
    "\\mu_{i}=\\frac{-W_{i}+p^{T}\\left(\\Pi^{-1}b_{i}-e_{i}\\right)}{p^{T}(\\Pi^{T}\\Pi)^{-1}p}\n",
    "$$\n",
    "\n",
    "- 最后我们利用需求曲线来计算竞争均衡分配：  \n",
    "\n",
    "\n",
    "$$\n",
    "c_{i}=\\Pi^{-1}b_{i}-(\\Pi^{T}\\Pi)^{-1}\\mu_{i}p\n",
    "$$"
   ]
  },
  {
   "cell_type": "markdown",
   "id": "3129573f",
   "metadata": {},
   "source": [
    "### 编写一些 Python 代码\n",
    "\n",
    "下面我们会构建一个 Python 类，它具有以下属性：\n",
    "\n",
    "- **偏好** 的形式包括：  \n",
    "  - 一个 $ n \\times n $ 的正定矩阵 $ \\Pi $  \n",
    "  - 一个 $ n \\times 1 $ 的餍足点向量 $ b $  \n",
    "- **禀赋** 的形式包括：  \n",
    "  - 一个 $ n \\times 1 $ 的向量 $ e $  \n",
    "  - 一个默认值为 $ 0 $ 的标量 “财富” $ W $  \n",
    "\n",
    "\n",
    "这个类会检查每个消费者的餍足点是否充分大于其禀赋的转换值(即 $ b \\gg \\Pi e $)。如果不满足这个条件，类会抛出异常。\n",
    "\n",
    "类的结构如下:\n",
    "\n",
    "- **个体消费者** 由以下要素刻画:  \n",
    "  - 偏好参数(包括替代矩阵 $ \\Pi $ 和餍足点 $ b $)  \n",
    "  - 初始禀赋 $ e $ 和财富 $ W $  \n",
    "- **纯交换经济体** 包括：  \n",
    "  - $ m $ 个 **人** 的集合  \n",
    "    - $ m=1 $ 指的是单主体经济体  \n",
    "    - $ m=2 $ 指的是我们所描绘的纯交换经济体的示例  \n",
    "  - 一个均衡价格向量 $ p $（以某种方式归一化）  \n",
    "  - 一个均衡分配 $ c_1, c_2, \\ldots, c_m $ – $ m $ 个维度为 $ n \\times 1 $ 的向量的集合  \n",
    "\n",
    "\n",
    "现在让我们开始编程。"
   ]
  },
  {
   "cell_type": "code",
   "execution_count": null,
   "id": "7579f392",
   "metadata": {
    "hide-output": false
   },
   "outputs": [],
   "source": [
    "class ExchangeEconomy:\n",
    "    def __init__(self, \n",
    "                 Π, \n",
    "                 bs, \n",
    "                 es, \n",
    "                 Ws=None, \n",
    "                 thres=1.5):\n",
    "        \"\"\"\n",
    "        为交换经济体设置环境\n",
    "\n",
    "        参数:\n",
    "            Π (np.array): 共用替代矩阵\n",
    "            bs (list): 所有消费者的餍足点\n",
    "            es (list): 所有消费者的禀赋\n",
    "            Ws (list): 所有消费者的财富\n",
    "            thres (float): 设定一个阈值来测试是否违反了 b >> Pi e \n",
    "        \"\"\"\n",
    "        n, m = Π.shape[0], len(bs)\n",
    "\n",
    "        # 检查不饱和条件\n",
    "        for b, e in zip(bs, es):\n",
    "            if np.min(b / np.max(Π @ e)) <= thres:\n",
    "                raise Exception('设置更远的餍足点')\n",
    "\n",
    "        if Ws == None:\n",
    "            Ws = np.zeros(m)\n",
    "        else:\n",
    "            if sum(Ws) != 0:\n",
    "                raise Exception('无效的财富分配')\n",
    "\n",
    "        self.Π, self.bs, self.es, self.Ws, self.n, self.m = Π, bs, es, Ws, n, m\n",
    "\n",
    "    def competitive_equilibrium(self):\n",
    "        \"\"\"\n",
    "        计算竞争均衡价格和竞争均衡分配\n",
    "        \"\"\"\n",
    "        Π, bs, es, Ws = self.Π, self.bs, self.es, self.Ws\n",
    "        n, m = self.n, self.m\n",
    "        slope_dc = inv(Π.T @ Π)\n",
    "        Π_inv = inv(Π)\n",
    "\n",
    "        # 加总\n",
    "        b = sum(bs)\n",
    "        e = sum(es)\n",
    "\n",
    "        # 用 mu=1 来计算价格向量并重新归一化\n",
    "        p = Π.T @ b - Π.T @ Π @ e\n",
    "        p = p / p[0]\n",
    "\n",
    "        # 计算财富的边际效用\n",
    "        μ_s = []\n",
    "        c_s = []\n",
    "        A = p.T @ slope_dc @ p\n",
    "\n",
    "        for i in range(m):\n",
    "            μ_i = (-Ws[i] + p.T @ (Π_inv @ bs[i] - es[i])) / A\n",
    "            c_i = Π_inv @ bs[i] - μ_i * slope_dc @ p\n",
    "            μ_s.append(μ_i)\n",
    "            c_s.append(c_i)\n",
    "\n",
    "        for c_i in c_s:\n",
    "            if any(c_i < 0):\n",
    "                print('分配: ', c_s)\n",
    "                raise Exception('负分配：均衡不存在')\n",
    "\n",
    "        return p, c_s, μ_s"
   ]
  },
  {
   "cell_type": "markdown",
   "id": "e23c51cb",
   "metadata": {},
   "source": [
    "## 实践\n",
    "\n",
    "接下来我们使用上面定义的类 `ExchangeEconomy` 来研究\n",
    "\n",
    "- 一个没有生产的两人经济体,  \n",
    "- 一个动态经济体, 和  \n",
    "- 一个有风险和阿罗证券的经济体。  "
   ]
  },
  {
   "cell_type": "markdown",
   "id": "bfcc7765",
   "metadata": {},
   "source": [
    "### 没有生产的两人经济体\n",
    "\n",
    "在这里我们研究竞争均衡 $ p, c_1, c_2 $ 如何对不同的 $ b_i $ 和 $ e_i $, $ i \\in \\{1, 2\\} $ 作出反应。"
   ]
  },
  {
   "cell_type": "code",
   "execution_count": null,
   "id": "7ade5cdb",
   "metadata": {
    "hide-output": false
   },
   "outputs": [],
   "source": [
    "Π = np.array([[1, 0],\n",
    "              [0, 1]])\n",
    "\n",
    "bs = [np.array([5, 5]),  # 第一个消费者的餍足点\n",
    "      np.array([5, 5])]  # 第二个消费者的餍足点\n",
    "\n",
    "es = [np.array([0, 2]),  # 第一个消费者的禀赋\n",
    "      np.array([2, 0])]  # 第二个消费者的禀赋\n",
    "\n",
    "EE = ExchangeEconomy(Π, bs, es)\n",
    "p, c_s, μ_s = EE.competitive_equilibrium()\n",
    "\n",
    "print('竞争均衡价格向量:', p)\n",
    "print('竞争均衡分配:', c_s)"
   ]
  },
  {
   "cell_type": "markdown",
   "id": "f98c3278",
   "metadata": {},
   "source": [
    "如果第一个消费者更喜欢第一种商品，而第二个消费者更喜欢第二种商品会怎样？"
   ]
  },
  {
   "cell_type": "code",
   "execution_count": null,
   "id": "6688c3e0",
   "metadata": {
    "hide-output": false
   },
   "outputs": [],
   "source": [
    "EE.bs = [np.array([6, 5]),  # 第一个消费者的餍足点\n",
    "         np.array([5, 6])]  # 第二个消费者的餍足点\n",
    "\n",
    "p, c_s, μ_s = EE.competitive_equilibrium()\n",
    "\n",
    "print('竞争均衡价格向量:', p)\n",
    "print('竞争均衡分配:', c_s)"
   ]
  },
  {
   "cell_type": "markdown",
   "id": "d8068e59",
   "metadata": {},
   "source": [
    "我们让第一个消费者变得稍微更穷。"
   ]
  },
  {
   "cell_type": "code",
   "execution_count": null,
   "id": "337ed071",
   "metadata": {
    "hide-output": false
   },
   "outputs": [],
   "source": [
    "EE.es = [np.array([0.5, 0.5]),  # 第一个消费者的禀赋\n",
    "         np.array([1, 1])]  # 第二个消费者的禀赋\n",
    "\n",
    "p, c_s, μ_s = EE.competitive_equilibrium()\n",
    "\n",
    "print('竞争均衡价格向量:', p)\n",
    "print('竞争均衡分配:', c_s)"
   ]
  },
  {
   "cell_type": "markdown",
   "id": "3b09795e",
   "metadata": {},
   "source": [
    "我们现在构建一个自给自足的（即无贸易的）均衡模型。"
   ]
  },
  {
   "cell_type": "code",
   "execution_count": null,
   "id": "5a8e9beb",
   "metadata": {
    "hide-output": false
   },
   "outputs": [],
   "source": [
    "EE.bs = [np.array([4, 6]),  # 第一个消费者的餍足点\n",
    "      np.array([6, 4])]  # 第二个消费者的餍足点\n",
    "\n",
    "EE.es = [np.array([0, 2]),  # 第一个消费者的禀赋\n",
    "      np.array([2, 0])]  # 第二个消费者的禀赋\n",
    "\n",
    "p, c_s, μ_s = EE.competitive_equilibrium()\n",
    "\n",
    "print('竞争均衡价格向量:', p)\n",
    "print('竞争均衡分配:', c_s)"
   ]
  },
  {
   "cell_type": "markdown",
   "id": "bb598015",
   "metadata": {},
   "source": [
    "在进行贸易之前重新分配禀赋。"
   ]
  },
  {
   "cell_type": "code",
   "execution_count": null,
   "id": "53587a3d",
   "metadata": {
    "hide-output": false
   },
   "outputs": [],
   "source": [
    "bs = [np.array([5, 5]),  # 第一个消费者的餍足点\n",
    "      np.array([5, 5])]  # 第二个消费者的餍足点\n",
    "\n",
    "es = [np.array([1, 1]),  # 第一个消费者的禀赋\n",
    "      np.array([1, 1])]  # 第二个消费者的禀赋\n",
    "\n",
    "Ws = [0.5, -0.5]\n",
    "EE_new = ExchangeEconomy(Π, bs, es, Ws)\n",
    "p, c_s, μ_s = EE_new.competitive_equilibrium()\n",
    "\n",
    "print('竞争均衡价格向量:', p)\n",
    "print('竞争均衡分配:', c_s)"
   ]
  },
  {
   "cell_type": "markdown",
   "id": "214ffb64",
   "metadata": {},
   "source": [
    "### 动态经济体\n",
    "\n",
    "现在我们利用上述方法来研究一个动态经济体，其中涉及两个时期。"
   ]
  },
  {
   "cell_type": "code",
   "execution_count": null,
   "id": "e98049fd",
   "metadata": {
    "hide-output": false
   },
   "outputs": [],
   "source": [
    "beta = 0.95\n",
    "\n",
    "Π = np.array([[1, 0],\n",
    "              [0, np.sqrt(beta)]])\n",
    "\n",
    "bs = [np.array([5, np.sqrt(beta) * 5])]\n",
    "\n",
    "es = [np.array([1, 1])]\n",
    "\n",
    "EE_DE = ExchangeEconomy(Π, bs, es)\n",
    "p, c_s, μ_s = EE_DE.competitive_equilibrium()\n",
    "\n",
    "print('竞争均衡的价格向量:', p)\n",
    "print('竞争均衡分配:', c_s)"
   ]
  },
  {
   "cell_type": "markdown",
   "id": "4ef34186",
   "metadata": {},
   "source": [
    "### 具有阿罗证券的风险经济体\n",
    "\n",
    "我们通过上文所述的方法，将 $ c_1, c_2 $ 解释为“阿罗证券”，这些证券是对状态依赖型商品的索取权。"
   ]
  },
  {
   "cell_type": "code",
   "execution_count": null,
   "id": "f4234c8c",
   "metadata": {
    "hide-output": false
   },
   "outputs": [],
   "source": [
    "prob = 0.7\n",
    "\n",
    "Π = np.array([[np.sqrt(prob), 0],\n",
    "              [0, np.sqrt(1 - prob)]])\n",
    "\n",
    "bs = [np.array([np.sqrt(prob) * 5, np.sqrt(1 - prob) * 5]),\n",
    "      np.array([np.sqrt(prob) * 5, np.sqrt(1 - prob) * 5])]\n",
    "\n",
    "es = [np.array([1, 0]),\n",
    "      np.array([0, 1])]\n",
    "\n",
    "EE_AS = ExchangeEconomy(Π, bs, es)\n",
    "p, c_s, μ_s = EE_AS.competitive_equilibrium()\n",
    "\n",
    "print('竞争均衡价格向量:', p)\n",
    "print('竞争均衡分配:', c_s)"
   ]
  },
  {
   "cell_type": "markdown",
   "id": "6f8dd9bb",
   "metadata": {},
   "source": [
    "## 推导代表性消费者\n",
    "\n",
    "在我们研究的这类多消费者经济体中，事实上存在一个单一的**代表性消费者**，其偏好和禀赋可以从众多单独的个体消费者的偏好和禀赋中推导出来。\n",
    "\n",
    "考虑一个具有初始财富分配 $ W_i $ 的多消费者经济体，其中初始财富满足 $ \\sum_i W_{i}=0 $\n",
    "\n",
    "我们假设初始财富可以重新分配。\n",
    "\n",
    "我们有以下对象\n",
    "\n",
    "- 需求曲线：  \n",
    "\n",
    "\n",
    "$$\n",
    "c_{i}=\\Pi^{-1}b_{i}-(\\Pi^T\\Pi)^{-1}\\mu_{i}p\n",
    "$$\n",
    "\n",
    "- 财富的边际效用：  \n",
    "\n",
    "\n",
    "$$\n",
    "\\mu_{i}=\\frac{-W_{i}+p^T\\left(\\Pi^{-1}b_{i}-e_{i}\\right)}{p^T(\\Pi^T\\Pi)^{-1}p}\n",
    "$$\n",
    "\n",
    "- 市场出清：  \n",
    "\n",
    "\n",
    "$$\n",
    "\\sum c_{i}=\\sum e_{i}\n",
    "$$\n",
    "\n",
    "表示总消费 $ \\sum_i c_{i}=c $ 和 $ \\sum_i \\mu_i = \\mu $。\n",
    "\n",
    "市场出清需要\n",
    "\n",
    "$$\n",
    "\\Pi^{-1}\\left(\\sum_{i}b_{i}\\right)-(\\Pi^{T}\\Pi)^{-1}p\\left(\\sum_{i}\\mu_{i}\\right)=\\sum_{i}e_{i}\n",
    "$$\n",
    "\n",
    "经过几步计算后得到\n",
    "\n",
    "$$\n",
    "p=\\mu^{-1}\\left(\\Pi^{T}b-\\Pi^{T}\\Pi e\\right)\n",
    "$$\n",
    "\n",
    "其中\n",
    "\n",
    "$$\n",
    "\\mu = \\sum_i\\mu_{i}=\\frac{0 + p^{T}\\left(\\Pi^{-1}b-e\\right)}{p^{T}(\\Pi^{T}\\Pi)^{-1}p}.\n",
    "$$\n",
    "\n",
    "现在考虑上述的代表性消费者经济体。\n",
    "\n",
    "用 $ \\tilde{\\mu} $ 表示代表性消费者的财富边际效用。\n",
    "\n",
    "需求函数是\n",
    "\n",
    "$$\n",
    "c=\\Pi^{-1}b-(\\Pi^{T}\\Pi)^{-1}\\tilde{\\mu} p\n",
    "$$\n",
    "\n",
    "将这个代入预算约束得到\n",
    "\n",
    "$$\n",
    "\\tilde{\\mu}=\\frac{p^{T}\\left(\\Pi^{-1}b-e\\right)}{p^{T}(\\Pi^{T}\\Pi)^{-1}p}\n",
    "$$\n",
    "\n",
    "在均衡状态下 $ c=e $，所以\n",
    "\n",
    "$$\n",
    "p=\\tilde{\\mu}^{-1}(\\Pi^{T}b-\\Pi^{T}\\Pi e)\n",
    "$$\n",
    "\n",
    "因此，我们证明了：在选定一个计价单位来表达绝对价格后，代表性消费者经济体中的价格向量与具有多个消费者的基础经济体中的价格向量相同。"
   ]
  }
 ],
 "metadata": {
  "date": 1743998658.5432215,
  "filename": "supply_demand_heterogeneity.md",
  "kernelspec": {
   "display_name": "Python",
   "language": "python3",
   "name": "python3"
  },
  "title": "具有异质性的市场均衡"
 },
 "nbformat": 4,
 "nbformat_minor": 5
}