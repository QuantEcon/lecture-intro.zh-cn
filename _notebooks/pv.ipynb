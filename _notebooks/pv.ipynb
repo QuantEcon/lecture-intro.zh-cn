{
 "cells": [
  {
   "cell_type": "markdown",
   "id": "8a093da0",
   "metadata": {},
   "source": [
    "# 现值"
   ]
  },
  {
   "cell_type": "markdown",
   "id": "ba5e1c80",
   "metadata": {},
   "source": [
    "## 概述\n",
    "\n",
    "本讲座描述了**现值模型**，这是许多资产定价理论的起点。\n",
    "\n",
    "资产定价理论是许多经济决策理论的组成部分，包括\n",
    "\n",
    "- 消费  \n",
    "- 劳动力供给  \n",
    "- 教育选择  \n",
    "- 货币需求  \n",
    "\n",
    "\n",
    "在资产定价理论以及更广泛的经济动态研究中，一个基本主题是不同**时间序列**之间的关系。\n",
    "\n",
    "**时间序列**是按时间索引的**序列**。\n",
    "\n",
    "在本讲座中，我们将把序列表示为向量。\n",
    "\n",
    "因此，我们的分析通常归结为研究向量之间的关系。\n",
    "\n",
    "本讲座中的主要工具将是\n",
    "\n",
    "- 矩阵乘法，和  \n",
    "- 矩阵求逆。  \n",
    "\n",
    "\n",
    "我们将在后续的许多讲座中使用这些工具，包括[消费平滑](https://quantecon.github.io/lecture-intro.zh-cn/cons_smooth.html)，[均衡差异模型](https://quantecon.github.io/lecture-intro.zh-cn/equalizing_difference.html)，和[货币主义价格水平理论](https://quantecon.github.io/lecture-intro.zh-cn/cagan_ree.html)。\n",
    "\n",
    "让我们开始吧。"
   ]
  },
  {
   "cell_type": "markdown",
   "id": "5baa057c",
   "metadata": {},
   "source": [
    "## 分析\n",
    "\n",
    "设\n",
    "\n",
    "- $ \\{d_t\\}_{t=0}^T $ 是一系列股息或“支付”  \n",
    "- $ \\{p_t\\}_{t=0}^T $ 是从时间$ t $开始的延续性的资产支付价格序列，即$ \\{d_s\\}_{s=t}^T $  \n",
    "- $ \\delta  \\in (0,1) $ 是一个周期的“折现因子”  \n",
    "- $ p_{T+1}^* $ 是$ T+1 $时资产的终端价格  \n",
    "\n",
    "\n",
    "我们假设股息序列$ \\{d_t\\}_{t=0}^T $和终端价格$ p_{T+1}^* $都是外生的。\n",
    "\n",
    "这意味着它们是在模型之外确定的。\n",
    "\n",
    "假设资产定价方程序列\n",
    "\n",
    "\n",
    "<a id='equation-eq-euler1'></a>\n",
    "$$\n",
    "p_t = d_t + \\delta p_{t+1}, \\quad t = 0, 1, \\ldots , T \\tag{11.1}\n",
    "$$\n",
    "\n",
    "我们称其为方程**序列**，因为有$ T+1 $个方程，每个$ t =0, 1, \\ldots, T $都有一个。\n",
    "\n",
    "方程[(11.1)](#equation-eq-euler1)告诉我们在时间$ t $购买资产所支付的价格等于支付$ d_t $加上时间$ t+1 $的价格乘以时间折现因子$ \\delta $。\n",
    "\n",
    "通过将明天的价格乘以$ \\delta $来折现，考虑了“等待一个周期的价值”。\n",
    "\n",
    "我们想要解$ T+1 $个方程[(11.1)](#equation-eq-euler1)的系统，以资产价格序列$ \\{p_t\\}_{t=0}^T $作为股息序列$ \\{d_t\\}_{t=0}^T $和外生终端价格$ p_{T+1}^* $的函数。\n",
    "\n",
    "像[(11.1)](#equation-eq-euler1)这样的方程系统是线性**差分方程**的一个例子。\n",
    "\n",
    "有许多强大的数学方法可以用来解决这样的系统，这些方法本身就很值得研究，因为它们是分析许多经济模型的基础。\n",
    "\n",
    "例如，参见[Samuelson乘数-加速器](https://dynamics.quantecon.org/samuelson.html)\n",
    "\n",
    "在本讲座中，我们将使用矩阵乘法和矩阵求逆来解决系统[(11.1)](#equation-eq-euler1)，这是线性代数中的基本工具，在[线性方程和矩阵代数](https://quantecon.github.io/lecture-intro.zh-cn/linear_equations.html)中有介绍。\n",
    "\n",
    "我们将导入以下的库"
   ]
  },
  {
   "cell_type": "code",
   "execution_count": null,
   "id": "37c6edfb",
   "metadata": {
    "hide-output": false
   },
   "outputs": [],
   "source": [
    "import numpy as np\n",
    "import matplotlib.pyplot as plt\n",
    "from matplotlib import font_manager\n",
    "fontP = font_manager.FontProperties()\n",
    "fontP.set_family('SimHei')\n",
    "fontP.set_size(14)"
   ]
  },
  {
   "cell_type": "markdown",
   "id": "ca4188fe",
   "metadata": {},
   "source": [
    "## 将序列表示为向量\n",
    "\n",
    "系统[(11.1)](#equation-eq-euler1)中的方程可以如下排列：\n",
    "\n",
    "\n",
    "<a id='equation-eq-euler-stack'></a>\n",
    "$$\n",
    "\\begin{aligned}\n",
    "    p_0 & = d_0 + \\delta p_1 \\\\\n",
    "    p_1 & = d_1 + \\delta p_2 \\\\\n",
    "    \\vdots \\\\\n",
    "    p_{T-1} & = d_{T-1} + \\delta p_T \\\\\n",
    "    p_T & = d_T + \\delta p^*_{T+1}\n",
    "\\end{aligned} \\tag{11.2}\n",
    "$$\n",
    "\n",
    "将$ T+1 $个资产定价方程的系统[(11.2)](#equation-eq-euler-stack)写成单个矩阵方程\n",
    "\n",
    "\n",
    "<a id='equation-eq-pvpieq'></a>\n",
    "$$\n",
    "\\begin{bmatrix} 1 & -\\delta & 0 & 0 & \\cdots & 0 & 0 \\cr\n",
    "                    0 & 1 & -\\delta & 0 & \\cdots & 0 & 0 \\cr\n",
    "                    0 & 0 & 1 & -\\delta & \\cdots & 0 & 0 \\cr\n",
    "                    \\vdots & \\vdots & \\vdots & \\vdots & \\vdots & 0 & 0 \\cr\n",
    "                    0 & 0 & 0 & 0 & \\cdots & 1 & -\\delta \\cr\n",
    "                    0 & 0 & 0 & 0 & \\cdots & 0 & 1 \\end{bmatrix}\n",
    "    \\begin{bmatrix} p_0 \\cr p_1 \\cr p_2 \\cr \\vdots \\cr p_{T-1} \\cr p_T \n",
    "    \\end{bmatrix} \n",
    "    =  \\begin{bmatrix}  \n",
    "    d_0 \\cr d_1 \\cr d_2 \\cr \\vdots \\cr d_{T-1} \\cr d_T\n",
    "    \\end{bmatrix}\n",
    "    + \\begin{bmatrix} \n",
    "    0 \\cr 0 \\cr 0 \\cr \\vdots \\cr 0 \\cr \\delta p_{T+1}^*\n",
    "    \\end{bmatrix} \\tag{11.3}\n",
    "$$"
   ]
  },
  {
   "cell_type": "markdown",
   "id": "6dffa7f8",
   "metadata": {},
   "source": [
    "## Exercise 11.1\n",
    "\n",
    "手动用矩阵乘法对[(11.3)](#equation-eq-pvpieq)进行计算，然后用 [(11.2)](#equation-eq-euler-stack)确认。\n",
    "\n",
    "用向量-矩阵表示法，我们可以将系统[(11.3)](#equation-eq-pvpieq)写成\n",
    "\n",
    "\n",
    "<a id='equation-eq-apdb'></a>\n",
    "$$\n",
    "A p = d + b \\tag{11.4}\n",
    "$$\n",
    "\n",
    "这里$ A $是方程[(11.3)](#equation-eq-pvpieq)左侧的矩阵，而\n",
    "\n",
    "$$\n",
    "p = \n",
    "    \\begin{bmatrix}\n",
    "        p_0 \\\\\n",
    "        p_1 \\\\\n",
    "        \\vdots \\\\\n",
    "        p_T\n",
    "    \\end{bmatrix},\n",
    "    \\quad\n",
    "    d = \n",
    "    \\begin{bmatrix}\n",
    "        d_0 \\\\\n",
    "        d_1 \\\\\n",
    "        \\vdots \\\\\n",
    "        d_T\n",
    "    \\end{bmatrix},\n",
    "    \\quad \\text{and} \\quad\n",
    "    b = \n",
    "    \\begin{bmatrix}\n",
    "        0 \\\\\n",
    "        0 \\\\\n",
    "        \\vdots \\\\\n",
    "        p^*_{T+1}\n",
    "    \\end{bmatrix}\n",
    "$$\n",
    "\n",
    "价格向量的解是\n",
    "\n",
    "\n",
    "<a id='equation-eq-apdb-sol'></a>\n",
    "$$\n",
    "p = A^{-1}(d + b) \\tag{11.5}\n",
    "$$\n",
    "\n",
    "例如，假设股息流是\n",
    "\n",
    "$$\n",
    "d_{t+1} = 1.05 d_t, \\quad t = 0, 1, \\ldots , T-1.\n",
    "$$\n",
    "\n",
    "让我们编写Python代码来计算和绘制股息流。"
   ]
  },
  {
   "cell_type": "code",
   "execution_count": null,
   "id": "ef243345",
   "metadata": {
    "hide-output": false
   },
   "outputs": [],
   "source": [
    "import matplotlib as mpl\n",
    "FONTPATH = \"fonts/SourceHanSerifSC-SemiBold.otf\"\n",
    "mpl.font_manager.fontManager.addfont(FONTPATH)\n",
    "plt.rcParams['font.family'] = ['Source Han Serif SC']\n",
    "\n",
    "T = 6\n",
    "current_d = 1.0\n",
    "d = []\n",
    "for t in range(T+1):\n",
    "    d.append(current_d)\n",
    "    current_d = current_d * 1.05 \n",
    "\n",
    "fig, ax = plt.subplots()\n",
    "ax.plot(d, 'o', label='股息')\n",
    "ax.legend()\n",
    "ax.set_xlabel('时间')\n",
    "plt.show()"
   ]
  },
  {
   "cell_type": "markdown",
   "id": "9788fe33",
   "metadata": {},
   "source": [
    "现在让我们来计算和绘制资产价格。\n",
    "\n",
    "我们将 $ \\delta $ 和 $ p_{T+1}^* $ 设定为"
   ]
  },
  {
   "cell_type": "code",
   "execution_count": null,
   "id": "87e5e31a",
   "metadata": {
    "hide-output": false
   },
   "outputs": [],
   "source": [
    "δ = 0.99\n",
    "p_star = 10.0"
   ]
  },
  {
   "cell_type": "markdown",
   "id": "86aa8e67",
   "metadata": {},
   "source": [
    "现在我们建立矩阵 $ A $"
   ]
  },
  {
   "cell_type": "code",
   "execution_count": null,
   "id": "8f711dc7",
   "metadata": {
    "hide-output": false
   },
   "outputs": [],
   "source": [
    "A = np.zeros((T+1, T+1))\n",
    "for i in range(T+1):\n",
    "    for j in range(T+1):\n",
    "        if i == j:\n",
    "            A[i, j] = 1\n",
    "            if j < T:\n",
    "                A[i, j+1] = -δ"
   ]
  },
  {
   "cell_type": "markdown",
   "id": "9189f618",
   "metadata": {},
   "source": [
    "让我们将矩阵 $ A $ 打印出来："
   ]
  },
  {
   "cell_type": "code",
   "execution_count": null,
   "id": "59c362a1",
   "metadata": {
    "hide-output": false
   },
   "outputs": [],
   "source": [
    "A"
   ]
  },
  {
   "cell_type": "markdown",
   "id": "c1aa1246",
   "metadata": {},
   "source": [
    "现在用 [(11.5)](#equation-eq-apdb-sol)来求解价格。"
   ]
  },
  {
   "cell_type": "code",
   "execution_count": null,
   "id": "21b3617a",
   "metadata": {
    "hide-output": false
   },
   "outputs": [],
   "source": [
    "b = np.zeros(T+1)\n",
    "b[-1] = δ * p_star\n",
    "p = np.linalg.solve(A, d + b)\n",
    "fig, ax = plt.subplots()\n",
    "ax.plot(p, 'o', label='资产价格')\n",
    "ax.legend()\n",
    "ax.set_xlabel('时间')\n",
    "plt.show()"
   ]
  },
  {
   "cell_type": "markdown",
   "id": "fd7188da",
   "metadata": {},
   "source": [
    "现在让我们考虑一个周期性增长的股息序列：\n",
    "\n",
    "$$\n",
    "d_{t+1} = 1.01 d_t + 0.1 \\sin t, \\quad t = 0, 1, \\ldots , T-1.\n",
    "$$"
   ]
  },
  {
   "cell_type": "code",
   "execution_count": null,
   "id": "49e532bd",
   "metadata": {
    "hide-output": false
   },
   "outputs": [],
   "source": [
    "T = 100\n",
    "current_d = 1.0\n",
    "d = []\n",
    "for t in range(T+1):\n",
    "    d.append(current_d)\n",
    "    current_d = current_d * 1.01 + 0.1 * np.sin(t)\n",
    "\n",
    "fig, ax = plt.subplots()\n",
    "ax.plot(d, 'o-', ms=4, alpha=0.8, label='股息')\n",
    "ax.legend()\n",
    "ax.set_xlabel('时间')\n",
    "plt.show()"
   ]
  },
  {
   "cell_type": "markdown",
   "id": "95dca480",
   "metadata": {},
   "source": [
    "## Exercise 11.2\n",
    "\n",
    "当$ p^*_{T+1} = 0 $ 和 $ \\delta = 0.98 $ 时，计算相对应的价格序列。"
   ]
  },
  {
   "cell_type": "markdown",
   "id": "db9a1f0b",
   "metadata": {},
   "source": [
    "## Solution to[ Exercise 11.2](https://quantecon.github.io/lecture-intro.zh-cn/#pv_ex_cyc)\n",
    "\n",
    "我们改变之前的参数和矩阵$ A $。"
   ]
  },
  {
   "cell_type": "code",
   "execution_count": null,
   "id": "7adcd8f1",
   "metadata": {
    "hide-output": false
   },
   "outputs": [],
   "source": [
    "δ = 0.98\n",
    "p_star = 0.0\n",
    "A = np.zeros((T+1, T+1))\n",
    "for i in range(T+1):\n",
    "    for j in range(T+1):\n",
    "        if i == j:\n",
    "            A[i, j] = 1\n",
    "            if j < T:\n",
    "                A[i, j+1] = -δ\n",
    "\n",
    "b = np.zeros(T+1)\n",
    "b[-1] = δ * p_star\n",
    "p = np.linalg.solve(A, d + b)\n",
    "fig, ax = plt.subplots()\n",
    "ax.plot(p, 'o-', ms=4, alpha=0.8, label='资产价格')\n",
    "ax.legend()\n",
    "ax.set_xlabel('时间')\n",
    "plt.show()"
   ]
  },
  {
   "cell_type": "markdown",
   "id": "22a98d69",
   "metadata": {},
   "source": [
    "与现值计算相关的加权平均在很大程度上消除了周期。"
   ]
  },
  {
   "cell_type": "markdown",
   "id": "35ee2ca7",
   "metadata": {},
   "source": [
    "## 解析表达式\n",
    "\n",
    "根据逆矩阵定理，当$ A B $是单位矩阵时，矩阵$ B $是$ A $的逆矩阵。\n",
    "\n",
    "可以验证，[(11.3)](#equation-eq-pvpieq)中的矩阵$ A $的逆矩阵是\n",
    "\n",
    "\n",
    "<a id='equation-eq-ainv'></a>\n",
    "$$\n",
    "A^{-1} = \n",
    "    \\begin{bmatrix}\n",
    "        1 & \\delta & \\delta^2 & \\cdots & \\delta^{T-1} & \\delta^T \\cr\n",
    "        0 & 1 & \\delta & \\cdots & \\delta^{T-2} & \\delta^{T-1} \\cr\n",
    "        \\vdots & \\vdots & \\vdots & \\cdots & \\vdots & \\vdots \\cr\n",
    "        0 & 0 & 0 & \\cdots & 1  & \\delta \\cr\n",
    "        0 & 0 & 0 & \\cdots & 0 & 1 \\cr\n",
    "    \\end{bmatrix} \\tag{11.6}\n",
    "$$"
   ]
  },
  {
   "cell_type": "markdown",
   "id": "fa0e77c7",
   "metadata": {},
   "source": [
    "## Exercise 11.3\n",
    "\n",
    "通过证明$ AA^{-1} $为单位矩阵来验证这一点。\n",
    "\n",
    "如果我们在 [(11.5)](#equation-eq-apdb-sol) 中使用表达式 [(11.6)](#equation-eq-ainv) 并执行所指示的矩阵乘法，我们将发现\n",
    "\n",
    "\n",
    "<a id='equation-eq-ptpveq'></a>\n",
    "$$\n",
    "p_t =  \\sum_{s=t}^T \\delta^{s-t} d_s +  \\delta^{T+1-t} p_{T+1}^* \\tag{11.7}\n",
    "$$\n",
    "\n",
    "定价公式 [(11.7)](#equation-eq-ptpveq) 表明资产价格 $ p_t $ 由两个组成部分相加得到：\n",
    "\n",
    "- **基本面部分** $ \\sum_{s=t}^T \\delta^{s-t} d_s $，它等于预期股息的**贴现现值**  \n",
    "- **泡沫组成部分** $ \\delta^{T+1-t} p_{T+1}^* $  \n",
    "\n",
    "\n",
    "基本组成部分由贴现因子 $ \\delta $ 和资产的支付（在这种情况下为股息）确定。\n",
    "\n",
    "泡沫组成部分是其中不由基本面决定的价格部分。\n",
    "\n",
    "有时将泡沫组成部分重写为\n",
    "\n",
    "$$\n",
    "c \\delta^{-t}\n",
    "$$\n",
    "\n",
    "更为方便，其中\n",
    "\n",
    "$$\n",
    "c \\equiv \\delta^{T+1}p_{T+1}^*\n",
    "$$"
   ]
  },
  {
   "cell_type": "markdown",
   "id": "821e5845",
   "metadata": {},
   "source": [
    "## 关于泡沫的更多内容\n",
    "\n",
    "让我们暂时考虑一个从不支付股息的资产这个特殊情况，在这种情况下\n",
    "\n",
    "$$\n",
    "\\begin{bmatrix}  \n",
    "d_0 \\cr d_1 \\cr d_2 \\cr \\vdots \\cr d_{T-1} \\cr d_T\n",
    "\\end{bmatrix} = \n",
    "\\begin{bmatrix}  \n",
    "0 \\cr 0 \\cr 0 \\cr \\vdots \\cr 0 \\cr 0\n",
    "\\end{bmatrix}\n",
    "$$\n",
    "\n",
    "在这种情况下，我们的 $ T+1 $ 资产定价方程系统 [(11.1)](#equation-eq-euler1) 采用以下单一矩阵方程的形式：\n",
    "\n",
    "\n",
    "<a id='equation-eq-pieq2'></a>\n",
    "$$\n",
    "\\begin{bmatrix} 1 & -\\delta & 0 & 0 & \\cdots & 0 & 0 \\cr\n",
    "                0 & 1 & -\\delta & 0 & \\cdots & 0 & 0 \\cr\n",
    "                0 & 0 & 1 & -\\delta & \\cdots & 0 & 0 \\cr\n",
    "                \\vdots & \\vdots & \\vdots & \\vdots & \\vdots & 0 & 0 \\cr\n",
    "                0 & 0 & 0 & 0 & \\cdots & 1 & -\\delta \\cr\n",
    "                0 & 0 & 0 & 0 & \\cdots & 0 & 1 \\end{bmatrix}\n",
    "\\begin{bmatrix} p_0 \\cr p_1 \\cr p_2 \\cr \\vdots \\cr p_{T-1} \\cr p_T \n",
    "\\end{bmatrix}  =\n",
    "\\begin{bmatrix} \n",
    "0 \\cr 0 \\cr 0 \\cr \\vdots \\cr 0 \\cr \\delta p_{T+1}^*\n",
    "\\end{bmatrix} \\tag{11.8}\n",
    "$$\n",
    "\n",
    "显然，如果 $ p_{T+1}^* = 0 $，一个所有元素为零的价格向量 $ p $ 可以解这个方程，此时我们定价公式 [(11.7)](#equation-eq-ptpveq) 中只有**基本面**成分存在。\n",
    "\n",
    "但让我们通过设置以下条件来激活**泡沫**成分：\n",
    "\n",
    "\n",
    "<a id='equation-eq-eqbubbleterm'></a>\n",
    "$$\n",
    "p_{T+1}^* = c \\delta^{-(T+1)} \\tag{11.9}\n",
    "$$\n",
    "\n",
    "其中 $ c $ 为某个正数。\n",
    "\n",
    "在这种情况下，当我们用方程 [(11.6)](#equation-eq-ainv) 中的矩阵 $ A^{-1} $ 乘以 [(11.8)](#equation-eq-pieq2) 的两边时，我们发现：\n",
    "\n",
    "\n",
    "<a id='equation-eq-bubble'></a>\n",
    "$$\n",
    "p_t = c \\delta^{-t} \\tag{11.10}\n",
    "$$"
   ]
  },
  {
   "cell_type": "markdown",
   "id": "42a53818",
   "metadata": {},
   "source": [
    "## 总回报率\n",
    "\n",
    "定义从 $ t $ 期到 $ t+1 $ 期持有资产的总回报率为：\n",
    "\n",
    "\n",
    "<a id='equation-eq-rateofreturn'></a>\n",
    "$$\n",
    "R_t = \\frac{p_{t+1}}{p_t} \\tag{11.11}\n",
    "$$\n",
    "\n",
    "将方程 [(11.10)](#equation-eq-bubble) 代入方程 [(11.11)](#equation-eq-rateofreturn) 可以确认，一个价值完全来源于泡沫的资产的总回报率为：\n",
    "\n",
    "$$\n",
    "R_t = \\delta^{-1} > 1 , t = 0, 1, \\ldots, T\n",
    "$$"
   ]
  },
  {
   "cell_type": "markdown",
   "id": "d3685591",
   "metadata": {},
   "source": [
    "## 练习"
   ]
  },
  {
   "cell_type": "markdown",
   "id": "2be151a3",
   "metadata": {},
   "source": [
    "## Exercise 11.4\n",
    "\n",
    "给出以下 $ d $ 和 $ p_{T+1}^* $ 设置下资产价格 $ p_t $ 的分析表达式：\n",
    "\n",
    "1. $ p_{T+1}^* = 0, d_t = g^t d_0 $（戈登增长公式的修改版）  \n",
    "1. $ p_{T+1}^* = g^{T+1} d_0, d_t = g^t d_0 $（普通的戈登增长公式）  \n",
    "1. $ p_{T+1}^* = 0, d_t = 0 $（一个无价值股票的价格）  \n",
    "1. $ p_{T+1}^* = c \\delta^{-(T+1)}, d_t = 0 $（一个纯泡沫股票的价格）  "
   ]
  },
  {
   "cell_type": "markdown",
   "id": "d653a769",
   "metadata": {},
   "source": [
    "## Solution to[ Exercise 11.4](https://quantecon.github.io/lecture-intro.zh-cn/#pv_ex_a)\n",
    "\n",
    "将上述每对 $ p_{T+1}^*, d_t $ 代入方程 [(11.7)](#equation-eq-ptpveq) 得到：\n",
    "\n",
    "1. $ p_t = \\sum^T_{s=t} \\delta^{s-t} g^s d_0 $  \n",
    "1. $ p_t = \\sum^T_{s=t} \\delta^{s-t} g^s d_0 + \\delta^{T+1-t} g^{T+1} d_0 $  \n",
    "1. $ p_t = 0 $  \n",
    "1. $ p_t = c \\delta^{-t} $  "
   ]
  }
 ],
 "metadata": {
  "date": 1742374752.9528282,
  "filename": "pv.md",
  "kernelspec": {
   "display_name": "Python",
   "language": "python3",
   "name": "python3"
  },
  "title": "现值"
 },
 "nbformat": 4,
 "nbformat_minor": 5
}