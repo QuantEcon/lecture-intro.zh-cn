{
 "cells": [
  {
   "cell_type": "markdown",
   "id": "752948f8",
   "metadata": {},
   "source": [
    "# 收入与财富不平等"
   ]
  },
  {
   "cell_type": "markdown",
   "id": "94a5ea6e",
   "metadata": {},
   "source": [
    "## 概览\n",
    "\n",
    "在[长期增长](https://quantecon.github.io/lecture-intro.zh-cn/long_run_growth.html) 中，我们研究了在某些国家和地区，人均国内生产总值是如何变化的。\n",
    "\n",
    "人均 GDP 很重要，我们能通过这一经济指标了解到某个特定国家的家庭平均收入。\n",
    "\n",
    "然而，当我们研究收入和财富问题时，平均数只是其中的一个方面。"
   ]
  },
  {
   "cell_type": "markdown",
   "id": "474120d4",
   "metadata": {},
   "source": [
    "## \n",
    "\n",
    "例如，假设有两个社会，每个社会都有 100 万人，其中\n",
    "\n",
    "- 在第一个社会中，一个人的年收入是 \\$100,000,000，其他人的年收入为零。  \n",
    "- 在第二个社会中，每个人的年收入都是 100 美元  \n",
    "\n",
    "\n",
    "这些国家的人均收入相同（平均收入为 100 美元），但人民的生活却大不相同（例如，在第一个社会中，尽管有一个人非常富有, 但是几乎每个人都在挨饿）。\n",
    "\n",
    "上面的例子表明，我们在研究收入和财富问题时，不应该仅仅局限于简单的平均数。\n",
    "\n",
    "这就引出了经济不平等的话题，即研究收入和财富（以及其他资源的数量）如何在人口中分配的话题。\n",
    "\n",
    "在本讲中，我们将研究不平等问题。\n",
    "\n",
    "我们首先探讨不平等的衡量标准，然后将其应用于美国和其他国家的财富和收入数据。"
   ]
  },
  {
   "cell_type": "markdown",
   "id": "b53bf217",
   "metadata": {},
   "source": [
    "### 一些历史\n",
    "\n",
    "许多历史学家认为，在罗马共和国衰落这一历史事件中，不平等这一问题起到了重要作用（参见[[Levitt, 2019](https://quantecon.github.io/lecture-intro.zh-cn/zreferences.html#id7)]等）。\n",
    "\n",
    "罗马打败了迦太基，并入侵了西班牙，在这之后，资金从帝国各地流入罗马，掌权者变得极为富有。\n",
    "\n",
    "但与此同时，普通公民却从农业生产中被抽调出来，进行长期作战，这使得他们的财富不断减少。\n",
    "\n",
    "由此导致的持续加剧的不平等成为罗马共和国政治动荡背后的重要驱动因素，深深地动摇了共和国的根基。\n",
    "\n",
    "最终，罗马共和国让位于从公元前 27 年的[屋大维](https://en.wikipedia.org/wiki/Augustus)（奥古斯都）开始的一系列独裁政权。\n",
    "\n",
    "这段历史告诉我们，不平等问题很关键，它可以推动世界的重大事件发生。\n",
    "\n",
    "当然还有其他原因使得不平等问题很关键，比如它如何影响人类福祉。\n",
    "\n",
    "基于这些原因，我们开始思考什么是不平等，以及如何量化和分析不平等。"
   ]
  },
  {
   "cell_type": "markdown",
   "id": "d36d87a9",
   "metadata": {},
   "source": [
    "### 测量\n",
    "\n",
    "在政界和大众媒体中，“不平等 ”一词的使用往往相当宽泛，没有任何确切的定义。\n",
    "\n",
    "我们必须从严谨的定义出发，从科学的角度来看待不平等这一话题。\n",
    "\n",
    "因此，我们首先讨论经济研究中衡量不平等的方法。\n",
    "\n",
    "我们需要安装以下的Python包"
   ]
  },
  {
   "cell_type": "code",
   "execution_count": null,
   "id": "69b1d28d",
   "metadata": {
    "hide-output": false
   },
   "outputs": [],
   "source": [
    "!pip install wbgapi plotly"
   ]
  },
  {
   "cell_type": "markdown",
   "id": "0144678f",
   "metadata": {},
   "source": [
    "我们还将使用以下导入。"
   ]
  },
  {
   "cell_type": "code",
   "execution_count": null,
   "id": "5439e742",
   "metadata": {
    "hide-output": false
   },
   "outputs": [],
   "source": [
    "import pandas as pd\n",
    "import numpy as np\n",
    "import matplotlib.pyplot as plt\n",
    "import random as rd\n",
    "import wbgapi as wb\n",
    "import plotly.express as px\n",
    "\n",
    "import matplotlib as mpl\n",
    "FONTPATH = \"fonts/SourceHanSerifSC-SemiBold.otf\"\n",
    "mpl.font_manager.fontManager.addfont(FONTPATH)\n",
    "plt.rcParams['font.family'] = ['Source Han Serif SC']"
   ]
  },
  {
   "cell_type": "markdown",
   "id": "c7f45f94",
   "metadata": {},
   "source": [
    "## 洛伦兹曲线\n",
    "\n",
    "洛伦兹曲线是衡量不平等的一个常用指标。\n",
    "\n",
    "在本节中，我们将讨论洛伦兹曲线的定义和性质。"
   ]
  },
  {
   "cell_type": "markdown",
   "id": "a169aad9",
   "metadata": {},
   "source": [
    "### 定义\n",
    "\n",
    "洛伦兹曲线选取一个样本 $ w_1，\\ldots，w_n $，并生成一条曲线 $ L $。\n",
    "\n",
    "我们假设样本从小到大排序。\n",
    "\n",
    "为了便于解释，假设样本衡量的是财富\n",
    "\n",
    "- $ w_1 $ 是人口中最贫穷成员的财富，而  \n",
    "- $ w_n $ 是人口中最富有成员的财富。  \n",
    "\n",
    "\n",
    "曲线 $ L $ 就是我们可以绘制和解释的函数 $ y = L(x) $。\n",
    "\n",
    "要绘制这条曲线，我们首先要根据以下公式生成数据点 $ (x_i，y_i) $"
   ]
  },
  {
   "cell_type": "markdown",
   "id": "2a0cbb46",
   "metadata": {},
   "source": [
    "### \n",
    "\n",
    "$$\n",
    "x_i = \\frac{i}{n},\n",
    "\\qquad\n",
    "y_i = \\frac{\\sum_{j \\leq i} w_j}{\\sum_{j \\leq n} w_j},\n",
    "\\qquad i = 1, \\ldots, n\n",
    "$$\n",
    "\n",
    "现在，根据这些数据点，我们用插值法绘制得到洛伦兹曲线 $ L $。\n",
    "\n",
    "如果我们使用 `matplotlib` 中的线形图，它将自动帮我们完成插值。\n",
    "\n",
    "洛伦兹曲线 $ y = L(x) $ 的含义是，最底层的 $ (100 \\times x $ % 的人拥有$ （100 \\times y） $% 的财富。\n",
    "\n",
    "- 如果 $ x=0.5 $，$ y=0.1 $，那么最底层的 50%人口拥有 10%的财富。  \n",
    "\n",
    "\n",
    "在上面的讨论中，我们重点讨论了财富，但同样的观点也适用于收入、消费等。"
   ]
  },
  {
   "cell_type": "markdown",
   "id": "44027179",
   "metadata": {},
   "source": [
    "### 洛伦兹曲线的模拟数据\n",
    "\n",
    "让我们来看一些例子，并加强理解。\n",
    "\n",
    "首先，让我们构建一个可以在下面模拟中使用的 `lorenz_curve` 函数。\n",
    "\n",
    "构造这样一个函数很有用，因为它能将收入或财富数据的数组转换为个人（或家庭）的累积份额和收入（或财富）的累积份额。"
   ]
  },
  {
   "cell_type": "code",
   "execution_count": null,
   "id": "4889d9b5",
   "metadata": {
    "hide-output": false
   },
   "outputs": [],
   "source": [
    "def lorenz_curve(y):\n",
    "    \"\"\"\n",
    "    计算洛伦兹曲线，这是收入或财富分配的图形表示。\n",
    "\n",
    "    它返回人口累积份额（x轴）和赚取的收入的累积份额。\n",
    "\n",
    "    参数\n",
    "    ----------\n",
    "    y : array_like(float or int, ndim=1)\n",
    "        每个个体的收入/财富数组。\n",
    "        无序或有序皆可。\n",
    "\n",
    "    返回值\n",
    "    -------\n",
    "    cum_people : array_like(float, ndim=1)\n",
    "        每个人的人口累积份额指数（i/n）\n",
    "    cum_income : array_like(float, ndim=1)\n",
    "        每个人的收入累积份额指数\n",
    "\n",
    "\n",
    "    参考文献\n",
    "    ----------\n",
    "    .. [1] https://en.wikipedia.org/wiki/Lorenz_curve\n",
    "\n",
    "    示例\n",
    "    --------\n",
    "    >>> a_val, n = 3, 10_000\n",
    "    >>> y = np.random.pareto(a_val, size=n)\n",
    "    >>> f_vals, l_vals = lorenz(y)\n",
    "\n",
    "    \"\"\"\n",
    "\n",
    "    n = len(y)\n",
    "    y = np.sort(y)\n",
    "    s = np.zeros(n + 1)\n",
    "    s[1:] = np.cumsum(y)\n",
    "    cum_people = np.zeros(n + 1)\n",
    "    cum_income = np.zeros(n + 1)\n",
    "    for i in range(1, n + 1):\n",
    "        cum_people[i] = i / n\n",
    "        cum_income[i] = s[i] / s[n]\n",
    "    return cum_people, cum_income"
   ]
  },
  {
   "cell_type": "markdown",
   "id": "fd6ac550",
   "metadata": {},
   "source": [
    "在下图中，我们从对数正态分布中生成了 $ n=2000 $ 个样本，并将这些样本视为我们的总体。\n",
    "\n",
    "其中45 度线（对于所有 $ x $，$ x=L(x) $）对应于完全平等的情况。\n",
    "\n",
    "对数正态分布的样本产生了一个不那么平等的分布。\n",
    "\n",
    "例如，如果我们将这些样本看作是家庭财富的观测值，那么虚线表明，底层 80% 的家庭仅拥有总财富的 40% 多一点。"
   ]
  },
  {
   "cell_type": "code",
   "execution_count": null,
   "id": "aad3caeb",
   "metadata": {
    "hide-output": false
   },
   "outputs": [],
   "source": [
    "n = 2000\n",
    "sample = np.exp(np.random.randn(n))\n",
    "\n",
    "fig, ax = plt.subplots()\n",
    "\n",
    "f_vals, l_vals = lorenz_curve(sample)\n",
    "ax.plot(f_vals, l_vals, label='对数正态样本', lw=2)\n",
    "ax.plot(f_vals, f_vals, label='平等', lw=2)\n",
    "\n",
    "ax.vlines([0.8], [0.0], [0.43], alpha=0.5, colors='k', ls='--')\n",
    "ax.hlines([0.43], [0], [0.8], alpha=0.5, colors='k', ls='--')\n",
    "ax.set_xlim((0, 1))\n",
    "ax.set_xlabel(\"家庭份额\")\n",
    "ax.set_ylim((0, 1))\n",
    "ax.set_ylabel(\"财富份额\")\n",
    "ax.legend()\n",
    "plt.show()"
   ]
  },
  {
   "cell_type": "markdown",
   "id": "56f5e780",
   "metadata": {},
   "source": [
    "### 洛伦兹曲线（美国数据）\n",
    "\n",
    "接下来，我们来看一看美国的收入数据和财富数据。\n",
    "\n",
    "\n",
    "<a id='data-survey-consumer-finance'></a>\n",
    "下面的代码导入了2016年的`SCF_plus`数据集的一个子集，\n",
    "该数据集来源于[消费者财务调查](https://en.wikipedia.org/wiki/Survey_of_Consumer_Finances)（SCF）。"
   ]
  },
  {
   "cell_type": "code",
   "execution_count": null,
   "id": "17c11944",
   "metadata": {
    "hide-output": false
   },
   "outputs": [],
   "source": [
    "url = 'https://github.com/QuantEcon/high_dim_data/raw/main/SCF_plus/SCF_plus_mini.csv'\n",
    "df = pd.read_csv(url)\n",
    "df_income_wealth = df.dropna()"
   ]
  },
  {
   "cell_type": "code",
   "execution_count": null,
   "id": "36f43b39",
   "metadata": {
    "hide-output": false
   },
   "outputs": [],
   "source": [
    "df_income_wealth.head(n=5)"
   ]
  },
  {
   "cell_type": "markdown",
   "id": "8442559a",
   "metadata": {},
   "source": [
    "接下来我们用存储在数据框 `df_income_wealth` 中的数据来生成洛伦兹曲线。\n",
    "\n",
    "（接下来的代码会稍微复杂一些，因为我们需要根据 SCF 提供的人口权重来调整数据。）"
   ]
  },
  {
   "cell_type": "code",
   "execution_count": null,
   "id": "2c46c9d0",
   "metadata": {
    "hide-output": false
   },
   "outputs": [],
   "source": [
    "df = df_income_wealth \n",
    "\n",
    "varlist = ['n_wealth',    # 净财富\n",
    "           't_income',    # 总收入\n",
    "           'l_income']    # 劳动收入\n",
    "\n",
    "years = df.year.unique()\n",
    "\n",
    "# 创建列表储存洛伦兹曲线数据\n",
    "\n",
    "F_vals, L_vals = [], []\n",
    "\n",
    "for var in varlist:\n",
    "    # 创建列表储存洛伦兹曲线数据\n",
    "    f_vals = []\n",
    "    l_vals = []\n",
    "    for year in years:\n",
    "\n",
    "        # 根据他们的权重来重复这些观测值\n",
    "        counts = list(round(df[df['year'] == year]['weights'] )) \n",
    "        y = df[df['year'] == year][var].repeat(counts)\n",
    "        y = np.asarray(y)\n",
    "        \n",
    "        # 打乱y的序列来改善图形形状\n",
    "        rd.shuffle(y)    \n",
    "               \n",
    "        # 计算并储存洛伦兹曲线数据\n",
    "        f_val, l_val = lorenz_curve(y)\n",
    "        f_vals.append(f_val)\n",
    "        l_vals.append(l_val)\n",
    "        \n",
    "    F_vals.append(f_vals)\n",
    "    L_vals.append(l_vals)\n",
    "\n",
    "f_vals_nw, f_vals_ti, f_vals_li = F_vals\n",
    "l_vals_nw, l_vals_ti, l_vals_li = L_vals"
   ]
  },
  {
   "cell_type": "markdown",
   "id": "018ed6d4",
   "metadata": {},
   "source": [
    "现在我们绘制2016年美国的净财富、总收入和劳动收入的洛伦兹曲线。\n",
    "\n",
    "总收入是家庭所有收入来源的总和，包括劳动收入但不包括资本收益。\n",
    "\n",
    "(所有收入均用税前收入衡量。)"
   ]
  },
  {
   "cell_type": "code",
   "execution_count": null,
   "id": "ea1987f6",
   "metadata": {
    "hide-output": false
   },
   "outputs": [],
   "source": [
    "fig, ax = plt.subplots()\n",
    "ax.plot(f_vals_nw[-1], l_vals_nw[-1], label=f'净财富')\n",
    "ax.plot(f_vals_ti[-1], l_vals_ti[-1], label=f'总收入')\n",
    "ax.plot(f_vals_li[-1], l_vals_li[-1], label=f'劳动收入')\n",
    "ax.plot(f_vals_nw[-1], f_vals_nw[-1], label=f'平等')\n",
    "ax.set_xlabel(\"家庭份额\")\n",
    "ax.set_ylabel(\"收入/财富份额\")\n",
    "ax.legend()\n",
    "plt.show()"
   ]
  },
  {
   "cell_type": "markdown",
   "id": "7c6f9c9c",
   "metadata": {},
   "source": [
    "从图中可以得到一个关键发现，财富不平等比收入不平等更为极端。"
   ]
  },
  {
   "cell_type": "markdown",
   "id": "08acce9e",
   "metadata": {},
   "source": [
    "## 基尼系数\n",
    "\n",
    "洛伦兹曲线提供了不平等分布的可视化表示。\n",
    "\n",
    "另一种研究收入和财富不平等的方法是通过基尼系数。\n",
    "\n",
    "在本节中，我们讨论基尼系数及其与洛伦兹曲线的关系。"
   ]
  },
  {
   "cell_type": "markdown",
   "id": "45b7a659",
   "metadata": {},
   "source": [
    "### 定义\n",
    "\n",
    "如前所述，假设样本 $ w_1, \\ldots, w_n $ 已按从小到大的顺序排列。\n",
    "\n",
    "基尼系数的定义如下"
   ]
  },
  {
   "cell_type": "markdown",
   "id": "8748dc7b",
   "metadata": {},
   "source": [
    "### \n",
    "\n",
    "$$\n",
    "G :=\n",
    "\\frac{\\sum_{i=1}^n \\sum_{j = 1}^n |w_j - w_i|}\n",
    "     {2n\\sum_{i=1}^n w_i}.\n",
    "$$\n",
    "\n",
    "基尼系数与洛伦兹曲线密切相关。\n",
    "\n",
    "事实上，我们可以证明基尼系数的值是平等线与洛伦兹曲线之间面积的两倍（例如，Fig. 6.3 中的阴影区域）。\n",
    "\n",
    "其思想是，$ G=0 $ 表示完全平等，而 $ G=1 $ 表示完全不平等。"
   ]
  },
  {
   "cell_type": "code",
   "execution_count": null,
   "id": "668cb825",
   "metadata": {
    "hide-output": false
   },
   "outputs": [],
   "source": [
    "fig, ax = plt.subplots()\n",
    "f_vals, l_vals = lorenz_curve(sample)\n",
    "ax.plot(f_vals, l_vals, label=f'对数正态样本', lw=2)\n",
    "ax.plot(f_vals, f_vals, label='平等线', lw=2)\n",
    "ax.fill_between(f_vals, l_vals, f_vals, alpha=0.06)\n",
    "ax.set_ylim((0, 1))\n",
    "ax.set_xlim((0, 1))\n",
    "ax.text(0.04, 0.5, r'$G = 2 \\times$ 阴影区域')\n",
    "ax.set_xlabel(\"家庭份额 (%)\")\n",
    "ax.set_ylabel(\"财富份额 (%)\")\n",
    "ax.legend()\n",
    "plt.show()"
   ]
  },
  {
   "cell_type": "markdown",
   "id": "f06ad134",
   "metadata": {},
   "source": [
    "基尼系数还可以表示为\n",
    "\n",
    "$$\n",
    "G = \\frac{A}{A+B}\n",
    "$$\n",
    "\n",
    "其中 $ A $ 是45度的完美平等线与洛伦兹曲线之间的区域的面积，$ B $ 是洛伦兹曲线以下的区域的面积 —— 参见 Fig. 6.4。"
   ]
  },
  {
   "cell_type": "code",
   "execution_count": null,
   "id": "6644b3b5",
   "metadata": {
    "hide-output": false
   },
   "outputs": [],
   "source": [
    "fig, ax = plt.subplots()\n",
    "f_vals, l_vals = lorenz_curve(sample)\n",
    "ax.plot(f_vals, l_vals, label='对数正态样本', lw=2)\n",
    "ax.plot(f_vals, f_vals, label='平等线', lw=2)\n",
    "ax.fill_between(f_vals, l_vals, f_vals, alpha=0.06)\n",
    "ax.fill_between(f_vals, l_vals, np.zeros_like(f_vals), alpha=0.06)\n",
    "ax.set_ylim((0, 1))\n",
    "ax.set_xlim((0, 1))\n",
    "ax.text(0.55, 0.4, 'A')\n",
    "ax.text(0.75, 0.15, 'B')\n",
    "ax.set_xlabel(\"家庭份额\")\n",
    "ax.set_ylabel(\"财富份额\")\n",
    "ax.legend()\n",
    "plt.show()"
   ]
  },
  {
   "cell_type": "markdown",
   "id": "254b149f",
   "metadata": {},
   "source": [
    "在全球数据网站 (Our World in Data) 上有一个用图表阐述[洛伦兹曲线和基尼系数](https://ourworldindata.org/what-is-the-gini-coefficient)的网页"
   ]
  },
  {
   "cell_type": "markdown",
   "id": "3de2977a",
   "metadata": {},
   "source": [
    "### 模拟数据的基尼系数\n",
    "\n",
    "让我们通过一些模拟数据来研究基尼系数。\n",
    "\n",
    "下面的代码将从样本中计算基尼系数。\n",
    "\n",
    "\n",
    "<a id='code-gini-coefficient'></a>"
   ]
  },
  {
   "cell_type": "code",
   "execution_count": null,
   "id": "45f0d555",
   "metadata": {
    "hide-output": false
   },
   "outputs": [],
   "source": [
    "def gini_coefficient(y):\n",
    "    r\"\"\"\n",
    "    基尼不平等指数\n",
    "\n",
    "    参数\n",
    "    ----------\n",
    "    y : array_like(float)\n",
    "        每个个体的收入/财富数组。\n",
    "        排序与否均可\n",
    "\n",
    "    返回值\n",
    "    -------\n",
    "    基尼指数: float\n",
    "        描述收入/财富数组不平等的基尼指数\n",
    "\n",
    "    参考资料\n",
    "    ----------\n",
    "\n",
    "    https://en.wikipedia.org/wiki/Gini_coefficient\n",
    "    \"\"\"\n",
    "    n = len(y)\n",
    "    i_sum = np.zeros(n)\n",
    "    for i in range(n):\n",
    "        for j in range(n):\n",
    "            i_sum[i] += abs(y[i] - y[j])\n",
    "    return np.sum(i_sum) / (2 * n * np.sum(y))"
   ]
  },
  {
   "cell_type": "markdown",
   "id": "36e2474e",
   "metadata": {},
   "source": [
    "现在我们可以计算五个不同总体的基尼系数。\n",
    "\n",
    "其中，每个总体都是从参数为 $ \\mu $（均值）和 $ \\sigma $（标准差）的对数正态分布中生成的。\n",
    "\n",
    "为了创建这五个总体，我们在 $ 0.2 $ 到 $ 4 $ 的网格上变化 $ \\sigma $，网格长度为 $ 5 $。\n",
    "\n",
    "在每种情况下，我们都设定 $ \\mu = - \\sigma^2 / 2 $。\n",
    "\n",
    "这意味着分布的均值不会随 $ \\sigma $ 改变。\n",
    "\n",
    "你可以通过查找对数正态分布均值的表达式来验证这一点。"
   ]
  },
  {
   "cell_type": "code",
   "execution_count": null,
   "id": "cd68c88f",
   "metadata": {
    "hide-output": false
   },
   "outputs": [],
   "source": [
    "%%time\n",
    "k = 5\n",
    "σ_vals = np.linspace(0.2, 4, k)\n",
    "n = 2_000\n",
    "\n",
    "ginis = []\n",
    "\n",
    "for σ in σ_vals:\n",
    "    μ = -σ**2 / 2\n",
    "    y = np.exp(μ + σ * np.random.randn(n))\n",
    "    ginis.append(gini_coefficient(y))"
   ]
  },
  {
   "cell_type": "markdown",
   "id": "3f7dc9da",
   "metadata": {},
   "source": [
    "让我们构建一个返回图形的函数（便于我们之后继续使用它）。"
   ]
  },
  {
   "cell_type": "code",
   "execution_count": null,
   "id": "e3e1a2db",
   "metadata": {
    "hide-output": false
   },
   "outputs": [],
   "source": [
    "def plot_inequality_measures(x, y, legend, xlabel, ylabel):\n",
    "    fig, ax = plt.subplots()\n",
    "    ax.plot(x, y, marker='o', label=legend)\n",
    "    ax.set_xlabel(xlabel)\n",
    "    ax.set_ylabel(ylabel)\n",
    "    ax.legend()\n",
    "    return fig, ax"
   ]
  },
  {
   "cell_type": "code",
   "execution_count": null,
   "id": "d25f0915",
   "metadata": {
    "hide-output": false
   },
   "outputs": [],
   "source": [
    "fix, ax = plot_inequality_measures(σ_vals, \n",
    "                                  ginis, \n",
    "                                  '模拟数据', \n",
    "                                  r'$\\sigma$', \n",
    "                                  '基尼系数')\n",
    "plt.show()"
   ]
  },
  {
   "cell_type": "markdown",
   "id": "72b10f27",
   "metadata": {},
   "source": [
    "根据基尼系数，图表显示不平等随着 $ \\sigma $ 增加而上升。"
   ]
  },
  {
   "cell_type": "markdown",
   "id": "2f67cf6c",
   "metadata": {},
   "source": [
    "### 美国收入的基尼系数\n",
    "\n",
    "让我们来看一下美国收入分布的基尼系数。\n",
    "\n",
    "我们使用 [wbgapi](https://blogs.worldbank.org/opendata/introducing-wbgapi-new-python-package-accessing-world-bank-data)，从世界银行获得预先计算的基尼系数（基于收入）。\n",
    "\n",
    "我们使用前面导入的 `wbgapi` 包，搜索世界银行数据中的基尼系数以找到系列 ID。"
   ]
  },
  {
   "cell_type": "code",
   "execution_count": null,
   "id": "4cbba71d",
   "metadata": {
    "hide-output": false
   },
   "outputs": [],
   "source": [
    "wb.search(\"gini\")"
   ]
  },
  {
   "cell_type": "markdown",
   "id": "1fba779e",
   "metadata": {},
   "source": [
    "我们现在知道系列 ID 是 `SI.POV.GINI`。\n",
    "\n",
    "(另一种找到系列 ID 的方法是使用 [世界银行数据门户](https://data.worldbank.org) 并使用 `wbgapi` 提取数据。)\n",
    "\n",
    "为了快速掌握数据概况，我们来绘制世界银行数据集中所有国家和所有年份的基尼系数直方图。"
   ]
  },
  {
   "cell_type": "code",
   "execution_count": null,
   "id": "30585d1e",
   "metadata": {
    "hide-output": false
   },
   "outputs": [],
   "source": [
    "# 获取所有国家的基尼数据\n",
    "gini_all = wb.data.DataFrame(\"SI.POV.GINI\")\n",
    "# 移除索引中的 'YR' 并将其转为整数\n",
    "gini_all.columns = gini_all.columns.map(lambda x: int(x.replace('YR',''))) \n",
    "\n",
    "# 创建带有多重索引的长系列数据，以获取全球的最大值和最小值\n",
    "gini_all = gini_all.unstack(level='economy').dropna()\n",
    "\n",
    "# 构建直方图\n",
    "ax = gini_all.plot(kind=\"hist\", bins=20)\n",
    "ax.set_xlabel(\"基尼系数\")\n",
    "ax.set_ylabel(\"频率\")\n",
    "plt.show()"
   ]
  },
  {
   "cell_type": "markdown",
   "id": "47f5c755",
   "metadata": {},
   "source": [
    "我们可以在 Fig. 6.6 中看到，根据50年所有国家的数据，该指标在20到65之间变化。\n",
    "\n",
    "现在，我们来看看美国在过去几十年的基尼系数变化。"
   ]
  },
  {
   "cell_type": "code",
   "execution_count": null,
   "id": "d37d8f31",
   "metadata": {
    "hide-output": false
   },
   "outputs": [],
   "source": [
    "data = wb.data.DataFrame(\"SI.POV.GINI\", \"USA\")\n",
    "data.head(n=5)\n",
    "# 移除索引中的 'YR' 并将其转换为整数\n",
    "data.columns = data.columns.map(lambda x: int(x.replace('YR','')))"
   ]
  },
  {
   "cell_type": "markdown",
   "id": "312dad66",
   "metadata": {},
   "source": [
    "(这个包经常返回包含年份信息的数据列。这对于使用 pandas 进行简单绘图来说并不总是很方便，所以在绘图之前对结果进行转置可能会很有用。)"
   ]
  },
  {
   "cell_type": "code",
   "execution_count": null,
   "id": "b498f0d6",
   "metadata": {
    "hide-output": false
   },
   "outputs": [],
   "source": [
    "data = data.T           # 将年份作为行\n",
    "data_usa = data['USA']  # 获取美国数据的 pd.Series"
   ]
  },
  {
   "cell_type": "markdown",
   "id": "37292344",
   "metadata": {},
   "source": [
    "让我们来看一下美国的数据。"
   ]
  },
  {
   "cell_type": "code",
   "execution_count": null,
   "id": "5ad7c5e0",
   "metadata": {
    "hide-output": false
   },
   "outputs": [],
   "source": [
    "fig, ax = plt.subplots()\n",
    "ax = data_usa.plot(ax=ax)\n",
    "ax.set_ylim(data_usa.min()-1, data_usa.max()+1)\n",
    "ax.set_ylabel(\"基尼系数（收入）\")\n",
    "ax.set_xlabel(\"年份\")\n",
    "plt.show()"
   ]
  },
  {
   "cell_type": "markdown",
   "id": "c8da61df",
   "metadata": {},
   "source": [
    "如 Fig. 6.7 所示，从1980年到2020年，美国的收入基尼系数呈上升趋势，然后在COVID疫情开始后下降。\n",
    "\n",
    "\n",
    "<a id='compare-income-wealth-usa-over-time'></a>"
   ]
  },
  {
   "cell_type": "markdown",
   "id": "54892510",
   "metadata": {},
   "source": [
    "### 财富的基尼系数\n",
    "\n",
    "在上一节中，我们重点使用美国的数据研究了收入的基尼系数。\n",
    "\n",
    "现在让我们来看一下财富分布的基尼系数。\n",
    "\n",
    "我们将使用 [消费者金融调查](#data-survey-consumer-finance) 的美国数据。"
   ]
  },
  {
   "cell_type": "code",
   "execution_count": null,
   "id": "9be0e714",
   "metadata": {
    "hide-output": false
   },
   "outputs": [],
   "source": [
    "df_income_wealth.year.describe()"
   ]
  },
  {
   "cell_type": "markdown",
   "id": "447542e2",
   "metadata": {},
   "source": [
    "[此笔记本](https://github.com/QuantEcon/lecture-python-intro/tree/main/lectures/_static/lecture_specific/inequality/data.ipynb) 可以用于计算整个数据集中的此信息。"
   ]
  },
  {
   "cell_type": "code",
   "execution_count": null,
   "id": "2b3b3577",
   "metadata": {
    "hide-output": false
   },
   "outputs": [],
   "source": [
    "data_url = 'https://github.com/QuantEcon/lecture-python-intro/raw/main/lectures/_static/lecture_specific/inequality/usa-gini-nwealth-tincome-lincome.csv'\n",
    "ginis = pd.read_csv(data_url, index_col='year')\n",
    "ginis.head(n=5)"
   ]
  },
  {
   "cell_type": "markdown",
   "id": "8eeb4e95",
   "metadata": {},
   "source": [
    "让我们绘制净财富的基尼系数图表。"
   ]
  },
  {
   "cell_type": "code",
   "execution_count": null,
   "id": "6fe3a1d6",
   "metadata": {
    "hide-output": false
   },
   "outputs": [],
   "source": [
    "fig, ax = plt.subplots()\n",
    "ax.plot(years, ginis[\"n_wealth\"], marker='o')\n",
    "ax.set_xlabel(\"年份\")\n",
    "ax.set_ylabel(\"基尼系数\")\n",
    "plt.show()"
   ]
  },
  {
   "cell_type": "markdown",
   "id": "526c424c",
   "metadata": {},
   "source": [
    "财富基尼系数的时间序列呈现出 U 形走势，在20世纪80年代初之前，基尼系数呈下降趋势，然后迅速上升。\n",
    "\n",
    "导致这种变化的一个可能的原因是技术的驱动。\n",
    "\n",
    "然而，我们将在下文中看到，并非所有发达经济体都经历了类似的不平等问题的增长。"
   ]
  },
  {
   "cell_type": "markdown",
   "id": "72cea14b",
   "metadata": {},
   "source": [
    "### 跨国收入不平等的比较\n",
    "\n",
    "在本讲义的前面部分，我们使用 `wbgapi` 获取了多个国家的基尼数据，并将其保存在名为 `gini_all` 的变量中。\n",
    "\n",
    "在本节中，我们将使用这些数据来比较几个发达经济体，并看一看它们各自的收入基尼系数的变化。"
   ]
  },
  {
   "cell_type": "code",
   "execution_count": null,
   "id": "aeffe557",
   "metadata": {
    "hide-output": false
   },
   "outputs": [],
   "source": [
    "data = gini_all.unstack()\n",
    "data.columns"
   ]
  },
  {
   "cell_type": "markdown",
   "id": "4d7990bb",
   "metadata": {},
   "source": [
    "此数据包中涵盖了167个国家的数据。\n",
    "\n",
    "我们来比较三个发达经济体：美国、英国和挪威。"
   ]
  },
  {
   "cell_type": "code",
   "execution_count": null,
   "id": "a34078db",
   "metadata": {
    "hide-output": false
   },
   "outputs": [],
   "source": [
    "ax = data[['USA','GBR', 'NOR']].plot()\n",
    "ax.set_xlabel('年份')\n",
    "ax.set_ylabel('基尼系数')\n",
    "ax.legend(labels=[\"美国\", \"英国\", \"挪威\"], title=\"\") \n",
    "plt.show()"
   ]
  },
  {
   "cell_type": "markdown",
   "id": "0cd8819c",
   "metadata": {},
   "source": [
    "我们发现挪威的数据时间序列较短。\n",
    "\n",
    "让我们仔细检查底层数据，看看是否可以修正这个问题。"
   ]
  },
  {
   "cell_type": "code",
   "execution_count": null,
   "id": "b2f20a52",
   "metadata": {
    "hide-output": false
   },
   "outputs": [],
   "source": [
    "data[['NOR']].dropna().head(n=5)"
   ]
  },
  {
   "cell_type": "markdown",
   "id": "a2306a08",
   "metadata": {},
   "source": [
    "此数据包中挪威的数据可以追溯到1979年，但时间序列中存在空缺，所以 matplotlib 没有显示这些数据点。\n",
    "\n",
    "我们可以使用 `.ffill()` 方法来复制并前移序列中的最后已知值，以填补这些空缺。"
   ]
  },
  {
   "cell_type": "code",
   "execution_count": null,
   "id": "4e8d05c0",
   "metadata": {
    "hide-output": false
   },
   "outputs": [],
   "source": [
    "data['NOR'] = data['NOR'].ffill()\n",
    "ax = data[['USA','GBR', 'NOR']].plot()\n",
    "ax.set_xlabel('年份')\n",
    "ax.set_ylabel('基尼系数')\n",
    "ax.legend(labels=[\"美国\", \"英国\", \"挪威\"], title=\"\") \n",
    "plt.show()"
   ]
  },
  {
   "cell_type": "markdown",
   "id": "6e2b715f",
   "metadata": {},
   "source": [
    "从这个图中我们可以观察到，与英国和挪威相比，美国的基尼系数更高（即收入不平等程度更高）。\n",
    "\n",
    "挪威在这三个经济体中基尼系数最低，而且基尼系数没有上升的趋势。"
   ]
  },
  {
   "cell_type": "markdown",
   "id": "a8aeefbb",
   "metadata": {},
   "source": [
    "### 基尼系数与人均GDP（随时间变化）\n",
    "\n",
    "我们还可以看一看基尼系数与人均GDP的比较（随时间变化）。\n",
    "\n",
    "让我们再次关注美国、挪威和英国。"
   ]
  },
  {
   "cell_type": "code",
   "execution_count": null,
   "id": "476c782f",
   "metadata": {
    "hide-output": false
   },
   "outputs": [],
   "source": [
    "countries = ['USA', 'NOR', 'GBR']\n",
    "gdppc = wb.data.DataFrame(\"NY.GDP.PCAP.KD\", countries)\n",
    "# 移除索引中的 'YR' 并将其转换为整数\n",
    "gdppc.columns = gdppc.columns.map(lambda x: int(x.replace('YR',''))) \n",
    "gdppc = gdppc.T"
   ]
  },
  {
   "cell_type": "markdown",
   "id": "30581814",
   "metadata": {},
   "source": [
    "我们可以重新整理数据，以便绘制不同时期的基尼系数和人均GDP。"
   ]
  },
  {
   "cell_type": "code",
   "execution_count": null,
   "id": "a53a2795",
   "metadata": {
    "hide-output": false
   },
   "outputs": [],
   "source": [
    "plot_data = pd.DataFrame(data[countries].unstack())\n",
    "plot_data.index.names = ['country', 'year']\n",
    "plot_data.columns = ['gini']"
   ]
  },
  {
   "cell_type": "markdown",
   "id": "8d1b18e8",
   "metadata": {},
   "source": [
    "现在我们将人均GDP数据整理成可以与 `plot_data` 合并的格式。"
   ]
  },
  {
   "cell_type": "code",
   "execution_count": null,
   "id": "bb69dd59",
   "metadata": {
    "hide-output": false
   },
   "outputs": [],
   "source": [
    "pgdppc = pd.DataFrame(gdppc.unstack())\n",
    "pgdppc.index.names = ['country', 'year']\n",
    "pgdppc.columns = ['gdppc']\n",
    "plot_data = plot_data.merge(pgdppc, left_index=True, right_index=True)\n",
    "plot_data.reset_index(inplace=True)"
   ]
  },
  {
   "cell_type": "markdown",
   "id": "18ebb91b",
   "metadata": {},
   "source": [
    "现在我们使用 Plotly 绘制一张图表，其中 y 轴表示人均GDP，x 轴表示基尼系数。"
   ]
  },
  {
   "cell_type": "code",
   "execution_count": null,
   "id": "48390006",
   "metadata": {
    "hide-output": false
   },
   "outputs": [],
   "source": [
    "min_year = plot_data.year.min()\n",
    "max_year = plot_data.year.max()"
   ]
  },
  {
   "cell_type": "markdown",
   "id": "811ce795",
   "metadata": {},
   "source": [
    "这三个国家的时间序列开始和结束的年份不同。\n",
    "\n",
    "我们将在数据中添加年份掩码，以提高图表的清晰度，包括显示每个国家时间序列不同的结束年份。"
   ]
  },
  {
   "cell_type": "code",
   "execution_count": null,
   "id": "53e4c993",
   "metadata": {
    "hide-output": false
   },
   "outputs": [],
   "source": [
    "labels = [1979, 1986, 1991, 1995, 2000, 2020, 2021, 2022] + \\\n",
    "         list(range(min_year,max_year,5))\n",
    "plot_data.year = plot_data.year.map(lambda x: x if x in labels else None)"
   ]
  },
  {
   "cell_type": "markdown",
   "id": "0be886d3",
   "metadata": {},
   "source": [
    "\n",
    "<a id='fig-plotly-gini-gdppc-years'></a>"
   ]
  },
  {
   "cell_type": "code",
   "execution_count": null,
   "id": "c42bbbaf",
   "metadata": {
    "hide-output": false
   },
   "outputs": [],
   "source": [
    "fig = px.line(plot_data, \n",
    "              x = \"gini\", \n",
    "              y = \"gdppc\", \n",
    "              color = \"country\", \n",
    "              text = \"year\", \n",
    "              height = 800,\n",
    "              labels = {\"gini\" : \"基尼系数\", \"gdppc\" : \"人均GDP\"}\n",
    "             )\n",
    "fig.for_each_trace(lambda t: t.update(name={'USA': '美国', 'GBR': '英国', 'NOR': '挪威'}[t.name]))\n",
    "\n",
    "fig.update_traces(textposition=\"bottom right\")\n",
    "fig.show()"
   ]
  },
  {
   "cell_type": "markdown",
   "id": "9b420017",
   "metadata": {},
   "source": [
    "此图表显示，所有三个西方经济体的人均GDP随着时间增长，而基尼系数则有所波动。\n",
    "\n",
    "从80年代初开始，英国和美国的经济都经历了收入不平等程度的增加。\n",
    "\n",
    "有趣的是，自2000年以来，英国的收入不平等程度有所下降，而美国则表现出持续且稳定的水平，基尼系数约为40。"
   ]
  },
  {
   "cell_type": "markdown",
   "id": "f2fa666e",
   "metadata": {},
   "source": [
    "## 前10%比例\n",
    "\n",
    "另一个受欢迎的不平等衡量指标是前10%比例。\n",
    "\n",
    "在本节中，我们学习如何计算前10%比例。"
   ]
  },
  {
   "cell_type": "markdown",
   "id": "74e4092a",
   "metadata": {},
   "source": [
    "### 定义\n",
    "\n",
    "如前所述，假设样本 $ w_1, \\ldots, w_n $ 已按从小到大的顺序排列。\n",
    "\n",
    "给定上面定义的洛伦兹曲线 $ y = L(x) $，前 $ 100 \\times p \\% $ 的比例定义为"
   ]
  },
  {
   "cell_type": "markdown",
   "id": "9606711e",
   "metadata": {},
   "source": [
    "### \n",
    "\n",
    "\n",
    "<a id='equation-topshares'></a>\n",
    "$$\n",
    "T(p) = 1 - L (1-p) \n",
    "    \\approx \\frac{\\sum_{j\\geq i} w_j}{ \\sum_{j \\leq n} w_j}, \\quad i = \\lfloor n (1-p)\\rfloor \\tag{6.1}\n",
    "$$\n",
    "\n",
    "这里 $ \\lfloor \\cdot \\rfloor $ 是向下取整函数，它将任何数字向下取整为小于或等于该数的整数。\n",
    "\n",
    "以下代码使用数据框 `df_income_wealth` 中的数据生成另一个数据框 `df_topshares`。\n",
    "\n",
    "`df_topshares` 存储了1950年至2016年美国总收入、劳动收入和净财富的前10%比例。"
   ]
  },
  {
   "cell_type": "code",
   "execution_count": null,
   "id": "ec24777c",
   "metadata": {
    "hide-output": false
   },
   "outputs": [],
   "source": [
    "# 将调查权重从绝对值转换为相对值\n",
    "df1 = df_income_wealth\n",
    "df2 = df1.groupby('year').sum(numeric_only=True).reset_index()\n",
    "df3 = df2[['year', 'weights']]\n",
    "df3.columns = 'year', 'r_weights'\n",
    "df4 = pd.merge(df3, df1, how=\"left\", on=[\"year\"])\n",
    "df4['r_weights'] = df4['weights'] / df4['r_weights']\n",
    "\n",
    "# 创建加权的净财富、总收入和劳动收入\n",
    "df4['weighted_n_wealth'] = df4['n_wealth'] * df4['r_weights']\n",
    "df4['weighted_t_income'] = df4['t_income'] * df4['r_weights']\n",
    "df4['weighted_l_income'] = df4['l_income'] * df4['r_weights']\n",
    "\n",
    "# 提取按净财富和总收入分组的前10%群体\n",
    "df6 = df4[df4['nw_groups'] == 'Top 10%']\n",
    "df7 = df4[df4['ti_groups'] == 'Top 10%']\n",
    "\n",
    "# 分别计算按净财富、总收入和劳动收入加权的前10%的总和\n",
    "df5 = df4.groupby('year').sum(numeric_only=True).reset_index()\n",
    "df8 = df6.groupby('year').sum(numeric_only=True).reset_index()\n",
    "df9 = df7.groupby('year').sum(numeric_only=True).reset_index()\n",
    "\n",
    "df5['weighted_n_wealth_top10'] = df8['weighted_n_wealth']\n",
    "df5['weighted_t_income_top10'] = df9['weighted_t_income']\n",
    "df5['weighted_l_income_top10'] = df9['weighted_l_income']\n",
    "\n",
    "# 计算这三个变量的前10%比例\n",
    "df5['topshare_n_wealth'] = df5['weighted_n_wealth_top10'] / \\\n",
    "    df5['weighted_n_wealth']\n",
    "df5['topshare_t_income'] = df5['weighted_t_income_top10'] / \\\n",
    "    df5['weighted_t_income']\n",
    "df5['topshare_l_income'] = df5['weighted_l_income_top10'] / \\\n",
    "    df5['weighted_l_income']\n",
    "\n",
    "# 我们只需要这些变量来计算前10%的比例\n",
    "df_topshares = df5[['year', 'topshare_n_wealth',\n",
    "                    'topshare_t_income', 'topshare_l_income']]"
   ]
  },
  {
   "cell_type": "markdown",
   "id": "f47b7404",
   "metadata": {},
   "source": [
    "接下来让我们绘制前10%比例的图表。"
   ]
  },
  {
   "cell_type": "code",
   "execution_count": null,
   "id": "849a54d7",
   "metadata": {
    "hide-output": false
   },
   "outputs": [],
   "source": [
    "fig, ax = plt.subplots()\n",
    "ax.plot(years, df_topshares[\"topshare_l_income\"],\n",
    "        marker='o', label=\"劳动收入\")\n",
    "ax.plot(years, df_topshares[\"topshare_n_wealth\"],\n",
    "        marker='o', label=\"净财富\")\n",
    "ax.plot(years, df_topshares[\"topshare_t_income\"],\n",
    "        marker='o', label=\"总收入\")\n",
    "ax.set_xlabel(\"年份\")\n",
    "ax.set_ylabel(r\"前 $10\\%$ 比例\")\n",
    "ax.legend()\n",
    "plt.show()"
   ]
  },
  {
   "cell_type": "markdown",
   "id": "f83cfa3f",
   "metadata": {},
   "source": [
    "## 练习"
   ]
  },
  {
   "cell_type": "markdown",
   "id": "8e9aa43f",
   "metadata": {},
   "source": [
    "## Exercise 6.1\n",
    "\n",
    "使用模拟数据来计算对数正态分布的前10%份额，这些对数正态分布与随机变量 $ w_\\sigma = \\exp(\\mu + \\sigma Z) $ 相关联，其中 $ Z \\sim N(0, 1) $ 且 $ \\sigma $ 在一个从 $ 0.2 $ 到 $ 4 $ 的有限网格上变化。\n",
    "\n",
    "随着 $ \\sigma $ 的增加，$ w_\\sigma $ 的方差也在增加。\n",
    "\n",
    "为了关注波动性，在每个步骤调整 $ \\mu $ ，以保持等式 $ \\mu = -\\sigma^2 / 2 $ 成立。\n",
    "\n",
    "对于每个 $ \\sigma $，生成2000个 $ w_\\sigma $ 的独立抽样，并计算洛伦兹曲线和基尼系数。\n",
    "\n",
    "证明更高的方差会在样本中产生更多的分散，从而导致更大的不平等。"
   ]
  },
  {
   "cell_type": "markdown",
   "id": "3aa0ef15",
   "metadata": {},
   "source": [
    "## Solution to[ Exercise 6.1](https://quantecon.github.io/lecture-intro.zh-cn/#inequality_ex1)\n",
    "\n",
    "这是一种解法："
   ]
  },
  {
   "cell_type": "code",
   "execution_count": null,
   "id": "277d43bf",
   "metadata": {
    "hide-output": false
   },
   "outputs": [],
   "source": [
    "def calculate_top_share(s, p=0.1):\n",
    "    # 对 s 进行排序\n",
    "    s = np.sort(s)\n",
    "    n = len(s)\n",
    "    index = int(n * (1 - p))\n",
    "    return s[index:].sum() / s.sum()"
   ]
  },
  {
   "cell_type": "markdown",
   "id": "1b36025c",
   "metadata": {},
   "source": [
    "继续使用上面定义的 `calculate_top_share` 函数和之前定义的 `lorenz_curve` 以及 `gini_coefficient` 函数，我们可以为各个 $ \\sigma $ 值生成统计数据，并绘制变化趋势。"
   ]
  },
  {
   "cell_type": "code",
   "execution_count": null,
   "id": "cc2024df",
   "metadata": {
    "hide-output": false
   },
   "outputs": [],
   "source": [
    "k = 5\n",
    "σ_vals = np.linspace(0.2, 4, k)\n",
    "n = 2_000\n",
    "\n",
    "topshares = []\n",
    "ginis = []\n",
    "f_vals = []\n",
    "l_vals = []\n",
    "\n",
    "for σ in σ_vals:\n",
    "    μ = -σ ** 2 / 2\n",
    "    y = np.exp(μ + σ * np.random.randn(n))\n",
    "    f_val, l_val = lorenz_curve(y)\n",
    "    f_vals.append(f_val)\n",
    "    l_vals.append(l_val)\n",
    "    ginis.append(gini_coefficient(y))\n",
    "    topshares.append(calculate_top_share(y))"
   ]
  },
  {
   "cell_type": "code",
   "execution_count": null,
   "id": "ddbce47d",
   "metadata": {
    "hide-output": false
   },
   "outputs": [],
   "source": [
    "fig, ax = plot_inequality_measures(σ_vals, \n",
    "                                  topshares, \n",
    "                                  \"模拟数据\", \n",
    "                                  r\"$\\sigma$\", \n",
    "                                  r\"前 $10\\%$ 比例\") \n",
    "plt.show()"
   ]
  },
  {
   "cell_type": "code",
   "execution_count": null,
   "id": "8d0183f1",
   "metadata": {
    "hide-output": false
   },
   "outputs": [],
   "source": [
    "fig, ax = plot_inequality_measures(σ_vals, \n",
    "                                  ginis, \n",
    "                                  \"模拟数据\", \n",
    "                                  r\"$\\sigma$\", \n",
    "                                  \"基尼系数\")\n",
    "plt.show()"
   ]
  },
  {
   "cell_type": "code",
   "execution_count": null,
   "id": "657fc846",
   "metadata": {
    "hide-output": false
   },
   "outputs": [],
   "source": [
    "fig, ax = plt.subplots()\n",
    "ax.plot([0,1],[0,1], label=f\"平等线\")\n",
    "for i in range(len(f_vals)):\n",
    "    ax.plot(f_vals[i], l_vals[i], label=fr\"$\\sigma$ = {σ_vals[i]}\")\n",
    "plt.legend()\n",
    "plt.show()"
   ]
  },
  {
   "cell_type": "markdown",
   "id": "10daf0e9",
   "metadata": {},
   "source": [
    "## Exercise 6.2\n",
    "\n",
    "根据前10%比例的定义 [(6.1)](#equation-topshares)，我们也可以使用洛伦兹曲线计算前百分位比例。\n",
    "\n",
    "使用洛伦兹曲线数据 `f_vals_nw, l_vals_nw` 和线性插值，计算美国净财富的前10%比例。\n",
    "\n",
    "绘制由洛伦兹曲线生成的前10%比例与从数据近似得出的前10%比例。"
   ]
  },
  {
   "cell_type": "markdown",
   "id": "b939f29e",
   "metadata": {},
   "source": [
    "## Solution to[ Exercise 6.2](https://quantecon.github.io/lecture-intro.zh-cn/#inequality_ex2)\n",
    "\n",
    "这是一种解法："
   ]
  },
  {
   "cell_type": "code",
   "execution_count": null,
   "id": "829cb7c7",
   "metadata": {
    "hide-output": false
   },
   "outputs": [],
   "source": [
    "def lorenz2top(f_val, l_val, p=0.1):\n",
    "    t = lambda x: np.interp(x, f_val, l_val)\n",
    "    return 1- t(1 - p)"
   ]
  },
  {
   "cell_type": "code",
   "execution_count": null,
   "id": "5657d1a9",
   "metadata": {
    "hide-output": false
   },
   "outputs": [],
   "source": [
    "top_shares_nw = []\n",
    "for f_val, l_val in zip(f_vals_nw, l_vals_nw):\n",
    "    top_shares_nw.append(lorenz2top(f_val, l_val))"
   ]
  },
  {
   "cell_type": "code",
   "execution_count": null,
   "id": "aab2b7c5",
   "metadata": {
    "hide-output": false
   },
   "outputs": [],
   "source": [
    "fig, ax = plt.subplots()\n",
    "\n",
    "ax.plot(years, df_topshares[\"topshare_n_wealth\"], marker='o',   label=\"净财富-近似值\")\n",
    "ax.plot(years, top_shares_nw, marker='o', label=\"净财富-洛伦兹曲线\")\n",
    "\n",
    "ax.set_xlabel(\"年份\")\n",
    "ax.set_ylabel(r\"前 $10\\%$ 比例\")\n",
    "ax.legend()\n",
    "plt.show()"
   ]
  },
  {
   "cell_type": "markdown",
   "id": "d8feaf5a",
   "metadata": {},
   "source": [
    "## Exercise 6.3\n",
    "\n",
    "[计算基尼系数的代码已在上述讲义中列出](#code-gini-coefficient)。\n",
    "\n",
    "此代码循环计算基于收入或财富数据的基尼系数。\n",
    "\n",
    "该函数可以通过向量化改写，从而大大提高在 `python` 中的计算效率。\n",
    "\n",
    "使用 `numpy` 和向量化代码来重写 `gini_coefficient` 函数。\n",
    "\n",
    "你可以比较新函数与上面函数的输出，并注意速度差异。"
   ]
  },
  {
   "cell_type": "markdown",
   "id": "2ab6e3f0",
   "metadata": {},
   "source": [
    "## Solution to[ Exercise 6.3](https://quantecon.github.io/lecture-intro.zh-cn/#inequality_ex3)\n",
    "\n",
    "我们先来看看存储在 `df_income_wealth` 中的美国原始数据"
   ]
  },
  {
   "cell_type": "code",
   "execution_count": null,
   "id": "51ef3d7e",
   "metadata": {
    "hide-output": false
   },
   "outputs": [],
   "source": [
    "df_income_wealth.describe()"
   ]
  },
  {
   "cell_type": "code",
   "execution_count": null,
   "id": "4f582a41",
   "metadata": {
    "hide-output": false
   },
   "outputs": [],
   "source": [
    "df_income_wealth.head(n=4)"
   ]
  },
  {
   "cell_type": "markdown",
   "id": "473c3a31",
   "metadata": {},
   "source": [
    "我们将重点关注财富变量 `n_wealth` 来计算2016年的基尼系数。"
   ]
  },
  {
   "cell_type": "code",
   "execution_count": null,
   "id": "03ff56de",
   "metadata": {
    "hide-output": false
   },
   "outputs": [],
   "source": [
    "data = df_income_wealth[df_income_wealth.year == 2016].sample(3000, random_state=1)"
   ]
  },
  {
   "cell_type": "code",
   "execution_count": null,
   "id": "2947e740",
   "metadata": {
    "hide-output": false
   },
   "outputs": [],
   "source": [
    "data.head(n=2)"
   ]
  },
  {
   "cell_type": "markdown",
   "id": "4d9dc322",
   "metadata": {},
   "source": [
    "我们可以首先使用上述讲义中定义的函数计算基尼系数。"
   ]
  },
  {
   "cell_type": "code",
   "execution_count": null,
   "id": "9990d4e3",
   "metadata": {
    "hide-output": false
   },
   "outputs": [],
   "source": [
    "gini_coefficient(data.n_wealth.values)"
   ]
  },
  {
   "cell_type": "markdown",
   "id": "1dde11bd",
   "metadata": {},
   "source": [
    "现在我们可以使用 `numpy` 编写一个向量化版本。"
   ]
  },
  {
   "cell_type": "code",
   "execution_count": null,
   "id": "90e84d15",
   "metadata": {
    "hide-output": false
   },
   "outputs": [],
   "source": [
    "def gini(y):\n",
    "    n = len(y)\n",
    "    y_1 = np.reshape(y, (n, 1))\n",
    "    y_2 = np.reshape(y, (1, n))\n",
    "    g_sum = np.sum(np.abs(y_1 - y_2))\n",
    "    return g_sum / (2 * n * np.sum(y))"
   ]
  },
  {
   "cell_type": "code",
   "execution_count": null,
   "id": "cf198591",
   "metadata": {
    "hide-output": false
   },
   "outputs": [],
   "source": [
    "gini(data.n_wealth.values)"
   ]
  },
  {
   "cell_type": "markdown",
   "id": "6e62c3f9",
   "metadata": {},
   "source": [
    "让我们像之前一样通过从对数正态分布中抽取样本来模拟五个总体。"
   ]
  },
  {
   "cell_type": "code",
   "execution_count": null,
   "id": "1d600df7",
   "metadata": {
    "hide-output": false
   },
   "outputs": [],
   "source": [
    "k = 5\n",
    "σ_vals = np.linspace(0.2, 4, k)\n",
    "n = 2_000\n",
    "σ_vals = σ_vals.reshape((k,1))\n",
    "μ_vals = -σ_vals**2/2\n",
    "y_vals = np.exp(μ_vals + σ_vals*np.random.randn(n))"
   ]
  },
  {
   "cell_type": "markdown",
   "id": "56addc65",
   "metadata": {},
   "source": [
    "我们可以使用向量化函数计算这五个总体的基尼系数，计算时间如下所示："
   ]
  },
  {
   "cell_type": "code",
   "execution_count": null,
   "id": "11e6d380",
   "metadata": {
    "hide-output": false
   },
   "outputs": [],
   "source": [
    "%%time\n",
    "gini_coefficients =[]\n",
    "for i in range(k):\n",
    "     gini_coefficients.append(gini(y_vals[i]))"
   ]
  },
  {
   "cell_type": "markdown",
   "id": "67824150",
   "metadata": {},
   "source": [
    "这表明向量化函数更快。\n",
    "\n",
    "下面给出了这五个家庭的基尼系数。"
   ]
  },
  {
   "cell_type": "code",
   "execution_count": null,
   "id": "721bbe48",
   "metadata": {
    "hide-output": false
   },
   "outputs": [],
   "source": [
    "gini_coefficients"
   ]
  }
 ],
 "metadata": {
  "date": 1743834079.2646928,
  "filename": "inequality.md",
  "kernelspec": {
   "display_name": "Python",
   "language": "python3",
   "name": "python3"
  },
  "title": "收入与财富不平等"
 },
 "nbformat": 4,
 "nbformat_minor": 5
}