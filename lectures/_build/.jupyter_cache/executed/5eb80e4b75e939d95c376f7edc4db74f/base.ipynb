{
 "cells": [
  {
   "cell_type": "code",
   "execution_count": 1,
   "id": "4b100f7c",
   "metadata": {
    "tags": [
     "hide-output"
    ]
   },
   "outputs": [
    {
     "name": "stdout",
     "output_type": "stream",
     "text": [
      "Requirement already satisfied: quantecon in /home/humphrey/anaconda3/envs/quantecon/lib/python3.10/site-packages (0.7.2)\r\n",
      "Requirement already satisfied: numba>=0.49.0 in /home/humphrey/anaconda3/envs/quantecon/lib/python3.10/site-packages (from quantecon) (0.60.0)\r\n",
      "Requirement already satisfied: numpy>=1.17.0 in /home/humphrey/anaconda3/envs/quantecon/lib/python3.10/site-packages (from quantecon) (1.24.3)\r\n",
      "Requirement already satisfied: requests in /home/humphrey/anaconda3/envs/quantecon/lib/python3.10/site-packages (from quantecon) (2.31.0)\r\n",
      "Requirement already satisfied: scipy>=1.5.0 in /home/humphrey/anaconda3/envs/quantecon/lib/python3.10/site-packages (from quantecon) (1.10.1)\r\n",
      "Requirement already satisfied: sympy in /home/humphrey/anaconda3/envs/quantecon/lib/python3.10/site-packages (from quantecon) (1.11.1)\r\n",
      "Requirement already satisfied: llvmlite<0.44,>=0.43.0dev0 in /home/humphrey/anaconda3/envs/quantecon/lib/python3.10/site-packages (from numba>=0.49.0->quantecon) (0.43.0)\r\n",
      "Requirement already satisfied: charset-normalizer<4,>=2 in /home/humphrey/anaconda3/envs/quantecon/lib/python3.10/site-packages (from requests->quantecon) (2.0.4)\r\n",
      "Requirement already satisfied: idna<4,>=2.5 in /home/humphrey/anaconda3/envs/quantecon/lib/python3.10/site-packages (from requests->quantecon) (3.4)\r\n",
      "Requirement already satisfied: urllib3<3,>=1.21.1 in /home/humphrey/anaconda3/envs/quantecon/lib/python3.10/site-packages (from requests->quantecon) (1.26.16)\r\n",
      "Requirement already satisfied: certifi>=2017.4.17 in /home/humphrey/anaconda3/envs/quantecon/lib/python3.10/site-packages (from requests->quantecon) (2023.7.22)\r\n",
      "Requirement already satisfied: mpmath>=0.19 in /home/humphrey/anaconda3/envs/quantecon/lib/python3.10/site-packages (from sympy->quantecon) (1.3.0)\r\n"
     ]
    },
    {
     "name": "stdout",
     "output_type": "stream",
     "text": [
      "\r\n",
      "\u001b[1m[\u001b[0m\u001b[34;49mnotice\u001b[0m\u001b[1;39;49m]\u001b[0m\u001b[39;49m A new release of pip is available: \u001b[0m\u001b[31;49m24.0\u001b[0m\u001b[39;49m -> \u001b[0m\u001b[32;49m24.2\u001b[0m\r\n",
      "\u001b[1m[\u001b[0m\u001b[34;49mnotice\u001b[0m\u001b[1;39;49m]\u001b[0m\u001b[39;49m To update, run: \u001b[0m\u001b[32;49mpip install --upgrade pip\u001b[0m\r\n"
     ]
    }
   ],
   "source": [
    "!pip install quantecon"
   ]
  },
  {
   "cell_type": "code",
   "execution_count": 2,
   "id": "da05640c",
   "metadata": {},
   "outputs": [],
   "source": [
    "import numpy as np\n",
    "from numpy.linalg import eig\n",
    "import scipy as sp\n",
    "import quantecon as qe"
   ]
  },
  {
   "cell_type": "code",
   "execution_count": 3,
   "id": "69241581",
   "metadata": {},
   "outputs": [
    {
     "name": "stdout",
     "output_type": "stream",
     "text": [
      "A的特征值是:\n",
      " [2. 5.]\n",
      "\n",
      "对应的右特征向量是: \n",
      " [-0.89443  0.44721] 和 [0.70711 0.70711]\n",
      "\n",
      "对应的左特征向量是: \n",
      " [-0.70711  0.70711] 和 [0.44721 0.89443]\n",
      "\n"
     ]
    }
   ],
   "source": [
    "A = np.array([[3, 2],\n",
    "              [1, 4]])\n",
    "\n",
    "# 计算特征值和右特征向量\n",
    "λ, v = eig(A)\n",
    "\n",
    "# 计算特征值和左特征向量\n",
    "λ, w = eig(A.T)\n",
    "\n",
    "# 保留5位小数\n",
    "np.set_printoptions(precision=5)\n",
    "\n",
    "print(f\"A的特征值是:\\n {λ}\\n\")\n",
    "print(f\"对应的右特征向量是: \\n {v[:,0]} 和 {-v[:,1]}\\n\")\n",
    "print(f\"对应的左特征向量是: \\n {w[:,0]} 和 {-w[:,1]}\\n\")"
   ]
  },
  {
   "cell_type": "code",
   "execution_count": 4,
   "id": "c7c87c6f",
   "metadata": {},
   "outputs": [
    {
     "name": "stdout",
     "output_type": "stream",
     "text": [
      "A的特征值是:\n",
      " [2. 5.]\n",
      "\n",
      "对应的右特征向量是: \n",
      " [-0.89443  0.44721] 和 [0.70711 0.70711]\n",
      "\n",
      "对应的左特征向量是: \n",
      " [-0.70711  0.70711] 和 [0.44721 0.89443]\n",
      "\n"
     ]
    }
   ],
   "source": [
    "eigenvals, ε, e = sp.linalg.eig(A, left=True)\n",
    "\n",
    "print(f\"A的特征值是:\\n {eigenvals.real}\\n\")\n",
    "print(f\"对应的右特征向量是: \\n {e[:,0]} 和 {-e[:,1]}\\n\")\n",
    "print(f\"对应的左特征向量是: \\n {ε[:,0]} 和 {-ε[:,1]}\\n\")"
   ]
  },
  {
   "cell_type": "code",
   "execution_count": 5,
   "id": "ad4fea0c",
   "metadata": {},
   "outputs": [],
   "source": [
    "A = np.array([[0, 1, 0],\n",
    "              [.5, 0, .5],\n",
    "              [0, 1, 0]])"
   ]
  },
  {
   "cell_type": "code",
   "execution_count": 6,
   "id": "998db51a",
   "metadata": {},
   "outputs": [
    {
     "data": {
      "text/plain": [
       "(1.0000000000000002, array([ 0.57735, -0.57735,  0.57735]))"
      ]
     },
     "execution_count": 6,
     "metadata": {},
     "output_type": "execute_result"
    }
   ],
   "source": [
    "λ, v = eig(A)\n",
    "principal_eigenvalue = np.max(np.abs(λ.real))\n",
    "principal_eigenvector = v[:, np.argmax(np.abs(λ.real))]\n",
    "\n",
    "principal_eigenvalue, principal_eigenvector"
   ]
  },
  {
   "cell_type": "code",
   "execution_count": 7,
   "id": "dccb6294",
   "metadata": {},
   "outputs": [
    {
     "name": "stdout",
     "output_type": "stream",
     "text": [
      "[-0.57735  0.57735 -0.57735]\n",
      "[ 0.57735 -0.57735  0.57735]\n"
     ]
    }
   ],
   "source": [
    "print(np.dot(A, principal_eigenvector))\n",
    "print(principal_eigenvalue * principal_eigenvector)"
   ]
  },
  {
   "cell_type": "code",
   "execution_count": 8,
   "id": "73acef71",
   "metadata": {},
   "outputs": [
    {
     "data": {
      "text/plain": [
       "(1.0, array([0., 0., 1.]))"
      ]
     },
     "execution_count": 8,
     "metadata": {},
     "output_type": "execute_result"
    }
   ],
   "source": [
    "A = np.array([[0, 1, 0],\n",
    "              [0, 0, 0],\n",
    "              [0, 0, 1]])\n",
    "λ, v = eig(A)\n",
    "principal_eigenvalue = np.max(np.abs(λ.real))\n",
    "principal_eigenvector = v[:, np.argmax(np.abs(λ.real))]\n",
    "\n",
    "principal_eigenvalue, principal_eigenvector"
   ]
  },
  {
   "cell_type": "code",
   "execution_count": 9,
   "id": "c49e8163",
   "metadata": {},
   "outputs": [
    {
     "data": {
      "text/plain": [
       "array([[2, 1, 1],\n",
       "       [1, 2, 1],\n",
       "       [1, 1, 2]])"
      ]
     },
     "execution_count": 9,
     "metadata": {},
     "output_type": "execute_result"
    }
   ],
   "source": [
    "B = np.array([[0, 1, 1],\n",
    "              [1, 0, 1],\n",
    "              [1, 1, 0]])\n",
    "\n",
    "np.linalg.matrix_power(B, 2)"
   ]
  },
  {
   "cell_type": "code",
   "execution_count": 10,
   "id": "250c0851",
   "metadata": {},
   "outputs": [
    {
     "data": {
      "text/plain": [
       "array([[10, 11, 11],\n",
       "       [11, 10, 11],\n",
       "       [11, 11, 10]])"
      ]
     },
     "execution_count": 10,
     "metadata": {},
     "output_type": "execute_result"
    }
   ],
   "source": [
    "np.linalg.matrix_power(B, 5)"
   ]
  },
  {
   "cell_type": "code",
   "execution_count": 11,
   "id": "94e6b404",
   "metadata": {},
   "outputs": [
    {
     "data": {
      "text/plain": [
       "array([[0.33333, 0.33333, 0.33333],\n",
       "       [0.33333, 0.33333, 0.33333],\n",
       "       [0.33333, 0.33333, 0.33333]])"
      ]
     },
     "execution_count": 11,
     "metadata": {},
     "output_type": "execute_result"
    }
   ],
   "source": [
    "λ, v = eig(B)\n",
    "_, w = eig(B.T)\n",
    "\n",
    "principal_eigenvector_right = v[:, np.argmax(np.abs(λ.real))]\n",
    "principal_eigenvector_left = w[:, np.argmax(np.abs(λ.real))]\n",
    "\n",
    "P = np.outer(principal_eigenvector_right, principal_eigenvector_left)\n",
    "P / np.sum(principal_eigenvector_right * principal_eigenvector_left)  # 归一化"
   ]
  },
  {
   "cell_type": "code",
   "execution_count": 12,
   "id": "13a103c9",
   "metadata": {},
   "outputs": [
    {
     "data": {
      "text/plain": [
       "array([[342., 341., 341.],\n",
       "       [341., 342., 341.],\n",
       "       [341., 341., 342.]])"
      ]
     },
     "execution_count": 12,
     "metadata": {},
     "output_type": "execute_result"
    }
   ],
   "source": [
    "m = 10\n",
    "np.linalg.matrix_power(B / principal_eigenvalue, m)"
   ]
  },
  {
   "cell_type": "code",
   "execution_count": 13,
   "id": "83fb0392",
   "metadata": {},
   "outputs": [
    {
     "name": "stdout",
     "output_type": "stream",
     "text": [
      "矩阵:\n",
      "[[1 2]\n",
      " [1 4]]\n",
      "Perron投影矩阵:\n",
      "[[0.1362  0.48507]\n",
      " [0.24254 0.8638 ]]\n",
      "n = 1, 误差 = 0.0989045731\n",
      "n = 10, 误差 = 0.0000000001\n",
      "n = 100, 误差 = 0.0000000000\n",
      "n = 1000, 误差 = 0.0000000000\n",
      "n = 10000, 误差 = 0.0000000000\n",
      "\n",
      "------------------------------------\n",
      "\n",
      "矩阵:\n",
      "[[0 1 1]\n",
      " [1 0 1]\n",
      " [1 1 0]]\n",
      "Perron投影矩阵:\n",
      "[[0.33333 0.33333 0.33333]\n",
      " [0.33333 0.33333 0.33333]\n",
      " [0.33333 0.33333 0.33333]]\n",
      "n = 1, 误差 = 0.7071067812\n",
      "n = 10, 误差 = 0.0013810679\n",
      "n = 100, 误差 = 0.0000000000\n",
      "n = 1000, 误差 = 0.0000000000\n",
      "n = 10000, 误差 = 0.0000000000\n",
      "\n",
      "------------------------------------\n",
      "\n",
      "矩阵:\n",
      "[[0.971 0.029 0.1   1.   ]\n",
      " [0.145 0.778 0.077 0.59 ]\n",
      " [0.1   0.508 0.492 1.12 ]\n",
      " [0.2   0.8   0.71  0.95 ]]\n",
      "Perron投影矩阵:\n",
      "[[0.12506 0.31949 0.20233 0.43341]\n",
      " [0.07714 0.19707 0.1248  0.26735]\n",
      " [0.12158 0.31058 0.19669 0.42133]\n",
      " [0.13885 0.3547  0.22463 0.48118]]\n",
      "n = 1, 误差 = 0.5361031549\n",
      "n = 10, 误差 = 0.0000434043\n",
      "n = 100, 误差 = 0.0000000000\n",
      "n = 1000, 误差 = 0.0000000000\n",
      "n = 10000, 误差 = 0.0000000000\n",
      "\n",
      "------------------------------------\n",
      "\n"
     ]
    }
   ],
   "source": [
    "def compute_perron_projection(M):\n",
    "\n",
    "    eigval, v = eig(M)\n",
    "    eigval, w = eig(M.T)\n",
    "\n",
    "    r = np.max(eigval)\n",
    "\n",
    "    # 找到主特征值的索引\n",
    "    i = np.argmax(eigval)\n",
    "\n",
    "    # 获取Perron特征向量\n",
    "    v_P = v[:, i].reshape(-1, 1)\n",
    "    w_P = w[:, i].reshape(-1, 1)\n",
    "\n",
    "    # 归一化左、右特征向量\n",
    "    norm_factor = w_P.T @ v_P\n",
    "    v_norm = v_P / norm_factor\n",
    "\n",
    "    # 计算Perron投影矩阵\n",
    "    P = v_norm @ w_P.T\n",
    "    return P, r\n",
    "\n",
    "def check_convergence(M):\n",
    "    P, r = compute_perron_projection(M)\n",
    "    print(\"Perron投影矩阵:\")\n",
    "    print(P)\n",
    "\n",
    "    # 定义 n 的取值列表\n",
    "    n_list = [1, 10, 100, 1000, 10000]\n",
    "\n",
    "    for n in n_list:\n",
    "\n",
    "        # 计算 (A/r)^n\n",
    "        M_n = np.linalg.matrix_power(M/r, n)\n",
    "\n",
    "        # 计算 A^n / r^n 与 Perron投影的差异\n",
    "        diff = np.abs(M_n - P)\n",
    "\n",
    "        # 计算差异矩阵的范数\n",
    "        diff_norm = np.linalg.norm(diff, 'fro')\n",
    "        print(f\"n = {n}, 误差 = {diff_norm:.10f}\")\n",
    "\n",
    "A1 = np.array([[1, 2],\n",
    "               [1, 4]])\n",
    "\n",
    "A2 = np.array([[0, 1, 1],\n",
    "               [1, 0, 1],\n",
    "               [1, 1, 0]])\n",
    "\n",
    "A3 = np.array([[0.971, 0.029, 0.1, 1],\n",
    "               [0.145, 0.778, 0.077, 0.59],\n",
    "               [0.1, 0.508, 0.492, 1.12],\n",
    "               [0.2, 0.8, 0.71, 0.95]])\n",
    "\n",
    "for M in A1, A2, A3:\n",
    "    print(\"矩阵:\")\n",
    "    print(M)\n",
    "    check_convergence(M)\n",
    "    print()\n",
    "    print(\"-\"*36)\n",
    "    print()"
   ]
  },
  {
   "cell_type": "code",
   "execution_count": 14,
   "id": "418837f9",
   "metadata": {},
   "outputs": [
    {
     "name": "stdout",
     "output_type": "stream",
     "text": [
      "矩阵:\n",
      "[[0 1 1]\n",
      " [1 0 0]\n",
      " [1 0 0]]\n",
      "B 的第100次方:\n",
      "[[1125899906842624                0                0]\n",
      " [               0  562949953421312  562949953421312]\n",
      " [               0  562949953421312  562949953421312]]\n",
      "Perron投影矩阵:\n",
      "[[0.5     0.35355 0.35355]\n",
      " [0.35355 0.25    0.25   ]\n",
      " [0.35355 0.25    0.25   ]]\n",
      "n = 1, 误差 = 1.0000000000\n",
      "n = 10, 误差 = 1.0000000000\n",
      "n = 100, 误差 = 1.0000000000\n",
      "n = 1000, 误差 = 1.0000000000\n",
      "n = 10000, 误差 = 1.0000000000\n"
     ]
    }
   ],
   "source": [
    "B = np.array([[0, 1, 1],\n",
    "              [1, 0, 0],\n",
    "              [1, 0, 0]])\n",
    "\n",
    "# 这表明矩阵不是初等的\n",
    "print(\"矩阵:\")\n",
    "print(B)\n",
    "print(\"B 的第100次方:\")\n",
    "print(np.linalg.matrix_power(B, 100))\n",
    "\n",
    "check_convergence(B)"
   ]
  },
  {
   "cell_type": "code",
   "execution_count": 15,
   "id": "f56c8658",
   "metadata": {},
   "outputs": [
    {
     "name": "stdout",
     "output_type": "stream",
     "text": [
      "[[0.8128  0.16256 0.02464]\n",
      " [0.8128  0.16256 0.02464]\n",
      " [0.8128  0.16256 0.02464]]\n"
     ]
    }
   ],
   "source": [
    "P_hamilton = np.array([[0.971, 0.029, 0.000],\n",
    "                       [0.145, 0.778, 0.077],\n",
    "                       [0.000, 0.508, 0.492]])\n",
    "\n",
    "print(compute_perron_projection(P_hamilton)[0])"
   ]
  },
  {
   "cell_type": "code",
   "execution_count": 16,
   "id": "866f3474",
   "metadata": {},
   "outputs": [
    {
     "data": {
      "text/plain": [
       "array([0.8128 , 0.16256, 0.02464])"
      ]
     },
     "execution_count": 16,
     "metadata": {},
     "output_type": "execute_result"
    }
   ],
   "source": [
    "mc = qe.MarkovChain(P_hamilton)\n",
    "ψ_star = mc.stationary_distributions[0]\n",
    "ψ_star"
   ]
  },
  {
   "cell_type": "code",
   "execution_count": 17,
   "id": "c96eec04",
   "metadata": {},
   "outputs": [],
   "source": [
    "# 定义两个随机矩阵\n",
    "P1 = np.array([[0.5, 0.2, 0.3],\n",
    "               [0.3, 0.5, 0.2],\n",
    "               [0.4, 0.1, 0.5]])\n",
    "\n",
    "P2 = np.array([[0.6, 0.4],\n",
    "               [0.4, 0.6]])"
   ]
  },
  {
   "cell_type": "code",
   "execution_count": 18,
   "id": "e883f65e",
   "metadata": {},
   "outputs": [
    {
     "name": "stdout",
     "output_type": "stream",
     "text": [
      "P1 的主特征值 λ: 0.9999999999999999\n",
      "P1 的主右特征向量 w: [-0.57735 -0.57735 -0.57735]\n",
      "P2 的主特征值 λ: 1.0\n",
      "P2 的主右特征向量 w: [0.70711 0.70711]\n"
     ]
    }
   ],
   "source": [
    "λ1, v1 = eig(P1)\n",
    "λ2, v2 = eig(P2)\n",
    "\n",
    "w1 = v1[:, np.argmax(λ1.real)]\n",
    "w2 = v2[:, np.argmax(λ2.real)]\n",
    "\n",
    "print(f\"P1 的主特征值 λ: {λ1[np.argmax(λ1.real)]}\")\n",
    "print(f\"P1 的主右特征向量 w: {w1}\")\n",
    "\n",
    "print(f\"P2 的主特征值 λ: {λ2[np.argmax(λ2.real)]}\")\n",
    "print(f\"P2 的主右特征向量 w: {w2}\")"
   ]
  },
  {
   "cell_type": "code",
   "execution_count": 19,
   "id": "24fe5cbd",
   "metadata": {},
   "outputs": [
    {
     "name": "stdout",
     "output_type": "stream",
     "text": [
      "P1 的平稳分布 ψ* : [0.33333 0.33333 0.33333]\n",
      "P2 的平稳分布 ψ* : [0.5 0.5]\n"
     ]
    }
   ],
   "source": [
    "ψ1_star = w1 / np.sum(w1)\n",
    "ψ2_star = w2 / np.sum(w2)\n",
    "\n",
    "print(f\"P1 的平稳分布 ψ* : {ψ1_star}\")\n",
    "print(f\"P2 的平稳分布 ψ* : {ψ2_star}\")"
   ]
  },
  {
   "cell_type": "code",
   "execution_count": 20,
   "id": "37bb2683",
   "metadata": {},
   "outputs": [
    {
     "name": "stdout",
     "output_type": "stream",
     "text": [
      "0.8444086477164563\n"
     ]
    }
   ],
   "source": [
    "A = np.array([[0.3, 0.2, 0.3],\n",
    "              [0.2, 0.4, 0.3],\n",
    "              [0.2, 0.5, 0.1]])\n",
    "\n",
    "evals, evecs = eig(A)\n",
    "\n",
    "r = max(abs(λ) for λ in evals)   #主特征值/谱半径\n",
    "print(r)"
   ]
  },
  {
   "cell_type": "code",
   "execution_count": 21,
   "id": "9813f632",
   "metadata": {},
   "outputs": [
    {
     "name": "stdout",
     "output_type": "stream",
     "text": [
      "[[38.30189]\n",
      " [44.33962]\n",
      " [46.47799]]\n"
     ]
    }
   ],
   "source": [
    "I = np.identity(3)\n",
    "B = I - A\n",
    "\n",
    "d = np.array([4, 5, 12])\n",
    "d.shape = (3,1)\n",
    "\n",
    "B_inv = np.linalg.inv(B)\n",
    "x_star = B_inv @ d\n",
    "print(x_star)"
   ]
  }
 ],
 "metadata": {
  "jupytext": {
   "text_representation": {
    "extension": ".md",
    "format_name": "myst",
    "format_version": 0.13,
    "jupytext_version": "1.14.4"
   }
  },
  "kernelspec": {
   "display_name": "Python 3 (ipykernel)",
   "language": "python",
   "name": "python3"
  },
  "language_info": {
   "codemirror_mode": {
    "name": "ipython",
    "version": 3
   },
   "file_extension": ".py",
   "mimetype": "text/x-python",
   "name": "python",
   "nbconvert_exporter": "python",
   "pygments_lexer": "ipython3",
   "version": "3.10.12"
  },
  "source_map": [
   12,
   21,
   25,
   34,
   39,
   118,
   134,
   139,
   145,
   191,
   195,
   199,
   205,
   217,
   220,
   230,
   239,
   345,
   351,
   355,
   357,
   363,
   372,
   378,
   381,
   417,
   479,
   504,
   516,
   619,
   627,
   631,
   645,
   653,
   665,
   677,
   681,
   687,
   704,
   777,
   786,
   790,
   800
  ]
 },
 "nbformat": 4,
 "nbformat_minor": 5
}