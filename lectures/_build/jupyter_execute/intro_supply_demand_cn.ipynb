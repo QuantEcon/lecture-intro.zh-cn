{
 "cells": [
  {
   "cell_type": "markdown",
   "id": "d503153b",
   "metadata": {},
   "source": [
    "# 供需介绍\n",
    "\n",
    "## 概述\n",
    "\n",
    "本讲座讨论了一些均衡价格和数量模型，这是初级微观经济学的核心课题之一。\n",
    "\n",
    "在整个讲座中，我们专注于单一商品和单一价格的模型。\n",
    "\n",
    "```{seealso}\n",
    "在{doc}`后续讲座 <supply_demand_multiple_goods>`中，我们将研究多商品设置。\n",
    "```\n",
    "\n",
    "### 为什么这个模型很重要？\n",
    "\n",
    "在15世纪、16世纪、17世纪和18世纪，重商主义思想在大多数欧洲国家的统治者中占据了主导地位。\n",
    "\n",
    "出口被认为是好的，因为它们带来了金银（黄金流入国家）。\n",
    "\n",
    "进口被认为是坏的，因为需要支付金银（黄金流出）。\n",
    "\n",
    "这种[零和](https://en.wikipedia.org/wiki/Zero-sum_game)的经济观最终被古典经济学家如[亚当·斯密](https://en.wikipedia.org/wiki/Adam_Smith)和[大卫·李嘉图](https://en.wikipedia.org/wiki/David_Ricardo)的工作推翻，他们展示了如何通过自由化国内和国际贸易来提高福利。\n",
    "\n",
    "经济学中有很多不同的方式来表达这一思想。\n",
    "\n",
    "本讲座讨论了最简单的方式之一：如何通过自由价格调整来最大化单一商品市场中的社会福利测量。\n",
    "\n",
    "### 主题和基础设施\n",
    "\n",
    "在本讲座中，我们将遇到的关键基础设施概念有：\n",
    "\n",
    "* 逆需求曲线\n",
    "* 逆供给曲线\n",
    "* 消费者剩余\n",
    "* 生产者剩余\n",
    "* 积分\n",
    "* 作为消费者和生产者剩余之和的社会福利\n",
    "* 均衡数量与社会福利最优关系\n",
    "\n",
    "在我们的讲解中，我们将使用以下Python导入。"
   ]
  },
  {
   "cell_type": "code",
   "execution_count": null,
   "id": "2cd72554",
   "metadata": {},
   "outputs": [],
   "source": [
    "import numpy as np\n",
    "import matplotlib.pyplot as plt\n",
    "from collections import namedtuple"
   ]
  },
  {
   "cell_type": "markdown",
   "id": "349419a2",
   "metadata": {},
   "source": [
    "图像输入功能：启用\n",
    "\n",
    "## 消费者剩余\n",
    "\n",
    "在研究供需模型之前，我们将了解一些关于（a）消费者和生产者剩余以及（b）积分的背景知识。\n",
    "\n",
    "（如果您对这两个主题都很熟悉，您可以直接跳到{ref}`下一节 <integration>`。）\n",
    "\n",
    "### 一个离散例子\n",
    "\n",
    "关于消费者剩余，假设我们有一种商品和10个消费者。\n",
    "\n",
    "这10个消费者有不同的偏好；特别是，他们愿意支付一单位商品的金额不同。\n",
    "\n",
    "假设10个消费者每人的支付意愿如下：\n",
    "\n",
    "| 消费者         | 1  | 2  | 3  | 4  | 5  | 6  | 7  | 8  | 9  | 10  |\n",
    "|----------------|----|----|----|----|----|----|----|----|----|-----|\n",
    "| 支付意愿 | 98 | 72 | 41 | 38 | 29 | 21 | 17 | 12 | 11 | 10  |\n",
    "\n",
    "（我们按支付意愿的降序排列消费者。）\n",
    "\n",
    "如果 $p$ 是商品的价格，$w_i$ 是消费者 $i$ 的支付意愿，那么当 $w_i \\geq p$ 时，$i$ 就会购买。\n",
    "\n",
    "```{note}\n",
    "如果 $p=w_i$，消费者对购买与不购买无所谓；我们随意假设他们会购买。\n",
    "```\n",
    "\n",
    "第 $i$ 个消费者的**消费者剩余**是 $\\max\\{w_i - p, 0\\}$\n",
    "\n",
    "* 如果 $w_i \\geq p$，则消费者购买并获得剩余 $w_i - p$\n",
    "* 如果 $w_i < p$，则消费者不购买并获得剩余 $0$\n",
    "\n",
    "例如，如果价格是 $p=40$，则消费者1获得剩余 $98-40=58$。\n",
    "\n",
    "下方的柱状图显示了当 $p=25$ 时每个消费者的剩余。\n",
    "\n",
    "每个柱状图的总高是消费者 $i$ 的支付意愿。\n",
    "\n",
    "一些柱子中的橙色部分显示的是消费者剩余。"
   ]
  },
  {
   "cell_type": "code",
   "execution_count": null,
   "id": "44a6c566",
   "metadata": {
    "mystnb": {
     "figure": {
      "caption": "支付意愿（离散）",
      "name": "wpdisc"
     }
    }
   },
   "outputs": [],
   "source": [
    "fig, ax = plt.subplots()\n",
    "consumers = range(1, 11) # 消费者 1,..., 10\n",
    "# 每个消费者的支付意愿\n",
    "wtp = (98, 72, 41, 38, 29, 21, 17, 12, 11, 10)\n",
    "price = 25\n",
    "ax.bar(consumers, wtp, label=\"消费者剩余\", color=\"darkorange\", alpha=0.8)\n",
    "ax.plot((0, 12), (price, price), lw=2, label=\"价格 $p$\")\n",
    "ax.bar(consumers, [min(w, price) for w in wtp], color=\"black\", alpha=0.6)\n",
    "ax.set_xlim(0, 12)\n",
    "ax.set_xticks(consumers)\n",
    "ax.set_ylabel(\"支付意愿, 价格\")\n",
    "ax.set_xlabel(\"消费者, 数量\")\n",
    "ax.legend()\n",
    "plt.show()"
   ]
  },
  {
   "cell_type": "markdown",
   "id": "ff736b6f",
   "metadata": {},
   "source": [
    "总消费者剩余是\n",
    "\n",
    "$$ \n",
    "\\sum_{i=1}^{10} \\max\\{w_i - p, 0\\}\n",
    "= \\sum_{w_i \\geq p} (w_i - p)\n",
    "$$\n",
    "\n",
    "由于消费者剩余 $\\max\\{w_i-p,0\\}$ 是消费者 $i$ 的交易收益的度量（即，商品价值超过消费者支付金额的程度），将总消费者剩余视为消费者福利的度量是合理的。\n",
    "\n",
    "之后我们将进一步探讨这个想法，考虑不同的价格如何导致消费者和生产者获得不同的福利结果。\n",
    "\n",
    "### 关于数量的评论\n",
    "\n",
    "请注意，在图中，横轴标注为“消费者，数量”。\n",
    "\n",
    "我们在这里添加了“数量”，因为我们可以从这个轴上读取出售的单位数，假设目前有卖家愿意以当前市场价格 $p$ 向消费者提供任意数量的商品。\n",
    "\n",
    "在这个例子中，消费者1到5购买，售出的数量是5。\n",
    "\n",
    "下面我们取消卖家会在任意价格提供任意数量的假设，并研究这将如何改变结果。\n",
    "\n",
    "### 连续近似\n",
    "\n",
    "通常假设有“非常大量”的消费者是很方便的，这样支付意愿就成为一条连续的曲线。\n",
    "\n",
    "和之前一样，纵轴表示支付意愿，而横轴表示数量。\n",
    "\n",
    "这种曲线被称为**逆需求曲线**。\n",
    "\n",
    "以下提供了一个例子，展示了逆需求曲线和设定价格。\n",
    "\n",
    "逆需求曲线由以下公式给出\n",
    "\n",
    "$$\n",
    "p = 100 e^{-q} \n",
    "$$"
   ]
  },
  {
   "cell_type": "code",
   "execution_count": null,
   "id": "8d1681c2",
   "metadata": {
    "mystnb": {
     "figure": {
      "caption": "支付意愿（连续）",
      "name": "wpcont"
     }
    }
   },
   "outputs": [],
   "source": [
    "def inverse_demand(q):\n",
    "    return 100 * np.exp(- q)\n",
    "\n",
    "# 构建网格以在不同的 q 值处评估函数\n",
    "q_min, q_max = 0, 5\n",
    "q_grid = np.linspace(q_min, q_max, 1000)\n",
    "\n",
    "# 绘制逆需求曲线\n",
    "fig, ax = plt.subplots()\n",
    "ax.plot((q_min, q_max), (price, price), lw=2, label=\"价格\")\n",
    "ax.plot(q_grid, inverse_demand(q_grid), \n",
    "        color=\"orange\", label=\"逆需求曲线\")\n",
    "ax.set_ylabel(\"支付意愿, 价格\")\n",
    "ax.set_xlabel(\"数量\")\n",
    "ax.set_xlim(q_min, q_max)\n",
    "ax.set_ylim(0, 110)\n",
    "ax.legend()\n",
    "plt.show()"
   ]
  },
  {
   "cell_type": "markdown",
   "id": "7f228798",
   "metadata": {},
   "source": [
    "通过类比离散情况，需求曲线下方和价格上方的面积称为**消费者剩余**，即消费者总贸易收益的度量。\n",
    "\n",
    "消费者剩余在下图中用阴影表示。"
   ]
  },
  {
   "cell_type": "code",
   "execution_count": null,
   "id": "511a1a87",
   "metadata": {
    "mystnb": {
     "figure": {
      "caption": "支付意愿（连续）与消费者剩余",
      "name": "wpcont_cs"
     }
    }
   },
   "outputs": [],
   "source": [
    "# solve for the value of q where demand meets price\n",
    "q_star = np.log(100) - np.log(price)\n",
    "\n",
    "fig, ax = plt.subplots()\n",
    "ax.plot((q_min, q_max), (price, price), lw=2, label=\"价格\")\n",
    "ax.plot(q_grid, inverse_demand(q_grid), \n",
    "        color=\"orange\", label=\"逆需求曲线\")\n",
    "small_grid = np.linspace(0, q_star, 500)\n",
    "ax.fill_between(small_grid, np.full(len(small_grid), price),\n",
    "                inverse_demand(small_grid), color=\"orange\",\n",
    "                alpha=0.5, label=\"消费者剩余\")\n",
    "ax.vlines(q_star, 0, price, ls=\"--\")\n",
    "ax.set_ylabel(\"支付意愿, 价格\")\n",
    "ax.set_xlabel(\"数量\")\n",
    "ax.set_xlim(q_min, q_max)\n",
    "ax.set_ylim(0, 110)\n",
    "ax.text(q_star, -10, \"$q^*$\")\n",
    "ax.legend()\n",
    "plt.show()"
   ]
  },
  {
   "cell_type": "markdown",
   "id": "392cdea9",
   "metadata": {},
   "source": [
    "这样计算出来的消费者剩余表示为\n",
    "\n",
    "$$\n",
    "\\int_0^{q^*} (p(q) - p) \\, dq\n",
    "$$\n",
    "\n",
    "其中 $q^*$ 是逆需求曲线与价格相交的地方。\n",
    "\n",
    "到目前为止，对于我们定义消费者剩余的方式，您可能会有以下两个问题：\n",
    "\n",
    "1. 消费者剩余度量的合理性。\n",
    "\n",
    "2. 如何在离散情况下使用积分计算消费者剩余。\n",
    "\n",
    "关于问题1，很容易证明在一定条件下，消费者剩余代表了增加到消费者总收入中的价值，假设每个消费者从市场中消费数量$q^*$的商品。\n",
    "\n",
    "关于问题2，注意到当消费者数量足够大时，单个消费者的支付意愿按大小顺序非常接近。\n",
    "\n",
    "相应地，通过将支付意愿与消费者数量的累积均值匹配和插值，我们可以逼近离散支付意愿分布为一条连续需求曲线。\n",
    "\n",
    "如图连续情况下的消费者剩余是由同样价格设定下所有消费者剩余的数值和表示的。\n",
    "\n",
    "### 数值求解\n",
    "\n",
    "事实上，如果需求曲线可以用解析项表示，就可以用数值积分的方式来计算消费剩余。"
   ]
  },
  {
   "cell_type": "code",
   "execution_count": null,
   "id": "a0008d34",
   "metadata": {},
   "outputs": [],
   "source": [
    "import scipy.integrate as spi\n",
    "\n",
    "# 计算消费者剩余\n",
    "integral, error = spi.quad(lambda q: inverse_demand(q) - price, 0., q_star)\n",
    "integral"
   ]
  },
  {
   "cell_type": "markdown",
   "id": "c65db75e",
   "metadata": {},
   "source": [
    "数值结果看起来合理。\n",
    "\n",
    "然而，如果想要更加准确的结果，该如何处理呢？\n",
    "\n",
    "我们可以细分我们的网格区域，在每个子区域内进行维积分，并求和得到总消费者剩余。\n",
    "\n",
    "下面提供了一个细分的工作示例。"
   ]
  },
  {
   "cell_type": "code",
   "execution_count": null,
   "id": "6e19e1ef",
   "metadata": {},
   "outputs": [],
   "source": [
    "def finer_partition_integrate(f, a, b, num_intervals):\n",
    "    x = np.linspace(a, b, num_intervals+1)\n",
    "    h = x[1] - x[0]\n",
    "    integral = sum(f(x[i]) * h for i in range(num_intervals))\n",
    "    return integral\n",
    "\n",
    "# 计算消费者剩余\n",
    "finer_partition_integrate(lambda q: inverse_demand(q) - price, 0.0, q_star, 10000)"
   ]
  },
  {
   "cell_type": "markdown",
   "id": "eb19c01d",
   "metadata": {},
   "source": [
    "这样得出的数值结果精度会更高，可以用户可控的粒度以保证可接受的累计误差比例。\n",
    "\n",
    "## 生产者剩余\n",
    "\n",
    "我们现在考虑生产者剩余，讨论与商家或供应商的支付意愿相关的概念。\n",
    "\n",
    "设 $v_i$ 是生产者 $i$ 愿意出售商品的价格。\n",
    "\n",
    "当价格为 $p$ 时，生产者 $i$ 的生产者剩余是 $\\max\\{p - v_i, 0\\}$。\n",
    "\n",
    "例如，一个愿意以 \\$10 售卖的生产者，以 \\$20 的价格售出，获得了 \\$10 的剩余。\n",
    "\n",
    "总生产者剩余为\n",
    "\n",
    "$$\n",
    "\\sum_{i=1}^{10} \\max\\{p - v_i, 0\\}\n",
    "= \\sum_{p \\geq v_i} (p - v_i)\n",
    "$$\n",
    "\n",
    "与消费者情况类似，如果我们将生产者愿意出售的价格近似成一条连续曲线来进行分析会更有帮助。\n",
    "\n",
    "这条曲线被称为**逆供给曲线**\n",
    "\n",
    "我们展示一个例子，其中逆供给曲线为\n",
    "\n",
    "$$\n",
    "p = 2 q^2\n",
    "$$\n",
    "\n",
    "阴影部分是这个连续模型中的总生产者剩余。"
   ]
  },
  {
   "cell_type": "code",
   "execution_count": null,
   "id": "e378674b",
   "metadata": {
    "mystnb": {
     "figure": {
      "caption": "愿意出售的价格（连续）与生产者剩余",
      "name": "wscont"
     }
    }
   },
   "outputs": [],
   "source": [
    "def inverse_supply(q):\n",
    "    return 2 * q**2\n",
    "\n",
    "# solve for the value of q where supply meets price\n",
    "q_star = (price / 2)**(1/2)\n",
    "\n",
    "# plot the inverse supply curve\n",
    "fig, ax = plt.subplots()\n",
    "ax.plot((q_min, q_max), (price, price), lw=2, label=\"价格\")\n",
    "ax.plot(q_grid, inverse_supply(q_grid), \n",
    "        color=\"green\", label=\"逆供给曲线\")\n",
    "small_grid = np.linspace(0, q_star, 500)\n",
    "ax.fill_between(small_grid, inverse_supply(small_grid), \n",
    "                np.full(len(small_grid), price), \n",
    "                color=\"green\",\n",
    "                alpha=0.5, label=\"生产者剩余\")\n",
    "ax.vlines(q_star, 0, price, ls=\"--\")\n",
    "ax.set_ylabel(\"愿意出售的价格, 价格\")\n",
    "ax.set_xlabel(\"数量\")\n",
    "ax.set_xlim(q_min, q_max)\n",
    "ax.set_ylim(0, 60)\n",
    "ax.text(q_star, -10, \"$q^*$\")\n",
    "ax.legend()\n",
    "plt.show()"
   ]
  },
  {
   "cell_type": "markdown",
   "id": "5bb0e5d8",
   "metadata": {},
   "source": [
    "生产者剩余可以用以下公式表示\n",
    "\n",
    "$$\n",
    "\\int_0^{q^*} (p - \\sigma(q)) \\, dq\n",
    "$$\n",
    "\n",
    "其中 $ \\sigma $ 是逆供给曲线，并且 $ q^* $ 是供给与价格相交的数量。\n",
    "\n",
    "通过专门的数值积分工具，我们可以计算出该区域的面积。例如："
   ]
  },
  {
   "cell_type": "code",
   "execution_count": null,
   "id": "66466aaf",
   "metadata": {},
   "outputs": [],
   "source": [
    "# 计算生产者剩余\n",
    "integral, error = spi.quad(lambda q: price - inverse_supply(q), 0., q_star)\n",
    "integral"
   ]
  },
  {
   "cell_type": "markdown",
   "id": "b719aee0",
   "metadata": {},
   "source": [
    "再次，我们可以用以下示例通过网格细分改进这个结果"
   ]
  },
  {
   "cell_type": "code",
   "execution_count": null,
   "id": "544501b1",
   "metadata": {},
   "outputs": [],
   "source": [
    "# 计算生产者剩余\n",
    "finer_partition_integrate(lambda q: price - inverse_supply(q), 0.0, q_star, 10000)"
   ]
  },
  {
   "cell_type": "markdown",
   "id": "a7e1ca39",
   "metadata": {},
   "source": [
    "## 总福利\n",
    "\n",
    "我们现在回到逆供给和需求曲线都存在的情况。\n",
    "\n",
    "除非出现特殊情况，逆供给曲线和逆需求曲线一般会在某个价格水平 $ p^* $ 交汇。\n",
    "\n",
    "交汇点以 $ (q^*, p^*) $ 表示。\n",
    "\n",
    "这里 $ q^* $ 表示最优价格水平 $ p^* $ 时的平衡数量。\n",
    "\n",
    "例如，考虑以下供需曲线\n",
    "\n",
    "* 需求\n",
    "$$\n",
    "p_d(q) = 100 e^{-q}\n",
    "$$ \n",
    "* 供给\n",
    "$$\n",
    "p_s(q) = 2 q^2\n",
    "$$\n",
    "\n",
    "在这种情况下，平衡数量和价格如图所示"
   ]
  },
  {
   "cell_type": "code",
   "execution_count": null,
   "id": "c22b333a",
   "metadata": {},
   "outputs": [],
   "source": [
    "fig, ax = plt.subplots()\n",
    "ax.plot(q_grid, inverse_demand(q_grid), \n",
    "        color=\"orange\", label=\"逆需求曲线\")\n",
    "ax.plot(q_grid, inverse_supply(q_grid), \n",
    "        color=\"green\", label=\"逆供给曲线\")\n",
    "\n",
    "# 目前我们是假设之前已计算出均衡\n",
    "ax.plot((q_star, q_star), (0, price), \"k--\")\n",
    "ax.plot((0, q_max), (price, price), \"k--\")\n",
    "ax.legend()\n",
    "ax.set_xlim(0, q_max)\n",
    "ax.set_ylim(0, 110)\n",
    "ax.set_ylabel(\"支付意愿, 价格\")\n",
    "ax.text(q_star, -10, \"$q^*$\")\n",
    "ax.text(-0.2, price, \"$p^*$\")\n",
    "plt.show()"
   ]
  },
  {
   "cell_type": "markdown",
   "id": "2c547d48",
   "metadata": {},
   "source": [
    "生产者和消费者剩余用阴影部分表示。"
   ]
  },
  {
   "cell_type": "code",
   "execution_count": null,
   "id": "e7e6f870",
   "metadata": {},
   "outputs": [],
   "source": [
    "fig, ax = plt.subplots()\n",
    "ax.plot(q_grid, inverse_demand(q_grid), \n",
    "        color=\"orange\", label=\"逆需求曲线\")\n",
    "ax.plot(q_grid, inverse_supply(q_grid), \n",
    "        color=\"green\", label=\"逆供给曲线\")\n",
    "q_star = np.log(100) / 2\n",
    "small_grid = np.linspace(0, q_star, 500)\n",
    "\n",
    "ax.fill_between(small_grid, np.full(len(small_grid), price), \n",
    "                inverse_demand(small_grid), color=\"orange\",\n",
    "                alpha=0.5, label=\"消费者剩余\")\n",
    "ax.fill_between(small_grid, inverse_supply(small_grid), \n",
    "                np.full(len(small_grid), price), \n",
    "                color=\"green\",\n",
    "                alpha=0.5, label=\"生产者剩余\")\n",
    "ax.plot((q_star,q_star), (0, price), 'k--')\n",
    "ax.plot((0, q_max), (price, price), 'k--')\n",
    "ax.legend()\n",
    "ax.set_xlim(0, q_max)\n",
    "ax.set_ylim(0, 110)\n",
    "ax.set_ylabel(\"支付意愿, 价格\")\n",
    "ax.text(q_star, -10, \"$q^*$\")\n",
    "ax.text(-0.2, price, \"$p^*$\")\n",
    "plt.show()"
   ]
  },
  {
   "cell_type": "markdown",
   "id": "d9e381a7",
   "metadata": {},
   "source": [
    "将社会总福利定义为消费者和生产者剩余之和\n",
    "\n",
    "$$\n",
    "\\int_0^{q^*} p_d(q) dq - \\int_0^{q^*} p_s(q) dq\n",
    "$$"
   ]
  },
  {
   "cell_type": "code",
   "execution_count": null,
   "id": "2fe2d471",
   "metadata": {},
   "outputs": [],
   "source": [
    "# 计算消费者剩余\n",
    "consumer_surplus, error = spi.quad(lambda q: inverse_demand(q), 0., q_star)\n",
    "# 从总和中减去价格乘以最优数量\n",
    "consumer_surplus -= price * q_star\n",
    "consumer_surplus"
   ]
  },
  {
   "cell_type": "code",
   "execution_count": null,
   "id": "c3e9b569",
   "metadata": {},
   "outputs": [],
   "source": [
    "# 计算生产者剩余\n",
    "producer_surplus, error = spi.quad(lambda q: price, 0., q_star)\n",
    "# 减去逆供给\n",
    "producer_surplus -= spi.quad(lambda q: inverse_supply(q), 0., q_star)[0]\n",
    "producer_surplus"
   ]
  },
  {
   "cell_type": "code",
   "execution_count": null,
   "id": "27ac8fe3",
   "metadata": {},
   "outputs": [],
   "source": [
    "# 计算总福利\n",
    "consumer_surplus + producer_surplus"
   ]
  },
  {
   "cell_type": "markdown",
   "id": "70194f32",
   "metadata": {},
   "source": [
    "## 积分规则\n",
    "\n",
    "有许多关于计算积分的规则，不同的规则适用于不同的函数 $f$。\n",
    "\n",
    "许多这些规则都与数学中最美丽和最强大的结果之一有关：[微积分基本定理](https://en.wikipedia.org/wiki/Fundamental_theorem_of_calculus)。\n",
    "\n",
    "我们不会试图在这里讨论这些概念，部分原因是这个主题太大，部分原因是你在本讲座中只需要知道一个规则，如下所述。\n",
    "\n",
    "如果 $f(x) = c + \\mathrm{d} x$，则\n",
    "\n",
    "$$ \n",
    "\\int_a^b f(x) \\mathrm{d} x = c (b - a) + \\frac{d}{2}(b^2 - a^2) \n",
    "$$\n",
    "\n",
    "实际上，这个规则是如此简单，可以通过基本几何来计算——你可以尝试通过绘制 $f$ 并计算 $a$ 和 $b$ 之间曲线下的面积来验证。\n",
    "\n",
    "接下来内容中我们会反复使用此规则。\n",
    "\n",
    "## 供需\n",
    "\n",
    "现在我们将供给和需求结合起来。\n",
    "\n",
    "这引导我们到重要的市场均衡概念，然后讨论均衡和福利。\n",
    "\n",
    "在大部分讨论中，我们假设逆需求和供给曲线是**仿射**函数的数量。\n",
    "\n",
    "```{note}\n",
    "\"仿射\" 意味着 \"线性加常数\"，[这里](https://math.stackexchange.com/questions/275310/what-is-the-difference-between-linear-and-affine-function)是一个关于它很好的讨论。\n",
    "```\n",
    "\n",
    "当我们在后续讲座中研究多种消费品的模型时，我们也会假设仿射的逆供给和需求函数。\n",
    "\n",
    "这样做是为了简化解释，使我们能够使用线性代数中的少量工具，即矩阵乘法和矩阵求逆。\n",
    "\n",
    "我们研究的是买卖双方以某个价格 $p$ 交换某种商品数量 $q$ 的市场。\n",
    "\n",
    "数量 $q$ 和价格 $p$ 都是标量。\n",
    "\n",
    "我们假设该商品的逆需求和供给曲线为：\n",
    "\n",
    "$$\n",
    "p = d_0 - d_1 q, \\quad d_0, d_1 > 0\n",
    "$$\n",
    "\n",
    "$$\n",
    "p = s_0 + s_1 q , \\quad s_0, s_1 > 0\n",
    "$$\n",
    "\n",
    "我们称它们为逆需求和供给曲线，因为价格在等式的左侧，而不是像在直接需求或供给函数中那样在右侧。\n",
    "\n",
    "我们可以使用一个 [namedtuple](https://docs.python.org/3/library/collections.html#collections.namedtuple) 来存储单一商品市场的参数。"
   ]
  },
  {
   "cell_type": "code",
   "execution_count": null,
   "id": "255e4e14",
   "metadata": {},
   "outputs": [],
   "source": [
    "Market = namedtuple('Market', ['d_0', # 需求截距\n",
    "                               'd_1', # 需求斜率\n",
    "                               's_0', # 供给截距\n",
    "                               's_1'] # 供给斜率\n",
    "                   )"
   ]
  },
  {
   "cell_type": "markdown",
   "id": "24d0c335",
   "metadata": {},
   "source": [
    "下面的函数创建一个带有默认值的 Market namedtuple 实例。"
   ]
  },
  {
   "cell_type": "code",
   "execution_count": null,
   "id": "d09fbf72",
   "metadata": {},
   "outputs": [],
   "source": [
    "def create_market(d_0=1.0, d_1=0.6, s_0=0.1, s_1=0.4):\n",
    "    return Market(d_0=d_0, d_1=d_1, s_0=s_0, s_1=s_1)"
   ]
  },
  {
   "cell_type": "markdown",
   "id": "34cb6111",
   "metadata": {},
   "source": [
    "## 图形和均衡\n",
    "\n",
    "考虑以下函数，它绘制市场的供需曲线。"
   ]
  },
  {
   "cell_type": "code",
   "execution_count": null,
   "id": "1ecc4db0",
   "metadata": {},
   "outputs": [],
   "source": [
    "def plot_market(m):\n",
    "    q_max = (m.d_0 - m.s_0) / min(m.d_1, m.s_1)\n",
    "    q_grid = np.linspace(0, q_max, 100)\n",
    "    fig, ax = plt.subplots()\n",
    "    ax.plot(q_grid, m.d_0 - m.d_1 * q_grid, lw=2, alpha=0.6, label=\"逆需求曲线\")\n",
    "    ax.plot(q_grid, m.s_0 + m.s_1 * q_grid, lw=2, alpha=0.6, label=\"逆供给曲线\")\n",
    "    ax.legend()\n",
    "    ax.set_xlim(0, q_max)\n",
    "    plt.show()\n",
    "\n",
    "m = create_market()\n",
    "plot_market(m)"
   ]
  },
  {
   "cell_type": "markdown",
   "id": "0a896d1b",
   "metadata": {},
   "source": [
    "### 均衡分析\n",
    "\n",
    "我们现在想要知道均衡价格和数量。\n",
    "\n",
    "这意味着我们想要知道两条曲线相交的位置。\n",
    "\n",
    "为了回答这个问题，我们将两条曲线相等\n",
    "\n",
    "$$\n",
    "d_0 - d_1 q = s_0 + s_1 q\n",
    "$$\n",
    "\n",
    "通过一些代数变换，我们得到\n",
    "\n",
    "$$\n",
    "q^* = (d_0 - s_0) / (s_1 + d_1)\n",
    "$$\n",
    "\n",
    "然后我们可以用逆供给或需求曲线计算得到对应的 $p$\n",
    "\n",
    "$$\n",
    "p^* = d_0 - d_1 q^*\n",
    "$$\n",
    "\n",
    "我们可以计算出一个市场的均衡价格和数量如下"
   ]
  },
  {
   "cell_type": "code",
   "execution_count": null,
   "id": "f08ef1bb",
   "metadata": {},
   "outputs": [],
   "source": [
    "def compute_equilibrium(m):\n",
    "    q_star = (m.d_0 - m.s_0) / (m.d_1 + m.s_1)\n",
    "    p_star = m.d_0 - m.d_1 * q_star\n",
    "    return p_star, q_star\n",
    "\n",
    "price, quantity = compute_equilibrium(m)\n",
    "(price, quantity)"
   ]
  },
  {
   "cell_type": "markdown",
   "id": "3df1b321",
   "metadata": {},
   "source": [
    "一个简单的函数可以将需求曲线、供给曲线和范围进行绘制"
   ]
  },
  {
   "cell_type": "code",
   "execution_count": null,
   "id": "a4f84f97",
   "metadata": {},
   "outputs": [],
   "source": [
    "def plot_market_with_equilibrium(m):\n",
    "    price, quantity = compute_equilibrium(m)\n",
    "    q_max = (m.d_0 - m.s_0) / min(m.d_1, m.s_1)\n",
    "    q_grid = np.linspace(0, q_max, 100)\n",
    "    fig, ax = plt.subplots()\n",
    "    ax.plot(q_grid, m.d_0 - m.d_1 * q_grid, lw=2, alpha=0.6, label=\"逆需求曲线\")\n",
    "    ax.plot(q_grid, m.s_0 + m.s_1 * q_grid, lw=2, alpha=0.6, label=\"逆供给曲线\")\n",
    "    ax.plot((quantity, quantity), (0, price), 'k--')\n",
    "    ax.plot((0, quantity), (price, price), 'k--')\n",
    "    ax.legend()\n",
    "    ax.set_xlim(0, q_max)\n",
    "    plt.show()\n",
    "plot_market_with_equilibrium(m)"
   ]
  },
  {
   "cell_type": "markdown",
   "id": "623cbf8d",
   "metadata": {},
   "source": [
    "## 福利\n",
    "\n",
    "消费者剩余，如阴影区域所示\n",
    "\n",
    "$$\n",
    "\\int_0^{q^*} (d_0 - d_1 q - p^*) d q \n",
    "$$\n",
    "\n",
    "生产者剩余，如阴影区域所示\n",
    "\n",
    "$$\n",
    "\\int_0^{q^*} (p^* - (s_0 + s_1 q)) d q \n",
    "$$\n",
    "\n",
    "社会总福利是消费者和生产者剩余之和"
   ]
  },
  {
   "cell_type": "code",
   "execution_count": null,
   "id": "5ec03c66",
   "metadata": {},
   "outputs": [],
   "source": [
    "def compute_welfare(m):\n",
    "    p_star, q_star = compute_equilibrium(m)\n",
    "    d = m.d_0 - m.d_1 * np.linspace(0, q_star, 1000)\n",
    "    s = m.s_0 + m.s_1 * np.linspace(0, q_star, 1000)\n",
    "    consumer_surplus = np.trapz(d - p_star, dx=q_star/1000)\n",
    "    producer_surplus = np.trapz(p_star - s, dx=q_star/1000)\n",
    "    total_welfare = consumer_surplus + producer_surplus\n",
    "    return consumer_surplus, producer_surplus, total_welfare\n",
    "\n",
    "consumer_surplus, producer_surplus, total_welfare = compute_welfare(m)\n",
    "(consumer_surplus, producer_surplus, total_welfare)"
   ]
  },
  {
   "cell_type": "markdown",
   "id": "366ce4b2",
   "metadata": {},
   "source": [
    "### 小结\n",
    "\n",
    "综上所述，我们探讨了如何计算均衡价格和数量，并研究了消费者剩余和生产者剩余。\n",
    "\n",
    "我们还展示了如何用数值方法计算并可视化这些概念。\n",
    "\n",
    "我们现在可以总结一下上述步骤，并定义一些可以直接调用的辅助函数：\n",
    "\n",
    "1. 创建一个 `Market` 实例\n",
    "2. 计算均衡价格和数量\n",
    "3. 绘制市场供需曲线及其均衡\n",
    "4. 计算社会总福利\n",
    "\n",
    "以下是完整的示例代码："
   ]
  },
  {
   "cell_type": "code",
   "execution_count": null,
   "id": "ee3af7bb",
   "metadata": {},
   "outputs": [],
   "source": [
    "# 定义 Market 类以及创建市场实例的函数\n",
    "Market = namedtuple('Market', ['d_0', 'd_1', 's_0', 's_1'])\n",
    "\n",
    "def create_market(d_0=1.0, d_1=0.6, s_0=0.1, s_1=0.4):\n",
    "    return Market(d_0=d_0, d_1=d_1, s_0=s_0, s_1=s_1)\n",
    "\n",
    "# 定义绘制市场供需曲线的函数\n",
    "def plot_market(m):\n",
    "    q_max = (m.d_0 - m.s_0) / min(m.d_1, m.s_1)\n",
    "    q_grid = np.linspace(0, q_max, 100)\n",
    "    fig, ax = plt.subplots()\n",
    "    ax.plot(q_grid, m.d_0 - m.d_1 * q_grid, lw=2, alpha=0.6, label=\"逆需求曲线\")\n",
    "    ax.plot(q_grid, m.s_0 + m.s_1 * q_grid, lw=2, alpha=0.6, label=\"逆供给曲线\")\n",
    "    ax.legend()\n",
    "    ax.set_xlim(0, q_max)\n",
    "    plt.show()\n",
    "\n",
    "# 定义计算均衡价格和数量的函数\n",
    "def compute_equilibrium(m):\n",
    "    q_star = (m.d_0 - m.s_0) / (m.d_1 + m.s_1)\n",
    "    p_star = m.d_0 - m.d_1 * q_star\n",
    "    return p_star, q_star\n",
    "\n",
    "# 定义绘制带有均衡点的市场供需曲线的函数\n",
    "def plot_market_with_equilibrium(m):\n",
    "    price, quantity = compute_equilibrium(m)\n",
    "    q_max = (m.d_0 - m.s_0) / min(m.d_1, m.s_1)\n",
    "    q_grid = np.linspace(0, q_max, 100)\n",
    "    fig, ax = plt.subplots()\n",
    "    ax.plot(q_grid, m.d_0 - m.d_1 * q_grid, lw=2, alpha=0.6, label=\"逆需求曲线\")\n",
    "    ax.plot(q_grid, m.s_0 + m.s_1 * q_grid, lw=2, alpha=0.6, label=\"逆供给曲线\")\n",
    "    ax.plot((quantity, quantity), (0, price), 'k--')\n",
    "    ax.plot((0, quantity), (price, price), 'k--')\n",
    "    ax.legend()\n",
    "    ax.set_xlim(0, q_max)\n",
    "    plt.show()\n",
    "\n",
    "# 定义计算消费者剩余、生产者剩余和总福利的函数\n",
    "def compute_welfare(m):\n",
    "    p_star, q_star = compute_equilibrium(m)\n",
    "    d = m.d_0 - m.d_1 * np.linspace(0, q_star, 1000)\n",
    "    s = m.s_0 + m.s_1 * np.linspace(0, q_star, 1000)\n",
    "    consumer_surplus = np.trapz(d - p_star, dx=q_star/1000)\n",
    "    producer_surplus = np.trapz(p_star - s, dx=q_star/1000)\n",
    "    total_welfare = consumer_surplus + producer_surplus\n",
    "    return consumer_surplus, producer_surplus, total_welfare\n",
    "\n",
    "# 示例使用\n",
    "m = create_market()\n",
    "plot_market_with_equilibrium(m)\n",
    "consumer_surplus, producer_surplus, total_welfare = compute_welfare(m)\n",
    "(consumer_surplus, producer_surplus, total_welfare)"
   ]
  },
  {
   "cell_type": "markdown",
   "id": "f9d03c43",
   "metadata": {},
   "source": [
    "此 `market` 可以被我们的 `inverse_demand` 和 `inverse_supply` 函数所使用。"
   ]
  },
  {
   "cell_type": "code",
   "execution_count": null,
   "id": "d61865b4",
   "metadata": {},
   "outputs": [],
   "source": [
    "def inverse_demand(q, model):\n",
    "    # 计算逆需求\n",
    "    return model.d_0 - model.d_1 * q\n",
    "\n",
    "def inverse_supply(q, model):\n",
    "    # 计算逆供给\n",
    "    return model.s_0 + model.s_1 * q"
   ]
  },
  {
   "cell_type": "markdown",
   "id": "8e9d07e5",
   "metadata": {},
   "source": [
    "上述代码块定义了逆需求和逆供给函数，它们可以使用`Market`实例进行计算。\n",
    "\n",
    "下面是使用 `market` 变量绘制供需曲线的代码示例："
   ]
  },
  {
   "cell_type": "code",
   "execution_count": null,
   "id": "90a9c3ef",
   "metadata": {
    "mystnb": {
     "figure": {
      "caption": "Supply and demand",
      "name": "supply_demand"
     }
    }
   },
   "outputs": [],
   "source": [
    "market = create_market()\n",
    "\n",
    "grid_min, grid_max, grid_size = 0, 1.5, 200\n",
    "q_grid = np.linspace(grid_min, grid_max, grid_size)\n",
    "supply_curve = inverse_supply(q_grid, market)\n",
    "demand_curve = inverse_demand(q_grid, market)\n",
    "\n",
    "fig, ax = plt.subplots()\n",
    "ax.plot(q_grid, supply_curve, label='供给', color='green')\n",
    "ax.plot(q_grid, demand_curve, label='需求', color='orange')\n",
    "ax.legend(loc='upper center', frameon=False)\n",
    "ax.set_ylim(0, 1.2)\n",
    "ax.set_xticks((0, 1))\n",
    "ax.set_yticks((0, 1))\n",
    "ax.set_xlabel('数量')\n",
    "ax.set_ylabel('价格')\n",
    "plt.show()"
   ]
  },
  {
   "cell_type": "markdown",
   "id": "dc82839a",
   "metadata": {},
   "source": [
    "这段代码首先创建一个市场实例，然后生成一个数量网格，计算相对应的供需曲线，并绘制结果。\n",
    "\n",
    "在上面的图中，**均衡**价格-数量对出现在供给和需求曲线的交点处。\n",
    "\n",
    "### 消费者剩余\n",
    "\n",
    "设给定某个数量 $q$ 并设 $p := d_0 - d_1 q$ 为逆需求曲线上相应的价格。\n",
    "\n",
    "我们将**消费者剩余** $S_c(q)$ 定义为逆需求曲线下的面积减去 $p q$：\n",
    "\n",
    "$$\n",
    "S_c(q) := \n",
    "\\int_0^{q} (d_0 - d_1 x) \\mathrm{d} x - p q \n",
    "$$ (eq:cstm_spls)\n",
    "\n",
    "下图展示了这一点"
   ]
  },
  {
   "cell_type": "code",
   "execution_count": null,
   "id": "dd46ae6c",
   "metadata": {
    "mystnb": {
     "figure": {
      "caption": "供给和需求（消费者剩余）",
      "name": "supply_demand_cs"
     }
    },
    "tags": [
     "hide-input"
    ]
   },
   "outputs": [],
   "source": [
    "q = 1.25\n",
    "p = inverse_demand(q, market)\n",
    "ps = np.ones_like(q_grid) * p\n",
    "\n",
    "fig, ax = plt.subplots()\n",
    "ax.plot(q_grid, demand_curve, label='需求', color='orange')\n",
    "ax.fill_between(q_grid[q_grid <= q],\n",
    "                demand_curve[q_grid <= q],\n",
    "                ps[q_grid <= q],\n",
    "                label='消费者剩余',\n",
    "                color=\"orange\", \n",
    "                alpha=0.5)\n",
    "ax.vlines(q, 0, p, linestyle=\"dashed\", color='black', alpha=0.7)\n",
    "ax.hlines(p, 0, q, linestyle=\"dashed\", color='black', alpha=0.7)\n",
    "\n",
    "ax.legend(loc='upper center', frameon=False)\n",
    "ax.set_ylim(0, 1.2)\n",
    "ax.set_xticks((q,))\n",
    "ax.set_xticklabels((\"$q$\",))\n",
    "ax.set_yticks((p,))\n",
    "ax.set_yticklabels((\"$p$\",))\n",
    "ax.set_xlabel('数量')\n",
    "ax.set_ylabel('价格')\n",
    "plt.show()"
   ]
  },
  {
   "cell_type": "markdown",
   "id": "40ed9cf6",
   "metadata": {},
   "source": [
    "这个绘图展示了消费者剩余的阴影区域，它表示消费者在给定数量和价格下的福利增益。\n",
    "\n",
    "消费者剩余提供了数量 $q$ 对应的总消费者福利的度量。\n",
    "\n",
    "其思想是逆需求曲线 $d_0 - d_1 q$ 显示了消费者在给定数量 $q$ 下，愿意为额外增量支付的价格。\n",
    "\n",
    "愿意支付的价格与实际支付的价格之间的差额就是消费者剩余。\n",
    "\n",
    "值 $S_c(q)$ 是当购买总量为 $q$，购买价格为 $p$ 时，这些剩余的“总和”（即积分）。\n",
    "\n",
    "在消费者剩余定义 {eq}`eq:cstm_spls` 中评估积分可得\n",
    "\n",
    "$$\n",
    "S_c(q) \n",
    "= d_0 q - \\frac{1}{2} d_1 q^2 - p q\n",
    "$$\n",
    "\n",
    "### 生产者剩余\n",
    "\n",
    "设给定某个数量 $q$ 并设 $p := s_0 + s_1 q$ 为逆供给曲线上相应的价格。\n",
    "\n",
    "我们将**生产者剩余**定义为 $p q$ 减去逆供给曲线下的面积\n",
    "\n",
    "$$\n",
    "S_p(q) \n",
    ":= p q - \\int_0^{q} (s_0 + s_1 x) \\mathrm{d} x \n",
    "$$ (eq:pdcr_spls)\n",
    "\n",
    "下图展示了这一点"
   ]
  },
  {
   "cell_type": "code",
   "execution_count": null,
   "id": "8ead72ec",
   "metadata": {
    "mystnb": {
     "figure": {
      "caption": "供给和需求（生产者剩余）",
      "name": "supply_demand_ps"
     }
    },
    "tags": [
     "hide-input"
    ]
   },
   "outputs": [],
   "source": [
    "q = 0.75\n",
    "p = inverse_supply(q, market)\n",
    "ps = np.ones_like(q_grid) * p\n",
    "\n",
    "fig, ax = plt.subplots()\n",
    "ax.plot(q_grid, supply_curve, label='供给', color='green')\n",
    "ax.fill_between(q_grid[q_grid <= q],\n",
    "                supply_curve[q_grid <= q],\n",
    "                ps[q_grid <= q],\n",
    "                label='生产者剩余',\n",
    "                color=\"green\",\n",
    "                alpha=0.5)\n",
    "ax.vlines(q, 0, p, linestyle=\"dashed\", color='black', alpha=0.7)\n",
    "ax.hlines(p, 0, q, linestyle=\"dashed\", color='black', alpha=0.7)\n",
    "\n",
    "ax.legend(loc='upper center', frameon=False)\n",
    "ax.set_ylim(0, 1.2)\n",
    "ax.set_xticks((q,))\n",
    "ax.set_xticklabels((\"$q$\",))\n",
    "ax.set_yticks((p,))\n",
    "ax.set_yticklabels((\"$p$\",))\n",
    "ax.set_xlabel('数量')\n",
    "ax.set_ylabel('价格')\n",
    "plt.show()"
   ]
  },
  {
   "cell_type": "markdown",
   "id": "891c1e73",
   "metadata": {},
   "source": [
    "生产者剩余提供了数量 $q$ 对应的总生产者福利的度量。\n",
    "\n",
    "其思想是逆供给曲线 $s_0 + s_1 q$ 显示了生产者在给定数量 $q$ 下，愿意出售的价格。\n",
    "\n",
    "愿意出售的价格与实际收到的价格之间的差额就是生产者剩余。\n",
    "\n",
    "值 $S_p(q)$ 是这些剩余的“总和”（即积分）。\n",
    "\n",
    "在生产者剩余定义 {eq}`eq:pdcr_spls` 中评估积分可得\n",
    "\n",
    "$$\n",
    "S_p(q) = p q - s_0 q -  \\frac{1}{2} s_1 q^2\n",
    "$$\n",
    "\n",
    "### 社会福利\n",
    "\n",
    "有时经济学家通过一个**福利标准**来衡量社会福利，该标准等于消费者剩余与生产者剩余之和，假设消费者和生产者支付相同的价格：\n",
    "\n",
    "$$\n",
    "W(q)\n",
    "= \\int_0^q (d_0 - d_1 x) dx - \\int_0^q (s_0 + s_1 x) \\mathrm{d} x  \n",
    "$$\n",
    "\n",
    "评估积分可得\n",
    "\n",
    "$$\n",
    "W(q) = (d_0 - s_0) q -  \\frac{1}{2} (d_1 + s_1) q^2\n",
    "$$\n",
    "\n",
    "以下是一个 Python 函数，它评估给定数量 $q$ 和一组固定参数下的社会福利。"
   ]
  },
  {
   "cell_type": "code",
   "execution_count": null,
   "id": "ee26c51c",
   "metadata": {},
   "outputs": [],
   "source": [
    "def W(q, market):\n",
    "    # Compute and return welfare\n",
    "    return (market.d_0 - market.s_0) * q - 0.5 * (market.d_1 + market.s_1) * q**2"
   ]
  },
  {
   "cell_type": "markdown",
   "id": "173675b1",
   "metadata": {},
   "source": [
    "这个函数计算给定市场条件下的社会总福利。\n",
    "\n",
    "下图绘制了社会福利 $W$ 作为数量 $q$ 的函数。"
   ]
  },
  {
   "cell_type": "code",
   "execution_count": null,
   "id": "cf35791e",
   "metadata": {
    "mystnb": {
     "figure": {
      "caption": "Welfare",
      "name": "wf"
     }
    },
    "tags": [
     "hide-input"
    ]
   },
   "outputs": [],
   "source": [
    "q_vals = np.linspace(0, 1.78, 200)\n",
    "fig, ax = plt.subplots()\n",
    "ax.plot(q_vals, W(q_vals, market), label='welfare', color='brown')\n",
    "ax.legend(frameon=False)\n",
    "ax.set_xlabel('quantity')\n",
    "plt.show()"
   ]
  },
  {
   "cell_type": "markdown",
   "id": "246fad49",
   "metadata": {},
   "source": [
    "让我们假设现在有一个社会规划者的任务是最大化社会福利。\n",
    "\n",
    "要计算最大化福利准则的数量，我们对 $q$ 求导数并将导数设置为零。\n",
    "\n",
    "$$\n",
    "\\frac{\\mathrm{d} W(q)}{\\mathrm{d} q} = d_0 - s_0 - (d_1 + s_1) q  = 0\n",
    "$$\n",
    "\n",
    "求解 $q$ 得到：\n",
    "\n",
    "$$\n",
    "q = \\frac{ d_0 - s_0}{s_1 + d_1}\n",
    "$$ (eq:old1)\n",
    "\n",
    "记住方程 {eq}`eq:old1` 给出的数量 $q$，这是社会规划者为了最大化消费者剩余加生产者剩余而选择的。\n",
    "\n",
    "我们将它与竞争性均衡中通过使供给等于需求所产生的数量进行比较。\n",
    "\n",
    "### 竞争性均衡\n",
    "\n",
    "我们可以通过使需求价格等于供给价格来实现相同的效果，而不是使供应和需求数量相等：\n",
    "\n",
    "$$\n",
    "p =  d_0 - d_1 q = s_0 + s_1 q \n",
    "$$\n",
    "\n",
    "如果我们求解上述等式中的第二等式来求 $q$，我们得到：\n",
    "\n",
    "$$\n",
    "q = \\frac{ d_0 - s_0}{s_1 + d_1}\n",
    "$$ (eq:equilib_q)\n",
    "\n",
    "这是竞争性均衡的数量。\n",
    "\n",
    "注意，均衡数量等于方程 {eq}`eq:old1` 给出的相同 $q$。\n",
    "\n",
    "方程 {eq}`eq:old1` 所确定的数量使供给等于需求的结果带来了一个关键发现：\n",
    "\n",
    "* 竞争性均衡数量最大化了我们的福利准则\n",
    "\n",
    "这是[第一福利定理](https://en.wikipedia.org/wiki/Fundamental_theorems_of_welfare_economics) 的一个版本，\n",
    "\n",
    "它还带来了一个有用的竞争性均衡计算策略：\n",
    "\n",
    "* 在求解福利问题以获得最优数量后，我们可以从供给价格或需求价格的任一处读出竞争性均衡价格，在竞争性均衡数量处。\n",
    "\n",
    "## 推广\n",
    "\n",
    "在{doc}`后续讲座 <supply_demand_multiple_goods>`中，我们将从其他对象中导出上述需求曲线和供给曲线的推广。\n",
    "\n",
    "我们的推广将把对单一商品市场的分析扩展到对 $n$ 个商品的 $n$ 个同时市场的分析。\n",
    "\n",
    "另外，\n",
    "\n",
    "* 我们将从一个在预算约束下最大化**效用函数**的消费者问题中导出**需求曲线**。\n",
    "\n",
    "* 我们将从一个价格接受者的生产者最大化其利润减去由**成本函数**描述的总成本的问题中导出**供给曲线**。\n",
    "\n",
    "## 练习\n",
    "\n",
    "假设现在逆需求和供给曲线被修改为\n",
    "\n",
    "$$\n",
    "p = i_d(q) := d_0 - d_1 q^{0.6} \n",
    "$$\n",
    "\n",
    "$$\n",
    "p = i_s(q) := s_0 + s_1 q^{1.8} \n",
    "$$\n",
    "\n",
    "所有参数依然是正值，如之前所述。\n",
    "\n",
    "```{exercise}\n",
    ":label: isd_ex1\n",
    "\n",
    "使用之前参数值保存的同一个 `Market` namedtuple，但使新的 `inverse_demand` 和 `inverse_supply` 函数匹配这些新定义。\n",
    "\n",
    "然后绘制逆需求和供给曲线 $i_d$ 和 $i_s$。\n",
    "\n",
    "```\n",
    "\n",
    "```{solution-start} isd_ex1\n",
    ":class: dropdown\n",
    "```\n",
    "\n",
    "让我们更新上述定义的 `inverse_demand` 和 `inverse_supply` 函数。"
   ]
  },
  {
   "cell_type": "code",
   "execution_count": null,
   "id": "410a2d7d",
   "metadata": {},
   "outputs": [],
   "source": [
    "def inverse_demand(q, model):\n",
    "    return model.d_0 - model.d_1 * q**0.6\n",
    "\n",
    "def inverse_supply(q, model):\n",
    "    return model.s_0 + model.s_1 * q**1.8"
   ]
  },
  {
   "cell_type": "markdown",
   "id": "e26e0e9e",
   "metadata": {},
   "source": [
    "接下来，我们将绘制供需曲线。我们将重新绘制图表，以便适应新的需求和供给函数形式。"
   ]
  },
  {
   "cell_type": "code",
   "execution_count": null,
   "id": "87ba3cb2",
   "metadata": {},
   "outputs": [],
   "source": [
    "market = create_market()\n",
    "\n",
    "grid_min, grid_max, grid_size = 0, 1.5, 200\n",
    "q_grid = np.linspace(grid_min, grid_max, grid_size)\n",
    "supply_curve = inverse_supply(q_grid, market)\n",
    "demand_curve = inverse_demand(q_grid, market)\n",
    "\n",
    "fig, ax = plt.subplots()\n",
    "ax.plot(q_grid, supply_curve, label='供给', color='green')\n",
    "ax.plot(q_grid, demand_curve, label='需求', color='orange')\n",
    "ax.legend(loc='upper center', frameon=False)\n",
    "ax.set_ylim(0, 1.2)\n",
    "ax.set_xticks((0, 1))\n",
    "ax.set_yticks((0, 1))\n",
    "ax.set_xlabel('数量')\n",
    "ax.set_ylabel('价格')\n",
    "plt.show()"
   ]
  },
  {
   "cell_type": "markdown",
   "id": "6fb62660",
   "metadata": {},
   "source": [
    "如上图所示，我们按照新的定义更新了供需曲线。\n",
    "```{solution-end}\n",
    "```\n",
    "\n",
    "\n",
    "```{exercise}\n",
    ":label: isd_ex2\n",
    "\n",
    "如前所述，消费剩余在数量 $q$ 时是需求曲线下的面积减去价格乘以数量：\n",
    "\n",
    "$$\n",
    "S_c(q) = \\int_0^{q} i_d(x) \\mathrm{d} x - p q \n",
    "$$\n",
    "\n",
    "此处 $p$ 设置为 $i_d(q)$\n",
    "\n",
    "生产者剩余是价格乘以数量减去逆供给曲线下的面积：\n",
    "\n",
    "$$\n",
    "S_p(q) \n",
    "= p q - \\int_0^q i_s(x) \\mathrm{d} x \n",
    "$$\n",
    "\n",
    "此处 $p$ 设置为 $i_s(q)$。\n",
    "\n",
    "社会福利是假设买卖双方价格相同的情况下，消费者和生产者剩余的总和：\n",
    "\n",
    "$$\n",
    "W(q)\n",
    "= \\int_0^q i_d(x) \\mathrm{d} x - \\int_0^q i_s(x) \\mathrm{d} x  \n",
    "$$\n",
    "\n",
    "求积分并编写一个函数以数值方式计算给定 $q$ 的该量。\n",
    "\n",
    "绘制福利作为 $q$ 的函数。\n",
    "```\n",
    "\n",
    "```{solution-start} isd_ex2\n",
    ":class: dropdown\n",
    "```\n",
    "\n",
    "计算积分得\n",
    "\n",
    "$$\n",
    "W(q) \n",
    "= d_0 q - \\frac{d_1 q^{1.6}}{1.6}\n",
    "    - \\left( s_0 q + \\frac{s_1 q^{2.8}}{2.8} \\right)\n",
    "$$\n",
    "\n",
    "以下是一个计算此值的 Python 函数："
   ]
  },
  {
   "cell_type": "code",
   "execution_count": null,
   "id": "62375943",
   "metadata": {},
   "outputs": [],
   "source": [
    "def W(q, market):\n",
    "    # Compute and return welfare\n",
    "    S_c = market.d_0 * q - market.d_1 * q**1.6 / 1.6\n",
    "    S_p = market.s_0 * q + market.s_1 * q**2.8 / 2.8\n",
    "    return S_c - S_p"
   ]
  },
  {
   "cell_type": "markdown",
   "id": "5d36750f",
   "metadata": {},
   "source": [
    "接下来，我们绘制福利 $W$ 作为数量 $q$ 的函数。"
   ]
  },
  {
   "cell_type": "code",
   "execution_count": null,
   "id": "55e25509",
   "metadata": {},
   "outputs": [],
   "source": [
    "fig, ax = plt.subplots()\n",
    "ax.plot(q_vals, W(q_vals, market), label='welfare', color='brown')\n",
    "ax.legend(frameon=False)\n",
    "ax.set_xlabel('quantity')\n",
    "plt.show()"
   ]
  },
  {
   "cell_type": "markdown",
   "id": "7641c863",
   "metadata": {},
   "source": [
    "```{solution-end}\n",
    "```\n",
    "\n",
    "````{exercise}\n",
    ":label: isd_ex3\n",
    "\n",
    "由于非线性，新的福利函数不易用铅笔和纸来最大化。\n",
    "\n",
    "请使用 `scipy.optimize.minimize_scalar` 来最大化它。\n",
    "\n",
    "```{seealso}\n",
    "我们的 [SciPy](https://python-programming.quantecon.org/scipy.html) 讲座中关于 [优化](https://python-programming.quantecon.org/scipy.html#optimization) 的一节是了解更多的有用资源。\n",
    "```\n",
    "\n",
    "````\n",
    "\n",
    "```{solution-start} isd_ex3\n",
    ":class: dropdown\n",
    "```"
   ]
  },
  {
   "cell_type": "code",
   "execution_count": null,
   "id": "ea6486b0",
   "metadata": {},
   "outputs": [],
   "source": [
    "from scipy.optimize import minimize_scalar\n",
    "\n",
    "def objective(q):\n",
    "    return -W(q, market)\n",
    "\n",
    "result = minimize_scalar(objective, bounds=(0, 10))\n",
    "print(result.message)"
   ]
  },
  {
   "cell_type": "code",
   "execution_count": null,
   "id": "0af287f7",
   "metadata": {},
   "outputs": [],
   "source": [
    "maximizing_q = result.x\n",
    "print(f\"{maximizing_q: .5f}\")"
   ]
  },
  {
   "cell_type": "markdown",
   "id": "cb304b95",
   "metadata": {},
   "source": [
    "```{solution-end}\n",
    "```\n",
    "\n",
    "````{exercise}\n",
    ":label: isd_ex4\n",
    "\n",
    "现在通过找到等于供给和需求的价格来计算均衡数量。\n",
    "\n",
    "你可以通过找到超额需求函数的根来数值计算：\n",
    "\n",
    "$$\n",
    "e_d(q) := i_d(q) - i_s(q) \n",
    "$$\n",
    "\n",
    "你可以用 `scipy.optimize.newton` 来计算这个根。\n",
    "\n",
    "```{seealso}\n",
    "我们的 [SciPy](https://python-programming.quantecon.org/scipy.html) 讲座中关于 [根和固定点](https://python-programming.quantecon.org/scipy.html#roots-and-fixed-points) 的一节是了解更多的有用资源。\n",
    "```\n",
    "\n",
    "用接近1.0的初始猜测值来初始化 `newton`。\n",
    "\n",
    "（类似的初始条件会给出相同的结果。）\n",
    "\n",
    "你会发现均衡价格与福利最大化价格是一致的，符合首要福利理论。\n",
    "````\n",
    "\n",
    "```{solution-start} isd_ex4\n",
    ":class: dropdown\n",
    "```"
   ]
  },
  {
   "cell_type": "code",
   "execution_count": null,
   "id": "ed181a0e",
   "metadata": {},
   "outputs": [],
   "source": [
    "from scipy.optimize import newton\n",
    "\n",
    "def excess_demand(q):\n",
    "    return inverse_demand(q, market) - inverse_supply(q, market)\n",
    "\n",
    "equilibrium_q = newton(excess_demand, 0.99)\n",
    "print(f\"{equilibrium_q: .5f}\")"
   ]
  },
  {
   "cell_type": "markdown",
   "id": "af5ae72e",
   "metadata": {},
   "source": [
    "```{solution-end}\n",
    "```"
   ]
  }
 ],
 "metadata": {
  "jupytext": {
   "text_representation": {
    "extension": ".md",
    "format_name": "myst",
    "format_version": 0.13,
    "jupytext_version": "1.15.1"
   }
  },
  "kernelspec": {
   "display_name": "Python 3 (ipykernel)",
   "language": "python",
   "name": "python3"
  },
  "source_map": [
   12,
   54,
   58,
   100,
   121,
   160,
   185,
   191,
   217,
   245,
   251,
   261,
   270,
   303,
   334,
   346,
   350,
   354,
   357,
   382,
   399,
   403,
   428,
   436,
   444,
   452,
   455,
   509,
   515,
   519,
   522,
   528,
   541,
   569,
   577,
   581,
   595,
   613,
   625,
   642,
   695,
   699,
   707,
   713,
   737,
   756,
   789,
   821,
   854,
   887,
   891,
   897,
   912,
   1001,
   1007,
   1011,
   1029,
   1082,
   1088,
   1092,
   1098,
   1120,
   1130,
   1133,
   1166,
   1174
  ]
 },
 "nbformat": 4,
 "nbformat_minor": 5
}