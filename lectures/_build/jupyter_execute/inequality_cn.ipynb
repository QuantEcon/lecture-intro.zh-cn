{
 "cells": [
  {
   "cell_type": "markdown",
   "id": "49d34128",
   "metadata": {},
   "source": [
    "# 收入和财富不平等\n",
    "\n",
    "\n",
    "## 概览\n",
    "\n",
    "在本节中我们将\n",
    "\n",
    "* 为讲座中采用的技术提供动机\n",
    "* 导入我们工作中需要的代码库。\n",
    "\n",
    "### 一些历史\n",
    "\n",
    "许多历史学家认为，不平等在罗马共和国的衰落中起到了关键作用。\n",
    "\n",
    "在击败迦太基和入侵西班牙后，钱财流入罗马，大大丰富了当权者。\n",
    "\n",
    "同时，普通公民被征召去打仗很长时间，财富减少。\n",
    "\n",
    "由此而来的不平等增长引起了动荡，动摇了共和国的基础。\n",
    "\n",
    "最终，罗马共和国让位于一系列独裁者，从公元前27年的屋大维（奥古斯都）开始。\n",
    "\n",
    "这一历史本身就很吸引人，而且我们可以看到与现代世界某些国家的相似之处。\n",
    "\n",
    "许多近期的政治辩论都围绕不平等展开。\n",
    "\n",
    "许多经济政策，从税收到福利国家，\n",
    "都旨在解决不平等。\n",
    "\n",
    "\n",
    "### 测量\n",
    "\n",
    "这些辩论的一个问题是，不平等常常定义不明确。\n",
    "\n",
    "此外，关于不平等的辩论往往与政治信仰联系在一起。\n",
    "\n",
    "这对经济学家来说是危险的，因为让政治信仰塑造我们的发现会降低客观性。\n",
    "\n",
    "要以真正科学的视角看待不平等这一话题，我们必须从谨慎的定义开始。\n",
    "\n",
    "在这节课中我们讨论经济研究中使用的不平等的标准衡量方法。\n",
    "\n",
    "对于这些衡量方法中的每一个，我们将查看模拟数据和真实数据。\n",
    "\n",
    "我们将安装以下库。"
   ]
  },
  {
   "cell_type": "code",
   "execution_count": null,
   "id": "709bb975",
   "metadata": {
    "tags": [
     "hide-output"
    ]
   },
   "outputs": [],
   "source": [
    "!pip install --upgrade quantecon interpolation"
   ]
  },
  {
   "cell_type": "markdown",
   "id": "c71fdef4",
   "metadata": {},
   "source": [
    "图像输入功能：启用"
   ]
  },
  {
   "cell_type": "code",
   "execution_count": null,
   "id": "721ff1e9",
   "metadata": {},
   "outputs": [],
   "source": [
    "import pandas as pd\n",
    "import numpy as np\n",
    "import matplotlib.pyplot as plt\n",
    "import quantecon as qe\n",
    "import random as rd\n",
    "from interpolation import interp"
   ]
  },
  {
   "cell_type": "markdown",
   "id": "27de0c7f",
   "metadata": {},
   "source": [
    "## 洛伦兹曲线\n",
    "\n",
    "衡量不平等的一个流行方法是洛伦兹曲线。\n",
    "\n",
    "在本节中我们定义洛伦兹曲线并检查其属性。\n",
    "\n",
    "\n",
    "### 定义\n",
    "\n",
    "洛伦兹曲线取一个样本$w_1, \\ldots, w_n$并生成一条曲线$L$。\n",
    "\n",
    "我们假设样本$w_1, \\ldots, w_n$已经从最小到最大排序。\n",
    "\n",
    "为了帮助理解，我们假设我们在测量财富\n",
    "\n",
    "*  $w_1$是最贫穷人口的财富\n",
    "*  $w_n$是最富有人口的财富\n",
    "\n",
    "曲线$L$只是一个函数$y = L(x)$，我们可以绘制和解释。\n",
    "\n",
    "为了创建它，我们首先根据以下公式生成数据点$(x_i, y_i)$：\n",
    "\n",
    "\\begin{equation*}\n",
    "    x_i = \\frac{i}{n},\n",
    "    \\qquad\n",
    "    y_i = \\frac{\\sum_{j \\leq i} w_j}{\\sum_{j \\leq n} w_j},\n",
    "    \\qquad i = 1, \\ldots, n\n",
    "\\end{equation*}\n",
    "\n",
    "现在洛伦兹曲线$L$是用这些数据点插值形成的。\n",
    "\n",
    "（如果我们在Matplotlib中使用线状图，插值将自动完成。）\n",
    "\n",
    "声明“$y = L(x)$”的意思是最底层的$(100 \\times x)$\\%的人拥有全部财富的$(100 \\times y)$\\%。\n",
    "\n",
    "* 如果$x=0.5$且$y=0.1$，那么底层50%的人口拥有10%的财富。\n",
    "\n",
    "在上面的讨论中我们专注于财富，但同样的想法也适用于收入、消费等。"
   ]
  },
  {
   "cell_type": "markdown",
   "id": "0f18ef29",
   "metadata": {},
   "source": [
    "### 模拟数据的洛伦兹曲线\n",
    "\n",
    "让我们看看一些例子并尝试建立理解。\n",
    "\n",
    "在下一张图中，我们生成$n=2000$个来自对数正态分布的抽样，并将这些抽样作为我们的样本人口。\n",
    "\n",
    "直线（所有$x$上的$x=L(x)$）对应于完全平等。\n",
    "\n",
    "对数正态抽样生成了一个不那么平等的分布。\n",
    "\n",
    "例如，如果我们将这些抽样看作是家庭财富的观测值，那么虚线显示底层80%的家庭拥有总财富的超过40%。"
   ]
  },
  {
   "cell_type": "code",
   "execution_count": null,
   "id": "45979df4",
   "metadata": {
    "mystnb": {
     "figure": {
      "caption": "模拟数据的洛伦兹曲线",
      "name": "lorenz_simulated"
     }
    }
   },
   "outputs": [],
   "source": [
    "n = 2000\n",
    "sample = np.exp(np.random.randn(n))\n",
    "\n",
    "fig, ax = plt.subplots()\n",
    "\n",
    "f_vals, l_vals = qe.lorenz_curve(sample)\n",
    "ax.plot(f_vals, l_vals, label=f'对数正态样本', lw=2)\n",
    "ax.plot(f_vals, f_vals, label='平等', lw=2)\n",
    "\n",
    "ax.legend(fontsize=12)\n",
    "\n",
    "ax.vlines([0.8], [0.0], [0.43], alpha=0.5, colors='k', ls='--')\n",
    "ax.hlines([0.43], [0], [0.8], alpha=0.5, colors='k', ls='--')\n",
    "\n",
    "ax.set_ylim((0, 1))\n",
    "ax.set_xlim((0, 1))\n",
    "\n",
    "plt.show()"
   ]
  },
  {
   "cell_type": "markdown",
   "id": "57f72c2e",
   "metadata": {},
   "source": [
    "### 美国数据的洛伦兹曲线\n",
    "\n",
    "接下来我们来看一下真实数据，重点关注2016年美国的收入和财富。\n",
    "\n",
    "以下代码块导入数据集 `SCF_plus` 的一个子集，\n",
    "该数据集来自[消费者财务调查](https://en.wikipedia.org/wiki/Survey_of_Consumer_Finances) (SCF)。"
   ]
  },
  {
   "cell_type": "code",
   "execution_count": null,
   "id": "a40a1b42",
   "metadata": {},
   "outputs": [],
   "source": [
    "url = 'https://media.githubusercontent.com/media/QuantEcon/high_dim_data/main/SCF_plus/SCF_plus_mini.csv'\n",
    "df = pd.read_csv(url)\n",
    "df = df.dropna()\n",
    "df_income_wealth = df"
   ]
  },
  {
   "cell_type": "code",
   "execution_count": null,
   "id": "069ed494",
   "metadata": {},
   "outputs": [],
   "source": [
    "df_income_wealth.head()"
   ]
  },
  {
   "cell_type": "markdown",
   "id": "2f685f95",
   "metadata": {},
   "source": [
    "以下代码块使用存储在数据框 ``df_income_wealth`` 中的数据生成洛伦兹曲线。\n",
    "\n",
    "（由于我们需要根据 SCF 提供的人口权重调整数据，代码有点复杂。）"
   ]
  },
  {
   "cell_type": "code",
   "execution_count": null,
   "id": "5e564f0f",
   "metadata": {
    "tags": [
     "hide-input"
    ]
   },
   "outputs": [],
   "source": [
    "df = df_income_wealth \n",
    "\n",
    "varlist = ['n_wealth',    # 净财富 \n",
    "           't_income',    # 总收入\n",
    "           'l_income']    # 劳动收入\n",
    "\n",
    "years = df.year.unique()\n",
    "\n",
    "# 创建列表来存储洛伦兹曲线数据\n",
    "\n",
    "F_vals, L_vals = [], []\n",
    "\n",
    "for var in varlist:\n",
    "    # 创建列表来存储洛伦兹曲线数据\n",
    "    f_vals = []\n",
    "    l_vals = []\n",
    "    for year in years:\n",
    "\n",
    "        # 根据权重重复观测值\n",
    "        counts = list(round(df[df['year'] == year]['weights'] )) \n",
    "        y = df[df['year'] == year][var].repeat(counts)\n",
    "        y = np.asarray(y)\n",
    "        \n",
    "        # 打乱顺序以改进图像\n",
    "        rd.shuffle(y)    \n",
    "               \n",
    "        # 计算并存储洛伦兹曲线数据\n",
    "        f_val, l_val = qe.lorenz_curve(y)\n",
    "        f_vals.append(f_val)\n",
    "        l_vals.append(l_val)\n",
    "        \n",
    "    F_vals.append(f_vals)\n",
    "    L_vals.append(l_vals)\n",
    "\n",
    "f_vals_nw, f_vals_ti, f_vals_li = F_vals\n",
    "l_vals_nw, l_vals_ti, l_vals_li = L_vals"
   ]
  },
  {
   "cell_type": "markdown",
   "id": "ef57c393",
   "metadata": {},
   "source": [
    "现在我们为2016年美国的净财富、总收入和劳动收入绘制洛伦兹曲线。"
   ]
  },
  {
   "cell_type": "code",
   "execution_count": null,
   "id": "db8b8ea2",
   "metadata": {
    "mystnb": {
     "figure": {
      "caption": "2016年美国洛伦兹曲线",
      "name": "lorenz_us"
     },
     "image": {
      "alt": "lorenz_us"
     }
    }
   },
   "outputs": [],
   "source": [
    "fig, ax = plt.subplots()\n",
    "\n",
    "ax.plot(f_vals_nw[-1], l_vals_nw[-1], label=f'净财富')\n",
    "ax.plot(f_vals_ti[-1], l_vals_ti[-1], label=f'总收入')\n",
    "ax.plot(f_vals_li[-1], l_vals_li[-1], label=f'劳动收入')\n",
    "ax.plot(f_vals_nw[-1], f_vals_nw[-1], label=f'平等')\n",
    "\n",
    "ax.legend(fontsize=12)   \n",
    "plt.show()"
   ]
  },
  {
   "cell_type": "markdown",
   "id": "3446aaf9",
   "metadata": {},
   "source": [
    "这里所有的收入和财富衡量标准都是税前的。\n",
    "\n",
    "总收入是家庭所有收入来源的总和，包括劳动收入但不包括资本收益。\n",
    "\n",
    "这个图的一个关键发现是，财富不平等比收入不平等更为极端。"
   ]
  },
  {
   "cell_type": "markdown",
   "id": "4aa28fe4",
   "metadata": {},
   "source": [
    "## 基尼系数\n",
    "\n",
    "洛伦兹曲线是表示分布不平等的一个有用的视觉工具。\n",
    "\n",
    "另一个衡量收入和财富不平等的流行方法是基尼系数。\n",
    "\n",
    "基尼系数只是一个数值，而不是一条曲线。\n",
    "\n",
    "在本节中我们讨论基尼系数及其与洛伦兹曲线的关系。\n",
    "\n",
    "### 定义\n",
    "\n",
    "如前所述，假设样本$w_1, \\ldots, w_n$已经从最小到最大排序。\n",
    "\n",
    "基尼系数定义为\n",
    "\n",
    "\\begin{equation}\n",
    "    \\label{eq:gini}\n",
    "    G :=\n",
    "    \\frac\n",
    "        {\\sum_{i=1}^n \\sum_{j = 1}^n |w_j - w_i|}\n",
    "        {2n\\sum_{i=1}^n w_i}.\n",
    "\\end{equation}\n",
    "\n",
    "基尼系数与洛伦兹曲线密切相关。\n",
    "\n",
    "实际上，可以证明其值是等于平等线和洛伦兹曲线之间面积的两倍（例如下面图中的阴影区域）。\n",
    "\n",
    "其思想是$G=0$表示完全平等，而$G=1$表示完全不平等。"
   ]
  },
  {
   "cell_type": "code",
   "execution_count": null,
   "id": "6403dbb3",
   "metadata": {
    "mystnb": {
     "figure": {
      "caption": "模拟数据的阴影洛伦兹曲线",
      "name": "lorenz_gini"
     },
     "image": {
      "alt": "lorenz_gini"
     }
    }
   },
   "outputs": [],
   "source": [
    "fig, ax = plt.subplots()\n",
    "\n",
    "f_vals, l_vals = qe.lorenz_curve(sample)\n",
    "ax.plot(f_vals, l_vals, label=f'对数正态样本', lw=2)\n",
    "ax.plot(f_vals, f_vals, label='平等', lw=2)\n",
    "\n",
    "ax.legend(fontsize=12)\n",
    "\n",
    "ax.vlines([0.8], [0.0], [0.43], alpha=0.5, colors='k', ls='--')\n",
    "ax.hlines([0.43], [0], [0.8], alpha=0.5, colors='k', ls='--')\n",
    "\n",
    "ax.fill_between(f_vals, l_vals, f_vals, alpha=0.06)\n",
    "\n",
    "ax.set_ylim((0, 1))\n",
    "ax.set_xlim((0, 1))\n",
    "\n",
    "ax.text(0.04, 0.5, r'$G = 2 \\times$ 阴影面积', fontsize=12)\n",
    "  \n",
    "plt.show()"
   ]
  },
  {
   "cell_type": "markdown",
   "id": "2f7286e6",
   "metadata": {},
   "source": [
    "### 示例\n",
    "\n",
    "让我们使用上面的例子从洛伦兹曲线的阴影区域计算基尼系数。"
   ]
  },
  {
   "cell_type": "code",
   "execution_count": null,
   "id": "4722e6df",
   "metadata": {},
   "outputs": [],
   "source": [
    "qe.gini_coefficient(sample)"
   ]
  },
  {
   "cell_type": "markdown",
   "id": "7b877b64",
   "metadata": {},
   "source": [
    "### 模拟数据的基尼系数动态变化\n",
    "\n",
    "让我们在一些模拟中检查基尼系数。\n",
    "\n",
    "下面的代码计算了五个不同人口的基尼系数。\n",
    "\n",
    "每一个人口是通过从具有参数 $\\mu$（均值）和 $\\sigma$（标准差）的对数正态分布中抽样生成的。\n",
    "\n",
    "为了创建这五个人口，我们将 $\\sigma$ 在 0.2 和 4 之间的长度为 5 的网格上变化。\n",
    "\n",
    "在每种情况下，我们设定 $\\mu = - \\sigma^2 / 2$。\n",
    "\n",
    "这意味着分布的均值不会随 $\\sigma$ 改变。\n",
    "\n",
    "（你可以通过查看对数正态分布的均值表达式来验证这一点。）"
   ]
  },
  {
   "cell_type": "code",
   "execution_count": null,
   "id": "7f440f9c",
   "metadata": {},
   "outputs": [],
   "source": [
    "k = 5\n",
    "σ_vals = np.linspace(0.2, 4, k)\n",
    "n = 2_000\n",
    "\n",
    "ginis = []\n",
    "\n",
    "for σ in σ_vals:\n",
    "    μ = -σ**2 / 2\n",
    "    y = np.exp(μ + σ * np.random.randn(n))\n",
    "    ginis.append(qe.gini_coefficient(y))"
   ]
  },
  {
   "cell_type": "markdown",
   "id": "d4784905",
   "metadata": {},
   "source": [
    "接下来我们绘制$\\sigma$和相应基尼系数$G$的值。"
   ]
  },
  {
   "cell_type": "code",
   "execution_count": null,
   "id": "d523c2dc",
   "metadata": {
    "mystnb": {
     "figure": {
      "caption": "标准差与基尼系数",
      "name": "gini_std"
     },
     "image": {
      "alt": "gini_std"
     }
    }
   },
   "outputs": [],
   "source": [
    "fig, ax = plt.subplots()\n",
    "\n",
    "ax.plot(σ_vals, ginis, label='基尼系数')\n",
    "\n",
    "ax.legend(fontsize=12)\n",
    "\n",
    "ax.set_xlabel('$sigma$', fontsize=12)\n",
    "ax.set_ylabel('$G$', fontsize=12)\n",
    "\n",
    "plt.show()"
   ]
  },
  {
   "cell_type": "markdown",
   "id": "9fe502a4",
   "metadata": {},
   "source": [
    "图表显示了$\\sigma$对基尼系数有显著影响（尽管$\\sigma$影响分布的方差，而不是均值）。\n",
    "\n",
    "现在我将基尼系数的上述代码封装到一个函数中。"
   ]
  },
  {
   "cell_type": "code",
   "execution_count": null,
   "id": "3408d758",
   "metadata": {},
   "outputs": [],
   "source": [
    "def gini_coeff_vs_sigma(σ_vals, n=2_000):\n",
    "    \"\"\"\n",
    "    给定不同行参数值后计算基尼系数\n",
    "    \"\"\"\n",
    "\n",
    "    ginis = []\n",
    "\n",
    "    for σ in σ_vals:\n",
    "        μ = -σ**2 / 2  # 设定均值恒定\n",
    "        y = np.exp(μ + σ * np.random.randn(n))\n",
    "        ginis.append(qe.gini_coefficient(y))\n",
    "    \n",
    "    return ginis"
   ]
  },
  {
   "cell_type": "markdown",
   "id": "6c4430a9",
   "metadata": {},
   "source": [
    "现在我们运行该函数并将基尼系数对$\\sigma$绘制出来。"
   ]
  },
  {
   "cell_type": "code",
   "execution_count": null,
   "id": "820c8e6c",
   "metadata": {
    "mystnb": {
     "figure": {
      "caption": "标准差与基尼系数",
      "name": "gini_std_function"
     },
     "image": {
      "alt": "gini_std_function"
     }
    }
   },
   "outputs": [],
   "source": [
    "σ_vals = np.linspace(0.2, 4, 100)\n",
    "ginis = gini_coeff_vs_sigma(σ_vals)\n",
    "\n",
    "fig, ax = plt.subplots()\n",
    "\n",
    "ax.plot(σ_vals, ginis, label='基尼系数')\n",
    "\n",
    "ax.legend(fontsize=12)\n",
    "\n",
    "ax.set_xlabel('$sigma$', fontsize=12)\n",
    "ax.set_ylabel('$G$', fontsize=12)\n",
    "\n",
    "plt.show()"
   ]
  },
  {
   "cell_type": "markdown",
   "id": "f7e214d1",
   "metadata": {},
   "source": [
    "### 模拟的不平等度量\n",
    "\n",
    "为了理解不平等度量在模拟中的表现，让我们看看下面的例子。\n",
    "\n",
    "这段代码首先生成一组具有高度不平等的随机数据集，然后重新计算洛伦兹曲线和基尼系数。"
   ]
  },
  {
   "cell_type": "code",
   "execution_count": null,
   "id": "e194dfa7",
   "metadata": {},
   "outputs": [],
   "source": [
    "def plot_inequality_measures(x_vals, y_vals, label, x_label, y_label):\n",
    "    fig, ax = plt.subplots()\n",
    "    ax.plot(x_vals, y_vals, label=f'{label}数据', lw=2)\n",
    "    ax.set_xlabel(x_label)\n",
    "    ax.set_ylabel(y_label)\n",
    "    ax.legend(fontsize=12)\n",
    "    plt.show()\n",
    "\n",
    "σ_vals = np.linspace(0.2, 4, 100)\n",
    "ginis = gini_coeff_vs_sigma(σ_vals)\n",
    "\n",
    "plot_inequality_measures(σ_vals, \n",
    "                         ginis, \n",
    "                         '模拟', \n",
    "                         '$sigma$', \n",
    "                         '基尼系数')"
   ]
  },
  {
   "cell_type": "markdown",
   "id": "b679d5e6",
   "metadata": {},
   "source": [
    "图表显示了随着$\\sigma$增加，不平等度（基尼系数）也在增加。"
   ]
  },
  {
   "cell_type": "markdown",
   "id": "b9129b1b",
   "metadata": {},
   "source": [
    "### 美国数据的基尼系数动态变化\n",
    "\n",
    "现在让我们看看从SCF数据框架 ``df_income_wealth`` 中得出的美国数据的基尼系数。\n",
    "\n",
    "以下代码创建一个名为 ``Ginis`` 的列表。\n",
    "\n",
    " 它从数据框 ``df_income_wealth`` 和 [QuantEcon](https://quantecon.org/quantecon-py/) 库中的方法 [gini_coefficient](https://quanteconpy.readthedocs.io/en/latest/tools/inequality.html#quantecon.inequality.gini_coefficient) 中生成基尼系数数据。"
   ]
  },
  {
   "cell_type": "code",
   "execution_count": null,
   "id": "7fbf84cb",
   "metadata": {
    "tags": [
     "hide-input"
    ]
   },
   "outputs": [],
   "source": [
    "varlist = ['n_wealth',   # 净财富 \n",
    "           't_income',   # 总收入\n",
    "           'l_income']   # 劳动收入\n",
    "\n",
    "df = df_income_wealth\n",
    "\n",
    "# 创建列表来存储每个不平等度量的基尼系数\n",
    "\n",
    "Ginis = []\n",
    "\n",
    "for var in varlist:\n",
    "    # 创建列表来存储基尼系数\n",
    "    ginis = []\n",
    "    \n",
    "    for year in years:\n",
    "        # 根据权重重复观测值\n",
    "        counts = list(round(df[df['year'] == year]['weights'] ))\n",
    "        y = df[df['year'] == year][var].repeat(counts)\n",
    "        y = np.asarray(y)\n",
    "        \n",
    "        rd.shuffle(y)    # 打乱顺序\n",
    "        \n",
    "        # 计算并存储基尼系数\n",
    "        gini = qe.gini_coefficient(y)\n",
    "        ginis.append(gini)\n",
    "        \n",
    "    Ginis.append(ginis)"
   ]
  },
  {
   "cell_type": "markdown",
   "id": "abfff4e8",
   "metadata": {},
   "source": [
    "现在我们从``Ginis``列表中生成分别代表净财富、总收入和劳动收入的三组基尼系数数据。\n",
    "\n",
    "为了更清楚地看到每个变量的趋势，我们将每年的数据绘制在一张图表中并添加图例。"
   ]
  },
  {
   "cell_type": "code",
   "execution_count": null,
   "id": "f97d9b84",
   "metadata": {},
   "outputs": [],
   "source": [
    "ginis_nw, ginis_ti, ginis_li = Ginis\n",
    "\n",
    "fig, ax = plt.subplots()\n",
    "\n",
    "ax.plot(years, ginis_nw, label=f'净财富')\n",
    "ax.plot(years, ginis_ti, label=f'总收入')\n",
    "ax.plot(years, ginis_li, label=f'劳动收入')\n",
    "\n",
    "ax.legend(fontsize=12)\n",
    "ax.set_xlabel('Year', fontsize=12)\n",
    "ax.set_ylabel('基尼系数', fontsize=12)\n",
    "\n",
    "plt.show()"
   ]
  },
  {
   "cell_type": "markdown",
   "id": "891224d9",
   "metadata": {},
   "source": [
    "**注意**： 这里有一个基尼系数的异常值。\n",
    "为了分析更具代表性的趋势，让我们将该异常值替换为相邻年份的平均值。"
   ]
  },
  {
   "cell_type": "code",
   "execution_count": null,
   "id": "2615fb67",
   "metadata": {},
   "outputs": [],
   "source": [
    "# 用平均值替换劳动收入基尼的一个异常值\n",
    "ginis_li_new = ginis_li\n",
    "ginis_li_new[5] = (ginis_li[4] + ginis_li[6]) / 2"
   ]
  },
  {
   "cell_type": "code",
   "execution_count": null,
   "id": "490659a0",
   "metadata": {
    "mystnb": {
     "figure": {
      "caption": "美国收入和财富的基尼系数（无异常值）",
      "name": "gini_no_outliers"
     },
     "image": {
      "alt": "gini_no_outliers"
     }
    }
   },
   "outputs": [],
   "source": [
    "fig, ax = plt.subplots()\n",
    "\n",
    "ax.plot(years, ginis_nw, label=f'净财富')\n",
    "ax.plot(years, ginis_ti, label=f'总收入')\n",
    "ax.plot(years, ginis_li_new, label=f'劳动收入')\n",
    "\n",
    "ax.legend(fontsize=12)\n",
    "ax.set_xlabel('Year', fontsize=12)\n",
    "ax.set_ylabel('基尼系数', fontsize=12)\n",
    "\n",
    "plt.show()"
   ]
  },
  {
   "cell_type": "markdown",
   "id": "56f2a9c8",
   "metadata": {},
   "source": [
    "```\n",
    "\n",
    "```{code-cell} ipython3\n",
    "---\n",
    "mystnb:\n",
    "  figure:\n",
    "    caption: \"Gini coefficients of US income\"\n",
    "    name: gini_income_us\n",
    "  image:\n",
    "    alt: gini_income_us\n",
    "---\n",
    "xlabel = \"年份\"\n",
    "ylabel = \"基尼系数\"\n",
    "\n",
    "fig, ax = plt.subplots()\n",
    "\n",
    "ax.plot(years, ginis_li_new, marker='o', label=\"劳动收入\")\n",
    "ax.plot(years, ginis_ti, marker='o', label=\"总收入\")\n",
    "\n",
    "ax.set_xlabel(xlabel, fontsize=12)\n",
    "ax.set_ylabel(ylabel, fontsize=12)\n",
    "\n",
    "ax.legend(fontsize=12)\n",
    "plt.show()\n",
    "```\n",
    "\n",
    "图表显示，收入和财富不平等都在增加。\n",
    "\n",
    "此现象特别自1980年以来尤为明显。"
   ]
  },
  {
   "cell_type": "markdown",
   "id": "0b0a6ec6",
   "metadata": {},
   "source": [
    "## 顶层份额\n",
    "\n",
    "另一个受欢迎的不平等衡量方法是顶层份额。\n",
    "\n",
    "计算特定份额较洛伦兹曲线或基尼系数更简单。\n",
    "\n",
    "在本节中我们展示如何计算顶层份额。\n",
    "\n",
    "### 定义\n",
    "\n",
    "如前所述，假设样本$w_1, \\ldots, w_n$已经从最小到最大排序。\n",
    "\n",
    "给定如上定义的洛伦兹曲线 $y = L(x)$，顶层$100 \\times p \\%$\n",
    "份额定义为\n",
    "\n",
    "$$\n",
    "T(p) = 1 - L (1-p) \n",
    "    \\approx \\frac{\\sum_{j\\geq i} w_j}{ \\sum_{j \\leq n} w_j}, \\quad i = \\lfloor n (1-p)\\rfloor\n",
    "$$(topshares)\n",
    "\n",
    "这里的 $\\lfloor \\cdot \\rfloor$ 是地板函数，它将任何\n",
    "数字向下舍入到小于或等于该数字的整数。"
   ]
  },
  {
   "cell_type": "markdown",
   "id": "44d9814e",
   "metadata": {},
   "source": [
    "下面的代码使用数据框 ``df_income_wealth`` 中的数据生成另一个数据框 ``df_topshares``。\n",
    "\n",
    "``df_topshares`` 存储了1950年至2016年间美国总收入、劳动收入和净财富的前10%份额。"
   ]
  },
  {
   "cell_type": "code",
   "execution_count": null,
   "id": "c3ea6c7a",
   "metadata": {
    "tags": [
     "hide-input"
    ]
   },
   "outputs": [],
   "source": [
    "# 将调查权重从绝对值转换为相对值\n",
    "df1 = df_income_wealth\n",
    "df2 = df1.groupby('year').sum(numeric_only=True).reset_index()\n",
    "df3 = df2[['year', 'weights']]\n",
    "df3.columns = 'year', 'r_weights'\n",
    "df4 = pd.merge(df3, df1, how=\"left\", on=[\"year\"])\n",
    "df4['r_weights'] = df4['weights'] / df4['r_weights']\n",
    "\n",
    "# 创建加权净财富、总收入、劳动收入\n",
    "\n",
    "df4['weighted_n_wealth'] = df4['n_wealth'] * df4['r_weights']\n",
    "df4['weighted_t_income'] = df4['t_income'] * df4['r_weights']\n",
    "df4['weighted_l_income'] = df4['l_income'] * df4['r_weights']\n",
    "\n",
    "# 提取按净财富和总收入前10%分组的两个群体\n",
    "\n",
    "df6 = df4[df4['nw_groups'] == 'Top 10%']\n",
    "df7 = df4[df4['ti_groups'] == 'Top 10%']\n",
    "\n",
    "# 计算按净财富、总收入和劳动收入加权的前10%之和\n",
    "\n",
    "df5 = df4.groupby('year').sum(numeric_only=True).reset_index()\n",
    "df8 = df6.groupby('year').sum(numeric_only=True).reset_index()\n",
    "df9 = df7.groupby('year').sum(numeric_only=True).reset_index()\n",
    "\n",
    "df5['weighted_n_wealth_top10'] = df8['weighted_n_wealth']\n",
    "df5['weighted_t_income_top10'] = df9['weighted_t_income']\n",
    "df5['weighted_l_income_top10'] = df9['weighted_l_income']\n",
    "\n",
    "# 计算这三个变量的前10%份额\n",
    "\n",
    "df5['topshare_n_wealth'] = df5['weighted_n_wealth_top10'] / \\\n",
    "    df5['weighted_n_wealth']\n",
    "df5['topshare_t_income'] = df5['weighted_t_income_top10'] / \\\n",
    "    df5['weighted_t_income']\n",
    "df5['topshare_l_income'] = df5['weighted_l_income_top10'] / \\\n",
    "    df5['weighted_l_income']\n",
    "\n",
    "# 我们只需要这些变量用于前10%份额\n",
    "df_topshares = df5[['year', 'topshare_n_wealth',\n",
    "                    'topshare_t_income', 'topshare_l_income']]"
   ]
  },
  {
   "cell_type": "markdown",
   "id": "cab947f5",
   "metadata": {},
   "source": [
    "### 美国数据的顶层份额\n",
    "\n",
    "然后我们绘制前10%份额。"
   ]
  },
  {
   "cell_type": "code",
   "execution_count": null,
   "id": "f690333c",
   "metadata": {
    "mystnb": {
     "figure": {
      "caption": "美国顶层份额",
      "name": "top_shares_us"
     },
     "image": {
      "alt": "top_shares_us"
     }
    }
   },
   "outputs": [],
   "source": [
    "xlabel = \"年份\"\n",
    "ylabel = \"顶层 $10\\%$ 份额\"\n",
    "\n",
    "fig, ax = plt.subplots()\n",
    "\n",
    "ax.plot(years, df_topshares[\"topshare_l_income\"],\n",
    "        marker='o', label=\"劳动收入\")\n",
    "ax.plot(years, df_topshares[\"topshare_n_wealth\"],\n",
    "        marker='o', label=\"净财富\")\n",
    "ax.plot(years, df_topshares[\"topshare_t_income\"],\n",
    "        marker='o', label=\"总收入\")\n",
    "\n",
    "ax.set_xlabel(xlabel, fontsize=12)\n",
    "ax.set_ylabel(ylabel, fontsize=12)\n",
    "\n",
    "ax.legend(fontsize=12)\n",
    "plt.show()"
   ]
  },
  {
   "cell_type": "markdown",
   "id": "59817185",
   "metadata": {},
   "source": [
    "## 练习"
   ]
  },
  {
   "cell_type": "markdown",
   "id": "6a578336",
   "metadata": {},
   "source": [
    "```{exercise}\n",
    ":label: inequality_ex1\n",
    "\n",
    "使用仿真计算与随机变量$w_\\sigma = \\exp(\\mu + \\sigma Z)$相关的对数正态分布集合的\n",
    "前10%份额，其中$Z \\sim N(0, 1)$且$\\sigma$在$0.2$到$4$的有限网格上变化。\n",
    "\n",
    "随着$\\sigma$的增加，$w_\\sigma$的方差也增加。\n",
    "\n",
    "为了关注波动性，在每一步调整$\\mu$以保持等式\n",
    "$\\mu=-\\sigma^2/2$。\n",
    "\n",
    "对于每个$\\sigma$，生成$w_\\sigma$的2000个独立抽样并\n",
    "计算洛伦兹曲线和基尼系数。\n",
    "\n",
    "确认较高的方差\n",
    "在样本中产生更多的离散性，从而导致更大的不平等。\n",
    "```"
   ]
  },
  {
   "cell_type": "markdown",
   "id": "5f920f86",
   "metadata": {},
   "source": [
    "```{solution-start} inequality_ex1\n",
    ":class: dropdown\n",
    "```\n",
    "\n",
    "这是一个解决方案："
   ]
  },
  {
   "cell_type": "code",
   "execution_count": null,
   "id": "05676c3b",
   "metadata": {},
   "outputs": [],
   "source": [
    "def calculate_top_share(s, p=0.1):\n",
    "    \n",
    "    s = np.sort(s)\n",
    "    n = len(s)\n",
    "    index = int(n * (1 - p))\n",
    "    return s[index:].sum() / s.sum()"
   ]
  },
  {
   "cell_type": "markdown",
   "id": "7b0af1d2",
   "metadata": {},
   "source": [
    "为了计算和生成图表，我们使用以下代码："
   ]
  },
  {
   "cell_type": "code",
   "execution_count": null,
   "id": "2bb87d6d",
   "metadata": {},
   "outputs": [],
   "source": [
    "import matplotlib.pyplot as plt\n",
    "import numpy as np\n",
    "import quantecon as qe\n",
    "\n",
    "# 定义参数\n",
    "sigma_vals = np.linspace(0.2, 4, 20)\n",
    "p = 0.1\n",
    "n = 2000\n",
    "\n",
    "top_shares = []\n",
    "gini_coeffs = []\n",
    "\n",
    "# 进行仿真\n",
    "for sigma in sigma_vals:\n",
    "    mu = -sigma**2 / 2\n",
    "    w_sigma = np.exp(mu + sigma * np.random.randn(n))\n",
    "    top_shares.append(calculate_top_share(w_sigma, p=p))\n",
    "    gini_coeffs.append(qe.gini_coefficient(w_sigma))\n",
    "\n",
    "# 生成图表\n",
    "fig, ax = plt.subplots(2, 1, figsize=(10, 8))\n",
    "\n",
    "ax[0].plot(sigma_vals, top_shares, 'b-', label=f\"前 {int(p*100)}% 份额\")\n",
    "ax[0].set_xlabel(\"标准差 $\\sigma$\")\n",
    "ax[0].set_ylabel(\"前10%份额\")\n",
    "ax[0].legend()\n",
    "\n",
    "ax[1].plot(sigma_vals, gini_coeffs, 'r-', label=\"基尼系数\")\n",
    "ax[1].set_xlabel(\"标准差 $\\sigma$\")\n",
    "ax[1].set_ylabel(\"基尼系数\")\n",
    "ax[1].legend()\n",
    "\n",
    "plt.tight_layout()\n",
    "plt.show()"
   ]
  },
  {
   "cell_type": "code",
   "execution_count": null,
   "id": "8c14f563",
   "metadata": {},
   "outputs": [],
   "source": [
    "k = 5\n",
    "σ_vals = np.linspace(0.2, 4, k)\n",
    "n = 2_000\n",
    "\n",
    "topshares = []\n",
    "ginis = []\n",
    "f_vals = []\n",
    "l_vals = []\n",
    "\n",
    "for σ in σ_vals:\n",
    "    μ = -σ ** 2 / 2\n",
    "    y = np.exp(μ + σ * np.random.randn(n))\n",
    "    f_val, l_val = qe._inequality.lorenz_curve(y)\n",
    "    f_vals.append(f_val)\n",
    "    l_vals.append(l_val)\n",
    "    ginis.append(qe._inequality.gini_coefficient(y))\n",
    "    topshares.append(calculate_top_share(y))"
   ]
  },
  {
   "cell_type": "code",
   "execution_count": null,
   "id": "43fda4ba",
   "metadata": {
    "mystnb": {
     "figure": {
      "caption": "仿真数据的顶层份额",
      "name": "top_shares_simulated"
     },
     "image": {
      "alt": "top_shares_simulated"
     }
    }
   },
   "outputs": [],
   "source": [
    "plot_inequality_measures(σ_vals, \n",
    "                         topshares, \n",
    "                         \"仿真数据\", \n",
    "                         \"$\\sigma$\", \n",
    "                         \"顶层 $10\\%$ 份额\") "
   ]
  },
  {
   "cell_type": "code",
   "execution_count": null,
   "id": "dfe404d8",
   "metadata": {
    "mystnb": {
     "figure": {
      "caption": "仿真数据的基尼系数",
      "name": "gini_coef_simulated"
     },
     "image": {
      "alt": "gini_coef_simulated"
     }
    }
   },
   "outputs": [],
   "source": [
    "plot_inequality_measures(σ_vals, \n",
    "                         ginis, \n",
    "                         \"仿真数据\", \n",
    "                         \"$\\sigma$\", \n",
    "                         \"基尼系数\") "
   ]
  },
  {
   "cell_type": "code",
   "execution_count": null,
   "id": "521b8f20",
   "metadata": {
    "mystnb": {
     "figure": {
      "caption": "仿真数据的洛伦兹曲线",
      "name": "lorenz_curve_simulated"
     },
     "image": {
      "alt": "lorenz_curve_simulated"
     }
    }
   },
   "outputs": [],
   "source": [
    "fig, ax = plt.subplots()\n",
    "ax.plot([0,1],[0,1], label=f\"平等\")\n",
    "for i in range(len(f_vals)):\n",
    "    ax.plot(f_vals[i], l_vals[i], label=f\"$\\sigma$ = {σ_vals[i]}\")\n",
    "plt.legend()\n",
    "plt.show()"
   ]
  },
  {
   "cell_type": "markdown",
   "id": "42807dc1",
   "metadata": {},
   "source": [
    "```{solution-end}\n",
    "```\n",
    "\n",
    "```{exercise}\n",
    ":label: inequality_ex2\n",
    "\n",
    "根据顶层份额的定义{eq}`topshares`，我们还可以使用洛伦兹曲线计算顶层百分比份额。\n",
    "\n",
    "使用相应的洛伦兹曲线数据 ``f_vals_nw, l_vals_nw`` 和线性插值计算美国净财富的顶层份额。\n",
    "\n",
    "将洛伦兹曲线生成的顶层份额与从数据近似得到的顶层份额一起绘制出来。\n",
    "\n",
    "```"
   ]
  },
  {
   "cell_type": "markdown",
   "id": "6d48f332",
   "metadata": {},
   "source": [
    "```{solution-start} inequality_ex2\n",
    ":class: dropdown\n",
    "```\n",
    "\n",
    "这是一个解决方案："
   ]
  },
  {
   "cell_type": "code",
   "execution_count": null,
   "id": "791cfa26",
   "metadata": {},
   "outputs": [],
   "source": [
    "def lorenz2top(f_val, l_val, p=0.1):\n",
    "    t = lambda x: interp(f_val, l_val, x)\n",
    "    return 1- t(1 - p)"
   ]
  },
  {
   "cell_type": "code",
   "execution_count": null,
   "id": "6590c305",
   "metadata": {},
   "outputs": [],
   "source": [
    "top_shares_nw = []\n",
    "for f_val, l_val in zip(f_vals_nw, l_vals_nw):\n",
    "    top_shares_nw.append(lorenz2top(f_val, l_val))"
   ]
  },
  {
   "cell_type": "code",
   "execution_count": null,
   "id": "ad475574",
   "metadata": {
    "mystnb": {
     "figure": {
      "caption": "美国顶层份额：近似值与洛伦兹曲线",
      "name": "top_shares_us_al"
     },
     "image": {
      "alt": "top_shares_us_al"
     }
    }
   },
   "outputs": [],
   "source": [
    "xlabel = \"年份\"\n",
    "ylabel = \"顶层 $10\\%$ 份额\"\n",
    "\n",
    "fig, ax = plt.subplots()\n",
    "\n",
    "ax.plot(years, df_topshares[\"topshare_n_wealth\"], marker='o',\\\n",
    "   label=\"净财富-近似值\")\n",
    "ax.plot(years, top_shares_nw, marker='o', label=\"净财富-洛伦兹曲线\")\n",
    "\n",
    "ax.set_xlabel(xlabel, fontsize=12)\n",
    "ax.set_ylabel(ylabel, fontsize=12)\n",
    "\n",
    "ax.legend(fontsize=12)\n",
    "plt.show()"
   ]
  },
  {
   "cell_type": "markdown",
   "id": "aef73afa",
   "metadata": {},
   "source": [
    "```{solution-end}\n",
    "```\n",
    "\n",
    "Image input capabilities: Enabled"
   ]
  }
 ],
 "metadata": {
  "jupytext": {
   "text_representation": {
    "extension": ".md",
    "format_name": "myst",
    "format_version": 0.13,
    "jupytext_version": "1.14.5"
   }
  },
  "kernelspec": {
   "display_name": "Python 3 (ipykernel)",
   "language": "python",
   "name": "python3"
  },
  "source_map": [
   12,
   60,
   64,
   68,
   75,
   116,
   130,
   155,
   165,
   172,
   174,
   181,
   220,
   224,
   242,
   250,
   282,
   310,
   317,
   319,
   337,
   348,
   353,
   372,
   378,
   392,
   396,
   418,
   427,
   444,
   448,
   458,
   488,
   494,
   508,
   513,
   520,
   540,
   571,
   596,
   602,
   646,
   652,
   678,
   683,
   703,
   711,
   718,
   722,
   759,
   779,
   795,
   811,
   826,
   841,
   849,
   855,
   861,
   884
  ]
 },
 "nbformat": 4,
 "nbformat_minor": 5
}