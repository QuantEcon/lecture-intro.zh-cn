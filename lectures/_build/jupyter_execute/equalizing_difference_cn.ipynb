{
 "cells": [
  {
   "cell_type": "markdown",
   "id": "b08c8d6e",
   "metadata": {},
   "source": [
    "# 等价差异模型\n",
    "\n",
    "## 概述\n",
    "\n",
    "本讲座展示了一个大学高中工资差距的模型，其中大学毕业生的“建设时间”起着关键作用。\n",
    "\n",
    "Milton Friedman 发明了该模型，以研究美国牙医和医生的收入差异是竞争性劳动力市场的结果，还是反映了政府与医生专业组织合作施加的进入壁垒。\n",
    "\n",
    "Jennifer Burns 第四章 {cite}`Burns_2023` 描述了 Milton Friedman 和 Simon Kuznets 的共同工作，最终导致了 {cite}`kuznets1939incomes` 和 {cite}`friedman1954incomes` 的出版。\n",
    "\n",
    "要将 Friedman 的应用映射到我们的模型中，可以将我们的高中生视为 Friedman 的牙医，而将我们的大学毕业生视为 Friedman 的医生。\n",
    "\n",
    "我们的展示是“不完整的”，因为它基于单个方程，这个方程本可以是一个更全面模型的平衡条件集合的一部分。\n",
    "\n",
    "这个“等价差异”方程决定了一个大学和高中的工资比率，该比率使高中受教育的工人和大学受教育的工人的现值相等。\n",
    "\n",
    "这个想法是，终身收入以某种方式调整，使新高中毕业生在上大学和不去大学而直接工作的选择之间无差异。\n",
    "\n",
    "（在更完整的模型中，“其他方程”的任务是描述什么会调整以实现这一结果。）\n",
    "\n",
    "我们的模型只是 “等价差异” 相对工资率理论的一个例子，这类理论至少可以追溯到亚当·斯密的《国富论》 {cite}`smith2010wealth`。\n",
    "\n",
    "在本讲座的大部分时间里，我们将使用的唯一数学工具是线性代数，特别是矩阵乘法和矩阵求逆。\n",
    "\n",
    "然而，在讲座的最后，我们将使用微积分，万一读者希望看到如何通过计算偏导数来更简洁地展示某些发现。\n",
    "\n",
    "这样做还可以展示 Python 在做微积分方面的强大功能！\n",
    "\n",
    "但如果你不了解微积分，我们的线性代数工具已经足够了。\n",
    "\n",
    "像往常一样，我们首先导入一些 Python 模块。"
   ]
  },
  {
   "cell_type": "code",
   "execution_count": 1,
   "id": "59a7d5c0",
   "metadata": {},
   "outputs": [],
   "source": [
    "import numpy as np\n",
    "import matplotlib.pyplot as plt"
   ]
  },
  {
   "cell_type": "markdown",
   "id": "f1c9a372",
   "metadata": {},
   "source": [
    "图像输入功能：已启用\n",
    "\n",
    "## 无差异条件\n",
    "\n",
    "关键思想是入门级大学工资溢价必须调整，使代表性工作者在上大学和不去上大学之间无差异。\n",
    "\n",
    "设\n",
    "\n",
    " * $R > 1$ 为一周期债券的毛回报率\n",
    "\n",
    " * $t = 0, 1, 2, \\ldots T$ 表示一个人工作或上大学的年份\n",
    " \n",
    " * $0$ 表示一个人高中毕业后如果不去上大学可以工作的第一个时期\n",
    " \n",
    " * $T$ 表示一个人工作最后的时期\n",
    " \n",
    " * $w_t^h$ 为高中毕业生在时间 $t$ 的工资\n",
    " \n",
    " * $w_t^c$ 为大学毕业生在时间 $t$ 的工资\n",
    " \n",
    " * $\\gamma_h > 1$ 为高中毕业生工资的（毛）增长率，所以\n",
    " $ w_t^h = w_0^h \\gamma_h^t$\n",
    " \n",
    " * $\\gamma_c > 1$ 为大学毕业生工资的（毛）增长率，所以\n",
    " $ w_t^c = w_0^c \\gamma_c^t$\n",
    "\n",
    " * $D$ 为上大学的前期费用\n",
    "\n",
    "我们计算新高中毕业生在以下情况下所赚取的现值\n",
    "\n",
    "  * 他立即去工作，并获得未受过大学教育的工资\n",
    "  * 他上大学四年，毕业后获得大学毕业生的工资\n",
    "\n",
    "### 高中受教育者的现值\n",
    "\n",
    "如果某人高中毕业后立即去工作，并在 $T+1$ 年 $t=0, 1, 2, \\ldots, T$ 期间工作，她赚取的现值为\n",
    "\n",
    "$$\n",
    "h_0 = \\sum_{t=0}^T R^{-t} w_t^h = w_0^h \\left[ \\frac{1 - (R^{-1} \\gamma_h)^{T+1} }{1 - R^{-1} \\gamma_h } \\right] \\equiv w_0^h A_h \n",
    "$$\n",
    "\n",
    "其中 \n",
    "\n",
    "$$\n",
    "A_h = \\left[ \\frac{1 - (R^{-1} \\gamma_h)^{T+1} }{1 - R^{-1} \\gamma_h } \\right].\n",
    "$$\n",
    "\n",
    "现值 $h_0$ 是某人在时间 $0$ 开始时选择不上大学而是立即以高中毕业生工资去工作的“人力财富”。\n",
    "\n",
    "### 准备上大学的新高中毕业生的现值\n",
    "\n",
    "\n",
    "如果某人上大学四年 $t=0, 1, 2, 3$ 期间她赚取 $0$，但随后立即去工作并在 $T-3$ 年 $t=4, 5, \\ldots ,T$ 期间工作，她赚取的现值为\n",
    "\n",
    "$$\n",
    "c_0 = \\sum_{t=4}^T R^{-t} w_t^c = w_0^c (R^{-1} \\gamma_c)^4  \\left[ \\frac{1 - (R^{-1} \\gamma_c)^{T-3} }{1 - R^{-1} \\gamma_c } \\right] \\equiv w_0^c A_c\n",
    "$$\n",
    "\n",
    "其中\n",
    "\n",
    "$$\n",
    "A_c = (R^{-1} \\gamma_c)^4  \\left[ \\frac{1 - (R^{-1} \\gamma_c)^{T-3} }{1 - R^{-1} \\gamma_c } \\right] .\n",
    "$$ \n",
    "\n",
    "现值 $c_0$ 是某人在时间 $0$ 开始时选择上四年大学然后在时间 $t=4$ 以大学毕业生工资开始工作的“人力财富”。\n",
    "\n",
    "假设大学学费加上四年的食宿费用为 $D$ 并且必须在时间 $0$ 支付。\n",
    "\n",
    "所以净掉大学的货币成本，高中毕业后第一时期的上大学的现值为\n",
    "\n",
    "$$ \n",
    "c_0 - D\n",
    "$$\n",
    "\n",
    "我们现在构建一个纯粹的 **等价差异** 初始大学-高中工资差距 $\\phi$ 模型，验证\n",
    "\n",
    "$$\n",
    "w_0^c = \\phi w_0^h \n",
    "$$\n",
    "\n",
    "我们假设 $R, \\gamma_h, \\gamma_c, T$ 以及 $w_0^h$ 是固定参数。\n",
    "\n",
    "我们首先注意到，纯粹的等价差异模型主张大学-高中工资差距 $\\phi$ 通过一种“等价”方程来解决，该方程将不上大学的现值设置为等于上大学的现值：\n",
    "\n",
    "$$\n",
    "h_0 = c_0 - D\n",
    "$$ \n",
    "\n",
    "或\n",
    "\n",
    "$$ \n",
    "w_0^h A_h  = \\phi w_0^h A_c - D .\n",
    "$$ (eq:equalize)\n",
    "\n",
    "这个“无差异条件”是模型的核心。\n",
    "\n",
    "通过求解方程 {eq}`eq:equalize` 得出大学工资溢价 $\\phi$：\n",
    "\n",
    "$$\n",
    "\\phi  = \\frac{A_h}{A_c} + \\frac{D}{w_0^h A_c} .\n",
    "$$ (eq:wagepremium)\n",
    "\n",
    "在 **免费大学** 特殊情况中 $D =0$。\n",
    "\n",
    "在这里，上大学的唯一成本是放弃作为高中受教育工作者的收入。\n",
    "\n",
    "在这种情况下，\n",
    "\n",
    "$$\n",
    "\\phi  = \\frac{A_h}{A_c} . \n",
    "$$\n",
    "\n",
    "很快我们将编写Python代码来计算$\\phi$ 并将其作为其决定因素的函数绘制出来。\n",
    "\n",
    "但首先我们将描述我们的模型的另一种解释，该解释主要是重新标记变量。\n",
    "\n",
    "## 模型重新解释：工人和企业家\n",
    "\n",
    "我们可以添加一个参数并重新解释变量，以获得工人和企业家的模型。\n",
    "\n",
    "我们现在将 $h$ 视为“工人”的现值。\n",
    "\n",
    "我们将企业家的现值定义为\n",
    "\n",
    "$$\n",
    "c_0 = \\pi \\sum_{t=4}^T R^{-t} w_t^c\n",
    "$$\n",
    "\n",
    "其中 $\\pi \\in (0,1) $ 是企业家“项目”成功的概率。\n",
    "\n",
    "对于我们的工人和公司的模型，我们将 $D$ 解释为成为企业家的成本。\n",
    "\n",
    "这个成本可能包括雇佣工人、办公空间和律师的费用。\n",
    "\n",
    "我们以前称之为大学、高中工资差距 $\\phi$ 现在变成了成功企业家收入与工人工资的比率。\n",
    "\n",
    "我们将发现随着 $\\pi$ 减少，$\\phi$ 增加，表明成为企业家的风险越大，成功项目的回报必须越高。\n",
    "\n",
    "## 计算\n",
    "\n",
    "我们可以通过调整各种参数（尤其是 $\\gamma_h, \\gamma_c, R$）来进行一些有趣的例子。\n",
    "\n",
    "现在让我们编写一些Python代码来计算 $\\phi$ 并将其作为一些决定因素的函数绘制出来。"
   ]
  },
  {
   "cell_type": "code",
   "execution_count": 2,
   "id": "7f43a720",
   "metadata": {},
   "outputs": [],
   "source": [
    "class equalizing_diff:\n",
    "    \"\"\"\n",
    "    一个等价差异模型的类\n",
    "    \"\"\"\n",
    "    \n",
    "    def __init__(self, R, T, γ_h, γ_c, w_h0, D=0, π=None):\n",
    "        # 通过设置π来转换成弱模型\n",
    "        self.R, self.γ_h, self.γ_c, self.w_h0, self.D = R, γ_h, γ_c, w_h0, D\n",
    "        self.T, self.π = T, π\n",
    "    \n",
    "    def compute_gap(self):\n",
    "        R, γ_h, γ_c, w_h0, D = self.R, self.γ_h, self.γ_c, self.w_h0, self.D\n",
    "        T, π = self.T, self.π\n",
    "        \n",
    "        A_h = (1 - (γ_h/R)**(T+1)) / (1 - γ_h/R)\n",
    "        A_c = (1 - (γ_c/R)**(T-3)) / (1 - γ_c/R) * (γ_c/R)**4\n",
    "        \n",
    "        # 弱模型\n",
    "        if π!=None:\n",
    "            A_c = π*A_c \n",
    "        \n",
    "        ϕ = A_h/A_c + D/(w_h0*A_c)\n",
    "        return ϕ"
   ]
  },
  {
   "cell_type": "markdown",
   "id": "11ff569b",
   "metadata": {},
   "source": [
    "用向量化代替循环，我们构建了一些函数来帮助做比较静态分析。\n",
    "\n",
    "对于类的给定实例，当某个参数变化而其他参数保持固定时，我们想重新计算 $\\phi$。\n",
    "\n",
    "让我们做一个例子。"
   ]
  },
  {
   "cell_type": "code",
   "execution_count": 3,
   "id": "dd05a271",
   "metadata": {},
   "outputs": [],
   "source": [
    "# ϕ_R\n",
    "def ϕ_R(mc, R_new):\n",
    "    mc_new = equalizing_diff(R_new, mc.T, mc.γ_h, mc.γ_c, mc.w_h0, mc.D, mc.π)\n",
    "    return mc_new.compute_gap()\n",
    "\n",
    "ϕ_R = np.vectorize(ϕ_R)\n",
    "\n",
    "# ϕ_γh\n",
    "def ϕ_γh(mc, γh_new):\n",
    "    mc_new = equalizing_diff(mc.R, mc.T, γh_new, mc.γ_c, mc.w_h0, mc.D, mc.π)\n",
    "    return mc_new.compute_gap()\n",
    "\n",
    "ϕ_γh = np.vectorize(ϕ_γh)\n",
    "\n",
    "# ϕ_γc\n",
    "def ϕ_γc(mc, γc_new):\n",
    "    mc_new = equalizing_diff(mc.R, mc.T, mc.γ_h, γc_new, mc.w_h0, mc.D, mc.π)\n",
    "    return mc_new.compute_gap()\n",
    "\n",
    "ϕ_γc = np.vectorize(ϕ_γc)\n",
    "\n",
    "# ϕ_π\n",
    "def ϕ_π(mc, π_new):\n",
    "    mc_new = equalizing_diff(mc.R, mc.T, mc.γ_h, mc.γ_c, mc.w_h0, mc.D, π_new)\n",
    "    return mc_new.compute_gap()\n",
    "\n",
    "ϕ_π = np.vectorize(ϕ_π)"
   ]
  },
  {
   "cell_type": "markdown",
   "id": "77161dc7",
   "metadata": {},
   "source": [
    "让我们进行实验，看看一些参数如何影响结果。"
   ]
  },
  {
   "cell_type": "code",
   "execution_count": 4,
   "id": "6cf340d6",
   "metadata": {},
   "outputs": [
    {
     "name": "stdout",
     "output_type": "stream",
     "text": [
      "1.8041412724969135\n"
     ]
    }
   ],
   "source": [
    "# 设置基准参数\n",
    "R = 1.05\n",
    "T = 40\n",
    "γ_h, γ_c = 1.01, 1.01\n",
    "w_h0 = 1\n",
    "D = 10\n",
    "\n",
    "# 创建实例\n",
    "ex1 = equalizing_diff(R=R, T=T, γ_h=γ_h, γ_c=γ_c, w_h0=w_h0, D=D)\n",
    "gap1 = ex1.compute_gap()\n",
    "\n",
    "print(gap1)"
   ]
  },
  {
   "cell_type": "markdown",
   "id": "ebe09b8f",
   "metadata": {},
   "source": [
    "### 基准模型下的参数对\\$ \\phi \\$的关系图\n",
    "\n",
    "#### 与\\$ R \\$的关系"
   ]
  },
  {
   "cell_type": "code",
   "execution_count": 5,
   "id": "4be73db2",
   "metadata": {},
   "outputs": [
    {
     "data": {
      "image/png": "[encoded data removed]",
      "text/plain": [
       "<Figure size 640x480 with 1 Axes>"
      ]
     },
     "metadata": {},
     "output_type": "display_data"
    }
   ],
   "source": [
    "# 设置R值\n",
    "R_values = np.linspace(1.02, 1.20, 100)\n",
    "\n",
    "# 计算ϕ_R\n",
    "ϕ_R_values = ϕ_R(ex1, R_values)\n",
    "\n",
    "# 绘图\n",
    "fig, ax = plt.subplots()\n",
    "ax.plot(R_values, ϕ_R_values, label='ϕ as function of R')\n",
    "ax.set_xlabel('$R$')\n",
    "ax.set_ylabel('$ϕ$')\n",
    "ax.legend()\n",
    "plt.show()"
   ]
  },
  {
   "cell_type": "markdown",
   "id": "fbd2aedf",
   "metadata": {},
   "source": [
    "#### 与 $\\gamma_h$ 的关系"
   ]
  },
  {
   "cell_type": "code",
   "execution_count": 6,
   "id": "05782b93",
   "metadata": {},
   "outputs": [
    {
     "data": {
      "image/png": "[encoded data removed]",
      "text/plain": [
       "<Figure size 640x480 with 1 Axes>"
      ]
     },
     "metadata": {},
     "output_type": "display_data"
    }
   ],
   "source": [
    "# 设置增长率 γ_h\n",
    "γ_h_values = np.linspace(1.0, 1.03, 100)\n",
    "\n",
    "# 计算 ϕ_γh\n",
    "ϕ_γh_values = ϕ_γh(ex1, γ_h_values)\n",
    "\n",
    "# 绘图\n",
    "fig, ax = plt.subplots()\n",
    "ax.plot(γ_h_values, ϕ_γh_values, label='ϕ as function of $γ_h$')\n",
    "ax.set_xlabel('$γ_h$')\n",
    "ax.set_ylabel('$ϕ$')\n",
    "ax.legend()\n",
    "plt.show()"
   ]
  },
  {
   "cell_type": "markdown",
   "id": "c96ca72a",
   "metadata": {},
   "source": [
    "#### 与 $\\gamma_c$ 的关系"
   ]
  },
  {
   "cell_type": "code",
   "execution_count": 7,
   "id": "719527b3",
   "metadata": {},
   "outputs": [
    {
     "ename": "ZeroDivisionError",
     "evalue": "float division by zero",
     "output_type": "error",
     "traceback": [
      "\u001b[0;31m---------------------------------------------------------------------------\u001b[0m",
      "\u001b[0;31mZeroDivisionError\u001b[0m                         Traceback (most recent call last)",
      "Cell \u001b[0;32mIn[7], line 5\u001b[0m\n\u001b[1;32m      2\u001b[0m γ_c_values \u001b[38;5;241m=\u001b[39m np\u001b[38;5;241m.\u001b[39mlinspace(\u001b[38;5;241m1.01\u001b[39m, \u001b[38;5;241m1.05\u001b[39m, \u001b[38;5;241m100\u001b[39m)\n\u001b[1;32m      4\u001b[0m \u001b[38;5;66;03m# 计算 ϕ_γc\u001b[39;00m\n\u001b[0;32m----> 5\u001b[0m ϕ_γc_values \u001b[38;5;241m=\u001b[39m \u001b[43mϕ_γc\u001b[49m\u001b[43m(\u001b[49m\u001b[43mex1\u001b[49m\u001b[43m,\u001b[49m\u001b[43m \u001b[49m\u001b[43mγ_c_values\u001b[49m\u001b[43m)\u001b[49m\n\u001b[1;32m      7\u001b[0m \u001b[38;5;66;03m# 绘图\u001b[39;00m\n\u001b[1;32m      8\u001b[0m fig, ax \u001b[38;5;241m=\u001b[39m plt\u001b[38;5;241m.\u001b[39msubplots()\n",
      "File \u001b[0;32m~/anaconda3/envs/quantecon/lib/python3.10/site-packages/numpy/lib/function_base.py:2329\u001b[0m, in \u001b[0;36mvectorize.__call__\u001b[0;34m(self, *args, **kwargs)\u001b[0m\n\u001b[1;32m   2326\u001b[0m     vargs \u001b[38;5;241m=\u001b[39m [args[_i] \u001b[38;5;28;01mfor\u001b[39;00m _i \u001b[38;5;129;01min\u001b[39;00m inds]\n\u001b[1;32m   2327\u001b[0m     vargs\u001b[38;5;241m.\u001b[39mextend([kwargs[_n] \u001b[38;5;28;01mfor\u001b[39;00m _n \u001b[38;5;129;01min\u001b[39;00m names])\n\u001b[0;32m-> 2329\u001b[0m \u001b[38;5;28;01mreturn\u001b[39;00m \u001b[38;5;28;43mself\u001b[39;49m\u001b[38;5;241;43m.\u001b[39;49m\u001b[43m_vectorize_call\u001b[49m\u001b[43m(\u001b[49m\u001b[43mfunc\u001b[49m\u001b[38;5;241;43m=\u001b[39;49m\u001b[43mfunc\u001b[49m\u001b[43m,\u001b[49m\u001b[43m \u001b[49m\u001b[43margs\u001b[49m\u001b[38;5;241;43m=\u001b[39;49m\u001b[43mvargs\u001b[49m\u001b[43m)\u001b[49m\n",
      "File \u001b[0;32m~/anaconda3/envs/quantecon/lib/python3.10/site-packages/numpy/lib/function_base.py:2412\u001b[0m, in \u001b[0;36mvectorize._vectorize_call\u001b[0;34m(self, func, args)\u001b[0m\n\u001b[1;32m   2409\u001b[0m \u001b[38;5;66;03m# Convert args to object arrays first\u001b[39;00m\n\u001b[1;32m   2410\u001b[0m inputs \u001b[38;5;241m=\u001b[39m [asanyarray(a, dtype\u001b[38;5;241m=\u001b[39m\u001b[38;5;28mobject\u001b[39m) \u001b[38;5;28;01mfor\u001b[39;00m a \u001b[38;5;129;01min\u001b[39;00m args]\n\u001b[0;32m-> 2412\u001b[0m outputs \u001b[38;5;241m=\u001b[39m \u001b[43mufunc\u001b[49m\u001b[43m(\u001b[49m\u001b[38;5;241;43m*\u001b[39;49m\u001b[43minputs\u001b[49m\u001b[43m)\u001b[49m\n\u001b[1;32m   2414\u001b[0m \u001b[38;5;28;01mif\u001b[39;00m ufunc\u001b[38;5;241m.\u001b[39mnout \u001b[38;5;241m==\u001b[39m \u001b[38;5;241m1\u001b[39m:\n\u001b[1;32m   2415\u001b[0m     res \u001b[38;5;241m=\u001b[39m asanyarray(outputs, dtype\u001b[38;5;241m=\u001b[39motypes[\u001b[38;5;241m0\u001b[39m])\n",
      "Cell \u001b[0;32mIn[3], line 18\u001b[0m, in \u001b[0;36mφ_γc\u001b[0;34m(mc, γc_new)\u001b[0m\n\u001b[1;32m     16\u001b[0m \u001b[38;5;28;01mdef\u001b[39;00m \u001b[38;5;21mϕ_γc\u001b[39m(mc, γc_new):\n\u001b[1;32m     17\u001b[0m     mc_new \u001b[38;5;241m=\u001b[39m equalizing_diff(mc\u001b[38;5;241m.\u001b[39mR, mc\u001b[38;5;241m.\u001b[39mT, mc\u001b[38;5;241m.\u001b[39mγ_h, γc_new, mc\u001b[38;5;241m.\u001b[39mw_h0, mc\u001b[38;5;241m.\u001b[39mD, mc\u001b[38;5;241m.\u001b[39mπ)\n\u001b[0;32m---> 18\u001b[0m     \u001b[38;5;28;01mreturn\u001b[39;00m \u001b[43mmc_new\u001b[49m\u001b[38;5;241;43m.\u001b[39;49m\u001b[43mcompute_gap\u001b[49m\u001b[43m(\u001b[49m\u001b[43m)\u001b[49m\n",
      "Cell \u001b[0;32mIn[2], line 16\u001b[0m, in \u001b[0;36mequalizing_diff.compute_gap\u001b[0;34m(self)\u001b[0m\n\u001b[1;32m     13\u001b[0m T, π \u001b[38;5;241m=\u001b[39m \u001b[38;5;28mself\u001b[39m\u001b[38;5;241m.\u001b[39mT, \u001b[38;5;28mself\u001b[39m\u001b[38;5;241m.\u001b[39mπ\n\u001b[1;32m     15\u001b[0m A_h \u001b[38;5;241m=\u001b[39m (\u001b[38;5;241m1\u001b[39m \u001b[38;5;241m-\u001b[39m (γ_h\u001b[38;5;241m/\u001b[39mR)\u001b[38;5;241m*\u001b[39m\u001b[38;5;241m*\u001b[39m(T\u001b[38;5;241m+\u001b[39m\u001b[38;5;241m1\u001b[39m)) \u001b[38;5;241m/\u001b[39m (\u001b[38;5;241m1\u001b[39m \u001b[38;5;241m-\u001b[39m γ_h\u001b[38;5;241m/\u001b[39mR)\n\u001b[0;32m---> 16\u001b[0m A_c \u001b[38;5;241m=\u001b[39m \u001b[43m(\u001b[49m\u001b[38;5;241;43m1\u001b[39;49m\u001b[43m \u001b[49m\u001b[38;5;241;43m-\u001b[39;49m\u001b[43m \u001b[49m\u001b[43m(\u001b[49m\u001b[43mγ_c\u001b[49m\u001b[38;5;241;43m/\u001b[39;49m\u001b[43mR\u001b[49m\u001b[43m)\u001b[49m\u001b[38;5;241;43m*\u001b[39;49m\u001b[38;5;241;43m*\u001b[39;49m\u001b[43m(\u001b[49m\u001b[43mT\u001b[49m\u001b[38;5;241;43m-\u001b[39;49m\u001b[38;5;241;43m3\u001b[39;49m\u001b[43m)\u001b[49m\u001b[43m)\u001b[49m\u001b[43m \u001b[49m\u001b[38;5;241;43m/\u001b[39;49m\u001b[43m \u001b[49m\u001b[43m(\u001b[49m\u001b[38;5;241;43m1\u001b[39;49m\u001b[43m \u001b[49m\u001b[38;5;241;43m-\u001b[39;49m\u001b[43m \u001b[49m\u001b[43mγ_c\u001b[49m\u001b[38;5;241;43m/\u001b[39;49m\u001b[43mR\u001b[49m\u001b[43m)\u001b[49m \u001b[38;5;241m*\u001b[39m (γ_c\u001b[38;5;241m/\u001b[39mR)\u001b[38;5;241m*\u001b[39m\u001b[38;5;241m*\u001b[39m\u001b[38;5;241m4\u001b[39m\n\u001b[1;32m     18\u001b[0m \u001b[38;5;66;03m# 弱模型\u001b[39;00m\n\u001b[1;32m     19\u001b[0m \u001b[38;5;28;01mif\u001b[39;00m π\u001b[38;5;241m!=\u001b[39m\u001b[38;5;28;01mNone\u001b[39;00m:\n",
      "\u001b[0;31mZeroDivisionError\u001b[0m: float division by zero"
     ]
    }
   ],
   "source": [
    "# 设置增长率 γ_c\n",
    "γ_c_values = np.linspace(1.01, 1.05, 100)\n",
    "\n",
    "# 计算 ϕ_γc\n",
    "ϕ_γc_values = ϕ_γc(ex1, γ_c_values)\n",
    "\n",
    "# 绘图\n",
    "fig, ax = plt.subplots()\n",
    "ax.plot(γ_c_values, ϕ_γc_values, label='ϕ as function of $γ_c$')\n",
    "ax.set_xlabel('$γ_c$')\n",
    "ax.set_ylabel('$ϕ$')\n",
    "ax.legend()\n",
    "plt.show()"
   ]
  },
  {
   "cell_type": "markdown",
   "id": "a613128d",
   "metadata": {},
   "source": [
    "### 收费大学与免费大学的对比\n",
    "\n",
    "我们比较一下收费和免费大学的区别，以观察 $D$ 的影响。\n",
    "\n",
    "#### 收费大学"
   ]
  },
  {
   "cell_type": "code",
   "execution_count": null,
   "id": "bedf859a",
   "metadata": {},
   "outputs": [],
   "source": [
    "# 含收费大学\n",
    "ex1 = equalizing_diff(R=R, T=T, γ_h=γ_h, γ_c=γ_c, w_h0=w_h0, D=D)\n",
    "gap1 = ex1.compute_gap()\n",
    "\n",
    "print(\"收费大学的差距: \", gap1)"
   ]
  },
  {
   "cell_type": "markdown",
   "id": "d62175be",
   "metadata": {},
   "source": [
    "#### 免费大学\n",
    "\n",
    "我们重新计算 $\\phi$，假设大学是免费的（$D=0$）。"
   ]
  },
  {
   "cell_type": "code",
   "execution_count": null,
   "id": "8e32b9cb",
   "metadata": {},
   "outputs": [],
   "source": [
    "# 免费大学\n",
    "ex2 = equalizing_diff(R, T, γ_h, γ_c, w_h0, D=0)\n",
    "gap2 = ex2.compute_gap()\n",
    "print(\"免费大学的差距: \", gap2)"
   ]
  },
  {
   "cell_type": "markdown",
   "id": "4bc47428",
   "metadata": {},
   "source": [
    "我们可以看到，对于免费大学，初始的大学工资溢价应该会降低。\n",
    "\n",
    "让我们构建一些图表来展示初始大学-高中工资差距 $\\phi$ 如何随着某个决定因素的变化而变化。\n",
    "\n",
    "首先，让我们从毛利率 $R$ 开始。"
   ]
  },
  {
   "cell_type": "code",
   "execution_count": null,
   "id": "cec20ba1",
   "metadata": {},
   "outputs": [],
   "source": [
    "R_arr = np.linspace(1, 1.2, 50)\n",
    "plt.plot(R_arr, ϕ_R(ex1, R_arr))\n",
    "plt.xlabel(r'$R$')\n",
    "plt.ylabel(r'wage gap')\n",
    "plt.show()"
   ]
  },
  {
   "cell_type": "markdown",
   "id": "ab9f006d",
   "metadata": {},
   "source": [
    "现在让我们看看高中工资的增长率 $\\gamma_h$ 变化对初始工资差距 $\\phi$ 的影响。"
   ]
  },
  {
   "cell_type": "code",
   "execution_count": null,
   "id": "f6fb8867",
   "metadata": {},
   "outputs": [],
   "source": [
    "γh_arr = np.linspace(1, 1.2, 50)\n",
    "plt.plot(γh_arr, ϕ_γh(ex1, γh_arr))\n",
    "plt.xlabel(r'$γ_h$')\n",
    "plt.ylabel(r'wage gap')\n",
    "plt.show()"
   ]
  },
  {
   "cell_type": "markdown",
   "id": "bdc03936",
   "metadata": {},
   "source": [
    "接下来，我们研究大学工资增长率 $\\gamma_c$ 的变化对初始工资差距 $\\phi$ 的影响。"
   ]
  },
  {
   "cell_type": "code",
   "execution_count": null,
   "id": "f25ec522",
   "metadata": {},
   "outputs": [],
   "source": [
    "γc_arr = np.linspace(1, 1.2, 50)\n",
    "plt.plot(γc_arr, ϕ_γc(ex1, γc_arr))\n",
    "plt.xlabel(r'$γ_c$')\n",
    "plt.ylabel(r'wage gap')\n",
    "plt.show()"
   ]
  },
  {
   "cell_type": "markdown",
   "id": "027e11b1",
   "metadata": {},
   "source": [
    "注意到当大学工资增长率 $\\gamma_c$ 上升时，初始工资差距会下降。\n",
    "\n",
    "工资差距下降以“平衡”高中生和大学毕业生两种职业类型的现值。\n",
    "\n",
    "你能猜到当我们在保持 $\\phi$ 的所有其他决定因素不变的情况下，变动高中工资的增长率会发生什么吗？\n",
    "\n",
    "下图显示了会发生什么。"
   ]
  },
  {
   "cell_type": "code",
   "execution_count": null,
   "id": "f367054d",
   "metadata": {},
   "outputs": [],
   "source": [
    "γh_arr = np.linspace(1, 1.1, 50)\n",
    "plt.plot(γh_arr, ϕ_γh(ex1, γh_arr))\n",
    "plt.xlabel(r'$γ_h$')\n",
    "plt.ylabel(r'wage gap')\n",
    "plt.show()"
   ]
  },
  {
   "cell_type": "markdown",
   "id": "d6c65987",
   "metadata": {},
   "source": [
    "结论是高中工资的增长率 $\\gamma_h$ 上升会迫使工资差距 $\\phi$ 上升。\n",
    "\n",
    "现在我们来观察加入了成功概率 $\\pi$ 的情况下，初始大学-高中工资差距 $\\phi$ 的变化。"
   ]
  },
  {
   "cell_type": "code",
   "execution_count": null,
   "id": "0c92be70",
   "metadata": {},
   "outputs": [],
   "source": [
    "π_arr = np.linspace(0.1, 1.0, 50)\n",
    "plt.plot(π_arr, ϕ_π(ex1, π_arr))\n",
    "plt.xlabel(r'$π$')\n",
    "plt.ylabel(r'wage gap')\n",
    "plt.show()"
   ]
  },
  {
   "cell_type": "markdown",
   "id": "9b29159c",
   "metadata": {},
   "source": [
    "我们可以看到，当成功概率 $\\pi$ 下降时，初始工资差距 $\\phi$ 必须上升，以弥补创业带来的更高风险。\n",
    "\n",
    "## 企业家-工人解释\n",
    "\n",
    "现在让我们采用我们模型的企业家-工人的解释。\n",
    "\n",
    "如果新企业成功的概率是 $0.2$，让我们计算成功企业家的初始工资溢价。"
   ]
  },
  {
   "cell_type": "code",
   "execution_count": null,
   "id": "2356cea8",
   "metadata": {},
   "outputs": [],
   "source": [
    "# 企业家模型\n",
    "ex3 = equalizing_diff(R, T, γ_h, γ_c, w_h0, π=0.2)\n",
    "gap3 = ex3.compute_gap()\n",
    "\n",
    "print(gap3)"
   ]
  },
  {
   "cell_type": "markdown",
   "id": "4631572e",
   "metadata": {},
   "source": [
    "现在让我们研究成功概率对成功企业家初始工资溢价的影响。"
   ]
  },
  {
   "cell_type": "code",
   "execution_count": null,
   "id": "cbd45951",
   "metadata": {},
   "outputs": [],
   "source": [
    "π_arr = np.linspace(0.2, 1, 50)\n",
    "plt.plot(π_arr, ϕ_π(ex3, π_arr))\n",
    "plt.ylabel(r'wage gap')\n",
    "plt.xlabel(r'$\\pi$')\n",
    "plt.show()"
   ]
  },
  {
   "cell_type": "markdown",
   "id": "1865a62a",
   "metadata": {},
   "source": [
    "## 使用微积分\n",
    "\n",
    "到目前为止，我们只使用了线性代数工具，这对于理解我们的模型已经足够了。\n",
    "\n",
    "但是，有些情况下，我们可能需要微积分来快速求解偏导数。\n",
    "\n",
    "我们将使用Python模块 `sympy` 来计算确定 $\\phi$ 的各个参数的偏导数。\n",
    "\n",
    "首先，我们导入 `sympy` 的关键函数。"
   ]
  },
  {
   "cell_type": "code",
   "execution_count": null,
   "id": "55569408",
   "metadata": {},
   "outputs": [],
   "source": [
    "from sympy import Symbol, Lambda, symbols"
   ]
  },
  {
   "cell_type": "markdown",
   "id": "c0c9b0ed",
   "metadata": {},
   "source": [
    "### 定义符号变量\n",
    "\n",
    "我们定义符号变量，这些变量将用于与我们的模型相关的计算。"
   ]
  },
  {
   "cell_type": "code",
   "execution_count": null,
   "id": "c41948d4",
   "metadata": {},
   "outputs": [],
   "source": [
    "γ_h, γ_c, R, w_h0, D = symbols('γ_h γ_c R w_h0 D')"
   ]
  },
  {
   "cell_type": "markdown",
   "id": "be2787b4",
   "metadata": {},
   "source": [
    "### 定义表达式\n",
    "\n",
    "考虑到我们之前推导的 $\\phi$ 的表达式：\n",
    "\n",
    "$$ \\phi = \\frac{A_h}{A_c} + \\frac{D}{w_h0 A_c} $$\n",
    "\n",
    "其中\n",
    "\n",
    "$$ A_h = \\left[ \\frac{1 - (R^{-1} \\gamma_h)^{T+1} }{1 - R^{-1} \\gamma_h } \\right] $$\n",
    "\n",
    "和\n",
    "\n",
    "$$ A_c = (R^{-1} \\gamma_c)^4  \\left[ \\frac{1 - (R^{-1} \\gamma_c)^{T-3} }{1 - R^{-1} \\gamma_c } \\right]. $$\n",
    "\n",
    "我们将这些表达式定义为符号变量的函数："
   ]
  },
  {
   "cell_type": "code",
   "execution_count": null,
   "id": "818c2f72",
   "metadata": {},
   "outputs": [],
   "source": [
    "# 定义 A_h 和 A_c 的表达式\n",
    "A_h = (1 - (γ_h/R)**(T+1)) / (1 - γ_h/R)\n",
    "A_c = (1 - (γ_c/R)**(T-3)) / (1 - γ_c/R) * (γ_c/R)**4\n",
    "\n",
    "# 定义初始大学-高中工资差距的表达式\n",
    "phi = A_h/A_c + D/(w_h0*A_c)\n",
    "phi"
   ]
  },
  {
   "cell_type": "markdown",
   "id": "bd29e26e",
   "metadata": {},
   "source": [
    "### 计算偏导数\n",
    "\n",
    "现在我们计算 $\\phi$ 对 $\\gamma_h$ 和 $\\gamma_c$ 的偏导数。"
   ]
  },
  {
   "cell_type": "code",
   "execution_count": null,
   "id": "3fd91261",
   "metadata": {},
   "outputs": [],
   "source": [
    "from sympy import diff\n",
    "\n",
    "# 计算对 γ_h 的偏导数\n",
    "diff_phi_γ_h = diff(phi, γ_h)\n",
    "diff_phi_γ_h"
   ]
  },
  {
   "cell_type": "code",
   "execution_count": null,
   "id": "c9877820",
   "metadata": {},
   "outputs": [],
   "source": [
    "# 计算对 γ_c 的偏导数\n",
    "diff_phi_γ_c = diff(phi, γ_c)\n",
    "diff_phi_γ_c"
   ]
  },
  {
   "cell_type": "markdown",
   "id": "5177376c",
   "metadata": {},
   "source": [
    "这表明当 $\\gamma_h$ 或 $\\gamma_c$ 变化时，$\\phi$ 的变化率。\n",
    "\n",
    "使用 `sympy` 模块，让我们进一步深入分析模型的其他重要参数的影响。\n",
    "\n",
    "### 对于 R 的偏导数\n",
    "\n",
    "我们还可以计算 $\\phi$ 对于 R 的偏导数："
   ]
  },
  {
   "cell_type": "code",
   "execution_count": null,
   "id": "de27cf72",
   "metadata": {},
   "outputs": [],
   "source": [
    "# 计算对 R 的偏导数\n",
    "diff_phi_R = diff(phi, R)\n",
    "diff_phi_R"
   ]
  },
  {
   "cell_type": "markdown",
   "id": "96d69c53",
   "metadata": {},
   "source": [
    "### 对于 D 的偏导数\n",
    "\n",
    "我们还可以计算 $\\phi$ 对于 D 的偏导数："
   ]
  },
  {
   "cell_type": "code",
   "execution_count": null,
   "id": "b618e808",
   "metadata": {},
   "outputs": [],
   "source": [
    "# 计算对 D 的偏导数\n",
    "diff_phi_D = diff(phi, D)\n",
    "diff_phi_D"
   ]
  },
  {
   "cell_type": "markdown",
   "id": "eb8f117d",
   "metadata": {},
   "source": [
    "### 对于 w_h0 的偏导数\n",
    "\n",
    "最后，我们计算 $\\phi$ 对于 w_h0 的偏导数："
   ]
  },
  {
   "cell_type": "code",
   "execution_count": null,
   "id": "93b359d6",
   "metadata": {},
   "outputs": [],
   "source": [
    "# 计算对 w_h0 的偏导数\n",
    "diff_phi_w_h0 = diff(phi, w_h0)\n",
    "diff_phi_w_h0"
   ]
  },
  {
   "cell_type": "markdown",
   "id": "2c566dd7",
   "metadata": {},
   "source": [
    "通过这些偏导数的计算，我们可以深入了解各个参数如何影响初始大学-高中工资差距 $\\phi$。\n",
    "\n",
    "这样，我们就完成了使用微积分工具来进一步分析我们的等价差异模型。\n",
    "\n",
    "这显示了 Python 在处理符号数学和微积分方面的强大功能。\n",
    "\n",
    "## 定义 $\\phi$"
   ]
  },
  {
   "cell_type": "code",
   "execution_count": null,
   "id": "abc54799",
   "metadata": {},
   "outputs": [],
   "source": [
    "ϕ = Lambda((D, γ_h, γ_c, R, T, w_h0), A_h(γ_h, R, T)/A_c(γ_c, R, T) + D/(w_h0*A_c(γ_c, R, T)))"
   ]
  },
  {
   "cell_type": "code",
   "execution_count": null,
   "id": "68946b15",
   "metadata": {},
   "outputs": [],
   "source": [
    "ϕ"
   ]
  },
  {
   "cell_type": "markdown",
   "id": "39b4e7af",
   "metadata": {},
   "source": [
    "我们首先设置默认参数值。"
   ]
  },
  {
   "cell_type": "code",
   "execution_count": null,
   "id": "c104b06a",
   "metadata": {},
   "outputs": [],
   "source": [
    "R_value = 1.05\n",
    "T_value = 40\n",
    "γ_h_value, γ_c_value = 1.01, 1.01\n",
    "w_h0_value = 1\n",
    "D_value = 10"
   ]
  },
  {
   "cell_type": "markdown",
   "id": "1e11278d",
   "metadata": {},
   "source": [
    "现在让我们计算 $\\frac{\\partial \\phi}{\\partial D}$ 并在默认值下对其进行评估"
   ]
  },
  {
   "cell_type": "code",
   "execution_count": null,
   "id": "3bae83db",
   "metadata": {},
   "outputs": [],
   "source": [
    "ϕ_D = ϕ(D, γ_h, γ_c, R, T, w_h0).diff(D)\n",
    "ϕ_D"
   ]
  },
  {
   "cell_type": "code",
   "execution_count": null,
   "id": "17c422da",
   "metadata": {},
   "outputs": [],
   "source": [
    "# 在默认参数下的数值\n",
    "ϕ_D_func = Lambda((D, γ_h, γ_c, R, T, w_h0), ϕ_D)\n",
    "ϕ_D_func(D_value, γ_h_value, γ_c_value, R_value, T_value, w_h0_value)"
   ]
  },
  {
   "cell_type": "markdown",
   "id": "3cad6aa1",
   "metadata": {},
   "source": [
    "因此，与我们之前的图表一样，我们发现提高 $R$ 会增加初始大学工资溢价 $\\phi$。"
   ]
  },
  {
   "cell_type": "markdown",
   "id": "d4f2ea5e",
   "metadata": {},
   "source": [
    "计算 $\\frac{\\partial \\phi}{\\partial T}$ 并在默认参数下对其进行评估"
   ]
  },
  {
   "cell_type": "code",
   "execution_count": null,
   "id": "41dc257a",
   "metadata": {},
   "outputs": [],
   "source": [
    "ϕ_T = ϕ(D, γ_h, γ_c, R, T, w_h0).diff(T)\n",
    "ϕ_T"
   ]
  },
  {
   "cell_type": "code",
   "execution_count": null,
   "id": "d1d3b730",
   "metadata": {},
   "outputs": [],
   "source": [
    "# 在默认参数下的数值\n",
    "ϕ_T_func = Lambda((D, γ_h, γ_c, R, T, w_h0), ϕ_T)\n",
    "ϕ_T_func(D_value, γ_h_value, γ_c_value, R_value, T_value, w_h0_value)"
   ]
  },
  {
   "cell_type": "markdown",
   "id": "146e3699",
   "metadata": {},
   "source": [
    "我们发现提高 $T$ 会减少初始大学工资溢价 $\\phi$。这是因为大学毕业生现在有更长的职业生涯来“偿还”他们为了上大学所付出的时间和其他成本。"
   ]
  },
  {
   "cell_type": "markdown",
   "id": "7385cb44",
   "metadata": {},
   "source": [
    "计算 $\\frac{\\partial \\phi}{\\partial γ_h}$ 并在默认参数下对其进行评估。"
   ]
  },
  {
   "cell_type": "code",
   "execution_count": null,
   "id": "38532420",
   "metadata": {},
   "outputs": [],
   "source": [
    "ϕ_γ_h = ϕ(D, γ_h, γ_c, R, T, w_h0).diff(γ_h)\n",
    "ϕ_γ_h"
   ]
  },
  {
   "cell_type": "code",
   "execution_count": null,
   "id": "a7f4636b",
   "metadata": {},
   "outputs": [],
   "source": [
    "# 在默认参数下的数值\n",
    "ϕ_γ_h_func = Lambda((D, γ_h, γ_c, R, T, w_h0), ϕ_γ_h)\n",
    "ϕ_γ_h_func(D_value, γ_h_value, γ_c_value, R_value, T_value, w_h0_value)"
   ]
  },
  {
   "cell_type": "markdown",
   "id": "33487b2b",
   "metadata": {},
   "source": [
    "我们发现提高 $\\gamma_h$ 会增加初始大学工资溢价 $\\phi$，正如我们在早期的图形分析中所做的。"
   ]
  },
  {
   "cell_type": "markdown",
   "id": "00e8090a",
   "metadata": {},
   "source": [
    "计算 $\\frac{\\partial \\phi}{\\partial γ_c}$ 并在默认参数值下进行数值评估"
   ]
  },
  {
   "cell_type": "code",
   "execution_count": null,
   "id": "0d5b6362",
   "metadata": {},
   "outputs": [],
   "source": [
    "ϕ_γ_c = ϕ(D, γ_h, γ_c, R, T, w_h0).diff(γ_c)\n",
    "ϕ_γ_c"
   ]
  },
  {
   "cell_type": "code",
   "execution_count": null,
   "id": "fa9c0bf6",
   "metadata": {},
   "outputs": [],
   "source": [
    "# 在默认参数下的数值\n",
    "ϕ_γ_c_func = Lambda((D, γ_h, γ_c, R, T, w_h0), ϕ_γ_c)\n",
    "ϕ_γ_c_func(D_value, γ_h_value, γ_c_value, R_value, T_value, w_h0_value)"
   ]
  },
  {
   "cell_type": "markdown",
   "id": "9bdb0ab8",
   "metadata": {},
   "source": [
    "我们发现提高 $\\gamma_c$ 会减少初始大学工资溢价 $\\phi$，正如我们在早期的图形分析中所做的。"
   ]
  },
  {
   "cell_type": "markdown",
   "id": "db657158",
   "metadata": {},
   "source": [
    "计算 $\\frac{\\partial \\phi}{\\partial R}$ 并在默认参数值下进行数值评估"
   ]
  },
  {
   "cell_type": "code",
   "execution_count": null,
   "id": "010b2468",
   "metadata": {},
   "outputs": [],
   "source": [
    "ϕ_R = ϕ(D, γ_h, γ_c, R, T, w_h0).diff(R)\n",
    "ϕ_R"
   ]
  },
  {
   "cell_type": "code",
   "execution_count": null,
   "id": "9f8885c3",
   "metadata": {},
   "outputs": [],
   "source": [
    "# 在默认参数下的数值\n",
    "ϕ_R_func = Lambda((D, γ_h, γ_c, R, T, w_h0), ϕ_R)\n",
    "ϕ_R_func(D_value, γ_h_value, γ_c_value, R_value, T_value, w_h0_value)"
   ]
  },
  {
   "cell_type": "markdown",
   "id": "083bae77",
   "metadata": {},
   "source": [
    "我们发现提高毛利率 $R$ 会增加初始大学工资溢价 $\\phi$，如我们早先的图形分析。"
   ]
  }
 ],
 "metadata": {
  "jupytext": {
   "text_representation": {
    "extension": ".md",
    "format_name": "myst",
    "format_version": 0.13,
    "jupytext_version": "1.16.1"
   }
  },
  "kernelspec": {
   "display_name": "Python 3 (ipykernel)",
   "language": "python",
   "name": "python3"
  },
  "language_info": {
   "codemirror_mode": {
    "name": "ipython",
    "version": 3
   },
   "file_extension": ".py",
   "mimetype": "text/x-python",
   "name": "python",
   "nbconvert_exporter": "python",
   "pygments_lexer": "ipython3",
   "version": "3.10.12"
  },
  "source_map": [
   12,
   46,
   49,
   194,
   218,
   227,
   255,
   259,
   272,
   277,
   291,
   295,
   309,
   313,
   327,
   335,
   341,
   347,
   352,
   360,
   366,
   370,
   376,
   380,
   386,
   396,
   402,
   408,
   414,
   424,
   430,
   434,
   440,
   452,
   454,
   460,
   462,
   480,
   488,
   494,
   502,
   506,
   516,
   520,
   526,
   530,
   536,
   540,
   550,
   554,
   556,
   560,
   566,
   570,
   575,
   579,
   583,
   587,
   592,
   596,
   600,
   604,
   609,
   613,
   617,
   621,
   626,
   630,
   634,
   638,
   643,
   647
  ]
 },
 "nbformat": 4,
 "nbformat_minor": 5
}