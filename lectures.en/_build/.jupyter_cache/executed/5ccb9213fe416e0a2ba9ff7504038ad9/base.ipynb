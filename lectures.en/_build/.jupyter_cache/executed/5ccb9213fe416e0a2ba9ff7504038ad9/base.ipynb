{
 "cells": [
  {
   "cell_type": "code",
   "execution_count": 1,
   "id": "8b49416c",
   "metadata": {},
   "outputs": [],
   "source": [
    "import numpy as np\n",
    "import pandas as pd\n",
    "import matplotlib.pyplot as plt\n",
    "from scipy.linalg import inv"
   ]
  },
  {
   "cell_type": "code",
   "execution_count": 2,
   "id": "3414d484",
   "metadata": {},
   "outputs": [],
   "source": [
    "class ExchangeEconomy:\n",
    "    def __init__(self, \n",
    "                 Π, \n",
    "                 bs, \n",
    "                 es, \n",
    "                 Ws=None, \n",
    "                 thres=1.5):\n",
    "        \"\"\"\n",
    "        Set up the environment for an exchange economy\n",
    "\n",
    "        Args:\n",
    "            Π (np.array): shared matrix of substitution\n",
    "            bs (list): all consumers' bliss points\n",
    "            es (list): all consumers' endowments\n",
    "            Ws (list): all consumers' wealth\n",
    "            thres (float): a threshold set to test b >> Pi e violated\n",
    "        \"\"\"\n",
    "        n, m = Π.shape[0], len(bs)\n",
    "\n",
    "        # check non-satiation\n",
    "        for b, e in zip(bs, es):\n",
    "            if np.min(b / np.max(Π @ e)) <= thres:\n",
    "                raise Exception('set bliss points further away')\n",
    "\n",
    "        if Ws == None:\n",
    "            Ws = np.zeros(m)\n",
    "        else:\n",
    "            if sum(Ws) != 0:\n",
    "                raise Exception('invalid wealth distribution')\n",
    "\n",
    "        self.Π, self.bs, self.es, self.Ws, self.n, self.m = Π, bs, es, Ws, n, m\n",
    "\n",
    "    def competitive_equilibrium(self):\n",
    "        \"\"\"\n",
    "        Compute the competitive equilibrium prices and allocation\n",
    "        \"\"\"\n",
    "        Π, bs, es, Ws = self.Π, self.bs, self.es, self.Ws\n",
    "        n, m = self.n, self.m\n",
    "        slope_dc = inv(Π.T @ Π)\n",
    "        Π_inv = inv(Π)\n",
    "\n",
    "        # aggregate\n",
    "        b = sum(bs)\n",
    "        e = sum(es)\n",
    "\n",
    "        # compute price vector with mu=1 and renormalize\n",
    "        p = Π.T @ b - Π.T @ Π @ e\n",
    "        p = p / p[0]\n",
    "\n",
    "        # compute marginal utility of wealth\n",
    "        μ_s = []\n",
    "        c_s = []\n",
    "        A = p.T @ slope_dc @ p\n",
    "\n",
    "        for i in range(m):\n",
    "            μ_i = (-Ws[i] + p.T @ (Π_inv @ bs[i] - es[i])) / A\n",
    "            c_i = Π_inv @ bs[i] - μ_i * slope_dc @ p\n",
    "            μ_s.append(μ_i)\n",
    "            c_s.append(c_i)\n",
    "\n",
    "        for c_i in c_s:\n",
    "            if any(c_i < 0):\n",
    "                print('allocation: ', c_s)\n",
    "                raise Exception('negative allocation: equilibrium does not exist')\n",
    "\n",
    "        return p, c_s, μ_s"
   ]
  },
  {
   "cell_type": "code",
   "execution_count": 3,
   "id": "a6b2e61b",
   "metadata": {},
   "outputs": [
    {
     "name": "stdout",
     "output_type": "stream",
     "text": [
      "Competitive equilibrium price vector: [1. 1.]\n",
      "Competitive equilibrium allocation: [array([1., 1.]), array([1., 1.])]\n"
     ]
    }
   ],
   "source": [
    "Π = np.array([[1, 0],\n",
    "              [0, 1]])\n",
    "\n",
    "bs = [np.array([5, 5]),  # first consumer's bliss points\n",
    "      np.array([5, 5])]  # second consumer's bliss points\n",
    "\n",
    "es = [np.array([0, 2]),  # first consumer's endowment\n",
    "      np.array([2, 0])]  # second consumer's endowment\n",
    "\n",
    "EE = ExchangeEconomy(Π, bs, es)\n",
    "p, c_s, μ_s = EE.competitive_equilibrium()\n",
    "\n",
    "print('Competitive equilibrium price vector:', p)\n",
    "print('Competitive equilibrium allocation:', c_s)"
   ]
  },
  {
   "cell_type": "code",
   "execution_count": 4,
   "id": "0e0e19a2",
   "metadata": {},
   "outputs": [
    {
     "name": "stdout",
     "output_type": "stream",
     "text": [
      "Competitive equilibrium price vector: [1. 1.]\n",
      "Competitive equilibrium allocation: [array([1.5, 0.5]), array([0.5, 1.5])]\n"
     ]
    }
   ],
   "source": [
    "EE.bs = [np.array([6, 5]),  # first consumer's bliss points\n",
    "         np.array([5, 6])]  # second consumer's bliss points\n",
    "\n",
    "p, c_s, μ_s = EE.competitive_equilibrium()\n",
    "\n",
    "print('Competitive equilibrium price vector:', p)\n",
    "print('Competitive equilibrium allocation:', c_s)"
   ]
  },
  {
   "cell_type": "code",
   "execution_count": 5,
   "id": "997db605",
   "metadata": {},
   "outputs": [
    {
     "name": "stdout",
     "output_type": "stream",
     "text": [
      "Competitive equilibrium price vector: [1. 1.]\n",
      "Competitive equilibrium allocation: [array([1., 0.]), array([0.5, 1.5])]\n"
     ]
    }
   ],
   "source": [
    "EE.es = [np.array([0.5, 0.5]),  # first consumer's endowment\n",
    "         np.array([1, 1])]  # second consumer's endowment\n",
    "\n",
    "p, c_s, μ_s = EE.competitive_equilibrium()\n",
    "\n",
    "print('Competitive equilibrium price vector:', p)\n",
    "print('Competitive equilibrium allocation:', c_s)"
   ]
  },
  {
   "cell_type": "code",
   "execution_count": 6,
   "id": "d51ccc78",
   "metadata": {},
   "outputs": [
    {
     "name": "stdout",
     "output_type": "stream",
     "text": [
      "Competitive equilibrium price vector: [1. 1.]\n",
      "Competitive equilibrium allocation: [array([0., 2.]), array([2., 0.])]\n"
     ]
    }
   ],
   "source": [
    "EE.bs = [np.array([4, 6]),  # first consumer's bliss points\n",
    "      np.array([6, 4])]  # second consumer's bliss points\n",
    "\n",
    "EE.es = [np.array([0, 2]),  # first consumer's endowment\n",
    "      np.array([2, 0])]  # second consumer's endowment\n",
    "\n",
    "p, c_s, μ_s = EE.competitive_equilibrium()\n",
    "\n",
    "print('Competitive equilibrium price vector:', p)\n",
    "print('Competitive equilibrium allocation:', c_s)"
   ]
  },
  {
   "cell_type": "code",
   "execution_count": 7,
   "id": "079f04bc",
   "metadata": {},
   "outputs": [
    {
     "name": "stdout",
     "output_type": "stream",
     "text": [
      "Competitive equilibrium price vector: [1. 1.]\n",
      "Competitive equilibrium allocation: [array([1.25, 1.25]), array([0.75, 0.75])]\n"
     ]
    }
   ],
   "source": [
    "bs = [np.array([5, 5]),  # first consumer's bliss points\n",
    "      np.array([5, 5])]  # second consumer's bliss points\n",
    "\n",
    "es = [np.array([1, 1]),  # first consumer's endowment\n",
    "      np.array([1, 1])]  # second consumer's endowment\n",
    "\n",
    "Ws = [0.5, -0.5]\n",
    "EE_new = ExchangeEconomy(Π, bs, es, Ws)\n",
    "p, c_s, μ_s = EE_new.competitive_equilibrium()\n",
    "\n",
    "print('Competitive equilibrium price vector:', p)\n",
    "print('Competitive equilibrium allocation:', c_s)"
   ]
  },
  {
   "cell_type": "code",
   "execution_count": 8,
   "id": "3ff27dd8",
   "metadata": {},
   "outputs": [
    {
     "name": "stdout",
     "output_type": "stream",
     "text": [
      "Competitive equilibrium price vector: [1.   0.95]\n",
      "Competitive equilibrium allocation: [array([1., 1.])]\n"
     ]
    }
   ],
   "source": [
    "beta = 0.95\n",
    "\n",
    "Π = np.array([[1, 0],\n",
    "              [0, np.sqrt(beta)]])\n",
    "\n",
    "bs = [np.array([5, np.sqrt(beta) * 5])]\n",
    "\n",
    "es = [np.array([1, 1])]\n",
    "\n",
    "EE_DE = ExchangeEconomy(Π, bs, es)\n",
    "p, c_s, μ_s = EE_DE.competitive_equilibrium()\n",
    "\n",
    "print('Competitive equilibrium price vector:', p)\n",
    "print('Competitive equilibrium allocation:', c_s)"
   ]
  },
  {
   "cell_type": "code",
   "execution_count": 9,
   "id": "1bfdfba9",
   "metadata": {},
   "outputs": [
    {
     "name": "stdout",
     "output_type": "stream",
     "text": [
      "Competitive equilibrium price vector: [1.         0.42857143]\n",
      "Competitive equilibrium allocation: [array([0.7, 0.7]), array([0.3, 0.3])]\n"
     ]
    }
   ],
   "source": [
    "prob = 0.7\n",
    "\n",
    "Π = np.array([[np.sqrt(prob), 0],\n",
    "              [0, np.sqrt(1 - prob)]])\n",
    "\n",
    "bs = [np.array([np.sqrt(prob) * 5, np.sqrt(1 - prob) * 5]),\n",
    "      np.array([np.sqrt(prob) * 5, np.sqrt(1 - prob) * 5])]\n",
    "\n",
    "es = [np.array([1, 0]),\n",
    "      np.array([0, 1])]\n",
    "\n",
    "EE_AS = ExchangeEconomy(Π, bs, es)\n",
    "p, c_s, μ_s = EE_AS.competitive_equilibrium()\n",
    "\n",
    "print('Competitive equilibrium price vector:', p)\n",
    "print('Competitive equilibrium allocation:', c_s)"
   ]
  }
 ],
 "metadata": {
  "jupytext": {
   "text_representation": {
    "extension": ".md",
    "format_name": "myst",
    "format_version": 0.13,
    "jupytext_version": "1.14.5"
   }
  },
  "kernelspec": {
   "display_name": "Python 3 (ipykernel)",
   "language": "python",
   "name": "python3"
  },
  "language_info": {
   "codemirror_mode": {
    "name": "ipython",
    "version": 3
   },
   "file_extension": ".py",
   "mimetype": "text/x-python",
   "name": "python",
   "nbconvert_exporter": "python",
   "pygments_lexer": "ipython3",
   "version": "3.9.16"
  },
  "source_map": [
   12,
   38,
   43,
   174,
   241,
   255,
   270,
   274,
   282,
   286,
   294,
   298,
   309,
   313,
   326,
   332,
   347,
   353,
   370
  ]
 },
 "nbformat": 4,
 "nbformat_minor": 5
}