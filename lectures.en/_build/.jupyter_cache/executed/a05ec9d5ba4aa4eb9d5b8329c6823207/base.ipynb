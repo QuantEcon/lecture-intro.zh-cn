{
 "cells": [
  {
   "cell_type": "code",
   "execution_count": 1,
   "id": "05cae1dc",
   "metadata": {
    "tags": [
     "hide-output"
    ]
   },
   "outputs": [
    {
     "name": "stdout",
     "output_type": "stream",
     "text": [
      "Requirement already satisfied: quantecon in /Users/humphreyyang/anaconda3/envs/quantecon/lib/python3.9/site-packages (0.7.0)\r\n",
      "Requirement already satisfied: sympy in /Users/humphreyyang/anaconda3/envs/quantecon/lib/python3.9/site-packages (from quantecon) (1.11.1)\r\n",
      "Requirement already satisfied: scipy>=1.5.0 in /Users/humphreyyang/anaconda3/envs/quantecon/lib/python3.9/site-packages (from quantecon) (1.10.0)\r\n",
      "Requirement already satisfied: requests in /Users/humphreyyang/anaconda3/envs/quantecon/lib/python3.9/site-packages (from quantecon) (2.28.1)\r\n",
      "Requirement already satisfied: numba>=0.49.0 in /Users/humphreyyang/anaconda3/envs/quantecon/lib/python3.9/site-packages (from quantecon) (0.56.4)\r\n",
      "Requirement already satisfied: numpy>=1.17.0 in /Users/humphreyyang/anaconda3/envs/quantecon/lib/python3.9/site-packages (from quantecon) (1.23.5)\r\n",
      "Requirement already satisfied: setuptools in /Users/humphreyyang/anaconda3/envs/quantecon/lib/python3.9/site-packages (from numba>=0.49.0->quantecon) (65.6.3)\r\n",
      "Requirement already satisfied: llvmlite<0.40,>=0.39.0dev0 in /Users/humphreyyang/anaconda3/envs/quantecon/lib/python3.9/site-packages (from numba>=0.49.0->quantecon) (0.39.1)\r\n",
      "Requirement already satisfied: charset-normalizer<3,>=2 in /Users/humphreyyang/anaconda3/envs/quantecon/lib/python3.9/site-packages (from requests->quantecon) (2.0.4)\r\n",
      "Requirement already satisfied: urllib3<1.27,>=1.21.1 in /Users/humphreyyang/anaconda3/envs/quantecon/lib/python3.9/site-packages (from requests->quantecon) (1.26.14)\r\n",
      "Requirement already satisfied: certifi>=2017.4.17 in /Users/humphreyyang/anaconda3/envs/quantecon/lib/python3.9/site-packages (from requests->quantecon) (2022.12.7)\r\n",
      "Requirement already satisfied: idna<4,>=2.5 in /Users/humphreyyang/anaconda3/envs/quantecon/lib/python3.9/site-packages (from requests->quantecon) (3.4)\r\n",
      "Requirement already satisfied: mpmath>=0.19 in /Users/humphreyyang/anaconda3/envs/quantecon/lib/python3.9/site-packages (from sympy->quantecon) (1.2.1)\r\n"
     ]
    }
   ],
   "source": [
    "!pip install quantecon"
   ]
  },
  {
   "cell_type": "code",
   "execution_count": 2,
   "id": "e5251901",
   "metadata": {},
   "outputs": [],
   "source": [
    "import matplotlib.pyplot as plt\n",
    "import numpy as np\n",
    "from numpy.linalg import eig\n",
    "import scipy as sp\n",
    "import quantecon as qe"
   ]
  },
  {
   "cell_type": "code",
   "execution_count": 3,
   "id": "c9306c64",
   "metadata": {},
   "outputs": [
    {
     "name": "stdout",
     "output_type": "stream",
     "text": [
      "Right Eigenvalues:\n",
      "[2. 5.]\n",
      "\n",
      "Right Eigenvectors:\n",
      "[[-0.89442719 -0.70710678]\n",
      " [ 0.4472136  -0.70710678]]\n",
      "\n",
      "Left Eigenvalues:\n",
      "[2. 5.]\n",
      "\n",
      "Left Eigenvectors:\n",
      "[[-0.70710678 -0.4472136 ]\n",
      " [ 0.70710678 -0.89442719]]\n"
     ]
    }
   ],
   "source": [
    "A = np.array([[3, 2],\n",
    "              [1, 4]])\n",
    "\n",
    "# Compute right eigenvectors and eigenvalues\n",
    "λ_r, v = eig(A)\n",
    "\n",
    "# Compute left eigenvectors and eigenvalues\n",
    "λ_l, w = eig(A.T)\n",
    "\n",
    "print(\"Right Eigenvalues:\")\n",
    "print(λ_r)\n",
    "print(\"\\nRight Eigenvectors:\")\n",
    "print(v)\n",
    "print(\"\\nLeft Eigenvalues:\")\n",
    "print(λ_l)\n",
    "print(\"\\nLeft Eigenvectors:\")\n",
    "print(w)"
   ]
  },
  {
   "cell_type": "code",
   "execution_count": 4,
   "id": "1deff3ea",
   "metadata": {},
   "outputs": [
    {
     "name": "stdout",
     "output_type": "stream",
     "text": [
      "Right Eigenvalues:\n",
      "[2. 5.]\n",
      "\n",
      "Right Eigenvectors:\n",
      "[[-0.89442719 -0.70710678]\n",
      " [ 0.4472136  -0.70710678]]\n",
      "\n",
      "Left Eigenvalues:\n",
      "[2. 5.]\n",
      "\n",
      "Left Eigenvectors:\n",
      "[[-0.70710678 -0.4472136 ]\n",
      " [ 0.70710678 -0.89442719]]\n"
     ]
    }
   ],
   "source": [
    "eigenvals, ε, e = sp.linalg.eig(A, left=True)\n",
    "\n",
    "print(\"Right Eigenvalues:\")\n",
    "print(λ_r)\n",
    "print(\"\\nRight Eigenvectors:\")\n",
    "print(v)\n",
    "print(\"\\nLeft Eigenvalues:\")\n",
    "print(λ_l)\n",
    "print(\"\\nLeft Eigenvectors:\")\n",
    "print(w)"
   ]
  },
  {
   "cell_type": "code",
   "execution_count": 5,
   "id": "6aa5ae84",
   "metadata": {},
   "outputs": [],
   "source": [
    "A = np.array([[0, 1, 0],\n",
    "              [.5, 0, .5],\n",
    "              [0, 1, 0]])"
   ]
  },
  {
   "cell_type": "code",
   "execution_count": 6,
   "id": "3288c78c",
   "metadata": {},
   "outputs": [
    {
     "data": {
      "text/plain": [
       "(array([-1.00000000e+00, -3.30139063e-18,  1.00000000e+00]),\n",
       " array([[ 5.77350269e-01,  7.07106781e-01,  5.77350269e-01],\n",
       "        [-5.77350269e-01,  2.95712306e-18,  5.77350269e-01],\n",
       "        [ 5.77350269e-01, -7.07106781e-01,  5.77350269e-01]]))"
      ]
     },
     "execution_count": 6,
     "metadata": {},
     "output_type": "execute_result"
    }
   ],
   "source": [
    "eig(A)"
   ]
  },
  {
   "cell_type": "code",
   "execution_count": 7,
   "id": "fd49c290",
   "metadata": {},
   "outputs": [
    {
     "data": {
      "text/plain": [
       "array([[2, 1, 1],\n",
       "       [1, 2, 1],\n",
       "       [1, 1, 2]])"
      ]
     },
     "execution_count": 7,
     "metadata": {},
     "output_type": "execute_result"
    }
   ],
   "source": [
    "B = np.array([[0, 1, 1],\n",
    "              [1, 0, 1],\n",
    "              [1, 1, 0]])\n",
    "\n",
    "np.linalg.matrix_power(B, 2)"
   ]
  },
  {
   "cell_type": "code",
   "execution_count": 8,
   "id": "bab1bdea",
   "metadata": {},
   "outputs": [
    {
     "data": {
      "text/plain": [
       "2.0"
      ]
     },
     "execution_count": 8,
     "metadata": {},
     "output_type": "execute_result"
    }
   ],
   "source": [
    "num_iters = 20\n",
    "b = np.random.rand(B.shape[1])\n",
    "\n",
    "for i in range(num_iters):\n",
    "    b = B @ b\n",
    "    b = b / np.linalg.norm(b)\n",
    "\n",
    "dominant_eigenvalue = np.dot(B @ b, b) / np.dot(b, b)\n",
    "np.round(dominant_eigenvalue, 2)"
   ]
  },
  {
   "cell_type": "code",
   "execution_count": 9,
   "id": "a7bb905b",
   "metadata": {},
   "outputs": [
    {
     "data": {
      "text/plain": [
       "(array([-1.,  2., -1.]),\n",
       " array([[-0.81649658,  0.57735027, -0.27880153],\n",
       "        [ 0.40824829,  0.57735027, -0.5252061 ],\n",
       "        [ 0.40824829,  0.57735027,  0.80400763]]))"
      ]
     },
     "execution_count": 9,
     "metadata": {},
     "output_type": "execute_result"
    }
   ],
   "source": [
    "eig(B)"
   ]
  },
  {
   "cell_type": "code",
   "execution_count": 10,
   "id": "8c34244d",
   "metadata": {},
   "outputs": [
    {
     "name": "stdout",
     "output_type": "stream",
     "text": [
      "Matrix:\n",
      "[[1 2]\n",
      " [1 4]]\n",
      "Perron projection:\n",
      "[[0.13619656 0.48507125]\n",
      " [0.24253563 0.86380344]]\n",
      "n = 1, error = 0.0989045731\n",
      "n = 10, error = 0.0000000001\n",
      "n = 100, error = 0.0000000000\n",
      "n = 1000, error = 0.0000000000\n",
      "n = 10000, error = 0.0000000000\n",
      "\n",
      "------------------------------------\n",
      "\n",
      "Matrix:\n",
      "[[0 1 1]\n",
      " [1 0 1]\n",
      " [1 1 0]]\n",
      "Perron projection:\n",
      "[[0.33333333 0.33333333 0.33333333]\n",
      " [0.33333333 0.33333333 0.33333333]\n",
      " [0.33333333 0.33333333 0.33333333]]\n",
      "n = 1, error = 0.7071067812\n",
      "n = 10, error = 0.0013810679\n",
      "n = 100, error = 0.0000000000\n",
      "n = 1000, error = 0.0000000000\n",
      "n = 10000, error = 0.0000000000\n",
      "\n",
      "------------------------------------\n",
      "\n",
      "Matrix:\n",
      "[[0.971 0.029 0.1   1.   ]\n",
      " [0.145 0.778 0.077 0.59 ]\n",
      " [0.1   0.508 0.492 1.12 ]\n",
      " [0.2   0.8   0.71  0.95 ]]\n",
      "Perron projection:\n",
      "[[0.12506189 0.31948872 0.20232606 0.43340956]\n",
      " [0.07714374 0.19707485 0.12480371 0.26734628]\n",
      " [0.12157508 0.31058115 0.19668507 0.4213258 ]\n",
      " [0.1388457  0.35470147 0.22462561 0.4811782 ]]\n",
      "n = 1, error = 0.5361031549\n",
      "n = 10, error = 0.0000434043\n",
      "n = 100, error = 0.0000000000\n",
      "n = 1000, error = 0.0000000000\n",
      "n = 10000, error = 0.0000000000\n",
      "\n",
      "------------------------------------\n",
      "\n"
     ]
    }
   ],
   "source": [
    "def compute_perron_projection(M):\n",
    "\n",
    "    eigval, v = eig(M)\n",
    "    eigval, w = eig(M.T)\n",
    "\n",
    "    r = np.max(eigval)\n",
    "\n",
    "    # Find the index of the dominant (Perron) eigenvalue\n",
    "    i = np.argmax(eigval)\n",
    "\n",
    "    # Get the Perron eigenvectors\n",
    "    v_P = v[:, i].reshape(-1, 1)\n",
    "    w_P = w[:, i].reshape(-1, 1)\n",
    "\n",
    "    # Normalize the left and right eigenvectors\n",
    "    norm_factor = w_P.T @ v_P\n",
    "    v_norm = v_P / norm_factor\n",
    "\n",
    "    # Compute the Perron projection matrix\n",
    "    P = v_norm @ w_P.T\n",
    "    return P, r\n",
    "\n",
    "def check_convergence(M):\n",
    "    P, r = compute_perron_projection(M)\n",
    "    print(\"Perron projection:\")\n",
    "    print(P)\n",
    "\n",
    "    # Define a list of values for n\n",
    "    n_list = [1, 10, 100, 1000, 10000]\n",
    "\n",
    "    for n in n_list:\n",
    "\n",
    "        # Compute (A/r)^n\n",
    "        M_n = np.linalg.matrix_power(M/r, n)\n",
    "\n",
    "        # Compute the difference between A^n / r^n and the Perron projection\n",
    "        diff = np.abs(M_n - P)\n",
    "\n",
    "        # Calculate the norm of the difference matrix\n",
    "        diff_norm = np.linalg.norm(diff, 'fro')\n",
    "        print(f\"n = {n}, error = {diff_norm:.10f}\")\n",
    "\n",
    "\n",
    "A1 = np.array([[1, 2],\n",
    "               [1, 4]])\n",
    "\n",
    "A2 = np.array([[0, 1, 1],\n",
    "              [1, 0, 1],\n",
    "              [1, 1, 0]])\n",
    "\n",
    "A3 = np.array([[0.971, 0.029, 0.1, 1],\n",
    "               [0.145, 0.778, 0.077, 0.59],\n",
    "               [0.1, 0.508, 0.492, 1.12],\n",
    "               [0.2, 0.8, 0.71, 0.95]])\n",
    "\n",
    "for M in A1, A2, A3:\n",
    "    print(\"Matrix:\")\n",
    "    print(M)\n",
    "    check_convergence(M)\n",
    "    print()\n",
    "    print(\"-\"*36)\n",
    "    print()"
   ]
  },
  {
   "cell_type": "code",
   "execution_count": 11,
   "id": "6fb68282",
   "metadata": {},
   "outputs": [
    {
     "name": "stdout",
     "output_type": "stream",
     "text": [
      "Matrix:\n",
      "[[0 1 1]\n",
      " [1 0 0]\n",
      " [1 0 0]]\n",
      "100th power of matrix B:\n",
      "[[1125899906842624                0                0]\n",
      " [               0  562949953421312  562949953421312]\n",
      " [               0  562949953421312  562949953421312]]\n",
      "Perron projection:\n",
      "[[0.5        0.35355339 0.35355339]\n",
      " [0.35355339 0.25       0.25      ]\n",
      " [0.35355339 0.25       0.25      ]]\n",
      "n = 1, error = 1.0000000000\n",
      "n = 10, error = 1.0000000000\n",
      "n = 100, error = 1.0000000000\n",
      "n = 1000, error = 1.0000000000\n",
      "n = 10000, error = 1.0000000000\n"
     ]
    }
   ],
   "source": [
    "B = np.array([[0, 1, 1],\n",
    "              [1, 0, 0],\n",
    "              [1, 0, 0]])\n",
    "\n",
    "# This shows that the matrix is not primitive\n",
    "print(\"Matrix:\")\n",
    "print(B)\n",
    "print(\"100th power of matrix B:\")\n",
    "print(np.linalg.matrix_power(B, 100))\n",
    "\n",
    "check_convergence(B)"
   ]
  },
  {
   "cell_type": "code",
   "execution_count": 12,
   "id": "18a03393",
   "metadata": {},
   "outputs": [
    {
     "name": "stdout",
     "output_type": "stream",
     "text": [
      "[[0.56145769 0.15565164 0.28289067]\n",
      " [0.56145769 0.15565164 0.28289067]\n",
      " [0.56145769 0.15565164 0.28289067]]\n"
     ]
    }
   ],
   "source": [
    "P = np.array([[0.68, 0.12, 0.20],\n",
    "              [0.50, 0.24, 0.26],\n",
    "              [0.36, 0.18, 0.46]])\n",
    "\n",
    "print(compute_perron_projection(P)[0])"
   ]
  },
  {
   "cell_type": "code",
   "execution_count": 13,
   "id": "aa8059b8",
   "metadata": {},
   "outputs": [
    {
     "data": {
      "text/plain": [
       "array([0.56145769, 0.15565164, 0.28289067])"
      ]
     },
     "execution_count": 13,
     "metadata": {},
     "output_type": "execute_result"
    }
   ],
   "source": [
    "mc = qe.MarkovChain(P)\n",
    "ψ_star = mc.stationary_distributions[0]\n",
    "ψ_star"
   ]
  },
  {
   "cell_type": "code",
   "execution_count": 14,
   "id": "f25b93d4",
   "metadata": {},
   "outputs": [
    {
     "name": "stdout",
     "output_type": "stream",
     "text": [
      "[[0.8128  0.16256 0.02464]\n",
      " [0.8128  0.16256 0.02464]\n",
      " [0.8128  0.16256 0.02464]]\n"
     ]
    }
   ],
   "source": [
    "P_hamilton = np.array([[0.971, 0.029, 0.000],\n",
    "                       [0.145, 0.778, 0.077],\n",
    "                       [0.000, 0.508, 0.492]])\n",
    "\n",
    "print(compute_perron_projection(P_hamilton)[0])"
   ]
  },
  {
   "cell_type": "code",
   "execution_count": 15,
   "id": "29cd7aed",
   "metadata": {},
   "outputs": [
    {
     "data": {
      "text/plain": [
       "array([0.8128 , 0.16256, 0.02464])"
      ]
     },
     "execution_count": 15,
     "metadata": {},
     "output_type": "execute_result"
    }
   ],
   "source": [
    "mc = qe.MarkovChain(P_hamilton)\n",
    "ψ_star = mc.stationary_distributions[0]\n",
    "ψ_star"
   ]
  },
  {
   "cell_type": "code",
   "execution_count": 16,
   "id": "3d00fd87",
   "metadata": {},
   "outputs": [
    {
     "name": "stdout",
     "output_type": "stream",
     "text": [
      "0.5828427124746189\n"
     ]
    }
   ],
   "source": [
    "A = np.array([[0.4, 0.1],\n",
    "              [0.7, 0.2]])\n",
    "\n",
    "evals, evecs = eig(A)   # finding eigenvalues and eigenvectors\n",
    "\n",
    "r = max(abs(λ) for λ in evals)    # compute spectral radius\n",
    "print(r)"
   ]
  },
  {
   "cell_type": "code",
   "execution_count": 17,
   "id": "e6eacc21",
   "metadata": {},
   "outputs": [],
   "source": [
    "I = np.identity(2)      #2 x 2 identity matrix\n",
    "B = I - A"
   ]
  },
  {
   "cell_type": "code",
   "execution_count": 18,
   "id": "2b427154",
   "metadata": {},
   "outputs": [],
   "source": [
    "B_inverse = np.linalg.inv(B)     #direct inverse method"
   ]
  },
  {
   "cell_type": "code",
   "execution_count": 19,
   "id": "99ba64d9",
   "metadata": {},
   "outputs": [],
   "source": [
    "A_sum = np.zeros((2,2))        #power series sum of A\n",
    "A_power = I\n",
    "for i in range(50):\n",
    "    A_sum += A_power\n",
    "    A_power = A_power @ A"
   ]
  },
  {
   "cell_type": "code",
   "execution_count": 20,
   "id": "c5102c28",
   "metadata": {},
   "outputs": [
    {
     "data": {
      "text/plain": [
       "True"
      ]
     },
     "execution_count": 20,
     "metadata": {},
     "output_type": "execute_result"
    }
   ],
   "source": [
    "np.allclose(A_sum, B_inverse)"
   ]
  },
  {
   "cell_type": "code",
   "execution_count": 21,
   "id": "77d79053",
   "metadata": {},
   "outputs": [
    {
     "name": "stdout",
     "output_type": "stream",
     "text": [
      "0.8444086477164554\n"
     ]
    }
   ],
   "source": [
    "A = np.array([[0.3, 0.2, 0.3],\n",
    "              [0.2, 0.4, 0.3],\n",
    "              [0.2, 0.5, 0.1]])\n",
    "\n",
    "evals, evecs = eig(A)\n",
    "\n",
    "r = max(abs(λ) for λ in evals)   #dominant eigenvalue/spectral radius\n",
    "print(r)"
   ]
  },
  {
   "cell_type": "code",
   "execution_count": 22,
   "id": "44c0106b",
   "metadata": {},
   "outputs": [
    {
     "name": "stdout",
     "output_type": "stream",
     "text": [
      "[[38.30188679]\n",
      " [44.33962264]\n",
      " [46.47798742]]\n"
     ]
    }
   ],
   "source": [
    "I = np.identity(3)\n",
    "B = I - A\n",
    "\n",
    "d = np.array([4, 5, 12])\n",
    "d.shape = (3,1)\n",
    "\n",
    "B_inv = np.linalg.inv(B)\n",
    "x_star = B_inv @ d\n",
    "print(x_star)"
   ]
  }
 ],
 "metadata": {
  "jupytext": {
   "text_representation": {
    "extension": ".md",
    "format_name": "myst",
    "format_version": 0.13,
    "jupytext_version": "1.14.4"
   }
  },
  "kernelspec": {
   "display_name": "Python 3 (ipykernel)",
   "language": "python",
   "name": "python3"
  },
  "language_info": {
   "codemirror_mode": {
    "name": "ipython",
    "version": 3
   },
   "file_extension": ".py",
   "mimetype": "text/x-python",
   "name": "python",
   "nbconvert_exporter": "python",
   "pygments_lexer": "ipython3",
   "version": "3.9.16"
  },
  "source_map": [
   12,
   27,
   31,
   39,
   45,
   113,
   131,
   135,
   146,
   199,
   203,
   207,
   209,
   223,
   229,
   233,
   245,
   247,
   262,
   325,
   331,
   343,
   360,
   368,
   374,
   382,
   386,
   390,
   505,
   513,
   519,
   524,
   528,
   534,
   538,
   540,
   617,
   626,
   630,
   640
  ]
 },
 "nbformat": 4,
 "nbformat_minor": 5
}