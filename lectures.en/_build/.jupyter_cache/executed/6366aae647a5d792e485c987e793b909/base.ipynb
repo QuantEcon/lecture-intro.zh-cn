{
 "cells": [
  {
   "cell_type": "code",
   "execution_count": 1,
   "id": "6988a171",
   "metadata": {
    "tags": [
     "hide-output"
    ]
   },
   "outputs": [
    {
     "name": "stdout",
     "output_type": "stream",
     "text": [
      "Requirement already satisfied: quantecon in /Users/humphreyyang/anaconda3/envs/quantecon/lib/python3.9/site-packages (0.7.1)\r\n",
      "Requirement already satisfied: requests in /Users/humphreyyang/anaconda3/envs/quantecon/lib/python3.9/site-packages (from quantecon) (2.31.0)\r\n",
      "Requirement already satisfied: numpy>=1.17.0 in /Users/humphreyyang/anaconda3/envs/quantecon/lib/python3.9/site-packages (from quantecon) (1.22.1)\r\n",
      "Requirement already satisfied: sympy in /Users/humphreyyang/anaconda3/envs/quantecon/lib/python3.9/site-packages (from quantecon) (1.11.1)\r\n",
      "Requirement already satisfied: scipy>=1.5.0 in /Users/humphreyyang/anaconda3/envs/quantecon/lib/python3.9/site-packages (from quantecon) (1.7.3)\r\n",
      "Requirement already satisfied: numba>=0.49.0 in /Users/humphreyyang/anaconda3/envs/quantecon/lib/python3.9/site-packages (from quantecon) (0.56.4)\r\n",
      "Requirement already satisfied: setuptools in /Users/humphreyyang/anaconda3/envs/quantecon/lib/python3.9/site-packages (from numba>=0.49.0->quantecon) (65.6.3)\r\n",
      "Requirement already satisfied: llvmlite<0.40,>=0.39.0dev0 in /Users/humphreyyang/anaconda3/envs/quantecon/lib/python3.9/site-packages (from numba>=0.49.0->quantecon) (0.39.1)\r\n",
      "Requirement already satisfied: certifi>=2017.4.17 in /Users/humphreyyang/anaconda3/envs/quantecon/lib/python3.9/site-packages (from requests->quantecon) (2022.12.7)\r\n",
      "Requirement already satisfied: charset-normalizer<4,>=2 in /Users/humphreyyang/anaconda3/envs/quantecon/lib/python3.9/site-packages (from requests->quantecon) (2.0.4)\r\n",
      "Requirement already satisfied: idna<4,>=2.5 in /Users/humphreyyang/anaconda3/envs/quantecon/lib/python3.9/site-packages (from requests->quantecon) (3.4)\r\n",
      "Requirement already satisfied: urllib3<3,>=1.21.1 in /Users/humphreyyang/anaconda3/envs/quantecon/lib/python3.9/site-packages (from requests->quantecon) (1.26.14)\r\n",
      "Requirement already satisfied: mpmath>=0.19 in /Users/humphreyyang/anaconda3/envs/quantecon/lib/python3.9/site-packages (from sympy->quantecon) (1.2.1)\r\n"
     ]
    }
   ],
   "source": [
    "!pip install quantecon"
   ]
  },
  {
   "cell_type": "code",
   "execution_count": 2,
   "id": "bb48c66a",
   "metadata": {},
   "outputs": [],
   "source": [
    "import matplotlib.pyplot as plt\n",
    "import numpy as np\n",
    "from numpy.linalg import eig\n",
    "import scipy as sp\n",
    "import quantecon as qe"
   ]
  },
  {
   "cell_type": "code",
   "execution_count": 3,
   "id": "ba5f297c",
   "metadata": {},
   "outputs": [
    {
     "name": "stdout",
     "output_type": "stream",
     "text": [
      "The eigenvalues of A are:\n",
      " [2. 5.]\n",
      "\n",
      "The corresponding right eigenvectors are: \n",
      " [-0.89443  0.44721] and [0.70711 0.70711]\n",
      "\n",
      "The corresponding left eigenvectors are: \n",
      " [-0.70711  0.70711] and [0.44721 0.89443]\n",
      "\n"
     ]
    }
   ],
   "source": [
    "A = np.array([[3, 2],\n",
    "              [1, 4]])\n",
    "\n",
    "# Compute eigenvalues and right eigenvectors\n",
    "λ, v = eig(A)\n",
    "\n",
    "# Compute eigenvalues and left eigenvectors\n",
    "λ, w = eig(A.T)\n",
    "\n",
    "# Keep 5 decimals\n",
    "np.set_printoptions(precision=5)\n",
    "\n",
    "print(f\"The eigenvalues of A are:\\n {λ}\\n\")\n",
    "print(f\"The corresponding right eigenvectors are: \\n {v[:,0]} and {-v[:,1]}\\n\")\n",
    "print(f\"The corresponding left eigenvectors are: \\n {w[:,0]} and {-w[:,1]}\\n\")"
   ]
  },
  {
   "cell_type": "code",
   "execution_count": 4,
   "id": "4eca966d",
   "metadata": {},
   "outputs": [
    {
     "name": "stdout",
     "output_type": "stream",
     "text": [
      "The eigenvalues of A are:\n",
      " [2. 5.]\n",
      "\n",
      "The corresponding right eigenvectors are: \n",
      " [-0.89443  0.44721] and [0.70711 0.70711]\n",
      "\n",
      "The corresponding left eigenvectors are: \n",
      " [-0.70711  0.70711] and [0.44721 0.89443]\n",
      "\n"
     ]
    }
   ],
   "source": [
    "eigenvals, ε, e = sp.linalg.eig(A, left=True)\n",
    "\n",
    "print(f\"The eigenvalues of A are:\\n {eigenvals.real}\\n\")\n",
    "print(f\"The corresponding right eigenvectors are: \\n {e[:,0]} and {-e[:,1]}\\n\")\n",
    "print(f\"The corresponding left eigenvectors are: \\n {ε[:,0]} and {-ε[:,1]}\\n\")"
   ]
  },
  {
   "cell_type": "code",
   "execution_count": 5,
   "id": "65764be4",
   "metadata": {},
   "outputs": [],
   "source": [
    "A = np.array([[0, 1, 0],\n",
    "              [.5, 0, .5],\n",
    "              [0, 1, 0]])"
   ]
  },
  {
   "cell_type": "code",
   "execution_count": 6,
   "id": "11eecb31",
   "metadata": {},
   "outputs": [
    {
     "data": {
      "text/plain": [
       "(array([-1.00000e+00, -3.30139e-18,  1.00000e+00]),\n",
       " array([[ 5.77350e-01,  7.07107e-01,  5.77350e-01],\n",
       "        [-5.77350e-01,  2.95712e-18,  5.77350e-01],\n",
       "        [ 5.77350e-01, -7.07107e-01,  5.77350e-01]]))"
      ]
     },
     "execution_count": 6,
     "metadata": {},
     "output_type": "execute_result"
    }
   ],
   "source": [
    "eig(A)"
   ]
  },
  {
   "cell_type": "code",
   "execution_count": 7,
   "id": "6bd1af4c",
   "metadata": {},
   "outputs": [
    {
     "data": {
      "text/plain": [
       "array([[2, 1, 1],\n",
       "       [1, 2, 1],\n",
       "       [1, 1, 2]])"
      ]
     },
     "execution_count": 7,
     "metadata": {},
     "output_type": "execute_result"
    }
   ],
   "source": [
    "B = np.array([[0, 1, 1],\n",
    "              [1, 0, 1],\n",
    "              [1, 1, 0]])\n",
    "\n",
    "np.linalg.matrix_power(B, 2)"
   ]
  },
  {
   "cell_type": "code",
   "execution_count": 8,
   "id": "ac0e7ac1",
   "metadata": {},
   "outputs": [
    {
     "data": {
      "text/plain": [
       "(array([-1.,  2., -1.]),\n",
       " array([[-0.8165 ,  0.57735, -0.2788 ],\n",
       "        [ 0.40825,  0.57735, -0.52521],\n",
       "        [ 0.40825,  0.57735,  0.80401]]))"
      ]
     },
     "execution_count": 8,
     "metadata": {},
     "output_type": "execute_result"
    }
   ],
   "source": [
    "eig(B)"
   ]
  },
  {
   "cell_type": "code",
   "execution_count": 9,
   "id": "cb07010c",
   "metadata": {},
   "outputs": [
    {
     "name": "stdout",
     "output_type": "stream",
     "text": [
      "Matrix:\n",
      "[[1 2]\n",
      " [1 4]]\n",
      "Perron projection:\n",
      "[[0.1362  0.48507]\n",
      " [0.24254 0.8638 ]]\n",
      "n = 1, error = 0.0989045731\n",
      "n = 10, error = 0.0000000001\n",
      "n = 100, error = 0.0000000000\n",
      "n = 1000, error = 0.0000000000\n",
      "n = 10000, error = 0.0000000000\n",
      "\n",
      "------------------------------------\n",
      "\n",
      "Matrix:\n",
      "[[0 1 1]\n",
      " [1 0 1]\n",
      " [1 1 0]]\n",
      "Perron projection:\n",
      "[[0.33333 0.33333 0.33333]\n",
      " [0.33333 0.33333 0.33333]\n",
      " [0.33333 0.33333 0.33333]]\n",
      "n = 1, error = 0.7071067812\n",
      "n = 10, error = 0.0013810679\n",
      "n = 100, error = 0.0000000000\n",
      "n = 1000, error = 0.0000000000\n",
      "n = 10000, error = 0.0000000000\n",
      "\n",
      "------------------------------------\n",
      "\n",
      "Matrix:\n",
      "[[0.971 0.029 0.1   1.   ]\n",
      " [0.145 0.778 0.077 0.59 ]\n",
      " [0.1   0.508 0.492 1.12 ]\n",
      " [0.2   0.8   0.71  0.95 ]]\n",
      "Perron projection:\n",
      "[[0.12506 0.31949 0.20233 0.43341]\n",
      " [0.07714 0.19707 0.1248  0.26735]\n",
      " [0.12158 0.31058 0.19669 0.42133]\n",
      " [0.13885 0.3547  0.22463 0.48118]]\n",
      "n = 1, error = 0.5361031549\n",
      "n = 10, error = 0.0000434043\n",
      "n = 100, error = 0.0000000000\n",
      "n = 1000, error = 0.0000000000\n",
      "n = 10000, error = 0.0000000000\n",
      "\n",
      "------------------------------------\n",
      "\n"
     ]
    }
   ],
   "source": [
    "def compute_perron_projection(M):\n",
    "\n",
    "    eigval, v = eig(M)\n",
    "    eigval, w = eig(M.T)\n",
    "\n",
    "    r = np.max(eigval)\n",
    "\n",
    "    # Find the index of the dominant (Perron) eigenvalue\n",
    "    i = np.argmax(eigval)\n",
    "\n",
    "    # Get the Perron eigenvectors\n",
    "    v_P = v[:, i].reshape(-1, 1)\n",
    "    w_P = w[:, i].reshape(-1, 1)\n",
    "\n",
    "    # Normalize the left and right eigenvectors\n",
    "    norm_factor = w_P.T @ v_P\n",
    "    v_norm = v_P / norm_factor\n",
    "\n",
    "    # Compute the Perron projection matrix\n",
    "    P = v_norm @ w_P.T\n",
    "    return P, r\n",
    "\n",
    "def check_convergence(M):\n",
    "    P, r = compute_perron_projection(M)\n",
    "    print(\"Perron projection:\")\n",
    "    print(P)\n",
    "\n",
    "    # Define a list of values for n\n",
    "    n_list = [1, 10, 100, 1000, 10000]\n",
    "\n",
    "    for n in n_list:\n",
    "\n",
    "        # Compute (A/r)^n\n",
    "        M_n = np.linalg.matrix_power(M/r, n)\n",
    "\n",
    "        # Compute the difference between A^n / r^n and the Perron projection\n",
    "        diff = np.abs(M_n - P)\n",
    "\n",
    "        # Calculate the norm of the difference matrix\n",
    "        diff_norm = np.linalg.norm(diff, 'fro')\n",
    "        print(f\"n = {n}, error = {diff_norm:.10f}\")\n",
    "\n",
    "\n",
    "A1 = np.array([[1, 2],\n",
    "               [1, 4]])\n",
    "\n",
    "A2 = np.array([[0, 1, 1],\n",
    "               [1, 0, 1],\n",
    "               [1, 1, 0]])\n",
    "\n",
    "A3 = np.array([[0.971, 0.029, 0.1, 1],\n",
    "               [0.145, 0.778, 0.077, 0.59],\n",
    "               [0.1, 0.508, 0.492, 1.12],\n",
    "               [0.2, 0.8, 0.71, 0.95]])\n",
    "\n",
    "for M in A1, A2, A3:\n",
    "    print(\"Matrix:\")\n",
    "    print(M)\n",
    "    check_convergence(M)\n",
    "    print()\n",
    "    print(\"-\"*36)\n",
    "    print()"
   ]
  },
  {
   "cell_type": "code",
   "execution_count": 10,
   "id": "70bf2ab7",
   "metadata": {},
   "outputs": [
    {
     "name": "stdout",
     "output_type": "stream",
     "text": [
      "Matrix:\n",
      "[[0 1 1]\n",
      " [1 0 0]\n",
      " [1 0 0]]\n",
      "100th power of matrix B:\n",
      "[[1125899906842624                0                0]\n",
      " [               0  562949953421312  562949953421312]\n",
      " [               0  562949953421312  562949953421312]]\n",
      "Perron projection:\n",
      "[[0.5     0.35355 0.35355]\n",
      " [0.35355 0.25    0.25   ]\n",
      " [0.35355 0.25    0.25   ]]\n",
      "n = 1, error = 1.0000000000\n",
      "n = 10, error = 1.0000000000\n",
      "n = 100, error = 1.0000000000\n",
      "n = 1000, error = 1.0000000000\n",
      "n = 10000, error = 1.0000000000\n"
     ]
    }
   ],
   "source": [
    "B = np.array([[0, 1, 1],\n",
    "              [1, 0, 0],\n",
    "              [1, 0, 0]])\n",
    "\n",
    "# This shows that the matrix is not primitive\n",
    "print(\"Matrix:\")\n",
    "print(B)\n",
    "print(\"100th power of matrix B:\")\n",
    "print(np.linalg.matrix_power(B, 100))\n",
    "\n",
    "check_convergence(B)"
   ]
  },
  {
   "cell_type": "code",
   "execution_count": 11,
   "id": "7f8f4e8b",
   "metadata": {},
   "outputs": [
    {
     "name": "stdout",
     "output_type": "stream",
     "text": [
      "[[0.56146 0.15565 0.28289]\n",
      " [0.56146 0.15565 0.28289]\n",
      " [0.56146 0.15565 0.28289]]\n"
     ]
    }
   ],
   "source": [
    "P = np.array([[0.68, 0.12, 0.20],\n",
    "              [0.50, 0.24, 0.26],\n",
    "              [0.36, 0.18, 0.46]])\n",
    "\n",
    "print(compute_perron_projection(P)[0])"
   ]
  },
  {
   "cell_type": "code",
   "execution_count": 12,
   "id": "4784e2e7",
   "metadata": {},
   "outputs": [
    {
     "data": {
      "text/plain": [
       "array([0.56146, 0.15565, 0.28289])"
      ]
     },
     "execution_count": 12,
     "metadata": {},
     "output_type": "execute_result"
    }
   ],
   "source": [
    "mc = qe.MarkovChain(P)\n",
    "ψ_star = mc.stationary_distributions[0]\n",
    "ψ_star"
   ]
  },
  {
   "cell_type": "code",
   "execution_count": 13,
   "id": "1b2e5171",
   "metadata": {},
   "outputs": [
    {
     "name": "stdout",
     "output_type": "stream",
     "text": [
      "[[0.8128  0.16256 0.02464]\n",
      " [0.8128  0.16256 0.02464]\n",
      " [0.8128  0.16256 0.02464]]\n"
     ]
    }
   ],
   "source": [
    "P_hamilton = np.array([[0.971, 0.029, 0.000],\n",
    "                       [0.145, 0.778, 0.077],\n",
    "                       [0.000, 0.508, 0.492]])\n",
    "\n",
    "print(compute_perron_projection(P_hamilton)[0])"
   ]
  },
  {
   "cell_type": "code",
   "execution_count": 14,
   "id": "8cbd0b0d",
   "metadata": {},
   "outputs": [
    {
     "data": {
      "text/plain": [
       "array([0.8128 , 0.16256, 0.02464])"
      ]
     },
     "execution_count": 14,
     "metadata": {},
     "output_type": "execute_result"
    }
   ],
   "source": [
    "mc = qe.MarkovChain(P_hamilton)\n",
    "ψ_star = mc.stationary_distributions[0]\n",
    "ψ_star"
   ]
  },
  {
   "cell_type": "code",
   "execution_count": 15,
   "id": "d46cb371",
   "metadata": {},
   "outputs": [
    {
     "name": "stdout",
     "output_type": "stream",
     "text": [
      "0.8444086477164554\n"
     ]
    }
   ],
   "source": [
    "A = np.array([[0.3, 0.2, 0.3],\n",
    "              [0.2, 0.4, 0.3],\n",
    "              [0.2, 0.5, 0.1]])\n",
    "\n",
    "evals, evecs = eig(A)\n",
    "\n",
    "r = max(abs(λ) for λ in evals)   #dominant eigenvalue/spectral radius\n",
    "print(r)"
   ]
  },
  {
   "cell_type": "code",
   "execution_count": 16,
   "id": "3051df2e",
   "metadata": {},
   "outputs": [
    {
     "name": "stdout",
     "output_type": "stream",
     "text": [
      "[[38.30189]\n",
      " [44.33962]\n",
      " [46.47799]]\n"
     ]
    }
   ],
   "source": [
    "I = np.identity(3)\n",
    "B = I - A\n",
    "\n",
    "d = np.array([4, 5, 12])\n",
    "d.shape = (3,1)\n",
    "\n",
    "B_inv = np.linalg.inv(B)\n",
    "x_star = B_inv @ d\n",
    "print(x_star)"
   ]
  }
 ],
 "metadata": {
  "jupytext": {
   "text_representation": {
    "extension": ".md",
    "format_name": "myst",
    "format_version": 0.13,
    "jupytext_version": "1.14.4"
   }
  },
  "kernelspec": {
   "display_name": "Python 3 (ipykernel)",
   "language": "python",
   "name": "python3"
  },
  "language_info": {
   "codemirror_mode": {
    "name": "ipython",
    "version": 3
   },
   "file_extension": ".py",
   "mimetype": "text/x-python",
   "name": "python",
   "nbconvert_exporter": "python",
   "pygments_lexer": "ipython3",
   "version": "3.9.16"
  },
  "source_map": [
   12,
   25,
   29,
   37,
   43,
   125,
   141,
   145,
   151,
   200,
   204,
   208,
   210,
   271,
   277,
   281,
   283,
   296,
   359,
   365,
   377,
   394,
   402,
   408,
   416,
   420,
   424,
   540,
   549,
   553,
   563
  ]
 },
 "nbformat": 4,
 "nbformat_minor": 5
}