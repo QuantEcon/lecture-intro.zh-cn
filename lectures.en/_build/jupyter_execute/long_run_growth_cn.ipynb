{
 "cells": [
  {
   "cell_type": "markdown",
   "id": "a27b55d6",
   "metadata": {},
   "source": [
    "# 长期增长\n",
    "\n",
    "## 概述\n",
    "\n",
    "在本讲座中，我们将使用Python、{doc}`pandas<pyprog:pandas>` 和 {doc}`Matplotlib<pyprog:matplotlib>` 来下载、组织和可视化经济增长的历史数据。\n",
    "\n",
    "除了学习如何更广泛地部署这些工具之外，我们还将使用它们来描述跨越多个世纪的多个国家的经济增长经历。\n",
    "\n",
    "这样的“增长事实”出于多种原因是有趣的。\n",
    "\n",
    "解释增长事实是“发展经济学”和“经济史学”的主要目的。\n",
    "\n",
    "增长事实是历史学家研究地缘政治力量和动态的重要输入。\n",
    "\n",
    "因此，亚当·图兹（Adam Tooze）对第一次世界大战的地缘政治前因和后果的描述始于描述欧洲大国在1914年前70年间的国内生产总值（GDP）如何演变（见{cite}`Tooze_2014`的第1章）。\n",
    "\n",
    "使用图兹构建他的图表所使用的相同数据（时间线稍长一点），以下是我们版本的第1章图表。\n",
    "\n",
    "```{figure} _static/lecture_specific/long_run_growth/tooze_ch1_graph.png\n",
    ":width: 100%\n",
    "```\n",
    "\n",
    "（这只是我们的图{numref}`gdp1`的副本。我们稍后在本讲座中描述了它是如何构建的。）\n",
    "\n",
    "{cite}`Tooze_2014`的第1章使用他的图表展示了美国GDP如何在19世纪初大大落后于大英帝国的GDP。\n",
    "\n",
    "到19世纪末，美国GDP已经赶上了大英帝国的GDP，而在20世纪上半叶，美国GDP超过了大英帝国的GDP。\n",
    "\n",
    "对于亚当·图兹来说，这一事实是“美国世纪”的关键地缘政治基础。\n",
    "\n",
    "查看此图及其如何为“美国（20世纪）世纪”奠定地缘政治基础自然会使人想要了解2014年或之后的相应图表。\n",
    "\n",
    "（焦急的读者现在可能想要跳到前面并查看图{numref}`gdp2`以获得答案提示。）\n",
    "\n",
    "正如我们将看到的，通过类比推理，这张图表或许奠定了“XXX（21世纪）世纪”的基础，你可以自由猜测国家XXX。\n",
    "\n",
    "在我们收集数据以构建这两个图表的过程中，我们还将研究多国在尽可能长的时间范围内的增长经历。\n",
    "\n",
    "这些图表将描绘“工业革命”如何在18世纪末始于英国，然后迁移到一个国家又一个国家。\n",
    "\n",
    "简而言之，本讲座记录了若干国家在长时间里的增长轨迹。\n",
    "\n",
    "虽然有些国家经历了持续一百年的长期快速增长，其他国家却没有。\n",
    "\n",
    "由于国家间的人口有所不同，并且在一个国家内随时间变化，\n",
    "\n",
    "描述总GDP和人均GDP如何随时间变化也是很有趣的。\n",
    "\n",
    "首先，让我们导入探索长期增长数据所需的包"
   ]
  },
  {
   "cell_type": "code",
   "execution_count": 1,
   "id": "975bca26",
   "metadata": {},
   "outputs": [
    {
     "name": "stderr",
     "output_type": "stream",
     "text": [
      "/home/humphrey/anaconda3/envs/quantecon/lib/python3.10/site-packages/pandas/core/arrays/masked.py:60: UserWarning: Pandas requires version '1.3.6' or newer of 'bottleneck' (version '1.3.5' currently installed).\n",
      "  from pandas.core import (\n"
     ]
    }
   ],
   "source": [
    "import pandas as pd\n",
    "import matplotlib.pyplot as plt\n",
    "import matplotlib.cm as cm\n",
    "import numpy as np\n",
    "from collections import namedtuple"
   ]
  },
  {
   "cell_type": "markdown",
   "id": "48e1d7a4",
   "metadata": {},
   "source": [
    "## 设置\n",
    "\n",
    "由[Angus Maddison](https://en.wikipedia.org/wiki/Angus_Maddison)发起的一个项目收集了许多与经济增长相关的历史时间序列，有些数据可以追溯到第一世纪。\n",
    "\n",
    "可以从[Maddison Historical Statistics](https://www.rug.nl/ggdc/historicaldevelopment/maddison/)下载数据，点击“Latest Maddison Project Release”即可获取。\n",
    "\n",
    "我们将从一个QuantEcon GitHub仓库读取数据。\n",
    "\n",
    "我们在这一部分的目标是生成一个包含不同国家人均GDP的便捷`DataFrame`实例。\n",
    "\n",
    "这里我们将Maddison的数据读入pandas的`DataFrame`中："
   ]
  },
  {
   "cell_type": "code",
   "execution_count": 2,
   "id": "e152cf59",
   "metadata": {},
   "outputs": [
    {
     "ename": "ImportError",
     "evalue": "Pandas requires version '3.1.0' or newer of 'openpyxl' (version '3.0.10' currently installed).",
     "output_type": "error",
     "traceback": [
      "\u001b[0;31m---------------------------------------------------------------------------\u001b[0m",
      "\u001b[0;31mImportError\u001b[0m                               Traceback (most recent call last)",
      "Cell \u001b[0;32mIn[2], line 2\u001b[0m\n\u001b[1;32m      1\u001b[0m data_url \u001b[38;5;241m=\u001b[39m \u001b[38;5;124m\"\u001b[39m\u001b[38;5;124mhttps://github.com/QuantEcon/lecture-python-intro/raw/main/lectures/datasets/mpd2020.xlsx\u001b[39m\u001b[38;5;124m\"\u001b[39m\n\u001b[0;32m----> 2\u001b[0m data \u001b[38;5;241m=\u001b[39m \u001b[43mpd\u001b[49m\u001b[38;5;241;43m.\u001b[39;49m\u001b[43mread_excel\u001b[49m\u001b[43m(\u001b[49m\u001b[43mdata_url\u001b[49m\u001b[43m,\u001b[49m\u001b[43m \u001b[49m\n\u001b[1;32m      3\u001b[0m \u001b[43m                     \u001b[49m\u001b[43msheet_name\u001b[49m\u001b[38;5;241;43m=\u001b[39;49m\u001b[38;5;124;43m'\u001b[39;49m\u001b[38;5;124;43mFull data\u001b[39;49m\u001b[38;5;124;43m'\u001b[39;49m\u001b[43m)\u001b[49m\n\u001b[1;32m      4\u001b[0m data\u001b[38;5;241m.\u001b[39mhead()\n",
      "File \u001b[0;32m~/anaconda3/envs/quantecon/lib/python3.10/site-packages/pandas/io/excel/_base.py:495\u001b[0m, in \u001b[0;36mread_excel\u001b[0;34m(io, sheet_name, header, names, index_col, usecols, dtype, engine, converters, true_values, false_values, skiprows, nrows, na_values, keep_default_na, na_filter, verbose, parse_dates, date_parser, date_format, thousands, decimal, comment, skipfooter, storage_options, dtype_backend, engine_kwargs)\u001b[0m\n\u001b[1;32m    493\u001b[0m \u001b[38;5;28;01mif\u001b[39;00m \u001b[38;5;129;01mnot\u001b[39;00m \u001b[38;5;28misinstance\u001b[39m(io, ExcelFile):\n\u001b[1;32m    494\u001b[0m     should_close \u001b[38;5;241m=\u001b[39m \u001b[38;5;28;01mTrue\u001b[39;00m\n\u001b[0;32m--> 495\u001b[0m     io \u001b[38;5;241m=\u001b[39m \u001b[43mExcelFile\u001b[49m\u001b[43m(\u001b[49m\n\u001b[1;32m    496\u001b[0m \u001b[43m        \u001b[49m\u001b[43mio\u001b[49m\u001b[43m,\u001b[49m\n\u001b[1;32m    497\u001b[0m \u001b[43m        \u001b[49m\u001b[43mstorage_options\u001b[49m\u001b[38;5;241;43m=\u001b[39;49m\u001b[43mstorage_options\u001b[49m\u001b[43m,\u001b[49m\n\u001b[1;32m    498\u001b[0m \u001b[43m        \u001b[49m\u001b[43mengine\u001b[49m\u001b[38;5;241;43m=\u001b[39;49m\u001b[43mengine\u001b[49m\u001b[43m,\u001b[49m\n\u001b[1;32m    499\u001b[0m \u001b[43m        \u001b[49m\u001b[43mengine_kwargs\u001b[49m\u001b[38;5;241;43m=\u001b[39;49m\u001b[43mengine_kwargs\u001b[49m\u001b[43m,\u001b[49m\n\u001b[1;32m    500\u001b[0m \u001b[43m    \u001b[49m\u001b[43m)\u001b[49m\n\u001b[1;32m    501\u001b[0m \u001b[38;5;28;01melif\u001b[39;00m engine \u001b[38;5;129;01mand\u001b[39;00m engine \u001b[38;5;241m!=\u001b[39m io\u001b[38;5;241m.\u001b[39mengine:\n\u001b[1;32m    502\u001b[0m     \u001b[38;5;28;01mraise\u001b[39;00m \u001b[38;5;167;01mValueError\u001b[39;00m(\n\u001b[1;32m    503\u001b[0m         \u001b[38;5;124m\"\u001b[39m\u001b[38;5;124mEngine should not be specified when passing \u001b[39m\u001b[38;5;124m\"\u001b[39m\n\u001b[1;32m    504\u001b[0m         \u001b[38;5;124m\"\u001b[39m\u001b[38;5;124man ExcelFile - ExcelFile already has the engine set\u001b[39m\u001b[38;5;124m\"\u001b[39m\n\u001b[1;32m    505\u001b[0m     )\n",
      "File \u001b[0;32m~/anaconda3/envs/quantecon/lib/python3.10/site-packages/pandas/io/excel/_base.py:1567\u001b[0m, in \u001b[0;36mExcelFile.__init__\u001b[0;34m(self, path_or_buffer, engine, storage_options, engine_kwargs)\u001b[0m\n\u001b[1;32m   1564\u001b[0m \u001b[38;5;28mself\u001b[39m\u001b[38;5;241m.\u001b[39mengine \u001b[38;5;241m=\u001b[39m engine\n\u001b[1;32m   1565\u001b[0m \u001b[38;5;28mself\u001b[39m\u001b[38;5;241m.\u001b[39mstorage_options \u001b[38;5;241m=\u001b[39m storage_options\n\u001b[0;32m-> 1567\u001b[0m \u001b[38;5;28mself\u001b[39m\u001b[38;5;241m.\u001b[39m_reader \u001b[38;5;241m=\u001b[39m \u001b[38;5;28;43mself\u001b[39;49m\u001b[38;5;241;43m.\u001b[39;49m\u001b[43m_engines\u001b[49m\u001b[43m[\u001b[49m\u001b[43mengine\u001b[49m\u001b[43m]\u001b[49m\u001b[43m(\u001b[49m\n\u001b[1;32m   1568\u001b[0m \u001b[43m    \u001b[49m\u001b[38;5;28;43mself\u001b[39;49m\u001b[38;5;241;43m.\u001b[39;49m\u001b[43m_io\u001b[49m\u001b[43m,\u001b[49m\n\u001b[1;32m   1569\u001b[0m \u001b[43m    \u001b[49m\u001b[43mstorage_options\u001b[49m\u001b[38;5;241;43m=\u001b[39;49m\u001b[43mstorage_options\u001b[49m\u001b[43m,\u001b[49m\n\u001b[1;32m   1570\u001b[0m \u001b[43m    \u001b[49m\u001b[43mengine_kwargs\u001b[49m\u001b[38;5;241;43m=\u001b[39;49m\u001b[43mengine_kwargs\u001b[49m\u001b[43m,\u001b[49m\n\u001b[1;32m   1571\u001b[0m \u001b[43m\u001b[49m\u001b[43m)\u001b[49m\n",
      "File \u001b[0;32m~/anaconda3/envs/quantecon/lib/python3.10/site-packages/pandas/io/excel/_openpyxl.py:552\u001b[0m, in \u001b[0;36mOpenpyxlReader.__init__\u001b[0;34m(self, filepath_or_buffer, storage_options, engine_kwargs)\u001b[0m\n\u001b[1;32m    534\u001b[0m \u001b[38;5;129m@doc\u001b[39m(storage_options\u001b[38;5;241m=\u001b[39m_shared_docs[\u001b[38;5;124m\"\u001b[39m\u001b[38;5;124mstorage_options\u001b[39m\u001b[38;5;124m\"\u001b[39m])\n\u001b[1;32m    535\u001b[0m \u001b[38;5;28;01mdef\u001b[39;00m \u001b[38;5;21m__init__\u001b[39m(\n\u001b[1;32m    536\u001b[0m     \u001b[38;5;28mself\u001b[39m,\n\u001b[0;32m   (...)\u001b[0m\n\u001b[1;32m    539\u001b[0m     engine_kwargs: \u001b[38;5;28mdict\u001b[39m \u001b[38;5;241m|\u001b[39m \u001b[38;5;28;01mNone\u001b[39;00m \u001b[38;5;241m=\u001b[39m \u001b[38;5;28;01mNone\u001b[39;00m,\n\u001b[1;32m    540\u001b[0m ) \u001b[38;5;241m-\u001b[39m\u001b[38;5;241m>\u001b[39m \u001b[38;5;28;01mNone\u001b[39;00m:\n\u001b[1;32m    541\u001b[0m \u001b[38;5;250m    \u001b[39m\u001b[38;5;124;03m\"\"\"\u001b[39;00m\n\u001b[1;32m    542\u001b[0m \u001b[38;5;124;03m    Reader using openpyxl engine.\u001b[39;00m\n\u001b[1;32m    543\u001b[0m \n\u001b[0;32m   (...)\u001b[0m\n\u001b[1;32m    550\u001b[0m \u001b[38;5;124;03m        Arbitrary keyword arguments passed to excel engine.\u001b[39;00m\n\u001b[1;32m    551\u001b[0m \u001b[38;5;124;03m    \"\"\"\u001b[39;00m\n\u001b[0;32m--> 552\u001b[0m     \u001b[43mimport_optional_dependency\u001b[49m\u001b[43m(\u001b[49m\u001b[38;5;124;43m\"\u001b[39;49m\u001b[38;5;124;43mopenpyxl\u001b[39;49m\u001b[38;5;124;43m\"\u001b[39;49m\u001b[43m)\u001b[49m\n\u001b[1;32m    553\u001b[0m     \u001b[38;5;28msuper\u001b[39m()\u001b[38;5;241m.\u001b[39m\u001b[38;5;21m__init__\u001b[39m(\n\u001b[1;32m    554\u001b[0m         filepath_or_buffer,\n\u001b[1;32m    555\u001b[0m         storage_options\u001b[38;5;241m=\u001b[39mstorage_options,\n\u001b[1;32m    556\u001b[0m         engine_kwargs\u001b[38;5;241m=\u001b[39mengine_kwargs,\n\u001b[1;32m    557\u001b[0m     )\n",
      "File \u001b[0;32m~/anaconda3/envs/quantecon/lib/python3.10/site-packages/pandas/compat/_optional.py:164\u001b[0m, in \u001b[0;36mimport_optional_dependency\u001b[0;34m(name, extra, errors, min_version)\u001b[0m\n\u001b[1;32m    162\u001b[0m     \u001b[38;5;28;01mreturn\u001b[39;00m \u001b[38;5;28;01mNone\u001b[39;00m\n\u001b[1;32m    163\u001b[0m \u001b[38;5;28;01melif\u001b[39;00m errors \u001b[38;5;241m==\u001b[39m \u001b[38;5;124m\"\u001b[39m\u001b[38;5;124mraise\u001b[39m\u001b[38;5;124m\"\u001b[39m:\n\u001b[0;32m--> 164\u001b[0m     \u001b[38;5;28;01mraise\u001b[39;00m \u001b[38;5;167;01mImportError\u001b[39;00m(msg)\n\u001b[1;32m    165\u001b[0m \u001b[38;5;28;01melse\u001b[39;00m:\n\u001b[1;32m    166\u001b[0m     \u001b[38;5;28;01mreturn\u001b[39;00m \u001b[38;5;28;01mNone\u001b[39;00m\n",
      "\u001b[0;31mImportError\u001b[0m: Pandas requires version '3.1.0' or newer of 'openpyxl' (version '3.0.10' currently installed)."
     ]
    }
   ],
   "source": [
    "data_url = \"https://github.com/QuantEcon/lecture-python-intro/raw/main/lectures/datasets/mpd2020.xlsx\"\n",
    "data = pd.read_excel(data_url, \n",
    "                     sheet_name='Full data')\n",
    "data.head()"
   ]
  },
  {
   "cell_type": "markdown",
   "id": "34f23e8e",
   "metadata": {},
   "source": [
    "我们可以看到这个数据集包含多个国家和年份的人均GDP (`gdppc`) 和人口 (pop)。\n",
    "\n",
    "让我们看看这个数据集中有多少个国家以及是哪些国家。"
   ]
  },
  {
   "cell_type": "code",
   "execution_count": null,
   "id": "9ba2850d",
   "metadata": {},
   "outputs": [],
   "source": [
    "countries = data.country.unique()\n",
    "len(countries)"
   ]
  },
  {
   "cell_type": "markdown",
   "id": "7c924c21",
   "metadata": {},
   "source": [
    "通过运行上面的代码，我们可以找到有多少个国家的数据。\n",
    "\n",
    "下面，我们将列出这些国家。"
   ]
  },
  {
   "cell_type": "code",
   "execution_count": null,
   "id": "38901fca",
   "metadata": {},
   "outputs": [],
   "source": [
    "countries"
   ]
  },
  {
   "cell_type": "markdown",
   "id": "499f0e13",
   "metadata": {},
   "source": [
    "我们现在可以探索一些可用的169个国家。\n",
    "\n",
    "让我们遍历每个国家，以了解每个国家可用的年份。"
   ]
  },
  {
   "cell_type": "code",
   "execution_count": null,
   "id": "e308a2b2",
   "metadata": {},
   "outputs": [],
   "source": [
    "country_years = []\n",
    "for country in countries:\n",
    "    cy_data = data[data.country == country]['year']\n",
    "    ymin, ymax = cy_data.min(), cy_data.max()\n",
    "    country_years.append((country, ymin, ymax))\n",
    "country_years = pd.DataFrame(country_years,\n",
    "                    columns=['country', 'min_year', 'max_year']).set_index('country')\n",
    "country_years.head()"
   ]
  },
  {
   "cell_type": "markdown",
   "id": "40c26a44",
   "metadata": {},
   "source": [
    "现在我们已经设置了基本的数据框架，接下来让我们提取我们感兴趣的国家。\n",
    "\n",
    "在此过程中，我们将构建一个新的数据框架，只包含各国人均收入的时间序列。\n",
    "\n",
    "首先，让我们指定我们感兴趣的顶级国家。"
   ]
  },
  {
   "cell_type": "code",
   "execution_count": null,
   "id": "f7208ad7",
   "metadata": {},
   "outputs": [],
   "source": [
    "top_countries = [\n",
    "    'United States',\n",
    "    'United Kingdom',\n",
    "    'China',\n",
    "    'Japan',\n",
    "    'Germany',\n",
    "    'India',\n",
    "    'Australia',\n",
    "    'Brazil',\n",
    "    'Canada',\n",
    "    'France',\n",
    "    'Italy',\n",
    "    'Russian Federation',\n",
    "    'Indonesia'\n",
    "]"
   ]
  },
  {
   "cell_type": "markdown",
   "id": "d8040a01",
   "metadata": {},
   "source": [
    "让我们现在重塑原始数据为一些便于快速访问各国时间序列数据的变量。\n",
    "\n",
    "我们可以在该数据集中构建国家代码（`countrycode`）与国家名称（`country`）之间的有用映射。"
   ]
  },
  {
   "cell_type": "code",
   "execution_count": null,
   "id": "51fbf38a",
   "metadata": {},
   "outputs": [],
   "source": [
    "code_to_name = data[\n",
    "    ['countrycode', 'country']].drop_duplicates().reset_index(drop=True).set_index(['countrycode'])"
   ]
  },
  {
   "cell_type": "markdown",
   "id": "afde3771",
   "metadata": {},
   "source": [
    "Now we are ready to extract and plot GDP data for each of these countries."
   ]
  },
  {
   "cell_type": "code",
   "execution_count": null,
   "id": "f7e7e5b0",
   "metadata": {},
   "outputs": [],
   "source": [
    "gdp_pc = data.pivot(index='year', \n",
    "                   columns='country',\n",
    "                   values='gdppc')\n",
    "pop = data.pivot(index='year', \n",
    "                columns='country',\n",
    "                values='pop')\n",
    "gdp_pc = gdp_pc[top_countries]\n",
    "gdp_pc.head()"
   ]
  },
  {
   "cell_type": "code",
   "execution_count": null,
   "id": "f668d0ef",
   "metadata": {},
   "outputs": [],
   "source": [
    "gdp_pc.plot(figsize=(10, 6), fontsize=12)\n",
    "plt.title('Top Countries GDP per capita')\n",
    "plt.legend(loc='upper left', fontsize=10, ncol=2)\n",
    "plt.xlabel('Year', fontsize=12)\n",
    "plt.ylabel('GDP per capita', fontsize=12)\n",
    "plt.show()"
   ]
  },
  {
   "cell_type": "markdown",
   "id": "6676a377",
   "metadata": {},
   "source": [
    "让我们专注于人均GDP（`gdppc`）并生成宽格式的数据"
   ]
  },
  {
   "cell_type": "code",
   "execution_count": null,
   "id": "c5673e69",
   "metadata": {},
   "outputs": [],
   "source": [
    "gdp_pc = data.set_index(['countrycode', 'year'])['gdppc']\n",
    "gdp_pc = gdp_pc.unstack('countrycode')"
   ]
  },
  {
   "cell_type": "markdown",
   "id": "a33978d4",
   "metadata": {},
   "source": [
    "让我们检查这张表的尾部，以了解最新的数据。"
   ]
  },
  {
   "cell_type": "code",
   "execution_count": null,
   "id": "0a8c25c9",
   "metadata": {},
   "outputs": [],
   "source": [
    "gdp_pc.tail()"
   ]
  },
  {
   "cell_type": "markdown",
   "id": "b95c6111",
   "metadata": {},
   "source": [
    "可以看到，并不是所有国家的年份都是相同的。\n",
    "\n",
    "接下来，我们通过绘制一些国家对应的数据，开始进行一些初步的研究。\n",
    "\n",
    "为了生成这些图表，我们将制作一张国家代码与国家名称的映射表，并使用它来标记图表。"
   ]
  },
  {
   "cell_type": "code",
   "execution_count": null,
   "id": "0280c6b9",
   "metadata": {},
   "outputs": [],
   "source": [
    "# 我们将绘制四个国家的GDP时间序列\n",
    "countries = ['AUS', 'BRA', 'CHN', 'USA']\n",
    "\n",
    "plt.figure(figsize=(10, 6))\n",
    "\n",
    "for code in countries:\n",
    "    plt.plot(gdp_pc.index, gdp_pc[code], label=code_to_name.loc[code].country)\n",
    "\n",
    "plt.title('Selected Countries GDP per capita')\n",
    "plt.legend(loc='upper left')\n",
    "plt.xlabel('Year')\n",
    "plt.ylabel('GDP per capita')\n",
    "plt.show()"
   ]
  },
  {
   "cell_type": "markdown",
   "id": "5affb02d",
   "metadata": {},
   "source": [
    "上述绘图显示了几个国家的GDP，每个国家在每一年的变化情况。\n",
    "\n",
    "接下来，我们将研究个别国家的图表，并与其他国家进行相对比较。\n",
    "\n",
    "## 人均GDP\n",
    "\n",
    "在这一部分，我们将研究几个不同国家的人均GDP的长期变化。\n",
    "\n",
    "### 英国\n",
    "\n",
    "首先，我们研究英国的GDP增长。"
   ]
  },
  {
   "cell_type": "code",
   "execution_count": null,
   "id": "54c6b421",
   "metadata": {
    "mystnb": {
     "figure": {
      "caption": "人均GDP（GBR）",
      "name": "gdppc_gbr1",
      "width": "500px"
     }
    }
   },
   "outputs": [],
   "source": [
    "fig, ax = plt.subplots(dpi=300)\n",
    "country = 'GBR'\n",
    "gdp_pc[country].plot(\n",
    "        ax=ax,\n",
    "        ylabel='国际美元',\n",
    "        xlabel='年份',\n",
    "        color=color_mapping[country]\n",
    "    );"
   ]
  },
  {
   "cell_type": "markdown",
   "id": "bfb3cd55",
   "metadata": {},
   "source": [
    ":::{note}\n",
    "[国际美元](https://en.wikipedia.org/wiki/international_dollar) 是一种假想的货币单位，其购买力平价与特定时期内的美元在美国的购买力平价相同。它们也被称为 Geary–Khamis 美元（GK 美元）。\n",
    ":::\n",
    "\n",
    "我们可以看到，在这一千年的前250年里，数据在较长时间内是不连续的，因此我们可以选择插值以获得连续的线图。\n",
    "\n",
    "在这里我们使用虚线来表示插值趋势"
   ]
  },
  {
   "cell_type": "code",
   "execution_count": null,
   "id": "ae14c5c9",
   "metadata": {
    "mystnb": {
     "figure": {
      "caption": "GDP per Capita (GBR)",
      "name": "gdppc_gbr2"
     }
    }
   },
   "outputs": [],
   "source": [
    "fig, ax = plt.subplots(dpi=300)\n",
    "country = 'GBR'\n",
    "ax.plot(gdp_pc[country].interpolate(),\n",
    "        linestyle='--',\n",
    "        lw=2,\n",
    "        color=color_mapping[country])\n",
    "\n",
    "ax.plot(gdp_pc[country],\n",
    "        lw=2,\n",
    "        color=color_mapping[country])\n",
    "ax.set_ylabel('international dollars')\n",
    "ax.set_xlabel('year')\n",
    "plt.show()"
   ]
  },
  {
   "cell_type": "markdown",
   "id": "8d587445",
   "metadata": {},
   "source": [
    "# 比较美国、英国和中国\n",
    "\n",
    "在本节中，我们将比较美国、英国和中国的GDP增长。\n",
    "\n",
    "第一步，我们创建一个函数，为一组国家生成绘图"
   ]
  },
  {
   "cell_type": "code",
   "execution_count": null,
   "id": "05c624a9",
   "metadata": {},
   "outputs": [],
   "source": [
    "def draw_interp_plots(series,        # pandas series\n",
    "                      country,       # list of country codes\n",
    "                      ylabel,        # label for y-axis\n",
    "                      xlabel,        # label for x-axis\n",
    "                      color_mapping, # code-color mapping\n",
    "                      code_to_name,  # code-name mapping\n",
    "                      lw,            # line width\n",
    "                      logscale,      # log scale for y-axis\n",
    "                      ax             # matplolib axis\n",
    "                     ):\n",
    "\n",
    "    for c in country:\n",
    "        # 获取插值数据\n",
    "        df_interpolated = series[c].interpolate(limit_area='inside')\n",
    "        interpolated_data = df_interpolated[series[c].isnull()]\n",
    "\n",
    "        # 用虚线绘制插值数据\n",
    "        ax.plot(interpolated_data,\n",
    "                linestyle='--',\n",
    "                lw=lw,\n",
    "                alpha=0.7,\n",
    "                color=color_mapping[c])\n",
    "\n",
    "        # 用实线绘制非插值数据\n",
    "        ax.plot(series[c],\n",
    "                lw=lw,\n",
    "                color=color_mapping[c],\n",
    "                alpha=0.8,\n",
    "                label=code_to_name.loc[c]['country'])\n",
    "\n",
    "        if logscale:\n",
    "            ax.set_yscale('log')\n",
    "\n",
    "    # 将图例绘制在图外\n",
    "    ax.legend(loc='upper left', frameon=False)\n",
    "    ax.set_ylabel(ylabel)\n",
    "    ax.set_xlabel(xlabel)"
   ]
  },
  {
   "cell_type": "markdown",
   "id": "b14f1480",
   "metadata": {},
   "source": [
    "首先，让我们为美国和英国绘制GDP增长图"
   ]
  },
  {
   "cell_type": "code",
   "execution_count": null,
   "id": "3feda036",
   "metadata": {
    "mystnb": {
     "figure": {
      "caption": "人均GDP（美国/英国）",
      "name": "gdppc_gb_usa"
     }
    },
    "tags": [
     "hide-input"
    ]
   },
   "outputs": [],
   "source": [
    "fig, ax = plt.subplots(dpi=300)\n",
    "\n",
    "country = ['USA', 'GBR']\n",
    "draw_interp_plots(gdp_pc[country].loc[1500:], \n",
    "                  country,\n",
    "                  '国际美元','年份',\n",
    "                  color_mapping, code_to_name, 2, True, ax)\n",
    "plt.show()"
   ]
  },
  {
   "cell_type": "markdown",
   "id": "c2c2d4cf",
   "metadata": {},
   "source": [
    "从图中可以看到英国和美国从1750年开始的增长变化情况，在大萧条（1929-1939）期间出现显著下降。\n",
    "\n",
    "### 美国，中国和英国\n",
    "\n",
    "最后，让我们加入中国并观察这三个国家的比较"
   ]
  },
  {
   "cell_type": "code",
   "execution_count": null,
   "id": "28ac28f7",
   "metadata": {
    "mystnb": {
     "figure": {
      "caption": "人均GDP，中国、英国、美国（1500年以来）",
      "name": "gdppc_comparison"
     }
    },
    "tags": [
     "hide-input"
    ]
   },
   "outputs": [],
   "source": [
    "fig, ax = plt.subplots(dpi=300, figsize=(10, 6))\n",
    "\n",
    "country = ['CHN', 'GBR', 'USA']\n",
    "draw_interp_plots(gdp_pc[country].loc[1500:], \n",
    "                  country,\n",
    "                  '国际美元','年份',\n",
    "                  color_mapping, code_to_name, 2, False, ax)\n",
    "plt.show()"
   ]
  },
  {
   "cell_type": "markdown",
   "id": "01140409",
   "metadata": {},
   "source": [
    "上面这张人均GDP的前面图表展示了工业革命的传播如何随着时间的推移逐渐提高了大量人群的生活水平\n",
    "\n",
    "- 大部分增长发生在工业革命之后的过去150年间。\n",
    "- 从1820年到1940年，美国和英国的人均GDP上升并与中国的有所差距。\n",
    "- 1950年后，尤其是1970年代末后，差距迅速缩小。\n",
    "- 这些结果反映了技术和经济政策因素的复杂组合，经济增长的研究者们试图理解并量化这些因素。\n",
    "\n",
    "### 聚焦于中国\n",
    "\n",
    "看到中国从1500年到1970年的人均GDP水平非常有趣。\n",
    "\n",
    "请注意，从1700年到20世纪初的长期下降的GDP水平。\n",
    "\n",
    "因此，图表显示了\n",
    "\n",
    "- 清政府闭关锁国政策后的长期经济下行和停滞。\n",
    "- 中国与英国工业革命开始后的不同经历。\n",
    "- 自强运动似乎主要帮助了中国的增长。\n",
    "- 现代中国经济政策的惊人增长成果，最终在1970年代末进行的改革和开放政策中达到高潮。"
   ]
  },
  {
   "cell_type": "code",
   "execution_count": null,
   "id": "9d1bd4d6",
   "metadata": {
    "mystnb": {
     "figure": {
      "caption": "人均GDP，1500-2000（中国）",
      "name": "gdppc_china"
     }
    },
    "tags": [
     "hide-input"
    ]
   },
   "outputs": [],
   "source": [
    "fig, ax = plt.subplots(dpi=300, figsize=(10, 6))\n",
    "\n",
    "country = ['CHN']\n",
    "draw_interp_plots(gdp_pc[country].loc[1600:2000], \n",
    "                  country,\n",
    "                  '国际美元','年份',\n",
    "                  color_mapping, code_to_name, 2, True, ax)\n",
    "\n",
    "ylim = ax.get_ylim()[1]\n",
    "\n",
    "events = [\n",
    "Event((1655, 1684), ylim + ylim*0.06, \n",
    "      '闭关锁国政策\\n(1655-1684)', \n",
    "      'tab:orange', 1),\n",
    "Event((1760, 1840), ylim + ylim*0.06, \n",
    "      '工业革命\\n(1760-1840)', \n",
    "      'grey', 1),\n",
    "Event((1839, 1842), ylim + ylim*0.2, \n",
    "      '第一次鸦片战争\\n(1839–1842)', \n",
    "      'tab:red', 1.07),\n",
    "Event((1861, 1895), ylim + ylim*0.4, \n",
    "      '自强运动\\n(1861–1895)', \n",
    "      'tab:blue', 1.14),\n",
    "Event((1939, 1945), ylim + ylim*0.06, \n",
    "      '第二次世界大战\\n(1939-1945)', \n",
    "      'tab:red', 1),\n",
    "Event((1948, 1950), ylim + ylim*0.23, \n",
    "      '中华人民共和国成立\\n(1949)', \n",
    "      color_mapping['CHN'], 1.08),\n",
    "Event((1958, 1962), ylim + ylim*0.5, \n",
    "      '大跃进\\n(1958-1962)', \n",
    "      'tab:orange', 1.18),\n",
    "Event((1978, 1979), ylim + ylim*0.7, \n",
    "      '改革开放\\n(1978-1979)', \n",
    "      'tab:blue', 1.24)\n",
    "]\n",
    "\n",
    "# 绘制事件\n",
    "draw_events(events, ax)\n",
    "plt.show()"
   ]
  },
  {
   "cell_type": "markdown",
   "id": "95222b0b",
   "metadata": {},
   "source": [
    "### 聚焦于美国和英国\n",
    "\n",
    "现在我们更详细地研究美国（USA）和英国（GBR）。\n",
    "\n",
    "在以下图表中，请注意\n",
    "- 贸易政策（航海法）的影响。\n",
    "- 工业革命带来的生产力变化。\n",
    "- 美国逐渐接近并超过英国，为“美国世纪”奠定基础。\n",
    "- 战争的意外后果。\n",
    "- [经济周期](business_cycle)衰退和萧条带来的中断和伤痕。"
   ]
  },
  {
   "cell_type": "code",
   "execution_count": null,
   "id": "75acbfc2",
   "metadata": {
    "mystnb": {
     "figure": {
      "caption": "人均GDP，1500-2000（英国和美国）",
      "name": "gdppc_ukus"
     }
    },
    "tags": [
     "hide-input"
    ]
   },
   "outputs": [],
   "source": [
    "fig, ax = plt.subplots(dpi=300, figsize=(10, 6))\n",
    "\n",
    "country = ['GBR', 'USA']\n",
    "draw_interp_plots(gdp_pc[country].loc[1500:2000],\n",
    "                  country,\n",
    "                  '国际美元','年份',\n",
    "                  color_mapping, code_to_name, 2, True, ax)\n",
    "\n",
    "ylim = ax.get_ylim()[1]\n",
    "\n",
    "# 创建数据点列表\n",
    "events = [\n",
    "    Event((1651, 1651), ylim + ylim*0.15, \n",
    "          '航海法（英国）\\n(1651)', \n",
    "          'tab:orange', 1),\n",
    "    Event((1765, 1791), ylim + ylim*0.15, \n",
    "          '美国独立战争\\n(1765-1791)',\n",
    "          color_mapping['USA'], 1),\n",
    "    Event((1760, 1840), ylim + ylim*0.6, \n",
    "          '工业革命\\n(1760-1840)', \n",
    "          'grey', 1.08),\n",
    "    Event((1848, 1850), ylim + ylim*1.1, \n",
    "          '废除航海法（英国）\\n(1849)', \n",
    "          'tab:blue', 1.14),\n",
    "    Event((1861, 1865), ylim + ylim*1.8, \n",
    "          '美国内战\\n(1861-1865)', \n",
    "          color_mapping['USA'], 1.21),\n",
    "    Event((1914, 1918), ylim + ylim*0.15, \n",
    "          '第一次世界大战\\n(1914-1918)', \n",
    "          'tab:red', 1),\n",
    "    Event((1929, 1939), ylim + ylim*0.6, \n",
    "          '大萧条\\n(1929–1939)', \n",
    "          'grey', 1.08),\n",
    "    Event((1939, 1945), ylim + ylim*1.1, \n",
    "          '第二次世界大战\\n(1939-1945)', \n",
    "          'tab:red', 1.14)\n",
    "]\n",
    "\n",
    "# 绘制事件\n",
    "draw_events(events, ax)\n",
    "plt.show()"
   ]
  },
  {
   "cell_type": "markdown",
   "id": "e5451a94",
   "metadata": {},
   "source": [
    "# GDP增长\n",
    "\n",
    "现在我们将构建一些对地缘政治历史学家如亚当·图兹感兴趣的图表。\n",
    "\n",
    "我们将关注总国内生产总值（GDP）（作为“国家地缘政治-军事力量”的代理变量），而不是人均GDP（作为生活水平的代理变量）。"
   ]
  },
  {
   "cell_type": "code",
   "execution_count": null,
   "id": "4f64a6a8",
   "metadata": {},
   "outputs": [],
   "source": [
    "data = pd.read_excel(data_url, sheet_name='Full data')\n",
    "data.set_index(['countrycode', 'year'], inplace=True)\n",
    "data['gdp'] = data['gdppc'] * data['pop']\n",
    "gdp = data['gdp'].unstack('countrycode')"
   ]
  },
  {
   "cell_type": "markdown",
   "id": "3393fd9a",
   "metadata": {},
   "source": [
    "现在我们有了每年每个国家的GDP，我们可以绘制一些对地缘政治学家和历史学家有趣的比较图表。\n",
    "\n",
    "## 早期工业化（1820至1940年）\n",
    "\n",
    "我们首先可视化中国、前苏联、日本、英国和美国的趋势。\n",
    "\n",
    "最显著的趋势是美国的崛起，在1860年代超过英国，并在1880年代超过中国。\n",
    "\n",
    "这种增长持续到1930年代的大萧条到来时出现大幅下降。\n",
    "\n",
    "与此同时，俄罗斯在第一次世界大战期间经历了重大挫折，并在二月革命后显著恢复。"
   ]
  },
  {
   "cell_type": "code",
   "execution_count": null,
   "id": "6ed70a3e",
   "metadata": {
    "mystnb": {
     "figure": {
      "caption": "早期工业化时代的GDP",
      "name": "gdp1"
     }
    }
   },
   "outputs": [],
   "source": [
    "fig, ax = plt.subplots(dpi=300)\n",
    "country = ['CHN', 'SUN', 'JPN', 'GBR', 'USA']\n",
    "start_year, end_year = (1820, 1945)\n",
    "draw_interp_plots(gdp[country].loc[start_year:end_year], \n",
    "                  country,\n",
    "                  '国际美元', '年份',\n",
    "                  color_mapping, code_to_name, 2, False, ax)"
   ]
  },
  {
   "cell_type": "markdown",
   "id": "92781913",
   "metadata": {},
   "source": [
    "#### 构建类似于图兹的图\n",
    "\n",
    "在本节中，我们描述如何构建从{cite}`Tooze_2014`的第1章中讨论的引人注目的图表的版本。\n",
    "\n",
    "首先定义一个国家集合，这些国家包括大英帝国（BEM），这样我们就可以在图兹的图表中复制该系列。"
   ]
  },
  {
   "cell_type": "code",
   "execution_count": null,
   "id": "6ea4dc45",
   "metadata": {},
   "outputs": [],
   "source": [
    "BEM = ['GBR', 'IND', 'AUS', 'NZL', 'CAN', 'ZAF']\n",
    "# 插值不完全时间序列\n",
    "gdp['BEM'] = gdp[BEM].loc[start_year-1:end_year].interpolate(method='index').sum(axis=1)"
   ]
  },
  {
   "cell_type": "markdown",
   "id": "7de798af",
   "metadata": {},
   "source": [
    "### 扩展后的结果\n",
    "\n",
    "现在让我们绘制所有这些国家在更长时间范围内的总GDP。\n",
    "\n",
    "下图（{numref}`gdp2`) 展示了在1500-2020年期间的这些系列。\n",
    "\n",
    "指示美国和英国崛起的相同模式也适用于长时间范围。\n",
    "\n",
    "尽管如此，自1970年代末以来的中国增长更显著。"
   ]
  },
  {
   "cell_type": "code",
   "execution_count": null,
   "id": "b2d053b9",
   "metadata": {
    "mystnb": {
     "figure": {
      "caption": "各国总GDP（1500-2020）",
      "name": "gdp2"
     }
    }
   },
   "outputs": [],
   "source": [
    "fig, ax = plt.subplots(dpi=300, figsize=(10, 6))\n",
    "country = ['USA', 'GBR', 'CHN', 'FRA', 'DEU', 'JPN', 'RUS', 'BEM']\n",
    "draw_interp_plots(gdp[country].iloc[87:], \n",
    "                  country,\n",
    "                  '国际美元', '年份',\n",
    "                  color_mapping, code_to_name, 2, True, ax)"
   ]
  },
  {
   "cell_type": "markdown",
   "id": "3b926909",
   "metadata": {},
   "source": [
    "## 参考文献\n",
    "\n",
    "```{bibliography} ../bibliographies/main.bib\n",
    ":filter: docname in docnames\n",
    "```\n",
    "\n",
    "在这节课开始时，我们指出了美国GDP如何在19世纪初从“无”到与大英帝国的GDP相抗衡，然后在19世纪末超过大英帝国的GDP，为“美国（20世纪）世纪”奠定了地缘政治基础。\n",
    "\n",
    "让我们向前推进时间，开始将图兹的图表与二战后的情况作比较。\n",
    "\n",
    "按照图兹第1章的分析精神，这将提供一些关于当前地缘政治现状的信息。\n",
    "\n",
    "### 现代时代（1950至2020年）\n",
    "\n",
    "下图显示了中国增长的迅速程度，特别是自1970年代后期以来。"
   ]
  },
  {
   "cell_type": "code",
   "execution_count": null,
   "id": "63327f42",
   "metadata": {
    "mystnb": {
     "figure": {
      "caption": "现代时代的GDP",
      "name": "gdp2"
     }
    }
   },
   "outputs": [],
   "source": [
    "fig, ax = plt.subplots(dpi=300)\n",
    "country = ['CHN', 'SUN', 'JPN', 'GBR', 'USA']\n",
    "start_year, end_year = (1950, 2020)\n",
    "draw_interp_plots(gdp[country].loc[start_year:end_year], \n",
    "                  country,\n",
    "                  '国际美元', '年份',\n",
    "                  color_mapping, code_to_name, 2, False, ax)"
   ]
  },
  {
   "cell_type": "markdown",
   "id": "49012e25",
   "metadata": {},
   "source": [
    "很自然的我们会将这个图表与图{numref}`gdp1`相比较，后者显示了美国在“美国世纪”开始时超过英国的情况，该图表是{cite}`Tooze_2014`第1章的一个版本。\n",
    "\n",
    "## 区域分析\n",
    "\n",
    "我们经常要研究“世界大国”俱乐部之外的国家的历史经历。\n",
    "\n",
    "[Maddison Historical Statistics](https://www.rug.nl/ggdc/historicaldevelopment/maddison/) 数据集还包括区域聚合"
   ]
  },
  {
   "cell_type": "code",
   "execution_count": null,
   "id": "8ad8a3f1",
   "metadata": {},
   "outputs": [],
   "source": [
    "data = pd.read_excel(data_url, \n",
    "                     sheet_name='Regional data', \n",
    "                     header=(0,1,2),\n",
    "                     index_col=0)\n",
    "data.columns = data.columns.droplevel(level=2)"
   ]
  },
  {
   "cell_type": "markdown",
   "id": "bae3401e",
   "metadata": {},
   "source": [
    "我们可以将原始数据存储在更方便的格式中，以构建区域人均GDP的单一表格"
   ]
  },
  {
   "cell_type": "code",
   "execution_count": null,
   "id": "1649e94d",
   "metadata": {},
   "outputs": [],
   "source": [
    "regionalgdp_pc = data['gdppc_2011'].copy()\n",
    "regionalgdp_pc.index = pd.to_datetime(regionalgdp_pc.index, format='%Y')"
   ]
  },
  {
   "cell_type": "markdown",
   "id": "ea2aab8a",
   "metadata": {},
   "source": [
    "让我们基于时间进行插值，以填补数据集中的任何缺口，以便于绘图"
   ]
  },
  {
   "cell_type": "code",
   "execution_count": null,
   "id": "3c46b45e",
   "metadata": {},
   "outputs": [],
   "source": [
    "regionalgdp_pc.interpolate(method='time', inplace=True)"
   ]
  },
  {
   "cell_type": "markdown",
   "id": "9aeb43fc",
   "metadata": {},
   "source": [
    "进行更深入的研究，让我们将`Western Offshoots`和`Sub-Saharan Africa`的时间序列与世界各地多个不同区域进行比较。\n",
    "\n",
    "再次展示了工业革命之后西方与世界其他地区的差距，以及1950年之后的世界趋同"
   ]
  },
  {
   "cell_type": "code",
   "execution_count": null,
   "id": "c5692bb1",
   "metadata": {
    "mystnb": {
     "figure": {
      "caption": "区域人均GDP",
      "name": "region_gdppc"
     }
    }
   },
   "outputs": [],
   "source": [
    "fig, ax = plt.subplots(dpi=300)\n",
    "regionalgdp_pc.plot(ax=ax, xlabel='年份',\n",
    "                    lw=2,\n",
    "                    ylabel='国际美元')\n",
    "ax.set_yscale('log')\n",
    "plt.legend(loc='lower center',\n",
    "           ncol=3, bbox_to_anchor=[0.5, -0.5])\n",
    "plt.show()"
   ]
  }
 ],
 "metadata": {
  "jupytext": {
   "text_representation": {
    "extension": ".md",
    "format_name": "myst",
    "format_version": 0.13,
    "jupytext_version": "1.16.1"
   }
  },
  "kernelspec": {
   "display_name": "Python 3 (ipykernel)",
   "language": "python",
   "name": "python3"
  },
  "language_info": {
   "codemirror_mode": {
    "name": "ipython",
    "version": 3
   },
   "file_extension": ".py",
   "mimetype": "text/x-python",
   "name": "python",
   "nbconvert_exporter": "python",
   "pygments_lexer": "ipython3",
   "version": "3.10.12"
  },
  "source_map": [
   12,
   64,
   70,
   84,
   89,
   96,
   99,
   105,
   107,
   113,
   122,
   130,
   146,
   152,
   155,
   159,
   170,
   177,
   181,
   184,
   188,
   190,
   198,
   212,
   226,
   242,
   253,
   273,
   283,
   321,
   325,
   341,
   349,
   365,
   387,
   435,
   448,
   497,
   505,
   510,
   524,
   538,
   546,
   550,
   562,
   575,
   593,
   607,
   617,
   623,
   627,
   630,
   634,
   636,
   642
  ]
 },
 "nbformat": 4,
 "nbformat_minor": 5
}