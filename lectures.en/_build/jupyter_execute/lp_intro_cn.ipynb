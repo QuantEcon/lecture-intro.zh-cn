{
 "cells": [
  {
   "cell_type": "markdown",
   "id": "04de858d",
   "metadata": {},
   "source": [
    "(lp_intro)=\n",
    "# 线性规划\n",
    "\n",
    "```{admonition} 迁移的课程\n",
    ":class: warning\n",
    "\n",
    "本课程已从我们[Python进阶定量经济学](https://python.quantecon.org/intro.html)系列中移出，现在是[A First Course in Quantitative Economics](https://intro.quantecon.org/intro.html)的一部分。\n",
    "```\n",
    "\n",
    "在本讲中，我们需要以下库。 使用 `pip` 安装 [ortools](https://developers.google.com/optimization)。"
   ]
  },
  {
   "cell_type": "code",
   "execution_count": null,
   "id": "947806fa",
   "metadata": {
    "tags": [
     "hide-output"
    ]
   },
   "outputs": [],
   "source": [
    "!pip install ortools"
   ]
  },
  {
   "cell_type": "markdown",
   "id": "2e5624ba",
   "metadata": {},
   "source": [
    "## 概述\n",
    "\n",
    "**线性规划**问题要么最大化，要么最小化一个线性目标函数，受一组线性等式和/或不等式约束的限制。\n",
    "\n",
    "线性规划问题成对出现：\n",
    "\n",
    "* 一个原始的**原问题**，和\n",
    "\n",
    "* 一个相关的**对偶问题**。\n",
    "\n",
    "如果一个原问题涉及**最大化**，对偶问题则涉及**最小化**。\n",
    "\n",
    "如果一个原问题涉及**最小化**，对偶问题则涉及**最大化**。\n",
    "\n",
    "我们提供一个线性程序的标准形式以及将其他形式的线性规划问题转换为标准形式的方法。\n",
    "\n",
    "我们将讲述如何使用 [SciPy](https://scipy.org/) 和 [Google OR-Tools](https://developers.google.com/optimization) 来解决线性规划问题。\n",
    "\n",
    "我们描述了互补松弛的概念及其与对偶问题的关系。\n",
    "\n",
    "让我们从一些标准导入开始。"
   ]
  },
  {
   "cell_type": "code",
   "execution_count": null,
   "id": "2e1a5d77",
   "metadata": {},
   "outputs": [],
   "source": [
    "import numpy as np\n",
    "from ortools.linear_solver import pywraplp\n",
    "from scipy.optimize import linprog\n",
    "import matplotlib.pyplot as plt\n",
    "from matplotlib.patches import Polygon\n",
    "%matplotlib inline"
   ]
  },
  {
   "cell_type": "markdown",
   "id": "19e9c29a",
   "metadata": {},
   "source": [
    "让我们从一些线性规划问题的例子开始。\n",
    "\n",
    "\n",
    "\n",
    "## 示例1：生产问题\n",
    "\n",
    "该示例由 {cite}`bertsimas_tsitsiklis1997` 创建\n",
    "\n",
    "假设一家工厂可以生产两种商品，称为产品 $1$ 和产品 $2$。\n",
    "\n",
    "每种产品的生产都需要材料和劳动。\n",
    "\n",
    "销售每种产品都会带来收入。\n",
    "\n",
    "每单位所需的材料和劳动输入以及收入如下表所示：\n",
    "\n",
    "|          | 产品 1 | 产品 2 |\n",
    "| :------: | :-------: | :-------: |\n",
    "| 材料 |     2     |     5     |\n",
    "| 劳动   |     4     |     2     |\n",
    "| 收入  |     3     |     4     |\n",
    "\n",
    "有30个单位的材料和20个单位的劳动可用。\n",
    "\n",
    "公司的问题是构建一个生产计划，利用其30个单位的材料和20个单位的劳动力最大化收入。\n",
    "\n",
    "设 $x_i$ 表示公司生产的产品 $i$ 的数量。\n",
    "\n",
    "这个问题可以公式化为：\n",
    "\n",
    "$$\n",
    "\\begin{aligned}\n",
    "\\max_{x_1,x_2} \\ & z = 3 x_1 + 4 x_2 \\\\\n",
    "\\mbox{subject to } \\ & 2 x_1 + 5 x_2 \\le 30 \\\\\n",
    "& 4 x_1 + 2 x_2 \\le 20 \\\\\n",
    "& x_1, x_2 \\ge 0 \\\\\n",
    "\\end{aligned}\n",
    "$$\n",
    "\n",
    "下图展示了公司的约束条件和等收入线。"
   ]
  },
  {
   "cell_type": "code",
   "execution_count": null,
   "id": "c1841179",
   "metadata": {
    "tags": [
     "hide-input"
    ]
   },
   "outputs": [],
   "source": [
    "fig, ax = plt.subplots()\n",
    "ax.grid()\n",
    "\n",
    "# 绘制约束线\n",
    "ax.hlines(0, -1, 17.5)\n",
    "ax.vlines(0, -1, 12)\n",
    "ax.plot(np.linspace(-1, 17.5, 100), 6-0.4*np.linspace(-1, 17.5, 100), color=\"r\")\n",
    "ax.plot(np.linspace(-1, 5.5, 100), 10-2*np.linspace(-1, 5.5, 100), color=\"r\")\n",
    "ax.text(1.5, 8, \"$2x_1 + 5x_2 \\leq 30$\", size=12)\n",
    "ax.text(10, 2.5, \"$4x_1 + 2x_2 \\leq 20$\", size=12)\n",
    "ax.text(-2, 2, \"$x_2 \\geq 0$\", size=12)\n",
    "ax.text(2.5, -0.7, \"$x_1 \\geq 0$\", size=12)\n",
    "\n",
    "# 绘制可行区域\n",
    "feasible_set = Polygon(np.array([[0, 0],\n",
    "                                 [0, 6],\n",
    "                                 [2.5, 5],\n",
    "                                 [5, 0]]),\n",
    "                       color=\"cyan\")\n",
    "ax.add_patch(feasible_set)\n",
    "\n",
    "# 绘制目标函数\n",
    "ax.plot(np.linspace(-1, 5.5, 100), 3.875-0.75*np.linspace(-1, 5.5, 100), color=\"orange\")\n",
    "ax.plot(np.linspace(-1, 5.5, 100), 5.375-0.75*np.linspace(-1, 5.5, 100), color=\"orange\")\n",
    "ax.plot(np.linspace(-1, 5.5, 100), 6.875-0.75*np.linspace(-1, 5.5, 100), color=\"orange\")\n",
    "ax.arrow(-1.6, 5, 0, 2, width = 0.05, head_width=0.2, head_length=0.5, color=\"orange\")\n",
    "ax.text(5.7, 1, \"$z = 3x_1 + 4x_2$\", size=12)\n",
    "\n",
    "# 绘制最优解\n",
    "ax.plot(2.5, 5, \"*\", color=\"black\")\n",
    "ax.text(2.7, 5.2, \"最优解\", size=12)\n",
    "\n",
    "plt.show()"
   ]
  },
  {
   "cell_type": "markdown",
   "id": "33608985",
   "metadata": {},
   "source": [
    "蓝色区域是满足所有约束条件的可行集合。\n",
    "\n",
    "平行的橙线是等收入线。\n",
    "\n",
    "公司的目标是找到平行的橙线，使其与可行集合的上边界相接触。\n",
    "\n",
    "可行集合与最高橙线的交点划定了最优解集。\n",
    "\n",
    "在这个例子中，最优解集是点 $(2.5, 5)$。\n",
    "\n",
    "\n",
    "\n",
    "### 计算：使用 OR-Tools\n",
    "\n",
    "让我们尝试使用包 *ortools.linear_solver* 来解决同样的问题。\n",
    "\n",
    "\n",
    "\n",
    "以下单元实例化了一个求解器并创建了两个变量，指定了它们可以具有的值的范围。"
   ]
  },
  {
   "cell_type": "code",
   "execution_count": null,
   "id": "4975bab0",
   "metadata": {},
   "outputs": [],
   "source": [
    "# Instantiate a GLOP(Google Linear Optimization Package) solver\n",
    "solver = pywraplp.Solver.CreateSolver('GLOP')"
   ]
  },
  {
   "cell_type": "markdown",
   "id": "84376b22",
   "metadata": {},
   "source": [
    "让我们创建两个变量 $x_1$ 和 $x_2$，使它们只能取非负值。"
   ]
  },
  {
   "cell_type": "code",
   "execution_count": null,
   "id": "77c33553",
   "metadata": {},
   "outputs": [],
   "source": [
    "# Create the two variables and let them take on any non-negative value.\n",
    "x1 = solver.NumVar(0, solver.infinity(), 'x1')\n",
    "x2 = solver.NumVar(0, solver.infinity(), 'x2')"
   ]
  },
  {
   "cell_type": "markdown",
   "id": "c1113974",
   "metadata": {},
   "source": [
    "接下来我们添加问题中的约束条件。"
   ]
  },
  {
   "cell_type": "code",
   "execution_count": null,
   "id": "d9f0fe2b",
   "metadata": {},
   "outputs": [],
   "source": [
    "# 约束 1: 2x_1 + 5x_2 <= 30.0\n",
    "solver.Add(2 * x1 + 5 * x2 <= 30.0)\n",
    "\n",
    "# 约束 2: 4x_1 + 2x_2 <= 20.0\n",
    "solver.Add(4 * x1 + 2 * x2 <= 20.0)"
   ]
  },
  {
   "cell_type": "markdown",
   "id": "7d4231ac",
   "metadata": {},
   "source": [
    "接下来，我们指定目标函数。我们在要最大化目标函数的情况下使用 `solver.Maximize` 方法，在最小化的情况下我们可以使用 `solver.Minimize`。"
   ]
  },
  {
   "cell_type": "code",
   "execution_count": null,
   "id": "e2cd0965",
   "metadata": {},
   "outputs": [],
   "source": [
    "# 目标函数: 3x_1 + 4x_2\n",
    "solver.Maximize(3 * x1 + 4 * x2)"
   ]
  },
  {
   "cell_type": "markdown",
   "id": "5efec7b0",
   "metadata": {},
   "source": [
    "一旦我们解决了问题，我们可以通过求解器的状态来检查是否成功求解问题。如果成功，那么状态将等于 `pywraplp.Solver.OPTIMAL`。"
   ]
  },
  {
   "cell_type": "code",
   "execution_count": null,
   "id": "28a88326",
   "metadata": {},
   "outputs": [],
   "source": [
    "# 解决系统\n",
    "status = solver.Solve()\n",
    "\n",
    "if status == pywraplp.Solver.OPTIMAL:\n",
    "    print('目标值 =', solver.Objective().Value())\n",
    "    x1_sol = round(x1.solution_value(), 2)\n",
    "    x2_sol = round(x2.solution_value(), 2)\n",
    "    print(f'(x1, x2): ({x1_sol}, {x2_sol})')\n",
    "else:\n",
    "    print('该问题没有最优解。')"
   ]
  },
  {
   "cell_type": "markdown",
   "id": "953ed67d",
   "metadata": {},
   "source": [
    "结果与图中相符：\n",
    "\n",
    "最优解是 $ x_1^* = 2.5 $ 和 $ x_2^* = 5 $，其对应的收入 $ z^* = 3 \\times 2.5 + 4 \\times 5 = 25$。\n",
    "\n",
    "## 示例2：投资问题\n",
    "\n",
    "我们现在考虑一个由 {cite}`hu_guo2018` 提出和解决的问题。\n",
    "\n",
    "一个共同基金有 $100,000 美元$ 需要投资在一个三年的时间范围内。\n",
    "\n",
    "有三种投资选择：\n",
    "\n",
    "1. **年金**：基金可以在每年的年初支付相同数额的新资本，并在第三年年底获得回报，总资本的130%。 一旦共同基金决定投资于这个年金，它必须在未来的所有三年时间范围内继续投资。\n",
    "\n",
    "2. **银行账户**：基金可以在每年的年初存入任意金额到银行，并在该年年末获得其资本加上6%的利息。此外，共同基金允许在每年的年初借款不超过 $20,000 美元，并在该年年末偿还借款本金加上6%的利息。共同基金可以在每年的年初选择存款或借款。\n",
    "\n",
    "3. **公司债券**：在第二年的年初，可以购买一个不超过 $50,000 美元的公司债券，并在第三年年底获得投资额的130%的回报。\n",
    "\n",
    "共同基金的目标是在第三年年底最大化其所有的总回报。\n",
    "\n",
    "我们可以将这个问题公式化为一个线性规划问题。\n",
    "\n",
    "设 $x_1$ 为年金投资金额，$x_2, x_3, x_4$ 为每年年初银行存款余额，$x_5$ 为公司债券投资金额。\n",
    "\n",
    "当 $x_2, x_3, x_4$ 为负时，表示共同基金从银行借钱。\n",
    "\n",
    "下表显示了共同基金的决策变量以及上述时间协议：\n",
    "\n",
    "|                | 第1年 | 第2年 | 第3年 |\n",
    "| :------------: | :----: | :----: | :----: |\n",
    "|    年金     | $x_1$  | $x_1$  | $x_1$  |\n",
    "|  银行账户  | $x_2$  | $x_3$  | $x_4$  |\n",
    "| 公司债券 |   0    | $x_5$  |   0    |\n",
    "\n",
    "共同基金的决策过程如下时间协议进行：\n",
    "\n",
    "1. 在第一年的年初，共同基金决定投资多少于年金和存入多少于银行。此决策受以下约束：\n",
    "\n",
    "   $$\n",
    "   x_1 + x_2 = 100,000\n",
    "   $$\n",
    "\n",
    "2. 在第二年的年初，共同基金拥有 $1.06 x_2$ 的银行余额。\n",
    "   它必须保留 $x_1$ 作为年金。它可以选择将 $x_5$ 投入公司债券，并且在银行中存放 $x_3$。这些决策受以下约束：\n",
    "\n",
    "   $$\n",
    "   x_1 + x_5 = 1.06 x_2 - x_3\n",
    "   $$\n",
    "\n",
    "3. 在第三年的年初，共同基金拥有等于 $1.06 x_3$ 的银行账户余额。\n",
    "   它必须再次投资 $x_1$ 于年金，剩下的银行账户余额等于 $x_4$。这种情况总结如下约束条件：\n",
    "\n",
    "   $$\n",
    "   x_1 = 1.06 x_3 - x_4\n",
    "   $$\n",
    "\n",
    "共同基金的目标函数，即其第三年末的财富为：\n",
    "\n",
    "$$\n",
    "1.30 \\cdot 3x_1 + 1.06 x_4 + 1.30 x_5\n",
    "$$\n",
    "\n",
    "因此，共同基金要面对的线性计划是：\n",
    "\n",
    "$$\n",
    "\\begin{aligned}\n",
    "\\max_{x} \\ & 1.30 \\cdot 3x_1 + 1.06 x_4 + 1.30 x_5 \\\\\n",
    "\\mbox{subject to } \\ & x_1 + x_2 = 100,000\\\\\n",
    " & x_1 - 1.06 x_2 + x_3 + x_5 = 0\\\\\n",
    " & x_1 - 1.06 x_3 + x_4 = 0\\\\\n",
    " & x_2 \\ge -20,000\\\\\n",
    " & x_3 \\ge -20,000\\\\\n",
    " & x_4 \\ge -20,000\\\\\n",
    " & x_5 \\le 50,000\\\\\n",
    " & x_j \\ge 0, \\quad j = 1,5\\\\\n",
    " & x_j \\ \\text{unrestricted}, \\quad j = 2,3,4\\\\\n",
    "\\end{aligned}\n",
    "$$\n",
    "\n",
    "\n",
    "\n",
    "### 计算：使用 OR-Tools\n",
    "\n",
    "让我们尝试使用包 *ortools.linear_solver* 来解决上述问题。\n",
    "\n",
    "以下单元实例化了一个求解器并创建了两个变量，指定了它们可以具有的值的范围。"
   ]
  },
  {
   "cell_type": "code",
   "execution_count": null,
   "id": "d8773347",
   "metadata": {},
   "outputs": [],
   "source": [
    "# Instantiate a GLOP(Google Linear Optimization Package) solver\n",
    "solver = pywraplp.Solver.CreateSolver('GLOP')"
   ]
  },
  {
   "cell_type": "markdown",
   "id": "0c0e0bc6",
   "metadata": {},
   "source": [
    "让我们创建五个变量 $x_1, x_2, x_3, x_4,$ 和 $x_5$ 使它们只能取上述约束定义的值。"
   ]
  },
  {
   "cell_type": "code",
   "execution_count": null,
   "id": "f51bac35",
   "metadata": {},
   "outputs": [],
   "source": [
    "# Create the variables using the ranges available from constraints\n",
    "x1 = solver.NumVar(0, solver.infinity(), 'x1')\n",
    "x2 = solver.NumVar(-20_000, solver.infinity(), 'x2')\n",
    "x3 = solver.NumVar(-20_000, solver.infinity(), 'x3')\n",
    "x4 = solver.NumVar(-20_000, solver.infinity(), 'x4')\n",
    "x5 = solver.NumVar(0, 50_000, 'x5')"
   ]
  },
  {
   "cell_type": "markdown",
   "id": "b094a08f",
   "metadata": {},
   "source": [
    "接下来我们添加问题中的约束条件。"
   ]
  },
  {
   "cell_type": "code",
   "execution_count": null,
   "id": "8e82c542",
   "metadata": {},
   "outputs": [],
   "source": [
    "# 约束 1: x_1 + x_2 = 100,000\n",
    "solver.Add(x1 + x2 == 100_000.0)\n",
    "\n",
    "# 约束 2: x_1 - 1.06 * x_2 + x_3 + x_5 = 0\n",
    "solver.Add(x1 - 1.06 * x2 + x3 + x5 == 0.0)\n",
    "\n",
    "# 约束 3: x_1 - 1.06 * x_3 + x_4 = 0\n",
    "solver.Add(x1 - 1.06 * x3 + x4 == 0.0)"
   ]
  },
  {
   "cell_type": "markdown",
   "id": "ca0caf03",
   "metadata": {},
   "source": [
    "接下来我们指定目标函数。因为我们要最大化目标函数，所以使用 `solver.Maximize` 方法。"
   ]
  },
  {
   "cell_type": "code",
   "execution_count": null,
   "id": "527bfecb",
   "metadata": {},
   "outputs": [],
   "source": [
    "# 目标函数: 1.30 * 3 * x_1 + 1.06 * x_4 + 1.30 * x_5\n",
    "solver.Maximize(1.30 * 3 * x1 + 1.06 * x4 + 1.30 * x5)"
   ]
  },
  {
   "cell_type": "markdown",
   "id": "9847c62b",
   "metadata": {},
   "source": [
    "一旦我们解决了问题，我们可以通过求解器的状态来检查是否成功求解问题。如果成功，那么状态将等于 `pywraplp.Solver.OPTIMAL`。"
   ]
  },
  {
   "cell_type": "code",
   "execution_count": null,
   "id": "32431687",
   "metadata": {},
   "outputs": [],
   "source": [
    "# 解决系统\n",
    "status = solver.Solve()\n",
    "\n",
    "if status == pywraplp.Solver.OPTIMAL:\n",
    "    print('目标值 =', solver.Objective().Value())\n",
    "    x1_sol = round(x1.solution_value(), 2)\n",
    "    x2_sol = round(x2.solution_value(), 2)\n",
    "    x3_sol = round(x3.solution_value(), 2)\n",
    "    x4_sol = round(x4.solution_value(), 2)\n",
    "    x5_sol = round(x5.solution_value(), 2)\n",
    "    print(f'(x1, x2, x3, x4, x5): ({x1_sol}, {x2_sol}, {x3_sol}, {x4_sol}, {x5_sol})')\n",
    "else:\n",
    "    print('该问题没有最优解。')"
   ]
  },
  {
   "cell_type": "markdown",
   "id": "67bea174",
   "metadata": {},
   "source": [
    "最优解是 $x_1^* = 25,000.0$，$x_2^* = 75,000.0$，$x_3^* = 106,000.0$ 和 $x_4^* = 112,360.0$ 及 $x_5^* = 50,000.0$。这与 {cite}`hu_guo2018` 中的结果相符。\n",
    "\n",
    "OR-Tools 告诉我们，最佳投资策略是：\n",
    "\n",
    "1. 第一年年初，共同基金应该购买 $ \\$24,927.755$ 的年金。其银行账户余额应为 $ \\$75,072.245$。     \n",
    "\n",
    "2. 第二年年初，共同基金应该购买 $ \\$24,927.755$ 的公司债券，并继续投资于年金。其银行账户余额应为 $ \\$24,927.755$。    \n",
    "\n",
    "3. 第三年年初，银行账户余额应为 $ \\$75,072.245$。     \n",
    "\n",
    "4. 第三年年底，共同基金将从年金和公司债券获得支付，并偿还其银行贷款。最终它将拥有 $ \\$141018.24$，因此其在三个期间的总净回报率为 $ 41.02\\%$。\n",
    "\n",
    "\n",
    "\n",
    "## 标准形式\n",
    "\n",
    "出于\n",
    "\n",
    "* 统一表面上形式不同的线性规划问题，和\n",
    "\n",
    "* 方便放入黑箱软件包的形式，\n",
    "\n",
    "我们有必要花一些精力描述一个 **标准形式**。\n",
    "\n",
    "我们的标准形式是：\n",
    "\n",
    "$$\n",
    "\\begin{aligned}\n",
    "\\min_{x} \\ & c_1 x_1 + c_2 x_2 + \\dots + c_n x_n  \\\\\n",
    "\\mbox{subject to } \\ & a_{11} x_1 + a_{12} x_2 + \\dots + a_{1n} x_n = b_1 \\\\\n",
    " & a_{21} x_1 + a_{22} x_2 + \\dots + a_{2n} x_n = b_2 \\\\\n",
    " & \\quad \\vdots \\\\\n",
    " & a_{m1} x_1 + a_{m2} x_2 + \\dots + a_{mn} x_n = b_m \\\\\n",
    " & x_1, x_2, \\dots, x_n \\ge 0 \\\\\n",
    "\\end{aligned}\n",
    "$$\n",
    "\n",
    "设\n",
    "\n",
    "$$\n",
    "A = \\begin{bmatrix}\n",
    "a_{11} & a_{12} & \\dots & a_{1n} \\\\\n",
    "a_{21} & a_{22} & \\dots & a_{2n} \\\\\n",
    "  &   & \\vdots &   \\\\\n",
    "a_{m1} & a_{m2} & \\dots & a_{mn} \\\\\n",
    "\\end{bmatrix}, \\quad\n",
    "b = \\begin{bmatrix} b_1 \\\\ b_2 \\\\ \\vdots \\\\ b_m \\\\ \\end{bmatrix}, \\quad\n",
    "c = \\begin{bmatrix} c_1 \\\\ c_2 \\\\ \\vdots \\\\ c_n \\\\ \\end{bmatrix}, \\quad\n",
    "x = \\begin{bmatrix} x_1 \\\\ x_2 \\\\ \\vdots \\\\ x_n \\\\ \\end{bmatrix}. \\quad\n",
    "$$\n",
    "\n",
    "标准形式的 LP 问题可以简洁地表示为：\n",
    "\n",
    "$$\n",
    "\\begin{aligned}\n",
    "\\min_{x} \\ & c'x \\\\\n",
    "\\mbox{subject to } \\ & Ax = b\\\\\n",
    " & x \\geq 0\\\\\n",
    "\\end{aligned}\n",
    "$$ (lpproblem)\n",
    "\n",
    "这里 $Ax = b$ 表示 $Ax$ 的第 $i$ 项等于 $b$ 的第 $i$ 项，对每个 $i$ 都成立。\n",
    "\n",
    "同样，$x \\geq 0$ 表示 $x_j$ 对所有 $j$ 都大于等于 $0$。\n",
    "\n",
    "### 用到的转换\n",
    "\n",
    "知道如何将最初未以标准形式陈述的问题转换为标准形式是有用的。\n",
    "\n",
    "通过部署以下步骤，任何线性规划问题都可以转换为等价的标准形式线性规划问题。\n",
    "\n",
    "1. **目标函数：** 如果一个问题最初是一个约束**最大化**问题，我们可以构建一个新的目标函数，该目标函数是原始目标函数的相反数。然后，转换后的问题是一个**最小化**问题。\n",
    "\n",
    "2. **决策变量:** 给定一个变量 $x_j$ 满足 $x_j \\le 0$，我们可以引入一个新变量 $x_j' = - x_j$ 并将其代入原问题。对于一个任意变量 $x_i$，即没有符号限制的变量，我们可以引入两个新变量 $x_i^+$ 和 $x_i^-$，使其满足 $x_i^+, x_i^- \\ge 0$，然后将 $x_i$ 替换为 $x_i^+ - $x_i^-$。\n",
    "\n",
    "3. **不等式约束:** 对于一个不等式约束 $\\sum_{j=1}^n a_{ij}x_j \\le 0$，我们可以引入一个新变量 $s_i$，称为 **松弛变量**，满足 $s_i \\ge 0$，并将原始约束替换为 $\\sum_{j=1}^n a_{ij}x_j + s_i = 0$。\n",
    "\n",
    "让我们将上述步骤应用于上述两个示例。\n",
    "\n",
    "### 示例1: 生产问题\n",
    "\n",
    "原始问题是：\n",
    "\n",
    "$$\n",
    "\\begin{aligned}\n",
    "\\max_{x_1,x_2} \\ & 3 x_1 + 4 x_2 \\\\\n",
    "\\mbox{subject to } \\ & 2 x_1 + 5 x_2 \\le 30 \\\\\n",
    "& 4 x_1 + 2 x_2 \\le 20 \\\\\n",
    "& x_1, x_2 \\ge 0 \\\\\n",
    "\\end{aligned}\n",
    "$$\n",
    "\n",
    "这个问题等价于以下具有标准形式的问题：\n",
    "\n",
    "$$\n",
    "\\begin{aligned}\n",
    "\\min_{x_1,x_2} \\ & -(3 x_1 + 4 x_2) \\\\\n",
    "\\mbox{subject to } \\ & 2 x_1 + 5 x_2 + s_1 = 30 \\\\\n",
    "& 4 x_1 + 2 x_2 + s_2 = 20 \\\\\n",
    "& x_1, x_2, s_1, s_2 \\ge 0 \\\\\n",
    "\\end{aligned}\n",
    "$$\n",
    "\n",
    "### 计算: 使用 SciPy\n",
    "\n",
    "包 *scipy.optimize* 提供了一个函数 ***linprog*** 来解决下面形式的线性规划问题：\n",
    "\n",
    "$$\n",
    "\\begin{aligned}\n",
    "\\min_{x} \\ & c' x  \\\\\n",
    "\\mbox{subject to } \\ & A_{ub}x \\le b_{ub} \\\\\n",
    " & A_{eq}x = b_{eq} \\\\\n",
    " & l \\le x \\le u \\\\\n",
    "\\end{aligned}\n",
    "$$\n",
    "\n",
    "```{note}\n",
    "默认情况下 $l = 0$ 且 $u = \\text{None}$，除非通过参数 'bounds' 明确指定。\n",
    "```\n",
    "\n",
    "让我们现在尝试使用 SciPy 解决问题1。"
   ]
  },
  {
   "cell_type": "code",
   "execution_count": null,
   "id": "49adba2c",
   "metadata": {},
   "outputs": [],
   "source": [
    "# 构建参数\n",
    "c_ex1 = np.array([3, 4])\n",
    "\n",
    "# 不等式约束\n",
    "A_ex1 = np.array([[2, 5],\n",
    "                  [4, 2]])\n",
    "b_ex1 = np.array([30,20])"
   ]
  },
  {
   "cell_type": "markdown",
   "id": "5002d516",
   "metadata": {},
   "source": [
    "一旦我们解决了问题，我们可以通过`成功`的布尔属性来检查求解器是否成功求解问题。如果成功，那么`成功`属性将被设置为`True`。"
   ]
  },
  {
   "cell_type": "code",
   "execution_count": null,
   "id": "56041186",
   "metadata": {},
   "outputs": [],
   "source": [
    "# 解决问题\n",
    "# 我们在目标函数上加一个负号因为 linprog 是求最小化\n",
    "res_ex1 = linprog(-c_ex1, A_ub=A_ex1, b_ub=b_ex1)\n",
    "\n",
    "if res_ex1.success:\n",
    "    # 我们使用负号获得最优值（最大化值）\n",
    "    print('最优值:', -res_ex1.fun)\n",
    "    print(f'(x1, x2): {res_ex1.x[0], res_ex1.x[1]}')\n",
    "else:\n",
    "    print('该问题没有最优解。')"
   ]
  },
  {
   "cell_type": "markdown",
   "id": "8d9e13a0",
   "metadata": {},
   "source": [
    "### 示例2: 投资问题\n",
    "\n",
    "原始问题是：\n",
    "\n",
    "$$\n",
    "\\begin{aligned}\n",
    "\\max_{x} \\ & 1.30 \\cdot 3x_1 + 1.06 x_4 + 1.30 x_5 \\\\\n",
    "\\mbox{subject to } \\ & x_1 + x_2 = 100,000\\\\\n",
    " & x_1 - 1.06 x_2 + x_3 + x_5 = 0\\\\\n",
    " & x_1 - 1.06 x_3 + x_4 = 0\\\\\n",
    " & x_2 \\ge -20,000\\\\\n",
    " & x_3 \\ge -20,000\\\\\n",
    " & x_4 \\ge -20,000\\\\\n",
    " & x_5 \\le 50,000\\\\\n",
    " & x_j \\ge 0, \\quad j = 1,5\\\\\n",
    " & x_j \\ \\text{unrestricted}, \\quad j = 2,3,4\\\\\n",
    "\\end{aligned}\n",
    "$$\n",
    "\n",
    "等价于以下问题:\n",
    "\n",
    "$$\n",
    "\\begin{aligned}\n",
    "\\min_{x} \\ & -(1.30 \\cdot 3 x_1 + 1.06 x_4 + 1.30 x_5) \\\\\n",
    "\\mbox{subject to } \\ & x_1 + x_2 = 100,000\\\\\n",
    " & x_1 - 1.06 x_2 + x_3 + x_5 = 0\\\\\n",
    " & x_1 - 1.06 x_3 + x_4 = 0\\\\\n",
    " & -x_2 \\leq 20,000\\\\\n",
    " & -x_3 \\leq 20,000\\\\\n",
    " & -x_4 \\leq 20,000\\\\\n",
    " & x_5 \\leq 50,000\\\\\n",
    " & x_j \\ge 0, \\quad j = 1,5\\\\\n",
    " & x_j \\ \\text{unrestricted}, \\quad j = 2,3,4\\\\\n",
    "\\end{aligned}\n",
    "$$\n",
    "\n",
    "### 计算: 使用 SciPy\n",
    "\n",
    "我们现在尝试使用 SciPy 解决示例2。"
   ]
  },
  {
   "cell_type": "code",
   "execution_count": null,
   "id": "8725eae9",
   "metadata": {},
   "outputs": [],
   "source": [
    "# 构建参数\n",
    "c_ex2 = np.array([1.30 * 3, 0, 0, 1.06, 1.30])\n",
    "\n",
    "# 等式约束\n",
    "A_ex2 = np.array([[1, 1, 0, 0, 0],\n",
    "                  [1, -1.06, 1, 0, 1],\n",
    "                  [1, 0, -1.06, 1, 0]])\n",
    "b_ex2 = np.array([100_000, 0, 0])\n",
    "\n",
    "# 边界\n",
    "# x_2, x_3 和 x_4 增加了双边界是因为表单 linprog 接受边界的方式\n",
    "bounds_ex2 = ((0, None), (-20_000, None), (-20_000, None), (-20_000, None), (0, 50_000))"
   ]
  },
  {
   "cell_type": "markdown",
   "id": "8251d82d",
   "metadata": {},
   "source": [
    "我们以和示例1相同的方式解决这个问题并检查成功状态。"
   ]
  },
  {
   "cell_type": "code",
   "execution_count": null,
   "id": "df4cad27",
   "metadata": {},
   "outputs": [],
   "source": [
    "# 解决问题\n",
    "res_ex2 = linprog(-c_ex2, A_eq=A_ex2, b_eq=b_ex2,\n",
    "                  bounds=bounds_ex2)\n",
    "\n",
    "if res_ex2.success:\n",
    "    # 我们使用负号获得最优值（最大化值）\n",
    "    print('最优值:', -res_ex2.fun)\n",
    "    x1_sol = round(res_ex2.x[0], 3)\n",
    "    x2_sol = round(res_ex2.x[1], 3)\n",
    "    x3_sol = round(res_ex2.x[2], 3)\n",
    "    x4_sol = round(res_ex2.x[3], 3)\n",
    "    x5_sol = round(res_ex2.x[4], 3)\n",
    "    print(f'(x1, x2, x3, x4, x5): {x1_sol, x2_sol, x3_sol, x4_sol, x5_sol}')\n",
    "else:\n",
    "    print('该问题没有最优解。')"
   ]
  },
  {
   "cell_type": "markdown",
   "id": "a665b1d3",
   "metadata": {},
   "source": [
    "SciPy 告诉我们最佳投资策略是：\n",
    "\n",
    "1. 第一年年初，共同基金应该购买 $ \\$24,927.75$ 的年金。其银行账户余额应为 $ \\$75,072.25$。\n",
    "\n",
    "2. 第二年年初，共同基金应该购买 $ \\$50,000 $ 的公司债券，并继续投资于年金。其银行账户余额应为 $ \\$ 4,648.83$。\n",
    "\n",
    "3. 第三年年初，共同基金应该从银行借款 $ \\$20,000$ 并投资于年金。\n",
    "\n",
    "4. 第三年年底，共同基金将从年金和公司债券获得支付并偿还其银行贷款。最终它将拥有 $ \\$141018.24 $，因此其在三个期间的总净回报率为 $ 41.02\\% $。\n",
    "\n",
    "```{note}\n",
    "你可能会注意到使用 OR-Tools 和 SciPy 的最优解中的值不同，但最优值是相同的。这是因为对同一个问题可以有多个最优解。\n",
    "```\n",
    "\n",
    "## 练习\n",
    "\n",
    "```{exercise-start}\n",
    ":label: lp_intro_ex1\n",
    "```\n",
    "\n",
    "针对问题1实现一个新的扩展解决方案，其中工厂主决定产品1的单位数应不少于产品2的单位数。\n",
    "\n",
    "```{exercise-end}\n",
    "```\n",
    "\n",
    "```{solution-start} lp_intro_ex1\n",
    ":class: dropdown\n",
    "```\n",
    "\n",
    "我们可以重新表述问题为：\n",
    "\n",
    "$$\n",
    "\\begin{aligned}\n",
    "\\max_{x_1,x_2} \\ & z = 3 x_1 + 4 x_2 \\\\\n",
    "\\mbox{subject to } \\ & 2 x_1 + 5 x_2 \\le 30 \\\\\n",
    "& 4 x_1 + 2 x_2 \\le 20 \\\\\n",
    "& x_1 \\ge x_2 \\\\\n",
    "& x_1, x_2 \\ge 0 \\\\\n",
    "\\end{aligned}\n",
    "$$"
   ]
  },
  {
   "cell_type": "code",
   "execution_count": null,
   "id": "ecabd436",
   "metadata": {},
   "outputs": [],
   "source": [
    "# 实例化一个 GLOP（Google Linear Optimization Package）求解器\n",
    "solver = pywraplp.Solver.CreateSolver('GLOP')\n",
    "\n",
    "# 创建两个变量，让它们取任何非负值。\n",
    "x1 = solver.NumVar(0, solver.infinity(), 'x1')\n",
    "x2 = solver.NumVar(0, solver.infinity(), 'x2')"
   ]
  },
  {
   "cell_type": "markdown",
   "id": "cab674f8",
   "metadata": {},
   "source": [
    "接下来，我们添加问题中的约束条件。"
   ]
  },
  {
   "cell_type": "code",
   "execution_count": null,
   "id": "ccb17ea0",
   "metadata": {},
   "outputs": [],
   "source": [
    "# 约束 1: 2x_1 + 5x_2 <= 30.0\n",
    "solver.Add(2 * x1 + 5 * x2 <= 30.0)\n",
    "\n",
    "# 约束 2: 4x_1 + 2x_2 <= 20.0\n",
    "solver.Add(4 * x1 + 2 * x2 <= 20.0)\n",
    "\n",
    "# 约束 3: x_1 >= x_2\n",
    "solver.Add(x1 >= x2)"
   ]
  },
  {
   "cell_type": "markdown",
   "id": "d57c819e",
   "metadata": {},
   "source": [
    "接下来我们指定目标函数。"
   ]
  },
  {
   "cell_type": "code",
   "execution_count": null,
   "id": "7caa2098",
   "metadata": {},
   "outputs": [],
   "source": [
    "# 目标函数: 3x_1 + 4x_2\n",
    "solver.Maximize(3 * x1 + 4 * x2)"
   ]
  },
  {
   "cell_type": "code",
   "execution_count": null,
   "id": "fcdaadc7",
   "metadata": {},
   "outputs": [],
   "source": [
    "# 解决系统\n",
    "status = solver.Solve()\n",
    "\n",
    "if status == pywraplp.Solver.OPTIMAL:\n",
    "    print('目标值 =', solver.Objective().Value())\n",
    "    x1_sol = round(x1.solution_value(), 2)\n",
    "    x2_sol = round(x2.solution_value(), 2)\n",
    "    print(f'(x1, x2): ({x1_sol}, {x2_sol})')\n",
    "else:\n",
    "    print('该问题没有最优解。')"
   ]
  },
  {
   "cell_type": "markdown",
   "id": "5bc220dc",
   "metadata": {},
   "source": [
    "```{solution-end}\n",
    "```\n",
    "\n",
    "```{exercise-start}\n",
    ":label: lp_intro_ex2\n",
    "```\n",
    "\n",
    "一名木匠制造 $2$ 种产品 - $A$ 和 $B$。\n",
    "\n",
    "产品 $A$ 产生利润 $23$ 美元，产品 $B$ 产生利润 $10$。\n",
    "\n",
    "生产 $A$ 需要 $2$ 小时，而生产 $B$ 需要 $0.8$ 小时。\n",
    "\n",
    "此外，他每周不能花费超过 $25$ 小时，并且 $A$ 和 $B$ 的总量不应超过 $20$。\n",
    "\n",
    "请找到他应该生产多少单位的 $A$ 和 $B$ 产品以最大化利润。\n",
    "\n",
    "```{exercise-end}\n",
    "```\n",
    "\n",
    "```{solution-start} lp_intro_ex2\n",
    ":class: dropdown\n",
    "```\n",
    "\n",
    "我们假设木匠生产 $x$ 单位的 $A$ 和 $y$ 单位的 $B$。\n",
    "\n",
    "所以我们可以将问题公式化为：\n",
    "\n",
    "$$\n",
    "\\begin{aligned}\n",
    "\\max_{x,y} \\ & z = 23 x + 10 y \\\\\n",
    "\\mbox{subject to } \\ & x + y \\le 20 \\\\\n",
    "& 2 x + 0.8 y \\le 25 \\\\\n",
    "\\end{aligned}\n",
    "$$"
   ]
  },
  {
   "cell_type": "code",
   "execution_count": null,
   "id": "670593cb",
   "metadata": {},
   "outputs": [],
   "source": [
    "# 实例化一个 GLOP（Google Linear Optimization Package）求解器\n",
    "solver = pywraplp.Solver.CreateSolver('GLOP')"
   ]
  },
  {
   "cell_type": "markdown",
   "id": "2383484c",
   "metadata": {},
   "source": [
    "让我们创建两个变量 $x_1$ 和 $x_2$，使它们只能取非负值。"
   ]
  },
  {
   "cell_type": "code",
   "execution_count": null,
   "id": "e4cabbcf",
   "metadata": {},
   "outputs": [],
   "source": [
    "# 创建两个变量，让它们取任何非负值。\n",
    "x = solver.NumVar(0, solver.infinity(), 'x')\n",
    "y = solver.NumVar(0, solver.infinity(), 'y')"
   ]
  },
  {
   "cell_type": "markdown",
   "id": "a4f925c7",
   "metadata": {},
   "source": [
    "接下来我们添加问题中的约束条件。"
   ]
  },
  {
   "cell_type": "code",
   "execution_count": null,
   "id": "706345ef",
   "metadata": {},
   "outputs": [],
   "source": [
    "# 约束 1: x + y <= 20.0\n",
    "solver.Add(x + y <= 20.0)\n",
    "\n",
    "# 约束 2: 2x + 0.8y <= 25.0\n",
    "solver.Add(2 * x + 0.8 * y <= 25.0)"
   ]
  },
  {
   "cell_type": "markdown",
   "id": "a1f96d78",
   "metadata": {},
   "source": [
    "接下来我们指定目标函数。"
   ]
  },
  {
   "cell_type": "code",
   "execution_count": null,
   "id": "e92bd58f",
   "metadata": {},
   "outputs": [],
   "source": [
    "# 目标函数: 23x + 10y\n",
    "solver.Maximize(23 * x + 10 * y)"
   ]
  },
  {
   "cell_type": "code",
   "execution_count": null,
   "id": "094dade6",
   "metadata": {},
   "outputs": [],
   "source": [
    "# 解决系统\n",
    "status = solver.Solve()\n",
    "\n",
    "if status == pywraplp.Solver.OPTIMAL:\n",
    "    print('最大利润 =', solver.Objective().Value())\n",
    "    x_sol = round(x.solution_value(), 3)\n",
    "    y_sol = round(y.solution_value(), 3)\n",
    "    print(f'(x, y): ({x_sol}, {y_sol})')\n",
    "else:\n",
    "    print('该问题没有最优解。')"
   ]
  },
  {
   "cell_type": "markdown",
   "id": "02b1219e",
   "metadata": {},
   "source": [
    "```{solution-end}\n",
    "```"
   ]
  }
 ],
 "metadata": {
  "jupytext": {
   "text_representation": {
    "extension": ".md",
    "format_name": "myst"
   }
  },
  "kernelspec": {
   "display_name": "Python 3 (ipykernel)",
   "language": "python",
   "name": "python3"
  },
  "source_map": [
   10,
   23,
   28,
   52,
   59,
   102,
   139,
   161,
   164,
   168,
   172,
   176,
   182,
   186,
   189,
   193,
   204,
   293,
   296,
   300,
   307,
   311,
   320,
   324,
   327,
   331,
   345,
   469,
   477,
   481,
   492,
   534,
   547,
   551,
   567,
   610,
   617,
   621,
   630,
   634,
   639,
   650,
   688,
   691,
   695,
   699,
   703,
   709,
   713,
   718,
   729
  ]
 },
 "nbformat": 4,
 "nbformat_minor": 5
}