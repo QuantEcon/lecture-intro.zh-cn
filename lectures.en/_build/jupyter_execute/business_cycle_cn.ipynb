{
 "cells": [
  {
   "cell_type": "markdown",
   "id": "6ab0bc33",
   "metadata": {},
   "source": [
    "# 商业周期\n",
    "\n",
    "## 概述\n",
    "\n",
    "在本次讲座中，我们回顾了一些商业周期的经验方面。\n",
    "\n",
    "商业周期是经济活动随时间波动的现象。\n",
    "\n",
    "这些包括扩张（也称为繁荣）和收缩（也称为衰退）。\n",
    "\n",
    "为了我们的研究，我们将使用来自[世界银行](https://documents.worldbank.org/en/publication/documents-reports/api) 和 [FRED](https://fred.stlouisfed.org/) 的经济指标。\n",
    "\n",
    "除 Anaconda 已经安装的软件包外，本讲座还需要"
   ]
  },
  {
   "cell_type": "code",
   "execution_count": null,
   "id": "4c1d6db1",
   "metadata": {
    "tags": [
     "hide-output"
    ]
   },
   "outputs": [],
   "source": [
    "!pip install wbgapi\n",
    "!pip install pandas-datareader"
   ]
  },
  {
   "cell_type": "markdown",
   "id": "fd53f096",
   "metadata": {},
   "source": [
    "我们使用以下导入"
   ]
  },
  {
   "cell_type": "code",
   "execution_count": null,
   "id": "4b8e22f6",
   "metadata": {},
   "outputs": [],
   "source": [
    "import matplotlib.pyplot as plt\n",
    "import pandas as pd\n",
    "import datetime\n",
    "import wbgapi as wb\n",
    "import pandas_datareader.data as web"
   ]
  },
  {
   "cell_type": "markdown",
   "id": "7008d70e",
   "metadata": {},
   "source": [
    "这是一些帮助我们在绘图中使用颜色的小代码。"
   ]
  },
  {
   "cell_type": "code",
   "execution_count": null,
   "id": "c8420d43",
   "metadata": {
    "tags": [
     "hide-input"
    ]
   },
   "outputs": [],
   "source": [
    "# 设置图形参数\n",
    "cycler = plt.cycler(linestyle=['-', '-.', '--', ':'], \n",
    "        color=['#377eb8', '#ff7f00', '#4daf4a', '#ff334f'])\n",
    "plt.rc('axes', prop_cycle=cycler)"
   ]
  },
  {
   "cell_type": "markdown",
   "id": "d0f77ba5",
   "metadata": {},
   "source": [
    "## 数据获取\n",
    "\n",
    "我们将使用世界银行的数据 API `wbgapi` 和 `pandas_datareader` 来检索数据。\n",
    "\n",
    "我们可以使用 `wb.series.info` 并带有参数 `q` 来查询来自 [世界银行](https://www.worldbank.org/en/home) 的可用数据。\n",
    "\n",
    "例如，让我们检索 GDP 增长数据 ID 以查询 GDP 增长数据。"
   ]
  },
  {
   "cell_type": "code",
   "execution_count": null,
   "id": "61b54557",
   "metadata": {},
   "outputs": [],
   "source": [
    "wb.series.info(q='GDP growth')"
   ]
  },
  {
   "cell_type": "markdown",
   "id": "3254799c",
   "metadata": {},
   "source": [
    "现在我们使用这个系列 ID 来获取数据。"
   ]
  },
  {
   "cell_type": "code",
   "execution_count": null,
   "id": "3a406e5b",
   "metadata": {},
   "outputs": [],
   "source": [
    "gdp_growth = wb.data.DataFrame('NY.GDP.MKTP.KD.ZG',\n",
    "            ['USA', 'ARG', 'GBR', 'GRC', 'JPN'], \n",
    "            labels=True)\n",
    "gdp_growth"
   ]
  },
  {
   "cell_type": "markdown",
   "id": "679c4169",
   "metadata": {},
   "source": [
    "我们可以查看该系列的元数据以了解更多关于该系列的信息（点击展开）。"
   ]
  },
  {
   "cell_type": "code",
   "execution_count": null,
   "id": "44e3bc67",
   "metadata": {
    "tags": [
     "hide-output"
    ]
   },
   "outputs": [],
   "source": [
    "wb.series.metadata.get('NY.GDP.MKTP.KD.ZG')"
   ]
  },
  {
   "cell_type": "markdown",
   "id": "97ca140d",
   "metadata": {},
   "source": [
    "(gdp_growth)=\n",
    "## GDP 增长率\n",
    "\n",
    "首先我们来看一下 GDP 增长。 \n",
    "\n",
    "让我们从世界银行获取数据并对其进行清理。"
   ]
  },
  {
   "cell_type": "code",
   "execution_count": null,
   "id": "b287e020",
   "metadata": {},
   "outputs": [],
   "source": [
    "# 使用之前检索到的系列 ID\n",
    "gdp_growth = wb.data.DataFrame('NY.GDP.MKTP.KD.ZG',\n",
    "            ['USA', 'ARG', 'GBR', 'GRC', 'JPN'], \n",
    "            labels=True)\n",
    "gdp_growth = gdp_growth.set_index('Country')\n",
    "gdp_growth.columns = gdp_growth.columns.str.replace('YR', '').astype(int)"
   ]
  },
  {
   "cell_type": "markdown",
   "id": "c7c2ba87",
   "metadata": {},
   "source": [
    "以下是数据的初步观察"
   ]
  },
  {
   "cell_type": "code",
   "execution_count": null,
   "id": "f806463f",
   "metadata": {},
   "outputs": [],
   "source": [
    "gdp_growth"
   ]
  },
  {
   "cell_type": "markdown",
   "id": "9df2c6d7",
   "metadata": {},
   "source": [
    "我们编写一个函数来生成考虑衰退的单个国家的图表。"
   ]
  },
  {
   "cell_type": "code",
   "execution_count": null,
   "id": "b9822182",
   "metadata": {
    "tags": [
     "hide-input"
    ]
   },
   "outputs": [],
   "source": [
    "def plot_series(data, country, ylabel, \n",
    "                txt_pos, ax, g_params,\n",
    "                b_params, t_params, ylim=15, baseline=0):\n",
    "    \"\"\"\n",
    "    绘制带有衰退高亮的时间序列。\n",
    "\n",
    "    参数\n",
    "    ----------\n",
    "    data : pd.DataFrame    要绘制的数据\n",
    "    country : str\n",
    "        要绘制的国家名称\n",
    "    ylabel : str\n",
    "        y轴标签\n",
    "    txt_pos : float\n",
    "        衰退标签的位置\n",
    "    y_lim : float\n",
    "        y轴的限制\n",
    "    ax : matplotlib.axes._subplots.AxesSubplot\n",
    "        要绘制的轴\n",
    "    g_params : dict\n",
    "        线条参数\n",
    "    b_params : dict\n",
    "        衰退高亮的参数\n",
    "    t_params : dict\n",
    "        衰退标签的参数\n",
    "    baseline : float, optional\n",
    "        图中的虚线基线，默认为 0\n",
    "    \n",
    "    返回\n",
    "    -------\n",
    "    ax : matplotlib.axes.Axes\n",
    "        带有绘图的轴\n",
    "    \"\"\"\n",
    "\n",
    "    ax.plot(data.loc[country], label=country, **g_params)\n",
    "    \n",
    "    # 高亮显示衰退\n",
    "    ax.axvspan(1973, 1975, **b_params)\n",
    "    ax.axvspan(1990, 1992, **b_params)\n",
    "    ax.axvspan(2007, 2009, **b_params)\n",
    "    ax.axvspan(2019, 2021, **b_params)\n",
    "    if ylim != None:\n",
    "        ax.set_ylim([-ylim, ylim])\n",
    "    else:\n",
    "        ylim = ax.get_ylim()[1]\n",
    "    ax.text(1974, ylim + ylim*txt_pos,\n",
    "            '石油危机\\n(1974)', **t_params) \n",
    "    ax.text(1991, ylim + ylim*txt_pos,\n",
    "            '1990年代衰退\\n(1991)', **t_params) \n",
    "    ax.text(2008, ylim + ylim*txt_pos,\n",
    "            '全球金融危机\\n(2008)', **t_params) \n",
    "    ax.text(2020, ylim + ylim*txt_pos,\n",
    "            '新冠肺炎\\n(2020)', **t_params)\n",
    "\n",
    "    # 添加参考的基线\n",
    "    if baseline != None:\n",
    "        ax.axhline(y=baseline, \n",
    "                   color='black', \n",
    "                   linestyle='--')\n",
    "    ax.set_ylabel(ylabel)\n",
    "    ax.legend()\n",
    "    return ax\n",
    "\n",
    "# 定义图形参数 \n",
    "g_params = {'alpha': 0.7}\n",
    "b_params = {'color':'grey', 'alpha': 0.2}\n",
    "t_params = {'color':'grey', 'fontsize': 9, \n",
    "            'va':'center', 'ha':'center'}"
   ]
  },
  {
   "cell_type": "markdown",
   "id": "66b8261a",
   "metadata": {},
   "source": [
    "让我们从美国开始。"
   ]
  },
  {
   "cell_type": "code",
   "execution_count": null,
   "id": "7bca7743",
   "metadata": {
    "mystnb": {
     "figure": {
      "caption": "美国（GDP增长率%）",
      "name": "us_gdp"
     }
    }
   },
   "outputs": [],
   "source": [
    "fig, ax = plt.subplots()\n",
    "\n",
    "country = 'United States'\n",
    "ylabel = 'GDP增长率 (%)'\n",
    "plot_series(gdp_growth, country, \n",
    "            ylabel, 0.1, ax, \n",
    "            g_params, b_params, t_params)\n",
    "plt.show()"
   ]
  },
  {
   "cell_type": "markdown",
   "id": "d351f6c7",
   "metadata": {
    "user_expressions": []
   },
   "source": [
    "GDP 增长率平均为正，并且随着时间略有下降。\n",
    "\n",
    "我们还可以看到 GDP 增长随着时间的波动，其中一些波动相当大。\n",
    "\n",
    "让我们再看看几个国家以进行比较。"
   ]
  },
  {
   "cell_type": "markdown",
   "id": "bf78f996",
   "metadata": {},
   "source": [
    "英国（UK）的模式与美国相似，增长率缓慢下降，并且存在显著波动。\n",
    "\n",
    "请注意，在新冠肺炎大流行期间发生的非常大的下降。"
   ]
  },
  {
   "cell_type": "code",
   "execution_count": null,
   "id": "0756a1a2",
   "metadata": {
    "mystnb": {
     "figure": {
      "caption": "英国（GDP增长率%）",
      "name": "uk_gdp"
     }
    }
   },
   "outputs": [],
   "source": [
    "fig, ax = plt.subplots()\n",
    "\n",
    "country = 'United Kingdom'\n",
    "plot_series(gdp_growth, country, \n",
    "            ylabel, 0.1, ax, \n",
    "            g_params, b_params, t_params)\n",
    "plt.show()"
   ]
  },
  {
   "cell_type": "markdown",
   "id": "b0cdf3da",
   "metadata": {
    "user_expressions": []
   },
   "source": [
    "现在让我们考虑一下日本，日本在 1960 年代和 1970 年代经历了快速增长，随后在过去的二十年中扩张速度放缓。"
   ]
  },
  {
   "cell_type": "code",
   "execution_count": null,
   "id": "57d2f0f5",
   "metadata": {
    "mystnb": {
     "figure": {
      "caption": "日本（GDP增长率%）",
      "name": "jp_gdp"
     }
    }
   },
   "outputs": [],
   "source": [
    "fig, ax = plt.subplots()\n",
    "\n",
    "country = 'Japan'\n",
    "plot_series(gdp_growth, country, \n",
    "            ylabel, 0.1, ax, \n",
    "            g_params, b_params, t_params)\n",
    "plt.show()"
   ]
  },
  {
   "cell_type": "markdown",
   "id": "74180467",
   "metadata": {},
   "source": [
    "日本的增长率大幅下降与1970年代的石油危机、全球金融危机（GFC）和新冠疫情相吻合。\n",
    "\n",
    "现在让我们研究希腊。"
   ]
  },
  {
   "cell_type": "code",
   "execution_count": null,
   "id": "9a0bb2f6",
   "metadata": {
    "mystnb": {
     "figure": {
      "caption": "希腊（GDP增长率%）",
      "name": "gc_gdp"
     }
    }
   },
   "outputs": [],
   "source": [
    "fig, ax = plt.subplots()\n",
    "\n",
    "country = 'Greece'\n",
    "plot_series(gdp_growth, country, \n",
    "            ylabel, 0.1, ax, \n",
    "            g_params, b_params, t_params)\n",
    "plt.show()"
   ]
  },
  {
   "cell_type": "markdown",
   "id": "0a293048",
   "metadata": {},
   "source": [
    "希腊在2010-2011年期间遭遇了大幅的GDP增长下滑，当时正是希腊债务危机的高峰期。\n",
    "\n",
    "接下来我们来考虑一下阿根廷。"
   ]
  },
  {
   "cell_type": "code",
   "execution_count": null,
   "id": "841585db",
   "metadata": {
    "mystnb": {
     "figure": {
      "caption": "阿根廷（GDP增长率%）",
      "name": "arg_gdp"
     }
    }
   },
   "outputs": [],
   "source": [
    "fig, ax = plt.subplots()\n",
    "\n",
    "country = 'Argentina'\n",
    "plot_series(gdp_growth, country, \n",
    "            ylabel, 0.1, ax, \n",
    "            g_params, b_params, t_params)\n",
    "plt.show()"
   ]
  },
  {
   "cell_type": "markdown",
   "id": "703aa212",
   "metadata": {},
   "source": [
    "注意，阿根廷经历了比上述经济体更为剧烈的周期波动。\n",
    "\n",
    "同时，与发达经济体在1970年代和1990年代的衰退不同，阿根廷的增长率在这些时期没有下降。\n",
    "\n",
    "## 失业率\n",
    "\n",
    "另一个衡量商业周期的重要指标是失业率。\n",
    "\n",
    "我们使用FRED的数据研究从1929年到1942年的失业率数据，从1948年到2022年的失业率数据，结合美国人口普查局[1942-1948年失业率估算数据](https://www.census.gov/library/publications/1975/compendia/hist_stats_colonial-1970.html)。"
   ]
  },
  {
   "cell_type": "code",
   "execution_count": null,
   "id": "4cd82ac0",
   "metadata": {
    "tags": [
     "hide-input"
    ]
   },
   "outputs": [],
   "source": [
    "start_date = datetime.datetime(1929, 1, 1)\n",
    "end_date = datetime.datetime(1942, 6, 1)\n",
    "\n",
    "unrate_history = web.DataReader('M0892AUSM156SNBR', \n",
    "                    'fred', start_date,end_date)\n",
    "unrate_history.rename(columns={'M0892AUSM156SNBR': 'UNRATE'}, \n",
    "                inplace=True)\n",
    "\n",
    "start_date = datetime.datetime(1948, 1, 1)\n",
    "end_date = datetime.datetime(2022, 12, 31)\n",
    "\n",
    "unrate = web.DataReader('UNRATE', 'fred', \n",
    "                    start_date, end_date)"
   ]
  },
  {
   "cell_type": "markdown",
   "id": "31bcb153",
   "metadata": {},
   "source": [
    "让我们绘制从1929年到2022年的美国失业率，并定义NBER定义的衰退期。"
   ]
  },
  {
   "cell_type": "code",
   "execution_count": null,
   "id": "0c2d5485",
   "metadata": {
    "mystnb": {
     "figure": {
      "caption": "长期失业率，美国（%）",
      "name": "lrunrate"
     }
    },
    "tags": [
     "hide-input"
    ]
   },
   "outputs": [],
   "source": [
    "# 我们使用美国人口普查局对1942年至1948年期间的失业率估算\n",
    "years = [datetime.datetime(year, 6, 1) for year in range(1942, 1948)]\n",
    "unrate_census = [4.7, 1.9, 1.2, 1.9, 3.9, 3.9]\n",
    "\n",
    "unrate_census = {'DATE': years, 'UNRATE': unrate_census}\n",
    "unrate_census = pd.DataFrame(unrate_census)\n",
    "unrate_census.set_index('DATE', inplace=True)\n",
    "\n",
    "# 获取NBER定义的衰退期\n",
    "start_date = datetime.datetime(1929, 1, 1)\n",
    "end_date = datetime.datetime(2022, 12, 31)\n",
    "\n",
    "nber = web.DataReader('USREC', 'fred', start_date, end_date)\n",
    "\n",
    "fig, ax = plt.subplots()\n",
    "\n",
    "ax.plot(unrate_history, **g_params, \n",
    "        color='#377eb8', \n",
    "        linestyle='-', linewidth=2)\n",
    "ax.plot(unrate_census, **g_params, \n",
    "        color='black', linestyle='--', \n",
    "        label='Census estimates', linewidth=2)\n",
    "ax.plot(unrate, **g_params, color='#377eb8', \n",
    "        linestyle='-', linewidth=2)\n",
    "\n",
    "# 根据NBER衰退指标绘制灰色框\n",
    "ax.fill_between(nber.index, 0, 1,\n",
    "                where=nber['USREC']==1, \n",
    "                color='grey', edgecolor='none',\n",
    "                alpha=0.3, \n",
    "                transform=ax.get_xaxis_transform(), \n",
    "                label='NBER衰退指标')\n",
    "ax.set_ylim([0, ax.get_ylim()[1]])\n",
    "ax.legend(loc='upper center', \n",
    "          bbox_to_anchor=(0.5, 1.1),\n",
    "          ncol=3, fancybox=True, shadow=True)\n",
    "ax.set_ylabel('失业率 (%)')\n",
    "\n",
    "plt.show()"
   ]
  },
  {
   "cell_type": "markdown",
   "id": "ef3d9156",
   "metadata": {},
   "source": [
    "该图显示：\n",
    "\n",
    "- 劳动力市场的扩张和收缩与衰退高度相关。\n",
    "- 周期通常是不对称的：失业率急剧上升后是缓慢的恢复。\n",
    "\n",
    "它还向我们展示了后疫情恢复期间美国劳动力市场条件的独特性。\n",
    "\n",
    "劳动力市场在2020-2021年冲击后的恢复速度前所未有。\n",
    "\n",
    "## 同步性\n",
    "\n",
    "在我们之前的讨论中，我们发现发达经济体经历了相对同步的衰退时期。\n",
    "\n",
    "同时，这种同步性在阿根廷直到2000年才出现。\n",
    "\n",
    "让我们进一步研究这个趋势。\n",
    "\n",
    "通过稍加修改，我们可以使用之前的函数绘制包含多个国家的图表。"
   ]
  },
  {
   "cell_type": "code",
   "execution_count": null,
   "id": "9e757fe9",
   "metadata": {
    "tags": [
     "hide-input"
    ]
   },
   "outputs": [],
   "source": [
    "def plot_comparison(data, countries, \n",
    "                    ylabel, txt_pos, y_lim, ax, \n",
    "                    g_params, b_params, t_params, \n",
    "                    baseline=0):\n",
    "    \"\"\"\n",
    "    在相同图表上绘制多个系列。\n",
    "\n",
    "    参数\n",
    "    ----------\n",
    "    data : pd.DataFrame\n",
    "        要绘制的数据\n",
    "    countries : list\n",
    "        要绘制的国家列表\n",
    "    ylabel : str\n",
    "        y轴标签\n",
    "    txt_pos : float\n",
    "        衰退标签的位置\n",
    "    y_lim : float\n",
    "        y轴的限制\n",
    "    ax: matplotlib.axes._subplots.AxesSubplot\n",
    "        要绘制的轴\n",
    "    g_params : dict\n",
    "        线条参数\n",
    "    b_params : dict\n",
    "        衰退高亮的参数\n",
    "    t_params : dict\n",
    "        衰退标签的参数\n",
    "    baseline : float, optional\n",
    "        图中的虚线基线，默认为 0\n",
    "    \n",
    "    返回\n",
    "    -------\n",
    "    ax : matplotlib.axes.Axes\n",
    "        带有绘图的轴\n",
    "    \"\"\"\n",
    "    \n",
    "    # 允许函数处理多个系列\n",
    "    for country in countries:\n",
    "        ax.plot(data.loc[country], label=country, **g_params)\n",
    "    \n",
    "    # 高亮显示衰退\n",
    "    ax.axvspan(1973, 1975, **b_params)\n",
    "    ax.axvspan(1990, 1992, **b_params)\n",
    "    ax.axvspan(2007, 2009, **b_params)\n",
    "    ax.axvspan(2019, 2021, **b_params)\n",
    "    if y_lim != None:\n",
    "        ax.set_ylim([-y_lim, y_lim])\n",
    "    ylim = ax.get_ylim()[1]\n",
    "    ax.text(1974, ylim + ylim*txt_pos, \n",
    "            '石油危机\\n(1974)', **t_params) \n",
    "    ax.text(1991, ylim + ylim*txt_pos, \n",
    "            '1990年代衰退\\n(1991)', **t_params) \n",
    "    ax.text(2008, ylim + ylim*txt_pos, \n",
    "            '全球金融危机\\n(2008)', **t_params) \n",
    "    ax.text(2020, ylim + ylim*txt_pos, \n",
    "            '新冠肺炎\\n(2020)', **t_params) \n",
    "    if baseline != None:\n",
    "        ax.hlines(y=baseline, xmin=ax.get_xlim()[0], \n",
    "                xmax=ax.get_xlim()[1], color='black', \n",
    "                linestyle='--')\n",
    "    ax.set_ylabel(ylabel)\n",
    "    ax.legend()\n",
    "    return ax\n",
    "\n",
    "# 定义图形参数 \n",
    "g_params = {'alpha': 0.7}\n",
    "b_params = {'color':'grey', 'alpha': 0.2}\n",
    "t_params = {'color':'grey', 'fontsize': 9, \n",
    "            'va':'center', 'ha':'center'}"
   ]
  },
  {
   "cell_type": "markdown",
   "id": "9a79971b",
   "metadata": {},
   "source": [
    "在这里我们比较发达经济体和发展中经济体的GDP增长率。"
   ]
  },
  {
   "cell_type": "code",
   "execution_count": null,
   "id": "f40587fa",
   "metadata": {
    "tags": [
     "hide-input"
    ]
   },
   "outputs": [],
   "source": [
    "# 获取一个国家列表的GDP增长率\n",
    "gdp_growth = wb.data.DataFrame('NY.GDP.MKTP.KD.ZG',\n",
    "            ['CHN', 'USA', 'DEU', 'BRA', 'ARG', 'GBR', 'JPN', 'MEX'], \n",
    "            labels=True)\n",
    "gdp_growth = gdp_growth.set_index('Country')\n",
    "gdp_growth.columns = gdp_growth.columns.str.replace('YR', '').astype(int)"
   ]
  },
  {
   "cell_type": "markdown",
   "id": "99a56874",
   "metadata": {},
   "source": [
    "我们使用英国、美国、德国和日本作为发达经济体的例子。"
   ]
  },
  {
   "cell_type": "code",
   "execution_count": null,
   "id": "4f36bdbe",
   "metadata": {
    "mystnb": {
     "figure": {
      "caption": "发达经济体（GDP增长率%）",
      "name": "adv_gdp"
     }
    },
    "tags": [
     "hide-input"
    ]
   },
   "outputs": [],
   "source": [
    "fig, ax = plt.subplots()\n",
    "countries = ['United Kingdom', 'United States', 'Germany', 'Japan']\n",
    "ylabel = 'GDP增长率 (%)'\n",
    "plot_comparison(gdp_growth.loc[countries, 1962:], \n",
    "                countries, ylabel,\n",
    "                0.1, 20, ax, \n",
    "                g_params, b_params, t_params)\n",
    "plt.show()"
   ]
  },
  {
   "cell_type": "markdown",
   "id": "47490612",
   "metadata": {},
   "source": [
    "我们选择巴西、中国、阿根廷和墨西哥作为代表性发展中经济体。"
   ]
  },
  {
   "cell_type": "code",
   "execution_count": null,
   "id": "96aabecd",
   "metadata": {
    "mystnb": {
     "figure": {
      "caption": "发展中经济体（GDP增长率%）",
      "name": "deve_gdp"
     }
    },
    "tags": [
     "hide-input"
    ]
   },
   "outputs": [],
   "source": [
    "fig, ax = plt.subplots()\n",
    "countries = ['Brazil', 'China', 'Argentina', 'Mexico']\n",
    "plot_comparison(gdp_growth.loc[countries, 1962:], \n",
    "                countries, ylabel, \n",
    "                0.1, 20, ax, \n",
    "                g_params, b_params, t_params)\n",
    "plt.show()"
   ]
  },
  {
   "cell_type": "markdown",
   "id": "93986ee8",
   "metadata": {},
   "source": [
    "上述GDP增长率的比较表明\n",
    "在21世纪的衰退期，商业周期变得更加同步。\n",
    "\n",
    "然而，发展中和较不发达的经济体通常在整个经济周期中经历更剧烈的变化。\n",
    "\n",
    "尽管GDP增长同步，但各国在衰退期间的经历往往不同。\n",
    "\n",
    "我们使用失业率和劳动力市场条件的恢复作为另一个例子。\n",
    "\n",
    "在这里我们比较美国、英国、日本和法国的失业率。"
   ]
  },
  {
   "cell_type": "code",
   "execution_count": null,
   "id": "ca16c598",
   "metadata": {
    "mystnb": {
     "figure": {
      "caption": "发达经济体（失业率%）"
     }
    },
    "tags": [
     "hide-input"
    ]
   },
   "outputs": [],
   "source": [
    "unempl_rate = wb.data.DataFrame('SL.UEM.TOTL.NE.ZS',\n",
    "    ['USA', 'FRA', 'GBR', 'JPN'], labels=True)\n",
    "unempl_rate = unempl_rate.set_index('Country')\n",
    "unempl_rate.columns = unempl_rate.columns.str.replace('YR', '').astype(int)\n",
    "\n",
    "fig, ax = plt.subplots()\n",
    "\n",
    "countries = ['United Kingdom', 'United States', 'Japan', 'France']\n",
    "ylabel = '失业率 (全国估计) (%)'\n",
    "plot_comparison(unempl_rate, countries, \n",
    "                ylabel, 0.05, None, ax, g_params, \n",
    "                b_params, t_params, baseline=None)\n",
    "plt.show()"
   ]
  },
  {
   "cell_type": "markdown",
   "id": "5533999c",
   "metadata": {},
   "source": [
    "我们看到，法国由于其强大的劳工工会，通常在负面冲击后经历相对较慢的劳动力市场恢复。\n",
    "\n",
    "我们还注意到，日本有着非常低且稳定的失业率的历史。\n",
    "\n",
    "## 先行指标和相关因素\n",
    "\n",
    "研究先行指标和相关因素有助于政策制定者理解商业周期的成因和结果。\n",
    "\n",
    "我们将从三个角度讨论潜在的先行指标和相关因素：消费、生产和信用水平。\n",
    "\n",
    "### 消费\n",
    "\n",
    "消费取决于消费者对其未来收入和整体经济表现的信心。\n",
    "\n",
    "一个广泛引用的消费者信心指标是由密歇根大学发布的[消费者信心指数](https://fred.stlouisfed.org/series/UMCSENT)。\n",
    "\n",
    "这里我们绘制了密歇根大学消费者信心指数和1978-2022年美国的年度[核心消费价格指数](https://fred.stlouisfed.org/series/CPILFESL)（CPI）变化。"
   ]
  },
  {
   "cell_type": "code",
   "execution_count": null,
   "id": "66051b39",
   "metadata": {
    "mystnb": {
     "figure": {
      "caption": "消费者信心指数和CPI同比变化，美国",
      "name": "csicpi"
     }
    },
    "tags": [
     "hide-input"
    ]
   },
   "outputs": [],
   "source": [
    "start_date = datetime.datetime(1978, 1, 1)\n",
    "end_date = datetime.datetime(2022, 12, 31)\n",
    "\n",
    "# 将绘图限制在特定范围\n",
    "start_date_graph = datetime.datetime(1977, 1, 1)\n",
    "end_date_graph = datetime.datetime(2023, 12, 31)\n",
    "\n",
    "nber = web.DataReader('USREC', 'fred', start_date, end_date)\n",
    "consumer_confidence = web.DataReader('UMCSENT', 'fred', \n",
    "                                start_date, end_date)\n",
    "\n",
    "fig, ax = plt.subplots()\n",
    "ax.plot(consumer_confidence, **g_params, \n",
    "        color='#377eb8', linestyle='-', \n",
    "        linewidth=2)\n",
    "ax.fill_between(nber.index, 0, 1, \n",
    "            where=nber['USREC']==1, \n",
    "            color='grey', edgecolor='none',\n",
    "            alpha=0.3, \n",
    "            transform=ax.get_xaxis_transform(), \n",
    "            label='NBER衰退指标')\n",
    "ax.set_ylim([0, ax.get_ylim()[1]])\n",
    "ax.set_ylabel('消费者信心指数')\n",
    "\n",
    "# 在另一个y轴上绘制CPI\n",
    "ax_t = ax.twinx()\n",
    "inflation = web.DataReader('CPILFESL', 'fred', \n",
    "                start_date, end_date).pct_change(12)*100\n",
    "\n",
    "# 在图例中添加CPI而不再绘制线条\n",
    "ax_t.plot(2020, 0, **g_params, linestyle='-', \n",
    "          linewidth=2, label='消费者信心指数')\n",
    "ax_t.plot(inflation, **g_params, \n",
    "          color='#ff7f00', linestyle='--', \n",
    "          linewidth=2, label='CPI同比变化 (%)')\n",
    "\n",
    "ax_t.fill_between(nber.index, 0, 1,\n",
    "                  where=nber['USREC']==1, \n",
    "                  color='grey', edgecolor='none',\n",
    "                  alpha=0.3, \n",
    "                  transform=ax.get_xaxis_transform(), \n",
    "                  label='NBER衰退指标')\n",
    "ax_t.set_ylim([0, ax_t.get_ylim()[1]])\n",
    "ax_t.set_xlim([start_date_graph, end_date_graph])\n",
    "ax_t.legend(loc='upper center',\n",
    "            bbox_to_anchor=(0.5, 1.1),\n",
    "            ncol=3, fontsize=9)\n",
    "ax_t.set_ylabel('CPI同比变化 (%)')\n",
    "plt.show()"
   ]
  },
  {
   "cell_type": "markdown",
   "id": "6f6b2de8",
   "metadata": {},
   "source": [
    "我们发现\n",
    "\n",
    "* 消费者信心通常在扩展期间保持高位，并在衰退前下降。\n",
    "* 消费者信心与CPI之间存在明显的负相关关系。\n",
    "\n",
    "当消费者商品价格上涨时，消费者信心减弱。\n",
    "\n",
    "在[滞胀](https://zh.wikipedia.org/wiki/%E6%BB%9E%E8%83%80)期间，这一趋势尤为显著。\n",
    "\n",
    "### 生产\n",
    "\n",
    "实际工业产出与经济中的衰退高度相关。\n",
    "\n",
    "然而，它不是领先指标，因为生产萎缩的高峰相对于消费者信心和通货膨胀是滞后的。\n",
    "\n",
    "我们绘制了1919年至2022年间美国实际工业产出变化的图表，以显示这一趋势。"
   ]
  },
  {
   "cell_type": "code",
   "execution_count": null,
   "id": "2996705a",
   "metadata": {
    "mystnb": {
     "figure": {
      "caption": "同比实际产出变化，美国（%）",
      "name": "roc"
     }
    },
    "tags": [
     "hide-input"
    ]
   },
   "outputs": [],
   "source": [
    "start_date = datetime.datetime(1919, 1, 1)\n",
    "end_date = datetime.datetime(2022, 12, 31)\n",
    "\n",
    "nber = web.DataReader('USREC', 'fred', \n",
    "                    start_date, end_date)\n",
    "industrial_output = web.DataReader('INDPRO', 'fred', \n",
    "                    start_date, end_date).pct_change(12)*100\n",
    "\n",
    "fig, ax = plt.subplots()\n",
    "ax.plot(industrial_output, **g_params, \n",
    "        color='#377eb8', linestyle='-', \n",
    "        linewidth=2, label='工业生产指数')\n",
    "ax.fill_between(nber.index, 0, 1,\n",
    "                where=nber['USREC']==1, \n",
    "                color='grey', edgecolor='none',\n",
    "                alpha=0.3, \n",
    "                transform=ax.get_xaxis_transform(), \n",
    "                label='NBER衰退指标')\n",
    "ax.set_ylim([ax.get_ylim()[0], ax.get_ylim()[1]])\n",
    "ax.set_ylabel('同比实际产出变化 (%)')\n",
    "plt.show()"
   ]
  },
  {
   "cell_type": "markdown",
   "id": "dd325d15",
   "metadata": {},
   "source": [
    "我们在图中观察到跨越衰退的滞后收缩。\n",
    "\n",
    "### 信贷水平\n",
    "\n",
    "信贷在衰退期间通常会收缩，因为贷款人变得更加谨慎，借款人对承担更多债务持犹豫态度。\n",
    "\n",
    "这是由于整体经济活动减少和对未来预期黯淡等因素所致。\n",
    "\n",
    "一个例子是英国银行对私人部门的国内信贷。\n",
    "\n",
    "下图显示了1970年至2022年间英国银行向私人部门提供的国内信贷占GDP的百分比。"
   ]
  },
  {
   "cell_type": "code",
   "execution_count": null,
   "id": "6c8a81f0",
   "metadata": {
    "mystnb": {
     "figure": {
      "caption": "银行向私人部门提供的国内信贷（占GDP%）",
      "name": "dcpc"
     }
    },
    "tags": [
     "hide-input"
    ]
   },
   "outputs": [],
   "source": [
    "private_credit = wb.data.DataFrame('FS.AST.PRVT.GD.ZS', \n",
    "                ['GBR'], labels=True)\n",
    "private_credit = private_credit.set_index('Country')\n",
    "private_credit.columns = private_credit.columns.str.replace('YR', '').astype(int)\n",
    "\n",
    "fig, ax = plt.subplots()\n",
    "\n",
    "countries = 'United Kingdom'\n",
    "ylabel = '信贷水平 (占GDP%)'\n",
    "ax = plot_series(private_credit, countries, \n",
    "                 ylabel, 0.05, ax, g_params, b_params, \n",
    "                 t_params, ylim=None, baseline=None)\n",
    "plt.show()"
   ]
  },
  {
   "cell_type": "markdown",
   "id": "46c06845",
   "metadata": {},
   "source": [
    "注意，信贷水平在经济扩张期间上升，并在衰退后停滞甚至收缩。"
   ]
  }
 ],
 "metadata": {
  "jupytext": {
   "text_representation": {
    "extension": ".md",
    "format_name": "myst",
    "format_version": 0.13,
    "jupytext_version": "1.14.5"
   }
  },
  "kernelspec": {
   "display_name": "Python 3 (ipykernel)",
   "language": "python",
   "name": "python3"
  },
  "source_map": [
   12,
   28,
   33,
   37,
   43,
   47,
   54,
   65,
   67,
   72,
   77,
   82,
   86,
   97,
   104,
   108,
   110,
   114,
   185,
   190,
   208,
   216,
   222,
   239,
   243,
   258,
   264,
   279,
   285,
   300,
   312,
   328,
   332,
   380,
   401,
   475,
   479,
   491,
   495,
   512,
   516,
   532,
   546,
   567,
   587,
   645,
   664,
   694,
   708,
   730
  ]
 },
 "nbformat": 4,
 "nbformat_minor": 5
}