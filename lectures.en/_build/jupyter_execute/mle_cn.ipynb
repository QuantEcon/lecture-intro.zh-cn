{
 "cells": [
  {
   "cell_type": "markdown",
   "id": "fbeb13a5",
   "metadata": {},
   "source": [
    "# 最大似然估计"
   ]
  },
  {
   "cell_type": "code",
   "execution_count": 1,
   "id": "d95378e7",
   "metadata": {},
   "outputs": [
    {
     "name": "stderr",
     "output_type": "stream",
     "text": [
      "/home/humphrey/anaconda3/envs/quantecon/lib/python3.10/site-packages/pandas/core/arrays/masked.py:60: UserWarning: Pandas requires version '1.3.6' or newer of 'bottleneck' (version '1.3.5' currently installed).\n",
      "  from pandas.core import (\n"
     ]
    }
   ],
   "source": [
    "from scipy.stats import lognorm, pareto, expon\n",
    "import numpy as np\n",
    "from scipy.integrate import quad\n",
    "import matplotlib.pyplot as plt\n",
    "import pandas as pd\n",
    "from math import exp"
   ]
  },
  {
   "cell_type": "markdown",
   "id": "5bd73efa",
   "metadata": {},
   "source": [
    "图像输入功能：启用\n",
    "\n",
    "# 最大似然估计\n",
    "\n",
    "对于一个规模为 $N$ 的人口，其中个人 $i$ 的财富为 $w_i$，税收总额为 \n",
    "\n",
    "$$\n",
    "    T = \\sum_{i=1}^{N} h(w_i)\n",
    "$$\n",
    "\n",
    "我们希望计算这个数量。\n",
    "\n",
    "我们面临的问题是，在大多数国家，不能观察到所有个人的财富。\n",
    "\n",
    "收集和维护一个国家所有个人或家庭的准确财富数据太难了。\n",
    "\n",
    "所以让我们假设我们获得了一个样本 $w_1, w_2, \\cdots, w_n$，告知我们随机选择的 $n$ 个个人的财富。\n",
    "\n",
    "在我们的练习中，我们将使用2016年美国财富数据中的 $n = 10,000$ 个观测样本。"
   ]
  },
  {
   "cell_type": "code",
   "execution_count": 2,
   "id": "bc8a4b59",
   "metadata": {},
   "outputs": [],
   "source": [
    "n = 10_000"
   ]
  },
  {
   "cell_type": "markdown",
   "id": "02b365b6",
   "metadata": {},
   "source": [
    "数据来源于[消费者财务调查](https://en.wikipedia.org/wiki/Survey_of_Consumer_Finances) (SCF)。\n",
    "\n",
    "以下代码导入此数据并将其读取到名为 `sample` 的数组中。"
   ]
  },
  {
   "cell_type": "code",
   "execution_count": 3,
   "id": "41c2378d",
   "metadata": {
    "tags": [
     "hide-input"
    ]
   },
   "outputs": [],
   "source": [
    "url = 'https://media.githubusercontent.com/media/QuantEcon/high_dim_data/update_scf_noweights/SCF_plus/SCF_plus_mini_no_weights.csv'\n",
    "df = pd.read_csv(url)\n",
    "df = df.dropna()\n",
    "df = df[df['year'] == 2016]\n",
    "df = df.loc[df['n_wealth'] > 1 ]   #限制数据为净值 > 1\n",
    "rv = df['n_wealth'].sample(n=n, random_state=1234)\n",
    "rv = rv.to_numpy() / 100_000\n",
    "sample = rv"
   ]
  },
  {
   "cell_type": "markdown",
   "id": "cb6b73ed",
   "metadata": {},
   "source": [
    "# 用于样本直方图的配置\n",
    "\n",
    "\n",
    "让我们绘制这个样本的直方图。"
   ]
  },
  {
   "cell_type": "code",
   "execution_count": 4,
   "id": "60735de2",
   "metadata": {},
   "outputs": [
    {
     "name": "stderr",
     "output_type": "stream",
     "text": [
      "/home/humphrey/anaconda3/envs/quantecon/lib/python3.10/site-packages/IPython/core/pylabtools.py:152: UserWarning: Glyph 20928 (\\N{CJK UNIFIED IDEOGRAPH-51C0}) missing from current font.\n",
      "  fig.canvas.print_figure(bytes_io, **kw)\n",
      "/home/humphrey/anaconda3/envs/quantecon/lib/python3.10/site-packages/IPython/core/pylabtools.py:152: UserWarning: Glyph 36130 (\\N{CJK UNIFIED IDEOGRAPH-8D22}) missing from current font.\n",
      "  fig.canvas.print_figure(bytes_io, **kw)\n",
      "/home/humphrey/anaconda3/envs/quantecon/lib/python3.10/site-packages/IPython/core/pylabtools.py:152: UserWarning: Glyph 23500 (\\N{CJK UNIFIED IDEOGRAPH-5BCC}) missing from current font.\n",
      "  fig.canvas.print_figure(bytes_io, **kw)\n",
      "/home/humphrey/anaconda3/envs/quantecon/lib/python3.10/site-packages/IPython/core/pylabtools.py:152: UserWarning: Glyph 27010 (\\N{CJK UNIFIED IDEOGRAPH-6982}) missing from current font.\n",
      "  fig.canvas.print_figure(bytes_io, **kw)\n",
      "/home/humphrey/anaconda3/envs/quantecon/lib/python3.10/site-packages/IPython/core/pylabtools.py:152: UserWarning: Glyph 29575 (\\N{CJK UNIFIED IDEOGRAPH-7387}) missing from current font.\n",
      "  fig.canvas.print_figure(bytes_io, **kw)\n",
      "Font 'default' does not have a glyph for '\\u5355' [U+5355], substituting with a dummy symbol.\n"
     ]
    },
    {
     "name": "stderr",
     "output_type": "stream",
     "text": [
      "Font 'default' does not have a glyph for '\\u4f4d' [U+4f4d], substituting with a dummy symbol.\n"
     ]
    },
    {
     "name": "stderr",
     "output_type": "stream",
     "text": [
      "Font 'default' does not have a glyph for '\\u5355' [U+5355], substituting with a dummy symbol.\n"
     ]
    },
    {
     "name": "stderr",
     "output_type": "stream",
     "text": [
      "Font 'default' does not have a glyph for '\\u4f4d' [U+4f4d], substituting with a dummy symbol.\n"
     ]
    },
    {
     "data": {
      "image/png": "[encoded data removed]",
      "text/plain": [
       "<Figure size 640x480 with 1 Axes>"
      ]
     },
     "metadata": {},
     "output_type": "display_data"
    }
   ],
   "source": [
    "import matplotlib.pyplot as plt\n",
    "import numpy as np\n",
    "\n",
    "fig, ax = plt.subplots()\n",
    "ax.set_xlim(-1, 20)\n",
    "density, edges = np.histogram(sample, bins=5000, density=True)\n",
    "prob = density * np.diff(edges)\n",
    "plt.stairs(prob, edges, fill=True, alpha=0.8, label=r\"单位: $\\$100,000$\")\n",
    "plt.ylabel(\"概率\")\n",
    "plt.xlabel(\"净财富\")\n",
    "plt.legend()\n",
    "plt.show()"
   ]
  },
  {
   "cell_type": "markdown",
   "id": "7d18bc48",
   "metadata": {},
   "source": [
    "直方图显示许多人拥有非常低的财富，而少数人拥有非常高的财富。\n",
    "\n",
    "我们将把全部人口规模设为"
   ]
  },
  {
   "cell_type": "code",
   "execution_count": 5,
   "id": "ca850c18",
   "metadata": {},
   "outputs": [],
   "source": [
    "N = 100_000_000"
   ]
  },
  {
   "cell_type": "markdown",
   "id": "9575c9c9",
   "metadata": {},
   "source": [
    "我们如何使用样本数据估计全体人口的总收入呢？\n",
    "\n",
    "我们的计划是假设每个人的财富都是从一个密度为 $f$ 的分布中抽取的。\n",
    "\n",
    "如果我们获得了 $f$ 的估计值，就可以近似如下：\n",
    "\n",
    "$$\n",
    "    T = \\sum_{i=1}^{N} h(w_i) \n",
    "      = N \\frac{1}{N} \\sum_{i=1}^{N} h(w_i) \n",
    "      \\approx N \\int_{0}^{\\infty} h(w)f(w) dw\n",
    "$$ (eq:est_rev)\n",
    "\n",
    "(根据大数法则，样本均值应该接近总体均值。)\n",
    "\n",
    "现在的问题是：我们如何估计 $f$？\n",
    "\n",
    "\n",
    "## 最大似然估计\n",
    "\n",
    "[最大似然估计](https://en.wikipedia.org/wiki/Maximum_likelihood_estimation) \n",
    "是一种估计未知分布的方法。\n",
    "\n",
    "最大似然估计包括两个步骤：\n",
    "\n",
    "1. 猜测基础的分布是什么（例如，均值为 $\\mu$ 和\n",
    "   标准差为 $\\sigma$ 的正态分布）。\n",
    "2. 估计参数值（例如，估计正态分布的 $\\mu$ 和 $\\sigma$）\n",
    "\n",
    "对财富的一个可能假设是每个\n",
    "$w_i$ 是[对数正态分布](https://en.wikipedia.org/wiki/Log-normal_distribution)，\n",
    "参数为 $\\mu \\in (-\\infty,\\infty)$ 和 $\\sigma \\in (0,\\infty)$。\n",
    "\n",
    "（这意味着 $\\ln w_i$ 是均值为 $\\mu$ 和标准差为 $\\sigma$ 的正态分布。）\n",
    "\n",
    "您可以看到这个假设并非完全没有道理，因为如果我们绘制对数财富而不是财富的直方图，图形开始看起来像正态分布的钟形曲线。"
   ]
  },
  {
   "cell_type": "code",
   "execution_count": 6,
   "id": "cca9c36b",
   "metadata": {},
   "outputs": [
    {
     "data": {
      "image/png": "[encoded data removed]",
      "text/plain": [
       "<Figure size 640x480 with 1 Axes>"
      ]
     },
     "metadata": {},
     "output_type": "display_data"
    }
   ],
   "source": [
    "ln_sample = np.log(sample)\n",
    "fig, ax = plt.subplots()\n",
    "ax.hist(ln_sample, density=True, bins=200, histtype='stepfilled', alpha=0.8)\n",
    "plt.show()"
   ]
  },
  {
   "cell_type": "markdown",
   "id": "f632d65d",
   "metadata": {},
   "source": [
    "现在我们的任务是求出 $\\mu$ 和 $\\sigma$ 的最大似然估计值，我们记作 $\\hat{\\mu}$ 和 $\\hat{\\sigma}$。\n",
    "\n",
    "这些估计值可以通过最大化给定数据的似然函数找到。\n",
    "\n",
    "对数正态分布的随机变量 $X$ 的概率密度函数 (pdf) 为：\n",
    "\n",
    "$$\n",
    "    f(x, \\mu, \\sigma) \n",
    "    = \\frac{1}{x}\\frac{1}{\\sigma \\sqrt{2\\pi}} \n",
    "    \\exp\\left(\\frac{-1}{2}\\left(\\frac{\\ln x-\\mu}{\\sigma}\\right)\\right)^2\n",
    "$$\n",
    "\n",
    "对于我们的样本 $w_1, w_2, \\cdots, w_n$，[似然函数](https://en.wikipedia.org/wiki/Likelihood_function) 给出为\n",
    "\n",
    "$$\n",
    "    L(\\mu, \\sigma | w_i) = \\prod_{i=1}^{n} f(w_i, \\mu, \\sigma)\n",
    "$$\n",
    "\n",
    "似然函数可以视为\n",
    "\n",
    "* 样本的联合分布（假设是独立同分布的）和\n",
    "* 给定数据的参数 $(\\mu, \\sigma)$ 的“似然”。\n",
    "\n",
    "对两边取对数得到对数似然函数，即为\n",
    "\n",
    "$$\n",
    "\\begin{aligned}\n",
    "    \\ell(\\mu, \\sigma | w_i) \n",
    "    & = \\ln \\left[ \\prod_{i=1}^{n} f(w_i, \\mu, \\sigma) \\right] \\\\\n",
    "    & = -\\sum_{i=1}^{n} \\ln w_i \n",
    "        - \\frac{n}{2} \\ln(2\\pi) - \\frac{n}{2} \\ln \\sigma^2 - \\frac{1}{2\\sigma^2}\n",
    "            \\sum_{i=1}^n (\\ln w_i - \\mu)^2\n",
    "\\end{aligned}\n",
    "$$\n",
    "\n",
    "为了找到这个函数的最大值，我们求它对 $\\mu$ 和 $\\sigma ^2$ 的偏导数并将其设为零。\n",
    "\n",
    "我们首先求 $\\mu$ 的最大似然估计 (MLE)\n",
    "\n",
    "$$\n",
    "\\frac{\\delta \\ell}{\\delta \\mu} \n",
    "    = - \\frac{1}{2\\sigma^2} \\times 2 \\sum_{i=1}^n (\\ln w_i - \\mu) = 0 \\\\\n",
    "\\implies \\sum_{i=1}^n \\ln w_i - n \\mu = 0 \\\\\n",
    "\\implies \\hat{\\mu} = \\frac{\\sum_{i=1}^n \\ln w_i}{n}\n",
    "$$\n",
    "\n",
    "现在我们求 $\\sigma$ 的 MLE\n",
    "\n",
    "$$\n",
    "\\frac{\\delta \\ell}{\\delta \\sigma^2} \n",
    "    = - \\frac{n}{2\\sigma^2} + \\frac{1}{2\\sigma^4} \n",
    "    \\sum_{i=1}^n (\\ln w_i - \\mu)^2 = 0 \\\\\n",
    "    \\implies \\frac{n}{2\\sigma^2} = \n",
    "    \\frac{1}{2\\sigma^4} \\sum_{i=1}^n (\\ln w_i - \\mu)^2 \\\\\n",
    "    \\implies \\hat{\\sigma} =  \\left( \\frac{\\sum_{i=1}^{n}(\\ln w_i - \\hat{\\mu})^2}{n} \\right)^{1/2}\n",
    "$$\n",
    "\n",
    "现在我们已经推导出了 $\\hat{\\mu}$ 和 $\\hat{\\sigma}$ 的表达式，让我们计算我们的财富样本。"
   ]
  },
  {
   "cell_type": "code",
   "execution_count": 7,
   "id": "77b69202",
   "metadata": {},
   "outputs": [
    {
     "data": {
      "text/plain": [
       "0.0634375526654064"
      ]
     },
     "execution_count": 7,
     "metadata": {},
     "output_type": "execute_result"
    }
   ],
   "source": [
    "μ_hat = np.mean(ln_sample)\n",
    "μ_hat"
   ]
  },
  {
   "cell_type": "code",
   "execution_count": 8,
   "id": "324bc7cd",
   "metadata": {},
   "outputs": [
    {
     "data": {
      "text/plain": [
       "2.1507346258433424"
      ]
     },
     "execution_count": 8,
     "metadata": {},
     "output_type": "execute_result"
    }
   ],
   "source": [
    "num = (ln_sample - μ_hat)**2\n",
    "σ_hat = (np.mean(num))**(1/2)\n",
    "σ_hat"
   ]
  },
  {
   "cell_type": "markdown",
   "id": "8fbb2516",
   "metadata": {},
   "source": [
    "让我们使用估计的参数绘制对数正态 pdf 和我们的样本数据。"
   ]
  },
  {
   "cell_type": "code",
   "execution_count": 9,
   "id": "b984f708",
   "metadata": {},
   "outputs": [
    {
     "name": "stderr",
     "output_type": "stream",
     "text": [
      "/home/humphrey/anaconda3/envs/quantecon/lib/python3.10/site-packages/IPython/core/pylabtools.py:152: UserWarning: Glyph 23545 (\\N{CJK UNIFIED IDEOGRAPH-5BF9}) missing from current font.\n",
      "  fig.canvas.print_figure(bytes_io, **kw)\n",
      "/home/humphrey/anaconda3/envs/quantecon/lib/python3.10/site-packages/IPython/core/pylabtools.py:152: UserWarning: Glyph 25968 (\\N{CJK UNIFIED IDEOGRAPH-6570}) missing from current font.\n",
      "  fig.canvas.print_figure(bytes_io, **kw)\n",
      "/home/humphrey/anaconda3/envs/quantecon/lib/python3.10/site-packages/IPython/core/pylabtools.py:152: UserWarning: Glyph 27491 (\\N{CJK UNIFIED IDEOGRAPH-6B63}) missing from current font.\n",
      "  fig.canvas.print_figure(bytes_io, **kw)\n",
      "/home/humphrey/anaconda3/envs/quantecon/lib/python3.10/site-packages/IPython/core/pylabtools.py:152: UserWarning: Glyph 24577 (\\N{CJK UNIFIED IDEOGRAPH-6001}) missing from current font.\n",
      "  fig.canvas.print_figure(bytes_io, **kw)\n"
     ]
    },
    {
     "data": {
      "image/png": "[encoded data removed]",
      "text/plain": [
       "<Figure size 640x480 with 1 Axes>"
      ]
     },
     "metadata": {},
     "output_type": "display_data"
    }
   ],
   "source": [
    "dist_lognorm = lognorm(σ_hat, scale = exp(μ_hat))\n",
    "x = np.linspace(0,50,10000)\n",
    "\n",
    "fig, ax = plt.subplots()\n",
    "ax.set_xlim(-1,20)\n",
    "\n",
    "ax.hist(sample, density=True, bins=5_000, histtype='stepfilled', alpha=0.5)\n",
    "ax.plot(x, dist_lognorm.pdf(x), 'k-', lw=0.5, label='对数正态 pdf')\n",
    "ax.legend()\n",
    "plt.show()"
   ]
  },
  {
   "cell_type": "markdown",
   "id": "58d89f59",
   "metadata": {},
   "source": [
    "# Pareto 分布\n",
    "\n",
    "另一种假设基础分布是 [Pareto 分布](https://en.wikipedia.org/wiki/Pareto_distribution)。\n",
    "\n",
    "这是另一种常用于描述财富分布的分布。\n",
    "\n",
    "在肌肉的尺寸、城市的大小、公司收入以及收入和财富中，“Pareto 分布”起着至关重要的作用。\n",
    "\n",
    "假设 $X$ 是一个 Pareto 分布的随机变量，其 pdf 为\n",
    "\n",
    "$$\n",
    "    f(x, \\gamma, x_m) = \\gamma \\frac{x_m^\\gamma}{x^{\\gamma+1}}\n",
    "    1_{x \\geq x_m}\n",
    "$$\n",
    "\n",
    "其中 $\\gamma$ 和 $x_m$ 是正参数。\n",
    "\n",
    "对于一个样本 $w_1, w_2, \\cdots, w_n$，称为 `sample`，其似然函数为\n",
    "\n",
    "$$\n",
    "    L(\\gamma, x_m) \n",
    "    = \\prod_{i=1}^{n} \n",
    "    \\gamma \\frac{x_m^\\gamma}{w_i^{\\gamma+1}} 1_{w_i \\geq x_m}\n",
    "$$\n",
    "\n",
    "然后对数似然为\n",
    "\n",
    "$$\n",
    "\\ell(\\gamma, x_m | w_i)\n",
    "= \\sum_{i=1}^n \\ln \\left[ \\gamma \\frac{x_m^\\gamma}{w_i^{\\gamma+1}} 1_{w_i \\geq x_m}\\right]\n",
    "= n \\ln \\gamma + n\\gamma\\ln x_m \n",
    "    - (\\gamma+1) \\sum_{i=1}^{n} \\ln w_i \n",
    "$$\n",
    "\n",
    "为了避免不可行解，我们可以将 $x_m$ 设定为观测到的 $w_i$s 的最小值。"
   ]
  },
  {
   "cell_type": "code",
   "execution_count": 10,
   "id": "b94c8c3b",
   "metadata": {},
   "outputs": [
    {
     "data": {
      "text/plain": [
       "(0.10783091940803055, 0.0001)"
      ]
     },
     "execution_count": 10,
     "metadata": {},
     "output_type": "execute_result"
    }
   ],
   "source": [
    "x_m = min(sample)\n",
    "γ_hat = len(sample) / np.sum(np.log(sample / x_m))\n",
    "γ_hat, x_m"
   ]
  },
  {
   "cell_type": "markdown",
   "id": "50efada6",
   "metadata": {},
   "source": [
    "我们使用估计参数绘制 Pareto pdf 和我们的样本数据。"
   ]
  },
  {
   "cell_type": "code",
   "execution_count": 11,
   "id": "92a2b9e1",
   "metadata": {},
   "outputs": [
    {
     "data": {
      "image/png": "[encoded data removed]",
      "text/plain": [
       "<Figure size 640x480 with 1 Axes>"
      ]
     },
     "metadata": {},
     "output_type": "display_data"
    }
   ],
   "source": [
    "dist_pareto = pareto(γ_hat, scale = x_m)\n",
    "fig, ax = plt.subplots()\n",
    "ax.set_xlim(-1,20)\n",
    "\n",
    "ax.hist(sample, density=True, bins=5000, histtype='stepfilled', alpha=0.5)\n",
    "ax.plot(x, dist_pareto.pdf(x), 'k-', lw=0.5, label='Pareto pdf')\n",
    "ax.legend()\n",
    "plt.show()"
   ]
  },
  {
   "cell_type": "markdown",
   "id": "0e7b20fa",
   "metadata": {},
   "source": [
    "## 总税收计算\n",
    "\n",
    "为了近似 $N$ 人的总税收 $T$（参见 {eq}`est_rev`），我们将使用 Monte Carlo 模拟。\n",
    "\n",
    "我们从拟合的 Pareto 分布中生成 $w_1, \\cdots, w_N$ 的样本，并计算 $\\sum_{i=1}^{N}h(w_i)$。"
   ]
  },
  {
   "cell_type": "code",
   "execution_count": 12,
   "id": "3ca5ee19",
   "metadata": {},
   "outputs": [
    {
     "ename": "NameError",
     "evalue": "name 'h' is not defined",
     "output_type": "error",
     "traceback": [
      "\u001b[0;31m---------------------------------------------------------------------------\u001b[0m",
      "\u001b[0;31mNameError\u001b[0m                                 Traceback (most recent call last)",
      "Cell \u001b[0;32mIn[12], line 2\u001b[0m\n\u001b[1;32m      1\u001b[0m draws \u001b[38;5;241m=\u001b[39m dist_pareto\u001b[38;5;241m.\u001b[39mrvs(N, random_state\u001b[38;5;241m=\u001b[39m\u001b[38;5;241m0\u001b[39m)\n\u001b[0;32m----> 2\u001b[0m tax \u001b[38;5;241m=\u001b[39m np\u001b[38;5;241m.\u001b[39mvectorize(\u001b[43mh\u001b[49m)(draws, a\u001b[38;5;241m=\u001b[39m\u001b[38;5;241m0.05\u001b[39m, b\u001b[38;5;241m=\u001b[39m\u001b[38;5;241m0.1\u001b[39m, w_bar\u001b[38;5;241m=\u001b[39m\u001b[38;5;241m2.5\u001b[39m)\n\u001b[1;32m      3\u001b[0m T_hat \u001b[38;5;241m=\u001b[39m np\u001b[38;5;241m.\u001b[39msum(tax)\n\u001b[1;32m      4\u001b[0m T_hat\n",
      "\u001b[0;31mNameError\u001b[0m: name 'h' is not defined"
     ]
    }
   ],
   "source": [
    "draws = dist_pareto.rvs(N, random_state=0)\n",
    "tax = np.vectorize(h)(draws, a=0.05, b=0.1, w_bar=2.5)\n",
    "T_hat = np.sum(tax)\n",
    "T_hat"
   ]
  },
  {
   "cell_type": "markdown",
   "id": "e45fe89f",
   "metadata": {},
   "source": [
    "再做一次，从对数正态分布中绘制样本。"
   ]
  },
  {
   "cell_type": "code",
   "execution_count": null,
   "id": "61b62d4e",
   "metadata": {},
   "outputs": [],
   "source": [
    "draws_log = dist_lognorm.rvs(N, random_state=0)\n",
    "tax_log = np.vectorize(h)(draws_log, a=0.05, b=0.1, w_bar=2.5)\n",
    "T_hat_log = np.sum(tax_log)\n",
    "T_hat_log"
   ]
  },
  {
   "cell_type": "markdown",
   "id": "2acbf998",
   "metadata": {},
   "source": [
    "在我们的例子中，似乎估计通过财富税筹集的收入的蒙特卡罗结果是可行的。\n",
    "\n",
    "当然，这在很大程度上取决于我们对财富分布的假设。\n",
    "\n",
    "为了增加可信度，我们应该仔细研究每个分布的良好拟合度。\n",
    "\n",
    "## 练习\n",
    "\n",
    "1. 使用 lognorm 替换 scipy.stats 中的 Pareto 并重新计算总收入。\n",
    "2. 探索在估计总收入时不同的刻度和参数。\n",
    "\n",
    "\n",
    "# 比较\n",
    "\n",
    "第一个估计是基于拟合的 Pareto 分布，而第二个估计是基于对数正态分布。\n",
    "\n",
    "这两个数量都表现为占 GDP 的百分比。"
   ]
  },
  {
   "cell_type": "code",
   "execution_count": null,
   "id": "b79be5d4",
   "metadata": {},
   "outputs": [],
   "source": [
    "tr_pareto = f\"Pareto 分布产生的总税收/GDP 比率： {TR_GDP_ratio_pareto:.4f}\"\n",
    "tr_lognorm = f\"对数正态分布产生的总税收/GDP 比率： {TR_GDP_ratio_log:.4f}\"\n",
    "(tr_pareto, tr_lognorm)"
   ]
  },
  {
   "cell_type": "markdown",
   "id": "b9ab7245",
   "metadata": {},
   "source": [
    "数量非常不同！"
   ]
  },
  {
   "cell_type": "code",
   "execution_count": null,
   "id": "2242c44a",
   "metadata": {},
   "outputs": [],
   "source": [
    "tr_pareto / tr_lognorm"
   ]
  },
  {
   "cell_type": "markdown",
   "id": "7c371a66",
   "metadata": {},
   "source": [
    "由此，我们看到选择合适的分布是极其重要的。\n",
    "\n",
    "让我们将拟合的 Pareto 分布与直方图进行比较："
   ]
  },
  {
   "cell_type": "code",
   "execution_count": null,
   "id": "d0fa12e4",
   "metadata": {},
   "outputs": [],
   "source": [
    "fig, ax = plt.subplots()\n",
    "ax.set_xlim(-1, 20)\n",
    "ax.set_ylim(0,1.75)\n",
    "\n",
    "ax.hist(sample, density=True, bins=5_000, histtype='stepfilled', alpha=0.5)\n",
    "ax.plot(x, dist_pareto.pdf(x), 'k-', lw=0.5, label='Pareto pdf')\n",
    "ax.legend()\n",
    "\n",
    "plt.show()"
   ]
  },
  {
   "cell_type": "markdown",
   "id": "460f4ff2",
   "metadata": {},
   "source": [
    "我们观察到，在这种情况下，对于 Paret o分布的拟合并不是很好的，因此我们可能可以拒绝它。\n",
    "\n",
    "## 最佳分布是什么？\n",
    "\n",
    "没有“最佳”分布——我们做出的每个选择都是一个假设。\n",
    "\n",
    "我们能做的只是尝试选择一个与数据吻合良好的分布。\n",
    "\n",
    "上面的图表表明对数正态分布是最优的。\n",
    "\n",
    "但是，当我们检查上尾（最富有的人）时，Pareto 分布可能更适合。\n",
    "\n",
    "要看到这一点，我们现在在数据集中设置一个最低净资产阈值。\n",
    "\n",
    "我们设定一个任意的 $500,000 阈值，并将数据读入 `sample_tail`。"
   ]
  },
  {
   "cell_type": "code",
   "execution_count": null,
   "id": "ccb522a2",
   "metadata": {
    "tags": [
     "hide-input"
    ]
   },
   "outputs": [],
   "source": [
    "df_tail = df.loc[df['n_wealth'] > 500_000 ]\n",
    "df_tail.head()\n",
    "rv_tail = df_tail['n_wealth'].sample(n=10_000, random_state=4321)\n",
    "rv_tail = rv_tail.to_numpy()\n",
    "sample_tail = rv_tail/500_000"
   ]
  },
  {
   "cell_type": "markdown",
   "id": "3e5e45ff",
   "metadata": {},
   "source": [
    "注意我们对刻度的改变。它会影响我们最终的输入。\n",
    "\n",
    "让我们绘制这些数据。"
   ]
  },
  {
   "cell_type": "code",
   "execution_count": null,
   "id": "af70ec85",
   "metadata": {},
   "outputs": [],
   "source": [
    "fig, ax = plt.subplots()\n",
    "ax.set_xlim(0,50)\n",
    "ax.hist(sample_tail, density=True, bins=500, histtype='stepfilled', alpha=0.8)\n",
    "plt.show()"
   ]
  },
  {
   "cell_type": "markdown",
   "id": "a867f363",
   "metadata": {},
   "source": [
    "### 右尾的对数正态分布\n",
    "\n",
    "让我们从对数正态分布开始。\n",
    "\n",
    "我们再次估计参数并将密度绘制到我们的数据上。"
   ]
  },
  {
   "cell_type": "code",
   "execution_count": null,
   "id": "ffcfd860",
   "metadata": {},
   "outputs": [],
   "source": [
    "ln_sample_tail = np.log(sample_tail)\n",
    "μ_hat_tail = np.mean(ln_sample_tail)\n",
    "num_tail = (ln_sample_tail - μ_hat_tail)**2\n",
    "σ_hat_tail = (np.mean(num_tail))**(1/2)\n",
    "dist_lognorm_tail = lognorm(σ_hat_tail, scale = exp(μ_hat_tail))\n",
    "\n",
    "fig, ax = plt.subplots()\n",
    "ax.set_xlim(0,50)\n",
    "ax.hist(sample_tail, density=True, bins=500, histtype='stepfilled', alpha=0.5)\n",
    "ax.plot(x, dist_lognorm_tail.pdf(x), 'k-', lw=0.5, label='对数正态 pdf')\n",
    "ax.legend()\n",
    "plt.show()"
   ]
  },
  {
   "cell_type": "markdown",
   "id": "d1a951a6",
   "metadata": {},
   "source": [
    "虽然对数正态分布适合整个数据集，但它并不适合右尾。\n",
    "\n",
    "### 右尾的 Pareto 分布\n",
    "\n",
    "现在让我们假设截尾数据集符合 Pareto 分布。\n",
    "\n",
    "我们再次估计参数并将密度绘制到我们的数据上。"
   ]
  },
  {
   "cell_type": "code",
   "execution_count": null,
   "id": "a0e50d93",
   "metadata": {},
   "outputs": [],
   "source": [
    "xm_hat_tail = min(sample_tail)\n",
    "den_tail = np.log(sample_tail/xm_hat_tail)\n",
    "b_hat_tail = 1/np.mean(den_tail)\n",
    "dist_pareto_tail = pareto(b = b_hat_tail, scale = xm_hat_tail)\n",
    "\n",
    "fig, ax = plt.subplots()\n",
    "ax.set_xlim(0, 50)\n",
    "ax.set_ylim(0,0.65)\n",
    "ax.hist(sample_tail, density=True, bins= 500, histtype='stepfilled', alpha=0.5)\n",
    "ax.plot(x, dist_pareto_tail.pdf(x), 'k-', lw=0.5, label='Pareto pdf')\n",
    "plt.show()"
   ]
  },
  {
   "cell_type": "markdown",
   "id": "2114fc86",
   "metadata": {},
   "source": [
    "Pareto 分布更适合我们数据的右尾。\n",
    "\n",
    "### 所以最佳分布是什么？\n",
    "\n",
    "正如我们上面所说，没有“最佳”分布——每个选择都是一个假设。\n",
    "\n",
    "我们只需测试我们认为合理的分布。\n",
    "\n",
    "一种测试方法是绘制数据与拟合分布的对比，就像我们做的那样。\n",
    "\n",
    "还有其他更严格的测试，例如 [Kolmogorov-Smirnov 检验](https://en.wikipedia.org/wiki/Kolmogorov%E2%80%93Smirnov_test)。\n",
    "\n",
    "我们省略了这些高级主题（但鼓励读者在完成这些讲座后进行研究）。\n",
    "\n",
    "## 练习\n",
    "\n",
    "```{exercise-start}\n",
    ":label: mle_ex1\n",
    "```\n",
    "假设我们假设财富呈 [指数分布](https://en.wikipedia.org/wiki/Exponential_distribution)，参数为 $\\lambda > 0$。\n",
    "\n",
    "$\\lambda$ 的最大似然估计值为\n",
    "\n",
    "$$\n",
    "\\hat{\\lambda} = \\frac{n}{\\sum_{i=1}^n w_i}\n",
    "$$\n",
    "\n",
    "1. 计算我们最初样本的 $\\hat{\\lambda}$。\n",
    "2. 使用 $\\hat{\\lambda}$ 计算总税收\n",
    "\n",
    "```{exercise-end}\n",
    "```\n",
    "\n",
    "```{solution-start} mle_ex1\n",
    ":class: dropdown\n",
    "```"
   ]
  },
  {
   "cell_type": "code",
   "execution_count": null,
   "id": "4c5cb26c",
   "metadata": {},
   "outputs": [],
   "source": [
    "λ_hat = 1/np.mean(sample)\n",
    "λ_hat"
   ]
  },
  {
   "cell_type": "code",
   "execution_count": null,
   "id": "c205483f",
   "metadata": {},
   "outputs": [],
   "source": [
    "dist_exp = expon(scale = 1/λ_hat)\n",
    "tr_expo = total_revenue(dist_exp) \n",
    "tr_expo"
   ]
  },
  {
   "cell_type": "markdown",
   "id": "d0a002b9",
   "metadata": {},
   "source": [
    "```{solution-end}\n",
    "```\n",
    "\n",
    "```{exercise-start}\n",
    ":label: mle_ex2\n",
    "```\n",
    "\n",
    "将指数分布绘制在样本上，并检查其是否适合。\n",
    "\n",
    "```{exercise-end}\n",
    "```\n",
    "\n",
    "```{solution-start} mle_ex2\n",
    ":class: dropdown\n",
    "```"
   ]
  },
  {
   "cell_type": "code",
   "execution_count": null,
   "id": "8fa052eb",
   "metadata": {},
   "outputs": [],
   "source": [
    "fig, ax = plt.subplots()\n",
    "ax.set_xlim(-1, 20)\n",
    "\n",
    "ax.hist(sample, density=True, bins=5000, histtype='stepfilled', alpha=0.5)\n",
    "ax.plot(x, dist_exp.pdf(x), 'k-', lw=0.5, label='指数 pdf')\n",
    "ax.legend()\n",
    "\n",
    "plt.show()"
   ]
  },
  {
   "cell_type": "markdown",
   "id": "5e936dd7",
   "metadata": {},
   "source": [
    "显然，这种分布并不适合我们的数据。\n",
    "\n",
    "```{solution-end}\n",
    "```"
   ]
  }
 ],
 "metadata": {
  "jupytext": {
   "text_representation": {
    "extension": ".md",
    "format_name": "myst",
    "format_version": 0.13,
    "jupytext_version": "1.15.2"
   }
  },
  "kernelspec": {
   "display_name": "Python 3 (ipykernel)",
   "language": "python",
   "name": "python3"
  },
  "language_info": {
   "codemirror_mode": {
    "name": "ipython",
    "version": 3
   },
   "file_extension": ".py",
   "mimetype": "text/x-python",
   "name": "python",
   "nbconvert_exporter": "python",
   "pygments_lexer": "ipython3",
   "version": "3.10.12"
  },
  "source_map": [
   12,
   16,
   23,
   44,
   46,
   52,
   63,
   70,
   83,
   89,
   91,
   129,
   134,
   195,
   200,
   204,
   208,
   219,
   257,
   261,
   265,
   274,
   282,
   287,
   291,
   296,
   316,
   320,
   324,
   326,
   332,
   342,
   360,
   368,
   374,
   379,
   387,
   400,
   410,
   422,
   461,
   466,
   470,
   488,
   497
  ]
 },
 "nbformat": 4,
 "nbformat_minor": 5
}