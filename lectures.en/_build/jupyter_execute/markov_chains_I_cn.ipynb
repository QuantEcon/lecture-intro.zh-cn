{
 "cells": [
  {
   "cell_type": "markdown",
   "id": "0ddae473",
   "metadata": {},
   "source": [
    "# 马尔科夫链：基本概念\n",
    "\n",
    "```{index} single: 马尔科夫链：基本概念和稳定性\n",
    "```\n",
    "\n",
    "除了 Anaconda 中已有的库外，本讲座还需要以下库："
   ]
  },
  {
   "cell_type": "code",
   "execution_count": 1,
   "id": "12f22a76",
   "metadata": {
    "tags": [
     "hide-output"
    ]
   },
   "outputs": [
    {
     "name": "stdout",
     "output_type": "stream",
     "text": [
      "Requirement already satisfied: quantecon in /home/humphrey/anaconda3/envs/quantecon/lib/python3.10/site-packages (0.7.2)\r\n",
      "Requirement already satisfied: numba>=0.49.0 in /home/humphrey/anaconda3/envs/quantecon/lib/python3.10/site-packages (from quantecon) (0.60.0)\r\n",
      "Requirement already satisfied: numpy>=1.17.0 in /home/humphrey/anaconda3/envs/quantecon/lib/python3.10/site-packages (from quantecon) (1.24.3)\r\n",
      "Requirement already satisfied: requests in /home/humphrey/anaconda3/envs/quantecon/lib/python3.10/site-packages (from quantecon) (2.31.0)\r\n",
      "Requirement already satisfied: scipy>=1.5.0 in /home/humphrey/anaconda3/envs/quantecon/lib/python3.10/site-packages (from quantecon) (1.10.1)\r\n",
      "Requirement already satisfied: sympy in /home/humphrey/anaconda3/envs/quantecon/lib/python3.10/site-packages (from quantecon) (1.11.1)\r\n",
      "Requirement already satisfied: llvmlite<0.44,>=0.43.0dev0 in /home/humphrey/anaconda3/envs/quantecon/lib/python3.10/site-packages (from numba>=0.49.0->quantecon) (0.43.0)\r\n"
     ]
    },
    {
     "name": "stdout",
     "output_type": "stream",
     "text": [
      "Requirement already satisfied: charset-normalizer<4,>=2 in /home/humphrey/anaconda3/envs/quantecon/lib/python3.10/site-packages (from requests->quantecon) (2.0.4)\r\n",
      "Requirement already satisfied: idna<4,>=2.5 in /home/humphrey/anaconda3/envs/quantecon/lib/python3.10/site-packages (from requests->quantecon) (3.4)\r\n",
      "Requirement already satisfied: urllib3<3,>=1.21.1 in /home/humphrey/anaconda3/envs/quantecon/lib/python3.10/site-packages (from requests->quantecon) (1.26.16)\r\n",
      "Requirement already satisfied: certifi>=2017.4.17 in /home/humphrey/anaconda3/envs/quantecon/lib/python3.10/site-packages (from requests->quantecon) (2023.7.22)\r\n",
      "Requirement already satisfied: mpmath>=0.19 in /home/humphrey/anaconda3/envs/quantecon/lib/python3.10/site-packages (from sympy->quantecon) (1.3.0)\r\n"
     ]
    },
    {
     "name": "stdout",
     "output_type": "stream",
     "text": [
      "\r\n",
      "\u001b[1m[\u001b[0m\u001b[34;49mnotice\u001b[0m\u001b[1;39;49m]\u001b[0m\u001b[39;49m A new release of pip is available: \u001b[0m\u001b[31;49m24.0\u001b[0m\u001b[39;49m -> \u001b[0m\u001b[32;49m24.2\u001b[0m\r\n",
      "\u001b[1m[\u001b[0m\u001b[34;49mnotice\u001b[0m\u001b[1;39;49m]\u001b[0m\u001b[39;49m To update, run: \u001b[0m\u001b[32;49mpip install --upgrade pip\u001b[0m\r\n"
     ]
    }
   ],
   "source": [
    "!pip install quantecon"
   ]
  },
  {
   "cell_type": "markdown",
   "id": "47d84988",
   "metadata": {},
   "source": [
    "图像输入功能：启用\n",
    "\n",
    "## 概览\n",
    "\n",
    "马尔科夫链是一种标准方法，用于建模在时间序列中具有某些依赖关系的观察。\n",
    "\n",
    "例如，\n",
    "\n",
    "* 明年的通货膨胀取决于今年的通货膨胀\n",
    "* 下个月的失业率取决于这个月的失业率\n",
    "\n",
    "马尔科夫链是经济学和金融学中的常用模型之一。\n",
    "\n",
    "马尔科夫链的理论非常美妙，提供了许多关于概率和动态的见解。\n",
    "\n",
    "在这节介绍性讲座中，我们将\n",
    "\n",
    "* 回顾一些马尔科夫链理论的关键思想，\n",
    "* 展示马尔科夫链在一些经济应用中的出现。\n",
    "\n",
    "让我们从一些标准的导入开始："
   ]
  },
  {
   "cell_type": "code",
   "execution_count": 2,
   "id": "95ef5512",
   "metadata": {},
   "outputs": [],
   "source": [
    "import matplotlib.pyplot as plt\n",
    "import quantecon as qe\n",
    "import numpy as np\n",
    "import networkx as nx\n",
    "from matplotlib import cm\n",
    "import matplotlib as mpl"
   ]
  },
  {
   "cell_type": "markdown",
   "id": "1300db30",
   "metadata": {},
   "source": [
    "图像输入功能：启用\n",
    "\n",
    "## 定义和示例\n",
    "\n",
    "在本节中，我们提供基本定义和一些初级示例。\n",
    "\n",
    "(finite_dp_stoch_mat)=\n",
    "### 随机矩阵\n",
    "\n",
    "回顾一下，**概率质量函数**指的是$n$个可能结果中的一个非负$n$向量$p$，其总和为1。\n",
    "\n",
    "例如，$p = (0.2, 0.2, 0.6)$是一个关于3个结果的概率质量函数。\n",
    "\n",
    "**随机矩阵**（或**马尔科夫矩阵**）是一个$n \\times n$的方阵$P$，使得$P$的每一行都是n个结果的概率质量函数。\n",
    "\n",
    "换句话说，\n",
    "\n",
    "1. $P$的每一个元素都是非负的，并且\n",
    "1. $P$的每一行的总和为1。\n",
    "\n",
    "如果$P$是一个随机矩阵，那么对于所有$k \\in \\mathbb N$，$P$的$k$次方$P^k$也是一个随机矩阵。\n",
    "\n",
    "在下面的{ref}`第一组练习<mc1_ex_3>`中检查这一点。\n",
    "\n",
    "### 马尔科夫链\n",
    "\n",
    "现在我们可以介绍马尔科夫链了。\n",
    "\n",
    "首先我们会给出一些示例，然后我们会更仔细地定义它们。\n",
    "\n",
    "到那时，随机矩阵和马尔科夫链之间的连接就会变得清晰。\n",
    "\n",
    "(mc_eg2)=\n",
    "#### 示例 1\n",
    "\n",
    "从美国失业数据中，Hamilton {cite}`Hamilton2005` 估计了以下动态。\n",
    "\n",
    "```{image} /_static/lecture_specific/markov_chains_I/Hamilton.png\n",
    ":name: mc_hamilton\n",
    ":align: center\n",
    "```\n",
    "\n",
    "这里有三个**状态**\n",
    "\n",
    "* \"ng\" 代表正常增长\n",
    "* \"mr\" 代表轻度衰退\n",
    "* \"sr\" 代表严重衰退\n",
    "\n",
    "箭头表示一个月内的**转移概率**。\n",
    "\n",
    "例如，从轻度衰退到正常增长的箭头旁有 0.145。\n",
    "\n",
    "这告诉我们，根据过去的数据，从轻度衰退到正常增长的概率在一个月内是14.5%。\n",
    "\n",
    "从正常增长到正常增长的箭头告诉我们，从正常增长到正常增长（保持在同一状态）的概率是97%。\n",
    "\n",
    "注意这些是*条件*概率 --- 从一个状态转移到另一个状态（或保持在同一状态）的概率，条件是当前状态。\n",
    "\n",
    "为了使问题更易于数值处理中，让我们将状态转换为数字。\n",
    "\n",
    "特别地，我们约定\n",
    "\n",
    "* 状态0代表正常增长\n",
    "* 状态1代表轻度衰退\n",
    "* 状态2代表严重衰退\n",
    "\n",
    "令$X_t$记录时间$t$时的状态值。\n",
    "\n",
    "现在我们可以将“从轻度衰退到正常增长在一个月内的转移概率为14.5%”写作\n",
    "\n",
    "$$\n",
    "    \\mathbb P\\{X_{t+1} = 0 \\,|\\, X_t = 1\\} = 0.145\n",
    "$$\n",
    "\n",
    "我们可以将所有这些条件概率收集到一个矩阵中，如下所示\n",
    "\n",
    "$$\n",
    "P =\n",
    "\\begin{bmatrix}\n",
    "0.971 & 0.029 & 0 \\\\\n",
    "0.145 & 0.778 & 0.077 \\\\\n",
    "0 & 0.508 & 0.492\n",
    "\\end{bmatrix}\n",
    "$$\n",
    "\n",
    "注意$P$是一个随机矩阵。\n",
    "\n",
    "现在我们有了以下关系\n",
    "\n",
    "$$\n",
    "    P(i,j)\n",
    "    = \\mathbb P\\{X_{t+1} = j \\,|\\, X_t = i\\}\n",
    "$$\n",
    "\n",
    "这适用于所有的$i,j$在0到2之间。\n",
    "\n",
    "特别地，$P(i,j)$是从状态$i$转移到状态$j$在一个月内的概率。\n",
    "\n",
    "(mc_eg1)=\n",
    "#### 示例 2\n",
    "\n",
    "考虑一个工人，在任意给定时间 $t$，要么失业（状态 0）\n",
    "要么就业（状态 1）。\n",
    "\n",
    "假设在一个月期间，\n",
    "\n",
    "1. 失业的工人找到工作的概率为 $\\alpha \\in (0, 1)$。\n",
    "1. 就业的工人失去工作并成为失业者的概率为 $\\beta \\in (0, 1)$。\n",
    "\n",
    "根据上述信息，我们可以将转移概率写成矩阵形式\n",
    "\n",
    "```{math}\n",
    ":label: p_unempemp\n",
    "\n",
    "P =\n",
    "\\begin{bmatrix}\n",
    "    1 - \\alpha & \\alpha \\\\\n",
    "    \\beta & 1 - \\beta\n",
    "\\end{bmatrix}\n",
    "```\n",
    "\n",
    "例如，\n",
    "\n",
    "$$\n",
    "\\begin{aligned}\n",
    "    P(0,1)\n",
    "        & =\n",
    "        \\text{ 从状态 $0$ 转移到状态 $1$ 在一个月内的概率}\n",
    "        \\\\\n",
    "        & =\n",
    "        \\text{ 下个月找到工作的概率}\n",
    "        \\\\\n",
    "        & = \\alpha\n",
    "\\end{aligned}\n",
    "$$\n",
    "\n",
    "假设我们可以估计 $\\alpha$ 和 $\\beta$ 的值。\n",
    "\n",
    "那么我们可以解决一系列问题，例如\n",
    "\n",
    "* 平均失业时间是多久？\n",
    "* 从长远来看，工人失业的时间占比是多少？\n",
    "* 在就业的条件下，未来12个月内至少一次失业的概率是多少？\n",
    "\n",
    "我们将在下面介绍一些这些应用。\n",
    "\n",
    "(mc_eg3)=\n",
    "#### 示例 3\n",
    "\n",
    "Imam和Temple {cite}`imampolitical` 将政治制度分类为\n",
    "三类：民主 $\\text{(D)}$、专制 $\\text{(A)}$ 和一种中间状态称为无政府状态 $\\text{(N)}$。\n",
    "\n",
    "每个制度可以有两种潜在的发展方式：崩溃 $\\text{(C)}$ 和增长 $\\text{(G)}$。这导致了六种可能的状态：$\\text{DG, DC, NG, NC, AG}$ 和 $\\text{AC}$。\n",
    "\n",
    "Imam和Temple {cite}`imampolitical` 估计了以下转移\n",
    "概率：\n",
    "\n",
    "$$\n",
    "P :=\n",
    "\\begin{bmatrix}\n",
    "0.86 & 0.11 & 0.03 & 0.00 & 0.00 & 0.00 \\\\\n",
    "0.52 & 0.33 & 0.13 & 0.02 & 0.00 & 0.00 \\\\\n",
    "0.12 & 0.03 & 0.70 & 0.11 & 0.03 & 0.01 \\\\\n",
    "0.13 & 0.02 & 0.35 & 0.36 & 0.10 & 0.04 \\\\\n",
    "0.00 & 0.00 & 0.09 & 0.11 & 0.55 & 0.25 \\\\\n",
    "0.00 & 0.00 & 0.09 & 0.15 & 0.26 & 0.50\n",
    "\\end{bmatrix}\n",
    "$$"
   ]
  },
  {
   "cell_type": "code",
   "execution_count": 3,
   "id": "50d65fc1",
   "metadata": {},
   "outputs": [],
   "source": [
    "nodes = ['DG', 'DC', 'NG', 'NC', 'AG', 'AC']\n",
    "P = [[0.86, 0.11, 0.03, 0.00, 0.00, 0.00],\n",
    "     [0.52, 0.33, 0.13, 0.02, 0.00, 0.00],\n",
    "     [0.12, 0.03, 0.70, 0.11, 0.03, 0.01],\n",
    "     [0.13, 0.02, 0.35, 0.36, 0.10, 0.04],\n",
    "     [0.00, 0.00, 0.09, 0.11, 0.55, 0.25],\n",
    "     [0.00, 0.00, 0.09, 0.15, 0.26, 0.50]]"
   ]
  },
  {
   "cell_type": "markdown",
   "id": "ae5fe254",
   "metadata": {},
   "source": [
    "这些状态和转移概率可以用有向图（图论中的术语）表示为"
   ]
  },
  {
   "cell_type": "code",
   "execution_count": 4,
   "id": "63d600ee",
   "metadata": {
    "tags": [
     "hide-input"
    ]
   },
   "outputs": [
    {
     "data": {
      "image/png": "[encoded data removed]",
      "text/plain": [
       "<Figure size 640x480 with 2 Axes>"
      ]
     },
     "metadata": {},
     "output_type": "display_data"
    }
   ],
   "source": [
    "G = nx.MultiDiGraph()\n",
    "edge_ls = []\n",
    "label_dict = {}\n",
    "\n",
    "for start_idx, node_start in enumerate(nodes):\n",
    "    for end_idx, node_end in enumerate(nodes):\n",
    "        value = P[start_idx][end_idx]\n",
    "        if value != 0:\n",
    "            G.add_edge(node_start,node_end, weight=value, len=100)\n",
    "\n",
    "pos = nx.spring_layout(G, seed=10)\n",
    "fig, ax = plt.subplots()\n",
    "nx.draw_networkx_nodes(G, pos, node_size=600, edgecolors='black', node_color='white')\n",
    "nx.draw_networkx_labels(G, pos)\n",
    "\n",
    "arc_rad = 0.2\n",
    "curved_edges = [edge for edge in G.edges()]\n",
    "edges = nx.draw_networkx_edges(G, pos, ax=ax, connectionstyle=f'arc3, rad = {arc_rad}', edge_cmap=cm.Blues, width=2,\n",
    "    edge_color=[G[nodes[0]][nodes[1]][0]['weight'] for nodes in G.edges])\n",
    "\n",
    "pc = mpl.collections.PatchCollection(edges, cmap=cm.Blues)\n",
    "\n",
    "ax = plt.gca()\n",
    "ax.set_axis_off()\n",
    "plt.colorbar(pc, ax=ax)\n",
    "plt.show()"
   ]
  },
  {
   "cell_type": "markdown",
   "id": "466b18ae",
   "metadata": {},
   "source": [
    "其中较深的颜色表示较高的概率。\n",
    "\n",
    "### 经济洞察\n",
    "\n",
    "通过查看数据，我们发现民主政体的增长周期比独裁政体更持久（如独裁政体从增长到增长的转移概率较低所示）。\n",
    "\n",
    "我们还可以发现从崩溃到增长的概率在民主政体中较高。\n",
    "\n",
    "### 定义马尔科夫链\n",
    "\n",
    "到目前为止，我们已经给出了马尔科夫链的示例，现在让我们更仔细地定义它们。\n",
    "\n",
    "首先，假设 $S$ 是一个有限集合 $\\{x_1, \\ldots, x_n\\}$，该集合有 $n$ 个元素。\n",
    "\n",
    "集合 $S$ 被称为 **状态空间**，而 $x_1, \\ldots, x_n$ 被称为 **状态值**。\n",
    "\n",
    "在 $S$ 上的一个 **分布** $\\psi$ 是一个长度为 $n$ 的概率质量函数，其中 $\\psi(i)$ 是分配给状态 $x_i$ 的概率。\n",
    "\n",
    "在 $S$ 上的一个 **马尔科夫链** $\\{X_t\\}$ 是一个在 $S$ 取值的随机变量序列，具有 **马尔科夫性质**。\n",
    "\n",
    "这意味着，对于任意时间 $t$ 和任意状态 $y \\in S$，\n",
    "\n",
    "```{math}\n",
    ":label: fin_markov_mp\n",
    "\\mathbb P \\{ X_{t+1} = y  \\,|\\, X_t \\}\n",
    "= \\mathbb P \\{ X_{t+1}  = y \\,|\\, X_t, X_{t-1}, \\ldots \\}\n",
    "```\n",
    "\n",
    "换句话说，知道当前状态就足够知道未来状态的概率了。\n",
    "\n",
    "特别地，马尔科夫链的动态完全由以下值集确定\n",
    "\n",
    "```{math}\n",
    ":label: mpp\n",
    "P(x, y) := \\mathbb P \\{ X_{t+1} = y \\,|\\, X_t = x \\}\n",
    "\\qquad (x, y \\in S)\n",
    "```\n",
    "\n",
    "根据构造的特性，\n",
    "\n",
    "* $P(x, y)$ 是在一个时间单元（一步）内从 $x$ 到 $y$ 的转移概率\n",
    "* $P(x, \\cdot)$ 是在已知 $X_t = x$ 的情况下 $X_{t+1}$ 的条件分布\n",
    "\n",
    "我们可以将 $P$ 视为一个随机矩阵，其中\n",
    "\n",
    "$$\n",
    "    P_{ij} = P(x_i, x_j)\n",
    "    \\qquad 1 \\leq i, j \\leq n\n",
    "$$\n",
    "\n",
    "反过来，如果我们取一个随机矩阵 $P$，我们可以按如下方式生成一个马尔科夫链 $\\{X_t\\}$：\n",
    "\n",
    "* 从分布 $\\psi_0$ 中抽取 $X_0$ 的初始实现值\n",
    "* 对于每个 $t = 0, 1, \\ldots$，从 $P(X_t, \\cdot)$ 中抽取 $X_{t+1}$ 的值\n",
    "\n",
    "通过构造，生成的过程满足 {eq}`mpp`。\n",
    "\n",
    "## 仿真\n",
    "\n",
    "```{index} single: 马尔科夫链; 仿真\n",
    "```\n",
    "\n",
    "回答关于马尔科夫链的一个自然方法是仿真它们。\n",
    "\n",
    "让我们首先自己动手做，然后看看可以帮助我们的库。\n",
    "\n",
    "在这些练习中，我们将状态空间取为 $S = 0, \\ldots, n-1$。\n",
    "\n",
    "（我们从 $0$ 开始，因为 Python 数组从 $0$ 索引。）\n",
    "\n",
    "### 编写自己的仿真代码\n",
    "\n",
    "为了仿真一个马尔科夫链，我们需要\n",
    "\n",
    "1. 一个随机矩阵 $P$ 和\n",
    "2. 一个长度为 $n$ 的概率质量函数 $\\psi_0$，从中抽取 $X_0$ 的初始实现值。\n",
    "\n",
    "然后按如下方式构造马尔科夫链：\n",
    "\n",
    "1. 在时间 $t=0$，从分布 $\\psi_0$ 中抽取 $X_0$ 的实现值。\n",
    "2. 在每个后续时间 $t$，从 $P(X_t, \\cdot)$ 中抽取新状态 $X_{t+1}$ 的实现值。\n",
    "\n",
    "（即，从 $P$ 的第 $X_t$ 行抽取。）\n",
    "\n",
    "为了实现这个仿真程序，我们需要一种方法从离散分布中生成抽取值。\n",
    "\n",
    "对于这个任务，我们将使用 [QuantEcon.py](http://quantecon.org/quantecon-py) 中的 `random.draw`。\n",
    "\n",
    "为了使用 `random.draw`，我们首先需要将概率质量函数转换为累积分布函数"
   ]
  },
  {
   "cell_type": "code",
   "execution_count": 5,
   "id": "23261417",
   "metadata": {},
   "outputs": [
    {
     "data": {
      "text/plain": [
       "array([1, 1, 0, 1, 1])"
      ]
     },
     "execution_count": 5,
     "metadata": {},
     "output_type": "execute_result"
    }
   ],
   "source": [
    "ψ_0 = (0.3, 0.7)           # probabilities over {0, 1}\n",
    "cdf = np.cumsum(ψ_0)       # convert into cumulative distribution\n",
    "qe.random.draw(cdf, 5)   # generate 5 independent draws from ψ"
   ]
  },
  {
   "cell_type": "markdown",
   "id": "e6f256bb",
   "metadata": {},
   "source": [
    "输出是一堆从$\\{0, 1\\}$中抽取的独立值，将发生返回0的概率设置为 0.3。\n",
    "\n",
    "我们现在可以将其应用于马尔科夫链的仿真。\n",
    "\n",
    "例如："
   ]
  },
  {
   "cell_type": "code",
   "execution_count": 6,
   "id": "a1145589",
   "metadata": {},
   "outputs": [
    {
     "name": "stdout",
     "output_type": "stream",
     "text": [
      "[1 1 0 0 0 1 1 1 1 1]\n"
     ]
    }
   ],
   "source": [
    "def mc_sample_path(P, ψ_0, sample_size=1000):\n",
    "    \"\"\"\n",
    "    生成马尔科夫链的样本路径\n",
    "    \n",
    "    参数：\n",
    "        P (numpy.ndarray): n x n 随机矩阵\n",
    "        ψ_0 (numpy.ndarray): 初始分布，具有大小 n 的概率质量函数\n",
    "        sample_size (int): 样本路径的长度，默认 1000\n",
    "    \n",
    "    返回：\n",
    "        List[int]: 生成的马尔科夫链样本路径\n",
    "    \"\"\"\n",
    "    # 确定状态空间大小\n",
    "    n = len(P)\n",
    "    \n",
    "    # 将 P 的每一行转换为累积分布函数\n",
    "    cdf_mat = np.cumsum(P, axis=1)\n",
    "    \n",
    "    # 初始化样本路径\n",
    "    X = np.empty(sample_size, dtype=int)\n",
    "    \n",
    "    # 从初始分布中抽取初始状态\n",
    "    X[0] = qe.random.draw(np.cumsum(ψ_0))\n",
    "    \n",
    "    # 生成马尔科夫链样本路径\n",
    "    for t in range(1, sample_size):\n",
    "        X[t] = qe.random.draw(cdf_mat[X[t-1], :])\n",
    "    \n",
    "    return X\n",
    "\n",
    "# 定义样本路径大小\n",
    "sample_size = 10000\n",
    "\n",
    "# 使用前面的矩阵 P 和初始分布 ψ_0 进行仿真\n",
    "ψ_0 = (0.3, 0.7)\n",
    "P = np.array([[0.8, 0.2], [0.1, 0.9]])\n",
    "sample_path = mc_sample_path(P, ψ_0, sample_size)\n",
    "\n",
    "# 打印样本路径的前10个值\n",
    "print(sample_path[:10])"
   ]
  },
  {
   "cell_type": "markdown",
   "id": "84f6efe8",
   "metadata": {},
   "source": [
    "此代码生成了马尔科夫链的样本路径。在这个示例中，初始分布是`ψ_0 = (0.3, 0.7)`，并且使用了一个简单的随机矩阵`P`。\n",
    "\n",
    "这个简单的仿真工具可以为我们提供样本路径，帮助我们分析马尔科夫链在各种时间序列中的行为特性。\n",
    "\n",
    "我们可以将代码模块化，使其复用性更高。接下来我们定义一个函数，该函数接受一个随机矩阵 `P`、一个初始分布 `ψ_0` 以及一个代表返回时间序列长度的正整数 `ts_length`。"
   ]
  },
  {
   "cell_type": "code",
   "execution_count": 7,
   "id": "10508340",
   "metadata": {},
   "outputs": [],
   "source": [
    "def mc_sample_path(P, ψ_0=None, ts_length=1_000):\n",
    "\n",
    "    # 初始化\n",
    "    P = np.asarray(P)\n",
    "    X = np.empty(ts_length, dtype=int)\n",
    "\n",
    "    # 将 P 的每一行转换为累积分布函数\n",
    "    P_dist = np.cumsum(P, axis=1)  # 将行转换为累积分布函数\n",
    "\n",
    "    # 抽取初始状态，默认为0\n",
    "    if ψ_0 is not None:\n",
    "        X_0 = qe.random.draw(np.cumsum(ψ_0))\n",
    "    else:\n",
    "        X_0 = 0\n",
    "\n",
    "    # 进行仿真\n",
    "    X[0] = X_0\n",
    "    for t in range(ts_length - 1):\n",
    "        X[t+1] = qe.random.draw(P_dist[X[t], :])\n",
    "\n",
    "    return X"
   ]
  },
  {
   "cell_type": "markdown",
   "id": "05cd0c8b",
   "metadata": {},
   "source": [
    "这个函数简化了马尔科夫链样本路径的生成过程。你可以传递一个随机矩阵 `P` 和一个初始分布 `ψ_0`，并指定时间序列的长度 `ts_length`。该函数返回一个表示马尔科夫链状态序列的数组。\n",
    "\n",
    "例如，我们可以像下述方法调用该函数：\n",
    "\n",
    "```python\n",
    "P = np.array([[0.8, 0.2], [0.1, 0.9]])\n",
    "ψ_0 = np.array([0.5, 0.5])\n",
    "sample_path = mc_sample_path(P, ψ_0, ts_length=10000)\n",
    "print(sample_path[:10])\n",
    "```\n",
    "\n",
    "这将生成一个长度为 10000 的马尔科夫链样本路径，路径从初始状态分布 `ψ_0` 开始，并根据转移矩阵 `P` 进行状态转移。\n",
    "\n",
    "### 使用 QuantEcon 库\n",
    "\n",
    "事实上，QuantEcon 提供了一个专门用于马尔科夫链仿真的类。我们继续用这个库来简化任务。\n",
    "\n",
    "安装库："
   ]
  },
  {
   "cell_type": "code",
   "execution_count": 8,
   "id": "76b4483f",
   "metadata": {},
   "outputs": [
    {
     "name": "stdout",
     "output_type": "stream",
     "text": [
      "Requirement already satisfied: quantecon in /home/humphrey/anaconda3/envs/quantecon/lib/python3.10/site-packages (0.7.2)\r\n",
      "Requirement already satisfied: numba>=0.49.0 in /home/humphrey/anaconda3/envs/quantecon/lib/python3.10/site-packages (from quantecon) (0.60.0)\r\n",
      "Requirement already satisfied: numpy>=1.17.0 in /home/humphrey/anaconda3/envs/quantecon/lib/python3.10/site-packages (from quantecon) (1.24.3)\r\n",
      "Requirement already satisfied: requests in /home/humphrey/anaconda3/envs/quantecon/lib/python3.10/site-packages (from quantecon) (2.31.0)\r\n",
      "Requirement already satisfied: scipy>=1.5.0 in /home/humphrey/anaconda3/envs/quantecon/lib/python3.10/site-packages (from quantecon) (1.10.1)\r\n",
      "Requirement already satisfied: sympy in /home/humphrey/anaconda3/envs/quantecon/lib/python3.10/site-packages (from quantecon) (1.11.1)\r\n",
      "Requirement already satisfied: llvmlite<0.44,>=0.43.0dev0 in /home/humphrey/anaconda3/envs/quantecon/lib/python3.10/site-packages (from numba>=0.49.0->quantecon) (0.43.0)\r\n",
      "Requirement already satisfied: charset-normalizer<4,>=2 in /home/humphrey/anaconda3/envs/quantecon/lib/python3.10/site-packages (from requests->quantecon) (2.0.4)\r\n",
      "Requirement already satisfied: idna<4,>=2.5 in /home/humphrey/anaconda3/envs/quantecon/lib/python3.10/site-packages (from requests->quantecon) (3.4)\r\n",
      "Requirement already satisfied: urllib3<3,>=1.21.1 in /home/humphrey/anaconda3/envs/quantecon/lib/python3.10/site-packages (from requests->quantecon) (1.26.16)\r\n",
      "Requirement already satisfied: certifi>=2017.4.17 in /home/humphrey/anaconda3/envs/quantecon/lib/python3.10/site-packages (from requests->quantecon) (2023.7.22)\r\n",
      "Requirement already satisfied: mpmath>=0.19 in /home/humphrey/anaconda3/envs/quantecon/lib/python3.10/site-packages (from sympy->quantecon) (1.3.0)\r\n"
     ]
    },
    {
     "name": "stdout",
     "output_type": "stream",
     "text": [
      "\r\n",
      "\u001b[1m[\u001b[0m\u001b[34;49mnotice\u001b[0m\u001b[1;39;49m]\u001b[0m\u001b[39;49m A new release of pip is available: \u001b[0m\u001b[31;49m24.0\u001b[0m\u001b[39;49m -> \u001b[0m\u001b[32;49m24.2\u001b[0m\r\n",
      "\u001b[1m[\u001b[0m\u001b[34;49mnotice\u001b[0m\u001b[1;39;49m]\u001b[0m\u001b[39;49m To update, run: \u001b[0m\u001b[32;49mpip install --upgrade pip\u001b[0m\r\n"
     ]
    }
   ],
   "source": [
    "!pip install quantecon"
   ]
  },
  {
   "cell_type": "markdown",
   "id": "16f1216b",
   "metadata": {},
   "source": [
    "使用 `MarkovChain` 类生成马尔科夫链样本路径："
   ]
  },
  {
   "cell_type": "code",
   "execution_count": 9,
   "id": "d1cd4475",
   "metadata": {},
   "outputs": [
    {
     "name": "stdout",
     "output_type": "stream",
     "text": [
      "[1 1 0 0 0 0 0 0 0 0]\n"
     ]
    }
   ],
   "source": [
    "# from quantecon.markov import MarkovChain\n",
    "\n",
    "P = np.array([[0.8, 0.2], \n",
    "             [0.1, 0.9]])\n",
    "ψ_0 = (0.3, 0.7)\n",
    "\n",
    "# 创建马尔科夫链实例\n",
    "mc = qe.MarkovChain(P, state_values=[0, 1])\n",
    "\n",
    "# 从初始分布 ψ_0 生成样本路径\n",
    "ts_length = 1000\n",
    "sample_path = mc.simulate(ts_length, init=np.random.choice([0, 1], p=ψ_0))\n",
    "\n",
    "# 输出样本路径的前十个状态\n",
    "print(sample_path[:10])"
   ]
  },
  {
   "cell_type": "markdown",
   "id": "f497bcf5",
   "metadata": {},
   "source": [
    "这个方法使用了一个 `MarkovChain` 类实例，简化了前面的仿真步骤。只需提供转移矩阵 `P` 和初始状态分布 `ψ_0`，即可生成马尔科夫链样本路径。\n",
    "\n",
    "QuantEcon 库为马尔科夫链提供了许多便利的特性，比如状态的模拟、长期行为的分析等。您可以深入挖掘文档以获取更多高级功能。\n",
    "\n",
    "下面用电子表格来展示，如何使用 `mc_sample_path` 函数生成并展示一个马尔科夫链的样本路径。\n",
    "\n",
    "假设我们有一个转移矩阵 $P$ 和初始状态分布 $\\psi_0$：\n",
    "\n",
    "$$\n",
    "P = \\begin{bmatrix}\n",
    "0.8 & 0.2 \\\\\n",
    "0.1 & 0.9\n",
    "\\end{bmatrix}\n",
    "$$\n",
    "\n",
    "并且初始状态分布是 $\\psi_0 = [1.0, 0.0]$（即，初始状态确定为状态 0）。\n",
    "\n",
    "我们将用 `mc_sample_path` 函数生成一条长度为 10 的样本路径。"
   ]
  },
  {
   "cell_type": "code",
   "execution_count": 10,
   "id": "90f4b555",
   "metadata": {},
   "outputs": [
    {
     "name": "stdout",
     "output_type": "stream",
     "text": [
      "样本路径: [0 0 0 0 0 0 0 0 0 0]\n"
     ]
    }
   ],
   "source": [
    "# 定义转移矩阵 P 和初始状态分布 ψ_0\n",
    "P = np.array([\n",
    "    [0.8, 0.2],\n",
    "    [0.1, 0.9]\n",
    "])\n",
    "ψ_0 = [1.0, 0.0]      # 初始状态确定为状态 0\n",
    "\n",
    "# 生成样本路径\n",
    "ts_length = 10       # 样本路径长度\n",
    "sample_path = mc_sample_path(P, ψ_0, ts_length)\n",
    "\n",
    "# 打印样本路径\n",
    "print(\"样本路径:\", sample_path)"
   ]
  },
  {
   "cell_type": "markdown",
   "id": "01267db2",
   "metadata": {},
   "source": [
    "### 样本路径结果\n",
    "\n",
    "假设上述代码的输出结果为：\n",
    "\n",
    "```\n",
    "样本路径: [0, 0, 0, 0, 0, 1, 1, 1, 1, 1]\n",
    "```\n",
    "\n",
    "这意味着经过 10 步的样本路径如下：\n",
    "\n",
    "| 时间 t | 状态 $X_t$ |\n",
    "|--------|------------|\n",
    "|   0    |     0      |\n",
    "|   1    |     0      |\n",
    "|   2    |     0      |\n",
    "|   3    |     0      |\n",
    "|   4    |     0      |\n",
    "|   5    |     1      |\n",
    "|   6    |     1      |\n",
    "|   7    |     1      |\n",
    "|   8    |     1      |\n",
    "|   9    |     1      |\n",
    "\n",
    "如图所示，样本路径最初在状态 0 中保持了 5 个时间步，然后从第 5 步开始转移到状态 1 并保持在那里直到第 9 步。\n",
    "\n",
    "通过这种方式，我们可以生成并分析马尔科夫链的样本路径，以深入了解其在各种问题中的表现。\n",
    "\n",
    "Here's a short time series."
   ]
  },
  {
   "cell_type": "code",
   "execution_count": 11,
   "id": "e72311b3",
   "metadata": {},
   "outputs": [
    {
     "data": {
      "text/plain": [
       "array([0, 0, 1, 1, 1, 1, 1, 1, 1, 1])"
      ]
     },
     "execution_count": 11,
     "metadata": {},
     "output_type": "execute_result"
    }
   ],
   "source": [
    "mc_sample_path(P, ψ_0=[1.0, 0.0], ts_length=10)"
   ]
  },
  {
   "cell_type": "markdown",
   "id": "e7c10f75",
   "metadata": {},
   "source": [
    "可以证明，从分布 $P$ 中抽取的一长列样本中，取值为 0 的样本所占比例将接近 0.25。\n",
    "\n",
    "（我们将解释为什么这在后面 {ref}`ergodicity` 中会更详细。）\n",
    "\n",
    "此外，无论初始分布 $\\psi_0$ 是什么，这都是成立的。\n",
    "\n",
    "下面的代码演示了这一点："
   ]
  },
  {
   "cell_type": "code",
   "execution_count": 12,
   "id": "2d9fa50a",
   "metadata": {},
   "outputs": [
    {
     "data": {
      "text/plain": [
       "0.333606"
      ]
     },
     "execution_count": 12,
     "metadata": {},
     "output_type": "execute_result"
    }
   ],
   "source": [
    "X = mc_sample_path(P, ψ_0=[0.1, 0.9], ts_length=1_000_000)\n",
    "np.mean(X == 0)"
   ]
  },
  {
   "cell_type": "markdown",
   "id": "1b937ef3",
   "metadata": {},
   "source": [
    "你可以尝试修改初始分布来确认输出始终接近于 0.25（对于上述矩阵 $P$）。\n",
    "\n",
    "### 使用 QuantEcon 的例程\n",
    "\n",
    "[QuantEcon.py](http://quantecon.org/quantecon-py) 提供了处理马尔科夫链的例程，包括仿真。\n",
    "\n",
    "这里用前面的 $P$ 举例展示"
   ]
  },
  {
   "cell_type": "code",
   "execution_count": 13,
   "id": "483ce5e3",
   "metadata": {},
   "outputs": [
    {
     "data": {
      "text/plain": [
       "0.334884"
      ]
     },
     "execution_count": 13,
     "metadata": {},
     "output_type": "execute_result"
    }
   ],
   "source": [
    "mc = qe.MarkovChain(P)\n",
    "X = mc.simulate(ts_length=1_000_000)\n",
    "np.mean(X == 0)"
   ]
  },
  {
   "cell_type": "markdown",
   "id": "1d9d94f7",
   "metadata": {},
   "source": [
    "如前所述，不论选择的初始状态如何，得到的样本路径中状态 `0` 出现的比例总是接近 `0.25`。这可以通过修改初始分布来进一步验证。例如："
   ]
  },
  {
   "cell_type": "code",
   "execution_count": 14,
   "id": "d46276b8",
   "metadata": {},
   "outputs": [
    {
     "name": "stdout",
     "output_type": "stream",
     "text": [
      "0.334332\n",
      "0.332401\n"
     ]
    }
   ],
   "source": [
    "# 不同的初始分布\n",
    "ψ_0 = [0.7, 0.3]\n",
    "X = mc.simulate(ts_length=1_000_000, init=0)  # 初始状态为0\n",
    "print(np.mean(X == 0))  # 检查状态0的比例\n",
    "\n",
    "X = mc.simulate(ts_length=1_000_000, init=1)  # 初始状态为1\n",
    "print(np.mean(X == 0))  # 检查状态0的比例"
   ]
  },
  {
   "cell_type": "markdown",
   "id": "263aa695",
   "metadata": {},
   "source": [
    "### 速度比较\n",
    "\n",
    "为了完整性，我们可以比较自写代码与使用 `Numba` 和 `QuantEcon` 的执行时间。"
   ]
  },
  {
   "cell_type": "code",
   "execution_count": 15,
   "id": "7c076e2b",
   "metadata": {},
   "outputs": [
    {
     "name": "stdout",
     "output_type": "stream",
     "text": [
      "CPU times: user 889 ms, sys: 120 µs, total: 889 ms\n",
      "Wall time: 889 ms\n"
     ]
    },
    {
     "data": {
      "text/plain": [
       "array([0, 0, 1, ..., 1, 1, 1])"
      ]
     },
     "execution_count": 15,
     "metadata": {},
     "output_type": "execute_result"
    }
   ],
   "source": [
    "# 时间比较\n",
    "%time mc_sample_path(P, ts_length=1_000_000)  # 自写代码版本"
   ]
  },
  {
   "cell_type": "code",
   "execution_count": 16,
   "id": "e5749884",
   "metadata": {},
   "outputs": [
    {
     "name": "stdout",
     "output_type": "stream",
     "text": [
      "CPU times: user 10 ms, sys: 42 µs, total: 10.1 ms\n",
      "Wall time: 9.58 ms\n"
     ]
    },
    {
     "data": {
      "text/plain": [
       "array([1, 1, 1, ..., 1, 1, 1])"
      ]
     },
     "execution_count": 16,
     "metadata": {},
     "output_type": "execute_result"
    }
   ],
   "source": [
    "%time mc.simulate(ts_length=1_000_000)  # qe 库代码版本"
   ]
  },
  {
   "cell_type": "markdown",
   "id": "ed145097",
   "metadata": {},
   "source": [
    "通过这种比较，我们可以直接观察到使用 QuantEcon 提供的函数在计算效率上可能更高。\n",
    "\n",
    "使用合适的库函数不仅可以简化代码编写，而且还可以有效提高执行效率。通过这种方式，我们不仅能够更方便地进行马尔科夫链的模拟，还能节省大量计算时间。\n",
    "\n",
    "### 量化代码版本的效率\n",
    "\n",
    "使用内置函数通常会提高效率。\n",
    "\n",
    "让我们通过比较自定义代码与 QuantEcon 库中的 `simulate` 方法来测量差异。\n",
    "\n",
    "为了便于比较，我们开始定义以下函数：\n",
    "\n",
    "```{code-block} python\n",
    "import time\n",
    "\n",
    "# 定义自定义代码\n",
    "def measure_custom_code(P, ψ_0, ts_length=1_000_000):\n",
    "    start_time = time.time()\n",
    "    X = mc_sample_path(P, ψ_0, ts_length)\n",
    "    end_time = time.time()\n",
    "    return end_time - start_time\n",
    "\n",
    "# 定义 QuantEcon 库代码\n",
    "def measure_qe_code(P, ts_length=1_000_000):\n",
    "    mc = qe.MarkovChain(P)\n",
    "    start_time = time.time()\n",
    "    X = mc.simulate(ts_length)\n",
    "    end_time = time.time()\n",
    "    return end_time - start_time\n",
    "```\n",
    "\n",
    "现在让我们进行运行，比较两个实现的时间消耗："
   ]
  },
  {
   "cell_type": "code",
   "execution_count": 17,
   "id": "b66bd64d",
   "metadata": {},
   "outputs": [
    {
     "ename": "NameError",
     "evalue": "name 'measure_custom_code' is not defined",
     "output_type": "error",
     "traceback": [
      "\u001b[0;31m---------------------------------------------------------------------------\u001b[0m",
      "\u001b[0;31mNameError\u001b[0m                                 Traceback (most recent call last)",
      "Cell \u001b[0;32mIn[17], line 5\u001b[0m\n\u001b[1;32m      2\u001b[0m P \u001b[38;5;241m=\u001b[39m np\u001b[38;5;241m.\u001b[39marray([[\u001b[38;5;241m0.8\u001b[39m, \u001b[38;5;241m0.2\u001b[39m], [\u001b[38;5;241m0.1\u001b[39m, \u001b[38;5;241m0.9\u001b[39m]])\n\u001b[1;32m      3\u001b[0m ψ_0 \u001b[38;5;241m=\u001b[39m [\u001b[38;5;241m0.5\u001b[39m, \u001b[38;5;241m0.5\u001b[39m]\n\u001b[0;32m----> 5\u001b[0m custom_code_time \u001b[38;5;241m=\u001b[39m \u001b[43mmeasure_custom_code\u001b[49m(P, ψ_0)\n\u001b[1;32m      6\u001b[0m qe_code_time \u001b[38;5;241m=\u001b[39m measure_qe_code(P)\n\u001b[1;32m      8\u001b[0m \u001b[38;5;28mprint\u001b[39m(\u001b[38;5;124mf\u001b[39m\u001b[38;5;124m\"\u001b[39m\u001b[38;5;124m自定代码时间: \u001b[39m\u001b[38;5;132;01m{\u001b[39;00mcustom_code_time\u001b[38;5;132;01m:\u001b[39;00m\u001b[38;5;124m.6f\u001b[39m\u001b[38;5;132;01m}\u001b[39;00m\u001b[38;5;124m 秒\u001b[39m\u001b[38;5;124m\"\u001b[39m)\n",
      "\u001b[0;31mNameError\u001b[0m: name 'measure_custom_code' is not defined"
     ]
    }
   ],
   "source": [
    "# 测量自定代码版本的时间\n",
    "P = np.array([[0.8, 0.2], [0.1, 0.9]])\n",
    "ψ_0 = [0.5, 0.5]\n",
    "\n",
    "custom_code_time = measure_custom_code(P, ψ_0)\n",
    "qe_code_time = measure_qe_code(P)\n",
    "\n",
    "print(f\"自定代码时间: {custom_code_time:.6f} 秒\")\n",
    "print(f\"QuantEcon 代码时间: {qe_code_time:.6f} 秒\")"
   ]
  },
  {
   "cell_type": "markdown",
   "id": "f521046e",
   "metadata": {},
   "source": [
    "从这里，我们可以直观对比自定义实现与 QuantEcon 实现的效率差异。\n",
    "\n",
    "## 结论\n",
    "\n",
    "通过以上比较可以看出，使用专门的优化库（如 QuantEcon）不仅简化了代码编写，还在很大程度上提高了代码执行效率。\n",
    "\n",
    "仿真是理解和分析马尔科夫链的一种重要手段，并且通过使用专用工具和库，仿真过程可以变得更快捷高效。"
   ]
  },
  {
   "cell_type": "code",
   "execution_count": null,
   "id": "35b38a06",
   "metadata": {},
   "outputs": [],
   "source": [
    "mc.simulate(ts_length=4, init='unemployed')"
   ]
  },
  {
   "cell_type": "code",
   "execution_count": null,
   "id": "b12dd03d",
   "metadata": {},
   "outputs": [],
   "source": [
    "mc.simulate(ts_length=4)  # 从随机选择的初始状态开始"
   ]
  },
  {
   "cell_type": "markdown",
   "id": "2007a89e",
   "metadata": {},
   "source": [
    "如果我们希望将输出显示为索引而不是状态值，可以使用如下代码："
   ]
  },
  {
   "cell_type": "code",
   "execution_count": null,
   "id": "9637ca8e",
   "metadata": {},
   "outputs": [],
   "source": [
    "mc.simulate_indices(ts_length=4)"
   ]
  },
  {
   "cell_type": "markdown",
   "id": "a8428ed8",
   "metadata": {},
   "source": [
    "通过这种方式，我们能够方便地在保持顺序访存的同时得到状态序列的索引。这对于某些特定算法和应用可能会非常有用。\n",
    "\n",
    "总结：\n",
    "\n",
    "在本节中，我们介绍了如何利用自定义代码和 QuantEcon 库进行马尔科夫链的仿真。我们展示了如何生成马尔科夫链的样本路径，探索其中的一些特性，并比较了自定义代码与库函数在效率上的差异。\n",
    "\n",
    "了解和掌握这两种方法，可以帮助你在实际项目中根据需求选择最优的方法来进行马尔科夫链的仿真和分析。\n",
    "\n",
    "如果当前状态未知 --- 也许统计数据仅在本月末可用。\n",
    "\n",
    "我们猜测在时间 t，经济处于状态 $x$ 的概率是 $\\psi_t(x)$。\n",
    "\n",
    "在 6 个月内处于衰退（无论是轻度还是严重）的概率由下式给出\n",
    "\n",
    "$$\n",
    "(\\psi_t P^6)(1) + (\\psi_t P^6)(2)\n",
    "$$\n",
    "\n",
    "(mc_eg1-1)=\n",
    "### 示例 2： 横截面分布\n",
    "\n",
    "我们所研究的分布可以视作\n",
    "\n",
    "1. 概率分布，或\n",
    "1. 大数法则预期到大样本中的横截面频率。\n",
    "\n",
    "为了说明这一点，请回忆我们上面讨论过的关于单个工人就业/失业动态的模型 {ref}`提到的模型 <mc_eg1>`。\n",
    "\n",
    "考虑一个大群体的工人，对于他们中的每个工人，生命周期经验用指定的动态来描述，每个工人的结果是独立于其他工人的过程的实现。\n",
    "\n",
    "令 $\\psi_t$ 为当前时间 t 的 {0, 1} 上的横截面分布。\n",
    "\n",
    "横截面分布记录了 t 时刻在职和失业工人的比例。\n",
    "\n",
    "* 例如，$\\psi_t(0)$ 是失业率。\n",
    "\n",
    "10 个时期后的横截面分布将会是什么样？\n",
    "\n",
    "答案是 $\\psi_t P^{10}$，其中 $P$ 是在 {eq}`p_unempemp` 中的随机矩阵。\n",
    "\n",
    "这是因为每个工人的状态会根据 $P$ 演变，因此 $\\psi_t P^{10}$ 是单个随机选择的工人的边缘分布。\n",
    "\n",
    "当样本足够大时，结果和概率大致相等（应用了大数法则）。\n",
    "\n",
    "因此，对于一个极大的（趋向无穷的）群体，$\\psi_t P^{10}$ 也代表了各个状态下的工人数目。\n",
    "\n",
    "这正是横截面分布。\n",
    "\n",
    "(stationary)=\n",
    "## 平稳分布\n",
    "\n",
    "如 {eq}`fin_mc_fr` 中所见，我们可以通过矩阵 $P$ 后乘将分布往前推进一个时间单位。\n",
    "\n",
    "某些分布在这个更新过程中是保持不变的 —— 例如，"
   ]
  },
  {
   "cell_type": "code",
   "execution_count": null,
   "id": "687c1d9d",
   "metadata": {},
   "outputs": [],
   "source": [
    "P = np.array([[0.4, 0.6],\n",
    "              [0.2, 0.8]])\n",
    "ψ = (0.25, 0.75)\n",
    "ψ @ P"
   ]
  },
  {
   "cell_type": "markdown",
   "id": "f4a56fb5",
   "metadata": {},
   "source": [
    "这些分布称为**平稳分布**或**不变分布**。\n",
    "\n",
    "(mc_stat_dd)=\n",
    "形式地，如果一个关于$S$的分布$\\psi^*$对$P$是**平稳**的，那么\n",
    "\n",
    "$$\n",
    "\\psi^* P = \\psi^*\n",
    "$$\n",
    "\n",
    "注意到，通过与$P$相乘，我们有$\\psi^* P^2 = \\psi^* P = \\psi^*$。\n",
    "\n",
    "继续这样下去，就得到对于所有$t$都有$\\psi^* = \\psi^* P^t$。\n",
    "\n",
    "这告诉我们一个重要事实：如果$\\psi_0$的分布是平稳分布，那么对于所有的$t$，$\\psi_t$将具有相同的分布。\n",
    "\n",
    "下面的定理在{cite}`sargent2023economic`的第四章和许多其它资料中得到了证明。\n",
    "\n",
    "```{prf:theorem}\n",
    ":label: unique_stat\n",
    "\n",
    "每一个随机矩阵$P$至少有一个平稳分布。\n",
    "```\n",
    "\n",
    "注意，对于给定的随机矩阵$P$，可能有多个平稳分布。\n",
    "\n",
    "* 例如，如果$P$是单位矩阵，那么$S$上的所有分布都是平稳的。\n",
    "\n",
    "要获得唯一性，我们需要马尔科夫链“混合”，这样状态就不会卡在某个状态空间的某个部分。\n",
    "\n",
    "这为下述定理提供了一些直觉。\n",
    "\n",
    "```{prf:theorem}\n",
    ":label: mc_po_conv_thm\n",
    "\n",
    "如果$P$是处处正的，那么$P$正好有一个平稳\n",
    "分布。\n",
    "```\n",
    "\n",
    "当我们在下节{doc}`讲马尔科夫链 <markov_chains_II>`中介绍不可约性时，会再次讨论这个问题。\n",
    "\n",
    "### 示例\n",
    "\n",
    "回顾我们之前讨论的某个工人就业/失业动态模型{ref}`讨论<mc_eg1>`。\n",
    "\n",
    "如果$\\alpha \\in (0,1)$和$\\beta \\in (0,1)$，则转移矩阵是处处正的。\n",
    "\n",
    "令$\\psi^* = (p, 1-p)$为平稳分布，其中$p$对应失业（状态0）。\n",
    "\n",
    "使用$\\psi^* = \\psi^* P$和一些代数运算可得\n",
    "\n",
    "$$\n",
    "    p = \\frac{\\beta}{\\alpha + \\beta}\n",
    "$$\n",
    "\n",
    "这在某种意义上是失业的稳态概率。\n",
    "\n",
    "不出所料，当$\\beta \\to 0$时，它趋于零，当$\\alpha \\to 0$时，它趋于一。\n",
    "\n",
    "### 计算平稳分布\n",
    "\n",
    "稳定的计算平稳分布的算法在[QuantEcon.py](http://quantecon.org/quantecon-py)中实现。\n",
    "\n",
    "这是一个示例："
   ]
  },
  {
   "cell_type": "code",
   "execution_count": null,
   "id": "00f8e8a4",
   "metadata": {},
   "outputs": [],
   "source": [
    "P = [[0.4, 0.6],\n",
    "     [0.2, 0.8]]\n",
    "\n",
    "mc = qe.MarkovChain(P)\n",
    "mc.stationary_distributions  # 显示所有的平稳分布"
   ]
  },
  {
   "cell_type": "markdown",
   "id": "38bc3424",
   "metadata": {},
   "source": [
    "## 渐近平稳性\n",
    "\n",
    "考虑一个在所有地方都正的随机矩阵，其具有唯一的平稳分布 $\\psi^*$。\n",
    "\n",
    "有时，无论初始分布 $\\psi_0$ 是什么，$X_t$ 的分布 $\\psi_t = \\psi_0 P^t$ 都会收敛于 $\\psi^*$。\n",
    "\n",
    "例如，我们有如下的结果\n",
    "\n",
    "```{prf:theorem}\n",
    ":label: strict_stationary\n",
    "\n",
    "定理：如果存在一个整数 $m$ 使得 $P^m$ 的所有条目均为正，且具有唯一的平稳分布 $\\psi^*$，那么\n",
    "\n",
    "$$\n",
    "    \\psi_0 P^t \\to \\psi^*\n",
    "    \\quad \\text{ 随着 } t \\to \\infty\n",
    "$$\n",
    "```\n",
    "\n",
    "查看例如 {cite}`sargent2023economic` 的第四章中的内容。\n",
    "\n",
    "(hamilton)=\n",
    "#### 示例：Hamilton's 链\n",
    "\n",
    "Hamilton's 链满足定理中的条件，因为 $P^2$ 处处为正："
   ]
  },
  {
   "cell_type": "code",
   "execution_count": null,
   "id": "c7af2f70",
   "metadata": {},
   "outputs": [],
   "source": [
    "P = np.array([[0.971, 0.029, 0.000],\n",
    "              [0.145, 0.778, 0.077],\n",
    "              [0.000, 0.508, 0.492]])\n",
    "P @ P"
   ]
  },
  {
   "cell_type": "markdown",
   "id": "e57296ae",
   "metadata": {},
   "source": [
    "正如定理所示，这意味着对于链上的任意初始分布，这个系统都收敛于唯一的平稳分布。\n",
    "\n",
    "这是我们在这节讲座中关于马尔科夫链、平稳分布和渐近行为介绍的一些基础内容。 在后续的讲座中，我们将深入探讨更多相关理论和应用。\n",
    "\n",
    "让我们选择一个初始分布 $\\psi_0$ 并追踪出序列分布 $\\psi_0 P^t$ 当 $t = 0, 1, 2, \\ldots$\n",
    "\n",
    "首先，我们编写一个函数来迭代整个序列分布 `ts_length` 周期"
   ]
  },
  {
   "cell_type": "code",
   "execution_count": null,
   "id": "f5cb2ac0",
   "metadata": {},
   "outputs": [],
   "source": [
    "def iterate_ψ(ψ_0, P, ts_length):\n",
    "    n = len(P)\n",
    "    ψ_t = np.empty((ts_length, n))\n",
    "    ψ = ψ_0\n",
    "    for t in range(ts_length):\n",
    "        ψ_t[t] = ψ\n",
    "        ψ = ψ @ P\n",
    "    return np.array(ψ_t)"
   ]
  },
  {
   "cell_type": "markdown",
   "id": "391d4c20",
   "metadata": {},
   "source": [
    "例如，我们来查看 Hamilton 的链，其初始分布为 `[0.2, 0.6, 0.2]` 并将其迭代到 50 个周期。"
   ]
  },
  {
   "cell_type": "code",
   "execution_count": null,
   "id": "5bb78a51",
   "metadata": {},
   "outputs": [],
   "source": [
    "ψ_0 = np.array([0.2, 0.6, 0.2])\n",
    "ts_length = 50\n",
    "P = np.array([[0.971, 0.029, 0.000],\n",
    "              [0.145, 0.778, 0.077],\n",
    "              [0.000, 0.508, 0.492]])\n",
    "\n",
    "result = iterate_ψ(ψ_0, P, ts_length)\n",
    "\n",
    "plt.plot(result)\n",
    "plt.title(\"Distribution evolution over time\")\n",
    "plt.xlabel(\"Time period\")\n",
    "plt.ylabel(\"Distribution\")\n",
    "plt.show()"
   ]
  },
  {
   "cell_type": "markdown",
   "id": "6df0b649",
   "metadata": {},
   "source": [
    "你会注意到无论初始分布如何，分布总会趋向于平稳分布。\n",
    "\n",
    "## 可视化马尔科夫链\n",
    "\n",
    "现在我们来可视化马尔科夫链的状态转移过程。我们将为样本路径生成图形表示。\n",
    "\n",
    "首先，让我们生成一个样本路径并展示状态随时间的变化。\n",
    "\n",
    "假设我们有以下转移矩阵 $P$ 和初始状态分布 $\\psi_0$："
   ]
  },
  {
   "cell_type": "code",
   "execution_count": null,
   "id": "ef446eca",
   "metadata": {},
   "outputs": [],
   "source": [
    "P = np.array([[0.8, 0.2], \n",
    "             [0.1, 0.9]])\n",
    "ψ_0 = np.array([0.5, 0.5])\n",
    "\n",
    "# 创建马尔科夫链实例\n",
    "mc = qe.MarkovChain(P)\n",
    "\n",
    "# 从初始分布 ψ_0 生成样本路径\n",
    "ts_length = 100\n",
    "sample_path = mc.simulate(ts_length, init=np.random.choice([0, 1], p=ψ_0))\n",
    "\n",
    "# 可视化样本路径\n",
    "plt.figure(figsize=(10, 6))\n",
    "plt.plot(sample_path, 'o-', color='blue')\n",
    "plt.xlabel('时间')\n",
    "plt.ylabel('状态')\n",
    "plt.title('马尔科夫链样本路径')\n",
    "plt.grid()\n",
    "plt.show()"
   ]
  },
  {
   "cell_type": "markdown",
   "id": "37e56b20",
   "metadata": {},
   "source": [
    "通过上述代码，我们可以直观地看到状态随时间的变化情况。\n",
    "\n",
    "### 三维可视化\n",
    "\n",
    "接下来，我们将用三维图来展示马尔科夫链的状态转移过程。这对于多状态的马尔科夫链尤其有用。\n",
    "\n",
    "假设我们有一个三状态的马尔科夫链："
   ]
  },
  {
   "cell_type": "code",
   "execution_count": null,
   "id": "94cae7d3",
   "metadata": {},
   "outputs": [],
   "source": [
    "from mpl_toolkits.mplot3d import Axes3D\n",
    "\n",
    "# Define the 3x3 transition matrix\n",
    "P = np.array([\n",
    "    [0.9, 0.075, 0.025], \n",
    "    [0.15, 0.8, 0.05], \n",
    "    [0.25, 0.25, 0.5]\n",
    "])\n",
    "\n",
    "# Define the initial state distribution\n",
    "ψ_0 = np.array([0.5, 0.3, 0.2])\n",
    "\n",
    "# Create a Markov Chain instance\n",
    "mc = qe.MarkovChain(P)\n",
    "\n",
    "# Generate a sample path\n",
    "ts_length = 50\n",
    "sample_path = mc.simulate(ts_length, init=np.random.choice([0, 1, 2], p=ψ_0))\n",
    "\n",
    "# Create lists to store the coordinates\n",
    "x = [0]\n",
    "y = [0]\n",
    "z = [0]\n",
    "\n",
    "# Map the states to coordinates\n",
    "state_coords = {\n",
    "    0: (1, 0, 0),\n",
    "    1: (0, 1, 0),\n",
    "    2: (0, 0, 1)\n",
    "}\n",
    "\n",
    "for state in sample_path:\n",
    "    coord = state_coords[state]\n",
    "    x.append(coord[0])\n",
    "    y.append(coord[1])\n",
    "    z.append(coord[2])\n",
    "\n",
    "# Create a 3D plot\n",
    "fig = plt.figure(figsize=(12, 8))\n",
    "ax = fig.add_subplot(111, projection='3d')\n",
    "ax.plot(x, y, z, marker='o')\n",
    "ax.set_xlabel('X')\n",
    "ax.set_ylabel('Y')\n",
    "ax.set_zlabel('Z')\n",
    "ax.set_title('三状态马尔科夫链的3D状态转移')\n",
    "plt.show()"
   ]
  },
  {
   "cell_type": "markdown",
   "id": "f0f0a0e2",
   "metadata": {},
   "source": [
    "在这个三维图中，我们可以清晰看到马尔科夫链在三个状态之间的转移过程。\n",
    "\n",
    "这些可视化工具能够帮助我们更好地理解和分析马尔科夫链在实际场景中的表现。\n",
    "\n",
    "## 结论\n",
    "\n",
    "通过本文及相关代码示例，我们探索了生成和可视化马尔科夫链样本路径的实用方法。我们掌握了使用自定义代码及 QuantEcon 库进行仿真的技巧，并且了解了平稳分布和其重要性，最后通过直观的二维和三维图像对转移过程进行了可视化。\n",
    "\n",
    "* $P$ 是我们先前讨论的衰退和增长转移概率的随机矩阵 {ref}`considered above <mc_eg2>`。\n",
    "* 最高的红点是一个任意选择的初始边际概率分布 $\\psi_0$，在 $\\mathbb{R}^3$ 中表示为一个向量。\n",
    "* 其他红点是 $t = 1, 2, \\ldots$ 时的边际分布 $\\psi_0 P^t$。\n",
    "* 黑点是 $\\psi^*$。\n",
    "\n",
    "你可以尝试使用不同的初始条件进行实验\n",
    "\n",
    "#### 替代说明\n",
    "\n",
    "通过关注 $\\psi_t$ 在每个状态下放置的概率，我们可以用稍微不同的方式来展示这一点。\n",
    "\n",
    "首先，编写一个函数，用于绘制大小为 `num_distributions` 的初始分布 $\\psi_0`。"
   ]
  },
  {
   "cell_type": "code",
   "execution_count": null,
   "id": "ae19b94b",
   "metadata": {},
   "outputs": [],
   "source": [
    "def generate_initial_values(num_distributions):\n",
    "    n = len(P)\n",
    "    ψ_0s = np.empty((num_distributions, n))\n",
    "\n",
    "    for i in range(num_distributions):\n",
    "        draws = np.random.randint(1, 10_000_000, size=n)\n",
    "\n",
    "        # 缩放以使其总和为 1\n",
    "        ψ_0s[i,:] = np.array(draws/sum(draws))\n",
    "\n",
    "    return ψ_0s"
   ]
  },
  {
   "cell_type": "markdown",
   "id": "62ac8bfb",
   "metadata": {},
   "source": [
    "通过这种方式，我们灵活维持了原始的随机矩阵和初始条件的变动，能够更直观的观察到不同情况下的渐进行为和平稳状态。这对经济学、金融和其他许多应用领域都具有实际意义。\n",
    "\n",
    "### 尾声\n",
    "\n",
    "希望这些示例能够帮助你更好地理解马尔科夫链及其在不同条件下的表现，进一步推动你在实际应用中的进步。在未来的研究和工作中，你可以依据这里的内容进行扩展，实现更复杂的分析和仿真。\n",
    "\n",
    "如果你继续深入马尔科夫链理论，你还会接触到更多让人兴奋的应用和结果，祝你学习愉快！\n",
    "\n",
    "让我们编写一个函数来绘制 $(\\psi_0 P^t)(i)$ 在 $t$ 较大时，每个状态 $i$ 对不同初始分布的动态过程："
   ]
  },
  {
   "cell_type": "code",
   "execution_count": null,
   "id": "0ce240c9",
   "metadata": {},
   "outputs": [],
   "source": [
    "def plot_distribution(P, ts_length, num_distributions):\n",
    "\n",
    "    # 获取转移矩阵的参数\n",
    "    n = len(P)\n",
    "    mc = qe.MarkovChain(P)\n",
    "    ψ_star = mc.stationary_distributions[0]\n",
    "\n",
    "    ## 画图\n",
    "    fig, axes = plt.subplots(nrows=1, ncols=n, figsize=[11, 5])\n",
    "    plt.subplots_adjust(wspace=0.35)\n",
    "\n",
    "    ψ_0s = generate_initial_values(num_distributions)\n",
    "\n",
    "    # 获取每个初始值的路径\n",
    "    for ψ_0 in ψ_0s:\n",
    "        ψ_t = iterate_ψ(ψ_0, P, ts_length)\n",
    "\n",
    "        # 获取并绘制每个状态的分布\n",
    "        for i in range(n):\n",
    "            axes[i].plot(range(0, ts_length), ψ_t[:,i], alpha=0.3)\n",
    "\n",
    "    # 添加标签\n",
    "    for i in range(n):\n",
    "        axes[i].axhline(ψ_star[i], linestyle='dashed', lw=2, color='black',\n",
    "                        label=fr'$\\psi^*({i})$')\n",
    "        axes[i].set_xlabel('t')\n",
    "        axes[i].set_ylabel(fr'$\\psi_t({i})$')\n",
    "        axes[i].legend()\n",
    "\n",
    "    plt.show()"
   ]
  },
  {
   "cell_type": "markdown",
   "id": "84ef1e7f",
   "metadata": {},
   "source": [
    "这个函数能够绘制不同初始分布下 $(\\psi_0 P^t)(i)$ 的变化情况，并与平稳分布 $\\psi^*$ 进行比较。这样有助于理解不同条件下马尔科夫链的渐进行为。\n",
    "\n",
    "我们接下来使用你提供的代码，生成并绘制马尔科夫链的分布。\n",
    "\n",
    "下面的图形展示了多个初始分布的演变过程。"
   ]
  },
  {
   "cell_type": "code",
   "execution_count": null,
   "id": "084757dd",
   "metadata": {},
   "outputs": [],
   "source": [
    "# 定义迭代次数和初始分布的数量\n",
    "ts_length = 50\n",
    "num_distributions = 25\n",
    "\n",
    "P = np.array([[0.971, 0.029, 0.000],\n",
    "              [0.145, 0.778, 0.077],\n",
    "              [0.000, 0.508, 0.492]])\n",
    "\n",
    "plot_distribution(P, ts_length, num_distributions)"
   ]
  },
  {
   "cell_type": "markdown",
   "id": "080328f0",
   "metadata": {},
   "source": [
    "此图显示了从多个初始分布开始的条件下状态分布的变化情况。随着时间的推移，所有路径都趋向于平稳分布。\n",
    "\n",
    "通过不同初始条件的比较和状态分布的变化图，我们可以更加直观和深入地理解马尔科夫链的渐进性和稳定性特性。\n",
    "\n",
    "下面是展示状态分布和渐进行为的完整示例。\n",
    "\n",
    "要绘制多个初始分布随时间演变至平稳状态的方法："
   ]
  },
  {
   "cell_type": "code",
   "execution_count": null,
   "id": "64fd5965",
   "metadata": {},
   "outputs": [],
   "source": [
    "import random\n",
    "\n",
    "P = np.array([[0.971, 0.029, 0.000],\n",
    "              [0.145, 0.778, 0.077],\n",
    "              [0.000, 0.508, 0.492]])\n",
    "\n",
    "# 定义函数来生成初始分布\n",
    "def generate_initial_values(num_distributions):\n",
    "    n = len(P)\n",
    "    ψ_0s = np.empty((num_distributions, n))\n",
    "\n",
    "    for i in range(num_distributions):\n",
    "        draws = np.random.randint(1, 10_000_000, size=n)\n",
    "        ψ_0s[i, :] = draws / sum(draws)  # 缩放使其总和为1\n",
    "\n",
    "    return ψ_0s\n",
    "\n",
    "# 定义函数来绘制分布\n",
    "def plot_distribution(P, ts_length, num_distributions):\n",
    "    \n",
    "    # 获取转移矩阵的参数\n",
    "    n = len(P)\n",
    "    mc = qe.MarkovChain(P)\n",
    "    ψ_star = mc.stationary_distributions[0]\n",
    "\n",
    "    # 画图\n",
    "    fig, axes = plt.subplots(nrows=1, ncols=n, figsize=[11, 5])\n",
    "    plt.subplots_adjust(wspace=0.35)\n",
    "\n",
    "    ψ_0s = generate_initial_values(num_distributions)\n",
    "\n",
    "    # 获取每个初始值的路径\n",
    "    for ψ_0 in ψ_0s:\n",
    "        ψ_t = iterate_ψ(ψ_0, P, ts_length)\n",
    "\n",
    "        # 获取并绘制每个状态的分布\n",
    "        for i in range(n):\n",
    "            axes[i].plot(range(0, ts_length), ψ_t[:, i], alpha=0.3)\n",
    "\n",
    "    # 添加标签\n",
    "    for i in range(n):\n",
    "        axes[i].axhline(ψ_star[i], linestyle='dashed', lw=2, color='black',\n",
    "                        label=fr'$\\psi^*({i})$')\n",
    "        axes[i].set_xlabel('t')\n",
    "        axes[i].set_ylabel(fr'$\\psi_t({i})$')\n",
    "        axes[i].legend()\n",
    "\n",
    "    plt.show()\n",
    "\n",
    "# 设置迭代长度和初始分布数量\n",
    "ts_length = 50\n",
    "num_distributions = 25\n",
    "\n",
    "# 调用绘制函数\n",
    "plot_distribution(P, ts_length, num_distributions)"
   ]
  },
  {
   "cell_type": "markdown",
   "id": "df152dab",
   "metadata": {},
   "source": [
    "在这个示例中，我们定义了两个函数 `generate_initial_values` 和 `plot_distribution` 来生成随机初始分布和绘制状态分布。运行这段代码将显示多个不同初始分布随时间演变至平稳状态。\n",
    "\n",
    "通过这个方式，我们可以更好地理解马尔科夫链的稳定性和渐进行为特性。\n",
    "\n",
    "## 习题集\n",
    "\n",
    "让我们将所学到的知识应用于具体问题。下面有几个练习和解决方案。\n",
    "\n",
    "```{exercise}\n",
    ":label: mc1_ex_1\n",
    "\n",
    "Imam 和 Temple {cite}`imampolitical` 使用了一个三态转移矩阵来描述一个政权的三种状态的转变：增长、停滞和崩溃\n",
    "\n",
    "$$\n",
    "P :=\n",
    "\\begin{bmatrix}\n",
    "    0.68 & 0.12 & 0.20 \\\\\n",
    "    0.50 & 0.24 & 0.26 \\\\\n",
    "    0.36 & 0.18 & 0.46\n",
    "\\end{bmatrix}\n",
    "$$\n",
    "\n",
    "其中从上到下的行依次对应增长、停滞和崩溃。\n",
    "\n",
    "在这个练习中，\n",
    "\n",
    "1. 可视化该转移矩阵并展示这一过程是渐近平稳的。\n",
    "1. 使用模拟计算平稳分布。\n",
    "1. 可视化 $(\\psi_0 P^t)(i)$ 的动态，其中 $t \\in \\{0, \\ldots, 25\\}$ 并比较收敛路径与先前的转移矩阵。\n",
    "\n",
    "对比您的解决方案和论文中的结果。\n",
    "```\n",
    "\n",
    "```{solution-start} mc1_ex_1\n",
    ":class: dropdown\n",
    "```\n",
    "\n",
    "解决方案 1:\n",
    "\n",
    "让我们通过可视化该转移矩阵来说明这一点："
   ]
  },
  {
   "cell_type": "code",
   "execution_count": null,
   "id": "cc448aba",
   "metadata": {},
   "outputs": [],
   "source": [
    "P = np.array([\n",
    "    [0.68, 0.12, 0.20],\n",
    "    [0.50, 0.24, 0.26],\n",
    "    [0.36, 0.18, 0.46]\n",
    "])"
   ]
  },
  {
   "cell_type": "markdown",
   "id": "4270c169",
   "metadata": {},
   "source": [
    "由于矩阵的各元素均为正值，因此该过程是渐近平稳的。\n",
    "\n",
    "接下来，使用模拟来计算平稳分布，"
   ]
  },
  {
   "cell_type": "code",
   "execution_count": null,
   "id": "07880b25",
   "metadata": {},
   "outputs": [],
   "source": [
    "mc = qe.MarkovChain(P)\n",
    "stationary_distribution = mc.stationary_distributions[0]\n",
    "print(\"平稳分布:\", stationary_distribution)"
   ]
  },
  {
   "cell_type": "markdown",
   "id": "f85f070d",
   "metadata": {},
   "source": [
    "### 计算平稳分布\n",
    "\n",
    "通过上述代码，我们已经计算出平稳分布。\n",
    "\n",
    "为了进一步分析 $(\\psi_0 P^t)(i)$ 的动态，我们使用如下代码，"
   ]
  },
  {
   "cell_type": "code",
   "execution_count": null,
   "id": "aa2b1a81",
   "metadata": {},
   "outputs": [],
   "source": [
    "# 初始分布\n",
    "ψ_0 = np.array([0.4, 0.4, 0.2])\n",
    "ts_length = 25\n",
    "\n",
    "result = iterate_ψ(ψ_0, P, ts_length)\n",
    "\n",
    "plt.plot(result)\n",
    "plt.title(\"转移路径随时间的变化\")\n",
    "plt.xlabel(\"时间t\")\n",
    "plt.ylabel(\"分布\")\n",
    "plt.legend([\"增长\", \"停滞\", \"崩溃\"], loc=\"upper right\")\n",
    "plt.grid()\n",
    "plt.show()"
   ]
  },
  {
   "cell_type": "markdown",
   "id": "31293717",
   "metadata": {},
   "source": [
    "我们通过此代码可视化了 $(\\psi_0 P^t)(i)$ 随时间变化的路径，并与先前的转移矩阵的收敛路径进行了比较。\n",
    "\n",
    "通过这些练习及解答，您已经掌握了如何利用马尔科夫链和转移矩阵来描述和预测系统的行为，并且学会了如何计算和可视化平稳分布。\n",
    "\n",
    "```{solution-end}\n",
    "```\n",
    "\n",
    "```{exercise}\n",
    ":label: mc1_ex_2\n",
    "\n",
    "考虑以下转移矩阵：\n",
    "\n",
    "$$\n",
    "P =\n",
    "\\begin{bmatrix}\n",
    "0.9 & 0.075 & 0.025 \\\\\n",
    "0.15 & 0.8 & 0.05 \\\\\n",
    "0.25 & 0.25 & 0.5\n",
    "\\end{bmatrix}\n",
    "$$\n",
    "\n",
    "1. 使用 `QuantEcon` 计算并验证平稳分布。\n",
    "2. 按照上述步骤，生成若干路径，并绘制这些路径的演变过程。\n",
    "\n",
    "将结果与直接通过解析的方式计算出的平稳分布进行比较。\n",
    "```\n",
    "\n",
    "```{solution-start} mc1_ex_2\n",
    ":class: dropdown\n",
    "```\n",
    "\n",
    "### 解决方案 2:\n",
    "\n",
    "首先计算并验证平稳分布。"
   ]
  },
  {
   "cell_type": "code",
   "execution_count": null,
   "id": "53e369c0",
   "metadata": {},
   "outputs": [],
   "source": [
    "P = np.array([[0.9, 0.075, 0.025],\n",
    "              [0.15, 0.8, 0.05],\n",
    "              [0.25, 0.25, 0.5]])\n",
    "mc = qe.MarkovChain(P)\n",
    "stationary_distribution = mc.stationary_distributions[0]\n",
    "print(\"平稳分布:\", stationary_distribution)"
   ]
  },
  {
   "cell_type": "markdown",
   "id": "cdb3c315",
   "metadata": {},
   "source": [
    "通过 `QuantEcon` 我们可以计算出平稳分布。\n",
    "\n",
    "接下来，我们按照上述步骤，生成若干路径，并绘制这些路径的演变过程。"
   ]
  },
  {
   "cell_type": "code",
   "execution_count": null,
   "id": "353bc8b6",
   "metadata": {},
   "outputs": [],
   "source": [
    "# 定义迭代长度和初始分布数量\n",
    "ts_length = 100\n",
    "num_distributions = 50\n",
    "\n",
    "# 调用绘制函数\n",
    "plot_distribution(P, ts_length, num_distributions)"
   ]
  },
  {
   "cell_type": "markdown",
   "id": "37cd1380",
   "metadata": {},
   "source": [
    "通过这种方法，我们可以观察到各种初始分布在不断迭代中演变成平稳分布的过程。\n",
    "\n",
    "与平稳分布的解析解进行比较，模拟出的平稳分布应与 `QuantEcon` 计算的结果一致。\n",
    "\n",
    "```{solution-end}\n",
    "```\n",
    "\n",
    "```{exercise}\n",
    ":label: mc1_ex_3\n",
    "\n",
    "验证以下性质：\n",
    "\n",
    "1. 一个随机矩阵的每一行都是一个概率质量函数（行和为1）。\n",
    "2. 如果 $P$ 是一个随机矩阵，则 $P^k$ 也是一个随机矩阵（对任意正整数 $k$）。\n",
    "\n",
    "验证这几点通过实际计算示例。\n",
    "```\n",
    "\n",
    "```{solution-start} mc1_ex_3\n",
    ":class: dropdown\n",
    "```\n",
    "\n",
    "解决方案 3:\n",
    "\n",
    "首先，我们验证一个随机矩阵的每一行都是一个概率质量函数。"
   ]
  },
  {
   "cell_type": "code",
   "execution_count": null,
   "id": "7bfaadde",
   "metadata": {},
   "outputs": [],
   "source": [
    "P = np.array([\n",
    "    [0.7, 0.3],\n",
    "    [0.6, 0.4]\n",
    "])\n",
    "row_sums = P.sum(axis=1)\n",
    "print(\"每一行的行和:\", row_sums)"
   ]
  },
  {
   "cell_type": "markdown",
   "id": "f234eea0",
   "metadata": {},
   "source": [
    "输出应该为 `[1.0, 1.0]`，这验证了每一行确实都是一个概率质量函数。\n",
    "\n",
    "其次，我们验证如果 $P$ 是一个随机矩阵，那么 $P^k$ 也是一个随机矩阵。"
   ]
  },
  {
   "cell_type": "code",
   "execution_count": null,
   "id": "20f61c1c",
   "metadata": {},
   "outputs": [],
   "source": [
    "P_squared = np.dot(P, P)  # 计算 P^2\n",
    "row_sums_squared = P_squared.sum(axis=1)\n",
    "print(\"P^2 每一行的行和:\", row_sums_squared)"
   ]
  },
  {
   "cell_type": "markdown",
   "id": "a9d6f4ec",
   "metadata": {},
   "source": [
    "输出应该仍然是 `[1.0, 1.0]`，这验证了 $P^2$ 也是一个随机矩阵。\n",
    "\n",
    "我们可以进一步验证 $P^3$、$P^4$ 等具有相同性质："
   ]
  },
  {
   "cell_type": "code",
   "execution_count": null,
   "id": "2d17098d",
   "metadata": {},
   "outputs": [],
   "source": [
    "P_cubed = np.linalg.matrix_power(P, 3)  # 计算 P^3\n",
    "row_sums_cubed = P_cubed.sum(axis=1)\n",
    "print(\"P^3 每一行的行和:\", row_sums_cubed)"
   ]
  },
  {
   "cell_type": "markdown",
   "id": "1fa2d2e9",
   "metadata": {},
   "source": [
    "通过以上这些计算示例，我们验证了随机矩阵的每一个重要性质。\n",
    "\n",
    "```{solution-end}\n",
    "```\n",
    "\n",
    "```{exercise}\n",
    ":label: mc1_ex_4\n",
    "\n",
    "重现解决方案 1 中 Hamilton 链的仿真路径及状态分布随时间的动态变化。\n",
    "\n",
    "步骤：\n",
    "\n",
    "1. 为 Hamilton 链生成一个转移矩阵。\n",
    "2. 使用 QuantEcon 库生成该链的随机路径。\n",
    "3. 可视化样本路径并绘制状态随时间的变化。\n",
    "\n",
    "验证最终的状态分布是否收敛到理论平稳分布。\n",
    "```\n",
    "\n",
    "```{solution-start} mc1_ex_4\n",
    ":class: dropdown\n",
    "```\n",
    "\n",
    "### 解决方案 4:\n",
    "\n",
    "首先，为 Hamilton 链生成一个转移矩阵："
   ]
  },
  {
   "cell_type": "code",
   "execution_count": null,
   "id": "07866117",
   "metadata": {},
   "outputs": [],
   "source": [
    "P = np.array([[0.971, 0.029, 0.000],\n",
    "              [0.145, 0.778, 0.077],\n",
    "              [0.000, 0.508, 0.492]])\n",
    "\n",
    "print(P)"
   ]
  },
  {
   "cell_type": "markdown",
   "id": "bd81e0c5",
   "metadata": {},
   "source": [
    "其次，使用 QuantEcon 库生成该链的随机路径："
   ]
  },
  {
   "cell_type": "code",
   "execution_count": null,
   "id": "289a9bde",
   "metadata": {},
   "outputs": [],
   "source": [
    "mc = qe.MarkovChain(P)\n",
    "sample_path = mc.simulate(ts_length=1000, init=0)\n",
    "\n",
    "print(\"样本路径的前十个状态:\", sample_path[:10])"
   ]
  },
  {
   "cell_type": "markdown",
   "id": "90439ac5",
   "metadata": {},
   "source": [
    "接下来，可视化样本路径并绘制状态随时间的变化："
   ]
  },
  {
   "cell_type": "code",
   "execution_count": null,
   "id": "5613aacd",
   "metadata": {},
   "outputs": [],
   "source": [
    "plt.figure(figsize=(10, 6))\n",
    "plt.plot(sample_path, 'o-', color='cyan', markersize=3)\n",
    "plt.xlabel('时间')\n",
    "plt.ylabel('状态')\n",
    "plt.title('Hamilton 链样本路径')\n",
    "plt.grid()\n",
    "plt.show()"
   ]
  },
  {
   "cell_type": "markdown",
   "id": "524700a8",
   "metadata": {},
   "source": [
    "最后，验证最终的状态分布是否收敛到理论平稳分布："
   ]
  },
  {
   "cell_type": "code",
   "execution_count": null,
   "id": "8584f84c",
   "metadata": {},
   "outputs": [],
   "source": [
    "stationary_distribution = mc.stationary_distributions[0]\n",
    "final_distribution = np.bincount(sample_path) / len(sample_path)\n",
    "\n",
    "print(\"理论平稳分布:\", stationary_distribution)\n",
    "print(\"仿真最终分布:\", final_distribution)"
   ]
  },
  {
   "cell_type": "markdown",
   "id": "9ba15e53",
   "metadata": {},
   "source": [
    "通过这些步骤，我们重新生成了 Hamilton 链的仿真路径和状态分布的动态变化，并验证了仿真最终分布收敛于理论平稳分布。\n",
    "\n",
    "```{solution-end}\n",
    "```"
   ]
  }
 ],
 "metadata": {
  "jupytext": {
   "text_representation": {
    "extension": ".md",
    "format_name": "myst",
    "format_version": 0.13,
    "jupytext_version": "1.14.4"
   }
  },
  "kernelspec": {
   "display_name": "Python 3 (ipykernel)",
   "language": "python",
   "name": "python3"
  },
  "language_info": {
   "codemirror_mode": {
    "name": "ipython",
    "version": 3
   },
   "file_extension": ".py",
   "mimetype": "text/x-python",
   "name": "python",
   "nbconvert_exporter": "python",
   "pygments_lexer": "ipython3",
   "version": "3.10.12"
  },
  "source_map": [
   12,
   21,
   25,
   48,
   55,
   225,
   233,
   237,
   266,
   358,
   362,
   370,
   411,
   419,
   441,
   462,
   464,
   468,
   484,
   505,
   519,
   550,
   552,
   562,
   565,
   575,
   579,
   583,
   591,
   597,
   602,
   604,
   639,
   649,
   659,
   663,
   665,
   669,
   671,
   728,
   733,
   799,
   805,
   833,
   838,
   848,
   857,
   861,
   875,
   887,
   907,
   917,
   964,
   987,
   999,
   1011,
   1042,
   1050,
   1060,
   1070,
   1126,
   1169,
   1175,
   1181,
   1185,
   1193,
   1207,
   1244,
   1251,
   1257,
   1264,
   1292,
   1299,
   1305,
   1309,
   1315,
   1319,
   1348,
   1354,
   1358,
   1363,
   1367,
   1375,
   1379,
   1385
  ]
 },
 "nbformat": 4,
 "nbformat_minor": 5
}