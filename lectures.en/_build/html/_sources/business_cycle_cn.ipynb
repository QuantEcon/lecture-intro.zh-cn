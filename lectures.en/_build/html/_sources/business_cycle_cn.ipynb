{
 "cells": [
  {
   "cell_type": "markdown",
   "id": "6d2dde65",
   "metadata": {},
   "source": [
    "# 经济周期\n",
    "\n",
    "## 概述\n",
    "\n",
    "在本讲座中，我们将回顾经济周期的一些经验方面。\n",
    "\n",
    "经济周期是经济活动随时间波动的现象。\n",
    "\n",
    "这些包括扩张（也称为繁荣）和收缩（也称为衰退）。\n",
    "\n",
    "为了我们的研究，我们将使用来自[世界银行](https://documents.worldbank.org/en/publication/documents-reports/api)和[FRED](https://fred.stlouisfed.org/)的经济指标。\n",
    "\n",
    "除了由Anaconda已安装的软件包外，本讲座还需要"
   ]
  },
  {
   "cell_type": "code",
   "execution_count": 1,
   "id": "ad957661",
   "metadata": {
    "tags": [
     "hide-output"
    ]
   },
   "outputs": [
    {
     "name": "stdout",
     "output_type": "stream",
     "text": [
      "Requirement already satisfied: wbgapi in /home/humphrey/anaconda3/envs/quantecon/lib/python3.10/site-packages (1.0.12)\r\n",
      "Requirement already satisfied: requests in /home/humphrey/anaconda3/envs/quantecon/lib/python3.10/site-packages (from wbgapi) (2.31.0)\r\n",
      "Requirement already satisfied: PyYAML in /home/humphrey/anaconda3/envs/quantecon/lib/python3.10/site-packages (from wbgapi) (6.0)\r\n",
      "Requirement already satisfied: tabulate in /home/humphrey/anaconda3/envs/quantecon/lib/python3.10/site-packages (from wbgapi) (0.8.10)\r\n",
      "Requirement already satisfied: charset-normalizer<4,>=2 in /home/humphrey/anaconda3/envs/quantecon/lib/python3.10/site-packages (from requests->wbgapi) (2.0.4)\r\n",
      "Requirement already satisfied: idna<4,>=2.5 in /home/humphrey/anaconda3/envs/quantecon/lib/python3.10/site-packages (from requests->wbgapi) (3.4)\r\n",
      "Requirement already satisfied: urllib3<3,>=1.21.1 in /home/humphrey/anaconda3/envs/quantecon/lib/python3.10/site-packages (from requests->wbgapi) (1.26.16)\r\n",
      "Requirement already satisfied: certifi>=2017.4.17 in /home/humphrey/anaconda3/envs/quantecon/lib/python3.10/site-packages (from requests->wbgapi) (2023.7.22)\r\n"
     ]
    },
    {
     "name": "stdout",
     "output_type": "stream",
     "text": [
      "\r\n",
      "\u001b[1m[\u001b[0m\u001b[34;49mnotice\u001b[0m\u001b[1;39;49m]\u001b[0m\u001b[39;49m A new release of pip is available: \u001b[0m\u001b[31;49m24.0\u001b[0m\u001b[39;49m -> \u001b[0m\u001b[32;49m24.1.2\u001b[0m\r\n",
      "\u001b[1m[\u001b[0m\u001b[34;49mnotice\u001b[0m\u001b[1;39;49m]\u001b[0m\u001b[39;49m To update, run: \u001b[0m\u001b[32;49mpip install --upgrade pip\u001b[0m\r\n"
     ]
    },
    {
     "name": "stdout",
     "output_type": "stream",
     "text": [
      "Requirement already satisfied: pandas-datareader in /home/humphrey/anaconda3/envs/quantecon/lib/python3.10/site-packages (0.10.0)\r\n",
      "Requirement already satisfied: lxml in /home/humphrey/anaconda3/envs/quantecon/lib/python3.10/site-packages (from pandas-datareader) (4.9.1)\r\n",
      "Requirement already satisfied: pandas>=0.23 in /home/humphrey/anaconda3/envs/quantecon/lib/python3.10/site-packages (from pandas-datareader) (2.2.2)\r\n",
      "Requirement already satisfied: requests>=2.19.0 in /home/humphrey/anaconda3/envs/quantecon/lib/python3.10/site-packages (from pandas-datareader) (2.31.0)\r\n"
     ]
    },
    {
     "name": "stdout",
     "output_type": "stream",
     "text": [
      "Requirement already satisfied: numpy>=1.22.4 in /home/humphrey/anaconda3/envs/quantecon/lib/python3.10/site-packages (from pandas>=0.23->pandas-datareader) (1.24.3)\r\n",
      "Requirement already satisfied: python-dateutil>=2.8.2 in /home/humphrey/anaconda3/envs/quantecon/lib/python3.10/site-packages (from pandas>=0.23->pandas-datareader) (2.8.2)\r\n",
      "Requirement already satisfied: pytz>=2020.1 in /home/humphrey/anaconda3/envs/quantecon/lib/python3.10/site-packages (from pandas>=0.23->pandas-datareader) (2022.7)\r\n",
      "Requirement already satisfied: tzdata>=2022.7 in /home/humphrey/anaconda3/envs/quantecon/lib/python3.10/site-packages (from pandas>=0.23->pandas-datareader) (2024.1)\r\n",
      "Requirement already satisfied: charset-normalizer<4,>=2 in /home/humphrey/anaconda3/envs/quantecon/lib/python3.10/site-packages (from requests>=2.19.0->pandas-datareader) (2.0.4)\r\n",
      "Requirement already satisfied: idna<4,>=2.5 in /home/humphrey/anaconda3/envs/quantecon/lib/python3.10/site-packages (from requests>=2.19.0->pandas-datareader) (3.4)\r\n",
      "Requirement already satisfied: urllib3<3,>=1.21.1 in /home/humphrey/anaconda3/envs/quantecon/lib/python3.10/site-packages (from requests>=2.19.0->pandas-datareader) (1.26.16)\r\n",
      "Requirement already satisfied: certifi>=2017.4.17 in /home/humphrey/anaconda3/envs/quantecon/lib/python3.10/site-packages (from requests>=2.19.0->pandas-datareader) (2023.7.22)\r\n"
     ]
    },
    {
     "name": "stdout",
     "output_type": "stream",
     "text": [
      "Requirement already satisfied: six>=1.5 in /home/humphrey/anaconda3/envs/quantecon/lib/python3.10/site-packages (from python-dateutil>=2.8.2->pandas>=0.23->pandas-datareader) (1.16.0)\r\n"
     ]
    },
    {
     "name": "stdout",
     "output_type": "stream",
     "text": [
      "\r\n",
      "\u001b[1m[\u001b[0m\u001b[34;49mnotice\u001b[0m\u001b[1;39;49m]\u001b[0m\u001b[39;49m A new release of pip is available: \u001b[0m\u001b[31;49m24.0\u001b[0m\u001b[39;49m -> \u001b[0m\u001b[32;49m24.1.2\u001b[0m\r\n",
      "\u001b[1m[\u001b[0m\u001b[34;49mnotice\u001b[0m\u001b[1;39;49m]\u001b[0m\u001b[39;49m To update, run: \u001b[0m\u001b[32;49mpip install --upgrade pip\u001b[0m\r\n"
     ]
    }
   ],
   "source": [
    "!pip install wbgapi\n",
    "!pip install pandas-datareader"
   ]
  },
  {
   "cell_type": "markdown",
   "id": "b82d6ece",
   "metadata": {},
   "source": [
    "我们使用以下导入"
   ]
  },
  {
   "cell_type": "code",
   "execution_count": 2,
   "id": "fd62540c",
   "metadata": {},
   "outputs": [
    {
     "name": "stderr",
     "output_type": "stream",
     "text": [
      "/home/humphrey/anaconda3/envs/quantecon/lib/python3.10/site-packages/pandas/core/arrays/masked.py:60: UserWarning: Pandas requires version '1.3.6' or newer of 'bottleneck' (version '1.3.5' currently installed).\n",
      "  from pandas.core import (\n"
     ]
    }
   ],
   "source": [
    "import matplotlib.pyplot as plt\n",
    "import pandas as pd\n",
    "import datetime\n",
    "import wbgapi as wb\n",
    "import pandas_datareader.data as web\n",
    "from matplotlib import font_manager\n",
    "\n",
    "fontP = font_manager.FontProperties()\n",
    "fontP.set_family('SimHei')\n",
    "fontP.set_size(14)"
   ]
  },
  {
   "cell_type": "markdown",
   "id": "c1e7ab38",
   "metadata": {},
   "source": [
    "这是我们绘图时处理颜色的一些小代码。"
   ]
  },
  {
   "cell_type": "code",
   "execution_count": 3,
   "id": "7b9e958b",
   "metadata": {
    "tags": [
     "hide-input"
    ]
   },
   "outputs": [],
   "source": [
    "# 设置图形参数\n",
    "cycler = plt.cycler(linestyle=['-', '-.', '--', ':'], \n",
    "        color=['#377eb8', '#ff7f00', '#4daf4a', '#ff334f'])\n",
    "plt.rc('axes', prop_cycle=cycler)"
   ]
  },
  {
   "cell_type": "markdown",
   "id": "877945d6",
   "metadata": {},
   "source": [
    "## 获取数据\n",
    "\n",
    "我们将使用世界银行的数据 API `wbgapi` 和 `pandas_datareader` 来检索数据。\n",
    "\n",
    "我们可以使用 `wb.series.info` 参数 `q` 来从[世界银行](https://www.worldbank.org/en/home)查询可用数据。\n",
    "\n",
    "例如，让我们检索 GDP 增长数据 ID 来查询 GDP 增长数据。"
   ]
  },
  {
   "cell_type": "code",
   "execution_count": 4,
   "id": "4d9efc17",
   "metadata": {},
   "outputs": [
    {
     "data": {
      "text/html": [
       "<div class=\"wbgapi\"><table>\n",
       "<thead>\n",
       "<tr><th>id               </th><th>value                </th></tr>\n",
       "</thead>\n",
       "<tbody>\n",
       "<tr><td>NY.GDP.MKTP.KD.ZG</td><td>GDP growth (annual %)</td></tr>\n",
       "<tr><td>                 </td><td>1 elements           </td></tr>\n",
       "</tbody>\n",
       "</table></div>"
      ],
      "text/plain": [
       "id                 value\n",
       "-----------------  ---------------------\n",
       "NY.GDP.MKTP.KD.ZG  GDP growth (annual %)\n",
       "                   1 elements"
      ]
     },
     "execution_count": 4,
     "metadata": {},
     "output_type": "execute_result"
    }
   ],
   "source": [
    "wb.series.info(q='GDP growth')"
   ]
  },
  {
   "cell_type": "markdown",
   "id": "5f0b02b7",
   "metadata": {},
   "source": [
    "现在我们使用这个系列 ID 来获取数据。"
   ]
  },
  {
   "cell_type": "code",
   "execution_count": 5,
   "id": "83a1c04e",
   "metadata": {},
   "outputs": [
    {
     "data": {
      "text/html": [
       "<div>\n",
       "<style scoped>\n",
       "    .dataframe tbody tr th:only-of-type {\n",
       "        vertical-align: middle;\n",
       "    }\n",
       "\n",
       "    .dataframe tbody tr th {\n",
       "        vertical-align: top;\n",
       "    }\n",
       "\n",
       "    .dataframe thead th {\n",
       "        text-align: right;\n",
       "    }\n",
       "</style>\n",
       "<table border=\"1\" class=\"dataframe\">\n",
       "  <thead>\n",
       "    <tr style=\"text-align: right;\">\n",
       "      <th></th>\n",
       "      <th>Country</th>\n",
       "      <th>YR1960</th>\n",
       "      <th>YR1961</th>\n",
       "      <th>YR1962</th>\n",
       "      <th>YR1963</th>\n",
       "      <th>YR1964</th>\n",
       "      <th>YR1965</th>\n",
       "      <th>YR1966</th>\n",
       "      <th>YR1967</th>\n",
       "      <th>YR1968</th>\n",
       "      <th>...</th>\n",
       "      <th>YR2014</th>\n",
       "      <th>YR2015</th>\n",
       "      <th>YR2016</th>\n",
       "      <th>YR2017</th>\n",
       "      <th>YR2018</th>\n",
       "      <th>YR2019</th>\n",
       "      <th>YR2020</th>\n",
       "      <th>YR2021</th>\n",
       "      <th>YR2022</th>\n",
       "      <th>YR2023</th>\n",
       "    </tr>\n",
       "    <tr>\n",
       "      <th>economy</th>\n",
       "      <th></th>\n",
       "      <th></th>\n",
       "      <th></th>\n",
       "      <th></th>\n",
       "      <th></th>\n",
       "      <th></th>\n",
       "      <th></th>\n",
       "      <th></th>\n",
       "      <th></th>\n",
       "      <th></th>\n",
       "      <th></th>\n",
       "      <th></th>\n",
       "      <th></th>\n",
       "      <th></th>\n",
       "      <th></th>\n",
       "      <th></th>\n",
       "      <th></th>\n",
       "      <th></th>\n",
       "      <th></th>\n",
       "      <th></th>\n",
       "      <th></th>\n",
       "    </tr>\n",
       "  </thead>\n",
       "  <tbody>\n",
       "    <tr>\n",
       "      <th>JPN</th>\n",
       "      <td>Japan</td>\n",
       "      <td>NaN</td>\n",
       "      <td>12.043536</td>\n",
       "      <td>8.908973</td>\n",
       "      <td>8.473642</td>\n",
       "      <td>11.676708</td>\n",
       "      <td>5.819708</td>\n",
       "      <td>10.638562</td>\n",
       "      <td>11.082142</td>\n",
       "      <td>12.882468</td>\n",
       "      <td>...</td>\n",
       "      <td>0.296206</td>\n",
       "      <td>1.560627</td>\n",
       "      <td>0.753827</td>\n",
       "      <td>1.675332</td>\n",
       "      <td>0.643391</td>\n",
       "      <td>-0.402169</td>\n",
       "      <td>-4.147119</td>\n",
       "      <td>2.559320</td>\n",
       "      <td>0.954737</td>\n",
       "      <td>1.923056</td>\n",
       "    </tr>\n",
       "    <tr>\n",
       "      <th>GRC</th>\n",
       "      <td>Greece</td>\n",
       "      <td>NaN</td>\n",
       "      <td>13.203841</td>\n",
       "      <td>0.364811</td>\n",
       "      <td>11.844867</td>\n",
       "      <td>9.409678</td>\n",
       "      <td>10.768010</td>\n",
       "      <td>6.494501</td>\n",
       "      <td>5.669486</td>\n",
       "      <td>7.203719</td>\n",
       "      <td>...</td>\n",
       "      <td>0.475696</td>\n",
       "      <td>-0.196088</td>\n",
       "      <td>-0.487173</td>\n",
       "      <td>1.092149</td>\n",
       "      <td>1.668429</td>\n",
       "      <td>1.879490</td>\n",
       "      <td>-9.316436</td>\n",
       "      <td>8.379944</td>\n",
       "      <td>5.557287</td>\n",
       "      <td>2.011521</td>\n",
       "    </tr>\n",
       "    <tr>\n",
       "      <th>GBR</th>\n",
       "      <td>United Kingdom</td>\n",
       "      <td>NaN</td>\n",
       "      <td>2.701314</td>\n",
       "      <td>1.098696</td>\n",
       "      <td>4.859545</td>\n",
       "      <td>5.594811</td>\n",
       "      <td>2.130333</td>\n",
       "      <td>1.567450</td>\n",
       "      <td>2.775738</td>\n",
       "      <td>5.472693</td>\n",
       "      <td>...</td>\n",
       "      <td>3.195782</td>\n",
       "      <td>2.220258</td>\n",
       "      <td>1.921063</td>\n",
       "      <td>2.655070</td>\n",
       "      <td>1.403792</td>\n",
       "      <td>1.641611</td>\n",
       "      <td>-10.359901</td>\n",
       "      <td>8.674904</td>\n",
       "      <td>4.345229</td>\n",
       "      <td>0.104018</td>\n",
       "    </tr>\n",
       "    <tr>\n",
       "      <th>ARG</th>\n",
       "      <td>Argentina</td>\n",
       "      <td>NaN</td>\n",
       "      <td>5.427843</td>\n",
       "      <td>-0.852022</td>\n",
       "      <td>-5.308197</td>\n",
       "      <td>10.130298</td>\n",
       "      <td>10.569433</td>\n",
       "      <td>-0.659726</td>\n",
       "      <td>3.191997</td>\n",
       "      <td>4.822501</td>\n",
       "      <td>...</td>\n",
       "      <td>-2.512615</td>\n",
       "      <td>2.731160</td>\n",
       "      <td>-2.080328</td>\n",
       "      <td>2.818503</td>\n",
       "      <td>-2.617396</td>\n",
       "      <td>-2.000861</td>\n",
       "      <td>-9.900485</td>\n",
       "      <td>10.718010</td>\n",
       "      <td>4.956370</td>\n",
       "      <td>-1.550502</td>\n",
       "    </tr>\n",
       "    <tr>\n",
       "      <th>USA</th>\n",
       "      <td>United States</td>\n",
       "      <td>NaN</td>\n",
       "      <td>2.300000</td>\n",
       "      <td>6.100000</td>\n",
       "      <td>4.400000</td>\n",
       "      <td>5.800000</td>\n",
       "      <td>6.400000</td>\n",
       "      <td>6.500000</td>\n",
       "      <td>2.500000</td>\n",
       "      <td>4.800000</td>\n",
       "      <td>...</td>\n",
       "      <td>2.523820</td>\n",
       "      <td>2.945550</td>\n",
       "      <td>1.819451</td>\n",
       "      <td>2.457622</td>\n",
       "      <td>2.966505</td>\n",
       "      <td>2.467038</td>\n",
       "      <td>-2.213469</td>\n",
       "      <td>5.800206</td>\n",
       "      <td>1.935496</td>\n",
       "      <td>2.542700</td>\n",
       "    </tr>\n",
       "  </tbody>\n",
       "</table>\n",
       "<p>5 rows × 65 columns</p>\n",
       "</div>"
      ],
      "text/plain": [
       "                Country  YR1960     YR1961    YR1962     YR1963     YR1964  \\\n",
       "economy                                                                      \n",
       "JPN               Japan     NaN  12.043536  8.908973   8.473642  11.676708   \n",
       "GRC              Greece     NaN  13.203841  0.364811  11.844867   9.409678   \n",
       "GBR      United Kingdom     NaN   2.701314  1.098696   4.859545   5.594811   \n",
       "ARG           Argentina     NaN   5.427843 -0.852022  -5.308197  10.130298   \n",
       "USA       United States     NaN   2.300000  6.100000   4.400000   5.800000   \n",
       "\n",
       "            YR1965     YR1966     YR1967     YR1968  ...    YR2014    YR2015  \\\n",
       "economy                                              ...                       \n",
       "JPN       5.819708  10.638562  11.082142  12.882468  ...  0.296206  1.560627   \n",
       "GRC      10.768010   6.494501   5.669486   7.203719  ...  0.475696 -0.196088   \n",
       "GBR       2.130333   1.567450   2.775738   5.472693  ...  3.195782  2.220258   \n",
       "ARG      10.569433  -0.659726   3.191997   4.822501  ... -2.512615  2.731160   \n",
       "USA       6.400000   6.500000   2.500000   4.800000  ...  2.523820  2.945550   \n",
       "\n",
       "           YR2016    YR2017    YR2018    YR2019     YR2020     YR2021  \\\n",
       "economy                                                                 \n",
       "JPN      0.753827  1.675332  0.643391 -0.402169  -4.147119   2.559320   \n",
       "GRC     -0.487173  1.092149  1.668429  1.879490  -9.316436   8.379944   \n",
       "GBR      1.921063  2.655070  1.403792  1.641611 -10.359901   8.674904   \n",
       "ARG     -2.080328  2.818503 -2.617396 -2.000861  -9.900485  10.718010   \n",
       "USA      1.819451  2.457622  2.966505  2.467038  -2.213469   5.800206   \n",
       "\n",
       "           YR2022    YR2023  \n",
       "economy                      \n",
       "JPN      0.954737  1.923056  \n",
       "GRC      5.557287  2.011521  \n",
       "GBR      4.345229  0.104018  \n",
       "ARG      4.956370 -1.550502  \n",
       "USA      1.935496  2.542700  \n",
       "\n",
       "[5 rows x 65 columns]"
      ]
     },
     "execution_count": 5,
     "metadata": {},
     "output_type": "execute_result"
    }
   ],
   "source": [
    "gdp_growth = wb.data.DataFrame('NY.GDP.MKTP.KD.ZG',\n",
    "            ['USA', 'ARG', 'GBR', 'GRC', 'JPN'], \n",
    "            labels=True)\n",
    "gdp_growth"
   ]
  },
  {
   "cell_type": "markdown",
   "id": "48e81a93",
   "metadata": {},
   "source": [
    "我们可以查看该系列的元数据以了解更多关于该系列的信息（点击展开）。"
   ]
  },
  {
   "cell_type": "code",
   "execution_count": 6,
   "id": "26304f49",
   "metadata": {
    "tags": [
     "hide-output"
    ]
   },
   "outputs": [
    {
     "data": {
      "text/html": [
       "<div class=\"wbgapi\"><h4>Series: NY.GDP.MKTP.KD.ZG</h4><table>\n",
       "<thead>\n",
       "<tr><th>Field                           </th><th>Value                                                                                                                                                                                                                                                                                                                                                                                                                                                                                                                                                                                                                    </th></tr>\n",
       "</thead>\n",
       "<tbody>\n",
       "<tr><td>Aggregationmethod               </td><td>Weighted average                                                                                                                                                                                                                                                                                                                                                                                                                                                                                                                                                                                                         </td></tr>\n",
       "<tr><td>Developmentrelevance            </td><td>An economy&#x27;s growth is measured by the change in the volume of its output or in the real incomes of its residents. The 2008 United Nations System of National Accounts (2008 SNA) offers three plausible indicators for calculating growth: the volume of gross domestic product (GDP), real gross domestic income, and real gross national income. The volume of GDP is the sum of value added, measured at constant prices, by households, government, and industries operating in the economy. GDP accounts for all domestic production, regardless of whether the income accrues to domestic or foreign institutions.</td></tr>\n",
       "<tr><td>IndicatorName                   </td><td>GDP growth (annual %)                                                                                                                                                                                                                                                                                                                                                                                                                                                                                                                                                                                                    </td></tr>\n",
       "<tr><td>License_Type                    </td><td>CC BY-4.0                                                                                                                                                                                                                                                                                                                                                                                                                                                                                                                                                                                                                </td></tr>\n",
       "<tr><td>License_URL                     </td><td>https://datacatalog.worldbank.org/public-licenses#cc-by                                                                                                                                                                                                                                                                                                                                                                                                                                                                                                                                                                  </td></tr>\n",
       "<tr><td>Limitationsandexceptions        </td><td>Each industry&#x27;s contribution to growth in the economy&#x27;s output is measured by growth in the industry&#x27;s value added. In principle, value added in constant prices can be estimated by measuring the quantity of goods and services produced in a period, valuing them at an agreed set of base year prices, and subtracting the cost of intermediate inputs, also in constant prices. This double-deflation method requires detailed information on the structure of prices of inputs and outputs.\n",
       "\n",
       "In many industries, however, value added is extrapolated from the base year using single volume indexes of outputs or, less commonly, inputs. Particularly in the services industries, including most of government, value added in constant prices is often imputed from labor inputs, such as real wages or number of employees. In the absence of well defined measures of output, measuring the growth of services remains difficult.\n",
       "\n",
       "Moreover, technical progress can lead to improvements in production processes and in the quality of goods and services that, if not properly accounted for, can distort measures of value added and thus of growth. When inputs are used to estimate output, as for nonmarket services, unmeasured technical progress leads to underestimates of the volume of output. Similarly, unmeasured improvements in quality lead to underestimates of the value of output and value added. The result can be underestimates of growth and productivity improvement and overestimates of inflation.\n",
       "\n",
       "Informal economic activities pose a particular measurement problem, especially in developing countries, where much economic activity is unrecorded. A complete picture of the economy requires estimating household outputs produced for home use, sales in informal markets, barter exchanges, and illicit or deliberately unreported activities. The consistency and completeness of such estimates depend on the skill and methods of the compiling statisticians.\n",
       "\n",
       "Rebasing of national accounts can alter the measured growth rate of an economy and lead to breaks in series that affect the consistency of data over time. When countries rebase their national accounts, they update the weights assigned to various components to better reflect current patterns of production or uses of output. The new base year should represent normal operation of the economy - it should be a year without major shocks or distortions. Some developing countries have not rebased their national accounts for many years. Using an old base year can be misleading because implicit price and volume weights become progressively less relevant and useful.\n",
       "\n",
       "To obtain comparable series of constant price data for computing aggregates, the World Bank rescales GDP and value added by industrial origin to a common reference year. Because rescaling changes the implicit weights used in forming regional and income group aggregates, aggregate growth rates are not comparable with those from earlier editions with different base years. Rescaling may result in a discrepancy between the rescaled GDP and the sum of the rescaled components. To avoid distortions in the growth rates, the discrepancy is left unallocated. As a result, the weighted average of the growth rates of the components generally does not equal the GDP growth rate.                                                                                                                                                                                                                                                                                                                                                                                                                                                                                                                                                                                                                          </td></tr>\n",
       "<tr><td>Longdefinition                  </td><td>Annual percentage growth rate of GDP at market prices based on constant local currency. Aggregates are based on constant 2015 prices, expressed in U.S. dollars. GDP is the sum of gross value added by all resident producers in the economy plus any product taxes and minus any subsidies not included in the value of the products. It is calculated without making deductions for depreciation of fabricated assets or for depletion and degradation of natural resources.                                                                                                                                          </td></tr>\n",
       "<tr><td>Periodicity                     </td><td>Annual                                                                                                                                                                                                                                                                                                                                                                                                                                                                                                                                                                                                                   </td></tr>\n",
       "<tr><td>Source                          </td><td>World Bank national accounts data, and OECD National Accounts data files.                                                                                                                                                                                                                                                                                                                                                                                                                                                                                                                                                </td></tr>\n",
       "<tr><td>Statisticalconceptandmethodology</td><td>Gross domestic product (GDP) represents the sum of value added by all its producers. Value added is the value of the gross output of producers less the value of intermediate goods and services consumed in production, before accounting for consumption of fixed capital in production. The United Nations System of National Accounts calls for value added to be valued at either basic prices (excluding net taxes on products) or producer prices (including net taxes on products paid by producers but excluding sales or value added taxes). Both valuations exclude transport charges that are invoiced separately by producers. Total GDP is measured at purchaser prices. Value added by industry is normally measured at basic prices. When value added is measured at producer prices.\n",
       "\n",
       "Growth rates of GDP and its components are calculated using the least squares method and constant price data in the local currency. Constant price in U.S. dollar series are used to calculate regional and income group growth rates. Local currency series are converted to constant U.S. dollars using an exchange rate in the common reference year.                                                                                                                                                                                                                                                                                                                                                                                                                                                                                                                                                                                                                          </td></tr>\n",
       "<tr><td>Topic                           </td><td>Economic Policy &amp; Debt: National accounts: Growth rates                                                                                                                                                                                                                                                                                                                                                                                                                                                                                                                                                                  </td></tr>\n",
       "</tbody>\n",
       "</table></div>"
      ],
      "text/plain": [
       "========\n",
       "Series: NY.GDP.MKTP.KD.ZG\n",
       "\n",
       "Aggregationmethod: Weighted average\n",
       "--------\n",
       "Developmentrelevance: An economy's growth is measured by the change in the volume of its output or in the real incomes of its residents. The 2008 United Nations System of National Accounts (2008 SNA) offers three plausible indicators for calculating growth: the volume of gross domestic product (GDP), real gross domestic income, and real gross national income. The volume of GDP is the sum of value added, measured at constant prices, by households, government, and industries operating in the economy. GDP accounts for all domestic production, regardless of whether the income accrues to domestic or foreign institutions.\n",
       "--------\n",
       "IndicatorName: GDP growth (annual %)\n",
       "--------\n",
       "License_Type: CC BY-4.0\n",
       "--------\n",
       "License_URL: https://datacatalog.worldbank.org/public-licenses#cc-by\n",
       "--------\n",
       "Limitationsandexceptions: Each industry's contribution to growth in the economy's output is measured by growth in the industry's value added. In principle, value added in constant prices can be estimated by measuring the quantity of goods and services produced in a period, valuing them at an agreed set of base year prices, and subtracting the cost of intermediate inputs, also in constant prices. This double-deflation method requires detailed information on the structure of prices of inputs and outputs.\n",
       "\n",
       "In many industries, however, value added is extrapolated from the base year using single volume indexes of outputs or, less commonly, inputs. Particularly in the services industries, including most of government, value added in constant prices is often imputed from labor inputs, such as real wages or number of employees. In the absence of well defined measures of output, measuring the growth of services remains difficult.\n",
       "\n",
       "Moreover, technical progress can lead to improvements in production processes and in the quality of goods and services that, if not properly accounted for, can distort measures of value added and thus of growth. When inputs are used to estimate output, as for nonmarket services, unmeasured technical progress leads to underestimates of the volume of output. Similarly, unmeasured improvements in quality lead to underestimates of the value of output and value added. The result can be underestimates of growth and productivity improvement and overestimates of inflation.\n",
       "\n",
       "Informal economic activities pose a particular measurement problem, especially in developing countries, where much economic activity is unrecorded. A complete picture of the economy requires estimating household outputs produced for home use, sales in informal markets, barter exchanges, and illicit or deliberately unreported activities. The consistency and completeness of such estimates depend on the skill and methods of the compiling statisticians.\n",
       "\n",
       "Rebasing of national accounts can alter the measured growth rate of an economy and lead to breaks in series that affect the consistency of data over time. When countries rebase their national accounts, they update the weights assigned to various components to better reflect current patterns of production or uses of output. The new base year should represent normal operation of the economy - it should be a year without major shocks or distortions. Some developing countries have not rebased their national accounts for many years. Using an old base year can be misleading because implicit price and volume weights become progressively less relevant and useful.\n",
       "\n",
       "To obtain comparable series of constant price data for computing aggregates, the World Bank rescales GDP and value added by industrial origin to a common reference year. Because rescaling changes the implicit weights used in forming regional and income group aggregates, aggregate growth rates are not comparable with those from earlier editions with different base years. Rescaling may result in a discrepancy between the rescaled GDP and the sum of the rescaled components. To avoid distortions in the growth rates, the discrepancy is left unallocated. As a result, the weighted average of the growth rates of the components generally does not equal the GDP growth rate.\n",
       "--------\n",
       "Longdefinition: Annual percentage growth rate of GDP at market prices based on constant local currency. Aggregates are based on constant 2015 prices, expressed in U.S. dollars. GDP is the sum of gross value added by all resident producers in the economy plus any product taxes and minus any subsidies not included in the value of the products. It is calculated without making deductions for depreciation of fabricated assets or for depletion and degradation of natural resources.\n",
       "--------\n",
       "Periodicity: Annual\n",
       "--------\n",
       "Source: World Bank national accounts data, and OECD National Accounts data files.\n",
       "--------\n",
       "Statisticalconceptandmethodology: Gross domestic product (GDP) represents the sum of value added by all its producers. Value added is the value of the gross output of producers less the value of intermediate goods and services consumed in production, before accounting for consumption of fixed capital in production. The United Nations System of National Accounts calls for value added to be valued at either basic prices (excluding net taxes on products) or producer prices (including net taxes on products paid by producers but excluding sales or value added taxes). Both valuations exclude transport charges that are invoiced separately by producers. Total GDP is measured at purchaser prices. Value added by industry is normally measured at basic prices. When value added is measured at producer prices.\n",
       "\n",
       "Growth rates of GDP and its components are calculated using the least squares method and constant price data in the local currency. Constant price in U.S. dollar series are used to calculate regional and income group growth rates. Local currency series are converted to constant U.S. dollars using an exchange rate in the common reference year.\n",
       "--------\n",
       "Topic: Economic Policy & Debt: National accounts: Growth rates"
      ]
     },
     "execution_count": 6,
     "metadata": {},
     "output_type": "execute_result"
    }
   ],
   "source": [
    "wb.series.metadata.get('NY.GDP.MKTP.KD.ZG')"
   ]
  },
  {
   "cell_type": "markdown",
   "id": "08f566b5",
   "metadata": {},
   "source": [
    "(eci)=\n",
    "## 经济景气指数\n",
    "\n",
    "经济景气指数(ECI)是衡量一个国家通过生产和出口复杂产品进行增长的能力的标准。\n",
    "\n",
    "我们将在下图中检查它。"
   ]
  },
  {
   "cell_type": "code",
   "execution_count": 7,
   "id": "3ed698fb",
   "metadata": {},
   "outputs": [
    {
     "ename": "APIResponseError",
     "evalue": "APIError: JSON decoding error (https://api.worldbank.org/v2/en/sources/2/series/NE.PAT.FDEV.KD/country/USA;ARG;GBR;GRC;JPN/time/all?per_page=1000&page=1&format=json)",
     "output_type": "error",
     "traceback": [
      "\u001b[0;31m---------------------------------------------------------------------------\u001b[0m",
      "\u001b[0;31mJSONDecodeError\u001b[0m                           Traceback (most recent call last)",
      "File \u001b[0;32m~/anaconda3/envs/quantecon/lib/python3.10/site-packages/requests/models.py:971\u001b[0m, in \u001b[0;36mResponse.json\u001b[0;34m(self, **kwargs)\u001b[0m\n\u001b[1;32m    970\u001b[0m \u001b[38;5;28;01mtry\u001b[39;00m:\n\u001b[0;32m--> 971\u001b[0m     \u001b[38;5;28;01mreturn\u001b[39;00m \u001b[43mcomplexjson\u001b[49m\u001b[38;5;241;43m.\u001b[39;49m\u001b[43mloads\u001b[49m\u001b[43m(\u001b[49m\u001b[38;5;28;43mself\u001b[39;49m\u001b[38;5;241;43m.\u001b[39;49m\u001b[43mtext\u001b[49m\u001b[43m,\u001b[49m\u001b[43m \u001b[49m\u001b[38;5;241;43m*\u001b[39;49m\u001b[38;5;241;43m*\u001b[39;49m\u001b[43mkwargs\u001b[49m\u001b[43m)\u001b[49m\n\u001b[1;32m    972\u001b[0m \u001b[38;5;28;01mexcept\u001b[39;00m JSONDecodeError \u001b[38;5;28;01mas\u001b[39;00m e:\n\u001b[1;32m    973\u001b[0m     \u001b[38;5;66;03m# Catch JSON-related errors and raise as requests.JSONDecodeError\u001b[39;00m\n\u001b[1;32m    974\u001b[0m     \u001b[38;5;66;03m# This aliases json.JSONDecodeError and simplejson.JSONDecodeError\u001b[39;00m\n",
      "File \u001b[0;32m~/anaconda3/envs/quantecon/lib/python3.10/json/__init__.py:346\u001b[0m, in \u001b[0;36mloads\u001b[0;34m(s, cls, object_hook, parse_float, parse_int, parse_constant, object_pairs_hook, **kw)\u001b[0m\n\u001b[1;32m    343\u001b[0m \u001b[38;5;28;01mif\u001b[39;00m (\u001b[38;5;28mcls\u001b[39m \u001b[38;5;129;01mis\u001b[39;00m \u001b[38;5;28;01mNone\u001b[39;00m \u001b[38;5;129;01mand\u001b[39;00m object_hook \u001b[38;5;129;01mis\u001b[39;00m \u001b[38;5;28;01mNone\u001b[39;00m \u001b[38;5;129;01mand\u001b[39;00m\n\u001b[1;32m    344\u001b[0m         parse_int \u001b[38;5;129;01mis\u001b[39;00m \u001b[38;5;28;01mNone\u001b[39;00m \u001b[38;5;129;01mand\u001b[39;00m parse_float \u001b[38;5;129;01mis\u001b[39;00m \u001b[38;5;28;01mNone\u001b[39;00m \u001b[38;5;129;01mand\u001b[39;00m\n\u001b[1;32m    345\u001b[0m         parse_constant \u001b[38;5;129;01mis\u001b[39;00m \u001b[38;5;28;01mNone\u001b[39;00m \u001b[38;5;129;01mand\u001b[39;00m object_pairs_hook \u001b[38;5;129;01mis\u001b[39;00m \u001b[38;5;28;01mNone\u001b[39;00m \u001b[38;5;129;01mand\u001b[39;00m \u001b[38;5;129;01mnot\u001b[39;00m kw):\n\u001b[0;32m--> 346\u001b[0m     \u001b[38;5;28;01mreturn\u001b[39;00m \u001b[43m_default_decoder\u001b[49m\u001b[38;5;241;43m.\u001b[39;49m\u001b[43mdecode\u001b[49m\u001b[43m(\u001b[49m\u001b[43ms\u001b[49m\u001b[43m)\u001b[49m\n\u001b[1;32m    347\u001b[0m \u001b[38;5;28;01mif\u001b[39;00m \u001b[38;5;28mcls\u001b[39m \u001b[38;5;129;01mis\u001b[39;00m \u001b[38;5;28;01mNone\u001b[39;00m:\n",
      "File \u001b[0;32m~/anaconda3/envs/quantecon/lib/python3.10/json/decoder.py:337\u001b[0m, in \u001b[0;36mJSONDecoder.decode\u001b[0;34m(self, s, _w)\u001b[0m\n\u001b[1;32m    333\u001b[0m \u001b[38;5;250m\u001b[39m\u001b[38;5;124;03m\"\"\"Return the Python representation of ``s`` (a ``str`` instance\u001b[39;00m\n\u001b[1;32m    334\u001b[0m \u001b[38;5;124;03mcontaining a JSON document).\u001b[39;00m\n\u001b[1;32m    335\u001b[0m \n\u001b[1;32m    336\u001b[0m \u001b[38;5;124;03m\"\"\"\u001b[39;00m\n\u001b[0;32m--> 337\u001b[0m obj, end \u001b[38;5;241m=\u001b[39m \u001b[38;5;28;43mself\u001b[39;49m\u001b[38;5;241;43m.\u001b[39;49m\u001b[43mraw_decode\u001b[49m\u001b[43m(\u001b[49m\u001b[43ms\u001b[49m\u001b[43m,\u001b[49m\u001b[43m \u001b[49m\u001b[43midx\u001b[49m\u001b[38;5;241;43m=\u001b[39;49m\u001b[43m_w\u001b[49m\u001b[43m(\u001b[49m\u001b[43ms\u001b[49m\u001b[43m,\u001b[49m\u001b[43m \u001b[49m\u001b[38;5;241;43m0\u001b[39;49m\u001b[43m)\u001b[49m\u001b[38;5;241;43m.\u001b[39;49m\u001b[43mend\u001b[49m\u001b[43m(\u001b[49m\u001b[43m)\u001b[49m\u001b[43m)\u001b[49m\n\u001b[1;32m    338\u001b[0m end \u001b[38;5;241m=\u001b[39m _w(s, end)\u001b[38;5;241m.\u001b[39mend()\n",
      "File \u001b[0;32m~/anaconda3/envs/quantecon/lib/python3.10/json/decoder.py:355\u001b[0m, in \u001b[0;36mJSONDecoder.raw_decode\u001b[0;34m(self, s, idx)\u001b[0m\n\u001b[1;32m    354\u001b[0m \u001b[38;5;28;01mexcept\u001b[39;00m \u001b[38;5;167;01mStopIteration\u001b[39;00m \u001b[38;5;28;01mas\u001b[39;00m err:\n\u001b[0;32m--> 355\u001b[0m     \u001b[38;5;28;01mraise\u001b[39;00m JSONDecodeError(\u001b[38;5;124m\"\u001b[39m\u001b[38;5;124mExpecting value\u001b[39m\u001b[38;5;124m\"\u001b[39m, s, err\u001b[38;5;241m.\u001b[39mvalue) \u001b[38;5;28;01mfrom\u001b[39;00m \u001b[38;5;28;01mNone\u001b[39;00m\n\u001b[1;32m    356\u001b[0m \u001b[38;5;28;01mreturn\u001b[39;00m obj, end\n",
      "\u001b[0;31mJSONDecodeError\u001b[0m: Expecting value: line 1 column 1 (char 0)",
      "\nDuring handling of the above exception, another exception occurred:\n",
      "\u001b[0;31mJSONDecodeError\u001b[0m                           Traceback (most recent call last)",
      "File \u001b[0;32m~/anaconda3/envs/quantecon/lib/python3.10/site-packages/wbgapi/__init__.py:533\u001b[0m, in \u001b[0;36m_queryAPI\u001b[0;34m(url)\u001b[0m\n\u001b[1;32m    532\u001b[0m \u001b[38;5;28;01mtry\u001b[39;00m:\n\u001b[0;32m--> 533\u001b[0m     result \u001b[38;5;241m=\u001b[39m \u001b[43mresponse\u001b[49m\u001b[38;5;241;43m.\u001b[39;49m\u001b[43mjson\u001b[49m\u001b[43m(\u001b[49m\u001b[43m)\u001b[49m\n\u001b[1;32m    534\u001b[0m \u001b[38;5;28;01mexcept\u001b[39;00m:\n",
      "File \u001b[0;32m~/anaconda3/envs/quantecon/lib/python3.10/site-packages/requests/models.py:975\u001b[0m, in \u001b[0;36mResponse.json\u001b[0;34m(self, **kwargs)\u001b[0m\n\u001b[1;32m    972\u001b[0m \u001b[38;5;28;01mexcept\u001b[39;00m JSONDecodeError \u001b[38;5;28;01mas\u001b[39;00m e:\n\u001b[1;32m    973\u001b[0m     \u001b[38;5;66;03m# Catch JSON-related errors and raise as requests.JSONDecodeError\u001b[39;00m\n\u001b[1;32m    974\u001b[0m     \u001b[38;5;66;03m# This aliases json.JSONDecodeError and simplejson.JSONDecodeError\u001b[39;00m\n\u001b[0;32m--> 975\u001b[0m     \u001b[38;5;28;01mraise\u001b[39;00m RequestsJSONDecodeError(e\u001b[38;5;241m.\u001b[39mmsg, e\u001b[38;5;241m.\u001b[39mdoc, e\u001b[38;5;241m.\u001b[39mpos)\n",
      "\u001b[0;31mJSONDecodeError\u001b[0m: Expecting value: line 1 column 1 (char 0)",
      "\nDuring handling of the above exception, another exception occurred:\n",
      "\u001b[0;31mAPIResponseError\u001b[0m                          Traceback (most recent call last)",
      "Cell \u001b[0;32mIn[7], line 1\u001b[0m\n\u001b[0;32m----> 1\u001b[0m eci \u001b[38;5;241m=\u001b[39m \u001b[43mwb\u001b[49m\u001b[38;5;241;43m.\u001b[39;49m\u001b[43mdata\u001b[49m\u001b[38;5;241;43m.\u001b[39;49m\u001b[43mDataFrame\u001b[49m\u001b[43m(\u001b[49m\u001b[38;5;124;43m'\u001b[39;49m\u001b[38;5;124;43mNE.PAT.FDEV.KD\u001b[39;49m\u001b[38;5;124;43m'\u001b[39;49m\u001b[43m,\u001b[49m\u001b[43m \u001b[49m\n\u001b[1;32m      2\u001b[0m \u001b[43m            \u001b[49m\u001b[43m[\u001b[49m\u001b[38;5;124;43m'\u001b[39;49m\u001b[38;5;124;43mUSA\u001b[39;49m\u001b[38;5;124;43m'\u001b[39;49m\u001b[43m,\u001b[49m\u001b[43m \u001b[49m\u001b[38;5;124;43m'\u001b[39;49m\u001b[38;5;124;43mARG\u001b[39;49m\u001b[38;5;124;43m'\u001b[39;49m\u001b[43m,\u001b[49m\u001b[43m \u001b[49m\u001b[38;5;124;43m'\u001b[39;49m\u001b[38;5;124;43mGBR\u001b[39;49m\u001b[38;5;124;43m'\u001b[39;49m\u001b[43m,\u001b[49m\u001b[43m \u001b[49m\u001b[38;5;124;43m'\u001b[39;49m\u001b[38;5;124;43mGRC\u001b[39;49m\u001b[38;5;124;43m'\u001b[39;49m\u001b[43m,\u001b[49m\u001b[43m \u001b[49m\u001b[38;5;124;43m'\u001b[39;49m\u001b[38;5;124;43mJPN\u001b[39;49m\u001b[38;5;124;43m'\u001b[39;49m\u001b[43m]\u001b[49m\u001b[43m,\u001b[49m\u001b[43m \u001b[49m\n\u001b[1;32m      3\u001b[0m \u001b[43m            \u001b[49m\u001b[43mlabels\u001b[49m\u001b[38;5;241;43m=\u001b[39;49m\u001b[38;5;28;43;01mTrue\u001b[39;49;00m\u001b[43m)\u001b[49m\n\u001b[1;32m      4\u001b[0m eci \u001b[38;5;241m=\u001b[39m eci\u001b[38;5;241m.\u001b[39mset_index(\u001b[38;5;124m'\u001b[39m\u001b[38;5;124mCountry\u001b[39m\u001b[38;5;124m'\u001b[39m)\n\u001b[1;32m      5\u001b[0m eci\u001b[38;5;241m.\u001b[39mcolumns \u001b[38;5;241m=\u001b[39m eci\u001b[38;5;241m.\u001b[39mcolumns\u001b[38;5;241m.\u001b[39mstr\u001b[38;5;241m.\u001b[39mreplace(\u001b[38;5;124m'\u001b[39m\u001b[38;5;124mYR\u001b[39m\u001b[38;5;124m'\u001b[39m, \u001b[38;5;124m'\u001b[39m\u001b[38;5;124m'\u001b[39m)\u001b[38;5;241m.\u001b[39mastype(\u001b[38;5;28mint\u001b[39m)\n",
      "File \u001b[0;32m~/anaconda3/envs/quantecon/lib/python3.10/site-packages/wbgapi/data.py:334\u001b[0m, in \u001b[0;36mDataFrame\u001b[0;34m(series, economy, time, index, columns, mrv, mrnev, skipBlanks, labels, skipAggs, numericTimeKeys, timeColumns, params, db, **dimensions)\u001b[0m\n\u001b[1;32m    330\u001b[0m \u001b[38;5;28;01mif\u001b[39;00m labels:\n\u001b[1;32m    331\u001b[0m     \u001b[38;5;66;03m# create a separate dataframe for labels so that we can control the column position below\u001b[39;00m\n\u001b[1;32m    332\u001b[0m     df2 \u001b[38;5;241m=\u001b[39m frame(index)\n\u001b[0;32m--> 334\u001b[0m \u001b[38;5;28;01mfor\u001b[39;00m row \u001b[38;5;129;01min\u001b[39;00m fetch(series, economy, time, mrv\u001b[38;5;241m=\u001b[39mmrv, mrnev\u001b[38;5;241m=\u001b[39mmrnev, skipBlanks\u001b[38;5;241m=\u001b[39mskipBlanks, labels\u001b[38;5;241m=\u001b[39m\u001b[38;5;28;01mTrue\u001b[39;00m, skipAggs\u001b[38;5;241m=\u001b[39mskipAggs, numericTimeKeys\u001b[38;5;241m=\u001b[39mnumericTimeKeys, params\u001b[38;5;241m=\u001b[39mparams, db\u001b[38;5;241m=\u001b[39mdb, \u001b[38;5;241m*\u001b[39m\u001b[38;5;241m*\u001b[39mdimensions):\n\u001b[1;32m    335\u001b[0m     column_key \u001b[38;5;241m=\u001b[39m row[columns][\u001b[38;5;124m'\u001b[39m\u001b[38;5;124mid\u001b[39m\u001b[38;5;124m'\u001b[39m]\n\u001b[1;32m    336\u001b[0m     \u001b[38;5;28;01mif\u001b[39;00m \u001b[38;5;28mlen\u001b[39m(index) \u001b[38;5;241m==\u001b[39m \u001b[38;5;241m1\u001b[39m:\n",
      "File \u001b[0;32m~/anaconda3/envs/quantecon/lib/python3.10/site-packages/wbgapi/data.py:92\u001b[0m, in \u001b[0;36mfetch\u001b[0;34m(series, economy, time, mrv, mrnev, skipBlanks, labels, skipAggs, numericTimeKeys, params, db, **dimensions)\u001b[0m\n\u001b[1;32m     88\u001b[0m     values[k] \u001b[38;5;241m=\u001b[39m w\u001b[38;5;241m.\u001b[39mqueryParam(v, concept\u001b[38;5;241m=\u001b[39mk, db\u001b[38;5;241m=\u001b[39mdb)\n\u001b[1;32m     90\u001b[0m aggs \u001b[38;5;241m=\u001b[39m w\u001b[38;5;241m.\u001b[39meconomy\u001b[38;5;241m.\u001b[39maggregates()\n\u001b[0;32m---> 92\u001b[0m \u001b[38;5;28;01mfor\u001b[39;00m row \u001b[38;5;129;01min\u001b[39;00m w\u001b[38;5;241m.\u001b[39mrefetch(url, keys, params\u001b[38;5;241m=\u001b[39mparams_, \u001b[38;5;241m*\u001b[39m\u001b[38;5;241m*\u001b[39mvalues):\n\u001b[1;32m     93\u001b[0m     \u001b[38;5;28;01mif\u001b[39;00m skipBlanks \u001b[38;5;129;01mand\u001b[39;00m row[\u001b[38;5;124m'\u001b[39m\u001b[38;5;124mvalue\u001b[39m\u001b[38;5;124m'\u001b[39m] \u001b[38;5;129;01mis\u001b[39;00m \u001b[38;5;28;01mNone\u001b[39;00m:\n\u001b[1;32m     94\u001b[0m         \u001b[38;5;28;01mcontinue\u001b[39;00m\n",
      "File \u001b[0;32m~/anaconda3/envs/quantecon/lib/python3.10/site-packages/wbgapi/__init__.py:322\u001b[0m, in \u001b[0;36mrefetch\u001b[0;34m(url, variables, **kwargs)\u001b[0m\n\u001b[1;32m    320\u001b[0m \u001b[38;5;28;01mtry\u001b[39;00m:\n\u001b[1;32m    321\u001b[0m     \u001b[38;5;28;01mfor\u001b[39;00m url2 \u001b[38;5;129;01min\u001b[39;00m _refetch_url(url, variables[\u001b[38;5;241m0\u001b[39m], variables[\u001b[38;5;241m1\u001b[39m:], \u001b[38;5;241m*\u001b[39m\u001b[38;5;241m*\u001b[39mkwargs):\n\u001b[0;32m--> 322\u001b[0m         \u001b[38;5;28;01mfor\u001b[39;00m row \u001b[38;5;129;01min\u001b[39;00m fetch(url2, params, concepts, lang):\n\u001b[1;32m    323\u001b[0m             \u001b[38;5;28;01myield\u001b[39;00m row\n\u001b[1;32m    324\u001b[0m \u001b[38;5;28;01mexcept\u001b[39;00m URLError:\n",
      "File \u001b[0;32m~/anaconda3/envs/quantecon/lib/python3.10/site-packages/wbgapi/__init__.py:281\u001b[0m, in \u001b[0;36mfetch\u001b[0;34m(url, params, concepts, lang)\u001b[0m\n\u001b[1;32m    278\u001b[0m \u001b[38;5;28;01mwhile\u001b[39;00m totalRecords \u001b[38;5;129;01mis\u001b[39;00m \u001b[38;5;28;01mNone\u001b[39;00m \u001b[38;5;129;01mor\u001b[39;00m recordsRead \u001b[38;5;241m<\u001b[39m totalRecords:\n\u001b[1;32m    280\u001b[0m     url_ \u001b[38;5;241m=\u001b[39m \u001b[38;5;124m'\u001b[39m\u001b[38;5;132;01m{}\u001b[39;00m\u001b[38;5;124m/\u001b[39m\u001b[38;5;132;01m{}\u001b[39;00m\u001b[38;5;124m/\u001b[39m\u001b[38;5;132;01m{}\u001b[39;00m\u001b[38;5;124m?\u001b[39m\u001b[38;5;132;01m{}\u001b[39;00m\u001b[38;5;124m'\u001b[39m\u001b[38;5;241m.\u001b[39mformat(endpoint, lang, url, urllib\u001b[38;5;241m.\u001b[39mparse\u001b[38;5;241m.\u001b[39murlencode(params_))\n\u001b[0;32m--> 281\u001b[0m     (hdr,result) \u001b[38;5;241m=\u001b[39m \u001b[43m_queryAPI\u001b[49m\u001b[43m(\u001b[49m\u001b[43murl_\u001b[49m\u001b[43m)\u001b[49m\n\u001b[1;32m    283\u001b[0m     \u001b[38;5;28;01mif\u001b[39;00m totalRecords \u001b[38;5;129;01mis\u001b[39;00m \u001b[38;5;28;01mNone\u001b[39;00m:\n\u001b[1;32m    284\u001b[0m         totalRecords \u001b[38;5;241m=\u001b[39m \u001b[38;5;28mint\u001b[39m(hdr[\u001b[38;5;124m'\u001b[39m\u001b[38;5;124mtotal\u001b[39m\u001b[38;5;124m'\u001b[39m])\n",
      "File \u001b[0;32m~/anaconda3/envs/quantecon/lib/python3.10/site-packages/wbgapi/__init__.py:535\u001b[0m, in \u001b[0;36m_queryAPI\u001b[0;34m(url)\u001b[0m\n\u001b[1;32m    533\u001b[0m     result \u001b[38;5;241m=\u001b[39m response\u001b[38;5;241m.\u001b[39mjson()\n\u001b[1;32m    534\u001b[0m \u001b[38;5;28;01mexcept\u001b[39;00m:\n\u001b[0;32m--> 535\u001b[0m     \u001b[38;5;28;01mraise\u001b[39;00m APIResponseError(url, \u001b[38;5;124m'\u001b[39m\u001b[38;5;124mJSON decoding error\u001b[39m\u001b[38;5;124m'\u001b[39m)\n\u001b[1;32m    537\u001b[0m hdr \u001b[38;5;241m=\u001b[39m _responseHeader(url, result)\n\u001b[1;32m    538\u001b[0m \u001b[38;5;28;01mif\u001b[39;00m hdr\u001b[38;5;241m.\u001b[39mget(\u001b[38;5;124m'\u001b[39m\u001b[38;5;124mmessage\u001b[39m\u001b[38;5;124m'\u001b[39m):\n",
      "\u001b[0;31mAPIResponseError\u001b[0m: APIError: JSON decoding error (https://api.worldbank.org/v2/en/sources/2/series/NE.PAT.FDEV.KD/country/USA;ARG;GBR;GRC;JPN/time/all?per_page=1000&page=1&format=json)"
     ]
    }
   ],
   "source": [
    "eci = wb.data.DataFrame('NE.PAT.FDEV.KD', \n",
    "            ['USA', 'ARG', 'GBR', 'GRC', 'JPN'], \n",
    "            labels=True)\n",
    "eci = eci.set_index('Country')\n",
    "eci.columns = eci.columns.str.replace('YR', '').astype(int)\n",
    "eci"
   ]
  },
  {
   "cell_type": "markdown",
   "id": "fd0c63ed",
   "metadata": {},
   "source": [
    "## 与 GDP 数据的比较\n",
    "\n",
    "让我们将 ECI 与 GDP 增长进行比较。"
   ]
  },
  {
   "cell_type": "code",
   "execution_count": null,
   "id": "9b6190ec",
   "metadata": {},
   "outputs": [],
   "source": [
    "eci_growth = eci.loc[:, 2000:2015]"
   ]
  },
  {
   "cell_type": "markdown",
   "id": "12ac6c9c",
   "metadata": {},
   "source": [
    "下面是数据的第一次观察"
   ]
  },
  {
   "cell_type": "code",
   "execution_count": null,
   "id": "89244245",
   "metadata": {},
   "outputs": [],
   "source": [
    "eci_growth"
   ]
  },
  {
   "cell_type": "code",
   "execution_count": null,
   "id": "10cab4a5",
   "metadata": {},
   "outputs": [],
   "source": [
    "gdp_growth.T"
   ]
  },
  {
   "cell_type": "markdown",
   "id": "50a5c937",
   "metadata": {},
   "source": [
    "通过上述表格，可以明显看出数据无序而复杂。因此，让我们将它们绘制并查看数据。"
   ]
  },
  {
   "cell_type": "code",
   "execution_count": null,
   "id": "9e736784",
   "metadata": {
    "tags": [
     "hide-input"
    ]
   },
   "outputs": [],
   "source": [
    "fig, axes = plt.subplots(nrows=2, ncols=1, dpi=120, figsize=(6, 4))\n",
    "\n",
    "ax = axes[0]\n",
    "gdp_growth.loc['USA'].T.plot(title='GDP Growth (USA)', ax=ax)\n",
    "ax.set_ylabel('% Growth')\n",
    "ax.legend()\n",
    "\n",
    "ax = axes[1]\n",
    "eci_growth.loc['USA'].T.plot(title='ECI (USA)', ax=ax)\n",
    "ax.set_ylabel('ECI')\n",
    "ax.legend();\n",
    "\n",
    "fig.tight_layout()"
   ]
  },
  {
   "cell_type": "markdown",
   "id": "8514011a",
   "metadata": {},
   "source": [
    "## 各国数据\n",
    "\n",
    "我们可以继续研究其他国家的数据。\n",
    "\n",
    "让我们使用之前的数据读取代码。"
   ]
  },
  {
   "cell_type": "code",
   "execution_count": null,
   "id": "ef063485",
   "metadata": {
    "mystnb": {
     "figure": {
      "caption": "美国（GDP 增长率 %）",
      "name": "us_gdp"
     }
    }
   },
   "outputs": [],
   "source": [
    "fig, ax = plt.subplots()\n",
    "\n",
    "country = '美国'\n",
    "ylabel = 'GDP 增长率 (%)'\n",
    "plot_series(gdp_growth, country, \n",
    "            ylabel, 0.1, ax, \n",
    "            g_params, b_params, t_params)\n",
    "plt.show()"
   ]
  },
  {
   "cell_type": "markdown",
   "id": "cc6a287e",
   "metadata": {},
   "source": [
    "总体而言，GDP 增长率平均为正值，并且随时间略有下降。\n",
    "\n",
    "我们还看到 GDP 增长率随时间波动，其中一些波动相当大。\n",
    "\n",
    "让我们看看更多的国家，以便进行比较。"
   ]
  },
  {
   "cell_type": "markdown",
   "id": "42b100fa",
   "metadata": {},
   "source": [
    "英国（UK）与美国有相似的模式，增长率缓慢下降并波动较大。\n",
    "\n",
    "注意到新冠疫情期间的非常大的下跌。"
   ]
  },
  {
   "cell_type": "code",
   "execution_count": null,
   "id": "416fc1bf",
   "metadata": {
    "mystnb": {
     "figure": {
      "caption": "英国（GDP 增长率 %）",
      "name": "uk_gdp"
     }
    }
   },
   "outputs": [],
   "source": [
    "fig, ax = plt.subplots()\n",
    "\n",
    "country = '联合王国'\n",
    "plot_series(gdp_growth, country, \n",
    "            ylabel, 0.1, ax, \n",
    "            g_params, b_params, t_params)\n",
    "plt.show()"
   ]
  },
  {
   "cell_type": "markdown",
   "id": "029530f7",
   "metadata": {},
   "source": [
    "让我们继续看看阿根廷 (Argentina)。"
   ]
  },
  {
   "cell_type": "code",
   "execution_count": null,
   "id": "d70733b0",
   "metadata": {
    "mystnb": {
     "figure": {
      "caption": "阿根廷（GDP 增长率 %）",
      "name": "ar_gdp"
     }
    }
   },
   "outputs": [],
   "source": [
    "fig, ax = plt.subplots()\n",
    "\n",
    "country = '阿根廷'\n",
    "plot_series(gdp_growth, country, \n",
    "            ylabel, 0.2, ax, \n",
    "            g_params, b_params, t_params)\n",
    "plt.show()"
   ]
  },
  {
   "cell_type": "markdown",
   "id": "0f262de6",
   "metadata": {},
   "source": [
    "接下来，我们查看希腊的数据。"
   ]
  },
  {
   "cell_type": "code",
   "execution_count": null,
   "id": "368b0fab",
   "metadata": {
    "mystnb": {
     "figure": {
      "caption": "希腊（GDP 增长率 %）",
      "name": "gc_gdp"
     }
    }
   },
   "outputs": [],
   "source": [
    "fig, ax = plt.subplots()\n",
    "\n",
    "country = '希腊'\n",
    "plot_series(gdp_growth, country, \n",
    "            ylabel, 0.1, ax, \n",
    "            g_params, b_params, t_params)\n",
    "plt.show()"
   ]
  },
  {
   "cell_type": "markdown",
   "id": "d43197f6",
   "metadata": {},
   "source": [
    "希腊在2010-2011年左右经历了非常大的GDP增长率下降，这是希腊债务危机的高峰期。\n",
    "\n",
    "接下来让我们来看看阿根廷。"
   ]
  },
  {
   "cell_type": "code",
   "execution_count": null,
   "id": "795db152",
   "metadata": {
    "mystnb": {
     "figure": {
      "caption": "阿根廷（GDP 增长率 %）",
      "name": "arg_gdp"
     }
    }
   },
   "outputs": [],
   "source": [
    "fig, ax = plt.subplots()\n",
    "\n",
    "country = '阿根廷'\n",
    "plot_series(gdp_growth, country, \n",
    "            ylabel, 0.1, ax, \n",
    "            g_params, b_params, t_params)\n",
    "plt.show()"
   ]
  },
  {
   "cell_type": "markdown",
   "id": "afb4a654",
   "metadata": {},
   "source": [
    "注意到阿根廷经历了比上面所研究的经济体更为剧烈的波动。同时，阿根廷的增长率在1970年代和1990年代的两次发达经济体衰退期间并没有下降。\n",
    "\n",
    "## 失业率\n",
    "\n",
    "另一个重要的经济周期指标是失业率。\n",
    "\n",
    "我们用从FRED获取的数据来研究失业率，从[1929-1942](https://fred.stlouisfed.org/series/M0892AUSM156SNBR)到[1948-2022](https://fred.stlouisfed.org/series/UNRATE)，结合1942-1948年由[普查局](https://www.census.gov/library/publications/1975/compendia/hist_stats_colonial-1970.html)估计的失业率数据。"
   ]
  },
  {
   "cell_type": "code",
   "execution_count": null,
   "id": "e89f40b4",
   "metadata": {
    "tags": [
     "hide-input"
    ]
   },
   "outputs": [],
   "source": [
    "start_date = datetime.datetime(1929, 1, 1)\n",
    "end_date = datetime.datetime(1942, 6, 1)\n",
    "\n",
    "unrate_history = web.DataReader('M0892AUSM156SNBR', \n",
    "                    'fred', start_date,end_date)\n",
    "unrate_history.rename(columns={'M0892AUSM156SNBR': 'UNRATE'}, \n",
    "                inplace=True)\n",
    "\n",
    "start_date = datetime.datetime(1948, 1, 1)\n",
    "end_date = datetime.datetime(2022, 12, 31)\n",
    "\n",
    "unrate = web.DataReader('UNRATE', 'fred', \n",
    "                    start_date, end_date)"
   ]
  },
  {
   "cell_type": "markdown",
   "id": "35e29a6f",
   "metadata": {},
   "source": [
    "让我们绘制从1929年到2022年的美国失业率，其中衰退期由NBER定义。"
   ]
  },
  {
   "cell_type": "code",
   "execution_count": null,
   "id": "9846f0e0",
   "metadata": {
    ":tags": [
     "hide-input"
    ],
    "mystnb": {
     "figure": {
      "caption": "长期失业率，美国（%）",
      "name": "lrunrate"
     }
    }
   },
   "outputs": [],
   "source": [
    "# 我们使用普查局估计的失业率数据\n",
    "# 从1942年到1948年\n",
    "years = [datetime.datetime(year, 6, 1) for year in range(1942, 1948)]\n",
    "unrate_census = [4.7, 1.9, 1.2, 1.9, 3.9, 3.9]\n",
    "\n",
    "unrate_census = {'DATE': years, 'UNRATE': unrate_census}\n",
    "unrate_census = pd.DataFrame(unrate_census)\n",
    "unrate_census.set_index('DATE', inplace=True)\n",
    "\n",
    "# 获取由NBER定义的衰退期\n",
    "start_date = datetime.datetime(1929, 1, 1)\n",
    "end_date = datetime.datetime(2022, 12, 31)\n",
    "\n",
    "nber = web.DataReader('USREC', 'fred', start_date, end_date)\n",
    "\n",
    "fig, ax = plt.subplots()\n",
    "\n",
    "ax.plot(unrate_history, **g_params, \n",
    "        color='#377eb8', \n",
    "        linestyle='-', linewidth=2)\n",
    "ax.plot(unrate_census, **g_params, \n",
    "        color='black', linestyle='--', \n",
    "        label='普查局估计', linewidth=2)\n",
    "ax.plot(unrate, **g_params, color='#377eb8', \n",
    "        linestyle='-', linewidth=2)\n",
    "\n",
    "# 根据NBER衰退指标绘制灰色框\n",
    "ax.fill_between(nber.index, 0, 1,\n",
    "                where=nber['USREC']==1, \n",
    "                color='grey', edgecolor='none',\n",
    "                alpha=0.3, \n",
    "                transform=ax.get_xaxis_transform(), \n",
    "                label='NBER衰退指标')\n",
    "ax.set_ylim([0, ax.get_ylim()[1]])\n",
    "ax.legend(loc='upper center', \n",
    "          bbox_to_anchor=(0.5, 1.1),\n",
    "          ncol=3, fancybox=True, shadow=True)\n",
    "ax.set_ylabel('失业率 (%)')\n",
    "\n",
    "plt.show()"
   ]
  },
  {
   "cell_type": "markdown",
   "id": "b6981b1e",
   "metadata": {},
   "source": [
    "该图显示了\n",
    "\n",
    "* 劳动力市场的扩张和收缩与衰退高度相关。\n",
    "* 周期在总体上是不对称的：失业率的急剧上升往往伴随着缓慢的复苏。\n",
    "\n",
    "它还向我们展示了在后疫情恢复期间美国劳动力市场条件的独特性。\n",
    "\n",
    "劳动力市场在2020-2021年的冲击后以空前的速度恢复。\n",
    "\n",
    "(synchronization)=\n",
    "## 同步\n",
    "\n",
    "在我们{ref}`之前的讨论<gdp_growth>`中，我们发现发达经济体的衰退期相对同步。\n",
    "\n",
    "同时，这种同步性直到2000年代才在阿根廷出现。\n",
    "\n",
    "让我们进一步研究这一趋势。\n",
    "\n",
    "通过稍作修改，我们可以使用之前的函数来绘制包含多个国家的图。"
   ]
  },
  {
   "cell_type": "code",
   "execution_count": null,
   "id": "64542fbc",
   "metadata": {
    "tags": [
     "hide-input"
    ]
   },
   "outputs": [],
   "source": [
    "\n",
    "def plot_comparison(data, countries, \n",
    "                        ylabel, txt_pos, y_lim, ax, \n",
    "                        g_params, b_params, t_params, \n",
    "                        baseline=0):\n",
    "    \"\"\"\n",
    "    在同一图上绘制多个系列\n",
    "\n",
    "    参数\n",
    "    ----------\n",
    "    data : pd.DataFrame\n",
    "        要绘制的数据\n",
    "    countries : list\n",
    "        要绘制的国家列表\n",
    "    ylabel : str\n",
    "        y轴标签\n",
    "    txt_pos : float\n",
    "        衰退标签的位置\n",
    "    y_lim : float\n",
    "        y轴限制\n",
    "    ax : matplotlib.axes._subplots.AxesSubplot\n",
    "        要绘制的轴\n",
    "    g_params : dict\n",
    "        线条的参数\n",
    "    b_params : dict\n",
    "        衰退高亮的参数\n",
    "    t_params : dict\n",
    "        衰退标签的参数\n",
    "    baseline : float, optional\n",
    "        图上的虚线基线，默认为 0\n",
    "    \n",
    "    返回\n",
    "    -------\n",
    "    ax : matplotlib.axes.Axes\n",
    "        带图的轴\n",
    "    \"\"\"\n",
    "    \n",
    "    # 允许函数遍历多个系列\n",
    "    for country in countries:\n",
    "        ax.plot(data.loc[country], label=country, **g_params)\n",
    "    \n",
    "    # 高亮显示衰退\n",
    "    ax.axvspan(1973, 1975, **b_params)\n",
    "    ax.axvspan(1990, 1992, **b_params)\n",
    "    ax.axvspan(2007, 2009, **b_params)\n",
    "    ax.axvspan(2019, 2021, **b_params)\n",
    "    if y_lim != None:\n",
    "        ax.set_ylim([-y_lim, y_lim])\n",
    "    ylim = ax.get_ylim()[1]\n",
    "    ax.text(1974, ylim + ylim*txt_pos, \n",
    "            '石油危机\\n(1974)', **t_params) \n",
    "    ax.text(1991, ylim + ylim*txt_pos, \n",
    "            '1990年代经济衰退\\n(1991)', **t_params) \n",
    "    ax.text(2008, ylim + ylim*txt_pos, \n",
    "            '全球金融危机\\n(2008)', **t_params) \n",
    "    ax.text(2020, ylim + ylim*txt_pos, \n",
    "            '新冠疫情\\n(2020)', **t_params) \n",
    "    if baseline != None:\n",
    "        ax.hlines(y=baseline, xmin=ax.get_xlim()[0], \n",
    "                  xmax=ax.get_xlim()[1], color='black', \n",
    "                  linestyle='--')\n",
    "    ax.set_ylabel(ylabel)\n",
    "    ax.legend()\n",
    "    return ax\n",
    "\n",
    "# 定义图形参数\n",
    "g_params = {'alpha': 0.7}\n",
    "b_params = {'color':'grey', 'alpha': 0.2}\n",
    "t_params = {'color':'grey', 'fontsize': 9, \n",
    "            'va':'center', 'ha':'center'}"
   ]
  },
  {
   "cell_type": "markdown",
   "id": "f868d7fc",
   "metadata": {},
   "source": [
    "在下图中，我们将比较不同经济体的 GDP 增长率。"
   ]
  },
  {
   "cell_type": "code",
   "execution_count": null,
   "id": "da63f200",
   "metadata": {
    "mystnb": {
     "figure": {
      "caption": "所选经济体的 GDP 年增长率（%）"
     }
    }
   },
   "outputs": [],
   "source": [
    "fig, ax = plt.subplots()\n",
    "\n",
    "countries = ['美国', '阿根廷', '英国', '希腊']\n",
    "ylabel = 'GDP 增长率 (%)'\n",
    "plot_comparison(gdp_growth, countries, \n",
    "                ylabel, 0.2, 20, ax, \n",
    "                g_params, b_params, t_params, \n",
    "                baseline=0.0)\n",
    "plt.show()"
   ]
  },
  {
   "cell_type": "markdown",
   "id": "e9d9dd97",
   "metadata": {},
   "source": [
    "在大致查看完所有国家时间序列之后，我们简要总结如下：\n",
    "\n",
    "* 所有国家的 GDP 增长率平均为正。\n",
    "* 所有国家的 GDP 增长率呈现波动。\n",
    "* 所有国家在20世纪70年代的石油危机、90年代初的经济衰退、2008年的全球金融危机和2020年的新冠疫情期间都经历了严重下滑。\n",
    "\n",
    "## 发达经济体\n",
    "\n",
    "我们用英国、美国、德国和日本作为发达经济体的例子。"
   ]
  },
  {
   "cell_type": "code",
   "execution_count": null,
   "id": "e0ed116f",
   "metadata": {
    "mystnb": {
     "figure": {
      "caption": "发达经济体（GDP 增长率 %）",
      "name": "adv_gdp"
     }
    },
    "tags": [
     "hide-input"
    ]
   },
   "outputs": [],
   "source": [
    "fig, ax = plt.subplots()\n",
    "countries = ['联合王国', '美国', '德国', '日本']\n",
    "ylabel = 'GDP 增长率 (%)'\n",
    "plot_comparison(gdp_growth.loc[countries, 1962:], \n",
    "                countries, ylabel,\n",
    "                0.1, 20, ax, \n",
    "                g_params, b_params, t_params)\n",
    "plt.show()"
   ]
  },
  {
   "cell_type": "markdown",
   "id": "09ea320f",
   "metadata": {},
   "source": [
    "## 发展中经济体\n",
    "\n",
    "我们选择巴西、中国、阿根廷和墨西哥作为代表性的发展中经济体。"
   ]
  },
  {
   "cell_type": "code",
   "execution_count": null,
   "id": "838efe57",
   "metadata": {
    "mystnb": {
     "figure": {
      "caption": "发展中经济体（GDP 增长率 %）",
      "name": "deve_gdp"
     }
    },
    "tags": [
     "hide-input"
    ]
   },
   "outputs": [],
   "source": [
    "fig, ax = plt.subplots()\n",
    "countries = ['巴西', '中国', '阿根廷', '墨西哥']\n",
    "plot_comparison(gdp_growth.loc[countries, 1962:], \n",
    "                countries, ylabel, \n",
    "                0.1, 20, ax, \n",
    "                g_params, b_params, t_params)\n",
    "plt.show()"
   ]
  },
  {
   "cell_type": "markdown",
   "id": "6f302ac2",
   "metadata": {},
   "source": [
    "上面的GDP增长率比较表明，在21世纪的衰退中，经济周期变得更加同步。\n",
    "\n",
    "然而，新兴经济体和欠发达经济体在整个经济周期中往往经历了更为剧烈的波动。\n",
    "\n",
    "尽管GDP增长率逐渐同步，但在衰退期间，各国的具体经历往往有所不同。\n",
    "\n",
    "我们使用失业率和劳动力市场状况的恢复作为另一个例子。\n",
    "\n",
    "这里我们比较美国、英国、日本和法国的失业率。"
   ]
  },
  {
   "cell_type": "code",
   "execution_count": null,
   "id": "45934d6e",
   "metadata": {
    "mystnb": {
     "figure": {
      "caption": "发达经济体（失业率 %）",
      "name": "adv_unemp"
     }
    },
    "tags": [
     "hide-input"
    ]
   },
   "outputs": [],
   "source": [
    "unempl_rate = wb.data.DataFrame('SL.UEM.TOTL.NE.ZS',\n",
    "    ['USA', 'FRA', 'GBR', 'JPN'], labels=True)\n",
    "unempl_rate = unempl_rate.set_index('Country')\n",
    "unempl_rate.columns = unempl_rate.columns.str.replace('YR', '').astype(int)\n",
    "\n",
    "fig, ax = plt.subplots()\n",
    "\n",
    "countries = ['联合王国', '美国', '日本', '法国']\n",
    "ylabel = '失业率(国家估计) (%)'\n",
    "plot_comparison(unempl_rate, countries, \n",
    "                ylabel, 0.05, None, ax, \n",
    "                g_params, b_params, t_params, \n",
    "                baseline=None)\n",
    "plt.show()"
   ]
  },
  {
   "cell_type": "markdown",
   "id": "f11d574d",
   "metadata": {},
   "source": [
    "我们看到法国，拥有强大的工会，在遭受负面冲击后的劳动力市场恢复速度通常较慢。\n",
    "\n",
    "我们还注意到，日本的失业率历史上非常低且稳定。\n",
    "\n",
    "## 领先指标和相关因素\n",
    "\n",
    "研究领先指标和相关因素有助于政策制定者了解经济周期的原因和结果。\n",
    "\n",
    "我们将从消费、生产和信贷水平三个角度来讨论潜在的领先指标和相关因素。\n",
    "\n",
    "### 消费\n",
    "\n",
    "消费取决于消费者对其收入和未来经济整体表现的信心。\n",
    "\n",
    "一个广泛引用的消费者信心指标是密歇根大学发布的[消费者信心指数](https://fred.stlouisfed.org/series/UMCSENT)。\n",
    "\n",
    "以下是美国从1978年至2022年密歇根大学消费者信心指数与[核心消费者价格指数](https://fred.stlouisfed.org/series/CPILFESL) （CPI）年度变化的图表。"
   ]
  },
  {
   "cell_type": "code",
   "execution_count": null,
   "id": "68296264",
   "metadata": {
    "mystnb": {
     "figure": {
      "caption": "消费者信心指数和年度 CPI 变化，美国",
      "name": "csicpi"
     }
    },
    "tags": [
     "hide-input"
    ]
   },
   "outputs": [],
   "source": [
    "start_date = datetime.datetime(1978, 1, 1)\n",
    "end_date = datetime.datetime(2022, 12, 31)\n",
    "\n",
    "# 将图表限制在特定范围\n",
    "start_date_graph = datetime.datetime(1977, 1, 1)\n",
    "end_date_graph = datetime.datetime(2023, 12, 31)\n",
    "\n",
    "nber = web.DataReader('USREC', 'fred', start_date, end_date)\n",
    "consumer_confidence = web.DataReader('UMCSENT', 'fred', \n",
    "                                start_date, end_date)\n",
    "\n",
    "fig, ax = plt.subplots()\n",
    "ax.plot(consumer_confidence, **g_params, \n",
    "        color='#377eb8', linestyle='-', \n",
    "        linewidth=2)\n",
    "ax.fill_between(nber.index, 0, 1, \n",
    "            where=nber['USREC']==1, \n",
    "            color='grey', edgecolor='none',\n",
    "            alpha=0.3, \n",
    "            transform=ax.get_xaxis_transform(), \n",
    "            label='NBER 衰退指标')\n",
    "ax.set_ylim([0, ax.get_ylim()[1]])\n",
    "ax.set_ylabel('消费者信心指数')\n",
    "\n",
    "# 在另一个 y 轴上绘制 CPI\n",
    "ax_t = ax.twinx()\n",
    "inflation = web.DataReader('CPILFESL', 'fred', \n",
    "                start_date, end_date).pct_change(12)*100\n",
    "\n",
    "# 将 CPI 添加到图例中而不重新绘制线条\n",
    "ax_t.plot(2020, 0, **g_params, linestyle='-', \n",
    "          linewidth=2, label='消费者信心指数')\n",
    "ax_t.plot(inflation, **g_params, \n",
    "          color='#ff7f00', linestyle='--', \n",
    "          linewidth=2, label='CPI 年度变化 (%)')\n",
    "\n",
    "ax_t.fill_between(nber.index, 0, 1,\n",
    "                  where=nber['USREC']==1, \n",
    "                  color='grey', edgecolor='none',\n",
    "                  alpha=0.3, \n",
    "                  transform=ax.get_xaxis_transform(), \n",
    "                  label='NBER 衰退指标')\n",
    "ax_t.set_ylim([0, ax_t.get_ylim()[1]])\n",
    "ax_t.set_xlim([start_date_graph, end_date_graph])\n",
    "ax_t.legend(loc='upper center',\n",
    "            bbox_to_anchor=(0.5, 1.1),\n",
    "            ncol=3, fontsize=9)\n",
    "ax_t.set_ylabel('CPI 年度变化 (%)')\n",
    "plt.show()"
   ]
  },
  {
   "cell_type": "markdown",
   "id": "a26b8570",
   "metadata": {},
   "source": [
    "我们看到\n",
    "\n",
    "* 消费者信心在扩张期间往往保持较高水平，并在衰退前下降。\n",
    "* 消费者信心与 CPI 之间存在明确的负相关关系。\n",
    "\n",
    "当消费品价格上涨时，消费者信心减弱。\n",
    "\n",
    "这一趋势在[滞胀](https://en.wikipedia.org/wiki/Stagflation)期间尤为显著。\n",
    "\n",
    "### 生产\n",
    "\n",
    "实际工业产出与经济衰退高度相关。\n",
    "\n",
    "然而，它并不是一个领先指标，因为生产收缩的顶峰相对于消费者信心和通胀有所延迟。\n",
    "\n",
    "我们绘制了美国1919年至2022年间的实际工业产出变化，以显示这一趋势。"
   ]
  },
  {
   "cell_type": "code",
   "execution_count": null,
   "id": "a7d67bb9",
   "metadata": {
    "mystnb": {
     "figure": {
      "caption": "美国同比实际产出变化（%）",
      "name": "roc"
     }
    },
    "tags": [
     "hide-input"
    ]
   },
   "outputs": [],
   "source": [
    "start_date = datetime.datetime(1919, 1, 1)\n",
    "end_date = datetime.datetime(2022, 12, 31)\n",
    "\n",
    "nber = web.DataReader('USREC', 'fred', \n",
    "                    start_date, end_date)\n",
    "industrial_output = web.DataReader('INDPRO', 'fred', \n",
    "                    start_date, end_date).pct_change(12)*100\n",
    "\n",
    "fig, ax = plt.subplots()\n",
    "ax.plot(industrial_output, **g_params, \n",
    "        color='#377eb8', linestyle='-', \n",
    "        linewidth=2, label='工业生产指数')\n",
    "ax.fill_between(nber.index, 0, 1,\n",
    "                where=nber['USREC']==1, \n",
    "                color='grey', edgecolor='none',\n",
    "                alpha=0.3, \n",
    "                transform=ax.get_xaxis_transform(), \n",
    "                label='NBER 衰退指标')\n",
    "ax.set_ylim([ax.get_ylim()[0], ax.get_ylim()[1]])\n",
    "ax.set_ylabel('同比实际产出变化 (%)')\n",
    "plt.show()"
   ]
  }
 ],
 "metadata": {
  "jupytext": {
   "text_representation": {
    "extension": ".md",
    "format_name": "myst",
    "format_version": 0.13,
    "jupytext_version": "1.14.5"
   }
  },
  "kernelspec": {
   "display_name": "Python 3 (ipykernel)",
   "language": "python",
   "name": "python3"
  },
  "language_info": {
   "codemirror_mode": {
    "name": "ipython",
    "version": 3
   },
   "file_extension": ".py",
   "mimetype": "text/x-python",
   "name": "python",
   "nbconvert_exporter": "python",
   "pygments_lexer": "ipython3",
   "version": "3.10.12"
  },
  "source_map": [
   12,
   28,
   33,
   37,
   48,
   52,
   59,
   69,
   71,
   75,
   80,
   84,
   88,
   97,
   104,
   110,
   112,
   115,
   119,
   121,
   125,
   141,
   149,
   165,
   173,
   179,
   194,
   198,
   213,
   217,
   232,
   238,
   253,
   263,
   279,
   283,
   332,
   354,
   429,
   433,
   449,
   461,
   478,
   484,
   500,
   512,
   535,
   555,
   613,
   632
  ]
 },
 "nbformat": 4,
 "nbformat_minor": 5
}