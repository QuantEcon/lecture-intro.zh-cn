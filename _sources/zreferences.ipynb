{
 "cells": [
  {
   "cell_type": "markdown",
   "id": "9f0b79d7",
   "metadata": {},
   "source": [
    "(references)=\n",
    "# 参考文献\n",
    "\n",
    "```{bibliography} _static/quant-econ.bib\n",
    "```"
   ]
  }
 ],
 "metadata": {
  "jupytext": {
   "text_representation": {
    "extension": ".md",
    "format_name": "myst"
   }
  },
  "kernelspec": {
   "display_name": "Python 3",
   "language": "python",
   "name": "python3"
  },
  "source_map": [
   10
  ]
 },
 "nbformat": 4,
 "nbformat_minor": 5
}