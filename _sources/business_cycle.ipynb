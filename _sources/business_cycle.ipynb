{
 "cells": [
  {
   "cell_type": "markdown",
   "id": "fe3c7420",
   "metadata": {},
   "source": [
    "# 商业周期\n",
    "\n",
    "## 概览\n",
    "\n",
    "在本讲座中，我们将从实证的角度分析商业周期。\n",
    "\n",
    "商业周期是经济活动随时间波动的现象。\n",
    "\n",
    "这包括扩张期（也称为繁荣期）和收缩期（也称为衰退期）。\n",
    "\n",
    "在本讲中，我们将使用来自[世界银行](https://documents.worldbank.org/en/publication/documents-reports/api)和[FRED](https://fred.stlouisfed.org/)的经济指标。\n",
    "\n",
    "除了Anaconda中包含的包之外，本讲还需要以下的包："
   ]
  },
  {
   "cell_type": "code",
   "execution_count": null,
   "id": "3f03cb72",
   "metadata": {
    "tags": [
     "hide-output"
    ]
   },
   "outputs": [],
   "source": [
    "!pip install wbgapi\n",
    "!pip install pandas-datareader"
   ]
  },
  {
   "cell_type": "markdown",
   "id": "936d0367",
   "metadata": {},
   "source": [
    "接下来我们导入本讲所需的Python包。"
   ]
  },
  {
   "cell_type": "code",
   "execution_count": null,
   "id": "aa789c91",
   "metadata": {},
   "outputs": [],
   "source": [
    "import matplotlib.pyplot as plt\n",
    "import pandas as pd\n",
    "import datetime\n",
    "import wbgapi as wb\n",
    "import pandas_datareader.data as web\n",
    "\n",
    "import matplotlib as mpl\n",
    "FONTPATH = \"fonts/SourceHanSerifSC-SemiBold.otf\"\n",
    "mpl.font_manager.fontManager.addfont(FONTPATH)\n",
    "plt.rcParams['font.family'] = ['Source Han Serif SC']"
   ]
  },
  {
   "cell_type": "markdown",
   "id": "ea3b3107",
   "metadata": {},
   "source": [
    "下面几行代码是用来设置图形参数和国家/地区名的中英文对照的。"
   ]
  },
  {
   "cell_type": "code",
   "execution_count": null,
   "id": "4e491617",
   "metadata": {
    "tags": [
     "hide-input"
    ]
   },
   "outputs": [],
   "source": [
    "# 设置图形参数\n",
    "cycler = plt.cycler(linestyle=['-', '-.', '--', ':'], \n",
    "        color=['#377eb8', '#ff7f00', '#4daf4a', '#ff334f'])\n",
    "plt.rc('axes', prop_cycle=cycler)\n",
    "\n",
    "name_cn = pd.read_csv('../lectures/datasets/country_code_cn.csv').set_index('name_chinese')"
   ]
  },
  {
   "cell_type": "markdown",
   "id": "428c2c19",
   "metadata": {},
   "source": [
    "## 数据获取\n",
    "\n",
    "我们将使用世界银行的数据API `wbgapi` 和 `pandas_datareader` 来检索数据。\n",
    "\n",
    "我们可以使用 `wb.series.info` 并使用参数 `q` 来查询来自[世界银行](https://www.worldbank.org/en/home)的可用数据。\n",
    "\n",
    "例如，我们可以试着检索 GDP 增长数据 ID 以查询 GDP 增长数据。"
   ]
  },
  {
   "cell_type": "code",
   "execution_count": null,
   "id": "388b972a",
   "metadata": {},
   "outputs": [],
   "source": [
    "wb.series.info(q='GDP growth')"
   ]
  },
  {
   "cell_type": "markdown",
   "id": "7167befd",
   "metadata": {},
   "source": [
    "现在我们使用这个系列 ID 来获取数据。"
   ]
  },
  {
   "cell_type": "code",
   "execution_count": null,
   "id": "0224425c",
   "metadata": {},
   "outputs": [],
   "source": [
    "gdp_growth = wb.data.DataFrame('NY.GDP.MKTP.KD.ZG',\n",
    "            ['USA', 'ARG', 'GBR', 'GRC', 'JPN'], \n",
    "            labels=True)\n",
    "gdp_growth"
   ]
  },
  {
   "cell_type": "markdown",
   "id": "8d7e8c8a",
   "metadata": {},
   "source": [
    "我们可以查看系列的元数据，了解有关该系列的更多信息（点击展开）。"
   ]
  },
  {
   "cell_type": "code",
   "execution_count": null,
   "id": "e58c2a6c",
   "metadata": {
    "tags": [
     "hide-output"
    ]
   },
   "outputs": [],
   "source": [
    "wb.series.metadata.get('NY.GDP.MKTP.KD.ZG')"
   ]
  },
  {
   "cell_type": "markdown",
   "id": "6731256b",
   "metadata": {},
   "source": [
    "(gdp_growth)=\n",
    "## GDP 增长率\n",
    "\n",
    "首先，让我们来看看GDP增长率。\n",
    "\n",
    "我们先获取世界银行的数据并进行数据清洗。"
   ]
  },
  {
   "cell_type": "code",
   "execution_count": null,
   "id": "63c3dc74",
   "metadata": {},
   "outputs": [],
   "source": [
    "# 使用ID获取数据\n",
    "gdp_growth = wb.data.DataFrame('NY.GDP.MKTP.KD.ZG',\n",
    "            ['USA', 'ARG', 'GBR', 'GRC', 'JPN'], \n",
    "            labels=True)\n",
    "gdp_growth = gdp_growth.set_index('Country')\n",
    "gdp_growth.columns = gdp_growth.columns.str.replace('YR', '').astype(int)"
   ]
  },
  {
   "cell_type": "markdown",
   "id": "b3ee52d6",
   "metadata": {},
   "source": [
    "我们把数据打印出来看一看"
   ]
  },
  {
   "cell_type": "code",
   "execution_count": null,
   "id": "a07a64d6",
   "metadata": {},
   "outputs": [],
   "source": [
    "gdp_growth"
   ]
  },
  {
   "cell_type": "markdown",
   "id": "88a67eab",
   "metadata": {},
   "source": [
    "接下来我们写一个函数来绘制各个国家的时间序列图并突出显示经济衰退的时期。"
   ]
  },
  {
   "cell_type": "code",
   "execution_count": null,
   "id": "c781e9e9",
   "metadata": {
    "tags": [
     "hide-input"
    ]
   },
   "outputs": [],
   "source": [
    "def plot_series(data, country, ylabel, \n",
    "                txt_pos, ax, g_params,\n",
    "                b_params, t_params, ylim=15, baseline=0):\n",
    "    \"\"\"\n",
    "    绘制数据的时间序列图并突出显示经济衰退的时期。\n",
    "\n",
    "    参数\n",
    "    ----------\n",
    "    data : pd.DataFrame\n",
    "        要绘制的数据\n",
    "    country : str\n",
    "        要绘制的国家名称\n",
    "    ylabel : str\n",
    "        y轴的标签\n",
    "    txt_pos : float\n",
    "        衰退标签的位置\n",
    "    ylim : float\n",
    "        y轴的限制\n",
    "    ax : matplotlib.axes._subplots.AxesSubplot\n",
    "        绘图的轴向\n",
    "    g_params : dict\n",
    "        曲线的参数\n",
    "    b_params : dict\n",
    "        衰退高亮的参数\n",
    "    t_params : dict\n",
    "        衰退标签的参数\n",
    "    baseline : float, optional\n",
    "        图表中的虚线基线，默认为0\n",
    "    \n",
    "    返回\n",
    "    -------\n",
    "    ax : matplotlib.axes.Axes\n",
    "        带有图表的轴向。\n",
    "    \"\"\"\n",
    "    \n",
    "    country_cn = name_cn.loc[country]['name']\n",
    "\n",
    "    ax.plot(data.loc[country_cn], label=country, **g_params)\n",
    "    \n",
    "    # 高亮衰退\n",
    "    ax.axvspan(1973, 1975, **b_params)\n",
    "    ax.axvspan(1990, 1992, **b_params)\n",
    "    ax.axvspan(2007, 2009, **b_params)\n",
    "    ax.axvspan(2019, 2021, **b_params)\n",
    "    if ylim != None:\n",
    "        ax.set_ylim([-ylim, ylim])\n",
    "    else:\n",
    "        ylim = ax.get_ylim()[1]\n",
    "    ax.text(1974, ylim + ylim*txt_pos, '石油危机\\n(1974)', **t_params) \n",
    "    ax.text(1991, ylim + ylim*txt_pos, '90年代经济衰退\\n(1991)', **t_params) \n",
    "    ax.text(2008, ylim + ylim*txt_pos, '全球金融危机\\n(2008)', **t_params) \n",
    "    ax.text(2020, ylim + ylim*txt_pos, 'Covid-19\\n(2020)', **t_params)\n",
    "\n",
    "    # 添加基线\n",
    "    if baseline != None:\n",
    "        ax.axhline(y=baseline, \n",
    "                   color='black', \n",
    "                   linestyle='--')\n",
    "    ax.set_ylabel(ylabel)\n",
    "    ax.legend()\n",
    "    return ax\n",
    "\n",
    "# 定义图形参数\n",
    "g_params = {'alpha': 0.7}\n",
    "b_params = {'color':'grey', 'alpha': 0.2}\n",
    "t_params = {'color':'grey', 'fontsize': 9, \n",
    "            'va':'center', 'ha':'center'}"
   ]
  },
  {
   "cell_type": "markdown",
   "id": "6a555fff",
   "metadata": {},
   "source": [
    "让我们先从美国开始"
   ]
  },
  {
   "cell_type": "code",
   "execution_count": null,
   "id": "c9649ea2",
   "metadata": {
    "mystnb": {
     "figure": {
      "caption": "美国 (GDP 增长率 %)",
      "name": "us_gdp"
     }
    }
   },
   "outputs": [],
   "source": [
    "fig, ax = plt.subplots()\n",
    "\n",
    "country = '美国'\n",
    "ylabel = 'GDP 增长率 (%)'\n",
    "plot_series(gdp_growth, country, \n",
    "            ylabel, 0.1, ax, \n",
    "            g_params, b_params, t_params)\n",
    "plt.show()"
   ]
  },
  {
   "cell_type": "markdown",
   "id": "5053dae9",
   "metadata": {},
   "source": [
    "从图中我们可以看到，GDP 平均增长率呈现正值，并且随着时间的推移呈现轻微下降趋势。\n",
    "\n",
    "我们也看到GDP平均增长率的波动随时间变化，其中一些波动幅度很大。\n",
    "\n",
    "让我们再多看一些国家的趋势并与美国比较。\n",
    "\n",
    "英国 (UK) 的模式与美国类似，增长率缓慢下降，波动显著。\n",
    "\n",
    "我们注意到增长率在 Covid-19 大流行期间的大幅下跌。"
   ]
  },
  {
   "cell_type": "code",
   "execution_count": null,
   "id": "50ce2c25",
   "metadata": {
    "mystnb": {
     "figure": {
      "caption": "英国 (GDP 增长率 %)",
      "name": "uk_gdp"
     }
    }
   },
   "outputs": [],
   "source": [
    "fig, ax = plt.subplots()\n",
    "\n",
    "country = '英国'\n",
    "plot_series(gdp_growth, country, \n",
    "            ylabel, 0.1, ax, \n",
    "            g_params, b_params, t_params)\n",
    "plt.show()"
   ]
  },
  {
   "cell_type": "markdown",
   "id": "00f02830",
   "metadata": {},
   "source": [
    "接下来我们看看日本，它在1960年代和1970年代经历了快速增长，并在过去二十年里增长放缓。\n",
    "\n",
    "增长率的大幅下降与 1970 年代的石油危机、全球金融危机（GFC）和 Covid-19 大流行同时发生。"
   ]
  },
  {
   "cell_type": "code",
   "execution_count": null,
   "id": "e5fd4868",
   "metadata": {
    "mystnb": {
     "figure": {
      "caption": "日本 (GDP 增长率 %)",
      "name": "jp_gdp"
     }
    }
   },
   "outputs": [],
   "source": [
    "fig, ax = plt.subplots()\n",
    "\n",
    "country = '日本'\n",
    "plot_series(gdp_growth, country, \n",
    "            ylabel, 0.1, ax, \n",
    "            g_params, b_params, t_params)\n",
    "plt.show()"
   ]
  },
  {
   "cell_type": "markdown",
   "id": "4ba000af",
   "metadata": {},
   "source": [
    "现在让我们研究希腊。"
   ]
  },
  {
   "cell_type": "code",
   "execution_count": null,
   "id": "e7df426e",
   "metadata": {
    "mystnb": {
     "figure": {
      "caption": "希腊 (GDP 增长率 %)",
      "name": "gc_gdp"
     }
    }
   },
   "outputs": [],
   "source": [
    "fig, ax = plt.subplots()\n",
    "\n",
    "country = '希腊'\n",
    "plot_series(gdp_growth, country, \n",
    "            ylabel, 0.1, ax, \n",
    "            g_params, b_params, t_params)\n",
    "plt.show()"
   ]
  },
  {
   "cell_type": "markdown",
   "id": "29419d8f",
   "metadata": {},
   "source": [
    "希腊在2010-2011年左右经历了GDP增长率的大幅下降，这正是希腊债务危机最严重的时期。\n",
    "\n",
    "接下来我们来看看阿根廷。"
   ]
  },
  {
   "cell_type": "code",
   "execution_count": null,
   "id": "8be372d4",
   "metadata": {
    "mystnb": {
     "figure": {
      "caption": "阿根廷 (GDP 增长率 %)",
      "name": "arg_gdp"
     }
    }
   },
   "outputs": [],
   "source": [
    "fig, ax = plt.subplots()\n",
    "\n",
    "country = '阿根廷'\n",
    "plot_series(gdp_growth, country, \n",
    "            ylabel, 0.1, ax, \n",
    "            g_params, b_params, t_params)\n",
    "plt.show()"
   ]
  },
  {
   "cell_type": "markdown",
   "id": "1a584945",
   "metadata": {},
   "source": [
    "注意阿根廷经历的波动周期远比上述国家剧烈。\n",
    "\n",
    "与此同时，阿根廷的增长率在20世纪70年代和90年代两次发达经济体衰退期间并未下降。\n",
    "\n",
    "## 失业\n",
    "\n",
    "失业率是衡量商业周期的另一个重要指标。\n",
    "\n",
    "我们使用 [FRED](https://fred.stlouisfed.org/) 提供的 [1929-1942](https://fred.stlouisfed.org/series/M0892AUSM156SNBR) 年和 [1948-2022](https://fred.stlouisfed.org/series/UNRATE) 年的失业率数据以及[人口普查局](https://www.census.gov/library/publications/1975/compendia/hist_stats_colonial-1970.html) 估算的 1942-1948 年的失业率数据来研究失业问题。"
   ]
  },
  {
   "cell_type": "code",
   "execution_count": null,
   "id": "c001e369",
   "metadata": {
    "tags": [
     "hide-input"
    ]
   },
   "outputs": [],
   "source": [
    "start_date = datetime.datetime(1929, 1, 1)\n",
    "end_date = datetime.datetime(1942, 6, 1)\n",
    "\n",
    "unrate_history = web.DataReader('M0892AUSM156SNBR', \n",
    "                    'fred', start_date,end_date)\n",
    "unrate_history.rename(columns={'M0892AUSM156SNBR': 'UNRATE'}, \n",
    "                inplace=True)\n",
    "\n",
    "start_date = datetime.datetime(1948, 1, 1)\n",
    "end_date = datetime.datetime(2022, 12, 31)\n",
    "\n",
    "unrate = web.DataReader('UNRATE', 'fred', \n",
    "                    start_date, end_date)"
   ]
  },
  {
   "cell_type": "markdown",
   "id": "2bde1163",
   "metadata": {},
   "source": [
    "接下来我们绘制美国从1929年到2022年的失业率，以及由美国国家经济研究局（NBER）定义的经济衰退期。"
   ]
  },
  {
   "cell_type": "code",
   "execution_count": null,
   "id": "e9f0eb88",
   "metadata": {
    "mystnb": {
     "figure": {
      "caption": "长期失业率, 美国 (%)",
      "name": "lrunrate"
     }
    },
    "tags": [
     "hide-input"
    ]
   },
   "outputs": [],
   "source": [
    "# 使用人口普查局估计的1942年到1948年间的失业率数据\n",
    "years = [datetime.datetime(year, 6, 1) for year in range(1942, 1948)]\n",
    "unrate_census = [4.7, 1.9, 1.2, 1.9, 3.9, 3.9]\n",
    "\n",
    "unrate_census = {'DATE': years, 'UNRATE': unrate_census}\n",
    "unrate_census = pd.DataFrame(unrate_census)\n",
    "unrate_census.set_index('DATE', inplace=True)\n",
    "\n",
    "# 获取由 NBER 定义的经济衰退期\n",
    "start_date = datetime.datetime(1929, 1, 1)\n",
    "end_date = datetime.datetime(2022, 12, 31)\n",
    "\n",
    "nber = web.DataReader('USREC', 'fred', start_date, end_date)\n",
    "\n",
    "fig, ax = plt.subplots()\n",
    "\n",
    "ax.plot(unrate_history, **g_params, \n",
    "        color='#377eb8', \n",
    "        linestyle='-', linewidth=2)\n",
    "ax.plot(unrate_census, **g_params, \n",
    "        color='black', linestyle='--', \n",
    "        label='人口普查估计', linewidth=2)\n",
    "ax.plot(unrate, **g_params, color='#377eb8', \n",
    "        linestyle='-', linewidth=2)\n",
    "\n",
    "# 根据 NBER 经济衰退指标绘制灰色方框\n",
    "ax.fill_between(nber.index, 0, 1,\n",
    "                where=nber['USREC']==1, \n",
    "                color='grey', edgecolor='none',\n",
    "                alpha=0.3, \n",
    "                transform=ax.get_xaxis_transform(), \n",
    "                label='NBER 经济衰退指标')\n",
    "ax.set_ylim([0, ax.get_ylim()[1]])\n",
    "ax.legend(loc='upper center', \n",
    "          bbox_to_anchor=(0.5, 1.1),\n",
    "          ncol=3, fancybox=True, shadow=True)\n",
    "ax.set_ylabel('失业率 (%)')\n",
    "\n",
    "plt.show()"
   ]
  },
  {
   "cell_type": "markdown",
   "id": "d30b1372",
   "metadata": {},
   "source": [
    "图表显示：\n",
    "\n",
    "* 劳动力市场的扩张和收缩与经济衰退高度相关。\n",
    "* 周期一般是不对称的：失业率的急剧上升后面通常跟随着缓慢的复苏。\n",
    "\n",
    "它还向我们展示了美国在疫情后复苏期间劳动力市场状况的独特性。\n",
    "\n",
    "劳动力市场在2020-2021年的冲击后以前所未有的速度复苏。\n",
    "\n",
    "(synchronization)=\n",
    "## 同步化\n",
    "\n",
    "在我们的{ref}`之前的讨论<gdp_growth>`中，我们发现发达经济体的衰退期相对同步。\n",
    "\n",
    "同时，这种同步现象直到21世纪才在阿根廷出现。\n",
    "\n",
    "让我们进一步研究这种趋势。\n",
    "\n",
    "通过轻微的修改，我们可以使用我们之前的函数来绘制包括多个国家的图表。"
   ]
  },
  {
   "cell_type": "code",
   "execution_count": null,
   "id": "2b9dfe1f",
   "metadata": {
    "tags": [
     "hide-input"
    ]
   },
   "outputs": [],
   "source": [
    "def plot_comparison(data, countries, \n",
    "                        ylabel, txt_pos, y_lim, ax, \n",
    "                        g_params, b_params, t_params, \n",
    "                        baseline=0):\n",
    "    \"\"\"\n",
    "    在同一图表上绘制多个系列\n",
    "\n",
    "    参数\n",
    "    ----------\n",
    "    data : pd.DataFrame\n",
    "        要绘制的数据\n",
    "    countries : list\n",
    "        要绘制国家的列表\n",
    "    ylabel : str\n",
    "        y轴的标签\n",
    "    txt_pos : float\n",
    "        衰退标签的位置\n",
    "    y_lim : float\n",
    "        y轴的限制\n",
    "    ax : matplotlib.axes._subplots.AxesSubplot\n",
    "        绘图的轴向\n",
    "    g_params : dict\n",
    "        曲线的参数\n",
    "    b_params : dict\n",
    "        衰退高亮的参数\n",
    "    t_params : dict\n",
    "        衰退标签的参数\n",
    "    baseline : float, optional\n",
    "        在图表中的虚线基线，默认为0\n",
    "    \n",
    "    返回\n",
    "    -------\n",
    "    ax : matplotlib.axes.Axes\n",
    "        带有绘图的轴向。\n",
    "    \"\"\"\n",
    "    \n",
    "    # 允许函数处理多个系列\n",
    "    for country in countries:\n",
    "        country_cn = name_cn.loc[country]['name']\n",
    "        ax.plot(data.loc[country_cn], label=country, **g_params)\n",
    "    \n",
    "    # 高亮衰退期\n",
    "    ax.axvspan(1973, 1975, **b_params)\n",
    "    ax.axvspan(1990, 1992, **b_params)\n",
    "    ax.axvspan(2007, 2009, **b_params)\n",
    "    ax.axvspan(2019, 2021, **b_params)\n",
    "    if y_lim != None:\n",
    "        ax.set_ylim([-y_lim, y_lim])\n",
    "    ylim = ax.get_ylim()[1]\n",
    "    ax.text(1974, ylim + ylim*txt_pos, '石油危机\\n(1974)', **t_params) \n",
    "    ax.text(1991, ylim + ylim*txt_pos, '90年代经济衰退\\n(1991)', **t_params) \n",
    "    ax.text(2008, ylim + ylim*txt_pos, '全球金融危机\\n(2008)', **t_params) \n",
    "    ax.text(2020, ylim + ylim*txt_pos, 'Covid-19\\n(2020)', **t_params) \n",
    "    if baseline != None:\n",
    "        ax.hlines(y=baseline, xmin=ax.get_xlim()[0], \n",
    "                  xmax=ax.get_xlim()[1], color='black', \n",
    "                  linestyle='--')\n",
    "    ax.set_ylabel(ylabel)\n",
    "    ax.legend()\n",
    "    return ax\n",
    "\n",
    "# 定义图形参数 \n",
    "g_params = {'alpha': 0.7}\n",
    "b_params = {'color':'grey', 'alpha': 0.2}\n",
    "t_params = {'color':'grey', 'fontsize': 9, \n",
    "            'va':'center', 'ha':'center'}"
   ]
  },
  {
   "cell_type": "markdown",
   "id": "6c5f31c9",
   "metadata": {},
   "source": [
    "在此，我们对发达经济体和发展中经济体的GDP增长率进行比较。"
   ]
  },
  {
   "cell_type": "code",
   "execution_count": null,
   "id": "a1bbb19a",
   "metadata": {
    "tags": [
     "hide-input"
    ]
   },
   "outputs": [],
   "source": [
    "# 获取GDP增长率数据\n",
    "gdp_growth = wb.data.DataFrame('NY.GDP.MKTP.KD.ZG',\n",
    "            ['CHN', 'USA', 'DEU', 'BRA', 'ARG', 'GBR', 'JPN', 'MEX'], \n",
    "            labels=True)\n",
    "gdp_growth = gdp_growth.set_index('Country')\n",
    "gdp_growth.columns = gdp_growth.columns.str.replace('YR', '').astype(int)"
   ]
  },
  {
   "cell_type": "markdown",
   "id": "5b01fba7",
   "metadata": {},
   "source": [
    "我们将英国、美国、德国和日本作为发达经济体的例子。"
   ]
  },
  {
   "cell_type": "code",
   "execution_count": null,
   "id": "7ab56b26",
   "metadata": {
    "mystnb": {
     "figure": {
      "caption": "发达经济体（GDP增长率 %）",
      "name": "global_gdp_comparison"
     }
    },
    "tags": [
     "hide-input"
    ]
   },
   "outputs": [],
   "source": [
    "fig, ax = plt.subplots()\n",
    "\n",
    "countries = ['英国', '美国', '德国', '日本']\n",
    "ylabel = 'GDP 增长率 (%)'\n",
    "plot_comparison(gdp_growth, countries, \n",
    "                ylabel, 0.1, 20, ax, \n",
    "                g_params, b_params, t_params)\n",
    "\n",
    "plt.show()"
   ]
  },
  {
   "cell_type": "markdown",
   "id": "8df7041d",
   "metadata": {},
   "source": [
    "我们选择巴西、中国、阿根廷和墨西哥作为发展中经济体的代表。"
   ]
  },
  {
   "cell_type": "code",
   "execution_count": null,
   "id": "5e5b1775",
   "metadata": {
    "mystnb": {
     "figure": {
      "caption": "发展中经济体 (GDP 增长率 %)",
      "name": "deve_gdp"
     }
    },
    "tags": [
     "hide-input"
    ]
   },
   "outputs": [],
   "source": [
    "fig, ax = plt.subplots()\n",
    "countries = ['巴西', '中国', '阿根廷', '墨西哥']\n",
    "plot_comparison(gdp_growth.loc[name_cn.loc[countries]['name'], 1962:], \n",
    "                countries, ylabel, \n",
    "                0.1, 20, ax, \n",
    "                g_params, b_params, t_params)\n",
    "plt.show()"
   ]
  },
  {
   "cell_type": "markdown",
   "id": "48533176",
   "metadata": {},
   "source": [
    "上述GDP增长率的比较表明，在21世纪全球的商业周期变得更加同步。\n",
    "\n",
    "然而，新兴和不发达经济体的经济周期通常经历更加剧烈的变化。\n",
    "\n",
    "尽管GDP增长实现了同步，但在衰退期间各国的经历常常有所不同。\n",
    "\n",
    "我们使用失业率和劳动市场的复苏作为另一个例子。\n",
    "\n",
    "这里我们比较了美国、英国、日本和法国的失业率。"
   ]
  },
  {
   "cell_type": "code",
   "execution_count": null,
   "id": "345bddf1",
   "metadata": {
    "mystnb": {
     "figure": {
      "caption": "发达经济体 (失业率 %)",
      "name": "adv_unemp"
     }
    },
    "tags": [
     "hide-input"
    ]
   },
   "outputs": [],
   "source": [
    "unempl_rate = wb.data.DataFrame('SL.UEM.TOTL.NE.ZS',\n",
    "    ['USA', 'FRA', 'GBR', 'JPN'], labels=True)\n",
    "unempl_rate = unempl_rate.set_index('Country')\n",
    "unempl_rate.columns = unempl_rate.columns.str.replace('YR', '').astype(int)\n",
    "\n",
    "fig, ax = plt.subplots()\n",
    "\n",
    "countries = ['英国', '美国', '日本', '法国']\n",
    "ylabel = '失业率（国家估算）(%)'\n",
    "plot_comparison(unempl_rate, countries, \n",
    "                ylabel, 0.05, None, ax, g_params, \n",
    "                b_params, t_params, baseline=None)\n",
    "plt.show()"
   ]
  },
  {
   "cell_type": "markdown",
   "id": "0522d278",
   "metadata": {},
   "source": [
    "我们看到，工会力量强大的法国在受到负面冲击后，劳动力市场的复苏通常会相对缓慢。\n",
    "\n",
    "我们还注意到，日本的失业率一直非常低且稳定。\n",
    "\n",
    "## 领先指标和相关因素 \n",
    "\n",
    "研究领先指标和相关因素有助于决策者了解商业周期的原因和结果。\n",
    "\n",
    "我们将从消费、生产和信贷水平来讨论潜在的领先指标和相关因素。\n",
    "\n",
    "### 消费\n",
    "\n",
    "消费取决于消费者对其收入的信心以及未来经济的整体表现。\n",
    "\n",
    "密歇根大学发布的[消费者信心指数](https://fred.stlouisfed.org/series/UMCSENT)是一个被广泛引用的消费者信心指标。\n",
    "\n",
    "这里我们绘制了密歇根大学消费者信心指数和年同比 \n",
    "[居民消费价格指数](https://fred.stlouisfed.org/series/CPILFESL) (CPI) 的变化。"
   ]
  },
  {
   "cell_type": "code",
   "execution_count": null,
   "id": "938f9ae1",
   "metadata": {
    "mystnb": {
     "figure": {
      "caption": "消费者情绪指数和年同比 CPI 变化，美国",
      "name": "csicpi"
     }
    },
    "tags": [
     "hide-input"
    ]
   },
   "outputs": [],
   "source": [
    "start_date = datetime.datetime(1978, 1, 1)\n",
    "end_date = datetime.datetime(2022, 12, 31)\n",
    "\n",
    "# 限制图表的时间范围\n",
    "start_date_graph = datetime.datetime(1977, 1, 1)\n",
    "end_date_graph = datetime.datetime(2023, 12, 31)\n",
    "\n",
    "nber = web.DataReader('USREC', 'fred', start_date, end_date)\n",
    "consumer_confidence = web.DataReader('UMCSENT', 'fred', \n",
    "                                start_date, end_date)\n",
    "\n",
    "fig, ax = plt.subplots()\n",
    "ax.plot(consumer_confidence, **g_params, \n",
    "        color='#377eb8', linestyle='-', \n",
    "        linewidth=2)\n",
    "ax.fill_between(nber.index, 0, 1, \n",
    "            where=nber['USREC']==1, \n",
    "            color='grey', edgecolor='none',\n",
    "            alpha=0.3, \n",
    "            transform=ax.get_xaxis_transform(), \n",
    "            label='NBER 衰退指标')\n",
    "ax.set_ylim([0, ax.get_ylim()[1]])\n",
    "ax.set_ylabel('消费者情绪指数')\n",
    "\n",
    "# 在另一个y轴上绘制 CPI\n",
    "ax_t = ax.twinx()\n",
    "inflation = web.DataReader('CPILFESL', 'fred', \n",
    "                start_date, end_date).pct_change(12)*100\n",
    "\n",
    "# 在图例中添加 CPI 而不重复绘图线条\n",
    "ax_t.plot(2020, 0, **g_params, linestyle='-', \n",
    "          linewidth=2, label='消费者情绪指数')\n",
    "ax_t.plot(inflation, **g_params, \n",
    "          color='#ff7f00', linestyle='--', \n",
    "          linewidth=2, label='CPI 年同比变化（%）')\n",
    "\n",
    "ax_t.fill_between(nber.index, 0, 1,\n",
    "                  where=nber['USREC']==1, \n",
    "                  color='grey', edgecolor='none',\n",
    "                  alpha=0.3, \n",
    "                  transform=ax.get_xaxis_transform(), \n",
    "                  label='NBER 衰退指标')\n",
    "ax_t.set_ylim([0, ax_t.get_ylim()[1]])\n",
    "ax_t.set_xlim([start_date_graph, end_date_graph])\n",
    "ax_t.legend(loc='upper center',\n",
    "            bbox_to_anchor=(0.5, 1.1),\n",
    "            ncol=3, fontsize=9)\n",
    "ax_t.set_ylabel('CPI 年同比变化（%）')\n",
    "plt.show()"
   ]
  },
  {
   "cell_type": "markdown",
   "id": "ecaae573",
   "metadata": {},
   "source": [
    "我们看到：\n",
    "* 消费者情绪在经济扩张期间常常保持高位，并在衰退前下降。\n",
    "* 消费者情绪和CPI之间存在明显的负相关性。\n",
    "\n",
    "当消费者商品的价格上涨时，消费者信心会下降。\n",
    "\n",
    "这种趋势在[滞胀](https://en.wikipedia.org/wiki/Stagflation)期间更为明显。\n",
    "\n",
    "### 生产\n",
    "\n",
    "实际工业产出与经济衰退高度相关。\n",
    "\n",
    "然而，它不是一个领先指标，因为产出收缩的高峰通常比消费者信心和通货膨胀的减弱要晚。\n",
    "\n",
    "我们绘制了1919年到2022年美国实际工业产出年变化用于展示此趋势。"
   ]
  },
  {
   "cell_type": "code",
   "execution_count": null,
   "id": "ede0a898",
   "metadata": {
    "mystnb": {
     "figure": {
      "caption": "年实际产出变化，美国（%）",
      "name": "roc"
     }
    },
    "tags": [
     "hide-input"
    ]
   },
   "outputs": [],
   "source": [
    "start_date = datetime.datetime(1919, 1, 1)\n",
    "end_date = datetime.datetime(2022, 12, 31)\n",
    "\n",
    "nber = web.DataReader('USREC', 'fred', \n",
    "                    start_date, end_date)\n",
    "industrial_output = web.DataReader('INDPRO', 'fred', \n",
    "                    start_date, end_date).pct_change(12)*100\n",
    "\n",
    "fig, ax = plt.subplots()\n",
    "ax.plot(industrial_output, **g_params, \n",
    "        color='#377eb8', linestyle='-', \n",
    "        linewidth=2, label='工业生产指数')\n",
    "ax.fill_between(nber.index, 0, 1,\n",
    "                where=nber['USREC']==1, \n",
    "                color='grey', edgecolor='none',\n",
    "                alpha=0.3, \n",
    "                transform=ax.get_xaxis_transform(), \n",
    "                label='NBER衰退指标')\n",
    "ax.set_ylim([ax.get_ylim()[0], ax.get_ylim()[1]])\n",
    "ax.set_ylabel('年实际产出变化 (%)')\n",
    "plt.show()"
   ]
  },
  {
   "cell_type": "markdown",
   "id": "c122c4e6",
   "metadata": {},
   "source": [
    "我们从图中可以观察到各次经济衰退的延迟收缩。\n",
    "\n",
    "### 信贷水平\n",
    "\n",
    "我们最后一个观察的相关因素是信贷水平。\n",
    "\n",
    "信贷收缩经常在经济衰退期间发生，因为出贷方变得更加谨慎，借款人也更加犹豫是否要承担更多的债务。\n",
    "\n",
    "这是由于整体经济活动的减少和对未来前景的悲观预期。\n",
    "\n",
    "一个例子是英国银行对私营部门的国内信贷。\n",
    "\n",
    "下面的图表显示了1970年到2022年英国银行对私营部门的国内信贷占 GDP 的百分比。。"
   ]
  },
  {
   "cell_type": "code",
   "execution_count": null,
   "id": "d4010b3e",
   "metadata": {
    "mystnb": {
     "figure": {
      "caption": "银行对私营部门的国内信贷（% GDP）",
      "name": "dcpc"
     }
    },
    "tags": [
     "hide-input"
    ]
   },
   "outputs": [],
   "source": [
    "private_credit = wb.data.DataFrame('FS.AST.PRVT.GD.ZS', \n",
    "                ['GBR'], labels=True)\n",
    "private_credit = private_credit.set_index('Country')\n",
    "private_credit.columns = private_credit.columns.str.replace('YR', '').astype(int)\n",
    "\n",
    "fig, ax = plt.subplots()\n",
    "\n",
    "countries = '英国'\n",
    "ylabel = '信贷水平 (% of GDP)'\n",
    "ax = plot_series(private_credit, countries, \n",
    "                 ylabel, 0.05, ax, g_params, b_params, \n",
    "                 t_params, ylim=None, baseline=None)\n",
    "plt.show()"
   ]
  },
  {
   "cell_type": "markdown",
   "id": "dc06e6b6",
   "metadata": {},
   "source": [
    "我们可以看到信贷在经济扩张期间上升，在衰退后停滞甚至收缩。"
   ]
  }
 ],
 "metadata": {
  "jupytext": {
   "text_representation": {
    "extension": ".md",
    "format_name": "myst",
    "format_version": 0.13,
    "jupytext_version": "1.16.1"
   }
  },
  "kernelspec": {
   "display_name": "Python 3 (ipykernel)",
   "language": "python",
   "name": "python3"
  },
  "source_map": [
   12,
   28,
   33,
   37,
   48,
   52,
   61,
   71,
   73,
   77,
   82,
   86,
   90,
   99,
   106,
   110,
   112,
   116,
   186,
   190,
   205,
   217,
   231,
   237,
   251,
   255,
   269,
   275,
   289,
   301,
   317,
   321,
   368,
   390,
   459,
   463,
   472,
   476,
   493,
   497,
   512,
   524,
   545,
   566,
   623,
   641,
   670,
   686,
   707
  ]
 },
 "nbformat": 4,
 "nbformat_minor": 5
}