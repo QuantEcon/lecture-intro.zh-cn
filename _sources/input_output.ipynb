{
 "cells": [
  {
   "cell_type": "markdown",
   "id": "7d3609ef",
   "metadata": {},
   "source": [
    "# 输入-输出模型\n",
    "## 概述\n",
    "在我们继续之前，本讲座需要以下导入和安装。"
   ]
  },
  {
   "cell_type": "code",
   "execution_count": null,
   "id": "0706cbe3",
   "metadata": {
    "tags": [
     "hide-output"
    ]
   },
   "outputs": [],
   "source": [
    "!pip install quantecon_book_networks\n",
    "!pip install quantecon\n",
    "!pip install pandas-datareader"
   ]
  },
  {
   "cell_type": "code",
   "execution_count": null,
   "id": "097713fa",
   "metadata": {},
   "outputs": [],
   "source": [
    "import numpy as np\n",
    "import networkx as nx\n",
    "import matplotlib.pyplot as plt\n",
    "import quantecon_book_networks\n",
    "import quantecon_book_networks.input_output as qbn_io\n",
    "import quantecon_book_networks.plotting as qbn_plt\n",
    "import quantecon_book_networks.data as qbn_data\n",
    "import matplotlib as mpl\n",
    "from matplotlib.patches import Polygon\n",
    "\n",
    "quantecon_book_networks.config(\"matplotlib\")\n",
    "mpl.rcParams.update(mpl.rcParamsDefault)\n",
    "\n",
    "FONTPATH = \"fonts/SourceHanSerifSC-SemiBold.otf\"\n",
    "mpl.font_manager.fontManager.addfont(FONTPATH)\n",
    "plt.rcParams['font.family'] = ['Source Han Serif SC']"
   ]
  },
  {
   "cell_type": "markdown",
   "id": "240f50a7",
   "metadata": {},
   "source": [
    "下图展示了从美国经济分析局2021年输入-输出账户数据中获得的15个部门之间的联系网络。"
   ]
  },
  {
   "cell_type": "code",
   "execution_count": null,
   "id": "bc7cca98",
   "metadata": {
    "tags": [
     "hide-cell"
    ]
   },
   "outputs": [],
   "source": [
    "def build_coefficient_matrices(Z, X):\n",
    "    \"\"\"\n",
    "   通过以下方式从Z和X构建系数矩阵A和F：\n",
    "\n",
    "        A[i, j] = Z[i, j] / X[j]\n",
    "        F[i, j] = Z[i, j] / X[i]\n",
    "\n",
    "    \"\"\"\n",
    "    A, F = np.empty_like(Z), np.empty_like(Z)\n",
    "    n = A.shape[0]\n",
    "    for i in range(n):\n",
    "        for j in range(n):\n",
    "            A[i, j] = Z[i, j] / X[j]\n",
    "            F[i, j] = Z[i, j] / X[i]\n",
    "\n",
    "    return A, F\n",
    "\n",
    "ch2_data = qbn_data.production()\n",
    "codes = ch2_data[\"us_sectors_15\"][\"codes\"]\n",
    "Z = ch2_data[\"us_sectors_15\"][\"adjacency_matrix\"]\n",
    "X = ch2_data[\"us_sectors_15\"][\"total_industry_sales\"]\n",
    "A, F = build_coefficient_matrices(Z, X)"
   ]
  },
  {
   "cell_type": "code",
   "execution_count": null,
   "id": "48575338",
   "metadata": {
    "mystnb": {
     "figure": {
      "caption": "US 15 sector production network",
      "name": "us_15sectors"
     }
    },
    "tags": [
     "hide-input"
    ]
   },
   "outputs": [],
   "source": [
    "centrality = qbn_io.eigenvector_centrality(A)\n",
    "\n",
    "# 去掉自循环\n",
    "for i in range(A.shape[0]):\n",
    "    A[i][i] = 0\n",
    "\n",
    "fig, ax = plt.subplots(figsize=(8, 10))\n",
    "plt.axis(\"off\")\n",
    "color_list = qbn_io.colorise_weights(centrality,beta=False)\n",
    "\n",
    "qbn_plt.plot_graph(A, X, ax, codes,\n",
    "              layout_type='spring',\n",
    "              layout_seed=5432167,\n",
    "              tol=0.0,\n",
    "              node_color_list=color_list)\n",
    "\n",
    "plt.show()"
   ]
  },
  {
   "cell_type": "markdown",
   "id": "37c01186",
   "metadata": {},
   "source": [
    "|标签| 行业 |标签| 行业 |标签| 行业 |\n",
    "|:---:|:-------------:|:---:|:--------------:|:---:|:-------------------------:|\n",
    "| ag  | 农业 | wh  | 批发 | pr  | 专业服务 |\n",
    "| mi  | 采矿业 | re  | 零售 | ed  | 教育与健康 |\n",
    "| ut  | 公用事业 | tr  | 运输 | ar  | 艺术与娱乐 |\n",
    "| co  | 建筑 | in  | 信息 | ot  | 其他服务（不包括政府） |\n",
    "| ma  | 制造业 | fi  | 金融 | go  | 政府 |\n",
    "\n",
    "从$i$到$j$的箭头表示$i$行业的一些产出作为$j$行业生产的输入。\n",
    "\n",
    "经济的特征是存在许多这样的联系。\n",
    "\n",
    "分析这些联系的基本框架是[列昂惕夫](https://en.wikipedia.org/wiki/Wassily_Leontief)的投入产出模型。\n",
    "\n",
    "在介绍投入产出模型之后，我们将描述它与{doc}`线性规划讲座 <lp_intro>`的一些联系。\n",
    "\n",
    "## 投入产出分析\n",
    "\n",
    "设\n",
    " * $x_0$为单一外生生产投入的数量，例如劳动力\n",
    " * $x_j, j = 1,\\ldots n$为最终产品$j$的总产出\n",
    " * $d_j, j = 1,\\ldots n$为可用于最终消费的最终产品$j$的净产出\n",
    " * $z_{ij}$为分配用作生产产品$j$的投入的产品$i$的数量，$i=1, \\ldots n$，$j = 1, \\ldots n$\n",
    " * $z_{0j}$为分配用于生产产品$j$的劳动力数量\n",
    " * $a_{ij}$为生产一单位产品$j$所需的产品$i$的单位数，$i=0, \\ldots, n, j= 1, \\ldots n$\n",
    " * $w >0$为外生劳动力工资，以每单位劳动力的美元计\n",
    " * $p$为$n \\times 1$的生产品$i = 1, \\ldots , n$价格向量\n",
    "\n",
    "生产产品$j \\in \\{1, \\ldots , n\\}$的技术由以下**列昂惕夫**函数描述\n",
    "\n",
    "$$\n",
    "    x_j = \\min_{i \\in \\{0, \\ldots , n \\}} \\left( \\frac{z_{ij}}{a_{ij}}\\right)\n",
    "$$\n",
    "\n",
    "### 两种产品\n",
    "\n",
    "为说明起见，我们首先设$n =2$并制定以下网络。"
   ]
  },
  {
   "cell_type": "code",
   "execution_count": null,
   "id": "9d8a5b59",
   "metadata": {
    "tags": [
     "hide-input"
    ]
   },
   "outputs": [],
   "source": [
    "G = nx.DiGraph()\n",
    "\n",
    "nodes= (1, 2, 'c')\n",
    "edges = ((1, 1), (1, 2), (2, 1), (2, 2), (1, 'c'), (2, 'c'))\n",
    "edges1 = ((1, 1), (1, 2), (2, 1), (2, 2), (1, 'c'))\n",
    "edges2 = [(2,'c')]\n",
    "G.add_nodes_from(nodes)\n",
    "G.add_edges_from(edges)\n",
    "\n",
    "pos_list = ([0, 0], [2, 0], [1, -1])\n",
    "pos = dict(zip(G.nodes(), pos_list))\n",
    "\n",
    "fig, ax = plt.subplots()\n",
    "plt.axis(\"off\")\n",
    "\n",
    "nx.draw_networkx_nodes(G, pos=pos, node_size=800,\n",
    "                       node_color='white', edgecolors='black')\n",
    "nx.draw_networkx_labels(G, pos=pos)\n",
    "nx.draw_networkx_edges(G,pos=pos, edgelist=edges1,\n",
    "                       node_size=300, connectionstyle='arc3,rad=0.2',\n",
    "                       arrowsize=10, min_target_margin=15)\n",
    "nx.draw_networkx_edges(G, pos=pos, edgelist=edges2,\n",
    "                       node_size=300, connectionstyle='arc3,rad=-0.2',\n",
    "                       arrowsize=10, min_target_margin=15)\n",
    "\n",
    "plt.text(0.055, 0.125, r'$z_{11}$')\n",
    "plt.text(1.825, 0.125, r'$z_{22}$')\n",
    "plt.text(0.955, 0.1, r'$z_{21}$')\n",
    "plt.text(0.955, -0.125, r'$z_{12}$')\n",
    "plt.text(0.325, -0.5, r'$d_{1}$')\n",
    "plt.text(1.6, -0.5, r'$d_{2}$')\n",
    "\n",
    "plt.show()"
   ]
  },
  {
   "cell_type": "markdown",
   "id": "60346099",
   "metadata": {},
   "source": [
    "*可行分配必须满足*\n",
    "\n",
    "$$\n",
    "\\begin{aligned}\n",
    "(1 - a_{11}) x_1 - a_{12} x_2 & \\geq d_1 \\cr\n",
    "-a_{21} x_1 + (1 - a_{22}) x_2 & \\geq d_2 \\cr\n",
    "a_{01} x_1 + a_{02} x_2 & \\leq x_0\n",
    "\\end{aligned}\n",
    "$$\n",
    "\n",
    "这可以用图形表示如下。"
   ]
  },
  {
   "cell_type": "code",
   "execution_count": null,
   "id": "cb57e2ea",
   "metadata": {
    "tags": [
     "hide-input"
    ]
   },
   "outputs": [],
   "source": [
    "fig, ax = plt.subplots()\n",
    "ax.grid()\n",
    "\n",
    "# 绘制约束线\n",
    "ax.hlines(0, -1, 400)\n",
    "ax.vlines(0, -1, 200)\n",
    "\n",
    "ax.plot(np.linspace(55, 380, 100), (50-0.9*np.linspace(55, 380, 100))/(-1.46), color=\"r\")\n",
    "ax.plot(np.linspace(-1, 400, 100), (60+0.16*np.linspace(-1, 400, 100))/0.83, color=\"r\")\n",
    "ax.plot(np.linspace(250, 395, 100), (62-0.04*np.linspace(250, 395, 100))/0.33, color=\"b\")\n",
    "\n",
    "ax.text(130, 38, \"$(1-a_{11})x_1 + a_{12}x_2 \\geq d_1$\", size=10)\n",
    "ax.text(10, 105, \"$-a_{21}x_1 + (1-a_{22})x_2 \\geq d_2$\", size=10)\n",
    "ax.text(150, 150, \"$a_{01}x_1 +a_{02}x_2 \\leq x_0$\", size=10)\n",
    "\n",
    "# 绘制可行区域\n",
    "feasible_set = Polygon(np.array([[301, 151],\n",
    "                                 [368, 143],\n",
    "                                 [250, 120]]),\n",
    "                       color=\"cyan\")\n",
    "ax.add_patch(feasible_set)\n",
    "\n",
    "# 绘制最优解\n",
    "ax.plot(250, 120, \"*\", color=\"black\")\n",
    "ax.text(260, 115, \"解\", size=10)\n",
    "\n",
    "plt.show()"
   ]
  },
  {
   "cell_type": "markdown",
   "id": "42c907dc",
   "metadata": {
    "user_expressions": []
   },
   "source": [
    "更一般地说，生产的约束条件是\n",
    "\n",
    "$$\n",
    "\\begin{aligned}\n",
    "(I - A) x &  \\geq d \\cr\n",
    "a_0^\\top x & \\leq x_0\n",
    "\\end{aligned}\n",
    "$$ (eq:inout_1)\n",
    "\n",
    "其中 $A$ 是一个 $n \\times n$ 的矩阵，其典型元素为 $a_{ij}$，而 $a_0^\\top = \\begin{bmatrix} a_{01} & \\cdots & a_{0n} \\end{bmatrix}$。\n",
    "\n",
    "如果我们解 {eq}`eq:inout_1` 的第一组方程，得到总产出 $x$，我们得到\n",
    "\n",
    "$$\n",
    "x = (I -A)^{-1} d \\equiv L d\n",
    "$$ (eq:inout_2)\n",
    "\n",
    "其中矩阵 $L = (I-A)^{-1}$ 有时被称为 **列昂惕夫逆矩阵**。\n",
    "\n",
    "为确保 {eq}`eq:inout_2` 的解 $X$ 是一个正向量，以下 **霍金斯-西蒙条件** 就足够了：\n",
    "\n",
    "$$\n",
    "\\begin{aligned}\n",
    "\\det (I - A) > 0 \\text{ 且} \\;\\;\\; \\\\\n",
    "(I-A)_{ij} > 0 \\text{ 对所有 } i=j\n",
    "\\end{aligned}\n",
    "$$\n",
    "\n",
    "```{prf:example}\n",
    ":label: io_ex_tg\n",
    "\n",
    "例如，一个由以下描述的两种商品经济\n",
    "\n",
    "$$\n",
    "A =\n",
    "\\begin{bmatrix}\n",
    "    0.1 & 40 \\\\\n",
    "    0.01 & 0\n",
    "\\end{bmatrix}\n",
    "\\text{ 和 }\n",
    "d =\n",
    "\\begin{bmatrix}\n",
    "    50 \\\\\n",
    "    2\n",
    "\\end{bmatrix}\n",
    "$$ (eq:inout_ex)\n",
    "```"
   ]
  },
  {
   "cell_type": "code",
   "execution_count": null,
   "id": "1800c6b7",
   "metadata": {},
   "outputs": [],
   "source": [
    "A = np.array([[0.1, 40],\n",
    "             [0.01, 0]])\n",
    "d = np.array([50, 2]).reshape((2, 1))"
   ]
  },
  {
   "cell_type": "code",
   "execution_count": null,
   "id": "bea2a179",
   "metadata": {},
   "outputs": [],
   "source": [
    "I = np.identity(2)\n",
    "B = I - A\n",
    "B"
   ]
  },
  {
   "cell_type": "markdown",
   "id": "f0787e54",
   "metadata": {},
   "source": [
    "让我们检查一下**霍金斯-西蒙条件**"
   ]
  },
  {
   "cell_type": "code",
   "execution_count": null,
   "id": "b55239ae",
   "metadata": {},
   "outputs": [],
   "source": [
    "np.linalg.det(B) > 0 # 检查霍金斯-西蒙条件"
   ]
  },
  {
   "cell_type": "markdown",
   "id": "86868986",
   "metadata": {},
   "source": [
    "现在我们计算列昂惕夫逆矩阵"
   ]
  },
  {
   "cell_type": "code",
   "execution_count": null,
   "id": "72aa4789",
   "metadata": {},
   "outputs": [],
   "source": [
    "L = np.linalg.inv(B) # 得到列昂惕夫逆矩阵\n",
    "L"
   ]
  },
  {
   "cell_type": "code",
   "execution_count": null,
   "id": "580a30e2",
   "metadata": {},
   "outputs": [],
   "source": [
    "x = L @ d   # 求解毛产出\n",
    "x"
   ]
  },
  {
   "cell_type": "markdown",
   "id": "1f55cf5d",
   "metadata": {
    "user_expressions": []
   },
   "source": [
    "## 生产可能性边界\n",
    "\n",
    "{eq}`eq:inout_1`的第二个等式可以写成\n",
    "\n",
    "$$\n",
    "a_0^\\top x = x_0\n",
    "$$\n",
    "\n",
    "或\n",
    "\n",
    "$$\n",
    "A_0^\\top d = x_0\n",
    "$$ (eq:inout_frontier)\n",
    "\n",
    "其中\n",
    "\n",
    "$$\n",
    "A_0^\\top = a_0^\\top (I - A)^{-1}\n",
    "$$\n",
    "\n",
    "对于 $i \\in \\{1, \\ldots , n\\}$，$A_0$ 的第 $i$ 个分量是生产一单位第 $i$ 种商品的最终产出所需的劳动量。\n",
    "\n",
    "等式 {eq}`eq:inout_frontier` 描绘了一个**生产可能性边界**，表示在给定外生劳动投入 $x_0$ 的情况下，可以生产的最终消费束 $d$。\n",
    "\n",
    "```{prf:example}\n",
    ":label: io_ex_ppf\n",
    "\n",
    "考虑{eq}`eq:inout_ex`中的例子。\n",
    "\n",
    "假设我们现在给出\n",
    "\n",
    "$$\n",
    "a_0^\\top = \\begin{bmatrix}\n",
    "4 & 100\n",
    "\\end{bmatrix}\n",
    "$$\n",
    "```\n",
    "\n",
    "然后我们可以通过以下方式找到 $A_0^\\top$："
   ]
  },
  {
   "cell_type": "code",
   "execution_count": null,
   "id": "1fe523de",
   "metadata": {},
   "outputs": [],
   "source": [
    "a0 = np.array([4, 100])\n",
    "A0 = a0 @ L\n",
    "A0"
   ]
  },
  {
   "cell_type": "markdown",
   "id": "0bb8d6f1",
   "metadata": {
    "user_expressions": []
   },
   "source": [
    "因此，这个经济体的生产可能性边界是：\n",
    "\n",
    "$$\n",
    "10d_1 + 500d_2 = x_0\n",
    "$$"
   ]
  },
  {
   "cell_type": "markdown",
   "id": "d5a34deb",
   "metadata": {
    "user_expressions": []
   },
   "source": [
    "## 价格\n",
    "{cite}`DoSSo` 认为，$n$ 种生产商品的相对价格必须满足\n",
    "\n",
    "$$\n",
    "\\begin{aligned}\n",
    "p_1 = a_{11}p_1 + a_{21}p_2 + a_{01}w \\\\\n",
    "p_2 = a_{12}p_1 + a_{22}p_2 + a_{02}w\n",
    "\\end{aligned}\n",
    "$$\n",
    "\n",
    "更一般地，\n",
    "\n",
    "$$\n",
    "p = A^\\top p + a_0 w\n",
    "$$\n",
    "\n",
    "这表明每种最终商品的价格等于生产的总成本，包括中间投入品的成本 $A^\\top p$ 和劳动力成本 $a_0 w$。\n",
    "\n",
    "这个方程可以写成\n",
    "\n",
    "$$\n",
    "(I - A^\\top) p = a_0 w\n",
    "$$ (eq:inout_price)\n",
    "\n",
    "这意味着\n",
    "\n",
    "$$\n",
    "p = (I - A^\\top)^{-1} a_0 w\n",
    "$$\n",
    "\n",
    "注意 {eq}`eq:inout_price` 与 {eq}`eq:inout_1` 通过相互转置的算子形成了一个**共轭对**。\n",
    "\n",
    "这种联系在经典线性规划及其对偶问题中再次出现。\n",
    "\n",
    "## 线性规划\n",
    "\n",
    "**原始问题**是\n",
    "\n",
    "$$\n",
    "\\min_{x} w a_0^\\top x\n",
    "$$\n",
    "\n",
    "约束条件为\n",
    "\n",
    "$$\n",
    "(I - A) x \\geq d\n",
    "$$\n",
    "\n",
    "相关的**对偶问题**是\n",
    "\n",
    "$$\n",
    "\\max_{p} p^\\top d\n",
    "$$\n",
    "\n",
    "约束条件为\n",
    "\n",
    "$$\n",
    "(I -A)^\\top p \\leq a_0 w\n",
    "$$\n",
    "\n",
    "原始问题选择一个可行的生产计划，以最小化交付预先指定的最终商品消费向量 $d$ 的成本。\n",
    "\n",
    "对偶问题选择价格，以最大化预先指定的最终商品向量 $d$ 的价值，同时受制于价格覆盖生产成本。\n",
    "\n",
    "根据[强对偶定理](https://en.wikipedia.org/wiki/Dual_linear_program#Strong_duality)，\n",
    "原始问题和对偶问题的最优值相同：\n",
    "\n",
    "$$\n",
    "w a_0^\\top x^* = p^* d\n",
    "$$\n",
    "\n",
    "其中 $^*$ 表示原始和对偶问题的最优选择。\n",
    "\n",
    "对偶问题可以用图形表示如下。"
   ]
  },
  {
   "cell_type": "code",
   "execution_count": null,
   "id": "8ef8f1db",
   "metadata": {
    "tags": [
     "hide-input"
    ]
   },
   "outputs": [],
   "source": [
    "fig, ax = plt.subplots()\n",
    "ax.grid()\n",
    "\n",
    "# 绘制约束线\n",
    "ax.hlines(0, -1, 50)\n",
    "ax.vlines(0, -1, 250)\n",
    "\n",
    "ax.plot(np.linspace(4.75, 49, 100), (4-0.9*np.linspace(4.75, 49, 100))/(-0.16), color=\"r\")\n",
    "ax.plot(np.linspace(0, 50, 100), (33+1.46*np.linspace(0, 50, 100))/0.83, color=\"r\")\n",
    "\n",
    "ax.text(15, 175, \"$(1-a_{11})p_1 - a_{21}p_2 \\leq a_{01}w$\", size=10)\n",
    "ax.text(30, 85, \"$-a_{12}p_1 + (1-a_{22})p_2 \\leq a_{02}w$\", size=10)\n",
    "\n",
    "# 绘制可行区域\n",
    "feasible_set = Polygon(np.array([[17, 69],\n",
    "                                 [4, 0],\n",
    "                                 [0,0],\n",
    "                                 [0, 40]]),\n",
    "                       color=\"cyan\")\n",
    "ax.add_patch(feasible_set)\n",
    "\n",
    "# 绘制最优解\n",
    "ax.plot(17, 69, \"*\", color=\"black\")\n",
    "ax.text(18, 60, \"对偶解\", size=10)\n",
    "\n",
    "plt.show()"
   ]
  },
  {
   "cell_type": "markdown",
   "id": "504cf6d7",
   "metadata": {
    "user_expressions": []
   },
   "source": [
    "## 列昂惕夫逆矩阵\n",
    "我们已经讨论过，总产出 $x$ 由公式 {eq}`eq:inout_2` 给出，其中 $L$ 被称为列昂惕夫逆矩阵。\n",
    "回顾 {doc}`诺伊曼级数引理 <eigen_II>`，它指出如果谱半径 $r(A)<1$，则 $L$ 存在。\n",
    "事实上\n",
    "\n",
    "$$\n",
    "L = \\sum_{i=0}^{\\infty} A^i\n",
    "$$\n",
    "\n",
    "### 需求冲击\n",
    "考虑需求冲击 $\\Delta d$ 的影响，它将需求从 $d_0$ 转变为 $d_1 = d_0 + \\Delta d$。\n",
    "总产出从 $x_0 = Ld_0$ 转变为 $x_1 = Ld_1$。\n",
    "如果 $r(A) < 1$，则存在解，且\n",
    "\n",
    "$$\n",
    "\\Delta x = L \\Delta d = \\Delta d + A(\\Delta d) + A^2 (\\Delta d) + \\cdots\n",
    "$$\n",
    "\n",
    "这说明 $L$ 的一个元素 $l_{ij}$ 显示了对商品 $j$ 的需求单位变化对部门 $i$ 的总影响。\n",
    "\n",
    "## 图论的应用\n",
    "我们可以通过 {doc}`图论 <networks>` 的应用进一步研究投入产出网络。\n",
    "投入产出网络可以通过邻接矩阵 $A$ 诱导的加权有向图来表示。\n",
    "节点集 $V = [n]$ 是部门列表，边集由以下给出：\n",
    "\n",
    "$$\n",
    "E = \\{(i,j) \\in V \\times V : a_{ij}>0\\}\n",
    "$$\n",
    "\n",
    "在 {numref}`us_15sectors` 中，权重由箭头的宽度表示，与相应的投入产出系数成正比。\n",
    "现在我们可以使用中心性度量来对部门进行排序，并讨论它们相对于其他部门的重要性。\n",
    "\n",
    "### 特征向量中心性\n",
    "节点 $i$ 的特征向量中心性由以下公式衡量：\n",
    "\n",
    "$$\n",
    "\\begin{aligned}\n",
    "    e_i = \\frac{1}{r(A)} \\sum_{1 \\leq j \\leq n} a_{ij} e_j\n",
    "\\end{aligned}\n",
    "$$\n",
    "\n",
    "我们为 {numref}`us_15sectors` 中表示的部门绘制了基于枢纽的特征向量中心性条形图。"
   ]
  },
  {
   "cell_type": "code",
   "execution_count": null,
   "id": "c481190f",
   "metadata": {
    "tags": [
     "hide-input"
    ]
   },
   "outputs": [],
   "source": [
    "fig, ax = plt.subplots()\n",
    "ax.bar(codes, centrality, color=color_list, alpha=0.6)\n",
    "ax.set_ylabel(\"特征向量中心性\", fontsize=12)\n",
    "plt.show()"
   ]
  },
  {
   "cell_type": "markdown",
   "id": "bdebcd4f",
   "metadata": {},
   "source": [
    "较高的指标表示作为供应商的重要性更高。\n",
    "因此，大多数行业的需求冲击将显著影响具有高特征向量中心性的行业的活动。\n",
    "上图表明制造业是美国经济中最主导的行业。\n",
    "\n",
    "### 产出乘数\n",
    "在投入产出网络中对行业进行排名的另一种方法是通过产出乘数。\n",
    "行业 $j$ 的**产出乘数**，记为 $\\mu_j$，通常定义为行业 $j$ 需求单位变化所产生的整个行业范围内的总影响。\n",
    "早些时候在讨论需求冲击时，我们得出结论：对于 $L = (l_{ij})$，元素 $l_{ij}$ 表示行业 $j$ 需求单位变化对行业 $i$ 的影响。\n",
    "因此，\n",
    "\n",
    "$$\n",
    "\\mu_j = \\sum_{j=1}^n l_{ij}\n",
    "$$\n",
    "\n",
    "这可以写成 $\\mu^\\top = \\mathbb{1}^\\top L$ 或\n",
    "\n",
    "$$\n",
    "\\mu^\\top = \\mathbb{1}^\\top (I-A)^{-1}\n",
    "$$\n",
    "\n",
    "请注意，这里我们用 $\\mathbb{1}$ 表示一个全为1的向量。\n",
    "在这个指标中排名较高的行业是中间品的重要购买者。\n",
    "这些行业的需求冲击将对整个生产网络造成巨大影响。\n",
    "下图显示了 {numref}`us_15sectors` 中表示的各行业的产出乘数。"
   ]
  },
  {
   "cell_type": "code",
   "execution_count": null,
   "id": "d23b9605",
   "metadata": {
    "tags": [
     "hide-input"
    ]
   },
   "outputs": [],
   "source": [
    "A, F = build_coefficient_matrices(Z, X)\n",
    "omult = qbn_io.katz_centrality(A, authority=True)\n",
    "\n",
    "fig, ax = plt.subplots()\n",
    "omult_color_list = qbn_io.colorise_weights(omult,beta=False)\n",
    "ax.bar(codes, omult, color=omult_color_list, alpha=0.6)\n",
    "ax.set_ylabel(\"产出乘数\", fontsize=12)\n",
    "plt.show()"
   ]
  },
  {
   "cell_type": "markdown",
   "id": "68be9ee7",
   "metadata": {},
   "source": [
    "我们观察到制造业和农业是排名最高的行业。\n",
    "\n",
    "## 练习\n",
    "\n",
    "```{exercise-start}\n",
    ":label: io_ex1\n",
    "```\n",
    "\n",
    "{cite}`DoSSo` 第9章讨论了一个具有以下参数设置的例子：\n",
    "\n",
    "$$\n",
    "A = \\begin{bmatrix}\n",
    "     0.1 & 1.46 \\\\\n",
    "     0.16 & 0.17\n",
    "    \\end{bmatrix}\n",
    "\\text{ 和 }\n",
    "a_0 = \\begin{bmatrix} .04 & .33 \\end{bmatrix}\n",
    "$$\n",
    "\n",
    "$$\n",
    "x = \\begin{bmatrix} 250 \\\\ 120 \\end{bmatrix}\n",
    "\\text{ 和 }\n",
    "x_0 = 50\n",
    "$$\n",
    "\n",
    "$$\n",
    "d = \\begin{bmatrix} 50 \\\\ 60 \\end{bmatrix}\n",
    "$$\n",
    "\n",
    "描述他们如何从以下关于农业和制造业的假设\"数据\"中推断出A和a_0中的投入-产出系数：\n",
    "\n",
    "$$\n",
    "z = \\begin{bmatrix} 25 & 175 \\\\\n",
    "         40 &   20 \\end{bmatrix}\n",
    "\\text{ 和 }\n",
    "z_0 = \\begin{bmatrix} 10 & 40 \\end{bmatrix}\n",
    "$$\n",
    "\n",
    "其中z_0是每个行业使用的劳动服务的向量。\n",
    "```{exercise-end}\n",
    "```\n",
    "\n",
    "```{solution-start} io_ex1\n",
    ":class: dropdown\n",
    "```\n",
    "For each $i = 0,1,2$ and $j = 1,2$\n",
    "\n",
    "$$\n",
    "a_{ij} = \\frac{z_{ij}}{x_j}\n",
    "$$\n",
    "\n",
    "```{solution-end}\n",
    "```\n",
    "\n",
    "```{exercise-start}\n",
    ":label: io_ex2\n",
    "```\n",
    "\n",
    "推导上一练习中所描述经济的生产可能性边界。\n",
    "\n",
    "```{exercise-end}\n",
    "```\n",
    "\n",
    "```{solution-start} io_ex2\n",
    ":class: dropdown\n",
    "```"
   ]
  },
  {
   "cell_type": "code",
   "execution_count": null,
   "id": "0dea4482",
   "metadata": {},
   "outputs": [],
   "source": [
    "A = np.array([[0.1, 1.46],\n",
    "              [0.16, 0.17]])\n",
    "a_0 = np.array([0.04, 0.33])"
   ]
  },
  {
   "cell_type": "code",
   "execution_count": null,
   "id": "a7819560",
   "metadata": {},
   "outputs": [],
   "source": [
    "I = np.identity(2)\n",
    "B = I - A\n",
    "L = np.linalg.inv(B)"
   ]
  },
  {
   "cell_type": "code",
   "execution_count": null,
   "id": "c3dc5a4c",
   "metadata": {},
   "outputs": [],
   "source": [
    "A_0 = a_0 @ L\n",
    "A_0"
   ]
  },
  {
   "cell_type": "markdown",
   "id": "b04eceb5",
   "metadata": {
    "user_expressions": []
   },
   "source": [
    "因此，生产可能性边界由以下给出\n",
    "\n",
    "$$\n",
    "0.17 d_1 + 0.69 d_2 = 50\n",
    "$$\n",
    "\n",
    "```{solution-end}\n",
    "```"
   ]
  }
 ],
 "metadata": {
  "jupytext": {
   "text_representation": {
    "extension": ".md",
    "format_name": "myst",
    "format_version": 0.13,
    "jupytext_version": "1.14.5"
   }
  },
  "kernelspec": {
   "display_name": "Python 3 (ipykernel)",
   "language": "python",
   "name": "python3"
  },
  "source_map": [
   12,
   18,
   26,
   43,
   48,
   75,
   100,
   140,
   176,
   190,
   222,
   272,
   278,
   282,
   286,
   288,
   292,
   297,
   302,
   344,
   350,
   358,
   435,
   466,
   511,
   518,
   545,
   556,
   625,
   631,
   637,
   642
  ]
 },
 "nbformat": 4,
 "nbformat_minor": 5
}