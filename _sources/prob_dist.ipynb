{
 "cells": [
  {
   "cell_type": "markdown",
   "id": "214f0c56",
   "metadata": {},
   "source": [
    "# 分布和概率\n",
    "\n",
    "```{index} single: Distributions and Probabilities\n",
    "```\n",
    "\n",
    "## 概述\n",
    "\n",
    "在本讲中，我们将使用 Python 快速介绍数据和概率分布。"
   ]
  },
  {
   "cell_type": "code",
   "execution_count": null,
   "id": "32b0939d",
   "metadata": {
    "tags": [
     "hide-output"
    ]
   },
   "outputs": [],
   "source": [
    "!pip install --upgrade yfinance  "
   ]
  },
  {
   "cell_type": "code",
   "execution_count": null,
   "id": "38d5d712",
   "metadata": {},
   "outputs": [],
   "source": [
    "import matplotlib.pyplot as plt\n",
    "import matplotlib as mpl\n",
    "import pandas as pd\n",
    "import numpy as np\n",
    "import yfinance as yf\n",
    "import scipy.stats\n",
    "import seaborn as sns\n",
    "\n",
    "FONTPATH = \"fonts/SourceHanSerifSC-SemiBold.otf\"\n",
    "mpl.font_manager.fontManager.addfont(FONTPATH)\n",
    "plt.rcParams['font.family'] = ['Source Han Serif SC']"
   ]
  },
  {
   "cell_type": "markdown",
   "id": "6bcd17ea",
   "metadata": {},
   "source": [
    "## 常见分布\n",
    "\n",
    "在本节中，我们回顾一些众所周知的分布的定义，并探讨如何使用 SciPy 来操作它们。\n",
    "\n",
    "### 离散分布\n",
    "\n",
    "我们从离散分布开始。\n",
    "\n",
    "离散分布由一组数值 $S = \\{x_1, \\ldots, x_n\\}$ 定义，并在 $S$ 上有一个**概率质量函数**（PMF），它是一个从 $S$ 到 $[0,1]$ 的函数 $p$，具有属性\n",
    "\n",
    "$$ \n",
    "\\sum_{i=1}^n p(x_i) = 1 \n",
    "$$\n",
    "\n",
    "我们说一个随机变量 $X$ **具有分布** $p$，如果 $X$ 以概率 $p(x_i)$ 取值 $x_i$。\n",
    "\n",
    "即，\n",
    "\n",
    "$$ \n",
    "\\mathbb P\\{X = x_i\\} = p(x_i) \\quad \\text{对于 } i= 1, \\ldots, n \n",
    "$$\n",
    "\n",
    "具有分布 $p$ 的随机变量 $X$ 的**均值**或**期望值**是\n",
    "\n",
    "$$ \n",
    "\\mathbb{E}[X] = \\sum_{i=1}^n x_i p(x_i)\n",
    "$$\n",
    "\n",
    "期望也称为分布的*第一矩*。\n",
    "\n",
    "我们也将这个数字称为分布（由 $p$ 表示）的均值。\n",
    "\n",
    "$X$ 的**方差**定义为\n",
    "\n",
    "$$ \n",
    "\\mathbb{V}[X] = \\sum_{i=1}^n (x_i - \\mathbb{E}[X])^2 p(x_i)\n",
    "$$\n",
    "\n",
    "方差也称为分布的*第二中心矩*。\n",
    "\n",
    "$X$ 的**累积分布函数**（CDF）定义为\n",
    "\n",
    "$$\n",
    "F(x) = \\mathbb{P}\\{X \\leq x\\}\n",
    "        = \\sum_{i=1}^n \\mathbb 1\\{x_i \\leq x\\} p(x_i)\n",
    "$$\n",
    "\n",
    "这里 $\\mathbb 1\\{\\text{statement} \\} = 1$ 如果 \"statement\" 为真，否则为零。\n",
    "\n",
    "因此第二项取所有 $x_i \\leq x$ 并求它们概率的和。\n",
    "\n",
    "\n",
    "#### 均匀分布\n",
    "\n",
    "一个简单的例子是**均匀分布**，其中 $p(x_i) = 1/n$ 对于所有 $i$ 都成立。\n",
    "\n",
    "我们可以这样从 SciPy 导入 $S = \\{1, \\ldots, n\\}$ 上的均匀分布："
   ]
  },
  {
   "cell_type": "code",
   "execution_count": null,
   "id": "292a2bcc",
   "metadata": {},
   "outputs": [],
   "source": [
    "n = 10\n",
    "u = scipy.stats.randint(1, n+1)"
   ]
  },
  {
   "cell_type": "markdown",
   "id": "969b050f",
   "metadata": {},
   "source": [
    "计算均值和方差："
   ]
  },
  {
   "cell_type": "code",
   "execution_count": null,
   "id": "00f6eb96",
   "metadata": {},
   "outputs": [],
   "source": [
    "u.mean(), u.var()"
   ]
  },
  {
   "cell_type": "markdown",
   "id": "0d9a90c3",
   "metadata": {},
   "source": [
    "均值的公式是 $(n+1)/2$，方差的公式是 $(n^2 - 1)/12$。\n",
    "\n",
    "现在让我们评估 PMF："
   ]
  },
  {
   "cell_type": "code",
   "execution_count": null,
   "id": "f74bf972",
   "metadata": {},
   "outputs": [],
   "source": [
    "u.pmf(1)"
   ]
  },
  {
   "cell_type": "code",
   "execution_count": null,
   "id": "22bf3c15",
   "metadata": {},
   "outputs": [],
   "source": [
    "u.pmf(2)"
   ]
  },
  {
   "cell_type": "markdown",
   "id": "ef5c6913",
   "metadata": {},
   "source": [
    "以下是 PMF 的图："
   ]
  },
  {
   "cell_type": "code",
   "execution_count": null,
   "id": "68e746d2",
   "metadata": {},
   "outputs": [],
   "source": [
    "fig, ax = plt.subplots()\n",
    "S = np.arange(1, n+1)\n",
    "ax.plot(S, u.pmf(S), linestyle='', marker='o', alpha=0.8, ms=4)\n",
    "ax.vlines(S, 0, u.pmf(S), lw=0.2)\n",
    "ax.set_xticks(S)\n",
    "ax.set_xlabel('S')\n",
    "ax.set_ylabel('PMF')\n",
    "plt.show()"
   ]
  },
  {
   "cell_type": "markdown",
   "id": "5ccee633",
   "metadata": {},
   "source": [
    "这里是 CDF 的图："
   ]
  },
  {
   "cell_type": "code",
   "execution_count": null,
   "id": "64b399c9",
   "metadata": {},
   "outputs": [],
   "source": [
    "fig, ax = plt.subplots()\n",
    "S = np.arange(1, n+1)\n",
    "ax.step(S, u.cdf(S))\n",
    "ax.vlines(S, 0, u.cdf(S), lw=0.2)\n",
    "ax.set_xticks(S)\n",
    "ax.set_xlabel('S')\n",
    "ax.set_ylabel('CDF')\n",
    "plt.show()"
   ]
  },
  {
   "cell_type": "markdown",
   "id": "35103617",
   "metadata": {},
   "source": [
    "CDF 在$x_i$处跳升$p(x_i)$。\n",
    "\n",
    "```{exercise}\n",
    ":label: prob_ex1\n",
    "\n",
    "计算这个参数化（即 $n=10$）的均值和方差，直接从 PMF 使用上面给出的公式计算。\n",
    "\n",
    "验证你的答案与 `u.mean()` 和 `u.var()` 是否一致。\n",
    "```\n",
    "\n",
    "#### 伯努利分布\n",
    "\n",
    "另一个有用的分布是 $S = \\{0,1\\}$ 上的伯努利分布，其 PMF 是：\n",
    "\n",
    "$$\n",
    "p(i) = \\theta^i (1 - \\theta)^{1-i}\n",
    "\\qquad (i = 0, 1)\n",
    "$$\n",
    "\n",
    "这里 $\\theta \\in [0,1]$ 是一个参数。\n",
    "\n",
    "我们可以将这个分布视为对一个随机试验进行概率建模，其成功概率是 $\\theta$。\n",
    "\n",
    "* $p(1) = \\theta$ 表示试验成功（取值1）的概率是 $\\theta$\n",
    "* $p(0) = 1 - \\theta$ 表示试验失败（取值0）的概率是 $1-\\theta$\n",
    "\n",
    "均值的公式是 $\\theta$，方差的公式是 $\\theta(1-\\theta)$。\n",
    "\n",
    "我们可以这样从 SciPy 导入 $S = \\{0,1\\}$ 上的伯努利分布："
   ]
  },
  {
   "cell_type": "code",
   "execution_count": null,
   "id": "17f6279a",
   "metadata": {},
   "outputs": [],
   "source": [
    "θ = 0.4\n",
    "u = scipy.stats.bernoulli(θ)"
   ]
  },
  {
   "cell_type": "markdown",
   "id": "76815a81",
   "metadata": {},
   "source": [
    "这是 $\\theta=0.4$ 时的均值和方差："
   ]
  },
  {
   "cell_type": "code",
   "execution_count": null,
   "id": "5f465083",
   "metadata": {},
   "outputs": [],
   "source": [
    "u.mean(), u.var()"
   ]
  },
  {
   "cell_type": "markdown",
   "id": "b7dab409",
   "metadata": {},
   "source": [
    "我们可以评估 PMF 如下："
   ]
  },
  {
   "cell_type": "code",
   "execution_count": null,
   "id": "77a855d1",
   "metadata": {},
   "outputs": [],
   "source": [
    "u.pmf(0), u.pmf(1)"
   ]
  },
  {
   "cell_type": "markdown",
   "id": "0954d5fc",
   "metadata": {},
   "source": [
    "#### 二项分布\n",
    "\n",
    "另一个有用（而且更有趣）的分布是 $S=\\{0, \\ldots, n\\}$ 上的**二项分布**，其 PMF 为：\n",
    "\n",
    "$$ \n",
    "p(i) = \\binom{n}{i} \\theta^i (1-\\theta)^{n-i}\n",
    "$$\n",
    "\n",
    "再次强调，$\\theta \\in [0,1]$ 是一个参数。\n",
    "\n",
    "$p(i)$ 的解释是：$n$次独立试验中有$i$次成功的概率，每次试验成功的概率为$\\theta$。\n",
    "\n",
    "例如，如果$\\theta=0.5$，那么$p(i)$就是$n$次抛掷公平硬币得到$i$次正面的概率。\n",
    "\n",
    "均值的公式是$n\\theta$，方差的公式是$n\\theta(1-\\theta)$。\n",
    "\n",
    "现在让我们来探讨一个例子"
   ]
  },
  {
   "cell_type": "code",
   "execution_count": null,
   "id": "3a0438c7",
   "metadata": {},
   "outputs": [],
   "source": [
    "n = 10\n",
    "θ = 0.5\n",
    "u = scipy.stats.binom(n, θ)"
   ]
  },
  {
   "cell_type": "markdown",
   "id": "e25f7274",
   "metadata": {},
   "source": [
    "根据我们的公式，均值和方差是"
   ]
  },
  {
   "cell_type": "code",
   "execution_count": null,
   "id": "93c73c27",
   "metadata": {},
   "outputs": [],
   "source": [
    "n * θ,  n *  θ * (1 - θ)  "
   ]
  },
  {
   "cell_type": "markdown",
   "id": "2d364691",
   "metadata": {},
   "source": [
    "让我们看看SciPy是否给出了相同的结果："
   ]
  },
  {
   "cell_type": "code",
   "execution_count": null,
   "id": "b4c9b549",
   "metadata": {},
   "outputs": [],
   "source": [
    "u.mean(), u.var()"
   ]
  },
  {
   "cell_type": "markdown",
   "id": "487a6ab1",
   "metadata": {},
   "source": [
    "这是 PMF："
   ]
  },
  {
   "cell_type": "code",
   "execution_count": null,
   "id": "0d8795c4",
   "metadata": {},
   "outputs": [],
   "source": [
    "u.pmf(1)"
   ]
  },
  {
   "cell_type": "code",
   "execution_count": null,
   "id": "e2cfb914",
   "metadata": {},
   "outputs": [],
   "source": [
    "fig, ax = plt.subplots()\n",
    "S = np.arange(1, n+1)\n",
    "ax.plot(S, u.pmf(S), linestyle='', marker='o', alpha=0.8, ms=4)\n",
    "ax.vlines(S, 0, u.pmf(S), lw=0.2)\n",
    "ax.set_xticks(S)\n",
    "ax.set_xlabel('S')\n",
    "ax.set_ylabel('PMF')\n",
    "plt.show()"
   ]
  },
  {
   "cell_type": "markdown",
   "id": "41da7257",
   "metadata": {},
   "source": [
    "这是 CDF："
   ]
  },
  {
   "cell_type": "code",
   "execution_count": null,
   "id": "d9068986",
   "metadata": {},
   "outputs": [],
   "source": [
    "fig, ax = plt.subplots()\n",
    "S = np.arange(1, n+1)\n",
    "ax.step(S, u.cdf(S))\n",
    "ax.vlines(S, 0, u.cdf(S), lw=0.2)\n",
    "ax.set_xticks(S)\n",
    "ax.set_xlabel('S')\n",
    "ax.set_ylabel('CDF')\n",
    "plt.show()"
   ]
  },
  {
   "cell_type": "markdown",
   "id": "192db942",
   "metadata": {},
   "source": [
    "```{exercise}\n",
    ":label: prob_ex3\n",
    "\n",
    "使用`u.pmf`，验证我们上面给出的CDF定义是否计算出与`u.cdf`相同的函数。\n",
    "```\n",
    "\n",
    "```{solution-start} prob_ex3\n",
    ":class: dropdown\n",
    "```\n",
    "\n",
    "这里是一个解决方案："
   ]
  },
  {
   "cell_type": "code",
   "execution_count": null,
   "id": "b8f5a334",
   "metadata": {},
   "outputs": [],
   "source": [
    "fig, ax = plt.subplots()\n",
    "S = np.arange(1, n+1)\n",
    "u_sum = np.cumsum(u.pmf(S))\n",
    "ax.step(S, u_sum)\n",
    "ax.vlines(S, 0, u_sum, lw=0.2)\n",
    "ax.set_xticks(S)\n",
    "ax.set_xlabel('S')\n",
    "ax.set_ylabel('CDF')\n",
    "plt.show()"
   ]
  },
  {
   "cell_type": "markdown",
   "id": "e1944300",
   "metadata": {},
   "source": [
    "我们可以看到输出图与上面的相同。\n",
    "\n",
    "```{solution-end}\n",
    "```\n",
    "\n",
    "#### 几何分布\n",
    "\n",
    "几何分布具有无限支持集 $S = \\{0, 1, 2, \\ldots\\}$，其概率质量函数（PMF）为\n",
    "\n",
    "$$\n",
    "p(i) = (1 - \\theta)^i \\theta\n",
    "$$\n",
    "\n",
    "其中 $\\theta \\in [0,1]$ 是一个参数\n",
    "\n",
    "（如果一个离散分布赋予正概率的点集是无限的，则称其具有无限支持。）\n",
    "\n",
    "为了理解这个分布，可以想象重复的独立随机试验，每次试验的成功概率为 $\\theta$。\n",
    "\n",
    "$p(i)$ 的解释是：第一次成功之前发生了 $i$ 次失败的概率。\n",
    "\n",
    "可以证明该分布的平均值是 $1/\\theta$，方差是 $(1-\\theta)/\\theta$。\n",
    "\n",
    "下面是一个例子。"
   ]
  },
  {
   "cell_type": "code",
   "execution_count": null,
   "id": "4f838fdf",
   "metadata": {},
   "outputs": [],
   "source": [
    "θ = 0.1\n",
    "u = scipy.stats.geom(θ)\n",
    "u.mean(), u.var()"
   ]
  },
  {
   "cell_type": "markdown",
   "id": "1e89280d",
   "metadata": {},
   "source": [
    "这里是部分PMF："
   ]
  },
  {
   "cell_type": "code",
   "execution_count": null,
   "id": "c2309767",
   "metadata": {},
   "outputs": [],
   "source": [
    "fig, ax = plt.subplots()\n",
    "n = 20\n",
    "S = np.arange(n)\n",
    "ax.plot(S, u.pmf(S), linestyle='', marker='o', alpha=0.8, ms=4)\n",
    "ax.vlines(S, 0, u.pmf(S), lw=0.2)\n",
    "ax.set_xticks(S)\n",
    "ax.set_xlabel('S')\n",
    "ax.set_ylabel('PMF')\n",
    "plt.show()"
   ]
  },
  {
   "cell_type": "markdown",
   "id": "63bceb08",
   "metadata": {},
   "source": [
    "#### 泊松分布\n",
    "\n",
    "泊松分布在 $S = \\{0, 1, \\ldots\\}$ 上，参数为 $\\lambda > 0$，其概率质量函数（PMF）为\n",
    "\n",
    "$$\n",
    "p(i) = \\frac{\\lambda^i}{i!} e^{-\\lambda}\n",
    "$$\n",
    "\n",
    "$p(i)$ 的解释是：在固定时间区间内事件发生 $i$ 次的概率，其中事件以常数率 $\\lambda$ 独立发生。\n",
    "\n",
    "可以证明，其均值为 $\\lambda$，方差也为 $\\lambda$。\n",
    "\n",
    "这里有一个例子。"
   ]
  },
  {
   "cell_type": "code",
   "execution_count": null,
   "id": "c469cae1",
   "metadata": {},
   "outputs": [],
   "source": [
    "λ = 2\n",
    "u = scipy.stats.poisson(λ)\n",
    "u.mean(), u.var()"
   ]
  },
  {
   "cell_type": "markdown",
   "id": "fe9ca949",
   "metadata": {},
   "source": [
    "这是概率质量函数："
   ]
  },
  {
   "cell_type": "code",
   "execution_count": null,
   "id": "7efd5f6a",
   "metadata": {},
   "outputs": [],
   "source": [
    "u.pmf(1)"
   ]
  },
  {
   "cell_type": "code",
   "execution_count": null,
   "id": "934890c6",
   "metadata": {},
   "outputs": [],
   "source": [
    "fig, ax = plt.subplots()\n",
    "S = np.arange(1, n+1)\n",
    "ax.plot(S, u.pmf(S), linestyle='', marker='o', alpha=0.8, ms=4)\n",
    "ax.vlines(S, 0, u.pmf(S), lw=0.2)\n",
    "ax.set_xticks(S)\n",
    "ax.set_xlabel('S')\n",
    "ax.set_ylabel('PMF')\n",
    "plt.show()"
   ]
  },
  {
   "cell_type": "markdown",
   "id": "e9a174b0",
   "metadata": {},
   "source": [
    "### 连续分布\n",
    "\n",
    "连续分布由一个**概率密度函数**表示，这是一个在全体实数集 $\\mathbb R$ 上的函数 $p$，满足对所有的 $x$ 有 $p(x) \\geq 0$，并且\n",
    "\n",
    "$$ \n",
    "\\int_{-\\infty}^\\infty p(x) \\, dx = 1 \n",
    "$$\n",
    "\n",
    "我们说随机变量 $X$ 若有如下性质则服从分布 $p$：\n",
    "\n",
    "$$\n",
    "\\mathbb P\\{a < X < b\\} = \\int_a^b p(x) \\, dx\n",
    "$$\n",
    "\n",
    "对所有 $a \\leq b$ 都成立。\n",
    "\n",
    "随机变量 $X$ 若服从分布 $p$，其均值和方差的定义与离散情况相同，只是将求和换成了积分。\n",
    "\n",
    "例如，$X$ 的均值为\n",
    "\n",
    "$$\n",
    "\\mathbb{E}[X] = \\int_{-\\infty}^\\infty x p(x) \\, dx\n",
    "$$\n",
    "\n",
    "$X$ 的**累积分布函数**（CDF）定义为\n",
    "\n",
    "$$\n",
    "F(x) = \\mathbb P\\{X \\leq x\\}\n",
    "        = \\int_{-\\infty}^x p(x) \\, dx\n",
    "$$\n",
    "\n",
    "\n",
    "#### 正态分布\n",
    "\n",
    "也许最著名的分布是**正态分布**，其密度为\n",
    "\n",
    "$$\n",
    "p(x) = \\frac{1}{\\sqrt{2\\pi}\\sigma}\n",
    "            \\exp\\left(-\\frac{(x-\\mu)^2}{2\\sigma^2}\\right)\n",
    "$$\n",
    "\n",
    "这个分布有两个参数，$\\mu \\in \\mathbb R$ 和 $\\sigma \\in (0, \\infty)$。\n",
    "\n",
    "使用微积分，可以证明对于这种分布，均值是 $\\mu$，方差是 $\\sigma^2$。\n",
    "\n",
    "我们可以通过 SciPy 获取正态分布的矩、PDF 和 CDF："
   ]
  },
  {
   "cell_type": "code",
   "execution_count": null,
   "id": "cc9b8023",
   "metadata": {},
   "outputs": [],
   "source": [
    "μ, σ = 0.0, 1.0\n",
    "u = scipy.stats.norm(μ, σ)"
   ]
  },
  {
   "cell_type": "code",
   "execution_count": null,
   "id": "8c07ece0",
   "metadata": {},
   "outputs": [],
   "source": [
    "u.mean(), u.var()"
   ]
  },
  {
   "cell_type": "markdown",
   "id": "edc4f2fe",
   "metadata": {},
   "source": [
    "下面是密度的图像——著名的“钟形曲线”："
   ]
  },
  {
   "cell_type": "code",
   "execution_count": null,
   "id": "58253744",
   "metadata": {},
   "outputs": [],
   "source": [
    "μ_vals = [-1, 0, 1]\n",
    "σ_vals = [0.4, 1, 1.6]\n",
    "fig, ax = plt.subplots()\n",
    "x_grid = np.linspace(-4, 4, 200)\n",
    "\n",
    "for μ, σ in zip(μ_vals, σ_vals):\n",
    "    u = scipy.stats.norm(μ, σ)\n",
    "    ax.plot(x_grid, u.pdf(x_grid),\n",
    "    alpha=0.5, lw=2,\n",
    "    label=fr'$\\mu={μ}, \\sigma={σ}$')\n",
    "ax.set_xlabel('x')\n",
    "ax.set_ylabel('PDF')\n",
    "plt.legend()\n",
    "plt.show()"
   ]
  },
  {
   "cell_type": "markdown",
   "id": "00122608",
   "metadata": {},
   "source": [
    "下面是 CDF 的图像："
   ]
  },
  {
   "cell_type": "code",
   "execution_count": null,
   "id": "9b4a0bfc",
   "metadata": {},
   "outputs": [],
   "source": [
    "fig, ax = plt.subplots()\n",
    "for μ, σ in zip(μ_vals, σ_vals):\n",
    "    u = scipy.stats.norm(μ, σ)\n",
    "    ax.plot(x_grid, u.cdf(x_grid),\n",
    "    alpha=0.5, lw=2,\n",
    "    label=fr'$\\mu={μ}, \\sigma={σ}$')\n",
    "    ax.set_ylim(0, 1)\n",
    "ax.set_xlabel('x')\n",
    "ax.set_ylabel('CDF')\n",
    "plt.legend()\n",
    "plt.show()"
   ]
  },
  {
   "cell_type": "markdown",
   "id": "c4951c23",
   "metadata": {},
   "source": [
    "#### 对数正态分布\n",
    "\n",
    "**对数正态分布**是定义在 $\\left(0, \\infty\\right)$ 上的一个分布，其密度函数为\n",
    "\n",
    "$$\n",
    "p(x) = \\frac{1}{\\sigma x \\sqrt{2\\pi}}\n",
    "    \\exp \\left(- \\frac{\\left(\\log x - \\mu\\right)^2}{2 \\sigma^2} \\right)\n",
    "$$\n",
    "\n",
    "这个分布有两个参数，$\\mu$ 和 $\\sigma$。\n",
    "\n",
    "可以证明，对于这个分布，平均值是 $\\exp\\left(\\mu + \\sigma^2/2\\right)$，方差是 $\\left[\\exp\\left(\\sigma^2\\right) - 1\\right] \\exp\\left(2\\mu + \\sigma^2\\right)$。\n",
    "\n",
    "可以证明：\n",
    "\n",
    "* 如果 $X$ 是对数正态分布的，则 $\\log X$ 是正态分布的，\n",
    "* 如果 $X$ 是正态分布的，则 $\\exp X$ 是对数正态分布的。\n",
    "\n",
    "我们可以按照下面的方式获取对数正态分布的矩、PDF 和 CDF："
   ]
  },
  {
   "cell_type": "code",
   "execution_count": null,
   "id": "00203e69",
   "metadata": {},
   "outputs": [],
   "source": [
    "μ, σ = 0.0, 1.0\n",
    "u = scipy.stats.lognorm(s=σ, scale=np.exp(μ))"
   ]
  },
  {
   "cell_type": "code",
   "execution_count": null,
   "id": "28f6454e",
   "metadata": {},
   "outputs": [],
   "source": [
    "u.mean(), u.var()"
   ]
  },
  {
   "cell_type": "code",
   "execution_count": null,
   "id": "aaa355bf",
   "metadata": {},
   "outputs": [],
   "source": [
    "μ_vals = [-1, 0, 1]\n",
    "σ_vals = [0.25, 0.5, 1]\n",
    "x_grid = np.linspace(0, 3, 200)\n",
    "\n",
    "fig, ax = plt.subplots()\n",
    "for μ, σ in zip(μ_vals, σ_vals):\n",
    "    u = scipy.stats.lognorm(σ, scale=np.exp(μ))\n",
    "    ax.plot(x_grid, u.pdf(x_grid),\n",
    "    alpha=0.5, lw=2,\n",
    "    label=fr'$\\mu={μ}, \\sigma={σ}$')\n",
    "ax.set_xlabel('x')\n",
    "ax.set_ylabel('PDF')\n",
    "plt.legend()\n",
    "plt.show()"
   ]
  },
  {
   "cell_type": "code",
   "execution_count": null,
   "id": "79a62c65",
   "metadata": {},
   "outputs": [],
   "source": [
    "fig, ax = plt.subplots()\n",
    "μ = 1\n",
    "for σ in σ_vals:\n",
    "    u = scipy.stats.norm(μ, σ)\n",
    "    ax.plot(x_grid, u.cdf(x_grid),\n",
    "    alpha=0.5, lw=2,\n",
    "    label=fr'$\\mu={μ}, \\sigma={σ}$')\n",
    "    ax.set_ylim(0, 1)\n",
    "    ax.set_xlim(0, 3)\n",
    "ax.set_xlabel('x')\n",
    "ax.set_ylabel('CDF')\n",
    "plt.legend()\n",
    "plt.show()"
   ]
  },
  {
   "cell_type": "markdown",
   "id": "60f5e535",
   "metadata": {},
   "source": [
    "#### 指数分布\n",
    "\n",
    "**指数分布**是定义在 $\\left(0, \\infty\\right)$ 上的分布，其密度函数为\n",
    "\n",
    "$$\n",
    "p(x) = \\lambda \\exp \\left( - \\lambda x \\right)\n",
    "\\qquad (x > 0)\n",
    "$$\n",
    "\n",
    "这个分布有一个参数 $\\lambda$。\n",
    "\n",
    "指数分布可以被视为几何分布的连续等价物。\n",
    "\n",
    "可以证明，对于这个分布，平均值是 $1/\\lambda$，方差是 $1/\\lambda^2$。\n",
    "\n",
    "我们可以按照下面的方式获取指数分布的矩、PDF 和 CDF："
   ]
  },
  {
   "cell_type": "code",
   "execution_count": null,
   "id": "f0e72769",
   "metadata": {},
   "outputs": [],
   "source": [
    "λ = 1.0\n",
    "u = scipy.stats.expon(scale=1/λ)"
   ]
  },
  {
   "cell_type": "code",
   "execution_count": null,
   "id": "8b1ec44d",
   "metadata": {},
   "outputs": [],
   "source": [
    "u.mean(), u.var()"
   ]
  },
  {
   "cell_type": "code",
   "execution_count": null,
   "id": "d978edac",
   "metadata": {},
   "outputs": [],
   "source": [
    "fig, ax = plt.subplots()\n",
    "λ_vals = [0.5, 1, 2]\n",
    "x_grid = np.linspace(0, 6, 200)\n",
    "\n",
    "for λ in λ_vals:\n",
    "    u = scipy.stats.expon(scale=1/λ)\n",
    "    ax.plot(x_grid, u.pdf(x_grid),\n",
    "    alpha=0.5, lw=2,\n",
    "    label=fr'$\\lambda={λ}$')\n",
    "ax.set_xlabel('x')\n",
    "ax.set_ylabel('PDF')\n",
    "plt.legend()\n",
    "plt.show()"
   ]
  },
  {
   "cell_type": "code",
   "execution_count": null,
   "id": "753beb2d",
   "metadata": {},
   "outputs": [],
   "source": [
    "fig, ax = plt.subplots()\n",
    "for λ in λ_vals:\n",
    "    u = scipy.stats.expon(scale=1/λ)\n",
    "    ax.plot(x_grid, u.cdf(x_grid),\n",
    "    alpha=0.5, lw=2,\n",
    "    label=fr'$\\lambda={λ}$')\n",
    "    ax.set_ylim(0, 1)\n",
    "ax.set_xlabel('x')\n",
    "ax.set_ylabel('CDF')\n",
    "plt.legend()\n",
    "plt.show()"
   ]
  },
  {
   "cell_type": "markdown",
   "id": "38ed2c60",
   "metadata": {},
   "source": [
    "#### 贝塔分布\n",
    "\n",
    "**贝塔分布**是定义在 $(0, 1)$ 上的分布，其密度为\n",
    "\n",
    "$$\n",
    "p(x) = \\frac{\\Gamma(\\alpha + \\beta)}{\\Gamma(\\alpha) \\Gamma(\\beta)}\n",
    "    x^{\\alpha - 1} (1 - x)^{\\beta - 1}\n",
    "$$\n",
    "\n",
    "其中 $\\Gamma$ 是[伽马函数](https://en.wikipedia.org/wiki/Gamma_function)。\n",
    "\n",
    "(伽马函数的作用是使密度标准化，从而使其积分为一。)\n",
    "\n",
    "此分布有两个参数，$\\alpha > 0$ 和 $\\beta > 0$。\n",
    "\n",
    "可以证明对于该分布，均值为 $\\alpha / (\\alpha + \\beta)$，方差为 $\\alpha \\beta / (\\alpha + \\beta)^2 (\\alpha + \\beta + 1)$。\n",
    "\n",
    "我们可以如下获得贝塔密度的矩、PDF 和 CDF："
   ]
  },
  {
   "cell_type": "code",
   "execution_count": null,
   "id": "0e5af7c6",
   "metadata": {},
   "outputs": [],
   "source": [
    "α, β = 3.0, 1.0\n",
    "u = scipy.stats.beta(α, β)"
   ]
  },
  {
   "cell_type": "code",
   "execution_count": null,
   "id": "6f258b9c",
   "metadata": {},
   "outputs": [],
   "source": [
    "u.mean(), u.var()"
   ]
  },
  {
   "cell_type": "code",
   "execution_count": null,
   "id": "54c0ba9b",
   "metadata": {},
   "outputs": [],
   "source": [
    "α_vals = [0.5, 1, 5, 25, 3]\n",
    "β_vals = [3, 1, 10, 20, 0.5]\n",
    "x_grid = np.linspace(0, 1, 200)\n",
    "\n",
    "fig, ax = plt.subplots()\n",
    "for α, β in zip(α_vals, β_vals):\n",
    "    u = scipy.stats.beta(α, β)\n",
    "    ax.plot(x_grid, u.pdf(x_grid),\n",
    "    alpha=0.5, lw=2,\n",
    "    label=fr'$\\alpha={α}, \\beta={β}$')\n",
    "ax.set_xlabel('x')\n",
    "ax.set_ylabel('PDF')\n",
    "plt.legend()\n",
    "plt.show()"
   ]
  },
  {
   "cell_type": "code",
   "execution_count": null,
   "id": "8304f14b",
   "metadata": {},
   "outputs": [],
   "source": [
    "fig, ax = plt.subplots()\n",
    "for α, β in zip(α_vals, β_vals):\n",
    "    u = scipy.stats.beta(α, β)\n",
    "    ax.plot(x_grid, u.cdf(x_grid),\n",
    "    alpha=0.5, lw=2,\n",
    "    label=fr'$\\alpha={α}, \\beta={β}$')\n",
    "    ax.set_ylim(0, 1)\n",
    "ax.set_xlabel('x')\n",
    "ax.set_ylabel('CDF')\n",
    "plt.legend()\n",
    "plt.show()"
   ]
  },
  {
   "cell_type": "markdown",
   "id": "6b088fff",
   "metadata": {},
   "source": [
    "#### 伽马分布\n",
    "\n",
    "**伽马分布**是定义在 $\\left(0, \\infty\\right)$ 上的分布，其密度为\n",
    "\n",
    "$$\n",
    "p(x) = \\frac{\\beta^\\alpha}{\\Gamma(\\alpha)}\n",
    "    x^{\\alpha - 1} \\exp(-\\beta x)\n",
    "$$\n",
    "\n",
    "此分布有两个参数，$\\alpha > 0$ 和 $\\beta > 0$。\n",
    "\n",
    "可以证明对于该分布，均值为 $\\alpha / \\beta$，方差为 $\\alpha / \\beta^2$。\n",
    "\n",
    "一种解释是，如果 $X$ 是伽马分布并且 $\\alpha$ 是一个整数，那么 $X$ 是 $\\alpha$ 个独立具有均值 $1/\\beta$ 的指数分布随机变量的总和。\n",
    "\n",
    "我们可以如下获得伽马密度的矩、PDF 和 CDF："
   ]
  },
  {
   "cell_type": "code",
   "execution_count": null,
   "id": "15398e33",
   "metadata": {},
   "outputs": [],
   "source": [
    "α, β = 3.0, 2.0\n",
    "u = scipy.stats.gamma(α, scale=1/β)"
   ]
  },
  {
   "cell_type": "code",
   "execution_count": null,
   "id": "8f09dac6",
   "metadata": {},
   "outputs": [],
   "source": [
    "u.mean(), u.var()"
   ]
  },
  {
   "cell_type": "code",
   "execution_count": null,
   "id": "76477f31",
   "metadata": {},
   "outputs": [],
   "source": [
    "α_vals = [1, 3, 5, 10]\n",
    "β_vals = [3, 5, 3, 3]\n",
    "x_grid = np.linspace(0, 7, 200)\n",
    "\n",
    "fig, ax = plt.subplots()\n",
    "for α, β in zip(α_vals, β_vals):\n",
    "    u = scipy.stats.gamma(α, scale=1/β)\n",
    "    ax.plot(x_grid, u.pdf(x_grid),\n",
    "    alpha=0.5, lw=2,\n",
    "    label=fr'$\\alpha={α}, \\beta={β}$')\n",
    "ax.set_xlabel('x')\n",
    "ax.set_ylabel('PDF')\n",
    "plt.legend()\n",
    "plt.show()"
   ]
  },
  {
   "cell_type": "code",
   "execution_count": null,
   "id": "6d6d295e",
   "metadata": {},
   "outputs": [],
   "source": [
    "fig, ax = plt.subplots()\n",
    "for α, β in zip(α_vals, β_vals):\n",
    "    u = scipy.stats.gamma(α, scale=1/β)\n",
    "    ax.plot(x_grid, u.cdf(x_grid),\n",
    "    alpha=0.5, lw=2,\n",
    "    label=fr'$\\alpha={α}, \\beta={β}$')\n",
    "    ax.set_ylim(0, 1)\n",
    "ax.set_xlabel('x')\n",
    "ax.set_ylabel('CDF')\n",
    "plt.legend()\n",
    "plt.show()"
   ]
  },
  {
   "cell_type": "markdown",
   "id": "b53ea8fb",
   "metadata": {},
   "source": [
    "## 观察到的分布\n",
    "\n",
    "有时候我们将观测到的数据或测量值称为“分布”。\n",
    "\n",
    "例如，假设我们观察了10个人一年的收入："
   ]
  },
  {
   "cell_type": "code",
   "execution_count": null,
   "id": "6b08d62c",
   "metadata": {},
   "outputs": [],
   "source": [
    "data = [['Hiroshi', 1200], \n",
    "        ['Ako', 1210], \n",
    "        ['Emi', 1400],\n",
    "        ['Daiki', 990],\n",
    "        ['Chiyo', 1530],\n",
    "        ['Taka', 1210],\n",
    "        ['Katsuhiko', 1240],\n",
    "        ['Daisuke', 1124],\n",
    "        ['Yoshi', 1330],\n",
    "        ['Rie', 1340]]\n",
    "\n",
    "df = pd.DataFrame(data, columns=['name', 'income'])\n",
    "df"
   ]
  },
  {
   "cell_type": "markdown",
   "id": "61eb6046",
   "metadata": {},
   "source": [
    "在这种情况下，我们可能称他们的收入集合为“收入分布”。\n",
    "\n",
    "这个术语有些令人困惑，因为这个集合不是一个概率分布——它只是一个数字的集合。\n",
    "\n",
    "然而，正如我们将看到的，观察到的分布（即，像上述收入分布那样的数字集合）和概率分布之间存在联系。\n",
    "\n",
    "下面我们探索一些观察到的分布。\n",
    "\n",
    "\n",
    "### 概括统计\n",
    "\n",
    "假设我们有一个观察到的分布，其值为 $\\{x_1, \\ldots, x_n\\}$\n",
    "\n",
    "这个分布的**样本均值**定义为\n",
    "\n",
    "$$\n",
    "\\bar x = \\frac{1}{n} \\sum_{i=1}^n x_i\n",
    "$$\n",
    "\n",
    "**样本方差**定义为 \n",
    "\n",
    "$$\n",
    "\\frac{1}{n} \\sum_{i=1}^n (x_i - \\bar x)^2\n",
    "$$\n",
    "\n",
    "对于上面给出的收入分布，我们可以通过下面的方式计算这些数字："
   ]
  },
  {
   "cell_type": "code",
   "execution_count": null,
   "id": "ef66afc2",
   "metadata": {},
   "outputs": [],
   "source": [
    "x = df['income']\n",
    "x.mean(), x.var()"
   ]
  },
  {
   "cell_type": "markdown",
   "id": "6db72051",
   "metadata": {},
   "source": [
    "```{exercise}\n",
    ":label: prob_ex4\n",
    "\n",
    "如果你尝试检查上述给出的样本均值和样本方差的公式是否能产生相同的数字，你会发现方差并不完全正确。这是因为SciPy使用的是 $1/(n-1)$ 而不是 $1/n$ 作为方差的前面的系数。（有些书籍就是这样定义样本方差的。）\n",
    "确认。\n",
    "```\n",
    "\n",
    "### 可视化\n",
    "\n",
    "让我们来看看我们可以用哪些方式来可视化一个或多个观察到的分布。\n",
    "\n",
    "我们将讲解\n",
    "\n",
    "- 直方图\n",
    "- 核密度估计\n",
    "- 小提琴图\n",
    "\n",
    "\n",
    "#### 直方图\n",
    "\n",
    "我们可以如下制作我们刚刚建立的收入分布的直方图"
   ]
  },
  {
   "cell_type": "code",
   "execution_count": null,
   "id": "115f8144",
   "metadata": {},
   "outputs": [],
   "source": [
    "fig, ax = plt.subplots()\n",
    "ax.hist(x, bins=5, density=True, histtype='bar')\n",
    "ax.set_xlabel('收入')\n",
    "ax.set_ylabel('密度')\n",
    "plt.show()"
   ]
  },
  {
   "cell_type": "markdown",
   "id": "4c58e741",
   "metadata": {},
   "source": [
    "让我们来看一个真实数据的分布。\n",
    "\n",
    "特别是，我们将看一下2000/1/1至2024/1/1之间亚马逊股票的月收益率。\n",
    "\n",
    "月收益率是每个月股价变动的百分比。\n",
    "\n",
    "因此，我们将得到每个月的一个观测。"
   ]
  },
  {
   "cell_type": "code",
   "execution_count": null,
   "id": "61e9cb3d",
   "metadata": {
    "tags": [
     "hide-output"
    ]
   },
   "outputs": [],
   "source": [
    "df = yf.download('AMZN', '2000-1-1', '2024-1-1', \n",
    "                    interval='1mo', auto_adjust=False)\n",
    "prices = df['Adj Close']\n",
    "x_amazon = prices.pct_change()[1:] * 100\n",
    "x_amazon.head()"
   ]
  },
  {
   "cell_type": "markdown",
   "id": "63fe7e0c",
   "metadata": {},
   "source": [
    "第一个观察结果是2000年1月的月回报（百分比变化），这是"
   ]
  },
  {
   "cell_type": "code",
   "execution_count": null,
   "id": "7eeafda9",
   "metadata": {},
   "outputs": [],
   "source": [
    "x_amazon.iloc[0]"
   ]
  },
  {
   "cell_type": "markdown",
   "id": "ab71bd27",
   "metadata": {},
   "source": [
    "让我们将回报观测值转换成数组并制作直方图。"
   ]
  },
  {
   "cell_type": "code",
   "execution_count": null,
   "id": "8bb34668",
   "metadata": {},
   "outputs": [],
   "source": [
    "fig, ax = plt.subplots()\n",
    "ax.hist(x_amazon, bins=20)\n",
    "ax.set_xlabel('月收益率（百分比变化）')\n",
    "ax.set_ylabel('密度')\n",
    "plt.show()"
   ]
  },
  {
   "cell_type": "markdown",
   "id": "bf978558",
   "metadata": {},
   "source": [
    "#### 核密度估计\n",
    "\n",
    "核密度估计（KDE）提供了一种简单的方式来估计和可视化分布的密度。\n",
    "\n",
    "如果你不熟悉核密度估计，可以将其视为平滑的直方图。\n",
    "\n",
    "让我们看看从亚马逊退货数据中形成的KDE。"
   ]
  },
  {
   "cell_type": "code",
   "execution_count": null,
   "id": "97a7ef39",
   "metadata": {},
   "outputs": [],
   "source": [
    "fig, ax = plt.subplots()\n",
    "sns.kdeplot(x_amazon, ax=ax)\n",
    "ax.set_xlabel('月度回报率（百分比变化）')\n",
    "ax.set_ylabel('KDE')\n",
    "plt.show()"
   ]
  },
  {
   "cell_type": "markdown",
   "id": "bde4269d",
   "metadata": {},
   "source": [
    "KDE的平滑程度取决于我们选择带宽的方式。"
   ]
  },
  {
   "cell_type": "code",
   "execution_count": null,
   "id": "004bb347",
   "metadata": {},
   "outputs": [],
   "source": [
    "fig, ax = plt.subplots()\n",
    "sns.kdeplot(x_amazon, ax=ax, bw_adjust=0.1, alpha=0.5, label=\"bw=0.1\")\n",
    "sns.kdeplot(x_amazon, ax=ax, bw_adjust=0.5, alpha=0.5, label=\"bw=0.5\")\n",
    "sns.kdeplot(x_amazon, ax=ax, bw_adjust=1, alpha=0.5, label=\"bw=1\")\n",
    "ax.set_xlabel('月度回报率（百分比变化）')\n",
    "ax.set_ylabel('KDE')\n",
    "plt.legend()\n",
    "plt.show()"
   ]
  },
  {
   "cell_type": "markdown",
   "id": "1d1ff424",
   "metadata": {},
   "source": [
    "当我们使用较大的带宽时，KDE更加平滑。\n",
    "\n",
    "一个合适的带宽既不应过于平滑（欠拟合），也不应过于曲折（过拟合）。\n",
    "\n",
    "\n",
    "#### 小提琴图\n",
    "\n",
    "\n",
    "通过小提琴图展示观察到的分布是另一种方式。"
   ]
  },
  {
   "cell_type": "code",
   "execution_count": null,
   "id": "a3861945",
   "metadata": {},
   "outputs": [],
   "source": [
    "fig, ax = plt.subplots()\n",
    "ax.violinplot(x_amazon)\n",
    "ax.set_ylabel('月度回报率（百分比变化）')\n",
    "ax.set_xlabel('KDE')\n",
    "plt.show()"
   ]
  },
  {
   "cell_type": "markdown",
   "id": "1e95b69d",
   "metadata": {},
   "source": [
    "小提琴图在我们想要比较不同分布时特别有用。\n",
    "\n",
    "例如，让我们比较亚马逊股份的月度回报与Costco股份的月度回报。"
   ]
  },
  {
   "cell_type": "code",
   "execution_count": null,
   "id": "0a4e9a90",
   "metadata": {
    "tags": [
     "hide-output"
    ]
   },
   "outputs": [],
   "source": [
    "df = yf.download('COST', '2000-1-1', '2024-1-1', \n",
    "                 interval='1mo', auto_adjust=False)\n",
    "prices = df['Adj Close']\n",
    "x_costco = prices.pct_change()[1:] * 100"
   ]
  },
  {
   "cell_type": "code",
   "execution_count": null,
   "id": "7668b27c",
   "metadata": {},
   "outputs": [],
   "source": [
    "fig, ax = plt.subplots()\n",
    "ax.violinplot([x_amazon['AMZN'], x_costco['COST']])\n",
    "ax.set_ylabel('月度回报率（百分比变化）')\n",
    "ax.set_xlabel('零售商')\n",
    "\n",
    "ax.set_xticks([1, 2])\n",
    "ax.set_xticklabels(['亚马逊', '开市客'])\n",
    "plt.show()"
   ]
  },
  {
   "cell_type": "markdown",
   "id": "a2a2c9b1",
   "metadata": {},
   "source": [
    "### 与概率分布的联系\n",
    "\n",
    "让我们讨论一下观察到的分布与概率分布之间的联系。\n",
    "\n",
    "有时候，想象一个观察到的分布是由特定的概率分布生成的会很有帮助。\n",
    "\n",
    "例如，我们可能会观察上面亚马逊的回报，并想象它们是由正态分布生成的。\n",
    "\n",
    "（尽管这不是真的，但这*可能*是一种有帮助的思考数据的方式。）\n",
    "\n",
    "这里我们通过将样本均值设为正态分布的均值，将样本方差设为方差，来匹配正态分布到亚马逊月度回报上。\n",
    "\n",
    "然后我们绘制密度和直方图。"
   ]
  },
  {
   "cell_type": "code",
   "execution_count": null,
   "id": "187170ee",
   "metadata": {},
   "outputs": [],
   "source": [
    "μ = x_amazon.mean()  \n",
    "σ_squared = x_amazon.var()  \n",
    "σ = np.sqrt(σ_squared)  \n",
    "u = scipy.stats.norm(μ, σ)  "
   ]
  },
  {
   "cell_type": "code",
   "execution_count": null,
   "id": "edca268f",
   "metadata": {},
   "outputs": [],
   "source": [
    "x_grid = np.linspace(-50, 65, 200)  \n",
    "fig, ax = plt.subplots()  \n",
    "ax.plot(x_grid, u.pdf(x_grid))  \n",
    "ax.hist(x_amazon, density=True, bins=40)  \n",
    "ax.set_xlabel('月度回报（百分比变化）')\n",
    "ax.set_ylabel('密度')\n",
    "plt.show()"
   ]
  },
  {
   "cell_type": "markdown",
   "id": "3e6f4d10",
   "metadata": {},
   "source": [
    "直方图与密度的匹配不是很好。\n",
    "\n",
    "一个原因是正态分布实际上并不真正适合这个观察数据 --- 我们在讨论{ref}`重尾分布<heavy_tail>`时将再次提到这一点。\n",
    "\n",
    "当然，如果数据真的是由正态分布生成的，那么拟合效果会更好。\n",
    "\n",
    "让我们看到这一点在实际中的运用：\n",
    "\n",
    "- 首先我们从正态分布中生成随机抽样\n",
    "- 然后我们对它们进行直方图绘制，并与密度比较。"
   ]
  },
  {
   "cell_type": "code",
   "execution_count": null,
   "id": "46b5ddd3",
   "metadata": {},
   "outputs": [],
   "source": [
    "μ, σ = 0, 1  \n",
    "u = scipy.stats.norm(μ, σ)  \n",
    "N = 2000  \n",
    "x_draws = u.rvs(N)  \n",
    "x_grid = np.linspace(-4, 4, 200)  \n",
    "fig, ax = plt.subplots()  \n",
    "ax.plot(x_grid, u.pdf(x_grid))  \n",
    "ax.hist(x_draws, density=True, bins=40)  \n",
    "ax.set_xlabel('x')\n",
    "ax.set_ylabel('密度')\n",
    "plt.show()"
   ]
  },
  {
   "cell_type": "markdown",
   "id": "69e34f14",
   "metadata": {},
   "source": [
    "请注意，如果你不断增加 $N$，即观测数量，拟合效果会越来越好。\n",
    "\n",
    "这种收敛是“大数定律”的一个版本，我们将在{ref}`以后<lln_mr>`讨论。"
   ]
  }
 ],
 "metadata": {
  "jupytext": {
   "text_representation": {
    "extension": ".md",
    "format_name": "myst",
    "format_version": 0.13,
    "jupytext_version": "1.16.4"
   }
  },
  "kernelspec": {
   "display_name": "Python 3 (ipykernel)",
   "language": "python",
   "name": "python3"
  },
  "source_map": [
   12,
   23,
   29,
   41,
   101,
   104,
   108,
   110,
   116,
   120,
   122,
   126,
   135,
   139,
   148,
   180,
   183,
   187,
   189,
   193,
   195,
   215,
   219,
   223,
   225,
   229,
   231,
   235,
   239,
   248,
   252,
   261,
   275,
   285,
   312,
   316,
   320,
   330,
   346,
   350,
   354,
   358,
   367,
   416,
   421,
   423,
   427,
   442,
   446,
   458,
   480,
   485,
   489,
   506,
   520,
   539,
   544,
   548,
   564,
   576,
   597,
   602,
   606,
   623,
   635,
   654,
   659,
   663,
   680,
   692,
   700,
   714,
   743,
   746,
   770,
   776,
   786,
   794,
   798,
   800,
   804,
   810,
   820,
   826,
   830,
   839,
   851,
   857,
   863,
   872,
   881,
   897,
   904,
   912,
   925,
   937
  ]
 },
 "nbformat": 4,
 "nbformat_minor": 5
}