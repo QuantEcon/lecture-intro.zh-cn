{
 "cells": [
  {
   "cell_type": "markdown",
   "id": "a678c3de",
   "metadata": {},
   "source": [
    "(lp_intro)=\n",
    "# 线性规划\n",
    "\n",
    "在本讲中，我们将需要以下库。使用 `pip` 安装 [ortools](https://developers.google.com/optimization)。"
   ]
  },
  {
   "cell_type": "code",
   "execution_count": 1,
   "id": "324cd1da",
   "metadata": {
    "tags": [
     "hide-output"
    ]
   },
   "outputs": [
    {
     "name": "stdout",
     "output_type": "stream",
     "text": [
      "Collecting ortools\r\n"
     ]
    },
    {
     "name": "stdout",
     "output_type": "stream",
     "text": [
      "  Downloading ortools-9.11.4210-cp311-cp311-manylinux_2_17_x86_64.manylinux2014_x86_64.whl.metadata (3.0 kB)\r\n",
      "Collecting absl-py>=2.0.0 (from ortools)\r\n",
      "  Downloading absl_py-2.1.0-py3-none-any.whl.metadata (2.3 kB)\r\n",
      "Requirement already satisfied: numpy>=1.13.3 in /home/runner/miniconda3/envs/quantecon/lib/python3.11/site-packages (from ortools) (1.26.4)\r\n",
      "Requirement already satisfied: pandas>=2.0.0 in /home/runner/miniconda3/envs/quantecon/lib/python3.11/site-packages (from ortools) (2.2.2)\r\n"
     ]
    },
    {
     "name": "stdout",
     "output_type": "stream",
     "text": [
      "Collecting protobuf<5.27,>=5.26.1 (from ortools)\r\n"
     ]
    },
    {
     "name": "stdout",
     "output_type": "stream",
     "text": [
      "  Downloading protobuf-5.26.1-cp37-abi3-manylinux2014_x86_64.whl.metadata (592 bytes)\r\n",
      "Collecting immutabledict>=3.0.0 (from ortools)\r\n",
      "  Downloading immutabledict-4.2.0-py3-none-any.whl.metadata (3.4 kB)\r\n"
     ]
    },
    {
     "name": "stdout",
     "output_type": "stream",
     "text": [
      "Requirement already satisfied: python-dateutil>=2.8.2 in /home/runner/miniconda3/envs/quantecon/lib/python3.11/site-packages (from pandas>=2.0.0->ortools) (2.9.0.post0)\r\n",
      "Requirement already satisfied: pytz>=2020.1 in /home/runner/miniconda3/envs/quantecon/lib/python3.11/site-packages (from pandas>=2.0.0->ortools) (2024.1)\r\n",
      "Requirement already satisfied: tzdata>=2022.7 in /home/runner/miniconda3/envs/quantecon/lib/python3.11/site-packages (from pandas>=2.0.0->ortools) (2023.3)\r\n",
      "Requirement already satisfied: six>=1.5 in /home/runner/miniconda3/envs/quantecon/lib/python3.11/site-packages (from python-dateutil>=2.8.2->pandas>=2.0.0->ortools) (1.16.0)\r\n"
     ]
    },
    {
     "name": "stdout",
     "output_type": "stream",
     "text": [
      "Downloading ortools-9.11.4210-cp311-cp311-manylinux_2_17_x86_64.manylinux2014_x86_64.whl (28.1 MB)\r\n",
      "\u001b[?25l   \u001b[90m━━━━━━━━━━━━━━━━━━━━━━━━━━━━━━━━━━━━━━━━\u001b[0m \u001b[32m0.0/28.1 MB\u001b[0m \u001b[31m?\u001b[0m eta \u001b[36m-:--:--\u001b[0m\r",
      "\u001b[2K   \u001b[90m━━━━━━━━━━━━━━━━━━━━━━━━━━━━━━━━━━━━━━━━\u001b[0m \u001b[32m0.2/28.1 MB\u001b[0m \u001b[31m7.5 MB/s\u001b[0m eta \u001b[36m0:00:04\u001b[0m"
     ]
    },
    {
     "name": "stdout",
     "output_type": "stream",
     "text": [
      "\r",
      "\u001b[2K   \u001b[91m━━\u001b[0m\u001b[91m╸\u001b[0m\u001b[90m━━━━━━━━━━━━━━━━━━━━━━━━━━━━━━━━━━━━━\u001b[0m \u001b[32m2.0/28.1 MB\u001b[0m \u001b[31m30.9 MB/s\u001b[0m eta \u001b[36m0:00:01\u001b[0m"
     ]
    },
    {
     "name": "stdout",
     "output_type": "stream",
     "text": [
      "\r",
      "\u001b[2K   \u001b[91m━━━━━━━━━━━━\u001b[0m\u001b[90m╺\u001b[0m\u001b[90m━━━━━━━━━━━━━━━━━━━━━━━━━━━\u001b[0m \u001b[32m8.6/28.1 MB\u001b[0m \u001b[31m84.9 MB/s\u001b[0m eta \u001b[36m0:00:01\u001b[0m"
     ]
    },
    {
     "name": "stdout",
     "output_type": "stream",
     "text": [
      "\r",
      "\u001b[2K   \u001b[91m━━━━━━━━━━━━━━━━━━━━━━\u001b[0m\u001b[91m╸\u001b[0m\u001b[90m━━━━━━━━━━━━━━━━━\u001b[0m \u001b[32m15.9/28.1 MB\u001b[0m \u001b[31m209.9 MB/s\u001b[0m eta \u001b[36m0:00:01\u001b[0m\r",
      "\u001b[2K   \u001b[91m━━━━━━━━━━━━━━━━━━━━━━━━━━━━━━━━\u001b[0m\u001b[91m╸\u001b[0m\u001b[90m━━━━━━━\u001b[0m \u001b[32m23.0/28.1 MB\u001b[0m \u001b[31m206.7 MB/s\u001b[0m eta \u001b[36m0:00:01\u001b[0m"
     ]
    },
    {
     "name": "stdout",
     "output_type": "stream",
     "text": [
      "\r",
      "\u001b[2K   \u001b[91m━━━━━━━━━━━━━━━━━━━━━━━━━━━━━━━━━━━━━━━\u001b[0m\u001b[91m╸\u001b[0m \u001b[32m28.1/28.1 MB\u001b[0m \u001b[31m208.7 MB/s\u001b[0m eta \u001b[36m0:00:01\u001b[0m"
     ]
    },
    {
     "name": "stdout",
     "output_type": "stream",
     "text": [
      "\r",
      "\u001b[2K   \u001b[91m━━━━━━━━━━━━━━━━━━━━━━━━━━━━━━━━━━━━━━━\u001b[0m\u001b[91m╸\u001b[0m \u001b[32m28.1/28.1 MB\u001b[0m \u001b[31m208.7 MB/s\u001b[0m eta \u001b[36m0:00:01\u001b[0m\r",
      "\u001b[2K   \u001b[90m━━━━━━━━━━━━━━━━━━━━━━━━━━━━━━━━━━━━━━━━\u001b[0m \u001b[32m28.1/28.1 MB\u001b[0m \u001b[31m90.4 MB/s\u001b[0m eta \u001b[36m0:00:00\u001b[0m\r\n",
      "\u001b[?25hDownloading absl_py-2.1.0-py3-none-any.whl (133 kB)\r\n",
      "\u001b[?25l   \u001b[90m━━━━━━━━━━━━━━━━━━━━━━━━━━━━━━━━━━━━━━━━\u001b[0m \u001b[32m0.0/133.7 kB\u001b[0m \u001b[31m?\u001b[0m eta \u001b[36m-:--:--\u001b[0m\r",
      "\u001b[2K   \u001b[90m━━━━━━━━━━━━━━━━━━━━━━━━━━━━━━━━━━━━━━━━\u001b[0m \u001b[32m133.7/133.7 kB\u001b[0m \u001b[31m35.5 MB/s\u001b[0m eta \u001b[36m0:00:00\u001b[0m\r\n",
      "\u001b[?25h"
     ]
    },
    {
     "name": "stdout",
     "output_type": "stream",
     "text": [
      "Downloading immutabledict-4.2.0-py3-none-any.whl (4.7 kB)\r\n",
      "Downloading protobuf-5.26.1-cp37-abi3-manylinux2014_x86_64.whl (302 kB)\r\n",
      "\u001b[?25l   \u001b[90m━━━━━━━━━━━━━━━━━━━━━━━━━━━━━━━━━━━━━━━━\u001b[0m \u001b[32m0.0/302.8 kB\u001b[0m \u001b[31m?\u001b[0m eta \u001b[36m-:--:--\u001b[0m\r",
      "\u001b[2K   \u001b[90m━━━━━━━━━━━━━━━━━━━━━━━━━━━━━━━━━━━━━━━━\u001b[0m \u001b[32m302.8/302.8 kB\u001b[0m \u001b[31m57.7 MB/s\u001b[0m eta \u001b[36m0:00:00\u001b[0m\r\n",
      "\u001b[?25h"
     ]
    },
    {
     "name": "stdout",
     "output_type": "stream",
     "text": [
      "Installing collected packages: protobuf, immutabledict, absl-py, ortools\r\n",
      "  Attempting uninstall: protobuf\r\n",
      "    Found existing installation: protobuf 3.20.3\r\n",
      "    Uninstalling protobuf-3.20.3:\r\n"
     ]
    },
    {
     "name": "stdout",
     "output_type": "stream",
     "text": [
      "      Successfully uninstalled protobuf-3.20.3\r\n"
     ]
    },
    {
     "name": "stdout",
     "output_type": "stream",
     "text": [
      "\u001b[31mERROR: pip's dependency resolver does not currently take into account all the packages that are installed. This behaviour is the source of the following dependency conflicts.\r\n",
      "streamlit 1.32.0 requires protobuf<5,>=3.20, but you have protobuf 5.26.1 which is incompatible.\u001b[0m\u001b[31m\r\n",
      "\u001b[0mSuccessfully installed absl-py-2.1.0 immutabledict-4.2.0 ortools-9.11.4210 protobuf-5.26.1\r\n"
     ]
    }
   ],
   "source": [
    "!pip install ortools"
   ]
  },
  {
   "cell_type": "markdown",
   "id": "4cd9d73e",
   "metadata": {},
   "source": [
    "## 概述\n",
    "\n",
    "**线性规划** 问题旨在在一组线性等式和/或不等式约束下，最大化或最小化一个线性目标函数。\n",
    "\n",
    "线性程序成对出现：\n",
    "\n",
    "* 一个原始的 **原始** 问题，以及\n",
    "\n",
    "* 一个相关的 **对偶** 问题。\n",
    "\n",
    "如果原始问题涉及 *最大化*，则对偶问题涉及 *最小化*。\n",
    "\n",
    "如果原始问题涉及 *最小化*，则对偶问题涉及 *最大化*。\n",
    "\n",
    "我们提供线性程序的标准形式，以及将其他形式的线性规划问题转化为标准形式的方法。\n",
    "\n",
    "我们将说明如何使用 [SciPy](https://scipy.org/) 和 [Google OR-Tools](https://developers.google.com/optimization) 来解决线性规划问题。\n",
    "\n",
    "\n",
    "```{seealso}\n",
    "在另一讲中，我们将使用线性规划方法来解决 {doc}`最优运输问题 <tools:opt_transport>`。\n",
    "```\n",
    "\n",
    "让我们先进行一些标准的导入。"
   ]
  },
  {
   "cell_type": "code",
   "execution_count": 2,
   "id": "3fa0c2a1",
   "metadata": {},
   "outputs": [],
   "source": [
    "import numpy as np\n",
    "from ortools.linear_solver import pywraplp\n",
    "from scipy.optimize import linprog\n",
    "import matplotlib.pyplot as plt\n",
    "from matplotlib.patches import Polygon"
   ]
  },
  {
   "cell_type": "markdown",
   "id": "a7440ea8",
   "metadata": {},
   "source": [
    "让我们从一些线性规划问题的例子开始。\n",
    "\n",
    "## 示例 1：生产问题\n",
    "\n",
    "这个例子由 {cite}`bertsimas_tsitsiklis1997` 创建。\n",
    "\n",
    "假设一个工厂可以生产两种商品，称为产品 $1$ 和产品 $2$。\n",
    "\n",
    "生产每种产品都需要材料和劳动。\n",
    "\n",
    "销售每种产品会产生收入。\n",
    "\n",
    "每单位所需的材料和劳动投入及其收入如下表所示：\n",
    "\n",
    "|          | 产品 1 | 产品 2 |\n",
    "| :------: | :----: | :----: |\n",
    "| 材料     |   2    |   5    |\n",
    "| 劳动     |   4    |   2    |\n",
    "| 收入     |   3    |   4    |\n",
    "\n",
    "可用的材料为 30 单位，劳动为 20 单位。\n",
    "\n",
    "公司的问题是构建一个生产计划，利用其 30 单位的材料和 20 单位的劳动来最大化其收入。\n",
    "\n",
    "令 $x_i$ 表示公司生产的产品 $i$ 的数量，$z$ 表示总收入。\n",
    "\n",
    "该问题可以表述为：\n",
    "\n",
    "$$\n",
    "\\begin{aligned}\n",
    "\\max_{x_1,x_2} \\ & z = 3 x_1 + 4 x_2 \\\\\n",
    "\\mbox{受以下约束 } \\ & 2 x_1 + 5 x_2 \\le 30 \\\\\n",
    "& 4 x_1 + 2 x_2 \\le 20 \\\\\n",
    "& x_1, x_2 \\ge 0 \\\\\n",
    "\\end{aligned}\n",
    "$$\n",
    "\n",
    "下图说明了公司的约束条件和等收入线。\n",
    "\n",
    "等收入线显示了产生相同收入的材料和劳动的所有组合。"
   ]
  },
  {
   "cell_type": "code",
   "execution_count": 3,
   "id": "321a7dba",
   "metadata": {
    "tags": [
     "hide-input"
    ]
   },
   "outputs": [
    {
     "name": "stderr",
     "output_type": "stream",
     "text": [
      "/home/runner/miniconda3/envs/quantecon/lib/python3.11/site-packages/IPython/core/pylabtools.py:170: UserWarning: Glyph 31561 (\\N{CJK UNIFIED IDEOGRAPH-7B49}) missing from current font.\n",
      "  fig.canvas.print_figure(bytes_io, **kw)\n",
      "/home/runner/miniconda3/envs/quantecon/lib/python3.11/site-packages/IPython/core/pylabtools.py:170: UserWarning: Glyph 25910 (\\N{CJK UNIFIED IDEOGRAPH-6536}) missing from current font.\n",
      "  fig.canvas.print_figure(bytes_io, **kw)\n",
      "/home/runner/miniconda3/envs/quantecon/lib/python3.11/site-packages/IPython/core/pylabtools.py:170: UserWarning: Glyph 20837 (\\N{CJK UNIFIED IDEOGRAPH-5165}) missing from current font.\n",
      "  fig.canvas.print_figure(bytes_io, **kw)\n",
      "/home/runner/miniconda3/envs/quantecon/lib/python3.11/site-packages/IPython/core/pylabtools.py:170: UserWarning: Glyph 32447 (\\N{CJK UNIFIED IDEOGRAPH-7EBF}) missing from current font.\n",
      "  fig.canvas.print_figure(bytes_io, **kw)\n",
      "/home/runner/miniconda3/envs/quantecon/lib/python3.11/site-packages/IPython/core/pylabtools.py:170: UserWarning: Glyph 26368 (\\N{CJK UNIFIED IDEOGRAPH-6700}) missing from current font.\n",
      "  fig.canvas.print_figure(bytes_io, **kw)\n",
      "/home/runner/miniconda3/envs/quantecon/lib/python3.11/site-packages/IPython/core/pylabtools.py:170: UserWarning: Glyph 20248 (\\N{CJK UNIFIED IDEOGRAPH-4F18}) missing from current font.\n",
      "  fig.canvas.print_figure(bytes_io, **kw)\n",
      "/home/runner/miniconda3/envs/quantecon/lib/python3.11/site-packages/IPython/core/pylabtools.py:170: UserWarning: Glyph 35299 (\\N{CJK UNIFIED IDEOGRAPH-89E3}) missing from current font.\n",
      "  fig.canvas.print_figure(bytes_io, **kw)\n"
     ]
    },
    {
     "data": {
      "image/png": "[encoded data removed]",
      "text/plain": [
       "<Figure size 640x480 with 1 Axes>"
      ]
     },
     "metadata": {},
     "output_type": "display_data"
    }
   ],
   "source": [
    "fig, ax = plt.subplots()\n",
    "#绘制约束\n",
    "ax.set_xlim(0,15)\n",
    "ax.set_ylim(0,10)\n",
    "x1 = np.linspace(0, 15)\n",
    "ax.plot(x1, 6-0.4*x1, label=\"$2x_1 + 5x_2=30$\")\n",
    "ax.plot(x1, 10-2*x1, label=\"$4x_1 + 2x_2=20$\")\n",
    "\n",
    "\n",
    "# 绘制可行区域\n",
    "feasible_set = Polygon(np.array([[0, 0],[0, 6],[2.5, 5],[5, 0]]), alpha=0.1)\n",
    "ax.add_patch(feasible_set)\n",
    "\n",
    "# 绘制目标函数\n",
    "ax.plot(x1, 3.875-0.75*x1, label=\"等收入线\",color='k',linewidth=0.75)\n",
    "ax.plot(x1, 5.375-0.75*x1, color='k',linewidth=0.75)\n",
    "ax.plot(x1, 6.875-0.75*x1, color='k',linewidth=0.75)\n",
    "\n",
    "# 绘制最优解\n",
    "ax.plot(2.5, 5, \".\", label=\"最优解\")\n",
    "ax.set_xlabel(\"$x_1$\")\n",
    "ax.set_ylabel(\"$x_2$\")\n",
    "ax.legend()\n",
    "\n",
    "plt.show()"
   ]
  },
  {
   "cell_type": "markdown",
   "id": "3d5c26dd",
   "metadata": {},
   "source": [
    "蓝色区域是可行集合，在该集合内所有约束都得到了满足。\n",
    "\n",
    "平行的黑线是等收入线。\n",
    "\n",
    "公司的目标是找到与可行集合上边界平行的黑线。\n",
    "\n",
    "可行集合与最高黑线的交点界定了最优集合。\n",
    "\n",
    "在这个例子中，最优集合是点 $(2.5, 5)$。\n",
    "\n",
    "### 计算：使用 OR-Tools\n",
    "\n",
    "让我们尝试使用 `ortools.linear_solver` 包来解决同样的问题。\n",
    "\n",
    "下面的单元格实例化一个求解器，并创建两个变量，指定它们可以具有的值范围。"
   ]
  },
  {
   "cell_type": "code",
   "execution_count": 4,
   "id": "dee063d6",
   "metadata": {},
   "outputs": [],
   "source": [
    "# 实例化一个 GLOP（Google 线性优化包）求解器。\n",
    "solver = pywraplp.Solver.CreateSolver('GLOP')"
   ]
  },
  {
   "cell_type": "markdown",
   "id": "dc3a78fa",
   "metadata": {},
   "source": [
    "让我们创建两个变量 $x_1$ 和 $x_2$，使它们只能取非负值。"
   ]
  },
  {
   "cell_type": "code",
   "execution_count": 5,
   "id": "a4361751",
   "metadata": {},
   "outputs": [],
   "source": [
    "# 创建这两个变量，并让它们可以取任何非负值。\n",
    "x1 = solver.NumVar(0, solver.infinity(), 'x1')\n",
    "x2 = solver.NumVar(0, solver.infinity(), 'x2')"
   ]
  },
  {
   "cell_type": "markdown",
   "id": "8c2d1d5c",
   "metadata": {},
   "source": [
    "向问题中添加约束条件。"
   ]
  },
  {
   "cell_type": "code",
   "execution_count": 6,
   "id": "a5ac486b",
   "metadata": {},
   "outputs": [
    {
     "data": {
      "text/plain": [
       "<ortools.linear_solver.pywraplp.Constraint; proxy of <Swig Object of type 'operations_research::MPConstraint *' at 0x7f271938fd20> >"
      ]
     },
     "execution_count": 6,
     "metadata": {},
     "output_type": "execute_result"
    }
   ],
   "source": [
    "# 约束 1: 2x_1 + 5x_2 <= 30.0\n",
    "solver.Add(2 * x1 + 5 * x2 <= 30.0)\n",
    "\n",
    "# 约束 2: 4x_1 + 2x_2 <= 20.0\n",
    "solver.Add(4 * x1 + 2 * x2 <= 20.0)"
   ]
  },
  {
   "cell_type": "markdown",
   "id": "58978348",
   "metadata": {},
   "source": [
    "让我们指定目标函数。我们在希望最大化目标函数时使用 `solver.Maximize` 方法，而在希望最小化时可以使用 `solver.Minimize`。"
   ]
  },
  {
   "cell_type": "code",
   "execution_count": 7,
   "id": "e2a412f5",
   "metadata": {},
   "outputs": [],
   "source": [
    "# 目标函数: 3x_1 + 4x_2\n",
    "solver.Maximize(3 * x1 + 4 * x2)"
   ]
  },
  {
   "cell_type": "markdown",
   "id": "61ff8ccf",
   "metadata": {},
   "source": [
    "一旦我们解决了问题，就可以检查求解器是否成功解决了问题，方法是查看其状态。如果成功，则状态将等于 `pywraplp.Solver.OPTIMAL`。"
   ]
  },
  {
   "cell_type": "code",
   "execution_count": 8,
   "id": "f9ea32ad",
   "metadata": {},
   "outputs": [
    {
     "name": "stdout",
     "output_type": "stream",
     "text": [
      "Objective value = 27.5\n",
      "(x1, x2): (2.5, 5.0)\n"
     ]
    }
   ],
   "source": [
    "# 求解系统\n",
    "status = solver.Solve()\n",
    "\n",
    "if status == pywraplp.Solver.OPTIMAL:\n",
    "    print('Objective value =', solver.Objective().Value())\n",
    "    print(f'(x1, x2): ({x1.solution_value():.2}, {x2.solution_value():.2})')\n",
    "else:\n",
    "    print('该问题没有最优解。')"
   ]
  },
  {
   "cell_type": "markdown",
   "id": "a62bc194",
   "metadata": {},
   "source": [
    "## 示例 2：投资问题\n",
    "\n",
    "我们现在考虑一个由 {cite}`hu_guo2018` 提出的并解决的问题。\n",
    "\n",
    "一个共同基金有 $100,000 美元$ 可在三年内投资。\n",
    "\n",
    "有三种投资选择可供选择：\n",
    "\n",
    "1. 年金：基金可以在每年的开始支付相同金额的新资本，并在第三年末获得投资总资本的130\\%的收益。一旦共同基金决定投资于此年金，它必须在三年内持续投资。\n",
    "\n",
    "2. 银行账户：基金可以在每年的开始存入任何金额，并在该年末获得其资本加上6\\%的利息。此外，共同基金被允许每年在开始时借款不超过 $20,000，并被要求在年末偿还借款金额加上6\\%的利息。共同基金可以选择在每年的开始存款或借款。\n",
    "\n",
    "3. 企业债券：在第二年的开始，企业债券变得可用。基金可以在第二年开始时购买不超过 $50,000 美元的债券，并在第三年末获得130\\%的投资回报。\n",
    "\n",
    "共同基金的目标是在第三年末最大化其拥有的总回报。\n",
    "\n",
    "我们可以将此表述为一个线性规划问题。\n",
    "\n",
    "让 $x_1$ 表示投入年金的金额，$x_2, x_3, x_4$ 表示三年初的银行存款余额，$x_5$ 表示投资于企业债券的金额。\n",
    "\n",
    "当 $x_2, x_3, x_4$ 为负时，意味着共同基金从银行借款。\n",
    "\n",
    "下表展示了共同基金的决策变量以及上述时序协议：\n",
    "\n",
    "|                | 第1年 | 第2年 | 第3年 |\n",
    "| :------------: | :----: | :----: | :----: |\n",
    "|    年金       | $x_1$  | $x_1$  | $x_1$  |\n",
    "|  银行账户     | $x_2$  | $x_3$  | $x_4$  |\n",
    "| 企业债券      |   0    | $x_5$  |   0    |\n",
    "\n",
    "共同基金的决策过程遵循以下时序协议：\n",
    "\n",
    "1. 在第一年的开始，共同基金决定投资多少在年金中，存入银行多少。该决策受以下约束：\n",
    "\n",
    "   $$\n",
    "   x_1 + x_2 = 100,000\n",
    "   $$\n",
    "\n",
    "2. 在第二年的开始，共同基金的银行余额为 $1.06 x_2$。它必须在年金中保留 $x_1$。它可以选择将 $x_5$ 投入企业债券，并将 $x_3$ 存入银行。这些决策受以下约束：\n",
    "\n",
    "   $$\n",
    "   x_1 + x_5 = 1.06 x_2 - x_3\n",
    "   $$\n",
    "\n",
    "3. 在第三年的开始，共同基金的银行账户余额等于 $1.06 x_3$。它必须再次投资 $x_1$ 在年金中，留下银行账户余额为 $x_4$。这种情况可以用以下约束来总结：\n",
    "\n",
    "   $$\n",
    "   x_1 = 1.06 x_3 - x_4\n",
    "   $$\n",
    "\n",
    "共同基金的目标函数，即其在第三年末的财富为：\n",
    "\n",
    "$$\n",
    "1.30 \\cdot 3x_1 + 1.06 x_4 + 1.30 x_5\n",
    "$$\n",
    "\n",
    "因此，共同基金面临的线性规划为：\n",
    "\n",
    "$$\n",
    "\\begin{aligned}\n",
    "\\max_{x} \\ & 1.30 \\cdot 3x_1 + 1.06 x_4 + 1.30 x_5 \\\\\n",
    "\\mbox{受以下约束 } \\ & x_1 + x_2 = 100,000\\\\\n",
    " & x_1 - 1.06 x_2 + x_3 + x_5 = 0\\\\\n",
    " & x_1 - 1.06 x_3 + x_4 = 0\\\\\n",
    " & x_2 \\ge -20,000\\\\\n",
    " & x_3 \\ge -20,000\\\\\n",
    " & x_4 \\ge -20,000\\\\\n",
    " & x_5 \\le 50,000\\\\\n",
    " & x_j \\ge 0, \\quad j = 1,5\\\\\n",
    " & x_j \\ \\text{无界}, \\quad j = 2,3,4\\\\\n",
    "\\end{aligned}\n",
    "$$\n",
    "\n",
    "\n",
    "### 计算：使用 OR-Tools\n",
    "\n",
    "让我们尝试使用 `ortools.linear_solver` 包来解决上述问题。\n",
    "\n",
    "以下代码实例化一个求解器，并创建两个变量，指定它们可以拥有的值范围。"
   ]
  },
  {
   "cell_type": "code",
   "execution_count": 9,
   "id": "f4a1ef3c",
   "metadata": {},
   "outputs": [],
   "source": [
    "#实例化一个 GLOP（Google 线性优化包）求解器。\n",
    "solver = pywraplp.Solver.CreateSolver('GLOP')"
   ]
  },
  {
   "cell_type": "markdown",
   "id": "197e9bad",
   "metadata": {},
   "source": [
    "让我们创建五个变量 $x_1, x_2, x_3, x_4$ 和 $x_5$，使它们只能取上述约束中定义的值。"
   ]
  },
  {
   "cell_type": "code",
   "execution_count": 10,
   "id": "9e8f22a1",
   "metadata": {},
   "outputs": [],
   "source": [
    "# 使用约束中可用的范围创建变量。\n",
    "x1 = solver.NumVar(0, solver.infinity(), 'x1')\n",
    "x2 = solver.NumVar(-20_000, solver.infinity(), 'x2')\n",
    "x3 = solver.NumVar(-20_000, solver.infinity(), 'x3')\n",
    "x4 = solver.NumVar(-20_000, solver.infinity(), 'x4')\n",
    "x5 = solver.NumVar(0, 50_000, 'x5')"
   ]
  },
  {
   "cell_type": "markdown",
   "id": "8315277e",
   "metadata": {},
   "source": [
    "将约束添加到问题中。"
   ]
  },
  {
   "cell_type": "code",
   "execution_count": 11,
   "id": "80a25cb9",
   "metadata": {},
   "outputs": [
    {
     "data": {
      "text/plain": [
       "<ortools.linear_solver.pywraplp.Constraint; proxy of <Swig Object of type 'operations_research::MPConstraint *' at 0x7f271938fe10> >"
      ]
     },
     "execution_count": 11,
     "metadata": {},
     "output_type": "execute_result"
    }
   ],
   "source": [
    "# 约束 1: x_1 + x_2 = 100,000\n",
    "solver.Add(x1 + x2 == 100_000.0)\n",
    "\n",
    "# 约束 2: x_1 - 1.06 * x_2 + x_3 + x_5 = 0\n",
    "solver.Add(x1 - 1.06 * x2 + x3 + x5 == 0.0)\n",
    "\n",
    "# 约束 3: x_1 - 1.06 * x_3 + x_4 = 0\n",
    "solver.Add(x1 - 1.06 * x3 + x4 == 0.0)"
   ]
  },
  {
   "cell_type": "markdown",
   "id": "58e069f7",
   "metadata": {},
   "source": [
    "让我们指定目标函数。"
   ]
  },
  {
   "cell_type": "code",
   "execution_count": 12,
   "id": "bd7a5790",
   "metadata": {},
   "outputs": [],
   "source": [
    "# 目标函数: 1.30 * 3 * x_1 + 1.06 * x_4 + 1.30 * x_5\n",
    "solver.Maximize(1.30 * 3 * x1 + 1.06 * x4 + 1.30 * x5)"
   ]
  },
  {
   "cell_type": "markdown",
   "id": "c5ef1d1f",
   "metadata": {},
   "source": [
    "让我们解决问题，并使用 `pywraplp.Solver.OPTIMAL` 检查状态。"
   ]
  },
  {
   "cell_type": "code",
   "execution_count": 13,
   "id": "99fd37d2",
   "metadata": {},
   "outputs": [
    {
     "name": "stdout",
     "output_type": "stream",
     "text": [
      "Objective value = 141018.24349792692\n",
      "(x1, x2, x3, x4, x5): (24927.755, 75072.245, 24927.755, 75072.245, 24927.755)\n"
     ]
    }
   ],
   "source": [
    "# 求解系统\n",
    "status = solver.Solve()\n",
    "\n",
    "if status == pywraplp.Solver.OPTIMAL:\n",
    "    print('Objective value =', solver.Objective().Value())\n",
    "    x1_sol = round(x1.solution_value(), 3)\n",
    "    x2_sol = round(x2.solution_value(), 3)\n",
    "    x3_sol = round(x1.solution_value(), 3)\n",
    "    x4_sol = round(x2.solution_value(), 3)\n",
    "    x5_sol = round(x1.solution_value(), 3)\n",
    "    print(f'(x1, x2, x3, x4, x5): ({x1_sol}, {x2_sol}, {x3_sol}, {x4_sol}, {x5_sol})')\n",
    "else:\n",
    "    print('该问题没有最优解。')"
   ]
  },
  {
   "cell_type": "markdown",
   "id": "01124952",
   "metadata": {},
   "source": [
    "OR-Tools 告诉我们，最佳投资策略是：\n",
    "\n",
    "1. 在第一年的开始，互助基金应该购买 $ \\$24,927.755$ 的年金。其银行账户余额应为 $ \\$75,072.245$。\n",
    "\n",
    "2. 在第二年的开始，互助基金应该购买 $ \\$24,927.755$ 的公司债券，并继续投资于年金。其银行余额应为 $ \\$24,927.755$。\n",
    "\n",
    "3. 在第三年的开始，银行余额应为 $ \\$75,072.245$。\n",
    "\n",
    "4. 在第三年结束时，互助基金将从年金和公司债券中获得收益，并偿还其银行贷款。最终，它将拥有 $ \\$141,018.24 $，因此在这三个期间的总净收益率为 $ 41.02\\%$。\n",
    "\n",
    "## 标准形式\n",
    "\n",
    "为了\n",
    "\n",
    "* 统一最初以表面不同形式表述的线性规划问题，以及\n",
    "\n",
    "* 拥有一种便于放入黑盒软件包的形式，\n",
    "\n",
    "花一些精力来描述 **标准形式** 是很有用的。\n",
    "\n",
    "我们的标准形式是：\n",
    "\n",
    "$$\n",
    "\\begin{aligned}\n",
    "\\min_{x} \\ & c_1 x_1 + c_2 x_2 + \\dots + c_n x_n  \\\\\n",
    "\\mbox{受以下约束 } \\ & a_{11} x_1 + a_{12} x_2 + \\dots + a_{1n} x_n = b_1 \\\\\n",
    " & a_{21} x_1 + a_{22} x_2 + \\dots + a_{2n} x_n = b_2 \\\\\n",
    " & \\quad \\vdots \\\\\n",
    " & a_{m1} x_1 + a_{m2} x_2 + \\dots + a_{mn} x_n = b_m \\\\\n",
    " & x_1, x_2, \\dots, x_n \\ge 0 \\\\\n",
    "\\end{aligned}\n",
    "$$\n",
    "\n",
    "让\n",
    "\n",
    "$$\n",
    "A = \\begin{bmatrix}\n",
    "a_{11} & a_{12} & \\dots & a_{1n} \\\\\n",
    "a_{21} & a_{22} & \\dots & a_{2n} \\\\\n",
    "  &   & \\vdots &   \\\\\n",
    "a_{m1} & a_{m2} & \\dots & a_{mn} \\\\\n",
    "\\end{bmatrix}, \\quad\n",
    "b = \\begin{bmatrix} b_1 \\\\ b_2 \\\\ \\vdots \\\\ b_m \\\\ \\end{bmatrix}, \\quad\n",
    "c = \\begin{bmatrix} c_1 \\\\ c_2 \\\\ \\vdots \\\\ c_n \\\\ \\end{bmatrix}, \\quad\n",
    "x = \\begin{bmatrix} x_1 \\\\ x_2 \\\\ \\vdots \\\\ x_n \\\\ \\end{bmatrix}. \\quad\n",
    "$$\n",
    "\n",
    "标准形式的线性规划问题可以简洁地表达为：\n",
    "\n",
    "$$\n",
    "\\begin{aligned}\n",
    "\\min_{x} \\ & c'x \\\\\n",
    "\\mbox{受以下约束} \\ & Ax = b\\\\\n",
    " & x \\geq 0\\\\\n",
    "\\end{aligned}\n",
    "$$ (lpproblem)\n",
    "\n",
    "这里，$Ax = b$ 意味着 $Ax$ 的第 $i$ 个元素等于 $b$ 的第 $i$ 个元素，对于每个 $i$ 都成立。\n",
    "\n",
    "同样，$x \\geq 0$ 意味着 $x_j$ 对于每个 $j$ 都大于等于 $0$。\n",
    "\n",
    "### 有用的变换\n",
    "\n",
    "知道如何将一个最初未以标准形式表述的问题转换为标准形式是很有用的。\n",
    "\n",
    "通过以下步骤，任何线性规划问题都可以转化为一个等效的标准形式线性规划问题。\n",
    "\n",
    "1. 目标函数：如果一个问题最初是一个受限的 *最大化* 问题，我们可以构建一个新的目标函数，该函数是原始目标函数的加法逆。然后转换的问题是一个 *最小化* 问题。\n",
    "\n",
    "2. 决策变量：对于一个变量 $x_j$ 满足 $x_j \\le 0$，我们可以引入一个新变量 $x_j' = - x_j$ 并将其代入原始问题。对于一个对符号没有限制的自由变量 $x_i$，我们可以引入两个新变量 $x_j^+$ 和 $x_j^-$，使得 $x_j^+, x_j^- \\ge 0$，并用 $x_j^+ - x_j^-$ 替换 $x_j$。\n",
    "\n",
    "3. 不等式约束：对于一个不等式约束 $\\sum_{j=1}^n a_{ij}x_j \\le 0$，我们可以引入一个新变量 $s_i$，称为 **松弛变量**，使得 $s_i \\ge 0$，并用 $\\sum_{j=1}^n a_{ij}x_j + s_i = 0$ 替换原始约束。\n",
    "\n",
    "让我们将上述步骤应用于上面描述的两个示例。\n",
    "\n",
    "### 示例 1：生产问题\n",
    "\n",
    "原始问题是：\n",
    "\n",
    "$$\n",
    "\\begin{aligned}\n",
    "\\max_{x_1,x_2} \\ & 3 x_1 + 4 x_2 \\\\\n",
    "\\mbox{受以下约束 } \\ & 2 x_1 + 5 x_2 \\le 30 \\\\\n",
    "& 4 x_1 + 2 x_2 \\le 20 \\\\\n",
    "& x_1, x_2 \\ge 0 \\\\\n",
    "\\end{aligned}\n",
    "$$\n",
    "\n",
    "这个问题等同于以下标准形式的问题：\n",
    "\n",
    "$$\n",
    "\\begin{aligned}\n",
    "\\min_{x_1,x_2} \\ & -(3 x_1 + 4 x_2) \\\\\n",
    "\\mbox{受以下约束 } \\ & 2 x_1 + 5 x_2 + s_1 = 30 \\\\\n",
    "& 4 x_1 + 2 x_2 + s_2 = 20 \\\\\n",
    "& x_1, x_2, s_1, s_2 \\ge 0 \\\\\n",
    "\\end{aligned}\n",
    "$$\n",
    "\n",
    "\n",
    "\n",
    "### 计算：使用 SciPy\n",
    "\n",
    "包 `scipy.optimize` 提供了一个函数 `linprog` 用于求解以下形式的线性规划问题：\n",
    "\n",
    "\n",
    "$$\n",
    "\\begin{aligned}\n",
    "\\min_{x} \\ & c' x  \\\\\n",
    "\\mbox{受以下约束} \\ & A_{ub}x \\le b_{ub} \\\\\n",
    " & A_{eq}x = b_{eq} \\\\\n",
    " & l \\le x \\le u \\\\\n",
    "\\end{aligned}\n",
    "$$\n",
    "\n",
    "$A_{eq}, b_{eq}$ 表示等式约束矩阵和向量，$A_{ub}, b_{ub}$ 表示不等式约束矩阵和向量。\n",
    "\n",
    "```{note}\n",
    "默认情况下，$l = 0$ 且 $u = \\text{None}$，除非通过参数 `bounds` 明确指定。\n",
    "```\n",
    "\n",
    "现在让我们尝试使用 SciPy 解决问题 1。"
   ]
  },
  {
   "cell_type": "code",
   "execution_count": 14,
   "id": "bcc3cdf2",
   "metadata": {},
   "outputs": [],
   "source": [
    "# 构造参数\n",
    "c_ex1 = np.array([3, 4])\n",
    "\n",
    "# 不等式约束\n",
    "A_ex1 = np.array([[2, 5],\n",
    "                  [4, 2]])\n",
    "b_ex1 = np.array([30,20])"
   ]
  },
  {
   "cell_type": "markdown",
   "id": "b93269ab",
   "metadata": {},
   "source": [
    "一旦我们解决了问题，就可以使用布尔属性 `success` 检查求解器是否成功解决了该问题。如果成功，则 `success` 属性被设置为 `True`。"
   ]
  },
  {
   "cell_type": "code",
   "execution_count": 15,
   "id": "0b14410d",
   "metadata": {},
   "outputs": [
    {
     "name": "stdout",
     "output_type": "stream",
     "text": [
      "最优值: 27.5\n",
      "(x1, x2): (2.5, 5.0)\n"
     ]
    }
   ],
   "source": [
    "# 解决问题\n",
    "# 我们在目标上加上负号，因为 linprog 进行最小化\n",
    "res_ex1 = linprog(-c_ex1, A_ub=A_ex1, b_ub=b_ex1)\n",
    "\n",
    "if res_ex1.success:\n",
    "    # 我们使用负号来获得最优值（最大化值）\n",
    "    print('最优值:', -res_ex1.fun)\n",
    "    print(f'(x1, x2): {res_ex1.x[0], res_ex1.x[1]}')\n",
    "else:\n",
    "    print('该问题没有最优解')"
   ]
  },
  {
   "cell_type": "markdown",
   "id": "6f026f87",
   "metadata": {},
   "source": [
    "最优计划告诉工厂生产 $2.5$ 单位的产品 1 和 $5$ 单位的产品 2；这将产生最大化的收入值为 $27.5$。\n",
    "\n",
    "我们将 `linprog` 函数视为一个 *黑箱*。\n",
    "\n",
    "在内部，Python 首先将问题转换为标准形式。\n",
    "\n",
    "为此，对于每个不等式约束，它生成一个松弛变量。\n",
    "\n",
    "这里，松弛变量的向量是一个二维 NumPy 数组，等于 $b_{ub} - A_{ub}x$。\n",
    "\n",
    "有关更多详细信息，请参见 [官方文档](https://docs.scipy.org/doc/scipy/reference/generated/scipy.optimize.linprog.html#scipy.optimize.linprog)。\n",
    "\n",
    "```{note}\n",
    "这个问题是为了最大化目标，因此我们需要在参数向量 $c$ 前面加上负号。\n",
    "```\n",
    "\n",
    "\n",
    "\n",
    "### 示例 2：投资问题\n",
    "\n",
    "原始问题是：\n",
    "\n",
    "$$\n",
    "\\begin{aligned}\n",
    "\\max_{x} \\ & 1.30 \\cdot 3x_1 + 1.06 x_4 + 1.30 x_5 \\\\\n",
    "\\mbox{受以下约束} \\ & x_1 + x_2 = 100,000\\\\\n",
    " & x_1 - 1.06 x_2 + x_3 + x_5 = 0\\\\\n",
    " & x_1 - 1.06 x_3 + x_4 = 0\\\\\n",
    " & x_2 \\ge -20,000\\\\\n",
    " & x_3 \\ge -20,000\\\\\n",
    " & x_4 \\ge -20,000\\\\\n",
    " & x_5 \\le 50,000\\\\\n",
    " & x_j \\ge 0, \\quad j = 1,5\\\\\n",
    " & x_j \\ \\text{无约束}, \\quad j = 2,3,4\\\\\n",
    "\\end{aligned}\n",
    "$$\n",
    "\n",
    "这个问题等同于以下标准形式的问题：\n",
    "\n",
    "$$\n",
    "\\begin{aligned}\n",
    "\\min_{x} \\ & -(1.30 \\cdot 3x_1 + 1.06 x_4^+ - 1.06 x_4^- + 1.30 x_5) \\\\\n",
    "\\mbox{受以下约束：} \\ & x_1 + x_2^+ - x_2^- = 100,000\\\\\n",
    " & x_1 - 1.06 (x_2^+ - x_2^-) + x_3^+ - x_3^- + x_5 = 0\\\\\n",
    " & x_1 - 1.06 (x_3^+ - x_3^-) + x_4^+ - x_4^- = 0\\\\\n",
    " & x_2^- - x_2^+ + s_1 = 20,000\\\\\n",
    " & x_3^- - x_3^+ + s_2 = 20,000\\\\\n",
    " & x_4^- - x_4^+ + s_3 = 20,000\\\\\n",
    " & x_5 + s_4 = 50,000\\\\\n",
    " & x_j \\ge 0, \\quad j = 1,5\\\\\n",
    " & x_j^+, x_j^- \\ge 0, \\quad j = 2,3,4\\\\\n",
    " & s_j \\ge 0, \\quad j = 1,2,3,4\\\\\n",
    "\\end{aligned}\n",
    "$$"
   ]
  },
  {
   "cell_type": "code",
   "execution_count": 16,
   "id": "077e75c0",
   "metadata": {},
   "outputs": [],
   "source": [
    "# 构造参数\n",
    "rate = 1.06\n",
    "\n",
    "# 目标函数参数\n",
    "c_ex2 = np.array([1.30*3, 0, 0, 1.06, 1.30])\n",
    "\n",
    "# 不等式约束\n",
    "A_ex2 = np.array([[1,  1,  0,  0,  0],\n",
    "                  [1, -rate, 1, 0, 1],\n",
    "                  [1, 0, -rate, 1, 0]])\n",
    "b_ex2 = np.array([100_000, 0, 0])\n",
    "\n",
    "# 决策变量的约束\n",
    "bounds_ex2 = [(  0,    None),\n",
    "              (-20_000, None),\n",
    "              (-20_000, None),\n",
    "              (-20_000, None),\n",
    "              (  0,   50_000)]"
   ]
  },
  {
   "cell_type": "markdown",
   "id": "6f84e014",
   "metadata": {},
   "source": [
    "让我们解决这个问题并检查 `success` 属性的状态。"
   ]
  },
  {
   "cell_type": "code",
   "execution_count": 17,
   "id": "1081073c",
   "metadata": {},
   "outputs": [
    {
     "name": "stdout",
     "output_type": "stream",
     "text": [
      "最优值: 141018.24349792697\n",
      "(x1, x2, x3, x4, x5): (24927.755, 75072.245, 4648.825, -20000.0, 50000.0)\n"
     ]
    }
   ],
   "source": [
    "# 求解问题\n",
    "res_ex2 = linprog(-c_ex2, A_eq=A_ex2, b_eq=b_ex2,\n",
    "                  bounds=bounds_ex2)\n",
    "\n",
    "if res_ex2.success:\n",
    "    # 我们使用负号来获得最优值（最大化值）\n",
    "    print('最优值:', -res_ex2.fun)\n",
    "    x1_sol = round(res_ex2.x[0], 3)\n",
    "    x2_sol = round(res_ex2.x[1], 3)\n",
    "    x3_sol = round(res_ex2.x[2], 3)\n",
    "    x4_sol = round(res_ex2.x[3], 3)\n",
    "    x5_sol = round(res_ex2.x[4], 3)\n",
    "    print(f'(x1, x2, x3, x4, x5): {x1_sol, x2_sol, x3_sol, x4_sol, x5_sol}')\n",
    "else:\n",
    "    print('该问题没有最优解')"
   ]
  },
  {
   "cell_type": "markdown",
   "id": "bc9b4937",
   "metadata": {},
   "source": [
    "SciPy 告诉我们，最佳投资策略是：\n",
    "\n",
    "1. 在第一年的开始，互助基金应购买 $ \\$24,927.75$ 的年金。其银行账户余额应为 $ \\$75,072.25$。\n",
    "\n",
    "2. 在第二年的开始，互助基金应购买 $ \\$50,000 $ 的公司债券，并继续投资于年金。其银行账户余额应为 $ \\$ 4,648.83$。\n",
    "\n",
    "3. 在第三年的开始，互助基金应从银行借款 $ \\$20,000$ 并投资于年金。\n",
    "\n",
    "4. 在第三年末，互助基金将从年金和公司债券中获得收益，并偿还银行贷款。最终将拥有 $ \\$141,018.24 $，因此其在三个时期内的总净回报率为 $ 41.02\\% $。\n",
    "\n",
    "\n",
    "\n",
    "\n",
    "```{note}\n",
    "你可能会注意到使用 OR-Tools 和 SciPy 得到的最优解值有所不同，但最优值是相同的。这是因为同一个问题可能有多个最优解。\n",
    "```\n",
    "\n",
    "\n",
    "\n",
    "## 练习\n",
    "\n",
    "```{exercise-start}\n",
    ":label: lp_intro_ex1\n",
    "```\n",
    "为问题 1 实现一个新的扩展解，其中工厂所有者决定产品 1 的单位数量不得少于产品 2 的单位数量。\n",
    "\n",
    "```{exercise-end}\n",
    "```\n",
    "\n",
    "\n",
    "```{solution-start} lp_intro_ex1\n",
    ":class: dropdown\n",
    "```\n",
    "\n",
    "因此我们可以将问题重新表述为：\n",
    "\n",
    "$$\n",
    "\\begin{aligned}\n",
    "\\max_{x_1,x_2} \\ & z = 3 x_1 + 4 x_2 \\\\\n",
    "\\mbox{受以下约束} \\ & 2 x_1 + 5 x_2 \\le 30 \\\\\n",
    "& 4 x_1 + 2 x_2 \\le 20 \\\\\n",
    "& x_1 \\ge x_2 \\\\\n",
    "& x_1, x_2 \\ge 0 \\\\\n",
    "\\end{aligned}\n",
    "$$"
   ]
  },
  {
   "cell_type": "code",
   "execution_count": 18,
   "id": "2a2d8e37",
   "metadata": {},
   "outputs": [],
   "source": [
    "# 实例化一个 GLOP（Google 线性优化包）求解器\n",
    "solver = pywraplp.Solver.CreateSolver('GLOP')\n",
    "\n",
    "# 创建两个变量，并让它们取任何非负值。\n",
    "x1 = solver.NumVar(0, solver.infinity(), 'x1')\n",
    "x2 = solver.NumVar(0, solver.infinity(), 'x2')"
   ]
  },
  {
   "cell_type": "code",
   "execution_count": 19,
   "id": "3b2cc55c",
   "metadata": {},
   "outputs": [
    {
     "data": {
      "text/plain": [
       "<ortools.linear_solver.pywraplp.Constraint; proxy of <Swig Object of type 'operations_research::MPConstraint *' at 0x7f271938fb10> >"
      ]
     },
     "execution_count": 19,
     "metadata": {},
     "output_type": "execute_result"
    }
   ],
   "source": [
    "# 约束 1: 2x_1 + 5x_2 <= 30.0\n",
    "solver.Add(2 * x1 + 5 * x2 <= 30.0)\n",
    "\n",
    "# 约束 2: 4x_1 + 2x_2 <= 20.0\n",
    "solver.Add(4 * x1 + 2 * x2 <= 20.0)\n",
    "\n",
    "# 约束 3: x_1 >= x_2\n",
    "solver.Add(x1 >= x2)"
   ]
  },
  {
   "cell_type": "code",
   "execution_count": 20,
   "id": "5fe3856e",
   "metadata": {},
   "outputs": [],
   "source": [
    "# 目标函数: 3x_1 + 4x_2\n",
    "solver.Maximize(3 * x1 + 4 * x2)"
   ]
  },
  {
   "cell_type": "code",
   "execution_count": 21,
   "id": "86f129de",
   "metadata": {},
   "outputs": [
    {
     "name": "stdout",
     "output_type": "stream",
     "text": [
      "目标值 = 23.333333333333336\n",
      "(x1, x2): (3.33, 3.33)\n"
     ]
    }
   ],
   "source": [
    "# 求解问题\n",
    "status = solver.Solve()\n",
    "\n",
    "if status == pywraplp.Solver.OPTIMAL:\n",
    "    print('目标值 =', solver.Objective().Value())\n",
    "    x1_sol = round(x1.solution_value(), 2)\n",
    "    x2_sol = round(x2.solution_value(), 2)\n",
    "    print(f'(x1, x2): ({x1_sol}, {x2_sol})')\n",
    "else:\n",
    "    print('该问题没有最优解。')"
   ]
  },
  {
   "cell_type": "markdown",
   "id": "cee34b6e",
   "metadata": {},
   "source": [
    "```{solution-end}\n",
    "```\n",
    "\n",
    "```{exercise-start}\n",
    ":label: lp_intro_ex2\n",
    "```\n",
    "\n",
    "一位木匠制造两种产品 - A 和 B。\n",
    "\n",
    "产品 A 产生的利润为 23 美元，产品 B 产生的利润为 10 美元。\n",
    "\n",
    "生产 A 需要 2 小时，生产 B 需要 0.8 小时。\n",
    "\n",
    "此外，他每周不能花费超过 25 小时，并且 A 和 B 的总数量不能超过 20 个单位。\n",
    "\n",
    "找出他应该制造的 A 和 B 的数量，以最大化他的利润。\n",
    "\n",
    "```{exercise-end}\n",
    "```\n",
    "\n",
    "\n",
    "```{solution-start} lp_intro_ex2\n",
    ":class: dropdown\n",
    "```\n",
    "\n",
    "假设木匠生产 $x$ 单位的 $A$ 和 $y$ 单位的 $B$。\n",
    "\n",
    "我们可以将问题表述为：\n",
    "\n",
    "$$\n",
    "\\begin{aligned}\n",
    "\\max_{x,y} \\ & z = 23 x + 10 y \\\\\n",
    "\\mbox{受以下约束} \\ & x + y \\le 20 \\\\\n",
    "& 2 x + 0.8 y \\le 25 \\\\\n",
    "\\end{aligned}\n",
    "$$"
   ]
  },
  {
   "cell_type": "code",
   "execution_count": 22,
   "id": "35345403",
   "metadata": {},
   "outputs": [],
   "source": [
    "# 实例化一个GLOP（谷歌线性优化包）求解器\n",
    "solver = pywraplp.Solver.CreateSolver('GLOP')"
   ]
  },
  {
   "cell_type": "markdown",
   "id": "5e60d9a6",
   "metadata": {},
   "source": [
    "让我们创建两个变量 $x_1$ 和 $x_2$，使它们只能取非负值。"
   ]
  },
  {
   "cell_type": "code",
   "execution_count": 23,
   "id": "3cf2f019",
   "metadata": {},
   "outputs": [],
   "source": [
    "# 创建这两个变量，并让它们取任何非负值。\n",
    "x = solver.NumVar(0, solver.infinity(), 'x')\n",
    "y = solver.NumVar(0, solver.infinity(), 'y')"
   ]
  },
  {
   "cell_type": "code",
   "execution_count": 24,
   "id": "b9b1a95a",
   "metadata": {},
   "outputs": [
    {
     "data": {
      "text/plain": [
       "<ortools.linear_solver.pywraplp.Constraint; proxy of <Swig Object of type 'operations_research::MPConstraint *' at 0x7f271938f4e0> >"
      ]
     },
     "execution_count": 24,
     "metadata": {},
     "output_type": "execute_result"
    }
   ],
   "source": [
    "# 约束 1: x + y <= 20.0\n",
    "solver.Add(x + y <= 20.0)\n",
    "\n",
    "# 约束 2: 2x + 0.8y <= 25.0\n",
    "solver.Add(2 * x + 0.8 * y <= 25.0)"
   ]
  },
  {
   "cell_type": "code",
   "execution_count": 25,
   "id": "184ab1f7",
   "metadata": {},
   "outputs": [],
   "source": [
    "# 目标函数: 23x + 10y\n",
    "solver.Maximize(23 * x + 10 * y)"
   ]
  },
  {
   "cell_type": "code",
   "execution_count": 26,
   "id": "bd4c4d67",
   "metadata": {},
   "outputs": [
    {
     "name": "stdout",
     "output_type": "stream",
     "text": [
      "最大利润 = 297.5\n",
      "(x, y): (7.5, 12.5)\n"
     ]
    }
   ],
   "source": [
    "# 求解问题\n",
    "status = solver.Solve()\n",
    "\n",
    "if status == pywraplp.Solver.OPTIMAL:\n",
    "    print('最大利润 =', solver.Objective().Value())\n",
    "    x_sol = round(x.solution_value(), 3)\n",
    "    y_sol = round(y.solution_value(), 3)\n",
    "    print(f'(x, y): ({x_sol}, {y_sol})')\n",
    "else:\n",
    "    print('该问题没有最优解。')"
   ]
  },
  {
   "cell_type": "markdown",
   "id": "81feabc5",
   "metadata": {},
   "source": [
    "```{solution-end}\n",
    "```"
   ]
  }
 ],
 "metadata": {
  "jupytext": {
   "text_representation": {
    "extension": ".md",
    "format_name": "myst"
   }
  },
  "kernelspec": {
   "display_name": "Python 3 (ipykernel)",
   "language": "python",
   "name": "python3"
  },
  "language_info": {
   "codemirror_mode": {
    "name": "ipython",
    "version": 3
   },
   "file_extension": ".py",
   "mimetype": "text/x-python",
   "name": "python",
   "nbconvert_exporter": "python",
   "pygments_lexer": "ipython3",
   "version": "3.11.9"
  },
  "source_map": [
   10,
   18,
   23,
   50,
   56,
   99,
   128,
   146,
   149,
   153,
   157,
   161,
   167,
   171,
   174,
   178,
   187,
   269,
   272,
   276,
   283,
   287,
   296,
   301,
   304,
   308,
   322,
   447,
   455,
   459,
   470,
   527,
   546,
   551,
   567,
   615,
   624,
   635,
   640,
   651,
   690,
   693,
   696,
   702,
   710,
   715,
   726
  ]
 },
 "nbformat": 4,
 "nbformat_minor": 5
}