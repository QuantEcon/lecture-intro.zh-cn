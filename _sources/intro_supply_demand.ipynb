{
 "cells": [
  {
   "cell_type": "markdown",
   "id": "735e349b",
   "metadata": {},
   "source": [
    "# 供给与需求导论\n",
    "\n",
    "## 概述\n",
    "\n",
    "本讲座涉及均衡价格和数量的一些模型，这是基础微观经济学的核心主题之一。\n",
    "\n",
    "在整个讲座中，我们将重点关注只有一种商品和一个价格的模型。\n",
    "\n",
    "```{seealso}\n",
    "在{doc}`后续讲座 <supply_demand_multiple_goods>`中，我们将研究涉及多种商品的情况。\n",
    "```\n",
    "### 为什么这个模型很重要？\n",
    "\n",
    "在15、16、17和18世纪，重商主义思想在大多数欧洲国家的统治者中占据主导地位。\n",
    "\n",
    "出口被认为是好的，因为它带来了金银（黄金流入国内）。\n",
    "\n",
    "进口被认为是不好的，因为需要用金银来支付（黄金流出）。\n",
    "\n",
    "这种[零和](https://baike.baidu.com/item/%E9%9B%B6%E5%92%8C%E5%8D%9A%E5%BC%88/3562463)经济观最终被古典经济学家如[亚当·斯密](https://baike.baidu.com/item/%E4%BA%9A%E5%BD%93%C2%B7%E6%96%AF%E5%AF%86/972521?fromModule=lemma_search-box)和[大卫·李嘉图](https://baike.baidu.com/item/%E5%A4%A7%E5%8D%AB%C2%B7%E6%9D%8E%E5%98%89%E5%9B%BE?fromModule=lemma_search-box)的工作推翻，他们展示了如何通过放开国内和国际贸易来提高福利。\n",
    "\n",
    "这一观点在经济学中有许多不同的表达方式。\n",
    "\n",
    "本讲座讨论了其中最简单的一种：价格的自由调整如何能在单一商品市场中最大化社会福利的衡量标准。\n",
    "\n",
    "### 主题和函数库\n",
    "\n",
    "在本讲座中，我们将遇到的关键基础概念包括：\n",
    "\n",
    "* 反需求曲线\n",
    "* 反供给曲线\n",
    "* 消费者剩余\n",
    "* 生产者剩余\n",
    "* 积分\n",
    "* 社会福利作为消费者和生产者剩余的总和\n",
    "* 均衡数量与社会福利最优之间的关系\n",
    "\n",
    "在我们的讲解中，我们将导入以下Python库。"
   ]
  },
  {
   "cell_type": "code",
   "execution_count": null,
   "id": "e8b437a9",
   "metadata": {},
   "outputs": [],
   "source": [
    "import numpy as np\n",
    "import matplotlib.pyplot as plt\n",
    "from collections import namedtuple\n",
    "\n",
    "import matplotlib as mpl\n",
    "FONTPATH = \"fonts/SourceHanSerifSC-SemiBold.otf\"\n",
    "mpl.font_manager.fontManager.addfont(FONTPATH)\n",
    "plt.rcParams['font.family'] = ['Source Han Serif SC']"
   ]
  },
  {
   "cell_type": "markdown",
   "id": "cae529c7",
   "metadata": {},
   "source": [
    "在我们研究供给和需求模型之前，了解一些关于（a）消费者和生产者剩余以及（b）积分的背景知识会很有帮助。\n",
    "\n",
    "（如果你对这两个内容都很熟悉，可以跳到{ref}`下一节 <integration>`。）\n",
    "\n",
    "### 一个离散的例子\n",
    "\n",
    "关于消费者剩余，假设我们有一种商品和10个消费者。\n",
    "\n",
    "这10个消费者有不同的偏好；尤其是他们愿意为一单位商品支付的金额各不相同。\n",
    "\n",
    "假设这10个消费者的支付意愿如下：\n",
    "\n",
    "| 消费者 | 1  | 2  | 3  | 4  | 5  | 6  | 7  | 8  | 9  | 10 |\n",
    "|--------|----|----|----|----|----|----|----|----|----|----|\n",
    "| 支付意愿 | 98 | 72 | 41 | 38 | 29 | 21 | 17 | 12 | 11 | 10 |\n",
    "\n",
    "（我们按支付意愿从高到低排列了消费者。）\n",
    "\n",
    "如果 $p$ 是商品的价格，$w_i$ 是消费者 $i$ 愿意支付的金额，那么当 $w_i \\geq p$ 时，$i$ 会购买。\n",
    "\n",
    "```{note}\n",
    "如果 $p=w_i$，消费者对购买与否没有区别；我们假设他们会选择购买。\n",
    "```\n",
    "第 $i$ 个消费者的**消费者剩余**是 $\\max\\{w_i - p, 0\\}$\n",
    "\n",
    "* 如果 $w_i \\geq p$，那么消费者购买并获得剩余 $w_i - p$\n",
    "* 如果 $w_i < p$，那么消费者不购买并获得剩余 $0$\n",
    "\n",
    "例如，如果价格是 $p=40$，那么消费者1获得的剩余是 $98-40=58$。\n",
    "\n",
    "下面的柱状图显示了当 $p=25$ 时每个消费者的剩余。\n",
    "\n",
    "每个柱 $i$ 的总高度是消费者 $i$ 的支付意愿。\n",
    "\n",
    "其中橙色部分显示了消费者剩余。"
   ]
  },
  {
   "cell_type": "code",
   "execution_count": null,
   "id": "e44ad9cd",
   "metadata": {
    "mystnb": {
     "figure": {
      "caption": "支付意愿（离散）",
      "name": "wpdisc"
     }
    }
   },
   "outputs": [],
   "source": [
    "fig, ax = plt.subplots()\n",
    "consumers = range(1, 11) # 消费者 1,..., 10\n",
    "# 每个消费者的支付意愿\n",
    "wtp = (98, 72, 41, 38, 29, 21, 17, 12, 11, 10)\n",
    "price = 25\n",
    "ax.bar(consumers, wtp, label=\"消费者剩余\", color=\"darkorange\", alpha=0.8)\n",
    "ax.plot((0, 12), (price, price), lw=2, label=\"价格 $p$\")\n",
    "ax.bar(consumers, [min(w, price) for w in wtp], color=\"black\", alpha=0.6)\n",
    "ax.set_xlim(0, 12)\n",
    "ax.set_xticks(consumers)\n",
    "ax.set_ylabel(\"支付意愿, 价格\")\n",
    "ax.set_xlabel(\"消费者, 数量\")\n",
    "ax.legend()\n",
    "plt.show()"
   ]
  },
  {
   "cell_type": "markdown",
   "id": "cc2d2e0d",
   "metadata": {},
   "source": [
    "这个市场的总消费者剩余是\n",
    "$$ \n",
    "\\sum_{i=1}^{10} \\max\\{w_i - p, 0\\}\n",
    "= \\sum_{w_i \\geq p} (w_i - p)\n",
    "$$\n",
    "\n",
    "由于消费者 $i$ 的消费者剩余 $\\max\\{w_i-p,0\\}$ 是衡量其贸易收益的一种方式（也就是说商品的价值超过消费者必须支付的金额的程度），将总消费者剩余视为衡量消费者福利的一种方法是合理的。\n",
    "\n",
    "稍后我们将进一步探讨这个想法，考虑不同的价格如何导致消费者和生产者的不同福利结果。\n",
    "\n",
    "### 关于数量的说明\n",
    "\n",
    "注意，在图中，横轴标记为\"消费者，数量\"。\n",
    "\n",
    "我们在这里添加了\"数量\"，因为我们可以从这个轴上读取售出的单位数量，暂时假设有卖家愿意以当前市场价格 $p$ 出售消费者需求的任意数量。\n",
    "\n",
    "在这个例子中，消费者1到5购买，售出的数量是5。\n",
    "\n",
    "接下来，我们将去掉卖家会以给定价格提供任意数量的假设，并研究这将如何改变这个结果。\n",
    "\n",
    "### 连续近似\n",
    "\n",
    "假设有\"非常多\"的消费者通常很方便，这样支付意愿就变成了一条连续曲线。\n",
    "\n",
    "和之前一样，纵轴衡量支付意愿，而横轴衡量数量。\n",
    "\n",
    "这种曲线被称为**反向需求曲线**。\n",
    "\n",
    "下面提供了一个例子，显示了反向需求曲线和一个设定价格。\n",
    "\n",
    "反向需求曲线由以下公式给出：\n",
    "\n",
    "$$\n",
    "p = 100 e^{-q} \n",
    "$$"
   ]
  },
  {
   "cell_type": "code",
   "execution_count": null,
   "id": "44bcafa0",
   "metadata": {
    "mystnb": {
     "figure": {
      "caption": "支付意愿（连续）",
      "name": "wpcont"
     }
    }
   },
   "outputs": [],
   "source": [
    "def inverse_demand(q):\n",
    "    return 100 * np.exp(- q)\n",
    "\n",
    "# 建立 q 的取值空间来绘制函数\n",
    "q_min, q_max = 0, 5\n",
    "q_grid = np.linspace(q_min, q_max, 1000)\n",
    "\n",
    "# 绘制反需求曲线\n",
    "fig, ax = plt.subplots()\n",
    "ax.plot((q_min, q_max), (price, price), lw=2, label=\"价格\")\n",
    "ax.plot(q_grid, inverse_demand(q_grid), \n",
    "        color=\"orange\", label=\"反需求曲线\")\n",
    "ax.set_ylabel(\"支付意愿, 价格\")\n",
    "ax.set_xlabel(\"数量\")\n",
    "ax.set_xlim(q_min, q_max)\n",
    "ax.set_ylim(0, 110)\n",
    "ax.legend()\n",
    "plt.show()"
   ]
  },
  {
   "cell_type": "markdown",
   "id": "19a964b0",
   "metadata": {},
   "source": [
    "通过类比离散情况进行推理，反向需求曲线下方且在价格上方的面积之和被称为**消费者剩余**，它是衡量消费者交易总收益的一个指标。\n",
    "\n",
    "消费者剩余在下图中以阴影表示。"
   ]
  },
  {
   "cell_type": "code",
   "execution_count": null,
   "id": "a9c056c2",
   "metadata": {
    "mystnb": {
     "figure": {
      "caption": "支付意愿（连续）和消费者剩余",
      "name": "wpcont_cs"
     }
    }
   },
   "outputs": [],
   "source": [
    "# 求解支付意愿与价格相等时的 q 值\n",
    "q_star = np.log(100) - np.log(price)\n",
    "\n",
    "fig, ax = plt.subplots()\n",
    "ax.plot((q_min, q_max), (price, price), lw=2, label=\"价格\")\n",
    "ax.plot(q_grid, inverse_demand(q_grid), \n",
    "        color=\"orange\", label=\"反需求曲线\")\n",
    "small_grid = np.linspace(0, q_star, 500)\n",
    "ax.fill_between(small_grid, np.full(len(small_grid), price),\n",
    "                inverse_demand(small_grid), color=\"orange\",\n",
    "                alpha=0.5, label=\"消费者剩余\")\n",
    "ax.vlines(q_star, 0, price, ls=\"--\")\n",
    "ax.set_ylabel(\"支付意愿, 价格\")\n",
    "ax.set_xlabel(\"数量\")\n",
    "ax.set_xlim(q_min, q_max)\n",
    "ax.set_ylim(0, 110)\n",
    "ax.text(q_star, -10, \"$q^*$\")\n",
    "ax.legend()\n",
    "plt.show()"
   ]
  },
  {
   "cell_type": "markdown",
   "id": "95bd5a19",
   "metadata": {},
   "source": [
    "其中$q^*$的值是反需求曲线与价格相交的点。\n",
    "\n",
    "## 生产者剩余\n",
    "\n",
    "在讨论了需求之后，让我们现在转向市场的供给方。\n",
    "\n",
    "### 离散情况\n",
    "\n",
    "下图显示了一组编号从 1 到 10 的生产者愿意出售一单位该商品的价格"
   ]
  },
  {
   "cell_type": "code",
   "execution_count": null,
   "id": "25b11b96",
   "metadata": {
    "mystnb": {
     "figure": {
      "caption": "出售意愿（离散）",
      "name": "wsdisc"
     }
    }
   },
   "outputs": [],
   "source": [
    "fig, ax = plt.subplots()\n",
    "producers = range(1, 11) # 生产者 1,..., 10\n",
    "# 每个生产者的出售意愿\n",
    "wts = (5, 8, 17, 22, 35, 39, 46, 57, 88, 91)\n",
    "price = 25\n",
    "ax.bar(producers, wts, label=\"出售意愿\", color=\"green\", alpha=0.5)\n",
    "ax.set_xlim(0, 12)\n",
    "ax.set_xticks(producers)\n",
    "ax.set_ylabel(\"出售意愿\")\n",
    "ax.set_xlabel(\"生产者\")\n",
    "ax.legend()\n",
    "plt.show()"
   ]
  },
  {
   "cell_type": "markdown",
   "id": "b661aecf",
   "metadata": {},
   "source": [
    "让 $v_i$ 为生产者 $i$ 愿意出售商品的价格。\n",
    "\n",
    "当价格为 $p$ 时，生产者 $i$ 的生产者剩余为 $\\max\\{p - v_i, 0\\}$。\n",
    "\n",
    "例如，一个愿意以 10 美元价格出售并且以 20 美元价格售出的生产者可以获得 10 美元的剩余。\n",
    "\n",
    "总生产者剩余由以下公式给出：\n",
    "\n",
    "$$\n",
    "\\sum_{i=1}^{10} \\max\\{p - v_i, 0\\}\n",
    "= \\sum_{p \\geq v_i} (p - v_i)\n",
    "$$\n",
    "\n",
    "与消费者的情况一样，将生产者的出售意愿近似为连续曲线对分析有帮助。\n",
    "\n",
    "这条曲线被称为**反供给曲线**。\n",
    "\n",
    "我们在下面展示了一个例子，其中反供给曲线为：\n",
    "\n",
    "$$\n",
    "p = 2 q^2\n",
    "$$\n",
    "\n",
    "阴影部分是这个连续模型中的总生产者剩余。"
   ]
  },
  {
   "cell_type": "code",
   "execution_count": null,
   "id": "f7bf751d",
   "metadata": {
    "mystnb": {
     "figure": {
      "caption": "出售意愿（连续）和生产者剩余",
      "name": "wscont"
     }
    }
   },
   "outputs": [],
   "source": [
    "def inverse_supply(q):\n",
    "    return 2 * q**2\n",
    "\n",
    "# 求解出售意愿与价格相等时的 q 值\n",
    "q_star = (price / 2)**(1/2)\n",
    "\n",
    "# 绘制反供给曲线\n",
    "fig, ax = plt.subplots()\n",
    "ax.plot((q_min, q_max), (price, price), lw=2, label=\"价格\")\n",
    "ax.plot(q_grid, inverse_supply(q_grid), \n",
    "        color=\"green\", label=\"反供给曲线\")\n",
    "small_grid = np.linspace(0, q_star, 500)\n",
    "ax.fill_between(small_grid, inverse_supply(small_grid), \n",
    "                np.full(len(small_grid), price), \n",
    "                color=\"green\",\n",
    "                alpha=0.5, label=\"生产者剩余\")\n",
    "ax.vlines(q_star, 0, price, ls=\"--\")\n",
    "ax.set_ylabel(\"出售意愿, 价格\")\n",
    "ax.set_xlabel(\"数量\")\n",
    "ax.set_xlim(q_min, q_max)\n",
    "ax.set_ylim(0, 60)\n",
    "ax.text(q_star, -10, \"$q^*$\")\n",
    "ax.legend()\n",
    "plt.show()"
   ]
  },
  {
   "cell_type": "markdown",
   "id": "9fcd69ae",
   "metadata": {},
   "source": [
    "(integration)=\n",
    "## 积分\n",
    "\n",
    "在连续情况下，我们如何计算消费者和生产者剩余呢？\n",
    "\n",
    "简短的答案是：通过使用[积分](https://baike.baidu.com/item/%E7%A7%AF%E5%88%86/5749068)。\n",
    "\n",
    "一些读者可能已经熟悉积分的基础知识。\n",
    "\n",
    "对于那些不熟悉的读者，这里是一个简短的介绍。\n",
    "\n",
    "一般来说，对于函数 $f$，$f$ 在区间 $[a, b]$ 上的**积分**是 $f$ 在 $a$ 和 $b$ 之间的曲线下面积。\n",
    "\n",
    "这个值写作 $\\int_a^b f(x) \\mathrm{d} x$，下图展示了当 $f(x) = \\cos(x/2) + 1$ 时的情况。"
   ]
  },
  {
   "cell_type": "code",
   "execution_count": null,
   "id": "3461b593",
   "metadata": {
    "mystnb": {
     "figure": {
      "caption": "曲线下面积",
      "name": "integrate"
     }
    }
   },
   "outputs": [],
   "source": [
    "def f(x):\n",
    "    return np.cos(x/2) + 1\n",
    "\n",
    "xmin, xmax = 0, 5\n",
    "a, b = 1, 3\n",
    "x_grid = np.linspace(xmin, xmax, 1000)\n",
    "ab_grid = np.linspace(a, b, 400)\n",
    "\n",
    "fig, ax = plt.subplots()\n",
    "ax.plot(x_grid, f(x_grid), label=\"$f$\", color=\"k\")\n",
    "ax.fill_between(ab_grid, [0] * len(ab_grid), f(ab_grid), \n",
    "                label=r\"$\\int_a^b f(x) dx$\")\n",
    "ax.legend()\n",
    "plt.show()"
   ]
  },
  {
   "cell_type": "markdown",
   "id": "1584baf5",
   "metadata": {},
   "source": [
    "计算积分有许多规则，不同的 $f$ 选择适用不同的规则。\n",
    "\n",
    "这些规则中的许多与数学中最美丽和最强大的结果之一有关：[微积分基本定理](https://baike.baidu.com/item/%E7%89%9B%E9%A1%BF-%E8%8E%B1%E5%B8%83%E5%B0%BC%E8%8C%A8%E5%85%AC%E5%BC%8F?fromtitle=%E5%BE%AE%E7%A7%AF%E5%88%86%E5%9F%BA%E6%9C%AC%E5%AE%9A%E7%90%86&fromid=10350012&fromModule=lemma_search-box)。\n",
    "\n",
    "我们不会在这里试图涵盖这些思想，部分原因是因为这个主题太大，部分原因是对于本讲座，你只需要知道下面陈述的一条定理。\n",
    "\n",
    "如果 $f(x) = c + \\mathrm{d} x$，那么\n",
    "\n",
    "$$ \n",
    "\\int_a^b f(x) \\mathrm{d} x = c (b - a) + \\frac{d}{2}(b^2 - a^2) \n",
    "$$\n",
    "\n",
    "事实上，这个规则如此简单，以至于可以通过基本几何计算得出——你可以试着绘制 $f$ 的图形并计算 $a$ 和 $b$ 之间曲线下的面积。\n",
    "\n",
    "在接下来的内容中，我们将反复使用这个定理。\n",
    "\n",
    "## 供给和需求\n",
    "\n",
    "现在让我们把供给和需求放在一起。\n",
    "\n",
    "这将引导我们到非常重要的市场均衡概念，并从那里讨论均衡和福利。\n",
    "\n",
    "在大部分的讨论中，我们假设反需求曲线和反供给曲线是数量的**仿射**函数。\n",
    "\n",
    "```{note}\n",
    "\"仿射\"意味着\"线性加上一个常数\"，[这里](https://math.stackexchange.com/questions/275310/what-is-the-difference-between-linear-and-affine-function)有一个很好的讨论。\n",
    "```\n",
    "\n",
    "在我们研究{doc}`后续讲座 <supply_demand_multiple_goods>`中的多消费品模型时，我们也将假设仿射的反供给和反需求函数。\n",
    "\n",
    "这样做是为了简化说明，并且使我们能够仅使用线性代数的几个工具，即矩阵乘法和矩阵求逆。\n",
    "\n",
    "我们研究一个单一商品市场，买家和卖家以价格 $p$ 交换数量 $q$。\n",
    "\n",
    "数量 $q$ 和价格 $p$ 都是标量。\n",
    "\n",
    "我们假设该商品的反需求曲线和反供给曲线为：\n",
    "\n",
    "$$\n",
    "p = d_0 - d_1 q, \\quad d_0, d_1 > 0\n",
    "$$\n",
    "\n",
    "$$\n",
    "p = s_0 + s_1 q , \\quad s_0, s_1 > 0\n",
    "$$\n",
    "\n",
    "我们称它们为反需求曲线和反供给曲线，因为价格在等式的左侧，而不是直接像需求或供给函数那样在右侧。\n",
    "\n",
    "我们可以使用 [namedtuple](https://docs.python.org/3/library/collections.html#collections.namedtuple) 来存储我们单一商品市场的参数。"
   ]
  },
  {
   "cell_type": "code",
   "execution_count": null,
   "id": "512c20dd",
   "metadata": {},
   "outputs": [],
   "source": [
    "Market = namedtuple('Market', ['d_0', # 需求截距\n",
    "                               'd_1', # 需求斜率\n",
    "                               's_0', # 供给截距\n",
    "                               's_1'] # 供给斜率\n",
    "                   )"
   ]
  },
  {
   "cell_type": "markdown",
   "id": "ff943152",
   "metadata": {},
   "source": [
    "下面的函数创建了一个具有默认值的 Market namedtuple。"
   ]
  },
  {
   "cell_type": "code",
   "execution_count": null,
   "id": "2745e333",
   "metadata": {},
   "outputs": [],
   "source": [
    "def create_market(d_0=1.0, d_1=0.6, s_0=0.1, s_1=0.4):\n",
    "    return Market(d_0=d_0, d_1=d_1, s_0=s_0, s_1=s_1)"
   ]
  },
  {
   "cell_type": "markdown",
   "id": "9253d8b1",
   "metadata": {},
   "source": [
    "这个 `market`可以用来建立 `inverse_demand` 和 `inverse_supply` 函数。"
   ]
  },
  {
   "cell_type": "code",
   "execution_count": null,
   "id": "08180025",
   "metadata": {},
   "outputs": [],
   "source": [
    "def inverse_demand(q, model):\n",
    "    return model.d_0 - model.d_1 * q\n",
    "\n",
    "def inverse_supply(q, model):\n",
    "    return model.s_0 + model.s_1 * q"
   ]
  },
  {
   "cell_type": "markdown",
   "id": "76c64086",
   "metadata": {},
   "source": [
    "下面是这两个函数使用`market`参数的图像。"
   ]
  },
  {
   "cell_type": "code",
   "execution_count": null,
   "id": "740427a9",
   "metadata": {
    "mystnb": {
     "figure": {
      "caption": "供给和需求",
      "name": "supply_demand"
     }
    }
   },
   "outputs": [],
   "source": [
    "market = create_market()\n",
    "\n",
    "grid_min, grid_max, grid_size = 0, 1.5, 200\n",
    "q_grid = np.linspace(grid_min, grid_max, grid_size)\n",
    "supply_curve = inverse_supply(q_grid, market)\n",
    "demand_curve = inverse_demand(q_grid, market)\n",
    "\n",
    "fig, ax = plt.subplots()\n",
    "ax.plot(q_grid, supply_curve, label='供给', color='green')\n",
    "ax.plot(q_grid, demand_curve, label='需求', color='orange')\n",
    "ax.legend(loc='upper center', frameon=False)\n",
    "ax.set_ylim(0, 1.2)\n",
    "ax.set_xticks((0, 1))\n",
    "ax.set_yticks((0, 1))\n",
    "ax.set_xlabel('数量')\n",
    "ax.set_ylabel('价格')\n",
    "plt.show()"
   ]
  },
  {
   "cell_type": "markdown",
   "id": "28139127",
   "metadata": {},
   "source": [
    "在上图中，供给曲线和需求曲线的交点出现**均衡**价格-数量对。\n",
    "\n",
    "### 消费者剩余\n",
    "\n",
    "给定数量 $q$，设 $p := d_0 - d_1 q$ 为反需求曲线上对应的价格。\n",
    "\n",
    "我们将**消费者剩余** $S_c(q)$ 定义为反需求曲线下（且在价格线之上）的面积减去 $p q$:\n",
    "\n",
    "$$\n",
    "S_c(q) := \n",
    "\\int_0^{q} (d_0 - d_1 x) \\mathrm{d} x - p q \n",
    "$$ (eq:cstm_spls)\n",
    "\n",
    "下图说明了这一点"
   ]
  },
  {
   "cell_type": "code",
   "execution_count": null,
   "id": "84e68058",
   "metadata": {
    "mystnb": {
     "figure": {
      "caption": "供给和需求（消费者剩余）",
      "name": "supply_demand_cs"
     }
    },
    "tags": [
     "hide-input"
    ]
   },
   "outputs": [],
   "source": [
    "q = 1.25\n",
    "p = inverse_demand(q, market)\n",
    "ps = np.ones_like(q_grid) * p\n",
    "\n",
    "fig, ax = plt.subplots()\n",
    "ax.plot(q_grid, demand_curve, label='需求', color='orange')\n",
    "ax.fill_between(q_grid[q_grid <= q],\n",
    "                demand_curve[q_grid <= q],\n",
    "                ps[q_grid <= q],\n",
    "                label='消费者剩余',\n",
    "                color=\"orange\", \n",
    "                alpha=0.5)\n",
    "ax.vlines(q, 0, p, linestyle=\"dashed\", color='black', alpha=0.7)\n",
    "ax.hlines(p, 0, q, linestyle=\"dashed\", color='black', alpha=0.7)\n",
    "\n",
    "ax.legend(loc='upper center', frameon=False)\n",
    "ax.set_ylim(0, 1.2)\n",
    "ax.set_xticks((q,))\n",
    "ax.set_xticklabels((\"$q$\",))\n",
    "ax.set_yticks((p,))\n",
    "ax.set_yticklabels((\"$p$\",))\n",
    "ax.set_xlabel('数量')\n",
    "ax.set_ylabel('价格')\n",
    "plt.show()"
   ]
  },
  {
   "cell_type": "markdown",
   "id": "fc3cf2bf",
   "metadata": {},
   "source": [
    "消费者剩余提供了在数量 $q$ 时总消费者福利的衡量。\n",
    "\n",
    "这个概念是基于反向需求曲线 $d_0 - d_1 q$ 显示了消费者在给定数量 $q$ 时对额外增加一单位商品的支付意愿。\n",
    "\n",
    "支付意愿与实际价格之间的差异就是消费者剩余。\n",
    "\n",
    "当总购买数量为 $q$ 且购买价格为 $p$ 时，$S_c(q)$ 值是这些剩余的\"总和\"（即积分）。\n",
    "\n",
    "计算消费者剩余定义中的积分 {eq}`eq:cstm_spls` 得到\n",
    "\n",
    "$$\n",
    "S_c(q) \n",
    "= d_0 q - \\frac{1}{2} d_1 q^2 - p q\n",
    "$$\n",
    "\n",
    "### 生产者剩余\n",
    "\n",
    "给定数量 $q$，设 $p := s_0 + s_1 q$ 为反供给曲线上对应的价格。\n",
    "\n",
    "我们将**生产者剩余**定义为 $p q$ 减去反供给曲线上的面积\n",
    "\n",
    "$$\n",
    "S_p(q) \n",
    ":= p q - \\int_0^q (s_0 + s_1 x) \\mathrm{d} x \n",
    "$$ (eq:pdcr_spls)\n",
    "\n",
    "下图对此进行了说明"
   ]
  },
  {
   "cell_type": "code",
   "execution_count": null,
   "id": "4f3a9f7e",
   "metadata": {
    "mystnb": {
     "figure": {
      "caption": "供给和需求（生产者剩余）",
      "name": "supply_demand_ps"
     }
    },
    "tags": [
     "hide-input"
    ]
   },
   "outputs": [],
   "source": [
    "q = 0.75\n",
    "p = inverse_supply(q, market)\n",
    "ps = np.ones_like(q_grid) * p\n",
    "\n",
    "fig, ax = plt.subplots()\n",
    "ax.plot(q_grid, supply_curve, label='供给', color='green')\n",
    "ax.fill_between(q_grid[q_grid <= q],\n",
    "                supply_curve[q_grid <= q],\n",
    "                ps[q_grid <= q],\n",
    "                label='生产者剩余',\n",
    "                color=\"green\",\n",
    "                alpha=0.5)\n",
    "ax.vlines(q, 0, p, linestyle=\"dashed\", color='black', alpha=0.7)\n",
    "ax.hlines(p, 0, q, linestyle=\"dashed\", color='black', alpha=0.7)\n",
    "\n",
    "ax.legend(loc='upper center', frameon=False)\n",
    "ax.set_ylim(0, 1.2)\n",
    "ax.set_xticks((q,))\n",
    "ax.set_xticklabels((\"$q$\",))\n",
    "ax.set_yticks((p,))\n",
    "ax.set_yticklabels((\"$p$\",))\n",
    "ax.set_xlabel('数量')\n",
    "ax.set_ylabel('价格')\n",
    "plt.show()"
   ]
  },
  {
   "cell_type": "markdown",
   "id": "0bd825be",
   "metadata": {},
   "source": [
    "生产者剩余衡量在数量 $q$ 时的总生产者福利。\n",
    "\n",
    "这个概念与消费者剩余类似。\n",
    "\n",
    "反供给曲线 $s_0 + s_1 q$ 显示了在给定数量 $q$ 时，生产者愿意出售的价格。\n",
    "\n",
    "愿意出售的价格与实际价格之间的差异就是生产者剩余。\n",
    "\n",
    "$S_p(q)$ 值是这些剩余的积分。\n",
    "\n",
    "计算生产者剩余定义中的积分 {eq}`eq:pdcr_spls` 得到\n",
    "\n",
    "$$\n",
    "S_p(q) = pq - s_0 q -  \\frac{1}{2} s_1 q^2\n",
    "$$\n",
    "\n",
    "### 社会福利\n",
    "\n",
    "经济学家有时通过一个**福利准则**来衡量社会福利，假设消费者和生产者支付相同的价格，该准则等于消费者剩余加上生产者剩余：\n",
    "\n",
    "$$\n",
    "W(q)\n",
    "= \\int_0^q (d_0 - d_1 x) dx - \\int_0^q (s_0 + s_1 x) \\mathrm{d} x  \n",
    "$$\n",
    "\n",
    "计算积分得到\n",
    "\n",
    "$$\n",
    "W(q) = (d_0 - s_0) q -  \\frac{1}{2} (d_1 + s_1) q^2\n",
    "$$\n",
    "\n",
    "以下是一个Python函数，用于在给定数量 $q$ 和固定参数集下评估这个社会福利。"
   ]
  },
  {
   "cell_type": "code",
   "execution_count": null,
   "id": "6fedb40e",
   "metadata": {},
   "outputs": [],
   "source": [
    "def W(q, market):\n",
    "    # 计算福利\n",
    "    return (market.d_0 - market.s_0) * q - 0.5 * (market.d_1 + market.s_1) * q**2"
   ]
  },
  {
   "cell_type": "markdown",
   "id": "64f29f10",
   "metadata": {},
   "source": [
    "下图绘制了福利以 $q$ 为自变量的函数。"
   ]
  },
  {
   "cell_type": "code",
   "execution_count": null,
   "id": "a35db993",
   "metadata": {
    "mystnb": {
     "figure": {
      "caption": "福利",
      "name": "wf"
     }
    },
    "tags": [
     "hide-input"
    ]
   },
   "outputs": [],
   "source": [
    "q_vals = np.linspace(0, 1.78, 200)\n",
    "fig, ax = plt.subplots()\n",
    "ax.plot(q_vals, W(q_vals, market), label='福利', color='brown')\n",
    "ax.legend(frameon=False)\n",
    "ax.set_xlabel('数量')\n",
    "plt.show()"
   ]
  },
  {
   "cell_type": "markdown",
   "id": "c42c6707",
   "metadata": {},
   "source": [
    "现在让我们给社会规划者一个最大化社会福利的任务。\n",
    "\n",
    "为了计算使福利准则最大化的数量，我们对 $W$ 关于 $q$ 求导，然后将导数设为零。\n",
    "\n",
    "$$\n",
    "\\frac{\\mathrm{d} W(q)}{\\mathrm{d} q} = d_0 - s_0 - (d_1 + s_1) q  = 0\n",
    "$$\n",
    "\n",
    "解出 $q$ 得到\n",
    "\n",
    "$$\n",
    "q = \\frac{ d_0 - s_0}{s_1 + d_1}\n",
    "$$ (eq:old1)\n",
    "\n",
    "让我们记住方程 {eq}`eq:old1` 给出的数量 $q$，这是社会规划者为最大化消费者剩余加生产者剩余之和而选择的数量。\n",
    "\n",
    "我们将把它与在竞争均衡中出现的、使供给等于需求的数量进行比较。\n",
    "\n",
    "### 竞争均衡\n",
    "\n",
    "我们可以通过使需求价格等于供给价格来达到与使供给数量等于需求数量相同的效果：\n",
    "\n",
    "$$\n",
    "p =  d_0 - d_1 q = s_0 + s_1 q \n",
    "$$\n",
    "\n",
    "如果我们解上面这行中第二个等式定义的方程，得到 $q$，我们得到\n",
    "\n",
    "$$\n",
    "q = \\frac{ d_0 - s_0}{s_1 + d_1}\n",
    "$$ (eq:equilib_q)\n",
    "\n",
    "这就是竞争均衡数量。\n",
    "\n",
    "注意，均衡数量等于方程 {eq}`eq:old1` 给出的相同的 $q$。\n",
    "\n",
    "方程 {eq}`eq:old1` 确定的数量使供给等于需求，这带来了一个**关键发现**：\n",
    "\n",
    "* 竞争均衡数量最大化了我们的福利准则\n",
    "\n",
    "这是[福利经济学第一基本定理](https://baike.baidu.com/item/%E7%A6%8F%E5%88%A9%E7%BB%8F%E6%B5%8E%E5%AD%A6%E7%AC%AC%E4%B8%80%E5%AE%9A%E7%90%86?fromModule=lemma_search-box)的一个版本。\n",
    "它还带来了一个有用的**竞争均衡计算策略**：\n",
    "\n",
    "* 在为最优数量解决福利问题后，我们可以从竞争均衡数量下的供给价格或需求价格中计算出竞争均衡价格\n",
    "\n",
    "## 推广\n",
    "\n",
    "在{doc}`后面的讲座 <supply_demand_multiple_goods>`中，我们将从其他对象推导出上述需求和供给曲线的推广。\n",
    "\n",
    "我们的推广将把前面对单一商品市场的分析扩展到 $n$ 种商品的 $n$ 个同时市场的分析。\n",
    "\n",
    "此外\n",
    "\n",
    "* 我们将从消费者问题中推导出**需求曲线**，该问题在**预算约束**下最大化**效用函数**。\n",
    "* 我们将从生产者问题中推导出**供给曲线**，该生产者是价格接受者，最大化其利润减去由**成本函数**描述的总成本。\n",
    "\n",
    "## 练习\n",
    "\n",
    "现在假设反向需求和反供给曲线被修改为以下形式\n",
    "\n",
    "$$\n",
    "p = i_d(q) := d_0 - d_1 q^{0.6} \n",
    "$$\n",
    "\n",
    "$$\n",
    "p = i_s(q) := s_0 + s_1 q^{1.8} \n",
    "$$\n",
    "\n",
    "和以前一样，所有参数都是正的。\n",
    "\n",
    "```{exercise}\n",
    ":label: isd_ex1\n",
    "\n",
    "使用与之前相同的 `Market` 命名元组来保存参数值，但创建新的 `inverse_demand` 和 `inverse_supply` 函数以匹配这些新定义。\n",
    "\n",
    "然后绘制反向需求曲线 $i_d$ 和反向供给曲线 $i_s$。\n",
    "\n",
    "```\n",
    "\n",
    "```{solution-start} isd_ex1\n",
    ":class: dropdown\n",
    "```\n",
    "让我们按照上面定义的方式更新 `inverse_demand` 和 `inverse_supply` 函数。"
   ]
  },
  {
   "cell_type": "code",
   "execution_count": null,
   "id": "99744580",
   "metadata": {},
   "outputs": [],
   "source": [
    "def inverse_demand(q, model):\n",
    "    return model.d_0 - model.d_1 * q**0.6\n",
    "\n",
    "def inverse_supply(q, model):\n",
    "    return model.s_0 + model.s_1 * q**1.8"
   ]
  },
  {
   "cell_type": "markdown",
   "id": "fa1b0f35",
   "metadata": {},
   "source": [
    "下图绘制了反需求和反供给曲线。"
   ]
  },
  {
   "cell_type": "code",
   "execution_count": null,
   "id": "9febdf6e",
   "metadata": {},
   "outputs": [],
   "source": [
    "grid_min, grid_max, grid_size = 0, 1.5, 200\n",
    "q_grid = np.linspace(grid_min, grid_max, grid_size)\n",
    "market = create_market()\n",
    "supply_curve = inverse_supply(q_grid, market)\n",
    "demand_curve = inverse_demand(q_grid, market)\n",
    "\n",
    "fig, ax = plt.subplots()\n",
    "ax.plot(q_grid, supply_curve, label='供给', color='green')\n",
    "ax.plot(q_grid, demand_curve, label='需求', color='orange')\n",
    "ax.legend(loc='upper center', frameon=False)\n",
    "ax.set_ylim(0, 1.2)\n",
    "ax.set_xticks((0, 1))\n",
    "ax.set_yticks((0, 1))\n",
    "ax.set_xlabel('数量')\n",
    "ax.set_ylabel('价格')\n",
    "plt.show()"
   ]
  },
  {
   "cell_type": "markdown",
   "id": "13b63185",
   "metadata": {},
   "source": [
    "```{solution-end}\n",
    "```\n",
    "```{exercise}\n",
    ":label: isd_ex2\n",
    "\n",
    "如前所述，在数量 $q$ 时的消费者剩余是反需求曲线下的面积减去价格乘以数量：\n",
    "\n",
    "$$\n",
    "S_c(q) = \\int_0^{q} i_d(x) dx - p q \n",
    "$$\n",
    "\n",
    "这里 $p$ 设为 $i_d(q)$。\n",
    "\n",
    "生产者剩余是价格乘以数量减去向供给曲线下的面积：\n",
    "\n",
    "$$\n",
    "S_p(q) \n",
    "= p q - \\int_0^q i_s(x) \\mathrm{d} x \n",
    "$$\n",
    "\n",
    "这里 $p$ 设为 $i_s(q)$。\n",
    "\n",
    "社会福利是消费者剩余和生产者剩余的总和，假设买方和卖方的价格相同：\n",
    "\n",
    "$$\n",
    "W(q)\n",
    "= \\int_0^q i_d(x) dx - \\int_0^q i_s(x) \\mathrm{d} x  \n",
    "$$\n",
    "\n",
    "求解积分并编写一个函数，在给定的 $q$ 处数值计算福利。\n",
    "绘制福利作为 $q$ 的函数的图表。\n",
    "```\n",
    "\n",
    "```{solution-start} isd_ex2\n",
    ":class: dropdown\n",
    "```\n",
    "求解积分得到：\n",
    "\n",
    "$$\n",
    "W(q) \n",
    "= d_0 q - \\frac{d_1 q^{1.6}}{1.6}\n",
    "    - \\left( s_0 q + \\frac{s_1 q^{2.8}}{2.8} \\right)\n",
    "$$\n",
    "\n",
    "以下是一个计算这个值的 Python 函数："
   ]
  },
  {
   "cell_type": "code",
   "execution_count": null,
   "id": "866861ea",
   "metadata": {},
   "outputs": [],
   "source": [
    "def W(q, market):\n",
    "    # 计算福利\n",
    "    S_c = market.d_0 * q - market.d_1 * q**1.6 / 1.6\n",
    "    S_p = market.s_0 * q + market.s_1 * q**2.8 / 2.8\n",
    "    return S_c - S_p"
   ]
  },
  {
   "cell_type": "markdown",
   "id": "6726afdd",
   "metadata": {},
   "source": [
    "下图绘制了福利作为 $q$ 的函数。"
   ]
  },
  {
   "cell_type": "code",
   "execution_count": null,
   "id": "fe5d32e3",
   "metadata": {},
   "outputs": [],
   "source": [
    "fig, ax = plt.subplots()\n",
    "ax.plot(q_vals, W(q_vals, market), label='福利', color='brown')\n",
    "ax.legend(frameon=False)\n",
    "ax.set_xlabel('数量')\n",
    "plt.show()"
   ]
  },
  {
   "cell_type": "markdown",
   "id": "fb5b6f92",
   "metadata": {},
   "source": [
    "```{solution-end}\n",
    "```\n",
    "\n",
    "````{exercise}\n",
    ":label: isd_ex3\n",
    "\n",
    "由于非线性性，新的福利函数不容易用手算来求解最大化。\n",
    "\n",
    "相反，我们可以使用 `scipy.optimize.minimize_scalar` 来求解。\n",
    "\n",
    "```{seealso}\n",
    "我们的 [SciPy](https://python-programming.quantecon.org/scipy.html) 讲座中有一个关于[优化](https://python-programming.quantecon.org/scipy.html#optimization)的章节，这里可以了解更多有用资源。\n",
    "```\n",
    "\n",
    "````\n",
    "\n",
    "```{solution-start} isd_ex3\n",
    ":class: dropdown\n",
    "```"
   ]
  },
  {
   "cell_type": "code",
   "execution_count": null,
   "id": "1353b1d0",
   "metadata": {},
   "outputs": [],
   "source": [
    "from scipy.optimize import minimize_scalar\n",
    "\n",
    "def objective(q):\n",
    "    return -W(q, market)\n",
    "\n",
    "result = minimize_scalar(objective, bounds=(0, 10))\n",
    "print(result.message)"
   ]
  },
  {
   "cell_type": "code",
   "execution_count": null,
   "id": "c61bf7e4",
   "metadata": {},
   "outputs": [],
   "source": [
    "maximizing_q = result.x\n",
    "print(f\"{maximizing_q: .5f}\")"
   ]
  },
  {
   "cell_type": "markdown",
   "id": "4262f600",
   "metadata": {},
   "source": [
    "```{solution-end}\n",
    "```\n",
    "\n",
    "````{exercise}\n",
    ":label: isd_ex4\n",
    "\n",
    "现在通过找到使供给和需求相等的价格来计算均衡数量。\n",
    "\n",
    "我们可以通过寻找超额需求函数的根来数值计算这个价格：\n",
    "\n",
    "$$\n",
    "e_d(q) := i_d(q) - i_s(q) \n",
    "$$\n",
    "\n",
    "我们可以使用 `scipy.optimize.newton` 来计算根。\n",
    "\n",
    "```{seealso}\n",
    "我们的 [SciPy](https://python-programming.quantecon.org/scipy.html) 讲座中有一个关于[根和不动点](https://python-programming.quantecon.org/scipy.html#roots-and-fixed-points)的章节，这是一个了解更多信息的有用资源。\n",
    "```\n",
    "\n",
    "使用接近 1.0 的初始猜测值来初始化 `newton`。（相似的初始条件将给出相同的结果。）\n",
    "\n",
    "我们发现均衡价格与福利最大化价格一致，这符合福利经济学第一基本定理。\n",
    "\n",
    "````\n",
    "\n",
    "```{solution-start} isd_ex4\n",
    ":class: dropdown\n",
    "```"
   ]
  },
  {
   "cell_type": "code",
   "execution_count": null,
   "id": "423da457",
   "metadata": {},
   "outputs": [],
   "source": [
    "from scipy.optimize import newton\n",
    "\n",
    "def excess_demand(q):\n",
    "    return inverse_demand(q, market) - inverse_supply(q, market)\n",
    "\n",
    "equilibrium_q = newton(excess_demand, 0.99)\n",
    "print(f\"{equilibrium_q: .5f}\")"
   ]
  },
  {
   "cell_type": "markdown",
   "id": "c3bdd590",
   "metadata": {},
   "source": [
    "```{solution-end}\n",
    "```"
   ]
  }
 ],
 "metadata": {
  "jupytext": {
   "text_representation": {
    "extension": ".md",
    "format_name": "myst",
    "format_version": 0.13,
    "jupytext_version": "1.15.1"
   }
  },
  "kernelspec": {
   "display_name": "Python 3 (ipykernel)",
   "language": "python",
   "name": "python3"
  },
  "source_map": [
   12,
   52,
   61,
   98,
   119,
   156,
   181,
   187,
   213,
   225,
   244,
   271,
   302,
   319,
   340,
   392,
   398,
   402,
   405,
   409,
   415,
   419,
   443,
   460,
   493,
   523,
   556,
   590,
   594,
   597,
   612,
   698,
   704,
   707,
   724,
   772,
   778,
   781,
   787,
   809,
   819,
   822,
   854,
   862
  ]
 },
 "nbformat": 4,
 "nbformat_minor": 5
}