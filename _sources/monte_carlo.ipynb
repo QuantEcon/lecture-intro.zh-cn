{
 "cells": [
  {
   "cell_type": "markdown",
   "id": "ba5d8a6d",
   "metadata": {},
   "source": [
    "(monte-carlo)=\n",
    "# 蒙特卡罗方法与期权定价\n",
    "\n",
    "## 概览\n",
    "\n",
    "简单的概率计算可以通过以下方式完成：\n",
    "\n",
    "* 用铅笔和纸，\n",
    "* 查询关于著名概率分布的事实，\n",
    "* 在我们的脑海中。\n",
    "\n",
    "例如，我们可以轻松地计算出：\n",
    "\n",
    "* 五次公平硬币翻转中出现三次正面的概率\n",
    "* 一个随机变量的期望值，该变量以 $1/2$ 的概率等于 $-10$，以 $1/2$ 的概率等于 $100$。\n",
    "\n",
    "但是，有些概率计算非常复杂。\n",
    "\n",
    "经济和金融问题中经常出现复杂的概率和期望值计算。\n",
    "\n",
    "或许处理复杂概率计算的最重要工具是[蒙特卡罗方法](https://en.wikipedia.org/wiki/Monte_Carlo_method)。\n",
    "\n",
    "在这个讲座中，我们将介绍用于计算期望值的蒙特卡罗方法，以及在金融中的一些应用。\n",
    "\n",
    "我们将使用以下导入。"
   ]
  },
  {
   "cell_type": "code",
   "execution_count": 1,
   "id": "4bac5154",
   "metadata": {},
   "outputs": [],
   "source": [
    "import numpy as np\n",
    "import matplotlib.pyplot as plt\n",
    "import matplotlib as mpl\n",
    "from numpy.random import randn\n",
    "\n",
    "FONTPATH = \"fonts/SourceHanSerifSC-SemiBold.otf\"\n",
    "mpl.font_manager.fontManager.addfont(FONTPATH)\n",
    "plt.rcParams['font.family'] = ['Source Han Serif SC']"
   ]
  },
  {
   "cell_type": "markdown",
   "id": "a507de15",
   "metadata": {},
   "source": [
    "## 蒙特卡罗简介\n",
    "\n",
    "在本节中，我们描述如何使用蒙特卡罗计算期望值。\n",
    "\n",
    "### 已知分布的股票价格\n",
    "\n",
    "假设我们正在考虑购买某公司的股票。\n",
    "\n",
    "我们的计划是：\n",
    "\n",
    "1. 现在买入股票，持有一年后再卖出，或者\n",
    "2. 用我们的钱做其他事情。\n",
    "\n",
    "我们首先将一年后的股票价格视为一个随机变量 $S$。\n",
    "\n",
    "在决定是否购买股票之前，我们需要知道 $S$ 分布的一些特性。\n",
    "\n",
    "例如，假设 $S$ 的均值相对于购买股票的价格很高。\n",
    "\n",
    "这表明我们有很好的机会以相对较高的价格卖出。\n",
    "\n",
    "但是，假设 $S$ 的方差也很高。\n",
    "\n",
    "这表明购买股票有风险，所以我们可能应该放弃。\n",
    "\n",
    "无论如何，这次讨论显示了理解 $S$ 的分布的重要性。\n",
    "\n",
    "假设，在分析数据后，我们猜测 $S$ 很好地由参数为 $\\mu, \\sigma$ 的对数正态分布表示。\n",
    "\n",
    "* $S$ 与 $\\exp(\\mu + \\sigma Z)$ 分布相同，其中 $Z$ 是标准正态。\n",
    "* 我们将这个声明写为 $S \\sim LN(\\mu, \\sigma)$。\n",
    "\n",
    "任何关于统计的好参考资料（如 [维基百科](https://en.wikipedia.org/wiki/Log-normal_distribution)）都会告诉我们，其均值和方差为\n",
    "\n",
    "$$\n",
    "    \\mathbb E S\n",
    "        = \\exp \\left(\\mu + \\frac{\\sigma^2}{2} \\right)\n",
    "$$\n",
    "\n",
    "和\n",
    "\n",
    "$$\n",
    "    \\mathop{\\mathrm{Var}} S\n",
    "    = [\\exp(\\sigma^2) - 1] \\exp(2\\mu + \\sigma^2)\n",
    "$$\n",
    "\n",
    "到目前为止，我们还不需要使用计算机。\n",
    "\n",
    "\n",
    "\n",
    "### 股票价格的未知分布\n",
    "\n",
    "但现在假设我们更仔细地研究股票价格 $S$ 的分布。\n",
    "\n",
    "我们决定股票价格取决于三个变量，$X_1$、$X_2$ 和 $X_3$（例如，销售额、通货膨胀和利率）。\n",
    "\n",
    "具体来说，我们的研究表明：\n",
    "\n",
    "$$\n",
    "    S = (X_1 + X_2 + X_3)^p\n",
    "$$\n",
    "\n",
    "其中：\n",
    "\n",
    "* $p$ 是一个已知的正数（即已估计），\n",
    "* $X_i \\sim LN(\\mu_i, \\sigma_i)$ 对于 $i=1,2,3$，\n",
    "* 值 $\\mu_i, \\sigma_i$ 也是已知的，\n",
    "* 随机变量 $X_1$、$X_2$ 和 $X_3$ 是相互独立的。\n",
    "\n",
    "我们应该如何计算 $S$ 的均值？\n",
    "\n",
    "仅用笔和纸来计算是困难的（除非比如说 $p=1$）。\n",
    "\n",
    "但幸运的是，至少有一种简便的方法可以近似地做到这一点。\n",
    "\n",
    "这就是蒙特卡洛方法，其运行步骤如下：\n",
    "\n",
    "1. 在计算机上生成 $n$ 次独立抽取的 $X_1$、$X_2$ 和 $X_3$，\n",
    "1. 使用这些抽取值生成 $n$ 次独立抽取的 $S$，\n",
    "1. 取这些 $S$ 的抽取值的平均值。\n",
    "\n",
    "当 $n$ 很大时，这个平均值将接近真实的平均值。\n",
    "\n",
    "这归因于大数定律，我们在 {doc}`lln_clt` 中讨论过。\n",
    "\n",
    "我们使用以下值为 $p$ 以及每个 $\\mu_i$ 和 $\\sigma_i$。"
   ]
  },
  {
   "cell_type": "code",
   "execution_count": 2,
   "id": "de8d0e1e",
   "metadata": {},
   "outputs": [],
   "source": [
    "n = 1_000_000\n",
    "p = 0.5\n",
    "μ_1, μ_2, μ_3 = 0.2, 0.8, 0.4\n",
    "σ_1, σ_2, σ_3 = 0.1, 0.05, 0.2"
   ]
  },
  {
   "cell_type": "markdown",
   "id": "124688be",
   "metadata": {},
   "source": [
    "#### 使用循环的Python例程\n",
    "\n",
    "这里是一个使用Python原生循环计算期望平均值的例程\n",
    "\n",
    "$$\n",
    "    \\frac{1}{n} \\sum_{i=1}^n S_i\n",
    "    \\approx \\mathbb E S\n",
    "$$"
   ]
  },
  {
   "cell_type": "code",
   "execution_count": 3,
   "id": "0c79dfd9",
   "metadata": {},
   "outputs": [
    {
     "name": "stdout",
     "output_type": "stream",
     "text": [
      "CPU times: user 3.49 s, sys: 0 ns, total: 3.49 s\n",
      "Wall time: 3.49 s\n"
     ]
    },
    {
     "data": {
      "text/plain": [
       "2.229741212813076"
      ]
     },
     "execution_count": 3,
     "metadata": {},
     "output_type": "execute_result"
    }
   ],
   "source": [
    "%%time\n",
    "\n",
    "S = 0.0\n",
    "for i in range(n):\n",
    "    X_1 = np.exp(μ_1 + σ_1 * randn())\n",
    "    X_2 = np.exp(μ_2 + σ_2 * randn())\n",
    "    X_3 = np.exp(μ_3 + σ_3 * randn())\n",
    "    S += (X_1 + X_2 + X_3)**p\n",
    "S / n"
   ]
  },
  {
   "cell_type": "markdown",
   "id": "3767fbd7",
   "metadata": {},
   "source": [
    "我们还可以构建一个包含这些操作的函数："
   ]
  },
  {
   "cell_type": "code",
   "execution_count": 4,
   "id": "a00b442f",
   "metadata": {},
   "outputs": [],
   "source": [
    "def compute_mean(n=1_000_000):\n",
    "    S = 0.0\n",
    "    for i in range(n):\n",
    "        X_1 = np.exp(μ_1 + σ_1 * randn())\n",
    "        X_2 = np.exp(μ_2 + σ_2 * randn())\n",
    "        X_3 = np.exp(μ_3 + σ_3 * randn())\n",
    "        S += (X_1 + X_2 + X_3)**p\n",
    "    return (S / n)"
   ]
  },
  {
   "cell_type": "markdown",
   "id": "6f0f1084",
   "metadata": {},
   "source": [
    "现在调用它。"
   ]
  },
  {
   "cell_type": "code",
   "execution_count": 5,
   "id": "6513927e",
   "metadata": {},
   "outputs": [
    {
     "data": {
      "text/plain": [
       "2.2297713782141453"
      ]
     },
     "execution_count": 5,
     "metadata": {},
     "output_type": "execute_result"
    }
   ],
   "source": [
    "compute_mean()"
   ]
  },
  {
   "cell_type": "markdown",
   "id": "eb9c0e8e",
   "metadata": {},
   "source": [
    "### 向量化例程\n",
    "\n",
    "如果我们想要更准确的估计，我们应该增加 $n$。\n",
    "\n",
    "但是上面的代码运行得相当慢。\n",
    "\n",
    "为了让它运行得更快，让我们使用 NumPy 实现一个向量化例程。"
   ]
  },
  {
   "cell_type": "code",
   "execution_count": 6,
   "id": "6e69d1c1",
   "metadata": {},
   "outputs": [],
   "source": [
    "def compute_mean_vectorized(n=1_000_000):\n",
    "    X_1 = np.exp(μ_1 + σ_1 * randn(n))\n",
    "    X_2 = np.exp(μ_2 + σ_2 * randn(n))\n",
    "    X_3 = np.exp(μ_3 + σ_3 * randn(n))\n",
    "    S = (X_1 + X_2 + X_3)**p\n",
    "    return S.mean()"
   ]
  },
  {
   "cell_type": "code",
   "execution_count": 7,
   "id": "13707f10",
   "metadata": {},
   "outputs": [
    {
     "name": "stdout",
     "output_type": "stream",
     "text": [
      "CPU times: user 80.6 ms, sys: 6.01 ms, total: 86.6 ms\n",
      "Wall time: 86.5 ms\n"
     ]
    },
    {
     "data": {
      "text/plain": [
       "2.2297673686126798"
      ]
     },
     "execution_count": 7,
     "metadata": {},
     "output_type": "execute_result"
    }
   ],
   "source": [
    "%%time\n",
    "\n",
    "compute_mean_vectorized()"
   ]
  },
  {
   "cell_type": "markdown",
   "id": "8fce6ce2",
   "metadata": {},
   "source": [
    "请注意，这个例程运行得更快。\n",
    "\n",
    "我们可以增加 $n$ 以提高精度，同时仍然保持合理的速度："
   ]
  },
  {
   "cell_type": "code",
   "execution_count": 8,
   "id": "b3295663",
   "metadata": {},
   "outputs": [
    {
     "name": "stdout",
     "output_type": "stream",
     "text": [
      "CPU times: user 837 ms, sys: 50 ms, total: 887 ms\n",
      "Wall time: 887 ms\n"
     ]
    },
    {
     "data": {
      "text/plain": [
       "2.229766593941254"
      ]
     },
     "execution_count": 8,
     "metadata": {},
     "output_type": "execute_result"
    }
   ],
   "source": [
    "%%time\n",
    "\n",
    "compute_mean_vectorized(n=10_000_000)"
   ]
  },
  {
   "cell_type": "markdown",
   "id": "4ce61419",
   "metadata": {},
   "source": [
    "## 以风险中性定价欧式看涨期权\n",
    "\n",
    "接下来，我们将在风险中性假设下对欧式看涨期权进行定价。\n",
    "\n",
    "首先让我们讨论风险中性，然后考虑欧式期权。\n",
    "\n",
    "\n",
    "\n",
    "### 风险中性定价\n",
    "\n",
    "当我们使用风险中性定价时，我们根据给定资产的预期收益来决定其价格：\n",
    "\n",
    "$$\n",
    "\\text{成本} = \\text{预期收益}\n",
    "$$\n",
    "\n",
    "例如，假设有人承诺在抛硬币的结果为正面时支付你\n",
    "\n",
    "- 100万美元\n",
    "- 如果结果为反面，则支付0美元\n",
    "\n",
    "我们记赔付为 $G$, 使得\n",
    "\n",
    "$$\n",
    "    \\mathbb P\\left\\{G = 10^6 \\right\\} = \\mathbb P\\{G = 0\\} = \\frac{1}{2}\n",
    "$$\n",
    "\n",
    "假设此外你可以将这个承诺卖给任何希望购买的人。\n",
    "\n",
    "- 首先他们支付给你 $P$，即你的销售价格\n",
    "- 然后他们获得 $G$，可能是100万或者0。\n",
    "\n",
    "这个资产（这个承诺）的公平价格是多少？\n",
    "\n",
    "“公平”的定义是含糊的，但我们可以说\n",
    "**风险中性价格**是50万美元。\n",
    "\n",
    "这是因为风险中性价格仅仅是资产的预期收益，即\n",
    "\n",
    "$$\n",
    "    \\mathbb E G = \\frac{1}{2} \\times 10^6 + \\frac{1}{2} \\times 0 = 5 \\times 10^5\n",
    "$$\n",
    "\n",
    "\n",
    "### 关于风险的评论\n",
    "\n",
    "正如名称所示，风险中性定价忽略了风险。\n",
    "\n",
    "为了理解这一点，请考虑你是否愿意为这样一个承诺支付500,000美元。\n",
    "\n",
    "你是更愿意肯定收到500,000美元，还是有50%的概率收到1,000,000美元，而另外50%的概率什么也不得？\n",
    "\n",
    "至少一些读者会严格偏好第一种选择——尽管有些人可能更喜欢第二种。\n",
    "\n",
    "思考这个问题让我们意识到500,000美元并不一定是“正确”的价格——或者，如果市场上有这样的承诺，我们会见到的价格。\n",
    "\n",
    "尽管如此，风险中性价格是一个重要的基准，经济学家和金融市场参与者每天都试图计算它。\n",
    "\n",
    "\n",
    "### 贴现\n",
    "\n",
    "在之前的讨论中，我们忽略了时间因素。\n",
    "\n",
    "一般来说，现在收到$x$美元比$n$个周期后（例如10年）收到$x$美元更可取。\n",
    "\n",
    "毕竟，如果我们现在就收到$x$美元，我们可以将其存入银行中，按照利率$r > 0$计算，$n$个周期后会收到$(1 + r)^n x$。\n",
    "\n",
    "因此，我们在考虑它们的现值时需要对未来的支付进行贴现。\n",
    "\n",
    "我们将通过以下方式实现贴现：\n",
    "\n",
    "* 将一期的支付乘以$\\beta < 1$\n",
    "* 将$n$期的支付乘以$\\beta^n$等。\n",
    "\n",
    "对于上面描述的承诺，我们的风险中性价格也需要进行同样的调整。\n",
    "\n",
    "因此，如果$G$在$n$个周期后实现，那么风险中性价格为：\n",
    "\n",
    "$$\n",
    "    P = \\beta^n \\mathbb E G\n",
    "      = \\beta^n 5 \\times 10^5\n",
    "$$\n",
    "\n",
    "\n",
    "### 欧式看涨期权\n",
    "\n",
    "现在让我们来计算一个欧式看涨期权的价格。\n",
    "\n",
    "期权由三个要素描述：\n",
    "\n",
    "1. $n$, **到期日**，\n",
    "2. $K$, **行权价**，\n",
    "3. $S_n$, 在日期 $n$ 的**标的资产**价格。\n",
    "\n",
    "例如，假设标的资产是亚马逊的一股股票。\n",
    "\n",
    "该期权的持有者有权在 $n$ 天后以 $K$ 价格买入亚马逊的一股股票。\n",
    "\n",
    "如果 $S_n > K$，那么持有者将会行使期权，以 $K$ 的价格买入，在 $S_n$ 的价格卖出，并且获得 $S_n - K$ 的利润。\n",
    "\n",
    "如果 $S_n \\leq K$，那么持有者将不会行使期权，收益为零。\n",
    "\n",
    "因此，收益为 $\\max\\{ S_n - K, 0 \\}$。\n",
    "\n",
    "在风险中性的假设下，期权的价格是期望的折现收益：\n",
    "\n",
    "$$ P = \\beta^n \\mathbb E \\max\\{ S_n - K, 0 \\} $$\n",
    "\n",
    "现在我们需要指定 $S_n$ 的分布，以便可以计算期望。\n",
    "\n",
    "假设我们知道 $S_n \\sim LN(\\mu, \\sigma)$ 且 $\\mu$ 和 $\\sigma$ 是已知的。\n",
    "\n",
    "如果 $S_n^1, \\ldots, S_n^M$ 是从这个对数正态分布中独立抽取的，则根据大数定律，\n",
    "\n",
    "$$\n",
    "    \\mathbb E \\max\\{ S_n - K, 0 \\}\n",
    "    \\approx\n",
    "    \\frac{1}{M} \\sum_{m=1}^M \\max \\{S_n^m - K, 0 \\}\n",
    "$$\n",
    "\n",
    "我们假设"
   ]
  },
  {
   "cell_type": "code",
   "execution_count": 9,
   "id": "6424988d",
   "metadata": {},
   "outputs": [],
   "source": [
    "μ = 1.0\n",
    "σ = 0.1\n",
    "K = 1\n",
    "n = 10\n",
    "β = 0.95"
   ]
  },
  {
   "cell_type": "markdown",
   "id": "eefd10f4",
   "metadata": {},
   "source": [
    "我们设置模拟次数为"
   ]
  },
  {
   "cell_type": "code",
   "execution_count": 10,
   "id": "a2eba34c",
   "metadata": {},
   "outputs": [],
   "source": [
    "M = 10_000_000"
   ]
  },
  {
   "cell_type": "markdown",
   "id": "09970b75",
   "metadata": {},
   "source": [
    "这是我们的代码"
   ]
  },
  {
   "cell_type": "code",
   "execution_count": 11,
   "id": "03823e2c",
   "metadata": {},
   "outputs": [
    {
     "name": "stdout",
     "output_type": "stream",
     "text": [
      "蒙特卡洛期权价格约为 1.036961\n"
     ]
    }
   ],
   "source": [
    "S = np.exp(μ + σ * np.random.randn(M))\n",
    "return_draws = np.maximum(S - K, 0)\n",
    "P = β**n * np.mean(return_draws)\n",
    "print(f\"蒙特卡洛期权价格约为 {P:3f}\")"
   ]
  },
  {
   "cell_type": "markdown",
   "id": "33bc95c5",
   "metadata": {},
   "source": [
    "## 通过动态模型进行定价\n",
    "\n",
    "在这个练习中，我们将研究一个更现实的股票价格 $S_n$ 模型。\n",
    "\n",
    "这来自于指定股票价格的底层动力学。\n",
    "\n",
    "首先我们指定动态。\n",
    "\n",
    "然后我们将使用蒙特卡洛方法计算期权的价格。\n",
    "\n",
    "### 简单动力学\n",
    "\n",
    "一个简单的 $\\{S_t\\}$ 模型是\n",
    "\n",
    "$$ \\ln \\frac{S_{t+1}}{S_t} = \\mu + \\sigma \\xi_{t+1} $$\n",
    "\n",
    "其中\n",
    "\n",
    "* $S_0$ 是对数正态分布的，\n",
    "* $\\{ \\xi_t \\}$ 是独立同分布的标准正态分布。\n",
    "\n",
    "在所述假设下，$S_n$ 是对数正态分布的。\n",
    "\n",
    "为了看清楚为什么，注意到，设 $s_t := \\ln S_t$，价格动力学变为\n",
    "\n",
    "```{math}\n",
    ":label: s_mc_dyms\n",
    "\n",
    "s_{t+1} = s_t + \\mu + \\sigma \\xi_{t+1}\n",
    "```\n",
    "\n",
    "由于 $s_0$ 是正态分布的且 $\\xi_1$ 是独立同分布的正态分布，我们可以看到 $s_1$ 是\n",
    "正态分布的。\n",
    "\n",
    "继续这种方式表明 $s_n$ 是正态分布的。\n",
    "\n",
    "因此 $S_n = \\exp(s_n)$ 是对数正态的。\n",
    "\n",
    "\n",
    "### 简单动态问题\n",
    "\n",
    "我们上面研究的简单动态模型很方侈，因为我们可以计算得出$S_n$的分布。\n",
    "\n",
    "然而，它的预测是违反事实的，因为在现实世界中，波动率（由$\\sigma$衡量）并不是稳定的。\n",
    "\n",
    "相反，它随时间而变化，有时高（如在全球金融危机期间），有时低。\n",
    "\n",
    "根据我们上面的模型，这意味着$\\sigma$不应该是常数。\n",
    "\n",
    "\n",
    "### 更现实的动态模型\n",
    "\n",
    "这使我们研究了改进的版本：\n",
    "\n",
    "$$ \\ln \\frac{S_{t+1}}{S_t} = \\mu + \\sigma_t \\xi_{t+1} $$\n",
    "\n",
    "其中\n",
    "\n",
    "$$\n",
    "    \\sigma_t = \\exp(h_t),\n",
    "    \\quad\n",
    "        h_{t+1} = \\rho h_t + \\nu \\eta_{t+1}\n",
    "$$\n",
    "\n",
    "这里$\\{\\eta_t\\}$也是独立同分布且标准正态的。\n",
    "\n",
    "\n",
    "### 默认参数\n",
    "\n",
    "对于动态模型，我们采取以下参数值。"
   ]
  },
  {
   "cell_type": "code",
   "execution_count": 12,
   "id": "b1775598",
   "metadata": {},
   "outputs": [],
   "source": [
    "default_μ  = 0.0001\n",
    "default_ρ  = 0.1\n",
    "default_ν  = 0.001\n",
    "default_S0 = 10\n",
    "default_h0 = 0"
   ]
  },
  {
   "cell_type": "markdown",
   "id": "fc0a5c68",
   "metadata": {},
   "source": [
    "（这里`default_S0` 是 $S_0$ ，`default_h0` 是 $h_0$。）\n",
    "\n",
    "对于期权，我们使用以下默认值。"
   ]
  },
  {
   "cell_type": "code",
   "execution_count": 13,
   "id": "fb7aa91e",
   "metadata": {},
   "outputs": [],
   "source": [
    "default_K = 100\n",
    "default_n = 10\n",
    "default_β = 0.95"
   ]
  },
  {
   "cell_type": "markdown",
   "id": "8b097a77",
   "metadata": {},
   "source": [
    "### 可视化\n",
    "\n",
    "将 $s_t := \\ln S_t$，价格动态变为\n",
    "\n",
    "$$ s_{t+1} = s_t + \\mu + \\exp(h_t) \\xi_{t+1} $$\n",
    "\n",
    "以下是使用这个方程模拟路径的函数："
   ]
  },
  {
   "cell_type": "code",
   "execution_count": 14,
   "id": "0f31d092",
   "metadata": {},
   "outputs": [],
   "source": [
    "def simulate_asset_price_path(μ=default_μ, S0=default_S0, h0=default_h0, n=default_n, ρ=default_ρ, ν=default_ν):\n",
    "    s = np.empty(n+1)\n",
    "    s[0] = np.log(S0)\n",
    "\n",
    "    h = h0\n",
    "    for t in range(n):\n",
    "        s[t+1] = s[t] + μ + np.exp(h) * randn()\n",
    "        h = ρ * h + ν * randn()\n",
    "\n",
    "    return np.exp(s)"
   ]
  },
  {
   "cell_type": "markdown",
   "id": "cb40f5a6",
   "metadata": {},
   "source": [
    "这里我们绘制路径及其对数路径。"
   ]
  },
  {
   "cell_type": "code",
   "execution_count": 15,
   "id": "eac213c1",
   "metadata": {},
   "outputs": [
    {
     "data": {
      "image/png": "[encoded data removed]",
      "text/plain": [
       "<Figure size 640x480 with 2 Axes>"
      ]
     },
     "metadata": {},
     "output_type": "display_data"
    }
   ],
   "source": [
    "fig, axes = plt.subplots(2, 1)\n",
    "\n",
    "titles = '对数路径', '路径'\n",
    "transforms = np.log, lambda x: x\n",
    "for ax, transform, title in zip(axes, transforms, titles):\n",
    "    for i in range(50):\n",
    "        path = simulate_asset_price_path()\n",
    "        ax.plot(transform(path))\n",
    "    ax.set_title(title)\n",
    "\n",
    "fig.tight_layout()\n",
    "plt.show()"
   ]
  },
  {
   "cell_type": "markdown",
   "id": "0ef61689",
   "metadata": {},
   "source": [
    "### 计算价格\n",
    "\n",
    "现在我们的模型更加复杂，我们无法轻易确定 $S_n$ 的分布。\n",
    "\n",
    "所以为了计算期权的价格 $P$，我们使用蒙特卡洛方法。\n",
    "\n",
    "我们对实现 $S_n^1, \\ldots, S_n^M$ 的平均值 $S_n$，并呼吁大数法则：\n",
    "\n",
    "$$\n",
    "    \\mathbb E \\max\\{ S_n - K, 0 \\}\n",
    "    \\approx\n",
    "    \\frac{1}{M} \\sum_{m=1}^M \\max \\{S_n^m - K, 0 \\}\n",
    "$$\n",
    "\n",
    "下面是一个使用 Python 循环的版本。"
   ]
  },
  {
   "cell_type": "code",
   "execution_count": 16,
   "id": "b1426df8",
   "metadata": {},
   "outputs": [],
   "source": [
    "def compute_call_price(β=default_β,\n",
    "                       μ=default_μ,\n",
    "                       S0=default_S0,\n",
    "                       h0=default_h0,\n",
    "                       K=default_K,\n",
    "                       n=default_n,\n",
    "                       ρ=default_ρ,\n",
    "                       ν=default_ν,\n",
    "                       M=10_000):\n",
    "    current_sum = 0.0\n",
    "    # 对每一个样本路径\n",
    "    for m in range(M):\n",
    "        s = np.log(S0)\n",
    "        h = h0\n",
    "        # 模拟时间前进\n",
    "        for t in range(n):\n",
    "            s = s + μ + np.exp(h) * randn()\n",
    "            h = ρ * h + ν * randn()\n",
    "        # 并将值 max{S_n - K, 0} 加到 current_sum\n",
    "        current_sum += np.maximum(np.exp(s) - K, 0)\n",
    "\n",
    "    return β**n * current_sum / M"
   ]
  },
  {
   "cell_type": "code",
   "execution_count": 17,
   "id": "1079533b",
   "metadata": {},
   "outputs": [
    {
     "name": "stdout",
     "output_type": "stream",
     "text": [
      "CPU times: user 185 ms, sys: 5 μs, total: 185 ms\n",
      "Wall time: 185 ms\n"
     ]
    },
    {
     "data": {
      "text/plain": [
       "663.795546575407"
      ]
     },
     "execution_count": 17,
     "metadata": {},
     "output_type": "execute_result"
    }
   ],
   "source": [
    "%%time\n",
    "compute_call_price()"
   ]
  },
  {
   "cell_type": "markdown",
   "id": "767fa543",
   "metadata": {},
   "source": [
    "## 练习\n",
    "\n",
    "```{exercise}\n",
    ":label: monte_carlo_ex1\n",
    "\n",
    "我们想要在上面的代码中增加 $M$ 以使计算更加精确。\n",
    "\n",
    "但是这存在一个问题，因为Python循环运行缓慢。\n",
    "\n",
    "你的任务是使用NumPy编写一个更快的代码版本。\n",
    "```\n",
    "\n",
    "```{solution-start} monte_carlo_ex1\n",
    ":class: dropdown\n",
    "```"
   ]
  },
  {
   "cell_type": "code",
   "execution_count": 18,
   "id": "b1726c21",
   "metadata": {},
   "outputs": [],
   "source": [
    "def compute_call_price_vector(β=default_β,\n",
    "                       μ=default_μ,\n",
    "                       S0=default_S0,\n",
    "                       h0=default_h0,\n",
    "                       K=default_K,\n",
    "                       n=default_n,\n",
    "                       ρ=default_ρ,\n",
    "                       ν=default_ν,\n",
    "                       M=10_000):\n",
    "\n",
    "    s = np.full(M, np.log(S0))\n",
    "    h = np.full(M, h0)\n",
    "    for t in range(n):\n",
    "        Z = np.random.randn(2, M)\n",
    "        s = s + μ + np.exp(h) * Z[0, :]\n",
    "        h = ρ * h + ν * Z[1, :]\n",
    "    expectation = np.mean(np.maximum(np.exp(s) - K, 0))\n",
    "\n",
    "    return β**n * expectation"
   ]
  },
  {
   "cell_type": "code",
   "execution_count": 19,
   "id": "38733074",
   "metadata": {},
   "outputs": [
    {
     "name": "stdout",
     "output_type": "stream",
     "text": [
      "CPU times: user 5.74 ms, sys: 0 ns, total: 5.74 ms\n",
      "Wall time: 5.22 ms\n"
     ]
    },
    {
     "data": {
      "text/plain": [
       "822.2006442868429"
      ]
     },
     "execution_count": 19,
     "metadata": {},
     "output_type": "execute_result"
    }
   ],
   "source": [
    "%%time\n",
    "compute_call_price_vector()"
   ]
  },
  {
   "cell_type": "markdown",
   "id": "10751d99",
   "metadata": {},
   "source": [
    "请注意，这个版本的速度比使用Python循环的版本要快。\n",
    "\n",
    "现在让我们尝试更大的$M$以获得更准确的计算。"
   ]
  },
  {
   "cell_type": "code",
   "execution_count": 20,
   "id": "f03c77a3",
   "metadata": {},
   "outputs": [
    {
     "name": "stdout",
     "output_type": "stream",
     "text": [
      "CPU times: user 3min 5s, sys: 27.9 ms, total: 3min 5s\n",
      "Wall time: 3min 5s\n"
     ]
    },
    {
     "data": {
      "text/plain": [
       "887.667354836552"
      ]
     },
     "execution_count": 20,
     "metadata": {},
     "output_type": "execute_result"
    }
   ],
   "source": [
    "%%time\n",
    "compute_call_price(M=10_000_000)"
   ]
  },
  {
   "cell_type": "markdown",
   "id": "4f4d3e65",
   "metadata": {},
   "source": [
    "```{solution-end}\n",
    "```\n",
    "\n",
    "```{exercise}\n",
    ":label: monte_carlo_ex2\n",
    "\n",
    "设想一种欧式看涨期权，该期权的标的资产现价为100美元，有一个120美元的敲出障碍。\n",
    "\n",
    "这种期权在各方面都类似于普通的欧式看涨期权，但如果现价曾经超过120美元，期权便会被\"敲出\"，合约即刻失效。\n",
    "\n",
    "注意，如果现价再次跌破120美元，期权不会重新激活。\n",
    "\n",
    "使用{eq}`s_mc_dyms`定义的动态来定价这个欧式看涨期权。\n",
    "```\n",
    "\n",
    "```{solution-start} monte_carlo_ex2\n",
    ":class: dropdown\n",
    "```"
   ]
  },
  {
   "cell_type": "code",
   "execution_count": 21,
   "id": "74584ead",
   "metadata": {},
   "outputs": [],
   "source": [
    "default_μ  = 0.0001\n",
    "default_ρ  = 0.1\n",
    "default_ν  = 0.001\n",
    "default_S0 = 10\n",
    "default_h0 = 0\n",
    "default_K = 100\n",
    "default_n = 10\n",
    "default_β = 0.95\n",
    "default_bp = 120"
   ]
  },
  {
   "cell_type": "code",
   "execution_count": 22,
   "id": "452c03f0",
   "metadata": {},
   "outputs": [],
   "source": [
    "def compute_call_price_with_barrier(β=default_β,\n",
    "                                    μ=default_μ,\n",
    "                                    S0=default_S0,\n",
    "                                    h0=default_h0,\n",
    "                                    K=default_K,\n",
    "                                    n=default_n,\n",
    "                                    ρ=default_ρ,\n",
    "                                    ν=default_ν,\n",
    "                                    bp=default_bp,\n",
    "                                    M=50_000):\n",
    "    current_sum = 0.0\n",
    "    # 对每个样本路径进行模拟\n",
    "    for m in range(M):\n",
    "        s = np.log(S0)\n",
    "        h = h0\n",
    "        payoff = 0\n",
    "        option_is_null = False\n",
    "        # 模拟前向时间发展\n",
    "        for t in range(n):\n",
    "            s = s + μ + np.exp(h) * randn()\n",
    "            h = ρ * h + ν * randn()\n",
    "            if np.exp(s) > bp:\n",
    "                payoff = 0\n",
    "                option_is_null = True\n",
    "                break\n",
    "\n",
    "        if not option_is_null:\n",
    "            payoff = np.maximum(np.exp(s) - K, 0)\n",
    "        # 将payoff加入到current_sum中\n",
    "        current_sum += payoff\n",
    "\n",
    "    return β**n * current_sum / M"
   ]
  },
  {
   "cell_type": "code",
   "execution_count": 23,
   "id": "c7d933c7",
   "metadata": {},
   "outputs": [
    {
     "name": "stdout",
     "output_type": "stream",
     "text": [
      "CPU times: user 1.09 s, sys: 1 μs, total: 1.09 s\n",
      "Wall time: 1.09 s\n"
     ]
    },
    {
     "data": {
      "text/plain": [
       "0.039368714794069004"
      ]
     },
     "execution_count": 23,
     "metadata": {},
     "output_type": "execute_result"
    }
   ],
   "source": [
    "%time compute_call_price_with_barrier()"
   ]
  },
  {
   "cell_type": "markdown",
   "id": "e27e3f7b",
   "metadata": {},
   "source": [
    "来看向量化版本，这个版本比使用Python循环快。"
   ]
  },
  {
   "cell_type": "code",
   "execution_count": 24,
   "id": "32b497c3",
   "metadata": {},
   "outputs": [],
   "source": [
    "def compute_call_price_with_barrier_vector(β=default_β,\n",
    "                                           μ=default_μ,\n",
    "                                           S0=default_S0,\n",
    "                                           h0=default_h0,\n",
    "                                           K=default_K,\n",
    "                                           n=default_n,\n",
    "                                           ρ=default_ρ,\n",
    "                                           ν=default_ν,\n",
    "                                           bp=default_bp,\n",
    "                                           M=50_000):\n",
    "    s = np.full(M, np.log(S0))\n",
    "    h = np.full(M, h0)\n",
    "    option_is_null = np.full(M, False)\n",
    "    for t in range(n):\n",
    "        Z = np.random.randn(2, M)\n",
    "        s = s + μ + np.exp(h) * Z[0, :]\n",
    "        h = ρ * h + ν * Z[1, :]\n",
    "        # 标记所有股价高于屏障价格的期权为无效\n",
    "        option_is_null = np.where(np.exp(s) > bp, True, option_is_null)\n",
    "\n",
    "    # 在option_is_null的索引处将payoff标记为0\n",
    "    payoff = np.where(option_is_null, 0, np.maximum(np.exp(s) - K, 0))\n",
    "    expectation = np.mean(payoff)\n",
    "    return β**n * expectation"
   ]
  },
  {
   "cell_type": "code",
   "execution_count": 25,
   "id": "dd4f8534",
   "metadata": {},
   "outputs": [
    {
     "name": "stdout",
     "output_type": "stream",
     "text": [
      "CPU times: user 28.8 ms, sys: 0 ns, total: 28.8 ms\n",
      "Wall time: 28.4 ms\n"
     ]
    },
    {
     "data": {
      "text/plain": [
       "0.03754915978519556"
      ]
     },
     "execution_count": 25,
     "metadata": {},
     "output_type": "execute_result"
    }
   ],
   "source": [
    "%time compute_call_price_with_barrier_vector()"
   ]
  },
  {
   "cell_type": "markdown",
   "id": "fe61b4ac",
   "metadata": {},
   "source": [
    "```{solution-end}\n",
    "```"
   ]
  }
 ],
 "metadata": {
  "jupytext": {
   "text_representation": {
    "extension": ".md",
    "format_name": "myst",
    "format_version": 0.13,
    "jupytext_version": "1.14.5"
   }
  },
  "kernelspec": {
   "display_name": "Python 3 (ipykernel)",
   "language": "python",
   "name": "python3"
  },
  "language_info": {
   "codemirror_mode": {
    "name": "ipython",
    "version": 3
   },
   "file_extension": ".py",
   "mimetype": "text/x-python",
   "name": "python",
   "nbconvert_exporter": "python",
   "pygments_lexer": "ipython3",
   "version": "3.11.9"
  },
  "source_map": [
   12,
   40,
   49,
   138,
   143,
   154,
   164,
   169,
   178,
   183,
   185,
   196,
   205,
   209,
   215,
   219,
   343,
   349,
   353,
   355,
   359,
   364,
   437,
   443,
   449,
   453,
   463,
   474,
   479,
   492,
   510,
   535,
   538,
   557,
   579,
   582,
   589,
   592,
   615,
   628,
   663,
   665,
   669,
   696,
   698
  ]
 },
 "nbformat": 4,
 "nbformat_minor": 5
}