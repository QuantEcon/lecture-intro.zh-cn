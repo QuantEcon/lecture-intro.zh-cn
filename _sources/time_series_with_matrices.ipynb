{
 "cells": [
  {
   "cell_type": "markdown",
   "id": "28bf5a2b",
   "metadata": {},
   "source": [
    "(time_series_with_matrices)=\n",
    "```{raw} jupyter\n",
    "<div id=\"qe-notebook-header\" align=\"right\" style=\"text-align:right;\">\n",
    "        <a href=\"https://quantecon.org/\" title=\"quantecon.org\">\n",
    "                <img style=\"width:250px;display:inline;\" width=\"250px\" src=\"https://assets.quantecon.org/img/qe-menubar-logo.svg\" alt=\"QuantEcon\">\n",
    "        </a>\n",
    "</div>\n",
    "```\n",
    "\n",
    "# 用矩阵代数表示的单变量时间序列\n",
    "\n",
    "## 概述\n",
    "\n",
    "本讲使用矩阵来解决线性差分方程。\n",
    "\n",
    "作为一个实际例子，我们将研究一个保罗·萨缪尔森 1939 年文章 {cite}`Samuelson1939` 中的**二阶线性差分方程**，该文章引入了**乘数加速器**模型。\n",
    "\n",
    "这个模型对早期美国凯恩斯主义宏观经济学的计量经济学研究产生了重要影响。\n",
    "\n",
    "如果你想了解更多关于这个模型的细节，可以参考{doc}`intermediate:samuelson`。\n",
    "\n",
    "（该讲座也包含了二阶线性差分方程的一些技术细节。）\n",
    "\n",
    "在本讲座中，我们将探讨如何用两种不同的方式来表示非平稳时间序列 $\\{y_t\\}_{t=0}^T$：**自回归**表示和**移动平均**表示。\n",
    "\n",
    "我们还将研究一个涉及解“前瞻性”线性差分方程的“完全预见的”股票价格模型。\n",
    "\n",
    "让我们先导入所需的Python包："
   ]
  },
  {
   "cell_type": "code",
   "execution_count": null,
   "id": "e950e794",
   "metadata": {},
   "outputs": [],
   "source": [
    "import numpy as np\n",
    "import matplotlib.pyplot as plt\n",
    "from matplotlib import cm\n",
    "\n",
    "# 设置默认图形大小\n",
    "plt.rcParams[\"figure.figsize\"] = (11, 5)\n",
    "\n",
    "# 设置打印的浮点数精度\n",
    "np.set_printoptions(precision=3, suppress=True)"
   ]
  },
  {
   "cell_type": "markdown",
   "id": "1d2fdc22",
   "metadata": {},
   "source": [
    "## 萨缪尔森的模型\n",
    "\n",
    "设 $t = 0, \\pm 1, \\pm 2, \\ldots$ 为时间。\n",
    "\n",
    "对于 $t=1, 2, 3, \\ldots, T$，假设\n",
    "\n",
    "```{math}\n",
    ":label: tswm_1\n",
    "\n",
    "y_{t} = \\alpha_{0} + \\alpha_{1} y_{t-1} + \\alpha_{2} y_{t-2}\n",
    "```\n",
    "\n",
    "我们假设 $y_0$ 和 $y_{-1}$ 是给定的数字，我们将其作为**初始条件**。\n",
    "\n",
    "在萨缪尔森的模型中，$y_t$ 表示 **国民收入** 或者 **国内生产总值**（GDP）在时间 $t$ 的测量值。\n",
    "\n",
    "方程 {eq}`tswm_1` 称为 **二阶线性差分方程**，因为它包含了两个滞后值。\n",
    "\n",
    "实际上，它是 $T$ 个关于 $T$ 个变量 $y_1, y_2, \\ldots, y_T$ 的线性方程的集合。\n",
    "\n",
    "```{note}\n",
    "为了能够解决一个二阶线性差分方程，我们需要两个**边界条件**，它们可以采取两个**初始条件**或两个**终端条件**或每种各一个的形式。\n",
    "```\n",
    "\n",
    "我们将方程写成堆叠系统\n",
    "\n",
    "$$\n",
    "\\underset{\\equiv A}{\\underbrace{\\left[\\begin{array}{cccccccc}\n",
    "1 & 0 & 0 & 0 & \\cdots & 0 & 0 & 0\\\\\n",
    "-\\alpha_{1} & 1 & 0 & 0 & \\cdots & 0 & 0 & 0\\\\\n",
    "-\\alpha_{2} & -\\alpha_{1} & 1 & 0 & \\cdots & 0 & 0 & 0\\\\\n",
    "0 & -\\alpha_{2} & -\\alpha_{1} & 1 & \\cdots & 0 & 0 & 0\\\\\n",
    "\\vdots & \\vdots & \\vdots & \\vdots & \\cdots & \\vdots & \\vdots & \\vdots\\\\\n",
    "0 & 0 & 0 & 0 & \\cdots & -\\alpha_{2} & -\\alpha_{1} & 1\n",
    "\\end{array}\\right]}}\\left[\\begin{array}{c}\n",
    "y_{1}\\\\\n",
    "y_{2}\\\\\n",
    "y_{3}\\\\\n",
    "y_{4}\\\\\n",
    "\\vdots\\\\\n",
    "y_{T}\n",
    "\\end{array}\\right]=\\underset{\\equiv b}{\\underbrace{\\left[\\begin{array}{c}\n",
    "\\alpha_{0}+\\alpha_{1}y_{0}+\\alpha_{2}y_{-1}\\\\\n",
    "\\alpha_{0}+\\alpha_{2}y_{0}\\\\\n",
    "\\alpha_{0}\\\\\n",
    "\\alpha_{0}\\\\\n",
    "\\vdots\\\\\n",
    "\\alpha_{0}\n",
    "\\end{array}\\right]}}\n",
    "$$\n",
    "\n",
    "或者\n",
    "\n",
    "$$\n",
    "A y = b\n",
    "$$\n",
    "\n",
    "其中\n",
    "\n",
    "$$\n",
    "y = \\begin{bmatrix} y_1 \\cr y_2 \\cr \\vdots \\cr y_T \\end{bmatrix}\n",
    "$$\n",
    "\n",
    "显然，$y$ 可以由以下公式计算得出\n",
    "\n",
    "$$\n",
    "y = A^{-1} b\n",
    "$$\n",
    "\n",
    "向量 $y$ 是完整的时间路径 $\\{y_t\\}_{t=1}^T$。\n",
    "\n",
    "我们用 Python 来实现一个例子来展现萨缪尔森乘数-加速器模型的基本思想。\n",
    "\n",
    "我们使用与{doc}`intermediate:samuelson`讲座相同的参数值。"
   ]
  },
  {
   "cell_type": "code",
   "execution_count": null,
   "id": "4f5b0378",
   "metadata": {},
   "outputs": [],
   "source": [
    "T = 80\n",
    "\n",
    "# 参数\n",
    "α_0 = 10.0\n",
    "α_1 = 1.53\n",
    "α_2 = -.9\n",
    "\n",
    "y_neg1 = 28.0 # y_{-1}\n",
    "y_0 = 24.0"
   ]
  },
  {
   "cell_type": "markdown",
   "id": "ac95e90d",
   "metadata": {},
   "source": [
    "现在我们构造 $A$ 和 $b$。"
   ]
  },
  {
   "cell_type": "code",
   "execution_count": null,
   "id": "30c27425",
   "metadata": {},
   "outputs": [],
   "source": [
    "A = np.identity(T)  # T x T 的单位矩阵\n",
    "\n",
    "for i in range(T):\n",
    "\n",
    "    if i-1 >= 0:\n",
    "        A[i, i-1] = -α_1\n",
    "\n",
    "    if i-2 >= 0:\n",
    "        A[i, i-2] = -α_2\n",
    "\n",
    "b = np.full(T, α_0)\n",
    "b[0] = α_0 + α_1 * y_0 + α_2 * y_neg1\n",
    "b[1] = α_0 + α_2 * y_0"
   ]
  },
  {
   "cell_type": "markdown",
   "id": "e01bcbb0",
   "metadata": {},
   "source": [
    "让我们打印出例子中的矩阵 $A$ 和向量 $b$。"
   ]
  },
  {
   "cell_type": "code",
   "execution_count": null,
   "id": "80804568",
   "metadata": {},
   "outputs": [],
   "source": [
    "A, b"
   ]
  },
  {
   "cell_type": "markdown",
   "id": "ec46af7e",
   "metadata": {},
   "source": [
    "现在我们来求解 $y$ 的路径。\n",
    "\n",
    "如果 $y_t$ 表示 $t$ 时期的国民生产总值，那么这就是萨缪尔森国民生产总值动态模型的一个版本。\n",
    "\n",
    "要求解 $y = A^{-1} b$，我们可以直接倒置 $A$"
   ]
  },
  {
   "cell_type": "code",
   "execution_count": null,
   "id": "fe224ed7",
   "metadata": {},
   "outputs": [],
   "source": [
    "A_inv = np.linalg.inv(A)\n",
    "\n",
    "y = A_inv @ b"
   ]
  },
  {
   "cell_type": "markdown",
   "id": "d2bb1470",
   "metadata": {},
   "source": [
    "或者我们可以使用 `np.linalg.solve`："
   ]
  },
  {
   "cell_type": "code",
   "execution_count": null,
   "id": "e9dbba9d",
   "metadata": {},
   "outputs": [],
   "source": [
    "y_second_method = np.linalg.solve(A, b)"
   ]
  },
  {
   "cell_type": "markdown",
   "id": "0e817ce2",
   "metadata": {},
   "source": [
    "我们确保这两种方法在一定精度下给出相同的结果："
   ]
  },
  {
   "cell_type": "code",
   "execution_count": null,
   "id": "6e731cc5",
   "metadata": {},
   "outputs": [],
   "source": [
    "np.allclose(y, y_second_method)"
   ]
  },
  {
   "cell_type": "markdown",
   "id": "963893cf",
   "metadata": {},
   "source": [
    "$A$ 是可逆的，因为它是下三角且[其对角线条目非零](https://www.statlect.com/matrix-algebra/triangular-matrix)"
   ]
  },
  {
   "cell_type": "code",
   "execution_count": null,
   "id": "a21e1fea",
   "metadata": {},
   "outputs": [],
   "source": [
    "# Check if A is lower triangular\n",
    "np.allclose(A, np.tril(A))"
   ]
  },
  {
   "cell_type": "markdown",
   "id": "384daa78",
   "metadata": {},
   "source": [
    "```{note}\n",
    "\n",
    "一般来说，`np.linalg.solve`比使用`np.linalg.solve`在数值上更稳定。\n",
    "然而，对于这个小例子来说，稳定性不是问题。此外，我们将下面重复使用`A_inv`，直接计算出它来会有比较好。\n",
    "```\n",
    "\n",
    "现在我们可以绘制时间序列。"
   ]
  },
  {
   "cell_type": "code",
   "execution_count": null,
   "id": "0a4d6e43",
   "metadata": {},
   "outputs": [],
   "source": [
    "plt.plot(np.arange(T)+1, y)\n",
    "plt.xlabel('t')\n",
    "plt.ylabel('y')\n",
    "\n",
    "plt.show()"
   ]
  },
  {
   "cell_type": "markdown",
   "id": "dec00665",
   "metadata": {},
   "source": [
    "通过在{eq}`tswm_1`中设 $y_t = y_{t-1} = y_{t-2} = y^*$，可以得到 $y_t$ 的 {ref}`*稳态*<scalar-dynam:steady-state>` 值 $y^*$。\n",
    "\n",
    "$$\n",
    "y^* = \\frac{\\alpha_{0}}{1 - \\alpha_{1} - \\alpha_{2}}\n",
    "$$\n",
    "\n",
    "如果我们将初始值设为 $y_{0} = y_{-1} = y^*$，那么 $y_{t}$ 将是恒定的："
   ]
  },
  {
   "cell_type": "code",
   "execution_count": null,
   "id": "cdcf3198",
   "metadata": {},
   "outputs": [],
   "source": [
    "y_star = α_0 / (1 - α_1 - α_2)\n",
    "y_neg1_steady = y_star # y_{-1}\n",
    "y_0_steady = y_star\n",
    "\n",
    "b_steady = np.full(T, α_0)\n",
    "b_steady[0] = α_0 + α_1 * y_0_steady + α_2 * y_neg1_steady\n",
    "b_steady[1] = α_0 + α_2 * y_0_steady"
   ]
  },
  {
   "cell_type": "code",
   "execution_count": null,
   "id": "85c1da11",
   "metadata": {},
   "outputs": [],
   "source": [
    "y_steady = A_inv @ b_steady"
   ]
  },
  {
   "cell_type": "code",
   "execution_count": null,
   "id": "9d41b45e",
   "metadata": {},
   "outputs": [],
   "source": [
    "plt.plot(np.arange(T)+1, y_steady)\n",
    "plt.xlabel('t')\n",
    "plt.ylabel('y')\n",
    "\n",
    "plt.show()"
   ]
  },
  {
   "cell_type": "markdown",
   "id": "50195b5b",
   "metadata": {},
   "source": [
    "## 添加随机项\n",
    "\n",
    "为了让这个例子有趣一些，我们将遵循经济学家[尤金·斯卢茨基](https://baike.baidu.com/item/%E5%B0%A4%E9%87%91%C2%B7%E6%96%AF%E5%8B%92%E8%8C%A8%E5%9F%BA/15727527)和[拉格纳·弗里希](https://baike.baidu.com/item/%E6%8B%89%E6%A0%BC%E7%BA%B3%C2%B7%E5%BC%97%E9%87%8C%E5%B8%8C/11051879)的方法，用以下**二阶随机线性差分方程**替换我们原来的二阶差分方程：\n",
    "\n",
    "\n",
    "```{math}\n",
    ":label: tswm_2\n",
    "\n",
    "y_{t} = \\alpha_{0} + \\alpha_{1} y_{t-1} + \\alpha_{2} y_{t-2} + u_t\n",
    "```\n",
    "\n",
    "其中 $u_{t} \\sim N\\left(0, \\sigma_{u}^{2}\\right)$ 并且是 {ref}`独立同分布<IID-theorem>` -- 相互独立且服从相同分布。\n",
    "\n",
    "我们将把这些 $T$ 个方程堆叠成一个以矩阵代数表示的系统。\n",
    "\n",
    "让我们定义随机向量\n",
    "\n",
    "$$\n",
    "u=\\left[\\begin{array}{c}\n",
    "u_{1}\\\\\n",
    "u_{2}\\\\\n",
    "\\vdots\\\\\n",
    "u_{T}\n",
    "\\end{array}\\right]\n",
    "$$\n",
    "\n",
    "其中 $A, b, y$ 定义如上，现在假设 $y$ 由系统\n",
    "\n",
    "$$\n",
    "A y = b + u\n",
    "$$ (eq:eqar)\n",
    "\n",
    "所支配\n",
    "\n",
    "$y$ 的解变为\n",
    "\n",
    "$$\n",
    "y = A^{-1} \\left(b + u\\right)\n",
    "$$ (eq:eqma)\n",
    "\n",
    "让我们在Python中尝试一下。"
   ]
  },
  {
   "cell_type": "code",
   "execution_count": null,
   "id": "184733b3",
   "metadata": {},
   "outputs": [],
   "source": [
    "σ_u = 2.\n",
    "u = np.random.normal(0, σ_u, size=T)\n",
    "y = A_inv @ (b + u)"
   ]
  },
  {
   "cell_type": "code",
   "execution_count": null,
   "id": "79712ced",
   "metadata": {},
   "outputs": [],
   "source": [
    "plt.plot(np.arange(T)+1, y)\n",
    "plt.xlabel('t')\n",
    "plt.ylabel('y')\n",
    "\n",
    "plt.show()"
   ]
  },
  {
   "cell_type": "markdown",
   "id": "66165e39",
   "metadata": {},
   "source": [
    "上面生成的时间序列与许多发达国家近几十年的实际GDP数据（去除趋势后）有着惊人的相似性。\n",
    "\n",
    "我们可以模拟 $N$ 条路径。"
   ]
  },
  {
   "cell_type": "code",
   "execution_count": null,
   "id": "8158de1c",
   "metadata": {},
   "outputs": [],
   "source": [
    "N = 100\n",
    "\n",
    "for i in range(N):\n",
    "    col = cm.viridis(np.random.rand())  # 从 viridis 色系中随机选择一种颜色\n",
    "    u = np.random.normal(0, σ_u, size=T)\n",
    "    y = A_inv @ (b + u)\n",
    "    plt.plot(np.arange(T)+1, y, lw=0.5, color=col)\n",
    "\n",
    "plt.xlabel('t')\n",
    "plt.ylabel('y')\n",
    "\n",
    "plt.show()"
   ]
  },
  {
   "cell_type": "markdown",
   "id": "bc227b06",
   "metadata": {},
   "source": [
    "同样考虑 $y_{0}$ 和 $y_{-1}$ 处于稳态的情况。"
   ]
  },
  {
   "cell_type": "code",
   "execution_count": null,
   "id": "6769fc0b",
   "metadata": {},
   "outputs": [],
   "source": [
    "N = 100\n",
    "\n",
    "for i in range(N):\n",
    "    col = cm.viridis(np.random.rand())  # 从 viridis 色系中随机选择一种颜色\n",
    "    u = np.random.normal(0, σ_u, size=T)\n",
    "    y_steady = A_inv @ (b_steady + u)\n",
    "    plt.plot(np.arange(T)+1, y_steady, lw=0.5, color=col)\n",
    "\n",
    "plt.xlabel('t')\n",
    "plt.ylabel('y')\n",
    "\n",
    "plt.show()"
   ]
  },
  {
   "cell_type": "markdown",
   "id": "cafec0ef",
   "metadata": {},
   "source": [
    "## 计算总体矩\n",
    "\n",
    "我们可以应用多元正态分布的标准公式来计算我们的时间序列模型\n",
    "\n",
    "$$\n",
    "y = A^{-1} (b + u) .\n",
    "$$\n",
    "\n",
    "你可以在这篇讲义中阅读关于多元正态分布的内容 [多元正态分布](https://python.quantecon.org/multivariate_normal.html)。\n",
    "\n",
    "让我们将我们的模型写为\n",
    "\n",
    "$$ \n",
    "y = \\tilde A (b + u)\n",
    "$$\n",
    "\n",
    "其中 $\\tilde A = A^{-1}$。\n",
    "\n",
    "因为正态随机变量的线性组合依然是正态的，我们知道\n",
    "\n",
    "$$\n",
    "y \\sim {\\mathcal N}(\\mu_y, \\Sigma_y)\n",
    "$$\n",
    "\n",
    "其中\n",
    "\n",
    "$$ \n",
    "\\mu_y = \\tilde A b\n",
    "$$\n",
    "\n",
    "以及\n",
    "\n",
    "$$\n",
    "\\Sigma_y = \\tilde A (\\sigma_u^2 I_{T \\times T} ) \\tilde A^T\n",
    "$$\n",
    "\n",
    "让我们编写一个Python类来计算均值向量 $\\mu_y$ 和协方差矩阵 $\\Sigma_y$。"
   ]
  },
  {
   "cell_type": "code",
   "execution_count": null,
   "id": "9f082e41",
   "metadata": {},
   "outputs": [],
   "source": [
    "class population_moments:\n",
    "    \"\"\"\n",
    "    计算人群矩 mu_y, Sigma_y.\n",
    "    ---------\n",
    "    参数:\n",
    "    alpha0, alpha1, alpha2, T, y_1, y0\n",
    "    \"\"\"\n",
    "    def __init__(self, α_0=10.0, \n",
    "                       α_1=1.53, \n",
    "                       α_2=-.9, \n",
    "                       T=80, \n",
    "                       y_neg1=28.0, \n",
    "                       y_0=24.0, \n",
    "                       σ_u=1):\n",
    "\n",
    "        # 计算 A\n",
    "        A = np.identity(T)\n",
    "\n",
    "        for i in range(T):\n",
    "            if i-1 >= 0:\n",
    "                A[i, i-1] = -α_1\n",
    "\n",
    "            if i-2 >= 0:\n",
    "                A[i, i-2] = -α_2\n",
    "\n",
    "        # 计算 b\n",
    "        b = np.full(T, α_0)\n",
    "        b[0] = α_0 + α_1 * y_0 + α_2 * y_neg1\n",
    "        b[1] = α_0 + α_2 * y_0\n",
    "\n",
    "        # 计算 A 的逆\n",
    "        A_inv = np.linalg.inv(A)\n",
    "\n",
    "        self.A, self.b, self.A_inv, self.σ_u, self.T = A, b, A_inv, σ_u, T\n",
    "    \n",
    "    def sample_y(self, n):\n",
    "        \"\"\"\n",
    "        提供一个大小为 n 的 y 样本。\n",
    "        \"\"\"\n",
    "        A_inv, σ_u, b, T = self.A_inv, self.σ_u, self.b, self.T\n",
    "        us = np.random.normal(0, σ_u, size=[n, T])\n",
    "        ys = np.vstack([A_inv @ (b + u) for u in us])\n",
    "\n",
    "        return ys\n",
    "\n",
    "    def get_moments(self):\n",
    "        \"\"\"\n",
    "        计算 y 的总体矩。\n",
    "        \"\"\"\n",
    "        A_inv, σ_u, b = self.A_inv, self.σ_u, self.b\n",
    "\n",
    "        # 计算 μ_y\n",
    "        self.μ_y = A_inv @ b\n",
    "        self.Σ_y = σ_u**2 * (A_inv @ A_inv.T)\n",
    "        \n",
    "        return self.μ_y, self.Σ_y\n",
    "\n",
    "\n",
    "series_process = population_moments()\n",
    "    \n",
    "μ_y, Σ_y = series_process.get_moments()\n",
    "A_inv = series_process.A_inv"
   ]
  },
  {
   "cell_type": "markdown",
   "id": "4d909079",
   "metadata": {},
   "source": [
    "接下来，让我们探索不同参数值对 $\\mu_y$ 和 $\\Sigma_y$ 的影响。\n",
    "\n",
    "这个分析也将帮助我们理解一个重要的性质：$y$ 序列的**统计平稳性**。我们会发现，只有在非常特定的初始条件下，这个序列才是平稳的。\n",
    "\n",
    "为了直观地理解这一点，我们先生成 $N$ 条 $y$ 序列的样本路径，并将它们与理论均值 $\\mu_y$ 进行对比。"
   ]
  },
  {
   "cell_type": "code",
   "execution_count": null,
   "id": "b172217b",
   "metadata": {},
   "outputs": [],
   "source": [
    "# 绘制均值\n",
    "N = 100\n",
    "\n",
    "for i in range(N):\n",
    "    col = cm.viridis(np.random.rand())  # 从 viridis 色系中随机选择一种颜色\n",
    "    ys = series_process.sample_y(N)\n",
    "    plt.plot(ys[i,:], lw=0.5, color=col)\n",
    "    plt.plot(μ_y, color='red')\n",
    "\n",
    "plt.xlabel('t')\n",
    "plt.ylabel('y')\n",
    "\n",
    "plt.show()"
   ]
  },
  {
   "cell_type": "markdown",
   "id": "7e9199da",
   "metadata": {},
   "source": [
    "从图中可以观察到一个有趣的现象：随着时间 $t$ 的推移，不同样本路径之间的离散程度在逐渐减小。\n",
    "\n",
    "绘制总体方差 $\\Sigma_y$ 对角线。"
   ]
  },
  {
   "cell_type": "code",
   "execution_count": null,
   "id": "2c7cc7a1",
   "metadata": {},
   "outputs": [],
   "source": [
    "# 绘制方差\n",
    "plt.plot(Σ_y.diagonal())\n",
    "plt.show()"
   ]
  },
  {
   "cell_type": "markdown",
   "id": "d7a33f2d",
   "metadata": {},
   "source": [
    "从图中我们可以看到，总体方差随时间增加，最终趋于一个稳定值。这种收敛行为反映了系统的内在稳定性。\n",
    "\n",
    "为了进一步验证这一点，让我们通过模拟多条样本路径来计算样本方差，并将其与理论预测进行对比。"
   ]
  },
  {
   "cell_type": "code",
   "execution_count": null,
   "id": "f201b6b4",
   "metadata": {},
   "outputs": [],
   "source": [
    "series_process = population_moments(α_0=0, \n",
    "                                    α_1=.8, \n",
    "                                    α_2=0, \n",
    "                                    T=6,\n",
    "                                    y_neg1=0., \n",
    "                                    y_0=0., \n",
    "                                    σ_u=1)\n",
    "\n",
    "μ_y, Σ_y = series_process.get_moments()\n",
    "print(\"μ_y = \", μ_y)\n",
    "print(\"Σ_y = \\n\", Σ_y)"
   ]
  },
  {
   "cell_type": "markdown",
   "id": "38014ab4",
   "metadata": {},
   "source": [
    "观察 $y_t$ 和 $y_{t-1}$ 之间的协方差（即超对角线上的元素），我们发现它们并不相等。\n",
    "\n",
    "这个特征告诉我们，由 $y$ 向量表示的时间序列不具有**平稳性**。\n",
    "\n",
    "要使序列变得平稳，我们需要对系统做一个关键的改变：不再将初始条件 $(y_0, y_{-1})$ 设为固定值，而是让它们服从一个特定的联合正态分布，这个分布具有合适的均值和协方差矩阵。\n",
    "\n",
    "如果你想了解如何实现这一点，可以参考我们在[线性状态空间模型](https://python.quantecon.org/linear_models.html)中的详细讨论。\n",
    "\n",
    "在继续深入分析之前，让我们先来看看 $\\Sigma_y$ 矩阵右下角的数值。"
   ]
  },
  {
   "cell_type": "code",
   "execution_count": null,
   "id": "8d644ac5",
   "metadata": {},
   "outputs": [],
   "source": [
    "series_process = population_moments()\n",
    "μ_y, Σ_y = series_process.get_moments()\n",
    "\n",
    "print(\"bottom right corner of Σ_y = \\n\", Σ_y[72:,72:])"
   ]
  },
  {
   "cell_type": "markdown",
   "id": "03f71c43",
   "metadata": {},
   "source": [
    "请注意，随着时间 $t$ 的增加，子对角线和超对角线上的元素似乎趋于收敛。\n",
    "\n",
    "这表明我们的过程是渐近平稳的。\n",
    "\n",
    "你可以在[线性状态空间模型](https://python.quantecon.org/linear_models.html)中阅读更多关于更一般线性时间序列模型的平稳性。\n",
    "\n",
    "通过观察不同时间段的$\\Sigma_y$的非对角线元素，我们可以学到很多关于这个过程的知识，但我们在这里暂时先不展开。"
   ]
  },
  {
   "cell_type": "markdown",
   "id": "d1189e82",
   "metadata": {},
   "source": [
    "## 移动平均表示\n",
    "\n",
    "让我们来研究 $A^{-1}$ 矩阵的结构。这个矩阵的形状会告诉我们一些关于系统动态特性的重要信息。\n",
    "\n",
    "  * 它是三角形矩阵、接近三角形，还是其他形式 $\\ldots$？\n",
    "\n",
    "为了便于观察，我们将打印 $A^{-1}$ 矩阵左上角的一部分，并将数值保留到小数点后三位。"
   ]
  },
  {
   "cell_type": "code",
   "execution_count": null,
   "id": "f3766932",
   "metadata": {},
   "outputs": [],
   "source": [
    "print(A_inv[0:7,0:7])"
   ]
  },
  {
   "cell_type": "markdown",
   "id": "d47f7f91",
   "metadata": {},
   "source": [
    "显然，$A^{-1}$ 是一个下三角矩阵。\n",
    "\n",
    "注意每一行的结尾都与前一行的前对角线元素相同。\n",
    "\n",
    "由于 $A^{-1}$ 是下三角矩阵，每一行代表特定 $t$ 时的 $y_t$，作为以下两部分之和：\n",
    "\n",
    "- 与初始条件 $b$ 相关的时间依赖函数 $A^{-1} b$，以及\n",
    "- 当前和过去 IID 冲击 $\\{u_t\\}$ 的加权和。\n",
    "\n",
    "因此，设 $\\tilde{A}=A^{-1}$。\n",
    "\n",
    "显然，对于 $t\\geq0$，\n",
    "\n",
    "$$\n",
    "y_{t+1}=\\sum_{i=1}^{t+1}\\tilde{A}_{t+1,i}b_{i}+\\sum_{i=1}^{t}\\tilde{A}_{t+1,i}u_{i}+u_{t+1}\n",
    "$$\n",
    "\n",
    "这是一个**移动平均**表示，其系数随时间变化。\n",
    "\n",
    "我们可以看到，系统既可以用移动平均形式 {eq}`eq:eqma` 表示，也可以用自回归形式 {eq}`eq:eqar` 表示。这两种表示方式描述了同一个随机过程，只是从不同的角度来看。\n",
    "\n",
    "## 从后视到前瞻\n",
    "\n",
    "到目前为止，我们分析的萨缪尔森模型是一个*后视(backward-looking)*模型 - 给定*初始条件*后，系统就会向前演化。\n",
    "\n",
    "接下来让我们转向一个*前瞻(forward-looking)*模型，这类模型在宏观经济学和金融学中被广泛使用。\n",
    "\n",
    "我们应用类似的线性代数工具来研究一个广泛用作宏观经济学和金融学基准的*完全预见*模型。\n",
    "\n",
    "例如，假设 $p_t$ 是股票价格，$y_t$ 是其股息。\n",
    "\n",
    "假设股息 $y_t$ 遵循我们前面分析的二阶差分方程，即\n",
    "\n",
    "$$\n",
    "y = A^{-1} \\left(b + u\\right)\n",
    "$$\n",
    "\n",
    "我们的*完全预见*股票价格模型是\n",
    "\n",
    "$$\n",
    "p_{t} = \\sum_{j=0}^{T-t} \\beta^{j} y_{t+j}, \\quad \\beta \\in (0,1)\n",
    "$$\n",
    "\n",
    "其中 $\\beta$ 是折现因子。\n",
    "\n",
    "该模型表明，股票在 $t$ 时刻的价格等于从当期开始直到终期所有未来股息的现值之和。每期股息都按折现因子 $\\beta$ 进行贴现，期数越远贴现程度越大。\n",
    "\n",
    "$$\n",
    "\\underset{\\equiv p}{\\underbrace{\\left[\\begin{array}{c}\n",
    "p_{1}\\\\\n",
    "p_{2}\\\\\n",
    "p_{3}\\\\\n",
    "\\vdots\\\\\n",
    "p_{T}\n",
    "\\end{array}\\right]}}=\\underset{\\equiv B}{\\underbrace{\\left[\\begin{array}{ccccc}\n",
    "1 & \\beta & \\beta^{2} & \\cdots & \\beta^{T-1}\\\\\n",
    "0 & 1 & \\beta & \\cdots & \\beta^{T-2}\\\\\n",
    "0 & 0 & 1 & \\cdots & \\beta^{T-3}\\\\\n",
    "\\vdots & \\vdots & \\vdots & \\vdots & \\vdots\\\\\n",
    "0 & 0 & 0 & \\cdots & 1\n",
    "\\end{array}\\right]}}\\left[\\begin{array}{c}\n",
    "y_{1}\\\\\n",
    "y_{2}\\\\\n",
    "y_{3}\\\\\n",
    "\\vdots\\\\\n",
    "y_{T}\n",
    "\\end{array}\\right]\n",
    "$$"
   ]
  },
  {
   "cell_type": "code",
   "execution_count": null,
   "id": "d5372c87",
   "metadata": {},
   "outputs": [],
   "source": [
    "β = .96"
   ]
  },
  {
   "cell_type": "code",
   "execution_count": null,
   "id": "9e05f56b",
   "metadata": {},
   "outputs": [],
   "source": [
    "#  构建 B\n",
    "B = np.zeros((T, T))\n",
    "\n",
    "for i in range(T):\n",
    "    B[i, i:] = β ** np.arange(0, T-i)"
   ]
  },
  {
   "cell_type": "code",
   "execution_count": null,
   "id": "a66394dc",
   "metadata": {},
   "outputs": [],
   "source": [
    "print(B)"
   ]
  },
  {
   "cell_type": "code",
   "execution_count": null,
   "id": "fff35fe9",
   "metadata": {},
   "outputs": [],
   "source": [
    "σ_u = 0.\n",
    "u = np.random.normal(0, σ_u, size=T)\n",
    "y = A_inv @ (b + u)\n",
    "y_steady = A_inv @ (b_steady + u)"
   ]
  },
  {
   "cell_type": "code",
   "execution_count": null,
   "id": "a194120e",
   "metadata": {},
   "outputs": [],
   "source": [
    "p = B @ y"
   ]
  },
  {
   "cell_type": "code",
   "execution_count": null,
   "id": "04bddfe4",
   "metadata": {},
   "outputs": [],
   "source": [
    "plt.plot(np.arange(0, T)+1, y, label='y')\n",
    "plt.plot(np.arange(0, T)+1, p, label='p')\n",
    "plt.xlabel('t')\n",
    "plt.ylabel('y/p')\n",
    "plt.legend()\n",
    "\n",
    "plt.show()"
   ]
  },
  {
   "cell_type": "markdown",
   "id": "fe415787",
   "metadata": {},
   "source": [
    "你能解释一下为什么价格的趋势在随时间下降吗？\n",
    "\n",
    "接下来还可以考虑当 $y_{0}$ 和 $y_{-1}$ 处于稳态时的情况。"
   ]
  },
  {
   "cell_type": "code",
   "execution_count": null,
   "id": "4dfb984f",
   "metadata": {},
   "outputs": [],
   "source": [
    "p_steady = B @ y_steady\n",
    "\n",
    "plt.plot(np.arange(0, T)+1, y_steady, label='y')\n",
    "plt.plot(np.arange(0, T)+1, p_steady, label='p')\n",
    "plt.xlabel('t')\n",
    "plt.ylabel('y/p')\n",
    "plt.legend()\n",
    "\n",
    "plt.show()"
   ]
  }
 ],
 "metadata": {
  "jupytext": {
   "text_representation": {
    "extension": ".md",
    "format_name": "myst",
    "format_version": 0.13,
    "jupytext_version": "1.16.1"
   }
  },
  "kernelspec": {
   "display_name": "Python 3 (ipykernel)",
   "language": "python",
   "name": "python3"
  },
  "source_map": [
   12,
   43,
   53,
   130,
   140,
   144,
   158,
   162,
   164,
   172,
   176,
   180,
   182,
   186,
   188,
   192,
   195,
   205,
   211,
   221,
   231,
   235,
   241,
   285,
   291,
   297,
   303,
   316,
   320,
   333,
   373,
   436,
   444,
   458,
   464,
   468,
   474,
   486,
   498,
   503,
   513,
   523,
   525,
   596,
   600,
   608,
   612,
   619,
   623,
   631,
   637
  ]
 },
 "nbformat": 4,
 "nbformat_minor": 5
}