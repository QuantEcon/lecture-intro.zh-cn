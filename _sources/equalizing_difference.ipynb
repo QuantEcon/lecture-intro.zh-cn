{
 "cells": [
  {
   "cell_type": "markdown",
   "id": "2a98141a",
   "metadata": {},
   "source": [
    "# Equalizing Difference Model\n",
    "\n",
    "## Overview\n",
    "\n",
    "This lecture presents a model of the college-high-school wage gap in which the\n",
    "\"time to build\" a college graduate plays a key role.\n",
    "\n",
    "\n",
    "Milton Friedman invented the   model  to study whether  differences in  earnings of US dentists and doctors were outcomes of  competitive labor markets or whether\n",
    "they reflected entry barriers imposed by governments working in conjunction with doctors' professional organizations. \n",
    "\n",
    "Chapter 4 of Jennifer Burns {cite}`Burns_2023` describes  Milton Friedman's joint work with Simon Kuznets that eventually  led to the publication of {cite}`kuznets1939incomes` and {cite}`friedman1954incomes`.\n",
    "\n",
    "To map  Friedman's application into our model, think of our high school students as Friedman's dentists and our college graduates as Friedman's doctors.  \n",
    "\n",
    "\n",
    "Our presentation is \"incomplete\" in the sense that it is based on  a single equation that would be part of set equilibrium conditions of a more fully articulated model.\n",
    "\n",
    "This ''equalizing difference'' equation  determines  a college-high-school wage ratio that equalizes present values of a high school educated  worker and a college educated worker.\n",
    "\n",
    "The idea  is that lifetime earnings somehow adjust to make a new high school worker indifferent between going to college and not going to college but instead going to work immediately.\n",
    "\n",
    "(The job of the \"other equations\" in a more complete model would be to describe what adjusts to bring about this outcome.)\n",
    "\n",
    "Our model is just one example  of an  \"equalizing difference\" theory of relative wage rates, a class of theories dating back at least to Adam Smith's **Wealth of Nations** {cite}`smith2010wealth`.  \n",
    "\n",
    "For most of this lecture, the only mathematical tools that we'll use are from linear algebra, in particular, matrix multiplication and matrix inversion.\n",
    "\n",
    "However, near the  end of the lecture, we'll use calculus just in case readers want to see how computing partial derivatives could let us present some findings more concisely.  \n",
    "\n",
    "And doing that will let illustrate how good Python is at doing calculus!\n",
    "\n",
    "But if you don't know calculus, our tools from linear algebra are certainly enough.\n",
    "\n",
    "As usual, we'll start by importing some Python modules."
   ]
  },
  {
   "cell_type": "code",
   "execution_count": 1,
   "id": "afce7494",
   "metadata": {},
   "outputs": [],
   "source": [
    "import numpy as np\n",
    "import matplotlib.pyplot as plt\n",
    "from collections import namedtuple\n",
    "from sympy import Symbol, Lambda, symbols"
   ]
  },
  {
   "cell_type": "markdown",
   "id": "28955a69",
   "metadata": {},
   "source": [
    "## The indifference condition\n",
    "\n",
    "The key idea is that the entry level college wage premium has to adjust to make a representative worker indifferent between going to college and not going to college.\n",
    "\n",
    "Let\n",
    "\n",
    " * $R > 1$ be the gross rate of return on a one-period bond\n",
    "\n",
    " * $t = 0, 1, 2, \\ldots T$ denote the years that a person either works or attends college\n",
    " \n",
    " * $0$ denote the first period after high school that a person can work if he does not go to college\n",
    " \n",
    " * $T$ denote the last period  that a person  works\n",
    " \n",
    " * $w_t^h$ be the wage at time $t$ of a high school graduate\n",
    " \n",
    " * $w_t^c$ be the wage at time $t$ of a college graduate\n",
    " \n",
    " * $\\gamma_h > 1$ be the (gross) rate of growth of wages of a  high school graduate, so that\n",
    " $ w_t^h = w_0^h \\gamma_h^t$\n",
    " \n",
    " * $\\gamma_c > 1$ be the (gross) rate of growth of wages of a  college  graduate, so that\n",
    " $ w_t^c = w_0^c \\gamma_c^t$\n",
    "\n",
    " * $D$ be the upfront monetary costs of going to college\n",
    "\n",
    "We now compute present values that a new high school graduate earns if\n",
    "\n",
    "  * he goes to work immediately and earns wages paid to someone without a college education\n",
    "  * he goes to college for four years and after graduating earns wages paid to a college graduate\n",
    "\n",
    "### Present value of a high school educated worker\n",
    "\n",
    "If someone goes to work immediately after high school  and  works for the  $T+1$ years $t=0, 1, 2, \\ldots, T$, she earns present value\n",
    "\n",
    "$$\n",
    "h_0 = \\sum_{t=0}^T R^{-t} w_t^h = w_0^h \\left[ \\frac{1 - (R^{-1} \\gamma_h)^{T+1} }{1 - R^{-1} \\gamma_h } \\right] \\equiv w_0^h A_h \n",
    "$$\n",
    "\n",
    "where \n",
    "\n",
    "$$\n",
    "A_h = \\left[ \\frac{1 - (R^{-1} \\gamma_h)^{T+1} }{1 - R^{-1} \\gamma_h } \\right].\n",
    "$$\n",
    "\n",
    "The present value $h_0$ is the \"human wealth\" at the beginning of time $0$ of someone who chooses not to attend college but instead to go to work immediately at the wage of a high school graduate.\n",
    "\n",
    "### Present value of a college-bound new high school graduate\n",
    "\n",
    "\n",
    "If someone goes to college for the four years $t=0, 1, 2, 3$ during which she earns $0$, but then goes to work  immediately after college   and  works for the $T-3$ years $t=4, 5, \\ldots ,T$, she earns present value\n",
    "\n",
    "$$\n",
    "c_0 = \\sum_{t=4}^T R^{-t} w_t^c = w_0^c (R^{-1} \\gamma_c)^4  \\left[ \\frac{1 - (R^{-1} \\gamma_c)^{T-3} }{1 - R^{-1} \\gamma_c } \\right] \\equiv w_0^c A_c\n",
    "$$\n",
    "\n",
    "where\n",
    "\n",
    "$$\n",
    "A_c = (R^{-1} \\gamma_c)^4  \\left[ \\frac{1 - (R^{-1} \\gamma_c)^{T-3} }{1 - R^{-1} \\gamma_c } \\right] .\n",
    "$$ \n",
    "\n",
    "The present value $c_0$  is the \"human wealth\" at the beginning of time $0$ of someone who chooses to attend college for four years and then start to work at time $t=4$ at the wage of a college graduate.\n",
    "\n",
    "\n",
    "Assume that college tuition plus four years of room and board amount to  $D$ and must be paid at time $0$.\n",
    "\n",
    "So net of monetary cost of college, the present value of attending college as of the first period after high school is\n",
    "\n",
    "$$ \n",
    "c_0 - D\n",
    "$$\n",
    "\n",
    "We now formulate a pure **equalizing difference** model of the initial college-high school wage gap $\\phi$ that verifies \n",
    "\n",
    "$$\n",
    "w_0^c = \\phi w_0^h \n",
    "$$\n",
    "\n",
    "We suppose that $R, \\gamma_h, \\gamma_c, T$ and also $w_0^h$  are fixed parameters. \n",
    "\n",
    "We start by noting that the pure equalizing difference model asserts that the college-high-school wage gap $\\phi$ solves an \n",
    "\"equalizing\" equation that sets the present value not going to college equal to the present value of going to college:\n",
    "\n",
    "\n",
    "$$\n",
    "h_0 = c_0 - D\n",
    "$$ \n",
    "\n",
    "or\n",
    "\n",
    "$$ \n",
    "w_0^h A_h  = \\phi w_0^h A_c - D .\n",
    "$$ (eq:equalize)\n",
    "\n",
    "This \"indifference condition\"  is the heart of the model.\n",
    "\n",
    "Solving equation {eq}`eq:equalize` for the college wage premium $\\phi$ we obtain\n",
    "\n",
    "$$\n",
    "\\phi  = \\frac{A_h}{A_c} + \\frac{D}{w_0^h A_c} .\n",
    "$$ (eq:wagepremium)\n",
    "\n",
    "In a **free college** special case $D =0$.\n",
    "\n",
    "Here  the only cost of going to college is the forgone earnings from being  a high school educated worker.  \n",
    "\n",
    "In that case,\n",
    "\n",
    "$$\n",
    "\\phi  = \\frac{A_h}{A_c} . \n",
    "$$\n",
    "\n",
    "In the next section we'll write Python code to compute $\\phi$  and plot it as a function of its determinants.\n",
    "\n",
    "## Computations\n",
    "\n",
    "\n",
    "We can have some fun with examples that tweak various parameters,\n",
    "prominently including $\\gamma_h, \\gamma_c, R$.\n",
    "\n",
    "Now let's write some Python code to compute $\\phi$ and plot it as a function of some of its determinants."
   ]
  },
  {
   "cell_type": "code",
   "execution_count": 2,
   "id": "10f4e135",
   "metadata": {},
   "outputs": [],
   "source": [
    "# Define the namedtuple for the equalizing difference model\n",
    "EqDiffModel = namedtuple('EqDiffModel', 'R T γ_h γ_c w_h0 D')\n",
    "\n",
    "def create_edm(R=1.05,   # gross rate of return\n",
    "               T=40,     # time horizon\n",
    "               γ_h=1.01, # high-school wage growth\n",
    "               γ_c=1.01, # college wage growth\n",
    "               w_h0=1,   # initial wage (high school)\n",
    "               D=10,     # cost for college\n",
    "              ):\n",
    "    \n",
    "    return EqDiffModel(R, T, γ_h, γ_c, w_h0, D)\n",
    "\n",
    "def compute_gap(model):\n",
    "    R, T, γ_h, γ_c, w_h0, D = model\n",
    "    \n",
    "    A_h = (1 - (γ_h/R)**(T+1)) / (1 - γ_h/R)\n",
    "    A_c = (1 - (γ_c/R)**(T-3)) / (1 - γ_c/R) * (γ_c/R)**4\n",
    "    ϕ = A_h / A_c + D / (w_h0 * A_c)\n",
    "    \n",
    "    return ϕ"
   ]
  },
  {
   "cell_type": "markdown",
   "id": "f8239f37",
   "metadata": {},
   "source": [
    "Using vectorization instead of loops,\n",
    "we  build some functions to help do comparative statics .\n",
    "\n",
    "For a given instance of the class, we want to recompute $\\phi$ when one parameter changes and others remain fixed.\n",
    "\n",
    "Let's do an example."
   ]
  },
  {
   "cell_type": "code",
   "execution_count": 3,
   "id": "d47d05b5",
   "metadata": {},
   "outputs": [
    {
     "data": {
      "text/plain": [
       "1.8041412724969135"
      ]
     },
     "execution_count": 3,
     "metadata": {},
     "output_type": "execute_result"
    }
   ],
   "source": [
    "ex1 = create_edm()\n",
    "gap1 = compute_gap(ex1)\n",
    "\n",
    "gap1"
   ]
  },
  {
   "cell_type": "markdown",
   "id": "6c7b8481",
   "metadata": {},
   "source": [
    "Let's not charge for college and recompute $\\phi$.\n",
    "\n",
    "The initial college wage premium should go down."
   ]
  },
  {
   "cell_type": "code",
   "execution_count": 4,
   "id": "48dd3126",
   "metadata": {},
   "outputs": [
    {
     "data": {
      "text/plain": [
       "1.2204649517903732"
      ]
     },
     "execution_count": 4,
     "metadata": {},
     "output_type": "execute_result"
    }
   ],
   "source": [
    "# free college\n",
    "ex2 = create_edm(D=0)\n",
    "gap2 = compute_gap(ex2)\n",
    "gap2"
   ]
  },
  {
   "cell_type": "markdown",
   "id": "e342509c",
   "metadata": {},
   "source": [
    "Let us construct some graphs that show us how the initial college-high-school wage ratio $\\phi$ would change if one of its determinants were to change. \n",
    "\n",
    "Let's start with the gross interest rate $R$."
   ]
  },
  {
   "cell_type": "code",
   "execution_count": 5,
   "id": "59efc13c",
   "metadata": {},
   "outputs": [
    {
     "data": {
      "image/png": "[encoded data removed]",
      "text/plain": [
       "<Figure size 640x480 with 1 Axes>"
      ]
     },
     "metadata": {},
     "output_type": "display_data"
    }
   ],
   "source": [
    "R_arr = np.linspace(1, 1.2, 50)\n",
    "models = [create_edm(R=r) for r in R_arr]\n",
    "gaps = [compute_gap(model) for model in models]\n",
    "\n",
    "plt.plot(R_arr, gaps)\n",
    "plt.xlabel(r'$R$')\n",
    "plt.ylabel(r'wage gap')\n",
    "plt.show()"
   ]
  },
  {
   "cell_type": "markdown",
   "id": "4a7b3fb5",
   "metadata": {},
   "source": [
    "Evidently, the initial wage ratio $\\phi$ must rise to compensate a prospective high school student for **waiting** to start receiving income -- remember that while she is earning nothing in years $t=0, 1, 2, 3$, the high school worker is earning a salary.\n",
    "\n",
    "Not let's study what happens to the initial wage ratio $\\phi$ if the rate of growth of college wages rises, holding constant other \n",
    "determinants of $\\phi$."
   ]
  },
  {
   "cell_type": "code",
   "execution_count": 6,
   "id": "1fc5e66a",
   "metadata": {},
   "outputs": [
    {
     "data": {
      "image/png": "[encoded data removed]",
      "text/plain": [
       "<Figure size 640x480 with 1 Axes>"
      ]
     },
     "metadata": {},
     "output_type": "display_data"
    }
   ],
   "source": [
    "γc_arr = np.linspace(1, 1.2, 50)\n",
    "models = [create_edm(γ_c=γ_c) for γ_c in γc_arr]\n",
    "gaps = [compute_gap(model) for model in models]\n",
    "\n",
    "plt.plot(γc_arr, gaps)\n",
    "plt.xlabel(r'$\\gamma_c$')\n",
    "plt.ylabel(r'wage gap')\n",
    "plt.show()"
   ]
  },
  {
   "cell_type": "markdown",
   "id": "0dc8135d",
   "metadata": {},
   "source": [
    "Notice how  the initial wage gap falls when the rate of growth $\\gamma_c$ of college wages rises.  \n",
    "\n",
    "The wage gap falls to \"equalize\" the present values of the two types of career, one as a high school worker, the other as a college worker.\n",
    "\n",
    "Can you guess what happens to the initial wage ratio $\\phi$ when next we vary the rate of growth of high school wages, holding all other determinants of $\\phi$ constant?  \n",
    "\n",
    "The following graph shows what happens."
   ]
  },
  {
   "cell_type": "code",
   "execution_count": 7,
   "id": "e8e85ebf",
   "metadata": {},
   "outputs": [
    {
     "data": {
      "image/png": "[encoded data removed]",
      "text/plain": [
       "<Figure size 640x480 with 1 Axes>"
      ]
     },
     "metadata": {},
     "output_type": "display_data"
    }
   ],
   "source": [
    "γh_arr = np.linspace(1, 1.1, 50)\n",
    "models = [create_edm(γ_h=γ_h) for γ_h in γh_arr]\n",
    "gaps = [compute_gap(model) for model in models]\n",
    "\n",
    "plt.plot(γh_arr, gaps)\n",
    "plt.xlabel(r'$\\gamma_h$')\n",
    "plt.ylabel(r'wage gap')\n",
    "plt.show()"
   ]
  },
  {
   "cell_type": "markdown",
   "id": "75ef7ef7",
   "metadata": {},
   "source": [
    "## Entrepreneur-worker interpretation\n",
    "\n",
    "We can add a parameter and reinterpret variables to get a model of entrepreneurs versus workers.\n",
    "\n",
    "We now let $h$ be  the present value of a \"worker\".\n",
    "\n",
    "We define the present value of an entrepreneur to be\n",
    "\n",
    "$$\n",
    "c_0 = \\pi \\sum_{t=4}^T R^{-t} w_t^c\n",
    "$$\n",
    "\n",
    "where $\\pi \\in (0,1) $ is  the probability that an entrepreneur's \"project\" succeeds.\n",
    "\n",
    "For our model of workers and firms, we'll interpret $D$ as the cost of becoming an entrepreneur.  \n",
    "\n",
    "This cost might include costs of hiring workers, office space, and lawyers. \n",
    "\n",
    "What we used to call the college, high school wage gap $\\phi$ now becomes the ratio\n",
    "of a successful entrepreneur's earnings to a worker's earnings.  \n",
    "\n",
    "We'll find that as $\\pi$ decreases, $\\phi$ increases, indicating that the riskier it is to\n",
    "be an entrepreneur, the higher must be the reward for a successful project. \n",
    "\n",
    "Now let's adopt the entrepreneur-worker interpretation of our model"
   ]
  },
  {
   "cell_type": "code",
   "execution_count": 8,
   "id": "7d075fda",
   "metadata": {},
   "outputs": [],
   "source": [
    "# Define a model of entrepreneur-worker interpretation\n",
    "EqDiffModel = namedtuple('EqDiffModel', 'R T γ_h γ_c w_h0 D π')\n",
    "\n",
    "def create_edm_π(R=1.05,   # gross rate of return\n",
    "                 T=40,     # time horizon\n",
    "                 γ_h=1.01, # high-school wage growth\n",
    "                 γ_c=1.01, # college wage growth\n",
    "                 w_h0=1,   # initial wage (high school)\n",
    "                 D=10,     # cost for college\n",
    "                 π=0       # chance of business success\n",
    "              ):\n",
    "    \n",
    "    return EqDiffModel(R, T, γ_h, γ_c, w_h0, D, π)\n",
    "\n",
    "\n",
    "def compute_gap(model):\n",
    "    R, T, γ_h, γ_c, w_h0, D, π = model\n",
    "    \n",
    "    A_h = (1 - (γ_h/R)**(T+1)) / (1 - γ_h/R)\n",
    "    A_c = (1 - (γ_c/R)**(T-3)) / (1 - γ_c/R) * (γ_c/R)**4\n",
    "    \n",
    "    # Incorprate chance of success\n",
    "    A_c = π * A_c\n",
    "    \n",
    "    ϕ = A_h / A_c + D / (w_h0 * A_c)\n",
    "    return ϕ"
   ]
  },
  {
   "cell_type": "markdown",
   "id": "e06e11a3",
   "metadata": {},
   "source": [
    "If the probability that a new business succeeds is $0.2$, let's compute the initial wage premium for successful entrepreneurs."
   ]
  },
  {
   "cell_type": "code",
   "execution_count": 9,
   "id": "449e55f0",
   "metadata": {},
   "outputs": [
    {
     "data": {
      "text/plain": [
       "9.020706362484567"
      ]
     },
     "execution_count": 9,
     "metadata": {},
     "output_type": "execute_result"
    }
   ],
   "source": [
    "ex3 = create_edm_π(π=0.2)\n",
    "gap3 = compute_gap(ex3)\n",
    "\n",
    "gap3"
   ]
  },
  {
   "cell_type": "markdown",
   "id": "7ba806b4",
   "metadata": {},
   "source": [
    "Now let's study how the initial wage premium for successful entrepreneurs depend on the success probability."
   ]
  },
  {
   "cell_type": "code",
   "execution_count": 10,
   "id": "a13aa04a",
   "metadata": {},
   "outputs": [
    {
     "data": {
      "image/png": "[encoded data removed]",
      "text/plain": [
       "<Figure size 640x480 with 1 Axes>"
      ]
     },
     "metadata": {},
     "output_type": "display_data"
    }
   ],
   "source": [
    "π_arr = np.linspace(0.2, 1, 50)\n",
    "models = [create_edm_π(π=π) for π in π_arr]\n",
    "gaps = [compute_gap(model) for model in models]\n",
    "\n",
    "plt.plot(π_arr, gaps)\n",
    "plt.ylabel(r'wage gap')\n",
    "plt.xlabel(r'$\\pi$')\n",
    "plt.show()"
   ]
  },
  {
   "cell_type": "markdown",
   "id": "6b2267f5",
   "metadata": {},
   "source": [
    "Does the graph make sense to you?\n",
    "\n",
    "\n",
    "\n",
    "## An application of calculus\n",
    "\n",
    "So far, we have used only linear algebra and it has been a good enough tool for us to  figure out how our model works.\n",
    "\n",
    "However, someone who knows calculus might want us  just to  take partial derivatives.\n",
    "\n",
    "We'll do that now.\n",
    "\n",
    "A reader who doesn't know calculus could read no further and feel confident that applying linear algebra has taught us the main properties of the model.\n",
    "\n",
    "But for a reader interested in how we can get Python to do all the hard work involved in computing partial derivatives, we'll say a few things about that now.  \n",
    "\n",
    "We'll use the Python module 'sympy' to compute partial derivatives of $\\phi$ with respect to the parameters that determine it.\n",
    "\n",
    "Define symbols"
   ]
  },
  {
   "cell_type": "code",
   "execution_count": 11,
   "id": "598fcd23",
   "metadata": {},
   "outputs": [],
   "source": [
    "γ_h, γ_c, w_h0, D = symbols('\\gamma_h, \\gamma_c, w_0^h, D', real=True)\n",
    "R, T = Symbol('R', real=True), Symbol('T', integer=True)"
   ]
  },
  {
   "cell_type": "markdown",
   "id": "fdec48d0",
   "metadata": {},
   "source": [
    "Define function $A_h$"
   ]
  },
  {
   "cell_type": "code",
   "execution_count": 12,
   "id": "37dea76c",
   "metadata": {},
   "outputs": [
    {
     "data": {
      "text/latex": [
       "$\\displaystyle \\left( \\left( \\gamma_{h}, \\  R, \\  T\\right) \\mapsto \\frac{1 - \\left(\\frac{\\gamma_{h}}{R}\\right)^{T + 1}}{1 - \\frac{\\gamma_{h}}{R}} \\right)$"
      ],
      "text/plain": [
       "Lambda((\\gamma_h, R, T), (1 - (\\gamma_h/R)**(T + 1))/(1 - \\gamma_h/R))"
      ]
     },
     "execution_count": 12,
     "metadata": {},
     "output_type": "execute_result"
    }
   ],
   "source": [
    "A_h = Lambda((γ_h, R, T), (1 - (γ_h/R)**(T+1)) / (1 - γ_h/R))\n",
    "A_h"
   ]
  },
  {
   "cell_type": "markdown",
   "id": "3f763a46",
   "metadata": {},
   "source": [
    "Define function $A_c$"
   ]
  },
  {
   "cell_type": "code",
   "execution_count": 13,
   "id": "6704109a",
   "metadata": {},
   "outputs": [
    {
     "data": {
      "text/latex": [
       "$\\displaystyle \\left( \\left( \\gamma_{c}, \\  R, \\  T\\right) \\mapsto \\frac{\\gamma_{c}^{4} \\cdot \\left(1 - \\left(\\frac{\\gamma_{c}}{R}\\right)^{T - 3}\\right)}{R^{4} \\cdot \\left(1 - \\frac{\\gamma_{c}}{R}\\right)} \\right)$"
      ],
      "text/plain": [
       "Lambda((\\gamma_c, R, T), \\gamma_c**4*(1 - (\\gamma_c/R)**(T - 3))/(R**4*(1 - \\gamma_c/R)))"
      ]
     },
     "execution_count": 13,
     "metadata": {},
     "output_type": "execute_result"
    }
   ],
   "source": [
    "A_c = Lambda((γ_c, R, T), (1 - (γ_c/R)**(T-3)) / (1 - γ_c/R) * (γ_c/R)**4)\n",
    "A_c"
   ]
  },
  {
   "cell_type": "markdown",
   "id": "28c495ce",
   "metadata": {},
   "source": [
    "Now, define $\\phi$"
   ]
  },
  {
   "cell_type": "code",
   "execution_count": 14,
   "id": "22e2db55",
   "metadata": {},
   "outputs": [],
   "source": [
    "ϕ = Lambda((D, γ_h, γ_c, R, T, w_h0), A_h(γ_h, R, T)/A_c(γ_c, R, T) + D/(w_h0*A_c(γ_c, R, T)))"
   ]
  },
  {
   "cell_type": "code",
   "execution_count": 15,
   "id": "cdea7ca4",
   "metadata": {},
   "outputs": [
    {
     "data": {
      "text/latex": [
       "$\\displaystyle \\left( \\left( D, \\  \\gamma_{h}, \\  \\gamma_{c}, \\  R, \\  T, \\  w^{h}_{0}\\right) \\mapsto \\frac{D R^{4} \\cdot \\left(1 - \\frac{\\gamma_{c}}{R}\\right)}{\\gamma_{c}^{4} w^{h}_{0} \\cdot \\left(1 - \\left(\\frac{\\gamma_{c}}{R}\\right)^{T - 3}\\right)} + \\frac{R^{4} \\cdot \\left(1 - \\frac{\\gamma_{c}}{R}\\right) \\left(1 - \\left(\\frac{\\gamma_{h}}{R}\\right)^{T + 1}\\right)}{\\gamma_{c}^{4} \\cdot \\left(1 - \\left(\\frac{\\gamma_{c}}{R}\\right)^{T - 3}\\right) \\left(1 - \\frac{\\gamma_{h}}{R}\\right)} \\right)$"
      ],
      "text/plain": [
       "Lambda((D, \\gamma_h, \\gamma_c, R, T, w_0^h), D*R**4*(1 - \\gamma_c/R)/(\\gamma_c**4*w_0^h*(1 - (\\gamma_c/R)**(T - 3))) + R**4*(1 - \\gamma_c/R)*(1 - (\\gamma_h/R)**(T + 1))/(\\gamma_c**4*(1 - (\\gamma_c/R)**(T - 3))*(1 - \\gamma_h/R)))"
      ]
     },
     "execution_count": 15,
     "metadata": {},
     "output_type": "execute_result"
    }
   ],
   "source": [
    "ϕ"
   ]
  },
  {
   "cell_type": "markdown",
   "id": "494d5958",
   "metadata": {},
   "source": [
    "We begin by setting  default parameter values."
   ]
  },
  {
   "cell_type": "code",
   "execution_count": 16,
   "id": "fe421da1",
   "metadata": {},
   "outputs": [],
   "source": [
    "R_value = 1.05\n",
    "T_value = 40\n",
    "γ_h_value, γ_c_value = 1.01, 1.01\n",
    "w_h0_value = 1\n",
    "D_value = 10"
   ]
  },
  {
   "cell_type": "markdown",
   "id": "afc49c66",
   "metadata": {},
   "source": [
    "Now let's compute $\\frac{\\partial \\phi}{\\partial D}$ and then evaluate it at the default values"
   ]
  },
  {
   "cell_type": "code",
   "execution_count": 17,
   "id": "b8221de1",
   "metadata": {},
   "outputs": [
    {
     "data": {
      "text/latex": [
       "$\\displaystyle \\frac{R^{4} \\cdot \\left(1 - \\frac{\\gamma_{c}}{R}\\right)}{\\gamma_{c}^{4} w^{h}_{0} \\cdot \\left(1 - \\left(\\frac{\\gamma_{c}}{R}\\right)^{T - 3}\\right)}$"
      ],
      "text/plain": [
       "R**4*(1 - \\gamma_c/R)/(\\gamma_c**4*w_0^h*(1 - (\\gamma_c/R)**(T - 3)))"
      ]
     },
     "execution_count": 17,
     "metadata": {},
     "output_type": "execute_result"
    }
   ],
   "source": [
    "ϕ_D = ϕ(D, γ_h, γ_c, R, T, w_h0).diff(D)\n",
    "ϕ_D"
   ]
  },
  {
   "cell_type": "code",
   "execution_count": 18,
   "id": "8d7cfcd5",
   "metadata": {},
   "outputs": [
    {
     "data": {
      "text/latex": [
       "$\\displaystyle 0.058367632070654$"
      ],
      "text/plain": [
       "0.0583676320706540"
      ]
     },
     "execution_count": 18,
     "metadata": {},
     "output_type": "execute_result"
    }
   ],
   "source": [
    "# Numerical value at default parameters\n",
    "ϕ_D_func = Lambda((D, γ_h, γ_c, R, T, w_h0), ϕ_D)\n",
    "ϕ_D_func(D_value, γ_h_value, γ_c_value, R_value, T_value, w_h0_value)"
   ]
  },
  {
   "cell_type": "markdown",
   "id": "fd2ba34b",
   "metadata": {},
   "source": [
    "Thus, as with our earlier graph, we find that raising $R$ increases the initial college wage premium $\\phi$.\n",
    "\n",
    "Compute $\\frac{\\partial \\phi}{\\partial T}$ and evaluate it at default parameters"
   ]
  },
  {
   "cell_type": "code",
   "execution_count": 19,
   "id": "cb58eeff",
   "metadata": {},
   "outputs": [
    {
     "data": {
      "text/latex": [
       "$\\displaystyle \\frac{D R^{4} \\left(\\frac{\\gamma_{c}}{R}\\right)^{T - 3} \\cdot \\left(1 - \\frac{\\gamma_{c}}{R}\\right) \\log{\\left(\\frac{\\gamma_{c}}{R} \\right)}}{\\gamma_{c}^{4} w^{h}_{0} \\left(1 - \\left(\\frac{\\gamma_{c}}{R}\\right)^{T - 3}\\right)^{2}} + \\frac{R^{4} \\left(\\frac{\\gamma_{c}}{R}\\right)^{T - 3} \\cdot \\left(1 - \\frac{\\gamma_{c}}{R}\\right) \\left(1 - \\left(\\frac{\\gamma_{h}}{R}\\right)^{T + 1}\\right) \\log{\\left(\\frac{\\gamma_{c}}{R} \\right)}}{\\gamma_{c}^{4} \\left(1 - \\left(\\frac{\\gamma_{c}}{R}\\right)^{T - 3}\\right)^{2} \\cdot \\left(1 - \\frac{\\gamma_{h}}{R}\\right)} - \\frac{R^{4} \\left(\\frac{\\gamma_{h}}{R}\\right)^{T + 1} \\cdot \\left(1 - \\frac{\\gamma_{c}}{R}\\right) \\log{\\left(\\frac{\\gamma_{h}}{R} \\right)}}{\\gamma_{c}^{4} \\cdot \\left(1 - \\left(\\frac{\\gamma_{c}}{R}\\right)^{T - 3}\\right) \\left(1 - \\frac{\\gamma_{h}}{R}\\right)}$"
      ],
      "text/plain": [
       "D*R**4*(\\gamma_c/R)**(T - 3)*(1 - \\gamma_c/R)*log(\\gamma_c/R)/(\\gamma_c**4*w_0^h*(1 - (\\gamma_c/R)**(T - 3))**2) + R**4*(\\gamma_c/R)**(T - 3)*(1 - \\gamma_c/R)*(1 - (\\gamma_h/R)**(T + 1))*log(\\gamma_c/R)/(\\gamma_c**4*(1 - (\\gamma_c/R)**(T - 3))**2*(1 - \\gamma_h/R)) - R**4*(\\gamma_h/R)**(T + 1)*(1 - \\gamma_c/R)*log(\\gamma_h/R)/(\\gamma_c**4*(1 - (\\gamma_c/R)**(T - 3))*(1 - \\gamma_h/R))"
      ]
     },
     "execution_count": 19,
     "metadata": {},
     "output_type": "execute_result"
    }
   ],
   "source": [
    "ϕ_T = ϕ(D, γ_h, γ_c, R, T, w_h0).diff(T)\n",
    "ϕ_T"
   ]
  },
  {
   "cell_type": "code",
   "execution_count": 20,
   "id": "6808101e",
   "metadata": {},
   "outputs": [
    {
     "data": {
      "text/latex": [
       "$\\displaystyle -0.00973478032996598$"
      ],
      "text/plain": [
       "-0.00973478032996598"
      ]
     },
     "execution_count": 20,
     "metadata": {},
     "output_type": "execute_result"
    }
   ],
   "source": [
    "# Numerical value at default parameters\n",
    "ϕ_T_func = Lambda((D, γ_h, γ_c, R, T, w_h0), ϕ_T)\n",
    "ϕ_T_func(D_value, γ_h_value, γ_c_value, R_value, T_value, w_h0_value)"
   ]
  },
  {
   "cell_type": "markdown",
   "id": "ae84ed45",
   "metadata": {},
   "source": [
    "We find that raising $T$ decreases the initial college wage premium $\\phi$. \n",
    "\n",
    "This is because college graduates now have longer career lengths to \"pay off\" the time and other costs they paid to go to college\n",
    "\n",
    "Let's compute $\\frac{\\partial \\phi}{\\partial γ_h}$ and evaluate it at default parameters."
   ]
  },
  {
   "cell_type": "code",
   "execution_count": 21,
   "id": "27780af3",
   "metadata": {},
   "outputs": [
    {
     "data": {
      "text/latex": [
       "$\\displaystyle - \\frac{R^{4} \\left(\\frac{\\gamma_{h}}{R}\\right)^{T + 1} \\cdot \\left(1 - \\frac{\\gamma_{c}}{R}\\right) \\left(T + 1\\right)}{\\gamma_{c}^{4} \\gamma_{h} \\left(1 - \\left(\\frac{\\gamma_{c}}{R}\\right)^{T - 3}\\right) \\left(1 - \\frac{\\gamma_{h}}{R}\\right)} + \\frac{R^{3} \\cdot \\left(1 - \\frac{\\gamma_{c}}{R}\\right) \\left(1 - \\left(\\frac{\\gamma_{h}}{R}\\right)^{T + 1}\\right)}{\\gamma_{c}^{4} \\cdot \\left(1 - \\left(\\frac{\\gamma_{c}}{R}\\right)^{T - 3}\\right) \\left(1 - \\frac{\\gamma_{h}}{R}\\right)^{2}}$"
      ],
      "text/plain": [
       "-R**4*(\\gamma_h/R)**(T + 1)*(1 - \\gamma_c/R)*(T + 1)/(\\gamma_c**4*\\gamma_h*(1 - (\\gamma_c/R)**(T - 3))*(1 - \\gamma_h/R)) + R**3*(1 - \\gamma_c/R)*(1 - (\\gamma_h/R)**(T + 1))/(\\gamma_c**4*(1 - (\\gamma_c/R)**(T - 3))*(1 - \\gamma_h/R)**2)"
      ]
     },
     "execution_count": 21,
     "metadata": {},
     "output_type": "execute_result"
    }
   ],
   "source": [
    "ϕ_γ_h = ϕ(D, γ_h, γ_c, R, T, w_h0).diff(γ_h)\n",
    "ϕ_γ_h"
   ]
  },
  {
   "cell_type": "code",
   "execution_count": 22,
   "id": "735f3720",
   "metadata": {},
   "outputs": [
    {
     "data": {
      "text/latex": [
       "$\\displaystyle 17.8590485545256$"
      ],
      "text/plain": [
       "17.8590485545256"
      ]
     },
     "execution_count": 22,
     "metadata": {},
     "output_type": "execute_result"
    }
   ],
   "source": [
    "# Numerical value at default parameters\n",
    "ϕ_γ_h_func = Lambda((D, γ_h, γ_c, R, T, w_h0), ϕ_γ_h)\n",
    "ϕ_γ_h_func(D_value, γ_h_value, γ_c_value, R_value, T_value, w_h0_value)"
   ]
  },
  {
   "cell_type": "markdown",
   "id": "69003798",
   "metadata": {},
   "source": [
    "We find that raising $\\gamma_h$ increases the initial college wage premium $\\phi$, in line with our earlier graphical analysis.\n",
    "\n",
    "Compute $\\frac{\\partial \\phi}{\\partial γ_c}$ and evaluate it numerically at default parameter values"
   ]
  },
  {
   "cell_type": "code",
   "execution_count": 23,
   "id": "955e9dac",
   "metadata": {},
   "outputs": [
    {
     "data": {
      "text/latex": [
       "$\\displaystyle \\frac{D R^{4} \\left(\\frac{\\gamma_{c}}{R}\\right)^{T - 3} \\cdot \\left(1 - \\frac{\\gamma_{c}}{R}\\right) \\left(T - 3\\right)}{\\gamma_{c}^{5} w^{h}_{0} \\left(1 - \\left(\\frac{\\gamma_{c}}{R}\\right)^{T - 3}\\right)^{2}} - \\frac{4 D R^{4} \\cdot \\left(1 - \\frac{\\gamma_{c}}{R}\\right)}{\\gamma_{c}^{5} w^{h}_{0} \\cdot \\left(1 - \\left(\\frac{\\gamma_{c}}{R}\\right)^{T - 3}\\right)} - \\frac{D R^{3}}{\\gamma_{c}^{4} w^{h}_{0} \\cdot \\left(1 - \\left(\\frac{\\gamma_{c}}{R}\\right)^{T - 3}\\right)} + \\frac{R^{4} \\left(\\frac{\\gamma_{c}}{R}\\right)^{T - 3} \\cdot \\left(1 - \\frac{\\gamma_{c}}{R}\\right) \\left(1 - \\left(\\frac{\\gamma_{h}}{R}\\right)^{T + 1}\\right) \\left(T - 3\\right)}{\\gamma_{c}^{5} \\left(1 - \\left(\\frac{\\gamma_{c}}{R}\\right)^{T - 3}\\right)^{2} \\cdot \\left(1 - \\frac{\\gamma_{h}}{R}\\right)} - \\frac{4 R^{4} \\cdot \\left(1 - \\frac{\\gamma_{c}}{R}\\right) \\left(1 - \\left(\\frac{\\gamma_{h}}{R}\\right)^{T + 1}\\right)}{\\gamma_{c}^{5} \\cdot \\left(1 - \\left(\\frac{\\gamma_{c}}{R}\\right)^{T - 3}\\right) \\left(1 - \\frac{\\gamma_{h}}{R}\\right)} - \\frac{R^{3} \\cdot \\left(1 - \\left(\\frac{\\gamma_{h}}{R}\\right)^{T + 1}\\right)}{\\gamma_{c}^{4} \\cdot \\left(1 - \\left(\\frac{\\gamma_{c}}{R}\\right)^{T - 3}\\right) \\left(1 - \\frac{\\gamma_{h}}{R}\\right)}$"
      ],
      "text/plain": [
       "D*R**4*(\\gamma_c/R)**(T - 3)*(1 - \\gamma_c/R)*(T - 3)/(\\gamma_c**5*w_0^h*(1 - (\\gamma_c/R)**(T - 3))**2) - 4*D*R**4*(1 - \\gamma_c/R)/(\\gamma_c**5*w_0^h*(1 - (\\gamma_c/R)**(T - 3))) - D*R**3/(\\gamma_c**4*w_0^h*(1 - (\\gamma_c/R)**(T - 3))) + R**4*(\\gamma_c/R)**(T - 3)*(1 - \\gamma_c/R)*(1 - (\\gamma_h/R)**(T + 1))*(T - 3)/(\\gamma_c**5*(1 - (\\gamma_c/R)**(T - 3))**2*(1 - \\gamma_h/R)) - 4*R**4*(1 - \\gamma_c/R)*(1 - (\\gamma_h/R)**(T + 1))/(\\gamma_c**5*(1 - (\\gamma_c/R)**(T - 3))*(1 - \\gamma_h/R)) - R**3*(1 - (\\gamma_h/R)**(T + 1))/(\\gamma_c**4*(1 - (\\gamma_c/R)**(T - 3))*(1 - \\gamma_h/R))"
      ]
     },
     "execution_count": 23,
     "metadata": {},
     "output_type": "execute_result"
    }
   ],
   "source": [
    "ϕ_γ_c = ϕ(D, γ_h, γ_c, R, T, w_h0).diff(γ_c)\n",
    "ϕ_γ_c"
   ]
  },
  {
   "cell_type": "code",
   "execution_count": 24,
   "id": "ca3bff5b",
   "metadata": {},
   "outputs": [
    {
     "data": {
      "text/latex": [
       "$\\displaystyle -31.6486401973376$"
      ],
      "text/plain": [
       "-31.6486401973376"
      ]
     },
     "execution_count": 24,
     "metadata": {},
     "output_type": "execute_result"
    }
   ],
   "source": [
    "# Numerical value at default parameters\n",
    "ϕ_γ_c_func = Lambda((D, γ_h, γ_c, R, T, w_h0), ϕ_γ_c)\n",
    "ϕ_γ_c_func(D_value, γ_h_value, γ_c_value, R_value, T_value, w_h0_value)"
   ]
  },
  {
   "cell_type": "markdown",
   "id": "164bfb6f",
   "metadata": {},
   "source": [
    "We find that raising $\\gamma_c$ decreases the initial college wage premium $\\phi$, in line with our earlier graphical analysis.\n",
    "\n",
    "Let's compute $\\frac{\\partial \\phi}{\\partial R}$ and evaluate it numerically at default parameter values"
   ]
  },
  {
   "cell_type": "code",
   "execution_count": 25,
   "id": "6e13c79e",
   "metadata": {},
   "outputs": [
    {
     "data": {
      "text/latex": [
       "$\\displaystyle - \\frac{D R^{3} \\left(\\frac{\\gamma_{c}}{R}\\right)^{T - 3} \\cdot \\left(1 - \\frac{\\gamma_{c}}{R}\\right) \\left(T - 3\\right)}{\\gamma_{c}^{4} w^{h}_{0} \\left(1 - \\left(\\frac{\\gamma_{c}}{R}\\right)^{T - 3}\\right)^{2}} + \\frac{4 D R^{3} \\cdot \\left(1 - \\frac{\\gamma_{c}}{R}\\right)}{\\gamma_{c}^{4} w^{h}_{0} \\cdot \\left(1 - \\left(\\frac{\\gamma_{c}}{R}\\right)^{T - 3}\\right)} + \\frac{D R^{2}}{\\gamma_{c}^{3} w^{h}_{0} \\cdot \\left(1 - \\left(\\frac{\\gamma_{c}}{R}\\right)^{T - 3}\\right)} - \\frac{R^{3} \\left(\\frac{\\gamma_{c}}{R}\\right)^{T - 3} \\cdot \\left(1 - \\frac{\\gamma_{c}}{R}\\right) \\left(1 - \\left(\\frac{\\gamma_{h}}{R}\\right)^{T + 1}\\right) \\left(T - 3\\right)}{\\gamma_{c}^{4} \\left(1 - \\left(\\frac{\\gamma_{c}}{R}\\right)^{T - 3}\\right)^{2} \\cdot \\left(1 - \\frac{\\gamma_{h}}{R}\\right)} + \\frac{R^{3} \\left(\\frac{\\gamma_{h}}{R}\\right)^{T + 1} \\cdot \\left(1 - \\frac{\\gamma_{c}}{R}\\right) \\left(T + 1\\right)}{\\gamma_{c}^{4} \\cdot \\left(1 - \\left(\\frac{\\gamma_{c}}{R}\\right)^{T - 3}\\right) \\left(1 - \\frac{\\gamma_{h}}{R}\\right)} + \\frac{4 R^{3} \\cdot \\left(1 - \\frac{\\gamma_{c}}{R}\\right) \\left(1 - \\left(\\frac{\\gamma_{h}}{R}\\right)^{T + 1}\\right)}{\\gamma_{c}^{4} \\cdot \\left(1 - \\left(\\frac{\\gamma_{c}}{R}\\right)^{T - 3}\\right) \\left(1 - \\frac{\\gamma_{h}}{R}\\right)} + \\frac{R^{2} \\cdot \\left(1 - \\left(\\frac{\\gamma_{h}}{R}\\right)^{T + 1}\\right)}{\\gamma_{c}^{3} \\cdot \\left(1 - \\left(\\frac{\\gamma_{c}}{R}\\right)^{T - 3}\\right) \\left(1 - \\frac{\\gamma_{h}}{R}\\right)} - \\frac{R^{2} \\gamma_{h} \\left(1 - \\frac{\\gamma_{c}}{R}\\right) \\left(1 - \\left(\\frac{\\gamma_{h}}{R}\\right)^{T + 1}\\right)}{\\gamma_{c}^{4} \\cdot \\left(1 - \\left(\\frac{\\gamma_{c}}{R}\\right)^{T - 3}\\right) \\left(1 - \\frac{\\gamma_{h}}{R}\\right)^{2}}$"
      ],
      "text/plain": [
       "-D*R**3*(\\gamma_c/R)**(T - 3)*(1 - \\gamma_c/R)*(T - 3)/(\\gamma_c**4*w_0^h*(1 - (\\gamma_c/R)**(T - 3))**2) + 4*D*R**3*(1 - \\gamma_c/R)/(\\gamma_c**4*w_0^h*(1 - (\\gamma_c/R)**(T - 3))) + D*R**2/(\\gamma_c**3*w_0^h*(1 - (\\gamma_c/R)**(T - 3))) - R**3*(\\gamma_c/R)**(T - 3)*(1 - \\gamma_c/R)*(1 - (\\gamma_h/R)**(T + 1))*(T - 3)/(\\gamma_c**4*(1 - (\\gamma_c/R)**(T - 3))**2*(1 - \\gamma_h/R)) + R**3*(\\gamma_h/R)**(T + 1)*(1 - \\gamma_c/R)*(T + 1)/(\\gamma_c**4*(1 - (\\gamma_c/R)**(T - 3))*(1 - \\gamma_h/R)) + 4*R**3*(1 - \\gamma_c/R)*(1 - (\\gamma_h/R)**(T + 1))/(\\gamma_c**4*(1 - (\\gamma_c/R)**(T - 3))*(1 - \\gamma_h/R)) + R**2*(1 - (\\gamma_h/R)**(T + 1))/(\\gamma_c**3*(1 - (\\gamma_c/R)**(T - 3))*(1 - \\gamma_h/R)) - R**2*\\gamma_h*(1 - \\gamma_c/R)*(1 - (\\gamma_h/R)**(T + 1))/(\\gamma_c**4*(1 - (\\gamma_c/R)**(T - 3))*(1 - \\gamma_h/R)**2)"
      ]
     },
     "execution_count": 25,
     "metadata": {},
     "output_type": "execute_result"
    }
   ],
   "source": [
    "ϕ_R = ϕ(D, γ_h, γ_c, R, T, w_h0).diff(R)\n",
    "ϕ_R"
   ]
  },
  {
   "cell_type": "code",
   "execution_count": 26,
   "id": "dd972b6e",
   "metadata": {},
   "outputs": [
    {
     "data": {
      "text/latex": [
       "$\\displaystyle 13.2642738659429$"
      ],
      "text/plain": [
       "13.2642738659429"
      ]
     },
     "execution_count": 26,
     "metadata": {},
     "output_type": "execute_result"
    }
   ],
   "source": [
    "# Numerical value at default parameters\n",
    "ϕ_R_func = Lambda((D, γ_h, γ_c, R, T, w_h0), ϕ_R)\n",
    "ϕ_R_func(D_value, γ_h_value, γ_c_value, R_value, T_value, w_h0_value)"
   ]
  },
  {
   "cell_type": "markdown",
   "id": "5555cf6a",
   "metadata": {},
   "source": [
    "We find that raising the gross interest rate $R$ increases the initial college wage premium $\\phi$, in line with our earlier graphical analysis."
   ]
  }
 ],
 "metadata": {
  "jupytext": {
   "text_representation": {
    "extension": ".md",
    "format_name": "myst",
    "format_version": 0.13,
    "jupytext_version": "1.16.1"
   }
  },
  "kernelspec": {
   "display_name": "Python 3 (ipykernel)",
   "language": "python",
   "name": "python3"
  },
  "language_info": {
   "codemirror_mode": {
    "name": "ipython",
    "version": 3
   },
   "file_extension": ".py",
   "mimetype": "text/x-python",
   "name": "python",
   "nbconvert_exporter": "python",
   "pygments_lexer": "ipython3",
   "version": "3.11.9"
  },
  "source_map": [
   12,
   50,
   55,
   180,
   202,
   211,
   216,
   222,
   227,
   233,
   242,
   249,
   258,
   268,
   277,
   305,
   332,
   336,
   341,
   345,
   354,
   376,
   379,
   383,
   386,
   390,
   393,
   397,
   401,
   403,
   407,
   413,
   417,
   422,
   426,
   432,
   437,
   441,
   449,
   454,
   458,
   464,
   469,
   473,
   479,
   484,
   488
  ]
 },
 "nbformat": 4,
 "nbformat_minor": 5
}