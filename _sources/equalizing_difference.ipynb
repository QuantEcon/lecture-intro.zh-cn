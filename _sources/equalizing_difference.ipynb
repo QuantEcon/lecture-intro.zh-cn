{
 "cells": [
  {
   "cell_type": "markdown",
   "id": "b5f03c76",
   "metadata": {},
   "source": [
    "# 均衡差异模型\n",
    "\n",
    "## 概述\n",
    "本讲座介绍了一个大学-高中工资差距模型，其中\"培养\"大学毕业生的时间扮演了关键角色。\n",
    "\n",
    "米尔顿·弗里德曼发明了这个模型，用来研究美国牙医和医生收入的差异是竞争性劳动力市场的结果，还是政府与医生专业组织合作施加的入行障碍的结果。\n",
    "\n",
    "詹妮弗·伯恩斯的著作{cite}`Burns_2023`第4章描述了米尔顿·弗里德曼与西蒙·库兹涅茨的合作研究，最终导致了{cite}`kuznets1939incomes`和{cite}`friedman1954incomes`的发表。\n",
    "\n",
    "将弗里德曼的应用映射到我们的模型中，可以将我们的高中生视为弗里德曼的牙医，将我们的大学毕业生视为弗里德曼的医生。\n",
    "\n",
    "我们的呈现是\"不完整的\"，因为它基于一个单一方程，这个方程将是更完整模型中一组均衡条件的一部分。\n",
    "\n",
    "这个\"均衡差异\"方程确定了一个大学-高中工资比率，使高中毕业工人和大学毕业工人的现值相等。\n",
    "\n",
    "这个想法是，终身收入会以某种方式调整，使新高中毕业工人对是否上大学或立即工作无差别。\n",
    "（更完整模型中的\"其他方程\"的作用将是描述什么会调整以实现这个结果。）\n",
    "\n",
    "我们的模型只是相对工资率\"均衡差异\"理论的一个例子，这类理论至少可以追溯到亚当·斯密的《国富论》{cite}`smith2010wealth`。\n",
    "\n",
    "在本讲座的大部分内容中，我们将只使用线性代数的数学工具，特别是矩阵乘法和矩阵求逆。\n",
    "\n",
    "然而，在讲座接近尾声时，我们会使用微积分，以防读者想看看如何通过计算偏导数来更简洁地呈现一些发现。\n",
    "\n",
    "这样做还能让我们展示Python在进行微积分计算方面有多么出色！\n",
    "\n",
    "但如果你不懂微积分，我们的线性代数工具肯定足够了。\n",
    "\n",
    "像往常一样，我们先导入一些Python模块。"
   ]
  },
  {
   "cell_type": "code",
   "execution_count": 1,
   "id": "ee2ec096",
   "metadata": {},
   "outputs": [],
   "source": [
    "import numpy as np\n",
    "import matplotlib.pyplot as plt\n",
    "import matplotlib as mpl\n",
    "FONTPATH = \"fonts/SourceHanSerifSC-SemiBold.otf\"\n",
    "mpl.font_manager.fontManager.addfont(FONTPATH)\n",
    "plt.rcParams['font.family'] = ['Source Han Serif SC']"
   ]
  },
  {
   "cell_type": "markdown",
   "id": "28b730e3",
   "metadata": {},
   "source": [
    "## 无差异条件\n",
    "\n",
    "关键思想是，大学入学级别的工资溢价必须调整，以使代表性工人对上大学和不上大学无差别。\n",
    "\n",
    "设：\n",
    "\n",
    "* $R > 1$ 为一期债券的总回报率\n",
    "\n",
    "* $t = 0, 1, 2, \\ldots T$ 表示一个人工作或上大学的年数\n",
    "\n",
    "* $0$ 表示一个人如果不上大学可以工作的高中毕业后的第一个时期\n",
    "\n",
    "* $T$ 表示一个人工作的最后一个时期\n",
    "\n",
    "* $w_t^h$ 为高中毕业生在 $t$ 时的工资\n",
    "\n",
    "* $w_t^c$ 为大学毕业生在 $t$ 时的工资\n",
    "\n",
    "* $\\gamma_h > 1$ 为高中毕业生工资的（总）增长率，使得\n",
    "$ w_t^h = w_0^h \\gamma_h^t$\n",
    "\n",
    "* $\\gamma_c > 1$ 为大学毕业生工资的（总）增长率，使得\n",
    "$ w_t^c = w_0^c \\gamma_c^t$\n",
    "\n",
    "* $D$ 为上大学的前期货币成本\n",
    "\n",
    "现在我们计算新高中毕业生如果：\n",
    "\n",
    "  * 立即工作并赚取无大学教育者的工资\n",
    "  * 上大学四年，毕业后赚取大学毕业生的工资\n",
    "\n",
    "所能获得的现值\n",
    "\n",
    "### 高中教育工人的现值\n",
    "\n",
    "如果某人高中毕业后立即工作，并在 $t=0, 1, 2, \\ldots, T$ 的 $T+1$ 年内工作，她赚取的现值为：\n",
    "\n",
    "$$\n",
    "h_0 = \\sum_{t=0}^T R^{-t} w_t^h = w_0^h \\left[ \\frac{1 - (R^{-1} \\gamma_h)^{T+1} }{1 - R^{-1} \\gamma_h } \\right] \\equiv w_0^h A_h \n",
    "$$\n",
    "\n",
    "其中\n",
    "\n",
    "$$\n",
    "A_h = \\left[ \\frac{1 - (R^{-1} \\gamma_h)^{T+1} }{1 - R^{-1} \\gamma_h } \\right].\n",
    "$$\n",
    "\n",
    "现值 $h_0$ 是选择不上大学而是立即以高中毕业生的工资开始工作的人在时间 $0$ 开始时的\"人力财富\"。\n",
    "\n",
    "### 准备上大学的新高中毕业生的现值\n",
    "\n",
    "如果某人在 $t=0, 1, 2, 3$ 的四年内上大学，期间收入为 $0$，但在大学毕业后立即工作，并在 $t=4, 5, \\ldots ,T$ 的 $T-3$ 年内工作，她赚取的现值为：\n",
    "\n",
    "$$\n",
    "c_0 = \\sum_{t=4}^T R^{-t} w_t^c = w_0^c (R^{-1} \\gamma_c)^4  \\left[ \\frac{1 - (R^{-1} \\gamma_c)^{T-3} }{1 - R^{-1} \\gamma_c } \\right] \\equiv w_0^c A_c\n",
    "$$\n",
    "\n",
    "其中\n",
    "\n",
    "$$\n",
    "A_c = (R^{-1} \\gamma_c)^4  \\left[ \\frac{1 - (R^{-1} \\gamma_c)^{T-3} }{1 - R^{-1} \\gamma_c } \\right] .\n",
    "$$ \n",
    "\n",
    "现值 $c_0$ 是选择上大学四年然后在 $t=4$ 时以大学毕业生的工资开始工作的人在时间 $0$ 开始时的\"人力财富\"。\n",
    "\n",
    "假设大学学费加上四年的食宿费用总计为 $D$，必须在时间 $0$ 支付。\n",
    "\n",
    "因此，扣除上大学的货币成本后，高中毕业后第一个时期上大学的现值为：\n",
    "\n",
    "$$ \n",
    "c_0 - D\n",
    "$$\n",
    "\n",
    "现在我们制定一个纯**均衡差异**模型，用于初始大学-高中工资差距 $\\phi$，其中：\n",
    "\n",
    "$$\n",
    "w_0^c = \\phi w_0^h \n",
    "$$\n",
    "\n",
    "我们假设 $R, \\gamma_h, \\gamma_c, T$ 以及 $w_0^h$ 是固定参数。\n",
    "\n",
    "我们首先注意到，纯均衡差异模型断言，大学-高中工资差距 $\\phi$ 满足一个\"均衡\"方程，该方程将不上大学的现值设置为等于上大学的现值：\n",
    "\n",
    "$$\n",
    "h_0 = c_0 - D\n",
    "$$ \n",
    "\n",
    "或\n",
    "\n",
    "$$ \n",
    "w_0^h A_h  = \\phi w_0^h A_c - D .\n",
    "$$ (eq:equalize)\n",
    "\n",
    "这个\"无差异条件\"是模型的核心。\n",
    "\n",
    "求解方程 {eq}`eq:equalize` 得到大学工资溢价 $\\phi$：\n",
    "\n",
    "$$\n",
    "\\phi  = \\frac{A_h}{A_c} + \\frac{D}{w_0^h A_c} .\n",
    "$$ (eq:wagepremium)\n",
    "\n",
    "在**免费大学**的特殊情况下，$D =0$。\n",
    "\n",
    "在这种情况下，上大学的唯一成本是放弃作为高中教育工人的收入。\n",
    "\n",
    "因此，\n",
    "\n",
    "$$\n",
    "\\phi  = \\frac{A_h}{A_c} . \n",
    "$$\n",
    "\n",
    "我们很快将编写 Python 代码来计算 $\\phi$ 并绘制它作为其决定因素的函数图。\n",
    "\n",
    "但首先，我们将描述我们模型的一种替代解释，这主要只是重新标记变量。\n",
    "\n",
    "## 重新诠释模型：工人和企业家\n",
    "\n",
    "我们可以添加一个参数并重新解释变量，以得到一个企业家与工人的模型。\n",
    "\n",
    "现在让 $h$ 表示\"工人\"的现值。\n",
    "我们将企业家的现值定义为：\n",
    "\n",
    "$$\n",
    "c_0 = \\pi \\sum_{t=4}^T R^{-t} w_t^c\n",
    "$$\n",
    "\n",
    "其中 $\\pi \\in (0,1)$ 是企业家的\"项目\"成功的概率。\n",
    "\n",
    "对于我们的工人和企业模型，我们将把 $D$ 解释为成为企业家的成本。\n",
    "\n",
    "这个成本可能包括雇佣工人、办公空间和律师的费用。\n",
    "\n",
    "我们过去称之为大学、高中工资差距的 $\\phi$ 现在变成了\n",
    "成功企业家收入与工人收入的比率。\n",
    "\n",
    "我们会发现，随着 $\\pi$ 的减少，$\\phi$ 会增加，这表明\n",
    "成为企业家的风险越大，成功项目的回报就必须越高。\n",
    "\n",
    "## 计算\n",
    "\n",
    "我们可以通过调整各种参数来做一些有趣的例子，\n",
    "主要包括 $\\gamma_h, \\gamma_c, R$。\n",
    "\n",
    "现在让我们编写一些 Python 代码来计算 $\\phi$ 并将其作为某些决定因素的函数进行绘图。"
   ]
  },
  {
   "cell_type": "code",
   "execution_count": 2,
   "id": "4160642f",
   "metadata": {},
   "outputs": [],
   "source": [
    "class equalizing_diff:\n",
    "    \"\"\"\n",
    "    均等差异模型的一个类\n",
    "    \"\"\"\n",
    "    \n",
    "    def __init__(self, R, T, γ_h, γ_c, w_h0, D=0, π=None):\n",
    "        # 通过设置 π 切换到弱模型\n",
    "        self.R, self.γ_h, self.γ_c, self.w_h0, self.D = R, γ_h, γ_c, w_h0, D\n",
    "        self.T, self.π = T, π\n",
    "    \n",
    "    def compute_gap(self):\n",
    "        R, γ_h, γ_c, w_h0, D = self.R, self.γ_h, self.γ_c, self.w_h0, self.D\n",
    "        T, π = self.T, self.π\n",
    "        \n",
    "        A_h = (1 - (γ_h/R)**(T+1)) / (1 - γ_h/R)\n",
    "        A_c = (1 - (γ_c/R)**(T-3)) / (1 - γ_c/R) * (γ_c/R)**4\n",
    "        \n",
    "        # 调整后的模型\n",
    "        if π!=None:\n",
    "            A_c = π*A_c \n",
    "        \n",
    "        ϕ = A_h/A_c + D/(w_h0*A_c)\n",
    "        return ϕ"
   ]
  },
  {
   "cell_type": "markdown",
   "id": "d338e54d",
   "metadata": {},
   "source": [
    "我们使用向量化而不是循环来构建一些函数，以帮助进行比较静态分析。\n",
    "\n",
    "对于类的给定实例，我们想在一个参数变化而其他参数保持固定时重新计算 $\\phi$。\n",
    "\n",
    "让我们举个例子。"
   ]
  },
  {
   "cell_type": "code",
   "execution_count": 3,
   "id": "d78cd751",
   "metadata": {},
   "outputs": [],
   "source": [
    "# ϕ_R\n",
    "def ϕ_R(mc, R_new):\n",
    "    mc_new = equalizing_diff(R_new, mc.T, mc.γ_h, mc.γ_c, mc.w_h0, mc.D, mc.π)\n",
    "    return mc_new.compute_gap()\n",
    "\n",
    "ϕ_R = np.vectorize(ϕ_R)\n",
    "\n",
    "# ϕ_γh\n",
    "def ϕ_γh(mc, γh_new):\n",
    "    mc_new = equalizing_diff(mc.R, mc.T, γh_new, mc.γ_c, mc.w_h0, mc.D, mc.π)\n",
    "    return mc_new.compute_gap()\n",
    "\n",
    "ϕ_γh = np.vectorize(ϕ_γh)\n",
    "\n",
    "# ϕ_γc\n",
    "def ϕ_γc(mc, γc_new):\n",
    "    mc_new = equalizing_diff(mc.R, mc.T, mc.γ_h, γc_new, mc.w_h0, mc.D, mc.π)\n",
    "    return mc_new.compute_gap()\n",
    "\n",
    "ϕ_γc = np.vectorize(ϕ_γc)\n",
    "\n",
    "# ϕ_π\n",
    "def ϕ_π(mc, π_new):\n",
    "    mc_new = equalizing_diff(mc.R, mc.T, mc.γ_h, mc.γ_c, mc.w_h0, mc.D, π_new)\n",
    "    return mc_new.compute_gap()\n",
    "\n",
    "ϕ_π = np.vectorize(ϕ_π)"
   ]
  },
  {
   "cell_type": "code",
   "execution_count": 4,
   "id": "e104c971",
   "metadata": {},
   "outputs": [
    {
     "name": "stdout",
     "output_type": "stream",
     "text": [
      "1.8041412724969135\n"
     ]
    }
   ],
   "source": [
    "# 设定标准参数\n",
    "R = 1.05\n",
    "T = 40\n",
    "γ_h, γ_c = 1.01, 1.01\n",
    "w_h0 = 1\n",
    "D = 10\n",
    "\n",
    "# 创建一个例子\n",
    "ex1 = equalizing_diff(R=R, T=T, γ_h=γ_h, γ_c=γ_c, w_h0=w_h0, D=D)\n",
    "gap1 = ex1.compute_gap()\n",
    "\n",
    "print(gap1)"
   ]
  },
  {
   "cell_type": "markdown",
   "id": "c2e84e80",
   "metadata": {},
   "source": [
    "让我们设想不收取大学学费，然后重新计算 $\\phi$。\n",
    "\n",
    "初始的大学工资溢价应该会降低。"
   ]
  },
  {
   "cell_type": "code",
   "execution_count": 5,
   "id": "f4399cae",
   "metadata": {},
   "outputs": [
    {
     "name": "stdout",
     "output_type": "stream",
     "text": [
      "1.2204649517903732\n"
     ]
    }
   ],
   "source": [
    "# 免费大学\n",
    "ex2 = equalizing_diff(R, T, γ_h, γ_c, w_h0, D=0)\n",
    "gap2 = ex2.compute_gap()\n",
    "print(gap2)"
   ]
  },
  {
   "cell_type": "markdown",
   "id": "fbc62b88",
   "metadata": {},
   "source": [
    "让我们构建一些图表，展示如果初始大学-高中工资比率 $\\phi$ 的某个决定因素发生变化，$\\phi$ 将如何改变。\n",
    "\n",
    "我们先从总利率 $R$ 开始。"
   ]
  },
  {
   "cell_type": "code",
   "execution_count": 6,
   "id": "d97f6f8b",
   "metadata": {},
   "outputs": [
    {
     "data": {
      "image/png": "[encoded data removed]",
      "text/plain": [
       "<Figure size 640x480 with 1 Axes>"
      ]
     },
     "metadata": {},
     "output_type": "display_data"
    }
   ],
   "source": [
    "R_arr = np.linspace(1, 1.2, 50)\n",
    "plt.plot(R_arr, φ_R(ex1, R_arr))\n",
    "plt.xlabel(r'$R$')\n",
    "plt.ylabel(r'工资差距')\n",
    "plt.show()"
   ]
  },
  {
   "cell_type": "markdown",
   "id": "fcc93a46",
   "metadata": {},
   "source": [
    "注意当大学工资增长率 $\\gamma_c$ 上升时，初始工资差距是如何下降的。\n",
    "\n",
    "工资差距下降是为了\"平衡\"两种职业类型的现值，一种是高中工人，另一种是大学工人。\n",
    "\n",
    "你能猜到当我们接下来改变高中工资的增长率时，初始工资比率 $\\phi$ 会发生什么变化吗？同时保持 $\\phi$ 的所有其他决定因素不变。\n",
    "\n",
    "下图显示了会发生什么。"
   ]
  },
  {
   "cell_type": "code",
   "execution_count": 7,
   "id": "41bcef29",
   "metadata": {},
   "outputs": [
    {
     "data": {
      "image/png": "[encoded data removed]",
      "text/plain": [
       "<Figure size 640x480 with 1 Axes>"
      ]
     },
     "metadata": {},
     "output_type": "display_data"
    }
   ],
   "source": [
    "γh_arr = np.linspace(1, 1.1, 50)\n",
    "plt.plot(γh_arr, φ_γh(ex1, γh_arr))\n",
    "plt.xlabel(r'$\\gamma_h$')\n",
    "plt.ylabel(r'工资差距')\n",
    "plt.show()"
   ]
  },
  {
   "cell_type": "markdown",
   "id": "45d08bfd",
   "metadata": {},
   "source": [
    "## 企业家-工人解释\n",
    "\n",
    "现在让我们采用我们模型的企业家-工人解释。\n",
    "\n",
    "如果一个新企业成功的概率是 $0.2$，让我们计算成功企业家的初始工资溢价。"
   ]
  },
  {
   "cell_type": "code",
   "execution_count": 8,
   "id": "061cbb0e",
   "metadata": {},
   "outputs": [
    {
     "name": "stdout",
     "output_type": "stream",
     "text": [
      "6.102324758951866\n"
     ]
    }
   ],
   "source": [
    "# 企业家模型\n",
    "ex3 = equalizing_diff(R, T, γ_h, γ_c, w_h0, π=0.2)\n",
    "gap3 = ex3.compute_gap()\n",
    "\n",
    "print(gap3)"
   ]
  },
  {
   "cell_type": "markdown",
   "id": "aad93bee",
   "metadata": {},
   "source": [
    "现在让我们研究成功企业家的初始工资溢价是如何依赖于成功概率的。"
   ]
  },
  {
   "cell_type": "code",
   "execution_count": 9,
   "id": "5f90904d",
   "metadata": {},
   "outputs": [
    {
     "data": {
      "image/png": "[encoded data removed]",
      "text/plain": [
       "<Figure size 640x480 with 1 Axes>"
      ]
     },
     "metadata": {},
     "output_type": "display_data"
    }
   ],
   "source": [
    "π_arr = np.linspace(0.2, 1, 50)\n",
    "plt.plot(π_arr, φ_π(ex3, π_arr))\n",
    "plt.ylabel(r'工资差距')\n",
    "plt.xlabel(r'$\\pi$')\n",
    "plt.show()"
   ]
  },
  {
   "cell_type": "markdown",
   "id": "c56b2d91",
   "metadata": {},
   "source": [
    "这个图表是不是符合你的猜想呢？\n",
    "\n",
    "## 微积分的应用\n",
    "\n",
    "到目前为止，我们只使用了线性代数，这对我们理解模型的运作原理已经足够了。\n",
    "\n",
    "然而，懂得微积分的人可能会希望我们直接求偏导数。\n",
    "\n",
    "现在我们就来做这个。\n",
    "\n",
    "不懂微积分的读者可以不用继续往下读，可以确信应用线性代数已经让我们了解了模型的主要特性。\n",
    "\n",
    "但对于那些有兴趣了解我们如何让 Python 完成计算偏导数的所有繁重工作的读者，我们现在会说一些相关的内容。\n",
    "\n",
    "我们将使用 Python 模块 `sympy` 来计算 $\\phi$ 对决定它的参数的偏导数。\n",
    "\n",
    "让我们从 `sympy` 导入关键函数。"
   ]
  },
  {
   "cell_type": "code",
   "execution_count": 10,
   "id": "4661cc10",
   "metadata": {},
   "outputs": [],
   "source": [
    "from sympy import Symbol, Lambda, symbols"
   ]
  },
  {
   "cell_type": "markdown",
   "id": "b8dbfb53",
   "metadata": {},
   "source": [
    "设定符号"
   ]
  },
  {
   "cell_type": "code",
   "execution_count": 11,
   "id": "fac939f5",
   "metadata": {},
   "outputs": [],
   "source": [
    "γ_h, γ_c, w_h0, D = symbols('\\gamma_h, \\gamma_h_c, w_0^h, D', real=True)\n",
    "R, T = Symbol('R', real=True), Symbol('T', integer=True)"
   ]
  },
  {
   "cell_type": "markdown",
   "id": "6a667e64",
   "metadata": {},
   "source": [
    "设定函数$A_h$"
   ]
  },
  {
   "cell_type": "code",
   "execution_count": 12,
   "id": "eaa9516b",
   "metadata": {},
   "outputs": [
    {
     "data": {
      "text/latex": [
       "$\\displaystyle \\left( \\left( \\gamma_{h}, \\  R, \\  T\\right) \\mapsto \\frac{1 - \\left(\\frac{\\gamma_{h}}{R}\\right)^{T + 1}}{1 - \\frac{\\gamma_{h}}{R}} \\right)$"
      ],
      "text/plain": [
       "Lambda((\\gamma_h, R, T), (1 - (\\gamma_h/R)**(T + 1))/(1 - \\gamma_h/R))"
      ]
     },
     "execution_count": 12,
     "metadata": {},
     "output_type": "execute_result"
    }
   ],
   "source": [
    "A_h = Lambda((γ_h, R, T), (1 - (γ_h/R)**(T+1)) / (1 - γ_h/R))\n",
    "A_h"
   ]
  },
  {
   "cell_type": "markdown",
   "id": "2a2ec26c",
   "metadata": {},
   "source": [
    "设定函数 $A_c$"
   ]
  },
  {
   "cell_type": "code",
   "execution_count": 13,
   "id": "fa928544",
   "metadata": {},
   "outputs": [
    {
     "data": {
      "text/latex": [
       "$\\displaystyle \\left( \\left( \\gamma_{h c}, \\  R, \\  T\\right) \\mapsto \\frac{\\gamma_{h c}^{4} \\cdot \\left(1 - \\left(\\frac{\\gamma_{h c}}{R}\\right)^{T - 3}\\right)}{R^{4} \\cdot \\left(1 - \\frac{\\gamma_{h c}}{R}\\right)} \\right)$"
      ],
      "text/plain": [
       "Lambda((\\gamma_h_c, R, T), \\gamma_h_c**4*(1 - (\\gamma_h_c/R)**(T - 3))/(R**4*(1 - \\gamma_h_c/R)))"
      ]
     },
     "execution_count": 13,
     "metadata": {},
     "output_type": "execute_result"
    }
   ],
   "source": [
    "A_c = Lambda((γ_c, R, T), (1 - (γ_c/R)**(T-3)) / (1 - γ_c/R) * (γ_c/R)**4)\n",
    "A_c"
   ]
  },
  {
   "cell_type": "markdown",
   "id": "cb5256ea",
   "metadata": {},
   "source": [
    "设定 $\\phi$"
   ]
  },
  {
   "cell_type": "code",
   "execution_count": 14,
   "id": "6a20c89f",
   "metadata": {},
   "outputs": [],
   "source": [
    "ϕ = Lambda((D, γ_h, γ_c, R, T, w_h0), A_h(γ_h, R, T)/A_c(γ_c, R, T) + D/(w_h0*A_c(γ_c, R, T)))"
   ]
  },
  {
   "cell_type": "code",
   "execution_count": 15,
   "id": "3003351a",
   "metadata": {},
   "outputs": [
    {
     "data": {
      "text/latex": [
       "$\\displaystyle \\left( \\left( D, \\  \\gamma_{h}, \\  \\gamma_{h c}, \\  R, \\  T, \\  w^{h}_{0}\\right) \\mapsto \\frac{D R^{4} \\cdot \\left(1 - \\frac{\\gamma_{h c}}{R}\\right)}{\\gamma_{h c}^{4} w^{h}_{0} \\cdot \\left(1 - \\left(\\frac{\\gamma_{h c}}{R}\\right)^{T - 3}\\right)} + \\frac{R^{4} \\cdot \\left(1 - \\left(\\frac{\\gamma_{h}}{R}\\right)^{T + 1}\\right) \\left(1 - \\frac{\\gamma_{h c}}{R}\\right)}{\\gamma_{h c}^{4} \\cdot \\left(1 - \\frac{\\gamma_{h}}{R}\\right) \\left(1 - \\left(\\frac{\\gamma_{h c}}{R}\\right)^{T - 3}\\right)} \\right)$"
      ],
      "text/plain": [
       "Lambda((D, \\gamma_h, \\gamma_h_c, R, T, w_0^h), D*R**4*(1 - \\gamma_h_c/R)/(\\gamma_h_c**4*w_0^h*(1 - (\\gamma_h_c/R)**(T - 3))) + R**4*(1 - (\\gamma_h/R)**(T + 1))*(1 - \\gamma_h_c/R)/(\\gamma_h_c**4*(1 - \\gamma_h/R)*(1 - (\\gamma_h_c/R)**(T - 3))))"
      ]
     },
     "execution_count": 15,
     "metadata": {},
     "output_type": "execute_result"
    }
   ],
   "source": [
    "ϕ"
   ]
  },
  {
   "cell_type": "markdown",
   "id": "b520fadb",
   "metadata": {},
   "source": [
    "我们开始设定默认的参数值。"
   ]
  },
  {
   "cell_type": "code",
   "execution_count": 16,
   "id": "4ec1bb58",
   "metadata": {},
   "outputs": [],
   "source": [
    "R_value = 1.05\n",
    "T_value = 40\n",
    "γ_h_value, γ_c_value = 1.01, 1.01\n",
    "w_h0_value = 1\n",
    "D_value = 10"
   ]
  },
  {
   "cell_type": "markdown",
   "id": "aa1c064b",
   "metadata": {},
   "source": [
    "现在让我们计算 $\\frac{\\partial \\phi}{\\partial D}$ 然后测量其在默认值的值"
   ]
  },
  {
   "cell_type": "code",
   "execution_count": 17,
   "id": "c3509202",
   "metadata": {},
   "outputs": [
    {
     "data": {
      "text/latex": [
       "$\\displaystyle \\frac{R^{4} \\cdot \\left(1 - \\frac{\\gamma_{h c}}{R}\\right)}{\\gamma_{h c}^{4} w^{h}_{0} \\cdot \\left(1 - \\left(\\frac{\\gamma_{h c}}{R}\\right)^{T - 3}\\right)}$"
      ],
      "text/plain": [
       "R**4*(1 - \\gamma_h_c/R)/(\\gamma_h_c**4*w_0^h*(1 - (\\gamma_h_c/R)**(T - 3)))"
      ]
     },
     "execution_count": 17,
     "metadata": {},
     "output_type": "execute_result"
    }
   ],
   "source": [
    "ϕ_D = ϕ(D, γ_h, γ_c, R, T, w_h0).diff(D)\n",
    "ϕ_D"
   ]
  },
  {
   "cell_type": "code",
   "execution_count": 18,
   "id": "019c8caa",
   "metadata": {},
   "outputs": [
    {
     "data": {
      "text/latex": [
       "$\\displaystyle 0.058367632070654$"
      ],
      "text/plain": [
       "0.0583676320706540"
      ]
     },
     "execution_count": 18,
     "metadata": {},
     "output_type": "execute_result"
    }
   ],
   "source": [
    "# 在默认值的值\n",
    "ϕ_D_func = Lambda((D, γ_h, γ_c, R, T, w_h0), ϕ_D)\n",
    "ϕ_D_func(D_value, γ_h_value, γ_c_value, R_value, T_value, w_h0_value)"
   ]
  },
  {
   "cell_type": "markdown",
   "id": "3d9c80e6",
   "metadata": {},
   "source": [
    "因此，与我们之前的图表一样，我们发现提高 $R$ 会增加初始大学工资溢价 $\\phi$。"
   ]
  },
  {
   "cell_type": "markdown",
   "id": "873cc3ef",
   "metadata": {},
   "source": [
    "计算 $\\frac{\\partial \\phi}{\\partial T}$ 并在默认参数下评估它"
   ]
  },
  {
   "cell_type": "code",
   "execution_count": 19,
   "id": "7d34c0c5",
   "metadata": {},
   "outputs": [
    {
     "data": {
      "text/latex": [
       "$\\displaystyle \\frac{D R^{4} \\left(\\frac{\\gamma_{h c}}{R}\\right)^{T - 3} \\cdot \\left(1 - \\frac{\\gamma_{h c}}{R}\\right) \\log{\\left(\\frac{\\gamma_{h c}}{R} \\right)}}{\\gamma_{h c}^{4} w^{h}_{0} \\left(1 - \\left(\\frac{\\gamma_{h c}}{R}\\right)^{T - 3}\\right)^{2}} - \\frac{R^{4} \\left(\\frac{\\gamma_{h}}{R}\\right)^{T + 1} \\cdot \\left(1 - \\frac{\\gamma_{h c}}{R}\\right) \\log{\\left(\\frac{\\gamma_{h}}{R} \\right)}}{\\gamma_{h c}^{4} \\cdot \\left(1 - \\frac{\\gamma_{h}}{R}\\right) \\left(1 - \\left(\\frac{\\gamma_{h c}}{R}\\right)^{T - 3}\\right)} + \\frac{R^{4} \\left(\\frac{\\gamma_{h c}}{R}\\right)^{T - 3} \\cdot \\left(1 - \\left(\\frac{\\gamma_{h}}{R}\\right)^{T + 1}\\right) \\left(1 - \\frac{\\gamma_{h c}}{R}\\right) \\log{\\left(\\frac{\\gamma_{h c}}{R} \\right)}}{\\gamma_{h c}^{4} \\cdot \\left(1 - \\frac{\\gamma_{h}}{R}\\right) \\left(1 - \\left(\\frac{\\gamma_{h c}}{R}\\right)^{T - 3}\\right)^{2}}$"
      ],
      "text/plain": [
       "D*R**4*(\\gamma_h_c/R)**(T - 3)*(1 - \\gamma_h_c/R)*log(\\gamma_h_c/R)/(\\gamma_h_c**4*w_0^h*(1 - (\\gamma_h_c/R)**(T - 3))**2) - R**4*(\\gamma_h/R)**(T + 1)*(1 - \\gamma_h_c/R)*log(\\gamma_h/R)/(\\gamma_h_c**4*(1 - \\gamma_h/R)*(1 - (\\gamma_h_c/R)**(T - 3))) + R**4*(\\gamma_h_c/R)**(T - 3)*(1 - (\\gamma_h/R)**(T + 1))*(1 - \\gamma_h_c/R)*log(\\gamma_h_c/R)/(\\gamma_h_c**4*(1 - \\gamma_h/R)*(1 - (\\gamma_h_c/R)**(T - 3))**2)"
      ]
     },
     "execution_count": 19,
     "metadata": {},
     "output_type": "execute_result"
    }
   ],
   "source": [
    "ϕ_T = ϕ(D, γ_h, γ_c, R, T, w_h0).diff(T)\n",
    "ϕ_T"
   ]
  },
  {
   "cell_type": "code",
   "execution_count": 20,
   "id": "d4b5c102",
   "metadata": {},
   "outputs": [
    {
     "data": {
      "text/latex": [
       "$\\displaystyle -0.00973478032996598$"
      ],
      "text/plain": [
       "-0.00973478032996598"
      ]
     },
     "execution_count": 20,
     "metadata": {},
     "output_type": "execute_result"
    }
   ],
   "source": [
    "# 在默认值的值\n",
    "ϕ_T_func = Lambda((D, γ_h, γ_c, R, T, w_h0), ϕ_T)\n",
    "ϕ_T_func(D_value, γ_h_value, γ_c_value, R_value, T_value, w_h0_value)"
   ]
  },
  {
   "cell_type": "markdown",
   "id": "9626f099",
   "metadata": {},
   "source": [
    "我们发现提高 $T$ 会降低初始大学工资溢价 $\\phi$。\n",
    "\n",
    "这是因为大学毕业生现在有更长的职业生涯来\"收回\"他们为上大学付出的时间和其他成本。"
   ]
  },
  {
   "cell_type": "markdown",
   "id": "5bb14e3b",
   "metadata": {},
   "source": [
    "让我们计算 $\\frac{\\partial \\phi}{\\partial \\gamma_h}$ 并在默认参数下评估它。"
   ]
  },
  {
   "cell_type": "code",
   "execution_count": 21,
   "id": "dde1ffcc",
   "metadata": {},
   "outputs": [
    {
     "data": {
      "text/latex": [
       "$\\displaystyle - \\frac{R^{4} \\left(\\frac{\\gamma_{h}}{R}\\right)^{T + 1} \\cdot \\left(1 - \\frac{\\gamma_{h c}}{R}\\right) \\left(T + 1\\right)}{\\gamma_{h} \\gamma_{h c}^{4} \\cdot \\left(1 - \\frac{\\gamma_{h}}{R}\\right) \\left(1 - \\left(\\frac{\\gamma_{h c}}{R}\\right)^{T - 3}\\right)} + \\frac{R^{3} \\cdot \\left(1 - \\left(\\frac{\\gamma_{h}}{R}\\right)^{T + 1}\\right) \\left(1 - \\frac{\\gamma_{h c}}{R}\\right)}{\\gamma_{h c}^{4} \\left(1 - \\frac{\\gamma_{h}}{R}\\right)^{2} \\cdot \\left(1 - \\left(\\frac{\\gamma_{h c}}{R}\\right)^{T - 3}\\right)}$"
      ],
      "text/plain": [
       "-R**4*(\\gamma_h/R)**(T + 1)*(1 - \\gamma_h_c/R)*(T + 1)/(\\gamma_h*\\gamma_h_c**4*(1 - \\gamma_h/R)*(1 - (\\gamma_h_c/R)**(T - 3))) + R**3*(1 - (\\gamma_h/R)**(T + 1))*(1 - \\gamma_h_c/R)/(\\gamma_h_c**4*(1 - \\gamma_h/R)**2*(1 - (\\gamma_h_c/R)**(T - 3)))"
      ]
     },
     "execution_count": 21,
     "metadata": {},
     "output_type": "execute_result"
    }
   ],
   "source": [
    "ϕ_γ_h = ϕ(D, γ_h, γ_c, R, T, w_h0).diff(γ_h)\n",
    "ϕ_γ_h"
   ]
  },
  {
   "cell_type": "code",
   "execution_count": 22,
   "id": "55c2c2d3",
   "metadata": {},
   "outputs": [
    {
     "data": {
      "text/latex": [
       "$\\displaystyle 17.8590485545256$"
      ],
      "text/plain": [
       "17.8590485545256"
      ]
     },
     "execution_count": 22,
     "metadata": {},
     "output_type": "execute_result"
    }
   ],
   "source": [
    "# 在默认值的值\n",
    "ϕ_γ_h_func = Lambda((D, γ_h, γ_c, R, T, w_h0), ϕ_γ_h)\n",
    "ϕ_γ_h_func(D_value, γ_h_value, γ_c_value, R_value, T_value, w_h0_value)"
   ]
  },
  {
   "cell_type": "markdown",
   "id": "286c6eaa",
   "metadata": {},
   "source": [
    "我们发现提高 $\\gamma_h$ 会增加初始大学工资溢价 $\\phi$，这与我们之前的图形分析结果一致。"
   ]
  },
  {
   "cell_type": "markdown",
   "id": "a0b85277",
   "metadata": {},
   "source": [
    "计算 $\\frac{\\partial \\phi}{\\partial \\gamma_c}$ 并在默认参数值下对其进行数值评估"
   ]
  },
  {
   "cell_type": "code",
   "execution_count": 23,
   "id": "2af3652a",
   "metadata": {},
   "outputs": [
    {
     "data": {
      "text/latex": [
       "$\\displaystyle \\frac{D R^{4} \\left(\\frac{\\gamma_{h c}}{R}\\right)^{T - 3} \\cdot \\left(1 - \\frac{\\gamma_{h c}}{R}\\right) \\left(T - 3\\right)}{\\gamma_{h c}^{5} w^{h}_{0} \\left(1 - \\left(\\frac{\\gamma_{h c}}{R}\\right)^{T - 3}\\right)^{2}} - \\frac{4 D R^{4} \\cdot \\left(1 - \\frac{\\gamma_{h c}}{R}\\right)}{\\gamma_{h c}^{5} w^{h}_{0} \\cdot \\left(1 - \\left(\\frac{\\gamma_{h c}}{R}\\right)^{T - 3}\\right)} - \\frac{D R^{3}}{\\gamma_{h c}^{4} w^{h}_{0} \\cdot \\left(1 - \\left(\\frac{\\gamma_{h c}}{R}\\right)^{T - 3}\\right)} + \\frac{R^{4} \\left(\\frac{\\gamma_{h c}}{R}\\right)^{T - 3} \\cdot \\left(1 - \\left(\\frac{\\gamma_{h}}{R}\\right)^{T + 1}\\right) \\left(1 - \\frac{\\gamma_{h c}}{R}\\right) \\left(T - 3\\right)}{\\gamma_{h c}^{5} \\cdot \\left(1 - \\frac{\\gamma_{h}}{R}\\right) \\left(1 - \\left(\\frac{\\gamma_{h c}}{R}\\right)^{T - 3}\\right)^{2}} - \\frac{4 R^{4} \\cdot \\left(1 - \\left(\\frac{\\gamma_{h}}{R}\\right)^{T + 1}\\right) \\left(1 - \\frac{\\gamma_{h c}}{R}\\right)}{\\gamma_{h c}^{5} \\cdot \\left(1 - \\frac{\\gamma_{h}}{R}\\right) \\left(1 - \\left(\\frac{\\gamma_{h c}}{R}\\right)^{T - 3}\\right)} - \\frac{R^{3} \\cdot \\left(1 - \\left(\\frac{\\gamma_{h}}{R}\\right)^{T + 1}\\right)}{\\gamma_{h c}^{4} \\cdot \\left(1 - \\frac{\\gamma_{h}}{R}\\right) \\left(1 - \\left(\\frac{\\gamma_{h c}}{R}\\right)^{T - 3}\\right)}$"
      ],
      "text/plain": [
       "D*R**4*(\\gamma_h_c/R)**(T - 3)*(1 - \\gamma_h_c/R)*(T - 3)/(\\gamma_h_c**5*w_0^h*(1 - (\\gamma_h_c/R)**(T - 3))**2) - 4*D*R**4*(1 - \\gamma_h_c/R)/(\\gamma_h_c**5*w_0^h*(1 - (\\gamma_h_c/R)**(T - 3))) - D*R**3/(\\gamma_h_c**4*w_0^h*(1 - (\\gamma_h_c/R)**(T - 3))) + R**4*(\\gamma_h_c/R)**(T - 3)*(1 - (\\gamma_h/R)**(T + 1))*(1 - \\gamma_h_c/R)*(T - 3)/(\\gamma_h_c**5*(1 - \\gamma_h/R)*(1 - (\\gamma_h_c/R)**(T - 3))**2) - 4*R**4*(1 - (\\gamma_h/R)**(T + 1))*(1 - \\gamma_h_c/R)/(\\gamma_h_c**5*(1 - \\gamma_h/R)*(1 - (\\gamma_h_c/R)**(T - 3))) - R**3*(1 - (\\gamma_h/R)**(T + 1))/(\\gamma_h_c**4*(1 - \\gamma_h/R)*(1 - (\\gamma_h_c/R)**(T - 3)))"
      ]
     },
     "execution_count": 23,
     "metadata": {},
     "output_type": "execute_result"
    }
   ],
   "source": [
    "ϕ_γ_c = ϕ(D, γ_h, γ_c, R, T, w_h0).diff(γ_c)\n",
    "ϕ_γ_c"
   ]
  },
  {
   "cell_type": "code",
   "execution_count": 24,
   "id": "af0734e4",
   "metadata": {},
   "outputs": [
    {
     "data": {
      "text/latex": [
       "$\\displaystyle -31.6486401973376$"
      ],
      "text/plain": [
       "-31.6486401973376"
      ]
     },
     "execution_count": 24,
     "metadata": {},
     "output_type": "execute_result"
    }
   ],
   "source": [
    "# 在默认值的值\n",
    "ϕ_γ_c_func = Lambda((D, γ_h, γ_c, R, T, w_h0), ϕ_γ_c)\n",
    "ϕ_γ_c_func(D_value, γ_h_value, γ_c_value, R_value, T_value, w_h0_value)"
   ]
  },
  {
   "cell_type": "markdown",
   "id": "e7106927",
   "metadata": {},
   "source": [
    "我们发现提高 $\\gamma_c$ 会降低初始大学工资溢价 $\\phi$，这与我们之前的图形分析结果一致。"
   ]
  },
  {
   "cell_type": "markdown",
   "id": "d8dc6174",
   "metadata": {},
   "source": [
    "让我们计算 $\\frac{\\partial \\phi}{\\partial R}$ 并在默认参数值下对其进行数值评估"
   ]
  },
  {
   "cell_type": "code",
   "execution_count": 25,
   "id": "38694289",
   "metadata": {},
   "outputs": [
    {
     "data": {
      "text/latex": [
       "$\\displaystyle - \\frac{D R^{3} \\left(\\frac{\\gamma_{h c}}{R}\\right)^{T - 3} \\cdot \\left(1 - \\frac{\\gamma_{h c}}{R}\\right) \\left(T - 3\\right)}{\\gamma_{h c}^{4} w^{h}_{0} \\left(1 - \\left(\\frac{\\gamma_{h c}}{R}\\right)^{T - 3}\\right)^{2}} + \\frac{4 D R^{3} \\cdot \\left(1 - \\frac{\\gamma_{h c}}{R}\\right)}{\\gamma_{h c}^{4} w^{h}_{0} \\cdot \\left(1 - \\left(\\frac{\\gamma_{h c}}{R}\\right)^{T - 3}\\right)} + \\frac{D R^{2}}{\\gamma_{h c}^{3} w^{h}_{0} \\cdot \\left(1 - \\left(\\frac{\\gamma_{h c}}{R}\\right)^{T - 3}\\right)} + \\frac{R^{3} \\left(\\frac{\\gamma_{h}}{R}\\right)^{T + 1} \\cdot \\left(1 - \\frac{\\gamma_{h c}}{R}\\right) \\left(T + 1\\right)}{\\gamma_{h c}^{4} \\cdot \\left(1 - \\frac{\\gamma_{h}}{R}\\right) \\left(1 - \\left(\\frac{\\gamma_{h c}}{R}\\right)^{T - 3}\\right)} - \\frac{R^{3} \\left(\\frac{\\gamma_{h c}}{R}\\right)^{T - 3} \\cdot \\left(1 - \\left(\\frac{\\gamma_{h}}{R}\\right)^{T + 1}\\right) \\left(1 - \\frac{\\gamma_{h c}}{R}\\right) \\left(T - 3\\right)}{\\gamma_{h c}^{4} \\cdot \\left(1 - \\frac{\\gamma_{h}}{R}\\right) \\left(1 - \\left(\\frac{\\gamma_{h c}}{R}\\right)^{T - 3}\\right)^{2}} + \\frac{4 R^{3} \\cdot \\left(1 - \\left(\\frac{\\gamma_{h}}{R}\\right)^{T + 1}\\right) \\left(1 - \\frac{\\gamma_{h c}}{R}\\right)}{\\gamma_{h c}^{4} \\cdot \\left(1 - \\frac{\\gamma_{h}}{R}\\right) \\left(1 - \\left(\\frac{\\gamma_{h c}}{R}\\right)^{T - 3}\\right)} - \\frac{R^{2} \\gamma_{h} \\left(1 - \\left(\\frac{\\gamma_{h}}{R}\\right)^{T + 1}\\right) \\left(1 - \\frac{\\gamma_{h c}}{R}\\right)}{\\gamma_{h c}^{4} \\left(1 - \\frac{\\gamma_{h}}{R}\\right)^{2} \\cdot \\left(1 - \\left(\\frac{\\gamma_{h c}}{R}\\right)^{T - 3}\\right)} + \\frac{R^{2} \\cdot \\left(1 - \\left(\\frac{\\gamma_{h}}{R}\\right)^{T + 1}\\right)}{\\gamma_{h c}^{3} \\cdot \\left(1 - \\frac{\\gamma_{h}}{R}\\right) \\left(1 - \\left(\\frac{\\gamma_{h c}}{R}\\right)^{T - 3}\\right)}$"
      ],
      "text/plain": [
       "-D*R**3*(\\gamma_h_c/R)**(T - 3)*(1 - \\gamma_h_c/R)*(T - 3)/(\\gamma_h_c**4*w_0^h*(1 - (\\gamma_h_c/R)**(T - 3))**2) + 4*D*R**3*(1 - \\gamma_h_c/R)/(\\gamma_h_c**4*w_0^h*(1 - (\\gamma_h_c/R)**(T - 3))) + D*R**2/(\\gamma_h_c**3*w_0^h*(1 - (\\gamma_h_c/R)**(T - 3))) + R**3*(\\gamma_h/R)**(T + 1)*(1 - \\gamma_h_c/R)*(T + 1)/(\\gamma_h_c**4*(1 - \\gamma_h/R)*(1 - (\\gamma_h_c/R)**(T - 3))) - R**3*(\\gamma_h_c/R)**(T - 3)*(1 - (\\gamma_h/R)**(T + 1))*(1 - \\gamma_h_c/R)*(T - 3)/(\\gamma_h_c**4*(1 - \\gamma_h/R)*(1 - (\\gamma_h_c/R)**(T - 3))**2) + 4*R**3*(1 - (\\gamma_h/R)**(T + 1))*(1 - \\gamma_h_c/R)/(\\gamma_h_c**4*(1 - \\gamma_h/R)*(1 - (\\gamma_h_c/R)**(T - 3))) - R**2*\\gamma_h*(1 - (\\gamma_h/R)**(T + 1))*(1 - \\gamma_h_c/R)/(\\gamma_h_c**4*(1 - \\gamma_h/R)**2*(1 - (\\gamma_h_c/R)**(T - 3))) + R**2*(1 - (\\gamma_h/R)**(T + 1))/(\\gamma_h_c**3*(1 - \\gamma_h/R)*(1 - (\\gamma_h_c/R)**(T - 3)))"
      ]
     },
     "execution_count": 25,
     "metadata": {},
     "output_type": "execute_result"
    }
   ],
   "source": [
    "ϕ_R = ϕ(D, γ_h, γ_c, R, T, w_h0).diff(R)\n",
    "ϕ_R"
   ]
  },
  {
   "cell_type": "code",
   "execution_count": 26,
   "id": "18488305",
   "metadata": {},
   "outputs": [
    {
     "data": {
      "text/latex": [
       "$\\displaystyle 13.2642738659429$"
      ],
      "text/plain": [
       "13.2642738659429"
      ]
     },
     "execution_count": 26,
     "metadata": {},
     "output_type": "execute_result"
    }
   ],
   "source": [
    "# 在默认值的值\n",
    "ϕ_R_func = Lambda((D, γ_h, γ_c, R, T, w_h0), ϕ_R)\n",
    "ϕ_R_func(D_value, γ_h_value, γ_c_value, R_value, T_value, w_h0_value)"
   ]
  },
  {
   "cell_type": "markdown",
   "id": "4dbf9a87",
   "metadata": {},
   "source": [
    "我们发现提高总利率 $R$ 会增加初始大学工资溢价 $\\phi$，这与我们之前的图形分析结果一致。"
   ]
  },
  {
   "cell_type": "code",
   "execution_count": null,
   "id": "88f59d24",
   "metadata": {},
   "outputs": [],
   "source": []
  }
 ],
 "metadata": {
  "jupytext": {
   "text_representation": {
    "extension": ".md",
    "format_name": "myst",
    "format_version": 0.13,
    "jupytext_version": "1.16.1"
   }
  },
  "kernelspec": {
   "display_name": "Python 3 (ipykernel)",
   "language": "python",
   "name": "python3"
  },
  "language_info": {
   "codemirror_mode": {
    "name": "ipython",
    "version": 3
   },
   "file_extension": ".py",
   "mimetype": "text/x-python",
   "name": "python",
   "nbconvert_exporter": "python",
   "pygments_lexer": "ipython3",
   "version": "3.11.9"
  },
  "source_map": [
   12,
   44,
   51,
   198,
   222,
   229,
   259,
   272,
   277,
   282,
   287,
   293,
   303,
   309,
   316,
   322,
   326,
   332,
   352,
   354,
   359,
   362,
   366,
   369,
   373,
   376,
   380,
   384,
   386,
   390,
   396,
   400,
   405,
   409,
   413,
   417,
   422,
   426,
   432,
   437,
   442,
   446,
   448,
   451,
   456,
   460,
   464,
   469,
   474,
   478,
   482
  ]
 },
 "nbformat": 4,
 "nbformat_minor": 5
}