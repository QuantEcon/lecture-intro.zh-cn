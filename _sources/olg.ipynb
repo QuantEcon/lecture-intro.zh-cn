{
 "cells": [
  {
   "cell_type": "markdown",
   "id": "2e73aecb",
   "metadata": {},
   "source": [
    "# 世代交叠模型\n",
    "\n",
    "在这节课中，我们将学习著名的世代交叠（OLG）模型。政策制定者和研究人员使用这个模型来研究：\n",
    "* 财政政策\n",
    "* 货币政策\n",
    "* 长期增长\n",
    "以及许多其他主题。\n",
    "\n",
    "OLG模型的第一个严谨版本是由Paul Samuelson开发的{cite}`samuelson1958exact`。\n",
    "\n",
    "我们的目标是对OLG模型的一个简单版本有深入的理解。\n",
    "\n",
    "## 概述\n",
    "\n",
    "OLG模型的动态与[索洛-斯旺增长模型](https://intro.quantecon.org/solow.html)非常相似。\n",
    "\n",
    "同时，OLG模型增加了一个重要的新特征：储蓄量的选择是内生的。\n",
    "\n",
    "为了理解这一点的重要性，假设我们想预测一项新税收对长期增长的影响。\n",
    "\n",
    "我们可以在索洛-斯旺模型中添加一项税收，然后观察稳态的变化。\n",
    "\n",
    "但这忽略了一个事实：当面对新的税率时，家庭会改变他们的储蓄和消费行为。\n",
    "\n",
    "这些变化可能会大大改变模型的预测。\n",
    "\n",
    "因此，如果我们关心准确的预测，我们应该对代理人的决策问题进行建模。\n",
    "\n",
    "特别是，模型中的家庭应该根据他们面临的环境（技术、税收、价格等）决定储蓄多少和消费多少。\n",
    "\n",
    "OLG模型应对了这一挑战。\n",
    "\n",
    "我们将介绍OLG模型的一个简单版本，阐明家庭的决策问题，并研究其对长期增长的影响。\n",
    "\n",
    "让我们从一些导入开始。"
   ]
  },
  {
   "cell_type": "code",
   "execution_count": 1,
   "id": "bd0c00a6",
   "metadata": {},
   "outputs": [],
   "source": [
    "import numpy as np\n",
    "from scipy import optimize\n",
    "from collections import namedtuple\n",
    "import matplotlib.pyplot as plt"
   ]
  },
  {
   "cell_type": "markdown",
   "id": "76a401ad",
   "metadata": {},
   "source": [
    "## 环境\n",
    "我们假设时间是离散的，因此 $t=0, 1, \\ldots$。\n",
    "在时间 $t$ 出生的个体存活两个时期，$t$ 和 $t + 1$。\n",
    "我们称一个个体\n",
    "- 在生命的第一个时期为\"年轻人\"\n",
    "- 在生命的第二个时期为\"老年人\"。\n",
    "年轻人工作，提供劳动并赚取劳动收入。\n",
    "他们还决定存多少钱。\n",
    "老年人不工作，所以所有收入都是金融收入。\n",
    "他们的金融收入来自工资收入的储蓄利息，\n",
    "这些储蓄随后与 $t+1$ 时期新的年轻一代的劳动相结合。\n",
    "工资和利率在均衡中由供求决定。\n",
    "为了使代数计算稍微简单一些，我们假设人口规模恒定。\n",
    "我们将每个时期的恒定人口规模标准化为1。\n",
    "我们还假设每个个体提供一个\"单位\"的劳动时间，因此总劳动供给为1。\n",
    "\n",
    "## 资本供给\n",
    "首先让我们考虑家庭方面。\n",
    "\n",
    "### 消费者问题\n",
    "假设在时间 $t$ 出生的个体的效用函数形式为\n",
    "\n",
    "```{math}\n",
    ":label: eq_crra\n",
    "\n",
    "    U_t = u(c_t) + \\beta u(c_{t+1})\n",
    "```\n",
    "\n",
    "这里\n",
    "\n",
    "- $u: \\mathbb R_+ \\to \\mathbb R$ 被称为\"流量\"效用函数\n",
    "- $\\beta \\in (0, 1)$ 是贴现因子\n",
    "- $c_t$ 是在时间 $t$ 出生的个体在时间 $t$ 的消费\n",
    "- $c_{t+1}$ 是同一个体在时间 $t+1$ 的消费\n",
    "我们假设 $u$ 是严格递增的。\n",
    "储蓄行为由以下优化问题决定\n",
    "\n",
    "\n",
    "```{math}\n",
    ":label: max_sav_olg\n",
    "    \\max_{c_t, c_{t+1}} \n",
    "    \\,  \\left \\{ u(c_t) + \\beta u(c_{t+1}) \\right \\} \n",
    "```\n",
    "\n",
    "受制于\n",
    "\n",
    "$$\n",
    "     c_t + s_t \\le w_t \n",
    "     \\quad \\text{and} \\quad\n",
    "     c_{t+1}   \\le R_{t+1} s_t\n",
    "$$\n",
    "\n",
    "这里\n",
    "- $s_t$ 是出生于时间 $t$ 的个人的储蓄\n",
    "- $w_t$ 是时间 $t$ 的工资率\n",
    "- $R_{t+1}$ 是在时间 $t$ 投资的储蓄在时间 $t+1$ 支付的总利率\n",
    "\n",
    "由于 $u$ 是严格递增的，这两个约束在最大值时都将成为等式。\n",
    "\n",
    "利用这一事实，并将第一个约束中的 $s_t$ 代入第二个约束，我们得到\n",
    "$c_{t+1} = R_{t+1}(w_t - c_t)$。\n",
    "\n",
    "最大值的一阶条件可以通过将 $c_{t+1}$ 代入目标函数，对 $c_t$ 求导，\n",
    "并将其设为零来获得。\n",
    "\n",
    "这导致了OLG模型的**欧拉方程**，它描述了最优的跨期消费动态：\n",
    "\n",
    "```{math}\n",
    ":label: euler_1_olg\n",
    "    u'(c_t) = \\beta R_{t+1}  u'( R_{t+1} (w_t - c_t))\n",
    "```\n",
    "\n",
    "从第一个约束我们得到 $c_t = w_t - s_t$，所以欧拉方程\n",
    "也可以表示为\n",
    "\n",
    "```{math}\n",
    ":label: euler_2_olg\n",
    "    u'(w_t - s_t) = \\beta R_{t+1}  u'( R_{t+1} s_t)\n",
    "```\n",
    "\n",
    "假设对于每个 $w_t$ 和 $R_{t+1}$，恰好有一个 $s_t$ 可以\n",
    "解决 [](euler_2_olg)。\n",
    "那么储蓄可以被写成 $w_t$ 和 $R_{t+1}$ 的固定函数。\n",
    "我们将其表示为\n",
    "\n",
    "```{math}\n",
    ":label: saving_1_olg\n",
    "    s_t = s(w_t, R_{t+1})\n",
    "```\n",
    "\n",
    "$s$ 函数的具体形式将取决于流效用函数 $u$ 的选择。\n",
    "$w_t$ 和 $R_{t+1}$ 共同代表经济中的*价格*（劳动力价格和资本租赁率）。\n",
    "因此，[](saving_1_olg) 表示给定价格下的储蓄量。\n",
    "\n",
    "### 示例：对数偏好\n",
    "\n",
    "在特殊情况 $u(c) = \\log c$ 下，欧拉方程简化为\n",
    "    $s_t= \\beta (w_t - s_t)$。\n",
    "求解储蓄，我们得到\n",
    "\n",
    "```{math}\n",
    ":label: saving_log_2_olg\n",
    "    s_t = s(w_t, R_{t+1}) = \\frac{\\beta}{1+\\beta} w_t\n",
    "```\n",
    "\n",
    "在这种特殊情况下，储蓄不依赖于利率。\n",
    "\n",
    "### 储蓄和投资\n",
    "\n",
    "由于人口规模被标准化为1，$s_t$也代表了t时期经济中的总储蓄。\n",
    "\n",
    "在我们的封闭经济中，没有外国投资，所以净储蓄等于总投资，这可以理解为对企业的资本供给。\n",
    "\n",
    "在下一节中，我们将研究资本需求。\n",
    "\n",
    "通过使供给和需求相等，我们将能够确定OLG经济中的均衡。\n",
    "\n",
    "## 资本需求\n",
    "\n",
    "首先我们描述企业的问题，然后我们写出一个方程来描述给定价格下的资本需求。\n",
    "\n",
    "### 企业问题\n",
    "\n",
    "对于每个整数 $t \\geq 0$，t期的产出 $y_t$ 由**[柯布-道格拉斯生产函数](https://en.wikipedia.org/wiki/Cobb%E2%80%93Douglas_production_function)**给出\n",
    "\n",
    "```{math}\n",
    ":label: cobb_douglas\n",
    "    y_t = k_t^{\\alpha} \\ell_t^{1-\\alpha}\n",
    "```\n",
    "\n",
    "在这里，$k_t$ 是资本，$\\ell_t$ 是劳动，而 $\\alpha$ 是一个参数（有时被称为\"资本的产出弹性\"）。\n",
    "公司的利润最大化问题是\n",
    "\n",
    "```{math}\n",
    ":label: opt_profit_olg\n",
    "    \\max_{k_t, \\ell_t} \\{ k^{\\alpha}_t \\ell_t^{1-\\alpha} - R_t k_t -w_t \\ell_t  \\}\n",
    "```\n",
    "一阶条件是通过分别对资本和劳动求目标函数的导数，并将它们设为零来获得的：\n",
    "\n",
    "```{math}\n",
    "    (1-\\alpha)(k_t / \\ell_t)^{\\alpha} = w_t\n",
    "    \\quad \\text{and} \\quad\n",
    "    \\alpha (k_t / \\ell_t)^{\\alpha - 1} = R_t\n",
    "```\n",
    "\n",
    "\n",
    "### 需求\n",
    "\n",
    "我们的假设$\\ell_t = 1$ 让我们可以\n",
    "\n",
    "```{math}\n",
    ":label: wage_one\n",
    "    w_t = (1-\\alpha)k_t^\\alpha \n",
    "```\n",
    "\n",
    "并且\n",
    "\n",
    "```{math}\n",
    ":label: interest_rate_one\n",
    "    R_t =\n",
    "    \\alpha k_t^{\\alpha - 1} \n",
    "```\n",
    "\n",
    "重新整理 [](interest_rate_one) 得出在时间 $t+1$ 的总资本需求\n",
    "\n",
    "```{math}\n",
    ":label: aggregate_demand_capital_olg\n",
    "    k^d (R_{t+1}) \n",
    "    := \\left (\\frac{\\alpha}{R_{t+1}} \\right )^{1/(1-\\alpha)}\n",
    "```\n",
    "\n",
    "在Python中"
   ]
  },
  {
   "cell_type": "code",
   "execution_count": 2,
   "id": "7c9a50d6",
   "metadata": {},
   "outputs": [],
   "source": [
    "def capital_demand(R, α):\n",
    "    return (α/R)**(1/(1-α)) "
   ]
  },
  {
   "cell_type": "code",
   "execution_count": 3,
   "id": "53e40fa2",
   "metadata": {},
   "outputs": [],
   "source": [
    "def capital_supply(R, β, w):\n",
    "    R = np.ones_like(R)\n",
    "    return R * (β / (1 + β)) * w"
   ]
  },
  {
   "cell_type": "markdown",
   "id": "6ba25ba7",
   "metadata": {},
   "source": [
    "下图绘制了资本供给曲线（如[](saving_log_2_olg)所示）以及资本需求曲线（如[](aggregate_demand_capital_olg)所示），这两条曲线都是利率$R_{t+1}$的函数。\n",
    "（对于对数效用这一特殊情况，供给不依赖于利率，因此我们得到一个常数函数。）\n",
    "\n",
    "## 均衡\n",
    "\n",
    "在本节中，我们将推导均衡条件并研究一个例子。\n",
    "\n",
    "### 均衡条件\n",
    "\n",
    "在均衡状态下，t时刻的储蓄等于t时刻的投资，也等于t+1时刻的资本供给。\n",
    "通过将这些数量设为相等来计算均衡，即\n",
    "\n",
    "```{math}\n",
    ":label: equilibrium_1\n",
    "    s(w_t, R_{t+1}) \n",
    "    = k^d(R_{t+1})\n",
    "    = \\left (\\frac{\\alpha}{R_{t+1}} \\right )^{1/(1-\\alpha)}\n",
    "```\n",
    "\n",
    "\n",
    "原则上，我们现在可以给定$w_t$来求解均衡价格$R_{t+1}$。\n",
    "（实际上，我们首先需要指定函数$u$，从而得到$s$。）\n",
    "当我们求解这个关于$t+1$时刻结果的方程时，$t$时刻的量已经确定，所以我们可以将$w_t$视为常数。\n",
    "从均衡$R_{t+1}$和[](aggregate_demand_capital_olg)，我们可以得到\n",
    "均衡数量$k_{t+1}$。\n",
    "\n",
    "### 示例：对数效用\n",
    "\n",
    "在对数效用的情况下，我们可以使用[](equilibrium_1)和[](saving_log_2_olg)得到\n",
    "\n",
    "```{math}\n",
    ":label: equilibrium_2\n",
    "    \\frac{\\beta}{1+\\beta} w_t\n",
    "    = \\left( \\frac{\\alpha}{R_{t+1}} \\right)^{1/(1-\\alpha)}\n",
    "```\n",
    "\n",
    "求解均衡利率得到\n",
    "\n",
    "```{math}\n",
    ":label: equilibrium_price\n",
    "    R_{t+1} = \n",
    "    \\alpha \n",
    "    \\left( \n",
    "        \\frac{\\beta}{1+\\beta} w_t\n",
    "    \\right)^{\\alpha-1}\n",
    "```\n",
    "\n",
    "在Python中，我们可以通过以下方式计算这个"
   ]
  },
  {
   "cell_type": "code",
   "execution_count": 4,
   "id": "6a902ad4",
   "metadata": {},
   "outputs": [],
   "source": [
    "def equilibrium_R_log_utility(α, β, w):\n",
    "    R = α * ( (β * w) / (1 + β))**(α - 1)\n",
    "    return R"
   ]
  },
  {
   "cell_type": "markdown",
   "id": "2e7645ab",
   "metadata": {},
   "source": [
    "在对数效用的情况下，由于资本供给不依赖于利率，均衡数量是由供给固定的。\n",
    "也就是说，\n",
    "\n",
    "```{math}\n",
    ":label: equilibrium_quantity\n",
    "    k_{t+1} = s(w_t, R_{t+1}) = \\frac{\\beta }{1+\\beta} w_t\n",
    "```\n",
    "\n",
    "让我们重新绘制上面的图，但这次加入均衡数量和价格。"
   ]
  },
  {
   "cell_type": "code",
   "execution_count": 5,
   "id": "e0118dfb",
   "metadata": {},
   "outputs": [
    {
     "name": "stderr",
     "output_type": "stream",
     "text": [
      "/home/runner/miniconda3/envs/quantecon/lib/python3.11/site-packages/IPython/core/pylabtools.py:170: UserWarning: Glyph 24635 (\\N{CJK UNIFIED IDEOGRAPH-603B}) missing from current font.\n",
      "  fig.canvas.print_figure(bytes_io, **kw)\n",
      "/home/runner/miniconda3/envs/quantecon/lib/python3.11/site-packages/IPython/core/pylabtools.py:170: UserWarning: Glyph 38656 (\\N{CJK UNIFIED IDEOGRAPH-9700}) missing from current font.\n",
      "  fig.canvas.print_figure(bytes_io, **kw)\n",
      "/home/runner/miniconda3/envs/quantecon/lib/python3.11/site-packages/IPython/core/pylabtools.py:170: UserWarning: Glyph 27714 (\\N{CJK UNIFIED IDEOGRAPH-6C42}) missing from current font.\n",
      "  fig.canvas.print_figure(bytes_io, **kw)\n",
      "/home/runner/miniconda3/envs/quantecon/lib/python3.11/site-packages/IPython/core/pylabtools.py:170: UserWarning: Glyph 20379 (\\N{CJK UNIFIED IDEOGRAPH-4F9B}) missing from current font.\n",
      "  fig.canvas.print_figure(bytes_io, **kw)\n",
      "/home/runner/miniconda3/envs/quantecon/lib/python3.11/site-packages/IPython/core/pylabtools.py:170: UserWarning: Glyph 32473 (\\N{CJK UNIFIED IDEOGRAPH-7ED9}) missing from current font.\n",
      "  fig.canvas.print_figure(bytes_io, **kw)\n",
      "/home/runner/miniconda3/envs/quantecon/lib/python3.11/site-packages/IPython/core/pylabtools.py:170: UserWarning: Glyph 22343 (\\N{CJK UNIFIED IDEOGRAPH-5747}) missing from current font.\n",
      "  fig.canvas.print_figure(bytes_io, **kw)\n",
      "/home/runner/miniconda3/envs/quantecon/lib/python3.11/site-packages/IPython/core/pylabtools.py:170: UserWarning: Glyph 34913 (\\N{CJK UNIFIED IDEOGRAPH-8861}) missing from current font.\n",
      "  fig.canvas.print_figure(bytes_io, **kw)\n"
     ]
    },
    {
     "data": {
      "image/png": "[encoded data removed]",
      "text/plain": [
       "<Figure size 640x480 with 1 Axes>"
      ]
     },
     "metadata": {},
     "output_type": "display_data"
    }
   ],
   "source": [
    "R_vals = np.linspace(0.3, 1)\n",
    "α, β = 0.5, 0.9\n",
    "w = 2.0\n",
    "\n",
    "fig, ax = plt.subplots()\n",
    "\n",
    "ax.plot(R_vals, capital_demand(R_vals, α), \n",
    "        label=\"总需求\")\n",
    "ax.plot(R_vals, capital_supply(R_vals, β, w), \n",
    "        label=\"总供给\")\n",
    "\n",
    "R_e = equilibrium_R_log_utility(α, β, w)\n",
    "k_e = (β / (1 + β)) * w\n",
    "\n",
    "ax.plot(R_e, k_e, 'o',label='均衡')\n",
    "\n",
    "ax.set_xlabel(\"$R_{t+1}$\")\n",
    "ax.set_ylabel(\"$k_{t+1}$\")\n",
    "ax.legend()\n",
    "plt.show()"
   ]
  },
  {
   "cell_type": "markdown",
   "id": "adb0e7aa",
   "metadata": {},
   "source": [
    "## 动力学\n",
    "\n",
    "在本节中，我们讨论动力学。\n",
    "目前，我们将重点关注对数效用的情况，因此均衡由[](equilibrium_quantity)决定。\n",
    "\n",
    "### 资本的演变\n",
    "\n",
    "上述讨论展示了如何在给定$w_t$的情况下获得均衡$k_{t+1}$。\n",
    "从[](wage_one)中，我们可以将此转换为$k_{t+1}$作为$k_t$的函数。\n",
    "特别是，由于$w_t = (1-\\alpha)k_t^\\alpha$，我们有\n",
    "\n",
    "```{math}\n",
    ":label: law_of_motion_capital\n",
    "    k_{t+1} = \\frac{\\beta}{1+\\beta} (1-\\alpha)(k_t)^{\\alpha}\n",
    "```\n",
    "\n",
    "如果我们对这个方程进行迭代，我们将得到一个资本存量序列。\n",
    "让我们绘制这些动态的45度图，我们将其表示为\n",
    "$$\n",
    "    k_{t+1} = g(k_t)\n",
    "    \\quad \\text{其中 }\n",
    "    g(k) := \\frac{\\beta}{1+\\beta} (1-\\alpha)(k)^{\\alpha}\n",
    "$$"
   ]
  },
  {
   "cell_type": "code",
   "execution_count": 6,
   "id": "3bed14aa",
   "metadata": {},
   "outputs": [],
   "source": [
    "def k_update(k, α, β):\n",
    "    return β * (1 - α) * k**α /  (1 + β)"
   ]
  },
  {
   "cell_type": "code",
   "execution_count": 7,
   "id": "3049d9af",
   "metadata": {},
   "outputs": [
    {
     "data": {
      "image/png": "[encoded data removed]",
      "text/plain": [
       "<Figure size 600x600 with 1 Axes>"
      ]
     },
     "metadata": {},
     "output_type": "display_data"
    }
   ],
   "source": [
    "α, β = 0.5, 0.9\n",
    "kmin, kmax = 0, 0.1\n",
    "n = 1000\n",
    "k_grid = np.linspace(kmin, kmax, n)\n",
    "k_grid_next = k_update(k_grid,α,β)\n",
    "\n",
    "fig, ax = plt.subplots(figsize=(6, 6))\n",
    "\n",
    "ymin, ymax = np.min(k_grid_next), np.max(k_grid_next)\n",
    "\n",
    "ax.plot(k_grid, k_grid_next,  lw=2, alpha=0.6, label='$g$')\n",
    "ax.plot(k_grid, k_grid, 'k-', lw=1, alpha=0.7, label='$45^{\\circ}$')\n",
    "\n",
    "\n",
    "ax.legend(loc='upper left', frameon=False, fontsize=12)\n",
    "ax.set_xlabel('$k_t$', fontsize=12)\n",
    "ax.set_ylabel('$k_{t+1}$', fontsize=12)\n",
    "\n",
    "plt.show()"
   ]
  },
  {
   "cell_type": "markdown",
   "id": "bbf29d06",
   "metadata": {},
   "source": [
    "### 稳态（对数情况）\n",
    "\n",
    "图表显示，该模型具有唯一的正稳态，我们将其表示为$k^*$。\n",
    "我们可以通过设置$k^* = g(k^*)$来求解$k^*$，即\n",
    "\n",
    "```{math}\n",
    ":label: steady_state_1\n",
    "    k^* = \\frac{\\beta (1-\\alpha) (k^*)^{\\alpha}}{(1+\\beta)}\n",
    "```\n",
    "\n",
    "求解方程得到\n",
    "\n",
    "```{math}\n",
    ":label: steady_state_2\n",
    "    k^* = \\left (\\frac{\\beta (1-\\alpha)}{1+\\beta} \\right )^{1/(1-\\alpha)}\n",
    "```\n",
    "我们可以从[](interest_rate_one)得到稳态利率，即\n",
    "$$\n",
    "    R^* = \\alpha (k^*)^{\\alpha - 1} \n",
    "        = \\frac{\\alpha}{1 - \\alpha} \\frac{1 + \\beta}{\\beta}\n",
    "$$\n",
    "在Python中，我们有"
   ]
  },
  {
   "cell_type": "code",
   "execution_count": 8,
   "id": "cffd6bd7",
   "metadata": {},
   "outputs": [],
   "source": [
    "k_star = ((β * (1 - α))/(1 + β))**(1/(1-α))\n",
    "R_star = (α/(1 - α)) * ((1 + β) / β)"
   ]
  },
  {
   "cell_type": "markdown",
   "id": "79d0cab1",
   "metadata": {},
   "source": [
    "### 时间序列\n",
    "\n",
    "上面的45度图显示，具有正初始条件的资本时间序列会收敛到这个稳态。\n",
    "让我们绘制一些时间序列来可视化这一点。"
   ]
  },
  {
   "cell_type": "code",
   "execution_count": 9,
   "id": "b25709a9",
   "metadata": {},
   "outputs": [
    {
     "name": "stderr",
     "output_type": "stream",
     "text": [
      "/home/runner/miniconda3/envs/quantecon/lib/python3.11/site-packages/IPython/core/pylabtools.py:170: UserWarning: Glyph 36164 (\\N{CJK UNIFIED IDEOGRAPH-8D44}) missing from current font.\n",
      "  fig.canvas.print_figure(bytes_io, **kw)\n",
      "/home/runner/miniconda3/envs/quantecon/lib/python3.11/site-packages/IPython/core/pylabtools.py:170: UserWarning: Glyph 26412 (\\N{CJK UNIFIED IDEOGRAPH-672C}) missing from current font.\n",
      "  fig.canvas.print_figure(bytes_io, **kw)\n",
      "/home/runner/miniconda3/envs/quantecon/lib/python3.11/site-packages/IPython/core/pylabtools.py:170: UserWarning: Glyph 24207 (\\N{CJK UNIFIED IDEOGRAPH-5E8F}) missing from current font.\n",
      "  fig.canvas.print_figure(bytes_io, **kw)\n",
      "/home/runner/miniconda3/envs/quantecon/lib/python3.11/site-packages/IPython/core/pylabtools.py:170: UserWarning: Glyph 21015 (\\N{CJK UNIFIED IDEOGRAPH-5217}) missing from current font.\n",
      "  fig.canvas.print_figure(bytes_io, **kw)\n"
     ]
    },
    {
     "data": {
      "image/png": "[encoded data removed]",
      "text/plain": [
       "<Figure size 640x480 with 1 Axes>"
      ]
     },
     "metadata": {},
     "output_type": "display_data"
    }
   ],
   "source": [
    "ts_length = 25\n",
    "k_series = np.empty(ts_length)\n",
    "k_series[0] = 0.02\n",
    "for t in range(ts_length - 1):\n",
    "    k_series[t+1] = k_update(k_series[t], α, β)\n",
    "\n",
    "fig, ax = plt.subplots()\n",
    "ax.plot(k_series, label=\"资本序列\")\n",
    "ax.plot(range(ts_length), np.full(ts_length, k_star), 'k--', label=\"$k^*$\")\n",
    "ax.set_ylim(0, 0.1)\n",
    "ax.set_ylabel(\"资本\")\n",
    "ax.set_xlabel(\"$t$\")\n",
    "ax.legend()\n",
    "plt.show()"
   ]
  },
  {
   "cell_type": "markdown",
   "id": "dd490a7f",
   "metadata": {},
   "source": [
    "如果你尝试不同的正初始条件，你会发现这个序列总是收敛于$k^*$。"
   ]
  },
  {
   "cell_type": "markdown",
   "id": "249ea0b8",
   "metadata": {},
   "source": [
    "下面我们还绘制了随时间变化的总利率。"
   ]
  },
  {
   "cell_type": "code",
   "execution_count": 10,
   "id": "260d8f07",
   "metadata": {},
   "outputs": [
    {
     "name": "stderr",
     "output_type": "stream",
     "text": [
      "/home/runner/miniconda3/envs/quantecon/lib/python3.11/site-packages/IPython/core/pylabtools.py:170: UserWarning: Glyph 27611 (\\N{CJK UNIFIED IDEOGRAPH-6BDB}) missing from current font.\n",
      "  fig.canvas.print_figure(bytes_io, **kw)\n",
      "/home/runner/miniconda3/envs/quantecon/lib/python3.11/site-packages/IPython/core/pylabtools.py:170: UserWarning: Glyph 21033 (\\N{CJK UNIFIED IDEOGRAPH-5229}) missing from current font.\n",
      "  fig.canvas.print_figure(bytes_io, **kw)\n",
      "/home/runner/miniconda3/envs/quantecon/lib/python3.11/site-packages/IPython/core/pylabtools.py:170: UserWarning: Glyph 29575 (\\N{CJK UNIFIED IDEOGRAPH-7387}) missing from current font.\n",
      "  fig.canvas.print_figure(bytes_io, **kw)\n"
     ]
    },
    {
     "data": {
      "image/png": "[encoded data removed]",
      "text/plain": [
       "<Figure size 640x480 with 1 Axes>"
      ]
     },
     "metadata": {},
     "output_type": "display_data"
    }
   ],
   "source": [
    "R_series = α * k_series**(α - 1)\n",
    "\n",
    "fig, ax = plt.subplots()\n",
    "ax.plot(R_series, label=\"毛利率\")\n",
    "ax.plot(range(ts_length), np.full(ts_length, R_star), 'k--', label=\"$R^*$\")\n",
    "ax.set_ylim(0, 4)\n",
    "ax.set_ylabel(\"毛利率\")\n",
    "ax.set_xlabel(\"$t$\")\n",
    "ax.legend()\n",
    "plt.show()"
   ]
  },
  {
   "cell_type": "markdown",
   "id": "3c9ffa1d",
   "metadata": {},
   "source": [
    "利率反映了资本的边际产出，当资本存量较低时，利率较高。"
   ]
  },
  {
   "cell_type": "markdown",
   "id": "677464a9",
   "metadata": {},
   "source": [
    "## CRRA偏好\n",
    "此前，在我们的例子中，我们研究了对数效用的情况。\n",
    "对数效用是CRRA效用在$\\gamma \\to 1$时的一个特殊情况。\n",
    "在本节中，我们假设$u(c) = \\frac{ c^{1-\\gamma}-1}{1-\\gamma}$，其中$\\gamma >0, \\gamma\\neq 1$。\n",
    "这个函数被称为CRRA效用函数。\n",
    "在其他方面，模型保持不变。\n",
    "下面我们用Python定义效用函数，并构造一个`namedtuple`来存储参数。"
   ]
  },
  {
   "cell_type": "code",
   "execution_count": 11,
   "id": "b9a5182f",
   "metadata": {},
   "outputs": [],
   "source": [
    "def crra(c, γ):\n",
    "    return c**(1 - γ) / (1 - γ)\n",
    "\n",
    "Model = namedtuple('Model', ['α',        # 柯布-道格拉斯参数\n",
    "                             'β',        # 折现因子\n",
    "                             'γ']        # CRRA效用函数中的参数\n",
    "                   )\n",
    "\n",
    "def create_olg_model(α=0.4, β=0.9, γ=0.5):\n",
    "    return Model(α=α, β=β, γ=γ)"
   ]
  },
  {
   "cell_type": "markdown",
   "id": "7a73dff4",
   "metadata": {},
   "source": [
    "让我们也重新定义资本需求函数，使其能够与这个`namedtuple`一起工作。"
   ]
  },
  {
   "cell_type": "code",
   "execution_count": 12,
   "id": "5039bc57",
   "metadata": {},
   "outputs": [],
   "source": [
    "def capital_demand(R, model):\n",
    "    return (α/R)**(1/(1-model.α)) "
   ]
  },
  {
   "cell_type": "markdown",
   "id": "4a157bd2",
   "metadata": {},
   "source": [
    "### 供给\n",
    "对于家庭来说，欧拉方程变为\n",
    "\n",
    "```{math}\n",
    ":label: euler_crra\n",
    "    (w_t - s_t)^{-\\gamma} = \\beta R^{1-\\gamma}_{t+1}  (s_t)^{-\\gamma}\n",
    "```\n",
    "\n",
    "\n",
    "求解储蓄，我们得到\n",
    "\n",
    "```{math}\n",
    ":label: saving_crra\n",
    "    s_t \n",
    "    = s(w_t, R_{t+1}) \n",
    "    = w_t \\left [ \n",
    "        1 + \\beta^{-1/\\gamma} R_{t+1}^{(\\gamma-1)/\\gamma} \n",
    "      \\right ]^{-1}\n",
    "```\n",
    "\n",
    "\n",
    "请注意，与对数情况不同，储蓄现在取决于利率。"
   ]
  },
  {
   "cell_type": "code",
   "execution_count": 13,
   "id": "dd6e31de",
   "metadata": {},
   "outputs": [],
   "source": [
    "def savings_crra(w, R, model):\n",
    "    α, β, γ = model\n",
    "    return w / (1 + β**(-1/γ) * R**((γ-1)/γ)) "
   ]
  },
  {
   "cell_type": "code",
   "execution_count": 14,
   "id": "330760c8",
   "metadata": {},
   "outputs": [
    {
     "data": {
      "image/png": "[encoded data removed]",
      "text/plain": [
       "<Figure size 640x480 with 1 Axes>"
      ]
     },
     "metadata": {},
     "output_type": "display_data"
    }
   ],
   "source": [
    "model = create_olg_model()\n",
    "w = 2.0\n",
    "\n",
    "fig, ax = plt.subplots()\n",
    "\n",
    "ax.plot(R_vals, capital_demand(R_vals, model), \n",
    "        label=\"总需求\")\n",
    "ax.plot(R_vals, savings_crra(w, R_vals, model), \n",
    "        label=\"总供给\")\n",
    "\n",
    "ax.set_xlabel(\"$R_{t+1}$\")\n",
    "ax.set_ylabel(\"$k_{t+1}$\")\n",
    "ax.legend()\n",
    "plt.show()"
   ]
  },
  {
   "cell_type": "markdown",
   "id": "55a9022a",
   "metadata": {},
   "source": [
    "### 均衡\n",
    "\n",
    "将资本的总需求（参见[](aggregate_demand_capital_olg)）与我们新的总供给函数相等，即可得出均衡资本。\n",
    "因此，我们设定\n",
    "\n",
    "\n",
    "```{math}\n",
    ":label: equilibrium_crra_2\n",
    "    w_t \\left [ 1 + \\beta^{-1/\\gamma} R_{t+1}^{(\\gamma-1)/\\gamma} \\right ]^{-1} \n",
    "    = \\left (\\frac{R_{t+1}}{\\alpha} \\right )^{1/(\\alpha - 1)}\n",
    "```\n",
    "\n",
    "这个表达式相当复杂，我们无法解析地求解 $R_{t+1}$。\n",
    "将[](interest_rate_one)和[](equilibrium_crra_2)结合起来，得到\n",
    "\n",
    "```{math}\n",
    ":label: law_of_motion_capital_crra\n",
    "    k_{t+1} = \\left [ 1 + \\beta^{-1/\\gamma} (\\alpha k^{\\alpha - 1}_{t+1})^{(\\gamma-1)/\\gamma} \\right ]^{-1} (1-\\alpha)(k_t)^{\\alpha}\n",
    "```\n",
    "\n",
    "同样，有了这个等式和给定的 $k_t$，我们无法用纸笔求解 $k_{t+1}$。\n",
    "在下面的练习中，你将被要求用数值方法解这些方程。"
   ]
  },
  {
   "cell_type": "markdown",
   "id": "dec85c0a",
   "metadata": {},
   "source": [
    "## 练习\n",
    "\n",
    "\n",
    "```{exercise}\n",
    ":label: olg_ex1\n",
    "\n",
    "使用[](law_of_motion_capital_crra)在 CRRA 情况下数值求解均衡资本存量的动态。\n",
    "使用 45 度图来可视化这个动态过程。\n",
    "\n",
    "```\n",
    "\n",
    "\n",
    "```{solution-start} olg_ex1\n",
    ":class: dropdown\n",
    "```\n",
    "\n",
    "\n",
    "为了在给定 $k_t$ 的情况下求解 $k_{t+1}$，我们使用[牛顿法](https://python.quantecon.org/newton_method.html)。\n",
    "设\n",
    "\n",
    "```{math}\n",
    ":label: crra_newton_1\n",
    "    f(k_{t+1}, k_t)\n",
    "    =\n",
    "    k_{t+1} \n",
    "    \\left[ \n",
    "        1 + \\beta^{-1/\\gamma} \n",
    "        \\left ( \n",
    "            \\alpha k^{\\alpha-1}_{t+1} \n",
    "        \\right )^{(\\gamma-1)/\\gamma} \n",
    "    \\right] - (1-\\alpha) k^{\\alpha}_t =0\n",
    "```\n",
    "\n",
    "如果给定了 $k_t$，那么 $f$ 就是未知数 $k_{t+1}$ 的函数。\n",
    "然后我们可以使用 `scipy.optimize.newton` 求解 $f(k_{t+1}, k_t)=0$ 来得到 $k_{t+1}$。\n",
    "首先让我们定义 $f$。"
   ]
  },
  {
   "cell_type": "code",
   "execution_count": 15,
   "id": "f53f194f",
   "metadata": {},
   "outputs": [],
   "source": [
    "def f(k_prime, k, model):\n",
    "    α, β, γ = model.α, model.β, model.γ\n",
    "    z = (1 - α) * k**α\n",
    "    a = α**(1-1/γ)\n",
    "    b = k_prime**((α * γ - α + 1) / γ)\n",
    "    p = k_prime + k_prime * β**(-1/γ) * a * b\n",
    "    return p - z"
   ]
  },
  {
   "cell_type": "markdown",
   "id": "5d288edf",
   "metadata": {},
   "source": [
    "现在让我们定义一个函数来找出 $k_{t+1}$ 的值。"
   ]
  },
  {
   "cell_type": "code",
   "execution_count": 16,
   "id": "85ec709e",
   "metadata": {},
   "outputs": [],
   "source": [
    "def k_update(k, model):\n",
    "    return optimize.newton(lambda k_prime: f(k_prime, k, model), 0.1)"
   ]
  },
  {
   "cell_type": "markdown",
   "id": "bbb16ede",
   "metadata": {},
   "source": [
    "最后，这是 45 度图。"
   ]
  },
  {
   "cell_type": "code",
   "execution_count": 17,
   "id": "289b9a51",
   "metadata": {},
   "outputs": [
    {
     "data": {
      "image/png": "[encoded data removed]",
      "text/plain": [
       "<Figure size 600x600 with 1 Axes>"
      ]
     },
     "metadata": {},
     "output_type": "display_data"
    }
   ],
   "source": [
    "kmin, kmax = 0, 0.5\n",
    "n = 1000\n",
    "k_grid = np.linspace(kmin, kmax, n)\n",
    "k_grid_next = np.empty_like(k_grid)\n",
    "\n",
    "for i in range(n):\n",
    "    k_grid_next[i] = k_update(k_grid[i], model)\n",
    "\n",
    "fig, ax = plt.subplots(figsize=(6, 6))\n",
    "\n",
    "ymin, ymax = np.min(k_grid_next), np.max(k_grid_next)\n",
    "\n",
    "ax.plot(k_grid, k_grid_next,  lw=2, alpha=0.6, label='$g$')\n",
    "ax.plot(k_grid, k_grid, 'k-', lw=1, alpha=0.7, label='$45^{\\circ}$')\n",
    "\n",
    "\n",
    "ax.legend(loc='upper left', frameon=False, fontsize=12)\n",
    "ax.set_xlabel('$k_t$', fontsize=12)\n",
    "ax.set_ylabel('$k_{t+1}$', fontsize=12)\n",
    "\n",
    "plt.show()"
   ]
  },
  {
   "cell_type": "markdown",
   "id": "6c4293b4",
   "metadata": {},
   "source": [
    "```{solution-end}\n",
    "```\n",
    "\n",
    "\n",
    "```{exercise}\n",
    ":label: olg_ex2\n",
    "\n",
    "上一个练习中的45度图表明存在唯一的正稳态。\n",
    "\n",
    "通过在[](law_of_motion_capital_crra)中设置 $k_{t+1} = k_t = k^*$，可以得到正稳态，即：\n",
    "\n",
    "$$\n",
    "    k^* = \n",
    "    \\frac{(1-\\alpha)(k^*)^{\\alpha}}\n",
    "    {1 + \\beta^{-1/\\gamma} (\\alpha (k^*)^{\\alpha-1})^{(\\gamma-1)/\\gamma}}\n",
    "$$\n",
    "\n",
    "与对数效用情况不同，CRRA效用的稳态 $k^*$ 无法通过解析方法获得。\n",
    "\n",
    "相反，我们使用牛顿法求解 $k^*$。\n",
    "```\n",
    "\n",
    "\n",
    "```{solution-start} olg_ex2\n",
    ":class: dropdown\n",
    "```\n",
    "我们引入一个函数 $h$，使得\n",
    "正稳态是 $h$ 的根。\n",
    "\n",
    "```{math}\n",
    ":label: crra_newton_2\n",
    "    h(k^*) = k^*  \n",
    "    \\left [ \n",
    "        1 + \\beta^{-1/\\gamma} (\\alpha (k^*)^{\\alpha-1})^{(\\gamma-1)/\\gamma} \n",
    "    \\right ] - (1-\\alpha)(k^*)^{\\alpha}\n",
    "```\n",
    "\n",
    "这是用Python写的"
   ]
  },
  {
   "cell_type": "code",
   "execution_count": 18,
   "id": "772da077",
   "metadata": {},
   "outputs": [],
   "source": [
    "def h(k_star, model):\n",
    "    α, β, γ = model.α, model.β, model.γ\n",
    "    z = (1 - α) * k_star**α\n",
    "    R1 = α ** (1-1/γ)\n",
    "    R2 = k_star**((α * γ - α + 1) / γ)\n",
    "    p = k_star + k_star * β**(-1/γ) * R1 * R2\n",
    "    return p - z"
   ]
  },
  {
   "cell_type": "markdown",
   "id": "c4f383f4",
   "metadata": {},
   "source": [
    "让我们运用牛顿法来求根："
   ]
  },
  {
   "cell_type": "code",
   "execution_count": 19,
   "id": "3a27173a",
   "metadata": {},
   "outputs": [
    {
     "name": "stdout",
     "output_type": "stream",
     "text": [
      "k_star = 0.25788950250843484\n"
     ]
    }
   ],
   "source": [
    "k_star = optimize.newton(h, 0.2, args=(model,))\n",
    "print(f\"k_star = {k_star}\")"
   ]
  },
  {
   "cell_type": "markdown",
   "id": "5f860230",
   "metadata": {},
   "source": [
    "```{solution-end}\n",
    "```\n",
    "\n",
    "\n",
    "\n",
    "\n",
    "```{exercise}\n",
    ":label: olg_ex3\n",
    "\n",
    "根据上面列出的参数化，生成三个资本的时间路径，来自三个不同的初始条件。\n",
    "\n",
    "使用 $k_0$ 的初始条件为 $0.001, 1.2, 2.6$，并且时间序列长度为 10。\n",
    "\n",
    "```\n",
    "\n",
    "\n",
    "```{solution-start} olg_ex3\n",
    ":class: dropdown\n",
    "```\n",
    "\n",
    "\n",
    "让我们定义常数和三个不同的初始条件。"
   ]
  },
  {
   "cell_type": "code",
   "execution_count": 20,
   "id": "3c4d949c",
   "metadata": {},
   "outputs": [],
   "source": [
    "ts_length = 10\n",
    "k0 = np.array([0.001, 1.2, 2.6])"
   ]
  },
  {
   "cell_type": "code",
   "execution_count": 21,
   "id": "733892d6",
   "metadata": {},
   "outputs": [],
   "source": [
    "def simulate_ts(model, k0_values, ts_length):\n",
    "\n",
    "    fig, ax = plt.subplots()\n",
    "\n",
    "    ts = np.zeros(ts_length)\n",
    "\n",
    "    # 模拟并且绘制时间序列\n",
    "    for k_init in k0_values:\n",
    "        ts[0] = k_init\n",
    "        for t in range(1, ts_length):\n",
    "            ts[t] = k_update(ts[t-1], model)\n",
    "        ax.plot(np.arange(ts_length), ts, '-o', ms=4, alpha=0.6,\n",
    "                label=r'$k_0=%g$' %k_init)\n",
    "    ax.plot(np.arange(ts_length), np.full(ts_length, k_star),\n",
    "            alpha=0.6, color='red', label=r'$k^*$')\n",
    "    ax.legend(fontsize=10)\n",
    "\n",
    "    ax.set_xlabel(r'$t$', fontsize=14)\n",
    "    ax.set_ylabel(r'$k_t$', fontsize=14)\n",
    "\n",
    "    plt.show()"
   ]
  },
  {
   "cell_type": "code",
   "execution_count": 22,
   "id": "4744cae9",
   "metadata": {},
   "outputs": [
    {
     "data": {
      "image/png": "[encoded data removed]",
      "text/plain": [
       "<Figure size 640x480 with 1 Axes>"
      ]
     },
     "metadata": {},
     "output_type": "display_data"
    }
   ],
   "source": [
    "simulate_ts(model, k0, ts_length)"
   ]
  },
  {
   "cell_type": "markdown",
   "id": "38edaaba",
   "metadata": {},
   "source": [
    "```{solution-end}\n",
    "```"
   ]
  }
 ],
 "metadata": {
  "jupytext": {
   "text_representation": {
    "extension": ".md",
    "format_name": "myst",
    "format_version": 0.13,
    "jupytext_version": "1.15.2"
   }
  },
  "kernelspec": {
   "display_name": "Python 3 (ipykernel)",
   "language": "python",
   "name": "python3"
  },
  "language_info": {
   "codemirror_mode": {
    "name": "ipython",
    "version": 3
   },
   "file_extension": ".py",
   "mimetype": "text/x-python",
   "name": "python",
   "nbconvert_exporter": "python",
   "pygments_lexer": "ipython3",
   "version": "3.11.9"
  },
  "source_map": [
   12,
   51,
   56,
   231,
   236,
   240,
   291,
   295,
   307,
   328,
   354,
   359,
   379,
   403,
   406,
   414,
   429,
   431,
   434,
   445,
   448,
   457,
   468,
   472,
   475,
   500,
   506,
   521,
   546,
   585,
   593,
   597,
   600,
   604,
   626,
   667,
   675,
   679,
   682,
   707,
   712,
   736,
   738
  ]
 },
 "nbformat": 4,
 "nbformat_minor": 5
}