{
 "cells": [
  {
   "cell_type": "markdown",
   "id": "edaf54be",
   "metadata": {},
   "source": [
    "# The Overlapping Generations Model\n",
    "\n",
    "In this lecture we study the famous overlapping generations (OLG) model, which\n",
    "is used by policy makers and researchers to examine \n",
    "\n",
    "* fiscal policy\n",
    "* monetary policy \n",
    "* long-run growth\n",
    "\n",
    "and many other topics.\n",
    "\n",
    "The first rigorous version of the OLG model was developed by Paul Samuelson\n",
    "{cite}`samuelson1958exact`.\n",
    "\n",
    "Our aim is to gain a good understanding of a simple version of the OLG\n",
    "model.\n",
    "\n",
    "## Overview\n",
    "\n",
    "The dynamics of the OLG model are quite similar to those of the [Solow-Swan\n",
    "growth model](https://intro.quantecon.org/solow.html).\n",
    "\n",
    "At the same time, the OLG model adds an important new feature: the choice of\n",
    "how much to save is endogenous.\n",
    "\n",
    "To see why this is important, suppose, for example, that we are interested in\n",
    "predicting the effect of a new tax on long-run growth.\n",
    "\n",
    "We could add a tax to the Solow-Swan model and look at the change in the\n",
    "steady state.\n",
    "\n",
    "But this ignores the fact that households will change their savings and\n",
    "consumption behavior when they face the new tax rate.\n",
    "\n",
    "Such changes can substantially alter the predictions of the model.\n",
    "\n",
    "Hence, if we care about accurate predictions, we should model the decision\n",
    "problems of the agents.\n",
    "\n",
    "In particular, households in the model should decide how much to save and how\n",
    "much to consume, given the environment that they face (technology, taxes,\n",
    "prices, etc.)\n",
    "\n",
    "The OLG model takes up this challenge.\n",
    "\n",
    "We will present a simple version of the OLG model that clarifies the decision\n",
    "problem of households and studies the implications for long-run growth.\n",
    "\n",
    "Let's start with some imports."
   ]
  },
  {
   "cell_type": "code",
   "execution_count": 1,
   "id": "d9cfdfcc",
   "metadata": {},
   "outputs": [],
   "source": [
    "import numpy as np\n",
    "from scipy import optimize\n",
    "from collections import namedtuple\n",
    "import matplotlib.pyplot as plt"
   ]
  },
  {
   "cell_type": "markdown",
   "id": "d53adb37",
   "metadata": {},
   "source": [
    "## Environment\n",
    "\n",
    "We assume that time is discrete, so that $t=0, 1, \\ldots$.\n",
    "\n",
    "An individual born at time $t$ lives for two periods, $t$ and $t + 1$.\n",
    "\n",
    "We call an agent\n",
    "\n",
    "- \"young\" during the first period of their lives and\n",
    "- \"old\" during the second period of their lives.\n",
    "\n",
    "Young agents work, supplying labor and earning labor income.\n",
    "\n",
    "They also decide how much to save.\n",
    "\n",
    "Old agents do not work, so all income is financial.\n",
    "\n",
    "Their financial income is from interest on their savings from wage income,\n",
    "which is then combined with the labor of the new young generation at $t+1$.\n",
    "\n",
    "The wage and interest rates are determined in equilibrium by supply and\n",
    "demand.\n",
    "\n",
    "To make the algebra slightly easier, we are going to assume a constant\n",
    "population size.\n",
    "\n",
    "We normalize the constant population size in each period to 1.\n",
    "\n",
    "We also suppose that each agent supplies one \"unit\" of labor hours, so total\n",
    "labor supply is 1.\n",
    "\n",
    "\n",
    "## Supply of capital\n",
    "\n",
    "First let's consider the household side.\n",
    "\n",
    "### Consumer's problem\n",
    "\n",
    "Suppose that utility for individuals born at time $t$ takes the form\n",
    "\n",
    "```{math}\n",
    ":label: eq_crra\n",
    "\n",
    "    U_t = u(c_t) + \\beta u(c_{t+1})\n",
    "```\n",
    "\n",
    "Here\n",
    "\n",
    "- $u: \\mathbb R_+ \\to \\mathbb R$ is called the \"flow\" utility function\n",
    "- $\\beta \\in (0, 1)$ is the discount factor\n",
    "- $c_t$ is time $t$ consumption of the individual born at time $t$\n",
    "- $c_{t+1}$ is time $t+1$ consumption of the same individual \n",
    "\n",
    "We assume that $u$ is strictly increasing.\n",
    "\n",
    "Savings behavior is determined by the optimization problem\n",
    "\n",
    "\n",
    "```{math}\n",
    ":label: max_sav_olg\n",
    "    \\max_{c_t, c_{t+1}} \n",
    "    \\,  \\left \\{ u(c_t) + \\beta u(c_{t+1}) \\right \\} \n",
    "```\n",
    "\n",
    "subject to\n",
    "\n",
    "$$\n",
    "     c_t + s_t \\le w_t \n",
    "     \\quad \\text{and} \\quad\n",
    "     c_{t+1}   \\le R_{t+1} s_t\n",
    "$$\n",
    "\n",
    "Here\n",
    "\n",
    "- $s_t$ is savings by an individual born at time $t$ \n",
    "- $w_t$ is the wage rate at time $t$\n",
    "- $R_{t+1}$ is the gross interest rate on savings invested at time $t$, paid at time $t+1$\n",
    "\n",
    "Since $u$ is strictly increasing, both of these constraints will hold as equalities at the maximum.\n",
    "\n",
    "Using this fact and substituting $s_t$ from the first constraint into the second we get\n",
    "$c_{t+1} = R_{t+1}(w_t - c_t)$.\n",
    "\n",
    "The first-order condition for a maximum can be obtained\n",
    "by plugging $c_{t+1}$ into the objective function, taking the derivative\n",
    "with respect to $c_t$, and setting it to zero.\n",
    "\n",
    "This leads to the **Euler equation** of the OLG model, which describes the optimal intertemporal consumption dynamics:\n",
    "\n",
    "```{math}\n",
    ":label: euler_1_olg\n",
    "    u'(c_t) = \\beta R_{t+1}  u'( R_{t+1} (w_t - c_t))\n",
    "```\n",
    "\n",
    "From the first constraint we get $c_t = w_t - s_t$, so the Euler equation\n",
    "can also be expressed as\n",
    "\n",
    "```{math}\n",
    ":label: euler_2_olg\n",
    "    u'(w_t - s_t) = \\beta R_{t+1}  u'( R_{t+1} s_t)\n",
    "```\n",
    "\n",
    "Suppose that, for each $w_t$ and $R_{t+1}$, there is exactly one $s_t$ that\n",
    "solves [](euler_2_olg).\n",
    "\n",
    "Then savings can be written as a fixed function of $w_t$ and $R_{t+1}$.\n",
    "\n",
    "We write this as\n",
    "\n",
    "```{math}\n",
    ":label: saving_1_olg\n",
    "    s_t = s(w_t, R_{t+1})\n",
    "```\n",
    "\n",
    "The precise form of the function $s$ will depend on the choice of flow utility\n",
    "function $u$.\n",
    "\n",
    "Together, $w_t$ and $R_{t+1}$ represent the *prices* in the economy (price of\n",
    "labor and rental rate of capital).\n",
    "\n",
    "Thus, [](saving_1_olg) states the quantity of savings given prices.\n",
    "\n",
    "\n",
    "### Example: log preferences\n",
    "\n",
    "In the special case $u(c) = \\log c$, the Euler equation simplifies to\n",
    "    $s_t= \\beta (w_t - s_t)$.\n",
    "\n",
    "Solving for saving, we get\n",
    "\n",
    "```{math}\n",
    ":label: saving_log_2_olg\n",
    "    s_t = s(w_t, R_{t+1}) = \\frac{\\beta}{1+\\beta} w_t\n",
    "```\n",
    "\n",
    "In this special case, savings does not depend on the interest rate.\n",
    "\n",
    "\n",
    "\n",
    "### Savings and investment\n",
    "\n",
    "Since the population size is normalized to 1, $s_t$ is also total savings in\n",
    "the economy at time $t$.\n",
    "\n",
    "In our closed economy, there is no foreign investment, so net savings equals\n",
    "total investment, which can be understood as supply of capital to firms.\n",
    "\n",
    "\n",
    "In the next section we investigate demand for capital.\n",
    "\n",
    "Equating supply and demand will allow us to determine equilibrium in the OLG\n",
    "economy.\n",
    "\n",
    "\n",
    "\n",
    "## Demand for capital\n",
    "\n",
    "First we describe the firm's problem and then we write down an equation\n",
    "describing demand for capital given prices.\n",
    "\n",
    "\n",
    "### Firm's problem\n",
    "\n",
    "For each integer $t \\geq 0$, output $y_t$ in period $t$ is given by the \n",
    "**[Cobb-Douglas production function](https://en.wikipedia.org/wiki/Cobb%E2%80%93Douglas_production_function)**\n",
    "\n",
    "```{math}\n",
    ":label: cobb_douglas\n",
    "    y_t = k_t^{\\alpha} \\ell_t^{1-\\alpha}\n",
    "```\n",
    "\n",
    "Here $k_t$ is capital, $\\ell_t$ is labor, and  $\\alpha$ is a parameter\n",
    "(sometimes called the \"output elasticity of capital\").\n",
    "\n",
    "The profit maximization problem of the firm is\n",
    "\n",
    "```{math}\n",
    ":label: opt_profit_olg\n",
    "    \\max_{k_t, \\ell_t} \\{ k^{\\alpha}_t \\ell_t^{1-\\alpha} - R_t k_t -w_t \\ell_t  \\}\n",
    "```\n",
    "\n",
    "The first-order conditions are obtained by taking the derivative of the\n",
    "objective function with respect to capital and labor respectively and setting\n",
    "them to zero:\n",
    "\n",
    "```{math}\n",
    "    (1-\\alpha)(k_t / \\ell_t)^{\\alpha} = w_t\n",
    "    \\quad \\text{and} \\quad\n",
    "    \\alpha (k_t / \\ell_t)^{\\alpha - 1} = R_t\n",
    "```\n",
    "\n",
    "\n",
    "### Demand \n",
    "\n",
    "Using our assumption $\\ell_t = 1$ allows us to write \n",
    "\n",
    "```{math}\n",
    ":label: wage_one\n",
    "    w_t = (1-\\alpha)k_t^\\alpha \n",
    "```\n",
    "\n",
    "and\n",
    "\n",
    "```{math}\n",
    ":label: interest_rate_one\n",
    "    R_t =\n",
    "    \\alpha k_t^{\\alpha - 1} \n",
    "```\n",
    "\n",
    "Rearranging [](interest_rate_one) gives the aggregate demand for capital\n",
    "at time $t+1$\n",
    "\n",
    "```{math}\n",
    ":label: aggregate_demand_capital_olg\n",
    "    k^d (R_{t+1}) \n",
    "    := \\left (\\frac{\\alpha}{R_{t+1}} \\right )^{1/(1-\\alpha)}\n",
    "```\n",
    "\n",
    "In Python code this is"
   ]
  },
  {
   "cell_type": "code",
   "execution_count": 2,
   "id": "0efca940",
   "metadata": {},
   "outputs": [],
   "source": [
    "def capital_demand(R, α):\n",
    "    return (α/R)**(1/(1-α)) "
   ]
  },
  {
   "cell_type": "code",
   "execution_count": 3,
   "id": "46133a58",
   "metadata": {},
   "outputs": [],
   "source": [
    "def capital_supply(R, β, w):\n",
    "    R = np.ones_like(R)\n",
    "    return R * (β / (1 + β)) * w"
   ]
  },
  {
   "cell_type": "markdown",
   "id": "3d16a1b4",
   "metadata": {},
   "source": [
    "The next figure plots the supply of capital, as in [](saving_log_2_olg), as well as the demand for capital, as in [](aggregate_demand_capital_olg), as functions of the interest rate $R_{t+1}$.\n",
    "\n",
    "(For the special case of log utility, supply does not depend on the interest rate, so we have a constant function.)\n",
    "\n",
    "## Equilibrium\n",
    "\n",
    "In this section we derive equilibrium conditions and investigate an example.\n",
    "\n",
    "\n",
    "### Equilibrium conditions\n",
    "\n",
    "In equilibrium, savings at time $t$ equals investment at time $t$, which\n",
    "equals capital supply at time $t+1$.\n",
    "\n",
    "Equilibrium is computed by equating these quantities, setting\n",
    "\n",
    "\n",
    "```{math}\n",
    ":label: equilibrium_1\n",
    "    s(w_t, R_{t+1}) \n",
    "    = k^d(R_{t+1})\n",
    "    = \\left (\\frac{\\alpha}{R_{t+1}} \\right )^{1/(1-\\alpha)}\n",
    "```\n",
    "\n",
    "\n",
    "In principle, we can now solve for the equilibrium price $R_{t+1}$ given $w_t$.\n",
    "\n",
    "(In practice, we first need to specify the function $u$ and hence $s$.)\n",
    "\n",
    "\n",
    "When we solve this equation, which concerns time $t+1$ outcomes, time\n",
    "$t$ quantities are already determined, so we can treat $w_t$ as a constant.\n",
    "\n",
    "From equilibrium $R_{t+1}$ and [](aggregate_demand_capital_olg), we can obtain\n",
    "the equilibrium quantity $k_{t+1}$.\n",
    "\n",
    "\n",
    "### Example: log utility\n",
    "\n",
    "In the case of log utility, we can use [](equilibrium_1) and [](saving_log_2_olg) to obtain\n",
    "\n",
    "```{math}\n",
    ":label: equilibrium_2\n",
    "    \\frac{\\beta}{1+\\beta} w_t\n",
    "    = \\left( \\frac{\\alpha}{R_{t+1}} \\right)^{1/(1-\\alpha)}\n",
    "```\n",
    "\n",
    "Solving for the equilibrium interest rate gives\n",
    "\n",
    "```{math}\n",
    ":label: equilibrium_price\n",
    "    R_{t+1} = \n",
    "    \\alpha \n",
    "    \\left( \n",
    "        \\frac{\\beta}{1+\\beta} w_t\n",
    "    \\right)^{\\alpha-1}\n",
    "```\n",
    "\n",
    "In Python we can compute this via"
   ]
  },
  {
   "cell_type": "code",
   "execution_count": 4,
   "id": "eb36c581",
   "metadata": {},
   "outputs": [],
   "source": [
    "def equilibrium_R_log_utility(α, β, w):\n",
    "    R = α * ( (β * w) / (1 + β))**(α - 1)\n",
    "    return R"
   ]
  },
  {
   "cell_type": "markdown",
   "id": "f0ade530",
   "metadata": {},
   "source": [
    "In the case of log utility, since capital supply does not depend on the interest rate, the equilibrium quantity is fixed by supply.\n",
    "\n",
    "That is,\n",
    "\n",
    "```{math}\n",
    ":label: equilibrium_quantity\n",
    "    k_{t+1} = s(w_t, R_{t+1}) = \\frac{\\beta }{1+\\beta} w_t\n",
    "```\n",
    "\n",
    "Let's redo our plot above but now inserting the equilibrium quantity and price."
   ]
  },
  {
   "cell_type": "code",
   "execution_count": 5,
   "id": "863bde60",
   "metadata": {},
   "outputs": [
    {
     "data": {
      "image/png": "[encoded data removed]",
      "text/plain": [
       "<Figure size 640x480 with 1 Axes>"
      ]
     },
     "metadata": {},
     "output_type": "display_data"
    }
   ],
   "source": [
    "R_vals = np.linspace(0.3, 1)\n",
    "α, β = 0.5, 0.9\n",
    "w = 2.0\n",
    "\n",
    "fig, ax = plt.subplots()\n",
    "\n",
    "ax.plot(R_vals, capital_demand(R_vals, α), \n",
    "        label=\"aggregate demand\")\n",
    "ax.plot(R_vals, capital_supply(R_vals, β, w), \n",
    "        label=\"aggregate supply\")\n",
    "\n",
    "R_e = equilibrium_R_log_utility(α, β, w)\n",
    "k_e = (β / (1 + β)) * w\n",
    "\n",
    "ax.plot(R_e, k_e, 'o',label='equilibrium')\n",
    "\n",
    "ax.set_xlabel(\"$R_{t+1}$\")\n",
    "ax.set_ylabel(\"$k_{t+1}$\")\n",
    "ax.legend()\n",
    "plt.show()"
   ]
  },
  {
   "cell_type": "markdown",
   "id": "406b21ef",
   "metadata": {},
   "source": [
    "## Dynamics \n",
    "\n",
    "In this section we discuss dynamics.\n",
    "\n",
    "For now we will focus on the case of log utility, so that the equilibrium is determined by [](equilibrium_quantity).\n",
    "\n",
    "### Evolution of capital\n",
    "\n",
    "The discussion above shows how equilibrium $k_{t+1}$ is obtained given $w_t$.\n",
    "\n",
    "From [](wage_one) we can translate this into $k_{t+1}$ as a function of $k_t$\n",
    "\n",
    "In particular, since $w_t = (1-\\alpha)k_t^\\alpha$, we have\n",
    "\n",
    "```{math}\n",
    ":label: law_of_motion_capital\n",
    "    k_{t+1} = \\frac{\\beta}{1+\\beta} (1-\\alpha)(k_t)^{\\alpha}\n",
    "```\n",
    "\n",
    "If we iterate on this equation, we get a sequence for capital stock.\n",
    "\n",
    "\n",
    "Let's plot the 45-degree diagram of these dynamics, which we write as\n",
    "\n",
    "$$\n",
    "    k_{t+1} = g(k_t)\n",
    "    \\quad \\text{where }\n",
    "    g(k) := \\frac{\\beta}{1+\\beta} (1-\\alpha)(k)^{\\alpha}\n",
    "$$"
   ]
  },
  {
   "cell_type": "code",
   "execution_count": 6,
   "id": "28639247",
   "metadata": {},
   "outputs": [],
   "source": [
    "def k_update(k, α, β):\n",
    "    return β * (1 - α) * k**α /  (1 + β)"
   ]
  },
  {
   "cell_type": "code",
   "execution_count": 7,
   "id": "2766f8fc",
   "metadata": {},
   "outputs": [
    {
     "data": {
      "image/png": "[encoded data removed]",
      "text/plain": [
       "<Figure size 600x600 with 1 Axes>"
      ]
     },
     "metadata": {},
     "output_type": "display_data"
    }
   ],
   "source": [
    "α, β = 0.5, 0.9\n",
    "kmin, kmax = 0, 0.1\n",
    "n = 1000\n",
    "k_grid = np.linspace(kmin, kmax, n)\n",
    "k_grid_next = k_update(k_grid,α,β)\n",
    "\n",
    "fig, ax = plt.subplots(figsize=(6, 6))\n",
    "\n",
    "ymin, ymax = np.min(k_grid_next), np.max(k_grid_next)\n",
    "\n",
    "ax.plot(k_grid, k_grid_next,  lw=2, alpha=0.6, label='$g$')\n",
    "ax.plot(k_grid, k_grid, 'k-', lw=1, alpha=0.7, label='$45^{\\circ}$')\n",
    "\n",
    "\n",
    "ax.legend(loc='upper left', frameon=False, fontsize=12)\n",
    "ax.set_xlabel('$k_t$', fontsize=12)\n",
    "ax.set_ylabel('$k_{t+1}$', fontsize=12)\n",
    "\n",
    "plt.show()"
   ]
  },
  {
   "cell_type": "markdown",
   "id": "a16057c1",
   "metadata": {},
   "source": [
    "### Steady state (log case)\n",
    "\n",
    "The diagram shows that the model has a unique positive steady state, which we\n",
    "denote by $k^*$.\n",
    "\n",
    "We can solve for $k^*$ by setting $k^* = g(k^*)$, or\n",
    "\n",
    "```{math}\n",
    ":label: steady_state_1\n",
    "    k^* = \\frac{\\beta (1-\\alpha) (k^*)^{\\alpha}}{(1+\\beta)}\n",
    "```\n",
    "\n",
    "Solving this equation yields\n",
    "\n",
    "```{math}\n",
    ":label: steady_state_2\n",
    "    k^* = \\left (\\frac{\\beta (1-\\alpha)}{1+\\beta} \\right )^{1/(1-\\alpha)}\n",
    "```\n",
    "\n",
    "We can get the steady state interest rate from [](interest_rate_one), which yields\n",
    "\n",
    "$$\n",
    "    R^* = \\alpha (k^*)^{\\alpha - 1} \n",
    "        = \\frac{\\alpha}{1 - \\alpha} \\frac{1 + \\beta}{\\beta}\n",
    "$$\n",
    "\n",
    "In Python we have"
   ]
  },
  {
   "cell_type": "code",
   "execution_count": 8,
   "id": "974e6930",
   "metadata": {},
   "outputs": [],
   "source": [
    "k_star = ((β * (1 - α))/(1 + β))**(1/(1-α))\n",
    "R_star = (α/(1 - α)) * ((1 + β) / β)"
   ]
  },
  {
   "cell_type": "markdown",
   "id": "af1dc01e",
   "metadata": {},
   "source": [
    "### Time series\n",
    "\n",
    "The 45-degree diagram above shows that time series of capital with positive initial conditions converge to this steady state.\n",
    "\n",
    "Let's plot some time series that visualize this."
   ]
  },
  {
   "cell_type": "code",
   "execution_count": 9,
   "id": "2a5aa127",
   "metadata": {},
   "outputs": [
    {
     "data": {
      "image/png": "[encoded data removed]",
      "text/plain": [
       "<Figure size 640x480 with 1 Axes>"
      ]
     },
     "metadata": {},
     "output_type": "display_data"
    }
   ],
   "source": [
    "ts_length = 25\n",
    "k_series = np.empty(ts_length)\n",
    "k_series[0] = 0.02\n",
    "for t in range(ts_length - 1):\n",
    "    k_series[t+1] = k_update(k_series[t], α, β)\n",
    "\n",
    "fig, ax = plt.subplots()\n",
    "ax.plot(k_series, label=\"capital series\")\n",
    "ax.plot(range(ts_length), np.full(ts_length, k_star), 'k--', label=\"$k^*$\")\n",
    "ax.set_ylim(0, 0.1)\n",
    "ax.set_ylabel(\"capital\")\n",
    "ax.set_xlabel(\"$t$\")\n",
    "ax.legend()\n",
    "plt.show()"
   ]
  },
  {
   "cell_type": "markdown",
   "id": "6a39c972",
   "metadata": {},
   "source": [
    "If you experiment with different positive initial conditions, you will see that the series always converges to $k^*$."
   ]
  },
  {
   "cell_type": "markdown",
   "id": "96f7ff09",
   "metadata": {},
   "source": [
    "Below we also plot the gross interest rate over time."
   ]
  },
  {
   "cell_type": "code",
   "execution_count": 10,
   "id": "5d332ab8",
   "metadata": {},
   "outputs": [
    {
     "data": {
      "image/png": "[encoded data removed]",
      "text/plain": [
       "<Figure size 640x480 with 1 Axes>"
      ]
     },
     "metadata": {},
     "output_type": "display_data"
    }
   ],
   "source": [
    "R_series = α * k_series**(α - 1)\n",
    "\n",
    "fig, ax = plt.subplots()\n",
    "ax.plot(R_series, label=\"gross interest rate\")\n",
    "ax.plot(range(ts_length), np.full(ts_length, R_star), 'k--', label=\"$R^*$\")\n",
    "ax.set_ylim(0, 4)\n",
    "ax.set_ylabel(\"gross interest rate\")\n",
    "ax.set_xlabel(\"$t$\")\n",
    "ax.legend()\n",
    "plt.show()"
   ]
  },
  {
   "cell_type": "markdown",
   "id": "5fe7d61c",
   "metadata": {},
   "source": [
    "The interest rate reflects the marginal product of capital, which is high when capital stock is low."
   ]
  },
  {
   "cell_type": "markdown",
   "id": "5d04ad65",
   "metadata": {},
   "source": [
    "## CRRA preferences\n",
    "\n",
    "Previously, in our examples, we looked at the case of log utility.\n",
    "\n",
    "Log utility is a rather special case of CRRA utility with $\\gamma \\to 1$.\n",
    "\n",
    "In this section, we are going to assume that $u(c) = \\frac{ c^{1-\n",
    "\\gamma}-1}{1-\\gamma}$, where $\\gamma >0, \\gamma\\neq 1$.\n",
    "\n",
    "This function is called the CRRA utility function.\n",
    "\n",
    "In other respects, the model is the same.\n",
    "\n",
    "Below we define the utility function in Python and construct a `namedtuple` to store the parameters."
   ]
  },
  {
   "cell_type": "code",
   "execution_count": 11,
   "id": "49a6cffc",
   "metadata": {},
   "outputs": [],
   "source": [
    "def crra(c, γ):\n",
    "    return c**(1 - γ) / (1 - γ)\n",
    "\n",
    "Model = namedtuple('Model', ['α',        # Cobb-Douglas parameter\n",
    "                             'β',        # discount factor\n",
    "                             'γ']        # parameter in CRRA utility\n",
    "                   )\n",
    "\n",
    "def create_olg_model(α=0.4, β=0.9, γ=0.5):\n",
    "    return Model(α=α, β=β, γ=γ)"
   ]
  },
  {
   "cell_type": "markdown",
   "id": "5c3869e6",
   "metadata": {},
   "source": [
    "Let's also redefine the capital demand function to work with this `namedtuple`."
   ]
  },
  {
   "cell_type": "code",
   "execution_count": 12,
   "id": "26f57b9f",
   "metadata": {},
   "outputs": [],
   "source": [
    "def capital_demand(R, model):\n",
    "    return (α/R)**(1/(1-model.α)) "
   ]
  },
  {
   "cell_type": "markdown",
   "id": "8f9e5ac8",
   "metadata": {},
   "source": [
    "### Supply\n",
    "\n",
    "\n",
    "For households, the Euler equation becomes\n",
    "```{math}\n",
    ":label: euler_crra\n",
    "    (w_t - s_t)^{-\\gamma} = \\beta R^{1-\\gamma}_{t+1}  (s_t)^{-\\gamma}\n",
    "```\n",
    "\n",
    "\n",
    "Solving for savings, we have\n",
    "\n",
    "```{math}\n",
    ":label: saving_crra\n",
    "    s_t \n",
    "    = s(w_t, R_{t+1}) \n",
    "    = w_t \\left [ \n",
    "        1 + \\beta^{-1/\\gamma} R_{t+1}^{(\\gamma-1)/\\gamma} \n",
    "      \\right ]^{-1}\n",
    "```\n",
    "\n",
    "\n",
    "Notice how, unlike the log case, savings now depends on the interest rate."
   ]
  },
  {
   "cell_type": "code",
   "execution_count": 13,
   "id": "b8f167e0",
   "metadata": {},
   "outputs": [],
   "source": [
    "def savings_crra(w, R, model):\n",
    "    α, β, γ = model\n",
    "    return w / (1 + β**(-1/γ) * R**((γ-1)/γ)) "
   ]
  },
  {
   "cell_type": "code",
   "execution_count": 14,
   "id": "b6be1833",
   "metadata": {},
   "outputs": [
    {
     "data": {
      "image/png": "[encoded data removed]",
      "text/plain": [
       "<Figure size 640x480 with 1 Axes>"
      ]
     },
     "metadata": {},
     "output_type": "display_data"
    }
   ],
   "source": [
    "model = create_olg_model()\n",
    "w = 2.0\n",
    "\n",
    "fig, ax = plt.subplots()\n",
    "\n",
    "ax.plot(R_vals, capital_demand(R_vals, model), \n",
    "        label=\"aggregate demand\")\n",
    "ax.plot(R_vals, savings_crra(w, R_vals, model), \n",
    "        label=\"aggregate supply\")\n",
    "\n",
    "ax.set_xlabel(\"$R_{t+1}$\")\n",
    "ax.set_ylabel(\"$k_{t+1}$\")\n",
    "ax.legend()\n",
    "plt.show()"
   ]
  },
  {
   "cell_type": "markdown",
   "id": "7c9504e5",
   "metadata": {},
   "source": [
    "### Equilibrium\n",
    "\n",
    "Equating aggregate demand for capital  (see [](aggregate_demand_capital_olg))\n",
    "with our new aggregate supply function yields equilibrium capital.\n",
    "\n",
    "Thus, we set\n",
    "\n",
    "\n",
    "```{math}\n",
    ":label: equilibrium_crra_2\n",
    "    w_t \\left [ 1 + \\beta^{-1/\\gamma} R_{t+1}^{(\\gamma-1)/\\gamma} \\right ]^{-1} \n",
    "    = \\left (\\frac{R_{t+1}}{\\alpha} \\right )^{1/(\\alpha - 1)}\n",
    "```\n",
    "\n",
    "This expression is quite complex and we cannot solve for $R_{t+1}$ analytically.\n",
    "\n",
    "\n",
    "Combining [](interest_rate_one) and [](equilibrium_crra_2) yields \n",
    "\n",
    "```{math}\n",
    ":label: law_of_motion_capital_crra\n",
    "    k_{t+1} = \\left [ 1 + \\beta^{-1/\\gamma} (\\alpha k^{\\alpha - 1}_{t+1})^{(\\gamma-1)/\\gamma} \\right ]^{-1} (1-\\alpha)(k_t)^{\\alpha}\n",
    "```\n",
    "\n",
    "Again, with this equation and $k_t$ as given, we cannot solve for $k_{t+1}$ by pencil and paper.\n",
    "\n",
    "\n",
    "In the exercise below, you will be asked to solve these equations numerically."
   ]
  },
  {
   "cell_type": "markdown",
   "id": "27b4be07",
   "metadata": {},
   "source": [
    "## Exercises\n",
    "\n",
    "\n",
    "```{exercise}\n",
    ":label: olg_ex1\n",
    "\n",
    "Solve for the dynamics of equilibrium capital stock in the CRRA case numerically using [](law_of_motion_capital_crra).\n",
    "\n",
    "Visualize the dynamics using a 45-degree diagram.\n",
    "\n",
    "```\n",
    "\n",
    "\n",
    "```{solution-start} olg_ex1\n",
    ":class: dropdown\n",
    "```\n",
    "\n",
    "\n",
    "To solve for $k_{t+1}$ given $k_t$ we use [Newton's method](https://python.quantecon.org/newton_method.html).\n",
    "\n",
    "Let\n",
    "\n",
    "```{math}\n",
    ":label: crra_newton_1\n",
    "    f(k_{t+1}, k_t)\n",
    "    =\n",
    "    k_{t+1} \n",
    "    \\left[ \n",
    "        1 + \\beta^{-1/\\gamma} \n",
    "        \\left ( \n",
    "            \\alpha k^{\\alpha-1}_{t+1} \n",
    "        \\right )^{(\\gamma-1)/\\gamma} \n",
    "    \\right] - (1-\\alpha) k^{\\alpha}_t =0\n",
    "```\n",
    "\n",
    "If $k_t$ is given then $f$ is a function of unknown $k_{t+1}$.\n",
    "\n",
    "Then we can use `scipy.optimize.newton` to solve $f(k_{t+1}, k_t)=0$ for $k_{t+1}$.\n",
    "\n",
    "First let's define $f$."
   ]
  },
  {
   "cell_type": "code",
   "execution_count": 15,
   "id": "717f0e22",
   "metadata": {},
   "outputs": [],
   "source": [
    "def f(k_prime, k, model):\n",
    "    α, β, γ = model.α, model.β, model.γ\n",
    "    z = (1 - α) * k**α\n",
    "    a = α**(1-1/γ)\n",
    "    b = k_prime**((α * γ - α + 1) / γ)\n",
    "    p = k_prime + k_prime * β**(-1/γ) * a * b\n",
    "    return p - z"
   ]
  },
  {
   "cell_type": "markdown",
   "id": "9e89a378",
   "metadata": {},
   "source": [
    "Now let's define a function that finds the value of $k_{t+1}$."
   ]
  },
  {
   "cell_type": "code",
   "execution_count": 16,
   "id": "48eb7a1e",
   "metadata": {},
   "outputs": [],
   "source": [
    "def k_update(k, model):\n",
    "    return optimize.newton(lambda k_prime: f(k_prime, k, model), 0.1)"
   ]
  },
  {
   "cell_type": "markdown",
   "id": "1ca902e5",
   "metadata": {},
   "source": [
    "Finally, here is the 45-degree diagram."
   ]
  },
  {
   "cell_type": "code",
   "execution_count": 17,
   "id": "23929d29",
   "metadata": {},
   "outputs": [
    {
     "data": {
      "image/png": "[encoded data removed]",
      "text/plain": [
       "<Figure size 600x600 with 1 Axes>"
      ]
     },
     "metadata": {},
     "output_type": "display_data"
    }
   ],
   "source": [
    "kmin, kmax = 0, 0.5\n",
    "n = 1000\n",
    "k_grid = np.linspace(kmin, kmax, n)\n",
    "k_grid_next = np.empty_like(k_grid)\n",
    "\n",
    "for i in range(n):\n",
    "    k_grid_next[i] = k_update(k_grid[i], model)\n",
    "\n",
    "fig, ax = plt.subplots(figsize=(6, 6))\n",
    "\n",
    "ymin, ymax = np.min(k_grid_next), np.max(k_grid_next)\n",
    "\n",
    "ax.plot(k_grid, k_grid_next,  lw=2, alpha=0.6, label='$g$')\n",
    "ax.plot(k_grid, k_grid, 'k-', lw=1, alpha=0.7, label='$45^{\\circ}$')\n",
    "\n",
    "\n",
    "ax.legend(loc='upper left', frameon=False, fontsize=12)\n",
    "ax.set_xlabel('$k_t$', fontsize=12)\n",
    "ax.set_ylabel('$k_{t+1}$', fontsize=12)\n",
    "\n",
    "plt.show()"
   ]
  },
  {
   "cell_type": "markdown",
   "id": "bd64bd77",
   "metadata": {},
   "source": [
    "```{solution-end}\n",
    "```\n",
    "\n",
    "\n",
    "```{exercise}\n",
    ":label: olg_ex2\n",
    "\n",
    "The 45-degree diagram from the last exercise shows that there is a unique\n",
    "positive steady state.\n",
    "\n",
    "The positive steady state can be obtained by setting  $k_{t+1} = k_t = k^*$ in [](law_of_motion_capital_crra), which yields\n",
    "\n",
    "$$\n",
    "    k^* = \n",
    "    \\frac{(1-\\alpha)(k^*)^{\\alpha}}\n",
    "    {1 + \\beta^{-1/\\gamma} (\\alpha (k^*)^{\\alpha-1})^{(\\gamma-1)/\\gamma}}\n",
    "$$\n",
    "\n",
    "Unlike the log preference case, the CRRA utility steady state $k^*$ \n",
    "cannot be obtained analytically.\n",
    "\n",
    "Instead, we solve for $k^*$ using Newton's method.\n",
    "\n",
    "```\n",
    "\n",
    "\n",
    "```{solution-start} olg_ex2\n",
    ":class: dropdown\n",
    "```\n",
    "\n",
    "We introduce a function $h$ such that\n",
    "positive steady state is the root of $h$.\n",
    "\n",
    "```{math}\n",
    ":label: crra_newton_2\n",
    "    h(k^*) = k^*  \n",
    "    \\left [ \n",
    "        1 + \\beta^{-1/\\gamma} (\\alpha (k^*)^{\\alpha-1})^{(\\gamma-1)/\\gamma} \n",
    "    \\right ] - (1-\\alpha)(k^*)^{\\alpha}\n",
    "```\n",
    "\n",
    "Here it is in Python"
   ]
  },
  {
   "cell_type": "code",
   "execution_count": 18,
   "id": "1a24f694",
   "metadata": {},
   "outputs": [],
   "source": [
    "def h(k_star, model):\n",
    "    α, β, γ = model.α, model.β, model.γ\n",
    "    z = (1 - α) * k_star**α\n",
    "    R1 = α ** (1-1/γ)\n",
    "    R2 = k_star**((α * γ - α + 1) / γ)\n",
    "    p = k_star + k_star * β**(-1/γ) * R1 * R2\n",
    "    return p - z"
   ]
  },
  {
   "cell_type": "markdown",
   "id": "924a5f6e",
   "metadata": {},
   "source": [
    "Let's apply Newton's method to find the root:"
   ]
  },
  {
   "cell_type": "code",
   "execution_count": 19,
   "id": "1b5becae",
   "metadata": {},
   "outputs": [
    {
     "name": "stdout",
     "output_type": "stream",
     "text": [
      "k_star = 0.25788950250843484\n"
     ]
    }
   ],
   "source": [
    "k_star = optimize.newton(h, 0.2, args=(model,))\n",
    "print(f\"k_star = {k_star}\")"
   ]
  },
  {
   "cell_type": "markdown",
   "id": "0ac1f3a5",
   "metadata": {},
   "source": [
    "```{solution-end}\n",
    "```\n",
    "\n",
    "\n",
    "\n",
    "\n",
    "```{exercise}\n",
    ":label: olg_ex3\n",
    "\n",
    "Generate three time paths for capital, from\n",
    "three distinct initial conditions, under the parameterization listed above.\n",
    "\n",
    "Use initial conditions for $k_0$ of $0.001, 1.2, 2.6$ and time series length 10.\n",
    "\n",
    "```\n",
    "\n",
    "\n",
    "```{solution-start} olg_ex3\n",
    ":class: dropdown\n",
    "```\n",
    "\n",
    "\n",
    "Let's define the constants and three distinct intital conditions"
   ]
  },
  {
   "cell_type": "code",
   "execution_count": 20,
   "id": "33938293",
   "metadata": {},
   "outputs": [],
   "source": [
    "ts_length = 10\n",
    "k0 = np.array([0.001, 1.2, 2.6])"
   ]
  },
  {
   "cell_type": "code",
   "execution_count": 21,
   "id": "a3874514",
   "metadata": {},
   "outputs": [],
   "source": [
    "def simulate_ts(model, k0_values, ts_length):\n",
    "\n",
    "    fig, ax = plt.subplots()\n",
    "\n",
    "    ts = np.zeros(ts_length)\n",
    "\n",
    "    # simulate and plot time series\n",
    "    for k_init in k0_values:\n",
    "        ts[0] = k_init\n",
    "        for t in range(1, ts_length):\n",
    "            ts[t] = k_update(ts[t-1], model)\n",
    "        ax.plot(np.arange(ts_length), ts, '-o', ms=4, alpha=0.6,\n",
    "                label=r'$k_0=%g$' %k_init)\n",
    "    ax.plot(np.arange(ts_length), np.full(ts_length, k_star),\n",
    "            alpha=0.6, color='red', label=r'$k^*$')\n",
    "    ax.legend(fontsize=10)\n",
    "\n",
    "    ax.set_xlabel(r'$t$', fontsize=14)\n",
    "    ax.set_ylabel(r'$k_t$', fontsize=14)\n",
    "\n",
    "    plt.show()"
   ]
  },
  {
   "cell_type": "code",
   "execution_count": 22,
   "id": "0a5b4f07",
   "metadata": {},
   "outputs": [
    {
     "data": {
      "image/png": "[encoded data removed]",
      "text/plain": [
       "<Figure size 640x480 with 1 Axes>"
      ]
     },
     "metadata": {},
     "output_type": "display_data"
    }
   ],
   "source": [
    "simulate_ts(model, k0, ts_length)"
   ]
  },
  {
   "cell_type": "markdown",
   "id": "6a97006d",
   "metadata": {},
   "source": [
    "```{solution-end}\n",
    "```"
   ]
  }
 ],
 "metadata": {
  "jupytext": {
   "text_representation": {
    "extension": ".md",
    "format_name": "myst",
    "format_version": 0.13,
    "jupytext_version": "1.15.2"
   }
  },
  "kernelspec": {
   "display_name": "Python 3 (ipykernel)",
   "language": "python",
   "name": "python3"
  },
  "language_info": {
   "codemirror_mode": {
    "name": "ipython",
    "version": 3
   },
   "file_extension": ".py",
   "mimetype": "text/x-python",
   "name": "python",
   "nbconvert_exporter": "python",
   "pygments_lexer": "ipython3",
   "version": "3.11.9"
  },
  "source_map": [
   12,
   64,
   69,
   291,
   296,
   300,
   362,
   366,
   379,
   400,
   432,
   437,
   457,
   487,
   490,
   498,
   513,
   517,
   521,
   532,
   536,
   553,
   564,
   568,
   571,
   597,
   603,
   618,
   649,
   692,
   700,
   704,
   707,
   711,
   733,
   778,
   786,
   790,
   793,
   819,
   824,
   848,
   850
  ]
 },
 "nbformat": 4,
 "nbformat_minor": 5
}