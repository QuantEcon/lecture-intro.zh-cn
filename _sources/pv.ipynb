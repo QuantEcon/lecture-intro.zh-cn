{
 "cells": [
  {
   "cell_type": "markdown",
   "id": "545d482e",
   "metadata": {},
   "source": [
    "# Present Values\n",
    "\n",
    "## Overview \n",
    "\n",
    "This lecture describes the  **present value model** that is a starting point\n",
    "of much asset pricing theory.\n",
    "\n",
    "Asset pricing theory is a component of theories about many economic decisions including\n",
    "\n",
    "  * consumption\n",
    "  * labor supply\n",
    "  * education choice \n",
    "  * demand for money\n",
    "\n",
    "In asset pricing theory, and in economic dynamics more generally, a basic topic is the relationship\n",
    "among different **time series**.\n",
    "\n",
    "A **time series** is a **sequence** indexed by time.\n",
    "\n",
    "In this lecture, we'll represent  a sequence as a vector.\n",
    "\n",
    "So our analysis will typically boil down to studying relationships among vectors.\n",
    "\n",
    "Our main  tools in this lecture will be  \n",
    "\n",
    "  * matrix multiplication,  and\n",
    "  * matrix inversion.\n",
    "\n",
    "We'll use the calculations described here in  subsequent lectures, including {doc}`consumption smoothing <cons_smooth>`, {doc}`equalizing difference model <equalizing_difference>`, and\n",
    "{doc}`monetarist theory of price levels <cagan_ree>`.\n",
    "\n",
    "Let's dive in.\n",
    "\n",
    "## Analysis \n",
    "\n",
    "\n",
    "\n",
    "Let \n",
    "\n",
    " * $\\{d_t\\}_{t=0}^T $ be a sequence of dividends or \"payouts\"\n",
    " * $\\{p_t\\}_{t=0}^T $ be a sequence of prices of a claim on the continuation of\n",
    "    the asset's payout  stream from date $t$ on, namely, $\\{d_s\\}_{s=t}^T $ \n",
    " * $ \\delta  \\in (0,1) $ be a one-period \"discount factor\" \n",
    " * $p_{T+1}^*$ be a terminal price of the asset at time $T+1$\n",
    " \n",
    "We  assume that the dividend stream $\\{d_t\\}_{t=0}^T $ and the terminal price \n",
    "$p_{T+1}^*$ are both exogenous.\n",
    "\n",
    "This means that they are determined outside the model.\n",
    "\n",
    "Assume the sequence of asset pricing equations\n",
    "\n",
    "$$\n",
    "    p_t = d_t + \\delta p_{t+1}, \\quad t = 0, 1, \\ldots , T\n",
    "$$ (eq:Euler1)\n",
    "\n",
    "We say equation**s**, plural, because there are $T+1$ equations, one for each $t =0, 1, \\ldots, T$.\n",
    "\n",
    "\n",
    "Equations {eq}`eq:Euler1` assert that price paid to purchase  the asset at time $t$  equals the payout $d_t$  plus the price at time  $t+1$ multiplied by a time discount factor $\\delta$.\n",
    "\n",
    "Discounting tomorrow's price  by multiplying it by  $\\delta$ accounts for the \"value of waiting one period\".\n",
    "\n",
    "We want to solve the system of $T+1$ equations {eq}`eq:Euler1` for the asset price sequence  $\\{p_t\\}_{t=0}^T $ as a function of the dividend sequence $\\{d_t\\}_{t=0}^T $ and the exogenous terminal\n",
    "price  $p_{T+1}^*$.\n",
    "\n",
    "A system of equations like {eq}`eq:Euler1` is an example of a linear  **difference equation**.\n",
    "\n",
    "There are powerful mathematical  methods available for solving such systems and they are well worth\n",
    "studying in their own right, being the foundation for the analysis of many interesting economic models.  \n",
    "\n",
    "For an example, see {doc}`Samuelson multiplier-accelerator <dynam:samuelson>`\n",
    "\n",
    "In this lecture, we'll  solve system {eq}`eq:Euler1` using matrix multiplication and matrix inversion, basic tools from linear algebra introduced in  {doc}`linear equations and matrix algebra <linear_equations>`.\n",
    "\n",
    "We will use the following imports"
   ]
  },
  {
   "cell_type": "code",
   "execution_count": 1,
   "id": "fc41d666",
   "metadata": {},
   "outputs": [],
   "source": [
    "import numpy as np\n",
    "import matplotlib.pyplot as plt"
   ]
  },
  {
   "cell_type": "markdown",
   "id": "412f167f",
   "metadata": {},
   "source": [
    "## Representing sequences as vectors\n",
    "\n",
    "The equations in system {eq}`eq:Euler1` can be arranged as follows:\n",
    "\n",
    "$$\n",
    "\\begin{aligned}\n",
    "    p_0 & = d_0 + \\delta p_1 \\\\\n",
    "    p_1 & = d_1 + \\delta p_2 \\\\\n",
    "    \\vdots \\\\\n",
    "    p_{T-1} & = d_{T-1} + \\delta p_T \\\\\n",
    "    p_T & = d_T + \\delta p^*_{T+1}\n",
    "\\end{aligned}\n",
    "$$ (eq:Euler_stack)\n",
    "\n",
    "Write the system {eq}`eq:Euler_stack` of $T+1$ asset pricing  equations as the single matrix equation\n",
    "\n",
    "$$\n",
    "    \\begin{bmatrix} 1 & -\\delta & 0 & 0 & \\cdots & 0 & 0 \\cr\n",
    "                    0 & 1 & -\\delta & 0 & \\cdots & 0 & 0 \\cr\n",
    "                    0 & 0 & 1 & -\\delta & \\cdots & 0 & 0 \\cr\n",
    "                    \\vdots & \\vdots & \\vdots & \\vdots & \\vdots & 0 & 0 \\cr\n",
    "                    0 & 0 & 0 & 0 & \\cdots & 1 & -\\delta \\cr\n",
    "                    0 & 0 & 0 & 0 & \\cdots & 0 & 1 \\end{bmatrix}\n",
    "    \\begin{bmatrix} p_0 \\cr p_1 \\cr p_2 \\cr \\vdots \\cr p_{T-1} \\cr p_T \n",
    "    \\end{bmatrix} \n",
    "    =  \\begin{bmatrix}  \n",
    "    d_0 \\cr d_1 \\cr d_2 \\cr \\vdots \\cr d_{T-1} \\cr d_T\n",
    "    \\end{bmatrix}\n",
    "    + \\begin{bmatrix} \n",
    "    0 \\cr 0 \\cr 0 \\cr \\vdots \\cr 0 \\cr \\delta p_{T+1}^*\n",
    "    \\end{bmatrix}\n",
    "$$ (eq:pvpieq)"
   ]
  },
  {
   "cell_type": "markdown",
   "id": "236fc3a3",
   "metadata": {},
   "source": [
    "```{exercise-start} \n",
    ":label: pv_ex_1\n",
    "```\n",
    "\n",
    "Carry out the matrix multiplication in [](eq:pvpieq) by hand and confirm that you\n",
    "recover the equations in [](eq:Euler_stack).\n",
    "\n",
    "```{exercise-end}\n",
    "```\n",
    "\n",
    "In vector-matrix notation, we can write  system {eq}`eq:pvpieq` as \n",
    "\n",
    "$$\n",
    "    A p = d + b\n",
    "$$ (eq:apdb)\n",
    "\n",
    "Here $A$ is the matrix on the left side of equation {eq}`eq:pvpieq`, while\n",
    "\n",
    "$$\n",
    "    p = \n",
    "    \\begin{bmatrix}\n",
    "        p_0 \\\\\n",
    "        p_1 \\\\\n",
    "        \\vdots \\\\\n",
    "        p_T\n",
    "    \\end{bmatrix},\n",
    "    \\quad\n",
    "    d = \n",
    "    \\begin{bmatrix}\n",
    "        d_0 \\\\\n",
    "        d_1 \\\\\n",
    "        \\vdots \\\\\n",
    "        d_T\n",
    "    \\end{bmatrix},\n",
    "    \\quad \\text{and} \\quad\n",
    "    b = \n",
    "    \\begin{bmatrix}\n",
    "        0 \\\\\n",
    "        0 \\\\\n",
    "        \\vdots \\\\\n",
    "        p^*_{T+1}\n",
    "    \\end{bmatrix}\n",
    "$$\n",
    "\n",
    "The solution for the vector of  prices is  \n",
    "\n",
    "$$\n",
    "    p = A^{-1}(d + b)\n",
    "$$ (eq:apdb_sol)\n",
    "\n",
    "\n",
    "For example, suppose that  the dividend stream is \n",
    "\n",
    "$$\n",
    "    d_{t+1} = 1.05 d_t, \\quad t = 0, 1, \\ldots , T-1.\n",
    "$$\n",
    "\n",
    "Let's write Python code to compute and plot the dividend stream."
   ]
  },
  {
   "cell_type": "code",
   "execution_count": 2,
   "id": "65d74556",
   "metadata": {},
   "outputs": [
    {
     "data": {
      "image/png": "[encoded data removed]",
      "text/plain": [
       "<Figure size 640x480 with 1 Axes>"
      ]
     },
     "metadata": {},
     "output_type": "display_data"
    }
   ],
   "source": [
    "T = 6\n",
    "current_d = 1.0\n",
    "d = []\n",
    "for t in range(T+1):\n",
    "    d.append(current_d)\n",
    "    current_d = current_d * 1.05 \n",
    "\n",
    "fig, ax = plt.subplots()\n",
    "ax.plot(d, 'o', label='dividends')\n",
    "ax.legend()\n",
    "ax.set_xlabel('time')\n",
    "plt.show()"
   ]
  },
  {
   "cell_type": "markdown",
   "id": "63f3985a",
   "metadata": {},
   "source": [
    "Now let's compute and plot the asset price.\n",
    "\n",
    "We set $\\delta$ and $p_{T+1}^*$ to"
   ]
  },
  {
   "cell_type": "code",
   "execution_count": 3,
   "id": "ba895fda",
   "metadata": {},
   "outputs": [],
   "source": [
    "δ = 0.99\n",
    "p_star = 10.0"
   ]
  },
  {
   "cell_type": "markdown",
   "id": "8e8e07f0",
   "metadata": {},
   "source": [
    "Let's build the matrix $A$"
   ]
  },
  {
   "cell_type": "code",
   "execution_count": 4,
   "id": "9ffc5215",
   "metadata": {},
   "outputs": [],
   "source": [
    "A = np.zeros((T+1, T+1))\n",
    "for i in range(T+1):\n",
    "    for j in range(T+1):\n",
    "        if i == j:\n",
    "            A[i, j] = 1\n",
    "            if j < T:\n",
    "                A[i, j+1] = -δ\n"
   ]
  },
  {
   "cell_type": "markdown",
   "id": "42d9089e",
   "metadata": {},
   "source": [
    "Let's inspect $A$"
   ]
  },
  {
   "cell_type": "code",
   "execution_count": 5,
   "id": "1759f908",
   "metadata": {},
   "outputs": [
    {
     "data": {
      "text/plain": [
       "array([[ 1.  , -0.99,  0.  ,  0.  ,  0.  ,  0.  ,  0.  ],\n",
       "       [ 0.  ,  1.  , -0.99,  0.  ,  0.  ,  0.  ,  0.  ],\n",
       "       [ 0.  ,  0.  ,  1.  , -0.99,  0.  ,  0.  ,  0.  ],\n",
       "       [ 0.  ,  0.  ,  0.  ,  1.  , -0.99,  0.  ,  0.  ],\n",
       "       [ 0.  ,  0.  ,  0.  ,  0.  ,  1.  , -0.99,  0.  ],\n",
       "       [ 0.  ,  0.  ,  0.  ,  0.  ,  0.  ,  1.  , -0.99],\n",
       "       [ 0.  ,  0.  ,  0.  ,  0.  ,  0.  ,  0.  ,  1.  ]])"
      ]
     },
     "execution_count": 5,
     "metadata": {},
     "output_type": "execute_result"
    }
   ],
   "source": [
    "A"
   ]
  },
  {
   "cell_type": "markdown",
   "id": "e6501723",
   "metadata": {},
   "source": [
    "Now let's solve for prices using {eq}`eq:apdb_sol`."
   ]
  },
  {
   "cell_type": "code",
   "execution_count": 6,
   "id": "79a94040",
   "metadata": {},
   "outputs": [
    {
     "data": {
      "image/png": "[encoded data removed]",
      "text/plain": [
       "<Figure size 640x480 with 1 Axes>"
      ]
     },
     "metadata": {},
     "output_type": "display_data"
    }
   ],
   "source": [
    "b = np.zeros(T+1)\n",
    "b[-1] = δ * p_star\n",
    "p = np.linalg.solve(A, d + b)\n",
    "fig, ax = plt.subplots()\n",
    "ax.plot(p, 'o', label='asset price')\n",
    "ax.legend()\n",
    "ax.set_xlabel('time')\n",
    "plt.show()"
   ]
  },
  {
   "cell_type": "markdown",
   "id": "e8729c03",
   "metadata": {},
   "source": [
    "Now let's consider  a cyclically growing dividend sequence:\n",
    "\n",
    "$$\n",
    "    d_{t+1} = 1.01 d_t + 0.1 \\sin t, \\quad t = 0, 1, \\ldots , T-1.\n",
    "$$"
   ]
  },
  {
   "cell_type": "code",
   "execution_count": 7,
   "id": "5362052e",
   "metadata": {},
   "outputs": [
    {
     "data": {
      "image/png": "[encoded data removed]",
      "text/plain": [
       "<Figure size 640x480 with 1 Axes>"
      ]
     },
     "metadata": {},
     "output_type": "display_data"
    }
   ],
   "source": [
    "T = 100\n",
    "current_d = 1.0\n",
    "d = []\n",
    "for t in range(T+1):\n",
    "    d.append(current_d)\n",
    "    current_d = current_d * 1.01 + 0.1 * np.sin(t)\n",
    "\n",
    "fig, ax = plt.subplots()\n",
    "ax.plot(d, 'o-', ms=4, alpha=0.8, label='dividends')\n",
    "ax.legend()\n",
    "ax.set_xlabel('time')\n",
    "plt.show()"
   ]
  },
  {
   "cell_type": "markdown",
   "id": "f2d4f0f0",
   "metadata": {},
   "source": [
    "```{exercise-start} \n",
    ":label: pv_ex_cyc\n",
    "```\n",
    "\n",
    "Compute the corresponding asset price sequence when $p^*_{T+1} = 0$ and $\\delta\n",
    "= 0.98$.\n",
    "\n",
    "```{exercise-end}\n",
    "```\n",
    "\n",
    "```{solution-start} pv_ex_cyc\n",
    ":class: dropdown\n",
    "```\n",
    "\n",
    "We proceed as above after modifying parameters and consequently the matrix $A$."
   ]
  },
  {
   "cell_type": "code",
   "execution_count": 8,
   "id": "6ec7d556",
   "metadata": {},
   "outputs": [
    {
     "data": {
      "image/png": "[encoded data removed]",
      "text/plain": [
       "<Figure size 640x480 with 1 Axes>"
      ]
     },
     "metadata": {},
     "output_type": "display_data"
    }
   ],
   "source": [
    "δ = 0.98\n",
    "p_star = 0.0\n",
    "A = np.zeros((T+1, T+1))\n",
    "for i in range(T+1):\n",
    "    for j in range(T+1):\n",
    "        if i == j:\n",
    "            A[i, j] = 1\n",
    "            if j < T:\n",
    "                A[i, j+1] = -δ\n",
    "\n",
    "b = np.zeros(T+1)\n",
    "b[-1] = δ * p_star\n",
    "p = np.linalg.solve(A, d + b)\n",
    "fig, ax = plt.subplots()\n",
    "ax.plot(p, 'o-', ms=4, alpha=0.8, label='asset price')\n",
    "ax.legend()\n",
    "ax.set_xlabel('time')\n",
    "plt.show()\n"
   ]
  },
  {
   "cell_type": "markdown",
   "id": "03787aab",
   "metadata": {},
   "source": [
    "The weighted averaging associated with the present value calculation largely\n",
    "eliminates the cycles.\n",
    "\n",
    "\n",
    "```{solution-end} \n",
    "```\n",
    "\n",
    "## Analytical expressions\n",
    "\n",
    "By the [inverse matrix theorem](https://en.wikipedia.org/wiki/Invertible_matrix), a matrix $B$ is the inverse of $A$ whenever $A B$ is the identity.\n",
    "\n",
    "It can be verified that the  inverse of the matrix $A$ in {eq}`eq:pvpieq` is\n",
    "\n",
    "\n",
    "$$ A^{-1} = \n",
    "    \\begin{bmatrix}\n",
    "        1 & \\delta & \\delta^2 & \\cdots & \\delta^{T-1} & \\delta^T \\cr\n",
    "        0 & 1 & \\delta & \\cdots & \\delta^{T-2} & \\delta^{T-1} \\cr\n",
    "        \\vdots & \\vdots & \\vdots & \\cdots & \\vdots & \\vdots \\cr\n",
    "        0 & 0 & 0 & \\cdots & 1  & \\delta \\cr\n",
    "        0 & 0 & 0 & \\cdots & 0 & 1 \\cr\n",
    "    \\end{bmatrix}\n",
    "$$ (eq:Ainv)\n",
    "\n",
    "\n",
    "\n",
    "```{exercise-start} \n",
    ":label: pv_ex_2\n",
    "```\n",
    "\n",
    "Check this by showing that $A A^{-1}$ is equal to the identity matrix.\n",
    "\n",
    "\n",
    "\n",
    "```{exercise-end}\n",
    "```\n",
    "\n",
    "\n",
    "If we use the expression {eq}`eq:Ainv` in {eq}`eq:apdb_sol` and perform the indicated matrix multiplication, we shall find  that\n",
    "\n",
    "$$\n",
    "    p_t =  \\sum_{s=t}^T \\delta^{s-t} d_s +  \\delta^{T+1-t} p_{T+1}^*\n",
    "$$ (eq:ptpveq)\n",
    "\n",
    "Pricing formula {eq}`eq:ptpveq` asserts that  two components sum to the asset price \n",
    "$p_t$:\n",
    "\n",
    "  * a **fundamental component** $\\sum_{s=t}^T \\delta^{s-t} d_s$ that equals the **discounted present value** of prospective dividends\n",
    "  \n",
    "  * a **bubble component** $\\delta^{T+1-t} p_{T+1}^*$\n",
    "  \n",
    "The fundamental component is pinned down by the discount factor $\\delta$ and the\n",
    "payout of the asset (in this case,  dividends).\n",
    "\n",
    "The bubble component is the part of the price that is not pinned down by\n",
    "fundamentals.\n",
    "\n",
    "It is sometimes convenient to rewrite the bubble component as\n",
    "\n",
    "$$ \n",
    "c \\delta^{-t}\n",
    "$$\n",
    "\n",
    "where \n",
    "\n",
    "$$ \n",
    "c \\equiv \\delta^{T+1}p_{T+1}^*\n",
    "$$"
   ]
  },
  {
   "cell_type": "markdown",
   "id": "9bf55885",
   "metadata": {},
   "source": [
    "## More about bubbles\n",
    "\n",
    "For a few moments, let's focus on  the special case of an asset that   never pays dividends, in which case\n",
    "\n",
    "$$\n",
    "\\begin{bmatrix}  \n",
    "d_0 \\cr d_1 \\cr d_2 \\cr \\vdots \\cr d_{T-1} \\cr d_T\n",
    "\\end{bmatrix} = \n",
    "\\begin{bmatrix}  \n",
    "0 \\cr 0 \\cr 0 \\cr \\vdots \\cr 0 \\cr 0\n",
    "\\end{bmatrix}\n",
    "$$"
   ]
  },
  {
   "cell_type": "markdown",
   "id": "42b2756f",
   "metadata": {},
   "source": [
    "In this case  system {eq}`eq:Euler1` of our $T+1$ asset pricing  equations takes the\n",
    "form of the single matrix equation\n",
    "\n",
    "$$\n",
    "\\begin{bmatrix} 1 & -\\delta & 0 & 0 & \\cdots & 0 & 0 \\cr\n",
    "                0 & 1 & -\\delta & 0 & \\cdots & 0 & 0 \\cr\n",
    "                0 & 0 & 1 & -\\delta & \\cdots & 0 & 0 \\cr\n",
    "                \\vdots & \\vdots & \\vdots & \\vdots & \\vdots & 0 & 0 \\cr\n",
    "                0 & 0 & 0 & 0 & \\cdots & 1 & -\\delta \\cr\n",
    "                0 & 0 & 0 & 0 & \\cdots & 0 & 1 \\end{bmatrix}\n",
    "\\begin{bmatrix} p_0 \\cr p_1 \\cr p_2 \\cr \\vdots \\cr p_{T-1} \\cr p_T \n",
    "\\end{bmatrix}  =\n",
    "\\begin{bmatrix} \n",
    "0 \\cr 0 \\cr 0 \\cr \\vdots \\cr 0 \\cr \\delta p_{T+1}^*\n",
    "\\end{bmatrix}\n",
    "$$ (eq:pieq2)\n",
    "\n",
    "Evidently, if $p_{T+1}^* = 0$, a price vector $p$ of all entries zero\n",
    "solves this equation and the only the **fundamental** component of our pricing \n",
    "formula {eq}`eq:ptpveq` is present. \n",
    "\n",
    "But let's activate the **bubble**  component by setting \n",
    "\n",
    "$$\n",
    "p_{T+1}^* = c \\delta^{-(T+1)} \n",
    "$$ (eq:eqbubbleterm)\n",
    "\n",
    "for some positive constant $c$.\n",
    "\n",
    "In this case,  when we multiply both sides of {eq}`eq:pieq2` by\n",
    "the matrix $A^{-1}$ presented in equation {eq}`eq:Ainv`, we \n",
    " find that\n",
    "\n",
    "$$\n",
    "p_t = c \\delta^{-t}\n",
    "$$ (eq:bubble)\n",
    "\n",
    "\n",
    "## Gross rate of return\n",
    "\n",
    "Define the gross rate of return on holding the asset from period $t$ to period $t+1$\n",
    "as \n",
    "\n",
    "$$\n",
    "R_t = \\frac{p_{t+1}}{p_t}\n",
    "$$ (eq:rateofreturn)\n",
    "\n",
    "Substituting equation {eq}`eq:bubble` into equation {eq}`eq:rateofreturn` confirms that an asset whose  sole source of value is a bubble  earns a  gross rate of return\n",
    "\n",
    "$$\n",
    "R_t = \\delta^{-1} > 1 , t = 0, 1, \\ldots, T\n",
    "$$\n",
    "\n",
    "\n",
    "## Exercises\n",
    "\n",
    "\n",
    "```{exercise-start} \n",
    ":label: pv_ex_a\n",
    "```\n",
    "\n",
    "Give analytical expressions for an asset price $p_t$ under the \n",
    "following settings for $d$ and $p_{T+1}^*$:\n",
    "\n",
    "1. $p_{T+1}^* = 0, d_t = g^t d_0$ (a modified version of the Gordon growth formula)\n",
    "1. $p_{T+1}^* = g^{T+1} d_0,  d_t = g^t d_0$ (the plain vanilla  Gordon growth formula)\n",
    "1. $p_{T+1}^* = 0, d_t = 0$ (price of a worthless stock)\n",
    "1. $p_{T+1}^* = c \\delta^{-(T+1)}, d_t = 0$ (price of a pure bubble stock)\n",
    "\n",
    "\n",
    "```{exercise-end} \n",
    "```\n",
    "\n",
    "```{solution-start} pv_ex_a\n",
    ":class: dropdown\n",
    "```\n",
    "\n",
    "Plugging each pair of the above $p_{T+1}^*, d_t$ into Equation {eq}`eq:ptpveq` yields:\n",
    "\n",
    "1. $p_t = \\sum^T_{s=t} \\delta^{s-t} g^s d_0$\n",
    "1. $p_t = \\sum^T_{s=t} \\delta^{s-t} g^s d_0 + \\delta^{T+1-t} g^{T+1} d_0$\n",
    "1. $p_t = 0$\n",
    "1. $p_t = c \\delta^{-t}$\n",
    "\n",
    "\n",
    "```{solution-end}\n",
    "```"
   ]
  }
 ],
 "metadata": {
  "jupytext": {
   "text_representation": {
    "extension": ".md",
    "format_name": "myst",
    "format_version": 0.13,
    "jupytext_version": "1.14.5"
   }
  },
  "kernelspec": {
   "display_name": "Python 3 (ipykernel)",
   "language": "python",
   "name": "python3"
  },
  "language_info": {
   "codemirror_mode": {
    "name": "ipython",
    "version": 3
   },
   "file_extension": ".py",
   "mimetype": "text/x-python",
   "name": "python",
   "nbconvert_exporter": "python",
   "pygments_lexer": "ipython3",
   "version": "3.11.9"
  },
  "source_map": [
   12,
   93,
   98,
   133,
   194,
   207,
   212,
   215,
   219,
   228,
   232,
   234,
   238,
   247,
   257,
   270,
   288,
   308,
   379,
   394
  ]
 },
 "nbformat": 4,
 "nbformat_minor": 5
}