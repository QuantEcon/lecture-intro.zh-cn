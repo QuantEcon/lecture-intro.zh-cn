{
 "cells": [
  {
   "cell_type": "markdown",
   "id": "c258a24c",
   "metadata": {},
   "source": [
    "# 现值\n",
    "\n",
    "## 概述\n",
    "\n",
    "本讲座描述了**现值模型**，这是许多资产定价理论的起点。\n",
    "\n",
    "资产定价理论是关于许多经济决策理论的组成部分，包括\n",
    "\n",
    "  * 消费\n",
    "  * 劳动力供给\n",
    "  * 教育选择\n",
    "  * 货币需求\n",
    "\n",
    "在资产定价理论中，更广泛的经济动态中，一个基本主题是不同**时间序列**之间的关系。\n",
    "\n",
    "**时间序列**是按时间索引的**序列**。\n",
    "\n",
    "在本讲座中，我们将把序列表示为向量。\n",
    "\n",
    "因此，我们的分析通常归结为研究向量之间的关系。\n",
    "\n",
    "本讲座中的主要工具将是\n",
    "\n",
    "  * 矩阵乘法，和\n",
    "  * 矩阵求逆。\n",
    "\n",
    "我们将在后续讲座中使用这里描述的计算，包括{doc}`消费平滑 <cons_smooth>`，{doc}`均衡差异模型 <equalizing_difference>`，和{doc}`货币主义价格水平理论 <cagan_ree>`。\n",
    "\n",
    "让我们开始吧。\n",
    "\n",
    "\n",
    "## 分析\n",
    "\n",
    "设\n",
    "\n",
    " * $\\{d_t\\}_{t=0}^T $ 是一系列股息或“支付”\n",
    " * $\\{p_t\\}_{t=0}^T $ 是从$t$日期开始的资产支付流的延续索赔价格序列，即$\\{d_s\\}_{s=t}^T $\n",
    " * $ \\delta  \\in (0,1) $ 是一个周期的“折现因子”\n",
    " * $p_{T+1}^*$ 是时间$T+1$时资产的终端价格\n",
    "\n",
    "我们假设股息流$\\{d_t\\}_{t=0}^T $和终端价格$p_{T+1}^*$都是外生的。\n",
    "\n",
    "这意味着它们是在模型之外确定的。\n",
    "\n",
    "假设资产定价方程序列\n",
    "\n",
    "$$\n",
    "    p_t = d_t + \\delta p_{t+1}, \\quad t = 0, 1, \\ldots , T\n",
    "$$ (eq:Euler1)\n",
    "\n",
    "我们说方程**s**，复数，因为有$T+1$个方程，每个$t =0, 1, \\ldots, T$都有一个。\n",
    "\n",
    "方程{eq}`eq:Euler1`断言在时间$t$购买资产所支付的价格等于支付$d_t$加上时间$t+1$的价格乘以时间折现因子$\\delta$。\n",
    "\n",
    "通过将明天的价格乘以$\\delta$来折现，考虑了“等待一个周期的价值”。\n",
    "\n",
    "我们想要解决$T+1$个方程{eq}`eq:Euler1`的系统，以资产价格序列$\\{p_t\\}_{t=0}^T $作为股息序列$\\{d_t\\}_{t=0}^T $和外生终端价格$p_{T+1}^*$的函数。\n",
    "\n",
    "像{eq}`eq:Euler1`这样的方程系统是线性**差分方程**的一个例子。\n",
    "\n",
    "有强大的数学方法可以用来解决这样的系统，它们本身就值得研究，因为它们是分析许多有趣经济模型的基础。\n",
    "\n",
    "例如，参见{doc}`Samuelson乘数-加速器 <dynam:samuelson>`\n",
    "\n",
    "在本讲座中，我们将使用矩阵乘法和矩阵求逆来解决系统{eq}`eq:Euler1`，这是线性代数中的基本工具，在{doc}`线性方程和矩阵代数 <linear_equations>`中介绍。\n",
    "\n",
    "我们将导入以下的库"
   ]
  },
  {
   "cell_type": "code",
   "execution_count": 1,
   "id": "b41377ef",
   "metadata": {},
   "outputs": [],
   "source": [
    "import numpy as np\n",
    "import matplotlib.pyplot as plt\n",
    "from matplotlib import font_manager\n",
    "fontP = font_manager.FontProperties()\n",
    "fontP.set_family('SimHei')\n",
    "fontP.set_size(14)"
   ]
  },
  {
   "cell_type": "markdown",
   "id": "cf2c0421",
   "metadata": {},
   "source": [
    "## 将序列表示为向量\n",
    "\n",
    "系统{eq}`eq:Euler1`中的方程可以如下排列：\n",
    "\n",
    "$$\n",
    "\\begin{aligned}\n",
    "    p_0 & = d_0 + \\delta p_1 \\\\\n",
    "    p_1 & = d_1 + \\delta p_2 \\\\\n",
    "    \\vdots \\\\\n",
    "    p_{T-1} & = d_{T-1} + \\delta p_T \\\\\n",
    "    p_T & = d_T + \\delta p^*_{T+1}\n",
    "\\end{aligned}\n",
    "$$ (eq:Euler_stack)\n",
    "\n",
    "将$T+1$个资产定价方程的系统{eq}`eq:Euler_stack`写成单个矩阵方程\n",
    "\n",
    "$$\n",
    "    \\begin{bmatrix} 1 & -\\delta & 0 & 0 & \\cdots & 0 & 0 \\cr\n",
    "                    0 & 1 & -\\delta & 0 & \\cdots & 0 & 0 \\cr\n",
    "                    0 & 0 & 1 & -\\delta & \\cdots & 0 & 0 \\cr\n",
    "                    \\vdots & \\vdots & \\vdots & \\vdots & \\vdots & 0 & 0 \\cr\n",
    "                    0 & 0 & 0 & 0 & \\cdots & 1 & -\\delta \\cr\n",
    "                    0 & 0 & 0 & 0 & \\cdots & 0 & 1 \\end{bmatrix}\n",
    "    \\begin{bmatrix} p_0 \\cr p_1 \\cr p_2 \\cr \\vdots \\cr p_{T-1} \\cr p_T \n",
    "    \\end{bmatrix} \n",
    "    =  \\begin{bmatrix}  \n",
    "    d_0 \\cr d_1 \\cr d_2 \\cr \\vdots \\cr d_{T-1} \\cr d_T\n",
    "    \\end{bmatrix}\n",
    "    + \\begin{bmatrix} \n",
    "    0 \\cr 0 \\cr 0 \\cr \\vdots \\cr 0 \\cr \\delta p_{T+1}^*\n",
    "    \\end{bmatrix}\n",
    "$$ (eq:pvpieq)"
   ]
  },
  {
   "cell_type": "markdown",
   "id": "2b34c014",
   "metadata": {},
   "source": [
    "```{exercise-start} \n",
    ":label: pv_ex_1\n",
    "```\n",
    "\n",
    "手动用矩阵乘法对[](eq:pvpieq)进行计算，然后用 [](eq:Euler_stack)确认。\n",
    "\n",
    "```{exercise-end}\n",
    "```\n",
    "\n",
    "用向量-矩阵表示法，我们可以将系统{eq}`eq:pvpieq`写成\n",
    "\n",
    "$$\n",
    "    A p = d + b\n",
    "$$ (eq:apdb)\n",
    "\n",
    "这里$A$是方程{eq}`eq:pvpieq`左侧的矩阵，而\n",
    "\n",
    "$$\n",
    "    p = \n",
    "    \\begin{bmatrix}\n",
    "        p_0 \\\\\n",
    "        p_1 \\\\\n",
    "        \\vdots \\\\\n",
    "        p_T\n",
    "    \\end{bmatrix},\n",
    "    \\quad\n",
    "    d = \n",
    "    \\begin{bmatrix}\n",
    "        d_0 \\\\\n",
    "        d_1 \\\\\n",
    "        \\vdots \\\\\n",
    "        d_T\n",
    "    \\end{bmatrix},\n",
    "    \\quad \\text{and} \\quad\n",
    "    b = \n",
    "    \\begin{bmatrix}\n",
    "        0 \\\\\n",
    "        0 \\\\\n",
    "        \\vdots \\\\\n",
    "        p^*_{T+1}\n",
    "    \\end{bmatrix}\n",
    "$$\n",
    "\n",
    "价格向量的解是\n",
    "\n",
    "$$\n",
    "    p = A^{-1}(d + b)\n",
    "$$ (eq:apdb_sol)\n",
    "\n",
    "例如，假设股息流是\n",
    "\n",
    "$$\n",
    "    d_{t+1} = 1.05 d_t, \\quad t = 0, 1, \\ldots , T-1.\n",
    "$$\n",
    "\n",
    "让我们编写Python代码来计算和绘制股息流。"
   ]
  },
  {
   "cell_type": "code",
   "execution_count": 2,
   "id": "d7c2e00f",
   "metadata": {},
   "outputs": [
    {
     "name": "stderr",
     "output_type": "stream",
     "text": [
      "/home/runner/miniconda3/envs/quantecon/lib/python3.11/site-packages/IPython/core/pylabtools.py:170: UserWarning: Glyph 26102 (\\N{CJK UNIFIED IDEOGRAPH-65F6}) missing from current font.\n",
      "  fig.canvas.print_figure(bytes_io, **kw)\n",
      "/home/runner/miniconda3/envs/quantecon/lib/python3.11/site-packages/IPython/core/pylabtools.py:170: UserWarning: Glyph 38388 (\\N{CJK UNIFIED IDEOGRAPH-95F4}) missing from current font.\n",
      "  fig.canvas.print_figure(bytes_io, **kw)\n",
      "/home/runner/miniconda3/envs/quantecon/lib/python3.11/site-packages/IPython/core/pylabtools.py:170: UserWarning: Glyph 32929 (\\N{CJK UNIFIED IDEOGRAPH-80A1}) missing from current font.\n",
      "  fig.canvas.print_figure(bytes_io, **kw)\n",
      "/home/runner/miniconda3/envs/quantecon/lib/python3.11/site-packages/IPython/core/pylabtools.py:170: UserWarning: Glyph 24687 (\\N{CJK UNIFIED IDEOGRAPH-606F}) missing from current font.\n",
      "  fig.canvas.print_figure(bytes_io, **kw)\n"
     ]
    },
    {
     "data": {
      "image/png": "[encoded data removed]",
      "text/plain": [
       "<Figure size 640x480 with 1 Axes>"
      ]
     },
     "metadata": {},
     "output_type": "display_data"
    }
   ],
   "source": [
    "T = 6\n",
    "current_d = 1.0\n",
    "d = []\n",
    "for t in range(T+1):\n",
    "    d.append(current_d)\n",
    "    current_d = current_d * 1.05 \n",
    "\n",
    "fig, ax = plt.subplots()\n",
    "ax.plot(d, 'o', label='股息')\n",
    "ax.legend()\n",
    "ax.set_xlabel('时间')\n",
    "plt.show()"
   ]
  },
  {
   "cell_type": "markdown",
   "id": "f6808fb7",
   "metadata": {},
   "source": [
    "现在让我们来计算和绘制资产价格。\n",
    "\n",
    "我们将 $\\delta$ 和 $p_{T+1}^*$ 设定为"
   ]
  },
  {
   "cell_type": "code",
   "execution_count": 3,
   "id": "d16733f5",
   "metadata": {},
   "outputs": [],
   "source": [
    "δ = 0.99\n",
    "p_star = 10.0"
   ]
  },
  {
   "cell_type": "markdown",
   "id": "52b262df",
   "metadata": {},
   "source": [
    "让我们来建立矩阵 $A$"
   ]
  },
  {
   "cell_type": "code",
   "execution_count": 4,
   "id": "f49eec7a",
   "metadata": {},
   "outputs": [],
   "source": [
    "A = np.zeros((T+1, T+1))\n",
    "for i in range(T+1):\n",
    "    for j in range(T+1):\n",
    "        if i == j:\n",
    "            A[i, j] = 1\n",
    "            if j < T:\n",
    "                A[i, j+1] = -δ\n"
   ]
  },
  {
   "cell_type": "markdown",
   "id": "fe2fd3e2",
   "metadata": {},
   "source": [
    "让我们来一起检视$A$"
   ]
  },
  {
   "cell_type": "code",
   "execution_count": 5,
   "id": "48e61d5b",
   "metadata": {},
   "outputs": [
    {
     "data": {
      "text/plain": [
       "array([[ 1.  , -0.99,  0.  ,  0.  ,  0.  ,  0.  ,  0.  ],\n",
       "       [ 0.  ,  1.  , -0.99,  0.  ,  0.  ,  0.  ,  0.  ],\n",
       "       [ 0.  ,  0.  ,  1.  , -0.99,  0.  ,  0.  ,  0.  ],\n",
       "       [ 0.  ,  0.  ,  0.  ,  1.  , -0.99,  0.  ,  0.  ],\n",
       "       [ 0.  ,  0.  ,  0.  ,  0.  ,  1.  , -0.99,  0.  ],\n",
       "       [ 0.  ,  0.  ,  0.  ,  0.  ,  0.  ,  1.  , -0.99],\n",
       "       [ 0.  ,  0.  ,  0.  ,  0.  ,  0.  ,  0.  ,  1.  ]])"
      ]
     },
     "execution_count": 5,
     "metadata": {},
     "output_type": "execute_result"
    }
   ],
   "source": [
    "A"
   ]
  },
  {
   "cell_type": "markdown",
   "id": "551d20b3",
   "metadata": {},
   "source": [
    "让我们用 {eq}`eq:apdb_sol`来求解价格。"
   ]
  },
  {
   "cell_type": "code",
   "execution_count": 6,
   "id": "852520a8",
   "metadata": {},
   "outputs": [
    {
     "name": "stderr",
     "output_type": "stream",
     "text": [
      "/home/runner/miniconda3/envs/quantecon/lib/python3.11/site-packages/IPython/core/pylabtools.py:170: UserWarning: Glyph 36164 (\\N{CJK UNIFIED IDEOGRAPH-8D44}) missing from current font.\n",
      "  fig.canvas.print_figure(bytes_io, **kw)\n",
      "/home/runner/miniconda3/envs/quantecon/lib/python3.11/site-packages/IPython/core/pylabtools.py:170: UserWarning: Glyph 20135 (\\N{CJK UNIFIED IDEOGRAPH-4EA7}) missing from current font.\n",
      "  fig.canvas.print_figure(bytes_io, **kw)\n",
      "/home/runner/miniconda3/envs/quantecon/lib/python3.11/site-packages/IPython/core/pylabtools.py:170: UserWarning: Glyph 20215 (\\N{CJK UNIFIED IDEOGRAPH-4EF7}) missing from current font.\n",
      "  fig.canvas.print_figure(bytes_io, **kw)\n",
      "/home/runner/miniconda3/envs/quantecon/lib/python3.11/site-packages/IPython/core/pylabtools.py:170: UserWarning: Glyph 26684 (\\N{CJK UNIFIED IDEOGRAPH-683C}) missing from current font.\n",
      "  fig.canvas.print_figure(bytes_io, **kw)\n"
     ]
    },
    {
     "data": {
      "image/png": "[encoded data removed]",
      "text/plain": [
       "<Figure size 640x480 with 1 Axes>"
      ]
     },
     "metadata": {},
     "output_type": "display_data"
    }
   ],
   "source": [
    "b = np.zeros(T+1)\n",
    "b[-1] = δ * p_star\n",
    "p = np.linalg.solve(A, d + b)\n",
    "fig, ax = plt.subplots()\n",
    "ax.plot(p, 'o', label='资产价格')\n",
    "ax.legend()\n",
    "ax.set_xlabel('时间')\n",
    "plt.show()"
   ]
  },
  {
   "cell_type": "markdown",
   "id": "ca9ec364",
   "metadata": {},
   "source": [
    "现在让我们来看一个周期性增长的股息序列：\n",
    "\n",
    "$$\n",
    "    d_{t+1} = 1.01 d_t + 0.1 \\sin t, \\quad t = 0, 1, \\ldots , T-1.\n",
    "$$"
   ]
  },
  {
   "cell_type": "code",
   "execution_count": 7,
   "id": "904ff62e",
   "metadata": {},
   "outputs": [
    {
     "data": {
      "image/png": "[encoded data removed]",
      "text/plain": [
       "<Figure size 640x480 with 1 Axes>"
      ]
     },
     "metadata": {},
     "output_type": "display_data"
    }
   ],
   "source": [
    "T = 100\n",
    "current_d = 1.0\n",
    "d = []\n",
    "for t in range(T+1):\n",
    "    d.append(current_d)\n",
    "    current_d = current_d * 1.01 + 0.1 * np.sin(t)\n",
    "\n",
    "fig, ax = plt.subplots()\n",
    "ax.plot(d, 'o-', ms=4, alpha=0.8, label='股息')\n",
    "ax.legend()\n",
    "ax.set_xlabel('时间')\n",
    "plt.show()"
   ]
  },
  {
   "cell_type": "markdown",
   "id": "509d92f6",
   "metadata": {},
   "source": [
    "```{exercise-start} \n",
    ":label: pv_ex_cyc\n",
    "```\n",
    "当$p^*_{T+1} = 0$ 和 $\\delta = 0.98$ 时，计算相对应的价格序列。\n",
    "```{exercise-end}\n",
    "```\n",
    "\n",
    "```{solution-start} pv_ex_cyc\n",
    ":class: dropdown\n",
    "```\n",
    "我们改变之前的参数和矩阵$A$。"
   ]
  },
  {
   "cell_type": "code",
   "execution_count": 8,
   "id": "afd61e90",
   "metadata": {},
   "outputs": [
    {
     "data": {
      "image/png": "[encoded data removed]",
      "text/plain": [
       "<Figure size 640x480 with 1 Axes>"
      ]
     },
     "metadata": {},
     "output_type": "display_data"
    }
   ],
   "source": [
    "δ = 0.98\n",
    "p_star = 0.0\n",
    "A = np.zeros((T+1, T+1))\n",
    "for i in range(T+1):\n",
    "    for j in range(T+1):\n",
    "        if i == j:\n",
    "            A[i, j] = 1\n",
    "            if j < T:\n",
    "                A[i, j+1] = -δ\n",
    "\n",
    "b = np.zeros(T+1)\n",
    "b[-1] = δ * p_star\n",
    "p = np.linalg.solve(A, d + b)\n",
    "fig, ax = plt.subplots()\n",
    "ax.plot(p, 'o-', ms=4, alpha=0.8, label='资产价格')\n",
    "ax.legend()\n",
    "ax.set_xlabel('时间')\n",
    "plt.show()\n"
   ]
  },
  {
   "cell_type": "markdown",
   "id": "9bbf1eb6",
   "metadata": {},
   "source": [
    "与现值计算相关的加权平均在很大程度上消除了周期。\n",
    "\n",
    "```{solution-end} \n",
    "```\n",
    "\n",
    "## 解析表达式\n",
    "\n",
    "根据逆矩阵定理，当$A B$是单位矩阵时，矩阵$B$是$A$的逆矩阵。\n",
    "\n",
    "可以验证，{eq}`eq:pvpieq`中的矩阵$A$的逆矩阵是\n",
    "\n",
    "$$ A^{-1} = \n",
    "    \\begin{bmatrix}\n",
    "        1 & \\delta & \\delta^2 & \\cdots & \\delta^{T-1} & \\delta^T \\cr\n",
    "        0 & 1 & \\delta & \\cdots & \\delta^{T-2} & \\delta^{T-1} \\cr\n",
    "        \\vdots & \\vdots & \\vdots & \\cdots & \\vdots & \\vdots \\cr\n",
    "        0 & 0 & 0 & \\cdots & 1  & \\delta \\cr\n",
    "        0 & 0 & 0 & \\cdots & 0 & 1 \\cr\n",
    "    \\end{bmatrix}\n",
    "$$ (eq:Ainv)\n",
    "\n",
    "```{exercise-start} \n",
    ":label: pv_ex_2\n",
    "```\n",
    "\n",
    "通过证明$AA^{-1}$为单位矩阵来检查。\n",
    "\n",
    "\n",
    "```{exercise-end}\n",
    "```\n",
    "\n",
    "如果我们在 {eq}`eq:apdb_sol` 中使用表达式 {eq}`eq:Ainv` 并执行所指示的矩阵乘法，我们将发现\n",
    "\n",
    "$$\n",
    "    p_t =  \\sum_{s=t}^T \\delta^{s-t} d_s +  \\delta^{T+1-t} p_{T+1}^*\n",
    "$$ (eq:ptpveq)\n",
    "\n",
    "定价公式 {eq}`eq:ptpveq` 断言两个组成部分相加得到资产价格 $p_t$：\n",
    "\n",
    "* 一个**基本组成部分** $\\sum_{s=t}^T \\delta^{s-t} d_s$，等于预期股息的**贴现现值**\n",
    "  \n",
    "* 一个**泡沫组成部分** $\\delta^{T+1-t} p_{T+1}^*$\n",
    "\n",
    "基本组成部分由贴现因子 $\\delta$ 和资产的支付（在这种情况下为股息）确定。\n",
    "泡沫组成部分是价格中不由基本面决定的部分。\n",
    "有时将泡沫组成部分重写为\n",
    "$$ \n",
    "c \\delta^{-t}\n",
    "$$\n",
    "更为方便，其中\n",
    "$$ \n",
    "c \\equiv \\delta^{T+1}p_{T+1}^*\n",
    "$$"
   ]
  },
  {
   "cell_type": "markdown",
   "id": "85200ba9",
   "metadata": {},
   "source": [
    "## 关于泡沫的更多内容\n",
    "\n",
    "让我们暂时关注一种特殊情况，即一种永不支付股息的资产，在这种情况下\n",
    "\n",
    "$$\n",
    "\\begin{bmatrix}  \n",
    "d_0 \\cr d_1 \\cr d_2 \\cr \\vdots \\cr d_{T-1} \\cr d_T\n",
    "\\end{bmatrix} = \n",
    "\\begin{bmatrix}  \n",
    "0 \\cr 0 \\cr 0 \\cr \\vdots \\cr 0 \\cr 0\n",
    "\\end{bmatrix}\n",
    "$$"
   ]
  },
  {
   "cell_type": "markdown",
   "id": "0bc3bfd3",
   "metadata": {},
   "source": [
    "在这种情况下，我们的 $T+1$ 资产定价方程系统 {eq}`eq:Euler1` 采用以下单一矩阵方程的形式：\n",
    "\n",
    "$$\n",
    "\\begin{bmatrix} 1 & -\\delta & 0 & 0 & \\cdots & 0 & 0 \\cr\n",
    "                0 & 1 & -\\delta & 0 & \\cdots & 0 & 0 \\cr\n",
    "                0 & 0 & 1 & -\\delta & \\cdots & 0 & 0 \\cr\n",
    "                \\vdots & \\vdots & \\vdots & \\vdots & \\vdots & 0 & 0 \\cr\n",
    "                0 & 0 & 0 & 0 & \\cdots & 1 & -\\delta \\cr\n",
    "                0 & 0 & 0 & 0 & \\cdots & 0 & 1 \\end{bmatrix}\n",
    "\\begin{bmatrix} p_0 \\cr p_1 \\cr p_2 \\cr \\vdots \\cr p_{T-1} \\cr p_T \n",
    "\\end{bmatrix}  =\n",
    "\\begin{bmatrix} \n",
    "0 \\cr 0 \\cr 0 \\cr \\vdots \\cr 0 \\cr \\delta p_{T+1}^*\n",
    "\\end{bmatrix}\n",
    "$$ (eq:pieq2)\n",
    "\n",
    "显然，如果 $p_{T+1}^* = 0$，一个所有元素为零的价格向量 $p$ 可以解这个方程，此时我们定价公式 {eq}`eq:ptpveq` 中只有**基本面**成分存在。\n",
    "\n",
    "但让我们通过设置以下条件来激活**泡沫**成分：\n",
    "\n",
    "$$\n",
    "p_{T+1}^* = c \\delta^{-(T+1)} \n",
    "$$ (eq:eqbubbleterm)\n",
    "\n",
    "其中 $c$ 为某个正常数。\n",
    "\n",
    "在这种情况下，当我们用方程 {eq}`eq:Ainv` 中的矩阵 $A^{-1}$ 乘以 {eq}`eq:pieq2` 的两边时，我们发现：\n",
    "\n",
    "$$\n",
    "p_t = c \\delta^{-t}\n",
    "$$ (eq:bubble)\n",
    "\n",
    "## 总回报率\n",
    "\n",
    "定义从 $t$ 期到 $t+1$ 期持有资产的总回报率为：\n",
    "\n",
    "$$\n",
    "R_t = \\frac{p_{t+1}}{p_t}\n",
    "$$ (eq:rateofreturn)\n",
    "\n",
    "将方程 {eq}`eq:bubble` 代入方程 {eq}`eq:rateofreturn` 可以确认，一个价值完全来源于泡沫的资产的总回报率为：\n",
    "\n",
    "$$\n",
    "R_t = \\delta^{-1} > 1 , t = 0, 1, \\ldots, T\n",
    "$$\n",
    "\n",
    "## 练习\n",
    "\n",
    "\n",
    "```{exercise-start} \n",
    ":label: pv_ex_a\n",
    "```\n",
    "给出以下 $d$ 和 $p_{T+1}^*$ 设置下资产价格 $p_t$ 的分析表达式：\n",
    "\n",
    "1. $p_{T+1}^* = 0, d_t = g^t d_0$（戈登增长公式的修改版）\n",
    "2. $p_{T+1}^* = g^{T+1} d_0, d_t = g^t d_0$（普通的戈登增长公式）\n",
    "3. $p_{T+1}^* = 0, d_t = 0$（一个无价值股票的价格）\n",
    "4. $p_{T+1}^* = c \\delta^{-(T+1)}, d_t = 0$（一个纯泡沫股票的价格）\n",
    "\n",
    "```{exercise-end} \n",
    "```\n",
    "\n",
    "```{solution-start} pv_ex_a\n",
    ":class: dropdown\n",
    "```\n",
    "将上述每对 $p_{T+1}^*, d_t$ 代入方程 {eq}`eq:ptpveq` 得到：\n",
    "\n",
    "1. $p_t = \\sum^T_{s=t} \\delta^{s-t} g^s d_0$\n",
    "2. $p_t = \\sum^T_{s=t} \\delta^{s-t} g^s d_0 + \\delta^{T+1-t} g^{T+1} d_0$\n",
    "3. $p_t = 0$\n",
    "4. $p_t = c \\delta^{-t}$\n",
    "\n",
    "\n",
    "```{solution-end}\n",
    "```"
   ]
  }
 ],
 "metadata": {
  "jupytext": {
   "text_representation": {
    "extension": ".md",
    "format_name": "myst",
    "format_version": 0.13,
    "jupytext_version": "1.14.5"
   }
  },
  "kernelspec": {
   "display_name": "Python 3 (ipykernel)",
   "language": "python",
   "name": "python3"
  },
  "language_info": {
   "codemirror_mode": {
    "name": "ipython",
    "version": 3
   },
   "file_extension": ".py",
   "mimetype": "text/x-python",
   "name": "python",
   "nbconvert_exporter": "python",
   "pygments_lexer": "ipython3",
   "version": "3.11.9"
  },
  "source_map": [
   12,
   84,
   93,
   129,
   188,
   201,
   206,
   209,
   213,
   222,
   224,
   226,
   229,
   238,
   246,
   259,
   273,
   293,
   348,
   363
  ]
 },
 "nbformat": 4,
 "nbformat_minor": 5
}