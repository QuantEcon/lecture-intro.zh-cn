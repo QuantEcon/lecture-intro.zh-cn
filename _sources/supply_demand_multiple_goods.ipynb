{
 "cells": [
  {
   "cell_type": "markdown",
   "id": "9a41ba5a",
   "metadata": {},
   "source": [
    "(supply_demand_multiple_goods)=\n",
    "# Supply and Demand with Many Goods\n",
    "\n",
    "## Overview\n",
    "\n",
    "In a {doc}`previous lecture <intro_supply_demand>` we studied supply, demand\n",
    "and welfare in a market with a single consumption good.\n",
    "\n",
    "In this lecture, we study a setting with $n$ goods and $n$ corresponding prices.\n",
    "\n",
    "Key infrastructure concepts that we'll encounter in this lecture are\n",
    "\n",
    "* inverse demand curves\n",
    "* marginal utilities of wealth\n",
    "* inverse supply curves\n",
    "* consumer surplus\n",
    "* producer surplus\n",
    "* social welfare as a sum of consumer and producer surpluses\n",
    "* competitive equilibrium\n",
    "\n",
    "\n",
    "We will provide a version of the [first fundamental welfare theorem](https://en.wikipedia.org/wiki/Fundamental_theorems_of_welfare_economics), which was formulated by \n",
    "\n",
    "* [Leon Walras](https://en.wikipedia.org/wiki/L%C3%A9on_Walras)\n",
    "* [Francis Ysidro Edgeworth](https://en.wikipedia.org/wiki/Francis_Ysidro_Edgeworth)\n",
    "* [Vilfredo Pareto](https://en.wikipedia.org/wiki/Vilfredo_Pareto)\n",
    "\n",
    "Important extensions to the key ideas were obtained by\n",
    "\n",
    "* [Abba Lerner](https://en.wikipedia.org/wiki/Abba_P._Lerner)\n",
    "* [Harold Hotelling](https://en.wikipedia.org/wiki/Harold_Hotelling)\n",
    "* [Paul Samuelson](https://en.wikipedia.org/wiki/Paul_Samuelson)\n",
    "* [Kenneth Arrow](https://en.wikipedia.org/wiki/Kenneth_Arrow) \n",
    "* [Gerard Debreu](https://en.wikipedia.org/wiki/G%C3%A9rard_Debreu)\n",
    "\n",
    "\n",
    "We shall describe two classic welfare theorems:\n",
    "\n",
    "* **first welfare theorem:** for a given distribution of wealth among consumers, a competitive  equilibrium  allocation of goods solves a  social planning problem.\n",
    "\n",
    "* **second welfare theorem:** An allocation of goods to consumers that solves a social planning problem can be supported by a competitive equilibrium with an appropriate initial distribution of  wealth.\n",
    "\n",
    "As usual, we start by importing some Python modules."
   ]
  },
  {
   "cell_type": "code",
   "execution_count": 1,
   "id": "4a102eb9",
   "metadata": {},
   "outputs": [],
   "source": [
    "# import some packages\n",
    "import numpy as np\n",
    "import matplotlib.pyplot as plt\n",
    "from scipy.linalg import inv"
   ]
  },
  {
   "cell_type": "markdown",
   "id": "a2bd4bab",
   "metadata": {},
   "source": [
    "## Formulas from linear algebra\n",
    "\n",
    "We shall apply formulas from linear algebra that\n",
    "\n",
    "* differentiate an inner product with respect to each vector\n",
    "* differentiate a product of a matrix and a vector with respect to the vector\n",
    "* differentiate a quadratic form in a vector with respect to the vector\n",
    "\n",
    "Where $a$ is an $n \\times 1$ vector, $A$ is an $n \\times n$ matrix, and $x$ is an $n \\times 1$ vector:\n",
    "\n",
    "$$\n",
    "\\frac{\\partial a^\\top x }{\\partial x} = \\frac{\\partial x^\\top a }{\\partial x} = a\n",
    "$$\n",
    "\n",
    "$$\n",
    "\\frac{\\partial A x} {\\partial x} = A\n",
    "$$\n",
    "\n",
    "$$\n",
    "\\frac{\\partial x^\\top A x}{\\partial x} = (A + A^\\top)x\n",
    "$$\n",
    "\n",
    "## From utility function to demand curve\n",
    "\n",
    "Our study of consumers will use the following primitives\n",
    "\n",
    "* $\\Pi$ be an $m \\times n$ matrix,\n",
    "* $b$ be an $m \\times 1$ vector of bliss points,\n",
    "* $e$ be an $n \\times 1$ vector of endowments, and"
   ]
  },
  {
   "cell_type": "markdown",
   "id": "ef75d2a8",
   "metadata": {},
   "source": [
    "We will analyze endogenous objects $c$ and $p$, where\n",
    "\n",
    "* $c$ is an $n \\times 1$ vector of consumptions of various goods,\n",
    "* $p$ is an $n \\times 1$ vector of prices"
   ]
  },
  {
   "cell_type": "markdown",
   "id": "9e1714c9",
   "metadata": {},
   "source": [
    "The matrix $\\Pi$ describes a consumer's willingness to substitute one good for every other good.\n",
    "\n",
    "We assume that $\\Pi$ has linearly independent columns, which implies that $\\Pi^\\top \\Pi$ is a positive definite matrix.\n",
    "\n",
    "* it follows that $\\Pi^\\top \\Pi$ has an inverse.\n",
    "\n",
    "We shall see below that $(\\Pi^\\top \\Pi)^{-1}$ is a matrix of slopes of (compensated) demand curves for $c$ with respect to a vector of prices:\n",
    "\n",
    "$$\n",
    "    \\frac{\\partial c } {\\partial p} = (\\Pi^\\top \\Pi)^{-1}\n",
    "$$\n",
    "\n",
    "A consumer faces $p$ as a price taker and chooses $c$ to maximize the utility function\n",
    "\n",
    "$$\n",
    "    - \\frac{1}{2} (\\Pi c -b) ^\\top (\\Pi c -b )\n",
    "$$ (eq:old0)\n",
    "\n",
    "subject to the budget constraint\n",
    "\n",
    "$$\n",
    "    p^\\top (c -e ) = 0\n",
    "$$ (eq:old2)\n",
    "\n",
    "We shall specify examples in which $\\Pi$ and $b$ are such that it typically happens that\n",
    "\n",
    "$$\n",
    "    \\Pi c \\ll b\n",
    "$$ (eq:bversusc)\n",
    "\n",
    "This means that the consumer has much less of each good than he wants.\n",
    "\n",
    "The deviation in {eq}`eq:bversusc` will ultimately assure us that competitive equilibrium prices are positive."
   ]
  },
  {
   "cell_type": "markdown",
   "id": "d1b23c6b",
   "metadata": {},
   "source": [
    "### Demand curve implied by constrained utility maximization\n",
    "\n",
    "For now, we assume that the budget constraint is {eq}`eq:old2`.\n",
    "\n",
    "So we'll be deriving what is known as  a **Marshallian** demand curve.\n",
    "\n",
    "Our aim is to maximize [](eq:old0) subject to [](eq:old2).\n",
    "\n",
    "Form a Lagrangian\n",
    "\n",
    "$$ L = - \\frac{1}{2} (\\Pi c -b)^\\top (\\Pi c -b ) + \\mu [p^\\top (e-c)] $$\n",
    "\n",
    "where $\\mu$ is a Lagrange multiplier that is often called a **marginal utility of wealth**.\n",
    "\n",
    "The consumer chooses $c$ to maximize $L$ and $\\mu$ to minimize it.\n",
    "\n",
    "First-order conditions for $c$ are\n",
    "\n",
    "$$\n",
    "    \\frac{\\partial L} {\\partial c}\n",
    "    = - \\Pi^\\top \\Pi c + \\Pi^\\top b - \\mu p = 0\n",
    "$$\n",
    "\n",
    "so that, given $\\mu$, the consumer chooses\n",
    "\n",
    "$$\n",
    "    c = (\\Pi^\\top \\Pi )^{-1}(\\Pi^\\top b -  \\mu p )\n",
    "$$ (eq:old3)\n",
    "\n",
    "Substituting {eq}`eq:old3` into budget constraint {eq}`eq:old2` and solving for $\\mu$ gives\n",
    "\n",
    "$$\n",
    "    \\mu(p,e) = \\frac{p^\\top ( \\Pi^\\top \\Pi )^{-1} \\Pi^\\top b - p^\\top e}{p^\\top (\\Pi^\\top \\Pi )^{-1} p}.\n",
    "$$ (eq:old4)\n",
    "\n",
    "Equation {eq}`eq:old4` tells how marginal utility of wealth depends on the endowment vector $e$ and the price vector $p$.\n",
    "\n",
    "```{note}\n",
    "Equation {eq}`eq:old4` is a consequence of imposing that $p^\\top (c - e) = 0$.  \n",
    "\n",
    "We could instead take $\\mu$ as a parameter and use {eq}`eq:old3` and the budget constraint {eq}`eq:old2p` to solve for wealth. \n",
    "\n",
    "Which way we proceed determines whether we are constructing a **Marshallian** or **Hicksian** demand curve.\n",
    "```\n",
    "\n",
    "## Endowment economy\n",
    "\n",
    "We now study a pure-exchange economy, or what is sometimes called an endowment economy.\n",
    "\n",
    "Consider a single-consumer, multiple-goods economy without production.\n",
    "\n",
    "The only source of goods is the single consumer's endowment vector $e$.\n",
    "\n",
    "A competitive equilibrium price vector induces the consumer to choose $c=e$.\n",
    "\n",
    "This implies that the equilibrium price vector satisfies\n",
    "\n",
    "$$\n",
    "p = \\mu^{-1} (\\Pi^\\top b - \\Pi^\\top \\Pi e)\n",
    "$$\n",
    "\n",
    "In the present case where we have imposed budget constraint in the form {eq}`eq:old2`, we are free to normalize the price vector by setting the marginal utility of wealth $\\mu =1$ (or any other value for that matter).\n",
    "\n",
    "This amounts to choosing a common unit (or numeraire) in which prices of all goods are expressed.\n",
    "\n",
    "(Doubling all prices will affect neither quantities nor relative prices.)\n",
    "\n",
    "We'll set $\\mu=1$.\n",
    "\n",
    "```{exercise}\n",
    ":label: sdm_ex1\n",
    "\n",
    "Verify that setting $\\mu=1$ in {eq}`eq:old3` implies that formula {eq}`eq:old4` is satisfied.\n",
    "\n",
    "```\n",
    "\n",
    "```{exercise}\n",
    ":label: sdm_ex2\n",
    "\n",
    "Verify that setting  $\\mu=2$ in {eq}`eq:old3` also implies that formula\n",
    "{eq}`eq:old4` is satisfied.\n",
    "\n",
    "```\n",
    "\n",
    "Here is a class that computes competitive equilibria for our economy."
   ]
  },
  {
   "cell_type": "code",
   "execution_count": 2,
   "id": "2673fa17",
   "metadata": {},
   "outputs": [],
   "source": [
    "class ExchangeEconomy:\n",
    "    \n",
    "    def __init__(self, \n",
    "                 Π, \n",
    "                 b, \n",
    "                 e,\n",
    "                 thres=1.5):\n",
    "        \"\"\"\n",
    "        Set up the environment for an exchange economy\n",
    "\n",
    "        Args:\n",
    "            Π (np.array): shared matrix of substitution\n",
    "            b (list):  the consumer's bliss point\n",
    "            e (list):  the consumer's endowment\n",
    "            thres (float): a threshold to check p >> Π e condition\n",
    "        \"\"\"\n",
    "\n",
    "        # check non-satiation\n",
    "        if np.min(b / np.max(Π @ e)) <= thres:\n",
    "            raise Exception('set bliss points further away')\n",
    "\n",
    "\n",
    "        self.Π, self.b, self.e = Π, b, e\n",
    "\n",
    "    \n",
    "    def competitive_equilibrium(self):\n",
    "        \"\"\"\n",
    "        Compute the competitive equilibrium prices and allocation\n",
    "        \"\"\"\n",
    "        Π, b, e = self.Π, self.b, self.e\n",
    "\n",
    "        # compute price vector with μ=1\n",
    "        p = Π.T @ b - Π.T @ Π @ e\n",
    "        \n",
    "        # compute consumption vector\n",
    "        slope_dc = inv(Π.T @ Π)\n",
    "        Π_inv = inv(Π)\n",
    "        c = Π_inv @ b - slope_dc @ p\n",
    "\n",
    "        if any(c < 0):\n",
    "            print('allocation: ', c)\n",
    "            raise Exception('negative allocation: equilibrium does not exist')\n",
    "\n",
    "        return p, c"
   ]
  },
  {
   "cell_type": "markdown",
   "id": "723d8fae",
   "metadata": {},
   "source": [
    "## Digression: Marshallian and Hicksian demand curves\n",
    "\n",
    "Sometimes we'll use budget constraint {eq}`eq:old2` in situations in which a consumer's endowment vector $e$ is his **only** source of income.\n",
    "\n",
    "Other times we'll instead assume that the consumer has another source of income (positive or negative) and write his budget constraint as\n",
    "\n",
    "$$\n",
    "p ^\\top (c -e ) = w\n",
    "$$ (eq:old2p)\n",
    "\n",
    "where $w$ is measured in \"dollars\" (or some other **numeraire**) and component $p_i$ of the price vector is measured in dollars per unit of good $i$.\n",
    "\n",
    "Whether the consumer's budget constraint is {eq}`eq:old2` or {eq}`eq:old2p` and whether we take $w$ as a free parameter or instead as an endogenous variable will affect the consumer's marginal utility of wealth.\n",
    "\n",
    "Consequently, how we set $\\mu$ determines whether we are constructing\n",
    "\n",
    "* a **Marshallian** demand curve, as when we use {eq}`eq:old2` and solve for $\\mu$ using equation {eq}`eq:old4` above, or\n",
    "* a **Hicksian** demand curve, as when we treat $\\mu$ as a fixed parameter and solve for $w$ from {eq}`eq:old2p`.\n",
    "\n",
    "Marshallian and Hicksian demand curves contemplate different mental experiments:\n",
    "\n",
    "For a Marshallian demand curve, hypothetical changes in a price vector have both **substitution** and **income** effects\n",
    "\n",
    "* income effects are consequences of changes in $p^\\top e$ associated with the change in the price vector\n",
    "\n",
    "For a Hicksian demand curve, hypothetical price vector changes have only **substitution** effects\n",
    "\n",
    "* changes in the price vector leave the $p^\\top e + w$ unaltered because we freeze $\\mu$ and solve for $w$\n",
    "\n",
    "Sometimes a Hicksian demand curve is called a **compensated** demand curve in order to emphasize that, to disarm the income (or wealth) effect associated with a price change, the consumer's wealth $w$ is adjusted.\n",
    "\n",
    "We'll discuss these distinct demand curves more below."
   ]
  },
  {
   "cell_type": "markdown",
   "id": "7c31cd86",
   "metadata": {},
   "source": [
    "## Dynamics and risk as special cases\n",
    "\n",
    "Special cases of our $n$-good pure exchange model can be created to represent\n",
    "\n",
    "* **dynamics** --- by putting different dates on different commodities\n",
    "* **risk** --- by interpreting delivery of goods as being contingent on states of the world whose realizations are described by a *known probability distribution*\n",
    "\n",
    "Let's illustrate how.\n",
    "\n",
    "### Dynamics\n",
    "\n",
    "Suppose that we want to represent a utility function\n",
    "\n",
    "$$\n",
    "  - \\frac{1}{2} [(c_1 - b_1)^2 + \\beta (c_2 - b_2)^2]\n",
    "$$\n",
    "\n",
    "where $\\beta \\in (0,1)$ is a discount factor, $c_1$ is consumption at time $1$ and $c_2$ is consumption at time 2.\n",
    "\n",
    "To capture this with our quadratic utility function {eq}`eq:old0`, set\n",
    "\n",
    "$$\n",
    "\\Pi = \\begin{bmatrix} 1 & 0 \\cr\n",
    "         0 & \\sqrt{\\beta} \\end{bmatrix}\n",
    "$$\n",
    "\n",
    "$$\n",
    "e = \\begin{bmatrix} e_1 \\cr e_2 \\end{bmatrix}\n",
    "$$\n",
    "\n",
    "and\n",
    "\n",
    "$$\n",
    "b = \\begin{bmatrix} b_1 \\cr \\sqrt{\\beta} b_2\n",
    "\\end{bmatrix}\n",
    "$$\n",
    "\n",
    "The budget constraint {eq}`eq:old2` becomes\n",
    "\n",
    "$$\n",
    "p_1 c_1 + p_2 c_2 = p_1 e_1 + p_2 e_2\n",
    "$$\n",
    "\n",
    "The left side is the **discounted present value** of consumption.\n",
    "\n",
    "The right side is the **discounted present value** of the consumer's endowment.\n",
    "\n",
    "The relative price  $\\frac{p_1}{p_2}$ has units of time $2$ goods per unit of time $1$ goods.\n",
    "\n",
    "Consequently, \n",
    "\n",
    "$$\n",
    "    (1+r) := R := \\frac{p_1}{p_2}\n",
    "$$ \n",
    "\n",
    "is the **gross interest rate** and $r$ is the **net interest rate**.\n",
    "\n",
    "Here is an example."
   ]
  },
  {
   "cell_type": "code",
   "execution_count": 3,
   "id": "98e6a473",
   "metadata": {},
   "outputs": [
    {
     "name": "stdout",
     "output_type": "stream",
     "text": [
      "Competitive equilibrium price vector: [4.  3.8]\n",
      "Competitive equilibrium allocation: [1. 1.]\n"
     ]
    }
   ],
   "source": [
    "beta = 0.95\n",
    "\n",
    "Π = np.array([[1, 0],\n",
    "              [0, np.sqrt(beta)]])\n",
    "\n",
    "b = np.array([5, np.sqrt(beta) * 5])\n",
    "\n",
    "e = np.array([1, 1])\n",
    "\n",
    "dynamics = ExchangeEconomy(Π, b, e)\n",
    "p, c = dynamics.competitive_equilibrium()\n",
    "\n",
    "print('Competitive equilibrium price vector:', p)\n",
    "print('Competitive equilibrium allocation:', c)"
   ]
  },
  {
   "cell_type": "markdown",
   "id": "bd867fca",
   "metadata": {},
   "source": [
    "### Risk and state-contingent claims\n",
    "\n",
    "We study risk in the context of a **static** environment, meaning that there is only one period.\n",
    "\n",
    "By **risk** we mean that an outcome is not known in advance, but that it is governed by a known probability distribution.\n",
    "\n",
    "As an example, our consumer confronts **risk** means in particular that\n",
    "\n",
    "  * there are two states of nature, $1$ and $2$.\n",
    "\n",
    "  * the consumer knows that the probability that state $1$ occurs is $\\lambda$.\n",
    "\n",
    "  * the consumer knows that the probability that state $2$ occurs is $(1-\\lambda)$.\n",
    "\n",
    "Before the outcome is realized, the consumer's **expected utility** is\n",
    "\n",
    "$$\n",
    "- \\frac{1}{2} [\\lambda (c_1 - b_1)^2 + (1-\\lambda)(c_2 - b_2)^2]\n",
    "$$\n",
    "\n",
    "where\n",
    "\n",
    "* $c_1$ is consumption in state $1$\n",
    "* $c_2$ is consumption in state $2$\n",
    "\n",
    "To capture these preferences we set\n",
    "\n",
    "$$\n",
    "\\Pi = \\begin{bmatrix} \\sqrt{\\lambda} & 0 \\cr\n",
    "                     0  & \\sqrt{1-\\lambda} \\end{bmatrix}\n",
    "$$\n",
    "\n",
    "$$\n",
    "e = \\begin{bmatrix} e_1 \\cr e_2 \\end{bmatrix}\n",
    "$$"
   ]
  },
  {
   "cell_type": "markdown",
   "id": "79c94d39",
   "metadata": {},
   "source": [
    "$$\n",
    "b = \\begin{bmatrix} \\sqrt{\\lambda}b_1 \\cr \\sqrt{1-\\lambda}b_2 \\end{bmatrix}\n",
    "$$\n",
    "\n",
    "A consumer's endowment vector is\n",
    "\n",
    "$$\n",
    "c = \\begin{bmatrix} c_1 \\cr c_2 \\end{bmatrix}\n",
    "$$\n",
    "\n",
    "A price vector is\n",
    "\n",
    "$$\n",
    "p = \\begin{bmatrix} p_1 \\cr p_2 \\end{bmatrix}\n",
    "$$\n",
    "\n",
    "where $p_i$ is the price of one unit of consumption in state $i \\in \\{1, 2\\}$.\n",
    "\n",
    "The state-contingent goods being traded are often called **Arrow securities**.\n",
    "\n",
    "Before the random state of the world $i$ is realized, the consumer sells his/her state-contingent endowment bundle and purchases a state-contingent consumption bundle.\n",
    "\n",
    "Trading such state-contingent goods is one way economists often model **insurance**."
   ]
  },
  {
   "cell_type": "markdown",
   "id": "f08ac777",
   "metadata": {},
   "source": [
    "We use the tricks described above to interpret  $c_1, c_2$ as \"Arrow securities\" that are state-contingent claims to consumption goods."
   ]
  },
  {
   "cell_type": "markdown",
   "id": "e915bf5c",
   "metadata": {},
   "source": [
    "Here is an instance of the risk economy:"
   ]
  },
  {
   "cell_type": "code",
   "execution_count": 4,
   "id": "2fda1043",
   "metadata": {},
   "outputs": [
    {
     "name": "stdout",
     "output_type": "stream",
     "text": [
      "Competitive equilibrium price vector: [0.8 3.2]\n",
      "Competitive equilibrium allocation: [1. 1.]\n"
     ]
    }
   ],
   "source": [
    "prob = 0.2\n",
    "\n",
    "Π = np.array([[np.sqrt(prob), 0],\n",
    "              [0, np.sqrt(1 - prob)]])\n",
    "\n",
    "b = np.array([np.sqrt(prob) * 5, np.sqrt(1 - prob) * 5])\n",
    "\n",
    "e = np.array([1, 1])\n",
    "\n",
    "risk = ExchangeEconomy(Π, b, e)\n",
    "p, c = risk.competitive_equilibrium()\n",
    "\n",
    "print('Competitive equilibrium price vector:', p)\n",
    "print('Competitive equilibrium allocation:', c)"
   ]
  },
  {
   "cell_type": "markdown",
   "id": "9554f3a0",
   "metadata": {},
   "source": [
    "```{exercise}\n",
    ":label: sdm_ex3\n",
    "\n",
    "Consider the instance above.\n",
    "\n",
    "Please numerically study how each of the following cases affects the equilibrium prices and allocations:\n",
    "\n",
    "* the consumer gets poorer,\n",
    "* they like the first good more, or\n",
    "* the probability that state $1$ occurs is higher.\n",
    "\n",
    "Hints. For each case choose some parameter $e, b, \\text{ or } \\lambda$ different from the instance.\n",
    "\n",
    "```"
   ]
  },
  {
   "cell_type": "markdown",
   "id": "b0af17bf",
   "metadata": {},
   "source": [
    "```{solution-start} sdm_ex3\n",
    ":class: dropdown\n",
    "```\n",
    "\n",
    "First consider when the consumer is poorer.\n",
    "\n",
    "Here we just decrease the endowment."
   ]
  },
  {
   "cell_type": "code",
   "execution_count": 5,
   "id": "6638d393",
   "metadata": {},
   "outputs": [
    {
     "name": "stdout",
     "output_type": "stream",
     "text": [
      "Competitive equilibrium price vector: [0.9 3.6]\n",
      "Competitive equilibrium allocation: [0.5 0.5]\n"
     ]
    }
   ],
   "source": [
    "risk.e = np.array([0.5, 0.5])\n",
    "\n",
    "p, c = risk.competitive_equilibrium()\n",
    "\n",
    "print('Competitive equilibrium price vector:', p)\n",
    "print('Competitive equilibrium allocation:', c)"
   ]
  },
  {
   "cell_type": "markdown",
   "id": "e91e7608",
   "metadata": {},
   "source": [
    "If the consumer likes the first (or second) good more, then we can set a larger bliss value for good 1."
   ]
  },
  {
   "cell_type": "code",
   "execution_count": 6,
   "id": "3f9a89c9",
   "metadata": {},
   "outputs": [
    {
     "name": "stdout",
     "output_type": "stream",
     "text": [
      "Competitive equilibrium price vector: [1.1 3.6]\n",
      "Competitive equilibrium allocation: [0.5 0.5]\n"
     ]
    }
   ],
   "source": [
    "risk.b = np.array([np.sqrt(prob) * 6, np.sqrt(1 - prob) * 5])\n",
    "p, c = risk.competitive_equilibrium()\n",
    "\n",
    "print('Competitive equilibrium price vector:', p)\n",
    "print('Competitive equilibrium allocation:', c)"
   ]
  },
  {
   "cell_type": "markdown",
   "id": "5b472b41",
   "metadata": {},
   "source": [
    "Increase the probability that state $1$ occurs."
   ]
  },
  {
   "cell_type": "code",
   "execution_count": 7,
   "id": "98c340b0",
   "metadata": {},
   "outputs": [
    {
     "name": "stdout",
     "output_type": "stream",
     "text": [
      "Competitive equilibrium price vector: [3.2 0.8]\n",
      "Competitive equilibrium allocation: [1. 1.]\n"
     ]
    }
   ],
   "source": [
    "prob = 0.8\n",
    "\n",
    "Π = np.array([[np.sqrt(prob), 0],\n",
    "              [0, np.sqrt(1 - prob)]])\n",
    "\n",
    "b = np.array([np.sqrt(prob) * 5, np.sqrt(1 - prob) * 5])\n",
    "\n",
    "e = np.array([1, 1])\n",
    "\n",
    "risk = ExchangeEconomy(Π, b, e)\n",
    "p, c = risk.competitive_equilibrium()\n",
    "\n",
    "print('Competitive equilibrium price vector:', p)\n",
    "print('Competitive equilibrium allocation:', c)"
   ]
  },
  {
   "cell_type": "markdown",
   "id": "e80431bb",
   "metadata": {},
   "source": [
    "```{solution-end}\n",
    "```"
   ]
  },
  {
   "cell_type": "markdown",
   "id": "9cd52447",
   "metadata": {},
   "source": [
    "## Economies with endogenous supplies of goods\n",
    "\n",
    "Up to now we have described a pure exchange economy in which endowments of goods are exogenous, meaning that they are taken as given from outside the model.\n",
    "\n",
    "### Supply curve of a competitive firm\n",
    "\n",
    "A competitive firm that can produce goods takes a price vector $p$ as given and chooses a quantity $q$\n",
    "to maximize total revenue minus total costs.\n",
    "\n",
    "The firm's total revenue equals $p^\\top q$ and its total cost equals $C(q)$ where $C(q)$ is a total cost function\n",
    "\n",
    "$$\n",
    "C(q) = h ^\\top q +  \\frac{1}{2} q^\\top J q\n",
    "$$\n",
    "\n",
    "\n",
    "and $J$ is a positive definite matrix.\n",
    "\n",
    "\n",
    "So the firm's profits are\n",
    "\n",
    "$$\n",
    "p^\\top q - C(q)\n",
    "$$ (eq:compprofits)\n",
    "\n",
    "\n",
    "\n",
    "An $n\\times 1$ vector of **marginal costs** is\n",
    "\n",
    "$$\n",
    "\\frac{\\partial C(q)}{\\partial q} = h + H q\n",
    "$$\n",
    "\n",
    "where\n",
    "\n",
    "$$\n",
    "H =  \\frac{1}{2} (J + J^\\top)\n",
    "$$\n",
    "\n",
    "The firm maximizes total profits by setting **marginal revenue to marginal costs**.\n",
    "\n",
    "An $n \\times 1$ vector of marginal revenues for the price-taking firm is $\\frac{\\partial p^\\top q}\n",
    "{\\partial q} = p $.\n",
    "\n",
    "So **price equals marginal revenue** for our price-taking competitive firm.\n",
    "\n",
    "This leads to the following **inverse supply curve** for the competitive firm:\n",
    "\n",
    "\n",
    "$$\n",
    "p = h + H q\n",
    "$$\n",
    "\n",
    "\n",
    "\n",
    "\n",
    "### Competitive equilibrium\n",
    "\n",
    "\n",
    "To compute a competitive equilibrium for a production economy where demand curve is pinned down by the marginal utility of wealth $\\mu$, we first compute an allocation by solving a planning problem.\n",
    "\n",
    "Then we compute the equilibrium price vector using the inverse demand or supply curve.\n",
    "\n",
    "#### $\\mu=1$ warmup\n",
    "\n",
    "As a special case, let's pin down a demand curve by setting the marginal utility of wealth $\\mu =1$.\n",
    "\n",
    "Equating supply price to demand price and letting $q=c$ we get\n",
    "\n",
    "$$\n",
    "p = h + H c = \\Pi^\\top b - \\Pi^\\top \\Pi c ,\n",
    "$$\n",
    "\n",
    "which implies the equilibrium quantity vector\n",
    "\n",
    "$$\n",
    "c = (\\Pi^\\top \\Pi + H )^{-1} ( \\Pi^\\top b - h)\n",
    "$$ (eq:old5)\n",
    "\n",
    "This equation is the counterpart of equilibrium quantity {eq}`eq:old1` for the scalar $n=1$ model with which we began.\n",
    "\n",
    "#### General $\\mu\\neq 1$ case\n",
    "\n",
    "Now let's extend the preceding analysis to a more\n",
    "general case by allowing $\\mu \\neq 1$.\n",
    "\n",
    "Then the inverse demand curve is\n",
    "\n",
    "$$\n",
    "p = \\mu^{-1} [\\Pi^\\top b - \\Pi^\\top \\Pi c]\n",
    "$$ (eq:old5pa)\n",
    "\n",
    "Equating this to the inverse supply curve, letting $q=c$ and solving\n",
    "for $c$ gives\n",
    "\n",
    "$$\n",
    "c = [\\Pi^\\top \\Pi + \\mu H]^{-1} [ \\Pi^\\top b - \\mu h]\n",
    "$$ (eq:old5p)"
   ]
  },
  {
   "cell_type": "markdown",
   "id": "fa8fd9cd",
   "metadata": {},
   "source": [
    "### Implementation\n",
    "\n",
    "A Production Economy will consist of\n",
    "\n",
    "* a single **person** that we'll interpret as a representative consumer\n",
    "* a single set of **production costs**\n",
    "* a multiplier $\\mu$ that weights \"consumers\" versus \"producers\" in a planner's welfare function, as described above in the main text\n",
    "* an $n \\times 1$ vector $p$ of competitive equilibrium prices\n",
    "* an $n \\times 1$ vector $c$ of competitive equilibrium quantities\n",
    "* **consumer surplus**\n",
    "* **producer surplus**\n",
    "\n",
    "Here we define a class ``ProductionEconomy``."
   ]
  },
  {
   "cell_type": "code",
   "execution_count": 8,
   "id": "07b34ea7",
   "metadata": {},
   "outputs": [],
   "source": [
    "class ProductionEconomy:\n",
    "    \n",
    "    def __init__(self, \n",
    "                 Π, \n",
    "                 b, \n",
    "                 h, \n",
    "                 J, \n",
    "                 μ):\n",
    "        \"\"\"\n",
    "        Set up the environment for a production economy\n",
    "\n",
    "        Args:\n",
    "            Π (np.ndarray): matrix of substitution\n",
    "            b (np.array): bliss points\n",
    "            h (np.array): h in cost func\n",
    "            J (np.ndarray): J in cost func\n",
    "            μ (float): welfare weight of the corresponding planning problem\n",
    "        \"\"\"\n",
    "        self.n = len(b)\n",
    "        self.Π, self.b, self.h, self.J, self.μ = Π, b, h, J, μ\n",
    "        \n",
    "    def competitive_equilibrium(self):\n",
    "        \"\"\"\n",
    "        Compute a competitive equilibrium of the production economy\n",
    "        \"\"\"\n",
    "        Π, b, h, μ, J = self.Π, self.b, self.h, self.μ, self.J\n",
    "        H = .5 * (J + J.T)\n",
    "\n",
    "        # allocation\n",
    "        c = inv(Π.T @ Π + μ * H) @ (Π.T @ b - μ * h)\n",
    "\n",
    "        # price\n",
    "        p = 1 / μ * (Π.T @ b - Π.T @ Π @ c)\n",
    "\n",
    "        # check non-satiation\n",
    "        if any(Π @ c - b >= 0):\n",
    "            raise Exception('invalid result: set bliss points further away')\n",
    "\n",
    "        return c, p\n",
    "\n",
    "    def compute_surplus(self):\n",
    "        \"\"\"\n",
    "        Compute consumer and producer surplus for single good case\n",
    "        \"\"\"\n",
    "        if self.n != 1:\n",
    "            raise Exception('not single good')\n",
    "        h, J, Π, b, μ = self.h.item(), self.J.item(), self.Π.item(), self.b.item(), self.μ\n",
    "        H = J\n",
    "\n",
    "        # supply/demand curve coefficients\n",
    "        s0, s1 = h, H\n",
    "        d0, d1 = 1 / μ * Π * b, 1 / μ * Π**2\n",
    "\n",
    "        # competitive equilibrium\n",
    "        c, p = self.competitive_equilibrium()\n",
    "\n",
    "        # calculate surplus\n",
    "        c_surplus = d0 * c - .5 * d1 * c**2 - p * c\n",
    "        p_surplus = p * c - s0 * c - .5 * s1 * c**2\n",
    "\n",
    "        return c_surplus, p_surplus"
   ]
  },
  {
   "cell_type": "markdown",
   "id": "e115111b",
   "metadata": {},
   "source": [
    "Then define a function that plots demand and supply curves and labels surpluses and equilibrium."
   ]
  },
  {
   "cell_type": "code",
   "execution_count": 9,
   "id": "2ea7deaf",
   "metadata": {
    "tags": [
     "hide-input"
    ]
   },
   "outputs": [],
   "source": [
    "def plot_competitive_equilibrium(PE):\n",
    "    \"\"\"\n",
    "    Plot demand and supply curves, producer/consumer surpluses, and equilibrium for\n",
    "    a single good production economy\n",
    "\n",
    "    Args:\n",
    "        PE (class): A initialized production economy class\n",
    "    \"\"\"\n",
    "    # get singleton value\n",
    "    J, h, Π, b, μ = PE.J.item(), PE.h.item(), PE.Π.item(), PE.b.item(), PE.μ\n",
    "    H = J\n",
    "\n",
    "    # compute competitive equilibrium\n",
    "    c, p = PE.competitive_equilibrium()\n",
    "    c, p = c.item(), p.item()\n",
    "\n",
    "    # inverse supply/demand curve\n",
    "    supply_inv = lambda x: h + H * x\n",
    "    demand_inv = lambda x: 1 / μ * (Π * b - Π * Π * x)\n",
    "\n",
    "    xs = np.linspace(0, 2 * c, 100)\n",
    "    ps = np.ones(100) * p\n",
    "    supply_curve = supply_inv(xs)\n",
    "    demand_curve = demand_inv(xs)\n",
    "\n",
    "    # plot\n",
    "    plt.figure()\n",
    "    plt.plot(xs, supply_curve, label='Supply', color='#020060')\n",
    "    plt.plot(xs, demand_curve, label='Demand', color='#600001')\n",
    "\n",
    "    plt.fill_between(xs[xs <= c], demand_curve[xs <= c], ps[xs <= c], label='Consumer surplus', color='#EED1CF')\n",
    "    plt.fill_between(xs[xs <= c], supply_curve[xs <= c], ps[xs <= c], label='Producer surplus', color='#E6E6F5')\n",
    "\n",
    "    plt.vlines(c, 0, p, linestyle=\"dashed\", color='black', alpha=0.7)\n",
    "    plt.hlines(p, 0, c, linestyle=\"dashed\", color='black', alpha=0.7)\n",
    "    plt.scatter(c, p, zorder=10, label='Competitive equilibrium', color='#600001')\n",
    "\n",
    "    plt.legend(loc='upper right')\n",
    "    plt.margins(x=0, y=0)\n",
    "    plt.ylim(0)\n",
    "    plt.xlabel('Quantity')\n",
    "    plt.ylabel('Price')\n",
    "    plt.show()"
   ]
  },
  {
   "cell_type": "markdown",
   "id": "aae3a3bb",
   "metadata": {},
   "source": [
    "#### Example: single agent with one good and production\n",
    "\n",
    "Now let's construct an example of a production economy with one good.\n",
    "\n",
    "To do this we\n",
    "\n",
    "  * specify a single **person** and a **cost curve** in a way that let's us replicate the simple single-good supply demand example with which we started\n",
    "\n",
    "  * compute equilibrium $p$ and $c$ and consumer and producer surpluses\n",
    "\n",
    "  * draw graphs of both surpluses\n",
    "\n",
    "  * do experiments in which we shift $b$ and watch what happens to $p, c$."
   ]
  },
  {
   "cell_type": "code",
   "execution_count": 10,
   "id": "d5b89912",
   "metadata": {},
   "outputs": [
    {
     "name": "stdout",
     "output_type": "stream",
     "text": [
      "Competitive equilibrium price: 5.25\n",
      "Competitive equilibrium allocation: 4.75\n"
     ]
    },
    {
     "data": {
      "image/png": "[encoded data removed]",
      "text/plain": [
       "<Figure size 640x480 with 1 Axes>"
      ]
     },
     "metadata": {},
     "output_type": "display_data"
    }
   ],
   "source": [
    "Π = np.array([[1]])  # the matrix now is a singleton\n",
    "b = np.array([10])\n",
    "h = np.array([0.5])\n",
    "J = np.array([[1]])\n",
    "μ = 1\n",
    "\n",
    "PE = ProductionEconomy(Π, b, h, J, μ)\n",
    "c, p = PE.competitive_equilibrium()\n",
    "\n",
    "print('Competitive equilibrium price:', p.item())\n",
    "print('Competitive equilibrium allocation:', c.item())\n",
    "\n",
    "# plot\n",
    "plot_competitive_equilibrium(PE)"
   ]
  },
  {
   "cell_type": "code",
   "execution_count": 11,
   "id": "ed8e5f98",
   "metadata": {},
   "outputs": [
    {
     "name": "stdout",
     "output_type": "stream",
     "text": [
      "Consumer surplus: 11.28125\n",
      "Producer surplus: 11.28125\n"
     ]
    }
   ],
   "source": [
    "c_surplus, p_surplus = PE.compute_surplus()\n",
    "\n",
    "print('Consumer surplus:', c_surplus.item())\n",
    "print('Producer surplus:', p_surplus.item())"
   ]
  },
  {
   "cell_type": "markdown",
   "id": "98ab0505",
   "metadata": {},
   "source": [
    "Let's give the consumer a lower welfare weight by raising $\\mu$."
   ]
  },
  {
   "cell_type": "code",
   "execution_count": 12,
   "id": "a9ecfd07",
   "metadata": {},
   "outputs": [
    {
     "name": "stdout",
     "output_type": "stream",
     "text": [
      "Competitive equilibrium price: 3.5\n",
      "Competitive equilibrium allocation: 3.0\n"
     ]
    },
    {
     "data": {
      "image/png": "[encoded data removed]",
      "text/plain": [
       "<Figure size 640x480 with 1 Axes>"
      ]
     },
     "metadata": {},
     "output_type": "display_data"
    }
   ],
   "source": [
    "PE.μ = 2\n",
    "c, p = PE.competitive_equilibrium()\n",
    "\n",
    "print('Competitive equilibrium price:', p.item())\n",
    "print('Competitive equilibrium allocation:', c.item())\n",
    "\n",
    "# plot\n",
    "plot_competitive_equilibrium(PE)"
   ]
  },
  {
   "cell_type": "code",
   "execution_count": 13,
   "id": "0adab128",
   "metadata": {},
   "outputs": [
    {
     "name": "stdout",
     "output_type": "stream",
     "text": [
      "Consumer surplus: 2.25\n",
      "Producer surplus: 4.5\n"
     ]
    }
   ],
   "source": [
    "c_surplus, p_surplus = PE.compute_surplus()\n",
    "\n",
    "print('Consumer surplus:', c_surplus.item())\n",
    "print('Producer surplus:', p_surplus.item())"
   ]
  },
  {
   "cell_type": "markdown",
   "id": "3dd6cb07",
   "metadata": {},
   "source": [
    "Now we change the bliss point so that the consumer derives more utility from consumption."
   ]
  },
  {
   "cell_type": "code",
   "execution_count": 14,
   "id": "aaead769",
   "metadata": {},
   "outputs": [
    {
     "name": "stdout",
     "output_type": "stream",
     "text": [
      "Competitive equilibrium price: 7.75\n",
      "Competitive equilibrium allocation: 7.25\n"
     ]
    },
    {
     "data": {
      "image/png": "[encoded data removed]",
      "text/plain": [
       "<Figure size 640x480 with 1 Axes>"
      ]
     },
     "metadata": {},
     "output_type": "display_data"
    }
   ],
   "source": [
    "PE.μ = 1\n",
    "PE.b = PE.b * 1.5\n",
    "c, p = PE.competitive_equilibrium()\n",
    "\n",
    "print('Competitive equilibrium price:', p.item())\n",
    "print('Competitive equilibrium allocation:', c.item())\n",
    "\n",
    "# plot\n",
    "plot_competitive_equilibrium(PE)"
   ]
  },
  {
   "cell_type": "markdown",
   "id": "be686226",
   "metadata": {},
   "source": [
    "This raises both the equilibrium price and quantity.\n",
    "\n",
    "\n",
    "#### Example: single agent two-good economy with production\n",
    "\n",
    "  * we'll do some experiments like those above\n",
    "\n",
    "  * we can do experiments with a **diagonal** $\\Pi$ and also with a **non-diagonal** $\\Pi$ matrices to study how cross-slopes affect responses of $p$ and $c$ to various shifts in $b$ (TODO)"
   ]
  },
  {
   "cell_type": "code",
   "execution_count": 15,
   "id": "633fc2aa",
   "metadata": {},
   "outputs": [
    {
     "name": "stdout",
     "output_type": "stream",
     "text": [
      "Competitive equilibrium price: [6.2 6.2]\n",
      "Competitive equilibrium allocation: [3.8 3.8]\n"
     ]
    }
   ],
   "source": [
    "Π = np.array([[1, 0],\n",
    "              [0, 1]])\n",
    "\n",
    "b = np.array([10, 10])\n",
    "\n",
    "h = np.array([0.5, 0.5])\n",
    "\n",
    "J = np.array([[1, 0.5],\n",
    "              [0.5, 1]])\n",
    "μ = 1\n",
    "\n",
    "PE = ProductionEconomy(Π, b, h, J, μ)\n",
    "c, p = PE.competitive_equilibrium()\n",
    "\n",
    "print('Competitive equilibrium price:', p)\n",
    "print('Competitive equilibrium allocation:', c)"
   ]
  },
  {
   "cell_type": "code",
   "execution_count": 16,
   "id": "543e5015",
   "metadata": {},
   "outputs": [
    {
     "name": "stdout",
     "output_type": "stream",
     "text": [
      "Competitive equilibrium price: [7.13333333 6.46666667]\n",
      "Competitive equilibrium allocation: [4.86666667 3.53333333]\n"
     ]
    }
   ],
   "source": [
    "PE.b = np.array([12, 10])\n",
    "\n",
    "c, p = PE.competitive_equilibrium()\n",
    "\n",
    "print('Competitive equilibrium price:', p)\n",
    "print('Competitive equilibrium allocation:', c)"
   ]
  },
  {
   "cell_type": "code",
   "execution_count": 17,
   "id": "f170d5b2",
   "metadata": {},
   "outputs": [
    {
     "name": "stdout",
     "output_type": "stream",
     "text": [
      "Competitive equilibrium price: [6.3 6.3]\n",
      "Competitive equilibrium allocation: [3.86666667 3.86666667]\n"
     ]
    }
   ],
   "source": [
    "PE.Π = np.array([[1, 0.5],\n",
    "                 [0.5, 1]])\n",
    "\n",
    "PE.b = np.array([10, 10])\n",
    "\n",
    "c, p = PE.competitive_equilibrium()\n",
    "\n",
    "print('Competitive equilibrium price:', p)\n",
    "print('Competitive equilibrium allocation:', c)"
   ]
  },
  {
   "cell_type": "code",
   "execution_count": 18,
   "id": "023a0096",
   "metadata": {},
   "outputs": [
    {
     "name": "stdout",
     "output_type": "stream",
     "text": [
      "Competitive equilibrium price: [7.23333333 6.56666667]\n",
      "Competitive equilibrium allocation: [4.93333333 3.6       ]\n"
     ]
    }
   ],
   "source": [
    "PE.b = np.array([12, 10])\n",
    "c, p = PE.competitive_equilibrium()\n",
    "\n",
    "print('Competitive equilibrium price:', p)\n",
    "print('Competitive equilibrium allocation:', c)"
   ]
  },
  {
   "cell_type": "markdown",
   "id": "942ec343",
   "metadata": {},
   "source": [
    "### Digression: a supplier who is a monopolist\n",
    "\n",
    "A competitive firm is a **price-taker** who regards the price and therefore its marginal revenue as being beyond its control.\n",
    "\n",
    "A monopolist knows that it has no competition and can influence the price and its marginal revenue by\n",
    "setting quantity.\n",
    "\n",
    "A monopolist takes a **demand curve** and not the **price** as beyond its control.\n",
    "\n",
    "Thus, instead of being a price-taker, a monopolist sets prices to maximize profits subject to the inverse demand curve\n",
    "{eq}`eq:old5pa`.\n",
    "\n",
    "So the monopolist's total profits as a function of its output $q$ is\n",
    "\n",
    "$$\n",
    "[\\mu^{-1} \\Pi^\\top (b - \\Pi q)]^\\top  q - h^\\top q -  \\frac{1}{2} q^\\top J q\n",
    "$$ (eq:monopprof)\n",
    "\n",
    "After finding\n",
    "first-order necessary conditions for maximizing monopoly profits with respect to $q$\n",
    "and solving them for $q$, we find that the monopolist sets\n",
    "\n",
    "$$\n",
    "q = (H + 2 \\mu^{-1} \\Pi^\\top \\Pi)^{-1} (\\mu^{-1} \\Pi^\\top b - h)\n",
    "$$ (eq:qmonop)\n",
    "\n",
    "We'll soon see that a monopolist sets a **lower output** $q$ than does either a\n",
    "\n",
    " * planner who chooses $q$ to maximize social welfare\n",
    "\n",
    " * a competitive equilibrium\n",
    "\n",
    "\n",
    "\n",
    "```{exercise}\n",
    ":label: sdm_ex4\n",
    "\n",
    "Please  verify the monopolist's supply curve {eq}`eq:qmonop`.\n",
    "\n",
    "```"
   ]
  },
  {
   "cell_type": "markdown",
   "id": "8e3724e2",
   "metadata": {},
   "source": [
    "### A monopolist\n",
    "\n",
    "Let's consider a monopolist supplier.\n",
    "\n",
    "We have included a method in our `ProductionEconomy` class to compute an equilibrium price and allocation when the supplier is a monopolist.\n",
    "\n",
    "Since the supplier now has the price-setting power\n",
    "\n",
    "- we first compute the optimal quantity that solves the monopolist's profit maximization problem.\n",
    "- Then we back out an equilibrium price from the consumer's inverse demand curve.\n",
    "\n",
    "Next, we use a graph for the single good case to illustrate the difference between a competitive equilibrium and an equilibrium with a monopolist supplier.\n",
    "\n",
    "Recall that in a competitive equilibrium, a price-taking supplier equates marginal revenue $p$ to marginal cost $h + Hq$.\n",
    "\n",
    "This yields a competitive producer's inverse supply curve.\n",
    "\n",
    "A monopolist's marginal revenue is not constant but instead is a non-trivial function of the quantity it sets.\n",
    "\n",
    "The monopolist's marginal revenue is\n",
    "\n",
    "$$\n",
    "MR(q) = -2\\mu^{-1}\\Pi^{\\top}\\Pi q+\\mu^{-1}\\Pi^{\\top}b,\n",
    "$$\n",
    "\n",
    "which the monopolist equates to its marginal cost.\n",
    "\n",
    "The plot indicates that the monopolist's sets output  lower than either the competitive equilibrium quantity.\n",
    "\n",
    "In a single good case, this equilibrium is associated with a higher price of the good."
   ]
  },
  {
   "cell_type": "code",
   "execution_count": 19,
   "id": "414190da",
   "metadata": {},
   "outputs": [],
   "source": [
    "class Monopoly(ProductionEconomy):\n",
    "    \n",
    "    def __init__(self, \n",
    "                 Π, \n",
    "                 b, \n",
    "                 h, \n",
    "                 J, \n",
    "                 μ):\n",
    "        \"\"\"\n",
    "        Inherit all properties and methods from class ProductionEconomy\n",
    "        \"\"\"\n",
    "        super().__init__(Π, b, h, J, μ)\n",
    "        \n",
    "\n",
    "    def equilibrium_with_monopoly(self):\n",
    "        \"\"\"\n",
    "        Compute the equilibrium price and allocation when there is a monopolist supplier\n",
    "        \"\"\"\n",
    "        Π, b, h, μ, J = self.Π, self.b, self.h, self.μ, self.J\n",
    "        H = .5 * (J + J.T)\n",
    "\n",
    "        # allocation\n",
    "        q = inv(μ * H + 2 * Π.T @ Π) @ (Π.T @ b - μ * h)\n",
    "\n",
    "        # price\n",
    "        p = 1 / μ * (Π.T @ b - Π.T @ Π @ q)\n",
    "\n",
    "        if any(Π @ q - b >= 0):\n",
    "            raise Exception('invalid result: set bliss points further away')\n",
    "\n",
    "        return q, p"
   ]
  },
  {
   "cell_type": "markdown",
   "id": "e6408f60",
   "metadata": {},
   "source": [
    "Define a function that plots the demand, marginal cost and marginal revenue curves with surpluses and equilibrium labelled."
   ]
  },
  {
   "cell_type": "code",
   "execution_count": 20,
   "id": "f4b62d16",
   "metadata": {
    "tags": [
     "hide-input"
    ]
   },
   "outputs": [],
   "source": [
    "def plot_monopoly(M):\n",
    "    \"\"\"\n",
    "    Plot demand curve, marginal production cost and revenue, surpluses and the\n",
    "    equilibrium in a monopolist supplier economy with a single good\n",
    "\n",
    "    Args:\n",
    "        M (class): A class inherits class ProductionEconomy with monopoly\n",
    "    \"\"\"\n",
    "    # get singleton value\n",
    "    J, h, Π, b, μ = M.J.item(), M.h.item(), M.Π.item(), M.b.item(), M.μ\n",
    "    H = J\n",
    "\n",
    "    # compute competitive equilibrium\n",
    "    c, p = M.competitive_equilibrium()\n",
    "    q, pm = M.equilibrium_with_monopoly()\n",
    "    c, p, q, pm = c.item(), p.item(), q.item(), pm.item()\n",
    "\n",
    "    # compute\n",
    "\n",
    "    # inverse supply/demand curve\n",
    "    marg_cost = lambda x: h + H * x\n",
    "    marg_rev = lambda x: -2 * 1 / μ * Π * Π * x + 1 / μ * Π * b\n",
    "    demand_inv = lambda x: 1 / μ * (Π * b - Π * Π * x)\n",
    "\n",
    "    xs = np.linspace(0, 2 * c, 100)\n",
    "    pms = np.ones(100) * pm\n",
    "    marg_cost_curve = marg_cost(xs)\n",
    "    marg_rev_curve = marg_rev(xs)\n",
    "    demand_curve = demand_inv(xs)\n",
    "\n",
    "    # plot\n",
    "    plt.figure()\n",
    "    plt.plot(xs, marg_cost_curve, label='Marginal cost', color='#020060')\n",
    "    plt.plot(xs, marg_rev_curve, label='Marginal revenue', color='#E55B13')\n",
    "    plt.plot(xs, demand_curve, label='Demand', color='#600001')\n",
    "\n",
    "    plt.fill_between(xs[xs <= q], demand_curve[xs <= q], pms[xs <= q], label='Consumer surplus', color='#EED1CF')\n",
    "    plt.fill_between(xs[xs <= q], marg_cost_curve[xs <= q], pms[xs <= q], label='Producer surplus', color='#E6E6F5')\n",
    "\n",
    "    plt.vlines(c, 0, p, linestyle=\"dashed\", color='black', alpha=0.7)\n",
    "    plt.hlines(p, 0, c, linestyle=\"dashed\", color='black', alpha=0.7)\n",
    "    plt.scatter(c, p, zorder=10, label='Competitive equilibrium', color='#600001')\n",
    "\n",
    "    plt.vlines(q, 0, pm, linestyle=\"dashed\", color='black', alpha=0.7)\n",
    "    plt.hlines(pm, 0, q, linestyle=\"dashed\", color='black', alpha=0.7)\n",
    "    plt.scatter(q, pm, zorder=10, label='Equilibrium with monopoly', color='#E55B13')\n",
    "\n",
    "    plt.legend(loc='upper right')\n",
    "    plt.margins(x=0, y=0)\n",
    "    plt.ylim(0)\n",
    "    plt.xlabel('Quantity')\n",
    "    plt.ylabel('Price')\n",
    "    plt.show()"
   ]
  },
  {
   "cell_type": "markdown",
   "id": "456dd5f7",
   "metadata": {},
   "source": [
    "#### A multiple good example\n",
    "\n",
    "Let's compare competitive equilibrium and monopoly outcomes in a multiple goods economy."
   ]
  },
  {
   "cell_type": "code",
   "execution_count": 21,
   "id": "5d726f87",
   "metadata": {},
   "outputs": [
    {
     "name": "stdout",
     "output_type": "stream",
     "text": [
      "Competitive equilibrium price: [6.23542117 6.32397408]\n",
      "Competitive equilibrium allocation: [3.76457883 3.94168467]\n",
      "Equilibrium with monopolist supplier price: [7.26865672 8.23880597]\n",
      "Equilibrium with monopolist supplier allocation: [2.73134328 2.6119403 ]\n"
     ]
    }
   ],
   "source": [
    "Π = np.array([[1, 0],\n",
    "              [0, 1.2]])\n",
    "\n",
    "b = np.array([10, 10])\n",
    "\n",
    "h = np.array([0.5, 0.5])\n",
    "\n",
    "J = np.array([[1, 0.5],\n",
    "              [0.5, 1]])\n",
    "μ = 1\n",
    "\n",
    "M = Monopoly(Π, b, h, J, μ)\n",
    "c, p = M.competitive_equilibrium()\n",
    "q, pm = M.equilibrium_with_monopoly()\n",
    "\n",
    "print('Competitive equilibrium price:', p)\n",
    "print('Competitive equilibrium allocation:', c)\n",
    "\n",
    "print('Equilibrium with monopolist supplier price:', pm)\n",
    "print('Equilibrium with monopolist supplier allocation:', q)"
   ]
  },
  {
   "cell_type": "markdown",
   "id": "05080c2f",
   "metadata": {},
   "source": [
    "#### A single-good example"
   ]
  },
  {
   "cell_type": "code",
   "execution_count": 22,
   "id": "9c1c562c",
   "metadata": {},
   "outputs": [
    {
     "name": "stdout",
     "output_type": "stream",
     "text": [
      "Competitive equilibrium price: 5.25\n",
      "Competitive equilibrium allocation: 4.75\n",
      "Equilibrium with monopolist supplier price: 6.833333333333334\n",
      "Equilibrium with monopolist supplier allocation: 3.1666666666666665\n"
     ]
    },
    {
     "data": {
      "image/png": "[encoded data removed]",
      "text/plain": [
       "<Figure size 640x480 with 1 Axes>"
      ]
     },
     "metadata": {},
     "output_type": "display_data"
    }
   ],
   "source": [
    "Π = np.array([[1]])  # the matrix now is a singleton\n",
    "b = np.array([10])\n",
    "h = np.array([0.5])\n",
    "J = np.array([[1]])\n",
    "μ = 1\n",
    "\n",
    "M = Monopoly(Π, b, h, J, μ)\n",
    "c, p = M.competitive_equilibrium()\n",
    "q, pm = M.equilibrium_with_monopoly()\n",
    "\n",
    "print('Competitive equilibrium price:', p.item())\n",
    "print('Competitive equilibrium allocation:', c.item())\n",
    "\n",
    "print('Equilibrium with monopolist supplier price:', pm.item())\n",
    "print('Equilibrium with monopolist supplier allocation:', q.item())\n",
    "\n",
    "# plot\n",
    "plot_monopoly(M)"
   ]
  },
  {
   "cell_type": "markdown",
   "id": "b7a3930b",
   "metadata": {},
   "source": [
    "## Multi-good welfare maximization problem\n",
    "\n",
    "Our welfare maximization problem -- also sometimes called a social planning problem  -- is to choose $c$ to maximize\n",
    "\n",
    "$$\n",
    "    - \\frac{1}{2} \\mu^{-1}(\\Pi c -b) ^\\top (\\Pi c -b )\n",
    "$$\n",
    "\n",
    "minus the area under the inverse supply curve, namely,\n",
    "\n",
    "$$\n",
    "    h c +  \\frac{1}{2} c^\\top J c  \n",
    "$$\n",
    "\n",
    "So the welfare criterion is\n",
    "\n",
    "$$\n",
    "    - \\frac{1}{2} \\mu^{-1}(\\Pi c -b)^\\top (\\Pi c -b ) -h c \n",
    "        -  \\frac{1}{2} c^\\top J c\n",
    "$$\n",
    "\n",
    "In this formulation, $\\mu$ is a parameter that describes how the planner weighs interests of outside suppliers and our representative consumer.\n",
    "\n",
    "The first-order condition with respect to $c$ is\n",
    "\n",
    "$$\n",
    "- \\mu^{-1} \\Pi^\\top \\Pi c + \\mu^{-1}\\Pi^\\top b - h -  H c = 0\n",
    "$$\n",
    "\n",
    "which implies {eq}`eq:old5p`.\n",
    "\n",
    "Thus, as for the single-good case, with multiple goods a competitive equilibrium quantity vector solves a planning problem.\n",
    "\n",
    "(This is another version of the first welfare theorem.)\n",
    "\n",
    "We can deduce a competitive equilibrium price vector from either\n",
    "\n",
    "  * the inverse demand curve, or\n",
    "\n",
    "  * the inverse supply curve"
   ]
  }
 ],
 "metadata": {
  "jupytext": {
   "text_representation": {
    "extension": ".md",
    "format_name": "myst",
    "format_version": 0.13,
    "jupytext_version": "1.14.5"
   }
  },
  "kernelspec": {
   "display_name": "Python 3 (ipykernel)",
   "language": "python",
   "name": "python3"
  },
  "language_info": {
   "codemirror_mode": {
    "name": "ipython",
    "version": 3
   },
   "file_extension": ".py",
   "mimetype": "text/x-python",
   "name": "python",
   "nbconvert_exporter": "python",
   "pygments_lexer": "ipython3",
   "version": "3.11.9"
  },
  "source_map": [
   12,
   58,
   63,
   95,
   102,
   138,
   226,
   271,
   306,
   367,
   382,
   420,
   446,
   450,
   454,
   469,
   486,
   496,
   503,
   507,
   513,
   517,
   532,
   537,
   638,
   654,
   716,
   720,
   766,
   782,
   799,
   804,
   808,
   819,
   824,
   828,
   838,
   849,
   868,
   877,
   889,
   895,
   938,
   971,
   1003,
   1007,
   1063,
   1069,
   1090,
   1094,
   1113
  ]
 },
 "nbformat": 4,
 "nbformat_minor": 5
}