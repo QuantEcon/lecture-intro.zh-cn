{
 "cells": [
  {
   "cell_type": "markdown",
   "id": "9dd1ae20",
   "metadata": {},
   "source": [
    "(supply_demand_multiple_goods)=\n",
    "# 多种商品的供需关系\n",
    "\n",
    "## 概览\n",
    "\n",
    "在{doc}`之前的讲座 <intro_supply_demand>`中我们研究了一个只有单一消费商品市场的供给、需求和福利。\n",
    "\n",
    "在这个讲座中，我们将研究有$n$种商品及其$n$对应价格的情景。\n",
    "\n",
    "在这次讲座中，我们将遇到的关键基础概念包括：\n",
    "\n",
    "* 逆需求曲线\n",
    "* 财富的边际效用\n",
    "* 逆供给曲线\n",
    "* 消费者剩余\n",
    "* 生产者剩余\n",
    "* 作为消费者剩余和生产者剩余之和的社会福利\n",
    "* 竞争均衡\n",
    "\n",
    "我们将提供[福利经济学第一定理](https://baike.baidu.com/item/福利经济学第一定理/2508592)的一个版本，这个定理是由下列经济学家提出的：\n",
    "\n",
    "* [莱昂·瓦尔拉斯](https://baike.baidu.com/item/莱昂·瓦尔拉斯)\n",
    "* [弗朗西斯·伊西德罗·埃奇沃思](https://baike.baidu.com/item/弗朗西斯·伊西德罗·埃奇沃思)\n",
    "* [维尔弗雷多·帕累托](https://baike.baidu.com/item/维尔弗雷多·帕累托)\n",
    "\n",
    "以下学者为拓展这些关键思想做出了重大贡献：\n",
    "\n",
    "* [阿巴·勒纳](https://baike.baidu.com/item/阿巴·勒纳)\n",
    "* [哈罗德·霍特林](https://baike.baidu.com/item/哈罗德·霍特林)\n",
    "* [保罗·萨缪尔森](https://baike.baidu.com/item/保罗·萨缪尔森)\n",
    "* [肯尼斯·阿罗](https://baike.baidu.com/item/肯尼斯·阿罗) \n",
    "* [热拉尔·德布鲁](https://baike.baidu.com/item/热拉尔·德布鲁)\n",
    "\n",
    "我们将描述两个经典的福利定理：\n",
    "\n",
    "* **第一福利定理：** 对于给定的消费者之间的财富分布，竞争均衡下的商品分配方案可以解决社会规划问题。\n",
    "* **第二福利定理：** 如果一个社会规划问题可以找到最优解，那么通过对财富的适当初始分配，就可以通过竞争均衡来实现这个最优解。\n",
    "\n",
    "如往常一样，我们首先导入一些Python模块。"
   ]
  },
  {
   "cell_type": "code",
   "execution_count": 1,
   "id": "5add6005",
   "metadata": {},
   "outputs": [],
   "source": [
    "# 导入一些包\n",
    "import numpy as np\n",
    "import matplotlib as mpl\n",
    "import matplotlib.pyplot as plt\n",
    "from scipy.linalg import inv\n",
    "\n",
    "FONTPATH = \"fonts/SourceHanSerifSC-SemiBold.otf\"\n",
    "mpl.font_manager.fontManager.addfont(FONTPATH)\n",
    "plt.rcParams['font.family'] = ['Source Han Serif SC']"
   ]
  },
  {
   "cell_type": "markdown",
   "id": "0e1bdb20",
   "metadata": {},
   "source": [
    "## 来自线性代数的公式\n",
    "\n",
    "我们将应用线性代数中的公式，这些公式为：\n",
    "\n",
    "* 对内积中的一个向量求导\n",
    "* 在矩阵与向量的乘积中对向量本身求导\n",
    "* 在向量的二次型对中对向量本身求导\n",
    "\n",
    "这里 $a$ 为一个 $n \\times 1$ 向量，$A$ 为一个 $n \\times n$ 矩阵, 且 $x$ 为一个 $n \\times 1$ 向量:\n",
    "\n",
    "$$\n",
    "\\frac{\\partial a^\\top x }{\\partial x} = \\frac{\\partial x^\\top a }{\\partial x} = a\n",
    "$$\n",
    "\n",
    "$$\n",
    "\\frac{\\partial A x} {\\partial x} = A\n",
    "$$\n",
    "\n",
    "$$\n",
    "\\frac{\\partial x^\\top A x}{\\partial x} = (A + A^\\top)x\n",
    "$$\n",
    "\n",
    "## 从效用函数到需求曲线\n",
    "\n",
    "我们对消费者的研究将使用以下基本元素：\n",
    "\n",
    "* $\\Pi$ 是一个 $m \\times n$ 矩阵，\n",
    "* $b$ 是一个 $m \\times 1$ 的最优满足点向量，\n",
    "* $e$ 是一个 $n \\times 1$ 的禀赋向量，"
   ]
  },
  {
   "cell_type": "markdown",
   "id": "168c35dd",
   "metadata": {},
   "source": [
    "我们将分析内生对象 $c$ 和 $p$，其中：\n",
    "\n",
    "* $c$ 是一个 $n \\times 1$ 各种商品的消费向量，\n",
    "* $p$ 是一个 $n \\times 1$ 价格向量"
   ]
  },
  {
   "cell_type": "markdown",
   "id": "fcd869e7",
   "metadata": {},
   "source": [
    "矩阵 $\\Pi$ 描述了消费者将一种商品替换为其他任意一种商品的意愿。\n",
    "\n",
    "我们假设 $\\Pi$ 的列线性独立，这意味着 $\\Pi^\\top \\Pi$ 是一个正定矩阵。\n",
    "\n",
    "* 这意味着 $\\Pi^\\top \\Pi$ 有一个逆矩阵。\n",
    "\n",
    "我们将在下面看到，$(\\Pi^\\top \\Pi)^{-1}$ 是一个 $c$对价格向量求导的、（补偿）需求曲线斜率矩阵：\n",
    "\n",
    "$$\n",
    "    \\frac{\\partial c } {\\partial p} = (\\Pi^\\top \\Pi)^{-1}\n",
    "$$\n",
    "\n",
    "作为价格接受者，消费者面对着价格 $p$ ，并选择 $c$ 来最大化效用函数\n",
    "\n",
    "$$\n",
    "    -\\frac{1}{2} (\\Pi c -b)^\\top (\\Pi c -b)\n",
    "$$ (eq:old0)\n",
    "\n",
    "受到预算约束的限制\n",
    "\n",
    "$$\n",
    "    p^\\top (c -e) = 0\n",
    "$$ (eq:old2)\n",
    "\n",
    "我们将指定一些例子，其中 $\\Pi$ 和 $b$ 的关系通常是这样的：\n",
    "\n",
    "$$\n",
    "    \\Pi c \\ll b\n",
    "$$ (eq:bversusc)\n",
    "\n",
    "这意味着消费者得到的每种商品的数量都远少于他想要的数量。\n",
    "\n",
    "在 {eq}`eq:bversusc` 中的偏差最终将保证竞争性均衡价格是正的。"
   ]
  },
  {
   "cell_type": "markdown",
   "id": "b776e335",
   "metadata": {},
   "source": [
    "### 隐含约束效用最大化的需求曲线\n",
    "\n",
    "目前，我们假设预算约束是 {eq}`eq:old2`。\n",
    "\n",
    "因此，我们将推导出所谓的**马歇尔**需求曲线。\n",
    "\n",
    "我们的目标是在约束 [](eq:old2) 下最大化 [](eq:old0)。\n",
    "\n",
    "构建拉格朗日方程\n",
    "\n",
    "$$ L = - \\frac{1}{2} (\\Pi c -b)^T (\\Pi c -b ) + \\mu [p^T (e-c)] $$\n",
    "\n",
    "其中 $\\mu$ 是一个拉格朗日乘数，通常被称为**财富的边际效用**。\n",
    "\n",
    "消费者选择 $c$ 来最大化 $L$，选择 $\\mu$ 来最小化 $L$。\n",
    "\n",
    "$c$ 的一阶条件是\n",
    "\n",
    "$$\n",
    "    \\frac{\\partial L} {\\partial c}\n",
    "    = - \\Pi^T \\Pi c + \\Pi^T b - \\mu p = 0\n",
    "$$\n",
    "\n",
    "因此，给定 $\\mu$，消费者选择\n",
    "\n",
    "$$\n",
    "    c = (\\Pi^T \\Pi )^{-1}(\\Pi^T b -  \\mu p )\n",
    "$$ (eq:old3)\n",
    "\n",
    "将 {eq}`eq:old3` 代入预算约束 {eq}`eq:old2` 并解出 $\\mu$ ，可以得到\n",
    "\n",
    "$$\n",
    "    \\mu(p,e) = \\frac{p^T ( \\Pi^T \\Pi )^{-1} \\Pi^T b - p^T e}{p^T (\\Pi^T \\Pi )^{-1} p}.\n",
    "$$ (eq:old4)\n",
    "\n",
    "等式 {eq}`eq:old4` 描述了财富的边际效用如何依赖于禀赋向量 $e$ 和价格向量 $p$。\n",
    "\n",
    "```{note}\n",
    "等式 {eq}`eq:old4` 是基于约束 $p^T (c - e) = 0$ 得到的结果。\n",
    "\n",
    "我们也可以将 $\\mu$ 视为一个参数，并使用 {eq}`eq:old3` 和预算约束 {eq}`eq:old2p` 来计算财富。\n",
    "\n",
    "我们如何进行取决于我们是构建**马歇尔**需求曲线还是**希克斯**需求曲线。\n",
    "```\n",
    "\n",
    "## 禀赋经济\n",
    "\n",
    "我们现在研究一个纯交换经济体————有时被称为禀赋经济。\n",
    "\n",
    "考虑一个拥有单一消费者和多种商品但没有生产的经济体。\n",
    "\n",
    "商品的唯一来源是单一消费者的禀赋向量 $e$。\n",
    "\n",
    "一个竞争均衡价格向量促使这个消费者选择 $c=e$。\n",
    "\n",
    "这意味着均衡价格向量满足\n",
    "\n",
    "$$\n",
    "p = \\mu^{-1} (\\Pi^\tT b - \\Pi^\tT \\Pi e)\n",
    "$$\n",
    "\n",
    "在当前这个案例中，我们施加了形式为 {eq}`eq:old2` 的预算约束，由此我们可以通过让财富的边际效用 $\\mu =1$（或其他任何值）来规范化价格向量。\n",
    "\n",
    "这相当于选择一个通用单位（或计价单位），在该单位中表达所有商品的价格。\n",
    "\n",
    "（价格翻倍既不会影响产量也不会影响相对价格。）\n",
    "\n",
    "我们使 $\\mu=1$。\n",
    "\n",
    "```{exercise}\n",
    ":label: sdm_ex1\n",
    "\n",
    "证明在 {eq}`eq:old3` 中，使 $\\mu=1$ 意味着满足公式 {eq}`eq:old4`。\n",
    "\n",
    "```\n",
    "\n",
    "```{exercise}\n",
    ":label: sdm_ex2\n",
    "\n",
    "证明在 {eq}`eq:old3` 中，使 $\\mu=2` 依旧意味着满足公式 {eq}`eq:old4`。\n",
    "\n",
    "```\n",
    "\n",
    "以下是计算这个经济体竞争均衡的一个类。"
   ]
  },
  {
   "cell_type": "code",
   "execution_count": 2,
   "id": "53bdb2dc",
   "metadata": {},
   "outputs": [],
   "source": [
    "class ExchangeEconomy:\n",
    "    \n",
    "    def __init__(self,\n",
    "                 Π,\n",
    "                 b, \n",
    "                 e,\n",
    "                 thres=1.5):\n",
    "        \"\"\"\n",
    "        设置交换经济体的环境\n",
    "\n",
    "        参数:\n",
    "            Π (np.array): 替代共享矩阵\n",
    "            b (list): 消费者的最优满足点\n",
    "            e (list): 消费者的禀赋\n",
    "            thres (float): 检查 p >> Π e 条件的临界值\n",
    "        \"\"\"\n",
    "\n",
    "        # 检查非饱和性\n",
    "        if np.min(b / np.max(Π @ e)) <= thres:\n",
    "            raise Exception('将最优满足点设置得更远一些')\n",
    "\n",
    "\n",
    "        self.Π, self.b, self.e = Π, b, e\n",
    "\n",
    "    \n",
    "    def competitive_equilibrium(self):\n",
    "        \"\"\"\n",
    "        计算竞争均衡价格和各商品的分配\n",
    "        \"\"\"\n",
    "        Π, b, e = self.Π, self.b, self.e\n",
    "\n",
    "        # 计算价格向量，μ=1\n",
    "        p = Π.T @ b - Π.T @ Π @ e\n",
    "        \n",
    "        # 计算消费向量\n",
    "        slope_dc = inv(Π.T @ Π)\n",
    "        Π_inv = inv(Π)\n",
    "        c = Π_inv @ b - slope_dc @ p\n",
    "\n",
    "        if any(c < 0):\n",
    "            print(f'分配: {c}')\n",
    "            raise Exception('负分配：均衡不存在')\n",
    "\n",
    "        return p, c"
   ]
  },
  {
   "cell_type": "markdown",
   "id": "5d2e68d1",
   "metadata": {},
   "source": [
    "## 题外话：马歇尔需求曲线与希克斯需求曲线\n",
    "\n",
    "有时，我们会在消费者的禀赋向量 $e$ 是其**唯一**收入来源的情况下，使用预算约束 {eq}`eq:old2`。\n",
    "\n",
    "其他时候，我们假设消费者有另外一个收入来源（正或负），并把他的预算约束写为\n",
    "\n",
    "$$\n",
    "p ^\\top (c -e) = w\n",
    "$$ (eq:old2p)\n",
    "\n",
    "其中 $w$ 以“美元”（或其他**计价单位**）衡量，而价格向量的组成部分 $p_i$ 则以一单位商品 $i$ 多少美元来衡量。\n",
    "\n",
    "消费者的财富边际效用取决于消费者的预算约束是 {eq}`eq:old2` 还是 {eq}`eq:old2p`， 也取决于将 $w$ 视为一个自由参数还是一个内生变量。\n",
    "\n",
    "因此，如何设置 $\\mu$ 决定了我们是在构建\n",
    "\n",
    "* **马歇尔** 需求曲线，此时，我们使用 {eq}`eq:old2` 并使用上述等式 {eq}`eq:old4` 来解 $\\mu$ ，或者\n",
    "* **希克斯** 需求曲线，此时，我们将 $\\mu$ 视为一个固定参数并用 {eq}`eq:old2p` 来解 $w$ 。\n",
    "\n",
    "马歇尔和希克斯需求曲线考虑的是不同的心理实验：\n",
    "\n",
    "对于马歇尔需求曲线，假设的价格向量变化引起了**替代**效应和**收入**效应\n",
    "\n",
    "* 收入效应是价格向量变化所引起的 $p^\\top e$ 变动的结果\n",
    "\n",
    "对于希克斯需求曲线，假设的价格向量变化只引起了**替代**效应\n",
    "\n",
    "* 因为我们固定 $\\mu$ 来解出 $w$，价格向量的变化不会改变 $p^\\top e + w$\n",
    "\n",
    "有时希克斯需求曲线被称为**补偿**需求曲线，以强调为了消除与价格变化相关的收入（或财富）效应，消费者的财富 $w$ 被调整。\n",
    "\n",
    "后面我们将更多地讨论这些不同的需求曲线。"
   ]
  },
  {
   "cell_type": "markdown",
   "id": "8b1571e6",
   "metadata": {},
   "source": [
    "## 作为特殊情况的动态与风险\n",
    "\n",
    "我们可以创建$n$物品纯交换模型的特殊案例来体现：\n",
    "\n",
    "* **动态** —— 通过在不同的商品上标识不同的日期\n",
    "* **风险** —— 通过设定商品的交付依赖于世界的状态，这些状态的实现由一个已知的概率分布描述\n",
    "\n",
    "让我们来具体说明一下。\n",
    "\n",
    "### 动态\n",
    "\n",
    "假设我们想要表示一个效用函数\n",
    "\n",
    "$$\n",
    "  - \\frac{1}{2} [(c_1 - b_1)^2 + \\beta (c_2 - b_2)^2]\n",
    "$$\n",
    "\n",
    "这里 $\\beta \\in (0,1)$ 是一个贴现因子，$c_1$ 是在时间1的消费，$c_2$ 是在时间2的消费。\n",
    "\n",
    "想要用二次效用函数{eq}`eq:old0`来得到上面的式子，需要使\n",
    "\n",
    "$$\n",
    "\\Pi = \\begin{bmatrix} 1 & 0 \\cr\n",
    "         0 & \\sqrt{\\beta} \\end{bmatrix}\n",
    "$$\n",
    "\n",
    "$$\n",
    "e = \\begin{bmatrix} e_1 \\cr e_2 \\end{bmatrix}\n",
    "$$\n",
    "\n",
    "以及\n",
    "\n",
    "$$\n",
    "b = \\begin{bmatrix} b_1 \\cr \\sqrt{\\beta} b_2 \\end{bmatrix}\n",
    "$$\n",
    "\n",
    "预算约束{eq}`eq:old2`变为\n",
    "\n",
    "$$\n",
    "p_1 c_1 + p_2 c_2 = p_1 e_1 + p_2 e_2\n",
    "$$\n",
    "\n",
    "左侧是消费的**贴现现值**。\n",
    "\n",
    "右侧是消费者禀赋的**贴现现值**。\n",
    "\n",
    "相对价格 $\\frac{p_1}{p_2}$ 的单位是每单位时间 $1$ 商品所对应的时间 $2$ 商品的数量。\n",
    "\n",
    "因此，\n",
    "\n",
    "$$\n",
    "    (1+r) := R := \\frac{p_1}{p_2}\n",
    "$$ \n",
    "\n",
    "是**毛利率**，$r$ 是**净利率**。\n",
    "\n",
    "以下是一个例子。"
   ]
  },
  {
   "cell_type": "code",
   "execution_count": 3,
   "id": "c5ee01b2",
   "metadata": {},
   "outputs": [
    {
     "name": "stdout",
     "output_type": "stream",
     "text": [
      "竞争均衡价格向量: [4.  3.8]\n",
      "竞争均衡分配: [1. 1.]\n"
     ]
    }
   ],
   "source": [
    "beta = 0.95\n",
    "\n",
    "Π = np.array([[1, 0],\n",
    "              [0, np.sqrt(beta)]])\n",
    "\n",
    "b = np.array([5, np.sqrt(beta) * 5])\n",
    "\n",
    "e = np.array([1, 1])\n",
    "\n",
    "dynamics = ExchangeEconomy(Π, b, e)\n",
    "p, c = dynamics.competitive_equilibrium()\n",
    "\n",
    "print('竞争均衡价格向量:', p)\n",
    "print('竞争均衡分配:', c)"
   ]
  },
  {
   "cell_type": "markdown",
   "id": "62912113",
   "metadata": {},
   "source": [
    "### 风险与状态相关权益\n",
    "\n",
    "我们在**静态**环境中研究风险，这意味着我们只研究一个时间段。\n",
    "\n",
    "所谓**风险**，是指结果事先未知，但受已知概率分布的制约。\n",
    "\n",
    "例如，我们的消费者面对的**风险**特别体现在：\n",
    "\n",
    "  * 有两种自然状态，$1$ 和 $2$。\n",
    "\n",
    "  * 消费者知道状态 $1$ 发生的概率是 $\\lambda$。\n",
    "\n",
    "  * 消费者知道状态 $2$ 发生的概率是 $(1-\\lambda)$。\n",
    "\n",
    "在结果实现之前，消费者的**预期效用**是\n",
    "\n",
    "$$\n",
    "-\\frac{1}{2} [\\lambda (c_1 - b_1)^2 + (1-\\lambda)(c_2 - b_2)^2]\n",
    "$$\n",
    "\n",
    "其中：\n",
    "\n",
    "* $c_1$ 是处于状态 $1$ 中的消费\n",
    "* $c_2$ 是处于状态 $2$ 中的消费\n",
    "\n",
    "为了描述这些偏好，我们使\n",
    "\n",
    "$$\n",
    "\\Pi = \\begin{bmatrix} \\sqrt{\\lambda} & 0 \\cr\n",
    "                     0  & \\sqrt{1-\\lambda} \\end{bmatrix}\n",
    "$$\n",
    "\n",
    "$$\n",
    "e = \\begin{bmatrix} e_1 \\cr e_2 \\end{bmatrix}\n",
    "$$"
   ]
  },
  {
   "cell_type": "markdown",
   "id": "a40ae42c",
   "metadata": {},
   "source": [
    "$$\n",
    "b = \\begin{bmatrix} \\sqrt{\\lambda}b_1 \\cr \\sqrt{1-\\lambda}b_2 \\end{bmatrix}\n",
    "$$\n",
    "\n",
    "消费者的禀赋向量是\n",
    "\n",
    "$$\n",
    "c = \\begin{bmatrix} c_1 \\cr c_2 \\end{bmatrix}\n",
    "$$\n",
    "\n",
    "价格向量是\n",
    "\n",
    "$$\n",
    "p = \\begin{bmatrix} p_1 \\cr p_2 \\end{bmatrix}\n",
    "$$\n",
    "\n",
    "其中 $p_i$ 是状态 $i \\in \\{1, 2\\}$ 下的一单位消费的价格。\n",
    "\n",
    "交易中的状态依赖型商品（即商品的价值取决于状态值）通常被称为**阿罗证券 (Arrow securities)**。\n",
    "\n",
    "在世界的随机状态 $i$ 实现之前，消费者卖掉他/她的状态依赖型禀赋组合，并购买一个状态依赖型消费组合。\n",
    "\n",
    "交易此类状态依赖型商品是经济学家常用来模拟**保险**的方式之一。\n",
    "\n",
    "我们使用上述技巧将 $c_1, c_2$ 解释为“阿罗证券”，这是一种即根据不同状态而具有不同价值的消费品索取权。\n",
    "\n",
    "以下是一个风险经济的实例："
   ]
  },
  {
   "cell_type": "code",
   "execution_count": 4,
   "id": "b746f5bd",
   "metadata": {},
   "outputs": [
    {
     "name": "stdout",
     "output_type": "stream",
     "text": [
      "竞争均衡价格向量: [0.8 3.2]\n",
      "竞争均衡分配: [1. 1.]\n"
     ]
    }
   ],
   "source": [
    "prob = 0.2\n",
    "\n",
    "Π = np.array([[np.sqrt(prob), 0],\n",
    "              [0, np.sqrt(1 - prob)]])\n",
    "\n",
    "b = np.array([np.sqrt(prob) * 5, np.sqrt(1 - prob) * 5])\n",
    "\n",
    "e = np.array([1, 1])\n",
    "\n",
    "risk = ExchangeEconomy(Π, b, e)\n",
    "p, c = risk.competitive_equilibrium()\n",
    "\n",
    "print('竞争均衡价格向量:', p)\n",
    "print('竞争均衡分配:', c)"
   ]
  },
  {
   "cell_type": "markdown",
   "id": "d5a94105",
   "metadata": {},
   "source": [
    "```{exercise}\n",
    ":label: sdm_ex3\n",
    "\n",
    "考虑上面的实例。\n",
    "\n",
    "以下每种情况会怎样影响均衡价格和均衡分配，请进行数值分析：\n",
    "\n",
    "* 消费者变得更穷，\n",
    "* 他们更喜欢第一种商品，\n",
    "* 状态 $1$ 发生的概率更高。\n",
    "\n",
    "提示：对于每种情况，选择与以上的例子不同的一些参数 $e, b, \\text{或} \\lambda$。\n",
    "\n",
    "```"
   ]
  },
  {
   "cell_type": "markdown",
   "id": "76d534b4",
   "metadata": {},
   "source": [
    "```{solution-start} sdm_ex3\n",
    ":class: dropdown\n",
    "```\n",
    "\n",
    "首先考虑当消费者变得更穷的情况。\n",
    "\n",
    "这里我们就减少禀赋。"
   ]
  },
  {
   "cell_type": "code",
   "execution_count": 5,
   "id": "1e411e00",
   "metadata": {},
   "outputs": [
    {
     "name": "stdout",
     "output_type": "stream",
     "text": [
      "竞争均衡价格向量: [0.9 3.6]\n",
      "竞争均衡分配: [0.5 0.5]\n"
     ]
    }
   ],
   "source": [
    "risk.e = np.array([0.5, 0.5])\n",
    "\n",
    "p, c = risk.competitive_equilibrium()\n",
    "\n",
    "print('竞争均衡价格向量:', p)\n",
    "print('竞争均衡分配:', c)"
   ]
  },
  {
   "cell_type": "markdown",
   "id": "31e52084",
   "metadata": {},
   "source": [
    "如果消费者更喜欢第一（或第二）种商品，那么我们可以为商品1设一个更大的最优满足值。"
   ]
  },
  {
   "cell_type": "code",
   "execution_count": 6,
   "id": "d22e3978",
   "metadata": {},
   "outputs": [
    {
     "name": "stdout",
     "output_type": "stream",
     "text": [
      "竞争均衡价格向量: [1.1 3.6]\n",
      "竞争均衡分配: [0.5 0.5]\n"
     ]
    }
   ],
   "source": [
    "risk.b = np.array([np.sqrt(prob) * 6, np.sqrt(1 - prob) * 5])\n",
    "p, c = risk.competitive_equilibrium()\n",
    "\n",
    "print('竞争均衡价格向量:', p)\n",
    "print('竞争均衡分配:', c)"
   ]
  },
  {
   "cell_type": "markdown",
   "id": "9e61802c",
   "metadata": {},
   "source": [
    "增加状态 $1$ 发生的概率。"
   ]
  },
  {
   "cell_type": "code",
   "execution_count": 7,
   "id": "a81b0d70",
   "metadata": {},
   "outputs": [
    {
     "name": "stdout",
     "output_type": "stream",
     "text": [
      "竞争均衡价格向量: [3.2 0.8]\n",
      "竞争均衡分配: [1. 1.]\n"
     ]
    }
   ],
   "source": [
    "prob = 0.8\n",
    "\n",
    "Π = np.array([[np.sqrt(prob), 0],\n",
    "              [0, np.sqrt(1 - prob)]])\n",
    "\n",
    "b = np.array([np.sqrt(prob) * 5, np.sqrt(1 - prob) * 5])\n",
    "\n",
    "e = np.array([1, 1])\n",
    "\n",
    "risk = ExchangeEconomy(Π, b, e)\n",
    "p, c = risk.competitive_equilibrium()\n",
    "\n",
    "print('竞争均衡价格向量:', p)\n",
    "print('竞争均衡分配:', c)"
   ]
  },
  {
   "cell_type": "markdown",
   "id": "9fa1dd69",
   "metadata": {},
   "source": [
    "```{solution-end}\n",
    "```"
   ]
  },
  {
   "cell_type": "markdown",
   "id": "778c7f45",
   "metadata": {},
   "source": [
    "## 具有内生供应的经济体\n",
    "\n",
    "迄今为止，我们描述的是一个纯交换经济体，其中商品的禀赋是外生的，意味着它们是模型之外的因素。\n",
    "\n",
    "### 竞争性公司的供给曲线\n",
    "\n",
    "竞争性公司生产商品，商品的价格向量 $p$ 是既定的，并选择数量 $q$，来最大化总收入减去总成本的值。\n",
    "\n",
    "因为商品价格向量对于竞争性公司来说是既定的，所以我们称它为**价格接受者**，在下文中我们用价格接受型竞争性公司来表示。\n",
    "\n",
    "公司的总收入等于 $p^T q$，其总成本等于 $C(q)$，其中 $C(q)$ 是总成本函数\n",
    "\n",
    "$$\n",
    "C(q) = h^T q + \\frac{1}{2} q^T J q\n",
    "$$\n",
    "\n",
    "其中 $J$ 是一个正定矩阵。\n",
    "\n",
    "因此公司的利润是\n",
    "\n",
    "$$\n",
    "p^T q - C(q)\n",
    "$$ (eq:compprofits)\n",
    "\n",
    "一个 $n \\times 1$ 的**边际成本**向量是\n",
    "\n",
    "$$\n",
    "\\frac{\\partial C(q)}{\\partial q} = h + H q\n",
    "$$\n",
    "\n",
    "其中\n",
    "\n",
    "$$\n",
    "H = \\frac{1}{2} (J + J^T)\n",
    "$$\n",
    "\n",
    "公司通过将**边际收入等于边际成本**来最大化总利润。\n",
    "\n",
    "对于价格接受型公司，一个 $n \\times 1$ 的边际收入向量是 $\\frac{\\partial p^T q}\n",
    "{\\partial q} = p $。\n",
    "\n",
    "因此，对于这个价格接受型竞争性公司，**价格等于边际收入**。\n",
    "\n",
    "这产生了以下的竞争性公司的**逆供给曲线**：\n",
    "\n",
    "$$\n",
    "p = h + H q\n",
    "$$\n",
    "\n",
    "### 竞争均衡\n",
    "\n",
    "对于一个需求曲线由财富边际效用 $\\mu$ 确定的生产型经济体，为了计算它的竞争性均衡，我们首先通过解决规划问题来计算分配问题。\n",
    "\n",
    "然后，我们使用逆需求曲线或逆供给曲线来计算均衡价格向量。\n",
    "\n",
    "#### 热身：$\\mu=1$ \n",
    "\n",
    "作为一个特殊情况，我们通过让财富的边际效用 $\\mu =1$ 来确定一个需求曲线。\n",
    "\n",
    "让供给价格等于需求价格，并使 $q=c$，我们可以得到\n",
    "\n",
    "$$\n",
    "p = h + H c = \\Pi^{\\top} b - \\Pi^{\\top} \\Pi c,\n",
    "$$\n",
    "\n",
    "这意味着均衡产量向量是\n",
    "\n",
    "$$\n",
    "c = (\\Pi^{\\top} \\Pi + H )^{-1} ( \\Pi^{\\top} b - h)\n",
    "$$ (eq:old5)\n",
    "\n",
    "这个等式和我们开始时标量 $n=1$ 的模型中的均衡产量 {eq}`eq:old1` 相对应。\n",
    "\n",
    "#### 一般情况： $\\mu \\neq 1$ \n",
    "\n",
    "现在，让我们使 $\\mu \\neq 1$，来扩展前面的分析。\n",
    "\n",
    "由此，逆需求曲线为\n",
    "\n",
    "$$\n",
    "p = \\mu^{-1} [\\Pi^{\\top} b - \\Pi^{\\top} \\Pi c]\n",
    "$$ (eq:old5pa)\n",
    "\n",
    "使这个等式等于逆供给曲线，让 $q=c$ 并解出 $c$ 得\n",
    "\n",
    "$$\n",
    "c = [\\Pi^{\\top} \\Pi + \\mu H]^{-1} [ \\Pi^{\\top} b - \\mu h]\n",
    "$$ (eq:old5p)"
   ]
  },
  {
   "cell_type": "markdown",
   "id": "fd2924b0",
   "metadata": {},
   "source": [
    "### 实践\n",
    "\n",
    "生产型经济体包括：\n",
    "\n",
    "* 一个可以被理解为代表性消费者的**个人**\n",
    "* 一组**生产成本**\n",
    "* 一个在规划者福利函数中衡量“消费者”与“生产者”权重的权重因子 $\\mu$，如上文所述\n",
    "* 一个 $n \\times 1$ 向量 $p$，代表竞争均衡价格\n",
    "* 一个 $n \\times 1$ 向量 $c$，代表竞争均衡数量\n",
    "* **消费者剩余**\n",
    "* **生产者剩余**\n",
    "\n",
    "这里我们定义一个类 `ProductionEconomy`。"
   ]
  },
  {
   "cell_type": "code",
   "execution_count": 8,
   "id": "9135c2b1",
   "metadata": {},
   "outputs": [],
   "source": [
    "class ProductionEconomy:\n",
    "    \n",
    "    def __init__(self, \n",
    "                 Π, \n",
    "                 b, \n",
    "                 h, \n",
    "                 J, \n",
    "                 μ):\n",
    "        \"\"\"\n",
    "        设置生产型经济体的环境\n",
    "\n",
    "        参数:\n",
    "            Π (np.ndarray): 替代矩阵\n",
    "            b (np.array): 最优满足点\n",
    "            h (np.array): 成本函数中的 h\n",
    "            J (np.ndarray): 成本函数中的 J\n",
    "            μ (float): 对应规划问题中的福利权重\n",
    "        \"\"\"\n",
    "        self.n = len(b)\n",
    "        self.Π, self.b, self.h, self.J, self.μ = Π, b, h, J, μ\n",
    "        \n",
    "    def competitive_equilibrium(self):\n",
    "        \"\"\"\n",
    "        计算生产型经济体的竞争均衡\n",
    "        \"\"\"\n",
    "        Π, b, h, μ, J = self.Π, self.b, self.h, self.μ, self.J\n",
    "        H = .5 * (J + J.T)\n",
    "\n",
    "        # 配置分配\n",
    "        c = inv(Π.T @ Π + μ * H) @ (Π.T @ b - μ * h)\n",
    "\n",
    "        # 计算价格\n",
    "        p = 1 / μ * (Π.T @ b - Π.T @ Π @ c)\n",
    "\n",
    "        # 检查非饱和\n",
    "        if any(Π @ c - b >= 0):\n",
    "            raise Exception('无效结果：将最优满足点设置得更远一些')\n",
    "\n",
    "        return c, p\n",
    "\n",
    "    def compute_surplus(self):\n",
    "        \"\"\"\n",
    "        计算单一商品情况下的消费者剩余和生产者剩余\n",
    "        \"\"\"\n",
    "        if self.n != 1:\n",
    "            raise Exception('不是单一商品')\n",
    "        h, J, Π, b, μ = self.h.item(), self.J.item(), self.Π.item(), self.b.item(), self.μ\n",
    "        H = J\n",
    "\n",
    "        # 供给曲线/需求曲线的系数\n",
    "        s0, s1 = h, H\n",
    "        d0, d1 = 1 / μ * Π * b, 1 / μ * Π**2\n",
    "\n",
    "        # 竞争均衡\n",
    "        c, p = self.competitive_equilibrium()\n",
    "\n",
    "        # 计算剩余\n",
    "        c_surplus = d0 * c - .5 * d1 * c**2 - p * c\n",
    "        p_surplus = p * c - s0 * c - .5 * s1 * c**2\n",
    "\n",
    "        return c_surplus, p_surplus"
   ]
  },
  {
   "cell_type": "markdown",
   "id": "c6a8696f",
   "metadata": {},
   "source": [
    "然后定义一个函数，用于绘制需求曲线和供给曲线，并标注剩余和均衡点。"
   ]
  },
  {
   "cell_type": "code",
   "execution_count": 9,
   "id": "d0b9d91f",
   "metadata": {
    "tags": [
     "hide-input"
    ]
   },
   "outputs": [],
   "source": [
    "def plot_competitive_equilibrium(PE):\n",
    "    \"\"\"\n",
    "    绘制需求曲线和供给曲线，生产者/消费者剩余以及单一商品生产型经济体的均衡点\n",
    "\n",
    "    参数:\n",
    "        PE (class): 初始化的生产型经济体的类\n",
    "    \"\"\"\n",
    "    # 获取单一值\n",
    "    J, h, Π, b, μ = PE.J.item(), PE.h.item(), PE.Π.item(), PE.b.item(), PE.μ\n",
    "    H = J\n",
    "\n",
    "    # 计算竞争均衡\n",
    "    c, p = PE.competitive_equilibrium()\n",
    "    c, p = c.item(), p.item()\n",
    "\n",
    "    # 逆供给/逆需求曲线\n",
    "    supply_inv = lambda x: h + H * x\n",
    "    demand_inv = lambda x: 1 / μ * (Π * b - Π * Π * x)\n",
    "\n",
    "    xs = np.linspace(0, 2 * c, 100)\n",
    "    ps = np.ones(100) * p\n",
    "    supply_curve = supply_inv(xs)\n",
    "    demand_curve = demand_inv(xs)\n",
    "\n",
    "    # 绘图\n",
    "    plt.figure()\n",
    "    plt.plot(xs, supply_curve, label='供给曲线', color='#020060')\n",
    "    plt.plot(xs, demand_curve, label='需求曲线', color='#600001')\n",
    "\n",
    "    plt.fill_between(xs[xs <= c], demand_curve[xs <= c], ps[xs <= c], label='消费者剩余', color='#EED1CF')\n",
    "    plt.fill_between(xs[xs <= c], supply_curve[xs <= c], ps[xs <= c], label='生产者剩余', color='#E6E6F5')\n",
    "\n",
    "    plt.vlines(c, 0, p, linestyle=\"dashed\", color='black', alpha=0.7)\n",
    "    plt.hlines(p, 0, c, linestyle=\"dashed\", color='black', alpha=0.7)\n",
    "    plt.scatter(c, p, zorder=10, label='竞争均衡', color='#600001')\n",
    "\n",
    "    plt.legend(loc='upper right')\n",
    "    plt.margins(x=0, y=0)\n",
    "    plt.ylim(0)\n",
    "    plt.xlabel('产量')\n",
    "    plt.ylabel('价格')\n",
    "    plt.show()"
   ]
  },
  {
   "cell_type": "markdown",
   "id": "b0ae7c66",
   "metadata": {},
   "source": [
    "#### 示例：单一经济体与单一商品和生产\n",
    "\n",
    "现在，我们来构建一个包含单一商品的生产经济体。\n",
    "\n",
    "为此我们需要：\n",
    "\n",
    "  * 指定一个**个人**和一个**成本曲线**，以复现我们开始时用到的简单单一商品供求的示例\n",
    "\n",
    "  * 计算均衡 $p$ 和 $c$，以及消费者剩余和生产者剩余\n",
    "\n",
    "  * 绘制这两种剩余的图\n",
    "\n",
    "  * 改变 $b$ 从而探究 $p, c$ 如何变化"
   ]
  },
  {
   "cell_type": "code",
   "execution_count": 10,
   "id": "9eb7878e",
   "metadata": {},
   "outputs": [
    {
     "name": "stdout",
     "output_type": "stream",
     "text": [
      "竞争均衡价格: 5.25\n",
      "竞争均衡分配: 4.75\n"
     ]
    },
    {
     "data": {
      "image/png": "[encoded data removed]",
      "text/plain": [
       "<Figure size 640x480 with 1 Axes>"
      ]
     },
     "metadata": {},
     "output_type": "display_data"
    }
   ],
   "source": [
    "Π = np.array([[1]])  # 矩阵现在是一个单一值\n",
    "b = np.array([10])\n",
    "h = np.array([0.5])\n",
    "J = np.array([[1]])\n",
    "μ = 1\n",
    "\n",
    "PE = ProductionEconomy(Π, b, h, J, μ)\n",
    "c, p = PE.competitive_equilibrium()\n",
    "\n",
    "print('竞争均衡价格:', p.item())\n",
    "print('竞争均衡分配:', c.item())\n",
    "\n",
    "plot_competitive_equilibrium(PE)"
   ]
  },
  {
   "cell_type": "code",
   "execution_count": 11,
   "id": "85a80a1e",
   "metadata": {},
   "outputs": [
    {
     "name": "stdout",
     "output_type": "stream",
     "text": [
      "消费者剩余: 11.28125\n",
      "生产者剩余: 11.28125\n"
     ]
    }
   ],
   "source": [
    "c_surplus, p_surplus = PE.compute_surplus()\n",
    "\n",
    "print('消费者剩余:', c_surplus.item())\n",
    "print('生产者剩余:', p_surplus.item())"
   ]
  },
  {
   "cell_type": "markdown",
   "id": "58e74342",
   "metadata": {},
   "source": [
    "通过提高 $\\mu$ 来降低消费者的福利权重。"
   ]
  },
  {
   "cell_type": "code",
   "execution_count": 12,
   "id": "c57bb68e",
   "metadata": {},
   "outputs": [
    {
     "name": "stdout",
     "output_type": "stream",
     "text": [
      "竞争均衡价格: 3.5\n",
      "竞争均衡分配: 3.0\n"
     ]
    },
    {
     "data": {
      "image/png": "[encoded data removed]",
      "text/plain": [
       "<Figure size 640x480 with 1 Axes>"
      ]
     },
     "metadata": {},
     "output_type": "display_data"
    }
   ],
   "source": [
    "PE.μ = 2\n",
    "c, p = PE.competitive_equilibrium()\n",
    "\n",
    "print('竞争均衡价格:', p.item())\n",
    "print('竞争均衡分配:', c.item())\n",
    "\n",
    "plot_competitive_equilibrium(PE)"
   ]
  },
  {
   "cell_type": "code",
   "execution_count": 13,
   "id": "7a5578cb",
   "metadata": {},
   "outputs": [
    {
     "name": "stdout",
     "output_type": "stream",
     "text": [
      "消费者剩余: 2.25\n",
      "生产者剩余: 4.5\n"
     ]
    }
   ],
   "source": [
    "c_surplus, p_surplus = PE.compute_surplus()\n",
    "\n",
    "print('消费者剩余:', c_surplus.item())\n",
    "print('生产者剩余:', p_surplus.item())"
   ]
  },
  {
   "cell_type": "markdown",
   "id": "71fb0573",
   "metadata": {},
   "source": [
    "现在我们改变最优满足点，使消费者从消费中获得更多的效用。"
   ]
  },
  {
   "cell_type": "code",
   "execution_count": 14,
   "id": "d5cad22e",
   "metadata": {},
   "outputs": [
    {
     "name": "stdout",
     "output_type": "stream",
     "text": [
      "竞争均衡价格: 7.75\n",
      "竞争均衡分配: 7.25\n"
     ]
    },
    {
     "data": {
      "image/png": "[encoded data removed]",
      "text/plain": [
       "<Figure size 640x480 with 1 Axes>"
      ]
     },
     "metadata": {},
     "output_type": "display_data"
    }
   ],
   "source": [
    "PE.μ = 1\n",
    "PE.b = PE.b * 1.5\n",
    "c, p = PE.competitive_equilibrium()\n",
    "\n",
    "print('竞争均衡价格:', p.item())\n",
    "print('竞争均衡分配:', c.item())\n",
    "\n",
    "plot_competitive_equilibrium(PE)"
   ]
  },
  {
   "cell_type": "markdown",
   "id": "0d072d74",
   "metadata": {},
   "source": [
    "这将提高均衡价格和均衡产量。\n",
    "\n",
    "#### 示例：单个主体、两个商品且包含生产的经济体系\n",
    "\n",
    "  * 我们将进行一些类似上面的实验\n",
    "\n",
    "  * 我们可以使用**对角矩阵** $\\Pi$ ，也可以使用**非对角矩阵** $\\Pi$ 矩阵来做实验，来研究交叉斜率如何影响 $p$ 和 $c$ 对 $b$ 的各种变化的反应。"
   ]
  },
  {
   "cell_type": "code",
   "execution_count": 15,
   "id": "3e5a103e",
   "metadata": {},
   "outputs": [
    {
     "name": "stdout",
     "output_type": "stream",
     "text": [
      "竞争均衡价格: [6.2 6.2]\n",
      "竞争均衡分配: [3.8 3.8]\n"
     ]
    }
   ],
   "source": [
    "Π = np.array([[1, 0],\n",
    "              [0, 1]])\n",
    "\n",
    "b = np.array([10, 10])\n",
    "\n",
    "h = np.array([0.5, 0.5])\n",
    "\n",
    "J = np.array([[1, 0.5],\n",
    "              [0.5, 1]])\n",
    "μ = 1\n",
    "\n",
    "PE = ProductionEconomy(Π, b, h, J, μ)\n",
    "c, p = PE.competitive_equilibrium()\n",
    "\n",
    "print('竞争均衡价格:', p)\n",
    "print('竞争均衡分配:', c)"
   ]
  },
  {
   "cell_type": "code",
   "execution_count": 16,
   "id": "5b2d65a5",
   "metadata": {},
   "outputs": [
    {
     "name": "stdout",
     "output_type": "stream",
     "text": [
      "竞争均衡价格: [7.13333333 6.46666667]\n",
      "竞争均衡分配: [4.86666667 3.53333333]\n"
     ]
    }
   ],
   "source": [
    "PE.b = np.array([12, 10])\n",
    "\n",
    "c, p = PE.competitive_equilibrium()\n",
    "\n",
    "print('竞争均衡价格:', p)\n",
    "print('竞争均衡分配:', c)"
   ]
  },
  {
   "cell_type": "code",
   "execution_count": 17,
   "id": "ccb347c6",
   "metadata": {},
   "outputs": [
    {
     "name": "stdout",
     "output_type": "stream",
     "text": [
      "竞争均衡价格: [6.3 6.3]\n",
      "竞争均衡分配: [3.86666667 3.86666667]\n"
     ]
    }
   ],
   "source": [
    "PE.Π = np.array([[1, 0.5],\n",
    "                 [0.5, 1]])\n",
    "\n",
    "PE.b = np.array([10, 10])\n",
    "\n",
    "c, p = PE.competitive_equilibrium()\n",
    "\n",
    "print('竞争均衡价格:', p)\n",
    "print('竞争均衡分配:', c)"
   ]
  },
  {
   "cell_type": "code",
   "execution_count": 18,
   "id": "1eb8c894",
   "metadata": {},
   "outputs": [
    {
     "name": "stdout",
     "output_type": "stream",
     "text": [
      "竞争均衡价格: [7.23333333 6.56666667]\n",
      "竞争均衡分配: [4.93333333 3.6       ]\n"
     ]
    }
   ],
   "source": [
    "PE.b = np.array([12, 10])\n",
    "c, p = PE.competitive_equilibrium()\n",
    "\n",
    "print('竞争均衡价格:', p)\n",
    "print('竞争均衡分配:', c)"
   ]
  },
  {
   "cell_type": "markdown",
   "id": "eb63bd21",
   "metadata": {},
   "source": [
    "### 题外话：垄断供应商\n",
    "\n",
    "竞争性公司是一个**价格接受者**，因此其边际收入是无法由自己控制的。\n",
    "\n",
    "垄断者知道他们没有竞争对手，可以通过设定产量来影响价格及其边际收入。\n",
    "\n",
    "垄断者认为自己无法控制**需求曲线**，而不是**价格**。\n",
    "\n",
    "因此，垄断者不是价格接受者，而是在逆需求曲线{eq}`eq:old5pa`的约束下，设定价格来最大化利润。\n",
    "\n",
    "所以垄断者的总利润（关于其产量$q$的函数）是\n",
    "\n",
    "$$\n",
    "[\\mu^{-1} \\Pi^{\\text{top}} (b - \\Pi q)]^{\\text{top}} q - h^{\\text{top}} q - \\frac{1}{2} q^{\\text{top}} J q\n",
    "$$ (eq:monopprof)\n",
    "\n",
    "在找到关于$q$的、使垄断者利润最大化的一阶必要条件并求解$q$之后，我们发现垄断者设定的产量为\n",
    "\n",
    "$$\n",
    "q = (H + 2 \\mu^{-1} \\Pi^{\\text{top}} \\Pi)^{-1} (\\mu^{-1} \\Pi^{\\text{top}} b - h)\n",
    "$$ (eq:qmonop)\n",
    "\n",
    "我们很快会看到，一个垄断者设置的**产量$q$**比以下任何情况都要**低**：\n",
    "\n",
    " * 社会规划者选择$q$来最大化社会福利\n",
    "\n",
    " * 竞争均衡\n",
    "\n",
    "\n",
    "\n",
    "```{exercise}\n",
    ":label: sdm_ex4\n",
    "\n",
    "请证明垄断者的供给曲线是 {eq}`eq:qmonop`。\n",
    "\n",
    "```"
   ]
  },
  {
   "cell_type": "markdown",
   "id": "d116d3aa",
   "metadata": {},
   "source": [
    "### 垄断者\n",
    "\n",
    "我们来考虑一个垄断供应商。\n",
    "\n",
    "我们在 `ProductionEconomy` 的类中加入了一个方法，来计算供应商作为垄断者时的均衡价格和均衡分配。\n",
    "\n",
    "由于供应商现在拥有设定价格的权力：\n",
    "\n",
    "- 我们首先计算解决垄断者利润最大化问题的最优产量。\n",
    "- 然后我们从消费者的逆需求曲线中推导出一个均衡价格。\n",
    "\n",
    "接下来，我们用一个图来展示单一商品情况下，竞争均衡和垄断供应商均衡之间的区别。\n",
    "\n",
    "回忆一下，在竞争均衡中，一个价格接受型供应商会使边际收入 $p$ 等于边际成本 $h + Hq$。\n",
    "\n",
    "这就得出了竞争性生产者的逆供给曲线。\n",
    "\n",
    "垄断者的边际收入不是常数，而是一个依赖于垄断者设定的产量的非平凡函数。\n",
    "\n",
    "垄断者的边际收入为\n",
    "\n",
    "$$\n",
    "MR(q) = -2\\mu^{-1}\\Pi^{\\text{top}}\\Pi q+\\mu^{-1}\\Pi^{\\text{top}}b,\n",
    "$$\n",
    "\n",
    "垄断者使这个边际收入等于其边际成本。\n",
    "\n",
    "该图显示，垄断者设定的产量低于竞争均衡量。\n",
    "\n",
    "在单一商品情况下，这种均衡与商品的更高价格相关。"
   ]
  },
  {
   "cell_type": "code",
   "execution_count": 19,
   "id": "da4c9f38",
   "metadata": {},
   "outputs": [],
   "source": [
    "class Monopoly(ProductionEconomy):\n",
    "    \n",
    "    def __init__(self, \n",
    "                 Π, \n",
    "                 b, \n",
    "                 h, \n",
    "                 J, \n",
    "                 μ):\n",
    "        \"\"\"\n",
    "        继承ProductionEconomy类的所有属性和方法\n",
    "        \"\"\"\n",
    "        super().__init__(Π, b, h, J, μ)\n",
    "        \n",
    "\n",
    "    def equilibrium_with_monopoly(self):\n",
    "        \"\"\"\n",
    "        在有垄断供应商的情况下计算均衡价格和均衡分配\n",
    "        \"\"\"\n",
    "        Π, b, h, μ, J = self.Π, self.b, self.h, self.μ, self.J\n",
    "        H = .5 * (J + J.T)\n",
    "\n",
    "        # 分配\n",
    "        q = inv(μ * H + 2 * Π.T @ Π) @ (Π.T @ b - μ * h)\n",
    "\n",
    "        # 价格\n",
    "        p = 1 / μ * (Π.T @ b - Π.T @ Π @ q)\n",
    "\n",
    "        if any(Π @ q - b >= 0):\n",
    "            raise Exception('无效结果：将最优满足点设置得更远一些')\n",
    "\n",
    "        return q, p"
   ]
  },
  {
   "cell_type": "markdown",
   "id": "5475d06f",
   "metadata": {},
   "source": [
    "定义一个函数，绘制需求曲线、边际成本曲线以及边际收入曲线，并标注出剩余和均衡点。"
   ]
  },
  {
   "cell_type": "code",
   "execution_count": 20,
   "id": "a6badd15",
   "metadata": {
    "tags": [
     "hide-input"
    ]
   },
   "outputs": [],
   "source": [
    "def plot_monopoly(M):\n",
    "    \"\"\"\n",
    "    在具有垄断供应商的单一商品经济的情况下，绘制需求曲线、边际生产成本、边际收入、剩余以及均衡的情况\n",
    "\n",
    "    参数：\n",
    "        M (class): 继承单一商品垄断经济类ProductionEconomy的类\n",
    "    \"\"\"\n",
    "    # 获取单一值\n",
    "    J, h, Π, b, μ = M.J.item(), M.h.item(), M.Π.item(), M.b.item(), M.μ\n",
    "    H = J\n",
    "\n",
    "    # 计算竞争均衡\n",
    "    c, p = M.competitive_equilibrium()\n",
    "    q, pm = M.equilibrium_with_monopoly()\n",
    "    c, p, q, pm = c.item(), p.item(), q.item(), pm.item()\n",
    "\n",
    "    # 计算\n",
    "\n",
    "    # 逆供给/需求曲线\n",
    "    marg_cost = lambda x: h + H * x  # 边际成本\n",
    "    marg_rev = lambda x: -2 * 1 / μ * Π * Π * x + 1 / μ * Π * b  # 边际收入\n",
    "    demand_inv = lambda x: 1 / μ * (Π * b - Π * Π * x)  # 需求曲线\n",
    "\n",
    "    xs = np.linspace(0, 2 * c, 100)\n",
    "    pms = np.ones(100) * pm\n",
    "    marg_cost_curve = marg_cost(xs)\n",
    "    marg_rev_curve = marg_rev(xs)\n",
    "    demand_curve = demand_inv(xs)\n",
    "\n",
    "    # 绘图\n",
    "    plt.figure()\n",
    "    plt.plot(xs, marg_cost_curve, label='边际成本', color='#020060')\n",
    "    plt.plot(xs, marg_rev_curve, label='边际收入', color='#E55B13')\n",
    "    plt.plot(xs, demand_curve, label='需求', color='#600001')\n",
    "\n",
    "    plt.fill_between(xs[xs <= q], demand_curve[xs <= q], pms[xs <= q], label='消费者剩余', color='#EED1CF')\n",
    "    plt.fill_between(xs[xs <= q], marg_cost_curve[xs <= q], pms[xs <= q], label='生产者剩余', color='#E6E6F5')\n",
    "\n",
    "    plt.vlines(c, 0, p, linestyle=\"dashed\", color='black', alpha=0.7)\n",
    "    plt.hlines(p, 0, c, linestyle=\"dashed\", color='black', alpha=0.7)\n",
    "    plt.scatter(c, p, zorder=10, label='竞争均衡', color='#600001')\n",
    "\n",
    "    plt.vlines(q, 0, pm, linestyle=\"dashed\", color='black', alpha=0.7)\n",
    "    plt.hlines(pm, 0, q, linestyle=\"dashed\", color='black', alpha=0.7)\n",
    "    plt.scatter(q, pm, zorder=10, label='垄断均衡', color='#E55B13')\n",
    "\n",
    "    plt.legend(loc='upper right')\n",
    "    plt.margins(x=0, y=0)\n",
    "    plt.ylim(0)\n",
    "    plt.xlabel('产量')\n",
    "    plt.ylabel('价格')\n",
    "    plt.show()"
   ]
  },
  {
   "cell_type": "markdown",
   "id": "e10ad11a",
   "metadata": {},
   "source": [
    "#### 多种商品的例子\n",
    "\n",
    "让我们在一个拥有多种商品的经济体中比较竞争均衡和垄断结果。"
   ]
  },
  {
   "cell_type": "code",
   "execution_count": 21,
   "id": "75ba709a",
   "metadata": {},
   "outputs": [
    {
     "name": "stdout",
     "output_type": "stream",
     "text": [
      "竞争均衡价格: [6.23542117 6.32397408]\n",
      "竞争均衡分配: [3.76457883 3.94168467]\n",
      "垄断供应商的均衡价格: [7.26865672 8.23880597]\n",
      "垄断供应商的均衡分配: [2.73134328 2.6119403 ]\n"
     ]
    }
   ],
   "source": [
    "Π = np.array([[1, 0],\n",
    "              [0, 1.2]])\n",
    "\n",
    "b = np.array([10, 10])\n",
    "\n",
    "h = np.array([0.5, 0.5])\n",
    "\n",
    "J = np.array([[1, 0.5],\n",
    "              [0.5, 1]])\n",
    "μ = 1\n",
    "\n",
    "M = Monopoly(Π, b, h, J, μ)\n",
    "c, p = M.competitive_equilibrium()\n",
    "q, pm = M.equilibrium_with_monopoly()\n",
    "\n",
    "print('竞争均衡价格:', p)\n",
    "print('竞争均衡分配:', c)\n",
    "\n",
    "print('垄断供应商的均衡价格:', pm)\n",
    "print('垄断供应商的均衡分配:', q)"
   ]
  },
  {
   "cell_type": "markdown",
   "id": "9912f4a0",
   "metadata": {},
   "source": [
    "#### 单一商品的例子"
   ]
  },
  {
   "cell_type": "code",
   "execution_count": 22,
   "id": "220e2afc",
   "metadata": {},
   "outputs": [
    {
     "name": "stdout",
     "output_type": "stream",
     "text": [
      "竞争均衡价格: 5.25\n",
      "竞争均衡分配: 4.75\n",
      "垄断供应商的均衡价格: 6.833333333333334\n",
      "垄断供应商的均衡分配: 3.1666666666666665\n"
     ]
    },
    {
     "data": {
      "image/png": "[encoded data removed]",
      "text/plain": [
       "<Figure size 640x480 with 1 Axes>"
      ]
     },
     "metadata": {},
     "output_type": "display_data"
    }
   ],
   "source": [
    "Π = np.array([[1]])  # 现在矩阵是一个单一值\n",
    "b = np.array([10])\n",
    "h = np.array([0.5])\n",
    "J = np.array([[1]])\n",
    "μ = 1\n",
    "\n",
    "M = Monopoly(Π, b, h, J, μ)\n",
    "c, p = M.competitive_equilibrium()\n",
    "q, pm = M.equilibrium_with_monopoly()\n",
    "\n",
    "print('竞争均衡价格:', p.item())\n",
    "print('竞争均衡分配:', c.item())\n",
    "\n",
    "print('垄断供应商的均衡价格:', pm.item())\n",
    "print('垄断供应商的均衡分配:', q.item())\n",
    "\n",
    "plot_monopoly(M)"
   ]
  },
  {
   "cell_type": "markdown",
   "id": "3c36b477",
   "metadata": {},
   "source": [
    "## 多种商品的福利最大化问题\n",
    "\n",
    "福利最大化问题 -- 有时也被称为社会规划问题 -- 是选择 $c$ 来最大化\n",
    "\n",
    "$$\n",
    "    - \\frac{1}{2} \\mu^{-1}(\\Pi c -b)^\\top (\\Pi c -b)\n",
    "$$\n",
    "\n",
    "减去逆供给曲线下的面积，即，\n",
    "\n",
    "$$\n",
    "    h c + \\frac{1}{2} c^\\top J c  \n",
    "$$\n",
    "\n",
    "所以福利标准是\n",
    "\n",
    "$$\n",
    "    - \\frac{1}{2} \\mu^{-1}(\\Pi c -b)^\\top (\\Pi c -b) -h c \n",
    "        - \\frac{1}{2} c^\\top J c\n",
    "$$\n",
    "\n",
    "在这个公式中，$\\mu$ 是一个参数，描述了规划者如何权衡外部供应商和代表性消费者的利益。\n",
    "\n",
    "对 $c$ 的一阶条件是\n",
    "\n",
    "$$\n",
    "- \\mu^{-1} \\Pi^\\top \\Pi c + \\mu^{-1}\\Pi^\\top b - h -  J c = 0\n",
    "$$\n",
    "\n",
    "这意味着 {eq}`eq:old5p` 被满足。\n",
    "\n",
    "因此，与单一商品的情况一样，对于多种商品情况，竞争均衡下的产量向量可以解决规划问题。\n",
    "\n",
    "（这是第一福利定理的另一个版本。）\n",
    "\n",
    "我们可以从以下两个地方推导出竞争均衡的价格向量：\n",
    "\n",
    "  * 逆需求曲线，或\n",
    "\n",
    "  * 逆供给曲线"
   ]
  }
 ],
 "metadata": {
  "jupytext": {
   "text_representation": {
    "extension": ".md",
    "format_name": "myst",
    "format_version": 0.13,
    "jupytext_version": "1.14.5"
   }
  },
  "kernelspec": {
   "display_name": "Python 3 (ipykernel)",
   "language": "python",
   "name": "python3"
  },
  "language_info": {
   "codemirror_mode": {
    "name": "ipython",
    "version": 3
   },
   "file_extension": ".py",
   "mimetype": "text/x-python",
   "name": "python",
   "nbconvert_exporter": "python",
   "pygments_lexer": "ipython3",
   "version": "3.12.7"
  },
  "source_map": [
   12,
   54,
   64,
   96,
   103,
   139,
   226,
   271,
   306,
   366,
   381,
   419,
   449,
   464,
   481,
   491,
   498,
   502,
   508,
   512,
   527,
   532,
   623,
   639,
   701,
   705,
   750,
   766,
   782,
   787,
   791,
   801,
   806,
   810,
   819,
   829,
   848,
   857,
   869,
   875,
   914,
   947,
   979,
   982,
   1037,
   1043,
   1064,
   1068,
   1086
  ]
 },
 "nbformat": 4,
 "nbformat_minor": 5
}