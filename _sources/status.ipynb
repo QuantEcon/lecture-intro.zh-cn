{
 "cells": [
  {
   "cell_type": "markdown",
   "id": "129e9389",
   "metadata": {},
   "source": [
    "# 执行统计数据\n",
    "\n",
    "此表包含最新的执行统计数据。\n",
    "\n",
    "```{nb-exec-table}\n",
    "```\n",
    "\n",
    "(status:machine-details)=\n",
    "\n",
    "这些讲座是通过 `github actions` 在 `linux` 实例上构建的。\n",
    "\n",
    "我们使用以下的python版本"
   ]
  },
  {
   "cell_type": "code",
   "execution_count": null,
   "id": "2b7db78b",
   "metadata": {},
   "outputs": [],
   "source": [
    "!python --version"
   ]
  },
  {
   "cell_type": "markdown",
   "id": "9721ebb7",
   "metadata": {},
   "source": [
    "和以下的包版本"
   ]
  },
  {
   "cell_type": "code",
   "execution_count": null,
   "id": "7536f5d3",
   "metadata": {
    "tags": [
     "hide-output"
    ]
   },
   "outputs": [],
   "source": [
    "!conda list"
   ]
  }
 ],
 "metadata": {
  "jupytext": {
   "text_representation": {
    "extension": ".md",
    "format_name": "myst"
   }
  },
  "kernelspec": {
   "display_name": "Python 3",
   "language": "python",
   "name": "python3"
  },
  "source_map": [
   10,
   25,
   27,
   31
  ]
 },
 "nbformat": 4,
 "nbformat_minor": 5
}