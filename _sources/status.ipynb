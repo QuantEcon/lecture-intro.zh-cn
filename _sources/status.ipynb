{
 "cells": [
  {
   "cell_type": "markdown",
   "id": "62cba8e6",
   "metadata": {},
   "source": [
    "# 执行统计数据\n",
    "\n",
    "此表包含最新的执行统计数据。\n",
    "\n",
    "```{nb-exec-table}\n",
    "```\n",
    "\n",
    "(status:machine-details)=\n",
    "\n",
    "这些讲座是通过 `github actions` 在 `linux` 实例上构建的。\n",
    "\n",
    "这些讲座使用以下的python版本"
   ]
  },
  {
   "cell_type": "code",
   "execution_count": null,
   "id": "4ff7d75f",
   "metadata": {},
   "outputs": [],
   "source": [
    "!python --version"
   ]
  },
  {
   "cell_type": "markdown",
   "id": "ab6d7c00",
   "metadata": {},
   "source": [
    "和以下的包版本"
   ]
  },
  {
   "cell_type": "code",
   "execution_count": null,
   "id": "848c2272",
   "metadata": {
    "tags": [
     "hide-output"
    ]
   },
   "outputs": [],
   "source": [
    "!conda list"
   ]
  }
 ],
 "metadata": {
  "jupytext": {
   "text_representation": {
    "extension": ".md",
    "format_name": "myst"
   }
  },
  "kernelspec": {
   "display_name": "Python 3",
   "language": "python",
   "name": "python3"
  },
  "source_map": [
   10,
   25,
   27,
   31
  ]
 },
 "nbformat": 4,
 "nbformat_minor": 5
}