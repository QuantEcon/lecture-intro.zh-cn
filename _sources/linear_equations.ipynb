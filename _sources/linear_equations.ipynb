{
 "cells": [
  {
   "cell_type": "markdown",
   "id": "4645f457",
   "metadata": {},
   "source": [
    "# 线性方程和矩阵代数\n",
    "\n",
    "```{index} single: Linear Equations and Matrix Algebra\n",
    "```\n",
    "\n",
    "## 概述\n",
    "\n",
    "经济学和金融学中的许多问题都需要解线性方程。\n",
    "\n",
    "在本讲座中，我们将讨论线性方程及其应用。\n",
    "\n",
    "为了说明线性方程的重要性，我们从一个两种商品的供需模型开始。\n",
    "\n",
    "两种商品的情况非常简单，可以手动计算求解。\n",
    "\n",
    "但我们经常需要考虑包含多种商品的市场。\n",
    "\n",
    "在多种商品的情况下，我们面对的是大型线性方程组，有许多方程和未知数。\n",
    "\n",
    "为了处理这样的系统，我们需要两样知识：\n",
    "\n",
    "* 矩阵代数（以及如何使用它的知识）以及\n",
    "* 将矩阵代数应用于感兴趣问题的计算机代码。\n",
    "\n",
    "本讲座涵盖了这些步骤。\n",
    "\n",
    "我们将使用以下函数库："
   ]
  },
  {
   "cell_type": "code",
   "execution_count": 1,
   "id": "0d3d3bc4",
   "metadata": {},
   "outputs": [],
   "source": [
    "import numpy as np\n",
    "import matplotlib.pyplot as plt\n",
    "\n",
    "import matplotlib as mpl\n",
    "FONTPATH = \"fonts/SourceHanSerifSC-SemiBold.otf\"\n",
    "mpl.font_manager.fontManager.addfont(FONTPATH)\n",
    "plt.rcParams['font.family'] = ['Source Han Serif SC']"
   ]
  },
  {
   "cell_type": "markdown",
   "id": "6cd08c38",
   "metadata": {},
   "source": [
    "## 两种商品的例子\n",
    "\n",
    "在本节中，我们将讨论一个简单的两种商品例子，并通过以下两种方法解决：\n",
    "\n",
    "1. 纸笔计算\n",
    "2. 矩阵代数\n",
    "\n",
    "正如我们将看到的，第二种方法更具普遍性。\n",
    "\n",
    "### 纸笔计算方法\n",
    "\n",
    "假设我们有两种相关的商品，比如：\n",
    "\n",
    "* 丙烷和乙醇，或\n",
    "* 大米和小麦等。\n",
    "\n",
    "为了简化问题，我们将它们标记为商品0和商品1。\n",
    "\n",
    "每种商品的需求取决于两种商品的价格：\n",
    "\n",
    "```{math}\n",
    ":label: two_eq_demand\n",
    "\n",
    "\\begin{aligned}\n",
    "    q_0^d = 100 - 10 p_0 - 5 p_1 \\\\\n",
    "    q_1^d = 50 - p_0 - 10 p_1\n",
    "\\end{aligned}\n",
    "```\n",
    "\n",
    "（我们假设当任一商品的价格上涨时需求会下降，但其他情况也是可能的。）\n",
    "\n",
    "让我们假设供给由以下方程给出：\n",
    "\n",
    "\n",
    "```{math}\n",
    ":label: two_eq_supply\n",
    "\n",
    "\\begin{aligned}\n",
    "    q_0^s = 10 p_0 + 5 p_1 \\\\\n",
    "    q_1^s = 5 p_0 + 10 p_1\n",
    "\\end{aligned}\n",
    "```\n",
    "\n",
    "当供给等于需求时（$q_0^s = q_0^d$ 和 $q_1^s = q_1^d$），市场达到均衡。\n",
    "\n",
    "这产生了以下线性方程组：\n",
    "\n",
    "```{math}\n",
    ":label: two_equilibrium\n",
    "\n",
    "\\begin{aligned}\n",
    "    100 - 10 p_0 - 5 p_1 = 10 p_0 + 5 p_1 \\\\\n",
    "    50 - p_0 - 10 p_1 = 5 p_0 + 10 p_1\n",
    "\\end{aligned}\n",
    "```\n",
    "\n",
    "我们可以用纸笔计算得到：\n",
    "\n",
    "$$\n",
    "    p_0 = 4.41 \\quad \\text{和} \\quad p_1 = 1.18.\n",
    "$$    \n",
    "\n",
    "将这些结果代入{eq}`two_eq_demand`或{eq}`two_eq_supply`中，可得均衡数量：\n",
    "\n",
    "$$\n",
    "    q_0 = 50 \\quad \\text{和} \\quad q_1 = 33.82.\n",
    "$$\n",
    "\n",
    "### 展望未来\n",
    "\n",
    "在两种商品的情况下，纸笔计算方法很容易。\n",
    "\n",
    "但如果有很多种商品呢？\n",
    "\n",
    "对于这样的问题，我们需要矩阵代数。\n",
    "\n",
    "在用矩阵代数解决问题之前，让我们先回顾一下向量和矩阵的基础知识，包括理论和计算。\n",
    "\n",
    "\n",
    "## {index}`向量 <single: Vectors>`\n",
    "\n",
    " ```{index} single: Linear Algebra; Vectors\n",
    " ```\n",
    "\n",
    "一个长度为$n$的**向量**就是一个由$n$个数字组成的序列（或数组，或元组），我们将其写作$x = (x_1, \\ldots, x_n)$或$x = \\begin{bmatrix}x_1, \\ldots, x_n\\end{bmatrix}$。\n",
    "\n",
    "我们可以将这些序列横向或纵向写出。\n",
    "\n",
    "但当我们使用矩阵运算时，我们默认假设向量是列向量。\n",
    "\n",
    "所有$n$维向量的集合用$\\mathbb R^n$表示。\n",
    "\n",
    "```{prf:example}\n",
    ":label: le_ex_dim\n",
    "\n",
    "* $\\mathbb R^2$是平面 --- 即所有$(x_1, x_2)$对的集合。\n",
    "* $\\mathbb R^3$是三维空间 --- 即所有$(x_1, x_2, x_3)$向量的集合。\n",
    "向量通常在视觉上表示为从原点到某点的箭头。\n",
    "```\n",
    "\n",
    "这里是一个可视化示例。"
   ]
  },
  {
   "cell_type": "code",
   "execution_count": 2,
   "id": "150337a4",
   "metadata": {
    "tags": [
     "hide-input"
    ]
   },
   "outputs": [
    {
     "data": {
      "image/png": "[encoded data removed]",
      "text/plain": [
       "<Figure size 640x480 with 1 Axes>"
      ]
     },
     "metadata": {},
     "output_type": "display_data"
    }
   ],
   "source": [
    "fig, ax = plt.subplots()\n",
    "# 通过原点建立坐标轴\n",
    "for spine in ['left', 'bottom']:\n",
    "    ax.spines[spine].set_position('zero')\n",
    "for spine in ['right', 'top']:\n",
    "    ax.spines[spine].set_color('none')\n",
    "\n",
    "ax.set(xlim=(-5, 5), ylim=(-5, 5))\n",
    "\n",
    "vecs = ((2, 4), (-3, 3), (-4, -3.5))\n",
    "for v in vecs:\n",
    "    ax.annotate('', xy=v, xytext=(0, 0),\n",
    "                arrowprops=dict(facecolor='blue',\n",
    "                shrink=0,\n",
    "                alpha=0.7,\n",
    "                width=0.5))\n",
    "    ax.text(1.1 * v[0], 1.1 * v[1], str(v))\n",
    "plt.show()"
   ]
  },
  {
   "cell_type": "markdown",
   "id": "c51d3466",
   "metadata": {},
   "source": [
    "### 向量运算\n",
    "\n",
    "```{index} single: Vectors; Operations\n",
    "```\n",
    "\n",
    "有时我们需要修改向量。\n",
    "\n",
    "对向量最常见的两种运算是加法和标量乘法，我们现在来描述这两种运算。\n",
    "\n",
    "当我们对两个向量进行加法运算时，我们是逐元素相加。\n",
    "\n",
    "```{prf:example}\n",
    ":label: le_ex_add\n",
    "\n",
    "$$\n",
    "\\begin{bmatrix}\n",
    "    4 \\\\\n",
    "    -2 \n",
    "\\end{bmatrix}\n",
    "+\n",
    "\\begin{bmatrix}\n",
    "    3 \\\\\n",
    "    3 \n",
    "\\end{bmatrix}\n",
    "=\n",
    "\\begin{bmatrix}\n",
    "    4 & + & 3 \\\\\n",
    "    -2 & + & 3 \n",
    "\\end{bmatrix}\n",
    "=\n",
    "\\begin{bmatrix}\n",
    "    7 \\\\\n",
    "    1\n",
    "\\end{bmatrix}.\n",
    "$$\n",
    "```\n",
    "\n",
    "一般来说，\n",
    "\n",
    "$$\n",
    "x + y =\n",
    "\\begin{bmatrix}\n",
    "    x_1 \\\\\n",
    "    x_2 \\\\\n",
    "    \\vdots \\\\\n",
    "    x_n\n",
    "\\end{bmatrix} +\n",
    "\\begin{bmatrix}\n",
    "     y_1 \\\\\n",
    "     y_2 \\\\\n",
    "    \\vdots \\\\\n",
    "     y_n\n",
    "\\end{bmatrix} :=\n",
    "\\begin{bmatrix}\n",
    "    x_1 + y_1 \\\\\n",
    "    x_2 + y_2 \\\\\n",
    "    \\vdots \\\\\n",
    "    x_n + y_n\n",
    "\\end{bmatrix}.\n",
    "$$\n",
    "\n",
    "我们可以在$\\mathbb{R}^2$中将向量加法可视化如下。"
   ]
  },
  {
   "cell_type": "code",
   "execution_count": 3,
   "id": "f8cba64a",
   "metadata": {
    "tags": [
     "hide-input"
    ]
   },
   "outputs": [
    {
     "data": {
      "image/png": "[encoded data removed]",
      "text/plain": [
       "<Figure size 640x480 with 1 Axes>"
      ]
     },
     "metadata": {},
     "output_type": "display_data"
    }
   ],
   "source": [
    "fig, ax = plt.subplots()\n",
    "# 通过原点建立坐标轴\n",
    "for spine in ['left', 'bottom']:\n",
    "    ax.spines[spine].set_position('zero')\n",
    "for spine in ['right', 'top']:\n",
    "    ax.spines[spine].set_color('none')\n",
    "\n",
    "ax.set(xlim=(-2, 10), ylim=(-4, 4))\n",
    "# ax.grid()\n",
    "vecs = ((4, -2), (3, 3), (7, 1))\n",
    "tags = ('(x1, x2)', '(y1, y2)', '(x1+x2, y1+y2)')\n",
    "colors = ('blue', 'green', 'red')\n",
    "for i, v in enumerate(vecs):\n",
    "    ax.annotate('', xy=v, xytext=(0, 0),\n",
    "                arrowprops=dict(color=colors[i],\n",
    "                shrink=0,\n",
    "                alpha=0.7,\n",
    "                width=0.5,\n",
    "                headwidth=8,\n",
    "                headlength=15))\n",
    "    ax.text(v[0] + 0.2, v[1] + 0.1, tags[i])\n",
    "\n",
    "for i, v in enumerate(vecs):\n",
    "    ax.annotate('', xy=(7, 1), xytext=v,\n",
    "                arrowprops=dict(color='gray',\n",
    "                shrink=0,\n",
    "                alpha=0.3,\n",
    "                width=0.5,\n",
    "                headwidth=5,\n",
    "                headlength=20))\n",
    "plt.show()"
   ]
  },
  {
   "cell_type": "markdown",
   "id": "18d9f7ad",
   "metadata": {},
   "source": [
    "标量乘法是一种将向量 $x$ 与一个标量进行元素级别相乘的运算。\n",
    "\n",
    "```{prf:example}\n",
    ":label: le_ex_mul\n",
    "\n",
    "$$\n",
    "-2\n",
    "\\begin{bmatrix}\n",
    "    3 \\\\\n",
    "    -7 \n",
    "\\end{bmatrix}\n",
    "=\n",
    "\\begin{bmatrix}\n",
    "    -2 & \\times & 3 \\\\\n",
    "    -2 & \\times & -7\n",
    "\\end{bmatrix}\n",
    "=\n",
    "\\begin{bmatrix}\n",
    "    -6 \\\\\n",
    "    14\n",
    "\\end{bmatrix}.\n",
    "$$\n",
    "```\n",
    "\n",
    "更一般地，它取一个数 $\\gamma$ 和一个向量 $x$，得到\n",
    "\n",
    "$$\n",
    "\\gamma x :=\n",
    "\\begin{bmatrix}\n",
    "    \\gamma x_1 \\\\\n",
    "    \\gamma x_2 \\\\\n",
    "    \\vdots \\\\\n",
    "    \\gamma x_n\n",
    "\\end{bmatrix}.\n",
    "$$\n",
    "\n",
    "标量乘法在下图中进行了说明。"
   ]
  },
  {
   "cell_type": "code",
   "execution_count": 4,
   "id": "b1707eaa",
   "metadata": {
    "tags": [
     "hide-input"
    ]
   },
   "outputs": [
    {
     "data": {
      "image/png": "[encoded data removed]",
      "text/plain": [
       "<Figure size 640x480 with 1 Axes>"
      ]
     },
     "metadata": {},
     "output_type": "display_data"
    }
   ],
   "source": [
    "fig, ax = plt.subplots()\n",
    "# 通过原点建立坐标轴\n",
    "for spine in ['left', 'bottom']:\n",
    "    ax.spines[spine].set_position('zero')\n",
    "for spine in ['right', 'top']:\n",
    "    ax.spines[spine].set_color('none')\n",
    "\n",
    "ax.set(xlim=(-5, 5), ylim=(-5, 5))\n",
    "x = (2, 2)\n",
    "ax.annotate('', xy=x, xytext=(0, 0),\n",
    "            arrowprops=dict(facecolor='blue',\n",
    "            shrink=0,\n",
    "            alpha=1,\n",
    "            width=0.5))\n",
    "ax.text(x[0] + 0.4, x[1] - 0.2, '$x$', fontsize='16')\n",
    "\n",
    "scalars = (-2, 2)\n",
    "x = np.array(x)\n",
    "\n",
    "for s in scalars:\n",
    "    v = s * x\n",
    "    ax.annotate('', xy=v, xytext=(0, 0),\n",
    "                arrowprops=dict(facecolor='red',\n",
    "                shrink=0,\n",
    "                alpha=0.5,\n",
    "                width=0.5))\n",
    "    ax.text(v[0] + 0.4, v[1] - 0.2, f'${s} x$', fontsize='16')\n",
    "plt.show()"
   ]
  },
  {
   "cell_type": "markdown",
   "id": "5adaeaba",
   "metadata": {},
   "source": [
    "在Python中，向量可以用列表或元组表示，\n",
    "例如 `x = [2, 4, 6]` 或 `x = (2, 4, 6)`。\n",
    "\n",
    "然而，更常见的是用\n",
    "[NumPy数组](https://python-programming.quantecon.org/numpy.html#numpy-arrays)来表示向量。\n",
    "\n",
    "使用NumPy数组的一个优点是标量乘法和加法的语法非常自然。"
   ]
  },
  {
   "cell_type": "code",
   "execution_count": 5,
   "id": "846cf25e",
   "metadata": {},
   "outputs": [
    {
     "data": {
      "text/plain": [
       "array([3., 5., 7.])"
      ]
     },
     "execution_count": 5,
     "metadata": {},
     "output_type": "execute_result"
    }
   ],
   "source": [
    "x = np.ones(3)            # 三个元素为一的向量\n",
    "y = np.array((2, 4, 6))   # 将 (2, 4, 6) 转换为 NumPy 数组\n",
    "x + y                     # 每个元素相加"
   ]
  },
  {
   "cell_type": "code",
   "execution_count": 6,
   "id": "7643051f",
   "metadata": {},
   "outputs": [
    {
     "data": {
      "text/plain": [
       "array([4., 4., 4.])"
      ]
     },
     "execution_count": 6,
     "metadata": {},
     "output_type": "execute_result"
    }
   ],
   "source": [
    "4 * x                     # 标量乘法"
   ]
  },
  {
   "cell_type": "markdown",
   "id": "407616dd",
   "metadata": {},
   "source": [
    "### 内积和范数\n",
    "\n",
    "```{index} single: Vectors; Inner Product\n",
    "```\n",
    "\n",
    "```{index} single: Vectors; Norm\n",
    "```\n",
    "\n",
    "向量 $x,y \\in \\mathbb R^n$ 的**内积**定义为\n",
    "\n",
    "$$\n",
    "x^\\top y = \n",
    "\\begin{bmatrix}\n",
    "    \\color{red}{x_1} & \\color{blue}{x_2} & \\cdots & x_n\n",
    "\\end{bmatrix}\n",
    "\\begin{bmatrix}\n",
    "    \\color{red}{y_1} \\\\\n",
    "    \\color{blue}{y_2} \\\\\n",
    "    \\vdots \\\\\n",
    "    y_n\n",
    "\\end{bmatrix}\n",
    "= {\\color{red}{x_1 y_1}} + {\\color{blue}{x_2 y_2}} + \\cdots + x_n y_n\n",
    ":= \\sum_{i=1}^n x_i y_i.\n",
    "$$\n",
    "\n",
    "向量 $x$ 的**范数**表示其\"长度\"（即，其与零向量的距离），定义为\n",
    "\n",
    "$$\n",
    "    \\| x \\| := \\sqrt{x^\\top x} := \\left( \\sum_{i=1}^n x_i^2 \\right)^{1/2}.\n",
    "$$\n",
    "\n",
    "表达式 $\\| x - y\\|$ 可以被理解为 $x$ 和 $y$ 之间的\"距离\"。\n",
    "\n",
    "内积和范数可以按以下方式计算"
   ]
  },
  {
   "cell_type": "code",
   "execution_count": 7,
   "id": "74f550b9",
   "metadata": {},
   "outputs": [
    {
     "data": {
      "text/plain": [
       "12.0"
      ]
     },
     "execution_count": 7,
     "metadata": {},
     "output_type": "execute_result"
    }
   ],
   "source": [
    "np.sum(x*y)      # x和y的内积"
   ]
  },
  {
   "cell_type": "code",
   "execution_count": 8,
   "id": "653ff136",
   "metadata": {},
   "outputs": [
    {
     "data": {
      "text/plain": [
       "12.0"
      ]
     },
     "execution_count": 8,
     "metadata": {},
     "output_type": "execute_result"
    }
   ],
   "source": [
    "x @ y            # 另外一种计算内积的办法"
   ]
  },
  {
   "cell_type": "code",
   "execution_count": 9,
   "id": "7b60b16e",
   "metadata": {},
   "outputs": [
    {
     "data": {
      "text/plain": [
       "1.7320508075688772"
      ]
     },
     "execution_count": 9,
     "metadata": {},
     "output_type": "execute_result"
    }
   ],
   "source": [
    "np.sqrt(np.sum(x**2))  # x的范数，方法一"
   ]
  },
  {
   "cell_type": "code",
   "execution_count": 10,
   "id": "33ccaee2",
   "metadata": {},
   "outputs": [
    {
     "data": {
      "text/plain": [
       "1.7320508075688772"
      ]
     },
     "execution_count": 10,
     "metadata": {},
     "output_type": "execute_result"
    }
   ],
   "source": [
    "np.linalg.norm(x)      # x的范数，方法二"
   ]
  },
  {
   "cell_type": "markdown",
   "id": "fafe7ebe",
   "metadata": {},
   "source": [
    "## 矩阵运算\n",
    "\n",
    "```{index} single: Matrix; Operations\n",
    "```\n",
    "\n",
    "当我们讨论线性价格方程组时，我们提到了使用矩阵代数。\n",
    "\n",
    "矩阵代数类似于算术代数。\n",
    "\n",
    "让我们回顾一些细节。\n",
    "\n",
    "### 加法和标量乘法\n",
    "\n",
    "就像向量一样，我们可以对矩阵进行加法、减法和标量乘法。\n",
    "\n",
    "标量乘法和加法是向量情况的推广：\n",
    "\n",
    "```{prf:example}\n",
    ":label: le_ex_asm\n",
    "\n",
    "$$\n",
    "3\n",
    "\\begin{bmatrix}\n",
    "    2 & -13 \\\\\n",
    "    0 & 5\n",
    "\\end{bmatrix}\n",
    "=\n",
    "\\begin{bmatrix}\n",
    "    6 & -39 \\\\\n",
    "    0 & 15\n",
    "\\end{bmatrix}.\n",
    "$$\n",
    "```\n",
    "\n",
    "一般来说，对于任意数 $\\gamma$ 和任意矩阵 $A$，\n",
    "\n",
    "$$\n",
    "\\gamma A =\n",
    "\\gamma\n",
    "\\begin{bmatrix}\n",
    "    a_{11} &  \\cdots & a_{1k} \\\\\n",
    "    \\vdots & \\vdots  & \\vdots \\\\\n",
    "    a_{n1} &  \\cdots & a_{nk}\n",
    "\\end{bmatrix} :=\n",
    "\\begin{bmatrix}\n",
    "    \\gamma a_{11} & \\cdots & \\gamma a_{1k} \\\\\n",
    "    \\vdots & \\vdots & \\vdots \\\\\n",
    "    \\gamma a_{n1} & \\cdots & \\gamma a_{nk}\n",
    "\\end{bmatrix}.\n",
    "$$\n",
    "\n",
    "```{prf:example}\n",
    ":label: le_ex_ma\n",
    "\n",
    "考虑这个矩阵加法的例子，\n",
    "\n",
    "$$\n",
    "\\begin{bmatrix}\n",
    "    1 & 5 \\\\\n",
    "    7 & 3 \\\\\n",
    "\\end{bmatrix}\n",
    "+\n",
    "\\begin{bmatrix}\n",
    "    12 & -1 \\\\\n",
    "    0 & 9\n",
    "\\end{bmatrix}\n",
    "=\n",
    "\\begin{bmatrix}\n",
    "    13 & 4 \\\\\n",
    "    7 & 12\n",
    "\\end{bmatrix}.\n",
    "$$\n",
    "```\n",
    "\n",
    "一般来说，\n",
    "\n",
    "$$\n",
    "A + B =\n",
    "\\begin{bmatrix}\n",
    "    a_{11} & \\cdots & a_{1k} \\\\\n",
    "    \\vdots & \\vdots & \\vdots \\\\\n",
    "    a_{n1} & \\cdots & a_{nk}\n",
    "\\end{bmatrix} +\n",
    "\\begin{bmatrix}\n",
    "    b_{11} & \\cdots & b_{1k} \\\\\n",
    "    \\vdots & \\vdots & \\vdots \\\\\n",
    "    b_{n1} & \\cdots & b_{nk}\n",
    "\\end{bmatrix} :=\n",
    "\\begin{bmatrix}\n",
    "    a_{11} + b_{11} &  \\cdots & a_{1k} + b_{1k} \\\\\n",
    "    \\vdots & \\vdots & \\vdots \\\\\n",
    "    a_{n1} + b_{n1} &  \\cdots & a_{nk} + b_{nk}\n",
    "\\end{bmatrix}.\n",
    "$$\n",
    "\n",
    "在后一种情况下，矩阵必须具有相同的形状才能使定义有意义。\n",
    "\n",
    "### 矩阵乘法\n",
    "\n",
    "我们还有一个*相乘*两个矩阵的约定。\n",
    "\n",
    "矩阵乘法的规则推广了上面讨论的内积的概念。\n",
    "\n",
    "如果 $A$ 和 $B$ 是两个矩阵，那么它们的乘积 $A B$ 的形成是通过取 $A$ 的第 $i$ 行和 $B$ 的第 $j$ 列的内积作为其第 $i,j$ 个元素。\n",
    "\n",
    "如果 $A$ 是 $n \\times k$ 的，$B$ 是 $j \\times m$ 的，那么要相乘 $A$ 和 $B$，我们需要 $k = j$，而得到的矩阵 $A B$ 是 $n \\times m$ 的。\n",
    "\n",
    "```{prf:example}\n",
    ":label: le_ex_2dmul\n",
    "\n",
    "这里是一个 $2 \\times 2$ 矩阵乘以 $2 \\times 1$ 向量的例子。\n",
    "\n",
    "$$\n",
    "Ax =\n",
    "\\begin{bmatrix}\n",
    "    \\color{red}{a_{11}} & \\color{red}{a_{12}} \\\\\n",
    "    a_{21} & a_{22}\n",
    "\\end{bmatrix}\n",
    "\\begin{bmatrix}\n",
    "    \\color{red}{x_1} \\\\\n",
    "    \\color{red}{x_2}\n",
    "\\end{bmatrix}\n",
    "=\n",
    "\\begin{bmatrix}\n",
    "    \\color{red}{a_{11}x_1 + a_{12}x_2} \\\\\n",
    "    a_{21}x_1 + a_{22}x_2\n",
    "\\end{bmatrix}\n",
    "$$\n",
    "```\n",
    "\n",
    "作为一个重要的特殊情况，考虑将 $n \\times k$ 矩阵 $A$ 和 $k \\times 1$ 列向量 $x$ 相乘。\n",
    "\n",
    "根据前面的规则，结果是一个 $n \\times 1$ 列向量。\n",
    "\n",
    "```{math}\n",
    ":label: la_atx\n",
    "\n",
    "A x =\n",
    "{\\begin{bmatrix}\n",
    "    a_{11} & a_{12} &  \\cdots & a_{1k} \\\\\n",
    "    \\vdots & \\vdots & & \\vdots \\\\\n",
    "    \\color{red}{a_{i1}} & \\color{red}{a_{i2}} & \\color{red}{\\cdots} & \\color{red}{a_{i}k} \\\\\n",
    "    \\vdots & \\vdots & & \\vdots \\\\\n",
    "    a_{n1} & a_{n2} & \\cdots & a_{nk}\n",
    "\\end{bmatrix}}_{n \\times k}\n",
    "{\\begin{bmatrix}\n",
    "    \\color{red}{x_{1}}  \\\\\n",
    "    \\color{red}{x_{2}}  \\\\\n",
    "    \\color{red}{\\vdots} \\\\\n",
    "    \\color{red}{\\vdots}  \\\\\n",
    "    \\color{red}{x_{k}}\n",
    "\\end{bmatrix}}_{k \\times 1} :=\n",
    "{\\begin{bmatrix}\n",
    "    a_{11} x_1 + a_{22} x_2 + \\cdots + a_{1k} x_k \\\\\n",
    "    \\vdots \\\\\n",
    "    \\color{red}{a_{i1} x_1 + a_{i2} x_2 + \\cdots + a_{ik} x_k} \\\\\n",
    "    \\vdots \\\\\n",
    "    a_{n1} x_1 + a_{n2} x_2 + \\cdots + a_{nk} x_k\n",
    "\\end{bmatrix}}_{n \\times 1}\n",
    "```\n",
    "\n",
    "下面展示了两个矩阵的乘法。\n",
    "\n",
    "$$\n",
    "AB =\n",
    "\\begin{bmatrix}\n",
    "    a_{11} & a_{12} \\\\\n",
    "    \\color{red}{a_{21}} & \\color{red}{a_{22}} \\\\\n",
    "\\end{bmatrix}\n",
    "\\begin{bmatrix}\n",
    "    b_{11} & \\color{red}{b_{12}} \\\\\n",
    "    b_{21} & \\color{red}{b_{22}} \\\\\n",
    "\\end{bmatrix} :=\n",
    "\\begin{bmatrix}\n",
    "    a_{11}b_{11} + a_{12}b_{21} & a_{11}b_{12} + a_{12}b_{22} \\\\\n",
    "    a_{21}b_{11} + a_{22}b_{21} & \\color{red}{a_{21}b_{12} + a_{22}b_{22}}\n",
    "\\end{bmatrix}\n",
    "$$\n",
    "\n",
    "有许多教程可以帮助你进一步可视化这个操作，例如\n",
    "\n",
    "* [这个教程](http://www.mathsisfun.com/algebra/matrix-multiplying.html)，或者\n",
    "* [维基百科页面](https://en.wikipedia.org/wiki/Matrix_multiplication)上的讨论。\n",
    "\n",
    "```{note}\n",
    "与数字乘积不同，$A B$ 和 $B A$ 通常不相等。\n",
    "```\n",
    "\n",
    "一个重要的特殊情况是[单位矩阵](https://en.wikipedia.org/wiki/Identity_matrix)，它在主对角线上有 1，其他地方都是 0：\n",
    "\n",
    "$$\n",
    "    I = \n",
    "    \\begin{bmatrix}\n",
    "        1 & \\cdots & 0 \\\\\n",
    "        \\vdots & \\ddots & \\vdots \\\\\n",
    "        0 &  \\cdots & 1\n",
    "    \\end{bmatrix}\n",
    "$$\n",
    "\n",
    "作为练习请验证以下内容：\n",
    "\n",
    "* 如果 $A$ 是 $n \\times k$ 矩阵，$I$ 是 $k \\times k$ 单位矩阵，那么 $AI = A$，并且\n",
    "* 如果 $I$ 是 $n \\times n$ 单位矩阵，那么 $IA = A$。\n",
    "\n",
    "\n",
    "###  NumPy中的矩阵\n",
    "\n",
    "```{index} single: Matrix; Numpy\n",
    "```\n",
    "NumPy 数组也被用作矩阵，并且对所有标准矩阵运算都有快速、高效的函数和方法。\n",
    "\n",
    "你可以通过以下方式从元组的元组（或列表的列表）手动创建它们"
   ]
  },
  {
   "cell_type": "code",
   "execution_count": 11,
   "id": "96a88c59",
   "metadata": {},
   "outputs": [
    {
     "data": {
      "text/plain": [
       "tuple"
      ]
     },
     "execution_count": 11,
     "metadata": {},
     "output_type": "execute_result"
    }
   ],
   "source": [
    "A = ((1, 2),\n",
    "     (3, 4))\n",
    "\n",
    "type(A)"
   ]
  },
  {
   "cell_type": "code",
   "execution_count": 12,
   "id": "36e658b0",
   "metadata": {},
   "outputs": [
    {
     "data": {
      "text/plain": [
       "numpy.ndarray"
      ]
     },
     "execution_count": 12,
     "metadata": {},
     "output_type": "execute_result"
    }
   ],
   "source": [
    "A = np.array(A)\n",
    "\n",
    "type(A)"
   ]
  },
  {
   "cell_type": "code",
   "execution_count": 13,
   "id": "6cff6d69",
   "metadata": {},
   "outputs": [
    {
     "data": {
      "text/plain": [
       "(2, 2)"
      ]
     },
     "execution_count": 13,
     "metadata": {},
     "output_type": "execute_result"
    }
   ],
   "source": [
    "A.shape"
   ]
  },
  {
   "cell_type": "markdown",
   "id": "57ac29c5",
   "metadata": {},
   "source": [
    "`shape` 属性是一个给出行数和列数的元组 --- \n",
    "更多讨论请参见[这里](https://python-programming.quantecon.org/numpy.html#shape-and-dimension)。\n",
    "\n",
    "要获得 `A` 的转置，使用 `A.transpose()` 或更简单地使用 `A.T`。\n",
    "\n",
    "有许多方便的函数用于创建常见矩阵（零矩阵、单位矩阵等） --- 请参见[这里](https://python-programming.quantecon.org/numpy.html#creating-arrays)。\n",
    "\n",
    "由于默认情况下操作是按元素执行的，标量乘法和加法具有非常自然的语法。"
   ]
  },
  {
   "cell_type": "code",
   "execution_count": 14,
   "id": "0d893796",
   "metadata": {},
   "outputs": [
    {
     "data": {
      "text/plain": [
       "array([[2., 0., 0.],\n",
       "       [0., 2., 0.],\n",
       "       [0., 0., 2.]])"
      ]
     },
     "execution_count": 14,
     "metadata": {},
     "output_type": "execute_result"
    }
   ],
   "source": [
    "A = np.identity(3)    # 3 x 3 单位矩阵\n",
    "B = np.ones((3, 3))   # 3 x 3 元素为一的矩阵\n",
    "2 * A"
   ]
  },
  {
   "cell_type": "code",
   "execution_count": 15,
   "id": "a12d88d6",
   "metadata": {},
   "outputs": [
    {
     "data": {
      "text/plain": [
       "array([[2., 1., 1.],\n",
       "       [1., 2., 1.],\n",
       "       [1., 1., 2.]])"
      ]
     },
     "execution_count": 15,
     "metadata": {},
     "output_type": "execute_result"
    }
   ],
   "source": [
    "A + B"
   ]
  },
  {
   "cell_type": "markdown",
   "id": "2f011dd0",
   "metadata": {},
   "source": [
    "我们用 `@` 来进行矩阵乘法。\n",
    "\n",
    "\n",
    "```{note}\n",
    "其中 `A @ B` 是矩阵乘法, 但是 `A * B`是每个元素之间的运算。\n",
    "```\n",
    "\n",
    "### 矩阵形式的两种商品模型\n",
    "\n",
    "我们现在可以重新审视两种商品模型，并通过矩阵代数数值求解 {eq}`two_equilibrium` 方程。\n",
    "\n",
    "这涉及一些额外的步骤，但这种方法广泛适用，我们将在求解包含更多商品时用上。\n",
    "\n",
    "首先，我们将 {eq}`two_eq_demand` 重写为\n",
    "\n",
    "```{math}\n",
    ":label: two_eq_demand_mat\n",
    "\n",
    "    q^d = D p + h\n",
    "    \\quad \\text{where} \\quad\n",
    "    q^d = \n",
    "    \\begin{bmatrix}\n",
    "        q_0^d \\\\\n",
    "        q_1^d\n",
    "    \\end{bmatrix}\n",
    "    \\quad\n",
    "    D = \n",
    "    \\begin{bmatrix}\n",
    "         -10 & - 5  \\\\\n",
    "         - 1  & - 10  \n",
    "    \\end{bmatrix}\n",
    "    \\quad \\text{and} \\quad\n",
    "    h =\n",
    "    \\begin{bmatrix}\n",
    "        100 \\\\\n",
    "        50\n",
    "    \\end{bmatrix}.\n",
    "```\n",
    "\n",
    "回想一下，$p \\in \\mathbb{R}^{2}$ 是两种商品的价格。\n",
    "\n",
    "（请检查 $q^d = D p + h$ 是否表示与 {eq}`two_eq_demand` 相同的方程。）\n",
    "\n",
    "我们将 {eq}`two_eq_supply` 重写为\n",
    "\n",
    "```{math}\n",
    ":label: two_eq_supply_mat\n",
    "\n",
    "    q^s = C p \n",
    "    \\quad \\text{where} \\quad\n",
    "    q^s = \n",
    "    \\begin{bmatrix}\n",
    "        q_0^s \\\\\n",
    "        q_1^s\n",
    "    \\end{bmatrix}\n",
    "    \\quad \\text{and} \\quad\n",
    "    C = \n",
    "    \\begin{bmatrix}\n",
    "         10 & 5  \\\\\n",
    "         5 & 10  \n",
    "    \\end{bmatrix}.\n",
    "```\n",
    "\n",
    "现在供给和需求的相等可以表示为 $q^s = q^d$，或\n",
    "\n",
    "$$\n",
    "    C p = D p + h.\n",
    "$$\n",
    "\n",
    "我们可以重新排列这些项得到\n",
    "\n",
    "$$\n",
    "    (C - D) p = h.\n",
    "$$\n",
    "\n",
    "如果所有项都是数字，我们可以求解价格为 $p = h / (C-D)$。\n",
    "\n",
    "矩阵代数允许我们做类似的事情：我们可以使用 $C - D$ 的逆矩阵来求解均衡价格：\n",
    "\n",
    "```{math}\n",
    ":label: two_matrix\n",
    "\n",
    "p = (C - D)^{-1} h.\n",
    "```\n",
    "\n",
    "在我们实施解决方案之前，让我们考虑一个更一般的问题。\n",
    "\n",
    "### 更多商品\n",
    "\n",
    "考虑有更多商品的需求系统是很自然的。\n",
    "\n",
    "例如，即使在能源商品中也有许多不同的商品，\n",
    "包括原油、汽油、煤炭、天然气、乙醇和铀。\n",
    "\n",
    "这些商品的价格是相关的，所以一起研究它们是有意义的。\n",
    "\n",
    "对于大型系统，纸笔方法会变得非常耗时。\n",
    "\n",
    "但幸运的是，上面描述的矩阵方法基本上保持不变。\n",
    "\n",
    "一般来说，我们可以将需求方程写为 $q^d = Dp + h$，其中\n",
    "\n",
    "* $q^d$ 是一个 $n \\times 1$ 的向量，表示 $n$ 种不同商品的需求量。\n",
    "* $D$ 是一个 $n \\times n$ 的\"系数\"矩阵。\n",
    "* $h$ 是一个 $n \\times 1$ 的常数值向量。\n",
    "\n",
    "类似地，我们可以将供给方程写为 $q^s = Cp + e$，其中\n",
    "\n",
    "* $q^s$ 是一个 $n \\times 1$ 的向量，表示相同商品的供给量。\n",
    "* $C$ 是一个 $n \\times n$ 的\"系数\"矩阵。\n",
    "* $e$ 是一个 $n \\times 1$ 的常数值向量。\n",
    "\n",
    "为了找到均衡，我们求解 $Dp + h = Cp + e$，或\n",
    "\n",
    "```{math}\n",
    ":label: n_eq_sys_la\n",
    "\n",
    "    (D- C)p = e - h.\n",
    "```\n",
    "\n",
    "那么，n 种不同商品的价格向量是\n",
    "\n",
    "$$ \n",
    "    p = (D- C)^{-1}(e - h).\n",
    "$$\n",
    "\n",
    "### 一般线性系统\n",
    "\n",
    "上述问题的一个更一般版本看起来如下。\n",
    "\n",
    "```{math}\n",
    ":label: la_se\n",
    "\n",
    "\\begin{matrix}\n",
    "    a_{11} x_1 & + & a_{12} x_2 & + & \\cdots & + & a_{1n} x_n & = & b_1 \\\\\n",
    "    \\vdots & & \\vdots & & & & \\vdots & & \\vdots \\\\\n",
    "    a_{n1} x_1 & + & a_{n2} x_2 & + & \\cdots & + & a_{nn} x_n & = & b_n\n",
    "\\end{matrix}\n",
    "```\n",
    "\n",
    "这里的目标是解出\"未知数\" $x_1, \\ldots, x_n$。\n",
    "\n",
    "我们给定系数 $a_{11}, \\ldots, a_{nn}$ 和常数 $b_1, \\ldots, b_n$。\n",
    "\n",
    "注意，我们处理的是未知数数量等于方程数量的情况。\n",
    "\n",
    "这是我们最有可能找到明确定义解的情况。\n",
    "\n",
    "（其他情况被称为[超定](https://en.wikipedia.org/wiki/Overdetermined_system)和[欠定](https://en.wikipedia.org/wiki/Underdetermined_system)方程组 --- 我们将在后续讲座中讨论这些情况。）\n",
    "\n",
    "用矩阵形式表示，方程组 {eq}`la_se` 变为\n",
    "\n",
    "```{math}\n",
    ":label: la_gf\n",
    "\n",
    "    A x = b\n",
    "    \\quad \\text{where} \\quad\n",
    "    A = \n",
    "    \\begin{bmatrix}\n",
    "        a_{11} &  \\cdots & a_{1n} \\\\\n",
    "        \\vdots & \\vdots  & \\vdots \\\\\n",
    "        a_{n1} &  \\cdots & a_{nn}\n",
    "    \\end{bmatrix}\n",
    "    \\quad \\text{and} \\quad\n",
    "    b =\n",
    "    \\begin{bmatrix}\n",
    "        b_1 \\\\\n",
    "        \\vdots \\\\\n",
    "        b_n\n",
    "    \\end{bmatrix}.\n",
    "```\n",
    "\n",
    "例如，{eq}`n_eq_sys_la` 具有这种形式，其中\n",
    "\n",
    "$$\n",
    "    A = D - C,\n",
    "    \\quad\n",
    "    b = e - h\n",
    "    \\quad \\text{和} \\quad\n",
    "    x = p.\n",
    "$$\n",
    "\n",
    "当考虑诸如 {eq}`la_gf` 这样的问题时，我们至少需要问以下一些问题：\n",
    "\n",
    "* 解是否真的存在？\n",
    "* 如果解存在，我们应该如何计算它？\n",
    "\n",
    "## 解方程组\n",
    "\n",
    "```{index} single: Matrix; Solving Systems of Equations\n",
    "```\n",
    "\n",
    "再次回顾方程组 {eq}`la_se`，我们在此重新写为\n",
    "\n",
    "```{math}\n",
    ":label: la_se2\n",
    "\n",
    "    A x = b\n",
    "```\n",
    "\n",
    "我们面临的问题是找到一个向量 $x \\in \\mathbb R^n$，使其解决 {eq}`la_se2` ，其中 $b$ 和 $A$ 是给定的。\n",
    "\n",
    "我们可能并不总能找到一个唯一的向量 $x$ 来解决 {eq}`la_se2` 。\n",
    "\n",
    "我们在下面举例说明两种这样的情况。\n",
    "\n",
    "### 无解\n",
    "\n",
    "考虑由以下给出的方程组：\n",
    "\n",
    "$$\n",
    "\\begin{aligned}\n",
    "    x + 3y &= 3 \\\\\n",
    "    2x + 6y &= -8.\n",
    "\\end{aligned}\n",
    "$$\n",
    "\n",
    "可以手动验证这个系统没有可能的解。\n",
    "\n",
    "为了说明为什么会出现这种情况，让我们绘制这两条直线。"
   ]
  },
  {
   "cell_type": "code",
   "execution_count": 16,
   "id": "8a2bd82b",
   "metadata": {},
   "outputs": [
    {
     "data": {
      "image/png": "[encoded data removed]",
      "text/plain": [
       "<Figure size 640x480 with 1 Axes>"
      ]
     },
     "metadata": {},
     "output_type": "display_data"
    }
   ],
   "source": [
    "fig, ax = plt.subplots()\n",
    "x = np.linspace(-10, 10)\n",
    "plt.plot(x, (3-x)/3, label=f'$x + 3y = 3$')\n",
    "plt.plot(x, (-8-2*x)/6, label=f'$2x + 6y = -8$')\n",
    "plt.legend()\n",
    "plt.show()"
   ]
  },
  {
   "cell_type": "markdown",
   "id": "cbba0bff",
   "metadata": {
    "tags": []
   },
   "source": [
    "显然，这些是平行线，因此我们永远无法找到一个点 $x \\in \\mathbb{R}^2$ 使得这些线相交。\n",
    "\n",
    "因此，这个系统没有可能的解。\n",
    "\n",
    "我们可以将这个系统用矩阵形式重写为\n",
    "\n",
    "```{math}\n",
    ":label: no_soln\n",
    "\n",
    "    A x = b\n",
    "    \\quad \\text{where} \\quad\n",
    "    A =\n",
    "    \\begin{bmatrix}\n",
    "        1 & 3 \\\\\n",
    "        2 & 6 \n",
    "    \\end{bmatrix}\n",
    "    \\quad \\text{and} \\quad\n",
    "    b =\n",
    "    \\begin{bmatrix}\n",
    "        3 \\\\\n",
    "        -8\n",
    "    \\end{bmatrix}.\n",
    "```\n",
    "\n",
    "可以注意到，矩阵 $A$ 的第 $2$ 行 $(2, 6)$ 只是第 $1$ 行 $(1, 3)$ 的标量倍数。\n",
    "\n",
    "在这种情况下，矩阵 $A$ 的行被称为**线性相关的。**\n",
    "\n",
    "```{note}\n",
    "读者可以在[这里](https://python.quantecon.org/linear_algebra.html#linear-independence)找到关于线性相关和线性无关的详细解释。\n",
    "\n",
    "但在接下来的内容中不需要这些细节。\n",
    "\n",
    "```\n",
    "\n",
    "\n",
    "### 多解\n",
    "\n",
    "现在考虑，\n",
    "\n",
    "$$\n",
    "\\begin{aligned}\n",
    "    x - 2y &= -4 \\\\\n",
    "    -2x + 4y &= 8.\n",
    "\\end{aligned}\n",
    "$$\n",
    "\n",
    "任何满足 $x = 2y - 4$ 的向量 $v = (x,y)$ 都将解决上述系统。\n",
    "\n",
    "由于我们可以找到无限多个这样的向量，这个系统有无穷多个解。\n",
    "\n",
    "这是因为对应矩阵的行\n",
    "\n",
    "```{math}\n",
    ":label: many_solns\n",
    "\n",
    "    A =\n",
    "    \\begin{bmatrix}\n",
    "        1 & -2 \\\\\n",
    "        -2 & 4\n",
    "    \\end{bmatrix}.\n",
    "```\n",
    "\n",
    "是线性相关的 --- 你能看出为什么吗？\n",
    "\n",
    "我们现在对 {eq}`la_se2` 中的 $A$ 施加条件，以排除这些问题。\n",
    "\n",
    "### 非奇异矩阵\n",
    "\n",
    "对于每个方阵，我们都可以指定一个唯一的数，称为[行列式](https://en.wikipedia.org/wiki/Determinant)。\n",
    "\n",
    "对于 $2 \\times 2$ 矩阵，行列式由以下公式给出：\n",
    "\n",
    "$$\n",
    "\\begin{bmatrix}\n",
    "    \\color{red}{a} & \\color{blue}{b} \\\\\n",
    "    \\color{blue}{c} & \\color{red}{d}\n",
    "\\end{bmatrix}\n",
    "=\n",
    "{\\color{red}{ad}} - {\\color{blue}{bc}}.\n",
    "$$\n",
    "\n",
    "如果 $A$ 的行列式不为零，我们就说 $A$ 是*非奇异的*。\n",
    "\n",
    "当且仅当 $A$ 的行和列是线性无关的，方阵 $A$ 才是非奇异的。\n",
    "\n",
    "关于矩阵逆的更详细解释可以在[这里](https://www.mathsisfun.com/algebra/matrix-inverse.html)找到。\n",
    "\n",
    "你可以自己检查 {eq}`no_soln` 和 {eq}`many_solns` 中具有线性相关行的矩阵是奇异矩阵。\n",
    "\n",
    "这为我们提供了一个有用的单数值标准，用来判断一个方阵是否可逆。\n",
    "\n",
    "特别地，方阵 $A$ 具有非零行列式，当且仅当它具有*逆矩阵* $A^{-1}$，满足 $A A^{-1} = A^{-1} A = I$。\n",
    "\n",
    "因此，如果我们用 $A^{-1}$ 左乘 $Ax = b$ 的两边，我们得到\n",
    "\n",
    "```{math}\n",
    ":label: la_se_inv\n",
    "\n",
    "    x = A^{-1} b.\n",
    "```\n",
    "\n",
    "这是对 $Ax = b$ 的解答 --- 这就是我们要寻找的解。\n",
    "\n",
    "### 使用NumPy求解线性方程\n",
    "\n",
    "```{index} single: Linear Algebra; SciPy\n",
    "```\n",
    "\n",
    "根据上述例子中，我们得到了矩阵方程：\n",
    "\n",
    "$$\n",
    "p = (C-D)^{-1} h.\n",
    "$$\n",
    "\n",
    "其中 $C$、$D$ 和 $h$ 由 {eq}`two_eq_demand_mat` 和 {eq}`two_eq_supply_mat` 给出。\n",
    "\n",
    "这个方程类似于 {eq}`la_se_inv`，其中 $A = (C-D)^{-1}$，$b = h$，且 $x = p$。\n",
    "\n",
    "我们现在可以使用NumPy的`linalg`子模块求解均衡价格。\n",
    "\n",
    "所有这些程序都是经过时间考验和高度优化的FORTRAN代码的Python前端。"
   ]
  },
  {
   "cell_type": "code",
   "execution_count": 17,
   "id": "fc4d8f52",
   "metadata": {},
   "outputs": [],
   "source": [
    "C = ((10, 5),      # 矩阵 C\n",
    "     (5, 10))"
   ]
  },
  {
   "cell_type": "markdown",
   "id": "9d2257b1",
   "metadata": {},
   "source": [
    "现在我们把它录入到NumPy数组中。"
   ]
  },
  {
   "cell_type": "code",
   "execution_count": 18,
   "id": "5694f547",
   "metadata": {},
   "outputs": [],
   "source": [
    "C = np.array(C)"
   ]
  },
  {
   "cell_type": "code",
   "execution_count": 19,
   "id": "e279547b",
   "metadata": {},
   "outputs": [],
   "source": [
    "D = ((-10, -5),     # 矩阵 D\n",
    "     (-1, -10))\n",
    "D = np.array(D)"
   ]
  },
  {
   "cell_type": "code",
   "execution_count": 20,
   "id": "82d9b329",
   "metadata": {},
   "outputs": [],
   "source": [
    "h = np.array((100, 50))   # 向量 h\n",
    "h.shape = 2,1             # 将h转换为列向量"
   ]
  },
  {
   "cell_type": "code",
   "execution_count": 21,
   "id": "b3394074",
   "metadata": {},
   "outputs": [
    {
     "data": {
      "text/plain": [
       "340.0000000000001"
      ]
     },
     "execution_count": 21,
     "metadata": {},
     "output_type": "execute_result"
    }
   ],
   "source": [
    "from numpy.linalg import det, inv\n",
    "A = C - D\n",
    "#检查A是否为奇异矩阵（行列式是否为零），是否可逆\n",
    "det(A)"
   ]
  },
  {
   "cell_type": "code",
   "execution_count": 22,
   "id": "01ad69d9",
   "metadata": {},
   "outputs": [
    {
     "data": {
      "text/plain": [
       "array([[ 0.05882353, -0.02941176],\n",
       "       [-0.01764706,  0.05882353]])"
      ]
     },
     "execution_count": 22,
     "metadata": {},
     "output_type": "execute_result"
    }
   ],
   "source": [
    "A_inv = inv(A)  #计算逆矩阵\n",
    "A_inv"
   ]
  },
  {
   "cell_type": "code",
   "execution_count": 23,
   "id": "358440ef",
   "metadata": {},
   "outputs": [
    {
     "data": {
      "text/plain": [
       "array([[4.41176471],\n",
       "       [1.17647059]])"
      ]
     },
     "execution_count": 23,
     "metadata": {},
     "output_type": "execute_result"
    }
   ],
   "source": [
    "p = A_inv @ h  #均衡价格\n",
    "p"
   ]
  },
  {
   "cell_type": "code",
   "execution_count": 24,
   "id": "7458d28e",
   "metadata": {},
   "outputs": [
    {
     "data": {
      "text/plain": [
       "array([[50.        ],\n",
       "       [33.82352941]])"
      ]
     },
     "execution_count": 24,
     "metadata": {},
     "output_type": "execute_result"
    }
   ],
   "source": [
    "q = C @ p  # 均衡数量\n",
    "q"
   ]
  },
  {
   "cell_type": "markdown",
   "id": "609cbf41",
   "metadata": {},
   "source": [
    "注意，我们得到的解与纸笔计算的情况相同。\n",
    "\n",
    "我们还可以使用 `solve(A, h)` 来求解 $p$，如下所示。"
   ]
  },
  {
   "cell_type": "code",
   "execution_count": 25,
   "id": "4da6523b",
   "metadata": {},
   "outputs": [
    {
     "data": {
      "text/plain": [
       "array([[4.41176471],\n",
       "       [1.17647059]])"
      ]
     },
     "execution_count": 25,
     "metadata": {},
     "output_type": "execute_result"
    }
   ],
   "source": [
    "from numpy.linalg import solve\n",
    "p = solve(A, h)  # 均衡价格\n",
    "p"
   ]
  },
  {
   "cell_type": "code",
   "execution_count": 26,
   "id": "67582a2e",
   "metadata": {},
   "outputs": [
    {
     "data": {
      "text/plain": [
       "array([[50.        ],\n",
       "       [33.82352941]])"
      ]
     },
     "execution_count": 26,
     "metadata": {},
     "output_type": "execute_result"
    }
   ],
   "source": [
    "q = C @ p  # 均衡数量\n",
    "q"
   ]
  },
  {
   "cell_type": "markdown",
   "id": "cf2d983c",
   "metadata": {},
   "source": [
    "观察我们如何通过 `inv(A) @ y` 或使用 `solve(A, y)` 来求解 $x = A^{-1} y$。\n",
    "\n",
    "后一种方法使用了一种不同的算法，在数值上更加稳定，因此应该是默认选项。\n",
    "\n",
    "\n",
    "## 练习\n",
    "```{exercise-start}\n",
    ":label: lin_eqs_ex1\n",
    "```\n",
    "让我们考虑一个有3种商品的市场 - 商品0、商品1和商品2。\n",
    "\n",
    "每种商品的需求取决于其他两种商品的价格，由以下公式给出：\n",
    "\n",
    "$$\n",
    "\\begin{aligned}\n",
    "    q_0^d & = 90 - 15p_0 + 5p_1 + 5p_2 \\\\\n",
    "    q_1^d & = 60 + 5p_0 - 10p_1 + 10p_2 \\\\\n",
    "    q_2^d & = 50 + 5p_0 + 5p_1 - 5p_2\n",
    "\\end{aligned}\n",
    "$$\n",
    "\n",
    "（这里，当自身价格上涨时需求下降，但当其他商品价格上涨时需求增加。）\n",
    "\n",
    "每种商品的供给由以下公式给出：\n",
    "\n",
    "$$\n",
    "\\begin{aligned}\n",
    "    q_0^s & = -10 + 20p_0 \\\\\n",
    "    q_1^s & = -15 + 15p_1 \\\\\n",
    "    q_2^s & =  -5 + 10p_2\n",
    "\\end{aligned}\n",
    "$$\n",
    "\n",
    "当供给等于需求时，市场达到均衡，即 $q_0^d = q_0^s$，$q_1^d = q_1^s$ 和 $q_2^d = q_2^s$。\n",
    "\n",
    "1. 将市场均衡条件设置为线性方程组。\n",
    "2. 使用矩阵代数求解均衡价格。分别使用 `numpy.linalg.solve` 和 `inv(A)` 方法来做这个。比较这两种解法。\n",
    "\n",
    "```{exercise-end}\n",
    "```\n",
    "```{solution-start} lin_eqs_ex1\n",
    ":class: dropdown\n",
    "```\n",
    "生成的系统将是：\n",
    "\n",
    "$$\n",
    "\\begin{aligned}\n",
    "    35p_0 - 5p_1 - 5p_2 = 100 \\\\\n",
    "    -5p_0 + 25p_1 - 10p_2 = 75 \\\\\n",
    "    -5p_0 - 5p_1 + 15p_2 = 55\n",
    "\\end{aligned}\n",
    "$$\n",
    "\n",
    "用矩阵形式，我们将其表示为：\n",
    "\n",
    "$$\n",
    "Ap = b\n",
    "\\quad \\text{其中} \\quad\n",
    "A =\n",
    "\\begin{bmatrix}\n",
    "    35 & -5 & -5 \\\\\n",
    "    -5 & 25 & -10 \\\\\n",
    "    -5 & -5 & 15\n",
    "\\end{bmatrix}\n",
    ", \\quad p =\n",
    "\\begin{bmatrix}\n",
    "    p_0 \\\\\n",
    "    p_1 \\\\\n",
    "    p_2\n",
    "\\end{bmatrix}\n",
    "\\quad \\text{且} \\quad\n",
    "b = \n",
    "\\begin{bmatrix}\n",
    "    100 \\\\\n",
    "    75 \\\\\n",
    "    55\n",
    "\\end{bmatrix}\n",
    "$$"
   ]
  },
  {
   "cell_type": "code",
   "execution_count": 27,
   "id": "ad8eaa08",
   "metadata": {},
   "outputs": [
    {
     "data": {
      "text/plain": [
       "9999.99999999999"
      ]
     },
     "execution_count": 27,
     "metadata": {},
     "output_type": "execute_result"
    }
   ],
   "source": [
    "import numpy as np\n",
    "from numpy.linalg import det\n",
    "\n",
    "A = np.array([[35, -5, -5],  # 矩阵 A\n",
    "              [-5, 25, -10],\n",
    "              [-5, -5, 15]])\n",
    "\n",
    "b = np.array((100, 75, 55))  # 列向量 b\n",
    "b.shape = (3, 1)\n",
    "\n",
    "det(A)  # 检查A是否为奇异矩阵"
   ]
  },
  {
   "cell_type": "code",
   "execution_count": 28,
   "id": "d82896ea",
   "metadata": {},
   "outputs": [
    {
     "data": {
      "text/plain": [
       "array([[4.9625],\n",
       "       [7.0625],\n",
       "       [7.675 ]])"
      ]
     },
     "execution_count": 28,
     "metadata": {},
     "output_type": "execute_result"
    }
   ],
   "source": [
    "# 使用inverse\n",
    "from numpy.linalg import det\n",
    "\n",
    "A_inv = inv(A)\n",
    "\n",
    "p = A_inv @ b\n",
    "p"
   ]
  },
  {
   "cell_type": "code",
   "execution_count": 29,
   "id": "65531079",
   "metadata": {},
   "outputs": [
    {
     "data": {
      "text/plain": [
       "array([[4.9625],\n",
       "       [7.0625],\n",
       "       [7.675 ]])"
      ]
     },
     "execution_count": 29,
     "metadata": {},
     "output_type": "execute_result"
    }
   ],
   "source": [
    "# 使用 numpy.linalg.solve\n",
    "from numpy.linalg import solve\n",
    "p = solve(A, b)\n",
    "p"
   ]
  },
  {
   "cell_type": "markdown",
   "id": "a269d4e5",
   "metadata": {},
   "source": [
    "答案为：\n",
    "\n",
    "$$\n",
    "p_0 = 4.6925, \\; p_1 = 7.0625 \\;\\; \\text{and} \\;\\; p_2 = 7.675\n",
    "$$\n",
    "\n",
    "```{solution-end}\n",
    "```\n",
    "\n",
    "```{exercise-start}\n",
    ":label: lin_eqs_ex2\n",
    "```\n",
    "在讲座的早些时候，我们讨论了$Ax = b$这个方程组没有解的情况。\n",
    "\n",
    "在这种情况下，$Ax = b$被称为*不相容*方程组。\n",
    "\n",
    "面对不相容系统时，我们尝试找到最佳的\"近似\"解。\n",
    "\n",
    "有多种方法可以做到这一点，其中一种是**最小二乘法**。\n",
    "\n",
    "假设我们有一个不相容系统\n",
    "\n",
    "```{math}\n",
    ":label: inconsistent\n",
    "\n",
    "    Ax = b\n",
    "```\n",
    "\n",
    "其中$A$是一个$m \\times n$矩阵，$b$是一个$m \\times 1$列向量。\n",
    "\n",
    "对于{eq}`inconsistent`，**最小二乘解**是一个$n \\times 1$列向量$\\hat{x}$，使得对于所有其他向量$x \\in \\mathbb{R}^n$，$A\\hat{x}$到$b$的距离小于$Ax$到$b$的距离。\n",
    "\n",
    "即，\n",
    "\n",
    "$$\n",
    "    \\|A\\hat{x} - b\\| \\leq \\|Ax - b\\| \n",
    "$$\n",
    "\n",
    "可以证明，对于方程组$Ax = b$，最小二乘解$\\hat{x}$是\n",
    "\n",
    "```{math}\n",
    ":label: least_squares\n",
    "\n",
    "    \\hat{x} =  (A^T A)^{-1} A^T b\n",
    "```\n",
    "\n",
    "现在考虑一种商品的线性需求曲线的一般方程：\n",
    "\n",
    "$$\n",
    "    p = m - nq\n",
    "$$\n",
    "\n",
    "其中$p$是商品的价格，$q$是需求量。\n",
    "\n",
    "假设我们正试图*估计*$m$和$n$的值。\n",
    "\n",
    "我们通过重复观察价格和数量（例如，每个月）来做到这一点，然后选择$m$和$n$来拟合$p$和$q$之间的关系。\n",
    "\n",
    "我们有以下观察结果：\n",
    "\n",
    "| 价格 | 需求量 |\n",
    "|:-----:|:-----------------:|\n",
    "|   1   |         9         |\n",
    "|   3   |         7         |\n",
    "|   8   |         3         |\n",
    "\n",
    "要求需求曲线$p = m - nq$通过所有这些点，得到以下三个方程：\n",
    "\n",
    "$$\n",
    "\\begin{aligned}\n",
    "    1 = m - 9n \\\\\n",
    "    3 = m - 7n \\\\\n",
    "    8 = m - 3n\n",
    "\\end{aligned}\n",
    "$$\n",
    "\n",
    "因此，我们得到一个方程组$Ax = b$，其中$A = \\begin{bmatrix} 1 & -9 \\\\ 1 & -7 \\\\ 1 & -3 \\end{bmatrix}$，\n",
    "$x = \\begin{bmatrix} m \\\\ n \\end{bmatrix}$，$b = \\begin{bmatrix} 1 \\\\ 3 \\\\ 8 \\end{bmatrix}$。\n",
    "可以验证这个系统没有解。\n",
    "\n",
    "（问题在于我们有三个方程但只有两个未知数。）\n",
    "\n",
    "因此，我们将尝试找到$x$的最佳近似解。\n",
    "\n",
    "1. 使用{eq}`least_squares`和矩阵代数找到最小二乘解$\\hat{x}$。\n",
    "\n",
    "2. 使用`numpy.linalg.lstsq`找到最小二乘解，并比较结果。\n",
    "\n",
    "\n",
    "```{exercise-end}\n",
    "```\n",
    "\n",
    "```{solution-start} lin_eqs_ex2\n",
    ":class: dropdown\n",
    "```"
   ]
  },
  {
   "cell_type": "code",
   "execution_count": 30,
   "id": "10441d01",
   "metadata": {},
   "outputs": [],
   "source": [
    "import numpy as np\n",
    "from numpy.linalg import inv"
   ]
  },
  {
   "cell_type": "code",
   "execution_count": 31,
   "id": "adaa2f1e",
   "metadata": {},
   "outputs": [
    {
     "data": {
      "text/plain": [
       "array([[11.46428571],\n",
       "       [ 1.17857143]])"
      ]
     },
     "execution_count": 31,
     "metadata": {},
     "output_type": "execute_result"
    }
   ],
   "source": [
    "# 运用线性代数\n",
    "A = np.array([[1, -9],  # 矩阵 A\n",
    "              [1, -7],\n",
    "              [1, -3]])\n",
    "\n",
    "A_T = np.transpose(A)  # 矩阵A的转置\n",
    "\n",
    "b = np.array((1, 3, 8))  # 列向量 b\n",
    "b.shape = (3, 1)\n",
    "\n",
    "x = inv(A_T @ A) @ A_T @ b\n",
    "x"
   ]
  },
  {
   "cell_type": "code",
   "execution_count": 32,
   "id": "d91ae014",
   "metadata": {},
   "outputs": [],
   "source": [
    "# 使用 numpy.linalg.lstsq\n",
    "x, res, _, _ = np.linalg.lstsq(A, b, rcond=None)"
   ]
  },
  {
   "cell_type": "code",
   "execution_count": 33,
   "id": "b8c9efa5",
   "metadata": {
    "tags": [
     "hide-input"
    ]
   },
   "outputs": [
    {
     "name": "stdout",
     "output_type": "stream",
     "text": [
      "x̂ = [[11.46428571]\n",
      " [ 1.17857143]]\n",
      "‖Ax̂ - b‖² = 0.07142857142857066\n"
     ]
    }
   ],
   "source": [
    "print(f\"x\\u0302 = {x}\")\n",
    "print(f\"\\u2016Ax\\u0302 - b\\u2016\\u00B2 = {res[0]}\")"
   ]
  },
  {
   "cell_type": "markdown",
   "id": "9c100366",
   "metadata": {},
   "source": [
    "这是一个可视化图，展示了最小二乘法如何近似一组点之间连线的方程。\n",
    "\n",
    "我们也可以将此描述为在一组点之间\"拟合\"一条直线。"
   ]
  },
  {
   "cell_type": "code",
   "execution_count": 34,
   "id": "13ae3a9b",
   "metadata": {},
   "outputs": [
    {
     "data": {
      "image/png": "[encoded data removed]",
      "text/plain": [
       "<Figure size 640x480 with 1 Axes>"
      ]
     },
     "metadata": {},
     "output_type": "display_data"
    }
   ],
   "source": [
    "fig, ax = plt.subplots()\n",
    "p = np.array((1, 3, 8))\n",
    "q = np.array((9, 7, 3))\n",
    "\n",
    "a, b = x\n",
    "\n",
    "ax.plot(q, p, 'o', label='观测点', markersize=5)\n",
    "ax.plot(q, a - b*q, 'r', label='拟合线')\n",
    "plt.xlabel('需求数量')\n",
    "plt.ylabel('价格')\n",
    "plt.legend()\n",
    "plt.show()"
   ]
  },
  {
   "cell_type": "markdown",
   "id": "e563bb11",
   "metadata": {},
   "source": [
    "```{solution-end}\n",
    "```\n",
    "\n",
    "### 延伸阅读\n",
    "\n",
    "`numpy.linalg` 子模块的文档可以阅读[这里](https://numpy.org/devdocs/reference/routines.linalg.html)。\n",
    "\n",
    "如果对更高级的线性代数知识感兴趣可以继续阅读[这里](https://python.quantecon.org/linear_algebra.html#id5)。"
   ]
  }
 ],
 "metadata": {
  "jupytext": {
   "text_representation": {
    "extension": ".md",
    "format_name": "myst",
    "format_version": 0.13,
    "jupytext_version": "1.14.4"
   }
  },
  "kernelspec": {
   "display_name": "Python 3 (ipykernel)",
   "language": "python",
   "name": "python3"
  },
  "language_info": {
   "codemirror_mode": {
    "name": "ipython",
    "version": 3
   },
   "file_extension": ".py",
   "mimetype": "text/x-python",
   "name": "python",
   "nbconvert_exporter": "python",
   "pygments_lexer": "ipython3",
   "version": "3.12.7"
  },
  "source_map": [
   12,
   42,
   50,
   153,
   174,
   239,
   273,
   313,
   344,
   354,
   360,
   362,
   399,
   403,
   407,
   411,
   413,
   628,
   635,
   641,
   643,
   654,
   660,
   662,
   885,
   894,
   1020,
   1023,
   1027,
   1031,
   1037,
   1042,
   1049,
   1054,
   1059,
   1062,
   1068,
   1074,
   1077,
   1158,
   1172,
   1182,
   1187,
   1285,
   1290,
   1305,
   1310,
   1315,
   1321,
   1334
  ]
 },
 "nbformat": 4,
 "nbformat_minor": 5
}