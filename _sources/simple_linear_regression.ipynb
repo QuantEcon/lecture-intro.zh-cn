{
 "cells": [
  {
   "cell_type": "markdown",
   "id": "be162c2f",
   "metadata": {},
   "source": [
    "# 简单线性回归模型"
   ]
  },
  {
   "cell_type": "code",
   "execution_count": null,
   "id": "55d678f7",
   "metadata": {},
   "outputs": [],
   "source": [
    "import numpy as np\n",
    "import pandas as pd\n",
    "import matplotlib as mpl\n",
    "import matplotlib.pyplot as plt\n",
    "\n",
    "FONTPATH = \"fonts/SourceHanSerifSC-SemiBold.otf\"\n",
    "mpl.font_manager.fontManager.addfont(FONTPATH)\n",
    "plt.rcParams['font.family'] = ['Source Han Serif SC']"
   ]
  },
  {
   "cell_type": "markdown",
   "id": "972ca585",
   "metadata": {},
   "source": [
    "简单回归模型估计两个变量 $x_i$ 和 $y_i$ 之间的关系\n",
    "\n",
    "$$\n",
    "y_i = \\alpha + \\beta x_i + \\epsilon_i, i = 1,2,...,N\n",
    "$$\n",
    "\n",
    "其中 $\\epsilon_i$ 表示最佳拟合线与样本值 $y_i$ 与 $x_i$ 的误差。\n",
    "\n",
    "我们的目标是为 $\\alpha$ 和 $\\beta$ 选择值来为一些可用的变量 $x_i$ 和 $y_i$ 的数据构建“最佳”拟合线。\n",
    "\n",
    "让我们考虑一个具有10个观察值的简单数据集，变量为 $x_i$ 和 $y_i$：\n",
    "\n",
    "| | $y_i$  | $x_i$ |\n",
    "|-|---|---|\n",
    "|1| 2000 | 32 |\n",
    "|2| 1000 | 21 | \n",
    "|3| 1500 | 24 | \n",
    "|4| 2500 | 35 | \n",
    "|5| 500 | 10 |\n",
    "|6| 900 | 11 |\n",
    "|7| 1100 | 22 | \n",
    "|8| 1500 | 21 | \n",
    "|9| 1800 | 27 |\n",
    "|10 | 250 | 2 |\n",
    "\n",
    "让我们把 $y_i$ 视为一个冰淇淋车的销售额，而 $x_i$ 是记录当天摄氏度温度的变量。"
   ]
  },
  {
   "cell_type": "code",
   "execution_count": null,
   "id": "4d4644d9",
   "metadata": {},
   "outputs": [],
   "source": [
    "x = [32, 21, 24, 35, 10, 11, 22, 21, 27, 2]\n",
    "y = [2000,1000,1500,2500,500,900,1100,1500,1800, 250]\n",
    "df = pd.DataFrame([x,y]).T\n",
    "df.columns = ['X', 'Y']\n",
    "df"
   ]
  },
  {
   "cell_type": "markdown",
   "id": "4b337e54",
   "metadata": {},
   "source": [
    "我们可以通过数据的散点图来观察 $y_i$（冰淇淋销售额（美元(\\$\\'s)）和 $x_i$（摄氏度）之间的关系。"
   ]
  },
  {
   "cell_type": "code",
   "execution_count": null,
   "id": "f2503b9b",
   "metadata": {
    "mystnb": {
     "figure": {
      "caption": "散点图",
      "name": "sales-v-temp1"
     }
    }
   },
   "outputs": [],
   "source": [
    "ax = df.plot(\n",
    "    x='X', \n",
    "    y='Y', \n",
    "    kind='scatter', \n",
    "    ylabel=r'冰淇淋销售额（\\$）', \n",
    "    xlabel='摄氏度'\n",
    ")"
   ]
  },
  {
   "cell_type": "markdown",
   "id": "e6b63965",
   "metadata": {},
   "source": [
    "如您所见，数据表明在更热的日子里通常会卖出更多的冰淇淋。\n",
    "\n",
    "为了建立数据的线性模型，我们需要选择代表“最佳”拟合线的 $\\alpha$ 和 $\\beta$ 值，使得\n",
    "\n",
    "$$\n",
    "\\hat{y_i} = \\hat{\\alpha} + \\hat{\\beta} x_i\n",
    "$$\n",
    "\n",
    "让我们从 $\\alpha = 5$ 和 $\\beta = 10$ 开始"
   ]
  },
  {
   "cell_type": "code",
   "execution_count": null,
   "id": "4b2f7c0f",
   "metadata": {},
   "outputs": [],
   "source": [
    "α = 5\n",
    "β = 10\n",
    "df['Y_hat'] = α + β * df['X']"
   ]
  },
  {
   "cell_type": "code",
   "execution_count": null,
   "id": "df4aa406",
   "metadata": {
    "mystnb": {
     "figure": {
      "caption": "带有拟合线的散点图",
      "name": "sales-v-temp2"
     }
    }
   },
   "outputs": [],
   "source": [
    "fig, ax = plt.subplots()\n",
    "ax = df.plot(x='X',y='Y', kind='scatter', ax=ax)\n",
    "ax = df.plot(x='X',y='Y_hat', kind='line', ax=ax, label=r'$\\hat Y$')\n",
    "plt.show()"
   ]
  },
  {
   "cell_type": "markdown",
   "id": "f2946707",
   "metadata": {},
   "source": [
    "我们可以看到这个模型在估计关系上做得很差。\n",
    "\n",
    "我们可以继续通过调整参数来试图迭代并逼近“最佳”拟合线。"
   ]
  },
  {
   "cell_type": "code",
   "execution_count": null,
   "id": "912cbb40",
   "metadata": {},
   "outputs": [],
   "source": [
    "β = 100\n",
    "df['Y_hat'] = α + β * df['X']"
   ]
  },
  {
   "cell_type": "code",
   "execution_count": null,
   "id": "cfdc59b5",
   "metadata": {
    "mystnb": {
     "figure": {
      "caption": "带拟合线的散点图 #2",
      "name": "sales-v-temp3"
     }
    }
   },
   "outputs": [],
   "source": [
    "fig, ax = plt.subplots()\n",
    "ax = df.plot(x='X',y='Y', kind='scatter', ax=ax)\n",
    "ax = df.plot(x='X',y='Y_hat', kind='line', ax=ax, label=r'$\\hat Y$')\n",
    "plt.show()"
   ]
  },
  {
   "cell_type": "code",
   "execution_count": null,
   "id": "288f882a",
   "metadata": {},
   "outputs": [],
   "source": [
    "β = 65\n",
    "df['Y_hat'] = α + β * df['X']"
   ]
  },
  {
   "cell_type": "code",
   "execution_count": null,
   "id": "4e7d0841",
   "metadata": {
    "mystnb": {
     "figure": {
      "caption": "带拟合线的散点图 #3",
      "name": "sales-v-temp4"
     }
    }
   },
   "outputs": [],
   "source": [
    "fig, ax = plt.subplots()\n",
    "ax = df.plot(x='X',y='Y', kind='scatter', ax=ax)\n",
    "yax = df.plot(x='X',y='Y_hat', kind='line', ax=ax, color='g', label=r'$\\hat Y$')\n",
    "plt.show()"
   ]
  },
  {
   "cell_type": "markdown",
   "id": "54996183",
   "metadata": {},
   "source": [
    "但是我们需要考虑将这个猜测过程正式化，把这个问题看作是一个优化问题。\n",
    "\n",
    "让我们考虑误差 $\\epsilon_i$ 并定义观测值 $y_i$ 与估计值 $\\hat{y}_i$ 之间的差异，我们将其称为残差\n",
    "\n",
    "$$\n",
    "\\begin{aligned}\n",
    "\\hat{e}_i &= y_i - \\hat{y}_i \\\\\n",
    "          &= y_i - \\hat{\\alpha} - \\hat{\\beta} x_i\n",
    "\\end{aligned}\n",
    "$$"
   ]
  },
  {
   "cell_type": "code",
   "execution_count": null,
   "id": "806415e8",
   "metadata": {},
   "outputs": [],
   "source": [
    "df['error'] = df['Y_hat'] - df['Y']"
   ]
  },
  {
   "cell_type": "code",
   "execution_count": null,
   "id": "155a469f",
   "metadata": {},
   "outputs": [],
   "source": [
    "df"
   ]
  },
  {
   "cell_type": "code",
   "execution_count": null,
   "id": "96b026ae",
   "metadata": {
    "mystnb": {
     "figure": {
      "caption": "残差图",
      "name": "plt-residuals"
     }
    }
   },
   "outputs": [],
   "source": [
    "fig, ax = plt.subplots()\n",
    "ax = df.plot(x='X',y='Y', kind='scatter', ax=ax)\n",
    "yax = df.plot(x='X',y='Y_hat', kind='line', ax=ax, color='g', label=r'$\\hat Y$')\n",
    "plt.vlines(df['X'], df['Y_hat'], df['Y'], color='r')\n",
    "plt.show()"
   ]
  },
  {
   "cell_type": "markdown",
   "id": "fd0a7499",
   "metadata": {},
   "source": [
    "普通最小二乘方法 (OLS) 选择 $\\alpha$ 和 $\\beta$，以使残差平方和 (SSR) **最小化**。\n",
    "\n",
    "$$\n",
    "\\min_{\\alpha,\\beta} \\sum_{i=1}^{N}{\\hat{e}_i^2} = \\min_{\\alpha,\\beta} \\sum_{i=1}^{N}{(y_i - \\alpha - \\beta x_i)^2}\n",
    "$$\n",
    "\n",
    "我们称之为成本函数\n",
    "\n",
    "$$\n",
    "C = \\sum_{i=1}^{N}{(y_i - \\alpha - \\beta x_i)^2}\n",
    "$$\n",
    "\n",
    "我们希望通过参数 $\\alpha$ 和 $\\beta$ 来最小化这个成本函数。\n",
    "\n",
    "## 残差相对于 $\\alpha$ 和 $\\beta$ 的变化\n",
    "\n",
    "首先让我们看看总误差相对于 $\\beta$ 的变化（保持截距 $\\alpha$ 不变）\n",
    "\n",
    "我们从[下一节](slr:optimal-values)知道 $\\alpha$ 和 $\\beta$ 的最优值是："
   ]
  },
  {
   "cell_type": "code",
   "execution_count": null,
   "id": "9a59a07f",
   "metadata": {},
   "outputs": [],
   "source": [
    "β_optimal = 64.38\n",
    "α_optimal = -14.72"
   ]
  },
  {
   "cell_type": "markdown",
   "id": "17536cfb",
   "metadata": {},
   "source": [
    "我们可以计算一个范围内的 $\\beta$ 值的残差"
   ]
  },
  {
   "cell_type": "code",
   "execution_count": null,
   "id": "db2060cf",
   "metadata": {},
   "outputs": [],
   "source": [
    "errors = {}\n",
    "for β in np.arange(20,100,0.5):\n",
    "    errors[β] = abs((α_optimal + β * df['X']) - df['Y']).sum()"
   ]
  },
  {
   "cell_type": "markdown",
   "id": "8f8dc3d1",
   "metadata": {},
   "source": [
    "绘制残差图"
   ]
  },
  {
   "cell_type": "code",
   "execution_count": null,
   "id": "2c352eb1",
   "metadata": {
    "mystnb": {
     "figure": {
      "caption": "绘制残差图",
      "name": "plt-errors"
     }
    }
   },
   "outputs": [],
   "source": [
    "ax = pd.Series(errors).plot(xlabel='β', ylabel='残差')\n",
    "plt.axvline(β_optimal, color='r');"
   ]
  },
  {
   "cell_type": "markdown",
   "id": "11aa4f7b",
   "metadata": {},
   "source": [
    "现在我们改变 $\\alpha$ （保持 $\\beta$ 不变）"
   ]
  },
  {
   "cell_type": "code",
   "execution_count": null,
   "id": "1435b002",
   "metadata": {},
   "outputs": [],
   "source": [
    "errors = {}\n",
    "for α in np.arange(-500,500,5):\n",
    "    errors[α] = abs((α + β_optimal * df['X']) - df['Y']).sum()"
   ]
  },
  {
   "cell_type": "markdown",
   "id": "ee863259",
   "metadata": {},
   "source": [
    "绘制残差图"
   ]
  },
  {
   "cell_type": "code",
   "execution_count": null,
   "id": "36c9c403",
   "metadata": {
    "mystnb": {
     "figure": {
      "caption": "绘制残差图 (2)",
      "name": "plt-errors-2"
     }
    }
   },
   "outputs": [],
   "source": [
    "ax = pd.Series(errors).plot(xlabel='α', ylabel='残差')\n",
    "plt.axvline(α_optimal, color='r');"
   ]
  },
  {
   "cell_type": "markdown",
   "id": "e1e27f7d",
   "metadata": {},
   "source": [
    "(slr:optimal-values)=\n",
    "## 计算最优值\n",
    "\n",
    "现在让我们使用微积分来解决优化问题，并计算出 $\\alpha$ 和 $\\beta$ 的最优值，以找到普通最小二乘解。\n",
    "\n",
    "首先对 $\\alpha$ 取偏导\n",
    "\n",
    "$$\n",
    "\\frac{\\partial C}{\\partial \\alpha}[\\sum_{i=1}^{N}{(y_i - \\alpha - \\beta x_i)^2}]\n",
    "$$\n",
    "\n",
    "并将其设为 $0$\n",
    "\n",
    "$$\n",
    "0 = \\sum_{i=1}^{N}{-2(y_i - \\alpha - \\beta x_i)}\n",
    "$$\n",
    "\n",
    "我们可以通过两边除以 $-2$ 来移除求和中的常数 $-2$\n",
    "\n",
    "$$\n",
    "0 = \\sum_{i=1}^{N}{(y_i - \\alpha - \\beta x_i)}\n",
    "$$\n",
    "\n",
    "现在我们可以将这个方程分解为各个组成部分\n",
    "\n",
    "$$\n",
    "0 = \\sum_{i=1}^{N}{y_i} - \\sum_{i=1}^{N}{\\alpha} - \\beta \\sum_{i=1}^{N}{x_i}\n",
    "$$\n",
    "\n",
    "中间项是从 $i=1,...N$ 对常数 $\\alpha$ 进行简单求和\n",
    "\n",
    "$$\n",
    "0 = \\sum_{i=1}^{N}{y_i} - N*\\alpha - \\beta \\sum_{i=1}^{N}{x_i}\n",
    "$$\n",
    "\n",
    "并重新排列各项\n",
    "\n",
    "$$\n",
    "\\alpha = \\frac{\\sum_{i=1}^{N}{y_i} - \\beta \\sum_{i=1}^{N}{x_i}}{N}\n",
    "$$\n",
    "\n",
    "我们观察到两个分数分别归结为均值 $\\bar{y_i}$ 和 $\\bar{x_i}$\n",
    "\n",
    "$$\n",
    "\\alpha = \\bar{y_i} - \\beta\\bar{x_i}\n",
    "$$ (eq:optimal-alpha)\n",
    "\n",
    "现在让我们对成本函数 $C$ 关于 $\\beta$ 取偏导\n",
    "\n",
    "$$\n",
    "\\frac{\\partial C}{\\partial \\beta}[\\sum_{i=1}^{N}{(y_i - \\alpha - \\beta x_i)^2}]\n",
    "$$\n",
    "\n",
    "并将其设为 $0$\n",
    "\n",
    "$$\n",
    "0 = \\sum_{i=1}^{N}{-2 x_i (y_i - \\alpha - \\beta x_i)}\n",
    "$$\n",
    "\n",
    "我们可以再次将常数从求和中取出，并将两边除以 $-2$\n",
    "\n",
    "$$\n",
    "0 = \\sum_{i=1}^{N}{x_i (y_i - \\alpha - \\beta x_i)}\n",
    "$$\n",
    "\n",
    "这变成了\n",
    "\n",
    "$$\n",
    "0 = \\sum_{i=1}^{N}{(x_i y_i - \\alpha x_i - \\beta x_i^2)}\n",
    "$$\n",
    "\n",
    "现在代入 $\\alpha$\n",
    "\n",
    "$$\n",
    "0 = \\sum_{i=1}^{N}{(x_i y_i - (\\bar{y_i} - \\beta \\bar{x_i}) x_i - \\beta x_i^2)}\n",
    "$$\n",
    "\n",
    "并重新排列各项\n",
    "\n",
    "$$\n",
    "0 = \\sum_{i=1}^{N}{(x_i y_i - \\bar{y_i} x_i - \\beta \\bar{x_i} x_i - \\beta x_i^2)}\n",
    "$$\n",
    "\n",
    "这可以被分成两个求和\n",
    "\n",
    "$$\n",
    "0 = \\sum_{i=1}^{N}(x_i y_i - \\bar{y_i} x_i) + \\beta \\sum_{i=1}^{N}(\\bar{x_i} x_i - x_i^2)\n",
    "$$\n",
    "\n",
    "解$\\beta$得到\n",
    "\n",
    "$$\n",
    "\\beta = \\frac{\\sum_{i=1}^{N}(x_i y_i - \\bar{y_i} x_i)}{\\sum_{i=1}^{N}(x_i^2 - \\bar{x_i} x_i)}\n",
    "$$ (eq:optimal-beta)\n",
    "\n",
    "我们现在可以使用{eq}`eq:optimal-alpha` 和 {eq}`eq:optimal-beta` 来计算$\\alpha$和$\\beta$的最优值\n",
    "\n",
    "计算$\\beta$"
   ]
  },
  {
   "cell_type": "code",
   "execution_count": null,
   "id": "e0393a76",
   "metadata": {},
   "outputs": [],
   "source": [
    "df = df[['X','Y']].copy()  # 原始数据\n",
    "\n",
    "# 计算样本均值\n",
    "x_bar = df['X'].mean()\n",
    "y_bar = df['Y'].mean()"
   ]
  },
  {
   "cell_type": "markdown",
   "id": "cef53eef",
   "metadata": {},
   "source": [
    "现在计算10个观察值，然后求和分子和分母"
   ]
  },
  {
   "cell_type": "code",
   "execution_count": null,
   "id": "e7637650",
   "metadata": {},
   "outputs": [],
   "source": [
    "# 计算求和\n",
    "df['num'] = df['X'] * df['Y'] - y_bar * df['X']\n",
    "df['den'] = pow(df['X'],2) - x_bar * df['X']\n",
    "β = df['num'].sum() / df['den'].sum()\n",
    "print(β)"
   ]
  },
  {
   "cell_type": "markdown",
   "id": "e0965add",
   "metadata": {},
   "source": [
    "计算$\\alpha$"
   ]
  },
  {
   "cell_type": "code",
   "execution_count": null,
   "id": "13013cb5",
   "metadata": {},
   "outputs": [],
   "source": [
    "α = y_bar - β * x_bar\n",
    "print(α)"
   ]
  },
  {
   "cell_type": "markdown",
   "id": "f753e626",
   "metadata": {},
   "source": [
    "现在我们可以绘制OLS解决方案"
   ]
  },
  {
   "cell_type": "code",
   "execution_count": null,
   "id": "3ad6e0ed",
   "metadata": {
    "mystnb": {
     "figure": {
      "caption": "OLS最佳拟合线",
      "name": "plt-ols"
     }
    }
   },
   "outputs": [],
   "source": [
    "df['Y_hat'] = α + β * df['X']\n",
    "df['error'] = df['Y_hat'] - df['Y']\n",
    "\n",
    "fig, ax = plt.subplots()\n",
    "ax = df.plot(x='X',y='Y', kind='scatter', ax=ax)\n",
    "yax = df.plot(x='X',y='Y_hat', kind='line', ax=ax, color='g', label=r'$\\hat Y$')\n",
    "plt.vlines(df['X'], df['Y_hat'], df['Y'], color='r');"
   ]
  },
  {
   "cell_type": "markdown",
   "id": "c2d627d4",
   "metadata": {},
   "source": [
    ":::{exercise}\n",
    ":label: slr-ex1\n",
    "\n",
    "现在您已经知道了使用OLS解决简单线性回归模型的方程，您可以开始运行自己的回归以构建$y$和$x$之间的模型了。\n",
    "\n",
    "让我们考虑两个经济变量，人均GDP和预期寿命。\n",
    "\n",
    "1. 你认为它们之间的关系会是怎样的？\n",
    "2. 从[我们的世界数据中](https://ourworldindata.org)搜集一些数据\n",
    "3. 使用`pandas`导入`csv`格式的数据，并绘制几个不同国家的图表\n",
    "4. 使用{eq}`eq:optimal-alpha` 和 {eq}`eq:optimal-beta`计算$\\alpha$和$\\beta$的最优值\n",
    "5. 使用OLS绘制最佳拟合线\n",
    "6. 解释系数并写出人均GDP和预期寿命之间关系的总结句子\n",
    "\n",
    ":::\n",
    "\n",
    ":::{solution-start} slr-ex1\n",
    ":::\n",
    "\n",
    "**Q2:** 搜集一些数据 [来自我们的世界数据](https://ourworldindata.org)\n",
    "\n",
    ":::{raw} html\n",
    "<iframe src=\"https://ourworldindata.org/grapher/life-expectancy-vs-gdp-per-capita\" loading=\"lazy\" style=\"width: 100%; height: 600px; border: 0px none;\"></iframe>\n",
    ":::\n",
    "\n",
    "如果你遇到困难，可以从这里下载{download}`数据副本 <https://github.com/QuantEcon/lecture-python-intro/raw/main/lectures/_static/lecture_specific/simple_linear_regression/life-expectancy-vs-gdp-per-capita.csv>`\n",
    "\n",
    "**Q3:** 使用`pandas`导入`csv`格式的数据并绘制几个不同国家的兴趣图表"
   ]
  },
  {
   "cell_type": "code",
   "execution_count": null,
   "id": "48925021",
   "metadata": {},
   "outputs": [],
   "source": [
    "data_url = \"https://github.com/QuantEcon/lecture-python-intro/raw/main/lectures/_static/lecture_specific/simple_linear_regression/life-expectancy-vs-gdp-per-capita.csv\"\n",
    "df = pd.read_csv(data_url, nrows=10)"
   ]
  },
  {
   "cell_type": "code",
   "execution_count": null,
   "id": "295f99ba",
   "metadata": {},
   "outputs": [],
   "source": [
    "df"
   ]
  },
  {
   "cell_type": "markdown",
   "id": "84c1c471",
   "metadata": {},
   "source": [
    "您可以看到从我们的世界数据下载的数据为全球各国提供了人均GDP和预期寿命数据。\n",
    "\n",
    "首先从csv文件中导入几行数据以了解其结构，以便您可以选择要读取到DataFrame中的列，这通常是一个好主意。\n",
    "\n",
    "您可以观察到有许多我们不需要导入的列，比如`Continent`\n",
    "\n",
    "那么我们来构建一个我们想要导入的列的列表"
   ]
  },
  {
   "cell_type": "code",
   "execution_count": null,
   "id": "6c9d2563",
   "metadata": {},
   "outputs": [],
   "source": [
    "cols = ['Code', 'Year', 'Life expectancy at birth (historical)', 'GDP per capita']\n",
    "df = pd.read_csv(data_url, usecols=cols)\n",
    "df"
   ]
  },
  {
   "cell_type": "markdown",
   "id": "67006871",
   "metadata": {},
   "source": [
    "有时候重命名列名可以使得在DataFrame中更容易操作"
   ]
  },
  {
   "cell_type": "code",
   "execution_count": null,
   "id": "a3328d37",
   "metadata": {},
   "outputs": [],
   "source": [
    "df.columns = [\"cntry\", \"year\", \"life_expectancy\", \"gdppc\"]\n",
    "df"
   ]
  },
  {
   "cell_type": "markdown",
   "id": "101abd55",
   "metadata": {},
   "source": [
    "我们可以看到存在`NaN`值，这表示缺失数据，所以让我们继续删除这些数据"
   ]
  },
  {
   "cell_type": "code",
   "execution_count": null,
   "id": "b4925c6f",
   "metadata": {},
   "outputs": [],
   "source": [
    "df.dropna(inplace=True)"
   ]
  },
  {
   "cell_type": "code",
   "execution_count": null,
   "id": "ea08f703",
   "metadata": {},
   "outputs": [],
   "source": [
    "df"
   ]
  },
  {
   "cell_type": "markdown",
   "id": "36f733b3",
   "metadata": {},
   "source": [
    "我们现在已经将我们的DataFrame的行数从62156减少到12445，删除了很多空的数据关系。\n",
    "\n",
    "现在我们有一个包含一系列年份的人均寿命和人均GDP的数据集。\n",
    "\n",
    "花点时间了解你实际拥有的数据总是一个好主意。\n",
    "\n",
    "例如，您可能想要探索这些数据，看看是否所有国家在各年之间的报告都是一致的。\n",
    "\n",
    "让我们首先看看寿命数据"
   ]
  },
  {
   "cell_type": "code",
   "execution_count": null,
   "id": "0b8b2201",
   "metadata": {},
   "outputs": [],
   "source": [
    "le_years = df[['cntry', 'year', 'life_expectancy']].set_index(['cntry', 'year']).unstack()['life_expectancy']\n",
    "le_years"
   ]
  },
  {
   "cell_type": "markdown",
   "id": "b9c2b77c",
   "metadata": {},
   "source": [
    "如您所见，有很多国家在1543年的数据是不可用的！\n",
    "\n",
    "哪个国家报告了这些数据？"
   ]
  },
  {
   "cell_type": "code",
   "execution_count": null,
   "id": "acae863f",
   "metadata": {},
   "outputs": [],
   "source": [
    "le_years[~le_years[1543].isna()]"
   ]
  },
  {
   "cell_type": "markdown",
   "id": "5c48c87a",
   "metadata": {},
   "source": [
    "您可以看到，只有大不列颠（GBR）是可用的\n",
    "\n",
    "您还可以更仔细地观察时间序列，发现即使对于GBR，它也是不连续的。"
   ]
  },
  {
   "cell_type": "code",
   "execution_count": null,
   "id": "46ea232e",
   "metadata": {},
   "outputs": [],
   "source": [
    "le_years.loc['GBR'].plot()"
   ]
  },
  {
   "cell_type": "markdown",
   "id": "c834abe1",
   "metadata": {},
   "source": [
    "实际上我们可以使用pandas快速检查每个年份涵盖了多少个国家"
   ]
  },
  {
   "cell_type": "code",
   "execution_count": null,
   "id": "8f6931a3",
   "metadata": {},
   "outputs": [],
   "source": [
    "le_years.stack().unstack(level=0).count(axis=1).plot(xlabel=\"Year\", ylabel=\"Number of countries\");"
   ]
  },
  {
   "cell_type": "markdown",
   "id": "b01d61ae",
   "metadata": {},
   "source": [
    "所以很明显，如果你进行横断面比较，那么最近的数据将包括更广泛的国家集合\n",
    "\n",
    "现在让我们考虑数据集中最近的一年2018"
   ]
  },
  {
   "cell_type": "code",
   "execution_count": null,
   "id": "4139c742",
   "metadata": {},
   "outputs": [],
   "source": [
    "df = df[df.year == 2018].reset_index(drop=True).copy()"
   ]
  },
  {
   "cell_type": "code",
   "execution_count": null,
   "id": "8ca4b100",
   "metadata": {},
   "outputs": [],
   "source": [
    "df.plot(x='gdppc', y='life_expectancy', kind='scatter', xlabel=\"GDP per capita\", ylabel=\"Life expectancy (years)\",);"
   ]
  },
  {
   "cell_type": "markdown",
   "id": "9b800acf",
   "metadata": {},
   "source": [
    "这些数据显示了一些有趣的关系。\n",
    "\n",
    "1. 许多国家的人均GDP相近，但寿命差别很大\n",
    "2. 人均GDP与预期寿命之间似乎存在正向关系。人均GDP较高的国家往往拥有更高的预期寿命\n",
    "\n",
    "尽管普通最小二乘法（OLS）是用来解线性方程的，但我们可以通过对变量进行转换（例如对数变换），然后使用OLS来估计转换后的变量。\n",
    "\n",
    "通过指定 `logx` 你可以在对数尺度上绘制人均GDP数据"
   ]
  },
  {
   "cell_type": "code",
   "execution_count": null,
   "id": "73dbee08",
   "metadata": {},
   "outputs": [],
   "source": [
    "df.plot(x='gdppc', y='life_expectancy', kind='scatter',  xlabel=\"人均GDP\", ylabel=\"预期寿命（年）\", logx=True);"
   ]
  },
  {
   "cell_type": "markdown",
   "id": "b902289b",
   "metadata": {},
   "source": [
    "从这次转换可以看出，线性模型更贴近数据的形状。"
   ]
  },
  {
   "cell_type": "code",
   "execution_count": null,
   "id": "cdf40879",
   "metadata": {},
   "outputs": [],
   "source": [
    "df['log_gdppc'] = df['gdppc'].apply(np.log10)"
   ]
  },
  {
   "cell_type": "code",
   "execution_count": null,
   "id": "d282e4e3",
   "metadata": {},
   "outputs": [],
   "source": [
    "df"
   ]
  },
  {
   "cell_type": "markdown",
   "id": "6f847de2",
   "metadata": {},
   "source": [
    "**Q4:** 使用 {eq}`eq:optimal-alpha` 和 {eq}`eq:optimal-beta` 来计算  $\\alpha$ 和 $\\beta$ 的最优值"
   ]
  },
  {
   "cell_type": "code",
   "execution_count": null,
   "id": "16527174",
   "metadata": {},
   "outputs": [],
   "source": [
    "data = df[['log_gdppc', 'life_expectancy']].copy()  # 从DataFrame中提取数据\n",
    "\n",
    "# 计算样本均值\n",
    "x_bar = data['log_gdppc'].mean()\n",
    "y_bar = data['life_expectancy'].mean()"
   ]
  },
  {
   "cell_type": "code",
   "execution_count": null,
   "id": "54c3c7b1",
   "metadata": {},
   "outputs": [],
   "source": [
    "data"
   ]
  },
  {
   "cell_type": "code",
   "execution_count": null,
   "id": "e6977a24",
   "metadata": {},
   "outputs": [],
   "source": [
    "# 计算求和\n",
    "data['num'] = data['log_gdppc'] * data['life_expectancy'] - y_bar * data['log_gdppc']\n",
    "data['den'] = pow(data['log_gdppc'],2) - x_bar * data['log_gdppc']\n",
    "β = data['num'].sum() / data['den'].sum()\n",
    "print(β)"
   ]
  },
  {
   "cell_type": "code",
   "execution_count": null,
   "id": "43b9080b",
   "metadata": {},
   "outputs": [],
   "source": [
    "α = y_bar - β * x_bar\n",
    "print(α)"
   ]
  },
  {
   "cell_type": "markdown",
   "id": "4b6a1ff5",
   "metadata": {},
   "source": [
    "**Q5:** 绘制使用 OLS 找到的最佳拟合线"
   ]
  },
  {
   "cell_type": "code",
   "execution_count": null,
   "id": "fecf9f8e",
   "metadata": {},
   "outputs": [],
   "source": [
    "data['life_expectancy_hat'] = α + β * df['log_gdppc']\n",
    "data['error'] = data['life_expectancy_hat'] - data['life_expectancy']\n",
    "\n",
    "fig, ax = plt.subplots()\n",
    "data.plot(x='log_gdppc',y='life_expectancy', kind='scatter', ax=ax)\n",
    "data.plot(x='log_gdppc',y='life_expectancy_hat', kind='line', ax=ax, color='g')\n",
    "plt.vlines(data['log_gdppc'], data['life_expectancy_hat'], data['life_expectancy'], color='r')"
   ]
  },
  {
   "cell_type": "markdown",
   "id": "611c2aff",
   "metadata": {},
   "source": [
    ":::{solution-end}\n",
    ":::\n",
    "\n",
    ":::{exercise}\n",
    ":label: slr-ex2\n",
    "\n",
    "通过最小化平方和并不是生成最佳拟合线的**唯一**方法。\n",
    "\n",
    "例如，我们还可以考虑最小化**绝对值之和**，这样对异常值的权重会更小。\n",
    "\n",
    "求解 $\\alpha$ 和 $\\beta$ 使用最小绝对值法\n",
    ":::"
   ]
  }
 ],
 "metadata": {
  "jupytext": {
   "text_representation": {
    "extension": ".md",
    "format_name": "myst",
    "format_version": 0.13,
    "jupytext_version": "1.14.4"
   }
  },
  "kernelspec": {
   "display_name": "Python 3 (ipykernel)",
   "language": "python",
   "name": "python3"
  },
  "source_map": [
   12,
   16,
   25,
   54,
   60,
   64,
   78,
   90,
   96,
   107,
   113,
   118,
   131,
   136,
   147,
   160,
   164,
   168,
   180,
   202,
   205,
   209,
   213,
   217,
   226,
   230,
   234,
   238,
   247,
   348,
   354,
   358,
   364,
   368,
   371,
   375,
   389,
   420,
   425,
   427,
   437,
   441,
   445,
   448,
   452,
   456,
   458,
   470,
   473,
   479,
   481,
   487,
   489,
   493,
   495,
   501,
   505,
   507,
   518,
   520,
   524,
   528,
   530,
   534,
   542,
   546,
   554,
   557,
   561,
   569
  ]
 },
 "nbformat": 4,
 "nbformat_minor": 5
}