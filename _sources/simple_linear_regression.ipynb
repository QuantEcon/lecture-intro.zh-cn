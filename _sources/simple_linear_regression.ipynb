{
 "cells": [
  {
   "cell_type": "markdown",
   "id": "a6cf2975",
   "metadata": {},
   "source": [
    "# 简单线性回归模型"
   ]
  },
  {
   "cell_type": "code",
   "execution_count": null,
   "id": "f41b4a91",
   "metadata": {},
   "outputs": [],
   "source": [
    "import numpy as np\n",
    "import pandas as pd\n",
    "import matplotlib as mpl\n",
    "import matplotlib.pyplot as plt\n",
    "\n",
    "FONTPATH = \"fonts/SourceHanSerifSC-SemiBold.otf\"\n",
    "mpl.font_manager.fontManager.addfont(FONTPATH)\n",
    "plt.rcParams['font.family'] = ['Source Han Serif SC']"
   ]
  },
  {
   "cell_type": "markdown",
   "id": "9938e4b1",
   "metadata": {},
   "source": [
    "以下的简单回归模型估计了两个变量 $x_i$ 和 $y_i$ 之间的关系\n",
    "\n",
    "$$\n",
    "y_i = \\alpha + \\beta x_i + \\epsilon_i, i = 1,2,...,N\n",
    "$$\n",
    "\n",
    "其中 $\\epsilon_i$ 表示最佳拟合线与给定 $x_i$ 的样本值 $y_i$ 之间的误差。\n",
    "\n",
    "我们的目标是选择 $\\alpha$ 和 $\\beta$ 的值来为一些适用于变量 $x_i$ 和 $y_i$ 的数据构建一条“最佳”拟合线。\n",
    "\n",
    "让我们假设存在一个简单的数据集，其中包含 10 个变量 $x_i$ 和 $y_i$ 的观测值：\n",
    "\n",
    "\n",
    "| | $y_i$  | $x_i$ |\n",
    "|-|---|---|\n",
    "|1| 2000 | 32 |\n",
    "|2| 1000 | 21 | \n",
    "|3| 1500 | 24 | \n",
    "|4| 2500 | 35 | \n",
    "|5| 500 | 10 |\n",
    "|6| 900 | 11 |\n",
    "|7| 1100 | 22 | \n",
    "|8| 1500 | 21 | \n",
    "|9| 1800 | 27 |\n",
    "|10 | 250 | 2 |\n",
    "\n",
    "让我们把 $y_i$ 视为一个冰淇淋车的销售额，而 $x_i$ 是记录当天气温（摄氏度）的变量。"
   ]
  },
  {
   "cell_type": "code",
   "execution_count": null,
   "id": "a6fdfa6d",
   "metadata": {},
   "outputs": [],
   "source": [
    "x = [32, 21, 24, 35, 10, 11, 22, 21, 27, 2]\n",
    "y = [2000, 1000, 1500, 2500, 500, 900, 1100, 1500, 1800, 250]\n",
    "df = pd.DataFrame([x,y]).T\n",
    "df.columns = ['X', 'Y']\n",
    "df"
   ]
  },
  {
   "cell_type": "markdown",
   "id": "cdf648bd",
   "metadata": {},
   "source": [
    "我们可以通过散点图来观察 $y_i$（冰淇淋销售额（美元(\\$\\'s)）和 $x_i$（摄氏度）之间的关系。"
   ]
  },
  {
   "cell_type": "code",
   "execution_count": null,
   "id": "f214112d",
   "metadata": {
    "mystnb": {
     "figure": {
      "caption": "散点图",
      "name": "sales-v-temp1"
     }
    }
   },
   "outputs": [],
   "source": [
    "ax = df.plot(\n",
    "    x='X', \n",
    "    y='Y', \n",
    "    kind='scatter', \n",
    "    ylabel=r'冰淇淋销售额（$\\'s）', \n",
    "    xlabel='摄氏度'\n",
    ")"
   ]
  },
  {
   "cell_type": "markdown",
   "id": "86a8b64b",
   "metadata": {},
   "source": [
    "如你所见，数据表明在较热的日子里通常会卖出较多的冰淇淋。\n",
    "\n",
    "为了构建数据的线性模型，我们需要选择代表“最佳”拟合线的 $\\alpha$ 和 $\\beta$ 值，使得\n",
    "\n",
    "$$\n",
    "\\hat{y_i} = \\hat{\\alpha} + \\hat{\\beta} x_i\n",
    "$$\n",
    "\n",
    "让我们从 $\\alpha = 5$ 和 $\\beta = 10$ 开始"
   ]
  },
  {
   "cell_type": "code",
   "execution_count": null,
   "id": "58df8e4c",
   "metadata": {},
   "outputs": [],
   "source": [
    "α = 5\n",
    "β = 10\n",
    "df['Y_hat'] = α + β * df['X']"
   ]
  },
  {
   "cell_type": "code",
   "execution_count": null,
   "id": "183a54fe",
   "metadata": {
    "mystnb": {
     "figure": {
      "caption": "带有拟合线的散点图",
      "name": "sales-v-temp2"
     }
    }
   },
   "outputs": [],
   "source": [
    "fig, ax = plt.subplots()\n",
    "ax = df.plot(x='X',y='Y', kind='scatter', ax=ax)\n",
    "ax = df.plot(x='X',y='Y_hat', kind='line', ax=ax, label=r'$\\hat Y$')\n",
    "plt.show()"
   ]
  },
  {
   "cell_type": "markdown",
   "id": "b77e6acf",
   "metadata": {},
   "source": [
    "我们可以看到这个模型没法很好地估计两者的关系。\n",
    "\n",
    "我们可以继续猜测，并通过调整参数迭代出一条 “最佳 ”拟合线。"
   ]
  },
  {
   "cell_type": "code",
   "execution_count": null,
   "id": "48616d9b",
   "metadata": {},
   "outputs": [],
   "source": [
    "β = 100\n",
    "df['Y_hat'] = α + β * df['X']"
   ]
  },
  {
   "cell_type": "code",
   "execution_count": null,
   "id": "4b6c1728",
   "metadata": {
    "mystnb": {
     "figure": {
      "caption": "带拟合线的散点图 #2",
      "name": "sales-v-temp3"
     }
    }
   },
   "outputs": [],
   "source": [
    "fig, ax = plt.subplots()\n",
    "ax = df.plot(x='X',y='Y', kind='scatter', ax=ax)\n",
    "ax = df.plot(x='X',y='Y_hat', kind='line', ax=ax, label=r'$\\hat Y$')\n",
    "plt.show()"
   ]
  },
  {
   "cell_type": "code",
   "execution_count": null,
   "id": "b680c7d7",
   "metadata": {},
   "outputs": [],
   "source": [
    "β = 65\n",
    "df['Y_hat'] = α + β * df['X']"
   ]
  },
  {
   "cell_type": "code",
   "execution_count": null,
   "id": "35a51488",
   "metadata": {
    "mystnb": {
     "figure": {
      "caption": "带拟合线的散点图 #3",
      "name": "sales-v-temp4"
     }
    }
   },
   "outputs": [],
   "source": [
    "fig, ax = plt.subplots()\n",
    "ax = df.plot(x='X',y='Y', kind='scatter', ax=ax)\n",
    "yax = df.plot(x='X',y='Y_hat', kind='line', ax=ax, color='g', label=r'$\\hat Y$')\n",
    "plt.show()"
   ]
  },
  {
   "cell_type": "markdown",
   "id": "9eb2f5b8",
   "metadata": {},
   "source": [
    "与其不断猜测参数值，我们可以把这个问题转化为一个优化问题，用数学方法来求解最优的参数。\n",
    "\n",
    "为此，我们先来定义一个重要的概念：残差（residual）。残差 $\\epsilon_i$ 是实际观测值 $y_i$ 与模型预测值 $\\hat{y}_i$ 之间的差异。\n",
    "\n",
    "$$\n",
    "\\begin{aligned}\n",
    "\\hat{e}_i &= y_i - \\hat{y}_i \\\\\n",
    "          &= y_i - \\hat{\\alpha} - \\hat{\\beta} x_i\n",
    "\\end{aligned}\n",
    "$$"
   ]
  },
  {
   "cell_type": "code",
   "execution_count": null,
   "id": "3727e921",
   "metadata": {},
   "outputs": [],
   "source": [
    "df['error'] = df['Y_hat'] - df['Y']"
   ]
  },
  {
   "cell_type": "code",
   "execution_count": null,
   "id": "7bf901bd",
   "metadata": {},
   "outputs": [],
   "source": [
    "df"
   ]
  },
  {
   "cell_type": "code",
   "execution_count": null,
   "id": "73ea4902",
   "metadata": {
    "mystnb": {
     "figure": {
      "caption": "残差图",
      "name": "plt-residuals"
     }
    }
   },
   "outputs": [],
   "source": [
    "fig, ax = plt.subplots()\n",
    "ax = df.plot(x='X',y='Y', kind='scatter', ax=ax)\n",
    "yax = df.plot(x='X',y='Y_hat', kind='line', ax=ax, color='g', label=r'$\\hat Y$')\n",
    "plt.vlines(df['X'], df['Y_hat'], df['Y'], color='r')\n",
    "plt.show()"
   ]
  },
  {
   "cell_type": "markdown",
   "id": "c771e69e",
   "metadata": {},
   "source": [
    "普通最小二乘方法 (OLS) 通过 **最小化** 残差平方和 (SSR) 来选择 $\\alpha$ 和 $\\beta$ 的值。\n",
    "\n",
    "$$\n",
    "\\min_{\\alpha,\\beta} \\sum_{i=1}^{N}{\\hat{e}_i^2} = \\min_{\\alpha,\\beta} \\sum_{i=1}^{N}{(y_i - \\alpha - \\beta x_i)^2}\n",
    "$$\n",
    "\n",
    "我们称之为成本函数\n",
    "\n",
    "$$\n",
    "C = \\sum_{i=1}^{N}{(y_i - \\alpha - \\beta x_i)^2}\n",
    "$$\n",
    "\n",
    "我们希望通过调整参数 $\\alpha$ 和 $\\beta$ 来最小化这个成本函数。\n",
    "\n",
    "## 残差相对于 $\\alpha$ 和 $\\beta$ 是如何变化的\n",
    "\n",
    "首先，我们看看总残差相对于 $\\beta$ 的变化（保持截距 $\\alpha$ 不变）\n",
    "\n",
    "我们从[下一节](slr:optimal-values)可以知道 $\\alpha$ 和 $\\beta$ 的最优值是："
   ]
  },
  {
   "cell_type": "code",
   "execution_count": null,
   "id": "e2269fe7",
   "metadata": {},
   "outputs": [],
   "source": [
    "β_optimal = 64.38\n",
    "α_optimal = -14.72"
   ]
  },
  {
   "cell_type": "markdown",
   "id": "2b7daa59",
   "metadata": {},
   "source": [
    "我们可以计算一系列 $\\beta$ 值的残差"
   ]
  },
  {
   "cell_type": "code",
   "execution_count": null,
   "id": "d82cc00d",
   "metadata": {},
   "outputs": [],
   "source": [
    "errors = {}\n",
    "for β in np.arange(20,100,0.5):\n",
    "    errors[β] = abs((α_optimal + β * df['X']) - df['Y']).sum()"
   ]
  },
  {
   "cell_type": "markdown",
   "id": "9c2af7f1",
   "metadata": {},
   "source": [
    "绘制残差图"
   ]
  },
  {
   "cell_type": "code",
   "execution_count": null,
   "id": "07a8aba8",
   "metadata": {
    "mystnb": {
     "figure": {
      "caption": "绘制残差图",
      "name": "plt-errors"
     }
    }
   },
   "outputs": [],
   "source": [
    "ax = pd.Series(errors).plot(xlabel='β', ylabel='残差')\n",
    "plt.axvline(β_optimal, color='r');"
   ]
  },
  {
   "cell_type": "markdown",
   "id": "27d52dcc",
   "metadata": {},
   "source": [
    "现在我们改变 $\\alpha$ （保持 $\\beta$ 不变）"
   ]
  },
  {
   "cell_type": "code",
   "execution_count": null,
   "id": "aabd077b",
   "metadata": {},
   "outputs": [],
   "source": [
    "errors = {}\n",
    "for α in np.arange(-500,500,5):\n",
    "    errors[α] = abs((α + β_optimal * df['X']) - df['Y']).sum()"
   ]
  },
  {
   "cell_type": "markdown",
   "id": "876640a4",
   "metadata": {},
   "source": [
    "绘制残差图"
   ]
  },
  {
   "cell_type": "code",
   "execution_count": null,
   "id": "57b5d692",
   "metadata": {
    "mystnb": {
     "figure": {
      "caption": "绘制残差图 (2)",
      "name": "plt-errors-2"
     }
    }
   },
   "outputs": [],
   "source": [
    "ax = pd.Series(errors).plot(xlabel='α', ylabel='残差')\n",
    "plt.axvline(α_optimal, color='r');"
   ]
  },
  {
   "cell_type": "markdown",
   "id": "9326fce3",
   "metadata": {},
   "source": [
    "(slr:optimal-values)=\n",
    "## 计算最优值\n",
    "\n",
    "现在让我们使用微积分来解决优化问题，并计算出 $\\alpha$ 和 $\\beta$ 的最优值，以找到普通最小二乘（OLS）解。\n",
    "\n",
    "首先对 $\\alpha$ 取偏导\n",
    "\n",
    "$$\n",
    "\\frac{\\partial C}{\\partial \\alpha}[\\sum_{i=1}^{N}{(y_i - \\alpha - \\beta x_i)^2}]\n",
    "$$\n",
    "\n",
    "并将其设为 $0$\n",
    "\n",
    "$$\n",
    "0 = \\sum_{i=1}^{N}{-2(y_i - \\alpha - \\beta x_i)}\n",
    "$$\n",
    "\n",
    "我们可以通过两边除以 $-2$ 来移除求和中的常数 $-2$\n",
    "\n",
    "$$\n",
    "0 = \\sum_{i=1}^{N}{(y_i - \\alpha - \\beta x_i)}\n",
    "$$\n",
    "\n",
    "现在我们可以将这个方程分解成几个组成部分\n",
    "\n",
    "$$\n",
    "0 = \\sum_{i=1}^{N}{y_i} - \\sum_{i=1}^{N}{\\alpha} - \\beta \\sum_{i=1}^{N}{x_i}\n",
    "$$\n",
    "\n",
    "中间项是常数 $\\alpha$ 从 $i=1,...N$ 进行直接相加得到的\n",
    "\n",
    "$$\n",
    "0 = \\sum_{i=1}^{N}{y_i} - N*\\alpha - \\beta \\sum_{i=1}^{N}{x_i}\n",
    "$$\n",
    "\n",
    "重新排列各项可得\n",
    "\n",
    "$$\n",
    "\\alpha = \\frac{\\sum_{i=1}^{N}{y_i} - \\beta \\sum_{i=1}^{N}{x_i}}{N}\n",
    "$$\n",
    "\n",
    "我们可以发现分解成两个分数后，它们分别是均值 $\\bar{y_i}$ 和 $\\bar{x_i}$\n",
    "\n",
    "$$\n",
    "\\alpha = \\bar{y_i} - \\beta\\bar{x_i}\n",
    "$$ (eq:optimal-alpha)\n",
    "\n",
    "回到成本函数 $C$ ，现在我们对 $\\beta$ 取偏导\n",
    "\n",
    "$$\n",
    "\\frac{\\partial C}{\\partial \\beta}[\\sum_{i=1}^{N}{(y_i - \\alpha - \\beta x_i)^2}]\n",
    "$$\n",
    "\n",
    "并将其设为 $0$\n",
    "\n",
    "$$\n",
    "0 = \\sum_{i=1}^{N}{-2 x_i (y_i - \\alpha - \\beta x_i)}\n",
    "$$\n",
    "\n",
    "我们可以通过将两边除以 $-2$ ，再次将常数从求和中取出\n",
    "\n",
    "$$\n",
    "0 = \\sum_{i=1}^{N}{x_i (y_i - \\alpha - \\beta x_i)}\n",
    "$$\n",
    "\n",
    "进一步化简\n",
    "\n",
    "$$\n",
    "0 = \\sum_{i=1}^{N}{(x_i y_i - \\alpha x_i - \\beta x_i^2)}\n",
    "$$\n",
    "\n",
    "现在代入 $\\alpha$\n",
    "\n",
    "$$\n",
    "0 = \\sum_{i=1}^{N}{(x_i y_i - (\\bar{y_i} - \\beta \\bar{x_i}) x_i - \\beta x_i^2)}\n",
    "$$\n",
    "\n",
    "重新排列各项\n",
    "\n",
    "$$\n",
    "0 = \\sum_{i=1}^{N}{(x_i y_i - \\bar{y_i} x_i - \\beta \\bar{x_i} x_i - \\beta x_i^2)}\n",
    "$$\n",
    "\n",
    "这个方程可以被分成两个求和\n",
    "\n",
    "$$\n",
    "0 = \\sum_{i=1}^{N}(x_i y_i - \\bar{y_i} x_i) + \\beta \\sum_{i=1}^{N}(\\bar{x_i} x_i - x_i^2)\n",
    "$$\n",
    "\n",
    "得到 $\\beta$ 的解\n",
    "\n",
    "$$\n",
    "\\beta = \\frac{\\sum_{i=1}^{N}(x_i y_i - \\bar{y_i} x_i)}{\\sum_{i=1}^{N}(x_i^2 - \\bar{x_i} x_i)}\n",
    "$$ (eq:optimal-beta)\n",
    "\n",
    "我们现在可以使用{eq}`eq:optimal-alpha` 和 {eq}`eq:optimal-beta` 来计算$\\alpha$和$\\beta$的最优值\n",
    "\n",
    "计算$\\beta$"
   ]
  },
  {
   "cell_type": "code",
   "execution_count": null,
   "id": "959a715a",
   "metadata": {},
   "outputs": [],
   "source": [
    "df = df[['X','Y']].copy()  # 原始数据\n",
    "\n",
    "# 计算样本均值\n",
    "x_bar = df['X'].mean()\n",
    "y_bar = df['Y'].mean()"
   ]
  },
  {
   "cell_type": "markdown",
   "id": "fa73ae70",
   "metadata": {},
   "source": [
    "现在我们用10个观察值进行计算，然后把分子和分母分别求和"
   ]
  },
  {
   "cell_type": "code",
   "execution_count": null,
   "id": "a33059aa",
   "metadata": {},
   "outputs": [],
   "source": [
    "# 计算求和项\n",
    "df['num'] = df['X'] * df['Y'] - y_bar * df['X']\n",
    "df['den'] = pow(df['X'],2) - x_bar * df['X']\n",
    "β = df['num'].sum() / df['den'].sum()\n",
    "print(β)"
   ]
  },
  {
   "cell_type": "markdown",
   "id": "c76ec441",
   "metadata": {},
   "source": [
    "计算$\\alpha$"
   ]
  },
  {
   "cell_type": "code",
   "execution_count": null,
   "id": "b9b768f6",
   "metadata": {},
   "outputs": [],
   "source": [
    "α = y_bar - β * x_bar\n",
    "print(α)"
   ]
  },
  {
   "cell_type": "markdown",
   "id": "67b8f3a5",
   "metadata": {},
   "source": [
    "现在我们可以绘制OLS解"
   ]
  },
  {
   "cell_type": "code",
   "execution_count": null,
   "id": "fdadc416",
   "metadata": {
    "mystnb": {
     "figure": {
      "caption": "OLS最佳拟合线",
      "name": "plt-ols"
     }
    }
   },
   "outputs": [],
   "source": [
    "df['Y_hat'] = α + β * df['X']\n",
    "df['error'] = df['Y_hat'] - df['Y']\n",
    "\n",
    "fig, ax = plt.subplots()\n",
    "ax = df.plot(x='X',y='Y', kind='scatter', ax=ax)\n",
    "yax = df.plot(x='X',y='Y_hat', kind='line', ax=ax, color='g', label=r'$\\hat Y$')\n",
    "plt.vlines(df['X'], df['Y_hat'], df['Y'], color='r');"
   ]
  },
  {
   "cell_type": "markdown",
   "id": "9ca5632b",
   "metadata": {},
   "source": [
    "```{exercise}\n",
    ":label: slr-ex1\n",
    "\n",
    "现在你已经知道了使用OLS解决简单线性回归模型的方程，你可以开始运行自己的回归来构建$y$和$x$之间的模型了。\n",
    "\n",
    "让我们考虑两个经济变量，人均GDP和预期寿命。\n",
    "\n",
    "1. 你认为它们之间的关系会是怎样的？\n",
    "2. 从[our world in data](https://ourworldindata.org)中搜集一些数据\n",
    "3. 使用`pandas`导入`csv`格式的数据，并绘制几个不同国家的图表\n",
    "4. 使用{eq}`eq:optimal-alpha` 和 {eq}`eq:optimal-beta`计算$\\alpha$和$\\beta$的最优值\n",
    "5. 使用OLS绘制最佳拟合线\n",
    "6. 解释系数并用一句话总结人均GDP和预期寿命之间的关系\n",
    "\n",
    "```\n",
    "\n",
    "```{solution-start} slr-ex1\n",
    ":class: dropdown\n",
    "```\n",
    "\n",
    "**第2问：** 从[our world in data](https://ourworldindata.org)中搜集一些数据\n",
    "\n",
    "```{raw} html\n",
    "<iframe src=\"https://ourworldindata.org/grapher/life-expectancy-vs-gdp-per-capita\" loading=\"lazy\" style=\"width: 100%; height: 600px; border: 0px none;\"></iframe>\n",
    "```\n",
    "\n",
    "如果你遇到困难，可以从这里下载{download}`数据副本 <https://github.com/QuantEcon/lecture-python-intro/raw/main/lectures/_static/lecture_specific/simple_linear_regression/life-expectancy-vs-gdp-per-capita.csv>`\n",
    "\n",
    "**第3问：** 使用`pandas`导入`csv`格式的数据并绘制几个感兴趣的国家的图表"
   ]
  },
  {
   "cell_type": "code",
   "execution_count": null,
   "id": "c95ca8aa",
   "metadata": {},
   "outputs": [],
   "source": [
    "data_url = \"https://github.com/QuantEcon/lecture-python-intro/raw/main/lectures/_static/lecture_specific/simple_linear_regression/life-expectancy-vs-gdp-per-capita.csv\"\n",
    "df = pd.read_csv(data_url, nrows=10)"
   ]
  },
  {
   "cell_type": "code",
   "execution_count": null,
   "id": "0101492f",
   "metadata": {},
   "outputs": [],
   "source": [
    "df"
   ]
  },
  {
   "cell_type": "markdown",
   "id": "71905c4f",
   "metadata": {},
   "source": [
    "从Our World in Data下载的数据包含了全球各国的人均GDP和预期寿命数据。\n",
    "\n",
    "在导入完整数据集之前，我们先看看前几行数据来了解其结构。这样可以帮助我们确定哪些列是我们真正需要的。\n",
    "\n",
    "我们可以看到数据集中包含了一些不必要的列，比如`Continent`。\n",
    "\n",
    "让我们选择我们需要的列来创建一个更简洁的数据集："
   ]
  },
  {
   "cell_type": "code",
   "execution_count": null,
   "id": "92486f9b",
   "metadata": {},
   "outputs": [],
   "source": [
    "cols = ['Code', 'Year', 'Life expectancy at birth (historical)', 'GDP per capita']\n",
    "df = pd.read_csv(data_url, usecols=cols)\n",
    "df"
   ]
  },
  {
   "cell_type": "markdown",
   "id": "59e685c6",
   "metadata": {},
   "source": [
    "有时候重命名列名可以让我们在DataFrame中更方便进行操作"
   ]
  },
  {
   "cell_type": "code",
   "execution_count": null,
   "id": "48a0390e",
   "metadata": {},
   "outputs": [],
   "source": [
    "df.columns = [\"cntry\", \"year\", \"life_expectancy\", \"gdppc\"]\n",
    "df"
   ]
  },
  {
   "cell_type": "markdown",
   "id": "99c90244",
   "metadata": {},
   "source": [
    "我们可以看到存在`NaN`值，这表示缺失数据，所以让我们继续删除这些数据"
   ]
  },
  {
   "cell_type": "code",
   "execution_count": null,
   "id": "2e199b70",
   "metadata": {},
   "outputs": [],
   "source": [
    "df.dropna(inplace=True)"
   ]
  },
  {
   "cell_type": "code",
   "execution_count": null,
   "id": "be0cdc18",
   "metadata": {},
   "outputs": [],
   "source": [
    "df"
   ]
  },
  {
   "cell_type": "markdown",
   "id": "5793ff31",
   "metadata": {},
   "source": [
    "通过删除缺失值，我们的数据集从62156行减少到了12445行。\n",
    "\n",
    "现在我们有了一个清理过的数据集，包含了不同国家在不同年份的预期寿命和人均GDP数据。\n",
    "\n",
    "在进行任何分析之前，我们应该先仔细了解数据的特点。一个重要的问题是: 不同国家在不同时期的数据是否完整?\n",
    "\n",
    "让我们先来看看预期寿命数据的分布情况"
   ]
  },
  {
   "cell_type": "code",
   "execution_count": null,
   "id": "5fd45c49",
   "metadata": {},
   "outputs": [],
   "source": [
    "le_years = df[['cntry', 'year', 'life_expectancy']].set_index(['cntry', 'year']).unstack()['life_expectancy']\n",
    "le_years"
   ]
  },
  {
   "cell_type": "markdown",
   "id": "ece24461",
   "metadata": {},
   "source": [
    "如你所见，有很多国家在1543年的数据是不可用的！\n",
    "\n",
    "哪个国家报告了这些数据？"
   ]
  },
  {
   "cell_type": "code",
   "execution_count": null,
   "id": "b75eed67",
   "metadata": {},
   "outputs": [],
   "source": [
    "le_years[~le_years[1543].isna()]"
   ]
  },
  {
   "cell_type": "markdown",
   "id": "fcf0e65d",
   "metadata": {},
   "source": [
    "你可以看到，只有大不列颠（GBR）的数据是可用的\n",
    "\n",
    "你还可以更仔细地观察时间序列，发现即使对于GBR，它也是不连续的。"
   ]
  },
  {
   "cell_type": "code",
   "execution_count": null,
   "id": "73708203",
   "metadata": {},
   "outputs": [],
   "source": [
    "le_years.loc['GBR'].plot(xlabel=\"年份\")"
   ]
  },
  {
   "cell_type": "markdown",
   "id": "e95a21fc",
   "metadata": {},
   "source": [
    "实际上我们可以使用pandas快速检查每个年份涵盖了多少个国家"
   ]
  },
  {
   "cell_type": "code",
   "execution_count": null,
   "id": "812e35a2",
   "metadata": {},
   "outputs": [],
   "source": [
    "le_years.stack().unstack(level=0).count(axis=1).plot(xlabel=\"年份\", ylabel=\"国家数量\");"
   ]
  },
  {
   "cell_type": "markdown",
   "id": "66115527",
   "metadata": {},
   "source": [
    "所以很明显，如果你进行横断面比较，那么最近的数据将包括更广泛的国家\n",
    "\n",
    "现在让我们考虑数据集中最近的一年，也就是2018"
   ]
  },
  {
   "cell_type": "code",
   "execution_count": null,
   "id": "a8e4224d",
   "metadata": {},
   "outputs": [],
   "source": [
    "df = df[df.year == 2018].reset_index(drop=True).copy()"
   ]
  },
  {
   "cell_type": "code",
   "execution_count": null,
   "id": "7b29cd03",
   "metadata": {},
   "outputs": [],
   "source": [
    "df.plot(x='gdppc', y='life_expectancy', kind='scatter', xlabel=\"人均GDP\", ylabel=\"预期寿命（年）\",);"
   ]
  },
  {
   "cell_type": "markdown",
   "id": "7f2f478c",
   "metadata": {},
   "source": [
    "这些数据显示了一些有趣的关系。\n",
    "\n",
    "1. 许多国家的人均GDP相近，但预期寿命差别很大\n",
    "2. 人均GDP与预期寿命之间似乎存在正向关系。人均GDP较高的国家往往拥有更高的预期寿命\n",
    "\n",
    "虽然普通最小二乘法（OLS）主要用于线性关系，但我们可以通过对变量进行适当的转换（比如取对数），使非线性关系转化为线性关系，从而仍然可以使用OLS方法。\n",
    "\n",
    "通过指定 `logx` 你可以在对数尺度上绘制人均GDP数据"
   ]
  },
  {
   "cell_type": "code",
   "execution_count": null,
   "id": "7eef3f34",
   "metadata": {},
   "outputs": [],
   "source": [
    "df.plot(x='gdppc', y='life_expectancy', kind='scatter',  xlabel=\"人均GDP\", ylabel=\"预期寿命（年）\", logx=True);"
   ]
  },
  {
   "cell_type": "markdown",
   "id": "1a9516a4",
   "metadata": {},
   "source": [
    "从这次转换可以看出，线性模型更贴近数据的形状。"
   ]
  },
  {
   "cell_type": "code",
   "execution_count": null,
   "id": "ff7f7075",
   "metadata": {},
   "outputs": [],
   "source": [
    "df['log_gdppc'] = df['gdppc'].apply(np.log10)"
   ]
  },
  {
   "cell_type": "code",
   "execution_count": null,
   "id": "4a624b95",
   "metadata": {},
   "outputs": [],
   "source": [
    "df"
   ]
  },
  {
   "cell_type": "markdown",
   "id": "b78b66d0",
   "metadata": {},
   "source": [
    "**第4问:** 使用 {eq}`eq:optimal-alpha` 和 {eq}`eq:optimal-beta` 来计算  $\\alpha$ 和 $\\beta$ 的最优值"
   ]
  },
  {
   "cell_type": "code",
   "execution_count": null,
   "id": "660d3c11",
   "metadata": {},
   "outputs": [],
   "source": [
    "data = df[['log_gdppc', 'life_expectancy']].copy()  # 从DataFrame中提取数据\n",
    "\n",
    "# 计算样本均值\n",
    "x_bar = data['log_gdppc'].mean()\n",
    "y_bar = data['life_expectancy'].mean()"
   ]
  },
  {
   "cell_type": "code",
   "execution_count": null,
   "id": "a25617d7",
   "metadata": {},
   "outputs": [],
   "source": [
    "data"
   ]
  },
  {
   "cell_type": "code",
   "execution_count": null,
   "id": "9cf3eec0",
   "metadata": {},
   "outputs": [],
   "source": [
    "# 计算求和\n",
    "data['num'] = data['log_gdppc'] * data['life_expectancy'] - y_bar * data['log_gdppc']\n",
    "data['den'] = pow(data['log_gdppc'],2) - x_bar * data['log_gdppc']\n",
    "β = data['num'].sum() / data['den'].sum()\n",
    "print(β)"
   ]
  },
  {
   "cell_type": "code",
   "execution_count": null,
   "id": "dd2b7d5b",
   "metadata": {},
   "outputs": [],
   "source": [
    "α = y_bar - β * x_bar\n",
    "print(α)"
   ]
  },
  {
   "cell_type": "markdown",
   "id": "3980b718",
   "metadata": {},
   "source": [
    "**第5问:** 绘制使用 OLS 找到的最佳拟合线"
   ]
  },
  {
   "cell_type": "code",
   "execution_count": null,
   "id": "c36058ff",
   "metadata": {},
   "outputs": [],
   "source": [
    "data['life_expectancy_hat'] = α + β * df['log_gdppc']\n",
    "data['error'] = data['life_expectancy_hat'] - data['life_expectancy']\n",
    "\n",
    "fig, ax = plt.subplots()\n",
    "data.plot(x='log_gdppc',y='life_expectancy', kind='scatter', ax=ax)\n",
    "data.plot(x='log_gdppc',y='life_expectancy_hat', kind='line', ax=ax, color='g')\n",
    "plt.vlines(data['log_gdppc'], data['life_expectancy_hat'], data['life_expectancy'], color='r')"
   ]
  },
  {
   "cell_type": "markdown",
   "id": "3a38363f",
   "metadata": {},
   "source": [
    "```{solution-end}\n",
    "```\n",
    "\n",
    "```{exercise}\n",
    ":label: slr-ex2\n",
    "\n",
    "最小化平方和并不是生成最佳拟合线的 **唯一** 方法。\n",
    "\n",
    "举个例子，我们还可以考虑最小化 **绝对值** 之和，这样可以减少对异常值的权重。\n",
    "\n",
    "使用最小绝对值法求解 $\\alpha$ 和 $\\beta$ \n",
    "```"
   ]
  }
 ],
 "metadata": {
  "jupytext": {
   "text_representation": {
    "extension": ".md",
    "format_name": "myst",
    "format_version": 0.13,
    "jupytext_version": "1.14.4"
   }
  },
  "kernelspec": {
   "display_name": "Python 3 (ipykernel)",
   "language": "python",
   "name": "python3"
  },
  "source_map": [
   12,
   16,
   25,
   55,
   61,
   65,
   79,
   91,
   97,
   108,
   114,
   119,
   132,
   137,
   148,
   161,
   165,
   169,
   181,
   203,
   206,
   210,
   214,
   218,
   227,
   231,
   235,
   239,
   248,
   349,
   355,
   359,
   365,
   369,
   372,
   376,
   390,
   422,
   427,
   429,
   439,
   443,
   447,
   450,
   454,
   458,
   460,
   470,
   473,
   479,
   481,
   487,
   489,
   493,
   495,
   501,
   505,
   507,
   518,
   520,
   524,
   528,
   530,
   534,
   542,
   546,
   554,
   557,
   561,
   569
  ]
 },
 "nbformat": 4,
 "nbformat_minor": 5
}