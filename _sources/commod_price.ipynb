{
 "cells": [
  {
   "cell_type": "markdown",
   "id": "162bf3c5",
   "metadata": {},
   "source": [
    "# 商品价格\n",
    "\n",
    "## 大纲\n",
    "\n",
    "在全球超过一半的国家中，[商品](https://en.wikipedia.org/wiki/Commodity) 占 [总出口的大部分](https://unctad.org/publication/commodities-and-development-report-2019)。\n",
    "\n",
    "商品的例子包括铜、钻石、铁矿石、锂、棉花和咖啡豆。\n",
    "\n",
    "在本讲中，我们将介绍商品价格理论。\n",
    "\n",
    "相对于本系列的其他讲座，这一讲座内容较为高级。\n",
    "\n",
    "我们需要计算一个均衡，该均衡由价格函数描述。\n",
    "\n",
    "我们将解一个方程，其中价格函数是未知量。\n",
    "\n",
    "这比解一个未知数或向量的方程更难。\n",
    "\n",
    "讲座将讨论一种解 [函数方程](https://en.wikipedia.org/wiki/Functional_equation)（未知对象是函数的方程）的方法。\n",
    "\n",
    "对于本讲座，我们需要使用 `yfinance` 库。"
   ]
  },
  {
   "cell_type": "code",
   "execution_count": 1,
   "id": "ed609fd0",
   "metadata": {
    "tags": [
     "hide-output"
    ]
   },
   "outputs": [
    {
     "name": "stdout",
     "output_type": "stream",
     "text": [
      "Collecting yfinance\r\n"
     ]
    },
    {
     "name": "stdout",
     "output_type": "stream",
     "text": [
      "  Downloading yfinance-0.2.44-py2.py3-none-any.whl.metadata (13 kB)\r\n",
      "Requirement already satisfied: pandas>=1.3.0 in /home/runner/miniconda3/envs/quantecon/lib/python3.11/site-packages (from yfinance) (2.2.2)\r\n",
      "Requirement already satisfied: numpy>=1.16.5 in /home/runner/miniconda3/envs/quantecon/lib/python3.11/site-packages (from yfinance) (1.26.4)\r\n",
      "Requirement already satisfied: requests>=2.31 in /home/runner/miniconda3/envs/quantecon/lib/python3.11/site-packages (from yfinance) (2.32.2)\r\n"
     ]
    },
    {
     "name": "stdout",
     "output_type": "stream",
     "text": [
      "Collecting multitasking>=0.0.7 (from yfinance)\r\n",
      "  Downloading multitasking-0.0.11-py3-none-any.whl.metadata (5.5 kB)\r\n",
      "Requirement already satisfied: lxml>=4.9.1 in /home/runner/miniconda3/envs/quantecon/lib/python3.11/site-packages (from yfinance) (5.2.1)\r\n",
      "Requirement already satisfied: platformdirs>=2.0.0 in /home/runner/miniconda3/envs/quantecon/lib/python3.11/site-packages (from yfinance) (3.10.0)\r\n",
      "Requirement already satisfied: pytz>=2022.5 in /home/runner/miniconda3/envs/quantecon/lib/python3.11/site-packages (from yfinance) (2024.1)\r\n"
     ]
    },
    {
     "name": "stdout",
     "output_type": "stream",
     "text": [
      "Collecting frozendict>=2.3.4 (from yfinance)\r\n",
      "  Downloading frozendict-2.4.5-py311-none-any.whl.metadata (23 kB)\r\n"
     ]
    },
    {
     "name": "stdout",
     "output_type": "stream",
     "text": [
      "Collecting peewee>=3.16.2 (from yfinance)\r\n",
      "  Downloading peewee-3.17.6.tar.gz (3.0 MB)\r\n",
      "\u001b[?25l     \u001b[90m━━━━━━━━━━━━━━━━━━━━━━━━━━━━━━━━━━━━━━━━\u001b[0m \u001b[32m0.0/3.0 MB\u001b[0m \u001b[31m?\u001b[0m eta \u001b[36m-:--:--\u001b[0m"
     ]
    },
    {
     "name": "stdout",
     "output_type": "stream",
     "text": [
      "\r",
      "\u001b[2K     \u001b[91m━━━━\u001b[0m\u001b[91m╸\u001b[0m\u001b[90m━━━━━━━━━━━━━━━━━━━━━━━━━━━━━━━━━━━\u001b[0m \u001b[32m0.3/3.0 MB\u001b[0m \u001b[31m10.6 MB/s\u001b[0m eta \u001b[36m0:00:01\u001b[0m"
     ]
    },
    {
     "name": "stdout",
     "output_type": "stream",
     "text": [
      "\r",
      "\u001b[2K     \u001b[91m━━━━━━━━━━━━━━━━━━━━━━━━━━━━━━━━━━━\u001b[0m\u001b[91m╸\u001b[0m\u001b[90m━━━━\u001b[0m \u001b[32m2.6/3.0 MB\u001b[0m \u001b[31m38.9 MB/s\u001b[0m eta \u001b[36m0:00:01\u001b[0m\r",
      "\u001b[2K     \u001b[90m━━━━━━━━━━━━━━━━━━━━━━━━━━━━━━━━━━━━━━━━\u001b[0m \u001b[32m3.0/3.0 MB\u001b[0m \u001b[31m35.9 MB/s\u001b[0m eta \u001b[36m0:00:00\u001b[0m\r\n",
      "\u001b[?25h"
     ]
    },
    {
     "name": "stdout",
     "output_type": "stream",
     "text": [
      "  Installing build dependencies ... \u001b[?25l-"
     ]
    },
    {
     "name": "stdout",
     "output_type": "stream",
     "text": [
      "\b \b\\"
     ]
    },
    {
     "name": "stdout",
     "output_type": "stream",
     "text": [
      "\b \b|"
     ]
    },
    {
     "name": "stdout",
     "output_type": "stream",
     "text": [
      "\b \b/"
     ]
    },
    {
     "name": "stdout",
     "output_type": "stream",
     "text": [
      "\b \b-"
     ]
    },
    {
     "name": "stdout",
     "output_type": "stream",
     "text": [
      "\b \bdone\r\n"
     ]
    },
    {
     "name": "stdout",
     "output_type": "stream",
     "text": [
      "\u001b[?25h  Getting requirements to build wheel ... \u001b[?25l-\b \bdone\r\n"
     ]
    },
    {
     "name": "stdout",
     "output_type": "stream",
     "text": [
      "\u001b[?25h  Preparing metadata (pyproject.toml) ... \u001b[?25l-"
     ]
    },
    {
     "name": "stdout",
     "output_type": "stream",
     "text": [
      "\b \bdone\r\n",
      "\u001b[?25hRequirement already satisfied: beautifulsoup4>=4.11.1 in /home/runner/miniconda3/envs/quantecon/lib/python3.11/site-packages (from yfinance) (4.12.3)\r\n",
      "Collecting html5lib>=1.1 (from yfinance)\r\n",
      "  Downloading html5lib-1.1-py2.py3-none-any.whl.metadata (16 kB)\r\n"
     ]
    },
    {
     "name": "stdout",
     "output_type": "stream",
     "text": [
      "Requirement already satisfied: soupsieve>1.2 in /home/runner/miniconda3/envs/quantecon/lib/python3.11/site-packages (from beautifulsoup4>=4.11.1->yfinance) (2.5)\r\n",
      "Requirement already satisfied: six>=1.9 in /home/runner/miniconda3/envs/quantecon/lib/python3.11/site-packages (from html5lib>=1.1->yfinance) (1.16.0)\r\n",
      "Requirement already satisfied: webencodings in /home/runner/miniconda3/envs/quantecon/lib/python3.11/site-packages (from html5lib>=1.1->yfinance) (0.5.1)\r\n"
     ]
    },
    {
     "name": "stdout",
     "output_type": "stream",
     "text": [
      "Requirement already satisfied: python-dateutil>=2.8.2 in /home/runner/miniconda3/envs/quantecon/lib/python3.11/site-packages (from pandas>=1.3.0->yfinance) (2.9.0.post0)\r\n",
      "Requirement already satisfied: tzdata>=2022.7 in /home/runner/miniconda3/envs/quantecon/lib/python3.11/site-packages (from pandas>=1.3.0->yfinance) (2023.3)\r\n",
      "Requirement already satisfied: charset-normalizer<4,>=2 in /home/runner/miniconda3/envs/quantecon/lib/python3.11/site-packages (from requests>=2.31->yfinance) (2.0.4)\r\n",
      "Requirement already satisfied: idna<4,>=2.5 in /home/runner/miniconda3/envs/quantecon/lib/python3.11/site-packages (from requests>=2.31->yfinance) (3.7)\r\n",
      "Requirement already satisfied: urllib3<3,>=1.21.1 in /home/runner/miniconda3/envs/quantecon/lib/python3.11/site-packages (from requests>=2.31->yfinance) (2.2.2)\r\n",
      "Requirement already satisfied: certifi>=2017.4.17 in /home/runner/miniconda3/envs/quantecon/lib/python3.11/site-packages (from requests>=2.31->yfinance) (2024.6.2)\r\n"
     ]
    },
    {
     "name": "stdout",
     "output_type": "stream",
     "text": [
      "Downloading yfinance-0.2.44-py2.py3-none-any.whl (94 kB)\r\n",
      "\u001b[?25l   \u001b[90m━━━━━━━━━━━━━━━━━━━━━━━━━━━━━━━━━━━━━━━━\u001b[0m \u001b[32m0.0/94.6 kB\u001b[0m \u001b[31m?\u001b[0m eta \u001b[36m-:--:--\u001b[0m\r",
      "\u001b[2K   \u001b[90m━━━━━━━━━━━━━━━━━━━━━━━━━━━━━━━━━━━━━━━━\u001b[0m \u001b[32m94.6/94.6 kB\u001b[0m \u001b[31m32.3 MB/s\u001b[0m eta \u001b[36m0:00:00\u001b[0m\r\n",
      "\u001b[?25hDownloading frozendict-2.4.5-py311-none-any.whl (16 kB)\r\n",
      "Downloading html5lib-1.1-py2.py3-none-any.whl (112 kB)\r\n",
      "\u001b[?25l   \u001b[90m━━━━━━━━━━━━━━━━━━━━━━━━━━━━━━━━━━━━━━━━\u001b[0m \u001b[32m0.0/112.2 kB\u001b[0m \u001b[31m?\u001b[0m eta \u001b[36m-:--:--\u001b[0m\r",
      "\u001b[2K   \u001b[90m━━━━━━━━━━━━━━━━━━━━━━━━━━━━━━━━━━━━━━━━\u001b[0m \u001b[32m112.2/112.2 kB\u001b[0m \u001b[31m37.0 MB/s\u001b[0m eta \u001b[36m0:00:00\u001b[0m\r\n",
      "\u001b[?25h"
     ]
    },
    {
     "name": "stdout",
     "output_type": "stream",
     "text": [
      "Downloading multitasking-0.0.11-py3-none-any.whl (8.5 kB)\r\n",
      "Building wheels for collected packages: peewee\r\n"
     ]
    },
    {
     "name": "stdout",
     "output_type": "stream",
     "text": [
      "  Building wheel for peewee (pyproject.toml) ... \u001b[?25l-"
     ]
    },
    {
     "name": "stdout",
     "output_type": "stream",
     "text": [
      "\b \b\\"
     ]
    },
    {
     "name": "stdout",
     "output_type": "stream",
     "text": [
      "\b \b|"
     ]
    },
    {
     "name": "stdout",
     "output_type": "stream",
     "text": [
      "\b \bdone\r\n",
      "\u001b[?25h  Created wheel for peewee: filename=peewee-3.17.6-cp311-cp311-linux_x86_64.whl size=274782 sha256=f1bdcf3d344d3e80062cf0aa6e77160ede4624893b359479a8b43cce7b080f3e\r\n",
      "  Stored in directory: /home/runner/.cache/pip/wheels/1c/09/7e/9f659fde248ecdc1722a142c1d744271aad3914a0afc191058\r\n",
      "Successfully built peewee\r\n"
     ]
    },
    {
     "name": "stdout",
     "output_type": "stream",
     "text": [
      "Installing collected packages: peewee, multitasking, html5lib, frozendict, yfinance\r\n"
     ]
    },
    {
     "name": "stdout",
     "output_type": "stream",
     "text": [
      "Successfully installed frozendict-2.4.5 html5lib-1.1 multitasking-0.0.11 peewee-3.17.6 yfinance-0.2.44\r\n"
     ]
    }
   ],
   "source": [
    "!pip install yfinance"
   ]
  },
  {
   "cell_type": "markdown",
   "id": "f6e81ab6",
   "metadata": {},
   "source": [
    "我们将使用以下导入"
   ]
  },
  {
   "cell_type": "code",
   "execution_count": 2,
   "id": "330d8cf8",
   "metadata": {},
   "outputs": [],
   "source": [
    "import numpy as np\n",
    "import yfinance as yf\n",
    "import matplotlib.pyplot as plt\n",
    "from scipy.interpolate import interp1d\n",
    "from scipy.optimize import brentq\n",
    "from scipy.stats import beta"
   ]
  },
  {
   "cell_type": "markdown",
   "id": "603282f9",
   "metadata": {},
   "source": [
    "## 数据\n",
    "\n",
    "下图显示了自 2016 年初以来以美元计价的棉花价格。"
   ]
  },
  {
   "cell_type": "code",
   "execution_count": 3,
   "id": "45437fb5",
   "metadata": {
    "tags": [
     "hide-input",
     "hide-output"
    ]
   },
   "outputs": [
    {
     "name": "stderr",
     "output_type": "stream",
     "text": [
      "\r",
      "[*********************100%***********************]  1 of 1 completed"
     ]
    },
    {
     "name": "stderr",
     "output_type": "stream",
     "text": [
      "\n"
     ]
    }
   ],
   "source": [
    "s = yf.download('CT=F', '2016-1-1', '2023-4-1')['Adj Close']"
   ]
  },
  {
   "cell_type": "code",
   "execution_count": 4,
   "id": "0fc12d13",
   "metadata": {
    "tags": [
     "hide-input"
    ]
   },
   "outputs": [
    {
     "data": {
      "image/png": "[encoded data removed]",
      "text/plain": [
       "<Figure size 640x480 with 1 Axes>"
      ]
     },
     "metadata": {},
     "output_type": "display_data"
    }
   ],
   "source": [
    "fig, ax = plt.subplots()\n",
    "\n",
    "ax.plot(s, marker='o', alpha=0.5, ms=1)\n",
    "ax.set_ylabel('cotton price in USD', fontsize=12)\n",
    "ax.set_xlabel('date', fontsize=12)\n",
    "\n",
    "plt.show()"
   ]
  },
  {
   "cell_type": "markdown",
   "id": "674b8f72",
   "metadata": {},
   "source": [
    "该图显示了棉花价格的巨大波动，令人惊讶。\n",
    "\n",
    "是什么导致了这些波动？\n",
    "\n",
    "一般来说，价格取决于以下各方的选择和行为：\n",
    "\n",
    "1. 供应商，\n",
    "2. 消费者，以及\n",
    "3. 投机者。\n",
    "\n",
    "我们的重点将是这些方之间的互动。\n",
    "\n",
    "我们将通过一个动态的供需模型将它们联系在一起，称为 *竞争性储存模型*。\n",
    "\n",
    "该模型由 {cite}`samuelson1971stochastic`、{cite}`wright1982economic`、{cite}`scheinkman1983simple`、{cite}`deaton1992on`、{cite}`deaton1996competitive` 和 {cite}`chambers1996theory` 开发。\n",
    "\n",
    "## 竞争性储存模型\n",
    "\n",
    "在竞争性储存模型中，商品是一种资产，它们：\n",
    "\n",
    "1. 可以被投机者交易，并且\n",
    "2. 对消费者有内在价值。\n",
    "\n",
    "总需求是消费者需求和投机者需求的总和。\n",
    "\n",
    "供应是外生的，取决于“收成”。\n",
    "\n",
    "```{note}\n",
    "如今，像基本的计算机芯片和集成电路这样的商品在金融市场上通常被视为商品，因为它们高度标准化。对于这些类型的商品，使用“收成”一词并不合适。\n",
    "\n",
    "尽管如此，为了简化问题，我们仍然保留了这个术语。\n",
    "```\n",
    "\n",
    "均衡价格是通过竞争决定的。\n",
    "\n",
    "它是当前状态的一个函数（决定当前的收成并预测未来的收成）。\n",
    "\n",
    "\n",
    "\n",
    "## 模型\n",
    "\n",
    "考虑一个单一商品的市场，其价格在时间 $t$ 为 $p_t$。\n",
    "\n",
    "该商品在时间 $t$ 的收成为 $Z_t$。\n",
    "\n",
    "我们假设序列 $\\{ Z_t \\}_{t \\geq 1}$ 是独立同分布（IID）的，具有共同的密度函数 $\\phi$，其中 $\\phi$ 为非负。\n",
    "\n",
    "投机者可以在各期之间储存该商品，当前期购买的 $I_t$ 单位在下一期将产生 $\\alpha I_t$ 单位。\n",
    "\n",
    "这里的参数 $\\alpha \\in (0,1)$ 是该商品的贬值率。\n",
    "\n",
    "为了简化问题，风险自由利率取为零，因此购买 $I_t$ 单位的预期利润为\n",
    "\n",
    "$$\n",
    "  \\mathbb{E}_t \\, p_{t+1} \\cdot \\alpha I_t - p_t I_t\n",
    "   = (\\alpha \\mathbb{E}_t \\, p_{t+1} - p_t) I_t\n",
    "$$\n",
    "\n",
    "其中 $\\mathbb{E}_t \\, p_{t+1}$ 是在时间 $t$ 对 $p_{t+1}$ 的期望。\n",
    "\n",
    "\n",
    "## 均衡\n",
    "\n",
    "在本节中，我们定义均衡并讨论如何计算它。\n",
    "\n",
    "### 均衡条件\n",
    "\n",
    "假设投机者是风险中性的，这意味着他们在预期利润为正时会购买商品。\n",
    "\n",
    "因此，如果预期利润为正，则市场不处于均衡状态。\n",
    "\n",
    "因此，要达到均衡，价格必须满足“无套利”条件\n",
    "\n",
    "$$\n",
    "  \\alpha \\mathbb{E}_t \\, p_{t+1}  - p_t \\leq 0\n",
    "$$ (eq:arbi)\n",
    "\n",
    "这意味着如果预期价格低于当前价格，则没有套利空间。\n",
    "\n",
    "利润最大化给出了额外条件\n",
    "\n",
    "$$\n",
    "  \\alpha \\mathbb{E}_t \\, p_{t+1}  - p_t  < 0 \\text{ 意味着 } I_t = 0\n",
    "$$ (eq:pmco)\n",
    "\n",
    "我们还要求市场清算，即每期供应等于需求。\n",
    "\n",
    "我们假设消费者根据价格 $p$ 生成需求量 $D(p)$。\n",
    "\n",
    "令 $P := D^{-1}$ 为逆需求函数。\n",
    "\n",
    "关于数量，\n",
    "\n",
    "* 供应是投机者的持有量和当前收成的总和，且\n",
    "* 需求是消费者购买和投机者购买的总和。\n",
    "\n",
    "在数学上，\n",
    "\n",
    "* 供应由 $X_t = \\alpha I_{t-1} + Z_t$ 给出，其取值在 $S := \\mathbb R_+$ 中，而\n",
    "* 需求为 $D(p_t) + I_t$\n",
    "\n",
    "因此，市场均衡条件为\n",
    "\n",
    "$$\n",
    "  \\alpha I_{t-1} + Z_t =  D(p_t) + I_t\n",
    "$$ (eq:mkeq)\n",
    "\n",
    "初始条件 $X_0 \\in S$ 被视为给定。\n",
    "\n",
    "\n",
    "\n",
    "### 一个均衡函数\n",
    "\n",
    "我们如何找到均衡？\n",
    "\n",
    "我们的攻击路径将是寻找一个仅依赖于当前状态的价格系统。\n",
    "\n",
    "（我们的解法涉及使用 [ansatz](https://en.wikipedia.org/wiki/Ansatz)，这是一种经过推测的猜测——在这种情况下是针对价格函数的猜测。）\n",
    "\n",
    "换句话说，我们在 $S$ 上取一个函数 $p$，并为每个 $t$ 设置 $p_t = p(X_t)$。\n",
    "\n",
    "价格和数量随后遵循\n",
    "\n",
    "$$\n",
    "  p_t = p(X_t), \\quad I_t = X_t - D(p_t), \\quad X_{t+1} = \\alpha I_t + Z_{t+1}\n",
    "$$ (eq:eosy)\n",
    "\n",
    "我们选择 $p$ 使得这些价格和数量满足上述均衡条件。\n",
    "\n",
    "更准确地说，我们寻找一个 $p$，使得 [](eq:arbi) 和 [](eq:pmco) 对应的系统 [](eq:eosy) 成立。\n",
    "\n",
    "$$\n",
    "  p^*(x) = \\max\n",
    "    \\left\\{\n",
    "    \\alpha \\int_0^\\infty p^*(\\alpha I(x) + z) \\phi(z)dz, P(x)\n",
    "    \\right\\}\n",
    "    \\qquad (x \\in S)\n",
    "$$ (eq:dopf)\n",
    "\n",
    "其中\n",
    "\n",
    "$$\n",
    "  I(x) := x - D(p^*(x))\n",
    "    \\qquad (x \\in S)\n",
    "$$ (eq:einvf)\n",
    "\n",
    "事实证明，这样的 $p^*$ 是足够的，因为 [](eq:arbi) 和 [](eq:pmco) 对应的系统 [](eq:eosy) 成立。\n",
    "\n",
    "要看到这一点，首先观察\n",
    "\n",
    "$$\n",
    "  \\mathbb{E}_t \\, p_{t+1}\n",
    "   = \\mathbb{E}_t \\, p^*(X_{t+1})\n",
    "   = \\mathbb{E}_t \\, p^*(\\alpha I(X_t) + Z_{t+1})\n",
    "   = \\int_0^\\infty p^*(\\alpha I(X_t) + z) \\phi(z)dz\n",
    "$$\n",
    "\n",
    "因此，条件 [](eq:arbi) 要求\n",
    "\n",
    "$$\n",
    "   \\alpha \\int_0^\\infty p^*(\\alpha I(X_t) + z) \\phi(z)dz \\leq p^*(X_t)\n",
    "$$\n",
    "\n",
    "这个不等式是从 [](eq:dopf) 直接得到的。\n",
    "\n",
    "其次，关于 [](eq:pmco)，假设\n",
    "\n",
    "$$\n",
    "   \\alpha \\int_0^\\infty p^*(\\alpha I(X_t) + z) \\phi(z)dz < p^*(X_t)\n",
    "$$\n",
    "\n",
    "那么根据 [](eq:dopf)，我们有 $p^*(X_t) = P(X_t)$。\n",
    "\n",
    "但这时 $D(p^*(X_t)) = X_t$，并且 $I_t = I(X_t) = 0$。\n",
    "\n",
    "因此，条件 [](eq:arbi) 和 [](eq:pmco) 都成立。\n",
    "\n",
    "我们找到了一个均衡，验证了 ansatz。\n",
    "\n",
    "\n",
    "### 计算均衡\n",
    "\n",
    "我们现在知道，均衡可以通过找到一个满足 [](eq:dopf) 的函数 $p^*$ 来获得。\n",
    "\n",
    "可以证明，在温和的条件下，$S$ 上恰好存在一个满足 [](eq:dopf) 的函数。\n",
    "\n",
    "此外，我们可以通过逐次逼近来计算这个函数。\n",
    "\n",
    "这意味着我们从对函数的一个猜测开始，然后使用 [](eq:dopf) 更新它。\n",
    "\n",
    "这会生成一系列函数 $p_1, p_2, \\ldots$\n",
    "\n",
    "我们继续这个过程，直到它收敛，即 $p_k$ 和 $p_{k+1}$ 非常接近。\n",
    "\n",
    "然后，我们将计算得到的最终 $p_k$ 作为 $p^*$ 的近似值。\n",
    "\n",
    "为了实现我们的更新步骤，将 [](eq:dopf) 和 [](eq:einvf) 放在一起是有帮助的。\n",
    "\n",
    "这使我们得到了更新规则\n",
    "\n",
    "$$\n",
    "  p_{k+1}(x) = \\max\n",
    "    \\left\\{\n",
    "    \\alpha \\int_0^\\infty p_k(\\alpha ( x - D(p_{k+1}(x))) + z) \\phi(z)dz, P(x)\n",
    "    \\right\\}\n",
    "$$ (eq:dopf2)\n",
    "\n",
    "换句话说，我们将 $p_k$ 视为给定，并在每个 $x$ 处求解 $q$\n",
    "\n",
    "$$\n",
    "  q = \\max\n",
    "    \\left\\{\n",
    "    \\alpha \\int_0^\\infty p_k(\\alpha ( x - D(q)) + z) \\phi(z)dz, P(x)\n",
    "    \\right\\}\n",
    "$$ (eq:dopf3)\n",
    "\n",
    "实际上，我们无法在每个 $x$ 处进行此操作，因此我们在一系列点 $x_1, \\ldots, x_n$ 上进行。\n",
    "\n",
    "然后我们得到对应的值 $q_1, \\ldots, q_n$。\n",
    "\n",
    "接着，我们将 $p_{k+1}$ 计算为在网格 $x_1, \\ldots, x_n$ 上对值 $q_1, \\ldots, q_n$ 的线性插值。\n",
    "\n",
    "然后我们重复这个过程，寻求收敛。\n",
    "\n",
    "## 代码\n",
    "\n",
    "下面的代码实现了这个迭代过程，从 $p_0 = P$ 开始。\n",
    "\n",
    "分布 $\\phi$ 被设定为一个偏移的贝塔分布（尽管可以选择许多其他的分布）。\n",
    "\n",
    "在 [](eq:dopf3) 中的积分通过 {ref}`Monte Carlo <monte-carlo>` 方法计算。"
   ]
  },
  {
   "cell_type": "code",
   "execution_count": 5,
   "id": "6a5f59d0",
   "metadata": {},
   "outputs": [
    {
     "name": "stderr",
     "output_type": "stream",
     "text": [
      "/home/runner/miniconda3/envs/quantecon/lib/python3.11/site-packages/IPython/core/pylabtools.py:170: UserWarning: Glyph 20215 (\\N{CJK UNIFIED IDEOGRAPH-4EF7}) missing from current font.\n",
      "  fig.canvas.print_figure(bytes_io, **kw)\n",
      "/home/runner/miniconda3/envs/quantecon/lib/python3.11/site-packages/IPython/core/pylabtools.py:170: UserWarning: Glyph 26684 (\\N{CJK UNIFIED IDEOGRAPH-683C}) missing from current font.\n",
      "  fig.canvas.print_figure(bytes_io, **kw)\n",
      "/home/runner/miniconda3/envs/quantecon/lib/python3.11/site-packages/IPython/core/pylabtools.py:170: UserWarning: Glyph 21453 (\\N{CJK UNIFIED IDEOGRAPH-53CD}) missing from current font.\n",
      "  fig.canvas.print_figure(bytes_io, **kw)\n",
      "/home/runner/miniconda3/envs/quantecon/lib/python3.11/site-packages/IPython/core/pylabtools.py:170: UserWarning: Glyph 38656 (\\N{CJK UNIFIED IDEOGRAPH-9700}) missing from current font.\n",
      "  fig.canvas.print_figure(bytes_io, **kw)\n",
      "/home/runner/miniconda3/envs/quantecon/lib/python3.11/site-packages/IPython/core/pylabtools.py:170: UserWarning: Glyph 27714 (\\N{CJK UNIFIED IDEOGRAPH-6C42}) missing from current font.\n",
      "  fig.canvas.print_figure(bytes_io, **kw)\n",
      "/home/runner/miniconda3/envs/quantecon/lib/python3.11/site-packages/IPython/core/pylabtools.py:170: UserWarning: Glyph 26354 (\\N{CJK UNIFIED IDEOGRAPH-66F2}) missing from current font.\n",
      "  fig.canvas.print_figure(bytes_io, **kw)\n",
      "/home/runner/miniconda3/envs/quantecon/lib/python3.11/site-packages/IPython/core/pylabtools.py:170: UserWarning: Glyph 32447 (\\N{CJK UNIFIED IDEOGRAPH-7EBF}) missing from current font.\n",
      "  fig.canvas.print_figure(bytes_io, **kw)\n"
     ]
    },
    {
     "data": {
      "image/png": "[encoded data removed]",
      "text/plain": [
       "<Figure size 640x480 with 1 Axes>"
      ]
     },
     "metadata": {},
     "output_type": "display_data"
    }
   ],
   "source": [
    "α, a, c = 0.8, 1.0, 2.0\n",
    "beta_a, beta_b = 5, 5\n",
    "mc_draw_size = 250\n",
    "gridsize = 150\n",
    "grid_max = 35\n",
    "grid = np.linspace(a, grid_max, gridsize)\n",
    "\n",
    "beta_dist = beta(5, 5)\n",
    "Z = a + beta_dist.rvs(mc_draw_size) * c    # 冲击观察\n",
    "D = P = lambda x: 1.0 / x\n",
    "tol = 1e-4\n",
    "\n",
    "\n",
    "def T(p_array):\n",
    "\n",
    "    new_p = np.empty_like(p_array)\n",
    "\n",
    "    # 插值以获得p 作为函数。\n",
    "\n",
    "    p = interp1d(grid,\n",
    "                 p_array,\n",
    "                 fill_value=(p_array[0], p_array[-1]),\n",
    "                 bounds_error=False)\n",
    "\n",
    "    # 更新\n",
    "    for i, x in enumerate(grid):\n",
    "\n",
    "        h = lambda q: q - max(α * np.mean(p(α * (x - D(q)) + Z)), P(x))\n",
    "        new_p[i] = brentq(h, 1e-8, 100)\n",
    "\n",
    "    return new_p\n",
    "\n",
    "\n",
    "fig, ax = plt.subplots()\n",
    "\n",
    "price = P(grid)\n",
    "ax.plot(grid, price, alpha=0.5, lw=1, label=\"反需求曲线\")\n",
    "error = tol + 1\n",
    "while error > tol:\n",
    "    new_price = T(price)\n",
    "    error = max(np.abs(new_price - price))\n",
    "    price = new_price\n",
    "\n",
    "ax.plot(grid, price, 'k-', alpha=0.5, lw=2, label=r'$p^*$')\n",
    "ax.legend()\n",
    "ax.set_xlabel('$x$')\n",
    "ax.set_ylabel(\"价格\")\n",
    "\n",
    "plt.show()"
   ]
  },
  {
   "cell_type": "markdown",
   "id": "465e4b15",
   "metadata": {},
   "source": [
    "上图显示了逆需求曲线 $P$，也就是 $p_0$，以及我们对 $p^*$ 的近似。\n",
    "\n",
    "一旦我们得到了 $p^*$ 的近似值，就可以模拟价格的时间序列。"
   ]
  },
  {
   "cell_type": "code",
   "execution_count": 6,
   "id": "0be1cd00",
   "metadata": {},
   "outputs": [
    {
     "name": "stderr",
     "output_type": "stream",
     "text": [
      "/home/runner/miniconda3/envs/quantecon/lib/python3.11/site-packages/IPython/core/pylabtools.py:170: UserWarning: Glyph 26102 (\\N{CJK UNIFIED IDEOGRAPH-65F6}) missing from current font.\n",
      "  fig.canvas.print_figure(bytes_io, **kw)\n",
      "/home/runner/miniconda3/envs/quantecon/lib/python3.11/site-packages/IPython/core/pylabtools.py:170: UserWarning: Glyph 38388 (\\N{CJK UNIFIED IDEOGRAPH-95F4}) missing from current font.\n",
      "  fig.canvas.print_figure(bytes_io, **kw)\n"
     ]
    },
    {
     "data": {
      "image/png": "[encoded data removed]",
      "text/plain": [
       "<Figure size 640x480 with 1 Axes>"
      ]
     },
     "metadata": {},
     "output_type": "display_data"
    }
   ],
   "source": [
    "# 将价格数组转化为价格函数。\n",
    "p_star = interp1d(grid,\n",
    "                  price,\n",
    "                  fill_value=(price[0], price[-1]),\n",
    "                  bounds_error=False)\n",
    "\n",
    "def carry_over(x):\n",
    "    return α * (x - D(p_star(x)))\n",
    "\n",
    "def generate_cp_ts(init=1, n=50):\n",
    "    X = np.empty(n)\n",
    "    X[0] = init\n",
    "    for t in range(n-1):\n",
    "            Z = a + c * beta_dist.rvs()\n",
    "            X[t+1] = carry_over(X[t]) + Z\n",
    "    return p_star(X)\n",
    "\n",
    "fig, ax = plt.subplots()\n",
    "ax.plot(generate_cp_ts(), label=\"价格\")\n",
    "ax.set_xlabel(\"时间\")\n",
    "ax.legend()\n",
    "plt.show()"
   ]
  }
 ],
 "metadata": {
  "jupytext": {
   "text_representation": {
    "extension": ".md",
    "format_name": "myst"
   }
  },
  "kernelspec": {
   "display_name": "Python 3 (ipykernel)",
   "language": "python",
   "name": "python3"
  },
  "language_info": {
   "codemirror_mode": {
    "name": "ipython",
    "version": 3
   },
   "file_extension": ".py",
   "mimetype": "text/x-python",
   "name": "python",
   "nbconvert_exporter": "python",
   "pygments_lexer": "ipython3",
   "version": "3.11.9"
  },
  "source_map": [
   10,
   37,
   40,
   45,
   52,
   59,
   65,
   75,
   311,
   361,
   368
  ]
 },
 "nbformat": 4,
 "nbformat_minor": 5
}