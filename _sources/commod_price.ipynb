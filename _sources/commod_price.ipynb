{
 "cells": [
  {
   "cell_type": "markdown",
   "id": "56119e7b",
   "metadata": {},
   "source": [
    "# Commodity Prices\n",
    "\n",
    "## Outline\n",
    "\n",
    "For more than half of all countries around the globe, [commodities](https://en.wikipedia.org/wiki/Commodity) account for [the majority of total exports](https://unctad.org/publication/commodities-and-development-report-2019).\n",
    "\n",
    "Examples of commodities include copper, diamonds, iron ore, lithium, cotton\n",
    "and coffee beans.\n",
    "\n",
    "In this lecture we give an introduction to the theory of commodity prices.\n",
    "\n",
    "The lecture is quite advanced relative to other lectures in this series.\n",
    "\n",
    "We need to compute an equilibrium, and that equilibrium is described by a\n",
    "price function.\n",
    "\n",
    "We will solve an equation where the price function is the unknown.\n",
    "\n",
    "This is harder than solving an equation for an unknown number, or vector.\n",
    "\n",
    "The lecture will discuss one way to solve a [functional equation](https://en.wikipedia.org/wiki/Functional_equation) (an equation where the unknown object is a function).\n",
    "\n",
    "For this lecture we need the `yfinance` library."
   ]
  },
  {
   "cell_type": "code",
   "execution_count": 1,
   "id": "29325846",
   "metadata": {
    "tags": [
     "hide-output"
    ]
   },
   "outputs": [
    {
     "name": "stdout",
     "output_type": "stream",
     "text": [
      "Collecting yfinance\r\n"
     ]
    },
    {
     "name": "stdout",
     "output_type": "stream",
     "text": [
      "  Downloading yfinance-0.2.43-py2.py3-none-any.whl.metadata (11 kB)\r\n",
      "Requirement already satisfied: pandas>=1.3.0 in /home/runner/miniconda3/envs/quantecon/lib/python3.11/site-packages (from yfinance) (2.2.2)\r\n",
      "Requirement already satisfied: numpy>=1.16.5 in /home/runner/miniconda3/envs/quantecon/lib/python3.11/site-packages (from yfinance) (1.26.4)\r\n",
      "Requirement already satisfied: requests>=2.31 in /home/runner/miniconda3/envs/quantecon/lib/python3.11/site-packages (from yfinance) (2.32.2)\r\n",
      "Collecting multitasking>=0.0.7 (from yfinance)\r\n"
     ]
    },
    {
     "name": "stdout",
     "output_type": "stream",
     "text": [
      "  Downloading multitasking-0.0.11-py3-none-any.whl.metadata (5.5 kB)\r\n",
      "Requirement already satisfied: lxml>=4.9.1 in /home/runner/miniconda3/envs/quantecon/lib/python3.11/site-packages (from yfinance) (5.2.1)\r\n",
      "Requirement already satisfied: platformdirs>=2.0.0 in /home/runner/miniconda3/envs/quantecon/lib/python3.11/site-packages (from yfinance) (3.10.0)\r\n",
      "Requirement already satisfied: pytz>=2022.5 in /home/runner/miniconda3/envs/quantecon/lib/python3.11/site-packages (from yfinance) (2024.1)\r\n"
     ]
    },
    {
     "name": "stdout",
     "output_type": "stream",
     "text": [
      "Collecting frozendict>=2.3.4 (from yfinance)\r\n",
      "  Downloading frozendict-2.4.4-py311-none-any.whl.metadata (23 kB)\r\n"
     ]
    },
    {
     "name": "stdout",
     "output_type": "stream",
     "text": [
      "Collecting peewee>=3.16.2 (from yfinance)\r\n",
      "  Downloading peewee-3.17.6.tar.gz (3.0 MB)\r\n",
      "\u001b[?25l     \u001b[90m━━━━━━━━━━━━━━━━━━━━━━━━━━━━━━━━━━━━━━━━\u001b[0m \u001b[32m0.0/3.0 MB\u001b[0m \u001b[31m?\u001b[0m eta \u001b[36m-:--:--\u001b[0m"
     ]
    },
    {
     "name": "stdout",
     "output_type": "stream",
     "text": [
      "\r",
      "\u001b[2K     \u001b[91m━━━━━━━━━━━━━━━━━━━━━━━\u001b[0m\u001b[90m╺\u001b[0m\u001b[90m━━━━━━━━━━━━━━━━\u001b[0m \u001b[32m1.7/3.0 MB\u001b[0m \u001b[31m51.5 MB/s\u001b[0m eta \u001b[36m0:00:01\u001b[0m\r",
      "\u001b[2K     \u001b[90m━━━━━━━━━━━━━━━━━━━━━━━━━━━━━━━━━━━━━━━━\u001b[0m \u001b[32m3.0/3.0 MB\u001b[0m \u001b[31m57.5 MB/s\u001b[0m eta \u001b[36m0:00:00\u001b[0m\r\n",
      "\u001b[?25h"
     ]
    },
    {
     "name": "stdout",
     "output_type": "stream",
     "text": [
      "  Installing build dependencies ... \u001b[?25l-"
     ]
    },
    {
     "name": "stdout",
     "output_type": "stream",
     "text": [
      "\b \b\\"
     ]
    },
    {
     "name": "stdout",
     "output_type": "stream",
     "text": [
      "\b \b|"
     ]
    },
    {
     "name": "stdout",
     "output_type": "stream",
     "text": [
      "\b \b/"
     ]
    },
    {
     "name": "stdout",
     "output_type": "stream",
     "text": [
      "\b \bdone\r\n"
     ]
    },
    {
     "name": "stdout",
     "output_type": "stream",
     "text": [
      "\u001b[?25h  Getting requirements to build wheel ... \u001b[?25l-\b \bdone\r\n"
     ]
    },
    {
     "name": "stdout",
     "output_type": "stream",
     "text": [
      "\u001b[?25h  Preparing metadata (pyproject.toml) ... \u001b[?25l-"
     ]
    },
    {
     "name": "stdout",
     "output_type": "stream",
     "text": [
      "\b \bdone\r\n",
      "\u001b[?25hRequirement already satisfied: beautifulsoup4>=4.11.1 in /home/runner/miniconda3/envs/quantecon/lib/python3.11/site-packages (from yfinance) (4.12.3)\r\n"
     ]
    },
    {
     "name": "stdout",
     "output_type": "stream",
     "text": [
      "Collecting html5lib>=1.1 (from yfinance)\r\n",
      "  Downloading html5lib-1.1-py2.py3-none-any.whl.metadata (16 kB)\r\n",
      "Requirement already satisfied: soupsieve>1.2 in /home/runner/miniconda3/envs/quantecon/lib/python3.11/site-packages (from beautifulsoup4>=4.11.1->yfinance) (2.5)\r\n",
      "Requirement already satisfied: six>=1.9 in /home/runner/miniconda3/envs/quantecon/lib/python3.11/site-packages (from html5lib>=1.1->yfinance) (1.16.0)\r\n",
      "Requirement already satisfied: webencodings in /home/runner/miniconda3/envs/quantecon/lib/python3.11/site-packages (from html5lib>=1.1->yfinance) (0.5.1)\r\n"
     ]
    },
    {
     "name": "stdout",
     "output_type": "stream",
     "text": [
      "Requirement already satisfied: python-dateutil>=2.8.2 in /home/runner/miniconda3/envs/quantecon/lib/python3.11/site-packages (from pandas>=1.3.0->yfinance) (2.9.0.post0)\r\n",
      "Requirement already satisfied: tzdata>=2022.7 in /home/runner/miniconda3/envs/quantecon/lib/python3.11/site-packages (from pandas>=1.3.0->yfinance) (2023.3)\r\n",
      "Requirement already satisfied: charset-normalizer<4,>=2 in /home/runner/miniconda3/envs/quantecon/lib/python3.11/site-packages (from requests>=2.31->yfinance) (2.0.4)\r\n",
      "Requirement already satisfied: idna<4,>=2.5 in /home/runner/miniconda3/envs/quantecon/lib/python3.11/site-packages (from requests>=2.31->yfinance) (3.7)\r\n",
      "Requirement already satisfied: urllib3<3,>=1.21.1 in /home/runner/miniconda3/envs/quantecon/lib/python3.11/site-packages (from requests>=2.31->yfinance) (2.2.2)\r\n",
      "Requirement already satisfied: certifi>=2017.4.17 in /home/runner/miniconda3/envs/quantecon/lib/python3.11/site-packages (from requests>=2.31->yfinance) (2024.6.2)\r\n"
     ]
    },
    {
     "name": "stdout",
     "output_type": "stream",
     "text": [
      "Downloading yfinance-0.2.43-py2.py3-none-any.whl (84 kB)\r\n",
      "\u001b[?25l   \u001b[90m━━━━━━━━━━━━━━━━━━━━━━━━━━━━━━━━━━━━━━━━\u001b[0m \u001b[32m0.0/84.6 kB\u001b[0m \u001b[31m?\u001b[0m eta \u001b[36m-:--:--\u001b[0m\r",
      "\u001b[2K   \u001b[90m━━━━━━━━━━━━━━━━━━━━━━━━━━━━━━━━━━━━━━━━\u001b[0m \u001b[32m84.6/84.6 kB\u001b[0m \u001b[31m19.8 MB/s\u001b[0m eta \u001b[36m0:00:00\u001b[0m\r\n",
      "\u001b[?25hDownloading frozendict-2.4.4-py311-none-any.whl (16 kB)\r\n"
     ]
    },
    {
     "name": "stdout",
     "output_type": "stream",
     "text": [
      "Downloading html5lib-1.1-py2.py3-none-any.whl (112 kB)\r\n",
      "\u001b[?25l   \u001b[90m━━━━━━━━━━━━━━━━━━━━━━━━━━━━━━━━━━━━━━━━\u001b[0m \u001b[32m0.0/112.2 kB\u001b[0m \u001b[31m?\u001b[0m eta \u001b[36m-:--:--\u001b[0m\r",
      "\u001b[2K   \u001b[90m━━━━━━━━━━━━━━━━━━━━━━━━━━━━━━━━━━━━━━━━\u001b[0m \u001b[32m112.2/112.2 kB\u001b[0m \u001b[31m24.2 MB/s\u001b[0m eta \u001b[36m0:00:00\u001b[0m\r\n",
      "\u001b[?25hDownloading multitasking-0.0.11-py3-none-any.whl (8.5 kB)\r\n",
      "Building wheels for collected packages: peewee\r\n"
     ]
    },
    {
     "name": "stdout",
     "output_type": "stream",
     "text": [
      "  Building wheel for peewee (pyproject.toml) ... \u001b[?25l-"
     ]
    },
    {
     "name": "stdout",
     "output_type": "stream",
     "text": [
      "\b \b\\"
     ]
    },
    {
     "name": "stdout",
     "output_type": "stream",
     "text": [
      "\b \b|"
     ]
    },
    {
     "name": "stdout",
     "output_type": "stream",
     "text": [
      "\b \bdone\r\n",
      "\u001b[?25h  Created wheel for peewee: filename=peewee-3.17.6-cp311-cp311-linux_x86_64.whl size=274782 sha256=7c580a841dd6564e5c188b2800182a3754f7b0926bd5d117f475015c1cdc5a3c\r\n",
      "  Stored in directory: /home/runner/.cache/pip/wheels/1c/09/7e/9f659fde248ecdc1722a142c1d744271aad3914a0afc191058\r\n",
      "Successfully built peewee\r\n"
     ]
    },
    {
     "name": "stdout",
     "output_type": "stream",
     "text": [
      "Installing collected packages: peewee, multitasking, html5lib, frozendict, yfinance\r\n"
     ]
    },
    {
     "name": "stdout",
     "output_type": "stream",
     "text": [
      "Successfully installed frozendict-2.4.4 html5lib-1.1 multitasking-0.0.11 peewee-3.17.6 yfinance-0.2.43\r\n"
     ]
    }
   ],
   "source": [
    "!pip install yfinance"
   ]
  },
  {
   "cell_type": "markdown",
   "id": "6fadfce7",
   "metadata": {},
   "source": [
    "We will use the following imports"
   ]
  },
  {
   "cell_type": "code",
   "execution_count": 2,
   "id": "f1e8a632",
   "metadata": {},
   "outputs": [],
   "source": [
    "import numpy as np\n",
    "import yfinance as yf\n",
    "import matplotlib.pyplot as plt\n",
    "from scipy.interpolate import interp1d\n",
    "from scipy.optimize import brentq\n",
    "from scipy.stats import beta"
   ]
  },
  {
   "cell_type": "markdown",
   "id": "aee25d2c",
   "metadata": {},
   "source": [
    "## Data\n",
    "\n",
    "The figure below shows the price of cotton in USD since the start of 2016."
   ]
  },
  {
   "cell_type": "code",
   "execution_count": 3,
   "id": "38d5fd90",
   "metadata": {
    "tags": [
     "hide-input",
     "hide-output"
    ]
   },
   "outputs": [
    {
     "name": "stderr",
     "output_type": "stream",
     "text": [
      "\r",
      "[*********************100%***********************]  1 of 1 completed"
     ]
    },
    {
     "name": "stderr",
     "output_type": "stream",
     "text": [
      "\n"
     ]
    }
   ],
   "source": [
    "s = yf.download('CT=F', '2016-1-1', '2023-4-1')['Adj Close']"
   ]
  },
  {
   "cell_type": "code",
   "execution_count": 4,
   "id": "c01cb162",
   "metadata": {
    "tags": [
     "hide-input"
    ]
   },
   "outputs": [
    {
     "data": {
      "image/png": "[encoded data removed]",
      "text/plain": [
       "<Figure size 640x480 with 1 Axes>"
      ]
     },
     "metadata": {},
     "output_type": "display_data"
    }
   ],
   "source": [
    "fig, ax = plt.subplots()\n",
    "\n",
    "ax.plot(s, marker='o', alpha=0.5, ms=1)\n",
    "ax.set_ylabel('cotton price in USD', fontsize=12)\n",
    "ax.set_xlabel('date', fontsize=12)\n",
    "\n",
    "plt.show()"
   ]
  },
  {
   "cell_type": "markdown",
   "id": "44dbf8df",
   "metadata": {},
   "source": [
    "The figure shows surprisingly large movements in the price of cotton.\n",
    "\n",
    "What causes these movements?\n",
    "\n",
    "In general, prices depend on the choices and actions of \n",
    "\n",
    "1. suppliers, \n",
    "2. consumers, and\n",
    "3. speculators.\n",
    "\n",
    "Our focus will be on the interaction between these parties. \n",
    "\n",
    "We will connect them together in a dynamic model of supply and demand, called\n",
    "the *competitive storage model*.\n",
    "\n",
    "This model was developed by\n",
    "{cite}`samuelson1971stochastic`,\n",
    "{cite}`wright1982economic`, {cite}`scheinkman1983simple`,\n",
    "{cite}`deaton1992on`, {cite}`deaton1996competitive`, and\n",
    "{cite}`chambers1996theory`.\n",
    "\n",
    "\n",
    "\n",
    "\n",
    "## The competitive storage model\n",
    "\n",
    "In the competitive storage model, commodities are assets that\n",
    "\n",
    "1. can be traded by speculators and\n",
    "1. have intrinsic value to consumers.\n",
    "\n",
    "Total demand is the sum of consumer demand and demand by speculators.\n",
    "\n",
    "Supply is exogenous, depending on \"harvests\".\n",
    "\n",
    "```{note}\n",
    "These days, goods such as basic computer chips and integrated circuits are\n",
    "often treated as commodities in financial markets, being highly standardized,\n",
    "and, for these kinds of commodities, the word \"harvest\" is not\n",
    "appropriate.\n",
    "\n",
    "Nonetheless, we maintain it for simplicity.\n",
    "```\n",
    "\n",
    "The equilibrium price is determined competitively.\n",
    "\n",
    "It is a function of the current state (which determines\n",
    "current harvests and predicts future harvests).\n",
    "\n",
    "\n",
    "\n",
    "## The model\n",
    "\n",
    "Consider a market for a single commodity, whose price is given at $t$ by\n",
    "$p_t$.\n",
    "\n",
    "The harvest of the commodity at time $t$ is $Z_t$.\n",
    "\n",
    "We assume that the sequence $\\{ Z_t \\}_{t \\geq 1}$ is IID with common density function $\\phi$, where $\\phi$ is nonnegative.\n",
    "\n",
    "Speculators can store the commodity between periods, with $I_t$ units\n",
    "purchased in the current period yielding $\\alpha I_t$ units in the next.\n",
    "\n",
    "Here the parameter $\\alpha \\in (0,1)$ is a depreciation rate for the commodity.\n",
    "\n",
    "For simplicity, the risk free interest rate is taken to be\n",
    "zero, so expected profit on purchasing $I_t$ units is\n",
    "\n",
    "$$\n",
    "  \\mathbb{E}_t \\, p_{t+1} \\cdot \\alpha I_t - p_t I_t\n",
    "   = (\\alpha \\mathbb{E}_t \\, p_{t+1} - p_t) I_t\n",
    "$$\n",
    "\n",
    "\n",
    "Here $\\mathbb{E}_t \\, p_{t+1}$ is the expectation of $p_{t+1}$ taken at time\n",
    "$t$.\n",
    "\n",
    "\n",
    "\n",
    "## Equilibrium\n",
    "\n",
    "In this section we define the equilibrium and discuss how to compute it.\n",
    "\n",
    "### Equilibrium conditions\n",
    "\n",
    "Speculators are assumed to be risk neutral, which means that they buy the\n",
    "commodity whenever expected profits are positive.\n",
    "\n",
    "As a consequence, if expected profits are positive, then the market is not in\n",
    "equilibrium.\n",
    "\n",
    "Hence, to be in equilibrium, prices must satisfy the \"no-arbitrage\"\n",
    "condition\n",
    "\n",
    "$$\n",
    "  \\alpha \\mathbb{E}_t \\, p_{t+1}  - p_t \\leq 0\n",
    "$$ (eq:arbi)\n",
    "\n",
    "This means that if the expected price is lower than the current price, there is no room for arbitrage.\n",
    "\n",
    "Profit maximization gives the additional condition\n",
    "\n",
    "$$\n",
    "  \\alpha \\mathbb{E}_t \\, p_{t+1}  - p_t  < 0 \\text{ implies } I_t = 0\n",
    "$$ (eq:pmco)\n",
    "\n",
    "\n",
    "We also require that the market clears, with supply equaling demand in each period.\n",
    "\n",
    "We assume that consumers generate demand quantity $D(p)$ corresponding to\n",
    "price $p$.\n",
    "\n",
    "Let $P := D^{-1}$ be the inverse demand function.\n",
    "\n",
    "\n",
    "Regarding quantities,\n",
    "\n",
    "* supply is the sum of carryover by speculators and the current harvest, and\n",
    "* demand is the sum of purchases by consumers and purchases by speculators.\n",
    "\n",
    "Mathematically,\n",
    "\n",
    "* supply is given by $X_t = \\alpha I_{t-1} + Z_t$, which takes values in $S := \\mathbb R_+$, while\n",
    "* demand $ = D(p_t) + I_t$\n",
    "\n",
    "Thus, the market equilibrium condition is\n",
    "\n",
    "$$\n",
    "  \\alpha I_{t-1} + Z_t =  D(p_t) + I_t\n",
    "$$ (eq:mkeq)\n",
    "\n",
    "\n",
    "The initial condition $X_0 \\in S$ is treated as given.\n",
    "\n",
    "\n",
    "\n",
    "\n",
    "### An equilibrium function\n",
    "\n",
    "How can we find an equilibrium?\n",
    "\n",
    "Our path of attack will be to seek a system of prices that depend only on the\n",
    "current state.\n",
    "\n",
    "(Our solution method involves using an [ansatz](https://en.wikipedia.org/wiki/Ansatz), which is an educated guess --- in this case for the price function.)\n",
    "\n",
    "In other words, we take a function $p$ on $S$ and set $p_t = p(X_t)$ for every $t$.\n",
    "\n",
    "Prices and quantities then follow\n",
    "\n",
    "$$\n",
    "  p_t = p(X_t), \\quad I_t = X_t - D(p_t), \\quad X_{t+1} = \\alpha I_t + Z_{t+1}\n",
    "$$ (eq:eosy)\n",
    "\n",
    "\n",
    "We choose $p$ so that these prices and quantities satisfy the equilibrium\n",
    "conditions above.\n",
    "\n",
    "More precisely, we seek a $p$ such that [](eq:arbi) and [](eq:pmco) hold for\n",
    "the corresponding system [](eq:eosy).\n",
    "\n",
    "\n",
    "$$\n",
    "  p^*(x) = \\max\n",
    "    \\left\\{\n",
    "    \\alpha \\int_0^\\infty p^*(\\alpha I(x) + z) \\phi(z)dz, P(x)\n",
    "    \\right\\}\n",
    "    \\qquad (x \\in S)\n",
    "$$ (eq:dopf)\n",
    "\n",
    "where\n",
    "\n",
    "$$\n",
    "  I(x) := x - D(p^*(x))\n",
    "    \\qquad (x \\in S)\n",
    "$$ (eq:einvf)\n",
    "\n",
    "It turns out that such a $p^*$ will suffice, in the sense that [](eq:arbi)\n",
    "and [](eq:pmco) hold for the corresponding system [](eq:eosy).\n",
    "\n",
    "To see this, observe first that\n",
    "\n",
    "$$\n",
    "  \\mathbb{E}_t \\, p_{t+1}\n",
    "   = \\mathbb{E}_t \\, p^*(X_{t+1})\n",
    "   = \\mathbb{E}_t \\, p^*(\\alpha I(X_t) + Z_{t+1})\n",
    "   = \\int_0^\\infty p^*(\\alpha I(X_t) + z) \\phi(z)dz\n",
    "$$\n",
    "\n",
    "Thus [](eq:arbi) requires that\n",
    "\n",
    "$$\n",
    "   \\alpha \\int_0^\\infty p^*(\\alpha I(X_t) + z) \\phi(z)dz \\leq p^*(X_t)\n",
    "$$\n",
    "\n",
    "This inequality is immediate from [](eq:dopf).\n",
    "\n",
    "Second, regarding [](eq:pmco), suppose that\n",
    "\n",
    "$$\n",
    "   \\alpha \\int_0^\\infty p^*(\\alpha I(X_t) + z) \\phi(z)dz < p^*(X_t)\n",
    "$$\n",
    "\n",
    "Then by [](eq:dopf) we have $p^*(X_t) = P(X_t)$\n",
    "\n",
    "But then $D(p^*(X_t)) = X_t$ and $I_t = I(X_t) = 0$.\n",
    "\n",
    "As a consequence, both [](eq:arbi) and [](eq:pmco) hold.\n",
    "\n",
    "We have found an equilibrium, which verifies the ansatz.\n",
    "\n",
    "\n",
    "### Computing the equilibrium\n",
    "\n",
    "We now know that an equilibrium can be obtained by finding a function $p^*$\n",
    "that satisfies [](eq:dopf).\n",
    "\n",
    "It can be shown that, under mild conditions there is exactly one function on\n",
    "$S$ satisfying [](eq:dopf).\n",
    "\n",
    "Moreover, we can compute this function using successive approximation.\n",
    "\n",
    "This means that we start with a guess of the function and then update it using\n",
    "[](eq:dopf).\n",
    "\n",
    "This generates a sequence of functions $p_1, p_2, \\ldots$\n",
    "\n",
    "We continue until this process converges, in the sense that $p_k$ and\n",
    "$p_{k+1}$ are very close together.\n",
    "\n",
    "Then we take the final $p_k$ that we computed as our approximation of $p^*$.\n",
    "\n",
    "To implement our update step, it is helpful if we put [](eq:dopf) and\n",
    "[](eq:einvf) together.\n",
    "\n",
    "This leads us to the update rule\n",
    "\n",
    "$$\n",
    "  p_{k+1}(x) = \\max\n",
    "    \\left\\{\n",
    "    \\alpha \\int_0^\\infty p_k(\\alpha ( x - D(p_{k+1}(x))) + z) \\phi(z)dz, P(x)\n",
    "    \\right\\}\n",
    "$$ (eq:dopf2)\n",
    "\n",
    "In other words, we take $p_k$ as given and, at each $x$, solve for $q$ in\n",
    "\n",
    "$$\n",
    "  q = \\max\n",
    "    \\left\\{\n",
    "    \\alpha \\int_0^\\infty p_k(\\alpha ( x - D(q)) + z) \\phi(z)dz, P(x)\n",
    "    \\right\\}\n",
    "$$ (eq:dopf3)\n",
    "\n",
    "Actually we can't do this at every $x$, so instead we do it on a grid of\n",
    "points $x_1, \\ldots, x_n$.\n",
    "\n",
    "Then we get the corresponding values $q_1, \\ldots, q_n$.\n",
    "\n",
    "Then we compute $p_{k+1}$ as the linear interpolation of\n",
    "the values $q_1, \\ldots, q_n$ over the grid $x_1, \\ldots, x_n$.\n",
    "\n",
    "Then we repeat, seeking convergence.\n",
    "\n",
    "\n",
    "## Code\n",
    "\n",
    "The code below implements this iterative process, starting from $p_0 = P$.\n",
    "\n",
    "The distribution $\\phi$ is set to a shifted Beta distribution (although many\n",
    "other choices are possible).\n",
    "\n",
    "The integral in [](eq:dopf3) is computed via {ref}`Monte Carlo <monte-carlo>`."
   ]
  },
  {
   "cell_type": "code",
   "execution_count": 5,
   "id": "ba6b6d8e",
   "metadata": {},
   "outputs": [
    {
     "data": {
      "image/png": "[encoded data removed]",
      "text/plain": [
       "<Figure size 640x480 with 1 Axes>"
      ]
     },
     "metadata": {},
     "output_type": "display_data"
    }
   ],
   "source": [
    "α, a, c = 0.8, 1.0, 2.0\n",
    "beta_a, beta_b = 5, 5\n",
    "mc_draw_size = 250\n",
    "gridsize = 150\n",
    "grid_max = 35\n",
    "grid = np.linspace(a, grid_max, gridsize)\n",
    "\n",
    "beta_dist = beta(5, 5)\n",
    "Z = a + beta_dist.rvs(mc_draw_size) * c    # Shock observations\n",
    "D = P = lambda x: 1.0 / x\n",
    "tol = 1e-4\n",
    "\n",
    "\n",
    "def T(p_array):\n",
    "\n",
    "    new_p = np.empty_like(p_array)\n",
    "\n",
    "    # Interpolate to obtain p as a function.\n",
    "    p = interp1d(grid,\n",
    "                 p_array,\n",
    "                 fill_value=(p_array[0], p_array[-1]),\n",
    "                 bounds_error=False)\n",
    "\n",
    "    # Update\n",
    "    for i, x in enumerate(grid):\n",
    "\n",
    "        h = lambda q: q - max(α * np.mean(p(α * (x - D(q)) + Z)), P(x))\n",
    "        new_p[i] = brentq(h, 1e-8, 100)\n",
    "\n",
    "    return new_p\n",
    "\n",
    "\n",
    "fig, ax = plt.subplots()\n",
    "\n",
    "price = P(grid)\n",
    "ax.plot(grid, price, alpha=0.5, lw=1, label=\"inverse demand curve\")\n",
    "error = tol + 1\n",
    "while error > tol:\n",
    "    new_price = T(price)\n",
    "    error = max(np.abs(new_price - price))\n",
    "    price = new_price\n",
    "\n",
    "ax.plot(grid, price, 'k-', alpha=0.5, lw=2, label=r'$p^*$')\n",
    "ax.legend()\n",
    "ax.set_xlabel('$x$')\n",
    "ax.set_ylabel(\"prices\")\n",
    "\n",
    "plt.show()"
   ]
  },
  {
   "cell_type": "markdown",
   "id": "346d595f",
   "metadata": {},
   "source": [
    "The figure above shows the inverse demand curve $P$, which is also $p_0$, as\n",
    "well as our approximation of $p^*$.\n",
    "\n",
    "Once we have an approximation of $p^*$, we can simulate a time series of\n",
    "prices."
   ]
  },
  {
   "cell_type": "code",
   "execution_count": 6,
   "id": "a512aa69",
   "metadata": {},
   "outputs": [
    {
     "data": {
      "image/png": "[encoded data removed]",
      "text/plain": [
       "<Figure size 640x480 with 1 Axes>"
      ]
     },
     "metadata": {},
     "output_type": "display_data"
    }
   ],
   "source": [
    "# Turn the price array into a price function\n",
    "p_star = interp1d(grid,\n",
    "                  price,\n",
    "                  fill_value=(price[0], price[-1]),\n",
    "                  bounds_error=False)\n",
    "\n",
    "def carry_over(x):\n",
    "    return α * (x - D(p_star(x)))\n",
    "\n",
    "def generate_cp_ts(init=1, n=50):\n",
    "    X = np.empty(n)\n",
    "    X[0] = init\n",
    "    for t in range(n-1):\n",
    "            Z = a + c * beta_dist.rvs()\n",
    "            X[t+1] = carry_over(X[t]) + Z\n",
    "    return p_star(X)\n",
    "\n",
    "fig, ax = plt.subplots()\n",
    "ax.plot(generate_cp_ts(), label=\"price\")\n",
    "ax.set_xlabel(\"time\")\n",
    "ax.legend()\n",
    "plt.show()"
   ]
  }
 ],
 "metadata": {
  "jupytext": {
   "text_representation": {
    "extension": ".md",
    "format_name": "myst"
   }
  },
  "kernelspec": {
   "display_name": "Python 3 (ipykernel)",
   "language": "python",
   "name": "python3"
  },
  "language_info": {
   "codemirror_mode": {
    "name": "ipython",
    "version": 3
   },
   "file_extension": ".py",
   "mimetype": "text/x-python",
   "name": "python",
   "nbconvert_exporter": "python",
   "pygments_lexer": "ipython3",
   "version": "3.11.9"
  },
  "source_map": [
   10,
   39,
   42,
   47,
   54,
   60,
   66,
   76,
   352,
   401,
   410
  ]
 },
 "nbformat": 4,
 "nbformat_minor": 5
}