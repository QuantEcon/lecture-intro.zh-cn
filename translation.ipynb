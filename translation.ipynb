{
 "cells": [
  {
   "cell_type": "code",
   "execution_count": 1,
   "metadata": {
    "tags": []
   },
   "outputs": [],
   "source": [
    "\"\"\"\n",
    "Before running the file, config the environment by adding the OpenAI API key:\n",
    "\n",
    "\n",
    "echo \"export OPENAI_API_KEY='yourkey'\" >> ~/.zshrc\n",
    "source ~/.zshrc\n",
    "echo $OPENAI_API_KEY # Test to see if it is added\n",
    "\"\"\"\n",
    "\n",
    "import openai\n",
    "import re"
   ]
  },
  {
   "cell_type": "code",
   "execution_count": 2,
   "metadata": {
    "tags": []
   },
   "outputs": [
    {
     "name": "stdout",
     "output_type": "stream",
     "text": [
      "SyncCursorPage[Assistant](data=[Assistant(id='asst_qKEHiaBYlDSpTpNKCVjhVllL', created_at=1721564291, description=None, instructions='You are an assistant working on the QuantEcon translation project and are asked to improve the translation to make it more natural.\\n\\nYour task is to read through a translated Chinese lecture and modify it to make it closer to everyday language while maintaining academic rigidity.\\n', metadata={}, model='gpt-4o', name='QuantEcon Critique Bot', object='assistant', tools=[], response_format='auto', temperature=1.0, tool_resources=ToolResources(code_interpreter=None, file_search=None), top_p=1.0), Assistant(id='asst_zjzyGwEZ1rVuJYWNQk6nzQTA', created_at=1721563447, description=None, instructions='You are working on a translation project migrating QuantEcon lectures to Chinese. Your task is to maintain the myst markdown syntax and headers while translating the main text and code comment to simplified Chinese. \\nNote that:\\n\\n1. Make the translation closer to everyday language while maintaining academic rigidity.\\n\\n2. Do not translate the package names for python (like \"Anaconda\")\\n\\n3. Keep headers like:\\n\\n---\\njupytext:\\n  text_representation:\\n    extension: .md\\n    format_name: myst\\n    format_version: 0.13\\n    jupytext_version: 1.14.5\\nkernelspec:\\n  display_name: Python 3 (ipykernel)\\n  language: python\\n  name: python3\\n---\\n\\n4. Do not Translate: \"Image input capabilities: Enabled\"', metadata={}, model='gpt-4o', name='QuantEcon Bot', object='assistant', tools=[], response_format='auto', temperature=1.0, tool_resources=ToolResources(code_interpreter=None, file_search=None), top_p=1.0)], object='list', first_id='asst_qKEHiaBYlDSpTpNKCVjhVllL', last_id='asst_zjzyGwEZ1rVuJYWNQk6nzQTA', has_more=False)\n"
     ]
    }
   ],
   "source": [
    "client = openai.OpenAI()\n",
    "print(openai.beta.assistants.list())\n",
    "assistant_cn_id = 'asst_zjzyGwEZ1rVuJYWNQk6nzQTA'"
   ]
  },
  {
   "cell_type": "code",
   "execution_count": 3,
   "metadata": {
    "tags": []
   },
   "outputs": [],
   "source": [
    "def split_text(content, chunk_size=3000):\n",
    "    chunks = []\n",
    "    start = 0\n",
    "    while start < len(content):\n",
    "        end = start + chunk_size\n",
    "\n",
    "        # If we are at the end of the content, just append the rest\n",
    "        if end >= len(content):\n",
    "            chunks.append(content[start:])\n",
    "            break\n",
    "\n",
    "        # Find the nearest line break before the chunk size\n",
    "        next_line_break = content.rfind('\\n', start, end)\n",
    "        if next_line_break == -1:\n",
    "            # If no line break is found within the chunk size, extend to the end\n",
    "            next_line_break = end\n",
    "\n",
    "        # Check if a code cell starts within the chunk\n",
    "        code_cell_start = content.find('```{code-cell}', start, next_line_break)\n",
    "        if code_cell_start != -1:\n",
    "            # If a code cell starts, find its end\n",
    "            code_cell_end = content.find('```', code_cell_start + 14)\n",
    "            if code_cell_end != -1:\n",
    "                # Move the end to the end of the code cell\n",
    "                next_line_break = content.find('\\n', code_cell_end) + 1\n",
    "\n",
    "        chunks.append(content[start:next_line_break].strip())\n",
    "        start = next_line_break\n",
    "\n",
    "    return chunks"
   ]
  },
  {
   "cell_type": "code",
   "execution_count": 4,
   "metadata": {
    "tags": []
   },
   "outputs": [],
   "source": [
    "content = ''' The things you would like to translate (i.e. \n",
    "# Univariate Time Series with Matrix Algebra\n",
    "\n",
    "## Overview\n",
    "\n",
    "This lecture uses matrices to solve some linear difference equations.\n",
    "\n",
    "As a running example, we’ll study a **second-order linear difference\n",
    "equation** that was the key technical tool in Paul Samuelson’s 1939\n",
    "article {cite}`Samuelson1939` that introduced the **multiplier-accelerator** model.\n",
    "\n",
    "This model became the workhorse that powered early econometric versions of\n",
    "Keynesian macroeconomic models in the United States.\n",
    "\n",
    "You can read about the details of that model in [this](https://python.quantecon.org/samuelson.html)\n",
    "QuantEcon lecture.\n",
    "\n",
    "(That lecture also describes some technicalities about second-order linear difference equations.)\n",
    "\n",
    "In this lecture, we'll also learn about an **autoregressive** representation and a **moving average** representation of a  non-stationary\n",
    "univariate time series $\\{y_t\\}_{t=0}^T$.\n",
    "\n",
    "We'll also study a \"perfect foresight\" model of stock prices that involves solving\n",
    "a \"forward-looking\" linear difference equation.\n",
    "\n",
    "We will use the following imports:\n",
    "\n",
    "```{code-cell} ipython\n",
    "import numpy as np\n",
    "%matplotlib inline\n",
    "import matplotlib.pyplot as plt\n",
    "from matplotlib import cm\n",
    "plt.rcParams[\"figure.figsize\"] = (11, 5)  #set default figure size\n",
    "```)\n",
    "'''"
   ]
  },
  {
   "cell_type": "code",
   "execution_count": 5,
   "metadata": {
    "scrolled": true,
    "tags": []
   },
   "outputs": [],
   "source": [
    "chunks = split_text(content, chunk_size=3000)\n",
    "\n",
    "thread = client.beta.threads.create()\n",
    "\n",
    "translated_content = \"\"\n",
    "\n",
    "for chunk in chunks:\n",
    "    # Create and poll the run for each chunk\n",
    "    run = client.beta.threads.runs.create_and_poll(\n",
    "        thread_id=thread.id,\n",
    "        assistant_id=assistant_cn_id,\n",
    "        instructions=\"Please translate the following content into simplified Chinese. Maintain all the markdown syntax and directives unchanged. Only translate text and code comments Give the results directly without system messages: \" + chunk\n",
    "    )\n",
    "    \n",
    "    if run.status == 'completed': \n",
    "        messages = client.beta.threads.messages.list(\n",
    "            thread_id=thread.id\n",
    "        )\n",
    "        translated_content += '\\n\\n' + messages.data[0].content[0].text.value\n",
    "    else:\n",
    "        print(f\"Translation failed for chunk: {chunk[:50]}... Status: {run.status}\")\n",
    "        continue"
   ]
  },
  {
   "cell_type": "code",
   "execution_count": 6,
   "metadata": {
    "tags": []
   },
   "outputs": [
    {
     "data": {
      "text/plain": [
       "'\\n\\n# 单变量时间序列与矩阵代数\\n\\n## 概述\\n\\n本讲座使用矩阵来求解一些线性差分方程。\\n\\n作为一个贯穿整个讲座的例子，我们将研究一个**二阶线性差分方程**，这是保罗·萨缪尔森在1939年发表文章 {cite}`Samuelson1939`中引入**乘数-加速器**模型的关键技术工具。\\n\\n该模型成为了推动早期美国凯恩斯主义宏观经济模型的计量经济版本的工作马。\\n\\n你可以在[这](https://python.quantecon.org/samuelson.html)篇QuantEcon讲座中阅读该模型的详细信息。\\n\\n（该讲座还描述了一些关于二阶线性差分方程的技术细节。）\\n\\n在本讲座中，我们还将学习非平稳单变量时间序列 $\\\\{y_t\\\\}_{t=0}^T$ 的**自回归**表示和**移动平均**表示。\\n\\n我们还将研究一个涉及求解“前瞻性”线性差分方程的“完美预测”股票价格模型。\\n\\n我们将使用以下导入：\\n\\n```{code-cell} ipython\\nimport numpy as np\\n%matplotlib inline\\nimport matplotlib.pyplot as plt\\nfrom matplotlib import cm\\nplt.rcParams[\"figure.figsize\"] = (11, 5)  # 设置默认图形大小\\n```'"
      ]
     },
     "execution_count": 6,
     "metadata": {},
     "output_type": "execute_result"
    }
   ],
   "source": [
    "# Output\n",
    "translated_content"
   ]
  },
  {
   "cell_type": "code",
   "execution_count": 7,
   "metadata": {
    "tags": []
   },
   "outputs": [],
   "source": [
    "# Save Output\n",
    "\n",
    "with open('output.md', 'w', encoding='utf-8') as file:\n",
    "    file.write(translated_content)"
   ]
  }
 ],
 "metadata": {
  "kernelspec": {
   "display_name": "Python 3 (ipykernel)",
   "language": "python",
   "name": "python3"
  },
  "language_info": {
   "codemirror_mode": {
    "name": "ipython",
    "version": 3
   },
   "file_extension": ".py",
   "mimetype": "text/x-python",
   "name": "python",
   "nbconvert_exporter": "python",
   "pygments_lexer": "ipython3",
   "version": "3.10.12"
  }
 },
 "nbformat": 4,
 "nbformat_minor": 4
}
